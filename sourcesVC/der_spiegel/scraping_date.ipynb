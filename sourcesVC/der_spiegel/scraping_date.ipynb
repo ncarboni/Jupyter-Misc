{
 "cells": [
  {
   "cell_type": "code",
   "execution_count": null,
   "id": "5ef5deb7-e080-4818-956c-a46c6f85fdc4",
   "metadata": {},
   "outputs": [],
   "source": [
    "import pandas as pd\n",
    "import requests\n",
    "from bs4 import BeautifulSoup"
   ]
  },
  {
   "cell_type": "code",
   "execution_count": null,
   "id": "8fcdae80-c991-4b0b-8c37-0fe3bbf90a5a",
   "metadata": {},
   "outputs": [],
   "source": [
    "df = pd.read_csv('Der-Spiegel.csv')"
   ]
  },
  {
   "cell_type": "code",
   "execution_count": null,
   "id": "c7cdf17f-9ad8-4ced-86ae-316f5dca61fb",
   "metadata": {},
   "outputs": [],
   "source": [
    "def scrape_content(url, selector):\n",
    "    try:\n",
    "        response = requests.get(url)\n",
    "        response.raise_for_status()\n",
    "        soup = BeautifulSoup(response.text, 'html.parser')\n",
    "        content = soup.select_one(selector).text.strip()\n",
    "        return content\n",
    "    except Exception as e:\n",
    "        print(f\"Error scraping content from {url}: {e}\")\n",
    "        return None"
   ]
  },
  {
   "cell_type": "code",
   "execution_count": null,
   "id": "7426ac81-857e-4909-92e3-ac1b4378a354",
   "metadata": {},
   "outputs": [],
   "source": [
    "selector = \"#Inhalt > section > header > section > div:nth-child(4) > div > div > span.group.font-normal.font-sansUI.lg\\:text-base.md\\:text-base.sm\\:text-s.leading-normal > span\"\n",
    "\n",
    "# Apply the scraping function to each URL in the \"Notice\" column\n",
    "df['Date'] = df['Notice'].apply(lambda url: scrape_content(url, selector))"
   ]
  },
  {
   "cell_type": "code",
   "execution_count": null,
   "id": "08dd664b-c294-436f-a484-18637cca3dcd",
   "metadata": {},
   "outputs": [],
   "source": [
    "date_pattern = r'(\\d{2}\\.\\d{2}.\\d{4})'"
   ]
  },
  {
   "cell_type": "code",
   "execution_count": null,
   "id": "2b50585b-840c-47be-a44f-2eb807db33f8",
   "metadata": {},
   "outputs": [],
   "source": [
    "df['Extracted_Date'] = df['Date'].str.extract(date_pattern)"
   ]
  },
  {
   "cell_type": "code",
   "execution_count": null,
   "id": "bf8cd6a1-aa8a-40a0-84b8-099e4d35e320",
   "metadata": {},
   "outputs": [],
   "source": [
    "df['Transformed_Date'] = pd.to_datetime(df['Extracted_Date'], format='%d.%m.%Y')"
   ]
  },
  {
   "cell_type": "code",
   "execution_count": null,
   "id": "fc59e749-b2f3-49c9-9cf5-175f07545d1f",
   "metadata": {},
   "outputs": [],
   "source": [
    "df.to_csv(\"/Users/carboni/Downloads/Der-Spiegel-dates.csv\", index=False)"
   ]
  }
 ],
 "metadata": {
  "kernelspec": {
   "display_name": "Python 3 (ipykernel)",
   "language": "python",
   "name": "python3"
  },
  "language_info": {
   "codemirror_mode": {
    "name": "ipython",
    "version": 3
   },
   "file_extension": ".py",
   "mimetype": "text/x-python",
   "name": "python",
   "nbconvert_exporter": "python",
   "pygments_lexer": "ipython3",
   "version": "3.10.8"
  }
 },
 "nbformat": 4,
 "nbformat_minor": 5
}
