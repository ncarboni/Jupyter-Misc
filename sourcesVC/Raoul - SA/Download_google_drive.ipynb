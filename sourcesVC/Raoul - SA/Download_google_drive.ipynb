{
 "cells": [
  {
   "cell_type": "code",
   "execution_count": null,
   "id": "8fde41a1-40ac-413d-aff4-5f272d3223b5",
   "metadata": {
    "tags": []
   },
   "outputs": [],
   "source": [
    "import logging\n",
    "import os\n",
    "import requests\n",
    "from tqdm import tqdm\n",
    "import pandas as pd\n",
    "import time"
   ]
  },
  {
   "cell_type": "code",
   "execution_count": null,
   "id": "0463bec1-a254-4f5a-b7f7-cb1501aca8af",
   "metadata": {
    "tags": []
   },
   "outputs": [],
   "source": [
    "# Read the CSV file\n",
    "df = pd.read_csv('/Users/carboni/Downloads/download_gdrive.csv')  # Replace 'your_file.csv' with the actual path to your CSV file\n",
    "\n",
    "# Assuming your CSV file has a column named 'google_drive_link' with the links to Google Drive PDFs\n",
    "for link in df['Media URL']:\n",
    "    # Extract the file ID from the Google Drive link\n",
    "    file_id = link.split('/')[-2]\n",
    "\n",
    "    # Construct the direct download link\n",
    "    download_link = f'https://drive.google.com/uc?id={file_id}'\n",
    "\n",
    "    # Define the file name (you can customize this based on your requirements)\n",
    "    file_name = f'{file_id}.pdf'\n",
    "\n",
    "    # Download the file\n",
    "    gdown.download(download_link, output=file_name, quiet=False)\n",
    "    print(f'Downloaded: {file_name}')"
   ]
  },
  {
   "cell_type": "code",
   "execution_count": null,
   "id": "d48c4ce6-12d6-4cd4-88d3-949ab0338e86",
   "metadata": {
    "tags": []
   },
   "outputs": [
    {
     "name": "stderr",
     "output_type": "stream",
     "text": [
      "  5%|▌         | 6.82M/131M [00:20<01:05, 1.91MB/s]"
     ]
    }
   ],
   "source": [
    "\n",
    "# Read the CSV file\n",
    "df = pd.read_csv('download_gdrive.csv')  # Replace 'your_file.csv' with the actual path to your CSV file\n",
    "\n",
    "# Create a logger object\n",
    "logger = logging.getLogger(__name__)\n",
    "logger.setLevel(logging.ERROR)\n",
    "\n",
    "# Create a file handler\n",
    "handler = logging.FileHandler('error.log')\n",
    "handler.setLevel(logging.ERROR)\n",
    "\n",
    "# Create a formatter and add it to the handler\n",
    "formatter = logging.Formatter('%(asctime)s - %(levelname)s - %(message)s')\n",
    "handler.setFormatter(formatter)\n",
    "\n",
    "# Add the handler to the logger\n",
    "logger.addHandler(handler)\n",
    "\n",
    "# Define the path to the folder where you want to save the files\n",
    "folder_path = 'pdfs'\n",
    "\n",
    "\n",
    "downloaded_count = 0\n",
    "\n",
    "for link in tqdm(df['Media URL']):\n",
    "    # Stop after 50 items downloaded and pause for 60 seconds\n",
    "    if downloaded_count == 50:\n",
    "        print(\"Pausing for 60 seconds...\")\n",
    "        time.sleep(60)\n",
    "        downloaded_count = 0\n",
    "\n",
    "    # Extract the file ID from the Google Drive link\n",
    "    file_id = link.split('/')[-2]\n",
    "\n",
    "    # Construct the direct download link\n",
    "    download_link = f'https://drive.google.com/uc?id={file_id}'\n",
    "\n",
    "    # Define the file name (you can customize this based on your requirements)\n",
    "    file_name = f'{file_id}.pdf'\n",
    "    file_path = os.path.join(folder_path, file_name)\n",
    "\n",
    "    # Check if the file already exists in the folder_path\n",
    "    if os.path.exists(file_path):\n",
    "        print(f'{file_name} already exists. Skipping...')\n",
    "        continue\n",
    "\n",
    "    try:\n",
    "        # Download the file and save it to the specified folder\n",
    "        response = requests.get(download_link, stream=True)\n",
    "        \n",
    "        # Check if the request was successful (status code 200)\n",
    "        if response.status_code == 200:\n",
    "            total_size_in_bytes = int(response.headers.get('content-length', 0))\n",
    "            block_size = 1024  # 1 Kibibyte\n",
    "            progress_bar = tqdm(total=total_size_in_bytes, unit='iB', unit_scale=True)\n",
    "            with open(file_path, 'wb') as file:\n",
    "                for data in response.iter_content(block_size):\n",
    "                    progress_bar.update(len(data))\n",
    "                    file.write(data)\n",
    "            progress_bar.close()\n",
    "            print(f'Downloaded: {file_name}')\n",
    "            downloaded_count += 1  # Increment the counter\n",
    "        else:\n",
    "            # Log the error if the request was not successful\n",
    "            logger.error(f'Error downloading {file_name}. Status code: {response.status_code}')\n",
    "            \n",
    "    except Exception as e:\n",
    "        # Log the error\n",
    "        logger.error(f'Error downloading {file_name}: {e}')\n"
   ]
  }
 ],
 "metadata": {
  "kernelspec": {
   "display_name": "Python 3 (ipykernel)",
   "language": "python",
   "name": "python3"
  },
  "language_info": {
   "codemirror_mode": {
    "name": "ipython",
    "version": 3
   },
   "file_extension": ".py",
   "mimetype": "text/x-python",
   "name": "python",
   "nbconvert_exporter": "python",
   "pygments_lexer": "ipython3",
   "version": "3.10.8"
  }
 },
 "nbformat": 4,
 "nbformat_minor": 5
}
