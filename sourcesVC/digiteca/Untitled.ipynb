{
 "cells": [
  {
   "cell_type": "code",
   "execution_count": 1,
   "id": "a1ed7037-66d9-47ae-ba93-67c82e02ce45",
   "metadata": {},
   "outputs": [],
   "source": [
    "import pandas as pd"
   ]
  },
  {
   "cell_type": "code",
   "execution_count": 8,
   "id": "7a676edc-ed85-48cf-9660-ffb58bb5471f",
   "metadata": {},
   "outputs": [],
   "source": [
    "df = pd.read_csv('/Users/carboni/Downloads/digiteca (6).csv')"
   ]
  },
  {
   "cell_type": "code",
   "execution_count": 9,
   "id": "edc45818-fbae-4399-b188-777b00bcfd31",
   "metadata": {},
   "outputs": [],
   "source": [
    "df['normalized_date'] = pd.to_datetime(df['normalized_date'])"
   ]
  },
  {
   "cell_type": "code",
   "execution_count": null,
   "id": "35acc338-0fc4-4114-8118-2f34f549bee5",
   "metadata": {},
   "outputs": [],
   "source": []
  },
  {
   "cell_type": "code",
   "execution_count": null,
   "id": "352532e1-95a4-4d33-be68-ee8e7cedf87a",
   "metadata": {},
   "outputs": [],
   "source": []
  }
 ],
 "metadata": {
  "kernelspec": {
   "display_name": "Python 3 (ipykernel)",
   "language": "python",
   "name": "python3"
  },
  "language_info": {
   "codemirror_mode": {
    "name": "ipython",
    "version": 3
   },
   "file_extension": ".py",
   "mimetype": "text/x-python",
   "name": "python",
   "nbconvert_exporter": "python",
   "pygments_lexer": "ipython3",
   "version": "3.10.8"
  }
 },
 "nbformat": 4,
 "nbformat_minor": 5
}
