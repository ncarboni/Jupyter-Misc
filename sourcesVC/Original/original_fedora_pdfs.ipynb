{
 "cells": [
  {
   "cell_type": "markdown",
   "id": "3dff4a2f-1e13-4dea-be18-21994e640109",
   "metadata": {},
   "source": [
    "## Original PDFs"
   ]
  },
  {
   "cell_type": "code",
   "execution_count": 2,
   "id": "57d8b69d-2bfc-4a59-91f4-ca6f0390698a",
   "metadata": {
    "tags": []
   },
   "outputs": [],
   "source": [
    "import pandas as pd"
   ]
  },
  {
   "cell_type": "code",
   "execution_count": 3,
   "id": "a4d0a643-7428-4d03-8c21-0e5bf4863471",
   "metadata": {
    "tags": []
   },
   "outputs": [],
   "source": [
    "fedora = pd.read_csv('/Users/carboni/Downloads/fedora_ids_distic.txt')"
   ]
  },
  {
   "cell_type": "code",
   "execution_count": 4,
   "id": "65d0418f-d2a3-496f-ab54-8160528a1587",
   "metadata": {
    "tags": []
   },
   "outputs": [],
   "source": [
    "df = pd.read_csv('/Users/carboni/Downloads/corpus-112_images_2023-09-21_1139.csv', low_memory=False)"
   ]
  },
  {
   "cell_type": "markdown",
   "id": "dfe01a9c-5ec8-4b13-b72a-fe21006e6ec1",
   "metadata": {
    "jp-MarkdownHeadingCollapsed": true,
    "tags": []
   },
   "source": [
    "# To skip"
   ]
  },
  {
   "cell_type": "code",
   "execution_count": null,
   "id": "e5d34327-cfcf-42fb-afcd-b3d28acaecdc",
   "metadata": {
    "tags": []
   },
   "outputs": [],
   "source": [
    "loc = pd.read_csv('/Users/carboni/Documents/UNIGE/pynotebook/OpenRefine_fusion_Local/LOC/LOC.csv', low_memory=False)"
   ]
  },
  {
   "cell_type": "code",
   "execution_count": null,
   "id": "38fe4641-2aa6-4858-852a-94ffaf48c09e",
   "metadata": {
    "tags": []
   },
   "outputs": [],
   "source": [
    "asia = pd.read_csv('/Users/carboni/Downloads/Journaux Est-Asiatique.csv', low_memory=False)"
   ]
  },
  {
   "cell_type": "code",
   "execution_count": null,
   "id": "42e25379-131f-450f-af43-344d8fb5f74f",
   "metadata": {
    "tags": []
   },
   "outputs": [],
   "source": [
    "adr = pd.read_csv('/Users/carboni/Downloads/Adrien iaddb data.csv')"
   ]
  },
  {
   "cell_type": "code",
   "execution_count": null,
   "id": "0bbad965-056a-47fb-87ac-681cb1264ef7",
   "metadata": {
    "tags": []
   },
   "outputs": [],
   "source": [
    "mar = pd.read_csv('/Users/carboni/Downloads/Marie mag PhD data UNIGE.csv')"
   ]
  },
  {
   "cell_type": "markdown",
   "id": "0e3261f0-70c4-44a4-85f1-2e3bb4b5df94",
   "metadata": {},
   "source": [
    "# Extract patterns"
   ]
  },
  {
   "cell_type": "code",
   "execution_count": 5,
   "id": "a9365800-71b7-497e-8b0a-a77640eb7829",
   "metadata": {
    "tags": []
   },
   "outputs": [],
   "source": [
    "pattern = r'(fedora_ug\\d+)'\n",
    "\n",
    "# Use str.extract to create a new column\n",
    "df['fedora'] = df['image_url'].str.extract(pattern)"
   ]
  },
  {
   "cell_type": "code",
   "execution_count": 6,
   "id": "f0a82486-4850-4d04-b46f-3a5d3fcdd878",
   "metadata": {
    "tags": []
   },
   "outputs": [],
   "source": [
    "df['fedora'] = df['fedora'].str.replace('fedora_','')"
   ]
  },
  {
   "cell_type": "code",
   "execution_count": 7,
   "id": "a134089b-ba17-444e-a3dc-ace52dc97940",
   "metadata": {
    "tags": []
   },
   "outputs": [
    {
     "data": {
      "text/html": [
       "<div>\n",
       "<style scoped>\n",
       "    .dataframe tbody tr th:only-of-type {\n",
       "        vertical-align: middle;\n",
       "    }\n",
       "\n",
       "    .dataframe tbody tr th {\n",
       "        vertical-align: top;\n",
       "    }\n",
       "\n",
       "    .dataframe thead th {\n",
       "        text-align: right;\n",
       "    }\n",
       "</style>\n",
       "<table border=\"1\" class=\"dataframe\">\n",
       "  <thead>\n",
       "    <tr style=\"text-align: right;\">\n",
       "      <th></th>\n",
       "      <th>manifest_url</th>\n",
       "      <th>canvas_number</th>\n",
       "      <th>image_url</th>\n",
       "      <th>City</th>\n",
       "      <th>Country</th>\n",
       "      <th>Title</th>\n",
       "      <th>wkt</th>\n",
       "      <th>Date</th>\n",
       "      <th>Journal Type</th>\n",
       "      <th>notice</th>\n",
       "      <th>fedora</th>\n",
       "    </tr>\n",
       "  </thead>\n",
       "  <tbody>\n",
       "    <tr>\n",
       "      <th>0</th>\n",
       "      <td>https://iiif.unige.ch/dhportal/ug1649415/manifest</td>\n",
       "      <td>0.0</td>\n",
       "      <td>https://iiif.unige.ch/iiif/2/visualcontagions/...</td>\n",
       "      <td>NaN</td>\n",
       "      <td>NaN</td>\n",
       "      <td>NaN</td>\n",
       "      <td>NaN</td>\n",
       "      <td>NaN</td>\n",
       "      <td>NaN</td>\n",
       "      <td>NaN</td>\n",
       "      <td>NaN</td>\n",
       "    </tr>\n",
       "    <tr>\n",
       "      <th>1</th>\n",
       "      <td>https://iiif.unige.ch/dhportal/ug8096214/manifest</td>\n",
       "      <td>0.0</td>\n",
       "      <td>https://iiif.unige.ch/iiif/2/fedora_ug8064419/...</td>\n",
       "      <td>Tokyo</td>\n",
       "      <td>Japan</td>\n",
       "      <td>FLIX</td>\n",
       "      <td>POINT(139.69222222222 35.689722222222)</td>\n",
       "      <td>2010-06-01</td>\n",
       "      <td>Cinema</td>\n",
       "      <td>NaN</td>\n",
       "      <td>ug8064419</td>\n",
       "    </tr>\n",
       "    <tr>\n",
       "      <th>2</th>\n",
       "      <td>https://iiif.unige.ch/dhportal/ug8054362/manifest</td>\n",
       "      <td>0.0</td>\n",
       "      <td>https://iiif.unige.ch/iiif/2/fedora_ug8059238/...</td>\n",
       "      <td>Tokyo</td>\n",
       "      <td>Japan</td>\n",
       "      <td>FLIX</td>\n",
       "      <td>POINT(139.69222222222 35.689722222222)</td>\n",
       "      <td>2013-08-01</td>\n",
       "      <td>Cinema</td>\n",
       "      <td>NaN</td>\n",
       "      <td>ug8059238</td>\n",
       "    </tr>\n",
       "    <tr>\n",
       "      <th>3</th>\n",
       "      <td>https://iiif.unige.ch/dhportal/ug8079451/manifest</td>\n",
       "      <td>0.0</td>\n",
       "      <td>https://iiif.unige.ch/iiif/2/fedora_ug8102867/...</td>\n",
       "      <td>Kyiv</td>\n",
       "      <td>Ukraine</td>\n",
       "      <td>KINO</td>\n",
       "      <td>POINT(30.523611111111 50.45)</td>\n",
       "      <td>1933-05-10</td>\n",
       "      <td>Cinema</td>\n",
       "      <td>NaN</td>\n",
       "      <td>ug8102867</td>\n",
       "    </tr>\n",
       "    <tr>\n",
       "      <th>4</th>\n",
       "      <td>https://iiif.unige.ch/dhportal/ug8043206/manifest</td>\n",
       "      <td>0.0</td>\n",
       "      <td>https://iiif.unige.ch/iiif/2/fedora_ug8068266/...</td>\n",
       "      <td>Moscow</td>\n",
       "      <td>Russia</td>\n",
       "      <td>Brigada khudozhnikov</td>\n",
       "      <td>POINT(37.617777777778 55.755833333333)</td>\n",
       "      <td>NaN</td>\n",
       "      <td>NaN</td>\n",
       "      <td>NaN</td>\n",
       "      <td>ug8068266</td>\n",
       "    </tr>\n",
       "  </tbody>\n",
       "</table>\n",
       "</div>"
      ],
      "text/plain": [
       "                                        manifest_url  canvas_number  \\\n",
       "0  https://iiif.unige.ch/dhportal/ug1649415/manifest            0.0   \n",
       "1  https://iiif.unige.ch/dhportal/ug8096214/manifest            0.0   \n",
       "2  https://iiif.unige.ch/dhportal/ug8054362/manifest            0.0   \n",
       "3  https://iiif.unige.ch/dhportal/ug8079451/manifest            0.0   \n",
       "4  https://iiif.unige.ch/dhportal/ug8043206/manifest            0.0   \n",
       "\n",
       "                                           image_url    City  Country  \\\n",
       "0  https://iiif.unige.ch/iiif/2/visualcontagions/...     NaN      NaN   \n",
       "1  https://iiif.unige.ch/iiif/2/fedora_ug8064419/...   Tokyo    Japan   \n",
       "2  https://iiif.unige.ch/iiif/2/fedora_ug8059238/...   Tokyo    Japan   \n",
       "3  https://iiif.unige.ch/iiif/2/fedora_ug8102867/...    Kyiv  Ukraine   \n",
       "4  https://iiif.unige.ch/iiif/2/fedora_ug8068266/...  Moscow   Russia   \n",
       "\n",
       "                  Title                                     wkt        Date  \\\n",
       "0                   NaN                                     NaN         NaN   \n",
       "1                  FLIX  POINT(139.69222222222 35.689722222222)  2010-06-01   \n",
       "2                  FLIX  POINT(139.69222222222 35.689722222222)  2013-08-01   \n",
       "3                  KINO            POINT(30.523611111111 50.45)  1933-05-10   \n",
       "4  Brigada khudozhnikov  POINT(37.617777777778 55.755833333333)         NaN   \n",
       "\n",
       "  Journal Type  notice     fedora  \n",
       "0          NaN     NaN        NaN  \n",
       "1       Cinema     NaN  ug8064419  \n",
       "2       Cinema     NaN  ug8059238  \n",
       "3       Cinema     NaN  ug8102867  \n",
       "4          NaN     NaN  ug8068266  "
      ]
     },
     "execution_count": 7,
     "metadata": {},
     "output_type": "execute_result"
    }
   ],
   "source": [
    "df.head()"
   ]
  },
  {
   "cell_type": "code",
   "execution_count": 8,
   "id": "0220ea2c-603c-4147-b2e8-ca740a2fe471",
   "metadata": {
    "tags": []
   },
   "outputs": [],
   "source": [
    "fedora['matched'] = fedora['Fedora_url'].isin(df['fedora'])"
   ]
  },
  {
   "cell_type": "code",
   "execution_count": 9,
   "id": "440c48c0-28f1-4579-8a52-3601b142dc96",
   "metadata": {
    "tags": []
   },
   "outputs": [],
   "source": [
    "fedora['not_matched'] = ~fedora['Fedora_url'].isin(df['fedora'])"
   ]
  },
  {
   "cell_type": "code",
   "execution_count": 10,
   "id": "5c56dcc9-c41d-4375-81f9-9f611d8ef310",
   "metadata": {
    "tags": []
   },
   "outputs": [
    {
     "data": {
      "text/html": [
       "<div>\n",
       "<style scoped>\n",
       "    .dataframe tbody tr th:only-of-type {\n",
       "        vertical-align: middle;\n",
       "    }\n",
       "\n",
       "    .dataframe tbody tr th {\n",
       "        vertical-align: top;\n",
       "    }\n",
       "\n",
       "    .dataframe thead th {\n",
       "        text-align: right;\n",
       "    }\n",
       "</style>\n",
       "<table border=\"1\" class=\"dataframe\">\n",
       "  <thead>\n",
       "    <tr style=\"text-align: right;\">\n",
       "      <th></th>\n",
       "      <th>Fedora_url</th>\n",
       "      <th>matched</th>\n",
       "      <th>not_matched</th>\n",
       "    </tr>\n",
       "  </thead>\n",
       "  <tbody>\n",
       "    <tr>\n",
       "      <th>0</th>\n",
       "      <td>ug27803526</td>\n",
       "      <td>True</td>\n",
       "      <td>False</td>\n",
       "    </tr>\n",
       "    <tr>\n",
       "      <th>1</th>\n",
       "      <td>ug27803530</td>\n",
       "      <td>True</td>\n",
       "      <td>False</td>\n",
       "    </tr>\n",
       "    <tr>\n",
       "      <th>2</th>\n",
       "      <td>ug27803534</td>\n",
       "      <td>True</td>\n",
       "      <td>False</td>\n",
       "    </tr>\n",
       "    <tr>\n",
       "      <th>3</th>\n",
       "      <td>ug27803537</td>\n",
       "      <td>True</td>\n",
       "      <td>False</td>\n",
       "    </tr>\n",
       "    <tr>\n",
       "      <th>4</th>\n",
       "      <td>ug27803538</td>\n",
       "      <td>True</td>\n",
       "      <td>False</td>\n",
       "    </tr>\n",
       "  </tbody>\n",
       "</table>\n",
       "</div>"
      ],
      "text/plain": [
       "   Fedora_url  matched  not_matched\n",
       "0  ug27803526     True        False\n",
       "1  ug27803530     True        False\n",
       "2  ug27803534     True        False\n",
       "3  ug27803537     True        False\n",
       "4  ug27803538     True        False"
      ]
     },
     "execution_count": 10,
     "metadata": {},
     "output_type": "execute_result"
    }
   ],
   "source": [
    "fedora.head()"
   ]
  },
  {
   "cell_type": "code",
   "execution_count": 11,
   "id": "ca121cd3-9631-4541-89ac-403c670a7199",
   "metadata": {
    "tags": []
   },
   "outputs": [],
   "source": [
    "not_matched_fedora = fedora[fedora['not_matched']]"
   ]
  },
  {
   "cell_type": "code",
   "execution_count": 12,
   "id": "d208751c-809e-46bd-ae09-b9d1f7b2b1e3",
   "metadata": {
    "tags": []
   },
   "outputs": [],
   "source": [
    "matched_fedora = fedora[fedora['matched']]"
   ]
  },
  {
   "cell_type": "code",
   "execution_count": 13,
   "id": "05545402-062f-4c7c-8abb-27cc019b4255",
   "metadata": {
    "tags": []
   },
   "outputs": [
    {
     "data": {
      "text/html": [
       "<div>\n",
       "<style scoped>\n",
       "    .dataframe tbody tr th:only-of-type {\n",
       "        vertical-align: middle;\n",
       "    }\n",
       "\n",
       "    .dataframe tbody tr th {\n",
       "        vertical-align: top;\n",
       "    }\n",
       "\n",
       "    .dataframe thead th {\n",
       "        text-align: right;\n",
       "    }\n",
       "</style>\n",
       "<table border=\"1\" class=\"dataframe\">\n",
       "  <thead>\n",
       "    <tr style=\"text-align: right;\">\n",
       "      <th></th>\n",
       "      <th>Fedora_url</th>\n",
       "      <th>matched</th>\n",
       "      <th>not_matched</th>\n",
       "    </tr>\n",
       "  </thead>\n",
       "  <tbody>\n",
       "    <tr>\n",
       "      <th>898</th>\n",
       "      <td>ug27810613</td>\n",
       "      <td>False</td>\n",
       "      <td>True</td>\n",
       "    </tr>\n",
       "    <tr>\n",
       "      <th>1213</th>\n",
       "      <td>ug27812658</td>\n",
       "      <td>False</td>\n",
       "      <td>True</td>\n",
       "    </tr>\n",
       "    <tr>\n",
       "      <th>1988</th>\n",
       "      <td>ug27816957</td>\n",
       "      <td>False</td>\n",
       "      <td>True</td>\n",
       "    </tr>\n",
       "    <tr>\n",
       "      <th>2413</th>\n",
       "      <td>ug27818850</td>\n",
       "      <td>False</td>\n",
       "      <td>True</td>\n",
       "    </tr>\n",
       "    <tr>\n",
       "      <th>2687</th>\n",
       "      <td>ug8000233</td>\n",
       "      <td>False</td>\n",
       "      <td>True</td>\n",
       "    </tr>\n",
       "  </tbody>\n",
       "</table>\n",
       "</div>"
      ],
      "text/plain": [
       "      Fedora_url  matched  not_matched\n",
       "898   ug27810613    False         True\n",
       "1213  ug27812658    False         True\n",
       "1988  ug27816957    False         True\n",
       "2413  ug27818850    False         True\n",
       "2687   ug8000233    False         True"
      ]
     },
     "execution_count": 13,
     "metadata": {},
     "output_type": "execute_result"
    }
   ],
   "source": [
    "not_matched_fedora.head()"
   ]
  },
  {
   "cell_type": "code",
   "execution_count": 14,
   "id": "a693d1e7-a5f3-41c7-afe0-d9a4db9b0dd3",
   "metadata": {
    "tags": []
   },
   "outputs": [
    {
     "data": {
      "text/html": [
       "<div>\n",
       "<style scoped>\n",
       "    .dataframe tbody tr th:only-of-type {\n",
       "        vertical-align: middle;\n",
       "    }\n",
       "\n",
       "    .dataframe tbody tr th {\n",
       "        vertical-align: top;\n",
       "    }\n",
       "\n",
       "    .dataframe thead th {\n",
       "        text-align: right;\n",
       "    }\n",
       "</style>\n",
       "<table border=\"1\" class=\"dataframe\">\n",
       "  <thead>\n",
       "    <tr style=\"text-align: right;\">\n",
       "      <th></th>\n",
       "      <th>Fedora_url</th>\n",
       "      <th>matched</th>\n",
       "      <th>not_matched</th>\n",
       "    </tr>\n",
       "  </thead>\n",
       "  <tbody>\n",
       "    <tr>\n",
       "      <th>0</th>\n",
       "      <td>ug27803526</td>\n",
       "      <td>True</td>\n",
       "      <td>False</td>\n",
       "    </tr>\n",
       "    <tr>\n",
       "      <th>1</th>\n",
       "      <td>ug27803530</td>\n",
       "      <td>True</td>\n",
       "      <td>False</td>\n",
       "    </tr>\n",
       "    <tr>\n",
       "      <th>2</th>\n",
       "      <td>ug27803534</td>\n",
       "      <td>True</td>\n",
       "      <td>False</td>\n",
       "    </tr>\n",
       "    <tr>\n",
       "      <th>3</th>\n",
       "      <td>ug27803537</td>\n",
       "      <td>True</td>\n",
       "      <td>False</td>\n",
       "    </tr>\n",
       "    <tr>\n",
       "      <th>4</th>\n",
       "      <td>ug27803538</td>\n",
       "      <td>True</td>\n",
       "      <td>False</td>\n",
       "    </tr>\n",
       "  </tbody>\n",
       "</table>\n",
       "</div>"
      ],
      "text/plain": [
       "   Fedora_url  matched  not_matched\n",
       "0  ug27803526     True        False\n",
       "1  ug27803530     True        False\n",
       "2  ug27803534     True        False\n",
       "3  ug27803537     True        False\n",
       "4  ug27803538     True        False"
      ]
     },
     "execution_count": 14,
     "metadata": {},
     "output_type": "execute_result"
    }
   ],
   "source": [
    "matched_fedora.head()"
   ]
  },
  {
   "cell_type": "code",
   "execution_count": 15,
   "id": "871acae9-7ac8-4c31-a5ed-4d0005afae93",
   "metadata": {
    "tags": []
   },
   "outputs": [],
   "source": [
    "fedora.to_csv(\"fedora_analysed.csv\", index=False)"
   ]
  },
  {
   "cell_type": "code",
   "execution_count": 25,
   "id": "be32aa82-cb55-4925-8b48-f81ad41a10d0",
   "metadata": {
    "tags": []
   },
   "outputs": [
    {
     "name": "stderr",
     "output_type": "stream",
     "text": [
      "/var/folders/nw/zm4zl9xn4_d_rq3fnglst3n80000gp/T/ipykernel_80609/195027765.py:1: SettingWithCopyWarning: \n",
      "A value is trying to be set on a copy of a slice from a DataFrame.\n",
      "Try using .loc[row_indexer,col_indexer] = value instead\n",
      "\n",
      "See the caveats in the documentation: https://pandas.pydata.org/pandas-docs/stable/user_guide/indexing.html#returning-a-view-versus-a-copy\n",
      "  not_matched_fedora[\"Fedora_download\"] = \"http://lod.unige.ch/rest/visualcontagions/digitalobject/\" + not_matched_fedora[\"Fedora_url\"]\n"
     ]
    }
   ],
   "source": [
    "not_matched_fedora[\"Fedora_download\"] = \"http://lod.unige.ch/rest/visualcontagions/digitalobject/\" + not_matched_fedora[\"Fedora_url\"]"
   ]
  },
  {
   "cell_type": "code",
   "execution_count": 26,
   "id": "3ecfd6ad-3fce-4433-8d9d-fdefe5069569",
   "metadata": {
    "tags": []
   },
   "outputs": [
    {
     "data": {
      "text/html": [
       "<div>\n",
       "<style scoped>\n",
       "    .dataframe tbody tr th:only-of-type {\n",
       "        vertical-align: middle;\n",
       "    }\n",
       "\n",
       "    .dataframe tbody tr th {\n",
       "        vertical-align: top;\n",
       "    }\n",
       "\n",
       "    .dataframe thead th {\n",
       "        text-align: right;\n",
       "    }\n",
       "</style>\n",
       "<table border=\"1\" class=\"dataframe\">\n",
       "  <thead>\n",
       "    <tr style=\"text-align: right;\">\n",
       "      <th></th>\n",
       "      <th>Fedora_url</th>\n",
       "      <th>matched</th>\n",
       "      <th>not_matched</th>\n",
       "      <th>Fedora_download</th>\n",
       "    </tr>\n",
       "  </thead>\n",
       "  <tbody>\n",
       "    <tr>\n",
       "      <th>898</th>\n",
       "      <td>ug27810613</td>\n",
       "      <td>False</td>\n",
       "      <td>True</td>\n",
       "      <td>http://lod.unige.ch/rest/visualcontagions/digi...</td>\n",
       "    </tr>\n",
       "    <tr>\n",
       "      <th>1213</th>\n",
       "      <td>ug27812658</td>\n",
       "      <td>False</td>\n",
       "      <td>True</td>\n",
       "      <td>http://lod.unige.ch/rest/visualcontagions/digi...</td>\n",
       "    </tr>\n",
       "    <tr>\n",
       "      <th>1988</th>\n",
       "      <td>ug27816957</td>\n",
       "      <td>False</td>\n",
       "      <td>True</td>\n",
       "      <td>http://lod.unige.ch/rest/visualcontagions/digi...</td>\n",
       "    </tr>\n",
       "    <tr>\n",
       "      <th>2413</th>\n",
       "      <td>ug27818850</td>\n",
       "      <td>False</td>\n",
       "      <td>True</td>\n",
       "      <td>http://lod.unige.ch/rest/visualcontagions/digi...</td>\n",
       "    </tr>\n",
       "    <tr>\n",
       "      <th>2687</th>\n",
       "      <td>ug8000233</td>\n",
       "      <td>False</td>\n",
       "      <td>True</td>\n",
       "      <td>http://lod.unige.ch/rest/visualcontagions/digi...</td>\n",
       "    </tr>\n",
       "  </tbody>\n",
       "</table>\n",
       "</div>"
      ],
      "text/plain": [
       "      Fedora_url  matched  not_matched  \\\n",
       "898   ug27810613    False         True   \n",
       "1213  ug27812658    False         True   \n",
       "1988  ug27816957    False         True   \n",
       "2413  ug27818850    False         True   \n",
       "2687   ug8000233    False         True   \n",
       "\n",
       "                                        Fedora_download  \n",
       "898   http://lod.unige.ch/rest/visualcontagions/digi...  \n",
       "1213  http://lod.unige.ch/rest/visualcontagions/digi...  \n",
       "1988  http://lod.unige.ch/rest/visualcontagions/digi...  \n",
       "2413  http://lod.unige.ch/rest/visualcontagions/digi...  \n",
       "2687  http://lod.unige.ch/rest/visualcontagions/digi...  "
      ]
     },
     "execution_count": 26,
     "metadata": {},
     "output_type": "execute_result"
    }
   ],
   "source": [
    "not_matched_fedora.head()"
   ]
  },
  {
   "cell_type": "code",
   "execution_count": 27,
   "id": "273fed27-c4b9-4c92-9ab1-39ba8f8c5d65",
   "metadata": {
    "tags": []
   },
   "outputs": [],
   "source": [
    "not_matched_fedora.to_csv(\"fedora_to_check.csv\", index=False)"
   ]
  },
  {
   "cell_type": "code",
   "execution_count": 21,
   "id": "cda5388d-a753-4ada-8f05-b71409db49fa",
   "metadata": {
    "tags": []
   },
   "outputs": [],
   "source": [
    "matched_fedora.to_csv(\"fedora_ok.csv\", index=False)"
   ]
  },
  {
   "cell_type": "code",
   "execution_count": 16,
   "id": "c4ff24e3-448b-4b99-adc7-43becc23f93a",
   "metadata": {
    "tags": []
   },
   "outputs": [
    {
     "data": {
      "text/html": [
       "<div>\n",
       "<style scoped>\n",
       "    .dataframe tbody tr th:only-of-type {\n",
       "        vertical-align: middle;\n",
       "    }\n",
       "\n",
       "    .dataframe tbody tr th {\n",
       "        vertical-align: top;\n",
       "    }\n",
       "\n",
       "    .dataframe thead th {\n",
       "        text-align: right;\n",
       "    }\n",
       "</style>\n",
       "<table border=\"1\" class=\"dataframe\">\n",
       "  <thead>\n",
       "    <tr style=\"text-align: right;\">\n",
       "      <th></th>\n",
       "      <th>manifest_url</th>\n",
       "      <th>canvas_number</th>\n",
       "      <th>image_url</th>\n",
       "      <th>City</th>\n",
       "      <th>Country</th>\n",
       "      <th>Title</th>\n",
       "      <th>wkt</th>\n",
       "      <th>Date</th>\n",
       "      <th>Journal Type</th>\n",
       "      <th>notice</th>\n",
       "      <th>fedora</th>\n",
       "    </tr>\n",
       "  </thead>\n",
       "  <tbody>\n",
       "    <tr>\n",
       "      <th>0</th>\n",
       "      <td>https://iiif.unige.ch/dhportal/ug1649415/manifest</td>\n",
       "      <td>0.0</td>\n",
       "      <td>https://iiif.unige.ch/iiif/2/visualcontagions/...</td>\n",
       "      <td>NaN</td>\n",
       "      <td>NaN</td>\n",
       "      <td>NaN</td>\n",
       "      <td>NaN</td>\n",
       "      <td>NaN</td>\n",
       "      <td>NaN</td>\n",
       "      <td>NaN</td>\n",
       "      <td>NaN</td>\n",
       "    </tr>\n",
       "    <tr>\n",
       "      <th>1</th>\n",
       "      <td>https://iiif.unige.ch/dhportal/ug8096214/manifest</td>\n",
       "      <td>0.0</td>\n",
       "      <td>https://iiif.unige.ch/iiif/2/fedora_ug8064419/...</td>\n",
       "      <td>Tokyo</td>\n",
       "      <td>Japan</td>\n",
       "      <td>FLIX</td>\n",
       "      <td>POINT(139.69222222222 35.689722222222)</td>\n",
       "      <td>2010-06-01</td>\n",
       "      <td>Cinema</td>\n",
       "      <td>NaN</td>\n",
       "      <td>ug8064419</td>\n",
       "    </tr>\n",
       "    <tr>\n",
       "      <th>2</th>\n",
       "      <td>https://iiif.unige.ch/dhportal/ug8054362/manifest</td>\n",
       "      <td>0.0</td>\n",
       "      <td>https://iiif.unige.ch/iiif/2/fedora_ug8059238/...</td>\n",
       "      <td>Tokyo</td>\n",
       "      <td>Japan</td>\n",
       "      <td>FLIX</td>\n",
       "      <td>POINT(139.69222222222 35.689722222222)</td>\n",
       "      <td>2013-08-01</td>\n",
       "      <td>Cinema</td>\n",
       "      <td>NaN</td>\n",
       "      <td>ug8059238</td>\n",
       "    </tr>\n",
       "    <tr>\n",
       "      <th>3</th>\n",
       "      <td>https://iiif.unige.ch/dhportal/ug8079451/manifest</td>\n",
       "      <td>0.0</td>\n",
       "      <td>https://iiif.unige.ch/iiif/2/fedora_ug8102867/...</td>\n",
       "      <td>Kyiv</td>\n",
       "      <td>Ukraine</td>\n",
       "      <td>KINO</td>\n",
       "      <td>POINT(30.523611111111 50.45)</td>\n",
       "      <td>1933-05-10</td>\n",
       "      <td>Cinema</td>\n",
       "      <td>NaN</td>\n",
       "      <td>ug8102867</td>\n",
       "    </tr>\n",
       "    <tr>\n",
       "      <th>4</th>\n",
       "      <td>https://iiif.unige.ch/dhportal/ug8043206/manifest</td>\n",
       "      <td>0.0</td>\n",
       "      <td>https://iiif.unige.ch/iiif/2/fedora_ug8068266/...</td>\n",
       "      <td>Moscow</td>\n",
       "      <td>Russia</td>\n",
       "      <td>Brigada khudozhnikov</td>\n",
       "      <td>POINT(37.617777777778 55.755833333333)</td>\n",
       "      <td>NaN</td>\n",
       "      <td>NaN</td>\n",
       "      <td>NaN</td>\n",
       "      <td>ug8068266</td>\n",
       "    </tr>\n",
       "  </tbody>\n",
       "</table>\n",
       "</div>"
      ],
      "text/plain": [
       "                                        manifest_url  canvas_number  \\\n",
       "0  https://iiif.unige.ch/dhportal/ug1649415/manifest            0.0   \n",
       "1  https://iiif.unige.ch/dhportal/ug8096214/manifest            0.0   \n",
       "2  https://iiif.unige.ch/dhportal/ug8054362/manifest            0.0   \n",
       "3  https://iiif.unige.ch/dhportal/ug8079451/manifest            0.0   \n",
       "4  https://iiif.unige.ch/dhportal/ug8043206/manifest            0.0   \n",
       "\n",
       "                                           image_url    City  Country  \\\n",
       "0  https://iiif.unige.ch/iiif/2/visualcontagions/...     NaN      NaN   \n",
       "1  https://iiif.unige.ch/iiif/2/fedora_ug8064419/...   Tokyo    Japan   \n",
       "2  https://iiif.unige.ch/iiif/2/fedora_ug8059238/...   Tokyo    Japan   \n",
       "3  https://iiif.unige.ch/iiif/2/fedora_ug8102867/...    Kyiv  Ukraine   \n",
       "4  https://iiif.unige.ch/iiif/2/fedora_ug8068266/...  Moscow   Russia   \n",
       "\n",
       "                  Title                                     wkt        Date  \\\n",
       "0                   NaN                                     NaN         NaN   \n",
       "1                  FLIX  POINT(139.69222222222 35.689722222222)  2010-06-01   \n",
       "2                  FLIX  POINT(139.69222222222 35.689722222222)  2013-08-01   \n",
       "3                  KINO            POINT(30.523611111111 50.45)  1933-05-10   \n",
       "4  Brigada khudozhnikov  POINT(37.617777777778 55.755833333333)         NaN   \n",
       "\n",
       "  Journal Type  notice     fedora  \n",
       "0          NaN     NaN        NaN  \n",
       "1       Cinema     NaN  ug8064419  \n",
       "2       Cinema     NaN  ug8059238  \n",
       "3       Cinema     NaN  ug8102867  \n",
       "4          NaN     NaN  ug8068266  "
      ]
     },
     "execution_count": 16,
     "metadata": {},
     "output_type": "execute_result"
    }
   ],
   "source": [
    "df.head()"
   ]
  },
  {
   "cell_type": "code",
   "execution_count": null,
   "id": "c37a6297-8de6-4efe-8eda-93ae1b8df56f",
   "metadata": {
    "tags": []
   },
   "outputs": [],
   "source": [
    "matched_fedora = pd.merge(matched_fedora, df[['fedora', 'manifest_url']], on='fedora', how='left')"
   ]
  },
  {
   "cell_type": "code",
   "execution_count": null,
   "id": "9b52fc1f-0e7b-42a6-ad58-2d5636811036",
   "metadata": {},
   "outputs": [],
   "source": []
  }
 ],
 "metadata": {
  "kernelspec": {
   "display_name": "Python 3 (ipykernel)",
   "language": "python",
   "name": "python3"
  },
  "language_info": {
   "codemirror_mode": {
    "name": "ipython",
    "version": 3
   },
   "file_extension": ".py",
   "mimetype": "text/x-python",
   "name": "python",
   "nbconvert_exporter": "python",
   "pygments_lexer": "ipython3",
   "version": "3.10.8"
  }
 },
 "nbformat": 4,
 "nbformat_minor": 5
}
