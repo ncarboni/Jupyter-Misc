{
 "cells": [
  {
   "cell_type": "code",
   "execution_count": 26,
   "id": "0357dbf5-35d3-4e4c-8b36-d0cab0882e16",
   "metadata": {
    "tags": []
   },
   "outputs": [],
   "source": [
    "import pandas as pd\n",
    "import glob"
   ]
  },
  {
   "cell_type": "markdown",
   "id": "9b5d18bf-c008-4824-b655-f41827a89f68",
   "metadata": {},
   "source": [
    "## Extract BNF from Original"
   ]
  },
  {
   "cell_type": "code",
   "execution_count": 27,
   "id": "7e7c29fe-8fd4-489a-a9e3-fc2165f86939",
   "metadata": {
    "tags": []
   },
   "outputs": [],
   "source": [
    "df = pd.read_csv('/Users/carboni/Downloads/Gallica fashion.csv')"
   ]
  },
  {
   "cell_type": "code",
   "execution_count": 3,
   "id": "7623f824-3912-405a-962c-16058e3998c9",
   "metadata": {
    "tags": []
   },
   "outputs": [],
   "source": [
    "#sru_nca = pd.read_csv('SRU_BNF_nca.csv')"
   ]
  },
  {
   "cell_type": "code",
   "execution_count": null,
   "id": "1c6015fc-5212-4d56-8c9e-a20ee39d2ffd",
   "metadata": {
    "tags": []
   },
   "outputs": [],
   "source": [
    "filtered_df = df[df['URL'].str.contains(\"https://gallica.bnf.fr/\")].copy()"
   ]
  },
  {
   "cell_type": "code",
   "execution_count": 31,
   "id": "90d3a685-8d2f-4db7-ba4c-f8d7925e299c",
   "metadata": {
    "tags": []
   },
   "outputs": [
    {
     "data": {
      "text/html": [
       "<div>\n",
       "<style scoped>\n",
       "    .dataframe tbody tr th:only-of-type {\n",
       "        vertical-align: middle;\n",
       "    }\n",
       "\n",
       "    .dataframe tbody tr th {\n",
       "        vertical-align: top;\n",
       "    }\n",
       "\n",
       "    .dataframe thead th {\n",
       "        text-align: right;\n",
       "    }\n",
       "</style>\n",
       "<table border=\"1\" class=\"dataframe\">\n",
       "  <thead>\n",
       "    <tr style=\"text-align: right;\">\n",
       "      <th></th>\n",
       "      <th>List</th>\n",
       "      <th>OK VC</th>\n",
       "      <th>VC_Title</th>\n",
       "      <th>VC_Journal Type</th>\n",
       "      <th>VC_City</th>\n",
       "      <th>VC_Country</th>\n",
       "      <th>ark</th>\n",
       "    </tr>\n",
       "  </thead>\n",
       "  <tbody>\n",
       "    <tr>\n",
       "      <th>0</th>\n",
       "      <td>Gallica</td>\n",
       "      <td>OK ?</td>\n",
       "      <td>Art, goût, beauté : feuillets de l'élégance fé...</td>\n",
       "      <td>Fashion</td>\n",
       "      <td>NaN</td>\n",
       "      <td>NaN</td>\n",
       "      <td>ark:/12148/cb327024113/date</td>\n",
       "    </tr>\n",
       "    <tr>\n",
       "      <th>1</th>\n",
       "      <td>Perfume Drinker list</td>\n",
       "      <td>Trop vieux</td>\n",
       "      <td>Cabinet des modes, ou les Modes nouvelles, déc...</td>\n",
       "      <td>Fashion</td>\n",
       "      <td>Paris</td>\n",
       "      <td>France</td>\n",
       "      <td>ark:/12148/cb327349107/date</td>\n",
       "    </tr>\n",
       "    <tr>\n",
       "      <th>2</th>\n",
       "      <td>Gallica</td>\n",
       "      <td>OK ?</td>\n",
       "      <td>Chapeaux</td>\n",
       "      <td>Fashion</td>\n",
       "      <td>NaN</td>\n",
       "      <td>NaN</td>\n",
       "      <td>ark:/12148/cb45736932j/date</td>\n",
       "    </tr>\n",
       "    <tr>\n",
       "      <th>3</th>\n",
       "      <td>Perfume Drinker list</td>\n",
       "      <td>OK ?</td>\n",
       "      <td>Chapeaux d'Été</td>\n",
       "      <td>Fashion</td>\n",
       "      <td>Paris</td>\n",
       "      <td>France</td>\n",
       "      <td>ark:/12148/cb32740151v/date</td>\n",
       "    </tr>\n",
       "    <tr>\n",
       "      <th>4</th>\n",
       "      <td>Gallica</td>\n",
       "      <td>OK ?</td>\n",
       "      <td>Chapeaux d'hiver</td>\n",
       "      <td>Fashion</td>\n",
       "      <td>NaN</td>\n",
       "      <td>NaN</td>\n",
       "      <td>ark:/12148/cb327401526/date</td>\n",
       "    </tr>\n",
       "  </tbody>\n",
       "</table>\n",
       "</div>"
      ],
      "text/plain": [
       "                   List       OK VC  \\\n",
       "0               Gallica        OK ?   \n",
       "1  Perfume Drinker list  Trop vieux   \n",
       "2               Gallica        OK ?   \n",
       "3  Perfume Drinker list        OK ?   \n",
       "4               Gallica        OK ?   \n",
       "\n",
       "                                            VC_Title VC_Journal Type VC_City  \\\n",
       "0  Art, goût, beauté : feuillets de l'élégance fé...         Fashion     NaN   \n",
       "1  Cabinet des modes, ou les Modes nouvelles, déc...         Fashion   Paris   \n",
       "2                                           Chapeaux         Fashion     NaN   \n",
       "3                                     Chapeaux d'Été         Fashion   Paris   \n",
       "4                                   Chapeaux d'hiver         Fashion     NaN   \n",
       "\n",
       "  VC_Country                          ark  \n",
       "0        NaN  ark:/12148/cb327024113/date  \n",
       "1     France  ark:/12148/cb327349107/date  \n",
       "2        NaN  ark:/12148/cb45736932j/date  \n",
       "3     France  ark:/12148/cb32740151v/date  \n",
       "4        NaN  ark:/12148/cb327401526/date  "
      ]
     },
     "execution_count": 31,
     "metadata": {},
     "output_type": "execute_result"
    }
   ],
   "source": [
    "filtered_df.head()"
   ]
  },
  {
   "cell_type": "code",
   "execution_count": 5,
   "id": "4f25f923-3ea3-4e4a-b8d6-10f92e56b626",
   "metadata": {
    "tags": []
   },
   "outputs": [],
   "source": [
    "filtered_no_SRU = filtered_df[~filtered_df['URL'].str.contains(\"https://gallica.bnf.fr/services/engine/search/sru?\")].copy()"
   ]
  },
  {
   "cell_type": "code",
   "execution_count": 6,
   "id": "ec85f8e8-fe85-4367-9d3d-344ffa818107",
   "metadata": {
    "tags": []
   },
   "outputs": [],
   "source": [
    "combined_df = pd.concat([filtered_no_SRU, sru_nca], ignore_index=True)"
   ]
  },
  {
   "cell_type": "code",
   "execution_count": 7,
   "id": "0062d640-8576-46b6-bce6-e78e4f7311b1",
   "metadata": {
    "tags": []
   },
   "outputs": [
    {
     "data": {
      "text/html": [
       "<div>\n",
       "<style scoped>\n",
       "    .dataframe tbody tr th:only-of-type {\n",
       "        vertical-align: middle;\n",
       "    }\n",
       "\n",
       "    .dataframe tbody tr th {\n",
       "        vertical-align: top;\n",
       "    }\n",
       "\n",
       "    .dataframe thead th {\n",
       "        text-align: right;\n",
       "    }\n",
       "</style>\n",
       "<table border=\"1\" class=\"dataframe\">\n",
       "  <thead>\n",
       "    <tr style=\"text-align: right;\">\n",
       "      <th></th>\n",
       "      <th>Titre</th>\n",
       "      <th>URL</th>\n",
       "      <th>source</th>\n",
       "    </tr>\n",
       "  </thead>\n",
       "  <tbody>\n",
       "    <tr>\n",
       "      <th>0</th>\n",
       "      <td>L'Art décoratif</td>\n",
       "      <td>https://gallica.bnf.fr/iiif/12148/bpt6k1204557...</td>\n",
       "      <td>barbara_iif.csv</td>\n",
       "    </tr>\n",
       "    <tr>\n",
       "      <th>1</th>\n",
       "      <td>Action francaise</td>\n",
       "      <td>https://gallica.bnf.fr/ark:/12148/cb326819451/...</td>\n",
       "      <td>celine_1.csv</td>\n",
       "    </tr>\n",
       "    <tr>\n",
       "      <th>2</th>\n",
       "      <td>L'Aurore</td>\n",
       "      <td>https://gallica.bnf.fr/ark:/12148/cb32706846t/...</td>\n",
       "      <td>celine_1.csv</td>\n",
       "    </tr>\n",
       "    <tr>\n",
       "      <th>3</th>\n",
       "      <td>L'Auto</td>\n",
       "      <td>https://gallica.bnf.fr/ark:/12148/cb327071375/...</td>\n",
       "      <td>celine_1.csv</td>\n",
       "    </tr>\n",
       "    <tr>\n",
       "      <th>4</th>\n",
       "      <td>Le Soir</td>\n",
       "      <td>https://gallica.bnf.fr/ark:/12148/cb32738400h/...</td>\n",
       "      <td>celine_1.csv</td>\n",
       "    </tr>\n",
       "  </tbody>\n",
       "</table>\n",
       "</div>"
      ],
      "text/plain": [
       "              Titre                                                URL  \\\n",
       "0   L'Art décoratif  https://gallica.bnf.fr/iiif/12148/bpt6k1204557...   \n",
       "1  Action francaise  https://gallica.bnf.fr/ark:/12148/cb326819451/...   \n",
       "2          L'Aurore  https://gallica.bnf.fr/ark:/12148/cb32706846t/...   \n",
       "3            L'Auto  https://gallica.bnf.fr/ark:/12148/cb327071375/...   \n",
       "4           Le Soir  https://gallica.bnf.fr/ark:/12148/cb32738400h/...   \n",
       "\n",
       "            source  \n",
       "0  barbara_iif.csv  \n",
       "1     celine_1.csv  \n",
       "2     celine_1.csv  \n",
       "3     celine_1.csv  \n",
       "4     celine_1.csv  "
      ]
     },
     "execution_count": 7,
     "metadata": {},
     "output_type": "execute_result"
    }
   ],
   "source": [
    "combined_df.head()"
   ]
  },
  {
   "cell_type": "code",
   "execution_count": 8,
   "id": "a815ef3a-dc9a-4d10-a348-6a51b15e3bfc",
   "metadata": {
    "tags": []
   },
   "outputs": [],
   "source": [
    "combined_df[\"URL\"] = combined_df[\"URL\"].str.replace('https://gallica.bnf.fr/iiif/12148/bpt6k1204557d/manifest.json', 'https://gallica.bnf.fr/ark:/12148/bpt6k1204557d/date', regex=False)"
   ]
  },
  {
   "cell_type": "code",
   "execution_count": 34,
   "id": "b9c646c3-0256-41fe-b9ec-f0e4370594a3",
   "metadata": {
    "tags": []
   },
   "outputs": [],
   "source": [
    "mask = combined_df['URL'].str.contains(r'date&|date\\.item')\n",
    "combined_df.loc[mask, 'URL'] = combined_df.loc[mask, 'URL'].str.replace(r'date&.*$|date\\.item.*$', 'date', regex=True)"
   ]
  },
  {
   "cell_type": "code",
   "execution_count": null,
   "id": "df0d6bb0-0c77-437c-9db6-a91f613ff0e6",
   "metadata": {},
   "outputs": [],
   "source": []
  },
  {
   "cell_type": "code",
   "execution_count": 35,
   "id": "6ac88a36-3643-4b76-91f0-f6c040dfb000",
   "metadata": {
    "tags": []
   },
   "outputs": [],
   "source": [
    "combined_df[\"ark\"] = combined_df[\"URL\"].str.replace('https://gallica.bnf.fr/ark:/12148/', '', regex=False).str.replace('/date', '', regex=False)"
   ]
  },
  {
   "cell_type": "code",
   "execution_count": 36,
   "id": "1ebbef2c-af3c-4184-a0bc-bd9e3ba030d1",
   "metadata": {
    "tags": []
   },
   "outputs": [],
   "source": [
    "combined_df.to_csv('filtered_marie_bnf.csv', index=False)"
   ]
  },
  {
   "cell_type": "code",
   "execution_count": 44,
   "id": "d0ec8418-9bec-4633-bee5-7933b88b64a4",
   "metadata": {},
   "outputs": [
    {
     "data": {
      "text/html": [
       "<div>\n",
       "<style scoped>\n",
       "    .dataframe tbody tr th:only-of-type {\n",
       "        vertical-align: middle;\n",
       "    }\n",
       "\n",
       "    .dataframe tbody tr th {\n",
       "        vertical-align: top;\n",
       "    }\n",
       "\n",
       "    .dataframe thead th {\n",
       "        text-align: right;\n",
       "    }\n",
       "</style>\n",
       "<table border=\"1\" class=\"dataframe\">\n",
       "  <thead>\n",
       "    <tr style=\"text-align: right;\">\n",
       "      <th></th>\n",
       "      <th>List</th>\n",
       "      <th>OK VC</th>\n",
       "      <th>VC_Title</th>\n",
       "      <th>VC_Journal Type</th>\n",
       "      <th>VC_City</th>\n",
       "      <th>VC_Country</th>\n",
       "      <th>ark</th>\n",
       "      <th>URL</th>\n",
       "    </tr>\n",
       "  </thead>\n",
       "  <tbody>\n",
       "    <tr>\n",
       "      <th>0</th>\n",
       "      <td>Gallica</td>\n",
       "      <td>OK ?</td>\n",
       "      <td>Art, goût, beauté : feuillets de l'élégance fé...</td>\n",
       "      <td>Fashion</td>\n",
       "      <td>NaN</td>\n",
       "      <td>NaN</td>\n",
       "      <td>cb327024113</td>\n",
       "      <td>ark:/12148/cb327024113/date</td>\n",
       "    </tr>\n",
       "    <tr>\n",
       "      <th>1</th>\n",
       "      <td>Perfume Drinker list</td>\n",
       "      <td>Trop vieux</td>\n",
       "      <td>Cabinet des modes, ou les Modes nouvelles, déc...</td>\n",
       "      <td>Fashion</td>\n",
       "      <td>Paris</td>\n",
       "      <td>France</td>\n",
       "      <td>cb327349107</td>\n",
       "      <td>ark:/12148/cb327349107/date</td>\n",
       "    </tr>\n",
       "    <tr>\n",
       "      <th>2</th>\n",
       "      <td>Gallica</td>\n",
       "      <td>OK ?</td>\n",
       "      <td>Chapeaux</td>\n",
       "      <td>Fashion</td>\n",
       "      <td>NaN</td>\n",
       "      <td>NaN</td>\n",
       "      <td>cb45736932j</td>\n",
       "      <td>ark:/12148/cb45736932j/date</td>\n",
       "    </tr>\n",
       "    <tr>\n",
       "      <th>3</th>\n",
       "      <td>Perfume Drinker list</td>\n",
       "      <td>OK ?</td>\n",
       "      <td>Chapeaux d'Été</td>\n",
       "      <td>Fashion</td>\n",
       "      <td>Paris</td>\n",
       "      <td>France</td>\n",
       "      <td>cb32740151v</td>\n",
       "      <td>ark:/12148/cb32740151v/date</td>\n",
       "    </tr>\n",
       "    <tr>\n",
       "      <th>4</th>\n",
       "      <td>Gallica</td>\n",
       "      <td>OK ?</td>\n",
       "      <td>Chapeaux d'hiver</td>\n",
       "      <td>Fashion</td>\n",
       "      <td>NaN</td>\n",
       "      <td>NaN</td>\n",
       "      <td>cb327401526</td>\n",
       "      <td>ark:/12148/cb327401526/date</td>\n",
       "    </tr>\n",
       "  </tbody>\n",
       "</table>\n",
       "</div>"
      ],
      "text/plain": [
       "                   List       OK VC  \\\n",
       "0               Gallica        OK ?   \n",
       "1  Perfume Drinker list  Trop vieux   \n",
       "2               Gallica        OK ?   \n",
       "3  Perfume Drinker list        OK ?   \n",
       "4               Gallica        OK ?   \n",
       "\n",
       "                                            VC_Title VC_Journal Type VC_City  \\\n",
       "0  Art, goût, beauté : feuillets de l'élégance fé...         Fashion     NaN   \n",
       "1  Cabinet des modes, ou les Modes nouvelles, déc...         Fashion   Paris   \n",
       "2                                           Chapeaux         Fashion     NaN   \n",
       "3                                     Chapeaux d'Été         Fashion   Paris   \n",
       "4                                   Chapeaux d'hiver         Fashion     NaN   \n",
       "\n",
       "  VC_Country          ark                          URL  \n",
       "0        NaN  cb327024113  ark:/12148/cb327024113/date  \n",
       "1     France  cb327349107  ark:/12148/cb327349107/date  \n",
       "2        NaN  cb45736932j  ark:/12148/cb45736932j/date  \n",
       "3     France  cb32740151v  ark:/12148/cb32740151v/date  \n",
       "4        NaN  cb327401526  ark:/12148/cb327401526/date  "
      ]
     },
     "execution_count": 44,
     "metadata": {},
     "output_type": "execute_result"
    }
   ],
   "source": [
    "combined_df.head()"
   ]
  },
  {
   "cell_type": "markdown",
   "id": "ec7865bf-05da-426e-bdb4-52cab3599484",
   "metadata": {},
   "source": [
    "## Match BNF arks to Corpus"
   ]
  },
  {
   "cell_type": "code",
   "execution_count": 38,
   "id": "dfe292fa-7f77-475f-9984-4031458c81bf",
   "metadata": {
    "tags": []
   },
   "outputs": [],
   "source": [
    "folder_path = '/Users/carboni/Downloads/bnf'"
   ]
  },
  {
   "cell_type": "code",
   "execution_count": 39,
   "id": "489fc2f9-62d9-4897-ba40-f6dfa2e095cb",
   "metadata": {
    "tags": []
   },
   "outputs": [],
   "source": [
    "keep_col = ['Notice']"
   ]
  },
  {
   "cell_type": "code",
   "execution_count": 40,
   "id": "41846c9d-f0d4-47a2-86b6-16585f1330e4",
   "metadata": {
    "tags": []
   },
   "outputs": [],
   "source": [
    "all_files = glob.glob(folder_path + \"/*.csv\")\n",
    "\n",
    "li = []\n",
    "\n",
    "for filename in all_files:\n",
    "    df = pd.read_csv(filename, index_col=None, header=0, delimiter=',', low_memory=False)\n",
    "    df = df[keep_col]\n",
    "    li.append(df)\n",
    "\n",
    "df_merged = pd.concat(li, axis=0, ignore_index=True)"
   ]
  },
  {
   "cell_type": "code",
   "execution_count": 41,
   "id": "8869a1e5-ff6a-41ea-9ef9-6769ca5fbf3e",
   "metadata": {
    "tags": []
   },
   "outputs": [],
   "source": [
    "df_merged[\"ark\"] = df_merged[\"Notice\"].str.replace('https://gallica.bnf.fr/ark:/12148/', '', regex=False).str.replace('/date', '', regex=False)"
   ]
  },
  {
   "cell_type": "code",
   "execution_count": 42,
   "id": "acc6b849-d225-4b37-843c-823abe8594a5",
   "metadata": {
    "tags": []
   },
   "outputs": [
    {
     "data": {
      "text/html": [
       "<div>\n",
       "<style scoped>\n",
       "    .dataframe tbody tr th:only-of-type {\n",
       "        vertical-align: middle;\n",
       "    }\n",
       "\n",
       "    .dataframe tbody tr th {\n",
       "        vertical-align: top;\n",
       "    }\n",
       "\n",
       "    .dataframe thead th {\n",
       "        text-align: right;\n",
       "    }\n",
       "</style>\n",
       "<table border=\"1\" class=\"dataframe\">\n",
       "  <thead>\n",
       "    <tr style=\"text-align: right;\">\n",
       "      <th></th>\n",
       "      <th>Notice</th>\n",
       "      <th>ark</th>\n",
       "    </tr>\n",
       "  </thead>\n",
       "  <tbody>\n",
       "    <tr>\n",
       "      <th>0</th>\n",
       "      <td>https://gallica.bnf.fr/ark:/12148/cb32788632q/...</td>\n",
       "      <td>cb32788632q</td>\n",
       "    </tr>\n",
       "    <tr>\n",
       "      <th>1</th>\n",
       "      <td>https://gallica.bnf.fr/ark:/12148/cb32788632q/...</td>\n",
       "      <td>cb32788632q</td>\n",
       "    </tr>\n",
       "    <tr>\n",
       "      <th>2</th>\n",
       "      <td>https://gallica.bnf.fr/ark:/12148/cb32788632q/...</td>\n",
       "      <td>cb32788632q</td>\n",
       "    </tr>\n",
       "    <tr>\n",
       "      <th>3</th>\n",
       "      <td>https://gallica.bnf.fr/ark:/12148/cb32788632q/...</td>\n",
       "      <td>cb32788632q</td>\n",
       "    </tr>\n",
       "    <tr>\n",
       "      <th>4</th>\n",
       "      <td>https://gallica.bnf.fr/ark:/12148/cb32788632q/...</td>\n",
       "      <td>cb32788632q</td>\n",
       "    </tr>\n",
       "  </tbody>\n",
       "</table>\n",
       "</div>"
      ],
      "text/plain": [
       "                                              Notice          ark\n",
       "0  https://gallica.bnf.fr/ark:/12148/cb32788632q/...  cb32788632q\n",
       "1  https://gallica.bnf.fr/ark:/12148/cb32788632q/...  cb32788632q\n",
       "2  https://gallica.bnf.fr/ark:/12148/cb32788632q/...  cb32788632q\n",
       "3  https://gallica.bnf.fr/ark:/12148/cb32788632q/...  cb32788632q\n",
       "4  https://gallica.bnf.fr/ark:/12148/cb32788632q/...  cb32788632q"
      ]
     },
     "execution_count": 42,
     "metadata": {},
     "output_type": "execute_result"
    }
   ],
   "source": [
    "df_merged.head()"
   ]
  },
  {
   "cell_type": "code",
   "execution_count": 45,
   "id": "1a8e27c4-5f87-473b-a02c-b264d3ec175a",
   "metadata": {
    "tags": []
   },
   "outputs": [],
   "source": [
    "combined_df[\"present\"] = combined_df[\"ark\"].isin(df_merged[\"ark\"])"
   ]
  },
  {
   "cell_type": "code",
   "execution_count": 46,
   "id": "a1074be7-d3e5-43e1-b69e-64906abb77c2",
   "metadata": {
    "tags": []
   },
   "outputs": [
    {
     "data": {
      "text/html": [
       "<div>\n",
       "<style scoped>\n",
       "    .dataframe tbody tr th:only-of-type {\n",
       "        vertical-align: middle;\n",
       "    }\n",
       "\n",
       "    .dataframe tbody tr th {\n",
       "        vertical-align: top;\n",
       "    }\n",
       "\n",
       "    .dataframe thead th {\n",
       "        text-align: right;\n",
       "    }\n",
       "</style>\n",
       "<table border=\"1\" class=\"dataframe\">\n",
       "  <thead>\n",
       "    <tr style=\"text-align: right;\">\n",
       "      <th></th>\n",
       "      <th>List</th>\n",
       "      <th>OK VC</th>\n",
       "      <th>VC_Title</th>\n",
       "      <th>VC_Journal Type</th>\n",
       "      <th>VC_City</th>\n",
       "      <th>VC_Country</th>\n",
       "      <th>ark</th>\n",
       "      <th>URL</th>\n",
       "      <th>present</th>\n",
       "    </tr>\n",
       "  </thead>\n",
       "  <tbody>\n",
       "    <tr>\n",
       "      <th>0</th>\n",
       "      <td>Gallica</td>\n",
       "      <td>OK ?</td>\n",
       "      <td>Art, goût, beauté : feuillets de l'élégance fé...</td>\n",
       "      <td>Fashion</td>\n",
       "      <td>NaN</td>\n",
       "      <td>NaN</td>\n",
       "      <td>cb327024113</td>\n",
       "      <td>ark:/12148/cb327024113/date</td>\n",
       "      <td>True</td>\n",
       "    </tr>\n",
       "    <tr>\n",
       "      <th>1</th>\n",
       "      <td>Perfume Drinker list</td>\n",
       "      <td>Trop vieux</td>\n",
       "      <td>Cabinet des modes, ou les Modes nouvelles, déc...</td>\n",
       "      <td>Fashion</td>\n",
       "      <td>Paris</td>\n",
       "      <td>France</td>\n",
       "      <td>cb327349107</td>\n",
       "      <td>ark:/12148/cb327349107/date</td>\n",
       "      <td>False</td>\n",
       "    </tr>\n",
       "    <tr>\n",
       "      <th>2</th>\n",
       "      <td>Gallica</td>\n",
       "      <td>OK ?</td>\n",
       "      <td>Chapeaux</td>\n",
       "      <td>Fashion</td>\n",
       "      <td>NaN</td>\n",
       "      <td>NaN</td>\n",
       "      <td>cb45736932j</td>\n",
       "      <td>ark:/12148/cb45736932j/date</td>\n",
       "      <td>True</td>\n",
       "    </tr>\n",
       "    <tr>\n",
       "      <th>3</th>\n",
       "      <td>Perfume Drinker list</td>\n",
       "      <td>OK ?</td>\n",
       "      <td>Chapeaux d'Été</td>\n",
       "      <td>Fashion</td>\n",
       "      <td>Paris</td>\n",
       "      <td>France</td>\n",
       "      <td>cb32740151v</td>\n",
       "      <td>ark:/12148/cb32740151v/date</td>\n",
       "      <td>False</td>\n",
       "    </tr>\n",
       "    <tr>\n",
       "      <th>4</th>\n",
       "      <td>Gallica</td>\n",
       "      <td>OK ?</td>\n",
       "      <td>Chapeaux d'hiver</td>\n",
       "      <td>Fashion</td>\n",
       "      <td>NaN</td>\n",
       "      <td>NaN</td>\n",
       "      <td>cb327401526</td>\n",
       "      <td>ark:/12148/cb327401526/date</td>\n",
       "      <td>True</td>\n",
       "    </tr>\n",
       "  </tbody>\n",
       "</table>\n",
       "</div>"
      ],
      "text/plain": [
       "                   List       OK VC  \\\n",
       "0               Gallica        OK ?   \n",
       "1  Perfume Drinker list  Trop vieux   \n",
       "2               Gallica        OK ?   \n",
       "3  Perfume Drinker list        OK ?   \n",
       "4               Gallica        OK ?   \n",
       "\n",
       "                                            VC_Title VC_Journal Type VC_City  \\\n",
       "0  Art, goût, beauté : feuillets de l'élégance fé...         Fashion     NaN   \n",
       "1  Cabinet des modes, ou les Modes nouvelles, déc...         Fashion   Paris   \n",
       "2                                           Chapeaux         Fashion     NaN   \n",
       "3                                     Chapeaux d'Été         Fashion   Paris   \n",
       "4                                   Chapeaux d'hiver         Fashion     NaN   \n",
       "\n",
       "  VC_Country          ark                          URL  present  \n",
       "0        NaN  cb327024113  ark:/12148/cb327024113/date     True  \n",
       "1     France  cb327349107  ark:/12148/cb327349107/date    False  \n",
       "2        NaN  cb45736932j  ark:/12148/cb45736932j/date     True  \n",
       "3     France  cb32740151v  ark:/12148/cb32740151v/date    False  \n",
       "4        NaN  cb327401526  ark:/12148/cb327401526/date     True  "
      ]
     },
     "execution_count": 46,
     "metadata": {},
     "output_type": "execute_result"
    }
   ],
   "source": [
    "combined_df.head()"
   ]
  },
  {
   "cell_type": "code",
   "execution_count": 47,
   "id": "6c11bfb7-e97d-472d-87f2-9189122d9c98",
   "metadata": {
    "tags": []
   },
   "outputs": [],
   "source": [
    "only_new = combined_df[combined_df[\"present\"] == False].copy()"
   ]
  },
  {
   "cell_type": "code",
   "execution_count": 48,
   "id": "0bbcf0b9-c34c-4f3a-89b1-a44e392eb34f",
   "metadata": {
    "tags": []
   },
   "outputs": [
    {
     "data": {
      "text/html": [
       "<div>\n",
       "<style scoped>\n",
       "    .dataframe tbody tr th:only-of-type {\n",
       "        vertical-align: middle;\n",
       "    }\n",
       "\n",
       "    .dataframe tbody tr th {\n",
       "        vertical-align: top;\n",
       "    }\n",
       "\n",
       "    .dataframe thead th {\n",
       "        text-align: right;\n",
       "    }\n",
       "</style>\n",
       "<table border=\"1\" class=\"dataframe\">\n",
       "  <thead>\n",
       "    <tr style=\"text-align: right;\">\n",
       "      <th></th>\n",
       "      <th>List</th>\n",
       "      <th>OK VC</th>\n",
       "      <th>VC_Title</th>\n",
       "      <th>VC_Journal Type</th>\n",
       "      <th>VC_City</th>\n",
       "      <th>VC_Country</th>\n",
       "      <th>ark</th>\n",
       "      <th>URL</th>\n",
       "      <th>present</th>\n",
       "    </tr>\n",
       "  </thead>\n",
       "  <tbody>\n",
       "    <tr>\n",
       "      <th>1</th>\n",
       "      <td>Perfume Drinker list</td>\n",
       "      <td>Trop vieux</td>\n",
       "      <td>Cabinet des modes, ou les Modes nouvelles, déc...</td>\n",
       "      <td>Fashion</td>\n",
       "      <td>Paris</td>\n",
       "      <td>France</td>\n",
       "      <td>cb327349107</td>\n",
       "      <td>ark:/12148/cb327349107/date</td>\n",
       "      <td>False</td>\n",
       "    </tr>\n",
       "    <tr>\n",
       "      <th>3</th>\n",
       "      <td>Perfume Drinker list</td>\n",
       "      <td>OK ?</td>\n",
       "      <td>Chapeaux d'Été</td>\n",
       "      <td>Fashion</td>\n",
       "      <td>Paris</td>\n",
       "      <td>France</td>\n",
       "      <td>cb32740151v</td>\n",
       "      <td>ark:/12148/cb32740151v/date</td>\n",
       "      <td>False</td>\n",
       "    </tr>\n",
       "    <tr>\n",
       "      <th>9</th>\n",
       "      <td>Perfume Drinker list</td>\n",
       "      <td>Trop vieux</td>\n",
       "      <td>Gallery of Fashion</td>\n",
       "      <td>Fashion</td>\n",
       "      <td>London</td>\n",
       "      <td>United Kingdom</td>\n",
       "      <td>cb327795523</td>\n",
       "      <td>ark:/12148/cb327795523/date</td>\n",
       "      <td>False</td>\n",
       "    </tr>\n",
       "    <tr>\n",
       "      <th>11</th>\n",
       "      <td>Perfume Drinker list</td>\n",
       "      <td>Trop vieux</td>\n",
       "      <td>Journal de la mode et du goût, ou Amusemens du...</td>\n",
       "      <td>Fashion</td>\n",
       "      <td>Paris</td>\n",
       "      <td>France</td>\n",
       "      <td>cb32798156j</td>\n",
       "      <td>ark:/12148/cb32798156j/date</td>\n",
       "      <td>False</td>\n",
       "    </tr>\n",
       "    <tr>\n",
       "      <th>25</th>\n",
       "      <td>Perfume Drinker list</td>\n",
       "      <td>Trop vieux / livre</td>\n",
       "      <td>Le Bon Genre</td>\n",
       "      <td>Fashion</td>\n",
       "      <td>Paris</td>\n",
       "      <td>France</td>\n",
       "      <td>bpt6k1054664s/f35.image</td>\n",
       "      <td>ark:/12148/bpt6k1054664s/f35.image</td>\n",
       "      <td>False</td>\n",
       "    </tr>\n",
       "  </tbody>\n",
       "</table>\n",
       "</div>"
      ],
      "text/plain": [
       "                    List               OK VC  \\\n",
       "1   Perfume Drinker list          Trop vieux   \n",
       "3   Perfume Drinker list                OK ?   \n",
       "9   Perfume Drinker list          Trop vieux   \n",
       "11  Perfume Drinker list          Trop vieux   \n",
       "25  Perfume Drinker list  Trop vieux / livre   \n",
       "\n",
       "                                             VC_Title VC_Journal Type VC_City  \\\n",
       "1   Cabinet des modes, ou les Modes nouvelles, déc...         Fashion   Paris   \n",
       "3                                      Chapeaux d'Été         Fashion   Paris   \n",
       "9                                  Gallery of Fashion         Fashion  London   \n",
       "11  Journal de la mode et du goût, ou Amusemens du...         Fashion   Paris   \n",
       "25                                       Le Bon Genre         Fashion   Paris   \n",
       "\n",
       "        VC_Country                      ark  \\\n",
       "1           France              cb327349107   \n",
       "3           France              cb32740151v   \n",
       "9   United Kingdom              cb327795523   \n",
       "11          France              cb32798156j   \n",
       "25          France  bpt6k1054664s/f35.image   \n",
       "\n",
       "                                   URL  present  \n",
       "1          ark:/12148/cb327349107/date    False  \n",
       "3          ark:/12148/cb32740151v/date    False  \n",
       "9          ark:/12148/cb327795523/date    False  \n",
       "11         ark:/12148/cb32798156j/date    False  \n",
       "25  ark:/12148/bpt6k1054664s/f35.image    False  "
      ]
     },
     "execution_count": 48,
     "metadata": {},
     "output_type": "execute_result"
    }
   ],
   "source": [
    "only_new.head()"
   ]
  },
  {
   "cell_type": "code",
   "execution_count": 49,
   "id": "8d85c293-6c11-479e-8f95-5af4f55d5f73",
   "metadata": {
    "tags": []
   },
   "outputs": [],
   "source": [
    "only_new.to_csv('bnf_to_add_marie.csv', index=False)"
   ]
  }
 ],
 "metadata": {
  "kernelspec": {
   "display_name": "Python 3 (ipykernel)",
   "language": "python",
   "name": "python3"
  },
  "language_info": {
   "codemirror_mode": {
    "name": "ipython",
    "version": 3
   },
   "file_extension": ".py",
   "mimetype": "text/x-python",
   "name": "python",
   "nbconvert_exporter": "python",
   "pygments_lexer": "ipython3",
   "version": "3.10.8"
  }
 },
 "nbformat": 4,
 "nbformat_minor": 5
}
