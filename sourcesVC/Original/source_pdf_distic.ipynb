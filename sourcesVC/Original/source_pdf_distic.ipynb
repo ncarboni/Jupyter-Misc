{
 "cells": [
  {
   "cell_type": "code",
   "execution_count": 10,
   "id": "78976ba6-d013-4c79-a4c5-73920d630bbe",
   "metadata": {
    "tags": []
   },
   "outputs": [],
   "source": [
    "import pandas as pd\n",
    "import os\n",
    "import glob\n",
    "from difflib import SequenceMatcher"
   ]
  },
  {
   "cell_type": "code",
   "execution_count": 27,
   "id": "d13ce335-395e-424a-9ba8-9632894ce1c9",
   "metadata": {
    "tags": []
   },
   "outputs": [],
   "source": [
    "keep_col = ['Titre', 'URL']"
   ]
  },
  {
   "cell_type": "code",
   "execution_count": 28,
   "id": "e2780b47-c01e-4c66-9c03-0a51880cc1b4",
   "metadata": {
    "tags": []
   },
   "outputs": [],
   "source": [
    "folder_path = '/Users/carboni/Documents/UNIGE/pynotebook/sourcesVC/Original/VC_original'"
   ]
  },
  {
   "cell_type": "code",
   "execution_count": 29,
   "id": "3443020c-c653-4d87-ab48-5b4024cad249",
   "metadata": {
    "tags": []
   },
   "outputs": [],
   "source": [
    "all_files = glob.glob(folder_path + \"/*.csv\")\n",
    "\n",
    "li = []\n",
    "\n",
    "for filename in all_files:\n",
    "    df = pd.read_csv(filename, index_col=None, header=0, delimiter=',', low_memory=False)\n",
    "    df = df[keep_col]\n",
    "    df['source'] = filename.split(\"/\")[-1]\n",
    "    li.append(df)\n",
    "\n",
    "df_merged = pd.concat(li, axis=0, ignore_index=True)"
   ]
  },
  {
   "cell_type": "code",
   "execution_count": 30,
   "id": "908af440-f5c8-47bd-9161-ea5b1304caea",
   "metadata": {
    "tags": []
   },
   "outputs": [],
   "source": [
    "df_merged.drop_duplicates(subset=\"Titre\", keep=False, inplace=True)"
   ]
  },
  {
   "cell_type": "code",
   "execution_count": 32,
   "id": "0cd21d7a-b35d-4ebd-9a8e-99a601e979fa",
   "metadata": {
    "tags": []
   },
   "outputs": [
    {
     "data": {
      "text/html": [
       "<div>\n",
       "<style scoped>\n",
       "    .dataframe tbody tr th:only-of-type {\n",
       "        vertical-align: middle;\n",
       "    }\n",
       "\n",
       "    .dataframe tbody tr th {\n",
       "        vertical-align: top;\n",
       "    }\n",
       "\n",
       "    .dataframe thead th {\n",
       "        text-align: right;\n",
       "    }\n",
       "</style>\n",
       "<table border=\"1\" class=\"dataframe\">\n",
       "  <thead>\n",
       "    <tr style=\"text-align: right;\">\n",
       "      <th></th>\n",
       "      <th>index</th>\n",
       "      <th>Titre</th>\n",
       "      <th>URL</th>\n",
       "      <th>source</th>\n",
       "    </tr>\n",
       "  </thead>\n",
       "  <tbody>\n",
       "    <tr>\n",
       "      <th>0</th>\n",
       "      <td>85</td>\n",
       "      <td>Elle Finland</td>\n",
       "      <td>https://coversarchive.wixsite.com/gallery/elle...</td>\n",
       "      <td>celine.csv</td>\n",
       "    </tr>\n",
       "    <tr>\n",
       "      <th>1</th>\n",
       "      <td>144</td>\n",
       "      <td>Elle Hungary</td>\n",
       "      <td>https://coversarchive.wixsite.com/gallery/elle...</td>\n",
       "      <td>celine.csv</td>\n",
       "    </tr>\n",
       "    <tr>\n",
       "      <th>2</th>\n",
       "      <td>159</td>\n",
       "      <td>Elle Indonesia</td>\n",
       "      <td>https://coversarchive.wixsite.com/gallery/elle...</td>\n",
       "      <td>celine.csv</td>\n",
       "    </tr>\n",
       "    <tr>\n",
       "      <th>3</th>\n",
       "      <td>415</td>\n",
       "      <td>Elle Vietnam</td>\n",
       "      <td>https://coversarchive.wixsite.com/gallery/elle...</td>\n",
       "      <td>celine.csv</td>\n",
       "    </tr>\n",
       "    <tr>\n",
       "      <th>4</th>\n",
       "      <td>3139</td>\n",
       "      <td>Antártica: preocupación de 5 continentes</td>\n",
       "      <td>http://www.memoriachilena.gob.cl/602/w3-proper...</td>\n",
       "      <td>celine.csv</td>\n",
       "    </tr>\n",
       "    <tr>\n",
       "      <th>...</th>\n",
       "      <td>...</td>\n",
       "      <td>...</td>\n",
       "      <td>...</td>\n",
       "      <td>...</td>\n",
       "    </tr>\n",
       "    <tr>\n",
       "      <th>548</th>\n",
       "      <td>41191</td>\n",
       "      <td>Almanaque etimologico y poetico</td>\n",
       "      <td>http://bdh.bne.es/bnesearch/CompleteSearch.do?...</td>\n",
       "      <td>celine_1.csv</td>\n",
       "    </tr>\n",
       "    <tr>\n",
       "      <th>549</th>\n",
       "      <td>41192</td>\n",
       "      <td>Almanaque festivo (Madrid, 1876)</td>\n",
       "      <td>http://bdh.bne.es/bnesearch/CompleteSearch.do?...</td>\n",
       "      <td>celine_1.csv</td>\n",
       "    </tr>\n",
       "    <tr>\n",
       "      <th>550</th>\n",
       "      <td>41193</td>\n",
       "      <td>Almanaque franciscano</td>\n",
       "      <td>http://bdh.bne.es/bnesearch/CompleteSearch.do?...</td>\n",
       "      <td>celine_1.csv</td>\n",
       "    </tr>\n",
       "    <tr>\n",
       "      <th>551</th>\n",
       "      <td>41194</td>\n",
       "      <td>Almanaque literario y ilustrado</td>\n",
       "      <td>http://bdh.bne.es/bnesearch/CompleteSearch.do?...</td>\n",
       "      <td>celine_1.csv</td>\n",
       "    </tr>\n",
       "    <tr>\n",
       "      <th>552</th>\n",
       "      <td>41195</td>\n",
       "      <td>Almanaque literario (Madrid, 1935)</td>\n",
       "      <td>http://bdh.bne.es/bnesearch/CompleteSearch.do?...</td>\n",
       "      <td>celine_1.csv</td>\n",
       "    </tr>\n",
       "  </tbody>\n",
       "</table>\n",
       "<p>553 rows × 4 columns</p>\n",
       "</div>"
      ],
      "text/plain": [
       "     index                                     Titre  \\\n",
       "0       85                              Elle Finland   \n",
       "1      144                              Elle Hungary   \n",
       "2      159                            Elle Indonesia   \n",
       "3      415                              Elle Vietnam   \n",
       "4     3139  Antártica: preocupación de 5 continentes   \n",
       "..     ...                                       ...   \n",
       "548  41191           Almanaque etimologico y poetico   \n",
       "549  41192          Almanaque festivo (Madrid, 1876)   \n",
       "550  41193                     Almanaque franciscano   \n",
       "551  41194           Almanaque literario y ilustrado   \n",
       "552  41195        Almanaque literario (Madrid, 1935)   \n",
       "\n",
       "                                                   URL        source  \n",
       "0    https://coversarchive.wixsite.com/gallery/elle...    celine.csv  \n",
       "1    https://coversarchive.wixsite.com/gallery/elle...    celine.csv  \n",
       "2    https://coversarchive.wixsite.com/gallery/elle...    celine.csv  \n",
       "3    https://coversarchive.wixsite.com/gallery/elle...    celine.csv  \n",
       "4    http://www.memoriachilena.gob.cl/602/w3-proper...    celine.csv  \n",
       "..                                                 ...           ...  \n",
       "548  http://bdh.bne.es/bnesearch/CompleteSearch.do?...  celine_1.csv  \n",
       "549  http://bdh.bne.es/bnesearch/CompleteSearch.do?...  celine_1.csv  \n",
       "550  http://bdh.bne.es/bnesearch/CompleteSearch.do?...  celine_1.csv  \n",
       "551  http://bdh.bne.es/bnesearch/CompleteSearch.do?...  celine_1.csv  \n",
       "552  http://bdh.bne.es/bnesearch/CompleteSearch.do?...  celine_1.csv  \n",
       "\n",
       "[553 rows x 4 columns]"
      ]
     },
     "execution_count": 32,
     "metadata": {},
     "output_type": "execute_result"
    }
   ],
   "source": [
    "df_merged.reset_index()"
   ]
  },
  {
   "cell_type": "code",
   "execution_count": 33,
   "id": "5ae6fb7f-1b2f-44f5-903a-f51a2b4bf37d",
   "metadata": {
    "tags": []
   },
   "outputs": [],
   "source": [
    "current = pd.read_csv('/Users/carboni/Documents/UNIGE/pynotebook/sourcesVC/Original/Corpuscombined light Oct23.csv')"
   ]
  },
  {
   "cell_type": "code",
   "execution_count": 34,
   "id": "0f78cfd6-0a32-4a95-bac3-0f5637316a75",
   "metadata": {
    "tags": []
   },
   "outputs": [
    {
     "data": {
      "text/html": [
       "<div>\n",
       "<style scoped>\n",
       "    .dataframe tbody tr th:only-of-type {\n",
       "        vertical-align: middle;\n",
       "    }\n",
       "\n",
       "    .dataframe tbody tr th {\n",
       "        vertical-align: top;\n",
       "    }\n",
       "\n",
       "    .dataframe thead th {\n",
       "        text-align: right;\n",
       "    }\n",
       "</style>\n",
       "<table border=\"1\" class=\"dataframe\">\n",
       "  <thead>\n",
       "    <tr style=\"text-align: right;\">\n",
       "      <th></th>\n",
       "      <th>Media URL</th>\n",
       "      <th>City</th>\n",
       "      <th>Country</th>\n",
       "      <th>wkt</th>\n",
       "      <th>normalized_date</th>\n",
       "      <th>Title</th>\n",
       "      <th>Journal Type</th>\n",
       "      <th>source</th>\n",
       "    </tr>\n",
       "  </thead>\n",
       "  <tbody>\n",
       "    <tr>\n",
       "      <th>0</th>\n",
       "      <td>https://iiif.unige.ch/dhportal/ug27808014/mani...</td>\n",
       "      <td>Amsterdam</td>\n",
       "      <td>Netherlands</td>\n",
       "      <td>POINT(4.9 52.383333333333)</td>\n",
       "      <td>1973-01-01</td>\n",
       "      <td>Kontekst</td>\n",
       "      <td>Illustrated Magazine</td>\n",
       "      <td>Adrien iaddb data iiif(UNIGE).csv</td>\n",
       "    </tr>\n",
       "    <tr>\n",
       "      <th>1</th>\n",
       "      <td>https://iiif.unige.ch/dhportal/ug27803682/mani...</td>\n",
       "      <td>Paris</td>\n",
       "      <td>France</td>\n",
       "      <td>POINT(2.352222222222222 48.85666666666667)</td>\n",
       "      <td>1950-01-01</td>\n",
       "      <td>Art d’Aujourd’hui</td>\n",
       "      <td>Avant-garde Journal</td>\n",
       "      <td>Adrien iaddb data iiif(UNIGE).csv</td>\n",
       "    </tr>\n",
       "    <tr>\n",
       "      <th>2</th>\n",
       "      <td>https://iiif.unige.ch/dhportal/ug27817654/mani...</td>\n",
       "      <td>London</td>\n",
       "      <td>United Kingdom</td>\n",
       "      <td>POINT(-0.1275 51.507222222222)</td>\n",
       "      <td>1923-01-01</td>\n",
       "      <td>Commercial Art - Art and Industry</td>\n",
       "      <td>Illustrated Magazine</td>\n",
       "      <td>Adrien iaddb data iiif(UNIGE).csv</td>\n",
       "    </tr>\n",
       "    <tr>\n",
       "      <th>3</th>\n",
       "      <td>https://iiif.unige.ch/dhportal/ug27803680/mani...</td>\n",
       "      <td>Amsterdam</td>\n",
       "      <td>Netherlands</td>\n",
       "      <td>POINT(4.9 52.383333333333)</td>\n",
       "      <td>1967-01-01</td>\n",
       "      <td>Art Directors Annual</td>\n",
       "      <td>Illustrated Magazine</td>\n",
       "      <td>Adrien iaddb data iiif(UNIGE).csv</td>\n",
       "    </tr>\n",
       "    <tr>\n",
       "      <th>4</th>\n",
       "      <td>https://iiif.unige.ch/dhportal/ug27811437/mani...</td>\n",
       "      <td>Geneva</td>\n",
       "      <td>Switzerland</td>\n",
       "      <td>POINT(6.15 46.2)</td>\n",
       "      <td>1947-01-01</td>\n",
       "      <td>Publicité et Arts graphiques</td>\n",
       "      <td>Illustrated Magazine</td>\n",
       "      <td>Adrien iaddb data iiif(UNIGE).csv</td>\n",
       "    </tr>\n",
       "  </tbody>\n",
       "</table>\n",
       "</div>"
      ],
      "text/plain": [
       "                                           Media URL       City  \\\n",
       "0  https://iiif.unige.ch/dhportal/ug27808014/mani...  Amsterdam   \n",
       "1  https://iiif.unige.ch/dhportal/ug27803682/mani...      Paris   \n",
       "2  https://iiif.unige.ch/dhportal/ug27817654/mani...     London   \n",
       "3  https://iiif.unige.ch/dhportal/ug27803680/mani...  Amsterdam   \n",
       "4  https://iiif.unige.ch/dhportal/ug27811437/mani...     Geneva   \n",
       "\n",
       "          Country                                         wkt normalized_date  \\\n",
       "0     Netherlands                  POINT(4.9 52.383333333333)      1973-01-01   \n",
       "1          France  POINT(2.352222222222222 48.85666666666667)      1950-01-01   \n",
       "2  United Kingdom              POINT(-0.1275 51.507222222222)      1923-01-01   \n",
       "3     Netherlands                  POINT(4.9 52.383333333333)      1967-01-01   \n",
       "4     Switzerland                            POINT(6.15 46.2)      1947-01-01   \n",
       "\n",
       "                               Title          Journal Type  \\\n",
       "0                           Kontekst  Illustrated Magazine   \n",
       "1                  Art d’Aujourd’hui   Avant-garde Journal   \n",
       "2  Commercial Art - Art and Industry  Illustrated Magazine   \n",
       "3               Art Directors Annual  Illustrated Magazine   \n",
       "4       Publicité et Arts graphiques  Illustrated Magazine   \n",
       "\n",
       "                              source  \n",
       "0  Adrien iaddb data iiif(UNIGE).csv  \n",
       "1  Adrien iaddb data iiif(UNIGE).csv  \n",
       "2  Adrien iaddb data iiif(UNIGE).csv  \n",
       "3  Adrien iaddb data iiif(UNIGE).csv  \n",
       "4  Adrien iaddb data iiif(UNIGE).csv  "
      ]
     },
     "execution_count": 34,
     "metadata": {},
     "output_type": "execute_result"
    }
   ],
   "source": [
    "current.head()"
   ]
  },
  {
   "cell_type": "code",
   "execution_count": 35,
   "id": "4bab8794-4a8f-4024-a2a5-f56f3dccb523",
   "metadata": {
    "tags": []
   },
   "outputs": [],
   "source": [
    "def get_similarity_score(s1, s2):\n",
    "    return SequenceMatcher(None, s1, s2).ratio()\n",
    "\n",
    "def categorize_match(score):\n",
    "    if score == 1:\n",
    "        return \"match\"\n",
    "    elif score > 0.9:\n",
    "        return \"very similar\"\n",
    "    elif score > 0.8:\n",
    "        return \"quite similar\"\n",
    "    else:\n",
    "        return \"no match\"\n",
    "\n",
    "matches = []\n",
    "\n",
    "for index, row in df_merged.iterrows():\n",
    "    title_merged = row['Titre']\n",
    "    for _, curr_row in current.iterrows():\n",
    "        title_current = curr_row['Title']\n",
    "        similarity_score = get_similarity_score(title_merged, title_current)\n",
    "        match_category = categorize_match(similarity_score)\n",
    "        \n",
    "        if match_category != \"no match\":\n",
    "            matches.append((title_merged, title_current, match_category, similarity_score))"
   ]
  },
  {
   "cell_type": "code",
   "execution_count": 36,
   "id": "c1dfe8b8-5391-419c-8568-3f2026bd6439",
   "metadata": {
    "tags": []
   },
   "outputs": [],
   "source": [
    "with open('matches.txt', 'w') as file:\n",
    "    for match in matches:\n",
    "        file.write(f\"{match[0]} | {match[1]} | {match[2]} | {match[3]}\\n\")"
   ]
  },
  {
   "cell_type": "code",
   "execution_count": 37,
   "id": "324781fb-7234-49ea-9624-a14cf8eac4ba",
   "metadata": {
    "tags": []
   },
   "outputs": [
    {
     "name": "stdout",
     "output_type": "stream",
     "text": [
      "Unmatched Titles:\n",
      "                                    Titre        source  \\\n",
      "85                           Elle Finland    celine.csv   \n",
      "144                          Elle Hungary    celine.csv   \n",
      "159                        Elle Indonesia    celine.csv   \n",
      "415                          Elle Vietnam    celine.csv   \n",
      "3146                                Ecran    celine.csv   \n",
      "...                                   ...           ...   \n",
      "41191     Almanaque etimologico y poetico  celine_1.csv   \n",
      "41192    Almanaque festivo (Madrid, 1876)  celine_1.csv   \n",
      "41193               Almanaque franciscano  celine_1.csv   \n",
      "41194     Almanaque literario y ilustrado  celine_1.csv   \n",
      "41195  Almanaque literario (Madrid, 1935)  celine_1.csv   \n",
      "\n",
      "                                                     URL  \n",
      "85     https://coversarchive.wixsite.com/gallery/elle...  \n",
      "144    https://coversarchive.wixsite.com/gallery/elle...  \n",
      "159    https://coversarchive.wixsite.com/gallery/elle...  \n",
      "415    https://coversarchive.wixsite.com/gallery/elle...  \n",
      "3146   http://www.memoriachilena.gob.cl/602/w3-proper...  \n",
      "...                                                  ...  \n",
      "41191  http://bdh.bne.es/bnesearch/CompleteSearch.do?...  \n",
      "41192  http://bdh.bne.es/bnesearch/CompleteSearch.do?...  \n",
      "41193  http://bdh.bne.es/bnesearch/CompleteSearch.do?...  \n",
      "41194  http://bdh.bne.es/bnesearch/CompleteSearch.do?...  \n",
      "41195  http://bdh.bne.es/bnesearch/CompleteSearch.do?...  \n",
      "\n",
      "[428 rows x 3 columns]\n"
     ]
    }
   ],
   "source": [
    "matched_titles = [match[0] for match in matches]\n",
    "\n",
    "# Find titles without matches\n",
    "unmatched_df = df_merged[~df_merged['Titre'].isin(matched_titles)]\n",
    "\n",
    "# Print and visualize the unmatched titles along with their source\n",
    "print(\"Unmatched Titles:\")\n",
    "print(unmatched_df[['Titre', 'source', 'URL']])"
   ]
  },
  {
   "cell_type": "code",
   "execution_count": 38,
   "id": "0c6655ea-5a04-43df-80db-b639d532bbe3",
   "metadata": {
    "tags": []
   },
   "outputs": [],
   "source": [
    "unmatched_df.to_csv('unmatched_titles.csv', index=False)"
   ]
  }
 ],
 "metadata": {
  "kernelspec": {
   "display_name": "Python 3 (ipykernel)",
   "language": "python",
   "name": "python3"
  },
  "language_info": {
   "codemirror_mode": {
    "name": "ipython",
    "version": 3
   },
   "file_extension": ".py",
   "mimetype": "text/x-python",
   "name": "python",
   "nbconvert_exporter": "python",
   "pygments_lexer": "ipython3",
   "version": "3.10.8"
  }
 },
 "nbformat": 4,
 "nbformat_minor": 5
}
