{
 "cells": [
  {
   "cell_type": "code",
   "execution_count": 1,
   "id": "0357dbf5-35d3-4e4c-8b36-d0cab0882e16",
   "metadata": {
    "tags": []
   },
   "outputs": [],
   "source": [
    "import pandas as pd\n",
    "import glob"
   ]
  },
  {
   "cell_type": "markdown",
   "id": "9b5d18bf-c008-4824-b655-f41827a89f68",
   "metadata": {},
   "source": [
    "## Extract Archive from Original"
   ]
  },
  {
   "cell_type": "code",
   "execution_count": 2,
   "id": "7e7c29fe-8fd4-489a-a9e3-fc2165f86939",
   "metadata": {
    "tags": []
   },
   "outputs": [],
   "source": [
    "df = pd.read_csv('/Users/carboni/Documents/UNIGE/pynotebook/personal/sourcesVC/Original/unmatched_titles.csv')"
   ]
  },
  {
   "cell_type": "code",
   "execution_count": 3,
   "id": "7623f824-3912-405a-962c-16058e3998c9",
   "metadata": {
    "tags": []
   },
   "outputs": [],
   "source": [
    "#sru_nca = pd.read_csv('SRU_BNF_nca.csv')"
   ]
  },
  {
   "cell_type": "code",
   "execution_count": 5,
   "id": "1c6015fc-5212-4d56-8c9e-a20ee39d2ffd",
   "metadata": {
    "tags": []
   },
   "outputs": [],
   "source": [
    "combined_df = df[df['URL'].str.contains(\"https://archive.org\")].copy()"
   ]
  },
  {
   "cell_type": "code",
   "execution_count": 6,
   "id": "0062d640-8576-46b6-bce6-e78e4f7311b1",
   "metadata": {
    "tags": []
   },
   "outputs": [
    {
     "data": {
      "text/html": [
       "<div>\n",
       "<style scoped>\n",
       "    .dataframe tbody tr th:only-of-type {\n",
       "        vertical-align: middle;\n",
       "    }\n",
       "\n",
       "    .dataframe tbody tr th {\n",
       "        vertical-align: top;\n",
       "    }\n",
       "\n",
       "    .dataframe thead th {\n",
       "        text-align: right;\n",
       "    }\n",
       "</style>\n",
       "<table border=\"1\" class=\"dataframe\">\n",
       "  <thead>\n",
       "    <tr style=\"text-align: right;\">\n",
       "      <th></th>\n",
       "      <th>Titre</th>\n",
       "      <th>URL</th>\n",
       "      <th>source</th>\n",
       "    </tr>\n",
       "  </thead>\n",
       "  <tbody>\n",
       "    <tr>\n",
       "      <th>73</th>\n",
       "      <td>The Small Pond Magazine of Literature</td>\n",
       "      <td>https://archive.org/details/pub_small-pond-mag...</td>\n",
       "      <td>thomas.csv</td>\n",
       "    </tr>\n",
       "    <tr>\n",
       "      <th>74</th>\n",
       "      <td>The English Review Magazine</td>\n",
       "      <td>https://archive.org/details/pub_english-review...</td>\n",
       "      <td>thomas.csv</td>\n",
       "    </tr>\n",
       "    <tr>\n",
       "      <th>75</th>\n",
       "      <td>ATA (Alberta Teachers' Association)</td>\n",
       "      <td>https://archive.org/details/pub_ata-magazine</td>\n",
       "      <td>thomas.csv</td>\n",
       "    </tr>\n",
       "    <tr>\n",
       "      <th>76</th>\n",
       "      <td>HLM : The Howard League Magazine</td>\n",
       "      <td>https://archive.org/details/pub_hlm-the-howard...</td>\n",
       "      <td>thomas.csv</td>\n",
       "    </tr>\n",
       "    <tr>\n",
       "      <th>77</th>\n",
       "      <td>Clavier</td>\n",
       "      <td>https://archive.org/details/pub_clavier-a-maga...</td>\n",
       "      <td>thomas.csv</td>\n",
       "    </tr>\n",
       "  </tbody>\n",
       "</table>\n",
       "</div>"
      ],
      "text/plain": [
       "                                    Titre  \\\n",
       "73  The Small Pond Magazine of Literature   \n",
       "74            The English Review Magazine   \n",
       "75    ATA (Alberta Teachers' Association)   \n",
       "76       HLM : The Howard League Magazine   \n",
       "77                                Clavier   \n",
       "\n",
       "                                                  URL      source  \n",
       "73  https://archive.org/details/pub_small-pond-mag...  thomas.csv  \n",
       "74  https://archive.org/details/pub_english-review...  thomas.csv  \n",
       "75       https://archive.org/details/pub_ata-magazine  thomas.csv  \n",
       "76  https://archive.org/details/pub_hlm-the-howard...  thomas.csv  \n",
       "77  https://archive.org/details/pub_clavier-a-maga...  thomas.csv  "
      ]
     },
     "execution_count": 6,
     "metadata": {},
     "output_type": "execute_result"
    }
   ],
   "source": [
    "combined_df.head()"
   ]
  },
  {
   "cell_type": "code",
   "execution_count": 7,
   "id": "6ac88a36-3643-4b76-91f0-f6c040dfb000",
   "metadata": {
    "tags": []
   },
   "outputs": [],
   "source": [
    "combined_df[\"id\"] = combined_df[\"URL\"].str.replace('https://archive.org/details/', '', regex=False)"
   ]
  },
  {
   "cell_type": "code",
   "execution_count": 21,
   "id": "112d1618-3a5f-46ce-82a1-db1542d2754b",
   "metadata": {
    "tags": []
   },
   "outputs": [],
   "source": [
    "combined_df[\"id_archive\"] = combined_df[\"URL\"].str.replace('https://archive.org/details/', '', regex=False)"
   ]
  },
  {
   "cell_type": "code",
   "execution_count": 11,
   "id": "72dd21b0-c01a-4cab-a882-4f7fe853ddfd",
   "metadata": {
    "tags": []
   },
   "outputs": [],
   "source": [
    "combined_df[\"id\"] = 'https://iiif.archive.org/iiif/' + combined_df[\"id\"].astype(str) + '/manifest.json'"
   ]
  },
  {
   "cell_type": "code",
   "execution_count": 22,
   "id": "1ebbef2c-af3c-4184-a0bc-bd9e3ba030d1",
   "metadata": {
    "tags": []
   },
   "outputs": [
    {
     "data": {
      "text/html": [
       "<div>\n",
       "<style scoped>\n",
       "    .dataframe tbody tr th:only-of-type {\n",
       "        vertical-align: middle;\n",
       "    }\n",
       "\n",
       "    .dataframe tbody tr th {\n",
       "        vertical-align: top;\n",
       "    }\n",
       "\n",
       "    .dataframe thead th {\n",
       "        text-align: right;\n",
       "    }\n",
       "</style>\n",
       "<table border=\"1\" class=\"dataframe\">\n",
       "  <thead>\n",
       "    <tr style=\"text-align: right;\">\n",
       "      <th></th>\n",
       "      <th>Titre</th>\n",
       "      <th>URL</th>\n",
       "      <th>source</th>\n",
       "      <th>id</th>\n",
       "      <th>id_archive</th>\n",
       "    </tr>\n",
       "  </thead>\n",
       "  <tbody>\n",
       "    <tr>\n",
       "      <th>73</th>\n",
       "      <td>The Small Pond Magazine of Literature</td>\n",
       "      <td>https://archive.org/details/pub_small-pond-mag...</td>\n",
       "      <td>thomas.csv</td>\n",
       "      <td>https://iiif.archive.org/iiif/pub_small-pond-m...</td>\n",
       "      <td>pub_small-pond-magazine-of-literature</td>\n",
       "    </tr>\n",
       "    <tr>\n",
       "      <th>74</th>\n",
       "      <td>The English Review Magazine</td>\n",
       "      <td>https://archive.org/details/pub_english-review...</td>\n",
       "      <td>thomas.csv</td>\n",
       "      <td>https://iiif.archive.org/iiif/pub_english-revi...</td>\n",
       "      <td>pub_english-review-magazine</td>\n",
       "    </tr>\n",
       "    <tr>\n",
       "      <th>75</th>\n",
       "      <td>ATA (Alberta Teachers' Association)</td>\n",
       "      <td>https://archive.org/details/pub_ata-magazine</td>\n",
       "      <td>thomas.csv</td>\n",
       "      <td>https://iiif.archive.org/iiif/pub_ata-magazine...</td>\n",
       "      <td>pub_ata-magazine</td>\n",
       "    </tr>\n",
       "    <tr>\n",
       "      <th>76</th>\n",
       "      <td>HLM : The Howard League Magazine</td>\n",
       "      <td>https://archive.org/details/pub_hlm-the-howard...</td>\n",
       "      <td>thomas.csv</td>\n",
       "      <td>https://iiif.archive.org/iiif/pub_hlm-the-howa...</td>\n",
       "      <td>pub_hlm-the-howard-league-magazine</td>\n",
       "    </tr>\n",
       "    <tr>\n",
       "      <th>77</th>\n",
       "      <td>Clavier</td>\n",
       "      <td>https://archive.org/details/pub_clavier-a-maga...</td>\n",
       "      <td>thomas.csv</td>\n",
       "      <td>https://iiif.archive.org/iiif/pub_clavier-a-ma...</td>\n",
       "      <td>pub_clavier-a-magazine-for-pianists-and-organists</td>\n",
       "    </tr>\n",
       "  </tbody>\n",
       "</table>\n",
       "</div>"
      ],
      "text/plain": [
       "                                    Titre  \\\n",
       "73  The Small Pond Magazine of Literature   \n",
       "74            The English Review Magazine   \n",
       "75    ATA (Alberta Teachers' Association)   \n",
       "76       HLM : The Howard League Magazine   \n",
       "77                                Clavier   \n",
       "\n",
       "                                                  URL      source  \\\n",
       "73  https://archive.org/details/pub_small-pond-mag...  thomas.csv   \n",
       "74  https://archive.org/details/pub_english-review...  thomas.csv   \n",
       "75       https://archive.org/details/pub_ata-magazine  thomas.csv   \n",
       "76  https://archive.org/details/pub_hlm-the-howard...  thomas.csv   \n",
       "77  https://archive.org/details/pub_clavier-a-maga...  thomas.csv   \n",
       "\n",
       "                                                   id  \\\n",
       "73  https://iiif.archive.org/iiif/pub_small-pond-m...   \n",
       "74  https://iiif.archive.org/iiif/pub_english-revi...   \n",
       "75  https://iiif.archive.org/iiif/pub_ata-magazine...   \n",
       "76  https://iiif.archive.org/iiif/pub_hlm-the-howa...   \n",
       "77  https://iiif.archive.org/iiif/pub_clavier-a-ma...   \n",
       "\n",
       "                                           id_archive  \n",
       "73              pub_small-pond-magazine-of-literature  \n",
       "74                        pub_english-review-magazine  \n",
       "75                                   pub_ata-magazine  \n",
       "76                 pub_hlm-the-howard-league-magazine  \n",
       "77  pub_clavier-a-magazine-for-pianists-and-organists  "
      ]
     },
     "execution_count": 22,
     "metadata": {},
     "output_type": "execute_result"
    }
   ],
   "source": [
    "combined_df.head()"
   ]
  },
  {
   "cell_type": "markdown",
   "id": "ec7865bf-05da-426e-bdb4-52cab3599484",
   "metadata": {},
   "source": [
    "## Match Journals to Corpus"
   ]
  },
  {
   "cell_type": "code",
   "execution_count": 13,
   "id": "dfe292fa-7f77-475f-9984-4031458c81bf",
   "metadata": {
    "tags": []
   },
   "outputs": [],
   "source": [
    "folder_path = 'to_check_journal'"
   ]
  },
  {
   "cell_type": "code",
   "execution_count": 14,
   "id": "891571b8-8aba-4840-b57e-d90531a6966e",
   "metadata": {
    "tags": []
   },
   "outputs": [],
   "source": [
    "keep_col = ['Media URL']"
   ]
  },
  {
   "cell_type": "code",
   "execution_count": 15,
   "id": "489fc2f9-62d9-4897-ba40-f6dfa2e095cb",
   "metadata": {
    "tags": []
   },
   "outputs": [],
   "source": [
    "#keep_col = ['Notice']"
   ]
  },
  {
   "cell_type": "code",
   "execution_count": 16,
   "id": "41846c9d-f0d4-47a2-86b6-16585f1330e4",
   "metadata": {
    "tags": []
   },
   "outputs": [],
   "source": [
    "all_files = glob.glob(folder_path + \"/*.csv\")\n",
    "\n",
    "li = []\n",
    "\n",
    "for filename in all_files:\n",
    "    df = pd.read_csv(filename, index_col=None, header=0, delimiter=',', low_memory=False)\n",
    "    df = df[keep_col]\n",
    "    li.append(df)\n",
    "\n",
    "df_merged = pd.concat(li, axis=0, ignore_index=True)"
   ]
  },
  {
   "cell_type": "code",
   "execution_count": 17,
   "id": "8869a1e5-ff6a-41ea-9ef9-6769ca5fbf3e",
   "metadata": {
    "tags": []
   },
   "outputs": [],
   "source": [
    "df_merged[\"id_archive\"] = df_merged[\"Media URL\"].str.replace('https://iiif.archivelab.org/iiif/', '', regex=False).str.replace('/manifest.json', '', regex=False)"
   ]
  },
  {
   "cell_type": "code",
   "execution_count": 18,
   "id": "acc6b849-d225-4b37-843c-823abe8594a5",
   "metadata": {
    "tags": []
   },
   "outputs": [
    {
     "data": {
      "text/html": [
       "<div>\n",
       "<style scoped>\n",
       "    .dataframe tbody tr th:only-of-type {\n",
       "        vertical-align: middle;\n",
       "    }\n",
       "\n",
       "    .dataframe tbody tr th {\n",
       "        vertical-align: top;\n",
       "    }\n",
       "\n",
       "    .dataframe thead th {\n",
       "        text-align: right;\n",
       "    }\n",
       "</style>\n",
       "<table border=\"1\" class=\"dataframe\">\n",
       "  <thead>\n",
       "    <tr style=\"text-align: right;\">\n",
       "      <th></th>\n",
       "      <th>Media URL</th>\n",
       "      <th>id_archive</th>\n",
       "    </tr>\n",
       "  </thead>\n",
       "  <tbody>\n",
       "    <tr>\n",
       "      <th>0</th>\n",
       "      <td>https://digi.ub.uni-heidelberg.de/diglit/iiif/...</td>\n",
       "      <td>https://digi.ub.uni-heidelberg.de/diglit/iiif/...</td>\n",
       "    </tr>\n",
       "    <tr>\n",
       "      <th>1</th>\n",
       "      <td>https://digi.ub.uni-heidelberg.de/diglit/iiif/...</td>\n",
       "      <td>https://digi.ub.uni-heidelberg.de/diglit/iiif/...</td>\n",
       "    </tr>\n",
       "    <tr>\n",
       "      <th>2</th>\n",
       "      <td>https://digi.ub.uni-heidelberg.de/diglit/iiif/...</td>\n",
       "      <td>https://digi.ub.uni-heidelberg.de/diglit/iiif/...</td>\n",
       "    </tr>\n",
       "    <tr>\n",
       "      <th>3</th>\n",
       "      <td>https://digi.ub.uni-heidelberg.de/diglit/iiif/...</td>\n",
       "      <td>https://digi.ub.uni-heidelberg.de/diglit/iiif/...</td>\n",
       "    </tr>\n",
       "    <tr>\n",
       "      <th>4</th>\n",
       "      <td>https://digi.ub.uni-heidelberg.de/diglit/iiif/...</td>\n",
       "      <td>https://digi.ub.uni-heidelberg.de/diglit/iiif/...</td>\n",
       "    </tr>\n",
       "  </tbody>\n",
       "</table>\n",
       "</div>"
      ],
      "text/plain": [
       "                                           Media URL  \\\n",
       "0  https://digi.ub.uni-heidelberg.de/diglit/iiif/...   \n",
       "1  https://digi.ub.uni-heidelberg.de/diglit/iiif/...   \n",
       "2  https://digi.ub.uni-heidelberg.de/diglit/iiif/...   \n",
       "3  https://digi.ub.uni-heidelberg.de/diglit/iiif/...   \n",
       "4  https://digi.ub.uni-heidelberg.de/diglit/iiif/...   \n",
       "\n",
       "                                          id_archive  \n",
       "0  https://digi.ub.uni-heidelberg.de/diglit/iiif/...  \n",
       "1  https://digi.ub.uni-heidelberg.de/diglit/iiif/...  \n",
       "2  https://digi.ub.uni-heidelberg.de/diglit/iiif/...  \n",
       "3  https://digi.ub.uni-heidelberg.de/diglit/iiif/...  \n",
       "4  https://digi.ub.uni-heidelberg.de/diglit/iiif/...  "
      ]
     },
     "execution_count": 18,
     "metadata": {},
     "output_type": "execute_result"
    }
   ],
   "source": [
    "df_merged.head()"
   ]
  },
  {
   "cell_type": "code",
   "execution_count": 23,
   "id": "1a8e27c4-5f87-473b-a02c-b264d3ec175a",
   "metadata": {
    "tags": []
   },
   "outputs": [],
   "source": [
    "combined_df[\"present\"] = combined_df[\"id_archive\"].isin(df_merged[\"id_archive\"])"
   ]
  },
  {
   "cell_type": "code",
   "execution_count": 24,
   "id": "a1074be7-d3e5-43e1-b69e-64906abb77c2",
   "metadata": {
    "tags": []
   },
   "outputs": [
    {
     "data": {
      "text/html": [
       "<div>\n",
       "<style scoped>\n",
       "    .dataframe tbody tr th:only-of-type {\n",
       "        vertical-align: middle;\n",
       "    }\n",
       "\n",
       "    .dataframe tbody tr th {\n",
       "        vertical-align: top;\n",
       "    }\n",
       "\n",
       "    .dataframe thead th {\n",
       "        text-align: right;\n",
       "    }\n",
       "</style>\n",
       "<table border=\"1\" class=\"dataframe\">\n",
       "  <thead>\n",
       "    <tr style=\"text-align: right;\">\n",
       "      <th></th>\n",
       "      <th>Titre</th>\n",
       "      <th>URL</th>\n",
       "      <th>source</th>\n",
       "      <th>id</th>\n",
       "      <th>id_archive</th>\n",
       "      <th>present</th>\n",
       "    </tr>\n",
       "  </thead>\n",
       "  <tbody>\n",
       "    <tr>\n",
       "      <th>73</th>\n",
       "      <td>The Small Pond Magazine of Literature</td>\n",
       "      <td>https://archive.org/details/pub_small-pond-mag...</td>\n",
       "      <td>thomas.csv</td>\n",
       "      <td>https://iiif.archive.org/iiif/pub_small-pond-m...</td>\n",
       "      <td>pub_small-pond-magazine-of-literature</td>\n",
       "      <td>False</td>\n",
       "    </tr>\n",
       "    <tr>\n",
       "      <th>74</th>\n",
       "      <td>The English Review Magazine</td>\n",
       "      <td>https://archive.org/details/pub_english-review...</td>\n",
       "      <td>thomas.csv</td>\n",
       "      <td>https://iiif.archive.org/iiif/pub_english-revi...</td>\n",
       "      <td>pub_english-review-magazine</td>\n",
       "      <td>False</td>\n",
       "    </tr>\n",
       "    <tr>\n",
       "      <th>75</th>\n",
       "      <td>ATA (Alberta Teachers' Association)</td>\n",
       "      <td>https://archive.org/details/pub_ata-magazine</td>\n",
       "      <td>thomas.csv</td>\n",
       "      <td>https://iiif.archive.org/iiif/pub_ata-magazine...</td>\n",
       "      <td>pub_ata-magazine</td>\n",
       "      <td>False</td>\n",
       "    </tr>\n",
       "    <tr>\n",
       "      <th>76</th>\n",
       "      <td>HLM : The Howard League Magazine</td>\n",
       "      <td>https://archive.org/details/pub_hlm-the-howard...</td>\n",
       "      <td>thomas.csv</td>\n",
       "      <td>https://iiif.archive.org/iiif/pub_hlm-the-howa...</td>\n",
       "      <td>pub_hlm-the-howard-league-magazine</td>\n",
       "      <td>False</td>\n",
       "    </tr>\n",
       "    <tr>\n",
       "      <th>77</th>\n",
       "      <td>Clavier</td>\n",
       "      <td>https://archive.org/details/pub_clavier-a-maga...</td>\n",
       "      <td>thomas.csv</td>\n",
       "      <td>https://iiif.archive.org/iiif/pub_clavier-a-ma...</td>\n",
       "      <td>pub_clavier-a-magazine-for-pianists-and-organists</td>\n",
       "      <td>False</td>\n",
       "    </tr>\n",
       "  </tbody>\n",
       "</table>\n",
       "</div>"
      ],
      "text/plain": [
       "                                    Titre  \\\n",
       "73  The Small Pond Magazine of Literature   \n",
       "74            The English Review Magazine   \n",
       "75    ATA (Alberta Teachers' Association)   \n",
       "76       HLM : The Howard League Magazine   \n",
       "77                                Clavier   \n",
       "\n",
       "                                                  URL      source  \\\n",
       "73  https://archive.org/details/pub_small-pond-mag...  thomas.csv   \n",
       "74  https://archive.org/details/pub_english-review...  thomas.csv   \n",
       "75       https://archive.org/details/pub_ata-magazine  thomas.csv   \n",
       "76  https://archive.org/details/pub_hlm-the-howard...  thomas.csv   \n",
       "77  https://archive.org/details/pub_clavier-a-maga...  thomas.csv   \n",
       "\n",
       "                                                   id  \\\n",
       "73  https://iiif.archive.org/iiif/pub_small-pond-m...   \n",
       "74  https://iiif.archive.org/iiif/pub_english-revi...   \n",
       "75  https://iiif.archive.org/iiif/pub_ata-magazine...   \n",
       "76  https://iiif.archive.org/iiif/pub_hlm-the-howa...   \n",
       "77  https://iiif.archive.org/iiif/pub_clavier-a-ma...   \n",
       "\n",
       "                                           id_archive  present  \n",
       "73              pub_small-pond-magazine-of-literature    False  \n",
       "74                        pub_english-review-magazine    False  \n",
       "75                                   pub_ata-magazine    False  \n",
       "76                 pub_hlm-the-howard-league-magazine    False  \n",
       "77  pub_clavier-a-magazine-for-pianists-and-organists    False  "
      ]
     },
     "execution_count": 24,
     "metadata": {},
     "output_type": "execute_result"
    }
   ],
   "source": [
    "combined_df.head()"
   ]
  },
  {
   "cell_type": "code",
   "execution_count": 25,
   "id": "6c11bfb7-e97d-472d-87f2-9189122d9c98",
   "metadata": {
    "tags": []
   },
   "outputs": [],
   "source": [
    "only_new = combined_df[combined_df[\"present\"] == False].copy()"
   ]
  },
  {
   "cell_type": "code",
   "execution_count": 26,
   "id": "0bbcf0b9-c34c-4f3a-89b1-a44e392eb34f",
   "metadata": {
    "tags": []
   },
   "outputs": [
    {
     "data": {
      "text/html": [
       "<div>\n",
       "<style scoped>\n",
       "    .dataframe tbody tr th:only-of-type {\n",
       "        vertical-align: middle;\n",
       "    }\n",
       "\n",
       "    .dataframe tbody tr th {\n",
       "        vertical-align: top;\n",
       "    }\n",
       "\n",
       "    .dataframe thead th {\n",
       "        text-align: right;\n",
       "    }\n",
       "</style>\n",
       "<table border=\"1\" class=\"dataframe\">\n",
       "  <thead>\n",
       "    <tr style=\"text-align: right;\">\n",
       "      <th></th>\n",
       "      <th>Titre</th>\n",
       "      <th>URL</th>\n",
       "      <th>source</th>\n",
       "      <th>id</th>\n",
       "      <th>id_archive</th>\n",
       "      <th>present</th>\n",
       "    </tr>\n",
       "  </thead>\n",
       "  <tbody>\n",
       "    <tr>\n",
       "      <th>73</th>\n",
       "      <td>The Small Pond Magazine of Literature</td>\n",
       "      <td>https://archive.org/details/pub_small-pond-mag...</td>\n",
       "      <td>thomas.csv</td>\n",
       "      <td>https://iiif.archive.org/iiif/pub_small-pond-m...</td>\n",
       "      <td>pub_small-pond-magazine-of-literature</td>\n",
       "      <td>False</td>\n",
       "    </tr>\n",
       "    <tr>\n",
       "      <th>74</th>\n",
       "      <td>The English Review Magazine</td>\n",
       "      <td>https://archive.org/details/pub_english-review...</td>\n",
       "      <td>thomas.csv</td>\n",
       "      <td>https://iiif.archive.org/iiif/pub_english-revi...</td>\n",
       "      <td>pub_english-review-magazine</td>\n",
       "      <td>False</td>\n",
       "    </tr>\n",
       "    <tr>\n",
       "      <th>75</th>\n",
       "      <td>ATA (Alberta Teachers' Association)</td>\n",
       "      <td>https://archive.org/details/pub_ata-magazine</td>\n",
       "      <td>thomas.csv</td>\n",
       "      <td>https://iiif.archive.org/iiif/pub_ata-magazine...</td>\n",
       "      <td>pub_ata-magazine</td>\n",
       "      <td>False</td>\n",
       "    </tr>\n",
       "    <tr>\n",
       "      <th>76</th>\n",
       "      <td>HLM : The Howard League Magazine</td>\n",
       "      <td>https://archive.org/details/pub_hlm-the-howard...</td>\n",
       "      <td>thomas.csv</td>\n",
       "      <td>https://iiif.archive.org/iiif/pub_hlm-the-howa...</td>\n",
       "      <td>pub_hlm-the-howard-league-magazine</td>\n",
       "      <td>False</td>\n",
       "    </tr>\n",
       "    <tr>\n",
       "      <th>77</th>\n",
       "      <td>Clavier</td>\n",
       "      <td>https://archive.org/details/pub_clavier-a-maga...</td>\n",
       "      <td>thomas.csv</td>\n",
       "      <td>https://iiif.archive.org/iiif/pub_clavier-a-ma...</td>\n",
       "      <td>pub_clavier-a-magazine-for-pianists-and-organists</td>\n",
       "      <td>False</td>\n",
       "    </tr>\n",
       "  </tbody>\n",
       "</table>\n",
       "</div>"
      ],
      "text/plain": [
       "                                    Titre  \\\n",
       "73  The Small Pond Magazine of Literature   \n",
       "74            The English Review Magazine   \n",
       "75    ATA (Alberta Teachers' Association)   \n",
       "76       HLM : The Howard League Magazine   \n",
       "77                                Clavier   \n",
       "\n",
       "                                                  URL      source  \\\n",
       "73  https://archive.org/details/pub_small-pond-mag...  thomas.csv   \n",
       "74  https://archive.org/details/pub_english-review...  thomas.csv   \n",
       "75       https://archive.org/details/pub_ata-magazine  thomas.csv   \n",
       "76  https://archive.org/details/pub_hlm-the-howard...  thomas.csv   \n",
       "77  https://archive.org/details/pub_clavier-a-maga...  thomas.csv   \n",
       "\n",
       "                                                   id  \\\n",
       "73  https://iiif.archive.org/iiif/pub_small-pond-m...   \n",
       "74  https://iiif.archive.org/iiif/pub_english-revi...   \n",
       "75  https://iiif.archive.org/iiif/pub_ata-magazine...   \n",
       "76  https://iiif.archive.org/iiif/pub_hlm-the-howa...   \n",
       "77  https://iiif.archive.org/iiif/pub_clavier-a-ma...   \n",
       "\n",
       "                                           id_archive  present  \n",
       "73              pub_small-pond-magazine-of-literature    False  \n",
       "74                        pub_english-review-magazine    False  \n",
       "75                                   pub_ata-magazine    False  \n",
       "76                 pub_hlm-the-howard-league-magazine    False  \n",
       "77  pub_clavier-a-magazine-for-pianists-and-organists    False  "
      ]
     },
     "execution_count": 26,
     "metadata": {},
     "output_type": "execute_result"
    }
   ],
   "source": [
    "only_new.head()"
   ]
  },
  {
   "cell_type": "code",
   "execution_count": 27,
   "id": "8d85c293-6c11-479e-8f95-5af4f55d5f73",
   "metadata": {
    "tags": []
   },
   "outputs": [],
   "source": [
    "only_new.to_csv('archive_to_add.csv', index=False)"
   ]
  },
  {
   "cell_type": "code",
   "execution_count": 29,
   "id": "d0b0241f-7fd6-4b2c-9cc0-06c40076cf27",
   "metadata": {
    "tags": []
   },
   "outputs": [],
   "source": [
    "iiif_to_check= only_new['id']"
   ]
  },
  {
   "cell_type": "code",
   "execution_count": 30,
   "id": "bf542380-3a75-4870-8bd6-26d9745d5de9",
   "metadata": {
    "tags": []
   },
   "outputs": [],
   "source": [
    "with open('check_archive.txt', 'w') as file:\n",
    "    for item in iiif_to_check:\n",
    "        file.write(str(item) + '\\n')"
   ]
  }
 ],
 "metadata": {
  "kernelspec": {
   "display_name": "Python 3 (ipykernel)",
   "language": "python",
   "name": "python3"
  },
  "language_info": {
   "codemirror_mode": {
    "name": "ipython",
    "version": 3
   },
   "file_extension": ".py",
   "mimetype": "text/x-python",
   "name": "python",
   "nbconvert_exporter": "python",
   "pygments_lexer": "ipython3",
   "version": "3.10.8"
  }
 },
 "nbformat": 4,
 "nbformat_minor": 5
}
