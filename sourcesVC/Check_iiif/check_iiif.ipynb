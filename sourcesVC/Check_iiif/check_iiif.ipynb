{
 "cells": [
  {
   "cell_type": "markdown",
   "id": "d95a8b23-33e8-46fd-811d-d450bd0e4380",
   "metadata": {},
   "source": [
    "# Check IIIF from archive.org"
   ]
  },
  {
   "cell_type": "code",
   "execution_count": 1,
   "id": "9f1c7121-8b5d-48ff-b08c-f95cd7483ef2",
   "metadata": {
    "tags": []
   },
   "outputs": [],
   "source": [
    "import requests\n",
    "from tqdm import tqdm\n",
    "import time"
   ]
  },
  {
   "cell_type": "code",
   "execution_count": 2,
   "id": "2cc49834-b937-44f2-b35d-0d6a0ead3151",
   "metadata": {
    "tags": []
   },
   "outputs": [],
   "source": [
    "def check_url(url):\n",
    "    try:\n",
    "        response = requests.head(url, allow_redirects=True)\n",
    "        if response.status_code == 200:\n",
    "            # Write to JSON list file if status is 200\n",
    "            with open('list.txt', 'a') as json_list:\n",
    "                json_list.write(url + '\\n')\n",
    "            return f\"URL is valid and working: {url}\"\n",
    "        else:\n",
    "            return f\"URL returned non-200 status code: {url}, Status Code: {response.status_code}\"\n",
    "    except requests.RequestException as e:\n",
    "        return f\"URL request failed: {url}, Error: {str(e)}\""
   ]
  },
  {
   "cell_type": "code",
   "execution_count": 3,
   "id": "b8c73839-0d62-4075-80b6-2f4e56d7006b",
   "metadata": {
    "tags": []
   },
   "outputs": [],
   "source": [
    "# Assuming the URLs are in 'merged_itemlist_iiif.txt'\n",
    "with open('/Users/carboni/Documents/UNIGE/pynotebook/personal/sourcesVC/Original/check_archive.txt', 'r') as file:\n",
    "    urls = [line.strip() for line in file]\n",
    "\n",
    "# Log file to store the results\n",
    "log_file = \"url_check_log.txt\"\n",
    "\n",
    "# Clear or create the JSON list file\n",
    "open('list.txt', 'w').close()"
   ]
  },
  {
   "cell_type": "code",
   "execution_count": 4,
   "id": "cc7456c5-a79b-4a80-adb6-01de73e6867f",
   "metadata": {
    "tags": []
   },
   "outputs": [
    {
     "name": "stderr",
     "output_type": "stream",
     "text": [
      "Checking URLs: 100%|██████████| 113/113 [02:01<00:00,  1.07s/it]"
     ]
    },
    {
     "name": "stdout",
     "output_type": "stream",
     "text": [
      "Check complete. Results are in url_check_log.txt and valid URLs are in list.txt\n"
     ]
    },
    {
     "name": "stderr",
     "output_type": "stream",
     "text": [
      "\n"
     ]
    }
   ],
   "source": [
    "with open(log_file, 'w') as log:\n",
    "    for index, url in enumerate(tqdm(urls, desc=\"Checking URLs\")):\n",
    "        result = check_url(url)\n",
    "        if \"non-200 status code\" in result or \"failed\" in result:\n",
    "            log.write(result + '\\n')\n",
    "\n",
    "        # Pause after every 200 entries\n",
    "        if (index + 1) % 200 == 0:\n",
    "            time.sleep(60)  # Sleep for 60 seconds\n",
    "\n",
    "print(\"Check complete. Results are in url_check_log.txt and valid URLs are in list.txt\")"
   ]
  },
  {
   "cell_type": "code",
   "execution_count": null,
   "id": "9b406de3-691b-4e2a-b5aa-1b0914a27391",
   "metadata": {},
   "outputs": [],
   "source": []
  }
 ],
 "metadata": {
  "kernelspec": {
   "display_name": "Python 3 (ipykernel)",
   "language": "python",
   "name": "python3"
  },
  "language_info": {
   "codemirror_mode": {
    "name": "ipython",
    "version": 3
   },
   "file_extension": ".py",
   "mimetype": "text/x-python",
   "name": "python",
   "nbconvert_exporter": "python",
   "pygments_lexer": "ipython3",
   "version": "3.10.8"
  }
 },
 "nbformat": 4,
 "nbformat_minor": 5
}
