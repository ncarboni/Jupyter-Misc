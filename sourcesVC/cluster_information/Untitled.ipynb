{
 "cells": [
  {
   "cell_type": "code",
   "execution_count": 1,
   "id": "83af9f3f-39a6-4c90-8081-981ccee992bd",
   "metadata": {
    "tags": []
   },
   "outputs": [],
   "source": [
    "import pandas as pd\n",
    "import pydeck as pdk\n",
    "import plotly.graph_objects as go\n",
    "from shapely.wkt import loads\n",
    "import numpy as np"
   ]
  },
  {
   "cell_type": "code",
   "execution_count": 2,
   "id": "ef0e4b8b-3912-4d12-8977-9eba333d583c",
   "metadata": {},
   "outputs": [],
   "source": [
    "df = pd.read_csv('/Users/carboni/Downloads/corpus-112_images_2023-09-21_1139.csv', low_memory=False)"
   ]
  },
  {
   "cell_type": "code",
   "execution_count": 3,
   "id": "18e1b266-ecbd-4f10-a3c4-4a336d0c9d28",
   "metadata": {
    "tags": []
   },
   "outputs": [
    {
     "data": {
      "text/html": [
       "<div>\n",
       "<style scoped>\n",
       "    .dataframe tbody tr th:only-of-type {\n",
       "        vertical-align: middle;\n",
       "    }\n",
       "\n",
       "    .dataframe tbody tr th {\n",
       "        vertical-align: top;\n",
       "    }\n",
       "\n",
       "    .dataframe thead th {\n",
       "        text-align: right;\n",
       "    }\n",
       "</style>\n",
       "<table border=\"1\" class=\"dataframe\">\n",
       "  <thead>\n",
       "    <tr style=\"text-align: right;\">\n",
       "      <th></th>\n",
       "      <th>manifest_url</th>\n",
       "      <th>canvas_number</th>\n",
       "      <th>image_url</th>\n",
       "      <th>City</th>\n",
       "      <th>Country</th>\n",
       "      <th>Title</th>\n",
       "      <th>wkt</th>\n",
       "      <th>Date</th>\n",
       "      <th>Journal Type</th>\n",
       "      <th>notice</th>\n",
       "    </tr>\n",
       "  </thead>\n",
       "  <tbody>\n",
       "    <tr>\n",
       "      <th>0</th>\n",
       "      <td>https://iiif.unige.ch/dhportal/ug1649415/manifest</td>\n",
       "      <td>0.0</td>\n",
       "      <td>https://iiif.unige.ch/iiif/2/visualcontagions/...</td>\n",
       "      <td>NaN</td>\n",
       "      <td>NaN</td>\n",
       "      <td>NaN</td>\n",
       "      <td>NaN</td>\n",
       "      <td>NaN</td>\n",
       "      <td>NaN</td>\n",
       "      <td>NaN</td>\n",
       "    </tr>\n",
       "    <tr>\n",
       "      <th>1</th>\n",
       "      <td>https://iiif.unige.ch/dhportal/ug8096214/manifest</td>\n",
       "      <td>0.0</td>\n",
       "      <td>https://iiif.unige.ch/iiif/2/fedora_ug8064419/...</td>\n",
       "      <td>Tokyo</td>\n",
       "      <td>Japan</td>\n",
       "      <td>FLIX</td>\n",
       "      <td>POINT(139.69222222222 35.689722222222)</td>\n",
       "      <td>2010-06-01</td>\n",
       "      <td>Cinema</td>\n",
       "      <td>NaN</td>\n",
       "    </tr>\n",
       "  </tbody>\n",
       "</table>\n",
       "</div>"
      ],
      "text/plain": [
       "                                        manifest_url  canvas_number  \\\n",
       "0  https://iiif.unige.ch/dhportal/ug1649415/manifest            0.0   \n",
       "1  https://iiif.unige.ch/dhportal/ug8096214/manifest            0.0   \n",
       "\n",
       "                                           image_url   City Country Title  \\\n",
       "0  https://iiif.unige.ch/iiif/2/visualcontagions/...    NaN     NaN   NaN   \n",
       "1  https://iiif.unige.ch/iiif/2/fedora_ug8064419/...  Tokyo   Japan  FLIX   \n",
       "\n",
       "                                      wkt        Date Journal Type  notice  \n",
       "0                                     NaN         NaN          NaN     NaN  \n",
       "1  POINT(139.69222222222 35.689722222222)  2010-06-01       Cinema     NaN  "
      ]
     },
     "execution_count": 3,
     "metadata": {},
     "output_type": "execute_result"
    }
   ],
   "source": [
    "df.head(2)"
   ]
  },
  {
   "cell_type": "markdown",
   "id": "525ecd72-b8b8-4f8f-be85-290f87afd9a0",
   "metadata": {},
   "source": [
    "## No journal Type"
   ]
  },
  {
   "cell_type": "code",
   "execution_count": null,
   "id": "0c1ec24f-689c-4aa2-8a51-3369ab0852ae",
   "metadata": {},
   "outputs": [],
   "source": [
    "result_df = df[df[\"Journal Type\"].isna()]"
   ]
  },
  {
   "cell_type": "code",
   "execution_count": 5,
   "id": "9b25b76b-477b-4a31-ad2c-c46988ff680a",
   "metadata": {
    "tags": []
   },
   "outputs": [
    {
     "data": {
      "text/html": [
       "<div>\n",
       "<style scoped>\n",
       "    .dataframe tbody tr th:only-of-type {\n",
       "        vertical-align: middle;\n",
       "    }\n",
       "\n",
       "    .dataframe tbody tr th {\n",
       "        vertical-align: top;\n",
       "    }\n",
       "\n",
       "    .dataframe thead th {\n",
       "        text-align: right;\n",
       "    }\n",
       "</style>\n",
       "<table border=\"1\" class=\"dataframe\">\n",
       "  <thead>\n",
       "    <tr style=\"text-align: right;\">\n",
       "      <th></th>\n",
       "      <th>manifest_url</th>\n",
       "      <th>canvas_number</th>\n",
       "      <th>image_url</th>\n",
       "      <th>City</th>\n",
       "      <th>Country</th>\n",
       "      <th>Title</th>\n",
       "      <th>wkt</th>\n",
       "      <th>Date</th>\n",
       "      <th>Journal Type</th>\n",
       "      <th>notice</th>\n",
       "    </tr>\n",
       "  </thead>\n",
       "  <tbody>\n",
       "    <tr>\n",
       "      <th>0</th>\n",
       "      <td>https://iiif.unige.ch/dhportal/ug1649415/manifest</td>\n",
       "      <td>0.0</td>\n",
       "      <td>https://iiif.unige.ch/iiif/2/visualcontagions/...</td>\n",
       "      <td>NaN</td>\n",
       "      <td>NaN</td>\n",
       "      <td>NaN</td>\n",
       "      <td>NaN</td>\n",
       "      <td>NaN</td>\n",
       "      <td>NaN</td>\n",
       "      <td>NaN</td>\n",
       "    </tr>\n",
       "    <tr>\n",
       "      <th>4</th>\n",
       "      <td>https://iiif.unige.ch/dhportal/ug8043206/manifest</td>\n",
       "      <td>0.0</td>\n",
       "      <td>https://iiif.unige.ch/iiif/2/fedora_ug8068266/...</td>\n",
       "      <td>Moscow</td>\n",
       "      <td>Russia</td>\n",
       "      <td>Brigada khudozhnikov</td>\n",
       "      <td>POINT(37.617777777778 55.755833333333)</td>\n",
       "      <td>NaN</td>\n",
       "      <td>NaN</td>\n",
       "      <td>NaN</td>\n",
       "    </tr>\n",
       "    <tr>\n",
       "      <th>5</th>\n",
       "      <td>https://iiif.unige.ch/dhportal/ug410612/manifest</td>\n",
       "      <td>0.0</td>\n",
       "      <td>https://iiif.unige.ch/iiif/2/visualcontagions/...</td>\n",
       "      <td>Hamburg</td>\n",
       "      <td>Germany</td>\n",
       "      <td>Der Spiegel</td>\n",
       "      <td>POINT(10 53.55)</td>\n",
       "      <td>2020-10-26</td>\n",
       "      <td>NaN</td>\n",
       "      <td>NaN</td>\n",
       "    </tr>\n",
       "    <tr>\n",
       "      <th>6</th>\n",
       "      <td>https://iiif.unige.ch/dhportal/ug396639/manifest</td>\n",
       "      <td>0.0</td>\n",
       "      <td>https://iiif.unige.ch/iiif/2/visualcontagions/...</td>\n",
       "      <td>Hamburg</td>\n",
       "      <td>Germany</td>\n",
       "      <td>Der Spiegel</td>\n",
       "      <td>POINT(10 53.55)</td>\n",
       "      <td>2014-03-23</td>\n",
       "      <td>NaN</td>\n",
       "      <td>NaN</td>\n",
       "    </tr>\n",
       "    <tr>\n",
       "      <th>18</th>\n",
       "      <td>https://iiif.unige.ch/dhportal/ug409685/manifest</td>\n",
       "      <td>0.0</td>\n",
       "      <td>https://iiif.unige.ch/iiif/2/visualcontagions/...</td>\n",
       "      <td>Hamburg</td>\n",
       "      <td>Germany</td>\n",
       "      <td>Der Spiegel</td>\n",
       "      <td>POINT(10 53.55)</td>\n",
       "      <td>2002-03-24</td>\n",
       "      <td>NaN</td>\n",
       "      <td>NaN</td>\n",
       "    </tr>\n",
       "  </tbody>\n",
       "</table>\n",
       "</div>"
      ],
      "text/plain": [
       "                                         manifest_url  canvas_number  \\\n",
       "0   https://iiif.unige.ch/dhportal/ug1649415/manifest            0.0   \n",
       "4   https://iiif.unige.ch/dhportal/ug8043206/manifest            0.0   \n",
       "5    https://iiif.unige.ch/dhportal/ug410612/manifest            0.0   \n",
       "6    https://iiif.unige.ch/dhportal/ug396639/manifest            0.0   \n",
       "18   https://iiif.unige.ch/dhportal/ug409685/manifest            0.0   \n",
       "\n",
       "                                            image_url     City  Country  \\\n",
       "0   https://iiif.unige.ch/iiif/2/visualcontagions/...      NaN      NaN   \n",
       "4   https://iiif.unige.ch/iiif/2/fedora_ug8068266/...   Moscow   Russia   \n",
       "5   https://iiif.unige.ch/iiif/2/visualcontagions/...  Hamburg  Germany   \n",
       "6   https://iiif.unige.ch/iiif/2/visualcontagions/...  Hamburg  Germany   \n",
       "18  https://iiif.unige.ch/iiif/2/visualcontagions/...  Hamburg  Germany   \n",
       "\n",
       "                   Title                                     wkt        Date  \\\n",
       "0                    NaN                                     NaN         NaN   \n",
       "4   Brigada khudozhnikov  POINT(37.617777777778 55.755833333333)         NaN   \n",
       "5            Der Spiegel                         POINT(10 53.55)  2020-10-26   \n",
       "6            Der Spiegel                         POINT(10 53.55)  2014-03-23   \n",
       "18           Der Spiegel                         POINT(10 53.55)  2002-03-24   \n",
       "\n",
       "   Journal Type  notice  \n",
       "0           NaN     NaN  \n",
       "4           NaN     NaN  \n",
       "5           NaN     NaN  \n",
       "6           NaN     NaN  \n",
       "18          NaN     NaN  "
      ]
     },
     "execution_count": 5,
     "metadata": {},
     "output_type": "execute_result"
    }
   ],
   "source": [
    "result_df.head()"
   ]
  },
  {
   "cell_type": "code",
   "execution_count": 7,
   "id": "251f6568-f82f-4483-9c79-7b2a766356b6",
   "metadata": {
    "tags": []
   },
   "outputs": [],
   "source": [
    "result_df_1 = result_df.drop_duplicates(subset=['Title'])"
   ]
  },
  {
   "cell_type": "code",
   "execution_count": 9,
   "id": "a730ba8a-7c11-4ae4-8dc3-10bca744a3d8",
   "metadata": {
    "tags": []
   },
   "outputs": [
    {
     "name": "stdout",
     "output_type": "stream",
     "text": [
      "<class 'pandas.core.frame.DataFrame'>\n",
      "Int64Index: 1306 entries, 0 to 12863135\n",
      "Data columns (total 10 columns):\n",
      " #   Column         Non-Null Count  Dtype  \n",
      "---  ------         --------------  -----  \n",
      " 0   manifest_url   1306 non-null   object \n",
      " 1   canvas_number  1184 non-null   float64\n",
      " 2   image_url      1306 non-null   object \n",
      " 3   City           1256 non-null   object \n",
      " 4   Country        1303 non-null   object \n",
      " 5   Title          1305 non-null   object \n",
      " 6   wkt            1257 non-null   object \n",
      " 7   Date           1295 non-null   object \n",
      " 8   Journal Type   0 non-null      object \n",
      " 9   notice         0 non-null      float64\n",
      "dtypes: float64(2), object(8)\n",
      "memory usage: 112.2+ KB\n"
     ]
    }
   ],
   "source": [
    "result_df_1.info()"
   ]
  },
  {
   "cell_type": "code",
   "execution_count": 10,
   "id": "390fb572-2239-432b-8fd3-9067e1653a43",
   "metadata": {
    "tags": []
   },
   "outputs": [],
   "source": [
    "result_df_1.to_csv('no_type.csv', index=False)"
   ]
  },
  {
   "cell_type": "markdown",
   "id": "5b2e4769-6ebd-41b2-bbe9-f7f8fd99baf2",
   "metadata": {},
   "source": [
    "## All Journal Types"
   ]
  },
  {
   "cell_type": "code",
   "execution_count": 12,
   "id": "aa15de5b-f3a0-4864-86b4-ed3a060d9b1d",
   "metadata": {
    "tags": []
   },
   "outputs": [],
   "source": [
    "df['Journal Type'] = df['Journal Type'].astype(str)"
   ]
  },
  {
   "cell_type": "code",
   "execution_count": 20,
   "id": "996b3e74-eb97-4a81-b88d-517d55bc774e",
   "metadata": {
    "tags": []
   },
   "outputs": [],
   "source": [
    "df_types_1 = df[df['Journal Type'].notna()]"
   ]
  },
  {
   "cell_type": "code",
   "execution_count": 21,
   "id": "2e97d032-2d28-4a1b-bffe-e3dfc7e73c3d",
   "metadata": {
    "tags": []
   },
   "outputs": [
    {
     "data": {
      "text/html": [
       "<div>\n",
       "<style scoped>\n",
       "    .dataframe tbody tr th:only-of-type {\n",
       "        vertical-align: middle;\n",
       "    }\n",
       "\n",
       "    .dataframe tbody tr th {\n",
       "        vertical-align: top;\n",
       "    }\n",
       "\n",
       "    .dataframe thead th {\n",
       "        text-align: right;\n",
       "    }\n",
       "</style>\n",
       "<table border=\"1\" class=\"dataframe\">\n",
       "  <thead>\n",
       "    <tr style=\"text-align: right;\">\n",
       "      <th></th>\n",
       "      <th>manifest_url</th>\n",
       "      <th>canvas_number</th>\n",
       "      <th>image_url</th>\n",
       "      <th>City</th>\n",
       "      <th>Country</th>\n",
       "      <th>Title</th>\n",
       "      <th>wkt</th>\n",
       "      <th>Date</th>\n",
       "      <th>Journal Type</th>\n",
       "      <th>notice</th>\n",
       "    </tr>\n",
       "  </thead>\n",
       "  <tbody>\n",
       "    <tr>\n",
       "      <th>0</th>\n",
       "      <td>https://iiif.unige.ch/dhportal/ug1649415/manifest</td>\n",
       "      <td>0.0</td>\n",
       "      <td>https://iiif.unige.ch/iiif/2/visualcontagions/...</td>\n",
       "      <td>NaN</td>\n",
       "      <td>NaN</td>\n",
       "      <td>NaN</td>\n",
       "      <td>NaN</td>\n",
       "      <td>NaN</td>\n",
       "      <td>nan</td>\n",
       "      <td>NaN</td>\n",
       "    </tr>\n",
       "    <tr>\n",
       "      <th>1</th>\n",
       "      <td>https://iiif.unige.ch/dhportal/ug8096214/manifest</td>\n",
       "      <td>0.0</td>\n",
       "      <td>https://iiif.unige.ch/iiif/2/fedora_ug8064419/...</td>\n",
       "      <td>Tokyo</td>\n",
       "      <td>Japan</td>\n",
       "      <td>FLIX</td>\n",
       "      <td>POINT(139.69222222222 35.689722222222)</td>\n",
       "      <td>2010-06-01</td>\n",
       "      <td>Cinema</td>\n",
       "      <td>NaN</td>\n",
       "    </tr>\n",
       "    <tr>\n",
       "      <th>2</th>\n",
       "      <td>https://iiif.unige.ch/dhportal/ug8054362/manifest</td>\n",
       "      <td>0.0</td>\n",
       "      <td>https://iiif.unige.ch/iiif/2/fedora_ug8059238/...</td>\n",
       "      <td>Tokyo</td>\n",
       "      <td>Japan</td>\n",
       "      <td>FLIX</td>\n",
       "      <td>POINT(139.69222222222 35.689722222222)</td>\n",
       "      <td>2013-08-01</td>\n",
       "      <td>Cinema</td>\n",
       "      <td>NaN</td>\n",
       "    </tr>\n",
       "    <tr>\n",
       "      <th>3</th>\n",
       "      <td>https://iiif.unige.ch/dhportal/ug8079451/manifest</td>\n",
       "      <td>0.0</td>\n",
       "      <td>https://iiif.unige.ch/iiif/2/fedora_ug8102867/...</td>\n",
       "      <td>Kyiv</td>\n",
       "      <td>Ukraine</td>\n",
       "      <td>KINO</td>\n",
       "      <td>POINT(30.523611111111 50.45)</td>\n",
       "      <td>1933-05-10</td>\n",
       "      <td>Cinema</td>\n",
       "      <td>NaN</td>\n",
       "    </tr>\n",
       "    <tr>\n",
       "      <th>4</th>\n",
       "      <td>https://iiif.unige.ch/dhportal/ug8043206/manifest</td>\n",
       "      <td>0.0</td>\n",
       "      <td>https://iiif.unige.ch/iiif/2/fedora_ug8068266/...</td>\n",
       "      <td>Moscow</td>\n",
       "      <td>Russia</td>\n",
       "      <td>Brigada khudozhnikov</td>\n",
       "      <td>POINT(37.617777777778 55.755833333333)</td>\n",
       "      <td>NaN</td>\n",
       "      <td>nan</td>\n",
       "      <td>NaN</td>\n",
       "    </tr>\n",
       "  </tbody>\n",
       "</table>\n",
       "</div>"
      ],
      "text/plain": [
       "                                        manifest_url  canvas_number  \\\n",
       "0  https://iiif.unige.ch/dhportal/ug1649415/manifest            0.0   \n",
       "1  https://iiif.unige.ch/dhportal/ug8096214/manifest            0.0   \n",
       "2  https://iiif.unige.ch/dhportal/ug8054362/manifest            0.0   \n",
       "3  https://iiif.unige.ch/dhportal/ug8079451/manifest            0.0   \n",
       "4  https://iiif.unige.ch/dhportal/ug8043206/manifest            0.0   \n",
       "\n",
       "                                           image_url    City  Country  \\\n",
       "0  https://iiif.unige.ch/iiif/2/visualcontagions/...     NaN      NaN   \n",
       "1  https://iiif.unige.ch/iiif/2/fedora_ug8064419/...   Tokyo    Japan   \n",
       "2  https://iiif.unige.ch/iiif/2/fedora_ug8059238/...   Tokyo    Japan   \n",
       "3  https://iiif.unige.ch/iiif/2/fedora_ug8102867/...    Kyiv  Ukraine   \n",
       "4  https://iiif.unige.ch/iiif/2/fedora_ug8068266/...  Moscow   Russia   \n",
       "\n",
       "                  Title                                     wkt        Date  \\\n",
       "0                   NaN                                     NaN         NaN   \n",
       "1                  FLIX  POINT(139.69222222222 35.689722222222)  2010-06-01   \n",
       "2                  FLIX  POINT(139.69222222222 35.689722222222)  2013-08-01   \n",
       "3                  KINO            POINT(30.523611111111 50.45)  1933-05-10   \n",
       "4  Brigada khudozhnikov  POINT(37.617777777778 55.755833333333)         NaN   \n",
       "\n",
       "  Journal Type  notice  \n",
       "0          nan     NaN  \n",
       "1       Cinema     NaN  \n",
       "2       Cinema     NaN  \n",
       "3       Cinema     NaN  \n",
       "4          nan     NaN  "
      ]
     },
     "execution_count": 21,
     "metadata": {},
     "output_type": "execute_result"
    }
   ],
   "source": [
    "df_types_1.head()"
   ]
  },
  {
   "cell_type": "code",
   "execution_count": 13,
   "id": "d0ee3fde-efd2-41ec-b553-9bea2ff37fee",
   "metadata": {
    "tags": []
   },
   "outputs": [],
   "source": [
    "df_types = df[~df['Journal Type'].str.contains('nan')]"
   ]
  },
  {
   "cell_type": "code",
   "execution_count": 14,
   "id": "ff509f56-1519-49b6-a6c7-50ea9d8f422e",
   "metadata": {
    "tags": []
   },
   "outputs": [
    {
     "data": {
      "text/html": [
       "<div>\n",
       "<style scoped>\n",
       "    .dataframe tbody tr th:only-of-type {\n",
       "        vertical-align: middle;\n",
       "    }\n",
       "\n",
       "    .dataframe tbody tr th {\n",
       "        vertical-align: top;\n",
       "    }\n",
       "\n",
       "    .dataframe thead th {\n",
       "        text-align: right;\n",
       "    }\n",
       "</style>\n",
       "<table border=\"1\" class=\"dataframe\">\n",
       "  <thead>\n",
       "    <tr style=\"text-align: right;\">\n",
       "      <th></th>\n",
       "      <th>manifest_url</th>\n",
       "      <th>canvas_number</th>\n",
       "      <th>image_url</th>\n",
       "      <th>City</th>\n",
       "      <th>Country</th>\n",
       "      <th>Title</th>\n",
       "      <th>wkt</th>\n",
       "      <th>Date</th>\n",
       "      <th>Journal Type</th>\n",
       "      <th>notice</th>\n",
       "    </tr>\n",
       "  </thead>\n",
       "  <tbody>\n",
       "    <tr>\n",
       "      <th>1</th>\n",
       "      <td>https://iiif.unige.ch/dhportal/ug8096214/manifest</td>\n",
       "      <td>0.0</td>\n",
       "      <td>https://iiif.unige.ch/iiif/2/fedora_ug8064419/...</td>\n",
       "      <td>Tokyo</td>\n",
       "      <td>Japan</td>\n",
       "      <td>FLIX</td>\n",
       "      <td>POINT(139.69222222222 35.689722222222)</td>\n",
       "      <td>2010-06-01</td>\n",
       "      <td>Cinema</td>\n",
       "      <td>NaN</td>\n",
       "    </tr>\n",
       "    <tr>\n",
       "      <th>2</th>\n",
       "      <td>https://iiif.unige.ch/dhportal/ug8054362/manifest</td>\n",
       "      <td>0.0</td>\n",
       "      <td>https://iiif.unige.ch/iiif/2/fedora_ug8059238/...</td>\n",
       "      <td>Tokyo</td>\n",
       "      <td>Japan</td>\n",
       "      <td>FLIX</td>\n",
       "      <td>POINT(139.69222222222 35.689722222222)</td>\n",
       "      <td>2013-08-01</td>\n",
       "      <td>Cinema</td>\n",
       "      <td>NaN</td>\n",
       "    </tr>\n",
       "    <tr>\n",
       "      <th>3</th>\n",
       "      <td>https://iiif.unige.ch/dhportal/ug8079451/manifest</td>\n",
       "      <td>0.0</td>\n",
       "      <td>https://iiif.unige.ch/iiif/2/fedora_ug8102867/...</td>\n",
       "      <td>Kyiv</td>\n",
       "      <td>Ukraine</td>\n",
       "      <td>KINO</td>\n",
       "      <td>POINT(30.523611111111 50.45)</td>\n",
       "      <td>1933-05-10</td>\n",
       "      <td>Cinema</td>\n",
       "      <td>NaN</td>\n",
       "    </tr>\n",
       "    <tr>\n",
       "      <th>7</th>\n",
       "      <td>https://iiif.archivelab.org/iiif/MovieStarsPar...</td>\n",
       "      <td>NaN</td>\n",
       "      <td>https://iiif.archivelab.org/iiif/MovieStarsPar...</td>\n",
       "      <td>New York City</td>\n",
       "      <td>United States of America</td>\n",
       "      <td>Movie Stars Parade</td>\n",
       "      <td>POINT(-74 40.7)</td>\n",
       "      <td>1947-02-01</td>\n",
       "      <td>Cinema</td>\n",
       "      <td>NaN</td>\n",
       "    </tr>\n",
       "    <tr>\n",
       "      <th>8</th>\n",
       "      <td>https://iiif.unige.ch/dhportal/ug8088665/manifest</td>\n",
       "      <td>0.0</td>\n",
       "      <td>https://iiif.unige.ch/iiif/2/fedora_ug8094601/...</td>\n",
       "      <td>Tokyo</td>\n",
       "      <td>Japan</td>\n",
       "      <td>KINEMA JUNPO</td>\n",
       "      <td>POINT(139.69222222222 35.689722222222)</td>\n",
       "      <td>2018-10-15</td>\n",
       "      <td>Cinema</td>\n",
       "      <td>NaN</td>\n",
       "    </tr>\n",
       "  </tbody>\n",
       "</table>\n",
       "</div>"
      ],
      "text/plain": [
       "                                        manifest_url  canvas_number  \\\n",
       "1  https://iiif.unige.ch/dhportal/ug8096214/manifest            0.0   \n",
       "2  https://iiif.unige.ch/dhportal/ug8054362/manifest            0.0   \n",
       "3  https://iiif.unige.ch/dhportal/ug8079451/manifest            0.0   \n",
       "7  https://iiif.archivelab.org/iiif/MovieStarsPar...            NaN   \n",
       "8  https://iiif.unige.ch/dhportal/ug8088665/manifest            0.0   \n",
       "\n",
       "                                           image_url           City  \\\n",
       "1  https://iiif.unige.ch/iiif/2/fedora_ug8064419/...          Tokyo   \n",
       "2  https://iiif.unige.ch/iiif/2/fedora_ug8059238/...          Tokyo   \n",
       "3  https://iiif.unige.ch/iiif/2/fedora_ug8102867/...           Kyiv   \n",
       "7  https://iiif.archivelab.org/iiif/MovieStarsPar...  New York City   \n",
       "8  https://iiif.unige.ch/iiif/2/fedora_ug8094601/...          Tokyo   \n",
       "\n",
       "                    Country               Title  \\\n",
       "1                     Japan                FLIX   \n",
       "2                     Japan                FLIX   \n",
       "3                   Ukraine                KINO   \n",
       "7  United States of America  Movie Stars Parade   \n",
       "8                     Japan        KINEMA JUNPO   \n",
       "\n",
       "                                      wkt        Date Journal Type  notice  \n",
       "1  POINT(139.69222222222 35.689722222222)  2010-06-01       Cinema     NaN  \n",
       "2  POINT(139.69222222222 35.689722222222)  2013-08-01       Cinema     NaN  \n",
       "3            POINT(30.523611111111 50.45)  1933-05-10       Cinema     NaN  \n",
       "7                         POINT(-74 40.7)  1947-02-01       Cinema     NaN  \n",
       "8  POINT(139.69222222222 35.689722222222)  2018-10-15       Cinema     NaN  "
      ]
     },
     "execution_count": 14,
     "metadata": {},
     "output_type": "execute_result"
    }
   ],
   "source": [
    "df_types.head()"
   ]
  },
  {
   "cell_type": "code",
   "execution_count": 22,
   "id": "115de9f5-28e1-437a-bdd2-e90494c10dc3",
   "metadata": {
    "tags": []
   },
   "outputs": [],
   "source": [
    "all_types_1 = df_types_1.drop_duplicates(subset=['Journal Type'])"
   ]
  },
  {
   "cell_type": "code",
   "execution_count": 23,
   "id": "687329fc-c2ef-4530-a5e2-8d4c62679d7d",
   "metadata": {
    "tags": []
   },
   "outputs": [],
   "source": [
    "all_types_1.to_csv('all_type.csv', index=False)"
   ]
  }
 ],
 "metadata": {
  "kernelspec": {
   "display_name": "Python 3 (ipykernel)",
   "language": "python",
   "name": "python3"
  },
  "language_info": {
   "codemirror_mode": {
    "name": "ipython",
    "version": 3
   },
   "file_extension": ".py",
   "mimetype": "text/x-python",
   "name": "python",
   "nbconvert_exporter": "python",
   "pygments_lexer": "ipython3",
   "version": "3.10.8"
  }
 },
 "nbformat": 4,
 "nbformat_minor": 5
}
