{
 "cells": [
  {
   "cell_type": "markdown",
   "id": "219bb878-f178-46c0-8cd4-d36f1c6b0664",
   "metadata": {},
   "source": [
    "# Extract numbers of cities/countries from cluster information"
   ]
  },
  {
   "cell_type": "code",
   "execution_count": 1,
   "id": "56b341ef-0613-4bf1-9eaf-8f20269c5291",
   "metadata": {},
   "outputs": [],
   "source": [
    "import pandas as pd"
   ]
  },
  {
   "cell_type": "code",
   "execution_count": 2,
   "id": "7c68b7a8-0e80-4aa9-84ff-46c2b6911450",
   "metadata": {},
   "outputs": [],
   "source": [
    "df = pd.read_csv('/Users/carboni/Downloads/corpus-112_images_2023-09-21_1139.csv', low_memory=False)"
   ]
  },
  {
   "cell_type": "code",
   "execution_count": 3,
   "id": "96ece457-472f-4ed8-81ea-b6a1b02f9350",
   "metadata": {},
   "outputs": [
    {
     "data": {
      "text/html": [
       "<div>\n",
       "<style scoped>\n",
       "    .dataframe tbody tr th:only-of-type {\n",
       "        vertical-align: middle;\n",
       "    }\n",
       "\n",
       "    .dataframe tbody tr th {\n",
       "        vertical-align: top;\n",
       "    }\n",
       "\n",
       "    .dataframe thead th {\n",
       "        text-align: right;\n",
       "    }\n",
       "</style>\n",
       "<table border=\"1\" class=\"dataframe\">\n",
       "  <thead>\n",
       "    <tr style=\"text-align: right;\">\n",
       "      <th></th>\n",
       "      <th>manifest_url</th>\n",
       "      <th>canvas_number</th>\n",
       "      <th>image_url</th>\n",
       "      <th>City</th>\n",
       "      <th>Country</th>\n",
       "      <th>Title</th>\n",
       "      <th>wkt</th>\n",
       "      <th>Date</th>\n",
       "      <th>Journal Type</th>\n",
       "      <th>notice</th>\n",
       "    </tr>\n",
       "  </thead>\n",
       "  <tbody>\n",
       "    <tr>\n",
       "      <th>0</th>\n",
       "      <td>https://iiif.unige.ch/dhportal/ug1649415/manifest</td>\n",
       "      <td>0.0</td>\n",
       "      <td>https://iiif.unige.ch/iiif/2/visualcontagions/...</td>\n",
       "      <td>NaN</td>\n",
       "      <td>NaN</td>\n",
       "      <td>NaN</td>\n",
       "      <td>NaN</td>\n",
       "      <td>NaN</td>\n",
       "      <td>NaN</td>\n",
       "      <td>NaN</td>\n",
       "    </tr>\n",
       "    <tr>\n",
       "      <th>1</th>\n",
       "      <td>https://iiif.unige.ch/dhportal/ug8096214/manifest</td>\n",
       "      <td>0.0</td>\n",
       "      <td>https://iiif.unige.ch/iiif/2/fedora_ug8064419/...</td>\n",
       "      <td>Tokyo</td>\n",
       "      <td>Japan</td>\n",
       "      <td>FLIX</td>\n",
       "      <td>POINT(139.69222222222 35.689722222222)</td>\n",
       "      <td>2010-06-01</td>\n",
       "      <td>Cinema</td>\n",
       "      <td>NaN</td>\n",
       "    </tr>\n",
       "    <tr>\n",
       "      <th>2</th>\n",
       "      <td>https://iiif.unige.ch/dhportal/ug8054362/manifest</td>\n",
       "      <td>0.0</td>\n",
       "      <td>https://iiif.unige.ch/iiif/2/fedora_ug8059238/...</td>\n",
       "      <td>Tokyo</td>\n",
       "      <td>Japan</td>\n",
       "      <td>FLIX</td>\n",
       "      <td>POINT(139.69222222222 35.689722222222)</td>\n",
       "      <td>2013-08-01</td>\n",
       "      <td>Cinema</td>\n",
       "      <td>NaN</td>\n",
       "    </tr>\n",
       "    <tr>\n",
       "      <th>3</th>\n",
       "      <td>https://iiif.unige.ch/dhportal/ug8079451/manifest</td>\n",
       "      <td>0.0</td>\n",
       "      <td>https://iiif.unige.ch/iiif/2/fedora_ug8102867/...</td>\n",
       "      <td>Kyiv</td>\n",
       "      <td>Ukraine</td>\n",
       "      <td>KINO</td>\n",
       "      <td>POINT(30.523611111111 50.45)</td>\n",
       "      <td>1933-05-10</td>\n",
       "      <td>Cinema</td>\n",
       "      <td>NaN</td>\n",
       "    </tr>\n",
       "    <tr>\n",
       "      <th>4</th>\n",
       "      <td>https://iiif.unige.ch/dhportal/ug8043206/manifest</td>\n",
       "      <td>0.0</td>\n",
       "      <td>https://iiif.unige.ch/iiif/2/fedora_ug8068266/...</td>\n",
       "      <td>Moscow</td>\n",
       "      <td>Russia</td>\n",
       "      <td>Brigada khudozhnikov</td>\n",
       "      <td>POINT(37.617777777778 55.755833333333)</td>\n",
       "      <td>NaN</td>\n",
       "      <td>NaN</td>\n",
       "      <td>NaN</td>\n",
       "    </tr>\n",
       "  </tbody>\n",
       "</table>\n",
       "</div>"
      ],
      "text/plain": [
       "                                        manifest_url  canvas_number  \\\n",
       "0  https://iiif.unige.ch/dhportal/ug1649415/manifest            0.0   \n",
       "1  https://iiif.unige.ch/dhportal/ug8096214/manifest            0.0   \n",
       "2  https://iiif.unige.ch/dhportal/ug8054362/manifest            0.0   \n",
       "3  https://iiif.unige.ch/dhportal/ug8079451/manifest            0.0   \n",
       "4  https://iiif.unige.ch/dhportal/ug8043206/manifest            0.0   \n",
       "\n",
       "                                           image_url    City  Country  \\\n",
       "0  https://iiif.unige.ch/iiif/2/visualcontagions/...     NaN      NaN   \n",
       "1  https://iiif.unige.ch/iiif/2/fedora_ug8064419/...   Tokyo    Japan   \n",
       "2  https://iiif.unige.ch/iiif/2/fedora_ug8059238/...   Tokyo    Japan   \n",
       "3  https://iiif.unige.ch/iiif/2/fedora_ug8102867/...    Kyiv  Ukraine   \n",
       "4  https://iiif.unige.ch/iiif/2/fedora_ug8068266/...  Moscow   Russia   \n",
       "\n",
       "                  Title                                     wkt        Date  \\\n",
       "0                   NaN                                     NaN         NaN   \n",
       "1                  FLIX  POINT(139.69222222222 35.689722222222)  2010-06-01   \n",
       "2                  FLIX  POINT(139.69222222222 35.689722222222)  2013-08-01   \n",
       "3                  KINO            POINT(30.523611111111 50.45)  1933-05-10   \n",
       "4  Brigada khudozhnikov  POINT(37.617777777778 55.755833333333)         NaN   \n",
       "\n",
       "  Journal Type  notice  \n",
       "0          NaN     NaN  \n",
       "1       Cinema     NaN  \n",
       "2       Cinema     NaN  \n",
       "3       Cinema     NaN  \n",
       "4          NaN     NaN  "
      ]
     },
     "execution_count": 3,
     "metadata": {},
     "output_type": "execute_result"
    }
   ],
   "source": [
    "df.head()"
   ]
  },
  {
   "cell_type": "code",
   "execution_count": 4,
   "id": "de87c020-d142-44e1-a973-a0a8eda75190",
   "metadata": {},
   "outputs": [
    {
     "data": {
      "text/plain": [
       "4433"
      ]
     },
     "execution_count": 4,
     "metadata": {},
     "output_type": "execute_result"
    }
   ],
   "source": [
    "df[\"Title\"].nunique()"
   ]
  },
  {
   "cell_type": "code",
   "execution_count": 5,
   "id": "18e47ba4-07d9-4fc5-8b26-63fbc1a95996",
   "metadata": {},
   "outputs": [
    {
     "data": {
      "text/plain": [
       "50"
      ]
     },
     "execution_count": 5,
     "metadata": {},
     "output_type": "execute_result"
    }
   ],
   "source": [
    "df[\"Country\"].nunique()"
   ]
  },
  {
   "cell_type": "code",
   "execution_count": 6,
   "id": "6b80df44-a6ea-450c-ae13-995aad9be7e7",
   "metadata": {},
   "outputs": [
    {
     "data": {
      "text/plain": [
       "1179"
      ]
     },
     "execution_count": 6,
     "metadata": {},
     "output_type": "execute_result"
    }
   ],
   "source": [
    "df[\"City\"].nunique()"
   ]
  },
  {
   "cell_type": "code",
   "execution_count": 9,
   "id": "35fbf5c3-edaa-4ae7-aba1-0729cc06bdde",
   "metadata": {},
   "outputs": [],
   "source": [
    "df['Date'] =  pd.to_datetime(df['Date'])"
   ]
  },
  {
   "cell_type": "code",
   "execution_count": 10,
   "id": "6070c574-8388-46d8-958f-e297e9909caa",
   "metadata": {},
   "outputs": [
    {
     "data": {
      "text/plain": [
       "Timestamp('1797-11-29 00:00:00')"
      ]
     },
     "execution_count": 10,
     "metadata": {},
     "output_type": "execute_result"
    }
   ],
   "source": [
    "df['Date'].min()"
   ]
  },
  {
   "cell_type": "code",
   "execution_count": 11,
   "id": "8d205afc-7e58-46d7-8116-f8c964a762a5",
   "metadata": {},
   "outputs": [
    {
     "data": {
      "text/plain": [
       "Timestamp('2021-12-01 00:00:00')"
      ]
     },
     "execution_count": 11,
     "metadata": {},
     "output_type": "execute_result"
    }
   ],
   "source": [
    "df['Date'].max()"
   ]
  },
  {
   "cell_type": "code",
   "execution_count": 12,
   "id": "93e740a4-f20c-46c9-a23f-38bb750ade02",
   "metadata": {},
   "outputs": [
    {
     "data": {
      "text/plain": [
       "12721736"
      ]
     },
     "execution_count": 12,
     "metadata": {},
     "output_type": "execute_result"
    }
   ],
   "source": [
    "df[\"image_url\"].nunique()"
   ]
  }
 ],
 "metadata": {
  "kernelspec": {
   "display_name": "Python 3 (ipykernel)",
   "language": "python",
   "name": "python3"
  },
  "language_info": {
   "codemirror_mode": {
    "name": "ipython",
    "version": 3
   },
   "file_extension": ".py",
   "mimetype": "text/x-python",
   "name": "python",
   "nbconvert_exporter": "python",
   "pygments_lexer": "ipython3",
   "version": "3.10.8"
  }
 },
 "nbformat": 4,
 "nbformat_minor": 5
}
