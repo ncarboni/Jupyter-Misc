{
 "cells": [
  {
   "cell_type": "markdown",
   "id": "7e237639-21f5-4d12-ae72-a74eea9a744b",
   "metadata": {},
   "source": [
    "# Zenith transform to PDF"
   ]
  },
  {
   "cell_type": "code",
   "execution_count": 4,
   "id": "f4f2504b-e845-4272-8c97-3feacc13b6b0",
   "metadata": {
    "tags": []
   },
   "outputs": [],
   "source": [
    "from PIL import Image\n",
    "from fpdf import FPDF\n",
    "import os"
   ]
  },
  {
   "cell_type": "code",
   "execution_count": 9,
   "id": "7a4758b2-7e47-4c3f-825c-7e44f10e719a",
   "metadata": {
    "tags": []
   },
   "outputs": [
    {
     "name": "stdout",
     "output_type": "stream",
     "text": [
      "Process completed successfully.\n"
     ]
    }
   ],
   "source": [
    "import os\n",
    "from PIL import Image\n",
    "\n",
    "# Define the path to your directory\n",
    "base_path = '/Users/carboni/Downloads/test_zenith'\n",
    "\n",
    "# Loop through each folder in the base directory\n",
    "for folder_name in os.listdir(base_path):\n",
    "    folder_path = os.path.join(base_path, folder_name)\n",
    "\n",
    "    # Check if the item in the directory is a folder\n",
    "    if os.path.isdir(folder_path):\n",
    "        # Get a list of image files in the folder\n",
    "        image_files = [f for f in os.listdir(folder_path) if f.endswith('.jp2')]\n",
    "        image_files.sort(key=lambda x: int(x.split('_')[1].split('.')[0]))  # Sort files numerically\n",
    "        \n",
    "        # Create a list to store the images\n",
    "        images = [Image.open(os.path.join(folder_path, image_file)) for image_file in image_files]\n",
    "\n",
    "        # Define the path for the output PDF\n",
    "        output_pdf_path = os.path.join(folder_path, f'{folder_name}.pdf')\n",
    "\n",
    "        # Save the images as a PDF\n",
    "        images[0].save(output_pdf_path, save_all=True, append_images=images[1:])\n",
    "\n",
    "        # Close all image files\n",
    "        [img.close() for img in images]\n",
    "\n",
    "print(\"Process completed successfully.\")\n"
   ]
  }
 ],
 "metadata": {
  "kernelspec": {
   "display_name": "Python 3 (ipykernel)",
   "language": "python",
   "name": "python3"
  },
  "language_info": {
   "codemirror_mode": {
    "name": "ipython",
    "version": 3
   },
   "file_extension": ".py",
   "mimetype": "text/x-python",
   "name": "python",
   "nbconvert_exporter": "python",
   "pygments_lexer": "ipython3",
   "version": "3.10.8"
  }
 },
 "nbformat": 4,
 "nbformat_minor": 5
}
