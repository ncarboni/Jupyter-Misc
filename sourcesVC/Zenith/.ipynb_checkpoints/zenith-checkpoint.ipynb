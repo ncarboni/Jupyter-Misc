{
 "cells": [
  {
   "cell_type": "code",
   "execution_count": 1,
   "id": "123b22d3-fa59-4014-8529-2aa0daef7f8c",
   "metadata": {
    "tags": []
   },
   "outputs": [],
   "source": [
    "from bs4 import BeautifulSoup\n",
    "import pandas as pd\n",
    "import re\n",
    "import requests\n",
    "import os"
   ]
  },
  {
   "cell_type": "code",
   "execution_count": 2,
   "id": "d8d686ef-e7ee-402d-8453-1b9050582ee1",
   "metadata": {
    "tags": []
   },
   "outputs": [
    {
     "name": "stdout",
     "output_type": "stream",
     "text": [
      "                                             Value  Pages  \\\n",
      "0   https://www.loc.gov/resource/gdcwdl.wdl_02320/     16   \n",
      "1   https://www.loc.gov/resource/gdcwdl.wdl_02321/     20   \n",
      "2   https://www.loc.gov/resource/gdcwdl.wdl_02322/     16   \n",
      "3   https://www.loc.gov/resource/gdcwdl.wdl_02323/     16   \n",
      "4   https://www.loc.gov/resource/gdcwdl.wdl_02324/     16   \n",
      "5   https://www.loc.gov/resource/gdcwdl.wdl_02325/     16   \n",
      "6   https://www.loc.gov/resource/gdcwdl.wdl_02326/     16   \n",
      "7   https://www.loc.gov/resource/gdcwdl.wdl_02327/     16   \n",
      "8   https://www.loc.gov/resource/gdcwdl.wdl_02328/     16   \n",
      "9   https://www.loc.gov/resource/gdcwdl.wdl_02329/     16   \n",
      "10  https://www.loc.gov/resource/gdcwdl.wdl_02330/     10   \n",
      "11  https://www.loc.gov/resource/gdcwdl.wdl_02331/     12   \n",
      "12  https://www.loc.gov/resource/gdcwdl.wdl_02332/     12   \n",
      "13  https://www.loc.gov/resource/gdcwdl.wdl_02333/     12   \n",
      "14  https://www.loc.gov/resource/gdcwdl.wdl_02334/     12   \n",
      "15  https://www.loc.gov/resource/gdcwdl.wdl_02335/      8   \n",
      "16  https://www.loc.gov/resource/gdcwdl.wdl_02336/     24   \n",
      "17  https://www.loc.gov/resource/gdcwdl.wdl_02338/      8   \n",
      "18  https://www.loc.gov/resource/gdcwdl.wdl_02340/     12   \n",
      "19  https://www.loc.gov/resource/gdcwdl.wdl_02341/      8   \n",
      "20  https://www.loc.gov/resource/gdcwdl.wdl_02342/      8   \n",
      "21  https://www.loc.gov/resource/gdcwdl.wdl_02343/      8   \n",
      "22  https://www.loc.gov/resource/gdcwdl.wdl_02344/     12   \n",
      "23  https://www.loc.gov/resource/gdcwdl.wdl_02345/     32   \n",
      "24  https://www.loc.gov/resource/gdcwdl.wdl_02353/     16   \n",
      "25  https://www.loc.gov/resource/gdcwdl.wdl_02354/     16   \n",
      "26  https://www.loc.gov/resource/gdcwdl.wdl_02355/     24   \n",
      "27  https://www.loc.gov/resource/gdcwdl.wdl_02356/     24   \n",
      "28  https://www.loc.gov/resource/gdcwdl.wdl_02357/     40   \n",
      "29  https://www.loc.gov/resource/gdcwdl.wdl_02358/     36   \n",
      "30  https://www.loc.gov/resource/gdcwdl.wdl_02359/     36   \n",
      "31  https://www.loc.gov/resource/gdcwdl.wdl_02360/     36   \n",
      "32  https://www.loc.gov/resource/gdcwdl.wdl_02361/     20   \n",
      "33  https://www.loc.gov/resource/gdcwdl.wdl_02362/     26   \n",
      "\n",
      "                                               Text  \n",
      "0                Number 1, February 1921 - 16 pages  \n",
      "1                   Number 2, March 1921 - 20 pages  \n",
      "2                   Number 3, April 1921 - 16 pages  \n",
      "3                     Number 4, May 1921 - 16 pages  \n",
      "4                    Number 5, June 1921 - 16 pages  \n",
      "5                    Number 6, July 1921 - 16 pages  \n",
      "6               Number 7, September 1921 - 16 pages  \n",
      "7                 Number 8, October 1921 - 16 pages  \n",
      "8                Number 9, November 1921 - 16 pages  \n",
      "9               Number 10, December 1921 - 16 pages  \n",
      "10              Number 11, February 1922 - 10 pages  \n",
      "11                 Number 12, March 1922 - 12 pages  \n",
      "12                 Number 13, April 1922 - 12 pages  \n",
      "13                   Number 14, May 1922 - 12 pages  \n",
      "14                  Number 15, June 1922 - 12 pages  \n",
      "15                   Number 16, July 1922 - 8 pages  \n",
      "16  Number 17/18, September/October 1922 - 24 pages  \n",
      "17   Number 19/20, November/December 1922 - 8 pages  \n",
      "18              Number 21, February 1923 - 12 pages  \n",
      "19                  Number 22, March 1923 - 8 pages  \n",
      "20                  Number 23, April 1923 - 8 pages  \n",
      "21                    Number 24, May 1923 - 8 pages  \n",
      "22              Number 25, February 1924 - 12 pages  \n",
      "23            Number 26-33, October 1924 - 32 pages  \n",
      "24              Number 34, November 1924 - 16 pages  \n",
      "25              Number 35, December 1924 - 16 pages  \n",
      "26               Number 36, October 1925 - 24 pages  \n",
      "27     Number 37, November/December 1925 - 24 pages  \n",
      "28              Number 38, February 1926 - 40 pages  \n",
      "29                 Number 39, March 1926 - 36 pages  \n",
      "30                 Number 40, April 1926 - 36 pages  \n",
      "31                   Number 41, May 1926 - 36 pages  \n",
      "32                  Number 42, July 1926 - 20 pages  \n",
      "33              Number 43, December 1926 - 26 pages  \n"
     ]
    }
   ],
   "source": [
    "# Define your XML content\n",
    "xml_data = '''\n",
    "<select class=\"sort select-default \" id=\"multivolume_1\" name=\"multi-volume-select\" style=\"width: 100%; color: #242424;\">\n",
    "\t<option value=\"https://www.loc.gov/resource/gdcwdl.wdl_02320/\">Number 1, February 1921 - 16 pages</option>\n",
    "\t<option value=\"https://www.loc.gov/resource/gdcwdl.wdl_02321/\">Number 2, March 1921 - 20 pages</option>\n",
    "\t<option value=\"https://www.loc.gov/resource/gdcwdl.wdl_02322/\">Number 3, April 1921 - 16 pages</option>\n",
    "\t<option value=\"https://www.loc.gov/resource/gdcwdl.wdl_02323/\">Number 4, May 1921 - 16 pages</option>\n",
    "\t<option value=\"https://www.loc.gov/resource/gdcwdl.wdl_02324/\">Number 5, June 1921 - 16 pages</option>\n",
    "\t<option value=\"https://www.loc.gov/resource/gdcwdl.wdl_02325/\">Number 6, July 1921 - 16 pages</option>\n",
    "\t<option value=\"https://www.loc.gov/resource/gdcwdl.wdl_02326/\">Number 7, September 1921 - 16 pages</option>\n",
    "\t<option value=\"https://www.loc.gov/resource/gdcwdl.wdl_02327/\">Number 8, October 1921 - 16 pages</option>\n",
    "\t<option value=\"https://www.loc.gov/resource/gdcwdl.wdl_02328/\">Number 9, November 1921 - 16 pages</option>\n",
    "\t<option value=\"https://www.loc.gov/resource/gdcwdl.wdl_02329/\">Number 10, December 1921 - 16 pages</option>\n",
    "\t<option value=\"https://www.loc.gov/resource/gdcwdl.wdl_02330/\">Number 11, February 1922 - 10 pages</option>\n",
    "\t<option value=\"https://www.loc.gov/resource/gdcwdl.wdl_02331/\">Number 12, March 1922 - 12 pages</option>\n",
    "\t<option value=\"https://www.loc.gov/resource/gdcwdl.wdl_02332/\">Number 13, April 1922 - 12 pages</option>\n",
    "\t<option value=\"https://www.loc.gov/resource/gdcwdl.wdl_02333/\">Number 14, May 1922 - 12 pages</option>\n",
    "\t<option value=\"https://www.loc.gov/resource/gdcwdl.wdl_02334/\">Number 15, June 1922 - 12 pages</option>\n",
    "\t<option value=\"https://www.loc.gov/resource/gdcwdl.wdl_02335/\">Number 16, July 1922 - 8 pages</option>\n",
    "\t<option value=\"https://www.loc.gov/resource/gdcwdl.wdl_02336/\">Number 17/18, September/October 1922 - 24 pages</option>\n",
    "\t<option value=\"https://www.loc.gov/resource/gdcwdl.wdl_02338/\">Number 19/20, November/December 1922 - 8 pages</option>\n",
    "\t<option value=\"https://www.loc.gov/resource/gdcwdl.wdl_02340/\">Number 21, February 1923 - 12 pages</option>\n",
    "\t<option value=\"https://www.loc.gov/resource/gdcwdl.wdl_02341/\">Number 22, March 1923 - 8 pages</option>\n",
    "\t<option value=\"https://www.loc.gov/resource/gdcwdl.wdl_02342/\">Number 23, April 1923 - 8 pages</option>\n",
    "\t<option value=\"https://www.loc.gov/resource/gdcwdl.wdl_02343/\">Number 24, May 1923 - 8 pages</option>\n",
    "\t<option value=\"https://www.loc.gov/resource/gdcwdl.wdl_02344/\">Number 25, February 1924 - 12 pages</option>\n",
    "\t<option value=\"https://www.loc.gov/resource/gdcwdl.wdl_02345/\">Number 26-33, October 1924 - 32 pages</option>\n",
    "\t<option value=\"https://www.loc.gov/resource/gdcwdl.wdl_02353/\">Number 34, November 1924 - 16 pages</option>\n",
    "\t<option value=\"https://www.loc.gov/resource/gdcwdl.wdl_02354/\">Number 35, December 1924 - 16 pages</option>\n",
    "\t<option value=\"https://www.loc.gov/resource/gdcwdl.wdl_02355/\">Number 36, October 1925 - 24 pages</option>\n",
    "\t<option value=\"https://www.loc.gov/resource/gdcwdl.wdl_02356/\">Number 37, November/December 1925 - 24 pages</option>\n",
    "\t<option value=\"https://www.loc.gov/resource/gdcwdl.wdl_02357/\">Number 38, February 1926 - 40 pages</option>\n",
    "\t<option value=\"https://www.loc.gov/resource/gdcwdl.wdl_02358/\">Number 39, March 1926 - 36 pages</option>\n",
    "\t<option value=\"https://www.loc.gov/resource/gdcwdl.wdl_02359/\">Number 40, April 1926 - 36 pages</option>\n",
    "\t<option value=\"https://www.loc.gov/resource/gdcwdl.wdl_02360/\">Number 41, May 1926 - 36 pages</option>\n",
    "\t<option value=\"https://www.loc.gov/resource/gdcwdl.wdl_02361/\">Number 42, July 1926 - 20 pages</option>\n",
    "\t<option value=\"https://www.loc.gov/resource/gdcwdl.wdl_02362/\">Number 43, December 1926 - 26 pages</option>\n",
    "</select>\n",
    "'''\n",
    "\n",
    "\n",
    "# Parse the XML\n",
    "soup = BeautifulSoup(xml_data, 'html.parser')\n",
    "\n",
    "# Initialize lists to store extracted information\n",
    "value_list = []\n",
    "pages_list = []\n",
    "text_list = []\n",
    "\n",
    "# Iterate through each option tag\n",
    "for option in soup.find_all('option'):\n",
    "    value = option['value']\n",
    "    text = option.text.strip()\n",
    "    pages = int(text.split('-')[-1].strip().split()[0])  # Extract last two digits\n",
    "    \n",
    "    value_list.append(value)\n",
    "    pages_list.append(pages)\n",
    "    text_list.append(text)\n",
    "\n",
    "# Create a DataFrame\n",
    "import pandas as pd\n",
    "\n",
    "df = pd.DataFrame({\n",
    "    'Value': value_list,\n",
    "    'Pages': pages_list,\n",
    "    'Text': text_list\n",
    "})\n",
    "\n",
    "print(df)"
   ]
  },
  {
   "cell_type": "code",
   "execution_count": 3,
   "id": "8b5c5a8d-02fa-424f-a57d-dc03f8116b3b",
   "metadata": {
    "tags": []
   },
   "outputs": [],
   "source": [
    "# Extract the last part of the URL and store it in 'id'\n",
    "df['id'] = df['Value'].str.extract(r'(\\d+)')"
   ]
  },
  {
   "cell_type": "code",
   "execution_count": 4,
   "id": "57c9ae3a-1003-44b1-8545-8b48d5b16f2b",
   "metadata": {
    "tags": []
   },
   "outputs": [],
   "source": [
    "df['id_cut'] = df['id'].apply(lambda x: f\"/{x[:2]}/{x[2:4]}/{x[4:]}\")"
   ]
  },
  {
   "cell_type": "code",
   "execution_count": 5,
   "id": "cc306fb2-58f2-45ca-96bf-f3f3dfabbfe6",
   "metadata": {
    "tags": []
   },
   "outputs": [],
   "source": [
    "df[\"link\"] = \"https://tile.loc.gov/storage-services/service/gdc/gdcwdl/wd/l_\" + df['id_cut'] + \"/wdl_\" + df['id'] + \"/\""
   ]
  },
  {
   "cell_type": "code",
   "execution_count": 6,
   "id": "303d93d0-1556-48aa-80a0-05fbff4e20a1",
   "metadata": {
    "tags": []
   },
   "outputs": [
    {
     "data": {
      "text/html": [
       "<div>\n",
       "<style scoped>\n",
       "    .dataframe tbody tr th:only-of-type {\n",
       "        vertical-align: middle;\n",
       "    }\n",
       "\n",
       "    .dataframe tbody tr th {\n",
       "        vertical-align: top;\n",
       "    }\n",
       "\n",
       "    .dataframe thead th {\n",
       "        text-align: right;\n",
       "    }\n",
       "</style>\n",
       "<table border=\"1\" class=\"dataframe\">\n",
       "  <thead>\n",
       "    <tr style=\"text-align: right;\">\n",
       "      <th></th>\n",
       "      <th>Value</th>\n",
       "      <th>Pages</th>\n",
       "      <th>Text</th>\n",
       "      <th>id</th>\n",
       "      <th>id_cut</th>\n",
       "      <th>link</th>\n",
       "    </tr>\n",
       "  </thead>\n",
       "  <tbody>\n",
       "    <tr>\n",
       "      <th>0</th>\n",
       "      <td>https://www.loc.gov/resource/gdcwdl.wdl_02320/</td>\n",
       "      <td>16</td>\n",
       "      <td>Number 1, February 1921 - 16 pages</td>\n",
       "      <td>02320</td>\n",
       "      <td>/02/32/0</td>\n",
       "      <td>https://tile.loc.gov/storage-services/service/...</td>\n",
       "    </tr>\n",
       "    <tr>\n",
       "      <th>1</th>\n",
       "      <td>https://www.loc.gov/resource/gdcwdl.wdl_02321/</td>\n",
       "      <td>20</td>\n",
       "      <td>Number 2, March 1921 - 20 pages</td>\n",
       "      <td>02321</td>\n",
       "      <td>/02/32/1</td>\n",
       "      <td>https://tile.loc.gov/storage-services/service/...</td>\n",
       "    </tr>\n",
       "    <tr>\n",
       "      <th>2</th>\n",
       "      <td>https://www.loc.gov/resource/gdcwdl.wdl_02322/</td>\n",
       "      <td>16</td>\n",
       "      <td>Number 3, April 1921 - 16 pages</td>\n",
       "      <td>02322</td>\n",
       "      <td>/02/32/2</td>\n",
       "      <td>https://tile.loc.gov/storage-services/service/...</td>\n",
       "    </tr>\n",
       "    <tr>\n",
       "      <th>3</th>\n",
       "      <td>https://www.loc.gov/resource/gdcwdl.wdl_02323/</td>\n",
       "      <td>16</td>\n",
       "      <td>Number 4, May 1921 - 16 pages</td>\n",
       "      <td>02323</td>\n",
       "      <td>/02/32/3</td>\n",
       "      <td>https://tile.loc.gov/storage-services/service/...</td>\n",
       "    </tr>\n",
       "    <tr>\n",
       "      <th>4</th>\n",
       "      <td>https://www.loc.gov/resource/gdcwdl.wdl_02324/</td>\n",
       "      <td>16</td>\n",
       "      <td>Number 5, June 1921 - 16 pages</td>\n",
       "      <td>02324</td>\n",
       "      <td>/02/32/4</td>\n",
       "      <td>https://tile.loc.gov/storage-services/service/...</td>\n",
       "    </tr>\n",
       "  </tbody>\n",
       "</table>\n",
       "</div>"
      ],
      "text/plain": [
       "                                            Value  Pages  \\\n",
       "0  https://www.loc.gov/resource/gdcwdl.wdl_02320/     16   \n",
       "1  https://www.loc.gov/resource/gdcwdl.wdl_02321/     20   \n",
       "2  https://www.loc.gov/resource/gdcwdl.wdl_02322/     16   \n",
       "3  https://www.loc.gov/resource/gdcwdl.wdl_02323/     16   \n",
       "4  https://www.loc.gov/resource/gdcwdl.wdl_02324/     16   \n",
       "\n",
       "                                 Text     id    id_cut  \\\n",
       "0  Number 1, February 1921 - 16 pages  02320  /02/32/0   \n",
       "1     Number 2, March 1921 - 20 pages  02321  /02/32/1   \n",
       "2     Number 3, April 1921 - 16 pages  02322  /02/32/2   \n",
       "3       Number 4, May 1921 - 16 pages  02323  /02/32/3   \n",
       "4      Number 5, June 1921 - 16 pages  02324  /02/32/4   \n",
       "\n",
       "                                                link  \n",
       "0  https://tile.loc.gov/storage-services/service/...  \n",
       "1  https://tile.loc.gov/storage-services/service/...  \n",
       "2  https://tile.loc.gov/storage-services/service/...  \n",
       "3  https://tile.loc.gov/storage-services/service/...  \n",
       "4  https://tile.loc.gov/storage-services/service/...  "
      ]
     },
     "execution_count": 6,
     "metadata": {},
     "output_type": "execute_result"
    }
   ],
   "source": [
    "df.head()"
   ]
  },
  {
   "cell_type": "code",
   "execution_count": 7,
   "id": "a45387eb-5af7-4328-840e-77b2dc45829a",
   "metadata": {
    "tags": []
   },
   "outputs": [],
   "source": [
    "# Initialize a list to store the repeated rows\n",
    "repeat_rows = []\n",
    "\n",
    "# Initialize a counter\n",
    "global_line_number = 0\n",
    "\n",
    "# Loop through each row and repeat it based on the value in 'Pages'\n",
    "for index, row in df.iterrows():\n",
    "    num_repeats = int(row['Pages'])\n",
    "    for i in range(1, num_repeats + 1):\n",
    "        global_line_number += 1\n",
    "        repeated_row = row.copy()\n",
    "        repeated_row['zenit'] = f'zenit-{str(global_line_number).zfill(3)}'\n",
    "        repeat_rows.append(repeated_row)\n",
    "\n",
    "# Create a new DataFrame with the repeated rows\n",
    "df_repeated = pd.DataFrame(repeat_rows)\n",
    "\n",
    "# Reset the index of the new DataFrame\n",
    "df_repeated.reset_index(drop=True, inplace=True)"
   ]
  },
  {
   "cell_type": "code",
   "execution_count": 8,
   "id": "cf5c6198-27ab-4bf1-9b42-4a446c99b059",
   "metadata": {
    "tags": []
   },
   "outputs": [],
   "source": [
    "# Step 1: Remove unwanted rows\n",
    "unwanted_zenits = ['zenit-251', 'zenit-252', 'zenit-253', 'zenit-254']\n",
    "df_repeated = df_repeated[~df_repeated['zenit'].isin(unwanted_zenits)]\n",
    "\n",
    "# Step 2: Create a new counter starting from 250\n",
    "new_counter = 251\n",
    "\n",
    "# Step 3: Update rows below \"zenit-250\"\n",
    "mask = df_repeated['zenit'] > 'zenit-250'\n",
    "df_repeated.loc[mask, 'zenit'] = [f'zenit-{new_counter+i}' for i in range(len(df_repeated[mask]))]\n",
    "\n",
    "# Print updated DataFrame\n",
    "#print(df_repeated)\n"
   ]
  },
  {
   "cell_type": "code",
   "execution_count": 9,
   "id": "fbe07ca3-d574-49cd-86e8-ab867c93e9ee",
   "metadata": {
    "tags": []
   },
   "outputs": [],
   "source": [
    "df_repeated.to_csv('zenith_loc_repeat.csv', index=False)"
   ]
  },
  {
   "cell_type": "code",
   "execution_count": 69,
   "id": "5dc249fe-ce37-433b-bbb1-10c89b953786",
   "metadata": {
    "tags": []
   },
   "outputs": [],
   "source": [
    "df_repeated.to_csv('zenith_loc_repeat_new.csv', index=False)"
   ]
  },
  {
   "cell_type": "code",
   "execution_count": null,
   "id": "4e122691-c5b8-43f4-831a-5fe25f84e93e",
   "metadata": {
    "tags": []
   },
   "outputs": [],
   "source": [
    "print(df_repeated)"
   ]
  },
  {
   "cell_type": "code",
   "execution_count": 10,
   "id": "623c0e62-082b-4309-8105-76cea75be316",
   "metadata": {
    "tags": []
   },
   "outputs": [],
   "source": [
    "df_repeated[\"url\"] = df_repeated[\"link\"] + df_repeated[\"zenit\"] + \".jp2\""
   ]
  },
  {
   "cell_type": "code",
   "execution_count": 11,
   "id": "f930e5b9-8c31-4b2d-a129-394a9a42c44d",
   "metadata": {
    "tags": []
   },
   "outputs": [],
   "source": [
    "df_repeated[['Issue number', 'Date']] = df_repeated['Text'].str.split(',', n=1, expand=True)"
   ]
  },
  {
   "cell_type": "code",
   "execution_count": 12,
   "id": "ccdee511-91d5-4e85-acb2-dc442098d5c0",
   "metadata": {
    "tags": []
   },
   "outputs": [],
   "source": [
    "df_repeated['Date'] = df_repeated['Date'].str.split('-').str[0].str.strip()"
   ]
  },
  {
   "cell_type": "code",
   "execution_count": 13,
   "id": "a43ea670-8eb2-453e-b65e-b341d38fd00d",
   "metadata": {
    "tags": []
   },
   "outputs": [],
   "source": [
    "df_repeated['Date'] = pd.to_datetime(df_repeated['Date'], format='%B %Y', errors='coerce').dt.strftime('%Y-%m-%d')"
   ]
  },
  {
   "cell_type": "code",
   "execution_count": 14,
   "id": "72361c6c-0931-4a02-a2fb-7325a63f0714",
   "metadata": {
    "tags": []
   },
   "outputs": [],
   "source": [
    "df_repeated['Issue number'] = df_repeated['Issue number'].str.replace('Number ', '')"
   ]
  },
  {
   "cell_type": "code",
   "execution_count": 15,
   "id": "5456dcf0-b0fe-4573-9f56-bc9b8521a721",
   "metadata": {
    "tags": []
   },
   "outputs": [],
   "source": [
    "# Initialize a counter\n",
    "counter = 0\n",
    "\n",
    "# Function to reset counter for each group\n",
    "def reset_counter(group):\n",
    "    global counter\n",
    "    counter = 0\n",
    "    return group\n",
    "\n",
    "# Apply the reset_counter function and add the \"issue pages\" column\n",
    "df_repeated['issue pages'] = df_repeated.groupby('Issue number').cumcount() + 1\n",
    "df_repeated = df_repeated.groupby('Issue number', group_keys=False).apply(reset_counter)"
   ]
  },
  {
   "cell_type": "code",
   "execution_count": 16,
   "id": "7c0ce5a1-c962-49c6-8ef4-7d9b0d97c9a9",
   "metadata": {
    "tags": []
   },
   "outputs": [
    {
     "data": {
      "text/html": [
       "<div>\n",
       "<style scoped>\n",
       "    .dataframe tbody tr th:only-of-type {\n",
       "        vertical-align: middle;\n",
       "    }\n",
       "\n",
       "    .dataframe tbody tr th {\n",
       "        vertical-align: top;\n",
       "    }\n",
       "\n",
       "    .dataframe thead th {\n",
       "        text-align: right;\n",
       "    }\n",
       "</style>\n",
       "<table border=\"1\" class=\"dataframe\">\n",
       "  <thead>\n",
       "    <tr style=\"text-align: right;\">\n",
       "      <th></th>\n",
       "      <th>Value</th>\n",
       "      <th>Pages</th>\n",
       "      <th>Text</th>\n",
       "      <th>id</th>\n",
       "      <th>id_cut</th>\n",
       "      <th>link</th>\n",
       "      <th>zenit</th>\n",
       "      <th>url</th>\n",
       "      <th>Issue number</th>\n",
       "      <th>Date</th>\n",
       "      <th>issue pages</th>\n",
       "    </tr>\n",
       "  </thead>\n",
       "  <tbody>\n",
       "    <tr>\n",
       "      <th>0</th>\n",
       "      <td>https://www.loc.gov/resource/gdcwdl.wdl_02320/</td>\n",
       "      <td>16</td>\n",
       "      <td>Number 1, February 1921 - 16 pages</td>\n",
       "      <td>02320</td>\n",
       "      <td>/02/32/0</td>\n",
       "      <td>https://tile.loc.gov/storage-services/service/...</td>\n",
       "      <td>zenit-001</td>\n",
       "      <td>https://tile.loc.gov/storage-services/service/...</td>\n",
       "      <td>1</td>\n",
       "      <td>1921-02-01</td>\n",
       "      <td>1</td>\n",
       "    </tr>\n",
       "    <tr>\n",
       "      <th>1</th>\n",
       "      <td>https://www.loc.gov/resource/gdcwdl.wdl_02320/</td>\n",
       "      <td>16</td>\n",
       "      <td>Number 1, February 1921 - 16 pages</td>\n",
       "      <td>02320</td>\n",
       "      <td>/02/32/0</td>\n",
       "      <td>https://tile.loc.gov/storage-services/service/...</td>\n",
       "      <td>zenit-002</td>\n",
       "      <td>https://tile.loc.gov/storage-services/service/...</td>\n",
       "      <td>1</td>\n",
       "      <td>1921-02-01</td>\n",
       "      <td>2</td>\n",
       "    </tr>\n",
       "    <tr>\n",
       "      <th>2</th>\n",
       "      <td>https://www.loc.gov/resource/gdcwdl.wdl_02320/</td>\n",
       "      <td>16</td>\n",
       "      <td>Number 1, February 1921 - 16 pages</td>\n",
       "      <td>02320</td>\n",
       "      <td>/02/32/0</td>\n",
       "      <td>https://tile.loc.gov/storage-services/service/...</td>\n",
       "      <td>zenit-003</td>\n",
       "      <td>https://tile.loc.gov/storage-services/service/...</td>\n",
       "      <td>1</td>\n",
       "      <td>1921-02-01</td>\n",
       "      <td>3</td>\n",
       "    </tr>\n",
       "    <tr>\n",
       "      <th>3</th>\n",
       "      <td>https://www.loc.gov/resource/gdcwdl.wdl_02320/</td>\n",
       "      <td>16</td>\n",
       "      <td>Number 1, February 1921 - 16 pages</td>\n",
       "      <td>02320</td>\n",
       "      <td>/02/32/0</td>\n",
       "      <td>https://tile.loc.gov/storage-services/service/...</td>\n",
       "      <td>zenit-004</td>\n",
       "      <td>https://tile.loc.gov/storage-services/service/...</td>\n",
       "      <td>1</td>\n",
       "      <td>1921-02-01</td>\n",
       "      <td>4</td>\n",
       "    </tr>\n",
       "    <tr>\n",
       "      <th>4</th>\n",
       "      <td>https://www.loc.gov/resource/gdcwdl.wdl_02320/</td>\n",
       "      <td>16</td>\n",
       "      <td>Number 1, February 1921 - 16 pages</td>\n",
       "      <td>02320</td>\n",
       "      <td>/02/32/0</td>\n",
       "      <td>https://tile.loc.gov/storage-services/service/...</td>\n",
       "      <td>zenit-005</td>\n",
       "      <td>https://tile.loc.gov/storage-services/service/...</td>\n",
       "      <td>1</td>\n",
       "      <td>1921-02-01</td>\n",
       "      <td>5</td>\n",
       "    </tr>\n",
       "  </tbody>\n",
       "</table>\n",
       "</div>"
      ],
      "text/plain": [
       "                                            Value  Pages  \\\n",
       "0  https://www.loc.gov/resource/gdcwdl.wdl_02320/     16   \n",
       "1  https://www.loc.gov/resource/gdcwdl.wdl_02320/     16   \n",
       "2  https://www.loc.gov/resource/gdcwdl.wdl_02320/     16   \n",
       "3  https://www.loc.gov/resource/gdcwdl.wdl_02320/     16   \n",
       "4  https://www.loc.gov/resource/gdcwdl.wdl_02320/     16   \n",
       "\n",
       "                                 Text     id    id_cut  \\\n",
       "0  Number 1, February 1921 - 16 pages  02320  /02/32/0   \n",
       "1  Number 1, February 1921 - 16 pages  02320  /02/32/0   \n",
       "2  Number 1, February 1921 - 16 pages  02320  /02/32/0   \n",
       "3  Number 1, February 1921 - 16 pages  02320  /02/32/0   \n",
       "4  Number 1, February 1921 - 16 pages  02320  /02/32/0   \n",
       "\n",
       "                                                link      zenit  \\\n",
       "0  https://tile.loc.gov/storage-services/service/...  zenit-001   \n",
       "1  https://tile.loc.gov/storage-services/service/...  zenit-002   \n",
       "2  https://tile.loc.gov/storage-services/service/...  zenit-003   \n",
       "3  https://tile.loc.gov/storage-services/service/...  zenit-004   \n",
       "4  https://tile.loc.gov/storage-services/service/...  zenit-005   \n",
       "\n",
       "                                                 url Issue number        Date  \\\n",
       "0  https://tile.loc.gov/storage-services/service/...            1  1921-02-01   \n",
       "1  https://tile.loc.gov/storage-services/service/...            1  1921-02-01   \n",
       "2  https://tile.loc.gov/storage-services/service/...            1  1921-02-01   \n",
       "3  https://tile.loc.gov/storage-services/service/...            1  1921-02-01   \n",
       "4  https://tile.loc.gov/storage-services/service/...            1  1921-02-01   \n",
       "\n",
       "   issue pages  \n",
       "0            1  \n",
       "1            2  \n",
       "2            3  \n",
       "3            4  \n",
       "4            5  "
      ]
     },
     "execution_count": 16,
     "metadata": {},
     "output_type": "execute_result"
    }
   ],
   "source": [
    "df_repeated.head()"
   ]
  },
  {
   "cell_type": "code",
   "execution_count": 17,
   "id": "2da39081-897d-45ac-a0e8-5315a4415303",
   "metadata": {
    "tags": []
   },
   "outputs": [],
   "source": [
    "df_repeated.drop(['zenit', 'id','id_cut', 'zenit', 'link'], axis=1, inplace=True)"
   ]
  },
  {
   "cell_type": "markdown",
   "id": "b681c9b5-eff4-4bc0-9f33-d79fb83cc751",
   "metadata": {
    "jp-MarkdownHeadingCollapsed": true,
    "tags": []
   },
   "source": [
    "## Download Images"
   ]
  },
  {
   "cell_type": "code",
   "execution_count": null,
   "id": "81e1ba61-8454-42b6-8932-bff2772c8c73",
   "metadata": {
    "tags": []
   },
   "outputs": [],
   "source": [
    "# Define the base directory to save the images\n",
    "base_directory = \"./downloaded_images\"\n",
    "\n",
    "# Iterate through each row and download the image\n",
    "for index, row in df_repeated.iterrows():\n",
    "    url = row['url']\n",
    "    issue_number = row['Issue number']\n",
    "    issue_pages = row['issue pages']\n",
    "    \n",
    "    # Create directories if they don't exist\n",
    "    issue_directory = os.path.join(base_directory, f'Issue_{issue_number}')\n",
    "    os.makedirs(issue_directory, exist_ok=True)\n",
    "    \n",
    "    # Send a request to download the image\n",
    "    response = requests.get(url)\n",
    "    \n",
    "    # Save the image\n",
    "    image_path = os.path.join(issue_directory, f'page_{issue_pages}.jp2')\n",
    "    with open(image_path, 'wb') as file:\n",
    "        file.write(response.content)\n",
    "        \n",
    "    print(f\"Downloaded {url} as {image_path}\")"
   ]
  },
  {
   "cell_type": "markdown",
   "id": "a3c2e83d-992d-4a7a-81e5-da0185a2d58a",
   "metadata": {},
   "source": [
    "## Download images with error handling"
   ]
  },
  {
   "cell_type": "code",
   "execution_count": null,
   "id": "b4e1b26f-5f84-4f0d-bcbd-5472f713f3c2",
   "metadata": {
    "tags": []
   },
   "outputs": [],
   "source": [
    "df_repeated = pd.read_csv('/Users/carboni/Documents/UNIGE/pynotebook/sourcesVC/Zenith/zenith_loc_repeat.csv') "
   ]
  },
  {
   "cell_type": "code",
   "execution_count": null,
   "id": "30eacd4f-1e05-453d-acf3-23592e5d09e0",
   "metadata": {},
   "outputs": [],
   "source": [
    "\n",
    "# Define the base directory to save the images\n",
    "base_directory = \"./downloaded_images\"\n",
    "\n",
    "# Iterate through each row and download the image\n",
    "for index, row in df_repeated.iterrows():\n",
    "    url = row['url']\n",
    "    issue_number = row['Issue number']\n",
    "    issue_pages = row['issue pages']\n",
    "    \n",
    "    # Create directories if they don't exist\n",
    "    issue_directory = os.path.join(base_directory, f'Issue_{issue_number}')\n",
    "    os.makedirs(issue_directory, exist_ok=True)\n",
    "    \n",
    "    try:\n",
    "        # Send a request to download the image\n",
    "        response = requests.get(url)\n",
    "        response.raise_for_status()  # Check for successful response\n",
    "        \n",
    "        # Save the image\n",
    "        image_path = os.path.join(issue_directory, f'page_{issue_pages}.jp2')\n",
    "        with open(image_path, 'wb') as file:\n",
    "            file.write(response.content)\n",
    "            \n",
    "        print(f\"Downloaded {url} as {image_path}\")\n",
    "    \n",
    "    except requests.exceptions.HTTPError as http_err:\n",
    "        print(f\"HTTP error occurred while downloading {url}: {http_err}\")\n",
    "        # Optionally, you can add code here to handle HTTP errors\n",
    "        \n",
    "    except Exception as err:\n",
    "        print(f\"An error occurred while downloading {url}: {err}\")\n",
    "        # Optionally, you can add code here to handle other exceptions\n"
   ]
  },
  {
   "cell_type": "code",
   "execution_count": 18,
   "id": "eb4f8213-3ffd-4484-8176-7dd8ffa21473",
   "metadata": {
    "tags": []
   },
   "outputs": [],
   "source": [
    "df_repeated.to_csv('zenith.csv', index=False)"
   ]
  },
  {
   "cell_type": "code",
   "execution_count": null,
   "id": "fa02d718-06a4-461b-bd39-066837e20c9d",
   "metadata": {},
   "outputs": [],
   "source": []
  }
 ],
 "metadata": {
  "kernelspec": {
   "display_name": "Python 3 (ipykernel)",
   "language": "python",
   "name": "python3"
  },
  "language_info": {
   "codemirror_mode": {
    "name": "ipython",
    "version": 3
   },
   "file_extension": ".py",
   "mimetype": "text/x-python",
   "name": "python",
   "nbconvert_exporter": "python",
   "pygments_lexer": "ipython3",
   "version": "3.10.8"
  }
 },
 "nbformat": 4,
 "nbformat_minor": 5
}
