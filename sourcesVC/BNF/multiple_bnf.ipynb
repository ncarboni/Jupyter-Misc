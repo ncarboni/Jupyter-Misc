{
 "cells": [
  {
   "cell_type": "code",
   "execution_count": 1,
   "id": "2b9c66fc-8672-4f82-a2ef-4cadfa936467",
   "metadata": {
    "tags": []
   },
   "outputs": [],
   "source": [
    "import pandas as pd\n",
    "import dateparser\n",
    "import requests\n",
    "from tqdm import tqdm\n",
    "import traceback\n",
    "import xml.etree.ElementTree as ET\n",
    "import re\n",
    "import sparql_dataframe\n",
    "from SPARQLWrapper import SPARQLWrapper, JSON\n",
    "import time"
   ]
  },
  {
   "cell_type": "code",
   "execution_count": 2,
   "id": "20044257-bdf0-4100-8c1a-495f521c6366",
   "metadata": {
    "tags": []
   },
   "outputs": [],
   "source": [
    "def process_xml(xml_data):\n",
    "    root = ET.fromstring(xml_data)\n",
    "    issues_extract = []\n",
    "    for issue_elem in root.findall('.//issue'):\n",
    "        ark = issue_elem.get('ark')\n",
    "        content = issue_elem.text.strip()\n",
    "        issues_extract.append(f\"{ark}:::{content}\")\n",
    "    return \"||\".join(issues_extract)\n",
    "\n",
    "def get_info(row):\n",
    "    url = \"https://gallica.bnf.fr/services/Issues?ark=\" + row['URL'] + \"&date=\" + str(row['year'])\n",
    "    response = requests.get(url)\n",
    "    response.raise_for_status() # Raise an exception if the request was unsuccessful\n",
    "    return process_xml(response.content)"
   ]
  },
  {
   "cell_type": "markdown",
   "id": "53a1f275-fc6d-40de-ab2f-11f8f3158708",
   "metadata": {},
   "source": [
    "## From a df"
   ]
  },
  {
   "cell_type": "code",
   "execution_count": 3,
   "id": "0d3a1b13-bb93-4bf1-b19e-bc2f4635f9f3",
   "metadata": {},
   "outputs": [],
   "source": [
    "# in case if a table is available\n",
    "journals_bnf = pd.read_csv('/Users/carboni/Downloads/2023 Gallica fashion.csv')"
   ]
  },
  {
   "cell_type": "code",
   "execution_count": 4,
   "id": "69df51e2-f594-40c2-983c-4cee956c03ce",
   "metadata": {
    "tags": []
   },
   "outputs": [
    {
     "data": {
      "text/html": [
       "<div>\n",
       "<style scoped>\n",
       "    .dataframe tbody tr th:only-of-type {\n",
       "        vertical-align: middle;\n",
       "    }\n",
       "\n",
       "    .dataframe tbody tr th {\n",
       "        vertical-align: top;\n",
       "    }\n",
       "\n",
       "    .dataframe thead th {\n",
       "        text-align: right;\n",
       "    }\n",
       "</style>\n",
       "<table border=\"1\" class=\"dataframe\">\n",
       "  <thead>\n",
       "    <tr style=\"text-align: right;\">\n",
       "      <th></th>\n",
       "      <th>List</th>\n",
       "      <th>OK VC</th>\n",
       "      <th>VC_Title</th>\n",
       "      <th>VC_Journal Type</th>\n",
       "      <th>VC_City</th>\n",
       "      <th>VC_Country</th>\n",
       "      <th>ark</th>\n",
       "    </tr>\n",
       "  </thead>\n",
       "  <tbody>\n",
       "    <tr>\n",
       "      <th>0</th>\n",
       "      <td>Perfume Drinker list</td>\n",
       "      <td>Pas dans VC</td>\n",
       "      <td>Adam : revue des modes masculines en France et...</td>\n",
       "      <td>Men</td>\n",
       "      <td>Paris</td>\n",
       "      <td>France</td>\n",
       "      <td>ark:/12148/cb32682663c/date</td>\n",
       "    </tr>\n",
       "    <tr>\n",
       "      <th>1</th>\n",
       "      <td>Perfume Drinker list</td>\n",
       "      <td>Pas dans VC</td>\n",
       "      <td>Adam chemisier : illustration de la chemiserie...</td>\n",
       "      <td>Men</td>\n",
       "      <td>Paris</td>\n",
       "      <td>France</td>\n",
       "      <td>ark:/12148/cb34541274z/date</td>\n",
       "    </tr>\n",
       "  </tbody>\n",
       "</table>\n",
       "</div>"
      ],
      "text/plain": [
       "                   List        OK VC  \\\n",
       "0  Perfume Drinker list  Pas dans VC   \n",
       "1  Perfume Drinker list  Pas dans VC   \n",
       "\n",
       "                                            VC_Title VC_Journal Type VC_City  \\\n",
       "0  Adam : revue des modes masculines en France et...             Men   Paris   \n",
       "1  Adam chemisier : illustration de la chemiserie...             Men   Paris   \n",
       "\n",
       "  VC_Country                          ark  \n",
       "0     France  ark:/12148/cb32682663c/date  \n",
       "1     France  ark:/12148/cb34541274z/date  "
      ]
     },
     "execution_count": 4,
     "metadata": {},
     "output_type": "execute_result"
    }
   ],
   "source": [
    "journals_bnf.head()"
   ]
  },
  {
   "cell_type": "code",
   "execution_count": 5,
   "id": "cf4c6350-f288-4e49-ac3e-2deb81661488",
   "metadata": {
    "tags": []
   },
   "outputs": [],
   "source": [
    "# Name of the Journal Type Column\n",
    "col_type = 'VC_Journal Type'\n",
    "col_title = 'VC_Title'"
   ]
  },
  {
   "cell_type": "code",
   "execution_count": 6,
   "id": "d94d4224-b2f3-40b0-b1d7-6e098378897d",
   "metadata": {
    "tags": []
   },
   "outputs": [],
   "source": [
    "col_type_exists = col_type in journals_bnf.columns\n",
    "col_title_exists = col_title in journals_bnf.columns"
   ]
  },
  {
   "cell_type": "code",
   "execution_count": 7,
   "id": "f73832f0-d09f-40b1-ad28-e7b5a50df4e6",
   "metadata": {
    "tags": []
   },
   "outputs": [],
   "source": [
    "journals = [{\"ark\": row[\"ark\"]} for index, row in journals_bnf.iterrows()]"
   ]
  },
  {
   "cell_type": "markdown",
   "id": "ca3674b8-6c87-4e7e-9462-c77ceed51966",
   "metadata": {
    "jp-MarkdownHeadingCollapsed": true,
    "tags": []
   },
   "source": [
    "## From a list"
   ]
  },
  {
   "cell_type": "code",
   "execution_count": null,
   "id": "76b7e46f-c52c-4927-9f8e-1838962f273a",
   "metadata": {
    "tags": []
   },
   "outputs": [],
   "source": [
    "journals = [\n",
    "    {\"title\": \"Action francaise\", \"ark\": \"ark:/12148/cb326819451/date\"},\n",
    "    {\"title\": \"L'Aurore\", \"ark\": \"ark:/12148/cb32706846t/date\"},\n",
    "    {\"title\": \"L'Auto\", \"ark\": \"ark:/12148/cb327071375/date\"}\n",
    "]"
   ]
  },
  {
   "cell_type": "code",
   "execution_count": null,
   "id": "b54187c0-4122-4cc3-858a-eb1481fb1b66",
   "metadata": {
    "tags": []
   },
   "outputs": [],
   "source": [
    "journals"
   ]
  },
  {
   "cell_type": "markdown",
   "id": "4f369208-45dc-4186-b5b4-65e240f4605f",
   "metadata": {},
   "source": [
    "# Process with API"
   ]
  },
  {
   "cell_type": "code",
   "execution_count": 8,
   "id": "8d8fb3c0-afdb-47b5-8d12-37ef43c7a88f",
   "metadata": {
    "tags": []
   },
   "outputs": [],
   "source": [
    "dfs = []"
   ]
  },
  {
   "cell_type": "code",
   "execution_count": 11,
   "id": "b562d008-d9bc-4cce-93fd-1e660362d573",
   "metadata": {
    "tags": []
   },
   "outputs": [
    {
     "name": "stderr",
     "output_type": "stream",
     "text": [
      "Processing rows: 100%|██████████| 20/20 [00:12<00:00,  1.61it/s]\n",
      "Processing rows: 100%|██████████| 5/5 [00:01<00:00,  2.76it/s]\n"
     ]
    }
   ],
   "source": [
    "with requests.Session() as session:\n",
    "    for journal in journals:\n",
    "        ark = journal[\"ark\"]\n",
    "        url = f\"https://gallica.bnf.fr/services/Issues?ark={ark}\"\n",
    "\n",
    "        try:\n",
    "            response = session.get(url)\n",
    "\n",
    "            if response.status_code == 200:\n",
    "                root = ET.fromstring(response.content)\n",
    "                years = [element.text for element in root.findall(\".//year\")]\n",
    "\n",
    "                df = pd.DataFrame({'URL': [ark] * len(years), 'year': years})\n",
    "                tqdm.pandas(desc=\"Processing rows\")\n",
    "                df['issues_extract'] = df.progress_apply(get_info, axis=1)\n",
    "                df['issues_extract'] = df['issues_extract'].str.strip()\n",
    "\n",
    "                split_issues = df['issues_extract'].str.split('\\|\\|', expand=True)\n",
    "                new_column_names = [f'issues_extract_{i+1}' for i in range(split_issues.shape[1])]\n",
    "                split_issues.columns = new_column_names\n",
    "                df1 = pd.concat([df, split_issues], axis=1)\n",
    "                df1.drop(columns=['issues_extract'], inplace=True)\n",
    "                df1 = df1.drop(columns=['URL', 'year'])\n",
    "                table = df1.stack()\n",
    "                table = table.reset_index()\n",
    "                table.columns = ['numberIssue', 'issues_extract', 'date']\n",
    "                new_df = table[['issues_extract', 'date']]\n",
    "                new_df = new_df.copy()\n",
    "\n",
    "                # Full Date extractions\n",
    "                new_df[['ark', 'date']] = new_df[\"date\"].apply(lambda x: pd.Series(str(x).split(\":::\")))\n",
    "\n",
    "                def is_full_date(date_str):\n",
    "                    pattern = r'\\d{1,2} \\w+ \\d{4}'\n",
    "                    return bool(re.search(pattern, date_str))\n",
    "\n",
    "                new_df['is_full_date'] = new_df['date'].apply(is_full_date)\n",
    "                incomplete_dates = new_df[~new_df['is_full_date']]\n",
    "\n",
    "                def update_date(date_str):\n",
    "                    if not is_full_date(date_str):\n",
    "                        year = re.search(r'\\d{4}', date_str).group()\n",
    "                        return f\"01 Janvier {year}\"\n",
    "                    return date_str\n",
    "\n",
    "                new_df['date'] = new_df['date'].apply(update_date)\n",
    "\n",
    "                # Parsing date\n",
    "                new_df.date = new_df.date.apply(lambda x: dateparser.parse(x))\n",
    "                # structuring dataset\n",
    "                new_df = new_df.drop(columns=['is_full_date'])\n",
    "                new_df[\"Notice\"] = \"https://gallica.bnf.fr/\" + ark\n",
    "                new_df.rename(columns={'date': 'normalized_date', 'ark': 'issueArk'}, inplace=True)\n",
    "                new_df[\"Media URL\"] = 'https://gallica.bnf.fr/iiif/ark:/12148/' + new_df['issueArk'].astype(str) + '/manifest.json'\n",
    "                new_df = new_df.drop(columns=['issues_extract', 'issueArk'])\n",
    "\n",
    "                # Add col_type and col_title to new_df if they exist\n",
    "                if col_type_exists:\n",
    "                    new_df[col_type] = journals_bnf.loc[journals_bnf['ark'] == ark, col_type].iloc[0]\n",
    "                if col_title_exists:\n",
    "                    new_df[col_title] = journals_bnf.loc[journals_bnf['ark'] == ark, col_title].iloc[0]\n",
    "\n",
    "                dfs.append(new_df)\n",
    "\n",
    "            else:\n",
    "                with open('error_log.txt', 'a') as log_file:\n",
    "                    log_file.write(f\"Error for {ark}: Status code {response.status_code}\\n\")\n",
    "\n",
    "        except ET.ParseError as e:\n",
    "            with open('error_log.txt', 'a') as log_file:\n",
    "                log_file.write(f\"Malformed XML for {ark}: {str(e)}\\n\")\n",
    "\n",
    "        except Exception as e:\n",
    "            with open('error_log.txt', 'a') as log_file:\n",
    "                log_file.write(f\"Error for {ark}: {str(e)}\\n{traceback.format_exc()}\\n\")"
   ]
  },
  {
   "cell_type": "code",
   "execution_count": 12,
   "id": "1772f8f9-d5ed-41aa-b73d-651051158546",
   "metadata": {
    "tags": []
   },
   "outputs": [],
   "source": [
    "combined_df = pd.concat(dfs)"
   ]
  },
  {
   "cell_type": "code",
   "execution_count": 13,
   "id": "4c2248f1-df8c-464e-a2a5-68fdf23a2f05",
   "metadata": {},
   "outputs": [
    {
     "data": {
      "text/html": [
       "<div>\n",
       "<style scoped>\n",
       "    .dataframe tbody tr th:only-of-type {\n",
       "        vertical-align: middle;\n",
       "    }\n",
       "\n",
       "    .dataframe tbody tr th {\n",
       "        vertical-align: top;\n",
       "    }\n",
       "\n",
       "    .dataframe thead th {\n",
       "        text-align: right;\n",
       "    }\n",
       "</style>\n",
       "<table border=\"1\" class=\"dataframe\">\n",
       "  <thead>\n",
       "    <tr style=\"text-align: right;\">\n",
       "      <th></th>\n",
       "      <th>normalized_date</th>\n",
       "      <th>Notice</th>\n",
       "      <th>Media URL</th>\n",
       "      <th>VC_Journal Type</th>\n",
       "      <th>VC_Title</th>\n",
       "    </tr>\n",
       "  </thead>\n",
       "  <tbody>\n",
       "    <tr>\n",
       "      <th>0</th>\n",
       "      <td>1925-12-15</td>\n",
       "      <td>https://gallica.bnf.fr/ark:/12148/cb32682663c/...</td>\n",
       "      <td>https://gallica.bnf.fr/iiif/ark:/12148/bpt6k42...</td>\n",
       "      <td>Men</td>\n",
       "      <td>Adam : revue des modes masculines en France et...</td>\n",
       "    </tr>\n",
       "    <tr>\n",
       "      <th>1</th>\n",
       "      <td>1926-01-25</td>\n",
       "      <td>https://gallica.bnf.fr/ark:/12148/cb32682663c/...</td>\n",
       "      <td>https://gallica.bnf.fr/iiif/ark:/12148/bpt6k42...</td>\n",
       "      <td>Men</td>\n",
       "      <td>Adam : revue des modes masculines en France et...</td>\n",
       "    </tr>\n",
       "    <tr>\n",
       "      <th>2</th>\n",
       "      <td>1926-02-25</td>\n",
       "      <td>https://gallica.bnf.fr/ark:/12148/cb32682663c/...</td>\n",
       "      <td>https://gallica.bnf.fr/iiif/ark:/12148/bpt6k42...</td>\n",
       "      <td>Men</td>\n",
       "      <td>Adam : revue des modes masculines en France et...</td>\n",
       "    </tr>\n",
       "    <tr>\n",
       "      <th>3</th>\n",
       "      <td>1926-03-25</td>\n",
       "      <td>https://gallica.bnf.fr/ark:/12148/cb32682663c/...</td>\n",
       "      <td>https://gallica.bnf.fr/iiif/ark:/12148/bpt6k42...</td>\n",
       "      <td>Men</td>\n",
       "      <td>Adam : revue des modes masculines en France et...</td>\n",
       "    </tr>\n",
       "    <tr>\n",
       "      <th>4</th>\n",
       "      <td>1926-05-01</td>\n",
       "      <td>https://gallica.bnf.fr/ark:/12148/cb32682663c/...</td>\n",
       "      <td>https://gallica.bnf.fr/iiif/ark:/12148/bpt6k42...</td>\n",
       "      <td>Men</td>\n",
       "      <td>Adam : revue des modes masculines en France et...</td>\n",
       "    </tr>\n",
       "  </tbody>\n",
       "</table>\n",
       "</div>"
      ],
      "text/plain": [
       "  normalized_date                                             Notice  \\\n",
       "0      1925-12-15  https://gallica.bnf.fr/ark:/12148/cb32682663c/...   \n",
       "1      1926-01-25  https://gallica.bnf.fr/ark:/12148/cb32682663c/...   \n",
       "2      1926-02-25  https://gallica.bnf.fr/ark:/12148/cb32682663c/...   \n",
       "3      1926-03-25  https://gallica.bnf.fr/ark:/12148/cb32682663c/...   \n",
       "4      1926-05-01  https://gallica.bnf.fr/ark:/12148/cb32682663c/...   \n",
       "\n",
       "                                           Media URL VC_Journal Type  \\\n",
       "0  https://gallica.bnf.fr/iiif/ark:/12148/bpt6k42...             Men   \n",
       "1  https://gallica.bnf.fr/iiif/ark:/12148/bpt6k42...             Men   \n",
       "2  https://gallica.bnf.fr/iiif/ark:/12148/bpt6k42...             Men   \n",
       "3  https://gallica.bnf.fr/iiif/ark:/12148/bpt6k42...             Men   \n",
       "4  https://gallica.bnf.fr/iiif/ark:/12148/bpt6k42...             Men   \n",
       "\n",
       "                                            VC_Title  \n",
       "0  Adam : revue des modes masculines en France et...  \n",
       "1  Adam : revue des modes masculines en France et...  \n",
       "2  Adam : revue des modes masculines en France et...  \n",
       "3  Adam : revue des modes masculines en France et...  \n",
       "4  Adam : revue des modes masculines en France et...  "
      ]
     },
     "execution_count": 13,
     "metadata": {},
     "output_type": "execute_result"
    }
   ],
   "source": [
    "combined_df.head()"
   ]
  },
  {
   "cell_type": "code",
   "execution_count": 14,
   "id": "94fce257-6246-427c-a0e0-058801a9700b",
   "metadata": {
    "tags": []
   },
   "outputs": [],
   "source": [
    "combined_df.to_csv('combined_journal_data.csv', index=False)"
   ]
  },
  {
   "cell_type": "markdown",
   "id": "70065e3c-f2b9-479d-a6aa-9cd13858a1ea",
   "metadata": {},
   "source": [
    "## SPARQL Metadata"
   ]
  },
  {
   "cell_type": "code",
   "execution_count": 42,
   "id": "87252ed9-8b64-491c-b5ec-f44528d0b8ef",
   "metadata": {
    "tags": []
   },
   "outputs": [],
   "source": [
    "#combined_df = pd.read_csv('combined_journal_data.csv')"
   ]
  },
  {
   "cell_type": "code",
   "execution_count": 43,
   "id": "a7afa9f8-6fc3-4881-ada3-7f768c2d70ba",
   "metadata": {
    "tags": []
   },
   "outputs": [],
   "source": [
    "query = \"\"\"\n",
    "PREFIX skos: <http://www.w3.org/2004/02/skos/core#>\n",
    "PREFIX foaf: <http://xmlns.com/foaf/0.1/>\n",
    "\n",
    "SELECT ?Title ?Revue_wd ?City WHERE {\n",
    "  ?journal skos:prefLabel ?Title ;\n",
    "           foaf:focus ?focus . \n",
    "  ?focus <http://rdvocab.info/Elements/placeOfPublication> ?City .\n",
    "  \n",
    "  OPTIONAL {\n",
    "    ?journal skos:exactMatch ?Revue_wd .\n",
    "    FILTER (contains(str(?Revue_wd), \"wikidata.org\")) .\n",
    "  }\n",
    "}\n",
    "\"\"\""
   ]
  },
  {
   "cell_type": "code",
   "execution_count": 44,
   "id": "173fa739-03e6-442f-8bcc-d789c2bfbe65",
   "metadata": {
    "tags": []
   },
   "outputs": [],
   "source": [
    "sparql = SPARQLWrapper(\"https://data.bnf.fr/sparql\")\n",
    "sparql.setQuery(query)\n",
    "sparql.setReturnFormat(JSON)"
   ]
  },
  {
   "cell_type": "code",
   "execution_count": 45,
   "id": "de2df74d-ed81-4860-bcd5-5c32f4611942",
   "metadata": {
    "tags": []
   },
   "outputs": [],
   "source": [
    "cache = {}\n",
    "\n",
    "\n",
    "def execute_query(journal, col_title_exists):\n",
    "    if journal in cache:\n",
    "        return cache[journal]\n",
    "    else:\n",
    "        time.sleep(1) \n",
    "        sparql.setQuery(query.replace(\"?journal\", \"<\" + journal + \">\"))\n",
    "        results = sparql.query().convert()\n",
    "\n",
    "        if \"results\" in results and \"bindings\" in results[\"results\"]:\n",
    "            bindings = results[\"results\"][\"bindings\"]\n",
    "            if len(bindings) > 0:\n",
    "                result = {}\n",
    "\n",
    "                # Handle 'Title' only if col_title does not exist\n",
    "                if not col_title_exists:\n",
    "                    if \"Title\" in bindings[0]:\n",
    "                        result[\"Title\"] = bindings[0][\"Title\"][\"value\"]\n",
    "                    else:\n",
    "                        result[\"Title\"] = None  # Handle case where Title is not in the query results\n",
    "\n",
    "                if \"Revue_wd\" in bindings[0]:\n",
    "                    result[\"Revue_wd\"] = bindings[0][\"Revue_wd\"][\"value\"]\n",
    "                else:\n",
    "                    result[\"Revue_wd\"] = None\n",
    "                    print(f\"No Revue_wd present for {journal}\")\n",
    "\n",
    "                if \"City\" in bindings[0]:\n",
    "                    result[\"City\"] = bindings[0][\"City\"][\"value\"]\n",
    "                else:\n",
    "                    result[\"City\"] = None\n",
    "\n",
    "                cache[journal] = result\n",
    "                print(f\"Successful query for SPARQL: {journal}\")\n",
    "                return result\n",
    "        else:\n",
    "            print(f\"No SPARQL results for: {journal}\")\n",
    "\n",
    "    return None"
   ]
  },
  {
   "cell_type": "code",
   "execution_count": 46,
   "id": "6181a979-05c3-4583-9621-13ccc412b771",
   "metadata": {
    "tags": []
   },
   "outputs": [],
   "source": [
    "col_title_exists = col_title in combined_df.columns"
   ]
  },
  {
   "cell_type": "code",
   "execution_count": 47,
   "id": "cfec2b9f-d520-4fb0-9820-8876e2376065",
   "metadata": {
    "tags": []
   },
   "outputs": [],
   "source": [
    "combined_df[\"SPARQL\"] = combined_df[\"Notice\"].str.replace('https://gallica.bnf.fr/', 'http://data.bnf.fr/', regex=False).str.replace('/date', '', regex=False)"
   ]
  },
  {
   "cell_type": "code",
   "execution_count": 48,
   "id": "4e442177-fcd8-4b53-a221-5222d9b56760",
   "metadata": {
    "tags": []
   },
   "outputs": [
    {
     "data": {
      "text/html": [
       "<div>\n",
       "<style scoped>\n",
       "    .dataframe tbody tr th:only-of-type {\n",
       "        vertical-align: middle;\n",
       "    }\n",
       "\n",
       "    .dataframe tbody tr th {\n",
       "        vertical-align: top;\n",
       "    }\n",
       "\n",
       "    .dataframe thead th {\n",
       "        text-align: right;\n",
       "    }\n",
       "</style>\n",
       "<table border=\"1\" class=\"dataframe\">\n",
       "  <thead>\n",
       "    <tr style=\"text-align: right;\">\n",
       "      <th></th>\n",
       "      <th>normalized_date</th>\n",
       "      <th>Notice</th>\n",
       "      <th>Media URL</th>\n",
       "      <th>VC_Journal Type</th>\n",
       "      <th>VC_Title</th>\n",
       "      <th>SPARQL</th>\n",
       "    </tr>\n",
       "  </thead>\n",
       "  <tbody>\n",
       "    <tr>\n",
       "      <th>0</th>\n",
       "      <td>1925-12-15</td>\n",
       "      <td>https://gallica.bnf.fr/ark:/12148/cb32682663c/...</td>\n",
       "      <td>https://gallica.bnf.fr/iiif/ark:/12148/bpt6k42...</td>\n",
       "      <td>Men</td>\n",
       "      <td>Adam : revue des modes masculines en France et...</td>\n",
       "      <td>http://data.bnf.fr/ark:/12148/cb32682663c</td>\n",
       "    </tr>\n",
       "    <tr>\n",
       "      <th>1</th>\n",
       "      <td>1926-01-25</td>\n",
       "      <td>https://gallica.bnf.fr/ark:/12148/cb32682663c/...</td>\n",
       "      <td>https://gallica.bnf.fr/iiif/ark:/12148/bpt6k42...</td>\n",
       "      <td>Men</td>\n",
       "      <td>Adam : revue des modes masculines en France et...</td>\n",
       "      <td>http://data.bnf.fr/ark:/12148/cb32682663c</td>\n",
       "    </tr>\n",
       "    <tr>\n",
       "      <th>2</th>\n",
       "      <td>1926-02-25</td>\n",
       "      <td>https://gallica.bnf.fr/ark:/12148/cb32682663c/...</td>\n",
       "      <td>https://gallica.bnf.fr/iiif/ark:/12148/bpt6k42...</td>\n",
       "      <td>Men</td>\n",
       "      <td>Adam : revue des modes masculines en France et...</td>\n",
       "      <td>http://data.bnf.fr/ark:/12148/cb32682663c</td>\n",
       "    </tr>\n",
       "    <tr>\n",
       "      <th>3</th>\n",
       "      <td>1926-03-25</td>\n",
       "      <td>https://gallica.bnf.fr/ark:/12148/cb32682663c/...</td>\n",
       "      <td>https://gallica.bnf.fr/iiif/ark:/12148/bpt6k42...</td>\n",
       "      <td>Men</td>\n",
       "      <td>Adam : revue des modes masculines en France et...</td>\n",
       "      <td>http://data.bnf.fr/ark:/12148/cb32682663c</td>\n",
       "    </tr>\n",
       "    <tr>\n",
       "      <th>4</th>\n",
       "      <td>1926-05-01</td>\n",
       "      <td>https://gallica.bnf.fr/ark:/12148/cb32682663c/...</td>\n",
       "      <td>https://gallica.bnf.fr/iiif/ark:/12148/bpt6k42...</td>\n",
       "      <td>Men</td>\n",
       "      <td>Adam : revue des modes masculines en France et...</td>\n",
       "      <td>http://data.bnf.fr/ark:/12148/cb32682663c</td>\n",
       "    </tr>\n",
       "  </tbody>\n",
       "</table>\n",
       "</div>"
      ],
      "text/plain": [
       "  normalized_date                                             Notice  \\\n",
       "0      1925-12-15  https://gallica.bnf.fr/ark:/12148/cb32682663c/...   \n",
       "1      1926-01-25  https://gallica.bnf.fr/ark:/12148/cb32682663c/...   \n",
       "2      1926-02-25  https://gallica.bnf.fr/ark:/12148/cb32682663c/...   \n",
       "3      1926-03-25  https://gallica.bnf.fr/ark:/12148/cb32682663c/...   \n",
       "4      1926-05-01  https://gallica.bnf.fr/ark:/12148/cb32682663c/...   \n",
       "\n",
       "                                           Media URL VC_Journal Type  \\\n",
       "0  https://gallica.bnf.fr/iiif/ark:/12148/bpt6k42...             Men   \n",
       "1  https://gallica.bnf.fr/iiif/ark:/12148/bpt6k42...             Men   \n",
       "2  https://gallica.bnf.fr/iiif/ark:/12148/bpt6k42...             Men   \n",
       "3  https://gallica.bnf.fr/iiif/ark:/12148/bpt6k42...             Men   \n",
       "4  https://gallica.bnf.fr/iiif/ark:/12148/bpt6k42...             Men   \n",
       "\n",
       "                                            VC_Title  \\\n",
       "0  Adam : revue des modes masculines en France et...   \n",
       "1  Adam : revue des modes masculines en France et...   \n",
       "2  Adam : revue des modes masculines en France et...   \n",
       "3  Adam : revue des modes masculines en France et...   \n",
       "4  Adam : revue des modes masculines en France et...   \n",
       "\n",
       "                                      SPARQL  \n",
       "0  http://data.bnf.fr/ark:/12148/cb32682663c  \n",
       "1  http://data.bnf.fr/ark:/12148/cb32682663c  \n",
       "2  http://data.bnf.fr/ark:/12148/cb32682663c  \n",
       "3  http://data.bnf.fr/ark:/12148/cb32682663c  \n",
       "4  http://data.bnf.fr/ark:/12148/cb32682663c  "
      ]
     },
     "execution_count": 48,
     "metadata": {},
     "output_type": "execute_result"
    }
   ],
   "source": [
    "combined_df.head()"
   ]
  },
  {
   "cell_type": "code",
   "execution_count": 49,
   "id": "dd6fd15d-7177-4a4f-81ec-5e05ecb3c18d",
   "metadata": {
    "tags": []
   },
   "outputs": [
    {
     "name": "stderr",
     "output_type": "stream",
     "text": [
      "Processing SPARQL queries:   1%|          | 2/218 [00:01<02:11,  1.64it/s]"
     ]
    },
    {
     "name": "stdout",
     "output_type": "stream",
     "text": [
      "No Revue_wd present for http://data.bnf.fr/ark:/12148/cb32682663c\n",
      "Successful query for SPARQL: http://data.bnf.fr/ark:/12148/cb32682663c\n"
     ]
    },
    {
     "name": "stderr",
     "output_type": "stream",
     "text": [
      "Processing SPARQL queries: 100%|██████████| 218/218 [00:02<00:00, 93.06it/s]"
     ]
    },
    {
     "name": "stdout",
     "output_type": "stream",
     "text": [
      "No Revue_wd present for http://data.bnf.fr/ark:/12148/cb34541274z\n",
      "Successful query for SPARQL: http://data.bnf.fr/ark:/12148/cb34541274z\n"
     ]
    },
    {
     "name": "stderr",
     "output_type": "stream",
     "text": [
      "\n"
     ]
    }
   ],
   "source": [
    "tqdm.pandas(desc=\"Processing SPARQL queries\")\n",
    "result = combined_df[\"SPARQL\"].progress_apply(lambda x: execute_query(x, col_title_exists))"
   ]
  },
  {
   "cell_type": "code",
   "execution_count": 50,
   "id": "e1729c0f-7259-4a0b-ab2e-fc5c13e9c4a8",
   "metadata": {
    "tags": []
   },
   "outputs": [],
   "source": [
    "result_df = pd.DataFrame(result.tolist())"
   ]
  },
  {
   "cell_type": "code",
   "execution_count": 51,
   "id": "7b3dab9f-1123-4523-810f-6572f9d2fe49",
   "metadata": {
    "tags": []
   },
   "outputs": [],
   "source": [
    "result_df = result_df.reset_index(drop=True)\n",
    "combined_df = combined_df.reset_index(drop=True)"
   ]
  },
  {
   "cell_type": "code",
   "execution_count": 52,
   "id": "da20e6ea-51d6-47bb-8a3e-04966946ced3",
   "metadata": {
    "tags": []
   },
   "outputs": [],
   "source": [
    "combined_df = pd.concat([combined_df, result_df], axis=1)"
   ]
  },
  {
   "cell_type": "code",
   "execution_count": 53,
   "id": "51b70083-e960-4438-8b4e-09fd46456cec",
   "metadata": {
    "tags": []
   },
   "outputs": [],
   "source": [
    "combined_df = combined_df.drop(columns=['SPARQL'])"
   ]
  },
  {
   "cell_type": "code",
   "execution_count": 54,
   "id": "d827055f-e8d5-4ee3-b375-aa842bfd4ebc",
   "metadata": {
    "tags": []
   },
   "outputs": [],
   "source": [
    "combined_df[\"Revue_wd\"] = combined_df[\"Revue_wd\"].str.replace('http://wikidata.org/entity/', '', regex=False)"
   ]
  },
  {
   "cell_type": "code",
   "execution_count": 55,
   "id": "0514a3aa-5325-46e9-88dc-05e1ec930439",
   "metadata": {
    "tags": []
   },
   "outputs": [
    {
     "data": {
      "text/html": [
       "<div>\n",
       "<style scoped>\n",
       "    .dataframe tbody tr th:only-of-type {\n",
       "        vertical-align: middle;\n",
       "    }\n",
       "\n",
       "    .dataframe tbody tr th {\n",
       "        vertical-align: top;\n",
       "    }\n",
       "\n",
       "    .dataframe thead th {\n",
       "        text-align: right;\n",
       "    }\n",
       "</style>\n",
       "<table border=\"1\" class=\"dataframe\">\n",
       "  <thead>\n",
       "    <tr style=\"text-align: right;\">\n",
       "      <th></th>\n",
       "      <th>normalized_date</th>\n",
       "      <th>Notice</th>\n",
       "      <th>Media URL</th>\n",
       "      <th>VC_Journal Type</th>\n",
       "      <th>VC_Title</th>\n",
       "      <th>Revue_wd</th>\n",
       "      <th>City</th>\n",
       "    </tr>\n",
       "  </thead>\n",
       "  <tbody>\n",
       "    <tr>\n",
       "      <th>0</th>\n",
       "      <td>1925-12-15</td>\n",
       "      <td>https://gallica.bnf.fr/ark:/12148/cb32682663c/...</td>\n",
       "      <td>https://gallica.bnf.fr/iiif/ark:/12148/bpt6k42...</td>\n",
       "      <td>Men</td>\n",
       "      <td>Adam : revue des modes masculines en France et...</td>\n",
       "      <td>None</td>\n",
       "      <td>Paris</td>\n",
       "    </tr>\n",
       "    <tr>\n",
       "      <th>1</th>\n",
       "      <td>1926-01-25</td>\n",
       "      <td>https://gallica.bnf.fr/ark:/12148/cb32682663c/...</td>\n",
       "      <td>https://gallica.bnf.fr/iiif/ark:/12148/bpt6k42...</td>\n",
       "      <td>Men</td>\n",
       "      <td>Adam : revue des modes masculines en France et...</td>\n",
       "      <td>None</td>\n",
       "      <td>Paris</td>\n",
       "    </tr>\n",
       "    <tr>\n",
       "      <th>2</th>\n",
       "      <td>1926-02-25</td>\n",
       "      <td>https://gallica.bnf.fr/ark:/12148/cb32682663c/...</td>\n",
       "      <td>https://gallica.bnf.fr/iiif/ark:/12148/bpt6k42...</td>\n",
       "      <td>Men</td>\n",
       "      <td>Adam : revue des modes masculines en France et...</td>\n",
       "      <td>None</td>\n",
       "      <td>Paris</td>\n",
       "    </tr>\n",
       "    <tr>\n",
       "      <th>3</th>\n",
       "      <td>1926-03-25</td>\n",
       "      <td>https://gallica.bnf.fr/ark:/12148/cb32682663c/...</td>\n",
       "      <td>https://gallica.bnf.fr/iiif/ark:/12148/bpt6k42...</td>\n",
       "      <td>Men</td>\n",
       "      <td>Adam : revue des modes masculines en France et...</td>\n",
       "      <td>None</td>\n",
       "      <td>Paris</td>\n",
       "    </tr>\n",
       "    <tr>\n",
       "      <th>4</th>\n",
       "      <td>1926-05-01</td>\n",
       "      <td>https://gallica.bnf.fr/ark:/12148/cb32682663c/...</td>\n",
       "      <td>https://gallica.bnf.fr/iiif/ark:/12148/bpt6k42...</td>\n",
       "      <td>Men</td>\n",
       "      <td>Adam : revue des modes masculines en France et...</td>\n",
       "      <td>None</td>\n",
       "      <td>Paris</td>\n",
       "    </tr>\n",
       "  </tbody>\n",
       "</table>\n",
       "</div>"
      ],
      "text/plain": [
       "  normalized_date                                             Notice  \\\n",
       "0      1925-12-15  https://gallica.bnf.fr/ark:/12148/cb32682663c/...   \n",
       "1      1926-01-25  https://gallica.bnf.fr/ark:/12148/cb32682663c/...   \n",
       "2      1926-02-25  https://gallica.bnf.fr/ark:/12148/cb32682663c/...   \n",
       "3      1926-03-25  https://gallica.bnf.fr/ark:/12148/cb32682663c/...   \n",
       "4      1926-05-01  https://gallica.bnf.fr/ark:/12148/cb32682663c/...   \n",
       "\n",
       "                                           Media URL VC_Journal Type  \\\n",
       "0  https://gallica.bnf.fr/iiif/ark:/12148/bpt6k42...             Men   \n",
       "1  https://gallica.bnf.fr/iiif/ark:/12148/bpt6k42...             Men   \n",
       "2  https://gallica.bnf.fr/iiif/ark:/12148/bpt6k42...             Men   \n",
       "3  https://gallica.bnf.fr/iiif/ark:/12148/bpt6k42...             Men   \n",
       "4  https://gallica.bnf.fr/iiif/ark:/12148/bpt6k42...             Men   \n",
       "\n",
       "                                            VC_Title Revue_wd   City  \n",
       "0  Adam : revue des modes masculines en France et...     None  Paris  \n",
       "1  Adam : revue des modes masculines en France et...     None  Paris  \n",
       "2  Adam : revue des modes masculines en France et...     None  Paris  \n",
       "3  Adam : revue des modes masculines en France et...     None  Paris  \n",
       "4  Adam : revue des modes masculines en France et...     None  Paris  "
      ]
     },
     "execution_count": 55,
     "metadata": {},
     "output_type": "execute_result"
    }
   ],
   "source": [
    "combined_df.head()"
   ]
  },
  {
   "cell_type": "code",
   "execution_count": null,
   "id": "80e05a5b-7133-424f-9b8f-2e18914f67f1",
   "metadata": {},
   "outputs": [],
   "source": []
  },
  {
   "cell_type": "code",
   "execution_count": 56,
   "id": "f252126d-c0e7-4265-b6cc-41d26999d829",
   "metadata": {
    "tags": []
   },
   "outputs": [],
   "source": [
    "combined_df.to_csv('combined_journal_data_sparql.csv', index=False)"
   ]
  },
  {
   "cell_type": "code",
   "execution_count": null,
   "id": "61c091b3-5249-47cd-a548-3ef63496b3c9",
   "metadata": {},
   "outputs": [],
   "source": []
  }
 ],
 "metadata": {
  "kernelspec": {
   "display_name": "Python 3 (ipykernel)",
   "language": "python",
   "name": "python3"
  },
  "language_info": {
   "codemirror_mode": {
    "name": "ipython",
    "version": 3
   },
   "file_extension": ".py",
   "mimetype": "text/x-python",
   "name": "python",
   "nbconvert_exporter": "python",
   "pygments_lexer": "ipython3",
   "version": "3.10.8"
  }
 },
 "nbformat": 4,
 "nbformat_minor": 5
}
