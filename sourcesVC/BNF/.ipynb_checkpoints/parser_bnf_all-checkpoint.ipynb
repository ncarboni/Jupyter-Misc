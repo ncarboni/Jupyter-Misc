{
 "cells": [
  {
   "cell_type": "code",
   "execution_count": 1,
   "id": "b3a8efa8-5835-41d1-a91f-6d482002236c",
   "metadata": {},
   "outputs": [],
   "source": [
    "import pandas as pd\n",
    "import dateparser\n",
    "import requests\n",
    "from tqdm import tqdm\n",
    "import xml.etree.ElementTree as ET"
   ]
  },
  {
   "cell_type": "markdown",
   "id": "831baa6e-8350-4124-9cab-70d75d7f2597",
   "metadata": {},
   "source": [
    "# BNF to Explore"
   ]
  },
  {
   "cell_type": "markdown",
   "id": "f52376a8-6eb1-4f3d-bbb3-26e37a3d8a97",
   "metadata": {},
   "source": [
    "## Set ARK of the revue to download"
   ]
  },
  {
   "cell_type": "code",
   "execution_count": 2,
   "id": "8469bf9b-7196-4ec9-b5bd-bac5f11bcdf5",
   "metadata": {},
   "outputs": [],
   "source": [
    "ark = \"ark:/12148/cb327024729/date\""
   ]
  },
  {
   "cell_type": "code",
   "execution_count": 3,
   "id": "cb6f2f8a-67e1-495c-8d7e-dc32748f6d88",
   "metadata": {},
   "outputs": [],
   "source": [
    "# Make the API call\n",
    "url = f\"https://gallica.bnf.fr/services/Issues?ark={ark}\"\n",
    "response = requests.get(url)\n",
    "\n",
    "# Parse the XML response\n",
    "root = ET.fromstring(response.content)\n",
    "years = [element.text for element in root.findall(\".//year\")]\n",
    "\n",
    "# Create the DataFrame\n",
    "df = pd.DataFrame({'URL': [ark] * len(years), 'year': years})"
   ]
  },
  {
   "cell_type": "code",
   "execution_count": 4,
   "id": "92295cc4-a8e3-4f5a-95fb-2535fa88d1bf",
   "metadata": {},
   "outputs": [
    {
     "data": {
      "text/html": [
       "<div>\n",
       "<style scoped>\n",
       "    .dataframe tbody tr th:only-of-type {\n",
       "        vertical-align: middle;\n",
       "    }\n",
       "\n",
       "    .dataframe tbody tr th {\n",
       "        vertical-align: top;\n",
       "    }\n",
       "\n",
       "    .dataframe thead th {\n",
       "        text-align: right;\n",
       "    }\n",
       "</style>\n",
       "<table border=\"1\" class=\"dataframe\">\n",
       "  <thead>\n",
       "    <tr style=\"text-align: right;\">\n",
       "      <th></th>\n",
       "      <th>URL</th>\n",
       "      <th>year</th>\n",
       "    </tr>\n",
       "  </thead>\n",
       "  <tbody>\n",
       "    <tr>\n",
       "      <th>0</th>\n",
       "      <td>ark:/12148/cb327024729/date</td>\n",
       "      <td>1881</td>\n",
       "    </tr>\n",
       "    <tr>\n",
       "      <th>1</th>\n",
       "      <td>ark:/12148/cb327024729/date</td>\n",
       "      <td>1883</td>\n",
       "    </tr>\n",
       "    <tr>\n",
       "      <th>2</th>\n",
       "      <td>ark:/12148/cb327024729/date</td>\n",
       "      <td>1885</td>\n",
       "    </tr>\n",
       "    <tr>\n",
       "      <th>3</th>\n",
       "      <td>ark:/12148/cb327024729/date</td>\n",
       "      <td>1886</td>\n",
       "    </tr>\n",
       "    <tr>\n",
       "      <th>4</th>\n",
       "      <td>ark:/12148/cb327024729/date</td>\n",
       "      <td>1887</td>\n",
       "    </tr>\n",
       "  </tbody>\n",
       "</table>\n",
       "</div>"
      ],
      "text/plain": [
       "                           URL  year\n",
       "0  ark:/12148/cb327024729/date  1881\n",
       "1  ark:/12148/cb327024729/date  1883\n",
       "2  ark:/12148/cb327024729/date  1885\n",
       "3  ark:/12148/cb327024729/date  1886\n",
       "4  ark:/12148/cb327024729/date  1887"
      ]
     },
     "execution_count": 4,
     "metadata": {},
     "output_type": "execute_result"
    }
   ],
   "source": [
    "df.head()"
   ]
  },
  {
   "cell_type": "markdown",
   "id": "d1b4d334-6436-46d7-92b4-da2ff50adb89",
   "metadata": {},
   "source": [
    "## Make an API call to Gallica to retrieve the issues"
   ]
  },
  {
   "cell_type": "markdown",
   "id": "d2be6d9f-2c76-4fee-9762-f7177dbf9b68",
   "metadata": {},
   "source": [
    "the call will extract, for each year, the number of published issues, their ids and their date of publication"
   ]
  },
  {
   "cell_type": "code",
   "execution_count": 5,
   "id": "be9932b4-b524-417e-a4cf-844bc88dadc7",
   "metadata": {},
   "outputs": [],
   "source": [
    "def process_xml(xml_data):\n",
    "    root = ET.fromstring(xml_data)\n",
    "    issues_extract = []\n",
    "    for issue_elem in root.findall('.//issue'):\n",
    "        ark = issue_elem.get('ark')\n",
    "        content = issue_elem.text.strip()\n",
    "        issues_extract.append(f\"{ark}:::{content}\")\n",
    "    return \"||\".join(issues_extract)"
   ]
  },
  {
   "cell_type": "code",
   "execution_count": 6,
   "id": "9372c89e-a5d5-4dcc-9df3-29b2acdd49db",
   "metadata": {},
   "outputs": [],
   "source": [
    "def get_info(row):\n",
    "    url = \"https://gallica.bnf.fr/services/Issues?ark=\" + row['URL'] + \"&date=\" + str(row['year'])\n",
    "    response = requests.get(url)\n",
    "    response.raise_for_status()  # Raise an exception if the request was unsuccessful\n",
    "    return process_xml(response.content)"
   ]
  },
  {
   "cell_type": "code",
   "execution_count": 7,
   "id": "4d0b7063-a614-436d-b87c-75299d377a96",
   "metadata": {},
   "outputs": [
    {
     "name": "stderr",
     "output_type": "stream",
     "text": [
      "Processing rows: 100%|██████████| 38/38 [00:47<00:00,  1.24s/it]\n"
     ]
    }
   ],
   "source": [
    "tqdm.pandas(desc=\"Processing rows\")\n",
    "df['issues_extract'] = df.progress_apply(get_info, axis=1)"
   ]
  },
  {
   "cell_type": "markdown",
   "id": "95d1ac60-8b98-4c28-a847-860d1a4cca7b",
   "metadata": {},
   "source": [
    "## Data wrangling"
   ]
  },
  {
   "cell_type": "markdown",
   "id": "cc27ff52-80ea-467b-b38e-90800961476c",
   "metadata": {},
   "source": [
    "the data retrieved from the API is organised as pairs of issueid::::year_of_publication divided by \"||\". We need to splits the retrieved values and reorganise them in order to have for each line only a single value"
   ]
  },
  {
   "cell_type": "code",
   "execution_count": 8,
   "id": "549c1cca-183a-4a95-a1b1-e12191ded3e6",
   "metadata": {},
   "outputs": [
    {
     "data": {
      "text/html": [
       "<div>\n",
       "<style scoped>\n",
       "    .dataframe tbody tr th:only-of-type {\n",
       "        vertical-align: middle;\n",
       "    }\n",
       "\n",
       "    .dataframe tbody tr th {\n",
       "        vertical-align: top;\n",
       "    }\n",
       "\n",
       "    .dataframe thead th {\n",
       "        text-align: right;\n",
       "    }\n",
       "</style>\n",
       "<table border=\"1\" class=\"dataframe\">\n",
       "  <thead>\n",
       "    <tr style=\"text-align: right;\">\n",
       "      <th></th>\n",
       "      <th>URL</th>\n",
       "      <th>year</th>\n",
       "      <th>issues_extract</th>\n",
       "    </tr>\n",
       "  </thead>\n",
       "  <tbody>\n",
       "    <tr>\n",
       "      <th>0</th>\n",
       "      <td>ark:/12148/cb327024729/date</td>\n",
       "      <td>1881</td>\n",
       "      <td>bd6t5343084n:::1881||bpt6k1207922h:::01 févrie...</td>\n",
       "    </tr>\n",
       "    <tr>\n",
       "      <th>1</th>\n",
       "      <td>ark:/12148/cb327024729/date</td>\n",
       "      <td>1883</td>\n",
       "      <td>bd6t53347823:::22 décembre 1883</td>\n",
       "    </tr>\n",
       "    <tr>\n",
       "      <th>2</th>\n",
       "      <td>ark:/12148/cb327024729/date</td>\n",
       "      <td>1885</td>\n",
       "      <td>bd6t5335101c:::17 janvier 1885||bd6t5335102r::...</td>\n",
       "    </tr>\n",
       "    <tr>\n",
       "      <th>3</th>\n",
       "      <td>ark:/12148/cb327024729/date</td>\n",
       "      <td>1886</td>\n",
       "      <td>bd6t53353960:::02 janvier 1886||bd6t5335397c::...</td>\n",
       "    </tr>\n",
       "    <tr>\n",
       "      <th>4</th>\n",
       "      <td>ark:/12148/cb327024729/date</td>\n",
       "      <td>1887</td>\n",
       "      <td>bd6t5334472t:::01 janvier 1887||bd6t5337188b::...</td>\n",
       "    </tr>\n",
       "  </tbody>\n",
       "</table>\n",
       "</div>"
      ],
      "text/plain": [
       "                           URL  year  \\\n",
       "0  ark:/12148/cb327024729/date  1881   \n",
       "1  ark:/12148/cb327024729/date  1883   \n",
       "2  ark:/12148/cb327024729/date  1885   \n",
       "3  ark:/12148/cb327024729/date  1886   \n",
       "4  ark:/12148/cb327024729/date  1887   \n",
       "\n",
       "                                      issues_extract  \n",
       "0  bd6t5343084n:::1881||bpt6k1207922h:::01 févrie...  \n",
       "1                    bd6t53347823:::22 décembre 1883  \n",
       "2  bd6t5335101c:::17 janvier 1885||bd6t5335102r::...  \n",
       "3  bd6t53353960:::02 janvier 1886||bd6t5335397c::...  \n",
       "4  bd6t5334472t:::01 janvier 1887||bd6t5337188b::...  "
      ]
     },
     "execution_count": 8,
     "metadata": {},
     "output_type": "execute_result"
    }
   ],
   "source": [
    "df.head()"
   ]
  },
  {
   "cell_type": "code",
   "execution_count": 9,
   "id": "a79bcf84-d49c-4858-9565-76ce813bad8c",
   "metadata": {},
   "outputs": [],
   "source": [
    "# Remove leading and trailing spaces\n",
    "df['issues_extract'] = df['issues_extract'].str.strip()\n",
    "\n",
    "# Split the 'issues_extract' column and expand it into separate columns\n",
    "split_issues = df['issues_extract'].str.split('\\|\\|', expand=True)\n",
    "\n",
    "# Create new column names\n",
    "new_column_names = [f'issues_extract_{i+1}' for i in range(split_issues.shape[1])]\n",
    "\n",
    "# Assign the split values to the new columns\n",
    "split_issues.columns = new_column_names\n",
    "\n",
    "df1 = pd.concat([df, split_issues], axis=1)"
   ]
  },
  {
   "cell_type": "code",
   "execution_count": 10,
   "id": "3ae25aba-b20f-49cf-b41d-b3d60fe08620",
   "metadata": {},
   "outputs": [],
   "source": [
    "df1.drop(columns=['issues_extract'], inplace=True)"
   ]
  },
  {
   "cell_type": "code",
   "execution_count": 11,
   "id": "957fc724-3472-4696-a0dd-cd981eb57889",
   "metadata": {},
   "outputs": [
    {
     "data": {
      "text/html": [
       "<div>\n",
       "<style scoped>\n",
       "    .dataframe tbody tr th:only-of-type {\n",
       "        vertical-align: middle;\n",
       "    }\n",
       "\n",
       "    .dataframe tbody tr th {\n",
       "        vertical-align: top;\n",
       "    }\n",
       "\n",
       "    .dataframe thead th {\n",
       "        text-align: right;\n",
       "    }\n",
       "</style>\n",
       "<table border=\"1\" class=\"dataframe\">\n",
       "  <thead>\n",
       "    <tr style=\"text-align: right;\">\n",
       "      <th></th>\n",
       "      <th>URL</th>\n",
       "      <th>year</th>\n",
       "      <th>issues_extract_1</th>\n",
       "      <th>issues_extract_2</th>\n",
       "      <th>issues_extract_3</th>\n",
       "      <th>issues_extract_4</th>\n",
       "      <th>issues_extract_5</th>\n",
       "      <th>issues_extract_6</th>\n",
       "      <th>issues_extract_7</th>\n",
       "      <th>issues_extract_8</th>\n",
       "      <th>...</th>\n",
       "      <th>issues_extract_67</th>\n",
       "      <th>issues_extract_68</th>\n",
       "      <th>issues_extract_69</th>\n",
       "      <th>issues_extract_70</th>\n",
       "      <th>issues_extract_71</th>\n",
       "      <th>issues_extract_72</th>\n",
       "      <th>issues_extract_73</th>\n",
       "      <th>issues_extract_74</th>\n",
       "      <th>issues_extract_75</th>\n",
       "      <th>issues_extract_76</th>\n",
       "    </tr>\n",
       "  </thead>\n",
       "  <tbody>\n",
       "    <tr>\n",
       "      <th>0</th>\n",
       "      <td>ark:/12148/cb327024729/date</td>\n",
       "      <td>1881</td>\n",
       "      <td>bd6t5343084n:::1881</td>\n",
       "      <td>bpt6k1207922h:::01 février 1881</td>\n",
       "      <td>bd6t53357331:::01 août 1881</td>\n",
       "      <td>bd6t53357331:::01 août 1881</td>\n",
       "      <td>None</td>\n",
       "      <td>None</td>\n",
       "      <td>None</td>\n",
       "      <td>None</td>\n",
       "      <td>...</td>\n",
       "      <td>None</td>\n",
       "      <td>None</td>\n",
       "      <td>None</td>\n",
       "      <td>None</td>\n",
       "      <td>None</td>\n",
       "      <td>None</td>\n",
       "      <td>None</td>\n",
       "      <td>None</td>\n",
       "      <td>None</td>\n",
       "      <td>None</td>\n",
       "    </tr>\n",
       "    <tr>\n",
       "      <th>1</th>\n",
       "      <td>ark:/12148/cb327024729/date</td>\n",
       "      <td>1883</td>\n",
       "      <td>bd6t53347823:::22 décembre 1883</td>\n",
       "      <td>None</td>\n",
       "      <td>None</td>\n",
       "      <td>None</td>\n",
       "      <td>None</td>\n",
       "      <td>None</td>\n",
       "      <td>None</td>\n",
       "      <td>None</td>\n",
       "      <td>...</td>\n",
       "      <td>None</td>\n",
       "      <td>None</td>\n",
       "      <td>None</td>\n",
       "      <td>None</td>\n",
       "      <td>None</td>\n",
       "      <td>None</td>\n",
       "      <td>None</td>\n",
       "      <td>None</td>\n",
       "      <td>None</td>\n",
       "      <td>None</td>\n",
       "    </tr>\n",
       "    <tr>\n",
       "      <th>2</th>\n",
       "      <td>ark:/12148/cb327024729/date</td>\n",
       "      <td>1885</td>\n",
       "      <td>bd6t5335101c:::17 janvier 1885</td>\n",
       "      <td>bd6t5335102r:::24 janvier 1885</td>\n",
       "      <td>bd6t53351034:::31 janvier 1885</td>\n",
       "      <td>bd6t5335104h:::07 février 1885</td>\n",
       "      <td>bd6t5335105w:::14 février 1885</td>\n",
       "      <td>bd6t53351068:::21 février 1885</td>\n",
       "      <td>bd6t5335107n:::28 février 1885</td>\n",
       "      <td>bd6t53351081:::07 mars 1885</td>\n",
       "      <td>...</td>\n",
       "      <td>None</td>\n",
       "      <td>None</td>\n",
       "      <td>None</td>\n",
       "      <td>None</td>\n",
       "      <td>None</td>\n",
       "      <td>None</td>\n",
       "      <td>None</td>\n",
       "      <td>None</td>\n",
       "      <td>None</td>\n",
       "      <td>None</td>\n",
       "    </tr>\n",
       "    <tr>\n",
       "      <th>3</th>\n",
       "      <td>ark:/12148/cb327024729/date</td>\n",
       "      <td>1886</td>\n",
       "      <td>bd6t53353960:::02 janvier 1886</td>\n",
       "      <td>bd6t5335397c:::09 janvier 1886</td>\n",
       "      <td>bd6t5335398r:::16 janvier 1886</td>\n",
       "      <td>bd6t53353994:::23 janvier 1886</td>\n",
       "      <td>bd6t5335400x:::30 janvier 1886</td>\n",
       "      <td>bd6t53354019:::06 février 1886</td>\n",
       "      <td>bd6t5335402p:::13 février 1886</td>\n",
       "      <td>bd6t53354032:::20 février 1886</td>\n",
       "      <td>...</td>\n",
       "      <td>None</td>\n",
       "      <td>None</td>\n",
       "      <td>None</td>\n",
       "      <td>None</td>\n",
       "      <td>None</td>\n",
       "      <td>None</td>\n",
       "      <td>None</td>\n",
       "      <td>None</td>\n",
       "      <td>None</td>\n",
       "      <td>None</td>\n",
       "    </tr>\n",
       "    <tr>\n",
       "      <th>4</th>\n",
       "      <td>ark:/12148/cb327024729/date</td>\n",
       "      <td>1887</td>\n",
       "      <td>bd6t5334472t:::01 janvier 1887</td>\n",
       "      <td>bd6t5337188b:::01 janvier 1887</td>\n",
       "      <td>bd6t5337189q:::07 janvier 1887</td>\n",
       "      <td>bd6t5337190n:::28 janvier 1887</td>\n",
       "      <td>bd6t53371911:::04 février 1887</td>\n",
       "      <td>bd6t5337192d:::11 février 1887</td>\n",
       "      <td>bd6t5337193s:::18 février 1887</td>\n",
       "      <td>bd6t5337193s:::18 février 1887</td>\n",
       "      <td>...</td>\n",
       "      <td>bd6t53396079:::02 décembre 1887</td>\n",
       "      <td>bd6t5339608p:::09 décembre 1887</td>\n",
       "      <td>bd6t5339608p:::09 décembre 1887</td>\n",
       "      <td>bd6t53396092:::16 décembre 1887</td>\n",
       "      <td>bd6t53396092:::16 décembre 1887</td>\n",
       "      <td>bd6t53396100:::23 décembre 1887</td>\n",
       "      <td>bd6t5339611c:::30 décembre 1887</td>\n",
       "      <td>None</td>\n",
       "      <td>None</td>\n",
       "      <td>None</td>\n",
       "    </tr>\n",
       "  </tbody>\n",
       "</table>\n",
       "<p>5 rows × 78 columns</p>\n",
       "</div>"
      ],
      "text/plain": [
       "                           URL  year                 issues_extract_1  \\\n",
       "0  ark:/12148/cb327024729/date  1881              bd6t5343084n:::1881   \n",
       "1  ark:/12148/cb327024729/date  1883  bd6t53347823:::22 décembre 1883   \n",
       "2  ark:/12148/cb327024729/date  1885   bd6t5335101c:::17 janvier 1885   \n",
       "3  ark:/12148/cb327024729/date  1886   bd6t53353960:::02 janvier 1886   \n",
       "4  ark:/12148/cb327024729/date  1887   bd6t5334472t:::01 janvier 1887   \n",
       "\n",
       "                  issues_extract_2                issues_extract_3  \\\n",
       "0  bpt6k1207922h:::01 février 1881     bd6t53357331:::01 août 1881   \n",
       "1                             None                            None   \n",
       "2   bd6t5335102r:::24 janvier 1885  bd6t53351034:::31 janvier 1885   \n",
       "3   bd6t5335397c:::09 janvier 1886  bd6t5335398r:::16 janvier 1886   \n",
       "4   bd6t5337188b:::01 janvier 1887  bd6t5337189q:::07 janvier 1887   \n",
       "\n",
       "                 issues_extract_4                issues_extract_5  \\\n",
       "0     bd6t53357331:::01 août 1881                            None   \n",
       "1                            None                            None   \n",
       "2  bd6t5335104h:::07 février 1885  bd6t5335105w:::14 février 1885   \n",
       "3  bd6t53353994:::23 janvier 1886  bd6t5335400x:::30 janvier 1886   \n",
       "4  bd6t5337190n:::28 janvier 1887  bd6t53371911:::04 février 1887   \n",
       "\n",
       "                 issues_extract_6                issues_extract_7  \\\n",
       "0                            None                            None   \n",
       "1                            None                            None   \n",
       "2  bd6t53351068:::21 février 1885  bd6t5335107n:::28 février 1885   \n",
       "3  bd6t53354019:::06 février 1886  bd6t5335402p:::13 février 1886   \n",
       "4  bd6t5337192d:::11 février 1887  bd6t5337193s:::18 février 1887   \n",
       "\n",
       "                 issues_extract_8  ...                issues_extract_67  \\\n",
       "0                            None  ...                             None   \n",
       "1                            None  ...                             None   \n",
       "2     bd6t53351081:::07 mars 1885  ...                             None   \n",
       "3  bd6t53354032:::20 février 1886  ...                             None   \n",
       "4  bd6t5337193s:::18 février 1887  ...  bd6t53396079:::02 décembre 1887   \n",
       "\n",
       "                 issues_extract_68                issues_extract_69  \\\n",
       "0                             None                             None   \n",
       "1                             None                             None   \n",
       "2                             None                             None   \n",
       "3                             None                             None   \n",
       "4  bd6t5339608p:::09 décembre 1887  bd6t5339608p:::09 décembre 1887   \n",
       "\n",
       "                 issues_extract_70                issues_extract_71  \\\n",
       "0                             None                             None   \n",
       "1                             None                             None   \n",
       "2                             None                             None   \n",
       "3                             None                             None   \n",
       "4  bd6t53396092:::16 décembre 1887  bd6t53396092:::16 décembre 1887   \n",
       "\n",
       "                 issues_extract_72                issues_extract_73  \\\n",
       "0                             None                             None   \n",
       "1                             None                             None   \n",
       "2                             None                             None   \n",
       "3                             None                             None   \n",
       "4  bd6t53396100:::23 décembre 1887  bd6t5339611c:::30 décembre 1887   \n",
       "\n",
       "  issues_extract_74 issues_extract_75 issues_extract_76  \n",
       "0              None              None              None  \n",
       "1              None              None              None  \n",
       "2              None              None              None  \n",
       "3              None              None              None  \n",
       "4              None              None              None  \n",
       "\n",
       "[5 rows x 78 columns]"
      ]
     },
     "execution_count": 11,
     "metadata": {},
     "output_type": "execute_result"
    }
   ],
   "source": [
    "df1.head()"
   ]
  },
  {
   "cell_type": "code",
   "execution_count": 13,
   "id": "4122e126-8b71-4360-bdc9-bf350adc1fac",
   "metadata": {},
   "outputs": [],
   "source": [
    "df1 = df1.drop(columns=['URL','year'])"
   ]
  },
  {
   "cell_type": "code",
   "execution_count": 14,
   "id": "6c99a54d-7fd6-4a32-b050-3f5d770d95b3",
   "metadata": {},
   "outputs": [],
   "source": [
    "table = df1.stack()"
   ]
  },
  {
   "cell_type": "code",
   "execution_count": 15,
   "id": "c2cecbd0-e2af-49b1-87d8-dae122cdabd3",
   "metadata": {},
   "outputs": [
    {
     "data": {
      "text/plain": [
       "0   issues_extract_1                 bd6t5343084n:::1881\n",
       "    issues_extract_2     bpt6k1207922h:::01 février 1881\n",
       "    issues_extract_3         bd6t53357331:::01 août 1881\n",
       "    issues_extract_4         bd6t53357331:::01 août 1881\n",
       "1   issues_extract_1     bd6t53347823:::22 décembre 1883\n",
       "                                      ...               \n",
       "37  issues_extract_45    bd6t5347492k:::27 novembre 1920\n",
       "    issues_extract_46    bd6t5347493z:::04 décembre 1920\n",
       "    issues_extract_47    bd6t5347494b:::11 décembre 1920\n",
       "    issues_extract_48    bd6t5347495q:::18 décembre 1920\n",
       "    issues_extract_49    bd6t53474963:::25 décembre 1920\n",
       "Length: 1579, dtype: object"
      ]
     },
     "execution_count": 15,
     "metadata": {},
     "output_type": "execute_result"
    }
   ],
   "source": [
    "table"
   ]
  },
  {
   "cell_type": "code",
   "execution_count": 16,
   "id": "4a02fbfb-815e-4990-8bb1-03568ae3182c",
   "metadata": {},
   "outputs": [],
   "source": [
    "table = table.reset_index()\n",
    "\n",
    "table.columns = ['numberIssue', 'issues_extract', 'date']\n",
    "\n",
    "new_df = table[['issues_extract', 'date']]"
   ]
  },
  {
   "cell_type": "code",
   "execution_count": 17,
   "id": "9b647c31-eac8-48ed-91a6-59a7e44a0dd5",
   "metadata": {},
   "outputs": [
    {
     "data": {
      "text/html": [
       "<div>\n",
       "<style scoped>\n",
       "    .dataframe tbody tr th:only-of-type {\n",
       "        vertical-align: middle;\n",
       "    }\n",
       "\n",
       "    .dataframe tbody tr th {\n",
       "        vertical-align: top;\n",
       "    }\n",
       "\n",
       "    .dataframe thead th {\n",
       "        text-align: right;\n",
       "    }\n",
       "</style>\n",
       "<table border=\"1\" class=\"dataframe\">\n",
       "  <thead>\n",
       "    <tr style=\"text-align: right;\">\n",
       "      <th></th>\n",
       "      <th>issues_extract</th>\n",
       "      <th>date</th>\n",
       "    </tr>\n",
       "  </thead>\n",
       "  <tbody>\n",
       "    <tr>\n",
       "      <th>0</th>\n",
       "      <td>issues_extract_1</td>\n",
       "      <td>bd6t5343084n:::1881</td>\n",
       "    </tr>\n",
       "    <tr>\n",
       "      <th>1</th>\n",
       "      <td>issues_extract_2</td>\n",
       "      <td>bpt6k1207922h:::01 février 1881</td>\n",
       "    </tr>\n",
       "    <tr>\n",
       "      <th>2</th>\n",
       "      <td>issues_extract_3</td>\n",
       "      <td>bd6t53357331:::01 août 1881</td>\n",
       "    </tr>\n",
       "    <tr>\n",
       "      <th>3</th>\n",
       "      <td>issues_extract_4</td>\n",
       "      <td>bd6t53357331:::01 août 1881</td>\n",
       "    </tr>\n",
       "    <tr>\n",
       "      <th>4</th>\n",
       "      <td>issues_extract_1</td>\n",
       "      <td>bd6t53347823:::22 décembre 1883</td>\n",
       "    </tr>\n",
       "  </tbody>\n",
       "</table>\n",
       "</div>"
      ],
      "text/plain": [
       "     issues_extract                             date\n",
       "0  issues_extract_1              bd6t5343084n:::1881\n",
       "1  issues_extract_2  bpt6k1207922h:::01 février 1881\n",
       "2  issues_extract_3      bd6t53357331:::01 août 1881\n",
       "3  issues_extract_4      bd6t53357331:::01 août 1881\n",
       "4  issues_extract_1  bd6t53347823:::22 décembre 1883"
      ]
     },
     "execution_count": 17,
     "metadata": {},
     "output_type": "execute_result"
    }
   ],
   "source": [
    "new_df.head()"
   ]
  },
  {
   "cell_type": "code",
   "execution_count": 18,
   "id": "d26419d2-d1a9-4822-b1c4-7a6877a4f036",
   "metadata": {},
   "outputs": [],
   "source": [
    "new_df = new_df.copy()"
   ]
  },
  {
   "cell_type": "markdown",
   "id": "329da301-7036-486a-84b9-36657a049ab9",
   "metadata": {},
   "source": [
    "### Full Date extractions"
   ]
  },
  {
   "cell_type": "code",
   "execution_count": 19,
   "id": "62751cd1-41ee-4baf-8a72-2a13a00dcc4a",
   "metadata": {},
   "outputs": [],
   "source": [
    "new_df[['ark', 'date']] = new_df[\"date\"].apply(lambda x: pd.Series(str(x).split(\":::\")))"
   ]
  },
  {
   "cell_type": "code",
   "execution_count": 20,
   "id": "1c4759e7-5f1d-49ae-9f04-ba16bd0f19b2",
   "metadata": {},
   "outputs": [
    {
     "data": {
      "text/html": [
       "<div>\n",
       "<style scoped>\n",
       "    .dataframe tbody tr th:only-of-type {\n",
       "        vertical-align: middle;\n",
       "    }\n",
       "\n",
       "    .dataframe tbody tr th {\n",
       "        vertical-align: top;\n",
       "    }\n",
       "\n",
       "    .dataframe thead th {\n",
       "        text-align: right;\n",
       "    }\n",
       "</style>\n",
       "<table border=\"1\" class=\"dataframe\">\n",
       "  <thead>\n",
       "    <tr style=\"text-align: right;\">\n",
       "      <th></th>\n",
       "      <th>issues_extract</th>\n",
       "      <th>date</th>\n",
       "      <th>ark</th>\n",
       "    </tr>\n",
       "  </thead>\n",
       "  <tbody>\n",
       "    <tr>\n",
       "      <th>0</th>\n",
       "      <td>issues_extract_1</td>\n",
       "      <td>1881</td>\n",
       "      <td>bd6t5343084n</td>\n",
       "    </tr>\n",
       "    <tr>\n",
       "      <th>1</th>\n",
       "      <td>issues_extract_2</td>\n",
       "      <td>01 février 1881</td>\n",
       "      <td>bpt6k1207922h</td>\n",
       "    </tr>\n",
       "    <tr>\n",
       "      <th>2</th>\n",
       "      <td>issues_extract_3</td>\n",
       "      <td>01 août 1881</td>\n",
       "      <td>bd6t53357331</td>\n",
       "    </tr>\n",
       "    <tr>\n",
       "      <th>3</th>\n",
       "      <td>issues_extract_4</td>\n",
       "      <td>01 août 1881</td>\n",
       "      <td>bd6t53357331</td>\n",
       "    </tr>\n",
       "    <tr>\n",
       "      <th>4</th>\n",
       "      <td>issues_extract_1</td>\n",
       "      <td>22 décembre 1883</td>\n",
       "      <td>bd6t53347823</td>\n",
       "    </tr>\n",
       "  </tbody>\n",
       "</table>\n",
       "</div>"
      ],
      "text/plain": [
       "     issues_extract              date            ark\n",
       "0  issues_extract_1              1881   bd6t5343084n\n",
       "1  issues_extract_2   01 février 1881  bpt6k1207922h\n",
       "2  issues_extract_3      01 août 1881   bd6t53357331\n",
       "3  issues_extract_4      01 août 1881   bd6t53357331\n",
       "4  issues_extract_1  22 décembre 1883   bd6t53347823"
      ]
     },
     "execution_count": 20,
     "metadata": {},
     "output_type": "execute_result"
    }
   ],
   "source": [
    "new_df.head()"
   ]
  },
  {
   "cell_type": "markdown",
   "id": "2a264404-86c6-47e0-b6f7-8449b93ac966",
   "metadata": {},
   "source": [
    "#### Check Errors"
   ]
  },
  {
   "cell_type": "markdown",
   "id": "31eb8b3c-abb5-4c6d-9b1e-4ce81a3e9938",
   "metadata": {},
   "source": [
    "in the next step we check that all the dates are full dates. In order to recognize and transform the dates from the form \"01 août 1881\" to \"1981-08-01\" we need to have consistent dates. \n",
    "In case some entries does only have the year and no month, it is important to modify it. The next script will check if something is wrong."
   ]
  },
  {
   "cell_type": "code",
   "execution_count": 21,
   "id": "4299100d-c013-45bf-8c78-f37021777912",
   "metadata": {},
   "outputs": [
    {
     "name": "stdout",
     "output_type": "stream",
     "text": [
      "     issues_extract  date           ark  is_full_date\n",
      "0  issues_extract_1  1881  bd6t5343084n         False\n"
     ]
    }
   ],
   "source": [
    "import re\n",
    "\n",
    "def is_full_date(date_str):\n",
    "    pattern = r'\\d{1,2} \\w+ \\d{4}'\n",
    "    \n",
    "    return bool(re.search(pattern, date_str))\n",
    "\n",
    "new_df['is_full_date'] = new_df['date'].apply(is_full_date)\n",
    "\n",
    "incomplete_dates = new_df[~new_df['is_full_date']]\n",
    "\n",
    "print(incomplete_dates)"
   ]
  },
  {
   "cell_type": "markdown",
   "id": "83c9831d-db0f-465f-8eea-239de9d7393f",
   "metadata": {},
   "source": [
    "if one or more values are to be modified, you can change the instruction below to assign the appropriate date"
   ]
  },
  {
   "cell_type": "code",
   "execution_count": 22,
   "id": "7b647a62-23d0-4975-ae80-cd5439bbded2",
   "metadata": {},
   "outputs": [],
   "source": [
    "new_df.loc[new_df['issues_extract'] =='issues_extract_1', 'date'] = '01 Janvier 1881'"
   ]
  },
  {
   "cell_type": "markdown",
   "id": "ebbcaf8d-e923-4f05-869e-b62ef3eaed83",
   "metadata": {},
   "source": [
    "### Parsing date"
   ]
  },
  {
   "cell_type": "code",
   "execution_count": 23,
   "id": "62aa6a0e-088a-4efe-b3bc-55742ce41e9b",
   "metadata": {},
   "outputs": [],
   "source": [
    "new_df.date = new_df.date.apply(lambda x: dateparser.parse(x))"
   ]
  },
  {
   "cell_type": "code",
   "execution_count": 24,
   "id": "7cf993d3-3a16-473d-968b-5e7626e6e943",
   "metadata": {},
   "outputs": [
    {
     "data": {
      "text/html": [
       "<div>\n",
       "<style scoped>\n",
       "    .dataframe tbody tr th:only-of-type {\n",
       "        vertical-align: middle;\n",
       "    }\n",
       "\n",
       "    .dataframe tbody tr th {\n",
       "        vertical-align: top;\n",
       "    }\n",
       "\n",
       "    .dataframe thead th {\n",
       "        text-align: right;\n",
       "    }\n",
       "</style>\n",
       "<table border=\"1\" class=\"dataframe\">\n",
       "  <thead>\n",
       "    <tr style=\"text-align: right;\">\n",
       "      <th></th>\n",
       "      <th>issues_extract</th>\n",
       "      <th>date</th>\n",
       "      <th>ark</th>\n",
       "      <th>is_full_date</th>\n",
       "    </tr>\n",
       "  </thead>\n",
       "  <tbody>\n",
       "    <tr>\n",
       "      <th>0</th>\n",
       "      <td>issues_extract_1</td>\n",
       "      <td>1881-01-01</td>\n",
       "      <td>bd6t5343084n</td>\n",
       "      <td>False</td>\n",
       "    </tr>\n",
       "    <tr>\n",
       "      <th>1</th>\n",
       "      <td>issues_extract_2</td>\n",
       "      <td>1881-02-01</td>\n",
       "      <td>bpt6k1207922h</td>\n",
       "      <td>True</td>\n",
       "    </tr>\n",
       "    <tr>\n",
       "      <th>2</th>\n",
       "      <td>issues_extract_3</td>\n",
       "      <td>1881-08-01</td>\n",
       "      <td>bd6t53357331</td>\n",
       "      <td>True</td>\n",
       "    </tr>\n",
       "    <tr>\n",
       "      <th>3</th>\n",
       "      <td>issues_extract_4</td>\n",
       "      <td>1881-08-01</td>\n",
       "      <td>bd6t53357331</td>\n",
       "      <td>True</td>\n",
       "    </tr>\n",
       "    <tr>\n",
       "      <th>4</th>\n",
       "      <td>issues_extract_1</td>\n",
       "      <td>1881-01-01</td>\n",
       "      <td>bd6t53347823</td>\n",
       "      <td>True</td>\n",
       "    </tr>\n",
       "  </tbody>\n",
       "</table>\n",
       "</div>"
      ],
      "text/plain": [
       "     issues_extract       date            ark  is_full_date\n",
       "0  issues_extract_1 1881-01-01   bd6t5343084n         False\n",
       "1  issues_extract_2 1881-02-01  bpt6k1207922h          True\n",
       "2  issues_extract_3 1881-08-01   bd6t53357331          True\n",
       "3  issues_extract_4 1881-08-01   bd6t53357331          True\n",
       "4  issues_extract_1 1881-01-01   bd6t53347823          True"
      ]
     },
     "execution_count": 24,
     "metadata": {},
     "output_type": "execute_result"
    }
   ],
   "source": [
    "new_df.head()"
   ]
  },
  {
   "cell_type": "code",
   "execution_count": 25,
   "id": "15eb6059-ef6e-47ff-a206-f9af7e79f0f6",
   "metadata": {},
   "outputs": [],
   "source": [
    "new_df = new_df.drop(columns=['is_full_date'])"
   ]
  },
  {
   "cell_type": "code",
   "execution_count": 26,
   "id": "af9158e9-68f8-4a8d-872c-dfb7d4c42ee0",
   "metadata": {},
   "outputs": [],
   "source": [
    "new_df[\"Notice\"] = \"https://gallica.bnf.fr/\" + ark"
   ]
  },
  {
   "cell_type": "code",
   "execution_count": 27,
   "id": "645b364c-aa87-4633-9616-77b727459c38",
   "metadata": {},
   "outputs": [
    {
     "data": {
      "text/html": [
       "<div>\n",
       "<style scoped>\n",
       "    .dataframe tbody tr th:only-of-type {\n",
       "        vertical-align: middle;\n",
       "    }\n",
       "\n",
       "    .dataframe tbody tr th {\n",
       "        vertical-align: top;\n",
       "    }\n",
       "\n",
       "    .dataframe thead th {\n",
       "        text-align: right;\n",
       "    }\n",
       "</style>\n",
       "<table border=\"1\" class=\"dataframe\">\n",
       "  <thead>\n",
       "    <tr style=\"text-align: right;\">\n",
       "      <th></th>\n",
       "      <th>issues_extract</th>\n",
       "      <th>date</th>\n",
       "      <th>ark</th>\n",
       "      <th>Notice</th>\n",
       "    </tr>\n",
       "  </thead>\n",
       "  <tbody>\n",
       "    <tr>\n",
       "      <th>0</th>\n",
       "      <td>issues_extract_1</td>\n",
       "      <td>1881-01-01</td>\n",
       "      <td>bd6t5343084n</td>\n",
       "      <td>https://gallica.bnf.fr/ark:/12148/cb327024729/...</td>\n",
       "    </tr>\n",
       "    <tr>\n",
       "      <th>1</th>\n",
       "      <td>issues_extract_2</td>\n",
       "      <td>1881-02-01</td>\n",
       "      <td>bpt6k1207922h</td>\n",
       "      <td>https://gallica.bnf.fr/ark:/12148/cb327024729/...</td>\n",
       "    </tr>\n",
       "    <tr>\n",
       "      <th>2</th>\n",
       "      <td>issues_extract_3</td>\n",
       "      <td>1881-08-01</td>\n",
       "      <td>bd6t53357331</td>\n",
       "      <td>https://gallica.bnf.fr/ark:/12148/cb327024729/...</td>\n",
       "    </tr>\n",
       "    <tr>\n",
       "      <th>3</th>\n",
       "      <td>issues_extract_4</td>\n",
       "      <td>1881-08-01</td>\n",
       "      <td>bd6t53357331</td>\n",
       "      <td>https://gallica.bnf.fr/ark:/12148/cb327024729/...</td>\n",
       "    </tr>\n",
       "    <tr>\n",
       "      <th>4</th>\n",
       "      <td>issues_extract_1</td>\n",
       "      <td>1881-01-01</td>\n",
       "      <td>bd6t53347823</td>\n",
       "      <td>https://gallica.bnf.fr/ark:/12148/cb327024729/...</td>\n",
       "    </tr>\n",
       "  </tbody>\n",
       "</table>\n",
       "</div>"
      ],
      "text/plain": [
       "     issues_extract       date            ark  \\\n",
       "0  issues_extract_1 1881-01-01   bd6t5343084n   \n",
       "1  issues_extract_2 1881-02-01  bpt6k1207922h   \n",
       "2  issues_extract_3 1881-08-01   bd6t53357331   \n",
       "3  issues_extract_4 1881-08-01   bd6t53357331   \n",
       "4  issues_extract_1 1881-01-01   bd6t53347823   \n",
       "\n",
       "                                              Notice  \n",
       "0  https://gallica.bnf.fr/ark:/12148/cb327024729/...  \n",
       "1  https://gallica.bnf.fr/ark:/12148/cb327024729/...  \n",
       "2  https://gallica.bnf.fr/ark:/12148/cb327024729/...  \n",
       "3  https://gallica.bnf.fr/ark:/12148/cb327024729/...  \n",
       "4  https://gallica.bnf.fr/ark:/12148/cb327024729/...  "
      ]
     },
     "execution_count": 27,
     "metadata": {},
     "output_type": "execute_result"
    }
   ],
   "source": [
    "new_df.head()"
   ]
  },
  {
   "cell_type": "markdown",
   "id": "2eceeff9-0cee-4e58-9c34-eff25354f995",
   "metadata": {},
   "source": [
    "## Metadata"
   ]
  },
  {
   "cell_type": "markdown",
   "id": "e78d2544-04bc-4f2d-ba4c-50efef0b79dd",
   "metadata": {},
   "source": [
    "this step is manual and depends on the journal. Each cell assign to the dataframe a new column with Title, City of publication, and all the metadata required by the project. Change it accordingly to your publication"
   ]
  },
  {
   "cell_type": "code",
   "execution_count": 28,
   "id": "f43def03-b4fd-4a98-a97f-16e162456dfe",
   "metadata": {},
   "outputs": [],
   "source": [
    "new_df[\"Title\"] = \"L'art et la mode : journal de la vie mondaine\""
   ]
  },
  {
   "cell_type": "code",
   "execution_count": 29,
   "id": "88fe470c-cbb3-4b6f-a7e0-1ff95ca61e10",
   "metadata": {},
   "outputs": [],
   "source": [
    "new_df[\"City\"] = \"Paris\"\n",
    "new_df[\"Country\"] = \"France\"\n",
    "new_df[\"Journal Type\"] = \"Fashion\""
   ]
  },
  {
   "cell_type": "code",
   "execution_count": 30,
   "id": "6757cae4-fc22-4efd-b78a-a5e9b2fd106c",
   "metadata": {},
   "outputs": [],
   "source": [
    "new_df = new_df.drop(columns=['issues_extract'])"
   ]
  },
  {
   "cell_type": "code",
   "execution_count": 31,
   "id": "b6110da5-e11b-4fb9-9cb1-b5c3c38827b8",
   "metadata": {},
   "outputs": [],
   "source": [
    "new_df.rename(columns={'date': 'normalized_date', 'ark':'issueArk'}, inplace=True)"
   ]
  },
  {
   "cell_type": "code",
   "execution_count": 32,
   "id": "147d8c57-662d-475b-9b8a-315f2a3b3767",
   "metadata": {},
   "outputs": [],
   "source": [
    "new_df[\"Media URL\"] = 'https://gallica.bnf.fr/iiif/ark:/12148/' + new_df['issueArk'].astype(str) + '/manifest.json'"
   ]
  },
  {
   "cell_type": "code",
   "execution_count": 33,
   "id": "3988cefa-62b8-4da2-810e-cda860618db4",
   "metadata": {},
   "outputs": [],
   "source": [
    "new_df[\"wkt\"] = 'POINT(2.3513888888889 48.856944444444)'"
   ]
  },
  {
   "cell_type": "code",
   "execution_count": 34,
   "id": "991c0d3f-b671-4426-87ea-bb0b457ca7b2",
   "metadata": {},
   "outputs": [],
   "source": [
    "new_df[\"City_wd\"] = 'Q90'\n",
    "new_df[\"Country_wd\"] = 'Q142'"
   ]
  },
  {
   "cell_type": "code",
   "execution_count": 35,
   "id": "86b011b2-444e-4b31-a8e5-07648fff4ec2",
   "metadata": {},
   "outputs": [],
   "source": [
    "new_df.to_csv('/Users/carboni/Downloads/art_mode1.csv', index=False)"
   ]
  }
 ],
 "metadata": {
  "kernelspec": {
   "display_name": "Python 3 (ipykernel)",
   "language": "python",
   "name": "python3"
  },
  "language_info": {
   "codemirror_mode": {
    "name": "ipython",
    "version": 3
   },
   "file_extension": ".py",
   "mimetype": "text/x-python",
   "name": "python",
   "nbconvert_exporter": "python",
   "pygments_lexer": "ipython3",
   "version": "3.10.8"
  }
 },
 "nbformat": 4,
 "nbformat_minor": 5
}
