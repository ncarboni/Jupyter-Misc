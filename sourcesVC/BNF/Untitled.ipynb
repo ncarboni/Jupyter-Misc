{
 "cells": [
  {
   "cell_type": "code",
   "execution_count": 1,
   "id": "b7cfe435-fbb1-478b-82eb-8fe70b1db4b5",
   "metadata": {
    "tags": []
   },
   "outputs": [],
   "source": [
    "from SPARQLWrapper import SPARQLWrapper, JSON\n",
    "import pandas as pd"
   ]
  },
  {
   "cell_type": "code",
   "execution_count": 31,
   "id": "d6d17c9a-d9c7-4a51-95f1-b595c461152b",
   "metadata": {
    "tags": []
   },
   "outputs": [],
   "source": [
    "query = \"\"\"\n",
    "PREFIX skos: <http://www.w3.org/2004/02/skos/core#>\n",
    "PREFIX foaf: <http://xmlns.com/foaf/0.1/>\n",
    "\n",
    "SELECT ?Title ?Revue_wd ?City WHERE {\n",
    "  ?journal skos:prefLabel ?Title ;\n",
    "           skos:exactMatch ?Revue_wd ;\n",
    "           foaf:focus ?focus .\n",
    "  ?focus <http://rdvocab.info/Elements/placeOfPublication> ?City .\n",
    "  FILTER (contains(str(?Revue_wd), \"wikidata.org\")) . \n",
    "}\n",
    "\"\"\""
   ]
  },
  {
   "cell_type": "code",
   "execution_count": 32,
   "id": "1de64b25-8191-4b04-9d65-ae8f75b54dfb",
   "metadata": {
    "tags": []
   },
   "outputs": [],
   "source": [
    "df = pd.read_csv(\"combined_journal_data_example.csv\")"
   ]
  },
  {
   "cell_type": "code",
   "execution_count": 33,
   "id": "e1ea8a2d-1a16-4266-ad7a-8ff4c3a31061",
   "metadata": {
    "tags": []
   },
   "outputs": [
    {
     "data": {
      "text/html": [
       "<div>\n",
       "<style scoped>\n",
       "    .dataframe tbody tr th:only-of-type {\n",
       "        vertical-align: middle;\n",
       "    }\n",
       "\n",
       "    .dataframe tbody tr th {\n",
       "        vertical-align: top;\n",
       "    }\n",
       "\n",
       "    .dataframe thead th {\n",
       "        text-align: right;\n",
       "    }\n",
       "</style>\n",
       "<table border=\"1\" class=\"dataframe\">\n",
       "  <thead>\n",
       "    <tr style=\"text-align: right;\">\n",
       "      <th></th>\n",
       "      <th>issues_extract</th>\n",
       "      <th>normalized_date</th>\n",
       "      <th>issueArk</th>\n",
       "      <th>Notice</th>\n",
       "      <th>Media URL</th>\n",
       "      <th>Title</th>\n",
       "    </tr>\n",
       "  </thead>\n",
       "  <tbody>\n",
       "    <tr>\n",
       "      <th>0</th>\n",
       "      <td>issues_extract_1</td>\n",
       "      <td>1908-03-21</td>\n",
       "      <td>bpt6k756130m</td>\n",
       "      <td>https://gallica.bnf.fr/ark:/12148/cb326819451/...</td>\n",
       "      <td>https://gallica.bnf.fr/iiif/ark:/12148/bpt6k75...</td>\n",
       "      <td>Action francaise</td>\n",
       "    </tr>\n",
       "    <tr>\n",
       "      <th>1</th>\n",
       "      <td>issues_extract_2</td>\n",
       "      <td>1908-03-22</td>\n",
       "      <td>bpt6k7561310</td>\n",
       "      <td>https://gallica.bnf.fr/ark:/12148/cb326819451/...</td>\n",
       "      <td>https://gallica.bnf.fr/iiif/ark:/12148/bpt6k75...</td>\n",
       "      <td>Action francaise</td>\n",
       "    </tr>\n",
       "    <tr>\n",
       "      <th>2</th>\n",
       "      <td>issues_extract_3</td>\n",
       "      <td>1908-03-23</td>\n",
       "      <td>bpt6k756132c</td>\n",
       "      <td>https://gallica.bnf.fr/ark:/12148/cb326819451/...</td>\n",
       "      <td>https://gallica.bnf.fr/iiif/ark:/12148/bpt6k75...</td>\n",
       "      <td>Action francaise</td>\n",
       "    </tr>\n",
       "    <tr>\n",
       "      <th>3</th>\n",
       "      <td>issues_extract_4</td>\n",
       "      <td>1908-03-24</td>\n",
       "      <td>bpt6k756133r</td>\n",
       "      <td>https://gallica.bnf.fr/ark:/12148/cb326819451/...</td>\n",
       "      <td>https://gallica.bnf.fr/iiif/ark:/12148/bpt6k75...</td>\n",
       "      <td>Action francaise</td>\n",
       "    </tr>\n",
       "    <tr>\n",
       "      <th>4</th>\n",
       "      <td>issues_extract_5</td>\n",
       "      <td>1908-03-25</td>\n",
       "      <td>bpt6k7561344</td>\n",
       "      <td>https://gallica.bnf.fr/ark:/12148/cb326819451/...</td>\n",
       "      <td>https://gallica.bnf.fr/iiif/ark:/12148/bpt6k75...</td>\n",
       "      <td>Action francaise</td>\n",
       "    </tr>\n",
       "  </tbody>\n",
       "</table>\n",
       "</div>"
      ],
      "text/plain": [
       "     issues_extract normalized_date      issueArk  \\\n",
       "0  issues_extract_1      1908-03-21  bpt6k756130m   \n",
       "1  issues_extract_2      1908-03-22  bpt6k7561310   \n",
       "2  issues_extract_3      1908-03-23  bpt6k756132c   \n",
       "3  issues_extract_4      1908-03-24  bpt6k756133r   \n",
       "4  issues_extract_5      1908-03-25  bpt6k7561344   \n",
       "\n",
       "                                              Notice  \\\n",
       "0  https://gallica.bnf.fr/ark:/12148/cb326819451/...   \n",
       "1  https://gallica.bnf.fr/ark:/12148/cb326819451/...   \n",
       "2  https://gallica.bnf.fr/ark:/12148/cb326819451/...   \n",
       "3  https://gallica.bnf.fr/ark:/12148/cb326819451/...   \n",
       "4  https://gallica.bnf.fr/ark:/12148/cb326819451/...   \n",
       "\n",
       "                                           Media URL             Title  \n",
       "0  https://gallica.bnf.fr/iiif/ark:/12148/bpt6k75...  Action francaise  \n",
       "1  https://gallica.bnf.fr/iiif/ark:/12148/bpt6k75...  Action francaise  \n",
       "2  https://gallica.bnf.fr/iiif/ark:/12148/bpt6k75...  Action francaise  \n",
       "3  https://gallica.bnf.fr/iiif/ark:/12148/bpt6k75...  Action francaise  \n",
       "4  https://gallica.bnf.fr/iiif/ark:/12148/bpt6k75...  Action francaise  "
      ]
     },
     "execution_count": 33,
     "metadata": {},
     "output_type": "execute_result"
    }
   ],
   "source": [
    "df.head()"
   ]
  },
  {
   "cell_type": "code",
   "execution_count": 34,
   "id": "9a9cb5dd-b72a-46b9-ad2c-a322e3a93faf",
   "metadata": {
    "tags": []
   },
   "outputs": [
    {
     "name": "stderr",
     "output_type": "stream",
     "text": [
      "/var/folders/nw/zm4zl9xn4_d_rq3fnglst3n80000gp/T/ipykernel_70462/2064839789.py:2: FutureWarning: The default value of regex will change from True to False in a future version.\n",
      "  df[\"SPARQL\"] = df[\"Notice\"].str.replace('https://gallica.bnf.fr/', 'http://data.bnf.fr/').str.replace('/date', '')\n"
     ]
    }
   ],
   "source": [
    "df = df.drop(columns=['issues_extract', 'issueArk'])\n",
    "df[\"SPARQL\"] = df[\"Notice\"].str.replace('https://gallica.bnf.fr/', 'http://data.bnf.fr/').str.replace('/date', '')"
   ]
  },
  {
   "cell_type": "code",
   "execution_count": 35,
   "id": "58a4442a-f376-4d5d-9030-2ac8f2bc302a",
   "metadata": {
    "tags": []
   },
   "outputs": [
    {
     "data": {
      "text/html": [
       "<div>\n",
       "<style scoped>\n",
       "    .dataframe tbody tr th:only-of-type {\n",
       "        vertical-align: middle;\n",
       "    }\n",
       "\n",
       "    .dataframe tbody tr th {\n",
       "        vertical-align: top;\n",
       "    }\n",
       "\n",
       "    .dataframe thead th {\n",
       "        text-align: right;\n",
       "    }\n",
       "</style>\n",
       "<table border=\"1\" class=\"dataframe\">\n",
       "  <thead>\n",
       "    <tr style=\"text-align: right;\">\n",
       "      <th></th>\n",
       "      <th>normalized_date</th>\n",
       "      <th>Notice</th>\n",
       "      <th>Media URL</th>\n",
       "      <th>Title</th>\n",
       "      <th>SPARQL</th>\n",
       "    </tr>\n",
       "  </thead>\n",
       "  <tbody>\n",
       "    <tr>\n",
       "      <th>0</th>\n",
       "      <td>1908-03-21</td>\n",
       "      <td>https://gallica.bnf.fr/ark:/12148/cb326819451/...</td>\n",
       "      <td>https://gallica.bnf.fr/iiif/ark:/12148/bpt6k75...</td>\n",
       "      <td>Action francaise</td>\n",
       "      <td>http://data.bnf.fr/ark:/12148/cb326819451</td>\n",
       "    </tr>\n",
       "    <tr>\n",
       "      <th>1</th>\n",
       "      <td>1908-03-22</td>\n",
       "      <td>https://gallica.bnf.fr/ark:/12148/cb326819451/...</td>\n",
       "      <td>https://gallica.bnf.fr/iiif/ark:/12148/bpt6k75...</td>\n",
       "      <td>Action francaise</td>\n",
       "      <td>http://data.bnf.fr/ark:/12148/cb326819451</td>\n",
       "    </tr>\n",
       "    <tr>\n",
       "      <th>2</th>\n",
       "      <td>1908-03-23</td>\n",
       "      <td>https://gallica.bnf.fr/ark:/12148/cb326819451/...</td>\n",
       "      <td>https://gallica.bnf.fr/iiif/ark:/12148/bpt6k75...</td>\n",
       "      <td>Action francaise</td>\n",
       "      <td>http://data.bnf.fr/ark:/12148/cb326819451</td>\n",
       "    </tr>\n",
       "    <tr>\n",
       "      <th>3</th>\n",
       "      <td>1908-03-24</td>\n",
       "      <td>https://gallica.bnf.fr/ark:/12148/cb326819451/...</td>\n",
       "      <td>https://gallica.bnf.fr/iiif/ark:/12148/bpt6k75...</td>\n",
       "      <td>Action francaise</td>\n",
       "      <td>http://data.bnf.fr/ark:/12148/cb326819451</td>\n",
       "    </tr>\n",
       "    <tr>\n",
       "      <th>4</th>\n",
       "      <td>1908-03-25</td>\n",
       "      <td>https://gallica.bnf.fr/ark:/12148/cb326819451/...</td>\n",
       "      <td>https://gallica.bnf.fr/iiif/ark:/12148/bpt6k75...</td>\n",
       "      <td>Action francaise</td>\n",
       "      <td>http://data.bnf.fr/ark:/12148/cb326819451</td>\n",
       "    </tr>\n",
       "  </tbody>\n",
       "</table>\n",
       "</div>"
      ],
      "text/plain": [
       "  normalized_date                                             Notice  \\\n",
       "0      1908-03-21  https://gallica.bnf.fr/ark:/12148/cb326819451/...   \n",
       "1      1908-03-22  https://gallica.bnf.fr/ark:/12148/cb326819451/...   \n",
       "2      1908-03-23  https://gallica.bnf.fr/ark:/12148/cb326819451/...   \n",
       "3      1908-03-24  https://gallica.bnf.fr/ark:/12148/cb326819451/...   \n",
       "4      1908-03-25  https://gallica.bnf.fr/ark:/12148/cb326819451/...   \n",
       "\n",
       "                                           Media URL             Title  \\\n",
       "0  https://gallica.bnf.fr/iiif/ark:/12148/bpt6k75...  Action francaise   \n",
       "1  https://gallica.bnf.fr/iiif/ark:/12148/bpt6k75...  Action francaise   \n",
       "2  https://gallica.bnf.fr/iiif/ark:/12148/bpt6k75...  Action francaise   \n",
       "3  https://gallica.bnf.fr/iiif/ark:/12148/bpt6k75...  Action francaise   \n",
       "4  https://gallica.bnf.fr/iiif/ark:/12148/bpt6k75...  Action francaise   \n",
       "\n",
       "                                      SPARQL  \n",
       "0  http://data.bnf.fr/ark:/12148/cb326819451  \n",
       "1  http://data.bnf.fr/ark:/12148/cb326819451  \n",
       "2  http://data.bnf.fr/ark:/12148/cb326819451  \n",
       "3  http://data.bnf.fr/ark:/12148/cb326819451  \n",
       "4  http://data.bnf.fr/ark:/12148/cb326819451  "
      ]
     },
     "execution_count": 35,
     "metadata": {},
     "output_type": "execute_result"
    }
   ],
   "source": [
    "df.head()"
   ]
  },
  {
   "cell_type": "code",
   "execution_count": 36,
   "id": "6fe03f75-c819-4bcb-90c0-53064b9a417b",
   "metadata": {
    "tags": []
   },
   "outputs": [],
   "source": [
    "sparql = SPARQLWrapper(\"https://data.bnf.fr/sparql\")\n",
    "sparql.setQuery(query)\n",
    "sparql.setReturnFormat(JSON)"
   ]
  },
  {
   "cell_type": "code",
   "execution_count": 37,
   "id": "6bbeace2-3242-422c-9d03-e8fe52da16c4",
   "metadata": {
    "tags": []
   },
   "outputs": [],
   "source": [
    "sparql = SPARQLWrapper(\"https://data.bnf.fr/sparql\")\n",
    "sparql.setQuery(query)\n",
    "sparql.setReturnFormat(JSON)\n",
    "\n",
    "def execute_query(journal):\n",
    "    sparql.setQuery(query.replace(\"?journal\", \"<\"+journal+\">\"))\n",
    "    results = sparql.query().convert()\n",
    "    if \"results\" in results and \"bindings\" in results[\"results\"]:\n",
    "        bindings = results[\"results\"][\"bindings\"]\n",
    "        if len(bindings) > 0:\n",
    "            return {\n",
    "                \"Title\": bindings[0][\"Title\"][\"value\"],\n",
    "                \"Revue_wd\": bindings[0][\"Revue_wd\"][\"value\"],\n",
    "                \"City\": bindings[0][\"City\"][\"value\"]\n",
    "            }\n",
    "    return None"
   ]
  },
  {
   "cell_type": "code",
   "execution_count": 38,
   "id": "d6d51046-fb43-4e35-a1e2-031d3bf03027",
   "metadata": {
    "tags": []
   },
   "outputs": [],
   "source": [
    "result = df[\"SPARQL\"].apply(execute_query)"
   ]
  },
  {
   "cell_type": "code",
   "execution_count": 39,
   "id": "1391d426-5bfd-49fa-a2b7-98fe01bd3622",
   "metadata": {
    "tags": []
   },
   "outputs": [],
   "source": [
    "result_df = pd.DataFrame(result.tolist())"
   ]
  },
  {
   "cell_type": "code",
   "execution_count": 40,
   "id": "0996f5df-ddb4-4950-9743-b946c65dcd92",
   "metadata": {
    "tags": []
   },
   "outputs": [
    {
     "data": {
      "text/html": [
       "<div>\n",
       "<style scoped>\n",
       "    .dataframe tbody tr th:only-of-type {\n",
       "        vertical-align: middle;\n",
       "    }\n",
       "\n",
       "    .dataframe tbody tr th {\n",
       "        vertical-align: top;\n",
       "    }\n",
       "\n",
       "    .dataframe thead th {\n",
       "        text-align: right;\n",
       "    }\n",
       "</style>\n",
       "<table border=\"1\" class=\"dataframe\">\n",
       "  <thead>\n",
       "    <tr style=\"text-align: right;\">\n",
       "      <th></th>\n",
       "      <th>Title</th>\n",
       "      <th>Revue_wd</th>\n",
       "      <th>City</th>\n",
       "    </tr>\n",
       "  </thead>\n",
       "  <tbody>\n",
       "    <tr>\n",
       "      <th>0</th>\n",
       "      <td>L'Action française (Paris. 1908)</td>\n",
       "      <td>http://wikidata.org/entity/Q496011</td>\n",
       "      <td>Paris</td>\n",
       "    </tr>\n",
       "    <tr>\n",
       "      <th>1</th>\n",
       "      <td>L'Action française (Paris. 1908)</td>\n",
       "      <td>http://wikidata.org/entity/Q496011</td>\n",
       "      <td>Paris</td>\n",
       "    </tr>\n",
       "    <tr>\n",
       "      <th>2</th>\n",
       "      <td>L'Action française (Paris. 1908)</td>\n",
       "      <td>http://wikidata.org/entity/Q496011</td>\n",
       "      <td>Paris</td>\n",
       "    </tr>\n",
       "    <tr>\n",
       "      <th>3</th>\n",
       "      <td>L'Action française (Paris. 1908)</td>\n",
       "      <td>http://wikidata.org/entity/Q496011</td>\n",
       "      <td>Paris</td>\n",
       "    </tr>\n",
       "    <tr>\n",
       "      <th>4</th>\n",
       "      <td>L'Action française (Paris. 1908)</td>\n",
       "      <td>http://wikidata.org/entity/Q496011</td>\n",
       "      <td>Paris</td>\n",
       "    </tr>\n",
       "  </tbody>\n",
       "</table>\n",
       "</div>"
      ],
      "text/plain": [
       "                              Title                            Revue_wd   City\n",
       "0  L'Action française (Paris. 1908)  http://wikidata.org/entity/Q496011  Paris\n",
       "1  L'Action française (Paris. 1908)  http://wikidata.org/entity/Q496011  Paris\n",
       "2  L'Action française (Paris. 1908)  http://wikidata.org/entity/Q496011  Paris\n",
       "3  L'Action française (Paris. 1908)  http://wikidata.org/entity/Q496011  Paris\n",
       "4  L'Action française (Paris. 1908)  http://wikidata.org/entity/Q496011  Paris"
      ]
     },
     "execution_count": 40,
     "metadata": {},
     "output_type": "execute_result"
    }
   ],
   "source": [
    "result_df.head()"
   ]
  },
  {
   "cell_type": "code",
   "execution_count": 44,
   "id": "39eabe4b-e2bb-4820-8b25-2f534484506c",
   "metadata": {
    "tags": []
   },
   "outputs": [],
   "source": [
    "result_df[\"Revue_wd\"] = result_df[\"Revue_wd\"].str.replace('http://wikidata.org/entity/', '', regex=True)"
   ]
  },
  {
   "cell_type": "code",
   "execution_count": 42,
   "id": "df5bd73e-f575-4429-9c20-4d7d92ebedcf",
   "metadata": {
    "tags": []
   },
   "outputs": [],
   "source": [
    "df = pd.concat([df, result_df], axis=1)"
   ]
  },
  {
   "cell_type": "code",
   "execution_count": 43,
   "id": "2a0ba295-2fcf-483d-abf3-497ff63acc14",
   "metadata": {
    "tags": []
   },
   "outputs": [
    {
     "data": {
      "text/html": [
       "<div>\n",
       "<style scoped>\n",
       "    .dataframe tbody tr th:only-of-type {\n",
       "        vertical-align: middle;\n",
       "    }\n",
       "\n",
       "    .dataframe tbody tr th {\n",
       "        vertical-align: top;\n",
       "    }\n",
       "\n",
       "    .dataframe thead th {\n",
       "        text-align: right;\n",
       "    }\n",
       "</style>\n",
       "<table border=\"1\" class=\"dataframe\">\n",
       "  <thead>\n",
       "    <tr style=\"text-align: right;\">\n",
       "      <th></th>\n",
       "      <th>normalized_date</th>\n",
       "      <th>Notice</th>\n",
       "      <th>Media URL</th>\n",
       "      <th>Title</th>\n",
       "      <th>SPARQL</th>\n",
       "      <th>Title</th>\n",
       "      <th>Revue_wd</th>\n",
       "      <th>City</th>\n",
       "    </tr>\n",
       "  </thead>\n",
       "  <tbody>\n",
       "    <tr>\n",
       "      <th>0</th>\n",
       "      <td>1908-03-21</td>\n",
       "      <td>https://gallica.bnf.fr/ark:/12148/cb326819451/...</td>\n",
       "      <td>https://gallica.bnf.fr/iiif/ark:/12148/bpt6k75...</td>\n",
       "      <td>Action francaise</td>\n",
       "      <td>http://data.bnf.fr/ark:/12148/cb326819451</td>\n",
       "      <td>L'Action française (Paris. 1908)</td>\n",
       "      <td>Q496011</td>\n",
       "      <td>Paris</td>\n",
       "    </tr>\n",
       "    <tr>\n",
       "      <th>1</th>\n",
       "      <td>1908-03-22</td>\n",
       "      <td>https://gallica.bnf.fr/ark:/12148/cb326819451/...</td>\n",
       "      <td>https://gallica.bnf.fr/iiif/ark:/12148/bpt6k75...</td>\n",
       "      <td>Action francaise</td>\n",
       "      <td>http://data.bnf.fr/ark:/12148/cb326819451</td>\n",
       "      <td>L'Action française (Paris. 1908)</td>\n",
       "      <td>Q496011</td>\n",
       "      <td>Paris</td>\n",
       "    </tr>\n",
       "    <tr>\n",
       "      <th>2</th>\n",
       "      <td>1908-03-23</td>\n",
       "      <td>https://gallica.bnf.fr/ark:/12148/cb326819451/...</td>\n",
       "      <td>https://gallica.bnf.fr/iiif/ark:/12148/bpt6k75...</td>\n",
       "      <td>Action francaise</td>\n",
       "      <td>http://data.bnf.fr/ark:/12148/cb326819451</td>\n",
       "      <td>L'Action française (Paris. 1908)</td>\n",
       "      <td>Q496011</td>\n",
       "      <td>Paris</td>\n",
       "    </tr>\n",
       "    <tr>\n",
       "      <th>3</th>\n",
       "      <td>1908-03-24</td>\n",
       "      <td>https://gallica.bnf.fr/ark:/12148/cb326819451/...</td>\n",
       "      <td>https://gallica.bnf.fr/iiif/ark:/12148/bpt6k75...</td>\n",
       "      <td>Action francaise</td>\n",
       "      <td>http://data.bnf.fr/ark:/12148/cb326819451</td>\n",
       "      <td>L'Action française (Paris. 1908)</td>\n",
       "      <td>Q496011</td>\n",
       "      <td>Paris</td>\n",
       "    </tr>\n",
       "    <tr>\n",
       "      <th>4</th>\n",
       "      <td>1908-03-25</td>\n",
       "      <td>https://gallica.bnf.fr/ark:/12148/cb326819451/...</td>\n",
       "      <td>https://gallica.bnf.fr/iiif/ark:/12148/bpt6k75...</td>\n",
       "      <td>Action francaise</td>\n",
       "      <td>http://data.bnf.fr/ark:/12148/cb326819451</td>\n",
       "      <td>L'Action française (Paris. 1908)</td>\n",
       "      <td>Q496011</td>\n",
       "      <td>Paris</td>\n",
       "    </tr>\n",
       "  </tbody>\n",
       "</table>\n",
       "</div>"
      ],
      "text/plain": [
       "  normalized_date                                             Notice  \\\n",
       "0      1908-03-21  https://gallica.bnf.fr/ark:/12148/cb326819451/...   \n",
       "1      1908-03-22  https://gallica.bnf.fr/ark:/12148/cb326819451/...   \n",
       "2      1908-03-23  https://gallica.bnf.fr/ark:/12148/cb326819451/...   \n",
       "3      1908-03-24  https://gallica.bnf.fr/ark:/12148/cb326819451/...   \n",
       "4      1908-03-25  https://gallica.bnf.fr/ark:/12148/cb326819451/...   \n",
       "\n",
       "                                           Media URL             Title  \\\n",
       "0  https://gallica.bnf.fr/iiif/ark:/12148/bpt6k75...  Action francaise   \n",
       "1  https://gallica.bnf.fr/iiif/ark:/12148/bpt6k75...  Action francaise   \n",
       "2  https://gallica.bnf.fr/iiif/ark:/12148/bpt6k75...  Action francaise   \n",
       "3  https://gallica.bnf.fr/iiif/ark:/12148/bpt6k75...  Action francaise   \n",
       "4  https://gallica.bnf.fr/iiif/ark:/12148/bpt6k75...  Action francaise   \n",
       "\n",
       "                                      SPARQL  \\\n",
       "0  http://data.bnf.fr/ark:/12148/cb326819451   \n",
       "1  http://data.bnf.fr/ark:/12148/cb326819451   \n",
       "2  http://data.bnf.fr/ark:/12148/cb326819451   \n",
       "3  http://data.bnf.fr/ark:/12148/cb326819451   \n",
       "4  http://data.bnf.fr/ark:/12148/cb326819451   \n",
       "\n",
       "                              Title Revue_wd   City  \n",
       "0  L'Action française (Paris. 1908)  Q496011  Paris  \n",
       "1  L'Action française (Paris. 1908)  Q496011  Paris  \n",
       "2  L'Action française (Paris. 1908)  Q496011  Paris  \n",
       "3  L'Action française (Paris. 1908)  Q496011  Paris  \n",
       "4  L'Action française (Paris. 1908)  Q496011  Paris  "
      ]
     },
     "execution_count": 43,
     "metadata": {},
     "output_type": "execute_result"
    }
   ],
   "source": [
    "df.head()"
   ]
  }
 ],
 "metadata": {
  "kernelspec": {
   "display_name": "Python 3 (ipykernel)",
   "language": "python",
   "name": "python3"
  },
  "language_info": {
   "codemirror_mode": {
    "name": "ipython",
    "version": 3
   },
   "file_extension": ".py",
   "mimetype": "text/x-python",
   "name": "python",
   "nbconvert_exporter": "python",
   "pygments_lexer": "ipython3",
   "version": "3.10.8"
  }
 },
 "nbformat": 4,
 "nbformat_minor": 5
}
