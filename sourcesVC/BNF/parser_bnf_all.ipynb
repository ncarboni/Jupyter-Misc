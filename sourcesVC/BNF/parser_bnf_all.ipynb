{
 "cells": [
  {
   "cell_type": "code",
   "execution_count": 1,
   "id": "b3a8efa8-5835-41d1-a91f-6d482002236c",
   "metadata": {},
   "outputs": [],
   "source": [
    "import pandas as pd\n",
    "import dateparser\n",
    "import requests\n",
    "from tqdm import tqdm\n",
    "import xml.etree.ElementTree as ET"
   ]
  },
  {
   "cell_type": "markdown",
   "id": "831baa6e-8350-4124-9cab-70d75d7f2597",
   "metadata": {},
   "source": [
    "# BNF to Explore"
   ]
  },
  {
   "cell_type": "markdown",
   "id": "f52376a8-6eb1-4f3d-bbb3-26e37a3d8a97",
   "metadata": {},
   "source": [
    "## Set ARK of the revue to download"
   ]
  },
  {
   "cell_type": "code",
   "execution_count": 2,
   "id": "8469bf9b-7196-4ec9-b5bd-bac5f11bcdf5",
   "metadata": {},
   "outputs": [],
   "source": [
    "ark = \"ark:/12148/cb32810629m/date\""
   ]
  },
  {
   "cell_type": "code",
   "execution_count": 3,
   "id": "cb6f2f8a-67e1-495c-8d7e-dc32748f6d88",
   "metadata": {},
   "outputs": [],
   "source": [
    "# Make the API call\n",
    "url = f\"https://gallica.bnf.fr/services/Issues?ark={ark}\"\n",
    "response = requests.get(url)\n",
    "\n",
    "# Parse the XML response\n",
    "root = ET.fromstring(response.content)\n",
    "years = [element.text for element in root.findall(\".//year\")]\n",
    "\n",
    "# Create the DataFrame\n",
    "df = pd.DataFrame({'URL': [ark] * len(years), 'year': years})"
   ]
  },
  {
   "cell_type": "code",
   "execution_count": 4,
   "id": "92295cc4-a8e3-4f5a-95fb-2535fa88d1bf",
   "metadata": {},
   "outputs": [
    {
     "data": {
      "text/html": [
       "<div>\n",
       "<style scoped>\n",
       "    .dataframe tbody tr th:only-of-type {\n",
       "        vertical-align: middle;\n",
       "    }\n",
       "\n",
       "    .dataframe tbody tr th {\n",
       "        vertical-align: top;\n",
       "    }\n",
       "\n",
       "    .dataframe thead th {\n",
       "        text-align: right;\n",
       "    }\n",
       "</style>\n",
       "<table border=\"1\" class=\"dataframe\">\n",
       "  <thead>\n",
       "    <tr style=\"text-align: right;\">\n",
       "      <th></th>\n",
       "      <th>URL</th>\n",
       "      <th>year</th>\n",
       "    </tr>\n",
       "  </thead>\n",
       "  <tbody>\n",
       "    <tr>\n",
       "      <th>0</th>\n",
       "      <td>ark:/12148/cb32810629m/date</td>\n",
       "      <td>1833</td>\n",
       "    </tr>\n",
       "    <tr>\n",
       "      <th>1</th>\n",
       "      <td>ark:/12148/cb32810629m/date</td>\n",
       "      <td>1834</td>\n",
       "    </tr>\n",
       "    <tr>\n",
       "      <th>2</th>\n",
       "      <td>ark:/12148/cb32810629m/date</td>\n",
       "      <td>1835</td>\n",
       "    </tr>\n",
       "    <tr>\n",
       "      <th>3</th>\n",
       "      <td>ark:/12148/cb32810629m/date</td>\n",
       "      <td>1836</td>\n",
       "    </tr>\n",
       "    <tr>\n",
       "      <th>4</th>\n",
       "      <td>ark:/12148/cb32810629m/date</td>\n",
       "      <td>1837</td>\n",
       "    </tr>\n",
       "  </tbody>\n",
       "</table>\n",
       "</div>"
      ],
      "text/plain": [
       "                           URL  year\n",
       "0  ark:/12148/cb32810629m/date  1833\n",
       "1  ark:/12148/cb32810629m/date  1834\n",
       "2  ark:/12148/cb32810629m/date  1835\n",
       "3  ark:/12148/cb32810629m/date  1836\n",
       "4  ark:/12148/cb32810629m/date  1837"
      ]
     },
     "execution_count": 4,
     "metadata": {},
     "output_type": "execute_result"
    }
   ],
   "source": [
    "df.head()"
   ]
  },
  {
   "cell_type": "markdown",
   "id": "d1b4d334-6436-46d7-92b4-da2ff50adb89",
   "metadata": {},
   "source": [
    "## Make an API call to Gallica to retrieve the issues"
   ]
  },
  {
   "cell_type": "markdown",
   "id": "d2be6d9f-2c76-4fee-9762-f7177dbf9b68",
   "metadata": {},
   "source": [
    "the call will extract, for each year, the number of published issues, their ids and their date of publication"
   ]
  },
  {
   "cell_type": "code",
   "execution_count": 5,
   "id": "be9932b4-b524-417e-a4cf-844bc88dadc7",
   "metadata": {},
   "outputs": [],
   "source": [
    "def process_xml(xml_data):\n",
    "    root = ET.fromstring(xml_data)\n",
    "    issues_extract = []\n",
    "    for issue_elem in root.findall('.//issue'):\n",
    "        ark = issue_elem.get('ark')\n",
    "        content = issue_elem.text.strip()\n",
    "        issues_extract.append(f\"{ark}:::{content}\")\n",
    "    return \"||\".join(issues_extract)"
   ]
  },
  {
   "cell_type": "code",
   "execution_count": 6,
   "id": "9372c89e-a5d5-4dcc-9df3-29b2acdd49db",
   "metadata": {},
   "outputs": [],
   "source": [
    "def get_info(row):\n",
    "    url = \"https://gallica.bnf.fr/services/Issues?ark=\" + row['URL'] + \"&date=\" + str(row['year'])\n",
    "    response = requests.get(url)\n",
    "    response.raise_for_status()  # Raise an exception if the request was unsuccessful\n",
    "    return process_xml(response.content)"
   ]
  },
  {
   "cell_type": "code",
   "execution_count": 7,
   "id": "4d0b7063-a614-436d-b87c-75299d377a96",
   "metadata": {},
   "outputs": [
    {
     "name": "stderr",
     "output_type": "stream",
     "text": [
      "Processing rows: 100%|██████████| 86/86 [00:21<00:00,  4.07it/s]\n"
     ]
    }
   ],
   "source": [
    "tqdm.pandas(desc=\"Processing rows\")\n",
    "df['issues_extract'] = df.progress_apply(get_info, axis=1)"
   ]
  },
  {
   "cell_type": "markdown",
   "id": "95d1ac60-8b98-4c28-a847-860d1a4cca7b",
   "metadata": {},
   "source": [
    "## Data wrangling"
   ]
  },
  {
   "cell_type": "markdown",
   "id": "cc27ff52-80ea-467b-b38e-90800961476c",
   "metadata": {},
   "source": [
    "the data retrieved from the API is organised as pairs of issueid::::year_of_publication divided by \"||\". We need to splits the retrieved values and reorganise them in order to have for each line only a single value"
   ]
  },
  {
   "cell_type": "code",
   "execution_count": 8,
   "id": "549c1cca-183a-4a95-a1b1-e12191ded3e6",
   "metadata": {},
   "outputs": [
    {
     "data": {
      "text/html": [
       "<div>\n",
       "<style scoped>\n",
       "    .dataframe tbody tr th:only-of-type {\n",
       "        vertical-align: middle;\n",
       "    }\n",
       "\n",
       "    .dataframe tbody tr th {\n",
       "        vertical-align: top;\n",
       "    }\n",
       "\n",
       "    .dataframe thead th {\n",
       "        text-align: right;\n",
       "    }\n",
       "</style>\n",
       "<table border=\"1\" class=\"dataframe\">\n",
       "  <thead>\n",
       "    <tr style=\"text-align: right;\">\n",
       "      <th></th>\n",
       "      <th>URL</th>\n",
       "      <th>year</th>\n",
       "      <th>issues_extract</th>\n",
       "    </tr>\n",
       "  </thead>\n",
       "  <tbody>\n",
       "    <tr>\n",
       "      <th>0</th>\n",
       "      <td>ark:/12148/cb32810629m/date</td>\n",
       "      <td>1833</td>\n",
       "      <td>bpt6k314169:::1833||bpt6k1197695m:::1833</td>\n",
       "    </tr>\n",
       "    <tr>\n",
       "      <th>1</th>\n",
       "      <td>ark:/12148/cb32810629m/date</td>\n",
       "      <td>1834</td>\n",
       "      <td>bpt6k31417n:::1834</td>\n",
       "    </tr>\n",
       "    <tr>\n",
       "      <th>2</th>\n",
       "      <td>ark:/12148/cb32810629m/date</td>\n",
       "      <td>1835</td>\n",
       "      <td>bpt6k314180:::1835</td>\n",
       "    </tr>\n",
       "    <tr>\n",
       "      <th>3</th>\n",
       "      <td>ark:/12148/cb32810629m/date</td>\n",
       "      <td>1836</td>\n",
       "      <td>bpt6k31419b:::1836</td>\n",
       "    </tr>\n",
       "    <tr>\n",
       "      <th>4</th>\n",
       "      <td>ark:/12148/cb32810629m/date</td>\n",
       "      <td>1837</td>\n",
       "      <td>bpt6k31420j:::1837</td>\n",
       "    </tr>\n",
       "  </tbody>\n",
       "</table>\n",
       "</div>"
      ],
      "text/plain": [
       "                           URL  year                            issues_extract\n",
       "0  ark:/12148/cb32810629m/date  1833  bpt6k314169:::1833||bpt6k1197695m:::1833\n",
       "1  ark:/12148/cb32810629m/date  1834                        bpt6k31417n:::1834\n",
       "2  ark:/12148/cb32810629m/date  1835                        bpt6k314180:::1835\n",
       "3  ark:/12148/cb32810629m/date  1836                        bpt6k31419b:::1836\n",
       "4  ark:/12148/cb32810629m/date  1837                        bpt6k31420j:::1837"
      ]
     },
     "execution_count": 8,
     "metadata": {},
     "output_type": "execute_result"
    }
   ],
   "source": [
    "df.head()"
   ]
  },
  {
   "cell_type": "code",
   "execution_count": 9,
   "id": "a79bcf84-d49c-4858-9565-76ce813bad8c",
   "metadata": {},
   "outputs": [],
   "source": [
    "# Remove leading and trailing spaces\n",
    "df['issues_extract'] = df['issues_extract'].str.strip()\n",
    "\n",
    "# Split the 'issues_extract' column and expand it into separate columns\n",
    "split_issues = df['issues_extract'].str.split('\\|\\|', expand=True)\n",
    "\n",
    "# Create new column names\n",
    "new_column_names = [f'issues_extract_{i+1}' for i in range(split_issues.shape[1])]\n",
    "\n",
    "# Assign the split values to the new columns\n",
    "split_issues.columns = new_column_names\n",
    "\n",
    "df1 = pd.concat([df, split_issues], axis=1)"
   ]
  },
  {
   "cell_type": "code",
   "execution_count": 10,
   "id": "3ae25aba-b20f-49cf-b41d-b3d60fe08620",
   "metadata": {},
   "outputs": [],
   "source": [
    "df1.drop(columns=['issues_extract'], inplace=True)"
   ]
  },
  {
   "cell_type": "code",
   "execution_count": 11,
   "id": "957fc724-3472-4696-a0dd-cd981eb57889",
   "metadata": {},
   "outputs": [
    {
     "data": {
      "text/html": [
       "<div>\n",
       "<style scoped>\n",
       "    .dataframe tbody tr th:only-of-type {\n",
       "        vertical-align: middle;\n",
       "    }\n",
       "\n",
       "    .dataframe tbody tr th {\n",
       "        vertical-align: top;\n",
       "    }\n",
       "\n",
       "    .dataframe thead th {\n",
       "        text-align: right;\n",
       "    }\n",
       "</style>\n",
       "<table border=\"1\" class=\"dataframe\">\n",
       "  <thead>\n",
       "    <tr style=\"text-align: right;\">\n",
       "      <th></th>\n",
       "      <th>URL</th>\n",
       "      <th>year</th>\n",
       "      <th>issues_extract_1</th>\n",
       "      <th>issues_extract_2</th>\n",
       "      <th>issues_extract_3</th>\n",
       "      <th>issues_extract_4</th>\n",
       "      <th>issues_extract_5</th>\n",
       "      <th>issues_extract_6</th>\n",
       "      <th>issues_extract_7</th>\n",
       "      <th>issues_extract_8</th>\n",
       "      <th>issues_extract_9</th>\n",
       "      <th>issues_extract_10</th>\n",
       "      <th>issues_extract_11</th>\n",
       "      <th>issues_extract_12</th>\n",
       "    </tr>\n",
       "  </thead>\n",
       "  <tbody>\n",
       "    <tr>\n",
       "      <th>0</th>\n",
       "      <td>ark:/12148/cb32810629m/date</td>\n",
       "      <td>1833</td>\n",
       "      <td>bpt6k314169:::1833</td>\n",
       "      <td>bpt6k1197695m:::1833</td>\n",
       "      <td>None</td>\n",
       "      <td>None</td>\n",
       "      <td>None</td>\n",
       "      <td>None</td>\n",
       "      <td>None</td>\n",
       "      <td>None</td>\n",
       "      <td>None</td>\n",
       "      <td>None</td>\n",
       "      <td>None</td>\n",
       "      <td>None</td>\n",
       "    </tr>\n",
       "    <tr>\n",
       "      <th>1</th>\n",
       "      <td>ark:/12148/cb32810629m/date</td>\n",
       "      <td>1834</td>\n",
       "      <td>bpt6k31417n:::1834</td>\n",
       "      <td>None</td>\n",
       "      <td>None</td>\n",
       "      <td>None</td>\n",
       "      <td>None</td>\n",
       "      <td>None</td>\n",
       "      <td>None</td>\n",
       "      <td>None</td>\n",
       "      <td>None</td>\n",
       "      <td>None</td>\n",
       "      <td>None</td>\n",
       "      <td>None</td>\n",
       "    </tr>\n",
       "    <tr>\n",
       "      <th>2</th>\n",
       "      <td>ark:/12148/cb32810629m/date</td>\n",
       "      <td>1835</td>\n",
       "      <td>bpt6k314180:::1835</td>\n",
       "      <td>None</td>\n",
       "      <td>None</td>\n",
       "      <td>None</td>\n",
       "      <td>None</td>\n",
       "      <td>None</td>\n",
       "      <td>None</td>\n",
       "      <td>None</td>\n",
       "      <td>None</td>\n",
       "      <td>None</td>\n",
       "      <td>None</td>\n",
       "      <td>None</td>\n",
       "    </tr>\n",
       "    <tr>\n",
       "      <th>3</th>\n",
       "      <td>ark:/12148/cb32810629m/date</td>\n",
       "      <td>1836</td>\n",
       "      <td>bpt6k31419b:::1836</td>\n",
       "      <td>None</td>\n",
       "      <td>None</td>\n",
       "      <td>None</td>\n",
       "      <td>None</td>\n",
       "      <td>None</td>\n",
       "      <td>None</td>\n",
       "      <td>None</td>\n",
       "      <td>None</td>\n",
       "      <td>None</td>\n",
       "      <td>None</td>\n",
       "      <td>None</td>\n",
       "    </tr>\n",
       "    <tr>\n",
       "      <th>4</th>\n",
       "      <td>ark:/12148/cb32810629m/date</td>\n",
       "      <td>1837</td>\n",
       "      <td>bpt6k31420j:::1837</td>\n",
       "      <td>None</td>\n",
       "      <td>None</td>\n",
       "      <td>None</td>\n",
       "      <td>None</td>\n",
       "      <td>None</td>\n",
       "      <td>None</td>\n",
       "      <td>None</td>\n",
       "      <td>None</td>\n",
       "      <td>None</td>\n",
       "      <td>None</td>\n",
       "      <td>None</td>\n",
       "    </tr>\n",
       "  </tbody>\n",
       "</table>\n",
       "</div>"
      ],
      "text/plain": [
       "                           URL  year    issues_extract_1  \\\n",
       "0  ark:/12148/cb32810629m/date  1833  bpt6k314169:::1833   \n",
       "1  ark:/12148/cb32810629m/date  1834  bpt6k31417n:::1834   \n",
       "2  ark:/12148/cb32810629m/date  1835  bpt6k314180:::1835   \n",
       "3  ark:/12148/cb32810629m/date  1836  bpt6k31419b:::1836   \n",
       "4  ark:/12148/cb32810629m/date  1837  bpt6k31420j:::1837   \n",
       "\n",
       "       issues_extract_2 issues_extract_3 issues_extract_4 issues_extract_5  \\\n",
       "0  bpt6k1197695m:::1833             None             None             None   \n",
       "1                  None             None             None             None   \n",
       "2                  None             None             None             None   \n",
       "3                  None             None             None             None   \n",
       "4                  None             None             None             None   \n",
       "\n",
       "  issues_extract_6 issues_extract_7 issues_extract_8 issues_extract_9  \\\n",
       "0             None             None             None             None   \n",
       "1             None             None             None             None   \n",
       "2             None             None             None             None   \n",
       "3             None             None             None             None   \n",
       "4             None             None             None             None   \n",
       "\n",
       "  issues_extract_10 issues_extract_11 issues_extract_12  \n",
       "0              None              None              None  \n",
       "1              None              None              None  \n",
       "2              None              None              None  \n",
       "3              None              None              None  \n",
       "4              None              None              None  "
      ]
     },
     "execution_count": 11,
     "metadata": {},
     "output_type": "execute_result"
    }
   ],
   "source": [
    "df1.head()"
   ]
  },
  {
   "cell_type": "code",
   "execution_count": 12,
   "id": "4122e126-8b71-4360-bdc9-bf350adc1fac",
   "metadata": {},
   "outputs": [],
   "source": [
    "df1 = df1.drop(columns=['URL','year'])"
   ]
  },
  {
   "cell_type": "code",
   "execution_count": 13,
   "id": "6c99a54d-7fd6-4a32-b050-3f5d770d95b3",
   "metadata": {},
   "outputs": [],
   "source": [
    "table = df1.stack()"
   ]
  },
  {
   "cell_type": "code",
   "execution_count": 14,
   "id": "c2cecbd0-e2af-49b1-87d8-dae122cdabd3",
   "metadata": {},
   "outputs": [
    {
     "data": {
      "text/plain": [
       "0   issues_extract_1                   bpt6k314169:::1833\n",
       "    issues_extract_2                 bpt6k1197695m:::1833\n",
       "1   issues_extract_1                   bpt6k31417n:::1834\n",
       "2   issues_extract_1                   bpt6k314180:::1835\n",
       "3   issues_extract_1                   bpt6k31419b:::1836\n",
       "                                      ...                \n",
       "84  issues_extract_6      bpt6k11977044:::01 juillet 1937\n",
       "    issues_extract_7    bpt6k1197705j:::01 septembre 1937\n",
       "    issues_extract_8     bpt6k1197706z:::01 novembre 1937\n",
       "85  issues_extract_1         bpt6k1197707c:::01 mars 1938\n",
       "    issues_extract_2      bpt6k1197708s:::01 juillet 1938\n",
       "Length: 109, dtype: object"
      ]
     },
     "execution_count": 14,
     "metadata": {},
     "output_type": "execute_result"
    }
   ],
   "source": [
    "table"
   ]
  },
  {
   "cell_type": "code",
   "execution_count": 15,
   "id": "4a02fbfb-815e-4990-8bb1-03568ae3182c",
   "metadata": {},
   "outputs": [],
   "source": [
    "table = table.reset_index()\n",
    "\n",
    "table.columns = ['numberIssue', 'issues_extract', 'date']\n",
    "\n",
    "new_df = table[['issues_extract', 'date']]"
   ]
  },
  {
   "cell_type": "code",
   "execution_count": 16,
   "id": "9b647c31-eac8-48ed-91a6-59a7e44a0dd5",
   "metadata": {},
   "outputs": [
    {
     "data": {
      "text/html": [
       "<div>\n",
       "<style scoped>\n",
       "    .dataframe tbody tr th:only-of-type {\n",
       "        vertical-align: middle;\n",
       "    }\n",
       "\n",
       "    .dataframe tbody tr th {\n",
       "        vertical-align: top;\n",
       "    }\n",
       "\n",
       "    .dataframe thead th {\n",
       "        text-align: right;\n",
       "    }\n",
       "</style>\n",
       "<table border=\"1\" class=\"dataframe\">\n",
       "  <thead>\n",
       "    <tr style=\"text-align: right;\">\n",
       "      <th></th>\n",
       "      <th>issues_extract</th>\n",
       "      <th>date</th>\n",
       "    </tr>\n",
       "  </thead>\n",
       "  <tbody>\n",
       "    <tr>\n",
       "      <th>0</th>\n",
       "      <td>issues_extract_1</td>\n",
       "      <td>bpt6k314169:::1833</td>\n",
       "    </tr>\n",
       "    <tr>\n",
       "      <th>1</th>\n",
       "      <td>issues_extract_2</td>\n",
       "      <td>bpt6k1197695m:::1833</td>\n",
       "    </tr>\n",
       "    <tr>\n",
       "      <th>2</th>\n",
       "      <td>issues_extract_1</td>\n",
       "      <td>bpt6k31417n:::1834</td>\n",
       "    </tr>\n",
       "    <tr>\n",
       "      <th>3</th>\n",
       "      <td>issues_extract_1</td>\n",
       "      <td>bpt6k314180:::1835</td>\n",
       "    </tr>\n",
       "    <tr>\n",
       "      <th>4</th>\n",
       "      <td>issues_extract_1</td>\n",
       "      <td>bpt6k31419b:::1836</td>\n",
       "    </tr>\n",
       "  </tbody>\n",
       "</table>\n",
       "</div>"
      ],
      "text/plain": [
       "     issues_extract                  date\n",
       "0  issues_extract_1    bpt6k314169:::1833\n",
       "1  issues_extract_2  bpt6k1197695m:::1833\n",
       "2  issues_extract_1    bpt6k31417n:::1834\n",
       "3  issues_extract_1    bpt6k314180:::1835\n",
       "4  issues_extract_1    bpt6k31419b:::1836"
      ]
     },
     "execution_count": 16,
     "metadata": {},
     "output_type": "execute_result"
    }
   ],
   "source": [
    "new_df.head()"
   ]
  },
  {
   "cell_type": "code",
   "execution_count": 17,
   "id": "d26419d2-d1a9-4822-b1c4-7a6877a4f036",
   "metadata": {},
   "outputs": [],
   "source": [
    "new_df = new_df.copy()"
   ]
  },
  {
   "cell_type": "markdown",
   "id": "329da301-7036-486a-84b9-36657a049ab9",
   "metadata": {},
   "source": [
    "### Full Date extractions"
   ]
  },
  {
   "cell_type": "code",
   "execution_count": 18,
   "id": "62751cd1-41ee-4baf-8a72-2a13a00dcc4a",
   "metadata": {},
   "outputs": [],
   "source": [
    "new_df[['ark', 'date']] = new_df[\"date\"].apply(lambda x: pd.Series(str(x).split(\":::\")))"
   ]
  },
  {
   "cell_type": "code",
   "execution_count": 19,
   "id": "1c4759e7-5f1d-49ae-9f04-ba16bd0f19b2",
   "metadata": {},
   "outputs": [
    {
     "data": {
      "text/html": [
       "<div>\n",
       "<style scoped>\n",
       "    .dataframe tbody tr th:only-of-type {\n",
       "        vertical-align: middle;\n",
       "    }\n",
       "\n",
       "    .dataframe tbody tr th {\n",
       "        vertical-align: top;\n",
       "    }\n",
       "\n",
       "    .dataframe thead th {\n",
       "        text-align: right;\n",
       "    }\n",
       "</style>\n",
       "<table border=\"1\" class=\"dataframe\">\n",
       "  <thead>\n",
       "    <tr style=\"text-align: right;\">\n",
       "      <th></th>\n",
       "      <th>issues_extract</th>\n",
       "      <th>date</th>\n",
       "      <th>ark</th>\n",
       "    </tr>\n",
       "  </thead>\n",
       "  <tbody>\n",
       "    <tr>\n",
       "      <th>0</th>\n",
       "      <td>issues_extract_1</td>\n",
       "      <td>1833</td>\n",
       "      <td>bpt6k314169</td>\n",
       "    </tr>\n",
       "    <tr>\n",
       "      <th>1</th>\n",
       "      <td>issues_extract_2</td>\n",
       "      <td>1833</td>\n",
       "      <td>bpt6k1197695m</td>\n",
       "    </tr>\n",
       "    <tr>\n",
       "      <th>2</th>\n",
       "      <td>issues_extract_1</td>\n",
       "      <td>1834</td>\n",
       "      <td>bpt6k31417n</td>\n",
       "    </tr>\n",
       "    <tr>\n",
       "      <th>3</th>\n",
       "      <td>issues_extract_1</td>\n",
       "      <td>1835</td>\n",
       "      <td>bpt6k314180</td>\n",
       "    </tr>\n",
       "    <tr>\n",
       "      <th>4</th>\n",
       "      <td>issues_extract_1</td>\n",
       "      <td>1836</td>\n",
       "      <td>bpt6k31419b</td>\n",
       "    </tr>\n",
       "  </tbody>\n",
       "</table>\n",
       "</div>"
      ],
      "text/plain": [
       "     issues_extract  date            ark\n",
       "0  issues_extract_1  1833    bpt6k314169\n",
       "1  issues_extract_2  1833  bpt6k1197695m\n",
       "2  issues_extract_1  1834    bpt6k31417n\n",
       "3  issues_extract_1  1835    bpt6k314180\n",
       "4  issues_extract_1  1836    bpt6k31419b"
      ]
     },
     "execution_count": 19,
     "metadata": {},
     "output_type": "execute_result"
    }
   ],
   "source": [
    "new_df.head()"
   ]
  },
  {
   "cell_type": "markdown",
   "id": "2a264404-86c6-47e0-b6f7-8449b93ac966",
   "metadata": {},
   "source": [
    "#### Check Errors"
   ]
  },
  {
   "cell_type": "markdown",
   "id": "31eb8b3c-abb5-4c6d-9b1e-4ce81a3e9938",
   "metadata": {},
   "source": [
    "in the next step we check that all the dates are full dates. In order to recognize and transform the dates from the form \"01 août 1881\" to \"1981-08-01\" we need to have consistent dates. \n",
    "In case some entries does only have the year and no month, it is important to modify it. The next script will check if something is wrong."
   ]
  },
  {
   "cell_type": "code",
   "execution_count": 20,
   "id": "4299100d-c013-45bf-8c78-f37021777912",
   "metadata": {},
   "outputs": [
    {
     "name": "stdout",
     "output_type": "stream",
     "text": [
      "      issues_extract  date            ark  is_full_date\n",
      "0   issues_extract_1  1833    bpt6k314169         False\n",
      "1   issues_extract_2  1833  bpt6k1197695m         False\n",
      "2   issues_extract_1  1834    bpt6k31417n         False\n",
      "3   issues_extract_1  1835    bpt6k314180         False\n",
      "4   issues_extract_1  1836    bpt6k31419b         False\n",
      "..               ...   ...            ...           ...\n",
      "91  issues_extract_1  1912    bpt6k34986k         False\n",
      "92  issues_extract_1  1913  bpt6k55683827         False\n",
      "93  issues_extract_1  1916  bpt6k55854915         False\n",
      "94  issues_extract_1  1917  bpt6k5587487w         False\n",
      "98  issues_extract_1  1923  bpt6k1197698v         False\n",
      "\n",
      "[84 rows x 4 columns]\n"
     ]
    }
   ],
   "source": [
    "import re\n",
    "\n",
    "def is_full_date(date_str):\n",
    "    pattern = r'\\d{1,2} \\w+ \\d{4}'\n",
    "    \n",
    "    return bool(re.search(pattern, date_str))\n",
    "\n",
    "new_df['is_full_date'] = new_df['date'].apply(is_full_date)\n",
    "\n",
    "incomplete_dates = new_df[~new_df['is_full_date']]\n",
    "\n",
    "print(incomplete_dates)"
   ]
  },
  {
   "cell_type": "markdown",
   "id": "83c9831d-db0f-465f-8eea-239de9d7393f",
   "metadata": {},
   "source": [
    "if one or more values are to be modified, you can change the instruction below to assign the appropriate date"
   ]
  },
  {
   "cell_type": "code",
   "execution_count": 24,
   "id": "d8ef86db-587c-4de9-b7f4-b1f4b0638808",
   "metadata": {
    "tags": []
   },
   "outputs": [],
   "source": [
    "def update_date(date_str):\n",
    "    if not is_full_date(date_str):\n",
    "        year = re.search(r'\\d{4}', date_str).group()\n",
    "        return f\"01 Janvier {year}\"\n",
    "    return date_str"
   ]
  },
  {
   "cell_type": "code",
   "execution_count": 25,
   "id": "d71db869-5a9f-451b-9665-012afedffffb",
   "metadata": {
    "tags": []
   },
   "outputs": [],
   "source": [
    "new_df['date'] = new_df['date'].apply(update_date)"
   ]
  },
  {
   "cell_type": "code",
   "execution_count": null,
   "id": "7b647a62-23d0-4975-ae80-cd5439bbded2",
   "metadata": {},
   "outputs": [],
   "source": [
    "#new_df.loc[new_df['issues_extract'] =='issues_extract_1', 'date'] = '01 Janvier 1881'"
   ]
  },
  {
   "cell_type": "markdown",
   "id": "ebbcaf8d-e923-4f05-869e-b62ef3eaed83",
   "metadata": {},
   "source": [
    "### Parsing date"
   ]
  },
  {
   "cell_type": "code",
   "execution_count": 28,
   "id": "62aa6a0e-088a-4efe-b3bc-55742ce41e9b",
   "metadata": {},
   "outputs": [],
   "source": [
    "new_df.date = new_df.date.apply(lambda x: dateparser.parse(x))"
   ]
  },
  {
   "cell_type": "code",
   "execution_count": 29,
   "id": "7cf993d3-3a16-473d-968b-5e7626e6e943",
   "metadata": {},
   "outputs": [
    {
     "data": {
      "text/html": [
       "<div>\n",
       "<style scoped>\n",
       "    .dataframe tbody tr th:only-of-type {\n",
       "        vertical-align: middle;\n",
       "    }\n",
       "\n",
       "    .dataframe tbody tr th {\n",
       "        vertical-align: top;\n",
       "    }\n",
       "\n",
       "    .dataframe thead th {\n",
       "        text-align: right;\n",
       "    }\n",
       "</style>\n",
       "<table border=\"1\" class=\"dataframe\">\n",
       "  <thead>\n",
       "    <tr style=\"text-align: right;\">\n",
       "      <th></th>\n",
       "      <th>issues_extract</th>\n",
       "      <th>date</th>\n",
       "      <th>ark</th>\n",
       "      <th>is_full_date</th>\n",
       "    </tr>\n",
       "  </thead>\n",
       "  <tbody>\n",
       "    <tr>\n",
       "      <th>0</th>\n",
       "      <td>issues_extract_1</td>\n",
       "      <td>1833-01-01</td>\n",
       "      <td>bpt6k314169</td>\n",
       "      <td>False</td>\n",
       "    </tr>\n",
       "    <tr>\n",
       "      <th>1</th>\n",
       "      <td>issues_extract_2</td>\n",
       "      <td>1833-01-01</td>\n",
       "      <td>bpt6k1197695m</td>\n",
       "      <td>False</td>\n",
       "    </tr>\n",
       "    <tr>\n",
       "      <th>2</th>\n",
       "      <td>issues_extract_1</td>\n",
       "      <td>1834-01-01</td>\n",
       "      <td>bpt6k31417n</td>\n",
       "      <td>False</td>\n",
       "    </tr>\n",
       "    <tr>\n",
       "      <th>3</th>\n",
       "      <td>issues_extract_1</td>\n",
       "      <td>1835-01-01</td>\n",
       "      <td>bpt6k314180</td>\n",
       "      <td>False</td>\n",
       "    </tr>\n",
       "    <tr>\n",
       "      <th>4</th>\n",
       "      <td>issues_extract_1</td>\n",
       "      <td>1836-01-01</td>\n",
       "      <td>bpt6k31419b</td>\n",
       "      <td>False</td>\n",
       "    </tr>\n",
       "  </tbody>\n",
       "</table>\n",
       "</div>"
      ],
      "text/plain": [
       "     issues_extract       date            ark  is_full_date\n",
       "0  issues_extract_1 1833-01-01    bpt6k314169         False\n",
       "1  issues_extract_2 1833-01-01  bpt6k1197695m         False\n",
       "2  issues_extract_1 1834-01-01    bpt6k31417n         False\n",
       "3  issues_extract_1 1835-01-01    bpt6k314180         False\n",
       "4  issues_extract_1 1836-01-01    bpt6k31419b         False"
      ]
     },
     "execution_count": 29,
     "metadata": {},
     "output_type": "execute_result"
    }
   ],
   "source": [
    "new_df.head()"
   ]
  },
  {
   "cell_type": "code",
   "execution_count": 30,
   "id": "15eb6059-ef6e-47ff-a206-f9af7e79f0f6",
   "metadata": {},
   "outputs": [],
   "source": [
    "new_df = new_df.drop(columns=['is_full_date'])"
   ]
  },
  {
   "cell_type": "code",
   "execution_count": 31,
   "id": "af9158e9-68f8-4a8d-872c-dfb7d4c42ee0",
   "metadata": {},
   "outputs": [],
   "source": [
    "new_df[\"Notice\"] = \"https://gallica.bnf.fr/\" + ark"
   ]
  },
  {
   "cell_type": "code",
   "execution_count": 32,
   "id": "645b364c-aa87-4633-9616-77b727459c38",
   "metadata": {},
   "outputs": [
    {
     "data": {
      "text/html": [
       "<div>\n",
       "<style scoped>\n",
       "    .dataframe tbody tr th:only-of-type {\n",
       "        vertical-align: middle;\n",
       "    }\n",
       "\n",
       "    .dataframe tbody tr th {\n",
       "        vertical-align: top;\n",
       "    }\n",
       "\n",
       "    .dataframe thead th {\n",
       "        text-align: right;\n",
       "    }\n",
       "</style>\n",
       "<table border=\"1\" class=\"dataframe\">\n",
       "  <thead>\n",
       "    <tr style=\"text-align: right;\">\n",
       "      <th></th>\n",
       "      <th>issues_extract</th>\n",
       "      <th>date</th>\n",
       "      <th>ark</th>\n",
       "      <th>Notice</th>\n",
       "    </tr>\n",
       "  </thead>\n",
       "  <tbody>\n",
       "    <tr>\n",
       "      <th>0</th>\n",
       "      <td>issues_extract_1</td>\n",
       "      <td>1833-01-01</td>\n",
       "      <td>bpt6k314169</td>\n",
       "      <td>https://gallica.bnf.fr/ark:/12148/cb32810629m/...</td>\n",
       "    </tr>\n",
       "    <tr>\n",
       "      <th>1</th>\n",
       "      <td>issues_extract_2</td>\n",
       "      <td>1833-01-01</td>\n",
       "      <td>bpt6k1197695m</td>\n",
       "      <td>https://gallica.bnf.fr/ark:/12148/cb32810629m/...</td>\n",
       "    </tr>\n",
       "    <tr>\n",
       "      <th>2</th>\n",
       "      <td>issues_extract_1</td>\n",
       "      <td>1834-01-01</td>\n",
       "      <td>bpt6k31417n</td>\n",
       "      <td>https://gallica.bnf.fr/ark:/12148/cb32810629m/...</td>\n",
       "    </tr>\n",
       "    <tr>\n",
       "      <th>3</th>\n",
       "      <td>issues_extract_1</td>\n",
       "      <td>1835-01-01</td>\n",
       "      <td>bpt6k314180</td>\n",
       "      <td>https://gallica.bnf.fr/ark:/12148/cb32810629m/...</td>\n",
       "    </tr>\n",
       "    <tr>\n",
       "      <th>4</th>\n",
       "      <td>issues_extract_1</td>\n",
       "      <td>1836-01-01</td>\n",
       "      <td>bpt6k31419b</td>\n",
       "      <td>https://gallica.bnf.fr/ark:/12148/cb32810629m/...</td>\n",
       "    </tr>\n",
       "  </tbody>\n",
       "</table>\n",
       "</div>"
      ],
      "text/plain": [
       "     issues_extract       date            ark  \\\n",
       "0  issues_extract_1 1833-01-01    bpt6k314169   \n",
       "1  issues_extract_2 1833-01-01  bpt6k1197695m   \n",
       "2  issues_extract_1 1834-01-01    bpt6k31417n   \n",
       "3  issues_extract_1 1835-01-01    bpt6k314180   \n",
       "4  issues_extract_1 1836-01-01    bpt6k31419b   \n",
       "\n",
       "                                              Notice  \n",
       "0  https://gallica.bnf.fr/ark:/12148/cb32810629m/...  \n",
       "1  https://gallica.bnf.fr/ark:/12148/cb32810629m/...  \n",
       "2  https://gallica.bnf.fr/ark:/12148/cb32810629m/...  \n",
       "3  https://gallica.bnf.fr/ark:/12148/cb32810629m/...  \n",
       "4  https://gallica.bnf.fr/ark:/12148/cb32810629m/...  "
      ]
     },
     "execution_count": 32,
     "metadata": {},
     "output_type": "execute_result"
    }
   ],
   "source": [
    "new_df.head()"
   ]
  },
  {
   "cell_type": "markdown",
   "id": "2eceeff9-0cee-4e58-9c34-eff25354f995",
   "metadata": {},
   "source": [
    "## Metadata"
   ]
  },
  {
   "cell_type": "markdown",
   "id": "e78d2544-04bc-4f2d-ba4c-50efef0b79dd",
   "metadata": {},
   "source": [
    "this step is manual and depends on the journal. Each cell assign to the dataframe a new column with Title, City of publication, and all the metadata required by the project. Change it accordingly to your publication"
   ]
  },
  {
   "cell_type": "code",
   "execution_count": 33,
   "id": "f43def03-b4fd-4a98-a97f-16e162456dfe",
   "metadata": {},
   "outputs": [],
   "source": [
    "new_df[\"Title\"] = \"Le Magasin pittoresque \""
   ]
  },
  {
   "cell_type": "code",
   "execution_count": 34,
   "id": "88fe470c-cbb3-4b6f-a7e0-1ff95ca61e10",
   "metadata": {},
   "outputs": [],
   "source": [
    "new_df[\"City\"] = \"Paris\"\n",
    "new_df[\"Country\"] = \"France\"\n",
    "new_df[\"Journal Type\"] = \"\""
   ]
  },
  {
   "cell_type": "code",
   "execution_count": 35,
   "id": "6757cae4-fc22-4efd-b78a-a5e9b2fd106c",
   "metadata": {},
   "outputs": [],
   "source": [
    "new_df = new_df.drop(columns=['issues_extract'])"
   ]
  },
  {
   "cell_type": "code",
   "execution_count": 36,
   "id": "b6110da5-e11b-4fb9-9cb1-b5c3c38827b8",
   "metadata": {},
   "outputs": [],
   "source": [
    "new_df.rename(columns={'date': 'normalized_date', 'ark':'issueArk'}, inplace=True)"
   ]
  },
  {
   "cell_type": "code",
   "execution_count": 37,
   "id": "147d8c57-662d-475b-9b8a-315f2a3b3767",
   "metadata": {},
   "outputs": [],
   "source": [
    "new_df[\"Media URL\"] = 'https://gallica.bnf.fr/iiif/ark:/12148/' + new_df['issueArk'].astype(str) + '/manifest.json'"
   ]
  },
  {
   "cell_type": "code",
   "execution_count": 38,
   "id": "3988cefa-62b8-4da2-810e-cda860618db4",
   "metadata": {},
   "outputs": [],
   "source": [
    "new_df[\"wkt\"] = 'POINT(2.3513888888889 48.856944444444)'"
   ]
  },
  {
   "cell_type": "code",
   "execution_count": 39,
   "id": "991c0d3f-b671-4426-87ea-bb0b457ca7b2",
   "metadata": {},
   "outputs": [],
   "source": [
    "new_df[\"City_wd\"] = 'Q90'\n",
    "new_df[\"Country_wd\"] = 'Q142'"
   ]
  },
  {
   "cell_type": "code",
   "execution_count": 40,
   "id": "86b011b2-444e-4b31-a8e5-07648fff4ec2",
   "metadata": {},
   "outputs": [],
   "source": [
    "new_df.to_csv('/Users/carboni/Downloads/pittoresque.csv', index=False)"
   ]
  }
 ],
 "metadata": {
  "kernelspec": {
   "display_name": "Python 3 (ipykernel)",
   "language": "python",
   "name": "python3"
  },
  "language_info": {
   "codemirror_mode": {
    "name": "ipython",
    "version": 3
   },
   "file_extension": ".py",
   "mimetype": "text/x-python",
   "name": "python",
   "nbconvert_exporter": "python",
   "pygments_lexer": "ipython3",
   "version": "3.10.8"
  }
 },
 "nbformat": 4,
 "nbformat_minor": 5
}
