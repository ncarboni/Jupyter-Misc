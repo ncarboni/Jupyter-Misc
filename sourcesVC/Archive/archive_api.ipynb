{
 "cells": [
  {
   "cell_type": "markdown",
   "id": "da100e0c-b97a-4378-9dcb-60dd635a3e02",
   "metadata": {},
   "source": [
    "# Archive.org API "
   ]
  },
  {
   "cell_type": "markdown",
   "id": "8d7e2fc9-3bfc-4c4f-93ad-97817943a9e8",
   "metadata": {},
   "source": [
    "find items in collection"
   ]
  },
  {
   "cell_type": "code",
   "execution_count": 52,
   "id": "6b250141-d72e-4a0e-a42e-a0671bfb1831",
   "metadata": {
    "tags": []
   },
   "outputs": [],
   "source": [
    "import pandas as pd\n",
    "from internetarchive import search_items\n",
    "from tqdm import tqdm"
   ]
  },
  {
   "cell_type": "code",
   "execution_count": 48,
   "id": "12a14ebb-4c18-4f1f-badf-717ef973f2df",
   "metadata": {
    "tags": []
   },
   "outputs": [],
   "source": [
    "df = pd.read_csv('archive_to_add.csv')"
   ]
  },
  {
   "cell_type": "code",
   "execution_count": 49,
   "id": "f80ee6b2-3318-491b-b1d0-926e4f66a412",
   "metadata": {
    "tags": []
   },
   "outputs": [
    {
     "data": {
      "text/html": [
       "<div>\n",
       "<style scoped>\n",
       "    .dataframe tbody tr th:only-of-type {\n",
       "        vertical-align: middle;\n",
       "    }\n",
       "\n",
       "    .dataframe tbody tr th {\n",
       "        vertical-align: top;\n",
       "    }\n",
       "\n",
       "    .dataframe thead th {\n",
       "        text-align: right;\n",
       "    }\n",
       "</style>\n",
       "<table border=\"1\" class=\"dataframe\">\n",
       "  <thead>\n",
       "    <tr style=\"text-align: right;\">\n",
       "      <th></th>\n",
       "      <th>Titre</th>\n",
       "      <th>URL</th>\n",
       "      <th>source</th>\n",
       "      <th>id</th>\n",
       "      <th>id_archive</th>\n",
       "      <th>present</th>\n",
       "    </tr>\n",
       "  </thead>\n",
       "  <tbody>\n",
       "    <tr>\n",
       "      <th>0</th>\n",
       "      <td>The Small Pond Magazine of Literature</td>\n",
       "      <td>https://archive.org/details/pub_small-pond-mag...</td>\n",
       "      <td>thomas.csv</td>\n",
       "      <td>https://iiif.archive.org/iiif/pub_small-pond-m...</td>\n",
       "      <td>pub_small-pond-magazine-of-literature</td>\n",
       "      <td>False</td>\n",
       "    </tr>\n",
       "    <tr>\n",
       "      <th>1</th>\n",
       "      <td>The English Review Magazine</td>\n",
       "      <td>https://archive.org/details/pub_english-review...</td>\n",
       "      <td>thomas.csv</td>\n",
       "      <td>https://iiif.archive.org/iiif/pub_english-revi...</td>\n",
       "      <td>pub_english-review-magazine</td>\n",
       "      <td>False</td>\n",
       "    </tr>\n",
       "    <tr>\n",
       "      <th>2</th>\n",
       "      <td>ATA (Alberta Teachers' Association)</td>\n",
       "      <td>https://archive.org/details/pub_ata-magazine</td>\n",
       "      <td>thomas.csv</td>\n",
       "      <td>https://iiif.archive.org/iiif/pub_ata-magazine...</td>\n",
       "      <td>pub_ata-magazine</td>\n",
       "      <td>False</td>\n",
       "    </tr>\n",
       "    <tr>\n",
       "      <th>3</th>\n",
       "      <td>HLM : The Howard League Magazine</td>\n",
       "      <td>https://archive.org/details/pub_hlm-the-howard...</td>\n",
       "      <td>thomas.csv</td>\n",
       "      <td>https://iiif.archive.org/iiif/pub_hlm-the-howa...</td>\n",
       "      <td>pub_hlm-the-howard-league-magazine</td>\n",
       "      <td>False</td>\n",
       "    </tr>\n",
       "    <tr>\n",
       "      <th>4</th>\n",
       "      <td>Clavier</td>\n",
       "      <td>https://archive.org/details/pub_clavier-a-maga...</td>\n",
       "      <td>thomas.csv</td>\n",
       "      <td>https://iiif.archive.org/iiif/pub_clavier-a-ma...</td>\n",
       "      <td>pub_clavier-a-magazine-for-pianists-and-organists</td>\n",
       "      <td>False</td>\n",
       "    </tr>\n",
       "  </tbody>\n",
       "</table>\n",
       "</div>"
      ],
      "text/plain": [
       "                                   Titre  \\\n",
       "0  The Small Pond Magazine of Literature   \n",
       "1            The English Review Magazine   \n",
       "2    ATA (Alberta Teachers' Association)   \n",
       "3       HLM : The Howard League Magazine   \n",
       "4                                Clavier   \n",
       "\n",
       "                                                 URL      source  \\\n",
       "0  https://archive.org/details/pub_small-pond-mag...  thomas.csv   \n",
       "1  https://archive.org/details/pub_english-review...  thomas.csv   \n",
       "2       https://archive.org/details/pub_ata-magazine  thomas.csv   \n",
       "3  https://archive.org/details/pub_hlm-the-howard...  thomas.csv   \n",
       "4  https://archive.org/details/pub_clavier-a-maga...  thomas.csv   \n",
       "\n",
       "                                                  id  \\\n",
       "0  https://iiif.archive.org/iiif/pub_small-pond-m...   \n",
       "1  https://iiif.archive.org/iiif/pub_english-revi...   \n",
       "2  https://iiif.archive.org/iiif/pub_ata-magazine...   \n",
       "3  https://iiif.archive.org/iiif/pub_hlm-the-howa...   \n",
       "4  https://iiif.archive.org/iiif/pub_clavier-a-ma...   \n",
       "\n",
       "                                          id_archive  present  \n",
       "0              pub_small-pond-magazine-of-literature    False  \n",
       "1                        pub_english-review-magazine    False  \n",
       "2                                   pub_ata-magazine    False  \n",
       "3                 pub_hlm-the-howard-league-magazine    False  \n",
       "4  pub_clavier-a-magazine-for-pianists-and-organists    False  "
      ]
     },
     "execution_count": 49,
     "metadata": {},
     "output_type": "execute_result"
    }
   ],
   "source": [
    "df.head()"
   ]
  },
  {
   "cell_type": "code",
   "execution_count": 50,
   "id": "b94477ec-6900-4fe9-90a1-c2b2e8ab8371",
   "metadata": {
    "tags": []
   },
   "outputs": [],
   "source": [
    "# Function to get items for a collection\n",
    "def get_items_for_collection(collection_id):\n",
    "    search_results = internetarchive.search_items(f'collection:{collection_id}')\n",
    "    return [item['identifier'] for item in search_results]"
   ]
  },
  {
   "cell_type": "code",
   "execution_count": 53,
   "id": "e6d3d4fb-1649-41c9-b433-b0eb629631bd",
   "metadata": {
    "tags": []
   },
   "outputs": [
    {
     "name": "stderr",
     "output_type": "stream",
     "text": [
      "Processing collections: 100%|██████████| 113/113 [02:29<00:00,  1.33s/it]\n"
     ]
    }
   ],
   "source": [
    "items_data = []\n",
    "\n",
    "for collection_id in tqdm(df['id_archive'], desc=\"Processing collections\"):\n",
    "    items = get_items_for_collection(collection_id)\n",
    "    for item in items:\n",
    "        items_data.append({'id_archive': collection_id, 'item': item})\n"
   ]
  },
  {
   "cell_type": "code",
   "execution_count": 54,
   "id": "ca2a5460-1918-4684-9c1e-a3498c631d04",
   "metadata": {
    "tags": []
   },
   "outputs": [],
   "source": [
    "# Create a new DataFrame from the items data\n",
    "items_df = pd.DataFrame(items_data)"
   ]
  },
  {
   "cell_type": "code",
   "execution_count": 55,
   "id": "342d8957-a25b-4f67-8efd-a14f401f09e2",
   "metadata": {
    "tags": []
   },
   "outputs": [],
   "source": [
    "merged_df = df.merge(items_df, on='id_archive', how='left')"
   ]
  },
  {
   "cell_type": "code",
   "execution_count": null,
   "id": "480fff97-ff07-496a-84fc-866a5f173c4a",
   "metadata": {},
   "outputs": [],
   "source": [
    "merged_df.to_csv('updated_with_items.csv', index=False)"
   ]
  },
  {
   "cell_type": "code",
   "execution_count": null,
   "id": "3e2c04a8-80b2-4139-baca-63108f976118",
   "metadata": {},
   "outputs": [],
   "source": [
    "#df = pd.read_csv('updated_with_items.csv')"
   ]
  },
  {
   "cell_type": "code",
   "execution_count": 61,
   "id": "a04c346b-6873-47e1-99b0-d6f2b6547201",
   "metadata": {
    "tags": []
   },
   "outputs": [],
   "source": [
    "query_counter = 0\n",
    "\n",
    "# Function to get the date for an item\n",
    "def get_date_for_item(item_id):\n",
    "    global query_counter\n",
    "    try:\n",
    "        item = get_item(item_id)\n",
    "        query_counter += 1\n",
    "\n",
    "        # If query_counter hits a multiple of 200, pause for 30 seconds\n",
    "        if query_counter % 200 == 0:\n",
    "            print(\"Pausing for 30 seconds...\")\n",
    "            time.sleep(30)\n",
    "\n",
    "        return item.metadata.get('date', 'No date available')\n",
    "    except Exception as e:\n",
    "        print(f\"Error retrieving item {item_id}: {e}\")\n",
    "        return 'Error'"
   ]
  },
  {
   "cell_type": "code",
   "execution_count": null,
   "id": "dc4894f3-4ef4-42a8-ad9e-0f3c82e15e0d",
   "metadata": {
    "tags": []
   },
   "outputs": [],
   "source": [
    "tqdm.pandas(desc=\"Retrieving Dates\")\n",
    "merged_df['Date'] = merged_df['item'].progress_apply(get_date_for_item)"
   ]
  },
  {
   "cell_type": "code",
   "execution_count": null,
   "id": "e4002862-03af-473c-a86c-8589fba41096",
   "metadata": {},
   "outputs": [],
   "source": []
  },
  {
   "cell_type": "code",
   "execution_count": null,
   "id": "291ee457-a281-48ab-ae19-9453115776e9",
   "metadata": {},
   "outputs": [],
   "source": []
  },
  {
   "cell_type": "code",
   "execution_count": 57,
   "id": "18f7383e-bab6-41b2-9c12-77302612aff0",
   "metadata": {
    "tags": []
   },
   "outputs": [],
   "source": [
    "merged_df.to_csv('updated_with_items_metadata.csv', index=False)"
   ]
  },
  {
   "cell_type": "code",
   "execution_count": 41,
   "id": "e6b89ab5-62f1-4280-b228-2d3334ba9a19",
   "metadata": {
    "tags": []
   },
   "outputs": [
    {
     "data": {
      "text/html": [
       "<div>\n",
       "<style scoped>\n",
       "    .dataframe tbody tr th:only-of-type {\n",
       "        vertical-align: middle;\n",
       "    }\n",
       "\n",
       "    .dataframe tbody tr th {\n",
       "        vertical-align: top;\n",
       "    }\n",
       "\n",
       "    .dataframe thead th {\n",
       "        text-align: right;\n",
       "    }\n",
       "</style>\n",
       "<table border=\"1\" class=\"dataframe\">\n",
       "  <thead>\n",
       "    <tr style=\"text-align: right;\">\n",
       "      <th></th>\n",
       "      <th>Titre</th>\n",
       "      <th>URL</th>\n",
       "      <th>source</th>\n",
       "      <th>id</th>\n",
       "      <th>id_archive</th>\n",
       "      <th>present</th>\n",
       "      <th>item</th>\n",
       "    </tr>\n",
       "  </thead>\n",
       "  <tbody>\n",
       "    <tr>\n",
       "      <th>0</th>\n",
       "      <td>The Small Pond Magazine of Literature</td>\n",
       "      <td>https://archive.org/details/pub_small-pond-mag...</td>\n",
       "      <td>thomas.csv</td>\n",
       "      <td>https://iiif.archive.org/iiif/pub_small-pond-m...</td>\n",
       "      <td>pub_small-pond-magazine-of-literature</td>\n",
       "      <td>False</td>\n",
       "      <td>sim_small-pond-magazine-of-literature_1985-198...</td>\n",
       "    </tr>\n",
       "  </tbody>\n",
       "</table>\n",
       "</div>"
      ],
      "text/plain": [
       "                                   Titre  \\\n",
       "0  The Small Pond Magazine of Literature   \n",
       "\n",
       "                                                 URL      source  \\\n",
       "0  https://archive.org/details/pub_small-pond-mag...  thomas.csv   \n",
       "\n",
       "                                                  id  \\\n",
       "0  https://iiif.archive.org/iiif/pub_small-pond-m...   \n",
       "\n",
       "                              id_archive  present  \\\n",
       "0  pub_small-pond-magazine-of-literature    False   \n",
       "\n",
       "                                                item  \n",
       "0  sim_small-pond-magazine-of-literature_1985-198...  "
      ]
     },
     "execution_count": 41,
     "metadata": {},
     "output_type": "execute_result"
    }
   ],
   "source": [
    "merged_df.head()"
   ]
  }
 ],
 "metadata": {
  "kernelspec": {
   "display_name": "Python 3 (ipykernel)",
   "language": "python",
   "name": "python3"
  },
  "language_info": {
   "codemirror_mode": {
    "name": "ipython",
    "version": 3
   },
   "file_extension": ".py",
   "mimetype": "text/x-python",
   "name": "python",
   "nbconvert_exporter": "python",
   "pygments_lexer": "ipython3",
   "version": "3.10.8"
  }
 },
 "nbformat": 4,
 "nbformat_minor": 5
}
