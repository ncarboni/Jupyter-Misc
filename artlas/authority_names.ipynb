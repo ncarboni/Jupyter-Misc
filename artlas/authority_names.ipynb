{
 "cells": [
  {
   "cell_type": "markdown",
   "id": "fdde78cc-bbfc-41a1-9fae-47726731cbb1",
   "metadata": {},
   "source": [
    "# Name Authority"
   ]
  },
  {
   "cell_type": "code",
   "execution_count": null,
   "id": "b2c9da65-7a4b-41d4-8af2-d83dc25d7531",
   "metadata": {
    "tags": []
   },
   "outputs": [],
   "source": [
    "import pandas as pd"
   ]
  },
  {
   "cell_type": "code",
   "execution_count": null,
   "id": "c6387d1f-c5a9-4966-8592-a0d1dff125b8",
   "metadata": {
    "tags": []
   },
   "outputs": [],
   "source": [
    "df = pd.read_csv('/Users/carboni/Downloads/Exhibitor 2023.csv', dtype='str')"
   ]
  },
  {
   "cell_type": "code",
   "execution_count": null,
   "id": "53db1e38-2e85-4d76-b1f2-e4e162c87d41",
   "metadata": {},
   "outputs": [],
   "source": []
  },
  {
   "cell_type": "code",
   "execution_count": null,
   "id": "ff082464-12b0-4ad8-9a63-3e95f2640233",
   "metadata": {
    "tags": []
   },
   "outputs": [],
   "source": [
    "different_wikidata_ids = df.groupby('full_name_wd').filter(lambda x: x['wikidata_id'].nunique() > 1)"
   ]
  },
  {
   "cell_type": "code",
   "execution_count": null,
   "id": "71a92e43-a16d-4abd-ac47-85bdeae0a07e",
   "metadata": {
    "tags": []
   },
   "outputs": [],
   "source": [
    "different_wikidata_ids"
   ]
  },
  {
   "cell_type": "code",
   "execution_count": null,
   "id": "9450f594-85d2-4c99-bcf5-37a37abe9e6b",
   "metadata": {
    "tags": []
   },
   "outputs": [],
   "source": [
    "different_wikidata_ids.to_csv('different_wikidata_ids.csv', index=False)"
   ]
  },
  {
   "cell_type": "code",
   "execution_count": null,
   "id": "bd09751e-8682-4ded-8ea0-d74a707c59a4",
   "metadata": {},
   "outputs": [],
   "source": []
  },
  {
   "cell_type": "code",
   "execution_count": null,
   "id": "23112dfa-f84a-4b15-8590-707f5d5ba113",
   "metadata": {
    "tags": []
   },
   "outputs": [],
   "source": [
    "# Group by 'full_name' and apply a custom function to find mixed 'wikidata_id' statuses\n",
    "mixed_wikidata_status_names = df.groupby('full_name_wd').apply(\n",
    "    lambda x: x['wikidata_id'].isna().any() and x['wikidata_id'].notna().any()\n",
    ")\n",
    "\n",
    "# Filter the names that have mixed statuses\n",
    "mixed_names = mixed_wikidata_status_names[mixed_wikidata_status_names].index\n",
    "\n",
    "# Select the original records with these names\n",
    "mixed_records = df[df['full_name_wd'].isin(mixed_names)]"
   ]
  },
  {
   "cell_type": "code",
   "execution_count": null,
   "id": "e3cf2109-0232-49ea-9a83-20b14d0c8bdb",
   "metadata": {
    "tags": []
   },
   "outputs": [],
   "source": [
    "mixed_records"
   ]
  },
  {
   "cell_type": "code",
   "execution_count": null,
   "id": "e312a459-00c9-4531-8e9c-8a8f9cedd03b",
   "metadata": {
    "tags": []
   },
   "outputs": [],
   "source": [
    "mixed_records.to_csv('mixed_records.csv', index=False)"
   ]
  },
  {
   "cell_type": "code",
   "execution_count": null,
   "id": "eb3a3a93-a2bf-4c9b-b9e6-e3a5b7de9150",
   "metadata": {
    "tags": []
   },
   "outputs": [],
   "source": [
    "mixed_sorted = df.sort_values(by=['full_name_wd', 'wikidata_id'], ascending=[True, False], na_position='last')"
   ]
  },
  {
   "cell_type": "code",
   "execution_count": null,
   "id": "2c695ceb-6363-4366-8e5a-0d7e6d29d386",
   "metadata": {
    "tags": []
   },
   "outputs": [],
   "source": [
    "mixed_sorted"
   ]
  },
  {
   "cell_type": "code",
   "execution_count": null,
   "id": "7535838d-f6bf-461f-8820-1603f3f53a4e",
   "metadata": {
    "tags": []
   },
   "outputs": [],
   "source": [
    "mixed_auth = mixed_sorted.drop_duplicates(subset=['full_name_wd'])"
   ]
  },
  {
   "cell_type": "code",
   "execution_count": null,
   "id": "106797aa-6b39-4726-bdd7-1daa8624f188",
   "metadata": {
    "tags": []
   },
   "outputs": [],
   "source": [
    "mixed_auth.to_csv('mixed_no_dupl.csv', index=False)"
   ]
  },
  {
   "cell_type": "code",
   "execution_count": null,
   "id": "4f1495b4-0fa4-4275-a606-3410390b14df",
   "metadata": {},
   "outputs": [],
   "source": []
  },
  {
   "cell_type": "code",
   "execution_count": null,
   "id": "e2a56ce4-ca40-4df1-b0c9-ae2f7b993361",
   "metadata": {
    "tags": []
   },
   "outputs": [],
   "source": [
    "different_full_names = df.groupby('wikidata_id').filter(lambda x: x['full_name_wd'].nunique() > 1)"
   ]
  },
  {
   "cell_type": "code",
   "execution_count": null,
   "id": "5a596375-d14b-4a7a-a6a2-b883f88cbf71",
   "metadata": {
    "tags": []
   },
   "outputs": [],
   "source": [
    "different_full_names = different_full_names.explode('full_name_wd')"
   ]
  },
  {
   "cell_type": "code",
   "execution_count": null,
   "id": "1fce54f0-7512-40e5-bb30-ba249c73d270",
   "metadata": {
    "tags": []
   },
   "outputs": [],
   "source": [
    "different_full_names"
   ]
  },
  {
   "cell_type": "code",
   "execution_count": null,
   "id": "86c0c47f-93f7-4be8-8ef3-b9a287bbc07b",
   "metadata": {
    "tags": []
   },
   "outputs": [],
   "source": [
    "different_full_names = different_full_names.sort_values(by='wikidata_id', ascending=False)"
   ]
  },
  {
   "cell_type": "code",
   "execution_count": null,
   "id": "b951bf6e-be28-422a-ab4f-b239d12d308c",
   "metadata": {
    "tags": []
   },
   "outputs": [],
   "source": [
    "different_full_names.to_csv('different_full_names.csv', index=False)"
   ]
  }
 ],
 "metadata": {
  "kernelspec": {
   "display_name": "Python 3 (ipykernel)",
   "language": "python",
   "name": "python3"
  },
  "language_info": {
   "codemirror_mode": {
    "name": "ipython",
    "version": 3
   },
   "file_extension": ".py",
   "mimetype": "text/x-python",
   "name": "python",
   "nbconvert_exporter": "python",
   "pygments_lexer": "ipython3",
   "version": "3.10.8"
  }
 },
 "nbformat": 4,
 "nbformat_minor": 5
}
