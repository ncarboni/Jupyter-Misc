{
 "cells": [
  {
   "cell_type": "markdown",
   "id": "d2caddcf-2983-4d87-987f-5d08d504b35a",
   "metadata": {},
   "source": [
    "# Extract wikidata IDS from Openrefine"
   ]
  },
  {
   "cell_type": "code",
   "execution_count": null,
   "id": "ef453a46-df08-4267-b9af-8df0c0c3ff83",
   "metadata": {
    "tags": []
   },
   "outputs": [],
   "source": [
    "import pandas as pd\n",
    "import requests\n",
    "from io import StringIO"
   ]
  },
  {
   "cell_type": "code",
   "execution_count": null,
   "id": "f7c34f5e-bbac-4c4c-9a84-c522b4cc9b6d",
   "metadata": {
    "tags": []
   },
   "outputs": [],
   "source": [
    "import requests\n",
    "import pandas as pd\n",
    "\n",
    "url = \"http://129.194.213.75/command/core/export-rows\"\n",
    "params = {\n",
    "    'format': 'csv',\n",
    "    'project': '2623392316428'\n",
    "}\n",
    "\n",
    "response = requests.post(url, params=params)\n",
    "\n",
    "if response.status_code == 200:\n",
    "    # Read the content of the response directly into a DataFrame\n",
    "    df = pd.read_csv(StringIO(response.text), dtype ='str', low_memory=False)\n",
    "else:\n",
    "    print(f\"Failed to load data. Status code: {response.status_code}\")"
   ]
  },
  {
   "cell_type": "code",
   "execution_count": null,
   "id": "81497970-bf6e-43ed-af66-f9fad30d1493",
   "metadata": {
    "tags": []
   },
   "outputs": [],
   "source": [
    "df.head()"
   ]
  },
  {
   "cell_type": "code",
   "execution_count": null,
   "id": "17744512-85d3-4dab-8c73-95bbc1aea549",
   "metadata": {
    "tags": []
   },
   "outputs": [],
   "source": [
    "exhibitor = pd.read_csv(\"/Users/carboni/Documents/UNIGE/basart_downloads/2023/data/processed/personage/Exhibitor.csv\",  dtype ='str')"
   ]
  },
  {
   "cell_type": "code",
   "execution_count": null,
   "id": "6b53704c-805a-4c36-907d-fa9b1c82a41c",
   "metadata": {
    "tags": []
   },
   "outputs": [],
   "source": [
    "exhibitor.head()"
   ]
  },
  {
   "cell_type": "code",
   "execution_count": null,
   "id": "e4d05cdf-536c-4c75-8620-4fb36a7a2150",
   "metadata": {
    "tags": []
   },
   "outputs": [],
   "source": [
    "df_wiki= df[['id_personage', 'wikidata_id']]\n",
    "merged_data = exhibitor.merge(df_wiki, on='id_personage', how='left')"
   ]
  },
  {
   "cell_type": "code",
   "execution_count": null,
   "id": "5924a279-e5d8-409d-8ab6-4c56e3044e70",
   "metadata": {
    "tags": []
   },
   "outputs": [],
   "source": [
    "columns = merged_data.columns\n",
    "\n",
    "# Iterate through the columns\n",
    "for col in columns:\n",
    "    # Check if the column name contains a space\n",
    "    if ' ' in col:\n",
    "        # Replace spaces with underscores\n",
    "        merged_data.rename(columns={col: col.replace(' ', '_')}, inplace=True)"
   ]
  },
  {
   "cell_type": "code",
   "execution_count": null,
   "id": "8864f748-6547-4e4a-889f-7e8adf3322b5",
   "metadata": {
    "tags": []
   },
   "outputs": [],
   "source": [
    "merged_data.to_xml('/Users/carboni/Documents/UNIGE/basart_downloads/2023/data/processed/personage/personage_wd.xml', root_name=\"data\", pretty_print=True) "
   ]
  }
 ],
 "metadata": {
  "kernelspec": {
   "display_name": "Python 3 (ipykernel)",
   "language": "python",
   "name": "python3"
  },
  "language_info": {
   "codemirror_mode": {
    "name": "ipython",
    "version": 3
   },
   "file_extension": ".py",
   "mimetype": "text/x-python",
   "name": "python",
   "nbconvert_exporter": "python",
   "pygments_lexer": "ipython3",
   "version": "3.10.8"
  }
 },
 "nbformat": 4,
 "nbformat_minor": 5
}
