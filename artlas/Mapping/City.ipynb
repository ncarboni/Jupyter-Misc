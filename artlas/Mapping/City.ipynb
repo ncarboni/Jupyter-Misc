{
 "cells": [
  {
   "cell_type": "code",
   "execution_count": 26,
   "id": "5adfd595-9a5f-4d0f-b1a7-796c2ab116a5",
   "metadata": {
    "tags": []
   },
   "outputs": [],
   "source": [
    "import pandas as pd\n",
    "import requests\n",
    "from io import StringIO\n",
    "import numpy as np\n",
    "import uuid"
   ]
  },
  {
   "cell_type": "code",
   "execution_count": 27,
   "id": "e9787505-4fef-4507-a2fc-97d694153ee1",
   "metadata": {
    "tags": []
   },
   "outputs": [],
   "source": [
    "url = \"http://129.194.213.75/command/core/export-rows\"\n",
    "params = {\n",
    "    'format': 'csv',\n",
    "    'project': '1827482415382'\n",
    "}\n",
    "\n",
    "response = requests.post(url, params=params)\n",
    "\n",
    "if response.status_code == 200:\n",
    "    df = pd.read_csv(StringIO(response.text), dtype ='str', low_memory=False)\n",
    "else:\n",
    "    print(f\"Failed to load data. Status code: {response.status_code}\")"
   ]
  },
  {
   "cell_type": "code",
   "execution_count": 10,
   "id": "d064e005-279e-4405-ad13-4f91a0a069d2",
   "metadata": {
    "tags": []
   },
   "outputs": [],
   "source": [
    "df = df.drop(columns=['city_wd', 'city_x', 'city_y', 'wd_identifier', 'country_name', 'coordinates_artlas', 'statefr', 'stateen','countryfr','countryen', 'coordinates_wiki', 'colonne J', 'note_Thomas', 'distance_km'])"
   ]
  },
  {
   "cell_type": "code",
   "execution_count": 29,
   "id": "f17aa583-ac0c-4a1a-abb4-9048f7586414",
   "metadata": {
    "tags": []
   },
   "outputs": [],
   "source": [
    "df.rename(columns={'new_lat': 'lat', 'new_long': 'lng'}, inplace=True)"
   ]
  },
  {
   "cell_type": "code",
   "execution_count": 30,
   "id": "7b6f3e47-7537-49e3-a1f3-cba99a18189c",
   "metadata": {
    "tags": []
   },
   "outputs": [],
   "source": [
    "df[\"wkt\"] = \"POINT(\" + df[\"lng\"] + \" \" + df[\"lat\"] + \")\""
   ]
  },
  {
   "cell_type": "code",
   "execution_count": 31,
   "id": "1075626d-1651-4a17-bb3b-ae0da4692c55",
   "metadata": {
    "tags": []
   },
   "outputs": [],
   "source": [
    "def generate_uuid(name):\n",
    "    name_str = str(name)\n",
    "    return str(uuid.uuid3(uuid.NAMESPACE_DNS, name_str))"
   ]
  },
  {
   "cell_type": "code",
   "execution_count": 32,
   "id": "56be5f82-0c45-4e19-a4f2-67d5fbf267da",
   "metadata": {
    "tags": []
   },
   "outputs": [],
   "source": [
    "df['country_uuid'] = df['country_wd'].apply(generate_uuid)"
   ]
  },
  {
   "cell_type": "code",
   "execution_count": 33,
   "id": "8b845189-703e-47ff-b347-a16ba208d1b6",
   "metadata": {
    "tags": []
   },
   "outputs": [
    {
     "data": {
      "text/html": [
       "<div>\n",
       "<style scoped>\n",
       "    .dataframe tbody tr th:only-of-type {\n",
       "        vertical-align: middle;\n",
       "    }\n",
       "\n",
       "    .dataframe tbody tr th {\n",
       "        vertical-align: top;\n",
       "    }\n",
       "\n",
       "    .dataframe thead th {\n",
       "        text-align: right;\n",
       "    }\n",
       "</style>\n",
       "<table border=\"1\" class=\"dataframe\">\n",
       "  <thead>\n",
       "    <tr style=\"text-align: right;\">\n",
       "      <th></th>\n",
       "      <th>id</th>\n",
       "      <th>name</th>\n",
       "      <th>lng</th>\n",
       "      <th>lat</th>\n",
       "      <th>country</th>\n",
       "      <th>country_wd</th>\n",
       "      <th>wd_identifier</th>\n",
       "      <th>city_true</th>\n",
       "      <th>wkt</th>\n",
       "      <th>country_uuid</th>\n",
       "    </tr>\n",
       "  </thead>\n",
       "  <tbody>\n",
       "    <tr>\n",
       "      <th>0</th>\n",
       "      <td>5179</td>\n",
       "      <td>Sohag</td>\n",
       "      <td>31.691666666667</td>\n",
       "      <td>26.560555555556</td>\n",
       "      <td>Egypt</td>\n",
       "      <td>Q79</td>\n",
       "      <td>Q388108</td>\n",
       "      <td>NaN</td>\n",
       "      <td>POINT(31.691666666667 26.560555555556)</td>\n",
       "      <td>694abb0e-ff6c-3d02-aeb9-fd586b0c69e3</td>\n",
       "    </tr>\n",
       "    <tr>\n",
       "      <th>1</th>\n",
       "      <td>114911</td>\n",
       "      <td>Töss</td>\n",
       "      <td>8.7</td>\n",
       "      <td>47.5</td>\n",
       "      <td>Switzerland</td>\n",
       "      <td>Q39</td>\n",
       "      <td>Q1699150</td>\n",
       "      <td>NaN</td>\n",
       "      <td>POINT(8.7 47.5)</td>\n",
       "      <td>531c9931-f6e9-3564-bb80-86b94cca9507</td>\n",
       "    </tr>\n",
       "    <tr>\n",
       "      <th>2</th>\n",
       "      <td>114912</td>\n",
       "      <td>Gstaad</td>\n",
       "      <td>7.2833333333333</td>\n",
       "      <td>46.466666666667</td>\n",
       "      <td>Switzerland</td>\n",
       "      <td>Q39</td>\n",
       "      <td>Q37149</td>\n",
       "      <td>NaN</td>\n",
       "      <td>POINT(7.2833333333333 46.466666666667)</td>\n",
       "      <td>531c9931-f6e9-3564-bb80-86b94cca9507</td>\n",
       "    </tr>\n",
       "    <tr>\n",
       "      <th>3</th>\n",
       "      <td>114913</td>\n",
       "      <td>Rapperswil</td>\n",
       "      <td>8.82228</td>\n",
       "      <td>47.22557</td>\n",
       "      <td>Switzerland</td>\n",
       "      <td>Q39</td>\n",
       "      <td>Q688539</td>\n",
       "      <td>NaN</td>\n",
       "      <td>POINT(8.82228 47.22557)</td>\n",
       "      <td>531c9931-f6e9-3564-bb80-86b94cca9507</td>\n",
       "    </tr>\n",
       "    <tr>\n",
       "      <th>4</th>\n",
       "      <td>114914</td>\n",
       "      <td>Kehrsatz</td>\n",
       "      <td>7.4708333333333</td>\n",
       "      <td>46.909444444444</td>\n",
       "      <td>Switzerland</td>\n",
       "      <td>Q39</td>\n",
       "      <td>Q68274</td>\n",
       "      <td>NaN</td>\n",
       "      <td>POINT(7.4708333333333 46.909444444444)</td>\n",
       "      <td>531c9931-f6e9-3564-bb80-86b94cca9507</td>\n",
       "    </tr>\n",
       "  </tbody>\n",
       "</table>\n",
       "</div>"
      ],
      "text/plain": [
       "       id        name              lng              lat      country  \\\n",
       "0    5179       Sohag  31.691666666667  26.560555555556        Egypt   \n",
       "1  114911        Töss              8.7             47.5  Switzerland   \n",
       "2  114912      Gstaad  7.2833333333333  46.466666666667  Switzerland   \n",
       "3  114913  Rapperswil          8.82228         47.22557  Switzerland   \n",
       "4  114914    Kehrsatz  7.4708333333333  46.909444444444  Switzerland   \n",
       "\n",
       "  country_wd wd_identifier city_true                                     wkt  \\\n",
       "0        Q79       Q388108       NaN  POINT(31.691666666667 26.560555555556)   \n",
       "1        Q39      Q1699150       NaN                         POINT(8.7 47.5)   \n",
       "2        Q39        Q37149       NaN  POINT(7.2833333333333 46.466666666667)   \n",
       "3        Q39       Q688539       NaN                 POINT(8.82228 47.22557)   \n",
       "4        Q39        Q68274       NaN  POINT(7.4708333333333 46.909444444444)   \n",
       "\n",
       "                           country_uuid  \n",
       "0  694abb0e-ff6c-3d02-aeb9-fd586b0c69e3  \n",
       "1  531c9931-f6e9-3564-bb80-86b94cca9507  \n",
       "2  531c9931-f6e9-3564-bb80-86b94cca9507  \n",
       "3  531c9931-f6e9-3564-bb80-86b94cca9507  \n",
       "4  531c9931-f6e9-3564-bb80-86b94cca9507  "
      ]
     },
     "execution_count": 33,
     "metadata": {},
     "output_type": "execute_result"
    }
   ],
   "source": [
    "df.head()"
   ]
  },
  {
   "cell_type": "code",
   "execution_count": 34,
   "id": "965889eb-14c0-4eea-9e90-47f653f2aa3a",
   "metadata": {
    "tags": []
   },
   "outputs": [],
   "source": [
    "df = df.replace(r\"^ +| +$\", r\"\", regex=True)"
   ]
  },
  {
   "cell_type": "code",
   "execution_count": 35,
   "id": "5ad7c884-9a17-42e1-8037-980dbf78985c",
   "metadata": {
    "tags": []
   },
   "outputs": [],
   "source": [
    "columns = df.columns\n",
    "\n",
    "# Iterate through the columns\n",
    "for col in columns:\n",
    "    # Check if the column name contains a space\n",
    "    if ' ' in col:\n",
    "        # Replace spaces with underscores\n",
    "        df.rename(columns={col: col.replace(' ', '_')}, inplace=True)"
   ]
  },
  {
   "cell_type": "code",
   "execution_count": 36,
   "id": "9f844a20-9530-4b83-9192-9a14b57632c5",
   "metadata": {
    "tags": []
   },
   "outputs": [],
   "source": [
    "df.to_xml('/Users/carboni/Documents/UNIGE/basart_downloads/2023/data/processed/city/city.xml', root_name=\"data\", pretty_print=True, index=False) "
   ]
  }
 ],
 "metadata": {
  "kernelspec": {
   "display_name": "Python 3 (ipykernel)",
   "language": "python",
   "name": "python3"
  },
  "language_info": {
   "codemirror_mode": {
    "name": "ipython",
    "version": 3
   },
   "file_extension": ".py",
   "mimetype": "text/x-python",
   "name": "python",
   "nbconvert_exporter": "python",
   "pygments_lexer": "ipython3",
   "version": "3.10.8"
  }
 },
 "nbformat": 4,
 "nbformat_minor": 5
}
