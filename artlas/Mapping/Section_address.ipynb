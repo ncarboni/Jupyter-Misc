{
 "cells": [
  {
   "cell_type": "code",
   "execution_count": 1,
   "id": "bbf90fd2-a752-4360-82ef-14a55475d9cd",
   "metadata": {
    "tags": []
   },
   "outputs": [],
   "source": [
    "import pandas as pd"
   ]
  },
  {
   "cell_type": "code",
   "execution_count": 2,
   "id": "17d7849f-7cc9-4d34-9420-464095673569",
   "metadata": {
    "tags": []
   },
   "outputs": [],
   "source": [
    "df_exhibition = pd.read_csv('/Users/carboni/Documents/UNIGE/basart_downloads/2023/data/processed/exhibition_done/Artlas Exhibition.csv', dtype ='str')\n",
    "df_catalog = pd.read_csv('/Users/carboni/Documents/UNIGE/basart_downloads/2023/data/processed/exhibition_extra/exhibitions_ids/Exhibition Catalog.csv', dtype ='str')\n",
    "df_exhibition_section = pd.read_csv('/Users/carboni/Documents/UNIGE/basart_downloads/2023/data/processed/exhibition_extra/exhibitions_ids/Exhibition Section.csv', dtype ='str')"
   ]
  },
  {
   "cell_type": "code",
   "execution_count": 3,
   "id": "40cf59c9-9faf-476b-af0c-f23525feaffa",
   "metadata": {
    "tags": []
   },
   "outputs": [],
   "source": [
    "df_catalog.rename(columns={'id': 'id_catalog'}, inplace=True)\n",
    "df_exhibition.rename(columns={'id': 'id_exhibition'}, inplace=True)\n",
    "df_exhibition_section.rename(columns={'id': 'id_section'}, inplace=True)"
   ]
  },
  {
   "cell_type": "code",
   "execution_count": 4,
   "id": "b52692ed-ee2a-4250-ac0d-a6860f4f9fd6",
   "metadata": {
    "tags": []
   },
   "outputs": [],
   "source": [
    "merged_catalog = pd.merge(df_exhibition[['id_exhibition']], df_catalog[['id_catalog', 'id_exhibition']], left_on='id_exhibition', right_on='id_exhibition')"
   ]
  },
  {
   "cell_type": "code",
   "execution_count": 5,
   "id": "87e0d613-3f0e-4fb0-be22-3d75789049e7",
   "metadata": {
    "tags": []
   },
   "outputs": [],
   "source": [
    "merged_section = pd.merge(merged_catalog[['id_catalog', 'id_exhibition']], df_exhibition_section[['id_section', 'id_catalog', 'id_address']], left_on='id_catalog', right_on='id_catalog')"
   ]
  },
  {
   "cell_type": "code",
   "execution_count": 6,
   "id": "713ea2b0-c826-40bd-abd9-0541cf32c880",
   "metadata": {
    "tags": []
   },
   "outputs": [
    {
     "data": {
      "text/html": [
       "<div>\n",
       "<style scoped>\n",
       "    .dataframe tbody tr th:only-of-type {\n",
       "        vertical-align: middle;\n",
       "    }\n",
       "\n",
       "    .dataframe tbody tr th {\n",
       "        vertical-align: top;\n",
       "    }\n",
       "\n",
       "    .dataframe thead th {\n",
       "        text-align: right;\n",
       "    }\n",
       "</style>\n",
       "<table border=\"1\" class=\"dataframe\">\n",
       "  <thead>\n",
       "    <tr style=\"text-align: right;\">\n",
       "      <th></th>\n",
       "      <th>id_catalog</th>\n",
       "      <th>id_exhibition</th>\n",
       "      <th>id_section</th>\n",
       "      <th>id_address</th>\n",
       "    </tr>\n",
       "  </thead>\n",
       "  <tbody>\n",
       "    <tr>\n",
       "      <th>0</th>\n",
       "      <td>3697</td>\n",
       "      <td>8155</td>\n",
       "      <td>4007</td>\n",
       "      <td>18157</td>\n",
       "    </tr>\n",
       "    <tr>\n",
       "      <th>1</th>\n",
       "      <td>3698</td>\n",
       "      <td>8156</td>\n",
       "      <td>4008</td>\n",
       "      <td>15347</td>\n",
       "    </tr>\n",
       "    <tr>\n",
       "      <th>2</th>\n",
       "      <td>2675</td>\n",
       "      <td>2451</td>\n",
       "      <td>1482</td>\n",
       "      <td>12038</td>\n",
       "    </tr>\n",
       "    <tr>\n",
       "      <th>3</th>\n",
       "      <td>3739</td>\n",
       "      <td>18455</td>\n",
       "      <td>4068</td>\n",
       "      <td>18283</td>\n",
       "    </tr>\n",
       "    <tr>\n",
       "      <th>4</th>\n",
       "      <td>3739</td>\n",
       "      <td>18455</td>\n",
       "      <td>4069</td>\n",
       "      <td>18283</td>\n",
       "    </tr>\n",
       "    <tr>\n",
       "      <th>...</th>\n",
       "      <td>...</td>\n",
       "      <td>...</td>\n",
       "      <td>...</td>\n",
       "      <td>...</td>\n",
       "    </tr>\n",
       "    <tr>\n",
       "      <th>3848</th>\n",
       "      <td>4097</td>\n",
       "      <td>18743</td>\n",
       "      <td>4426</td>\n",
       "      <td>18555</td>\n",
       "    </tr>\n",
       "    <tr>\n",
       "      <th>3849</th>\n",
       "      <td>3679</td>\n",
       "      <td>8138</td>\n",
       "      <td>3988</td>\n",
       "      <td>18071</td>\n",
       "    </tr>\n",
       "    <tr>\n",
       "      <th>3850</th>\n",
       "      <td>3680</td>\n",
       "      <td>8139</td>\n",
       "      <td>3989</td>\n",
       "      <td>18071</td>\n",
       "    </tr>\n",
       "    <tr>\n",
       "      <th>3851</th>\n",
       "      <td>3687</td>\n",
       "      <td>8146</td>\n",
       "      <td>3995</td>\n",
       "      <td>18071</td>\n",
       "    </tr>\n",
       "    <tr>\n",
       "      <th>3852</th>\n",
       "      <td>4125</td>\n",
       "      <td>18773</td>\n",
       "      <td>4454</td>\n",
       "      <td>18555</td>\n",
       "    </tr>\n",
       "  </tbody>\n",
       "</table>\n",
       "<p>3853 rows × 4 columns</p>\n",
       "</div>"
      ],
      "text/plain": [
       "     id_catalog id_exhibition id_section id_address\n",
       "0          3697          8155       4007      18157\n",
       "1          3698          8156       4008      15347\n",
       "2          2675          2451       1482      12038\n",
       "3          3739         18455       4068      18283\n",
       "4          3739         18455       4069      18283\n",
       "...         ...           ...        ...        ...\n",
       "3848       4097         18743       4426      18555\n",
       "3849       3679          8138       3988      18071\n",
       "3850       3680          8139       3989      18071\n",
       "3851       3687          8146       3995      18071\n",
       "3852       4125         18773       4454      18555\n",
       "\n",
       "[3853 rows x 4 columns]"
      ]
     },
     "execution_count": 6,
     "metadata": {},
     "output_type": "execute_result"
    }
   ],
   "source": [
    "merged_section"
   ]
  }
 ],
 "metadata": {
  "kernelspec": {
   "display_name": "Python 3 (ipykernel)",
   "language": "python",
   "name": "python3"
  },
  "language_info": {
   "codemirror_mode": {
    "name": "ipython",
    "version": 3
   },
   "file_extension": ".py",
   "mimetype": "text/x-python",
   "name": "python",
   "nbconvert_exporter": "python",
   "pygments_lexer": "ipython3",
   "version": "3.10.8"
  }
 },
 "nbformat": 4,
 "nbformat_minor": 5
}
