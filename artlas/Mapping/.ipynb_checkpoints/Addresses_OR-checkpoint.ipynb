{
 "cells": [
  {
   "cell_type": "code",
   "execution_count": 1,
   "id": "42ab2404-87d3-4c62-96d4-b1815bd7fc19",
   "metadata": {
    "tags": []
   },
   "outputs": [],
   "source": [
    "import pandas as pd\n",
    "import requests\n",
    "from io import StringIO\n",
    "import uuid"
   ]
  },
  {
   "cell_type": "markdown",
   "id": "1dc7b44a-6569-4957-90fa-ef0f64f7b538",
   "metadata": {},
   "source": [
    "Steps: we import the "
   ]
  },
  {
   "cell_type": "code",
   "execution_count": 2,
   "id": "f4203b36-a841-427d-a25d-f5d5e5fd66a3",
   "metadata": {
    "tags": []
   },
   "outputs": [],
   "source": [
    "url = \"http://129.194.213.75/command/core/export-rows\"\n",
    "params = {\n",
    "    'format': 'csv',\n",
    "    'project': '1969739192362'\n",
    "}\n",
    "\n",
    "response = requests.post(url, params=params)\n",
    "\n",
    "if response.status_code == 200:\n",
    "    df = pd.read_csv(StringIO(response.text), dtype ='str', low_memory=False)\n",
    "else:\n",
    "    print(f\"Failed to load data. Status code: {response.status_code}\")"
   ]
  },
  {
   "cell_type": "code",
   "execution_count": 3,
   "id": "512434ca-5a09-4ed3-8b00-3cbade5ae9aa",
   "metadata": {
    "tags": []
   },
   "outputs": [],
   "source": [
    "add_basart = pd.read_csv(\"/Users/carboni/Downloads/LeBoulanger Address.csv\",  dtype ='str')"
   ]
  },
  {
   "cell_type": "code",
   "execution_count": 4,
   "id": "ce2df78a-fa14-4389-b6cb-702b5ef4ac09",
   "metadata": {
    "tags": []
   },
   "outputs": [],
   "source": [
    "add_basart_city = pd.read_csv(\"/Users/carboni/Downloads/LeBoulanger Addresses_city.csv\",  dtype ='str')"
   ]
  },
  {
   "cell_type": "code",
   "execution_count": 5,
   "id": "5296a3cd-821c-4cbb-9a8b-bc920fcbd647",
   "metadata": {
    "tags": []
   },
   "outputs": [],
   "source": [
    "add_basart_city_id = add_basart_city[['id','id_city']]"
   ]
  },
  {
   "cell_type": "code",
   "execution_count": 6,
   "id": "49631e2c-be02-403a-92a6-7109876793bb",
   "metadata": {
    "tags": []
   },
   "outputs": [],
   "source": [
    "merged_bas = add_basart.merge(add_basart_city_id, on='id', how='left')"
   ]
  },
  {
   "cell_type": "code",
   "execution_count": 7,
   "id": "876ebdad-d8e7-4106-936a-4fd3ad48a85a",
   "metadata": {
    "tags": []
   },
   "outputs": [
    {
     "data": {
      "text/html": [
       "<div>\n",
       "<style scoped>\n",
       "    .dataframe tbody tr th:only-of-type {\n",
       "        vertical-align: middle;\n",
       "    }\n",
       "\n",
       "    .dataframe tbody tr th {\n",
       "        vertical-align: top;\n",
       "    }\n",
       "\n",
       "    .dataframe thead th {\n",
       "        text-align: right;\n",
       "    }\n",
       "</style>\n",
       "<table border=\"1\" class=\"dataframe\">\n",
       "  <thead>\n",
       "    <tr style=\"text-align: right;\">\n",
       "      <th></th>\n",
       "      <th>id</th>\n",
       "      <th>sent</th>\n",
       "      <th>starred</th>\n",
       "      <th>new_new_lat</th>\n",
       "      <th>new_new_long</th>\n",
       "      <th>all_lat_new</th>\n",
       "      <th>all_long_new</th>\n",
       "      <th>identifier</th>\n",
       "      <th>road_num</th>\n",
       "      <th>road</th>\n",
       "      <th>...</th>\n",
       "      <th>locality</th>\n",
       "      <th>complement</th>\n",
       "      <th>x</th>\n",
       "      <th>y</th>\n",
       "      <th>artlas_g_link</th>\n",
       "      <th>wd_id_re-check</th>\n",
       "      <th>id_city</th>\n",
       "      <th>wikidata_id_city</th>\n",
       "      <th>Len</th>\n",
       "      <th>distance_km</th>\n",
       "    </tr>\n",
       "  </thead>\n",
       "  <tbody>\n",
       "    <tr>\n",
       "      <th>0</th>\n",
       "      <td>22077</td>\n",
       "      <td>NaN</td>\n",
       "      <td>NaN</td>\n",
       "      <td>NaN</td>\n",
       "      <td>NaN</td>\n",
       "      <td>NaN</td>\n",
       "      <td>NaN</td>\n",
       "      <td>22077</td>\n",
       "      <td>11 bis</td>\n",
       "      <td>rue de Porto-Riche</td>\n",
       "      <td>...</td>\n",
       "      <td>NaN</td>\n",
       "      <td>NaN</td>\n",
       "      <td>NaN</td>\n",
       "      <td>NaN</td>\n",
       "      <td>NaN</td>\n",
       "      <td>NaN</td>\n",
       "      <td>17053</td>\n",
       "      <td>Q234735</td>\n",
       "      <td>Meudon</td>\n",
       "      <td>NaN</td>\n",
       "    </tr>\n",
       "    <tr>\n",
       "      <th>1</th>\n",
       "      <td>22076</td>\n",
       "      <td>NaN</td>\n",
       "      <td>NaN</td>\n",
       "      <td>NaN</td>\n",
       "      <td>NaN</td>\n",
       "      <td>NaN</td>\n",
       "      <td>NaN</td>\n",
       "      <td>22076</td>\n",
       "      <td>50</td>\n",
       "      <td>rue des Ruisseaux</td>\n",
       "      <td>...</td>\n",
       "      <td>NaN</td>\n",
       "      <td>NaN</td>\n",
       "      <td>NaN</td>\n",
       "      <td>NaN</td>\n",
       "      <td>NaN</td>\n",
       "      <td>NaN</td>\n",
       "      <td>17053</td>\n",
       "      <td>Q234735</td>\n",
       "      <td>Meudon</td>\n",
       "      <td>NaN</td>\n",
       "    </tr>\n",
       "    <tr>\n",
       "      <th>2</th>\n",
       "      <td>21820</td>\n",
       "      <td>NaN</td>\n",
       "      <td>NaN</td>\n",
       "      <td>NaN</td>\n",
       "      <td>NaN</td>\n",
       "      <td>NaN</td>\n",
       "      <td>NaN</td>\n",
       "      <td>21820</td>\n",
       "      <td>11</td>\n",
       "      <td>rue de Vélicy</td>\n",
       "      <td>...</td>\n",
       "      <td>NaN</td>\n",
       "      <td>NaN</td>\n",
       "      <td>NaN</td>\n",
       "      <td>NaN</td>\n",
       "      <td>NaN</td>\n",
       "      <td>NaN</td>\n",
       "      <td>17053</td>\n",
       "      <td>Q234735</td>\n",
       "      <td>Meudon</td>\n",
       "      <td>NaN</td>\n",
       "    </tr>\n",
       "    <tr>\n",
       "      <th>3</th>\n",
       "      <td>3883</td>\n",
       "      <td>NaN</td>\n",
       "      <td>NaN</td>\n",
       "      <td>NaN</td>\n",
       "      <td>NaN</td>\n",
       "      <td>NaN</td>\n",
       "      <td>NaN</td>\n",
       "      <td>3883</td>\n",
       "      <td>103</td>\n",
       "      <td>avenue de Paris</td>\n",
       "      <td>...</td>\n",
       "      <td>NaN</td>\n",
       "      <td>NaN</td>\n",
       "      <td>2.3649888</td>\n",
       "      <td>48.8021611</td>\n",
       "      <td>NaN</td>\n",
       "      <td>NaN</td>\n",
       "      <td>2283</td>\n",
       "      <td>Q212987</td>\n",
       "      <td>Choisy-le-Roi</td>\n",
       "      <td>NaN</td>\n",
       "    </tr>\n",
       "    <tr>\n",
       "      <th>4</th>\n",
       "      <td>3898</td>\n",
       "      <td>NaN</td>\n",
       "      <td>NaN</td>\n",
       "      <td>NaN</td>\n",
       "      <td>NaN</td>\n",
       "      <td>NaN</td>\n",
       "      <td>NaN</td>\n",
       "      <td>3898</td>\n",
       "      <td>3</td>\n",
       "      <td>rue de la Promenade</td>\n",
       "      <td>...</td>\n",
       "      <td>NaN</td>\n",
       "      <td>NaN</td>\n",
       "      <td>2.286761</td>\n",
       "      <td>48.912498</td>\n",
       "      <td>NaN</td>\n",
       "      <td>NaN</td>\n",
       "      <td>2290</td>\n",
       "      <td>Q1009849</td>\n",
       "      <td>Asnières</td>\n",
       "      <td>NaN</td>\n",
       "    </tr>\n",
       "  </tbody>\n",
       "</table>\n",
       "<p>5 rows × 50 columns</p>\n",
       "</div>"
      ],
      "text/plain": [
       "      id sent starred new_new_lat new_new_long all_lat_new all_long_new  \\\n",
       "0  22077  NaN     NaN         NaN          NaN         NaN          NaN   \n",
       "1  22076  NaN     NaN         NaN          NaN         NaN          NaN   \n",
       "2  21820  NaN     NaN         NaN          NaN         NaN          NaN   \n",
       "3   3883  NaN     NaN         NaN          NaN         NaN          NaN   \n",
       "4   3898  NaN     NaN         NaN          NaN         NaN          NaN   \n",
       "\n",
       "  identifier road_num                 road  ... locality complement  \\\n",
       "0      22077   11 bis   rue de Porto-Riche  ...      NaN        NaN   \n",
       "1      22076       50    rue des Ruisseaux  ...      NaN        NaN   \n",
       "2      21820       11        rue de Vélicy  ...      NaN        NaN   \n",
       "3       3883      103      avenue de Paris  ...      NaN        NaN   \n",
       "4       3898        3  rue de la Promenade  ...      NaN        NaN   \n",
       "\n",
       "           x           y artlas_g_link wd_id_re-check id_city  \\\n",
       "0        NaN         NaN           NaN            NaN   17053   \n",
       "1        NaN         NaN           NaN            NaN   17053   \n",
       "2        NaN         NaN           NaN            NaN   17053   \n",
       "3  2.3649888  48.8021611           NaN            NaN    2283   \n",
       "4   2.286761   48.912498           NaN            NaN    2290   \n",
       "\n",
       "  wikidata_id_city            Len distance_km  \n",
       "0          Q234735         Meudon         NaN  \n",
       "1          Q234735         Meudon         NaN  \n",
       "2          Q234735         Meudon         NaN  \n",
       "3          Q212987  Choisy-le-Roi         NaN  \n",
       "4         Q1009849       Asnières         NaN  \n",
       "\n",
       "[5 rows x 50 columns]"
      ]
     },
     "execution_count": 7,
     "metadata": {},
     "output_type": "execute_result"
    }
   ],
   "source": [
    "df.head()"
   ]
  },
  {
   "cell_type": "code",
   "execution_count": 8,
   "id": "6378d2ff-511d-42b9-bfb4-a3c88e999fed",
   "metadata": {
    "tags": []
   },
   "outputs": [
    {
     "data": {
      "text/html": [
       "<div>\n",
       "<style scoped>\n",
       "    .dataframe tbody tr th:only-of-type {\n",
       "        vertical-align: middle;\n",
       "    }\n",
       "\n",
       "    .dataframe tbody tr th {\n",
       "        vertical-align: top;\n",
       "    }\n",
       "\n",
       "    .dataframe thead th {\n",
       "        text-align: right;\n",
       "    }\n",
       "</style>\n",
       "<table border=\"1\" class=\"dataframe\">\n",
       "  <thead>\n",
       "    <tr style=\"text-align: right;\">\n",
       "      <th></th>\n",
       "      <th>id</th>\n",
       "      <th>road_num</th>\n",
       "      <th>road</th>\n",
       "      <th>floor</th>\n",
       "      <th>locality</th>\n",
       "      <th>complement</th>\n",
       "      <th>x</th>\n",
       "      <th>y</th>\n",
       "      <th>city</th>\n",
       "      <th>city_x</th>\n",
       "      <th>city_y</th>\n",
       "      <th>statefr</th>\n",
       "      <th>stateen</th>\n",
       "      <th>countryfr</th>\n",
       "      <th>countryen</th>\n",
       "      <th>id_city</th>\n",
       "    </tr>\n",
       "  </thead>\n",
       "  <tbody>\n",
       "    <tr>\n",
       "      <th>0</th>\n",
       "      <td>34021</td>\n",
       "      <td>NaN</td>\n",
       "      <td>NaN</td>\n",
       "      <td>NaN</td>\n",
       "      <td>NaN</td>\n",
       "      <td>NaN</td>\n",
       "      <td>NaN</td>\n",
       "      <td>NaN</td>\n",
       "      <td>Paris</td>\n",
       "      <td>2.35222222222222</td>\n",
       "      <td>48.8566666666667</td>\n",
       "      <td>NaN</td>\n",
       "      <td>NaN</td>\n",
       "      <td>France</td>\n",
       "      <td>France</td>\n",
       "      <td>7061</td>\n",
       "    </tr>\n",
       "    <tr>\n",
       "      <th>1</th>\n",
       "      <td>29041</td>\n",
       "      <td>NaN</td>\n",
       "      <td>NaN</td>\n",
       "      <td>NaN</td>\n",
       "      <td>NaN</td>\n",
       "      <td>NaN</td>\n",
       "      <td>NaN</td>\n",
       "      <td>NaN</td>\n",
       "      <td>Sivry-Rance</td>\n",
       "      <td>4.180831</td>\n",
       "      <td>50.167781</td>\n",
       "      <td>NaN</td>\n",
       "      <td>NaN</td>\n",
       "      <td>Belgique</td>\n",
       "      <td>Belgium</td>\n",
       "      <td>111678</td>\n",
       "    </tr>\n",
       "    <tr>\n",
       "      <th>2</th>\n",
       "      <td>29044</td>\n",
       "      <td>NaN</td>\n",
       "      <td>NaN</td>\n",
       "      <td>NaN</td>\n",
       "      <td>NaN</td>\n",
       "      <td>NaN</td>\n",
       "      <td>NaN</td>\n",
       "      <td>NaN</td>\n",
       "      <td>Argenton</td>\n",
       "      <td>0.093888888888889</td>\n",
       "      <td>44.385</td>\n",
       "      <td>NaN</td>\n",
       "      <td>NaN</td>\n",
       "      <td>France</td>\n",
       "      <td>France</td>\n",
       "      <td>111679</td>\n",
       "    </tr>\n",
       "    <tr>\n",
       "      <th>3</th>\n",
       "      <td>29048</td>\n",
       "      <td>NaN</td>\n",
       "      <td>NaN</td>\n",
       "      <td>NaN</td>\n",
       "      <td>NaN</td>\n",
       "      <td>NaN</td>\n",
       "      <td>NaN</td>\n",
       "      <td>NaN</td>\n",
       "      <td>Saint-Cyr</td>\n",
       "      <td>0.95833333333333</td>\n",
       "      <td>45.800277777778</td>\n",
       "      <td>NaN</td>\n",
       "      <td>NaN</td>\n",
       "      <td>France</td>\n",
       "      <td>France</td>\n",
       "      <td>111682</td>\n",
       "    </tr>\n",
       "    <tr>\n",
       "      <th>4</th>\n",
       "      <td>29039</td>\n",
       "      <td>51</td>\n",
       "      <td>rue Ramey</td>\n",
       "      <td>NaN</td>\n",
       "      <td>NaN</td>\n",
       "      <td>NaN</td>\n",
       "      <td>NaN</td>\n",
       "      <td>NaN</td>\n",
       "      <td>Paris</td>\n",
       "      <td>2.35222222222222</td>\n",
       "      <td>48.8566666666667</td>\n",
       "      <td>NaN</td>\n",
       "      <td>NaN</td>\n",
       "      <td>France</td>\n",
       "      <td>France</td>\n",
       "      <td>7061</td>\n",
       "    </tr>\n",
       "  </tbody>\n",
       "</table>\n",
       "</div>"
      ],
      "text/plain": [
       "      id road_num       road floor locality complement    x    y         city  \\\n",
       "0  34021      NaN        NaN   NaN      NaN        NaN  NaN  NaN        Paris   \n",
       "1  29041      NaN        NaN   NaN      NaN        NaN  NaN  NaN  Sivry-Rance   \n",
       "2  29044      NaN        NaN   NaN      NaN        NaN  NaN  NaN     Argenton   \n",
       "3  29048      NaN        NaN   NaN      NaN        NaN  NaN  NaN    Saint-Cyr   \n",
       "4  29039       51  rue Ramey   NaN      NaN        NaN  NaN  NaN        Paris   \n",
       "\n",
       "              city_x            city_y statefr stateen countryfr countryen  \\\n",
       "0   2.35222222222222  48.8566666666667     NaN     NaN    France    France   \n",
       "1           4.180831         50.167781     NaN     NaN  Belgique   Belgium   \n",
       "2  0.093888888888889            44.385     NaN     NaN    France    France   \n",
       "3   0.95833333333333   45.800277777778     NaN     NaN    France    France   \n",
       "4   2.35222222222222  48.8566666666667     NaN     NaN    France    France   \n",
       "\n",
       "  id_city  \n",
       "0    7061  \n",
       "1  111678  \n",
       "2  111679  \n",
       "3  111682  \n",
       "4    7061  "
      ]
     },
     "execution_count": 8,
     "metadata": {},
     "output_type": "execute_result"
    }
   ],
   "source": [
    "merged_bas.head()"
   ]
  },
  {
   "cell_type": "code",
   "execution_count": null,
   "id": "d44f5891-4f7d-4469-bcc5-f6edd2d2e342",
   "metadata": {},
   "outputs": [],
   "source": []
  },
  {
   "cell_type": "code",
   "execution_count": 9,
   "id": "1d3801de-437d-4eac-9bb5-864e9dab5fa5",
   "metadata": {
    "tags": []
   },
   "outputs": [],
   "source": [
    "merged_bas['temp_key'] = merged_bas['road'] + merged_bas['road_num']"
   ]
  },
  {
   "cell_type": "code",
   "execution_count": 10,
   "id": "6c573376-1bc4-4822-a4d0-8800f3729bb9",
   "metadata": {
    "tags": []
   },
   "outputs": [],
   "source": [
    "id_map = dict(zip(merged_bas['temp_key'], merged_bas['id']))"
   ]
  },
  {
   "cell_type": "code",
   "execution_count": 11,
   "id": "182b8007-6ad7-4f8b-9d5f-12a4dc5f2af3",
   "metadata": {
    "tags": []
   },
   "outputs": [],
   "source": [
    "df['temp_key'] = df['road'] + df['road_num']"
   ]
  },
  {
   "cell_type": "code",
   "execution_count": 12,
   "id": "bce80e80-92c6-4f91-af97-bf9f20970f9d",
   "metadata": {
    "tags": []
   },
   "outputs": [],
   "source": [
    "df['id'] = df.apply(lambda row: id_map[row['temp_key']] \n",
    "                    if row['temp_key'] in id_map and row['id'] != id_map[row['temp_key']] \n",
    "                    else row['id'], axis=1)"
   ]
  },
  {
   "cell_type": "code",
   "execution_count": null,
   "id": "96c16ce7-d449-45cb-8cbd-62e84fcb8489",
   "metadata": {},
   "outputs": [],
   "source": []
  },
  {
   "cell_type": "code",
   "execution_count": 18,
   "id": "5c98b4b5-dfc3-4072-b198-48d1793cc6d7",
   "metadata": {
    "tags": []
   },
   "outputs": [],
   "source": [
    "# Create a mapping for road to a set of ids in merged_bas\n",
    "road_id_map = merged_bas[merged_bas['road_num'].isnull() | (merged_bas['road_num'] == '')]\n",
    "road_id_map = road_id_map.groupby('road')['id'].apply(set).to_dict()"
   ]
  },
  {
   "cell_type": "code",
   "execution_count": 19,
   "id": "aa1ed52d-2311-451c-851b-5a11d6381319",
   "metadata": {
    "tags": []
   },
   "outputs": [],
   "source": [
    "# Function to check conditions and flag\n",
    "def check_and_flag(row):\n",
    "    if row['road'] in road_id_map and (row['road_num'] == '' or pd.isnull(row['road_num'])):\n",
    "        if row['id'] not in road_id_map[row['road']]:\n",
    "            return 1\n",
    "    return 0\n",
    "\n",
    "# Apply the function to flag the records\n",
    "df['flag'] = df.apply(check_and_flag, axis=1)"
   ]
  },
  {
   "cell_type": "code",
   "execution_count": 21,
   "id": "b5a29b69-1a76-41ff-b02c-8886169601e1",
   "metadata": {
    "tags": []
   },
   "outputs": [],
   "source": [
    "merged_bas.to_csv('/Users/carboni/Downloads/merged_bas.csv', index=False)"
   ]
  },
  {
   "cell_type": "code",
   "execution_count": null,
   "id": "1856a795-5364-4c92-b655-ceaa41074377",
   "metadata": {},
   "outputs": [],
   "source": []
  },
  {
   "cell_type": "code",
   "execution_count": null,
   "id": "3e06bd19-9fcd-401e-ae6c-34136651d1a5",
   "metadata": {},
   "outputs": [],
   "source": []
  },
  {
   "cell_type": "code",
   "execution_count": null,
   "id": "85e239a5-cdb8-448d-b430-c85ce62b15fd",
   "metadata": {},
   "outputs": [],
   "source": []
  },
  {
   "cell_type": "code",
   "execution_count": null,
   "id": "015be87e-e902-464a-9ff9-629c5b47346e",
   "metadata": {
    "tags": []
   },
   "outputs": [],
   "source": [
    "combined_df = merged_bas.merge(df[['id', 'x', 'y']], on='id', how='left', suffixes=('', '_df'))"
   ]
  },
  {
   "cell_type": "code",
   "execution_count": null,
   "id": "47147130-309a-43e4-8efd-0c465c8a3f36",
   "metadata": {
    "tags": []
   },
   "outputs": [],
   "source": [
    "# Step 2: Update 'x' and 'y' in merged_bas where df['x'] is not null\n",
    "combined_df.loc[combined_df['x_df'].notnull(), 'x'] = combined_df['x_df']\n",
    "combined_df.loc[combined_df['x_df'].notnull(), 'y'] = combined_df['y_df']\n",
    "\n",
    "# Step 3: Drop the temporary columns from the merge\n",
    "combined_df.drop(['x_df', 'y_df'], axis=1, inplace=True)"
   ]
  },
  {
   "cell_type": "code",
   "execution_count": null,
   "id": "7c1ff47a-1d57-4c81-8dd7-bc7f002fc320",
   "metadata": {
    "tags": []
   },
   "outputs": [],
   "source": [
    "combined_df"
   ]
  },
  {
   "cell_type": "code",
   "execution_count": null,
   "id": "b32eb82a-6ff8-4094-8f5e-66cb495eed1c",
   "metadata": {
    "tags": []
   },
   "outputs": [],
   "source": [
    "columns = combined_df.columns\n",
    "\n",
    "# Iterate through the columns\n",
    "for col in columns:\n",
    "    # Check if the column name contains a space\n",
    "    if ' ' in col:\n",
    "        # Replace spaces with underscores\n",
    "        combined_df.rename(columns={col: col.replace(' ', '_')}, inplace=True)"
   ]
  },
  {
   "cell_type": "code",
   "execution_count": null,
   "id": "eb4652e1-94df-4df1-898f-77f3f8b1dcb2",
   "metadata": {
    "tags": []
   },
   "outputs": [],
   "source": [
    "combined_df = merged_bas.dropna(axis=1, how='all')"
   ]
  },
  {
   "cell_type": "code",
   "execution_count": null,
   "id": "74ee9c7c-23ad-4388-ab49-53ea1d54ba66",
   "metadata": {
    "tags": []
   },
   "outputs": [],
   "source": [
    "combined_df = combined_df.drop(columns=['city', 'city_x', 'city_y', 'statefr','stateen', 'countryfr', 'countryen'])"
   ]
  },
  {
   "cell_type": "code",
   "execution_count": null,
   "id": "0b854b99-cded-4441-8db7-449c8fa94315",
   "metadata": {
    "tags": []
   },
   "outputs": [],
   "source": [
    "combined_df = combined_df.replace(r\"^ +| +$\", r\"\", regex=True)"
   ]
  },
  {
   "cell_type": "code",
   "execution_count": null,
   "id": "e191b2da-de50-4f5c-95a9-43772073a01b",
   "metadata": {
    "tags": []
   },
   "outputs": [],
   "source": [
    "combined_df.to_xml('/Users/carboni/Documents/UNIGE/basart_downloads/2023/data/processed/address/address.xml', root_name=\"data\", pretty_print=True, index=False) "
   ]
  }
 ],
 "metadata": {
  "kernelspec": {
   "display_name": "Python 3 (ipykernel)",
   "language": "python",
   "name": "python3"
  },
  "language_info": {
   "codemirror_mode": {
    "name": "ipython",
    "version": 3
   },
   "file_extension": ".py",
   "mimetype": "text/x-python",
   "name": "python",
   "nbconvert_exporter": "python",
   "pygments_lexer": "ipython3",
   "version": "3.10.8"
  }
 },
 "nbformat": 4,
 "nbformat_minor": 5
}
