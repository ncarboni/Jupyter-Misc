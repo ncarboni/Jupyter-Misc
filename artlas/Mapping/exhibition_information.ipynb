{
 "cells": [
  {
   "cell_type": "markdown",
   "id": "e30ad32b-bfc6-463d-8b68-effd1bbffa3d",
   "metadata": {},
   "source": [
    "# Exhibition - enriching information"
   ]
  },
  {
   "cell_type": "code",
   "execution_count": 1,
   "id": "089f853d-271f-4683-b744-56d0f754f773",
   "metadata": {
    "tags": []
   },
   "outputs": [],
   "source": [
    "import pandas as pd\n",
    "import duckdb"
   ]
  },
  {
   "cell_type": "code",
   "execution_count": 2,
   "id": "d60b8d49-e2fa-4326-ac5b-2d6d6c07bd58",
   "metadata": {
    "tags": []
   },
   "outputs": [],
   "source": [
    "df_exhibition = pd.read_csv('/Users/carboni/Documents/UNIGE/basart_downloads/2023/data/processed/exhibition_done/Artlas Exhibition.csv', dtype ='str')\n",
    "df_catalog = pd.read_csv('/Users/carboni/Documents/UNIGE/basart_downloads/2023/data/processed/exhibition_extra/exhibitions_ids/Exhibition Catalog.csv', dtype ='str')\n",
    "df_exhibition_section = pd.read_csv('/Users/carboni/Documents/UNIGE/basart_downloads/2023/data/processed/exhibition_extra/exhibitions_ids/Exhibition Section.csv', dtype ='str')\n",
    "df_has_exhibited_in = pd.read_csv('/Users/carboni/Documents/UNIGE/basart_downloads/2023/data/processed/exhibition_extra/exhibitions_ids/Exhibited.csv', dtype ='str')\n",
    "df_personage = pd.read_csv('/Users/carboni/Documents/UNIGE/basart_downloads/2023/data/processed/personage/Exhibitor.csv', low_memory=False, dtype ='str')\n",
    "df_artwork = pd.read_csv('/Users/carboni/Documents/UNIGE/basart_downloads/2023/data/processed/exhibition_extra/exhibitions_ids/Exhibited Work.csv', low_memory=False, dtype ='str')"
   ]
  },
  {
   "cell_type": "code",
   "execution_count": 3,
   "id": "d441dff6-605b-4e64-9454-2a407e5e3336",
   "metadata": {
    "tags": []
   },
   "outputs": [],
   "source": [
    "df_catalog.rename(columns={'id': 'id_catalog'}, inplace=True)\n",
    "df_exhibition.rename(columns={'id': 'id_exhibition'}, inplace=True)\n",
    "df_exhibition_section.rename(columns={'id': 'id_section'}, inplace=True)\n",
    "df_has_exhibited_in.rename(columns={'id_exhibition_section': 'id_section', 'id': 'id_has_exhibited_in'}, inplace=True)\n",
    "df_artwork.rename(columns={'id': 'id_work'}, inplace=True)"
   ]
  },
  {
   "cell_type": "code",
   "execution_count": 7,
   "id": "83fa9c39-0c12-4bb3-91c7-30b339d7f6e6",
   "metadata": {
    "tags": []
   },
   "outputs": [
    {
     "data": {
      "text/html": [
       "<div>\n",
       "<style scoped>\n",
       "    .dataframe tbody tr th:only-of-type {\n",
       "        vertical-align: middle;\n",
       "    }\n",
       "\n",
       "    .dataframe tbody tr th {\n",
       "        vertical-align: top;\n",
       "    }\n",
       "\n",
       "    .dataframe thead th {\n",
       "        text-align: right;\n",
       "    }\n",
       "</style>\n",
       "<table border=\"1\" class=\"dataframe\">\n",
       "  <thead>\n",
       "    <tr style=\"text-align: right;\">\n",
       "      <th></th>\n",
       "      <th>id_exhibition_section</th>\n",
       "      <th>id_personage</th>\n",
       "      <th>id</th>\n",
       "      <th>name</th>\n",
       "      <th>first_name</th>\n",
       "      <th>membership</th>\n",
       "      <th>biography</th>\n",
       "      <th>nationality</th>\n",
       "      <th>instructor</th>\n",
       "      <th>notes</th>\n",
       "      <th>...</th>\n",
       "      <th>country_d</th>\n",
       "      <th>x_address_d</th>\n",
       "      <th>y_address_d</th>\n",
       "      <th>x_city_d</th>\n",
       "      <th>y_city_d</th>\n",
       "      <th>gender_lower</th>\n",
       "      <th>address1</th>\n",
       "      <th>id_address1</th>\n",
       "      <th>address2</th>\n",
       "      <th>id_address2</th>\n",
       "    </tr>\n",
       "  </thead>\n",
       "  <tbody>\n",
       "    <tr>\n",
       "      <th>0</th>\n",
       "      <td>3194</td>\n",
       "      <td>37218</td>\n",
       "      <td>33569</td>\n",
       "      <td>Manganaris</td>\n",
       "      <td>Yannis</td>\n",
       "      <td>NaN</td>\n",
       "      <td>NaN</td>\n",
       "      <td>NaN</td>\n",
       "      <td>NaN</td>\n",
       "      <td>NaN</td>\n",
       "      <td>...</td>\n",
       "      <td>NaN</td>\n",
       "      <td>NaN</td>\n",
       "      <td>NaN</td>\n",
       "      <td>NaN</td>\n",
       "      <td>NaN</td>\n",
       "      <td>m</td>\n",
       "      <td>NaN</td>\n",
       "      <td>NaN</td>\n",
       "      <td>NaN</td>\n",
       "      <td>NaN</td>\n",
       "    </tr>\n",
       "    <tr>\n",
       "      <th>1</th>\n",
       "      <td>3875</td>\n",
       "      <td>49029</td>\n",
       "      <td>41584</td>\n",
       "      <td>Abrams</td>\n",
       "      <td>Lionel</td>\n",
       "      <td>NaN</td>\n",
       "      <td>NaN</td>\n",
       "      <td>NaN</td>\n",
       "      <td>NaN</td>\n",
       "      <td>NaN</td>\n",
       "      <td>...</td>\n",
       "      <td>NaN</td>\n",
       "      <td>NaN</td>\n",
       "      <td>NaN</td>\n",
       "      <td>NaN</td>\n",
       "      <td>NaN</td>\n",
       "      <td>m</td>\n",
       "      <td>NaN</td>\n",
       "      <td>NaN</td>\n",
       "      <td>NaN</td>\n",
       "      <td>NaN</td>\n",
       "    </tr>\n",
       "    <tr>\n",
       "      <th>2</th>\n",
       "      <td>3875</td>\n",
       "      <td>49030</td>\n",
       "      <td>41585</td>\n",
       "      <td>Battiss</td>\n",
       "      <td>Walter</td>\n",
       "      <td>NaN</td>\n",
       "      <td>NaN</td>\n",
       "      <td>NaN</td>\n",
       "      <td>NaN</td>\n",
       "      <td>NaN</td>\n",
       "      <td>...</td>\n",
       "      <td>NaN</td>\n",
       "      <td>NaN</td>\n",
       "      <td>NaN</td>\n",
       "      <td>NaN</td>\n",
       "      <td>NaN</td>\n",
       "      <td>m</td>\n",
       "      <td>NaN</td>\n",
       "      <td>NaN</td>\n",
       "      <td>NaN</td>\n",
       "      <td>NaN</td>\n",
       "    </tr>\n",
       "  </tbody>\n",
       "</table>\n",
       "<p>3 rows × 54 columns</p>\n",
       "</div>"
      ],
      "text/plain": [
       "  id_exhibition_section id_personage     id        name first_name membership  \\\n",
       "0                  3194        37218  33569  Manganaris     Yannis        NaN   \n",
       "1                  3875        49029  41584      Abrams     Lionel        NaN   \n",
       "2                  3875        49030  41585     Battiss     Walter        NaN   \n",
       "\n",
       "  biography nationality instructor notes  ... country_d x_address_d  \\\n",
       "0       NaN         NaN        NaN   NaN  ...       NaN         NaN   \n",
       "1       NaN         NaN        NaN   NaN  ...       NaN         NaN   \n",
       "2       NaN         NaN        NaN   NaN  ...       NaN         NaN   \n",
       "\n",
       "  y_address_d x_city_d y_city_d gender_lower address1 id_address1 address2  \\\n",
       "0         NaN      NaN      NaN            m      NaN         NaN      NaN   \n",
       "1         NaN      NaN      NaN            m      NaN         NaN      NaN   \n",
       "2         NaN      NaN      NaN            m      NaN         NaN      NaN   \n",
       "\n",
       "  id_address2  \n",
       "0         NaN  \n",
       "1         NaN  \n",
       "2         NaN  \n",
       "\n",
       "[3 rows x 54 columns]"
      ]
     },
     "execution_count": 7,
     "metadata": {},
     "output_type": "execute_result"
    }
   ],
   "source": [
    "df_personage.head(3)"
   ]
  },
  {
   "cell_type": "code",
   "execution_count": 5,
   "id": "78d0dbde-7621-4fc1-bc72-c4eaf73a8e7d",
   "metadata": {
    "tags": []
   },
   "outputs": [],
   "source": [
    "merged_catalog = pd.merge(df_exhibition[['id_exhibition']], df_catalog[['id_catalog', 'id_exhibition']], left_on='id_exhibition', right_on='id_exhibition')"
   ]
  },
  {
   "cell_type": "code",
   "execution_count": 6,
   "id": "8c22f092-991a-4a10-86ab-94910ace7427",
   "metadata": {
    "tags": []
   },
   "outputs": [
    {
     "data": {
      "text/html": [
       "<div>\n",
       "<style scoped>\n",
       "    .dataframe tbody tr th:only-of-type {\n",
       "        vertical-align: middle;\n",
       "    }\n",
       "\n",
       "    .dataframe tbody tr th {\n",
       "        vertical-align: top;\n",
       "    }\n",
       "\n",
       "    .dataframe thead th {\n",
       "        text-align: right;\n",
       "    }\n",
       "</style>\n",
       "<table border=\"1\" class=\"dataframe\">\n",
       "  <thead>\n",
       "    <tr style=\"text-align: right;\">\n",
       "      <th></th>\n",
       "      <th>id_exhibition</th>\n",
       "      <th>id_catalog</th>\n",
       "    </tr>\n",
       "  </thead>\n",
       "  <tbody>\n",
       "    <tr>\n",
       "      <th>0</th>\n",
       "      <td>8155</td>\n",
       "      <td>3697</td>\n",
       "    </tr>\n",
       "    <tr>\n",
       "      <th>1</th>\n",
       "      <td>8156</td>\n",
       "      <td>3698</td>\n",
       "    </tr>\n",
       "    <tr>\n",
       "      <th>2</th>\n",
       "      <td>18595</td>\n",
       "      <td>3908</td>\n",
       "    </tr>\n",
       "  </tbody>\n",
       "</table>\n",
       "</div>"
      ],
      "text/plain": [
       "  id_exhibition id_catalog\n",
       "0          8155       3697\n",
       "1          8156       3698\n",
       "2         18595       3908"
      ]
     },
     "execution_count": 6,
     "metadata": {},
     "output_type": "execute_result"
    }
   ],
   "source": [
    "merged_catalog.head(3)"
   ]
  },
  {
   "cell_type": "code",
   "execution_count": 8,
   "id": "bc12b723-faea-4225-9fad-6525f26a00db",
   "metadata": {
    "tags": []
   },
   "outputs": [],
   "source": [
    "merged_section = pd.merge(merged_catalog[['id_catalog', 'id_exhibition']], df_exhibition_section[['id_section', 'id_catalog']], left_on='id_catalog', right_on='id_catalog')"
   ]
  },
  {
   "cell_type": "code",
   "execution_count": 9,
   "id": "09c015d9-f865-47b2-90d3-471fb1abf0a4",
   "metadata": {
    "tags": []
   },
   "outputs": [
    {
     "data": {
      "text/html": [
       "<div>\n",
       "<style scoped>\n",
       "    .dataframe tbody tr th:only-of-type {\n",
       "        vertical-align: middle;\n",
       "    }\n",
       "\n",
       "    .dataframe tbody tr th {\n",
       "        vertical-align: top;\n",
       "    }\n",
       "\n",
       "    .dataframe thead th {\n",
       "        text-align: right;\n",
       "    }\n",
       "</style>\n",
       "<table border=\"1\" class=\"dataframe\">\n",
       "  <thead>\n",
       "    <tr style=\"text-align: right;\">\n",
       "      <th></th>\n",
       "      <th>id_catalog</th>\n",
       "      <th>id_exhibition</th>\n",
       "      <th>id_section</th>\n",
       "    </tr>\n",
       "  </thead>\n",
       "  <tbody>\n",
       "    <tr>\n",
       "      <th>0</th>\n",
       "      <td>3697</td>\n",
       "      <td>8155</td>\n",
       "      <td>4007</td>\n",
       "    </tr>\n",
       "    <tr>\n",
       "      <th>1</th>\n",
       "      <td>3698</td>\n",
       "      <td>8156</td>\n",
       "      <td>4008</td>\n",
       "    </tr>\n",
       "    <tr>\n",
       "      <th>2</th>\n",
       "      <td>2675</td>\n",
       "      <td>2451</td>\n",
       "      <td>1482</td>\n",
       "    </tr>\n",
       "  </tbody>\n",
       "</table>\n",
       "</div>"
      ],
      "text/plain": [
       "  id_catalog id_exhibition id_section\n",
       "0       3697          8155       4007\n",
       "1       3698          8156       4008\n",
       "2       2675          2451       1482"
      ]
     },
     "execution_count": 9,
     "metadata": {},
     "output_type": "execute_result"
    }
   ],
   "source": [
    "merged_section.head(3)"
   ]
  },
  {
   "cell_type": "code",
   "execution_count": 10,
   "id": "e2929f76-9ae9-48b1-bcfb-df2c2bcaff5c",
   "metadata": {
    "tags": []
   },
   "outputs": [],
   "source": [
    "merged_exhibited = pd.merge(merged_section[['id_catalog', 'id_exhibition', 'id_section']], df_has_exhibited_in[['id_personage', 'id_section', 'id_has_exhibited_in']], left_on='id_section', right_on='id_section')"
   ]
  },
  {
   "cell_type": "code",
   "execution_count": 11,
   "id": "99f832f7-49b7-4d80-b8aa-0d7c214d2677",
   "metadata": {
    "tags": []
   },
   "outputs": [
    {
     "data": {
      "text/html": [
       "<div>\n",
       "<style scoped>\n",
       "    .dataframe tbody tr th:only-of-type {\n",
       "        vertical-align: middle;\n",
       "    }\n",
       "\n",
       "    .dataframe tbody tr th {\n",
       "        vertical-align: top;\n",
       "    }\n",
       "\n",
       "    .dataframe thead th {\n",
       "        text-align: right;\n",
       "    }\n",
       "</style>\n",
       "<table border=\"1\" class=\"dataframe\">\n",
       "  <thead>\n",
       "    <tr style=\"text-align: right;\">\n",
       "      <th></th>\n",
       "      <th>id_catalog</th>\n",
       "      <th>id_exhibition</th>\n",
       "      <th>id_section</th>\n",
       "      <th>id_personage</th>\n",
       "      <th>id_has_exhibited_in</th>\n",
       "    </tr>\n",
       "  </thead>\n",
       "  <tbody>\n",
       "    <tr>\n",
       "      <th>0</th>\n",
       "      <td>3697</td>\n",
       "      <td>8155</td>\n",
       "      <td>4007</td>\n",
       "      <td>50822</td>\n",
       "      <td>43377</td>\n",
       "    </tr>\n",
       "    <tr>\n",
       "      <th>1</th>\n",
       "      <td>3697</td>\n",
       "      <td>8155</td>\n",
       "      <td>4007</td>\n",
       "      <td>50823</td>\n",
       "      <td>43378</td>\n",
       "    </tr>\n",
       "    <tr>\n",
       "      <th>2</th>\n",
       "      <td>3697</td>\n",
       "      <td>8155</td>\n",
       "      <td>4007</td>\n",
       "      <td>50824</td>\n",
       "      <td>43379</td>\n",
       "    </tr>\n",
       "  </tbody>\n",
       "</table>\n",
       "</div>"
      ],
      "text/plain": [
       "  id_catalog id_exhibition id_section id_personage id_has_exhibited_in\n",
       "0       3697          8155       4007        50822               43377\n",
       "1       3697          8155       4007        50823               43378\n",
       "2       3697          8155       4007        50824               43379"
      ]
     },
     "execution_count": 11,
     "metadata": {},
     "output_type": "execute_result"
    }
   ],
   "source": [
    "merged_exhibited.head(3)"
   ]
  },
  {
   "cell_type": "code",
   "execution_count": 12,
   "id": "31581677-a20c-42cc-a13d-a9bf9b09d122",
   "metadata": {
    "tags": []
   },
   "outputs": [],
   "source": [
    "merged_work = pd.merge(merged_exhibited[['id_catalog', 'id_exhibition', 'id_section','id_personage', 'id_has_exhibited_in']], df_artwork[['id_work', 'id_has_exhibited_in']], left_on='id_has_exhibited_in', right_on='id_has_exhibited_in')"
   ]
  },
  {
   "cell_type": "code",
   "execution_count": 13,
   "id": "6f967587-c7d1-4eda-985f-d2311815d689",
   "metadata": {
    "tags": []
   },
   "outputs": [],
   "source": [
    "merged_work.drop('id_has_exhibited_in', axis=1, inplace=True)"
   ]
  },
  {
   "cell_type": "code",
   "execution_count": 14,
   "id": "20fea43b-f2e2-43c9-b27f-f67d5cddb679",
   "metadata": {
    "tags": []
   },
   "outputs": [
    {
     "data": {
      "text/html": [
       "<div>\n",
       "<style scoped>\n",
       "    .dataframe tbody tr th:only-of-type {\n",
       "        vertical-align: middle;\n",
       "    }\n",
       "\n",
       "    .dataframe tbody tr th {\n",
       "        vertical-align: top;\n",
       "    }\n",
       "\n",
       "    .dataframe thead th {\n",
       "        text-align: right;\n",
       "    }\n",
       "</style>\n",
       "<table border=\"1\" class=\"dataframe\">\n",
       "  <thead>\n",
       "    <tr style=\"text-align: right;\">\n",
       "      <th></th>\n",
       "      <th>id_catalog</th>\n",
       "      <th>id_exhibition</th>\n",
       "      <th>id_section</th>\n",
       "      <th>id_personage</th>\n",
       "      <th>id_work</th>\n",
       "    </tr>\n",
       "  </thead>\n",
       "  <tbody>\n",
       "    <tr>\n",
       "      <th>0</th>\n",
       "      <td>3697</td>\n",
       "      <td>8155</td>\n",
       "      <td>4007</td>\n",
       "      <td>50822</td>\n",
       "      <td>102296</td>\n",
       "    </tr>\n",
       "    <tr>\n",
       "      <th>1</th>\n",
       "      <td>3697</td>\n",
       "      <td>8155</td>\n",
       "      <td>4007</td>\n",
       "      <td>50822</td>\n",
       "      <td>102297</td>\n",
       "    </tr>\n",
       "    <tr>\n",
       "      <th>2</th>\n",
       "      <td>3697</td>\n",
       "      <td>8155</td>\n",
       "      <td>4007</td>\n",
       "      <td>50822</td>\n",
       "      <td>102298</td>\n",
       "    </tr>\n",
       "  </tbody>\n",
       "</table>\n",
       "</div>"
      ],
      "text/plain": [
       "  id_catalog id_exhibition id_section id_personage id_work\n",
       "0       3697          8155       4007        50822  102296\n",
       "1       3697          8155       4007        50822  102297\n",
       "2       3697          8155       4007        50822  102298"
      ]
     },
     "execution_count": 14,
     "metadata": {},
     "output_type": "execute_result"
    }
   ],
   "source": [
    "merged_work.head(3)"
   ]
  },
  {
   "cell_type": "code",
   "execution_count": 15,
   "id": "6a4fbfef-6436-449e-9302-4745549c5cce",
   "metadata": {
    "tags": []
   },
   "outputs": [],
   "source": [
    "merged_addr = pd.merge(merged_work[['id_catalog', 'id_exhibition', 'id_section','id_personage', 'id_work']], df_personage[['id_personage', 'id_address1']], left_on='id_personage', right_on='id_personage')"
   ]
  },
  {
   "cell_type": "code",
   "execution_count": 16,
   "id": "242fedc2-3a05-4b96-b3f3-773375305aa3",
   "metadata": {
    "tags": []
   },
   "outputs": [
    {
     "data": {
      "text/html": [
       "<div>\n",
       "<style scoped>\n",
       "    .dataframe tbody tr th:only-of-type {\n",
       "        vertical-align: middle;\n",
       "    }\n",
       "\n",
       "    .dataframe tbody tr th {\n",
       "        vertical-align: top;\n",
       "    }\n",
       "\n",
       "    .dataframe thead th {\n",
       "        text-align: right;\n",
       "    }\n",
       "</style>\n",
       "<table border=\"1\" class=\"dataframe\">\n",
       "  <thead>\n",
       "    <tr style=\"text-align: right;\">\n",
       "      <th></th>\n",
       "      <th>id_catalog</th>\n",
       "      <th>id_exhibition</th>\n",
       "      <th>id_section</th>\n",
       "      <th>id_personage</th>\n",
       "      <th>id_work</th>\n",
       "      <th>id_address1</th>\n",
       "    </tr>\n",
       "  </thead>\n",
       "  <tbody>\n",
       "    <tr>\n",
       "      <th>0</th>\n",
       "      <td>3697</td>\n",
       "      <td>8155</td>\n",
       "      <td>4007</td>\n",
       "      <td>50822</td>\n",
       "      <td>102296</td>\n",
       "      <td>NaN</td>\n",
       "    </tr>\n",
       "    <tr>\n",
       "      <th>1</th>\n",
       "      <td>3697</td>\n",
       "      <td>8155</td>\n",
       "      <td>4007</td>\n",
       "      <td>50822</td>\n",
       "      <td>102297</td>\n",
       "      <td>NaN</td>\n",
       "    </tr>\n",
       "    <tr>\n",
       "      <th>2</th>\n",
       "      <td>3697</td>\n",
       "      <td>8155</td>\n",
       "      <td>4007</td>\n",
       "      <td>50822</td>\n",
       "      <td>102298</td>\n",
       "      <td>NaN</td>\n",
       "    </tr>\n",
       "    <tr>\n",
       "      <th>3</th>\n",
       "      <td>3697</td>\n",
       "      <td>8155</td>\n",
       "      <td>4007</td>\n",
       "      <td>50823</td>\n",
       "      <td>102299</td>\n",
       "      <td>NaN</td>\n",
       "    </tr>\n",
       "    <tr>\n",
       "      <th>4</th>\n",
       "      <td>3697</td>\n",
       "      <td>8155</td>\n",
       "      <td>4007</td>\n",
       "      <td>50824</td>\n",
       "      <td>102300</td>\n",
       "      <td>NaN</td>\n",
       "    </tr>\n",
       "    <tr>\n",
       "      <th>...</th>\n",
       "      <td>...</td>\n",
       "      <td>...</td>\n",
       "      <td>...</td>\n",
       "      <td>...</td>\n",
       "      <td>...</td>\n",
       "      <td>...</td>\n",
       "    </tr>\n",
       "    <tr>\n",
       "      <th>164652</th>\n",
       "      <td>4125</td>\n",
       "      <td>18773</td>\n",
       "      <td>4454</td>\n",
       "      <td>92718</td>\n",
       "      <td>257585</td>\n",
       "      <td>18336</td>\n",
       "    </tr>\n",
       "    <tr>\n",
       "      <th>164653</th>\n",
       "      <td>4125</td>\n",
       "      <td>18773</td>\n",
       "      <td>4454</td>\n",
       "      <td>92719</td>\n",
       "      <td>257586</td>\n",
       "      <td>15347</td>\n",
       "    </tr>\n",
       "    <tr>\n",
       "      <th>164654</th>\n",
       "      <td>4125</td>\n",
       "      <td>18773</td>\n",
       "      <td>4454</td>\n",
       "      <td>92719</td>\n",
       "      <td>257587</td>\n",
       "      <td>15347</td>\n",
       "    </tr>\n",
       "    <tr>\n",
       "      <th>164655</th>\n",
       "      <td>4125</td>\n",
       "      <td>18773</td>\n",
       "      <td>4454</td>\n",
       "      <td>92720</td>\n",
       "      <td>257588</td>\n",
       "      <td>NaN</td>\n",
       "    </tr>\n",
       "    <tr>\n",
       "      <th>164656</th>\n",
       "      <td>4125</td>\n",
       "      <td>18773</td>\n",
       "      <td>4454</td>\n",
       "      <td>92721</td>\n",
       "      <td>257589</td>\n",
       "      <td>17223</td>\n",
       "    </tr>\n",
       "  </tbody>\n",
       "</table>\n",
       "<p>164657 rows × 6 columns</p>\n",
       "</div>"
      ],
      "text/plain": [
       "       id_catalog id_exhibition id_section id_personage id_work id_address1\n",
       "0            3697          8155       4007        50822  102296         NaN\n",
       "1            3697          8155       4007        50822  102297         NaN\n",
       "2            3697          8155       4007        50822  102298         NaN\n",
       "3            3697          8155       4007        50823  102299         NaN\n",
       "4            3697          8155       4007        50824  102300         NaN\n",
       "...           ...           ...        ...          ...     ...         ...\n",
       "164652       4125         18773       4454        92718  257585       18336\n",
       "164653       4125         18773       4454        92719  257586       15347\n",
       "164654       4125         18773       4454        92719  257587       15347\n",
       "164655       4125         18773       4454        92720  257588         NaN\n",
       "164656       4125         18773       4454        92721  257589       17223\n",
       "\n",
       "[164657 rows x 6 columns]"
      ]
     },
     "execution_count": 16,
     "metadata": {},
     "output_type": "execute_result"
    }
   ],
   "source": [
    "merged_addr"
   ]
  },
  {
   "cell_type": "markdown",
   "id": "9b7c78b3-1d77-4e2f-8097-6a87b1d698a4",
   "metadata": {},
   "source": [
    "# Saving the final results"
   ]
  },
  {
   "cell_type": "code",
   "execution_count": 19,
   "id": "92592502-0b2b-452c-8790-d38ec1f0afb4",
   "metadata": {
    "tags": []
   },
   "outputs": [],
   "source": [
    "columns = merged_addr.columns\n",
    "\n",
    "# Iterate through the columns\n",
    "for col in columns:\n",
    "    # Check if the column name contains a space\n",
    "    if ' ' in col:\n",
    "        # Replace spaces with underscores\n",
    "        merged_work.rename(columns={col: col.replace(' ', '_')}, inplace=True)"
   ]
  },
  {
   "cell_type": "code",
   "execution_count": 20,
   "id": "ceb5c208-d25e-44e7-b49a-e3ca09201a8f",
   "metadata": {
    "tags": []
   },
   "outputs": [],
   "source": [
    "merged_addr.to_xml('/Users/carboni/Documents/UNIGE/basart_downloads/2023/data/processed/exhibition_extra/exhibition_enriched.xml', root_name=\"data\", pretty_print=True)"
   ]
  },
  {
   "cell_type": "markdown",
   "id": "895a9506-47a2-49bd-947e-462b4d0a9ffb",
   "metadata": {},
   "source": [
    "# Data Analysis"
   ]
  },
  {
   "cell_type": "markdown",
   "id": "68717394-ab68-45bb-af97-2ce05f754fea",
   "metadata": {},
   "source": [
    "Checking data consistency"
   ]
  },
  {
   "cell_type": "markdown",
   "id": "5abf0134-5b14-4c4e-9375-e8aee58490ed",
   "metadata": {},
   "source": [
    "## How many sections and catalogues per exhibition"
   ]
  },
  {
   "cell_type": "code",
   "execution_count": null,
   "id": "f9ce065f-eb60-4b40-819f-8ab486e13f9d",
   "metadata": {
    "tags": []
   },
   "outputs": [],
   "source": [
    "final_merged_with_exhibition = pd.merge(merged_work, df_exhibition, on='id_exhibition', how='left')"
   ]
  },
  {
   "cell_type": "code",
   "execution_count": null,
   "id": "690c9f09-555d-4694-9249-8e8437221c5e",
   "metadata": {
    "tags": []
   },
   "outputs": [],
   "source": [
    "duckdb.sql(\"CREATE TABLE exhibition AS SELECT * FROM final_merged_with_exhibition\")"
   ]
  },
  {
   "cell_type": "code",
   "execution_count": null,
   "id": "d4923d37-f8af-4167-a57b-9196e8a203f2",
   "metadata": {
    "tags": []
   },
   "outputs": [],
   "source": [
    "result = duckdb.execute(\"SELECT * FROM exhibition\").fetchdf()\n",
    "result.head(5)"
   ]
  },
  {
   "cell_type": "code",
   "execution_count": null,
   "id": "34d93a49-25dd-4d9f-88a1-439b1ce0ece1",
   "metadata": {
    "tags": []
   },
   "outputs": [],
   "source": [
    "query = \"\"\"\n",
    "SELECT id_exhibition, traveling, COUNT(DISTINCT id_section) as section_count, COUNT(DISTINCT id_catalog) as catalog_count_count\n",
    "FROM exhibition\n",
    "GROUP BY id_exhibition, traveling\n",
    "HAVING COUNT(DISTINCT id_section) > 1;\n",
    "\"\"\""
   ]
  },
  {
   "cell_type": "code",
   "execution_count": null,
   "id": "47e58175-2160-4796-9df5-5eb3ad428b19",
   "metadata": {
    "tags": []
   },
   "outputs": [],
   "source": [
    "result = duckdb.query(query).fetchdf()\n",
    "print(result)"
   ]
  },
  {
   "cell_type": "markdown",
   "id": "c9850330-9df3-4b08-9128-6ad11d61d790",
   "metadata": {},
   "source": [
    "### Multiple catalogues' id example"
   ]
  },
  {
   "cell_type": "code",
   "execution_count": null,
   "id": "3488c598-b7bf-4bf6-b72b-1623b7d5829e",
   "metadata": {
    "tags": []
   },
   "outputs": [],
   "source": [
    "catalogues = duckdb.execute(\"SELECT DISTINCT id_section, id_catalog FROM exhibition WHERE id_exhibition = 18492;\").fetchdf()"
   ]
  },
  {
   "cell_type": "code",
   "execution_count": null,
   "id": "077a4cab-70a0-4240-afd5-7c575ae7a10c",
   "metadata": {
    "tags": []
   },
   "outputs": [],
   "source": [
    "print(catalogues)"
   ]
  },
  {
   "cell_type": "markdown",
   "id": "0129270e-99d8-4f0f-9486-58537df68700",
   "metadata": {},
   "source": [
    "### Multiple section example"
   ]
  },
  {
   "cell_type": "code",
   "execution_count": null,
   "id": "960e670a-d1c1-4af4-9442-36777672b25c",
   "metadata": {
    "tags": []
   },
   "outputs": [],
   "source": [
    "section = duckdb.execute(\"SELECT DISTINCT id_section, id_catalog FROM exhibition WHERE id_exhibition = 4283;\").fetchdf()"
   ]
  },
  {
   "cell_type": "code",
   "execution_count": null,
   "id": "4b2d7d4c-8f3c-43c7-a98b-f4d8bd8c746b",
   "metadata": {
    "tags": []
   },
   "outputs": [],
   "source": [
    "print(section)"
   ]
  }
 ],
 "metadata": {
  "kernelspec": {
   "display_name": "Python 3 (ipykernel)",
   "language": "python",
   "name": "python3"
  },
  "language_info": {
   "codemirror_mode": {
    "name": "ipython",
    "version": 3
   },
   "file_extension": ".py",
   "mimetype": "text/x-python",
   "name": "python",
   "nbconvert_exporter": "python",
   "pygments_lexer": "ipython3",
   "version": "3.10.8"
  }
 },
 "nbformat": 4,
 "nbformat_minor": 5
}
