{
 "cells": [
  {
   "cell_type": "markdown",
   "id": "e30ad32b-bfc6-463d-8b68-effd1bbffa3d",
   "metadata": {},
   "source": [
    "# Exhibition - enriching information"
   ]
  },
  {
   "cell_type": "code",
   "execution_count": null,
   "id": "089f853d-271f-4683-b744-56d0f754f773",
   "metadata": {
    "tags": []
   },
   "outputs": [],
   "source": [
    "import pandas as pd\n",
    "import duckdb"
   ]
  },
  {
   "cell_type": "code",
   "execution_count": null,
   "id": "d60b8d49-e2fa-4326-ac5b-2d6d6c07bd58",
   "metadata": {
    "tags": []
   },
   "outputs": [],
   "source": [
    "df_exhibition = pd.read_csv('/Users/carboni/Documents/UNIGE/basart_downloads/2023/data/processed/exhibition_done/Artlas Exhibition.csv', dtype ='str')\n",
    "df_catalog = pd.read_csv('/Users/carboni/Documents/UNIGE/basart_downloads/2023/data/processed/exhibition_extra/exhibitions_ids/Exhibition Catalog.csv', dtype ='str')\n",
    "df_exhibition_section = pd.read_csv('/Users/carboni/Documents/UNIGE/basart_downloads/2023/data/processed/exhibition_extra/exhibitions_ids/Exhibition Section.csv', dtype ='str')\n",
    "df_has_exhibited_in = pd.read_csv('/Users/carboni/Documents/UNIGE/basart_downloads/2023/data/processed/exhibition_extra/exhibitions_ids/Exhibited.csv', dtype ='str')\n",
    "df_personage = pd.read_csv('/Users/carboni/Documents/UNIGE/basart_downloads/2023/data/processed/personage/Exhibitor.csv', low_memory=False, dtype ='str')\n",
    "df_artwork = pd.read_csv('/Users/carboni/Documents/UNIGE/basart_downloads/2023/data/processed/exhibition_extra/exhibitions_ids/Exhibited Work.csv', low_memory=False, dtype ='str')"
   ]
  },
  {
   "cell_type": "code",
   "execution_count": null,
   "id": "d441dff6-605b-4e64-9454-2a407e5e3336",
   "metadata": {
    "tags": []
   },
   "outputs": [],
   "source": [
    "df_catalog.rename(columns={'id': 'id_catalog'}, inplace=True)\n",
    "df_exhibition.rename(columns={'id': 'id_exhibition'}, inplace=True)\n",
    "df_exhibition_section.rename(columns={'id': 'id_section'}, inplace=True)\n",
    "df_has_exhibited_in.rename(columns={'id_exhibition_section': 'id_section', 'id': 'id_has_exhibited_in'}, inplace=True)\n",
    "df_artwork.rename(columns={'id': 'id_work'}, inplace=True)"
   ]
  },
  {
   "cell_type": "code",
   "execution_count": null,
   "id": "83fa9c39-0c12-4bb3-91c7-30b339d7f6e6",
   "metadata": {
    "tags": []
   },
   "outputs": [],
   "source": [
    "df_artwork.head(3)"
   ]
  },
  {
   "cell_type": "code",
   "execution_count": null,
   "id": "78d0dbde-7621-4fc1-bc72-c4eaf73a8e7d",
   "metadata": {
    "tags": []
   },
   "outputs": [],
   "source": [
    "merged_catalog = pd.merge(df_exhibition[['id_exhibition']], df_catalog[['id_catalog', 'id_exhibition']], left_on='id_exhibition', right_on='id_exhibition')"
   ]
  },
  {
   "cell_type": "code",
   "execution_count": null,
   "id": "8c22f092-991a-4a10-86ab-94910ace7427",
   "metadata": {
    "tags": []
   },
   "outputs": [],
   "source": [
    "merged_catalog.head(3)"
   ]
  },
  {
   "cell_type": "code",
   "execution_count": null,
   "id": "bc12b723-faea-4225-9fad-6525f26a00db",
   "metadata": {
    "tags": []
   },
   "outputs": [],
   "source": [
    "merged_section = pd.merge(merged_catalog[['id_catalog', 'id_exhibition']], df_exhibition_section[['id_section', 'id_catalog']], left_on='id_catalog', right_on='id_catalog')"
   ]
  },
  {
   "cell_type": "code",
   "execution_count": null,
   "id": "09c015d9-f865-47b2-90d3-471fb1abf0a4",
   "metadata": {
    "tags": []
   },
   "outputs": [],
   "source": [
    "merged_section.head(3)"
   ]
  },
  {
   "cell_type": "code",
   "execution_count": null,
   "id": "e2929f76-9ae9-48b1-bcfb-df2c2bcaff5c",
   "metadata": {
    "tags": []
   },
   "outputs": [],
   "source": [
    "merged_exhibited = pd.merge(merged_section[['id_catalog', 'id_exhibition', 'id_section']], df_has_exhibited_in[['id_personage', 'id_section', 'id_has_exhibited_in']], left_on='id_section', right_on='id_section')"
   ]
  },
  {
   "cell_type": "code",
   "execution_count": null,
   "id": "99f832f7-49b7-4d80-b8aa-0d7c214d2677",
   "metadata": {
    "tags": []
   },
   "outputs": [],
   "source": [
    "merged_exhibited.head(3)"
   ]
  },
  {
   "cell_type": "code",
   "execution_count": null,
   "id": "31581677-a20c-42cc-a13d-a9bf9b09d122",
   "metadata": {
    "tags": []
   },
   "outputs": [],
   "source": [
    "merged_work = pd.merge(merged_exhibited[['id_catalog', 'id_exhibition', 'id_section','id_personage', 'id_has_exhibited_in']], df_artwork[['id_work', 'id_has_exhibited_in']], left_on='id_has_exhibited_in', right_on='id_has_exhibited_in')"
   ]
  },
  {
   "cell_type": "code",
   "execution_count": null,
   "id": "6f967587-c7d1-4eda-985f-d2311815d689",
   "metadata": {
    "tags": []
   },
   "outputs": [],
   "source": [
    "merged_work.drop('id_has_exhibited_in', axis=1, inplace=True)"
   ]
  },
  {
   "cell_type": "code",
   "execution_count": null,
   "id": "20fea43b-f2e2-43c9-b27f-f67d5cddb679",
   "metadata": {
    "tags": []
   },
   "outputs": [],
   "source": [
    "merged_work.head(3)"
   ]
  },
  {
   "cell_type": "markdown",
   "id": "9b7c78b3-1d77-4e2f-8097-6a87b1d698a4",
   "metadata": {},
   "source": [
    "# Saving the final results"
   ]
  },
  {
   "cell_type": "code",
   "execution_count": null,
   "id": "92592502-0b2b-452c-8790-d38ec1f0afb4",
   "metadata": {
    "tags": []
   },
   "outputs": [],
   "source": [
    "columns = merged_work.columns\n",
    "\n",
    "# Iterate through the columns\n",
    "for col in columns:\n",
    "    # Check if the column name contains a space\n",
    "    if ' ' in col:\n",
    "        # Replace spaces with underscores\n",
    "        merged_work.rename(columns={col: col.replace(' ', '_')}, inplace=True)"
   ]
  },
  {
   "cell_type": "code",
   "execution_count": null,
   "id": "ceb5c208-d25e-44e7-b49a-e3ca09201a8f",
   "metadata": {
    "tags": []
   },
   "outputs": [],
   "source": [
    "merged_work.to_xml('/Users/carboni/Documents/UNIGE/basart_downloads/2023/data/processed/exhibition_extra/exhibition_enriched.xml', root_name=\"data\", pretty_print=True)"
   ]
  },
  {
   "cell_type": "markdown",
   "id": "895a9506-47a2-49bd-947e-462b4d0a9ffb",
   "metadata": {},
   "source": [
    "# Data Analysis"
   ]
  },
  {
   "cell_type": "markdown",
   "id": "68717394-ab68-45bb-af97-2ce05f754fea",
   "metadata": {},
   "source": [
    "Checking data consistency"
   ]
  },
  {
   "cell_type": "markdown",
   "id": "5abf0134-5b14-4c4e-9375-e8aee58490ed",
   "metadata": {},
   "source": [
    "## How many sections and catalogues per exhibition"
   ]
  },
  {
   "cell_type": "code",
   "execution_count": null,
   "id": "f9ce065f-eb60-4b40-819f-8ab486e13f9d",
   "metadata": {
    "tags": []
   },
   "outputs": [],
   "source": [
    "final_merged_with_exhibition = pd.merge(merged_work, df_exhibition, on='id_exhibition', how='left')"
   ]
  },
  {
   "cell_type": "code",
   "execution_count": null,
   "id": "690c9f09-555d-4694-9249-8e8437221c5e",
   "metadata": {
    "tags": []
   },
   "outputs": [],
   "source": [
    "duckdb.sql(\"CREATE TABLE exhibition AS SELECT * FROM final_merged_with_exhibition\")"
   ]
  },
  {
   "cell_type": "code",
   "execution_count": null,
   "id": "d4923d37-f8af-4167-a57b-9196e8a203f2",
   "metadata": {
    "tags": []
   },
   "outputs": [],
   "source": [
    "result = duckdb.execute(\"SELECT * FROM exhibition\").fetchdf()\n",
    "result.head(5)"
   ]
  },
  {
   "cell_type": "code",
   "execution_count": null,
   "id": "34d93a49-25dd-4d9f-88a1-439b1ce0ece1",
   "metadata": {
    "tags": []
   },
   "outputs": [],
   "source": [
    "query = \"\"\"\n",
    "SELECT id_exhibition, traveling, COUNT(DISTINCT id_section) as section_count, COUNT(DISTINCT id_catalog) as catalog_count_count\n",
    "FROM exhibition\n",
    "GROUP BY id_exhibition, traveling\n",
    "HAVING COUNT(DISTINCT id_section) > 1;\n",
    "\"\"\""
   ]
  },
  {
   "cell_type": "code",
   "execution_count": null,
   "id": "47e58175-2160-4796-9df5-5eb3ad428b19",
   "metadata": {
    "tags": []
   },
   "outputs": [],
   "source": [
    "result = duckdb.query(query).fetchdf()\n",
    "print(result)"
   ]
  },
  {
   "cell_type": "markdown",
   "id": "c9850330-9df3-4b08-9128-6ad11d61d790",
   "metadata": {},
   "source": [
    "### Multiple catalogues' id example"
   ]
  },
  {
   "cell_type": "code",
   "execution_count": null,
   "id": "3488c598-b7bf-4bf6-b72b-1623b7d5829e",
   "metadata": {
    "tags": []
   },
   "outputs": [],
   "source": [
    "catalogues = duckdb.execute(\"SELECT DISTINCT id_section, id_catalog FROM exhibition WHERE id_exhibition = 18492;\").fetchdf()"
   ]
  },
  {
   "cell_type": "code",
   "execution_count": null,
   "id": "077a4cab-70a0-4240-afd5-7c575ae7a10c",
   "metadata": {
    "tags": []
   },
   "outputs": [],
   "source": [
    "print(catalogues)"
   ]
  },
  {
   "cell_type": "markdown",
   "id": "0129270e-99d8-4f0f-9486-58537df68700",
   "metadata": {},
   "source": [
    "### Multiple section example"
   ]
  },
  {
   "cell_type": "code",
   "execution_count": null,
   "id": "960e670a-d1c1-4af4-9442-36777672b25c",
   "metadata": {
    "tags": []
   },
   "outputs": [],
   "source": [
    "section = duckdb.execute(\"SELECT DISTINCT id_section, id_catalog FROM exhibition WHERE id_exhibition = 4283;\").fetchdf()"
   ]
  },
  {
   "cell_type": "code",
   "execution_count": null,
   "id": "4b2d7d4c-8f3c-43c7-a98b-f4d8bd8c746b",
   "metadata": {
    "tags": []
   },
   "outputs": [],
   "source": [
    "print(section)"
   ]
  }
 ],
 "metadata": {
  "kernelspec": {
   "display_name": "Python 3 (ipykernel)",
   "language": "python",
   "name": "python3"
  },
  "language_info": {
   "codemirror_mode": {
    "name": "ipython",
    "version": 3
   },
   "file_extension": ".py",
   "mimetype": "text/x-python",
   "name": "python",
   "nbconvert_exporter": "python",
   "pygments_lexer": "ipython3",
   "version": "3.10.8"
  }
 },
 "nbformat": 4,
 "nbformat_minor": 5
}
