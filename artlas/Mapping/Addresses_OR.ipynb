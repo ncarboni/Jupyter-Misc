{
 "cells": [
  {
   "cell_type": "code",
   "execution_count": 1,
   "id": "42ab2404-87d3-4c62-96d4-b1815bd7fc19",
   "metadata": {
    "tags": []
   },
   "outputs": [],
   "source": [
    "import pandas as pd\n",
    "import requests\n",
    "from io import StringIO\n",
    "import numpy as np\n",
    "import uuid"
   ]
  },
  {
   "cell_type": "markdown",
   "id": "1dc7b44a-6569-4957-90fa-ef0f64f7b538",
   "metadata": {},
   "source": [
    "Steps: we import the basart_address from OR and then merge it with the v_address and the address table from basart db. The v_address does not have city_id, but it has coordinates. The address does not have coordinates but it has city_id. The basart_address from OR has addresses that have been cleaned and confirmed (but only paris)"
   ]
  },
  {
   "cell_type": "code",
   "execution_count": 2,
   "id": "f4203b36-a841-427d-a25d-f5d5e5fd66a3",
   "metadata": {
    "tags": []
   },
   "outputs": [],
   "source": [
    "url = \"http://129.194.213.75/command/core/export-rows\"\n",
    "params = {\n",
    "    'format': 'csv',\n",
    "    'project': '1969739192362'\n",
    "}\n",
    "\n",
    "response = requests.post(url, params=params)\n",
    "\n",
    "if response.status_code == 200:\n",
    "    df = pd.read_csv(StringIO(response.text), dtype ='str', low_memory=False)\n",
    "else:\n",
    "    print(f\"Failed to load data. Status code: {response.status_code}\")"
   ]
  },
  {
   "cell_type": "code",
   "execution_count": 3,
   "id": "512434ca-5a09-4ed3-8b00-3cbade5ae9aa",
   "metadata": {
    "tags": []
   },
   "outputs": [],
   "source": [
    "add_basart = pd.read_csv(\"/Users/carboni/Downloads/v_address leboulanger.csv\",  dtype ='str')"
   ]
  },
  {
   "cell_type": "code",
   "execution_count": 4,
   "id": "ce2df78a-fa14-4389-b6cb-702b5ef4ac09",
   "metadata": {
    "tags": []
   },
   "outputs": [],
   "source": [
    "add_basart_city = pd.read_csv(\"/Users/carboni/Downloads/Address.csv\",  dtype ='str')"
   ]
  },
  {
   "cell_type": "code",
   "execution_count": 5,
   "id": "5296a3cd-821c-4cbb-9a8b-bc920fcbd647",
   "metadata": {
    "tags": []
   },
   "outputs": [],
   "source": [
    "add_basart_city_id = add_basart_city[['id','id_city']]"
   ]
  },
  {
   "cell_type": "code",
   "execution_count": 6,
   "id": "49631e2c-be02-403a-92a6-7109876793bb",
   "metadata": {
    "tags": []
   },
   "outputs": [],
   "source": [
    "merged_bas = add_basart.merge(add_basart_city_id, on='id', how='left')"
   ]
  },
  {
   "cell_type": "code",
   "execution_count": 7,
   "id": "3155469e-e4ca-4fa9-ad81-890258c927de",
   "metadata": {
    "tags": []
   },
   "outputs": [],
   "source": [
    "merged_bas = merged_bas.drop(columns=['city_x', 'city_y', 'statefr', 'stateen', 'countryen', 'countryfr'])"
   ]
  },
  {
   "cell_type": "markdown",
   "id": "51df4244-2913-451c-9ff7-87c51957f47d",
   "metadata": {},
   "source": [
    "we eliminate nan from x/y in merged bas"
   ]
  },
  {
   "cell_type": "code",
   "execution_count": 8,
   "id": "d44f5891-4f7d-4469-bcc5-f6edd2d2e342",
   "metadata": {},
   "outputs": [],
   "source": [
    "merged_bas.dropna(subset=['x'], inplace=True)"
   ]
  },
  {
   "cell_type": "code",
   "execution_count": 9,
   "id": "49f1edf4-b869-4b85-a515-a5e79e5c3c50",
   "metadata": {
    "tags": []
   },
   "outputs": [],
   "source": [
    "merged_bas['address_combined'] = merged_bas.apply(lambda row: ' '.join(str(row[col]) for col in ['road', 'road_num', 'floor', 'locality', 'complement'] if pd.notna(row[col])), axis=1)"
   ]
  },
  {
   "cell_type": "code",
   "execution_count": 10,
   "id": "6378d2ff-511d-42b9-bfb4-a3c88e999fed",
   "metadata": {
    "tags": []
   },
   "outputs": [
    {
     "data": {
      "text/html": [
       "<div>\n",
       "<style scoped>\n",
       "    .dataframe tbody tr th:only-of-type {\n",
       "        vertical-align: middle;\n",
       "    }\n",
       "\n",
       "    .dataframe tbody tr th {\n",
       "        vertical-align: top;\n",
       "    }\n",
       "\n",
       "    .dataframe thead th {\n",
       "        text-align: right;\n",
       "    }\n",
       "</style>\n",
       "<table border=\"1\" class=\"dataframe\">\n",
       "  <thead>\n",
       "    <tr style=\"text-align: right;\">\n",
       "      <th></th>\n",
       "      <th>id</th>\n",
       "      <th>road_num</th>\n",
       "      <th>road</th>\n",
       "      <th>floor</th>\n",
       "      <th>locality</th>\n",
       "      <th>complement</th>\n",
       "      <th>x</th>\n",
       "      <th>y</th>\n",
       "      <th>city</th>\n",
       "      <th>id_city</th>\n",
       "      <th>address_combined</th>\n",
       "    </tr>\n",
       "  </thead>\n",
       "  <tbody>\n",
       "    <tr>\n",
       "      <th>6</th>\n",
       "      <td>3898</td>\n",
       "      <td>3</td>\n",
       "      <td>rue de la Promenade</td>\n",
       "      <td>NaN</td>\n",
       "      <td>NaN</td>\n",
       "      <td>NaN</td>\n",
       "      <td>2.286761</td>\n",
       "      <td>48.912498</td>\n",
       "      <td>Asnières</td>\n",
       "      <td>2290</td>\n",
       "      <td>rue de la Promenade 3</td>\n",
       "    </tr>\n",
       "    <tr>\n",
       "      <th>7</th>\n",
       "      <td>3900</td>\n",
       "      <td>13</td>\n",
       "      <td>rue Eugénie-Gérard</td>\n",
       "      <td>NaN</td>\n",
       "      <td>NaN</td>\n",
       "      <td>NaN</td>\n",
       "      <td>2.4330176</td>\n",
       "      <td>48.8462203</td>\n",
       "      <td>Vincennes</td>\n",
       "      <td>2293</td>\n",
       "      <td>rue Eugénie-Gérard 13</td>\n",
       "    </tr>\n",
       "    <tr>\n",
       "      <th>12</th>\n",
       "      <td>3907</td>\n",
       "      <td>7 bis</td>\n",
       "      <td>rue de la Villa</td>\n",
       "      <td>NaN</td>\n",
       "      <td>NaN</td>\n",
       "      <td>NaN</td>\n",
       "      <td>2.2748868</td>\n",
       "      <td>48.8522421</td>\n",
       "      <td>Sèvres</td>\n",
       "      <td>2303</td>\n",
       "      <td>rue de la Villa 7 bis</td>\n",
       "    </tr>\n",
       "    <tr>\n",
       "      <th>21</th>\n",
       "      <td>3902</td>\n",
       "      <td>23</td>\n",
       "      <td>avenue du Centenaire</td>\n",
       "      <td>NaN</td>\n",
       "      <td>NaN</td>\n",
       "      <td>NaN</td>\n",
       "      <td>2.5076739</td>\n",
       "      <td>48.7976899</td>\n",
       "      <td>La Varenne-Saint-Hilaire</td>\n",
       "      <td>96763</td>\n",
       "      <td>avenue du Centenaire 23</td>\n",
       "    </tr>\n",
       "    <tr>\n",
       "      <th>23</th>\n",
       "      <td>3938</td>\n",
       "      <td>64</td>\n",
       "      <td>boulevard de l'Ouest</td>\n",
       "      <td>NaN</td>\n",
       "      <td>NaN</td>\n",
       "      <td>NaN</td>\n",
       "      <td>2.5095775</td>\n",
       "      <td>48.897598</td>\n",
       "      <td>Le Raincy</td>\n",
       "      <td>97228</td>\n",
       "      <td>boulevard de l'Ouest 64</td>\n",
       "    </tr>\n",
       "  </tbody>\n",
       "</table>\n",
       "</div>"
      ],
      "text/plain": [
       "      id road_num                  road floor locality complement          x  \\\n",
       "6   3898        3   rue de la Promenade   NaN      NaN        NaN   2.286761   \n",
       "7   3900       13    rue Eugénie-Gérard   NaN      NaN        NaN  2.4330176   \n",
       "12  3907    7 bis       rue de la Villa   NaN      NaN        NaN  2.2748868   \n",
       "21  3902       23  avenue du Centenaire   NaN      NaN        NaN  2.5076739   \n",
       "23  3938       64  boulevard de l'Ouest   NaN      NaN        NaN  2.5095775   \n",
       "\n",
       "             y                      city id_city         address_combined  \n",
       "6    48.912498                  Asnières    2290    rue de la Promenade 3  \n",
       "7   48.8462203                 Vincennes    2293    rue Eugénie-Gérard 13  \n",
       "12  48.8522421                    Sèvres    2303    rue de la Villa 7 bis  \n",
       "21  48.7976899  La Varenne-Saint-Hilaire   96763  avenue du Centenaire 23  \n",
       "23   48.897598                 Le Raincy   97228  boulevard de l'Ouest 64  "
      ]
     },
     "execution_count": 10,
     "metadata": {},
     "output_type": "execute_result"
    }
   ],
   "source": [
    "merged_bas.head()"
   ]
  },
  {
   "cell_type": "markdown",
   "id": "89fd16b0-f587-4253-9688-9b3093f191e5",
   "metadata": {},
   "source": [
    "we keep only the curated values (all_lat/all_long) from df"
   ]
  },
  {
   "cell_type": "code",
   "execution_count": 11,
   "id": "6291dede-f7ba-4d88-a27c-4fb543c3c1df",
   "metadata": {
    "tags": []
   },
   "outputs": [],
   "source": [
    "df.dropna(subset=['all_lat'], inplace=True)"
   ]
  },
  {
   "cell_type": "code",
   "execution_count": 12,
   "id": "9cf72386-8648-45ff-8622-54b08deabb6d",
   "metadata": {
    "tags": []
   },
   "outputs": [],
   "source": [
    "df_curated = df[['id','all_long', 'all_lat']]"
   ]
  },
  {
   "cell_type": "code",
   "execution_count": 13,
   "id": "70e609d3-a85f-4099-899b-471da5ea1032",
   "metadata": {
    "tags": []
   },
   "outputs": [
    {
     "data": {
      "text/html": [
       "<div>\n",
       "<style scoped>\n",
       "    .dataframe tbody tr th:only-of-type {\n",
       "        vertical-align: middle;\n",
       "    }\n",
       "\n",
       "    .dataframe tbody tr th {\n",
       "        vertical-align: top;\n",
       "    }\n",
       "\n",
       "    .dataframe thead th {\n",
       "        text-align: right;\n",
       "    }\n",
       "</style>\n",
       "<table border=\"1\" class=\"dataframe\">\n",
       "  <thead>\n",
       "    <tr style=\"text-align: right;\">\n",
       "      <th></th>\n",
       "      <th>id</th>\n",
       "      <th>all_long</th>\n",
       "      <th>all_lat</th>\n",
       "    </tr>\n",
       "  </thead>\n",
       "  <tbody>\n",
       "    <tr>\n",
       "      <th>16</th>\n",
       "      <td>3878</td>\n",
       "      <td>2.3449549</td>\n",
       "      <td>48.8534925</td>\n",
       "    </tr>\n",
       "    <tr>\n",
       "      <th>29</th>\n",
       "      <td>22104</td>\n",
       "      <td>2.37552</td>\n",
       "      <td>48.8393898</td>\n",
       "    </tr>\n",
       "    <tr>\n",
       "      <th>31</th>\n",
       "      <td>22105</td>\n",
       "      <td>2.3721447</td>\n",
       "      <td>48.8612561</td>\n",
       "    </tr>\n",
       "    <tr>\n",
       "      <th>32</th>\n",
       "      <td>22106</td>\n",
       "      <td>2.2755728</td>\n",
       "      <td>48.8594591</td>\n",
       "    </tr>\n",
       "    <tr>\n",
       "      <th>33</th>\n",
       "      <td>22107</td>\n",
       "      <td>2.3481673</td>\n",
       "      <td>48.8420621</td>\n",
       "    </tr>\n",
       "  </tbody>\n",
       "</table>\n",
       "</div>"
      ],
      "text/plain": [
       "       id   all_long     all_lat\n",
       "16   3878  2.3449549  48.8534925\n",
       "29  22104    2.37552  48.8393898\n",
       "31  22105  2.3721447  48.8612561\n",
       "32  22106  2.2755728  48.8594591\n",
       "33  22107  2.3481673  48.8420621"
      ]
     },
     "execution_count": 13,
     "metadata": {},
     "output_type": "execute_result"
    }
   ],
   "source": [
    "df_curated.head(5)"
   ]
  },
  {
   "cell_type": "code",
   "execution_count": 14,
   "id": "dfa6b6ba-4cca-419d-8653-e4c4327db28d",
   "metadata": {
    "tags": []
   },
   "outputs": [],
   "source": [
    "merged = pd.merge(merged_bas, df_curated[['id', 'all_lat', 'all_long']], on='id', how='left')"
   ]
  },
  {
   "cell_type": "code",
   "execution_count": 15,
   "id": "432be514-2340-4a94-bd5d-5b63255cfac1",
   "metadata": {
    "tags": []
   },
   "outputs": [],
   "source": [
    "# Update 'y' and 'x' in merged DataFrame with values from 'all_lat' and 'all_long' if available\n",
    "merged['y'] = merged['all_lat'].combine_first(merged['y'])\n",
    "merged['x'] = merged['all_long'].combine_first(merged['x'])\n",
    "\n",
    "# Drop the temporary columns 'all_lat' and 'all_long'\n",
    "merged.drop(columns=['all_lat', 'all_long'], inplace=True)"
   ]
  },
  {
   "cell_type": "code",
   "execution_count": 16,
   "id": "5267be27-db46-4408-bfb2-68b678bc2929",
   "metadata": {
    "tags": []
   },
   "outputs": [],
   "source": [
    "merged.rename(columns={'x': 'lng', 'y': 'lat'}, inplace=True)"
   ]
  },
  {
   "cell_type": "code",
   "execution_count": 22,
   "id": "f7f8e781-82a5-458c-a5c0-d63a8112f9b7",
   "metadata": {
    "tags": []
   },
   "outputs": [],
   "source": [
    "merged[\"wkt\"] = \"POINT(\" + merged[\"lng\"] + \" \" + merged[\"lat\"] + \")\""
   ]
  },
  {
   "cell_type": "code",
   "execution_count": 23,
   "id": "252b90ca-1298-4ba9-a483-81b24921a29f",
   "metadata": {
    "tags": []
   },
   "outputs": [
    {
     "data": {
      "text/html": [
       "<div>\n",
       "<style scoped>\n",
       "    .dataframe tbody tr th:only-of-type {\n",
       "        vertical-align: middle;\n",
       "    }\n",
       "\n",
       "    .dataframe tbody tr th {\n",
       "        vertical-align: top;\n",
       "    }\n",
       "\n",
       "    .dataframe thead th {\n",
       "        text-align: right;\n",
       "    }\n",
       "</style>\n",
       "<table border=\"1\" class=\"dataframe\">\n",
       "  <thead>\n",
       "    <tr style=\"text-align: right;\">\n",
       "      <th></th>\n",
       "      <th>id</th>\n",
       "      <th>road_num</th>\n",
       "      <th>road</th>\n",
       "      <th>floor</th>\n",
       "      <th>locality</th>\n",
       "      <th>complement</th>\n",
       "      <th>lng</th>\n",
       "      <th>lat</th>\n",
       "      <th>city</th>\n",
       "      <th>id_city</th>\n",
       "      <th>address_combined</th>\n",
       "      <th>wkt</th>\n",
       "    </tr>\n",
       "  </thead>\n",
       "  <tbody>\n",
       "    <tr>\n",
       "      <th>0</th>\n",
       "      <td>3898</td>\n",
       "      <td>3</td>\n",
       "      <td>rue de la Promenade</td>\n",
       "      <td>NaN</td>\n",
       "      <td>NaN</td>\n",
       "      <td>NaN</td>\n",
       "      <td>2.286761</td>\n",
       "      <td>48.912498</td>\n",
       "      <td>Asnières</td>\n",
       "      <td>2290</td>\n",
       "      <td>rue de la Promenade 3</td>\n",
       "      <td>POINT(2.286761 48.912498)</td>\n",
       "    </tr>\n",
       "    <tr>\n",
       "      <th>1</th>\n",
       "      <td>3900</td>\n",
       "      <td>13</td>\n",
       "      <td>rue Eugénie-Gérard</td>\n",
       "      <td>NaN</td>\n",
       "      <td>NaN</td>\n",
       "      <td>NaN</td>\n",
       "      <td>2.4330176</td>\n",
       "      <td>48.8462203</td>\n",
       "      <td>Vincennes</td>\n",
       "      <td>2293</td>\n",
       "      <td>rue Eugénie-Gérard 13</td>\n",
       "      <td>POINT(2.4330176 48.8462203)</td>\n",
       "    </tr>\n",
       "    <tr>\n",
       "      <th>2</th>\n",
       "      <td>3907</td>\n",
       "      <td>7 bis</td>\n",
       "      <td>rue de la Villa</td>\n",
       "      <td>NaN</td>\n",
       "      <td>NaN</td>\n",
       "      <td>NaN</td>\n",
       "      <td>2.2748868</td>\n",
       "      <td>48.8522421</td>\n",
       "      <td>Sèvres</td>\n",
       "      <td>2303</td>\n",
       "      <td>rue de la Villa 7 bis</td>\n",
       "      <td>POINT(2.2748868 48.8522421)</td>\n",
       "    </tr>\n",
       "    <tr>\n",
       "      <th>3</th>\n",
       "      <td>3902</td>\n",
       "      <td>23</td>\n",
       "      <td>avenue du Centenaire</td>\n",
       "      <td>NaN</td>\n",
       "      <td>NaN</td>\n",
       "      <td>NaN</td>\n",
       "      <td>2.5076739</td>\n",
       "      <td>48.7976899</td>\n",
       "      <td>La Varenne-Saint-Hilaire</td>\n",
       "      <td>96763</td>\n",
       "      <td>avenue du Centenaire 23</td>\n",
       "      <td>POINT(2.5076739 48.7976899)</td>\n",
       "    </tr>\n",
       "    <tr>\n",
       "      <th>4</th>\n",
       "      <td>3938</td>\n",
       "      <td>64</td>\n",
       "      <td>boulevard de l'Ouest</td>\n",
       "      <td>NaN</td>\n",
       "      <td>NaN</td>\n",
       "      <td>NaN</td>\n",
       "      <td>2.5095775</td>\n",
       "      <td>48.897598</td>\n",
       "      <td>Le Raincy</td>\n",
       "      <td>97228</td>\n",
       "      <td>boulevard de l'Ouest 64</td>\n",
       "      <td>POINT(2.5095775 48.897598)</td>\n",
       "    </tr>\n",
       "  </tbody>\n",
       "</table>\n",
       "</div>"
      ],
      "text/plain": [
       "     id road_num                  road floor locality complement        lng  \\\n",
       "0  3898        3   rue de la Promenade   NaN      NaN        NaN   2.286761   \n",
       "1  3900       13    rue Eugénie-Gérard   NaN      NaN        NaN  2.4330176   \n",
       "2  3907    7 bis       rue de la Villa   NaN      NaN        NaN  2.2748868   \n",
       "3  3902       23  avenue du Centenaire   NaN      NaN        NaN  2.5076739   \n",
       "4  3938       64  boulevard de l'Ouest   NaN      NaN        NaN  2.5095775   \n",
       "\n",
       "          lat                      city id_city         address_combined  \\\n",
       "0   48.912498                  Asnières    2290    rue de la Promenade 3   \n",
       "1  48.8462203                 Vincennes    2293    rue Eugénie-Gérard 13   \n",
       "2  48.8522421                    Sèvres    2303    rue de la Villa 7 bis   \n",
       "3  48.7976899  La Varenne-Saint-Hilaire   96763  avenue du Centenaire 23   \n",
       "4   48.897598                 Le Raincy   97228  boulevard de l'Ouest 64   \n",
       "\n",
       "                           wkt  \n",
       "0    POINT(2.286761 48.912498)  \n",
       "1  POINT(2.4330176 48.8462203)  \n",
       "2  POINT(2.2748868 48.8522421)  \n",
       "3  POINT(2.5076739 48.7976899)  \n",
       "4   POINT(2.5095775 48.897598)  "
      ]
     },
     "execution_count": 23,
     "metadata": {},
     "output_type": "execute_result"
    }
   ],
   "source": [
    "merged.head(5)"
   ]
  },
  {
   "cell_type": "code",
   "execution_count": 18,
   "id": "b5a29b69-1a76-41ff-b02c-8886169601e1",
   "metadata": {
    "tags": []
   },
   "outputs": [],
   "source": [
    "merged.to_csv('/Users/carboni/Downloads/merged.csv', index=False)"
   ]
  },
  {
   "cell_type": "code",
   "execution_count": 24,
   "id": "b32eb82a-6ff8-4094-8f5e-66cb495eed1c",
   "metadata": {
    "tags": []
   },
   "outputs": [],
   "source": [
    "columns = merged.columns\n",
    "\n",
    "# Iterate through the columns\n",
    "for col in columns:\n",
    "    # Check if the column name contains a space\n",
    "    if ' ' in col:\n",
    "        # Replace spaces with underscores\n",
    "        merged.rename(columns={col: col.replace(' ', '_')}, inplace=True)"
   ]
  },
  {
   "cell_type": "code",
   "execution_count": 25,
   "id": "0b854b99-cded-4441-8db7-449c8fa94315",
   "metadata": {
    "tags": []
   },
   "outputs": [],
   "source": [
    "merged = merged.replace(r\"^ +| +$\", r\"\", regex=True)"
   ]
  },
  {
   "cell_type": "code",
   "execution_count": 26,
   "id": "e191b2da-de50-4f5c-95a9-43772073a01b",
   "metadata": {
    "tags": []
   },
   "outputs": [],
   "source": [
    "merged.to_xml('/Users/carboni/Documents/UNIGE/basart_downloads/2023/data/processed/address/address.xml', root_name=\"data\", pretty_print=True, index=False) "
   ]
  }
 ],
 "metadata": {
  "kernelspec": {
   "display_name": "Python 3 (ipykernel)",
   "language": "python",
   "name": "python3"
  },
  "language_info": {
   "codemirror_mode": {
    "name": "ipython",
    "version": 3
   },
   "file_extension": ".py",
   "mimetype": "text/x-python",
   "name": "python",
   "nbconvert_exporter": "python",
   "pygments_lexer": "ipython3",
   "version": "3.10.8"
  }
 },
 "nbformat": 4,
 "nbformat_minor": 5
}
