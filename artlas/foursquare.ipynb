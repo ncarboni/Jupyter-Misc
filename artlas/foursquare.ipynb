{
 "cells": [
  {
   "cell_type": "markdown",
   "id": "abff26e9-5b62-4286-943e-7cb0f57021c4",
   "metadata": {},
   "source": [
    "# Foursquare "
   ]
  },
  {
   "cell_type": "code",
   "execution_count": 1,
   "id": "adcf3ee1-a21a-4c2e-84da-49b861a89aea",
   "metadata": {
    "tags": []
   },
   "outputs": [],
   "source": [
    "from SPARQLWrapper import SPARQLWrapper, JSON\n",
    "import pandas as pd\n",
    "import sparql_dataframe\n",
    "import geopandas as gpd\n",
    "from shapely import wkt\n",
    "import matplotlib.pyplot as plt"
   ]
  },
  {
   "cell_type": "code",
   "execution_count": 2,
   "id": "e867d266-e02c-4dbd-b1b2-54a4afb32e4f",
   "metadata": {
    "tags": []
   },
   "outputs": [],
   "source": [
    "endpoint = \"http://localhost:3030/artlas/sparql\""
   ]
  },
  {
   "cell_type": "code",
   "execution_count": 3,
   "id": "d197db54-95de-4c5d-93d5-fa71f133a837",
   "metadata": {
    "tags": []
   },
   "outputs": [],
   "source": [
    "q =\"\"\"\n",
    "\n",
    "PREFIX aat: <http://vocab.getty.edu/aat/>\n",
    "PREFIX wd: <http://www.wikidata.org/entity/>\n",
    "PREFIX crmdig: <http://www.ics.forth.gr/isl/CRMdig/>\n",
    "PREFIX crm: <http://www.cidoc-crm.org/cidoc-crm/>\n",
    "PREFIX rdf: <http://www.w3.org/1999/02/22-rdf-syntax-ns#>\n",
    "PREFIX rdfs: <http://www.w3.org/2000/01/rdf-schema#>\n",
    "\n",
    "SELECT DISTINCT ?exhibition ?labelExhibition ?begin ?end ?participants ?labelartist ?addressExhibitionLabel ?Exhibitionwkt ?labeladdressArtist ?addressWKT WHERE {\n",
    "   \n",
    "  \n",
    "  ?exhibition a crm:E7_Activity ;\n",
    "  \trdfs:label ?labelExhibition ;\n",
    "  \tcrm:P2_has_type aat:300054766 ;\n",
    "   crm:P7_took_place_at ?paris ;\n",
    "   crm:P4_has_time-span ?timespan ;\n",
    "   crm:P7_took_place_at ?addressExhibition ;\n",
    "   crm:P11_had_participant ?participants .\n",
    "  ?participants rdfs:label ?labelartist .\n",
    "               \n",
    "  ?addressExhibition crm:P2_has_type aat:300386983 ;\n",
    "           rdfs:label ?addressExhibitionLabel ;\n",
    "           crm:P168_place_is_defined_by ?Exhibitionwkt .\n",
    "  \n",
    "  ?timespan crm:P82a_begin_of_the_begin ?begin ;\n",
    "            crm:P82b_end_of_the_end ?end .\n",
    "  \n",
    "   \n",
    "  ?paris crmdig:L54_is_same-as wd:Q90 .\n",
    "         \n",
    "  ?participants crm:P14i_performed ?e13 .\n",
    "  \n",
    "  ?e13 crm:P141_assigned ?addressArtist ;\n",
    "       crm:P140_assigned_attribute_to ?exhibition .\n",
    "  ?addressArtist rdfs:label ?labeladdressArtist ;\n",
    "                 crm:P168_place_is_defined_by ?addressWKT .\n",
    "  \n",
    "  \n",
    "}\n",
    "\n",
    "\n",
    "\"\"\""
   ]
  },
  {
   "cell_type": "code",
   "execution_count": 4,
   "id": "87cb5be0-80a5-468b-99ad-0a461b3779ec",
   "metadata": {
    "tags": []
   },
   "outputs": [],
   "source": [
    "df = sparql_dataframe.get(endpoint, q)"
   ]
  },
  {
   "cell_type": "code",
   "execution_count": 6,
   "id": "dd7f8c7d-459d-4bd2-920d-be244b5bae5a",
   "metadata": {
    "tags": []
   },
   "outputs": [],
   "source": [
    "df['counts'] = df.groupby(['exhibition'])['labelartist'].transform('count')"
   ]
  },
  {
   "cell_type": "code",
   "execution_count": 12,
   "id": "a3d01893-6b61-4731-821a-47f04d1d9633",
   "metadata": {
    "tags": []
   },
   "outputs": [
    {
     "data": {
      "text/plain": [
       "39"
      ]
     },
     "execution_count": 12,
     "metadata": {},
     "output_type": "execute_result"
    }
   ],
   "source": [
    "df[\"exhibition\"].nunique()"
   ]
  },
  {
   "cell_type": "code",
   "execution_count": 7,
   "id": "1b1d49b4-986a-440a-80a6-50d096424c8c",
   "metadata": {
    "tags": []
   },
   "outputs": [
    {
     "data": {
      "text/html": [
       "<div>\n",
       "<style scoped>\n",
       "    .dataframe tbody tr th:only-of-type {\n",
       "        vertical-align: middle;\n",
       "    }\n",
       "\n",
       "    .dataframe tbody tr th {\n",
       "        vertical-align: top;\n",
       "    }\n",
       "\n",
       "    .dataframe thead th {\n",
       "        text-align: right;\n",
       "    }\n",
       "</style>\n",
       "<table border=\"1\" class=\"dataframe\">\n",
       "  <thead>\n",
       "    <tr style=\"text-align: right;\">\n",
       "      <th></th>\n",
       "      <th>exhibition</th>\n",
       "      <th>labelExhibition</th>\n",
       "      <th>begin</th>\n",
       "      <th>end</th>\n",
       "      <th>participants</th>\n",
       "      <th>labelartist</th>\n",
       "      <th>addressExhibitionLabel</th>\n",
       "      <th>Exhibitionwkt</th>\n",
       "      <th>labeladdressArtist</th>\n",
       "      <th>addressWKT</th>\n",
       "      <th>counts</th>\n",
       "    </tr>\n",
       "  </thead>\n",
       "  <tbody>\n",
       "    <tr>\n",
       "      <th>0</th>\n",
       "      <td>https://artlas.huma-num.fr/basart/resources/ex...</td>\n",
       "      <td>4me exposition de peinture par M. … (4e impres...</td>\n",
       "      <td>1879-01-01T00:00:00</td>\n",
       "      <td>1879-12-31T23:59:59</td>\n",
       "      <td>https://artlas.huma-num.fr/basart/resources/ag...</td>\n",
       "      <td>Camille Pissarro</td>\n",
       "      <td>avenue de l'Opéra 28</td>\n",
       "      <td>POINT(2.3340511 48.8671836)</td>\n",
       "      <td>rue des Trois-Frères 1</td>\n",
       "      <td>POINT(2.3415932 48.8835907)</td>\n",
       "      <td>12</td>\n",
       "    </tr>\n",
       "    <tr>\n",
       "      <th>1</th>\n",
       "      <td>https://artlas.huma-num.fr/basart/resources/ex...</td>\n",
       "      <td>4me exposition de peinture par M. … (4e impres...</td>\n",
       "      <td>1879-01-01T00:00:00</td>\n",
       "      <td>1879-12-31T23:59:59</td>\n",
       "      <td>https://artlas.huma-num.fr/basart/resources/ag...</td>\n",
       "      <td>Claude Monet</td>\n",
       "      <td>avenue de l'Opéra 28</td>\n",
       "      <td>POINT(2.3340511 48.8671836)</td>\n",
       "      <td>rue Vintimille 2</td>\n",
       "      <td>POINT(2.3284023 48.881781)</td>\n",
       "      <td>12</td>\n",
       "    </tr>\n",
       "    <tr>\n",
       "      <th>2</th>\n",
       "      <td>https://artlas.huma-num.fr/basart/resources/ex...</td>\n",
       "      <td>4me exposition de peinture par M. … (4e impres...</td>\n",
       "      <td>1879-01-01T00:00:00</td>\n",
       "      <td>1879-12-31T23:59:59</td>\n",
       "      <td>https://artlas.huma-num.fr/basart/resources/ag...</td>\n",
       "      <td>Gustave Caillebotte</td>\n",
       "      <td>avenue de l'Opéra 28</td>\n",
       "      <td>POINT(2.3340511 48.8671836)</td>\n",
       "      <td>boulevard Haussmann 31</td>\n",
       "      <td>POINT(2.3319986 48.8729841)</td>\n",
       "      <td>12</td>\n",
       "    </tr>\n",
       "    <tr>\n",
       "      <th>3</th>\n",
       "      <td>https://artlas.huma-num.fr/basart/resources/ex...</td>\n",
       "      <td>4me exposition de peinture par M. … (4e impres...</td>\n",
       "      <td>1879-01-01T00:00:00</td>\n",
       "      <td>1879-12-31T23:59:59</td>\n",
       "      <td>https://artlas.huma-num.fr/basart/resources/ag...</td>\n",
       "      <td>Adolphe-Félix Cals</td>\n",
       "      <td>avenue de l'Opéra 28</td>\n",
       "      <td>POINT(2.3340511 48.8671836)</td>\n",
       "      <td>rue Saint-Georges 29</td>\n",
       "      <td>POINT(2.3370123 48.8764072)</td>\n",
       "      <td>12</td>\n",
       "    </tr>\n",
       "    <tr>\n",
       "      <th>4</th>\n",
       "      <td>https://artlas.huma-num.fr/basart/resources/ex...</td>\n",
       "      <td>4me exposition de peinture par M. … (4e impres...</td>\n",
       "      <td>1879-01-01T00:00:00</td>\n",
       "      <td>1879-12-31T23:59:59</td>\n",
       "      <td>https://artlas.huma-num.fr/basart/resources/ag...</td>\n",
       "      <td>Degas</td>\n",
       "      <td>avenue de l'Opéra 28</td>\n",
       "      <td>POINT(2.3340511 48.8671836)</td>\n",
       "      <td>rue Fontaine-Saint-Georges 19 bis</td>\n",
       "      <td>POINT(2.334004 48.8815171)</td>\n",
       "      <td>12</td>\n",
       "    </tr>\n",
       "  </tbody>\n",
       "</table>\n",
       "</div>"
      ],
      "text/plain": [
       "                                          exhibition  \\\n",
       "0  https://artlas.huma-num.fr/basart/resources/ex...   \n",
       "1  https://artlas.huma-num.fr/basart/resources/ex...   \n",
       "2  https://artlas.huma-num.fr/basart/resources/ex...   \n",
       "3  https://artlas.huma-num.fr/basart/resources/ex...   \n",
       "4  https://artlas.huma-num.fr/basart/resources/ex...   \n",
       "\n",
       "                                     labelExhibition                begin  \\\n",
       "0  4me exposition de peinture par M. … (4e impres...  1879-01-01T00:00:00   \n",
       "1  4me exposition de peinture par M. … (4e impres...  1879-01-01T00:00:00   \n",
       "2  4me exposition de peinture par M. … (4e impres...  1879-01-01T00:00:00   \n",
       "3  4me exposition de peinture par M. … (4e impres...  1879-01-01T00:00:00   \n",
       "4  4me exposition de peinture par M. … (4e impres...  1879-01-01T00:00:00   \n",
       "\n",
       "                   end                                       participants  \\\n",
       "0  1879-12-31T23:59:59  https://artlas.huma-num.fr/basart/resources/ag...   \n",
       "1  1879-12-31T23:59:59  https://artlas.huma-num.fr/basart/resources/ag...   \n",
       "2  1879-12-31T23:59:59  https://artlas.huma-num.fr/basart/resources/ag...   \n",
       "3  1879-12-31T23:59:59  https://artlas.huma-num.fr/basart/resources/ag...   \n",
       "4  1879-12-31T23:59:59  https://artlas.huma-num.fr/basart/resources/ag...   \n",
       "\n",
       "           labelartist addressExhibitionLabel                Exhibitionwkt  \\\n",
       "0     Camille Pissarro   avenue de l'Opéra 28  POINT(2.3340511 48.8671836)   \n",
       "1         Claude Monet   avenue de l'Opéra 28  POINT(2.3340511 48.8671836)   \n",
       "2  Gustave Caillebotte   avenue de l'Opéra 28  POINT(2.3340511 48.8671836)   \n",
       "3   Adolphe-Félix Cals   avenue de l'Opéra 28  POINT(2.3340511 48.8671836)   \n",
       "4                Degas   avenue de l'Opéra 28  POINT(2.3340511 48.8671836)   \n",
       "\n",
       "                  labeladdressArtist                   addressWKT  counts  \n",
       "0             rue des Trois-Frères 1  POINT(2.3415932 48.8835907)      12  \n",
       "1                   rue Vintimille 2   POINT(2.3284023 48.881781)      12  \n",
       "2             boulevard Haussmann 31  POINT(2.3319986 48.8729841)      12  \n",
       "3               rue Saint-Georges 29  POINT(2.3370123 48.8764072)      12  \n",
       "4  rue Fontaine-Saint-Georges 19 bis   POINT(2.334004 48.8815171)      12  "
      ]
     },
     "execution_count": 7,
     "metadata": {},
     "output_type": "execute_result"
    }
   ],
   "source": [
    "df.head()"
   ]
  },
  {
   "cell_type": "code",
   "execution_count": 9,
   "id": "59b204f5-3c9c-4615-8336-c86a2e38fc9d",
   "metadata": {
    "tags": []
   },
   "outputs": [],
   "source": [
    "df[['ExhibitionLong', 'ExhibitionLat']] = df['Exhibitionwkt'].str.extract(r'POINT\\(([^ ]+) ([^ ]+)\\)')"
   ]
  },
  {
   "cell_type": "code",
   "execution_count": 10,
   "id": "b5e1db80-db04-40c3-8f97-9d8e68d0999f",
   "metadata": {
    "tags": []
   },
   "outputs": [],
   "source": [
    "df[['addressLong', 'addressLat']] = df['addressWKT'].str.extract(r'POINT\\(([^ ]+) ([^ ]+)\\)')"
   ]
  },
  {
   "cell_type": "code",
   "execution_count": 11,
   "id": "092e542f-7486-4128-a4d7-82ea0a4dbb8c",
   "metadata": {
    "tags": []
   },
   "outputs": [],
   "source": [
    "df.to_csv('/Users/carboni/Downloads/foursquare.csv', index=False)"
   ]
  },
  {
   "cell_type": "code",
   "execution_count": null,
   "id": "1f2724a3-2752-4046-bb90-15e9cdda96ad",
   "metadata": {},
   "outputs": [],
   "source": []
  },
  {
   "cell_type": "code",
   "execution_count": null,
   "id": "163187be-6140-480f-a497-f6831587b8e9",
   "metadata": {},
   "outputs": [],
   "source": []
  },
  {
   "cell_type": "code",
   "execution_count": null,
   "id": "5eb51304-dd5c-44f5-80d2-057f262533d8",
   "metadata": {},
   "outputs": [],
   "source": []
  }
 ],
 "metadata": {
  "kernelspec": {
   "display_name": "Python 3 (ipykernel)",
   "language": "python",
   "name": "python3"
  },
  "language_info": {
   "codemirror_mode": {
    "name": "ipython",
    "version": 3
   },
   "file_extension": ".py",
   "mimetype": "text/x-python",
   "name": "python",
   "nbconvert_exporter": "python",
   "pygments_lexer": "ipython3",
   "version": "3.10.8"
  }
 },
 "nbformat": 4,
 "nbformat_minor": 5
}
