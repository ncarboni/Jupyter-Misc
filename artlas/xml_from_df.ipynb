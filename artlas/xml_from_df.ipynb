{
 "cells": [
  {
   "cell_type": "markdown",
   "id": "39ba3116-f173-4400-a5a1-1569588e7f5e",
   "metadata": {},
   "source": [
    "# CSV to XML"
   ]
  },
  {
   "cell_type": "code",
   "execution_count": 16,
   "id": "4b70e482-b34b-4149-bd1d-e6a9ca049ee3",
   "metadata": {
    "tags": []
   },
   "outputs": [],
   "source": [
    "import pandas as pd"
   ]
  },
  {
   "cell_type": "code",
   "execution_count": 12,
   "id": "7e986ecc-eb85-4756-a534-0fafdef8559b",
   "metadata": {
    "tags": []
   },
   "outputs": [],
   "source": [
    "df = pd.read_csv(\"/Users/carboni/Documents/UNIGE/basart_downloads/2023/data/exhibition_update_23-01-22/Artlas Exhibition.csv\",  dtype ='str')"
   ]
  },
  {
   "cell_type": "code",
   "execution_count": 35,
   "id": "d2fc4830-3946-45bb-93b4-2f23897d6e02",
   "metadata": {
    "tags": []
   },
   "outputs": [],
   "source": [
    "columns = df.columns\n",
    "\n",
    "# Iterate through the columns\n",
    "for col in columns:\n",
    "    # Check if the column name contains a space\n",
    "    if ' ' in col:\n",
    "        # Replace spaces with underscores\n",
    "        df.rename(columns={col: col.replace(' ', '_')}, inplace=True)"
   ]
  },
  {
   "cell_type": "code",
   "execution_count": 36,
   "id": "7b983769-717a-4ef2-8421-e89f2a30fded",
   "metadata": {
    "tags": []
   },
   "outputs": [],
   "source": [
    "df.to_xml('/Users/carboni/Documents/UNIGE/basart_downloads/2023/data/exhibition_update_23-01-22/Artlas_Exhibition.xml', root_name=\"data\", pretty_print=True) "
   ]
  },
  {
   "cell_type": "code",
   "execution_count": null,
   "id": "4ece8a81-070d-49c0-a774-9f9c0a68890f",
   "metadata": {},
   "outputs": [],
   "source": []
  },
  {
   "cell_type": "code",
   "execution_count": null,
   "id": "fac1ea71-3818-48d4-8634-f28216fd0f21",
   "metadata": {},
   "outputs": [],
   "source": []
  }
 ],
 "metadata": {
  "kernelspec": {
   "display_name": "Python 3 (ipykernel)",
   "language": "python",
   "name": "python3"
  },
  "language_info": {
   "codemirror_mode": {
    "name": "ipython",
    "version": 3
   },
   "file_extension": ".py",
   "mimetype": "text/x-python",
   "name": "python",
   "nbconvert_exporter": "python",
   "pygments_lexer": "ipython3",
   "version": "3.10.8"
  }
 },
 "nbformat": 4,
 "nbformat_minor": 5
}
