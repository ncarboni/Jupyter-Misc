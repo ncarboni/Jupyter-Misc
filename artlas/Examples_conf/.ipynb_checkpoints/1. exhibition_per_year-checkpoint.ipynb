{
 "cells": [
  {
   "cell_type": "raw",
   "id": "a821ae34-30bd-42b4-a616-6811d6883d73",
   "metadata": {},
   "source": [
    "---\n",
    "format: \n",
    "  html:\n",
    "    code-fold: true\n",
    "    code-tools: true\n",
    "---"
   ]
  },
  {
   "cell_type": "markdown",
   "id": "f25543a0-5fb6-449d-86b2-0e9b8483d2bd",
   "metadata": {},
   "source": [
    "# Exploring Basart"
   ]
  },
  {
   "cell_type": "markdown",
   "id": "8843f111-3e85-4729-91a6-caf040ec19e6",
   "metadata": {},
   "source": [
    "<font size=\"4\"> We can use SPARQL to explore Basart. Let's take a quick look at the corpus and lets focus on the exhibition date collected. To do so we start importing python libraries and defining a SPARQL query</font>"
   ]
  },
  {
   "cell_type": "code",
   "execution_count": 3,
   "id": "131ea4f3-b459-4f6a-980b-8c9b13f6c040",
   "metadata": {},
   "outputs": [],
   "source": [
    "from SPARQLWrapper import SPARQLWrapper, JSON\n",
    "import pandas as pd\n",
    "import sparql_dataframe\n",
    "import geopandas as gpd\n",
    "from shapely import wkt\n",
    "import matplotlib.pyplot as plt\n",
    "import folium\n",
    "import VizKG.visualize as vkg"
   ]
  },
  {
   "cell_type": "code",
   "execution_count": 86,
   "id": "1a6935b1-4a4c-4db6-81e1-5473f9a3d34c",
   "metadata": {},
   "outputs": [],
   "source": [
    "endpoint = \"http://localhost:3030/Basart/sparql\""
   ]
  },
  {
   "cell_type": "markdown",
   "id": "51d1e180-3cea-4bf5-b230-adee1bace703",
   "metadata": {},
   "source": [
    "### SPARQL Query"
   ]
  },
  {
   "cell_type": "code",
   "execution_count": 87,
   "id": "b42d04d9-ccbd-4e28-ade8-6efa60dd53a5",
   "metadata": {},
   "outputs": [],
   "source": [
    "q =\"\"\"\n",
    "\n",
    "PREFIX wd: <http://www.wikidata.org/entity/>\n",
    "PREFIX wdt: <http://www.wikidata.org/prop/direct/>\n",
    "PREFIX crmdig: <http://www.ics.forth.gr/isl/CRMdig/>\n",
    "PREFIX rdfs: <http://www.w3.org/2000/01/rdf-schema#>\n",
    "PREFIX crm: <http://www.cidoc-crm.org/cidoc-crm/>\n",
    "PREFIX skos: <http://www.w3.org/2004/02/skos/core#>\n",
    "PREFIX aat: <http://vocab.getty.edu/aat/>\n",
    "PREFIX wikibase: <http://wikiba.se/ontology#>\n",
    "PREFIX bd: <http://www.bigdata.com/rdf#>\n",
    "PREFIX xsd: <http://www.w3.org/2001/XMLSchema#>\n",
    "\n",
    "\n",
    "SELECT ?begin ?yearBegin WHERE  {\n",
    "  \n",
    "?exhibition a crm:E7_Activity ;\n",
    "  rdfs:label ?exhibitionLabel ;\n",
    "   crm:P4_has_time-span ?time .\n",
    "   \n",
    "?time crm:P82a_begin_of_the_begin ?begin .\n",
    " \n",
    "BIND(YEAR(?begin) AS ?yearBegin) \n",
    "\n",
    "}\n",
    "GROUP BY ?begin ?yearBegin\n",
    "ORDER BY ASC(?begin)\n",
    "\n",
    "\n",
    "\"\"\""
   ]
  },
  {
   "cell_type": "code",
   "execution_count": 88,
   "id": "80767ed6-9611-4000-8ba0-6dd017463d2e",
   "metadata": {},
   "outputs": [],
   "source": [
    "df_time = sparql_dataframe.get(endpoint, q)"
   ]
  },
  {
   "cell_type": "markdown",
   "id": "24c6b8d2-8e53-4e5b-b54f-d3d4429d5f38",
   "metadata": {},
   "source": [
    "### Results"
   ]
  },
  {
   "cell_type": "code",
   "execution_count": 89,
   "id": "446fe2da-f653-4e79-abaa-a9dc3108f4ce",
   "metadata": {},
   "outputs": [
    {
     "data": {
      "text/html": [
       "<div>\n",
       "<style scoped>\n",
       "    .dataframe tbody tr th:only-of-type {\n",
       "        vertical-align: middle;\n",
       "    }\n",
       "\n",
       "    .dataframe tbody tr th {\n",
       "        vertical-align: top;\n",
       "    }\n",
       "\n",
       "    .dataframe thead th {\n",
       "        text-align: right;\n",
       "    }\n",
       "</style>\n",
       "<table border=\"1\" class=\"dataframe\">\n",
       "  <thead>\n",
       "    <tr style=\"text-align: right;\">\n",
       "      <th></th>\n",
       "      <th>begin</th>\n",
       "      <th>yearBegin</th>\n",
       "    </tr>\n",
       "  </thead>\n",
       "  <tbody>\n",
       "    <tr>\n",
       "      <th>0</th>\n",
       "      <td>1830-01-01T00:00:00</td>\n",
       "      <td>1830</td>\n",
       "    </tr>\n",
       "    <tr>\n",
       "      <th>1</th>\n",
       "      <td>1832-05-06T00:00:00</td>\n",
       "      <td>1832</td>\n",
       "    </tr>\n",
       "    <tr>\n",
       "      <th>2</th>\n",
       "      <td>1833-01-01T00:00:00</td>\n",
       "      <td>1833</td>\n",
       "    </tr>\n",
       "    <tr>\n",
       "      <th>3</th>\n",
       "      <td>1845-06-01T00:00:00</td>\n",
       "      <td>1845</td>\n",
       "    </tr>\n",
       "    <tr>\n",
       "      <th>4</th>\n",
       "      <td>1846-01-11T00:00:00</td>\n",
       "      <td>1846</td>\n",
       "    </tr>\n",
       "    <tr>\n",
       "      <th>...</th>\n",
       "      <td>...</td>\n",
       "      <td>...</td>\n",
       "    </tr>\n",
       "    <tr>\n",
       "      <th>1839</th>\n",
       "      <td>1997-10-12T00:00:00</td>\n",
       "      <td>1997</td>\n",
       "    </tr>\n",
       "    <tr>\n",
       "      <th>1840</th>\n",
       "      <td>1998-01-01T00:00:00</td>\n",
       "      <td>1998</td>\n",
       "    </tr>\n",
       "    <tr>\n",
       "      <th>1841</th>\n",
       "      <td>2006-03-27T00:00:00</td>\n",
       "      <td>2006</td>\n",
       "    </tr>\n",
       "    <tr>\n",
       "      <th>1842</th>\n",
       "      <td>2006-10-12T00:00:00</td>\n",
       "      <td>2006</td>\n",
       "    </tr>\n",
       "    <tr>\n",
       "      <th>1843</th>\n",
       "      <td>2017-01-01T00:00:00</td>\n",
       "      <td>2017</td>\n",
       "    </tr>\n",
       "  </tbody>\n",
       "</table>\n",
       "<p>1844 rows × 2 columns</p>\n",
       "</div>"
      ],
      "text/plain": [
       "                    begin  yearBegin\n",
       "0     1830-01-01T00:00:00       1830\n",
       "1     1832-05-06T00:00:00       1832\n",
       "2     1833-01-01T00:00:00       1833\n",
       "3     1845-06-01T00:00:00       1845\n",
       "4     1846-01-11T00:00:00       1846\n",
       "...                   ...        ...\n",
       "1839  1997-10-12T00:00:00       1997\n",
       "1840  1998-01-01T00:00:00       1998\n",
       "1841  2006-03-27T00:00:00       2006\n",
       "1842  2006-10-12T00:00:00       2006\n",
       "1843  2017-01-01T00:00:00       2017\n",
       "\n",
       "[1844 rows x 2 columns]"
      ]
     },
     "execution_count": 89,
     "metadata": {},
     "output_type": "execute_result"
    }
   ],
   "source": [
    "df_time"
   ]
  },
  {
   "cell_type": "markdown",
   "id": "7d428a8b-f012-41d6-95ad-96f800cc6b2e",
   "metadata": {},
   "source": [
    "<font size=\"4\">The query is saved directly in a dataframe, allowing us to use python for applying a series of data science methods to discover more about the data. In this instance, let's take a quick look at just how many exhibition per year are present in Basart</font>"
   ]
  },
  {
   "cell_type": "code",
   "execution_count": 90,
   "id": "65e4417d-526c-4f7d-826c-7d16f48aeb8a",
   "metadata": {},
   "outputs": [],
   "source": [
    "df_time['counts'] = df_time.groupby(['yearBegin'])['begin'].transform('count')"
   ]
  },
  {
   "cell_type": "code",
   "execution_count": 103,
   "id": "b0255a64-d515-46b1-94c4-6f26d8179243",
   "metadata": {},
   "outputs": [
    {
     "data": {
      "text/plain": [
       "<AxesSubplot: xlabel='yearBegin'>"
      ]
     },
     "execution_count": 103,
     "metadata": {},
     "output_type": "execute_result"
    },
    {
     "data": {
      "image/png": "[encoded data removed]",
      "text/plain": [
       "<Figure size 640x480 with 1 Axes>"
      ]
     },
     "metadata": {},
     "output_type": "display_data"
    }
   ],
   "source": [
    "df_time.plot(x='yearBegin', y='counts', label=\"Num of exhibition per year\", linewidth=1.8)"
   ]
  },
  {
   "cell_type": "markdown",
   "id": "cc166fb0-4855-4312-8620-d545cebad749",
   "metadata": {},
   "source": [
    "<font size=\"4\">As you see in a few line of code we can easily analyse a large dataset, filtering out exactly what we need</font>"
   ]
  }
 ],
 "metadata": {
  "kernelspec": {
   "display_name": "Python 3 (ipykernel)",
   "language": "python",
   "name": "python3"
  },
  "language_info": {
   "codemirror_mode": {
    "name": "ipython",
    "version": 3
   },
   "file_extension": ".py",
   "mimetype": "text/x-python",
   "name": "python",
   "nbconvert_exporter": "python",
   "pygments_lexer": "ipython3",
   "version": "3.10.8"
  }
 },
 "nbformat": 4,
 "nbformat_minor": 5
}
