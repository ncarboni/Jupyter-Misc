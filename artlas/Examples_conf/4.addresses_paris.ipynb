{
 "cells": [
  {
   "cell_type": "raw",
   "id": "53ccae09-6622-4930-b5e1-bec805500635",
   "metadata": {},
   "source": [
    "---\n",
    "format: \n",
    "  html:\n",
    "    code-fold: true\n",
    "    code-tools: true\n",
    "---"
   ]
  },
  {
   "cell_type": "markdown",
   "id": "73bf9c54-e73a-4663-8c77-289505aa0e43",
   "metadata": {
    "tags": []
   },
   "source": [
    "# Addresses in Paris"
   ]
  },
  {
   "cell_type": "markdown",
   "id": "db89cb0c-636b-481a-b50d-282d61482c7a",
   "metadata": {},
   "source": [
    "<font size=\"4\">Retrieving and visualising the addresses of artists that expose in Paris</font>"
   ]
  },
  {
   "cell_type": "code",
   "execution_count": null,
   "id": "f460dd05-708f-44e2-999c-85cfeaf8dd7b",
   "metadata": {},
   "outputs": [],
   "source": [
    "from SPARQLWrapper import SPARQLWrapper, JSON\n",
    "import pandas as pd\n",
    "import sparql_dataframe\n",
    "import geopandas as gpd\n",
    "from shapely import wkt\n",
    "import matplotlib.pyplot as plt\n",
    "import folium\n",
    "import VizKG.visualize as vkg"
   ]
  },
  {
   "cell_type": "code",
   "execution_count": null,
   "id": "0d45b0f1-3a87-4ef8-b23b-cacccdded460",
   "metadata": {},
   "outputs": [],
   "source": [
    "endpoint = \"http://localhost:3030/Basart/sparql\""
   ]
  },
  {
   "cell_type": "markdown",
   "id": "90e532d2-0612-42ea-8ab0-780d1bcd2962",
   "metadata": {},
   "source": [
    "<font size=\"4\">For retrieving from Basart the addresses we filter, with a SPARQL query, all artists that have exposed Paris, and we retrieve their address (as given in the catalogues) </font>"
   ]
  },
  {
   "cell_type": "markdown",
   "id": "259bba67-3b9e-4bed-91c7-4b2d7316c651",
   "metadata": {},
   "source": [
    "#### SPARQL"
   ]
  },
  {
   "cell_type": "code",
   "execution_count": null,
   "id": "2bc6c65e-d7c5-4915-9546-abde252a2e9c",
   "metadata": {},
   "outputs": [],
   "source": [
    "q =\"\"\"\n",
    "\n",
    "PREFIX frbroo: <http://iflastandards.info/ns/fr/frbr/frbroo/>\n",
    "PREFIX wd: <http://www.wikidata.org/entity/>\n",
    "PREFIX wdt: <http://www.wikidata.org/prop/direct/>\n",
    "PREFIX crmdig: <http://www.ics.forth.gr/isl/CRMdig/>\n",
    "PREFIX rdfs: <http://www.w3.org/2000/01/rdf-schema#>\n",
    "PREFIX crm: <http://www.cidoc-crm.org/cidoc-crm/>\n",
    "PREFIX skos: <http://www.w3.org/2004/02/skos/core#>\n",
    "PREFIX aat: <http://vocab.getty.edu/aat/>\n",
    "PREFIX wikibase: <http://wikiba.se/ontology#>\n",
    "PREFIX bd: <http://www.bigdata.com/rdf#>\n",
    "PREFIX xsd: <http://www.w3.org/2001/XMLSchema#>\n",
    "PREFIX frbroo: <http://iflastandards.info/ns/fr/frbr/frbroo/>\n",
    "\n",
    "# Addresses in Paris\n",
    "\n",
    "SELECT DISTINCT ?personLabel ?address ?address_label ?coordinates WHERE  {\n",
    "VALUES ?paris {<https://visualcontagions.unige.ch/resources/city/33661>}\n",
    "\n",
    "    ?person crm:P14i_performed ?pursuit ;\n",
    "        rdfs:label ?personLabel .\n",
    "    ?pursuit a frbroo:F51_Pursuit ;\n",
    "        crm:P7_took_place_at ?address .\n",
    "    ?address a crm:E53_Place;\n",
    "        rdfs:label ?address_label ;\n",
    "        crm:P168_place_is_defined_by ?coordinates ;\n",
    "        crm:P89_falls_within ?paris .\n",
    "\n",
    "  \n",
    "    FILTER NOT EXISTS {\n",
    "    VALUES ?trash {<https://visualcontagions.unige.ch/resources/address/5605> } .\n",
    "        ?pursuit crm:P7_took_place_at ?trash .\n",
    "    \n",
    "    }\n",
    "}\n",
    "\n",
    "\n",
    "\n",
    "\"\"\""
   ]
  },
  {
   "cell_type": "code",
   "execution_count": null,
   "id": "48c5eb57-1e03-4bff-b5bc-84dc1c07421e",
   "metadata": {},
   "outputs": [],
   "source": [
    "df = sparql_dataframe.get(endpoint, q)"
   ]
  },
  {
   "cell_type": "markdown",
   "id": "7b7bc94c-f69f-49b2-a8ad-af904066a120",
   "metadata": {},
   "source": [
    "<font size=\"4\">Once done we quickly compute how many people share an address </font>"
   ]
  },
  {
   "cell_type": "code",
   "execution_count": null,
   "id": "29c27b93-45be-451d-a6ac-1f251b18e367",
   "metadata": {},
   "outputs": [],
   "source": [
    "df['counts'] = df.groupby(['address_label'])['personLabel'].transform('count')"
   ]
  },
  {
   "cell_type": "code",
   "execution_count": null,
   "id": "d43fdd6d-97ec-43f3-bfc0-646f23a89a4c",
   "metadata": {},
   "outputs": [],
   "source": [
    "a, b = 1, 10\n",
    "x, y = df.counts.min(), df.counts.max()\n",
    "df['SIZE'] = (df.counts - x) / (y - x) * (b - a) + a"
   ]
  },
  {
   "cell_type": "code",
   "execution_count": null,
   "id": "9dfdca57-95d0-4ea2-b7c3-3c978ca0f3bb",
   "metadata": {},
   "outputs": [],
   "source": [
    "df"
   ]
  },
  {
   "cell_type": "markdown",
   "id": "14376cf6-fec4-4e54-8a44-319daf39d62c",
   "metadata": {},
   "source": [
    "<font size=\"4\">And we plot this information on a map of Paris</font>"
   ]
  },
  {
   "cell_type": "markdown",
   "id": "2588b333-5949-4578-a1fe-c82373362dd7",
   "metadata": {},
   "source": [
    "<br>"
   ]
  },
  {
   "cell_type": "code",
   "execution_count": null,
   "id": "de82cabc-ae94-421b-900c-983add77758c",
   "metadata": {},
   "outputs": [],
   "source": [
    "df['geometry'] = df.coordinates.apply(wkt.loads)\n",
    "df.drop('coordinates', axis=1, inplace=True)\n",
    "gdf = gpd.GeoDataFrame(df, geometry='geometry')\n",
    "geo_df_list = [[point.xy[1][0], point.xy[0][0]] for point in gdf.geometry]\n",
    "gdf['lon'] = gdf['geometry'].x\n",
    "gdf['lat'] = gdf['geometry'].y\n",
    "geo_df_list = [[point.xy[1][0], point.xy[0][0]] for point in gdf.geometry]"
   ]
  },
  {
   "cell_type": "code",
   "execution_count": null,
   "id": "6b82bcf6-4d4a-4577-a2ec-c2a55bbdbfda",
   "metadata": {},
   "outputs": [],
   "source": [
    "map = folium.Map(tiles=\"cartodbpositron\", location=[48.8598854,2.3427464], zoom_start=13)\n",
    "i = 0\n",
    "for coordinates in geo_df_list:\n",
    "    # Place the markers with the popup labels and data\n",
    "    map.add_child(\n",
    "        folium.CircleMarker(\n",
    "            location=coordinates,\n",
    "            radius=2,\n",
    "            color=\"red\", weight=1, fill_color=\"red\", fill_opacity=0.7,\n",
    "            popup=\n",
    "                \"Artist: \" + str(gdf.personLabel[i]) + \"<br>\"\n",
    "                + \"Address: \" + str(gdf.address_label[i]),\n",
    "        )\n",
    "    )\n",
    "    i = i + 1"
   ]
  },
  {
   "cell_type": "code",
   "execution_count": null,
   "id": "c723b697-1963-4fef-bcd9-9d5f95b05923",
   "metadata": {
    "tags": []
   },
   "outputs": [],
   "source": [
    "map"
   ]
  },
  {
   "cell_type": "markdown",
   "id": "61317f76-664f-49eb-a455-922f28011a47",
   "metadata": {},
   "source": [
    "<br>\n",
    "<font size=\"4\">We can also check which are the most used addresses by the artist in the city</font>"
   ]
  },
  {
   "cell_type": "markdown",
   "id": "96dae7fa-2fef-4365-acd4-943caf7d99a3",
   "metadata": {},
   "source": [
    "<br>"
   ]
  },
  {
   "cell_type": "code",
   "execution_count": null,
   "id": "0638365c-5bc3-4585-8386-9d5b87d63618",
   "metadata": {},
   "outputs": [],
   "source": [
    "map = folium.Map(tiles=\"cartodbpositron\", location=[48.8598854,2.3427464], zoom_start=13)\n",
    "i = 0\n",
    "for coordinates in geo_df_list:\n",
    "    # Place the markers with the popup labels and data\n",
    "    map.add_child(\n",
    "        folium.CircleMarker(\n",
    "            location=coordinates,\n",
    "            radius=float(gdf.iloc[i]['SIZE']),\n",
    "            color=\"red\", weight=1, fill_color=\"red\", fill_opacity=0.7,\n",
    "            popup=\n",
    "                \"Artist: \" + str(gdf.personLabel[i]) + \"<br>\"\n",
    "                + \"Address: \" + str(gdf.address_label[i]),\n",
    "        )\n",
    "    )\n",
    "    i = i + 1"
   ]
  },
  {
   "cell_type": "code",
   "execution_count": null,
   "id": "22eb0f3f-db85-4450-be51-d6bde2d09f4c",
   "metadata": {},
   "outputs": [],
   "source": [
    "map"
   ]
  },
  {
   "cell_type": "code",
   "execution_count": null,
   "id": "ac270f21-8af4-455e-955a-65bb7279fd4c",
   "metadata": {},
   "outputs": [],
   "source": []
  }
 ],
 "metadata": {
  "kernelspec": {
   "display_name": "Python 3 (ipykernel)",
   "language": "python",
   "name": "python3"
  },
  "language_info": {
   "codemirror_mode": {
    "name": "ipython",
    "version": 3
   },
   "file_extension": ".py",
   "mimetype": "text/x-python",
   "name": "python",
   "nbconvert_exporter": "python",
   "pygments_lexer": "ipython3",
   "version": "3.10.8"
  }
 },
 "nbformat": 4,
 "nbformat_minor": 5
}
