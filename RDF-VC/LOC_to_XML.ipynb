{
 "cells": [
  {
   "cell_type": "markdown",
   "id": "038f8a7d-def4-4684-b233-91ce357bdf1c",
   "metadata": {
    "tags": []
   },
   "source": [
    "# Openrefine metadata to RDF "
   ]
  },
  {
   "cell_type": "code",
   "execution_count": 1,
   "id": "c28eaa4e-9677-479f-b6dc-db8006e51949",
   "metadata": {},
   "outputs": [],
   "source": [
    "import pandas as pd\n",
    "import os\n",
    "import time"
   ]
  },
  {
   "cell_type": "code",
   "execution_count": 2,
   "id": "fd266360-24cb-4a53-95b6-c554b3951309",
   "metadata": {},
   "outputs": [],
   "source": [
    "keep_col = ['Media URL','City','Country','wkt', 'normalized_date', 'Title','City_wd','Country_wd']"
   ]
  },
  {
   "cell_type": "code",
   "execution_count": 29,
   "id": "aff36de6-6a2e-41ff-9abb-7fed2ad869f6",
   "metadata": {
    "tags": []
   },
   "outputs": [],
   "source": [
    "loc = pd.read_csv(\"/Users/carboni/Documents/UNIGE/Corpus/RDF/LOC/LOC.csv\")\n",
    "new_loc = loc[keep_col]"
   ]
  },
  {
   "cell_type": "markdown",
   "id": "f1701218-c15c-477e-a84c-01e1511b5684",
   "metadata": {},
   "source": [
    "## Merge everything and save"
   ]
  },
  {
   "cell_type": "code",
   "execution_count": 30,
   "id": "db887a9c-ec8e-494f-9ee2-708908eb4b3c",
   "metadata": {},
   "outputs": [
    {
     "data": {
      "text/html": [
       "<div>\n",
       "<style scoped>\n",
       "    .dataframe tbody tr th:only-of-type {\n",
       "        vertical-align: middle;\n",
       "    }\n",
       "\n",
       "    .dataframe tbody tr th {\n",
       "        vertical-align: top;\n",
       "    }\n",
       "\n",
       "    .dataframe thead th {\n",
       "        text-align: right;\n",
       "    }\n",
       "</style>\n",
       "<table border=\"1\" class=\"dataframe\">\n",
       "  <thead>\n",
       "    <tr style=\"text-align: right;\">\n",
       "      <th></th>\n",
       "      <th>Media URL</th>\n",
       "      <th>City</th>\n",
       "      <th>Country</th>\n",
       "      <th>wkt</th>\n",
       "      <th>normalized_date</th>\n",
       "      <th>Title</th>\n",
       "      <th>City_wd</th>\n",
       "      <th>Country_wd</th>\n",
       "    </tr>\n",
       "  </thead>\n",
       "  <tbody>\n",
       "    <tr>\n",
       "      <th>0</th>\n",
       "      <td>https://iiif.unige.ch/dhportal/ug9123302/manifest</td>\n",
       "      <td>Kennewick</td>\n",
       "      <td>United States of America</td>\n",
       "      <td>POINT(-119.15927 46.203475)</td>\n",
       "      <td>1913/05/16</td>\n",
       "      <td>The Kennewick courier.</td>\n",
       "      <td>Q844033</td>\n",
       "      <td>Q30</td>\n",
       "    </tr>\n",
       "    <tr>\n",
       "      <th>1</th>\n",
       "      <td>https://iiif.unige.ch/dhportal/ug8660646/manifest</td>\n",
       "      <td>Kennewick</td>\n",
       "      <td>United States of America</td>\n",
       "      <td>POINT(-119.15927 46.203475)</td>\n",
       "      <td>1913/10/31</td>\n",
       "      <td>The Kennewick courier.</td>\n",
       "      <td>Q844033</td>\n",
       "      <td>Q30</td>\n",
       "    </tr>\n",
       "    <tr>\n",
       "      <th>2</th>\n",
       "      <td>https://iiif.unige.ch/dhportal/ug9034616/manifest</td>\n",
       "      <td>Kennewick</td>\n",
       "      <td>United States of America</td>\n",
       "      <td>POINT(-119.15927 46.203475)</td>\n",
       "      <td>1913/02/14</td>\n",
       "      <td>The Kennewick courier.</td>\n",
       "      <td>Q844033</td>\n",
       "      <td>Q30</td>\n",
       "    </tr>\n",
       "    <tr>\n",
       "      <th>3</th>\n",
       "      <td>https://iiif.unige.ch/dhportal/ug8390532/manifest</td>\n",
       "      <td>Kennewick</td>\n",
       "      <td>United States of America</td>\n",
       "      <td>POINT(-119.15927 46.203475)</td>\n",
       "      <td>1913/01/31</td>\n",
       "      <td>The Kennewick courier.</td>\n",
       "      <td>Q844033</td>\n",
       "      <td>Q30</td>\n",
       "    </tr>\n",
       "    <tr>\n",
       "      <th>4</th>\n",
       "      <td>https://iiif.unige.ch/dhportal/ug8742023/manifest</td>\n",
       "      <td>Kennewick</td>\n",
       "      <td>United States of America</td>\n",
       "      <td>POINT(-119.15927 46.203475)</td>\n",
       "      <td>1913/07/11</td>\n",
       "      <td>The Kennewick courier.</td>\n",
       "      <td>Q844033</td>\n",
       "      <td>Q30</td>\n",
       "    </tr>\n",
       "  </tbody>\n",
       "</table>\n",
       "</div>"
      ],
      "text/plain": [
       "                                           Media URL       City  \\\n",
       "0  https://iiif.unige.ch/dhportal/ug9123302/manifest  Kennewick   \n",
       "1  https://iiif.unige.ch/dhportal/ug8660646/manifest  Kennewick   \n",
       "2  https://iiif.unige.ch/dhportal/ug9034616/manifest  Kennewick   \n",
       "3  https://iiif.unige.ch/dhportal/ug8390532/manifest  Kennewick   \n",
       "4  https://iiif.unige.ch/dhportal/ug8742023/manifest  Kennewick   \n",
       "\n",
       "                    Country                          wkt normalized_date  \\\n",
       "0  United States of America  POINT(-119.15927 46.203475)      1913/05/16   \n",
       "1  United States of America  POINT(-119.15927 46.203475)      1913/10/31   \n",
       "2  United States of America  POINT(-119.15927 46.203475)      1913/02/14   \n",
       "3  United States of America  POINT(-119.15927 46.203475)      1913/01/31   \n",
       "4  United States of America  POINT(-119.15927 46.203475)      1913/07/11   \n",
       "\n",
       "                    Title  City_wd Country_wd  \n",
       "0  The Kennewick courier.  Q844033        Q30  \n",
       "1  The Kennewick courier.  Q844033        Q30  \n",
       "2  The Kennewick courier.  Q844033        Q30  \n",
       "3  The Kennewick courier.  Q844033        Q30  \n",
       "4  The Kennewick courier.  Q844033        Q30  "
      ]
     },
     "execution_count": 30,
     "metadata": {},
     "output_type": "execute_result"
    }
   ],
   "source": [
    "new_loc.head()"
   ]
  },
  {
   "cell_type": "code",
   "execution_count": 31,
   "id": "d77f6fcc-b284-465c-b173-ea5512897629",
   "metadata": {},
   "outputs": [],
   "source": [
    "new_loc['Journal_Type'] = \"News\"\n",
    "new_loc['Revue_wd'] = \"\""
   ]
  },
  {
   "cell_type": "code",
   "execution_count": 32,
   "id": "1b105d59-c55d-4d5d-bf3b-100bcb54e4d4",
   "metadata": {},
   "outputs": [],
   "source": [
    "new_loc = new_loc.rename(columns={'Media URL': 'manifest_url' })"
   ]
  },
  {
   "cell_type": "code",
   "execution_count": 33,
   "id": "6566077c-1a4f-4a97-be43-6b4c254c2ad6",
   "metadata": {
    "tags": []
   },
   "outputs": [],
   "source": [
    "new_loc.to_xml('/Users/carboni/Documents/UNIGE/Corpus/RDF/LOC/loc_metadata.xml', root_name=\"rows\", pretty_print=True) "
   ]
  },
  {
   "cell_type": "code",
   "execution_count": null,
   "id": "36fc666d-a0ae-4534-bd48-8d0e7922cd8b",
   "metadata": {},
   "outputs": [],
   "source": []
  }
 ],
 "metadata": {
  "kernelspec": {
   "display_name": "Python 3 (ipykernel)",
   "language": "python",
   "name": "python3"
  },
  "language_info": {
   "codemirror_mode": {
    "name": "ipython",
    "version": 3
   },
   "file_extension": ".py",
   "mimetype": "text/x-python",
   "name": "python",
   "nbconvert_exporter": "python",
   "pygments_lexer": "ipython3",
   "version": "3.11.0"
  }
 },
 "nbformat": 4,
 "nbformat_minor": 5
}
