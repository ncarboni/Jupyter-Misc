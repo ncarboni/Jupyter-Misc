{
 "cells": [
  {
   "cell_type": "markdown",
   "id": "038f8a7d-def4-4684-b233-91ce357bdf1c",
   "metadata": {
    "tags": []
   },
   "source": [
    "# Openrefine metadata to RDF "
   ]
  },
  {
   "cell_type": "code",
   "execution_count": 1,
   "id": "c28eaa4e-9677-479f-b6dc-db8006e51949",
   "metadata": {},
   "outputs": [],
   "source": [
    "import pandas as pd\n",
    "import os\n",
    "import time"
   ]
  },
  {
   "cell_type": "markdown",
   "id": "ed382291-d06d-446e-8f35-a9e9bec57f88",
   "metadata": {},
   "source": [
    "## Download Files from OR"
   ]
  },
  {
   "cell_type": "markdown",
   "id": "3cea7dc2-72c6-4718-a564-6692b237523f",
   "metadata": {},
   "source": [
    "This operation will download the following dataset from the Visual Contagion Openrefine instance 129.194.213.75 \n",
    "\n",
    "- 1878246014108: Backup_2022_02_03_PDF_cleaned\n",
    "- 2374512373252: BackupCBT_2022_02_03_IIIF_Only\n",
    "- 2142991584492: BNF_periodic_explored\n",
    "- 2332843665824: Princeton Blue Mountain\n",
    "- 1688128007940: Journaux Est-Asiatique (collecte barbara)\n",
    "- 1695291554765: Marie\n",
    "- 1914921870678: Adrien\n",
    "\n",
    "Any additions or change should be done in the cell below"
   ]
  },
  {
   "cell_type": "code",
   "execution_count": 2,
   "id": "17ddfe85-2fb6-44f9-8dd4-9e060fc883e9",
   "metadata": {},
   "outputs": [
    {
     "name": "stdout",
     "output_type": "stream",
     "text": [
      "Directory  backup  already exists\n"
     ]
    }
   ],
   "source": [
    "dirName = 'backup'\n",
    "try:\n",
    "    os.mkdir(dirName)\n",
    "    print(\"Directory \" , dirName ,  \" Created \") \n",
    "except FileExistsError:\n",
    "    print(\"Directory \" , dirName ,  \" already exists\")"
   ]
  },
  {
   "cell_type": "markdown",
   "id": "16ace0bd-083f-4eab-88c8-57988abbe147",
   "metadata": {
    "tags": []
   },
   "source": [
    "## Download dataset"
   ]
  },
  {
   "cell_type": "markdown",
   "id": "a91a89ea-7b91-409a-9ea1-6b31de551dfa",
   "metadata": {},
   "source": [
    "Select the chosen datasets from OR"
   ]
  },
  {
   "cell_type": "code",
   "execution_count": 3,
   "id": "17470397-38e7-4315-9bbc-08439667b185",
   "metadata": {
    "tags": []
   },
   "outputs": [
    {
     "name": "stdout",
     "output_type": "stream",
     "text": [
      "Export to file backup/Backup_2022_02_03_PDF_cleaned.csv complete\n",
      "^C\n",
      "Traceback (most recent call last):\n",
      "  File \"/app/refine.py\", line 35, in <module>\n",
      "    __main__.main()\n",
      "  File \"/app/google/refine/__main__.py\", line 272, in main\n",
      "    export_format=options.file_format)\n",
      "  File \"/app/google/refine/cli.py\", line 184, in export\n",
      "    export_format=export_format, encoding=encoding).read())\n",
      "  File \"/usr/lib/python2.7/socket.py\", line 355, in read\n",
      "    data = self._sock.recv(rbufsize)\n",
      "KeyboardInterrupt\n",
      "Export to file backup/BNF_periodic_explored.csv complete\n",
      "Export to file backup/Princeton_Blue_Mountain.csv complete\n",
      "Export to file backup/Journaux_Est-Asiatique.csv complete\n",
      "Export to file backup/Marie.csv complete\n",
      "Export to file backup/Adrien.csv complete\n",
      "Export to file backup/ag.csv complete\n",
      "Done!\n"
     ]
    }
   ],
   "source": [
    "!docker run --rm --platform linux/amd64 --network=host -v ${PWD}:/data:z felixlohmeier/openrefine-client:v0.3.10 --host 129.194.213.75 -P 80 --export 1878246014108 --output backup/Backup_2022_02_03_PDF_cleaned.csv\n",
    "#!docker run --rm --platform linux/amd64 --network=host -v ${PWD}:/data:z felixlohmeier/openrefine-client:v0.3.10 --host 129.194.213.75 -P 80 --export 2624032615455 --output backup/CORPUS_wikidata_visual_items_post_1870.csv\n",
    "!docker run --rm --platform linux/amd64 --network=host -v ${PWD}:/data:z felixlohmeier/openrefine-client:v0.3.10 --host 129.194.213.75 -P 80 --export 2374512373252 --output backup/BackupCBT_2022_02_03_IIIF_Only.csv\n",
    "# full bnf\n",
    "#!docker run --rm --platform linux/amd64 --network=host -v ${PWD}:/data:z felixlohmeier/openrefine-client:v0.3.10 --host 129.194.213.75 -P 80 --export 1671940401029 --output backup/BNF_periodic_all.csv\n",
    "# bnf explored\n",
    "!docker run --rm --platform linux/amd64 --network=host -v ${PWD}:/data:z felixlohmeier/openrefine-client:v0.3.10 --host 129.194.213.75 -P 80 --export 1897293512341 --output backup/BNF_periodic_explored.csv\n",
    "# Venus\n",
    "#!docker run --rm --platform linux/amd64 --network=host -v ${PWD}:/data:z felixlohmeier/openrefine-client:v0.3.10 --host 129.194.213.75 -P 80 --export 1650201645555 --output backup/Venus_Explore.csv\n",
    "!docker run --rm --platform linux/amd64 --network=host -v ${PWD}:/data:z felixlohmeier/openrefine-client:v0.3.10 --host 129.194.213.75 -P 80 --export 2332843665824 --output backup/Princeton_Blue_Mountain.csv\n",
    "!docker run --rm --platform linux/amd64 --network=host -v ${PWD}:/data:z felixlohmeier/openrefine-client:v0.3.10 --host 129.194.213.75 -P 80 --export 1688128007940 --output backup/Journaux_Est-Asiatique.csv\n",
    "!docker run --rm --platform linux/amd64 --network=host -v ${PWD}:/data:z felixlohmeier/openrefine-client:v0.3.10 --host 129.194.213.75 -P 80 --export 1695291554765 --output backup/Marie.csv\n",
    "!docker run --rm --platform linux/amd64 --network=host -v ${PWD}:/data:z felixlohmeier/openrefine-client:v0.3.10 --host 129.194.213.75 -P 80 --export 1914921870678 --output backup/Adrien.csv\n",
    "!docker run --rm --platform linux/amd64 --network=host -v ${PWD}:/data:z felixlohmeier/openrefine-client:v0.3.10 --host 129.194.213.75 -P 80 --export 1695103319397 --output backup/ag.csv\n",
    "print(\"Done!\")"
   ]
  },
  {
   "cell_type": "markdown",
   "id": "6eeb9b33-1523-4b47-882c-8b90b48a1531",
   "metadata": {},
   "source": [
    "## Combining"
   ]
  },
  {
   "cell_type": "markdown",
   "id": "e9edbc50-fb1f-4380-9542-bdd1b5c428dc",
   "metadata": {},
   "source": [
    "A very first step is to preserve only the necessary columns for Cluster Walk to work:\n",
    "+ Media URL\n",
    "+ City\n",
    "+ Country\n",
    "+ wkt\n",
    "+ normalized_date\n",
    "+ Title"
   ]
  },
  {
   "cell_type": "markdown",
   "id": "e810f529-ffe4-4b07-b8e6-3f7b7dbbf841",
   "metadata": {},
   "source": [
    "We define which columns we would like storing them in a variable"
   ]
  },
  {
   "cell_type": "code",
   "execution_count": 4,
   "id": "fd266360-24cb-4a53-95b6-c554b3951309",
   "metadata": {},
   "outputs": [],
   "source": [
    "keep_col = ['Media URL','City','Country','wkt', 'normalized_date', 'Title', 'Journal Type','City_wd','Country_wd','Revue_wd']"
   ]
  },
  {
   "cell_type": "code",
   "execution_count": null,
   "id": "110db349-b057-41dc-90a4-f569e3261f46",
   "metadata": {},
   "outputs": [],
   "source": []
  },
  {
   "cell_type": "code",
   "execution_count": null,
   "id": "6ec319da-7c5f-4aa9-8836-85a812241ac7",
   "metadata": {},
   "outputs": [],
   "source": []
  },
  {
   "cell_type": "code",
   "execution_count": 5,
   "id": "7114b53a-1cff-4a80-8aa5-7c63c286e99d",
   "metadata": {},
   "outputs": [],
   "source": [
    "keep_col_bnf = ['Media URL','City','Country','wkt', 'normalized_date', 'Title', 'Journal Type','City_wd','Country_wd','Revue_wd','periodic']"
   ]
  },
  {
   "cell_type": "markdown",
   "id": "3e7bd0e1-c29a-4328-bc77-e23ba5f4a480",
   "metadata": {
    "tags": []
   },
   "source": [
    "We start with the **Backup_2022_02_03_PDF_cleaned**"
   ]
  },
  {
   "cell_type": "code",
   "execution_count": 6,
   "id": "aff36de6-6a2e-41ff-9abb-7fed2ad869f6",
   "metadata": {
    "tags": []
   },
   "outputs": [],
   "source": [
    "pdf = pd.read_csv(\"backup/Backup_2022_02_03_PDF_cleaned.csv\")\n",
    "new_pdf = pdf[keep_col]\n",
    "new_pdf.to_csv(\"backup/Backup_2022_02_03_PDF_cleaned.csv\", index=False)"
   ]
  },
  {
   "cell_type": "markdown",
   "id": "6c100b45-f843-49d0-afbc-09ebff93de49",
   "metadata": {},
   "source": [
    "Following for **BackupCBT_2022_02_03_IIIF_Only**"
   ]
  },
  {
   "cell_type": "code",
   "execution_count": 7,
   "id": "88c07f66-b7e4-4801-8284-2d3423ebe25b",
   "metadata": {},
   "outputs": [],
   "source": [
    "iiif = pd.read_csv(\"backup/BackupCBT_2022_02_03_IIIF_Only.csv\")\n",
    "new_iiif = iiif[keep_col]\n",
    "new_iiif.to_csv(\"backup/BackupCBT_2022_02_03_IIIF_Only.csv\", index=False)"
   ]
  },
  {
   "cell_type": "code",
   "execution_count": 8,
   "id": "8b03e088-0bf2-4bcf-a4d5-e3dd8206f991",
   "metadata": {},
   "outputs": [],
   "source": [
    "bm = pd.read_csv(\"backup/Princeton_Blue_Mountain.csv\")\n",
    "new_bm = bm[keep_col]\n",
    "new_bm.to_csv(\"backup/Princeton_Blue_Mountain.csv\", index=False)"
   ]
  },
  {
   "cell_type": "code",
   "execution_count": 9,
   "id": "2f50a9fc-8cea-4f10-95fb-8072aa58de07",
   "metadata": {},
   "outputs": [],
   "source": [
    "est = pd.read_csv(\"backup/Journaux_Est-Asiatique.csv\")\n",
    "new_est = est[keep_col]\n",
    "new_est.to_csv(\"backup/Journaux_Est-Asiatique.csv\", index=False)"
   ]
  },
  {
   "cell_type": "code",
   "execution_count": 10,
   "id": "59c54f11-6c52-4561-ac6d-3a12b361190e",
   "metadata": {},
   "outputs": [],
   "source": [
    "mar = pd.read_csv(\"backup/Marie.csv\")\n",
    "new_mar = mar[keep_col]\n",
    "new_mar.to_csv(\"backup/Marie.csv\", index=False)"
   ]
  },
  {
   "cell_type": "code",
   "execution_count": 11,
   "id": "7e42fc42-451c-4723-9d5a-c831d46b6396",
   "metadata": {},
   "outputs": [],
   "source": [
    "adr = pd.read_csv(\"backup/Adrien.csv\")\n",
    "new_adr = adr[keep_col]\n",
    "new_adr.to_csv(\"backup/Marie.csv\", index=False)"
   ]
  },
  {
   "cell_type": "code",
   "execution_count": 12,
   "id": "ef31335e-a192-4f11-bc1b-32c794b7ec91",
   "metadata": {},
   "outputs": [],
   "source": [
    "ag = pd.read_csv(\"backup/ag.csv\", low_memory=False)\n",
    "new_ag = ag[keep_col]\n",
    "new_ag.to_csv(\"backup/ag.csv\", index=False)"
   ]
  },
  {
   "cell_type": "code",
   "execution_count": 13,
   "id": "3d9cbfa2-fe40-4658-ba22-f6f0ba62d741",
   "metadata": {},
   "outputs": [],
   "source": [
    "bnf = pd.read_csv(\"backup/BNF_periodic_explored.csv\", low_memory=False)\n",
    "new_bnf = bnf[keep_col_bnf]\n",
    "new_bnf.to_csv(\"backup/BNF_periodic_explored.csv\", index=False)"
   ]
  },
  {
   "cell_type": "markdown",
   "id": "f1701218-c15c-477e-a84c-01e1511b5684",
   "metadata": {},
   "source": [
    "## Merge everything and save"
   ]
  },
  {
   "cell_type": "code",
   "execution_count": 14,
   "id": "42b9bfb2-e504-40cc-967d-c87f33841a68",
   "metadata": {},
   "outputs": [],
   "source": [
    "merged_df = pd.concat([new_pdf, new_iiif, new_bnf, new_bm, new_est, new_adr, new_mar, new_ag])"
   ]
  },
  {
   "cell_type": "code",
   "execution_count": 15,
   "id": "db887a9c-ec8e-494f-9ee2-708908eb4b3c",
   "metadata": {},
   "outputs": [
    {
     "data": {
      "text/html": [
       "<div>\n",
       "<style scoped>\n",
       "    .dataframe tbody tr th:only-of-type {\n",
       "        vertical-align: middle;\n",
       "    }\n",
       "\n",
       "    .dataframe tbody tr th {\n",
       "        vertical-align: top;\n",
       "    }\n",
       "\n",
       "    .dataframe thead th {\n",
       "        text-align: right;\n",
       "    }\n",
       "</style>\n",
       "<table border=\"1\" class=\"dataframe\">\n",
       "  <thead>\n",
       "    <tr style=\"text-align: right;\">\n",
       "      <th></th>\n",
       "      <th>Media URL</th>\n",
       "      <th>City</th>\n",
       "      <th>Country</th>\n",
       "      <th>wkt</th>\n",
       "      <th>normalized_date</th>\n",
       "      <th>Title</th>\n",
       "      <th>Journal Type</th>\n",
       "      <th>City_wd</th>\n",
       "      <th>Country_wd</th>\n",
       "      <th>Revue_wd</th>\n",
       "      <th>periodic</th>\n",
       "    </tr>\n",
       "  </thead>\n",
       "  <tbody>\n",
       "    <tr>\n",
       "      <th>0</th>\n",
       "      <td>https://iiif.unige.ch/dhportal/ug8000019/manifest</td>\n",
       "      <td>Bucharest</td>\n",
       "      <td>Romania</td>\n",
       "      <td>POINT(26.083333333333 44.4)</td>\n",
       "      <td>1930-07-01</td>\n",
       "      <td>Unu</td>\n",
       "      <td>Avant-garde Journal</td>\n",
       "      <td>Q19660</td>\n",
       "      <td>Q218</td>\n",
       "      <td>NaN</td>\n",
       "      <td>NaN</td>\n",
       "    </tr>\n",
       "    <tr>\n",
       "      <th>1</th>\n",
       "      <td>https://iiif.unige.ch/dhportal/ug8000022/manifest</td>\n",
       "      <td>Buenos Aires</td>\n",
       "      <td>Argentina</td>\n",
       "      <td>POINT(-58.381944444444 -34.599722222222)</td>\n",
       "      <td>1968-01-01</td>\n",
       "      <td>Folklore</td>\n",
       "      <td>Folklore</td>\n",
       "      <td>Q1486</td>\n",
       "      <td>Q414</td>\n",
       "      <td>NaN</td>\n",
       "      <td>NaN</td>\n",
       "    </tr>\n",
       "    <tr>\n",
       "      <th>2</th>\n",
       "      <td>https://iiif.unige.ch/dhportal/ug8000031/manifest</td>\n",
       "      <td>Buenos Aires</td>\n",
       "      <td>Argentina</td>\n",
       "      <td>POINT(-58.381944444444 -34.599722222222)</td>\n",
       "      <td>1967-12-01</td>\n",
       "      <td>Propósitos</td>\n",
       "      <td>Politics</td>\n",
       "      <td>Q1486</td>\n",
       "      <td>Q414</td>\n",
       "      <td>NaN</td>\n",
       "      <td>NaN</td>\n",
       "    </tr>\n",
       "    <tr>\n",
       "      <th>3</th>\n",
       "      <td>https://iiif.unige.ch/dhportal/ug8000043/manifest</td>\n",
       "      <td>Buenos Aires</td>\n",
       "      <td>Argentina</td>\n",
       "      <td>POINT(-58.381944444444 -34.599722222222)</td>\n",
       "      <td>1966-04-01</td>\n",
       "      <td>Automundo</td>\n",
       "      <td>Automobile</td>\n",
       "      <td>Q1486</td>\n",
       "      <td>Q414</td>\n",
       "      <td>NaN</td>\n",
       "      <td>NaN</td>\n",
       "    </tr>\n",
       "    <tr>\n",
       "      <th>4</th>\n",
       "      <td>https://iiif.unige.ch/dhportal/ug8000057/manifest</td>\n",
       "      <td>Moscow</td>\n",
       "      <td>Russia</td>\n",
       "      <td>POINT(37.617777777778 55.755833333333)</td>\n",
       "      <td>1928-01-01</td>\n",
       "      <td>30 (Thirty) Days</td>\n",
       "      <td>News</td>\n",
       "      <td>Q649</td>\n",
       "      <td>Q159</td>\n",
       "      <td>NaN</td>\n",
       "      <td>NaN</td>\n",
       "    </tr>\n",
       "  </tbody>\n",
       "</table>\n",
       "</div>"
      ],
      "text/plain": [
       "                                           Media URL          City    Country  \\\n",
       "0  https://iiif.unige.ch/dhportal/ug8000019/manifest     Bucharest    Romania   \n",
       "1  https://iiif.unige.ch/dhportal/ug8000022/manifest  Buenos Aires  Argentina   \n",
       "2  https://iiif.unige.ch/dhportal/ug8000031/manifest  Buenos Aires  Argentina   \n",
       "3  https://iiif.unige.ch/dhportal/ug8000043/manifest  Buenos Aires  Argentina   \n",
       "4  https://iiif.unige.ch/dhportal/ug8000057/manifest        Moscow     Russia   \n",
       "\n",
       "                                        wkt normalized_date             Title  \\\n",
       "0               POINT(26.083333333333 44.4)      1930-07-01               Unu   \n",
       "1  POINT(-58.381944444444 -34.599722222222)      1968-01-01          Folklore   \n",
       "2  POINT(-58.381944444444 -34.599722222222)      1967-12-01        Propósitos   \n",
       "3  POINT(-58.381944444444 -34.599722222222)      1966-04-01         Automundo   \n",
       "4    POINT(37.617777777778 55.755833333333)      1928-01-01  30 (Thirty) Days   \n",
       "\n",
       "          Journal Type City_wd Country_wd Revue_wd periodic  \n",
       "0  Avant-garde Journal  Q19660       Q218      NaN      NaN  \n",
       "1             Folklore   Q1486       Q414      NaN      NaN  \n",
       "2             Politics   Q1486       Q414      NaN      NaN  \n",
       "3           Automobile   Q1486       Q414      NaN      NaN  \n",
       "4                 News    Q649       Q159      NaN      NaN  "
      ]
     },
     "execution_count": 15,
     "metadata": {},
     "output_type": "execute_result"
    }
   ],
   "source": [
    "merged_df.head()"
   ]
  },
  {
   "cell_type": "code",
   "execution_count": 16,
   "id": "f382e742-77ee-4b8c-89bb-69840e220e67",
   "metadata": {},
   "outputs": [],
   "source": [
    "duplicateRows = merged_df[merged_df.duplicated(['Media URL'])]"
   ]
  },
  {
   "cell_type": "code",
   "execution_count": 17,
   "id": "17980b49-76f1-4e7c-9728-5cd5e1efc510",
   "metadata": {},
   "outputs": [
    {
     "name": "stdout",
     "output_type": "stream",
     "text": [
      "Empty DataFrame\n",
      "Columns: [Media URL, City, Country, wkt, normalized_date, Title, Journal Type, City_wd, Country_wd, Revue_wd, periodic]\n",
      "Index: []\n"
     ]
    }
   ],
   "source": [
    "print(duplicateRows)"
   ]
  },
  {
   "cell_type": "code",
   "execution_count": 18,
   "id": "1b105d59-c55d-4d5d-bf3b-100bcb54e4d4",
   "metadata": {},
   "outputs": [],
   "source": [
    "merged_df = merged_df.rename(columns={'Journal Type': 'Journal_Type', 'Media URL': 'manifest_url' })"
   ]
  },
  {
   "cell_type": "code",
   "execution_count": 19,
   "id": "40366e81-5980-4e4e-8d15-b1d6259b66ee",
   "metadata": {},
   "outputs": [
    {
     "data": {
      "text/html": [
       "<div>\n",
       "<style scoped>\n",
       "    .dataframe tbody tr th:only-of-type {\n",
       "        vertical-align: middle;\n",
       "    }\n",
       "\n",
       "    .dataframe tbody tr th {\n",
       "        vertical-align: top;\n",
       "    }\n",
       "\n",
       "    .dataframe thead th {\n",
       "        text-align: right;\n",
       "    }\n",
       "</style>\n",
       "<table border=\"1\" class=\"dataframe\">\n",
       "  <thead>\n",
       "    <tr style=\"text-align: right;\">\n",
       "      <th></th>\n",
       "      <th>manifest_url</th>\n",
       "      <th>City</th>\n",
       "      <th>Country</th>\n",
       "      <th>wkt</th>\n",
       "      <th>normalized_date</th>\n",
       "      <th>Title</th>\n",
       "      <th>Journal_Type</th>\n",
       "      <th>City_wd</th>\n",
       "      <th>Country_wd</th>\n",
       "      <th>Revue_wd</th>\n",
       "      <th>periodic</th>\n",
       "    </tr>\n",
       "  </thead>\n",
       "  <tbody>\n",
       "    <tr>\n",
       "      <th>0</th>\n",
       "      <td>https://iiif.unige.ch/dhportal/ug8000019/manifest</td>\n",
       "      <td>Bucharest</td>\n",
       "      <td>Romania</td>\n",
       "      <td>POINT(26.083333333333 44.4)</td>\n",
       "      <td>1930-07-01</td>\n",
       "      <td>Unu</td>\n",
       "      <td>Avant-garde Journal</td>\n",
       "      <td>Q19660</td>\n",
       "      <td>Q218</td>\n",
       "      <td>NaN</td>\n",
       "      <td>NaN</td>\n",
       "    </tr>\n",
       "    <tr>\n",
       "      <th>1</th>\n",
       "      <td>https://iiif.unige.ch/dhportal/ug8000022/manifest</td>\n",
       "      <td>Buenos Aires</td>\n",
       "      <td>Argentina</td>\n",
       "      <td>POINT(-58.381944444444 -34.599722222222)</td>\n",
       "      <td>1968-01-01</td>\n",
       "      <td>Folklore</td>\n",
       "      <td>Folklore</td>\n",
       "      <td>Q1486</td>\n",
       "      <td>Q414</td>\n",
       "      <td>NaN</td>\n",
       "      <td>NaN</td>\n",
       "    </tr>\n",
       "    <tr>\n",
       "      <th>2</th>\n",
       "      <td>https://iiif.unige.ch/dhportal/ug8000031/manifest</td>\n",
       "      <td>Buenos Aires</td>\n",
       "      <td>Argentina</td>\n",
       "      <td>POINT(-58.381944444444 -34.599722222222)</td>\n",
       "      <td>1967-12-01</td>\n",
       "      <td>Propósitos</td>\n",
       "      <td>Politics</td>\n",
       "      <td>Q1486</td>\n",
       "      <td>Q414</td>\n",
       "      <td>NaN</td>\n",
       "      <td>NaN</td>\n",
       "    </tr>\n",
       "    <tr>\n",
       "      <th>3</th>\n",
       "      <td>https://iiif.unige.ch/dhportal/ug8000043/manifest</td>\n",
       "      <td>Buenos Aires</td>\n",
       "      <td>Argentina</td>\n",
       "      <td>POINT(-58.381944444444 -34.599722222222)</td>\n",
       "      <td>1966-04-01</td>\n",
       "      <td>Automundo</td>\n",
       "      <td>Automobile</td>\n",
       "      <td>Q1486</td>\n",
       "      <td>Q414</td>\n",
       "      <td>NaN</td>\n",
       "      <td>NaN</td>\n",
       "    </tr>\n",
       "    <tr>\n",
       "      <th>4</th>\n",
       "      <td>https://iiif.unige.ch/dhportal/ug8000057/manifest</td>\n",
       "      <td>Moscow</td>\n",
       "      <td>Russia</td>\n",
       "      <td>POINT(37.617777777778 55.755833333333)</td>\n",
       "      <td>1928-01-01</td>\n",
       "      <td>30 (Thirty) Days</td>\n",
       "      <td>News</td>\n",
       "      <td>Q649</td>\n",
       "      <td>Q159</td>\n",
       "      <td>NaN</td>\n",
       "      <td>NaN</td>\n",
       "    </tr>\n",
       "  </tbody>\n",
       "</table>\n",
       "</div>"
      ],
      "text/plain": [
       "                                        manifest_url          City    Country  \\\n",
       "0  https://iiif.unige.ch/dhportal/ug8000019/manifest     Bucharest    Romania   \n",
       "1  https://iiif.unige.ch/dhportal/ug8000022/manifest  Buenos Aires  Argentina   \n",
       "2  https://iiif.unige.ch/dhportal/ug8000031/manifest  Buenos Aires  Argentina   \n",
       "3  https://iiif.unige.ch/dhportal/ug8000043/manifest  Buenos Aires  Argentina   \n",
       "4  https://iiif.unige.ch/dhportal/ug8000057/manifest        Moscow     Russia   \n",
       "\n",
       "                                        wkt normalized_date             Title  \\\n",
       "0               POINT(26.083333333333 44.4)      1930-07-01               Unu   \n",
       "1  POINT(-58.381944444444 -34.599722222222)      1968-01-01          Folklore   \n",
       "2  POINT(-58.381944444444 -34.599722222222)      1967-12-01        Propósitos   \n",
       "3  POINT(-58.381944444444 -34.599722222222)      1966-04-01         Automundo   \n",
       "4    POINT(37.617777777778 55.755833333333)      1928-01-01  30 (Thirty) Days   \n",
       "\n",
       "          Journal_Type City_wd Country_wd Revue_wd periodic  \n",
       "0  Avant-garde Journal  Q19660       Q218      NaN      NaN  \n",
       "1             Folklore   Q1486       Q414      NaN      NaN  \n",
       "2             Politics   Q1486       Q414      NaN      NaN  \n",
       "3           Automobile   Q1486       Q414      NaN      NaN  \n",
       "4                 News    Q649       Q159      NaN      NaN  "
      ]
     },
     "execution_count": 19,
     "metadata": {},
     "output_type": "execute_result"
    }
   ],
   "source": [
    "merged_df.head()"
   ]
  },
  {
   "cell_type": "code",
   "execution_count": 20,
   "id": "2c91d816-3b37-432e-9c8f-b59986e45b69",
   "metadata": {},
   "outputs": [],
   "source": [
    "merged_df.reset_index(inplace=True)"
   ]
  },
  {
   "cell_type": "code",
   "execution_count": 21,
   "id": "6566077c-1a4f-4a97-be43-6b4c254c2ad6",
   "metadata": {
    "tags": []
   },
   "outputs": [],
   "source": [
    "merged_df.to_xml('/Users/carboni/Documents/UNIGE/Corpus/RDF/OR_metadata/metadata.xml', root_name=\"rows\", pretty_print=True, index=False) "
   ]
  },
  {
   "cell_type": "markdown",
   "id": "ae8c739f-e153-4b8e-8552-ac115ea367c8",
   "metadata": {},
   "source": [
    "## Use X3ML to produce the RDF file\n",
    "To be done in the terminal if possible.."
   ]
  },
  {
   "cell_type": "markdown",
   "id": "24fe7813-73b0-4c7a-852a-9d8bf4d137d9",
   "metadata": {},
   "source": [
    "Set the path for x3ml and the folder where the mapping files, generator policy and input reside"
   ]
  },
  {
   "cell_type": "code",
   "execution_count": null,
   "id": "8ba13bfa-3ce2-43c7-96eb-7110b5089021",
   "metadata": {},
   "outputs": [],
   "source": [
    "metadata = \"/Users/carboni/Documents/UNIGE/Corpus/RDF/OR_metadata/\"\n",
    "x3ml = \"/Applications/LinkedData/X3ML_2/\""
   ]
  },
  {
   "cell_type": "code",
   "execution_count": null,
   "id": "8591c6d5-dcb3-444b-95b6-d2573502abc3",
   "metadata": {},
   "outputs": [],
   "source": [
    "!java -jar # {x3ml}x3ml-engine-2.1.0-exejar.jar -x {metadata}mapping_metadata.x3ml -p {metadata}generator_policy.xml -i {metadata}metadata.xml -o metadata.ttl -f text/turtle"
   ]
  },
  {
   "cell_type": "code",
   "execution_count": null,
   "id": "21469627-587f-4e76-b333-ee193cfd813e",
   "metadata": {},
   "outputs": [],
   "source": [
    "print(\"The file should be in the folder \" + metadata)"
   ]
  },
  {
   "cell_type": "code",
   "execution_count": null,
   "id": "228c380a-178a-449d-9a67-f5c9f0e90533",
   "metadata": {},
   "outputs": [],
   "source": [
    "bnf = pd.read_csv(\"backup/BNF_periodic_all.csv\", low_memory=False)\n",
    "new_bnf = bnf[keep_col_bnf]\n",
    "new_bnf.to_csv(\"backup/BNF_periodic_all.csv\", index=False)"
   ]
  },
  {
   "cell_type": "code",
   "execution_count": null,
   "id": "36fc666d-a0ae-4534-bd48-8d0e7922cd8b",
   "metadata": {},
   "outputs": [],
   "source": []
  }
 ],
 "metadata": {
  "kernelspec": {
   "display_name": "Python 3 (ipykernel)",
   "language": "python",
   "name": "python3"
  },
  "language_info": {
   "codemirror_mode": {
    "name": "ipython",
    "version": 3
   },
   "file_extension": ".py",
   "mimetype": "text/x-python",
   "name": "python",
   "nbconvert_exporter": "python",
   "pygments_lexer": "ipython3",
   "version": "3.10.8"
  }
 },
 "nbformat": 4,
 "nbformat_minor": 5
}
