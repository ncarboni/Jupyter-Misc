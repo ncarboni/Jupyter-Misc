{
 "cells": [
  {
   "cell_type": "code",
   "execution_count": 3,
   "id": "2009cbe3-3010-4728-9859-bd0e37c6525d",
   "metadata": {},
   "outputs": [],
   "source": [
    "import pandas as pd\n",
    "#!pip install SPARQLWrapper\n",
    "from SPARQLWrapper import SPARQLWrapper, JSON\n",
    "#!pip install sparql-dataframe\n",
    "import sparql_dataframe\n",
    "import VizKG.visualize as vkg"
   ]
  },
  {
   "cell_type": "code",
   "execution_count": 6,
   "id": "d39e0869-a47a-484c-9378-359bd5afd7ed",
   "metadata": {},
   "outputs": [],
   "source": [
    "endpoint = \"http://localhost:3030/Visual_Contagions/sparql\""
   ]
  },
  {
   "cell_type": "code",
   "execution_count": 13,
   "id": "b32082df-2de9-4189-8836-0a8abe8256f2",
   "metadata": {},
   "outputs": [],
   "source": [
    "q = \"\"\"\n",
    "PREFIX crmdig: <http://www.ics.forth.gr/isl/CRMdig/>\n",
    "PREFIX frbroo: <http://iflastandards.info/ns/fr/frbr/frbroo/>\n",
    "PREFIX crm: <http://www.cidoc-crm.org/cidoc-crm/>\n",
    "PREFIX rdf: <http://www.w3.org/1999/02/22-rdf-syntax-ns#>\n",
    "PREFIX rdfs: <http://www.w3.org/2000/01/rdf-schema#>\n",
    "\n",
    "# Number of image, originating from a revue \n",
    "# that circulate in other revues. This index quantitatively\n",
    "# estimates the virality of an image-type computing the \n",
    "# number of publications where the same image appears. \n",
    "# The higher the number, the higher the virality of an image.\n",
    "\n",
    "# TODO: \n",
    "# 1) image which is earliest in a cluster\n",
    "# 2) count number of images in cluster\n",
    "# 3) count number of journal in cluster\n",
    "# 3) order by number of images and number of journals\n",
    "\n",
    "\n",
    "\n",
    "SELECT ?cluster ?CL_identifier (MIN(?begin) as ?minBegin) (MAX(?begin) as ?maxBegin) (count(distinct ?image) as ?nOfImages) (count(distinct ?serial) as ?nOfRevues) (count(distinct ?city) as ?nOfCities) (count(distinct ?country) as ?nOfCountries) WHERE {\n",
    "  \n",
    "\t?cluster a crmdig:D1_Digital_Object;\n",
    "  \t\tcrm:P2_has_type <https://lod.unige.ch/vc/type/cluster> ;\n",
    "\t\tcrm:P148_has_component ?image ;\n",
    "        crm:P1_is_identified_by ?CL_identifier .\n",
    "\n",
    "\t?image crm:P128i_is_carried_by ?issue .\n",
    "\t?issue crm:P108i_was_produced_by ?production .\n",
    "\t?production frbroo:R23_created_a_realization_of ?serial ;\n",
    "\t\t\t\tcrm:P7_took_place_at ?city ;\n",
    "\t\t\t\tcrm:P4_has_time-span ?time .\n",
    "\n",
    "\t?time a crm:E52_Time-Span;\n",
    "\t\tcrm:P81a_end_of_the_begin ?begin .\n",
    "\n",
    "  \t?city crm:P89_falls_within ?country .\n",
    "\n",
    "} \n",
    "GROUP BY ?cluster ?CL_identifier\n",
    "ORDER BY DESC(?nOfCountries) ?minBegin ?maxBegin ?nOfCities ?nOfRevues ?nOfImages\n",
    "LIMIT 10\n",
    "\"\"\""
   ]
  },
  {
   "cell_type": "code",
   "execution_count": 14,
   "id": "8c27956e-a960-4e50-9f53-db2a30c2827f",
   "metadata": {},
   "outputs": [],
   "source": [
    "df = sparql_dataframe.get(endpoint, q, post=True)"
   ]
  },
  {
   "cell_type": "code",
   "execution_count": 15,
   "id": "13a5c9b5-6e3b-46c7-94cc-391310460519",
   "metadata": {},
   "outputs": [
    {
     "data": {
      "text/html": [
       "<div>\n",
       "<style scoped>\n",
       "    .dataframe tbody tr th:only-of-type {\n",
       "        vertical-align: middle;\n",
       "    }\n",
       "\n",
       "    .dataframe tbody tr th {\n",
       "        vertical-align: top;\n",
       "    }\n",
       "\n",
       "    .dataframe thead th {\n",
       "        text-align: right;\n",
       "    }\n",
       "</style>\n",
       "<table border=\"1\" class=\"dataframe\">\n",
       "  <thead>\n",
       "    <tr style=\"text-align: right;\">\n",
       "      <th></th>\n",
       "      <th>cluster</th>\n",
       "      <th>CL_identifier</th>\n",
       "      <th>minBegin</th>\n",
       "      <th>maxBegin</th>\n",
       "      <th>nOfImages</th>\n",
       "      <th>nOfRevues</th>\n",
       "      <th>nOfCities</th>\n",
       "      <th>nOfCountries</th>\n",
       "    </tr>\n",
       "  </thead>\n",
       "  <tbody>\n",
       "  </tbody>\n",
       "</table>\n",
       "</div>"
      ],
      "text/plain": [
       "Empty DataFrame\n",
       "Columns: [cluster, CL_identifier, minBegin, maxBegin, nOfImages, nOfRevues, nOfCities, nOfCountries]\n",
       "Index: []"
      ]
     },
     "execution_count": 15,
     "metadata": {},
     "output_type": "execute_result"
    }
   ],
   "source": [
    "df"
   ]
  },
  {
   "cell_type": "code",
   "execution_count": null,
   "id": "4dafe445-357d-478c-93b8-133f92e02c7d",
   "metadata": {},
   "outputs": [],
   "source": []
  }
 ],
 "metadata": {
  "kernelspec": {
   "display_name": "Python 3 (ipykernel)",
   "language": "python",
   "name": "python3"
  },
  "language_info": {
   "codemirror_mode": {
    "name": "ipython",
    "version": 3
   },
   "file_extension": ".py",
   "mimetype": "text/x-python",
   "name": "python",
   "nbconvert_exporter": "python",
   "pygments_lexer": "ipython3",
   "version": "3.8.13"
  }
 },
 "nbformat": 4,
 "nbformat_minor": 5
}
