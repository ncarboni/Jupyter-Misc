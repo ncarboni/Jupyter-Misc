{
 "cells": [
  {
   "cell_type": "markdown",
   "id": "f9f4d85c-a2f1-47fa-b32e-9649442ef2df",
   "metadata": {},
   "source": [
    "# Man-Made Cluster: From CSV to XML"
   ]
  },
  {
   "cell_type": "code",
   "execution_count": 9,
   "id": "28197792-b88b-4ae1-bbfe-32f0715beeaa",
   "metadata": {},
   "outputs": [],
   "source": [
    "import pandas as pd\n",
    "import os\n",
    "import glob"
   ]
  },
  {
   "cell_type": "markdown",
   "id": "1ff1e1cb-7a6e-42c1-8efa-6ff8d710b0b5",
   "metadata": {},
   "source": [
    "# Image Series"
   ]
  },
  {
   "cell_type": "code",
   "execution_count": 10,
   "id": "4c0f0b7a-0a70-4f66-a16d-4072fa630c1d",
   "metadata": {},
   "outputs": [],
   "source": [
    "ext = ('.csv')\n",
    "\n",
    "directory = \"/Users/carboni/Documents/UNIGE/Corpus/RDF/man-made_clusters/image_series/CSV_image_series/\"\n",
    "output = \"/Users/carboni/Documents/UNIGE/Corpus/RDF/man-made_clusters/image_series/XML/\""
   ]
  },
  {
   "cell_type": "code",
   "execution_count": 11,
   "id": "83fb77c0-31d8-4927-90a9-ef993005e0fb",
   "metadata": {},
   "outputs": [],
   "source": [
    "if len(output) == 0:\n",
    "    print(\"Empty directory\")\n",
    "else:\n",
    "    for f in os.listdir(output):\n",
    "        os.remove(os.path.join(output, f))"
   ]
  },
  {
   "cell_type": "code",
   "execution_count": 12,
   "id": "65c48788-c934-4b9c-9a9a-6943ca218eb5",
   "metadata": {},
   "outputs": [
    {
     "name": "stdout",
     "output_type": "stream",
     "text": [
      "created 5-individual-artworks.xml\n"
     ]
    }
   ],
   "source": [
    "for filename in os.listdir(directory):\n",
    "    if filename.endswith(ext):\n",
    "        pre, ext = os.path.splitext(filename)\n",
    "        f = os.path.join(directory, filename)\n",
    "        df = pre\n",
    "        df = pd.read_csv(f)\n",
    "        df.drop(['notice', 'canvas_number'], axis=1, inplace=True)\n",
    "        df = df.rename(columns={'Journal Type': 'Journal_Type'})\n",
    "        df.to_xml(f'{output}{pre}.xml', root_name=\"rows\", pretty_print=True, index=False)\n",
    "        print(f'created {pre}.xml')\n",
    "    else:\n",
    "        continue"
   ]
  },
  {
   "cell_type": "markdown",
   "id": "d8691609-5504-4ef6-a80a-838aea3b65ac",
   "metadata": {},
   "source": [
    "# Curated clusters"
   ]
  }
 ],
 "metadata": {
  "kernelspec": {
   "display_name": "Python 3 (ipykernel)",
   "language": "python",
   "name": "python3"
  },
  "language_info": {
   "codemirror_mode": {
    "name": "ipython",
    "version": 3
   },
   "file_extension": ".py",
   "mimetype": "text/x-python",
   "name": "python",
   "nbconvert_exporter": "python",
   "pygments_lexer": "ipython3",
   "version": "3.10.8"
  }
 },
 "nbformat": 4,
 "nbformat_minor": 5
}
