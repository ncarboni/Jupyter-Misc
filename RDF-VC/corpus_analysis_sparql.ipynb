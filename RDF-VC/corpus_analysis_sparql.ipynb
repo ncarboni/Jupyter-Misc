{
 "cells": [
  {
   "cell_type": "markdown",
   "id": "665a92bf-6506-4357-aa96-f17850c2490f",
   "metadata": {},
   "source": [
    "# Analysis corpus SPARQL"
   ]
  },
  {
   "cell_type": "code",
   "execution_count": 2,
   "id": "16200c08-7984-4f7e-8528-8f7bc1efa74c",
   "metadata": {},
   "outputs": [],
   "source": [
    "from SPARQLWrapper import SPARQLWrapper, JSON\n",
    "import pandas as pd\n",
    "import sparql_dataframe\n",
    "import geopandas as gpd\n",
    "from shapely import wkt\n",
    "import matplotlib.pyplot as plt\n",
    "import folium\n",
    "import VizKG.visualize as vkg\n",
    "import plotly.express as px\n",
    "import markdown as md"
   ]
  },
  {
   "cell_type": "code",
   "execution_count": 3,
   "id": "94c6b448-cc48-48fc-ab6b-7c1812122fe3",
   "metadata": {},
   "outputs": [],
   "source": [
    "endpoint = \"http://localhost:3030/VisualContagions/sparql\""
   ]
  },
  {
   "cell_type": "markdown",
   "id": "32c19231-cf0d-4214-bf03-303bee8f52f5",
   "metadata": {},
   "source": [
    "## Count of manifests"
   ]
  },
  {
   "cell_type": "code",
   "execution_count": 3,
   "id": "a3fbd543-89bc-44c0-ac38-767a6c0cd82f",
   "metadata": {},
   "outputs": [],
   "source": [
    "count_manifests =\"\"\"\n",
    "\n",
    "PREFIX rdf: <http://www.w3.org/1999/02/22-rdf-syntax-ns#>\n",
    "PREFIX crm: <http://www.cidoc-crm.org/cidoc-crm/>\n",
    "\n",
    "SELECT (count(distinct ?manifest) as ?nOfManifests)  WHERE {\n",
    "  ?manifest crm:P2_has_type <https://lod.unige.ch/vc/type/cluster> .\n",
    "}\n",
    "\n",
    "\n",
    "\n",
    "\n",
    "\"\"\""
   ]
  },
  {
   "cell_type": "code",
   "execution_count": 4,
   "id": "5f4079b4-ecdb-4cad-8436-4fc944bdb152",
   "metadata": {},
   "outputs": [],
   "source": [
    "count_manifests = sparql_dataframe.get(endpoint, count_manifests)"
   ]
  },
  {
   "cell_type": "code",
   "execution_count": 5,
   "id": "cf49625c-6bc0-4630-b261-6f9320e102cd",
   "metadata": {},
   "outputs": [
    {
     "name": "stdout",
     "output_type": "stream",
     "text": [
      "   nOfManifests\n",
      "0        197480\n"
     ]
    }
   ],
   "source": [
    "print(count_manifests)"
   ]
  },
  {
   "cell_type": "markdown",
   "id": "4ba6ac09-16d9-4e13-9666-c9cb6ed0d4c3",
   "metadata": {},
   "source": [
    "## Count of Images"
   ]
  },
  {
   "cell_type": "code",
   "execution_count": 5,
   "id": "874750de-c849-4273-9ef3-99126bdf0955",
   "metadata": {
    "tags": []
   },
   "outputs": [],
   "source": [
    "count_images =\"\"\"\n",
    "\n",
    "PREFIX rdfs: <http://www.w3.org/2000/01/rdf-schema#>\n",
    "PREFIX rdf: <http://www.w3.org/1999/02/22-rdf-syntax-ns#>\n",
    "PREFIX crm: <http://www.cidoc-crm.org/cidoc-crm/>\n",
    "PREFIX aat: <http://vocab.getty.edu/aat/>\n",
    "\n",
    "SELECT DISTINCT ?image WHERE {\n",
    "  \n",
    "  ?image a crm:E36_Visual_Item .\n",
    "  ?image ?pred ?manifests .\n",
    "  ?manifests <http://www.cidoc-crm.org/cidoc-crm/P108i_was_produced_by> ?production ;\n",
    "             rdfs:label ?labelIssue .\n",
    "} \n",
    "\"\"\""
   ]
  },
  {
   "cell_type": "code",
   "execution_count": 6,
   "id": "cbf89e2f-1908-47b6-864f-b3440710947c",
   "metadata": {},
   "outputs": [],
   "source": [
    "count_images = sparql_dataframe.get(endpoint, count_images)"
   ]
  },
  {
   "cell_type": "code",
   "execution_count": 7,
   "id": "385759fd-6b41-48ee-bc3f-8439780356a7",
   "metadata": {},
   "outputs": [
    {
     "data": {
      "text/html": [
       "<div>\n",
       "<style scoped>\n",
       "    .dataframe tbody tr th:only-of-type {\n",
       "        vertical-align: middle;\n",
       "    }\n",
       "\n",
       "    .dataframe tbody tr th {\n",
       "        vertical-align: top;\n",
       "    }\n",
       "\n",
       "    .dataframe thead th {\n",
       "        text-align: right;\n",
       "    }\n",
       "</style>\n",
       "<table border=\"1\" class=\"dataframe\">\n",
       "  <thead>\n",
       "    <tr style=\"text-align: right;\">\n",
       "      <th></th>\n",
       "      <th>image</th>\n",
       "    </tr>\n",
       "  </thead>\n",
       "  <tbody>\n",
       "    <tr>\n",
       "      <th>0</th>\n",
       "      <td>https://digi.ub.uni-heidelberg.de/iiif/2/zimme...</td>\n",
       "    </tr>\n",
       "    <tr>\n",
       "      <th>1</th>\n",
       "      <td>https://gallica.bnf.fr/iiif/ark:/12148/bpt6k61...</td>\n",
       "    </tr>\n",
       "    <tr>\n",
       "      <th>2</th>\n",
       "      <td>https://digi.ub.uni-heidelberg.de/iiif/2/bhs19...</td>\n",
       "    </tr>\n",
       "    <tr>\n",
       "      <th>3</th>\n",
       "      <td>https://gallica.bnf.fr/iiif/ark:/12148/bpt6k97...</td>\n",
       "    </tr>\n",
       "    <tr>\n",
       "      <th>4</th>\n",
       "      <td>https://gallica.bnf.fr/iiif/ark:/12148/bpt6k61...</td>\n",
       "    </tr>\n",
       "    <tr>\n",
       "      <th>...</th>\n",
       "      <td>...</td>\n",
       "    </tr>\n",
       "    <tr>\n",
       "      <th>856332</th>\n",
       "      <td>https://iiif.unige.ch/iiif/2/fedora_ug27803650...</td>\n",
       "    </tr>\n",
       "    <tr>\n",
       "      <th>856333</th>\n",
       "      <td>https://gallica.bnf.fr/iiif/ark:/12148/bpt6k97...</td>\n",
       "    </tr>\n",
       "    <tr>\n",
       "      <th>856334</th>\n",
       "      <td>https://digi.ub.uni-heidelberg.de/iiif/2/megge...</td>\n",
       "    </tr>\n",
       "    <tr>\n",
       "      <th>856335</th>\n",
       "      <td>https://digi.ub.uni-heidelberg.de/iiif/2/inter...</td>\n",
       "    </tr>\n",
       "    <tr>\n",
       "      <th>856336</th>\n",
       "      <td>https://digi.ub.uni-heidelberg.de/iiif/2/bmusv...</td>\n",
       "    </tr>\n",
       "  </tbody>\n",
       "</table>\n",
       "<p>856337 rows × 1 columns</p>\n",
       "</div>"
      ],
      "text/plain": [
       "                                                    image\n",
       "0       https://digi.ub.uni-heidelberg.de/iiif/2/zimme...\n",
       "1       https://gallica.bnf.fr/iiif/ark:/12148/bpt6k61...\n",
       "2       https://digi.ub.uni-heidelberg.de/iiif/2/bhs19...\n",
       "3       https://gallica.bnf.fr/iiif/ark:/12148/bpt6k97...\n",
       "4       https://gallica.bnf.fr/iiif/ark:/12148/bpt6k61...\n",
       "...                                                   ...\n",
       "856332  https://iiif.unige.ch/iiif/2/fedora_ug27803650...\n",
       "856333  https://gallica.bnf.fr/iiif/ark:/12148/bpt6k97...\n",
       "856334  https://digi.ub.uni-heidelberg.de/iiif/2/megge...\n",
       "856335  https://digi.ub.uni-heidelberg.de/iiif/2/inter...\n",
       "856336  https://digi.ub.uni-heidelberg.de/iiif/2/bmusv...\n",
       "\n",
       "[856337 rows x 1 columns]"
      ]
     },
     "execution_count": 7,
     "metadata": {},
     "output_type": "execute_result"
    }
   ],
   "source": [
    "count_images"
   ]
  },
  {
   "cell_type": "markdown",
   "id": "69224d4c-0d2a-441b-a22f-76634a67056c",
   "metadata": {},
   "source": [
    "## Count of journals"
   ]
  },
  {
   "cell_type": "code",
   "execution_count": 6,
   "id": "3d15cd69-0942-4c08-994b-bc74e3c30224",
   "metadata": {},
   "outputs": [],
   "source": [
    "count_journals =\"\"\"\n",
    "\n",
    "PREFIX rdf: <http://www.w3.org/1999/02/22-rdf-syntax-ns#>\n",
    "PREFIX crm: <http://www.cidoc-crm.org/cidoc-crm/>\n",
    "PREFIX aat: <http://vocab.getty.edu/aat/>\n",
    "\n",
    "SELECT (count(distinct ?serials) as ?nOfserials)  WHERE {\n",
    "  ?serials crm:P2_has_type aat:300215390 .\n",
    "}\n",
    "\"\"\""
   ]
  },
  {
   "cell_type": "code",
   "execution_count": 7,
   "id": "faaa029e-5130-487e-93a7-de982b1f038a",
   "metadata": {},
   "outputs": [],
   "source": [
    "count_journals = sparql_dataframe.get(endpoint, count_journals)"
   ]
  },
  {
   "cell_type": "code",
   "execution_count": 8,
   "id": "67947a2b-c7fa-4765-8098-e51d5907ddd2",
   "metadata": {},
   "outputs": [
    {
     "name": "stdout",
     "output_type": "stream",
     "text": [
      "   nOfserials\n",
      "0        1787\n"
     ]
    }
   ],
   "source": [
    "print(count_journals)"
   ]
  },
  {
   "cell_type": "markdown",
   "id": "c48d1cf1-ff16-4a92-a313-ade33ed7b6e6",
   "metadata": {},
   "source": [
    "### Count of AG journals"
   ]
  },
  {
   "cell_type": "code",
   "execution_count": 29,
   "id": "f0e22029-b1fe-4f41-87c6-f4d37889d55b",
   "metadata": {},
   "outputs": [],
   "source": [
    "ag_journals =\"\"\"\n",
    "\n",
    "PREFIX rdfs: <http://www.w3.org/2000/01/rdf-schema#>\n",
    "PREFIX rdf: <http://www.w3.org/1999/02/22-rdf-syntax-ns#>\n",
    "PREFIX crm: <http://www.cidoc-crm.org/cidoc-crm/>\n",
    "PREFIX aat: <http://vocab.getty.edu/aat/>\n",
    "\n",
    "SELECT DISTINCT ?labelIssue WHERE {\n",
    "  \n",
    "  ?manifests <http://www.cidoc-crm.org/cidoc-crm/P108i_was_produced_by> ?production ;\n",
    "             ?type <https://lod.unige.ch/vc/type/988EE2E2-172C-3104-8DAA-B4D629E814AE> ;\n",
    "             rdfs:label ?labelIssue .\n",
    "}\n",
    "\n",
    "\"\"\""
   ]
  },
  {
   "cell_type": "code",
   "execution_count": 30,
   "id": "add9433f-b4ce-43b7-add1-6718c155ad7a",
   "metadata": {
    "tags": []
   },
   "outputs": [],
   "source": [
    "ag_journals = sparql_dataframe.get(endpoint, ag_journals)"
   ]
  },
  {
   "cell_type": "code",
   "execution_count": 31,
   "id": "c95a5cd7-683e-42ea-8c09-47f4e2c8438c",
   "metadata": {},
   "outputs": [
    {
     "data": {
      "text/plain": [
       "labelIssue    98\n",
       "dtype: int64"
      ]
     },
     "execution_count": 31,
     "metadata": {},
     "output_type": "execute_result"
    }
   ],
   "source": [
    "ag_journals.nunique()"
   ]
  },
  {
   "cell_type": "markdown",
   "id": "f38f710d-e43e-4714-bd7d-34405e308dff",
   "metadata": {},
   "source": [
    "### Count of AG images"
   ]
  },
  {
   "cell_type": "code",
   "execution_count": 32,
   "id": "e0df21bd-3f34-4081-8cab-9c69a43f3f90",
   "metadata": {},
   "outputs": [],
   "source": [
    "ag_images =\"\"\"\n",
    "\n",
    "PREFIX rdfs: <http://www.w3.org/2000/01/rdf-schema#>\n",
    "PREFIX rdf: <http://www.w3.org/1999/02/22-rdf-syntax-ns#>\n",
    "PREFIX crm: <http://www.cidoc-crm.org/cidoc-crm/>\n",
    "PREFIX aat: <http://vocab.getty.edu/aat/>\n",
    "\n",
    "SELECT DISTINCT ?image WHERE {\n",
    "  \n",
    "  ?image a crm:E36_Visual_Item .\n",
    "  ?image ?pred ?manifests .\n",
    "  ?manifests <http://www.cidoc-crm.org/cidoc-crm/P108i_was_produced_by> ?production ;\n",
    "             ?type <https://lod.unige.ch/vc/type/988EE2E2-172C-3104-8DAA-B4D629E814AE> ;\n",
    "             rdfs:label ?labelIssue .\n",
    "} \n",
    "\n",
    "\"\"\""
   ]
  },
  {
   "cell_type": "code",
   "execution_count": 33,
   "id": "163d402a-5401-42ac-92a7-d16ff6c29af1",
   "metadata": {},
   "outputs": [],
   "source": [
    "ag_images = sparql_dataframe.get(endpoint, ag_images)"
   ]
  },
  {
   "cell_type": "markdown",
   "id": "e4ae5b11-ac1b-468d-b2ba-45d536de0e88",
   "metadata": {},
   "source": [
    "## Count of countries"
   ]
  },
  {
   "cell_type": "code",
   "execution_count": 9,
   "id": "2d966d2e-5bf2-42c5-8b29-dca7a267d53f",
   "metadata": {},
   "outputs": [],
   "source": [
    "count_countries =\"\"\"\n",
    "\n",
    "PREFIX rdf: <http://www.w3.org/1999/02/22-rdf-syntax-ns#>\n",
    "PREFIX crm: <http://www.cidoc-crm.org/cidoc-crm/>\n",
    "PREFIX aat: <http://vocab.getty.edu/aat/>\n",
    "PREFIX rdfs: <http://www.w3.org/2000/01/rdf-schema#>\n",
    "\n",
    "\n",
    "SELECT ?(count(distinct ?country) as ?nOfcountries)  WHERE {\n",
    "  ?country crm:P2_has_type aat:300387506 .}\n",
    " \n",
    "\"\"\""
   ]
  },
  {
   "cell_type": "code",
   "execution_count": 10,
   "id": "10bc6ac1-c38c-4d35-9137-dd91efcbc881",
   "metadata": {},
   "outputs": [],
   "source": [
    "count_countries = sparql_dataframe.get(endpoint, count_countries)"
   ]
  },
  {
   "cell_type": "code",
   "execution_count": 11,
   "id": "8dae52a1-b98b-4e14-8484-249dda2359fb",
   "metadata": {},
   "outputs": [
    {
     "name": "stdout",
     "output_type": "stream",
     "text": [
      "   nOfcountries\n",
      "0            42\n"
     ]
    }
   ],
   "source": [
    "print(count_countries)"
   ]
  },
  {
   "cell_type": "markdown",
   "id": "19e04a91-f9a7-4d82-96ad-83e282323032",
   "metadata": {},
   "source": [
    "## Count of cities"
   ]
  },
  {
   "cell_type": "code",
   "execution_count": 12,
   "id": "2121355b-0a66-4844-9b5a-10bea24d60b7",
   "metadata": {},
   "outputs": [],
   "source": [
    "count_cities =\"\"\"\n",
    "\n",
    "PREFIX rdf: <http://www.w3.org/1999/02/22-rdf-syntax-ns#>\n",
    "PREFIX crm: <http://www.cidoc-crm.org/cidoc-crm/>\n",
    "PREFIX aat: <http://vocab.getty.edu/aat/>\n",
    "\n",
    "SELECT (count(distinct ?cities) as ?nOfcities)  WHERE {\n",
    "  ?cities crm:P2_has_type aat:300008389 .\n",
    "}\n",
    "\"\"\""
   ]
  },
  {
   "cell_type": "code",
   "execution_count": 13,
   "id": "0d8dffb9-d464-4fa4-817b-886c0a46f000",
   "metadata": {},
   "outputs": [],
   "source": [
    "count_cities = sparql_dataframe.get(endpoint, count_cities)"
   ]
  },
  {
   "cell_type": "code",
   "execution_count": 14,
   "id": "73cada4e-372f-4a2c-bf23-30f3cb882bf3",
   "metadata": {},
   "outputs": [
    {
     "name": "stdout",
     "output_type": "stream",
     "text": [
      "   nOfcities\n",
      "0        278\n"
     ]
    }
   ],
   "source": [
    "print(count_cities)"
   ]
  },
  {
   "cell_type": "code",
   "execution_count": null,
   "id": "67f34faa-99d6-44c4-949e-bcb593e1ca25",
   "metadata": {},
   "outputs": [],
   "source": []
  },
  {
   "cell_type": "code",
   "execution_count": null,
   "id": "6e1b2a8a-0904-47fb-b61f-8f7098cbb09c",
   "metadata": {},
   "outputs": [],
   "source": []
  },
  {
   "cell_type": "markdown",
   "id": "01318171-05a9-4c42-a91e-870e5f74f9e5",
   "metadata": {},
   "source": [
    "### Count of countries per issue"
   ]
  },
  {
   "cell_type": "code",
   "execution_count": 5,
   "id": "ceb5c7d6-b200-42e9-8949-856f22b554c9",
   "metadata": {},
   "outputs": [],
   "source": [
    "countries_number = \"\"\"\n",
    "\n",
    "PREFIX rdf: <http://www.w3.org/1999/02/22-rdf-syntax-ns#>\n",
    "PREFIX crm: <http://www.cidoc-crm.org/cidoc-crm/>\n",
    "PREFIX rdfs: <http://www.w3.org/2000/01/rdf-schema#>\n",
    "PREFIX aat: <http://vocab.getty.edu/aat/>\n",
    "\n",
    "SELECT ?countryLabel (count(distinct ?issue) as ?nOfissue) WHERE {\n",
    "  \n",
    " \t\t?issue crm:P108i_was_produced_by ?production .\n",
    "        ?production  crm:P7_took_place_at ?country .\n",
    "  \n",
    "        ?country crm:P2_has_type aat:300387506 ;\n",
    "                rdfs:label ?countryLabel .\n",
    "}\n",
    "GROUP BY ?countryLabel\n",
    "\"\"\""
   ]
  },
  {
   "cell_type": "code",
   "execution_count": 6,
   "id": "17aabff6-4664-4030-a5fc-18fb567c1dcb",
   "metadata": {},
   "outputs": [],
   "source": [
    "countries_number = sparql_dataframe.get(endpoint, countries_number)"
   ]
  },
  {
   "cell_type": "code",
   "execution_count": 7,
   "id": "3ea06480-3618-4cf7-880e-d355f0f42b47",
   "metadata": {},
   "outputs": [],
   "source": [
    "countries_number.to_csv('/Users/carboni/Downloads/countries_number.csv', index=False)"
   ]
  },
  {
   "cell_type": "code",
   "execution_count": 69,
   "id": "f1693761-16a5-46c4-af0c-0e4039609595",
   "metadata": {},
   "outputs": [
    {
     "data": {
      "application/vnd.plotly.v1+json": {
       "config": {
        "plotlyServerURL": "https://plot.ly"
       },
       "data": [
        {
         "branchvalues": "total",
         "customdata": [
          [
           "Switzerland"
          ],
          [
           "Brazil"
          ],
          [
           "Italy"
          ],
          [
           "Hungary"
          ],
          [
           "Poland"
          ],
          [
           "Spain"
          ],
          [
           "Germany"
          ],
          [
           "Peru"
          ],
          [
           "Croatia"
          ],
          [
           "Romania"
          ],
          [
           "France"
          ],
          [
           "Czech Republic"
          ],
          [
           "Finland"
          ],
          [
           "Ukraine"
          ],
          [
           "Austria"
          ],
          [
           "Argentina"
          ],
          [
           "Russia"
          ],
          [
           "United States of America"
          ],
          [
           "United Kingdom"
          ],
          [
           "Netherlands"
          ],
          [
           "Denmark"
          ],
          [
           "(?)"
          ]
         ],
         "domain": {
          "x": [
           0,
           1
          ],
          "y": [
           0,
           1
          ]
         },
         "hovertemplate": "labels=%{label}<br>nOfissue=%{value}<br>parent=%{parent}<br>id=%{id}<br>countryLabel=%{customdata[0]}<extra></extra>",
         "ids": [
          "all/Switzerland",
          "all/Brazil",
          "all/Italy",
          "all/Hungary",
          "all/Poland",
          "all/Spain",
          "all/Germany",
          "all/Peru",
          "all/Croatia",
          "all/Romania",
          "all/France",
          "all/Czech Republic",
          "all/Finland",
          "all/Ukraine",
          "all/Austria",
          "all/Argentina",
          "all/Russia",
          "all/United States of America",
          "all/United Kingdom",
          "all/Netherlands",
          "all/Denmark",
          "all"
         ],
         "labels": [
          "Switzerland",
          "Brazil",
          "Italy",
          "Hungary",
          "Poland",
          "Spain",
          "Germany",
          "Peru",
          "Croatia",
          "Romania",
          "France",
          "Czech Republic",
          "Finland",
          "Ukraine",
          "Austria",
          "Argentina",
          "Russia",
          "United States of America",
          "United Kingdom",
          "Netherlands",
          "Denmark",
          "all"
         ],
         "marker": {
          "colors": [
           "#FF6692",
           "#B6E880",
           "#FF97FF",
           "#FECB52",
           "#005d5d",
           "#636efa",
           "#1192e8",
           "#EF553B",
           "#00cc96",
           "#ab63fa",
           "#fa4d56",
           "#6929c4",
           "#FFA15A",
           "#19d3f3",
           "#FF6692",
           "#B6E880",
           "#FF97FF",
           "#FECB52",
           "#636efa",
           "#FF4F00",
           "#198038",
           "#EF553B"
          ]
         },
         "name": "",
         "parents": [
          "all",
          "all",
          "all",
          "all",
          "all",
          "all",
          "all",
          "all",
          "all",
          "all",
          "all",
          "all",
          "all",
          "all",
          "all",
          "all",
          "all",
          "all",
          "all",
          "all",
          "all",
          ""
         ],
         "root": {
          "color": "lightgrey"
         },
         "type": "treemap",
         "values": [
          7,
          4,
          46,
          5,
          18,
          78,
          733,
          29,
          1,
          135,
          325,
          73,
          7,
          16,
          7,
          52,
          31,
          33,
          114,
          43,
          29,
          1786
         ]
        }
       ],
       "layout": {
        "autosize": true,
        "legend": {
         "tracegroupgap": 0
        },
        "margin": {
         "b": 25,
         "l": 25,
         "r": 25,
         "t": 50
        },
        "template": {
         "data": {
          "bar": [
           {
            "error_x": {
             "color": "#2a3f5f"
            },
            "error_y": {
             "color": "#2a3f5f"
            },
            "marker": {
             "line": {
              "color": "#E5ECF6",
              "width": 0.5
             },
             "pattern": {
              "fillmode": "overlay",
              "size": 10,
              "solidity": 0.2
             }
            },
            "type": "bar"
           }
          ],
          "barpolar": [
           {
            "marker": {
             "line": {
              "color": "#E5ECF6",
              "width": 0.5
             },
             "pattern": {
              "fillmode": "overlay",
              "size": 10,
              "solidity": 0.2
             }
            },
            "type": "barpolar"
           }
          ],
          "carpet": [
           {
            "aaxis": {
             "endlinecolor": "#2a3f5f",
             "gridcolor": "white",
             "linecolor": "white",
             "minorgridcolor": "white",
             "startlinecolor": "#2a3f5f"
            },
            "baxis": {
             "endlinecolor": "#2a3f5f",
             "gridcolor": "white",
             "linecolor": "white",
             "minorgridcolor": "white",
             "startlinecolor": "#2a3f5f"
            },
            "type": "carpet"
           }
          ],
          "choropleth": [
           {
            "colorbar": {
             "outlinewidth": 0,
             "ticks": ""
            },
            "type": "choropleth"
           }
          ],
          "contour": [
           {
            "colorbar": {
             "outlinewidth": 0,
             "ticks": ""
            },
            "colorscale": [
             [
              0,
              "#0d0887"
             ],
             [
              0.1111111111111111,
              "#46039f"
             ],
             [
              0.2222222222222222,
              "#7201a8"
             ],
             [
              0.3333333333333333,
              "#9c179e"
             ],
             [
              0.4444444444444444,
              "#bd3786"
             ],
             [
              0.5555555555555556,
              "#d8576b"
             ],
             [
              0.6666666666666666,
              "#ed7953"
             ],
             [
              0.7777777777777778,
              "#fb9f3a"
             ],
             [
              0.8888888888888888,
              "#fdca26"
             ],
             [
              1,
              "#f0f921"
             ]
            ],
            "type": "contour"
           }
          ],
          "contourcarpet": [
           {
            "colorbar": {
             "outlinewidth": 0,
             "ticks": ""
            },
            "type": "contourcarpet"
           }
          ],
          "heatmap": [
           {
            "colorbar": {
             "outlinewidth": 0,
             "ticks": ""
            },
            "colorscale": [
             [
              0,
              "#0d0887"
             ],
             [
              0.1111111111111111,
              "#46039f"
             ],
             [
              0.2222222222222222,
              "#7201a8"
             ],
             [
              0.3333333333333333,
              "#9c179e"
             ],
             [
              0.4444444444444444,
              "#bd3786"
             ],
             [
              0.5555555555555556,
              "#d8576b"
             ],
             [
              0.6666666666666666,
              "#ed7953"
             ],
             [
              0.7777777777777778,
              "#fb9f3a"
             ],
             [
              0.8888888888888888,
              "#fdca26"
             ],
             [
              1,
              "#f0f921"
             ]
            ],
            "type": "heatmap"
           }
          ],
          "heatmapgl": [
           {
            "colorbar": {
             "outlinewidth": 0,
             "ticks": ""
            },
            "colorscale": [
             [
              0,
              "#0d0887"
             ],
             [
              0.1111111111111111,
              "#46039f"
             ],
             [
              0.2222222222222222,
              "#7201a8"
             ],
             [
              0.3333333333333333,
              "#9c179e"
             ],
             [
              0.4444444444444444,
              "#bd3786"
             ],
             [
              0.5555555555555556,
              "#d8576b"
             ],
             [
              0.6666666666666666,
              "#ed7953"
             ],
             [
              0.7777777777777778,
              "#fb9f3a"
             ],
             [
              0.8888888888888888,
              "#fdca26"
             ],
             [
              1,
              "#f0f921"
             ]
            ],
            "type": "heatmapgl"
           }
          ],
          "histogram": [
           {
            "marker": {
             "pattern": {
              "fillmode": "overlay",
              "size": 10,
              "solidity": 0.2
             }
            },
            "type": "histogram"
           }
          ],
          "histogram2d": [
           {
            "colorbar": {
             "outlinewidth": 0,
             "ticks": ""
            },
            "colorscale": [
             [
              0,
              "#0d0887"
             ],
             [
              0.1111111111111111,
              "#46039f"
             ],
             [
              0.2222222222222222,
              "#7201a8"
             ],
             [
              0.3333333333333333,
              "#9c179e"
             ],
             [
              0.4444444444444444,
              "#bd3786"
             ],
             [
              0.5555555555555556,
              "#d8576b"
             ],
             [
              0.6666666666666666,
              "#ed7953"
             ],
             [
              0.7777777777777778,
              "#fb9f3a"
             ],
             [
              0.8888888888888888,
              "#fdca26"
             ],
             [
              1,
              "#f0f921"
             ]
            ],
            "type": "histogram2d"
           }
          ],
          "histogram2dcontour": [
           {
            "colorbar": {
             "outlinewidth": 0,
             "ticks": ""
            },
            "colorscale": [
             [
              0,
              "#0d0887"
             ],
             [
              0.1111111111111111,
              "#46039f"
             ],
             [
              0.2222222222222222,
              "#7201a8"
             ],
             [
              0.3333333333333333,
              "#9c179e"
             ],
             [
              0.4444444444444444,
              "#bd3786"
             ],
             [
              0.5555555555555556,
              "#d8576b"
             ],
             [
              0.6666666666666666,
              "#ed7953"
             ],
             [
              0.7777777777777778,
              "#fb9f3a"
             ],
             [
              0.8888888888888888,
              "#fdca26"
             ],
             [
              1,
              "#f0f921"
             ]
            ],
            "type": "histogram2dcontour"
           }
          ],
          "mesh3d": [
           {
            "colorbar": {
             "outlinewidth": 0,
             "ticks": ""
            },
            "type": "mesh3d"
           }
          ],
          "parcoords": [
           {
            "line": {
             "colorbar": {
              "outlinewidth": 0,
              "ticks": ""
             }
            },
            "type": "parcoords"
           }
          ],
          "pie": [
           {
            "automargin": true,
            "type": "pie"
           }
          ],
          "scatter": [
           {
            "fillpattern": {
             "fillmode": "overlay",
             "size": 10,
             "solidity": 0.2
            },
            "type": "scatter"
           }
          ],
          "scatter3d": [
           {
            "line": {
             "colorbar": {
              "outlinewidth": 0,
              "ticks": ""
             }
            },
            "marker": {
             "colorbar": {
              "outlinewidth": 0,
              "ticks": ""
             }
            },
            "type": "scatter3d"
           }
          ],
          "scattercarpet": [
           {
            "marker": {
             "colorbar": {
              "outlinewidth": 0,
              "ticks": ""
             }
            },
            "type": "scattercarpet"
           }
          ],
          "scattergeo": [
           {
            "marker": {
             "colorbar": {
              "outlinewidth": 0,
              "ticks": ""
             }
            },
            "type": "scattergeo"
           }
          ],
          "scattergl": [
           {
            "marker": {
             "colorbar": {
              "outlinewidth": 0,
              "ticks": ""
             }
            },
            "type": "scattergl"
           }
          ],
          "scattermapbox": [
           {
            "marker": {
             "colorbar": {
              "outlinewidth": 0,
              "ticks": ""
             }
            },
            "type": "scattermapbox"
           }
          ],
          "scatterpolar": [
           {
            "marker": {
             "colorbar": {
              "outlinewidth": 0,
              "ticks": ""
             }
            },
            "type": "scatterpolar"
           }
          ],
          "scatterpolargl": [
           {
            "marker": {
             "colorbar": {
              "outlinewidth": 0,
              "ticks": ""
             }
            },
            "type": "scatterpolargl"
           }
          ],
          "scatterternary": [
           {
            "marker": {
             "colorbar": {
              "outlinewidth": 0,
              "ticks": ""
             }
            },
            "type": "scatterternary"
           }
          ],
          "surface": [
           {
            "colorbar": {
             "outlinewidth": 0,
             "ticks": ""
            },
            "colorscale": [
             [
              0,
              "#0d0887"
             ],
             [
              0.1111111111111111,
              "#46039f"
             ],
             [
              0.2222222222222222,
              "#7201a8"
             ],
             [
              0.3333333333333333,
              "#9c179e"
             ],
             [
              0.4444444444444444,
              "#bd3786"
             ],
             [
              0.5555555555555556,
              "#d8576b"
             ],
             [
              0.6666666666666666,
              "#ed7953"
             ],
             [
              0.7777777777777778,
              "#fb9f3a"
             ],
             [
              0.8888888888888888,
              "#fdca26"
             ],
             [
              1,
              "#f0f921"
             ]
            ],
            "type": "surface"
           }
          ],
          "table": [
           {
            "cells": {
             "fill": {
              "color": "#EBF0F8"
             },
             "line": {
              "color": "white"
             }
            },
            "header": {
             "fill": {
              "color": "#C8D4E3"
             },
             "line": {
              "color": "white"
             }
            },
            "type": "table"
           }
          ]
         },
         "layout": {
          "annotationdefaults": {
           "arrowcolor": "#2a3f5f",
           "arrowhead": 0,
           "arrowwidth": 1
          },
          "autotypenumbers": "strict",
          "coloraxis": {
           "colorbar": {
            "outlinewidth": 0,
            "ticks": ""
           }
          },
          "colorscale": {
           "diverging": [
            [
             0,
             "#8e0152"
            ],
            [
             0.1,
             "#c51b7d"
            ],
            [
             0.2,
             "#de77ae"
            ],
            [
             0.3,
             "#f1b6da"
            ],
            [
             0.4,
             "#fde0ef"
            ],
            [
             0.5,
             "#f7f7f7"
            ],
            [
             0.6,
             "#e6f5d0"
            ],
            [
             0.7,
             "#b8e186"
            ],
            [
             0.8,
             "#7fbc41"
            ],
            [
             0.9,
             "#4d9221"
            ],
            [
             1,
             "#276419"
            ]
           ],
           "sequential": [
            [
             0,
             "#0d0887"
            ],
            [
             0.1111111111111111,
             "#46039f"
            ],
            [
             0.2222222222222222,
             "#7201a8"
            ],
            [
             0.3333333333333333,
             "#9c179e"
            ],
            [
             0.4444444444444444,
             "#bd3786"
            ],
            [
             0.5555555555555556,
             "#d8576b"
            ],
            [
             0.6666666666666666,
             "#ed7953"
            ],
            [
             0.7777777777777778,
             "#fb9f3a"
            ],
            [
             0.8888888888888888,
             "#fdca26"
            ],
            [
             1,
             "#f0f921"
            ]
           ],
           "sequentialminus": [
            [
             0,
             "#0d0887"
            ],
            [
             0.1111111111111111,
             "#46039f"
            ],
            [
             0.2222222222222222,
             "#7201a8"
            ],
            [
             0.3333333333333333,
             "#9c179e"
            ],
            [
             0.4444444444444444,
             "#bd3786"
            ],
            [
             0.5555555555555556,
             "#d8576b"
            ],
            [
             0.6666666666666666,
             "#ed7953"
            ],
            [
             0.7777777777777778,
             "#fb9f3a"
            ],
            [
             0.8888888888888888,
             "#fdca26"
            ],
            [
             1,
             "#f0f921"
            ]
           ]
          },
          "colorway": [
           "#636efa",
           "#EF553B",
           "#00cc96",
           "#ab63fa",
           "#FFA15A",
           "#19d3f3",
           "#FF6692",
           "#B6E880",
           "#FF97FF",
           "#FECB52"
          ],
          "font": {
           "color": "#2a3f5f"
          },
          "geo": {
           "bgcolor": "white",
           "lakecolor": "white",
           "landcolor": "#E5ECF6",
           "showlakes": true,
           "showland": true,
           "subunitcolor": "white"
          },
          "hoverlabel": {
           "align": "left"
          },
          "hovermode": "closest",
          "mapbox": {
           "style": "light"
          },
          "paper_bgcolor": "white",
          "plot_bgcolor": "#E5ECF6",
          "polar": {
           "angularaxis": {
            "gridcolor": "white",
            "linecolor": "white",
            "ticks": ""
           },
           "bgcolor": "#E5ECF6",
           "radialaxis": {
            "gridcolor": "white",
            "linecolor": "white",
            "ticks": ""
           }
          },
          "scene": {
           "xaxis": {
            "backgroundcolor": "#E5ECF6",
            "gridcolor": "white",
            "gridwidth": 2,
            "linecolor": "white",
            "showbackground": true,
            "ticks": "",
            "zerolinecolor": "white"
           },
           "yaxis": {
            "backgroundcolor": "#E5ECF6",
            "gridcolor": "white",
            "gridwidth": 2,
            "linecolor": "white",
            "showbackground": true,
            "ticks": "",
            "zerolinecolor": "white"
           },
           "zaxis": {
            "backgroundcolor": "#E5ECF6",
            "gridcolor": "white",
            "gridwidth": 2,
            "linecolor": "white",
            "showbackground": true,
            "ticks": "",
            "zerolinecolor": "white"
           }
          },
          "shapedefaults": {
           "line": {
            "color": "#2a3f5f"
           }
          },
          "ternary": {
           "aaxis": {
            "gridcolor": "white",
            "linecolor": "white",
            "ticks": ""
           },
           "baxis": {
            "gridcolor": "white",
            "linecolor": "white",
            "ticks": ""
           },
           "bgcolor": "#E5ECF6",
           "caxis": {
            "gridcolor": "white",
            "linecolor": "white",
            "ticks": ""
           }
          },
          "title": {
           "x": 0.05
          },
          "xaxis": {
           "automargin": true,
           "gridcolor": "white",
           "linecolor": "white",
           "ticks": "",
           "title": {
            "standoff": 15
           },
           "zerolinecolor": "white",
           "zerolinewidth": 2
          },
          "yaxis": {
           "automargin": true,
           "gridcolor": "white",
           "linecolor": "white",
           "ticks": "",
           "title": {
            "standoff": 15
           },
           "zerolinecolor": "white",
           "zerolinewidth": 2
          }
         }
        }
       }
      },
      "image/png": "[encoded data removed]",
      "text/html": [
       "<div>                            <div id=\"5b2e1b83-6446-42ec-9b1a-655d30406bfb\" class=\"plotly-graph-div\" style=\"height:525px; width:100%;\"></div>            <script type=\"text/javascript\">                require([\"plotly\"], function(Plotly) {                    window.PLOTLYENV=window.PLOTLYENV || {};                                    if (document.getElementById(\"5b2e1b83-6446-42ec-9b1a-655d30406bfb\")) {                    Plotly.newPlot(                        \"5b2e1b83-6446-42ec-9b1a-655d30406bfb\",                        [{\"branchvalues\":\"total\",\"customdata\":[[\"Switzerland\"],[\"Brazil\"],[\"Italy\"],[\"Hungary\"],[\"Poland\"],[\"Spain\"],[\"Germany\"],[\"Peru\"],[\"Croatia\"],[\"Romania\"],[\"France\"],[\"Czech Republic\"],[\"Finland\"],[\"Ukraine\"],[\"Austria\"],[\"Argentina\"],[\"Russia\"],[\"United States of America\"],[\"United Kingdom\"],[\"Netherlands\"],[\"Denmark\"],[\"(?)\"]],\"domain\":{\"x\":[0.0,1.0],\"y\":[0.0,1.0]},\"hovertemplate\":\"labels=%{label}<br>nOfissue=%{value}<br>parent=%{parent}<br>id=%{id}<br>countryLabel=%{customdata[0]}<extra></extra>\",\"ids\":[\"all/Switzerland\",\"all/Brazil\",\"all/Italy\",\"all/Hungary\",\"all/Poland\",\"all/Spain\",\"all/Germany\",\"all/Peru\",\"all/Croatia\",\"all/Romania\",\"all/France\",\"all/Czech Republic\",\"all/Finland\",\"all/Ukraine\",\"all/Austria\",\"all/Argentina\",\"all/Russia\",\"all/United States of America\",\"all/United Kingdom\",\"all/Netherlands\",\"all/Denmark\",\"all\"],\"labels\":[\"Switzerland\",\"Brazil\",\"Italy\",\"Hungary\",\"Poland\",\"Spain\",\"Germany\",\"Peru\",\"Croatia\",\"Romania\",\"France\",\"Czech Republic\",\"Finland\",\"Ukraine\",\"Austria\",\"Argentina\",\"Russia\",\"United States of America\",\"United Kingdom\",\"Netherlands\",\"Denmark\",\"all\"],\"marker\":{\"colors\":[\"#FF6692\",\"#B6E880\",\"#FF97FF\",\"#FECB52\",\"#005d5d\",\"#636efa\",\"#1192e8\",\"#EF553B\",\"#00cc96\",\"#ab63fa\",\"#fa4d56\",\"#6929c4\",\"#FFA15A\",\"#19d3f3\",\"#FF6692\",\"#B6E880\",\"#FF97FF\",\"#FECB52\",\"#636efa\",\"#FF4F00\",\"#198038\",\"#EF553B\"]},\"name\":\"\",\"parents\":[\"all\",\"all\",\"all\",\"all\",\"all\",\"all\",\"all\",\"all\",\"all\",\"all\",\"all\",\"all\",\"all\",\"all\",\"all\",\"all\",\"all\",\"all\",\"all\",\"all\",\"all\",\"\"],\"values\":[7,4,46,5,18,78,733,29,1,135,325,73,7,16,7,52,31,33,114,43,29,1786],\"type\":\"treemap\",\"root\":{\"color\":\"lightgrey\"}}],                        {\"template\":{\"data\":{\"histogram2dcontour\":[{\"type\":\"histogram2dcontour\",\"colorbar\":{\"outlinewidth\":0,\"ticks\":\"\"},\"colorscale\":[[0.0,\"#0d0887\"],[0.1111111111111111,\"#46039f\"],[0.2222222222222222,\"#7201a8\"],[0.3333333333333333,\"#9c179e\"],[0.4444444444444444,\"#bd3786\"],[0.5555555555555556,\"#d8576b\"],[0.6666666666666666,\"#ed7953\"],[0.7777777777777778,\"#fb9f3a\"],[0.8888888888888888,\"#fdca26\"],[1.0,\"#f0f921\"]]}],\"choropleth\":[{\"type\":\"choropleth\",\"colorbar\":{\"outlinewidth\":0,\"ticks\":\"\"}}],\"histogram2d\":[{\"type\":\"histogram2d\",\"colorbar\":{\"outlinewidth\":0,\"ticks\":\"\"},\"colorscale\":[[0.0,\"#0d0887\"],[0.1111111111111111,\"#46039f\"],[0.2222222222222222,\"#7201a8\"],[0.3333333333333333,\"#9c179e\"],[0.4444444444444444,\"#bd3786\"],[0.5555555555555556,\"#d8576b\"],[0.6666666666666666,\"#ed7953\"],[0.7777777777777778,\"#fb9f3a\"],[0.8888888888888888,\"#fdca26\"],[1.0,\"#f0f921\"]]}],\"heatmap\":[{\"type\":\"heatmap\",\"colorbar\":{\"outlinewidth\":0,\"ticks\":\"\"},\"colorscale\":[[0.0,\"#0d0887\"],[0.1111111111111111,\"#46039f\"],[0.2222222222222222,\"#7201a8\"],[0.3333333333333333,\"#9c179e\"],[0.4444444444444444,\"#bd3786\"],[0.5555555555555556,\"#d8576b\"],[0.6666666666666666,\"#ed7953\"],[0.7777777777777778,\"#fb9f3a\"],[0.8888888888888888,\"#fdca26\"],[1.0,\"#f0f921\"]]}],\"heatmapgl\":[{\"type\":\"heatmapgl\",\"colorbar\":{\"outlinewidth\":0,\"ticks\":\"\"},\"colorscale\":[[0.0,\"#0d0887\"],[0.1111111111111111,\"#46039f\"],[0.2222222222222222,\"#7201a8\"],[0.3333333333333333,\"#9c179e\"],[0.4444444444444444,\"#bd3786\"],[0.5555555555555556,\"#d8576b\"],[0.6666666666666666,\"#ed7953\"],[0.7777777777777778,\"#fb9f3a\"],[0.8888888888888888,\"#fdca26\"],[1.0,\"#f0f921\"]]}],\"contourcarpet\":[{\"type\":\"contourcarpet\",\"colorbar\":{\"outlinewidth\":0,\"ticks\":\"\"}}],\"contour\":[{\"type\":\"contour\",\"colorbar\":{\"outlinewidth\":0,\"ticks\":\"\"},\"colorscale\":[[0.0,\"#0d0887\"],[0.1111111111111111,\"#46039f\"],[0.2222222222222222,\"#7201a8\"],[0.3333333333333333,\"#9c179e\"],[0.4444444444444444,\"#bd3786\"],[0.5555555555555556,\"#d8576b\"],[0.6666666666666666,\"#ed7953\"],[0.7777777777777778,\"#fb9f3a\"],[0.8888888888888888,\"#fdca26\"],[1.0,\"#f0f921\"]]}],\"surface\":[{\"type\":\"surface\",\"colorbar\":{\"outlinewidth\":0,\"ticks\":\"\"},\"colorscale\":[[0.0,\"#0d0887\"],[0.1111111111111111,\"#46039f\"],[0.2222222222222222,\"#7201a8\"],[0.3333333333333333,\"#9c179e\"],[0.4444444444444444,\"#bd3786\"],[0.5555555555555556,\"#d8576b\"],[0.6666666666666666,\"#ed7953\"],[0.7777777777777778,\"#fb9f3a\"],[0.8888888888888888,\"#fdca26\"],[1.0,\"#f0f921\"]]}],\"mesh3d\":[{\"type\":\"mesh3d\",\"colorbar\":{\"outlinewidth\":0,\"ticks\":\"\"}}],\"scatter\":[{\"fillpattern\":{\"fillmode\":\"overlay\",\"size\":10,\"solidity\":0.2},\"type\":\"scatter\"}],\"parcoords\":[{\"type\":\"parcoords\",\"line\":{\"colorbar\":{\"outlinewidth\":0,\"ticks\":\"\"}}}],\"scatterpolargl\":[{\"type\":\"scatterpolargl\",\"marker\":{\"colorbar\":{\"outlinewidth\":0,\"ticks\":\"\"}}}],\"bar\":[{\"error_x\":{\"color\":\"#2a3f5f\"},\"error_y\":{\"color\":\"#2a3f5f\"},\"marker\":{\"line\":{\"color\":\"#E5ECF6\",\"width\":0.5},\"pattern\":{\"fillmode\":\"overlay\",\"size\":10,\"solidity\":0.2}},\"type\":\"bar\"}],\"scattergeo\":[{\"type\":\"scattergeo\",\"marker\":{\"colorbar\":{\"outlinewidth\":0,\"ticks\":\"\"}}}],\"scatterpolar\":[{\"type\":\"scatterpolar\",\"marker\":{\"colorbar\":{\"outlinewidth\":0,\"ticks\":\"\"}}}],\"histogram\":[{\"marker\":{\"pattern\":{\"fillmode\":\"overlay\",\"size\":10,\"solidity\":0.2}},\"type\":\"histogram\"}],\"scattergl\":[{\"type\":\"scattergl\",\"marker\":{\"colorbar\":{\"outlinewidth\":0,\"ticks\":\"\"}}}],\"scatter3d\":[{\"type\":\"scatter3d\",\"line\":{\"colorbar\":{\"outlinewidth\":0,\"ticks\":\"\"}},\"marker\":{\"colorbar\":{\"outlinewidth\":0,\"ticks\":\"\"}}}],\"scattermapbox\":[{\"type\":\"scattermapbox\",\"marker\":{\"colorbar\":{\"outlinewidth\":0,\"ticks\":\"\"}}}],\"scatterternary\":[{\"type\":\"scatterternary\",\"marker\":{\"colorbar\":{\"outlinewidth\":0,\"ticks\":\"\"}}}],\"scattercarpet\":[{\"type\":\"scattercarpet\",\"marker\":{\"colorbar\":{\"outlinewidth\":0,\"ticks\":\"\"}}}],\"carpet\":[{\"aaxis\":{\"endlinecolor\":\"#2a3f5f\",\"gridcolor\":\"white\",\"linecolor\":\"white\",\"minorgridcolor\":\"white\",\"startlinecolor\":\"#2a3f5f\"},\"baxis\":{\"endlinecolor\":\"#2a3f5f\",\"gridcolor\":\"white\",\"linecolor\":\"white\",\"minorgridcolor\":\"white\",\"startlinecolor\":\"#2a3f5f\"},\"type\":\"carpet\"}],\"table\":[{\"cells\":{\"fill\":{\"color\":\"#EBF0F8\"},\"line\":{\"color\":\"white\"}},\"header\":{\"fill\":{\"color\":\"#C8D4E3\"},\"line\":{\"color\":\"white\"}},\"type\":\"table\"}],\"barpolar\":[{\"marker\":{\"line\":{\"color\":\"#E5ECF6\",\"width\":0.5},\"pattern\":{\"fillmode\":\"overlay\",\"size\":10,\"solidity\":0.2}},\"type\":\"barpolar\"}],\"pie\":[{\"automargin\":true,\"type\":\"pie\"}]},\"layout\":{\"autotypenumbers\":\"strict\",\"colorway\":[\"#636efa\",\"#EF553B\",\"#00cc96\",\"#ab63fa\",\"#FFA15A\",\"#19d3f3\",\"#FF6692\",\"#B6E880\",\"#FF97FF\",\"#FECB52\"],\"font\":{\"color\":\"#2a3f5f\"},\"hovermode\":\"closest\",\"hoverlabel\":{\"align\":\"left\"},\"paper_bgcolor\":\"white\",\"plot_bgcolor\":\"#E5ECF6\",\"polar\":{\"bgcolor\":\"#E5ECF6\",\"angularaxis\":{\"gridcolor\":\"white\",\"linecolor\":\"white\",\"ticks\":\"\"},\"radialaxis\":{\"gridcolor\":\"white\",\"linecolor\":\"white\",\"ticks\":\"\"}},\"ternary\":{\"bgcolor\":\"#E5ECF6\",\"aaxis\":{\"gridcolor\":\"white\",\"linecolor\":\"white\",\"ticks\":\"\"},\"baxis\":{\"gridcolor\":\"white\",\"linecolor\":\"white\",\"ticks\":\"\"},\"caxis\":{\"gridcolor\":\"white\",\"linecolor\":\"white\",\"ticks\":\"\"}},\"coloraxis\":{\"colorbar\":{\"outlinewidth\":0,\"ticks\":\"\"}},\"colorscale\":{\"sequential\":[[0.0,\"#0d0887\"],[0.1111111111111111,\"#46039f\"],[0.2222222222222222,\"#7201a8\"],[0.3333333333333333,\"#9c179e\"],[0.4444444444444444,\"#bd3786\"],[0.5555555555555556,\"#d8576b\"],[0.6666666666666666,\"#ed7953\"],[0.7777777777777778,\"#fb9f3a\"],[0.8888888888888888,\"#fdca26\"],[1.0,\"#f0f921\"]],\"sequentialminus\":[[0.0,\"#0d0887\"],[0.1111111111111111,\"#46039f\"],[0.2222222222222222,\"#7201a8\"],[0.3333333333333333,\"#9c179e\"],[0.4444444444444444,\"#bd3786\"],[0.5555555555555556,\"#d8576b\"],[0.6666666666666666,\"#ed7953\"],[0.7777777777777778,\"#fb9f3a\"],[0.8888888888888888,\"#fdca26\"],[1.0,\"#f0f921\"]],\"diverging\":[[0,\"#8e0152\"],[0.1,\"#c51b7d\"],[0.2,\"#de77ae\"],[0.3,\"#f1b6da\"],[0.4,\"#fde0ef\"],[0.5,\"#f7f7f7\"],[0.6,\"#e6f5d0\"],[0.7,\"#b8e186\"],[0.8,\"#7fbc41\"],[0.9,\"#4d9221\"],[1,\"#276419\"]]},\"xaxis\":{\"gridcolor\":\"white\",\"linecolor\":\"white\",\"ticks\":\"\",\"title\":{\"standoff\":15},\"zerolinecolor\":\"white\",\"automargin\":true,\"zerolinewidth\":2},\"yaxis\":{\"gridcolor\":\"white\",\"linecolor\":\"white\",\"ticks\":\"\",\"title\":{\"standoff\":15},\"zerolinecolor\":\"white\",\"automargin\":true,\"zerolinewidth\":2},\"scene\":{\"xaxis\":{\"backgroundcolor\":\"#E5ECF6\",\"gridcolor\":\"white\",\"linecolor\":\"white\",\"showbackground\":true,\"ticks\":\"\",\"zerolinecolor\":\"white\",\"gridwidth\":2},\"yaxis\":{\"backgroundcolor\":\"#E5ECF6\",\"gridcolor\":\"white\",\"linecolor\":\"white\",\"showbackground\":true,\"ticks\":\"\",\"zerolinecolor\":\"white\",\"gridwidth\":2},\"zaxis\":{\"backgroundcolor\":\"#E5ECF6\",\"gridcolor\":\"white\",\"linecolor\":\"white\",\"showbackground\":true,\"ticks\":\"\",\"zerolinecolor\":\"white\",\"gridwidth\":2}},\"shapedefaults\":{\"line\":{\"color\":\"#2a3f5f\"}},\"annotationdefaults\":{\"arrowcolor\":\"#2a3f5f\",\"arrowhead\":0,\"arrowwidth\":1},\"geo\":{\"bgcolor\":\"white\",\"landcolor\":\"#E5ECF6\",\"subunitcolor\":\"white\",\"showland\":true,\"showlakes\":true,\"lakecolor\":\"white\"},\"title\":{\"x\":0.05},\"mapbox\":{\"style\":\"light\"}}},\"legend\":{\"tracegroupgap\":0},\"margin\":{\"t\":50,\"l\":25,\"r\":25,\"b\":25}},                        {\"responsive\": true}                    ).then(function(){\n",
       "                            \n",
       "var gd = document.getElementById('5b2e1b83-6446-42ec-9b1a-655d30406bfb');\n",
       "var x = new MutationObserver(function (mutations, observer) {{\n",
       "        var display = window.getComputedStyle(gd).display;\n",
       "        if (!display || display === 'none') {{\n",
       "            console.log([gd, 'removed!']);\n",
       "            Plotly.purge(gd);\n",
       "            observer.disconnect();\n",
       "        }}\n",
       "}});\n",
       "\n",
       "// Listen for the removal of the full notebook cells\n",
       "var notebookContainer = gd.closest('#notebook-container');\n",
       "if (notebookContainer) {{\n",
       "    x.observe(notebookContainer, {childList: true});\n",
       "}}\n",
       "\n",
       "// Listen for the clearing of the current output cell\n",
       "var outputEl = gd.closest('.output');\n",
       "if (outputEl) {{\n",
       "    x.observe(outputEl, {childList: true});\n",
       "}}\n",
       "\n",
       "                        })                };                });            </script>        </div>"
      ]
     },
     "metadata": {},
     "output_type": "display_data"
    }
   ],
   "source": [
    "import plotly.express as px\n",
    "\n",
    "fig = px.treemap(countries_number, path=[px.Constant(\"all\"), 'countryLabel'], values='nOfissue',\n",
    "                color='countryLabel',\n",
    "                color_discrete_map= {\n",
    "                    \"France\": \"#fa4d56\",\n",
    "                    \"Germany\": \"#1192e8\",\n",
    "                    \"Czech Republic\": \"#6929c4\",\n",
    "                    \"Netherlands\": \"#FF4F00\",\n",
    "                    \"Poland\": \"#005d5d\",\n",
    "                    \"Denmark\" : \"#198038\"  })\n",
    "fig.update_traces(root_color=\"lightgrey\")\n",
    "fig.update_layout(margin = dict(t=50, l=25, r=25, b=25))\n",
    "fig.write_image(\"treemap_countries_ag.png\", scale=10) \n",
    "fig.show()"
   ]
  }
 ],
 "metadata": {
  "kernelspec": {
   "display_name": "Python 3 (ipykernel)",
   "language": "python",
   "name": "python3"
  },
  "language_info": {
   "codemirror_mode": {
    "name": "ipython",
    "version": 3
   },
   "file_extension": ".py",
   "mimetype": "text/x-python",
   "name": "python",
   "nbconvert_exporter": "python",
   "pygments_lexer": "ipython3",
   "version": "3.10.8"
  }
 },
 "nbformat": 4,
 "nbformat_minor": 5
}
