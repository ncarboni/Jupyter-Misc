{
 "cells": [
  {
   "cell_type": "code",
   "execution_count": 10,
   "id": "a0e493c0-5846-410e-81b4-1d975e9cfc10",
   "metadata": {},
   "outputs": [],
   "source": [
    "import pandas as pd\n",
    "import csv\n",
    "from rapidfuzz import fuzz\n",
    "from fuzzywuzzy import process\n",
    "from tqdm import tqdm_notebook as tqdm"
   ]
  },
  {
   "cell_type": "code",
   "execution_count": 4,
   "id": "2de6619f-5a82-4624-a5f3-2053af581524",
   "metadata": {},
   "outputs": [],
   "source": [
    "df = pd.read_csv('/Users/carboni/Downloads/revues_ag.txt')"
   ]
  },
  {
   "cell_type": "code",
   "execution_count": 5,
   "id": "2e075ef2-ce07-4584-83dc-6f6c551a2a92",
   "metadata": {},
   "outputs": [
    {
     "data": {
      "text/html": [
       "<div>\n",
       "<style scoped>\n",
       "    .dataframe tbody tr th:only-of-type {\n",
       "        vertical-align: middle;\n",
       "    }\n",
       "\n",
       "    .dataframe tbody tr th {\n",
       "        vertical-align: top;\n",
       "    }\n",
       "\n",
       "    .dataframe thead th {\n",
       "        text-align: right;\n",
       "    }\n",
       "</style>\n",
       "<table border=\"1\" class=\"dataframe\">\n",
       "  <thead>\n",
       "    <tr style=\"text-align: right;\">\n",
       "      <th></th>\n",
       "      <th>Titre</th>\n",
       "      <th>query</th>\n",
       "      <th>media url</th>\n",
       "      <th>fondation</th>\n",
       "      <th>région</th>\n",
       "      <th>Disparition</th>\n",
       "      <th>ville, pays</th>\n",
       "      <th>ville</th>\n",
       "      <th>pays</th>\n",
       "      <th>animateurs</th>\n",
       "      <th>Nb</th>\n",
       "      <th>Notes</th>\n",
       "    </tr>\n",
       "  </thead>\n",
       "  <tbody>\n",
       "    <tr>\n",
       "      <th>0</th>\n",
       "      <td>14 rue du Dragon</td>\n",
       "      <td>14 rue du dragon</td>\n",
       "      <td>NaN</td>\n",
       "      <td>1933</td>\n",
       "      <td>Paris</td>\n",
       "      <td>1934</td>\n",
       "      <td>Paris, France</td>\n",
       "      <td>Paris</td>\n",
       "      <td>France</td>\n",
       "      <td>Christian Zervos</td>\n",
       "      <td>5</td>\n",
       "      <td>NaN</td>\n",
       "    </tr>\n",
       "    <tr>\n",
       "      <th>1</th>\n",
       "      <td>25</td>\n",
       "      <td>25</td>\n",
       "      <td>NaN</td>\n",
       "      <td>1925</td>\n",
       "      <td>Central Europe</td>\n",
       "      <td>1925</td>\n",
       "      <td>Trieste, Italie</td>\n",
       "      <td>Trieste</td>\n",
       "      <td>Italie</td>\n",
       "      <td>G. Carmelich, E. M. Dolfi</td>\n",
       "      <td>NaN</td>\n",
       "      <td>NaN</td>\n",
       "    </tr>\n",
       "    <tr>\n",
       "      <th>2</th>\n",
       "      <td>291 [full text]</td>\n",
       "      <td>291 [full text]</td>\n",
       "      <td>NaN</td>\n",
       "      <td>1915</td>\n",
       "      <td>United States</td>\n",
       "      <td>1916</td>\n",
       "      <td>New York, USA</td>\n",
       "      <td>New York</td>\n",
       "      <td>USA</td>\n",
       "      <td>Paul B. Haviland, Marius de Zayas and Agnes Er...</td>\n",
       "      <td>12</td>\n",
       "      <td>NaN</td>\n",
       "    </tr>\n",
       "    <tr>\n",
       "      <th>3</th>\n",
       "      <td>2x2</td>\n",
       "      <td>2x2</td>\n",
       "      <td>NaN</td>\n",
       "      <td>1922</td>\n",
       "      <td>Central Europe</td>\n",
       "      <td>NaN</td>\n",
       "      <td>Vienne, Austria</td>\n",
       "      <td>Vienne</td>\n",
       "      <td>Austria</td>\n",
       "      <td>Lajos Kassák</td>\n",
       "      <td>NaN</td>\n",
       "      <td>NaN</td>\n",
       "    </tr>\n",
       "    <tr>\n",
       "      <th>4</th>\n",
       "      <td>391 [full text]</td>\n",
       "      <td>391 [full text]</td>\n",
       "      <td>NaN</td>\n",
       "      <td>1917</td>\n",
       "      <td>Spain</td>\n",
       "      <td>1924</td>\n",
       "      <td>Barcelone, Spain</td>\n",
       "      <td>Barcelone</td>\n",
       "      <td>Spain</td>\n",
       "      <td>Picabia</td>\n",
       "      <td>19</td>\n",
       "      <td>Barcelona (N° 1-4), New York (N° 5-7), Zurich ...</td>\n",
       "    </tr>\n",
       "  </tbody>\n",
       "</table>\n",
       "</div>"
      ],
      "text/plain": [
       "              Titre             query media url fondation          région  \\\n",
       "0  14 rue du Dragon  14 rue du dragon       NaN      1933           Paris   \n",
       "1                25                25       NaN      1925  Central Europe   \n",
       "2   291 [full text]   291 [full text]       NaN      1915   United States   \n",
       "3               2x2               2x2       NaN      1922  Central Europe   \n",
       "4   391 [full text]   391 [full text]       NaN      1917           Spain   \n",
       "\n",
       "  Disparition       ville, pays      ville     pays  \\\n",
       "0        1934     Paris, France      Paris   France   \n",
       "1        1925   Trieste, Italie    Trieste   Italie   \n",
       "2        1916     New York, USA   New York      USA   \n",
       "3         NaN   Vienne, Austria     Vienne  Austria   \n",
       "4        1924  Barcelone, Spain  Barcelone    Spain   \n",
       "\n",
       "                                          animateurs   Nb  \\\n",
       "0                                   Christian Zervos    5   \n",
       "1                          G. Carmelich, E. M. Dolfi  NaN   \n",
       "2  Paul B. Haviland, Marius de Zayas and Agnes Er...   12   \n",
       "3                                       Lajos Kassák  NaN   \n",
       "4                                            Picabia   19   \n",
       "\n",
       "                                               Notes  \n",
       "0                                                NaN  \n",
       "1                                                NaN  \n",
       "2                                                NaN  \n",
       "3                                                NaN  \n",
       "4  Barcelona (N° 1-4), New York (N° 5-7), Zurich ...  "
      ]
     },
     "execution_count": 5,
     "metadata": {},
     "output_type": "execute_result"
    }
   ],
   "source": [
    "df.head()"
   ]
  },
  {
   "cell_type": "code",
   "execution_count": 8,
   "id": "23a679cb-7848-4d71-ace5-7c0eaa299951",
   "metadata": {},
   "outputs": [],
   "source": [
    "with open('/Users/carboni/Downloads/corpus_titles.csv', 'r') as f:\n",
    "    reader = csv.reader(f)\n",
    "    f500_list = list(reader)"
   ]
  },
  {
   "cell_type": "code",
   "execution_count": null,
   "id": "b1f9a969-5f6f-45fb-a9df-312629a21c3c",
   "metadata": {},
   "outputs": [],
   "source": [
    "f500_list"
   ]
  },
  {
   "cell_type": "code",
   "execution_count": 11,
   "id": "c7f9d4a2-7e61-4b1d-9c60-d25aa3079c29",
   "metadata": {},
   "outputs": [
    {
     "name": "stderr",
     "output_type": "stream",
     "text": [
      "/var/folders/nw/zm4zl9xn4_d_rq3fnglst3n80000gp/T/ipykernel_3261/311062129.py:2: TqdmDeprecationWarning: This function will be removed in tqdm==5.0.0\n",
      "Please use `tqdm.notebook.tqdm` instead of `tqdm.tqdm_notebook`\n",
      "  for company in tqdm(df['Titre']):\n"
     ]
    },
    {
     "data": {
      "application/vnd.jupyter.widget-view+json": {
       "model_id": "d4ea1c76bd834e96b31bda9b3bd50315",
       "version_major": 2,
       "version_minor": 0
      },
      "text/plain": [
       "  0%|          | 0/526 [00:00<?, ?it/s]"
      ]
     },
     "metadata": {},
     "output_type": "display_data"
    }
   ],
   "source": [
    "f500_1 = []\n",
    "for company in tqdm(df['Titre']):\n",
    "    if type(company) != str: # Checking base case. \n",
    "        pass\n",
    "    else:\n",
    "        match = process.extractOne(company, f500_list) #Returns tuple of best match and percent fit.\n",
    "        f500_1.append(company)\n",
    "        f500_1.append(match)"
   ]
  },
  {
   "cell_type": "code",
   "execution_count": 15,
   "id": "9605ec53-0119-4222-b895-cb6a8d9947c1",
   "metadata": {},
   "outputs": [
    {
     "data": {
      "text/plain": [
       "(['Revista Patrimonio cultural Nº 25'], 60)"
      ]
     },
     "execution_count": 15,
     "metadata": {},
     "output_type": "execute_result"
    }
   ],
   "source": [
    "f500_1[3]"
   ]
  }
 ],
 "metadata": {
  "kernelspec": {
   "display_name": "Python 3 (ipykernel)",
   "language": "python",
   "name": "python3"
  },
  "language_info": {
   "codemirror_mode": {
    "name": "ipython",
    "version": 3
   },
   "file_extension": ".py",
   "mimetype": "text/x-python",
   "name": "python",
   "nbconvert_exporter": "python",
   "pygments_lexer": "ipython3",
   "version": "3.10.8"
  }
 },
 "nbformat": 4,
 "nbformat_minor": 5
}
