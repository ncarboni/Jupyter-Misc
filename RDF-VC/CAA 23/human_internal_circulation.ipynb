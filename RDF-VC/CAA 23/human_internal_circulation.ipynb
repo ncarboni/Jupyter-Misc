{
 "cells": [
  {
   "cell_type": "markdown",
   "id": "24c983ba-260e-4c69-af10-08c446cbf8fe",
   "metadata": {},
   "source": [
    "# Chains of circulations"
   ]
  },
  {
   "cell_type": "markdown",
   "id": "26e13268-c1ad-4b58-8d02-fc9cf2f750a1",
   "metadata": {},
   "source": [
    "<font size=\"4\">which AG journal(s) initiate(s) chains of circulations within the AG community</font>"
   ]
  },
  {
   "cell_type": "markdown",
   "id": "429f19ce-c598-45d2-a6bb-ea5a56491e94",
   "metadata": {
    "tags": []
   },
   "source": [
    "## Data Retrieval"
   ]
  },
  {
   "cell_type": "code",
   "execution_count": 2,
   "id": "92643912-2714-417c-a1a1-063570cebac1",
   "metadata": {},
   "outputs": [],
   "source": [
    "from SPARQLWrapper import SPARQLWrapper, JSON\n",
    "import pandas as pd\n",
    "import sparql_dataframe\n",
    "import geopandas as gpd\n",
    "from shapely import wkt\n",
    "import matplotlib.pyplot as plt\n",
    "import folium\n",
    "import VizKG.visualize as vkg\n",
    "import plotly.express as px\n",
    "import markdown as md"
   ]
  },
  {
   "cell_type": "code",
   "execution_count": 3,
   "id": "24de7cd0-ac2d-4fe4-a895-2f60c02eb14d",
   "metadata": {
    "tags": []
   },
   "outputs": [],
   "source": [
    "endpoint = \"http://localhost:3030/VCHuman/sparql\""
   ]
  },
  {
   "cell_type": "code",
   "execution_count": 4,
   "id": "82cb2a60-18a9-4035-af30-4f1169d5da6c",
   "metadata": {},
   "outputs": [],
   "source": [
    "q =\"\"\"\n",
    "\n",
    "PREFIX crmdig: <http://www.ics.forth.gr/isl/CRMdig/>\n",
    "PREFIX frbroo: <http://iflastandards.info/ns/fr/frbr/frbroo/>\n",
    "PREFIX crm: <http://www.cidoc-crm.org/cidoc-crm/>\n",
    "PREFIX rdf: <http://www.w3.org/1999/02/22-rdf-syntax-ns#>\n",
    "PREFIX rdfs: <http://www.w3.org/2000/01/rdf-schema#>\n",
    "PREFIX aat: <http://vocab.getty.edu/aat/>\n",
    "\n",
    "\n",
    "SELECT DISTINCT ?cluster WHERE {\n",
    "\n",
    "                ?cluster crm:P148_has_component ?image ;\n",
    "                         crm:P1_is_identified_by ?identifier .\n",
    "                ?image crm:P128i_is_carried_by ?issue . \n",
    "                ?issue crm:P2_has_type <https://lod.unige.ch/vc/type/988EE2E2-172C-3104-8DAA-B4D629E814AE> .\n",
    "      \n",
    "                FILTER NOT EXISTS {\n",
    "                         VALUES ?trash { <https://visualcontagions.unige.ch/explore/duplicates/clusters/0000e8009061dc5b29fb17872c9c13ac1a64fe42e8b94af2481e59886f28d0156fde0ceb> <https://visualcontagions.unige.ch/explore/duplicates/clusters/00026200b3d151e5c855c651b2a0bea2c9116be1a5e5b7141bacc846b12d3708338ff615> <https://visualcontagions.unige.ch/explore/duplicates/clusters/0000ca00a432dfdd48c6534088f51065c6f2983133e467314d5d6a4560ae5ea16de6f359> <https://visualcontagions.unige.ch/explore/duplicates/clusters/0000e8009061dc5b29fb17872c9c13ac1a64fe42e8b94af2481e59886f28d0156fde0ceb> <https://visualcontagions.unige.ch/explore/duplicates/clusters/00008a005e931cc1f1dc0dc0f82d3ee457c5b642600420ae9313b50ad6c0d75b41b8f1c0> <https://visualcontagions.unige.ch/explore/duplicates/clusters/0001bd00a370039869e9e1bb229cd73ddc231b51110e135de82d755ef72e3b367a5411e9> <https://visualcontagions.unige.ch/explore/duplicates/clusters/000109002f020235176a28018a0944ed84b4b7ddbed8737474caaa5c0b54922a4cd6073c> <https://visualcontagions.unige.ch/explore/duplicates/clusters/00024100820c145c252454de492f79784d2c1df4b3a13d9eabf0179f0e0305b516a764ba> <https://visualcontagions.unige.ch/explore/duplicates/clusters/0003ec00036e6aa8355e0f69196bf6006defd506c93e04722b54cf7831c66c3c3b8dbb05> <https://visualcontagions.unige.ch/explore/duplicates/clusters/00000200f89ef4fb7b639ce5e811ec9ec425c3da3b92dd5edb5d9e64fbf8d010f9d96d71> <https://visualcontagions.unige.ch/explore/duplicates/clusters/0000040066b73cf2a0b0742a0aceecc4dd1724b52dc7afbdc4b48432ee3f0336124798aa> <https://visualcontagions.unige.ch/explore/duplicates/clusters/00001200bed2a9ade1689744b661b58c1d93bcd442cbeafcf07b6460d0df1b33d65f5b86> <https://visualcontagions.unige.ch/explore/duplicates/clusters/000022005d01a84e38421213b8816fd78e4aef0890445f65f81de2ee1459980a6335942a> <https://visualcontagions.unige.ch/explore/duplicates/clusters/00001600fe63944181de71b69fc3900867dc30611de913a214c5d42ac2e7ce3dd7cff99f> <https://visualcontagions.unige.ch/explore/duplicates/clusters/000012009d66187e47b439dd2c2e6668dd9945209f40685c7039c56c563a4aa9bbfa9718> <https://visualcontagions.unige.ch/explore/duplicates/clusters/00000d0069b0d3bd802ae948c1f53b96391afeb46fcd505e999cb56cd37406508e4ef418> <https://visualcontagions.unige.ch/explore/duplicates/clusters/00000b002057ee6db2a8ea72c04e36379e7b035a4d2911a1155b5652230551866825ab90> <https://visualcontagions.unige.ch/explore/duplicates/clusters/00000b0003d9d58d012451307b2ef5fbd75af31eec0c5f1afcdefb10b4ab8fbc38d15615> <https://visualcontagions.unige.ch/explore/duplicates/clusters/00000a00609f4e0b53f5b2ca7afaea13c7a3ba187b05ae3bdd1108598e5226a7aaf18ded> <https://visualcontagions.unige.ch/explore/duplicates/clusters/000008005b033c554cfd743ed238cd05b35f46fe7de56720622971b00aecaf985896fe4a> <https://visualcontagions.unige.ch/explore/duplicates/clusters/00000600d4e85eaf39fb676e999b8d2466a4455d48d70791ff2d4dd1cc4653c248264df3> <https://visualcontagions.unige.ch/explore/duplicates/clusters/00002a00a60bf43cf1fb052165221ee1727e977b2ecf99f820cbbd426d12c6aa6a37d9e4> <https://visualcontagions.unige.ch/explore/duplicates/clusters/0000310098549f748176d2f4efedf76773dca2aafeaf8db5f746daf37a50dd3d0819dbb3> <https://visualcontagions.unige.ch/explore/duplicates/clusters/0003d500d8362a66c04fe8273b00d9470929fd918a6dc6c4395f060e0c5e270f12f54f5c> <https://visualcontagions.unige.ch/explore/duplicates/clusters/0003ff00a6da95a6b61b8c47220d9839b7b4b6afe26daad02ee0c0c291c40ad1bb0bec90> <https://visualcontagions.unige.ch/explore/duplicates/clusters/0000c9000f961bd877cdc346bd51b76a74b698924ae6960e3bbfa0986e7aea7da730930c> <https://visualcontagions.unige.ch/explore/duplicates/clusters/0000d000ecf8a0329d2530d3eb601e077c0e5c298db100b8316c0af9232e41e8a7e8e4ef> <https://visualcontagions.unige.ch/explore/duplicates/clusters/000403008f37a6852f6339eefe0e74225b20553b5d641b32015b15d40ca4d216a540ae2f> <https://visualcontagions.unige.ch/explore/duplicates/clusters/00002400d7b4ea535865b256e1c13f0d6505182ead425183c8f919bfa3309aab1dae43dc> <https://visualcontagions.unige.ch/explore/duplicates/clusters/00001f00c18ad27c34a66610ece997934ce4bc1aa5fbcdad562e58a52ab86792352bfb9c> <https://visualcontagions.unige.ch/explore/duplicates/clusters/00002b000918272590bc01401e6367c6448a222445fe13cabec0a2a38a7b38e598cea622> <https://visualcontagions.unige.ch/explore/duplicates/clusters/000057008d59ea30b6175a9c5c32ebf3caa2c27cce0d569fd3b2a899ebf0107086c3a197> <https://visualcontagions.unige.ch/explore/duplicates/clusters/000028007bf1c23529418f9fba6de2955caa8fa4e1572632151c41a9f1b20c1c5a45a1c5> <https://visualcontagions.unige.ch/explore/duplicates/clusters/00005a009d47a1932fcbbe7ff04ac3017fa6d167f06fe3287477d6c1cedae50451cd67dc> <https://visualcontagions.unige.ch/explore/duplicates/clusters/00001f0087307813ef1d16a6def5d96b8b6550a707da4fd6702aa64d8425b29e6826f049> <https://visualcontagions.unige.ch/explore/duplicates/clusters/00001c0000968f38146238bab2f376c40b0fca62e734f151a85e2ecce4981e0050eb57a0> <https://visualcontagions.unige.ch/explore/duplicates/clusters/00001d00ffc088f4f254a86d70e0a3495bbf5f288b1373e96c6875d487cd1b14076e2702> <https://visualcontagions.unige.ch/explore/duplicates/clusters/00001d000d01d183fa765191f6028c4b69a7e1c9c9ed1d9a3ae14bb9a4731b5172f4b337> <https://visualcontagions.unige.ch/explore/duplicates/clusters/00001c002016002f400721bfa0a32f16e887e64cc4e092cd626a7fb7c426545e0757e7f1> <https://visualcontagions.unige.ch/explore/duplicates/clusters/0002910088db3f58b1c573c281f266c695c21d421c9337abca57d4a51440e13a2f9c5893> <https://visualcontagions.unige.ch/explore/duplicates/clusters/00028200ce1d42e579bb46d53b1b038b5f23bf88a8057f5d5cb9806d9c87dee28477ecc4>\n",
    "                                       }.\n",
    "                                        \n",
    "                          ?cluster crm:P1_is_identified_by  ?trash . }\n",
    "                \n",
    "    } \n",
    "\n",
    "\"\"\""
   ]
  },
  {
   "cell_type": "code",
   "execution_count": 5,
   "id": "c5f91f64-f24e-43fe-bf32-c8fee009973a",
   "metadata": {},
   "outputs": [],
   "source": [
    "df = sparql_dataframe.get(endpoint, q)"
   ]
  },
  {
   "cell_type": "code",
   "execution_count": 6,
   "id": "2f91aec4-7f06-4b99-ac59-6fccb2ffcfe4",
   "metadata": {},
   "outputs": [
    {
     "data": {
      "text/html": [
       "<div>\n",
       "<style scoped>\n",
       "    .dataframe tbody tr th:only-of-type {\n",
       "        vertical-align: middle;\n",
       "    }\n",
       "\n",
       "    .dataframe tbody tr th {\n",
       "        vertical-align: top;\n",
       "    }\n",
       "\n",
       "    .dataframe thead th {\n",
       "        text-align: right;\n",
       "    }\n",
       "</style>\n",
       "<table border=\"1\" class=\"dataframe\">\n",
       "  <thead>\n",
       "    <tr style=\"text-align: right;\">\n",
       "      <th></th>\n",
       "      <th>cluster</th>\n",
       "    </tr>\n",
       "  </thead>\n",
       "  <tbody>\n",
       "    <tr>\n",
       "      <th>0</th>\n",
       "      <td>https://lod.unige.ch/vc/cluster/human/353</td>\n",
       "    </tr>\n",
       "    <tr>\n",
       "      <th>1</th>\n",
       "      <td>https://lod.unige.ch/vc/cluster/human/352</td>\n",
       "    </tr>\n",
       "    <tr>\n",
       "      <th>2</th>\n",
       "      <td>https://lod.unige.ch/vc/cluster/human/376</td>\n",
       "    </tr>\n",
       "    <tr>\n",
       "      <th>3</th>\n",
       "      <td>https://lod.unige.ch/vc/cluster/human/210</td>\n",
       "    </tr>\n",
       "    <tr>\n",
       "      <th>4</th>\n",
       "      <td>https://lod.unige.ch/vc/cluster/human/331</td>\n",
       "    </tr>\n",
       "    <tr>\n",
       "      <th>...</th>\n",
       "      <td>...</td>\n",
       "    </tr>\n",
       "    <tr>\n",
       "      <th>77</th>\n",
       "      <td>https://lod.unige.ch/vc/cluster/human/366</td>\n",
       "    </tr>\n",
       "    <tr>\n",
       "      <th>78</th>\n",
       "      <td>https://lod.unige.ch/vc/cluster/human/402</td>\n",
       "    </tr>\n",
       "    <tr>\n",
       "      <th>79</th>\n",
       "      <td>https://lod.unige.ch/vc/cluster/human/57</td>\n",
       "    </tr>\n",
       "    <tr>\n",
       "      <th>80</th>\n",
       "      <td>https://lod.unige.ch/vc/cluster/human/335</td>\n",
       "    </tr>\n",
       "    <tr>\n",
       "      <th>81</th>\n",
       "      <td>https://lod.unige.ch/vc/cluster/human/228</td>\n",
       "    </tr>\n",
       "  </tbody>\n",
       "</table>\n",
       "<p>82 rows × 1 columns</p>\n",
       "</div>"
      ],
      "text/plain": [
       "                                      cluster\n",
       "0   https://lod.unige.ch/vc/cluster/human/353\n",
       "1   https://lod.unige.ch/vc/cluster/human/352\n",
       "2   https://lod.unige.ch/vc/cluster/human/376\n",
       "3   https://lod.unige.ch/vc/cluster/human/210\n",
       "4   https://lod.unige.ch/vc/cluster/human/331\n",
       "..                                        ...\n",
       "77  https://lod.unige.ch/vc/cluster/human/366\n",
       "78  https://lod.unige.ch/vc/cluster/human/402\n",
       "79   https://lod.unige.ch/vc/cluster/human/57\n",
       "80  https://lod.unige.ch/vc/cluster/human/335\n",
       "81  https://lod.unige.ch/vc/cluster/human/228\n",
       "\n",
       "[82 rows x 1 columns]"
      ]
     },
     "execution_count": 6,
     "metadata": {},
     "output_type": "execute_result"
    }
   ],
   "source": [
    "df"
   ]
  },
  {
   "cell_type": "code",
   "execution_count": 7,
   "id": "2f23d4b8-75ee-4cf4-9dc2-4656e2dccd63",
   "metadata": {},
   "outputs": [],
   "source": [
    "df['cluster'] = '<' + df['cluster'].astype(str)\n",
    "df['cluster'] = df['cluster'].astype(str) +  '>' \n",
    "cluster = df[\"cluster\"].values.tolist()"
   ]
  },
  {
   "cell_type": "code",
   "execution_count": 8,
   "id": "bb014755-f252-4e69-b23a-c2cc4bfb2ead",
   "metadata": {},
   "outputs": [
    {
     "name": "stdout",
     "output_type": "stream",
     "text": [
      "We retrieved 82 clusters with at least one image from an AG journal\n"
     ]
    }
   ],
   "source": [
    "n_cluster = len(cluster)\n",
    "print(\"We retrieved {} clusters with at least one image from an AG journal\".format(n_cluster))"
   ]
  },
  {
   "cell_type": "markdown",
   "id": "ca9382bc-2df3-46ea-83ec-d2756c5056ee",
   "metadata": {},
   "source": [
    "<font size=\"4\">The list should be used for another SPARQL query, so a separator between the uri should be added </font>"
   ]
  },
  {
   "cell_type": "code",
   "execution_count": 9,
   "id": "6ba46ed4-31cb-4150-a3a8-5644b937b294",
   "metadata": {},
   "outputs": [],
   "source": [
    "separator = ' '\n",
    "values = separator.join(cluster)"
   ]
  },
  {
   "cell_type": "markdown",
   "id": "ef53b366-3e8b-4b48-a3d9-183fa53dda08",
   "metadata": {},
   "source": [
    "<font size=\"4\">We use the results obtained in the first query for a second query</font>"
   ]
  },
  {
   "cell_type": "code",
   "execution_count": 10,
   "id": "ee3345c2-dc3a-4f6c-b70e-0da4d187987f",
   "metadata": {
    "tags": []
   },
   "outputs": [],
   "source": [
    "q1= \"\"\"\n",
    "    PREFIX crmdig: <http://www.ics.forth.gr/isl/CRMdig/>\n",
    "    PREFIX frbroo: <http://iflastandards.info/ns/fr/frbr/frbroo/>\n",
    "    PREFIX crm: <http://www.cidoc-crm.org/cidoc-crm/>\n",
    "    PREFIX rdf: <http://www.w3.org/1999/02/22-rdf-syntax-ns#>\n",
    "    PREFIX rdfs: <http://www.w3.org/2000/01/rdf-schema#>\n",
    "    PREFIX aat: <http://vocab.getty.edu/aat/>\n",
    "    \n",
    "    SELECT DISTINCT ?cluster ?identifier ?image ?issueLabel ?countryLabel ?labelType ?cityLabel ?begin {\n",
    "    VALUES ?cluster { %s } .\n",
    "    \n",
    "    ?cluster crm:P148_has_component ?image ;\n",
    "           \tcrm:P1_is_identified_by ?identifier .\n",
    "            \n",
    "            ?image crm:P128i_is_carried_by ?issue . \n",
    "\t\t\n",
    "        ?issue crm:P108i_was_produced_by ?production ;\n",
    "                rdfs:label ?issueLabel ;\n",
    "                crm:P2_has_type ?typeIssue .\n",
    "        ?typeIssue rdfs:label ?labelType .\n",
    "        \n",
    "        ?production crm:P4_has_time-span ?time ;\n",
    "                     crm:P7_took_place_at ?country .\n",
    "                     \n",
    "        ?time a crm:E52_Time-Span;\n",
    "                crm:P81a_end_of_the_begin ?begin . \n",
    "        \n",
    "        ?country crm:P2_has_type aat:300387506 ;\n",
    "                rdfs:label ?countryLabel .\n",
    "        \n",
    "        OPTIONAL {\n",
    "        \n",
    "        ?production crm:P7_took_place_at ?city .\n",
    "        ?city crm:P2_has_type aat:300008389 ;\n",
    "                rdfs:label ?cityLabel .\n",
    "        }\n",
    "          \n",
    "            \n",
    "    }    \n",
    "    \n",
    "\"\"\" % values"
   ]
  },
  {
   "cell_type": "code",
   "execution_count": 11,
   "id": "66e12895-6ff0-47e0-9394-48e7d1b303e9",
   "metadata": {},
   "outputs": [],
   "source": [
    "df1 = sparql_dataframe.get(endpoint, q1)"
   ]
  },
  {
   "cell_type": "code",
   "execution_count": 12,
   "id": "8dc41bc3-7a0b-4585-869e-9703ee62c087",
   "metadata": {},
   "outputs": [
    {
     "data": {
      "text/html": [
       "<div>\n",
       "<style scoped>\n",
       "    .dataframe tbody tr th:only-of-type {\n",
       "        vertical-align: middle;\n",
       "    }\n",
       "\n",
       "    .dataframe tbody tr th {\n",
       "        vertical-align: top;\n",
       "    }\n",
       "\n",
       "    .dataframe thead th {\n",
       "        text-align: right;\n",
       "    }\n",
       "</style>\n",
       "<table border=\"1\" class=\"dataframe\">\n",
       "  <thead>\n",
       "    <tr style=\"text-align: right;\">\n",
       "      <th></th>\n",
       "      <th>cluster</th>\n",
       "      <th>identifier</th>\n",
       "      <th>image</th>\n",
       "      <th>issueLabel</th>\n",
       "      <th>countryLabel</th>\n",
       "      <th>labelType</th>\n",
       "      <th>cityLabel</th>\n",
       "      <th>begin</th>\n",
       "    </tr>\n",
       "  </thead>\n",
       "  <tbody>\n",
       "    <tr>\n",
       "      <th>0</th>\n",
       "      <td>https://lod.unige.ch/vc/cluster/human/353</td>\n",
       "      <td>https://visualcontagions.unige.ch/explore/anal...</td>\n",
       "      <td>https://gallica.bnf.fr/iiif/ark:/12148/bpt6k97...</td>\n",
       "      <td>Cahiers d'art (Paris)</td>\n",
       "      <td>France</td>\n",
       "      <td>Avant-garde Journal</td>\n",
       "      <td>Paris</td>\n",
       "      <td>1929-01-01T00:00:00</td>\n",
       "    </tr>\n",
       "    <tr>\n",
       "      <th>1</th>\n",
       "      <td>https://lod.unige.ch/vc/cluster/human/353</td>\n",
       "      <td>https://visualcontagions.unige.ch/explore/anal...</td>\n",
       "      <td>https://iiif.unige.ch/iiif/2/fedora_ug8024103;...</td>\n",
       "      <td>Vell i Nou</td>\n",
       "      <td>Spain</td>\n",
       "      <td>Art Journal</td>\n",
       "      <td>Barcelona</td>\n",
       "      <td>1919-11-01T00:00:00</td>\n",
       "    </tr>\n",
       "    <tr>\n",
       "      <th>2</th>\n",
       "      <td>https://lod.unige.ch/vc/cluster/human/353</td>\n",
       "      <td>https://visualcontagions.unige.ch/explore/anal...</td>\n",
       "      <td>https://gallica.bnf.fr/iiif/ark:/12148/bpt6k32...</td>\n",
       "      <td>Les Soirées de Paris</td>\n",
       "      <td>France</td>\n",
       "      <td>Avant-garde Journal</td>\n",
       "      <td>Paris</td>\n",
       "      <td>1914-01-01T00:00:00</td>\n",
       "    </tr>\n",
       "    <tr>\n",
       "      <th>3</th>\n",
       "      <td>https://lod.unige.ch/vc/cluster/human/353</td>\n",
       "      <td>https://visualcontagions.unige.ch/explore/anal...</td>\n",
       "      <td>https://gallica.bnf.fr/iiif/ark:/12148/bpt6k10...</td>\n",
       "      <td>Les Soirées de Paris</td>\n",
       "      <td>France</td>\n",
       "      <td>Avant-garde Journal</td>\n",
       "      <td>Paris</td>\n",
       "      <td>1914-05-15T00:00:00</td>\n",
       "    </tr>\n",
       "    <tr>\n",
       "      <th>4</th>\n",
       "      <td>https://lod.unige.ch/vc/cluster/human/352</td>\n",
       "      <td>https://visualcontagions.unige.ch/explore/anal...</td>\n",
       "      <td>https://gallica.bnf.fr/iiif/ark:/12148/bpt6k97...</td>\n",
       "      <td>Cahiers d'art (Paris)</td>\n",
       "      <td>France</td>\n",
       "      <td>Avant-garde Journal</td>\n",
       "      <td>Paris</td>\n",
       "      <td>1929-01-01T00:00:00</td>\n",
       "    </tr>\n",
       "    <tr>\n",
       "      <th>...</th>\n",
       "      <td>...</td>\n",
       "      <td>...</td>\n",
       "      <td>...</td>\n",
       "      <td>...</td>\n",
       "      <td>...</td>\n",
       "      <td>...</td>\n",
       "      <td>...</td>\n",
       "      <td>...</td>\n",
       "    </tr>\n",
       "    <tr>\n",
       "      <th>968</th>\n",
       "      <td>https://lod.unige.ch/vc/cluster/human/228</td>\n",
       "      <td>https://visualcontagions.unige.ch/explore/anal...</td>\n",
       "      <td>https://digi.ub.uni-heidelberg.de/iiif/2/kunst...</td>\n",
       "      <td>Der Kunstwart</td>\n",
       "      <td>Germany</td>\n",
       "      <td>Art Journal</td>\n",
       "      <td>Munich</td>\n",
       "      <td>1928-01-01T00:00:00</td>\n",
       "    </tr>\n",
       "    <tr>\n",
       "      <th>969</th>\n",
       "      <td>https://lod.unige.ch/vc/cluster/human/228</td>\n",
       "      <td>https://visualcontagions.unige.ch/explore/anal...</td>\n",
       "      <td>https://gallica.bnf.fr/iiif/ark:/12148/bpt6k61...</td>\n",
       "      <td>La Renaissance</td>\n",
       "      <td>France</td>\n",
       "      <td>Art Journal</td>\n",
       "      <td>Paris</td>\n",
       "      <td>1931-03-01T00:00:00</td>\n",
       "    </tr>\n",
       "    <tr>\n",
       "      <th>970</th>\n",
       "      <td>https://lod.unige.ch/vc/cluster/human/228</td>\n",
       "      <td>https://visualcontagions.unige.ch/explore/anal...</td>\n",
       "      <td>https://digi.ub.uni-heidelberg.de/iiif/2/cicer...</td>\n",
       "      <td>Der Cicerone</td>\n",
       "      <td>Germany</td>\n",
       "      <td>Modern Art Journal</td>\n",
       "      <td>Leipzig</td>\n",
       "      <td>1930-01-01T00:00:00</td>\n",
       "    </tr>\n",
       "    <tr>\n",
       "      <th>971</th>\n",
       "      <td>https://lod.unige.ch/vc/cluster/human/228</td>\n",
       "      <td>https://visualcontagions.unige.ch/explore/anal...</td>\n",
       "      <td>https://digi.ub.uni-heidelberg.de/iiif/2/form1...</td>\n",
       "      <td>Die Form</td>\n",
       "      <td>Germany</td>\n",
       "      <td>Avant-garde Journal</td>\n",
       "      <td>Berlin</td>\n",
       "      <td>1928-01-01T00:00:00</td>\n",
       "    </tr>\n",
       "    <tr>\n",
       "      <th>972</th>\n",
       "      <td>https://lod.unige.ch/vc/cluster/human/228</td>\n",
       "      <td>https://visualcontagions.unige.ch/explore/anal...</td>\n",
       "      <td>https://digi.ub.uni-heidelberg.de/iiif/2/samle...</td>\n",
       "      <td>Samleren</td>\n",
       "      <td>Denmark</td>\n",
       "      <td>Art History</td>\n",
       "      <td>Copenhagen</td>\n",
       "      <td>1928-01-01T00:00:00</td>\n",
       "    </tr>\n",
       "  </tbody>\n",
       "</table>\n",
       "<p>973 rows × 8 columns</p>\n",
       "</div>"
      ],
      "text/plain": [
       "                                       cluster  \\\n",
       "0    https://lod.unige.ch/vc/cluster/human/353   \n",
       "1    https://lod.unige.ch/vc/cluster/human/353   \n",
       "2    https://lod.unige.ch/vc/cluster/human/353   \n",
       "3    https://lod.unige.ch/vc/cluster/human/353   \n",
       "4    https://lod.unige.ch/vc/cluster/human/352   \n",
       "..                                         ...   \n",
       "968  https://lod.unige.ch/vc/cluster/human/228   \n",
       "969  https://lod.unige.ch/vc/cluster/human/228   \n",
       "970  https://lod.unige.ch/vc/cluster/human/228   \n",
       "971  https://lod.unige.ch/vc/cluster/human/228   \n",
       "972  https://lod.unige.ch/vc/cluster/human/228   \n",
       "\n",
       "                                            identifier  \\\n",
       "0    https://visualcontagions.unige.ch/explore/anal...   \n",
       "1    https://visualcontagions.unige.ch/explore/anal...   \n",
       "2    https://visualcontagions.unige.ch/explore/anal...   \n",
       "3    https://visualcontagions.unige.ch/explore/anal...   \n",
       "4    https://visualcontagions.unige.ch/explore/anal...   \n",
       "..                                                 ...   \n",
       "968  https://visualcontagions.unige.ch/explore/anal...   \n",
       "969  https://visualcontagions.unige.ch/explore/anal...   \n",
       "970  https://visualcontagions.unige.ch/explore/anal...   \n",
       "971  https://visualcontagions.unige.ch/explore/anal...   \n",
       "972  https://visualcontagions.unige.ch/explore/anal...   \n",
       "\n",
       "                                                 image             issueLabel  \\\n",
       "0    https://gallica.bnf.fr/iiif/ark:/12148/bpt6k97...  Cahiers d'art (Paris)   \n",
       "1    https://iiif.unige.ch/iiif/2/fedora_ug8024103;...             Vell i Nou   \n",
       "2    https://gallica.bnf.fr/iiif/ark:/12148/bpt6k32...   Les Soirées de Paris   \n",
       "3    https://gallica.bnf.fr/iiif/ark:/12148/bpt6k10...   Les Soirées de Paris   \n",
       "4    https://gallica.bnf.fr/iiif/ark:/12148/bpt6k97...  Cahiers d'art (Paris)   \n",
       "..                                                 ...                    ...   \n",
       "968  https://digi.ub.uni-heidelberg.de/iiif/2/kunst...          Der Kunstwart   \n",
       "969  https://gallica.bnf.fr/iiif/ark:/12148/bpt6k61...         La Renaissance   \n",
       "970  https://digi.ub.uni-heidelberg.de/iiif/2/cicer...           Der Cicerone   \n",
       "971  https://digi.ub.uni-heidelberg.de/iiif/2/form1...               Die Form   \n",
       "972  https://digi.ub.uni-heidelberg.de/iiif/2/samle...               Samleren   \n",
       "\n",
       "    countryLabel            labelType   cityLabel                begin  \n",
       "0         France  Avant-garde Journal       Paris  1929-01-01T00:00:00  \n",
       "1          Spain          Art Journal   Barcelona  1919-11-01T00:00:00  \n",
       "2         France  Avant-garde Journal       Paris  1914-01-01T00:00:00  \n",
       "3         France  Avant-garde Journal       Paris  1914-05-15T00:00:00  \n",
       "4         France  Avant-garde Journal       Paris  1929-01-01T00:00:00  \n",
       "..           ...                  ...         ...                  ...  \n",
       "968      Germany          Art Journal      Munich  1928-01-01T00:00:00  \n",
       "969       France          Art Journal       Paris  1931-03-01T00:00:00  \n",
       "970      Germany   Modern Art Journal     Leipzig  1930-01-01T00:00:00  \n",
       "971      Germany  Avant-garde Journal      Berlin  1928-01-01T00:00:00  \n",
       "972      Denmark          Art History  Copenhagen  1928-01-01T00:00:00  \n",
       "\n",
       "[973 rows x 8 columns]"
      ]
     },
     "execution_count": 12,
     "metadata": {},
     "output_type": "execute_result"
    }
   ],
   "source": [
    "df1"
   ]
  },
  {
   "cell_type": "markdown",
   "id": "b7d626a7-5176-464e-93bb-1c41c8030547",
   "metadata": {},
   "source": [
    "<font size=\"4\">Let's reshape the dataset. Each image need to have a row and need to be grouped together with their original cluster information. </font>"
   ]
  },
  {
   "cell_type": "code",
   "execution_count": 13,
   "id": "8f9e9252-3673-481d-b1ba-19c930aef1ff",
   "metadata": {},
   "outputs": [],
   "source": [
    "melted = df1.melt(id_vars=[\"cluster\", \"identifier\", \"begin\", \"issueLabel\", \"labelType\", \"cityLabel\",\"countryLabel\"], value_name =\"url\")\n",
    "melted.sort_values(by=['identifier', 'begin'], inplace=True)"
   ]
  },
  {
   "cell_type": "code",
   "execution_count": 14,
   "id": "22114ba5-8656-4848-a70b-3abadbb7af3d",
   "metadata": {},
   "outputs": [
    {
     "data": {
      "text/html": [
       "<div>\n",
       "<style scoped>\n",
       "    .dataframe tbody tr th:only-of-type {\n",
       "        vertical-align: middle;\n",
       "    }\n",
       "\n",
       "    .dataframe tbody tr th {\n",
       "        vertical-align: top;\n",
       "    }\n",
       "\n",
       "    .dataframe thead th {\n",
       "        text-align: right;\n",
       "    }\n",
       "</style>\n",
       "<table border=\"1\" class=\"dataframe\">\n",
       "  <thead>\n",
       "    <tr style=\"text-align: right;\">\n",
       "      <th></th>\n",
       "      <th>cluster</th>\n",
       "      <th>identifier</th>\n",
       "      <th>begin</th>\n",
       "      <th>issueLabel</th>\n",
       "      <th>labelType</th>\n",
       "      <th>cityLabel</th>\n",
       "      <th>countryLabel</th>\n",
       "      <th>variable</th>\n",
       "      <th>url</th>\n",
       "    </tr>\n",
       "  </thead>\n",
       "  <tbody>\n",
       "    <tr>\n",
       "      <th>638</th>\n",
       "      <td>https://lod.unige.ch/vc/cluster/human/10</td>\n",
       "      <td>https://visualcontagions.unige.ch/explore/anal...</td>\n",
       "      <td>1923-01-04T00:00:00</td>\n",
       "      <td>Der Sturm</td>\n",
       "      <td>Avant-garde Journal</td>\n",
       "      <td>Berlin</td>\n",
       "      <td>Germany</td>\n",
       "      <td>image</td>\n",
       "      <td>https://bluemountain.princeton.edu/bluemtn/iii...</td>\n",
       "    </tr>\n",
       "    <tr>\n",
       "      <th>632</th>\n",
       "      <td>https://lod.unige.ch/vc/cluster/human/10</td>\n",
       "      <td>https://visualcontagions.unige.ch/explore/anal...</td>\n",
       "      <td>1932-01-01T00:00:00</td>\n",
       "      <td>Abstraction, création, art non figuratif</td>\n",
       "      <td>Avant-garde Journal</td>\n",
       "      <td>Paris</td>\n",
       "      <td>France</td>\n",
       "      <td>image</td>\n",
       "      <td>https://gallica.bnf.fr/iiif/ark:/12148/bpt6k97...</td>\n",
       "    </tr>\n",
       "    <tr>\n",
       "      <th>631</th>\n",
       "      <td>https://lod.unige.ch/vc/cluster/human/10</td>\n",
       "      <td>https://visualcontagions.unige.ch/explore/anal...</td>\n",
       "      <td>1933-01-01T00:00:00</td>\n",
       "      <td>Abstraction, création, art non figuratif</td>\n",
       "      <td>Avant-garde Journal</td>\n",
       "      <td>Paris</td>\n",
       "      <td>France</td>\n",
       "      <td>image</td>\n",
       "      <td>https://gallica.bnf.fr/iiif/ark:/12148/bpt6k97...</td>\n",
       "    </tr>\n",
       "    <tr>\n",
       "      <th>633</th>\n",
       "      <td>https://lod.unige.ch/vc/cluster/human/10</td>\n",
       "      <td>https://visualcontagions.unige.ch/explore/anal...</td>\n",
       "      <td>1933-01-01T00:00:00</td>\n",
       "      <td>Abstraction, création, art non figuratif</td>\n",
       "      <td>Avant-garde Journal</td>\n",
       "      <td>Paris</td>\n",
       "      <td>France</td>\n",
       "      <td>image</td>\n",
       "      <td>https://gallica.bnf.fr/iiif/ark:/12148/bpt6k97...</td>\n",
       "    </tr>\n",
       "    <tr>\n",
       "      <th>636</th>\n",
       "      <td>https://lod.unige.ch/vc/cluster/human/10</td>\n",
       "      <td>https://visualcontagions.unige.ch/explore/anal...</td>\n",
       "      <td>1933-01-01T00:00:00</td>\n",
       "      <td>Abstraction, création, art non figuratif</td>\n",
       "      <td>Avant-garde Journal</td>\n",
       "      <td>Paris</td>\n",
       "      <td>France</td>\n",
       "      <td>image</td>\n",
       "      <td>https://gallica.bnf.fr/iiif/ark:/12148/bpt6k97...</td>\n",
       "    </tr>\n",
       "    <tr>\n",
       "      <th>...</th>\n",
       "      <td>...</td>\n",
       "      <td>...</td>\n",
       "      <td>...</td>\n",
       "      <td>...</td>\n",
       "      <td>...</td>\n",
       "      <td>...</td>\n",
       "      <td>...</td>\n",
       "      <td>...</td>\n",
       "      <td>...</td>\n",
       "    </tr>\n",
       "    <tr>\n",
       "      <th>90</th>\n",
       "      <td>https://lod.unige.ch/vc/cluster/human/58</td>\n",
       "      <td>https://visualcontagions.unige.ch/explore/anal...</td>\n",
       "      <td>1968-06-01T00:00:00</td>\n",
       "      <td>Macedonio. Literatura – Teatro – Cine – Artes</td>\n",
       "      <td>Cinema</td>\n",
       "      <td>Buenos Aires</td>\n",
       "      <td>Argentina</td>\n",
       "      <td>image</td>\n",
       "      <td>https://iiif.unige.ch/iiif/2/fedora_ug8048994;...</td>\n",
       "    </tr>\n",
       "    <tr>\n",
       "      <th>52</th>\n",
       "      <td>https://lod.unige.ch/vc/cluster/human/58</td>\n",
       "      <td>https://visualcontagions.unige.ch/explore/anal...</td>\n",
       "      <td>1978-06-01T00:00:00</td>\n",
       "      <td>El Ornitorrinco. Revista de literatura</td>\n",
       "      <td>Literature</td>\n",
       "      <td>Buenos Aires</td>\n",
       "      <td>Argentina</td>\n",
       "      <td>image</td>\n",
       "      <td>https://iiif.unige.ch/iiif/2/fedora_ug8086029;...</td>\n",
       "    </tr>\n",
       "    <tr>\n",
       "      <th>76</th>\n",
       "      <td>https://lod.unige.ch/vc/cluster/human/58</td>\n",
       "      <td>https://visualcontagions.unige.ch/explore/anal...</td>\n",
       "      <td>1978-06-01T00:00:00</td>\n",
       "      <td>El Ornitorrinco. Revista de literatura</td>\n",
       "      <td>Literature</td>\n",
       "      <td>Buenos Aires</td>\n",
       "      <td>Argentina</td>\n",
       "      <td>image</td>\n",
       "      <td>https://iiif.unige.ch/iiif/2/fedora_ug8086029;...</td>\n",
       "    </tr>\n",
       "    <tr>\n",
       "      <th>78</th>\n",
       "      <td>https://lod.unige.ch/vc/cluster/human/58</td>\n",
       "      <td>https://visualcontagions.unige.ch/explore/anal...</td>\n",
       "      <td>1978-06-01T00:00:00</td>\n",
       "      <td>El Ornitorrinco. Revista de literatura</td>\n",
       "      <td>Literature</td>\n",
       "      <td>Buenos Aires</td>\n",
       "      <td>Argentina</td>\n",
       "      <td>image</td>\n",
       "      <td>https://iiif.unige.ch/iiif/2/fedora_ug8086029;...</td>\n",
       "    </tr>\n",
       "    <tr>\n",
       "      <th>87</th>\n",
       "      <td>https://lod.unige.ch/vc/cluster/human/58</td>\n",
       "      <td>https://visualcontagions.unige.ch/explore/anal...</td>\n",
       "      <td>1978-06-01T00:00:00</td>\n",
       "      <td>El Ornitorrinco. Revista de literatura</td>\n",
       "      <td>Literature</td>\n",
       "      <td>Buenos Aires</td>\n",
       "      <td>Argentina</td>\n",
       "      <td>image</td>\n",
       "      <td>https://iiif.unige.ch/iiif/2/fedora_ug8086029;...</td>\n",
       "    </tr>\n",
       "  </tbody>\n",
       "</table>\n",
       "<p>973 rows × 9 columns</p>\n",
       "</div>"
      ],
      "text/plain": [
       "                                      cluster  \\\n",
       "638  https://lod.unige.ch/vc/cluster/human/10   \n",
       "632  https://lod.unige.ch/vc/cluster/human/10   \n",
       "631  https://lod.unige.ch/vc/cluster/human/10   \n",
       "633  https://lod.unige.ch/vc/cluster/human/10   \n",
       "636  https://lod.unige.ch/vc/cluster/human/10   \n",
       "..                                        ...   \n",
       "90   https://lod.unige.ch/vc/cluster/human/58   \n",
       "52   https://lod.unige.ch/vc/cluster/human/58   \n",
       "76   https://lod.unige.ch/vc/cluster/human/58   \n",
       "78   https://lod.unige.ch/vc/cluster/human/58   \n",
       "87   https://lod.unige.ch/vc/cluster/human/58   \n",
       "\n",
       "                                            identifier                begin  \\\n",
       "638  https://visualcontagions.unige.ch/explore/anal...  1923-01-04T00:00:00   \n",
       "632  https://visualcontagions.unige.ch/explore/anal...  1932-01-01T00:00:00   \n",
       "631  https://visualcontagions.unige.ch/explore/anal...  1933-01-01T00:00:00   \n",
       "633  https://visualcontagions.unige.ch/explore/anal...  1933-01-01T00:00:00   \n",
       "636  https://visualcontagions.unige.ch/explore/anal...  1933-01-01T00:00:00   \n",
       "..                                                 ...                  ...   \n",
       "90   https://visualcontagions.unige.ch/explore/anal...  1968-06-01T00:00:00   \n",
       "52   https://visualcontagions.unige.ch/explore/anal...  1978-06-01T00:00:00   \n",
       "76   https://visualcontagions.unige.ch/explore/anal...  1978-06-01T00:00:00   \n",
       "78   https://visualcontagions.unige.ch/explore/anal...  1978-06-01T00:00:00   \n",
       "87   https://visualcontagions.unige.ch/explore/anal...  1978-06-01T00:00:00   \n",
       "\n",
       "                                        issueLabel            labelType  \\\n",
       "638                                      Der Sturm  Avant-garde Journal   \n",
       "632       Abstraction, création, art non figuratif  Avant-garde Journal   \n",
       "631       Abstraction, création, art non figuratif  Avant-garde Journal   \n",
       "633       Abstraction, création, art non figuratif  Avant-garde Journal   \n",
       "636       Abstraction, création, art non figuratif  Avant-garde Journal   \n",
       "..                                             ...                  ...   \n",
       "90   Macedonio. Literatura – Teatro – Cine – Artes               Cinema   \n",
       "52          El Ornitorrinco. Revista de literatura           Literature   \n",
       "76          El Ornitorrinco. Revista de literatura           Literature   \n",
       "78          El Ornitorrinco. Revista de literatura           Literature   \n",
       "87          El Ornitorrinco. Revista de literatura           Literature   \n",
       "\n",
       "        cityLabel countryLabel variable  \\\n",
       "638        Berlin      Germany    image   \n",
       "632         Paris       France    image   \n",
       "631         Paris       France    image   \n",
       "633         Paris       France    image   \n",
       "636         Paris       France    image   \n",
       "..            ...          ...      ...   \n",
       "90   Buenos Aires    Argentina    image   \n",
       "52   Buenos Aires    Argentina    image   \n",
       "76   Buenos Aires    Argentina    image   \n",
       "78   Buenos Aires    Argentina    image   \n",
       "87   Buenos Aires    Argentina    image   \n",
       "\n",
       "                                                   url  \n",
       "638  https://bluemountain.princeton.edu/bluemtn/iii...  \n",
       "632  https://gallica.bnf.fr/iiif/ark:/12148/bpt6k97...  \n",
       "631  https://gallica.bnf.fr/iiif/ark:/12148/bpt6k97...  \n",
       "633  https://gallica.bnf.fr/iiif/ark:/12148/bpt6k97...  \n",
       "636  https://gallica.bnf.fr/iiif/ark:/12148/bpt6k97...  \n",
       "..                                                 ...  \n",
       "90   https://iiif.unige.ch/iiif/2/fedora_ug8048994;...  \n",
       "52   https://iiif.unige.ch/iiif/2/fedora_ug8086029;...  \n",
       "76   https://iiif.unige.ch/iiif/2/fedora_ug8086029;...  \n",
       "78   https://iiif.unige.ch/iiif/2/fedora_ug8086029;...  \n",
       "87   https://iiif.unige.ch/iiif/2/fedora_ug8086029;...  \n",
       "\n",
       "[973 rows x 9 columns]"
      ]
     },
     "execution_count": 14,
     "metadata": {},
     "output_type": "execute_result"
    }
   ],
   "source": [
    "melted"
   ]
  },
  {
   "cell_type": "code",
   "execution_count": 15,
   "id": "7db38210-2852-4da7-be66-b4c75c9a0148",
   "metadata": {},
   "outputs": [],
   "source": [
    "melted.to_csv('csv/melted.csv', index=False)"
   ]
  },
  {
   "cell_type": "markdown",
   "id": "80e97ebc-d74f-4563-bc5b-b3d1f57f8221",
   "metadata": {},
   "source": [
    "### Escape the loop"
   ]
  },
  {
   "cell_type": "markdown",
   "id": "6d4a5672-1e50-444c-8b88-193a70bd7c16",
   "metadata": {},
   "source": [
    "<font size=\"4\">In order to avoid computing circulation within the same journal, we eliminate from our analysis the clusters which do comprise only a single journal (internal journal circulation).</font>"
   ]
  },
  {
   "cell_type": "code",
   "execution_count": 16,
   "id": "9c40e9fe-2bb0-49ea-9be5-4d7a1ea82482",
   "metadata": {},
   "outputs": [],
   "source": [
    "melted_new = melted.groupby('identifier').issueLabel.nunique() > 1\n",
    "b = melted_new.index[melted_new == True]\n",
    "melted_only_unique = melted[melted['identifier'].isin(b)]"
   ]
  },
  {
   "cell_type": "code",
   "execution_count": 17,
   "id": "209c3a26-5342-4d60-ad14-4a39e206910d",
   "metadata": {},
   "outputs": [
    {
     "data": {
      "text/html": [
       "<div>\n",
       "<style scoped>\n",
       "    .dataframe tbody tr th:only-of-type {\n",
       "        vertical-align: middle;\n",
       "    }\n",
       "\n",
       "    .dataframe tbody tr th {\n",
       "        vertical-align: top;\n",
       "    }\n",
       "\n",
       "    .dataframe thead th {\n",
       "        text-align: right;\n",
       "    }\n",
       "</style>\n",
       "<table border=\"1\" class=\"dataframe\">\n",
       "  <thead>\n",
       "    <tr style=\"text-align: right;\">\n",
       "      <th></th>\n",
       "      <th>cluster</th>\n",
       "      <th>identifier</th>\n",
       "      <th>begin</th>\n",
       "      <th>issueLabel</th>\n",
       "      <th>labelType</th>\n",
       "      <th>cityLabel</th>\n",
       "      <th>countryLabel</th>\n",
       "      <th>variable</th>\n",
       "      <th>url</th>\n",
       "    </tr>\n",
       "  </thead>\n",
       "  <tbody>\n",
       "    <tr>\n",
       "      <th>638</th>\n",
       "      <td>https://lod.unige.ch/vc/cluster/human/10</td>\n",
       "      <td>https://visualcontagions.unige.ch/explore/anal...</td>\n",
       "      <td>1923-01-04T00:00:00</td>\n",
       "      <td>Der Sturm</td>\n",
       "      <td>Avant-garde Journal</td>\n",
       "      <td>Berlin</td>\n",
       "      <td>Germany</td>\n",
       "      <td>image</td>\n",
       "      <td>https://bluemountain.princeton.edu/bluemtn/iii...</td>\n",
       "    </tr>\n",
       "    <tr>\n",
       "      <th>632</th>\n",
       "      <td>https://lod.unige.ch/vc/cluster/human/10</td>\n",
       "      <td>https://visualcontagions.unige.ch/explore/anal...</td>\n",
       "      <td>1932-01-01T00:00:00</td>\n",
       "      <td>Abstraction, création, art non figuratif</td>\n",
       "      <td>Avant-garde Journal</td>\n",
       "      <td>Paris</td>\n",
       "      <td>France</td>\n",
       "      <td>image</td>\n",
       "      <td>https://gallica.bnf.fr/iiif/ark:/12148/bpt6k97...</td>\n",
       "    </tr>\n",
       "    <tr>\n",
       "      <th>631</th>\n",
       "      <td>https://lod.unige.ch/vc/cluster/human/10</td>\n",
       "      <td>https://visualcontagions.unige.ch/explore/anal...</td>\n",
       "      <td>1933-01-01T00:00:00</td>\n",
       "      <td>Abstraction, création, art non figuratif</td>\n",
       "      <td>Avant-garde Journal</td>\n",
       "      <td>Paris</td>\n",
       "      <td>France</td>\n",
       "      <td>image</td>\n",
       "      <td>https://gallica.bnf.fr/iiif/ark:/12148/bpt6k97...</td>\n",
       "    </tr>\n",
       "    <tr>\n",
       "      <th>633</th>\n",
       "      <td>https://lod.unige.ch/vc/cluster/human/10</td>\n",
       "      <td>https://visualcontagions.unige.ch/explore/anal...</td>\n",
       "      <td>1933-01-01T00:00:00</td>\n",
       "      <td>Abstraction, création, art non figuratif</td>\n",
       "      <td>Avant-garde Journal</td>\n",
       "      <td>Paris</td>\n",
       "      <td>France</td>\n",
       "      <td>image</td>\n",
       "      <td>https://gallica.bnf.fr/iiif/ark:/12148/bpt6k97...</td>\n",
       "    </tr>\n",
       "    <tr>\n",
       "      <th>636</th>\n",
       "      <td>https://lod.unige.ch/vc/cluster/human/10</td>\n",
       "      <td>https://visualcontagions.unige.ch/explore/anal...</td>\n",
       "      <td>1933-01-01T00:00:00</td>\n",
       "      <td>Abstraction, création, art non figuratif</td>\n",
       "      <td>Avant-garde Journal</td>\n",
       "      <td>Paris</td>\n",
       "      <td>France</td>\n",
       "      <td>image</td>\n",
       "      <td>https://gallica.bnf.fr/iiif/ark:/12148/bpt6k97...</td>\n",
       "    </tr>\n",
       "    <tr>\n",
       "      <th>...</th>\n",
       "      <td>...</td>\n",
       "      <td>...</td>\n",
       "      <td>...</td>\n",
       "      <td>...</td>\n",
       "      <td>...</td>\n",
       "      <td>...</td>\n",
       "      <td>...</td>\n",
       "      <td>...</td>\n",
       "      <td>...</td>\n",
       "    </tr>\n",
       "    <tr>\n",
       "      <th>90</th>\n",
       "      <td>https://lod.unige.ch/vc/cluster/human/58</td>\n",
       "      <td>https://visualcontagions.unige.ch/explore/anal...</td>\n",
       "      <td>1968-06-01T00:00:00</td>\n",
       "      <td>Macedonio. Literatura – Teatro – Cine – Artes</td>\n",
       "      <td>Cinema</td>\n",
       "      <td>Buenos Aires</td>\n",
       "      <td>Argentina</td>\n",
       "      <td>image</td>\n",
       "      <td>https://iiif.unige.ch/iiif/2/fedora_ug8048994;...</td>\n",
       "    </tr>\n",
       "    <tr>\n",
       "      <th>52</th>\n",
       "      <td>https://lod.unige.ch/vc/cluster/human/58</td>\n",
       "      <td>https://visualcontagions.unige.ch/explore/anal...</td>\n",
       "      <td>1978-06-01T00:00:00</td>\n",
       "      <td>El Ornitorrinco. Revista de literatura</td>\n",
       "      <td>Literature</td>\n",
       "      <td>Buenos Aires</td>\n",
       "      <td>Argentina</td>\n",
       "      <td>image</td>\n",
       "      <td>https://iiif.unige.ch/iiif/2/fedora_ug8086029;...</td>\n",
       "    </tr>\n",
       "    <tr>\n",
       "      <th>76</th>\n",
       "      <td>https://lod.unige.ch/vc/cluster/human/58</td>\n",
       "      <td>https://visualcontagions.unige.ch/explore/anal...</td>\n",
       "      <td>1978-06-01T00:00:00</td>\n",
       "      <td>El Ornitorrinco. Revista de literatura</td>\n",
       "      <td>Literature</td>\n",
       "      <td>Buenos Aires</td>\n",
       "      <td>Argentina</td>\n",
       "      <td>image</td>\n",
       "      <td>https://iiif.unige.ch/iiif/2/fedora_ug8086029;...</td>\n",
       "    </tr>\n",
       "    <tr>\n",
       "      <th>78</th>\n",
       "      <td>https://lod.unige.ch/vc/cluster/human/58</td>\n",
       "      <td>https://visualcontagions.unige.ch/explore/anal...</td>\n",
       "      <td>1978-06-01T00:00:00</td>\n",
       "      <td>El Ornitorrinco. Revista de literatura</td>\n",
       "      <td>Literature</td>\n",
       "      <td>Buenos Aires</td>\n",
       "      <td>Argentina</td>\n",
       "      <td>image</td>\n",
       "      <td>https://iiif.unige.ch/iiif/2/fedora_ug8086029;...</td>\n",
       "    </tr>\n",
       "    <tr>\n",
       "      <th>87</th>\n",
       "      <td>https://lod.unige.ch/vc/cluster/human/58</td>\n",
       "      <td>https://visualcontagions.unige.ch/explore/anal...</td>\n",
       "      <td>1978-06-01T00:00:00</td>\n",
       "      <td>El Ornitorrinco. Revista de literatura</td>\n",
       "      <td>Literature</td>\n",
       "      <td>Buenos Aires</td>\n",
       "      <td>Argentina</td>\n",
       "      <td>image</td>\n",
       "      <td>https://iiif.unige.ch/iiif/2/fedora_ug8086029;...</td>\n",
       "    </tr>\n",
       "  </tbody>\n",
       "</table>\n",
       "<p>973 rows × 9 columns</p>\n",
       "</div>"
      ],
      "text/plain": [
       "                                      cluster  \\\n",
       "638  https://lod.unige.ch/vc/cluster/human/10   \n",
       "632  https://lod.unige.ch/vc/cluster/human/10   \n",
       "631  https://lod.unige.ch/vc/cluster/human/10   \n",
       "633  https://lod.unige.ch/vc/cluster/human/10   \n",
       "636  https://lod.unige.ch/vc/cluster/human/10   \n",
       "..                                        ...   \n",
       "90   https://lod.unige.ch/vc/cluster/human/58   \n",
       "52   https://lod.unige.ch/vc/cluster/human/58   \n",
       "76   https://lod.unige.ch/vc/cluster/human/58   \n",
       "78   https://lod.unige.ch/vc/cluster/human/58   \n",
       "87   https://lod.unige.ch/vc/cluster/human/58   \n",
       "\n",
       "                                            identifier                begin  \\\n",
       "638  https://visualcontagions.unige.ch/explore/anal...  1923-01-04T00:00:00   \n",
       "632  https://visualcontagions.unige.ch/explore/anal...  1932-01-01T00:00:00   \n",
       "631  https://visualcontagions.unige.ch/explore/anal...  1933-01-01T00:00:00   \n",
       "633  https://visualcontagions.unige.ch/explore/anal...  1933-01-01T00:00:00   \n",
       "636  https://visualcontagions.unige.ch/explore/anal...  1933-01-01T00:00:00   \n",
       "..                                                 ...                  ...   \n",
       "90   https://visualcontagions.unige.ch/explore/anal...  1968-06-01T00:00:00   \n",
       "52   https://visualcontagions.unige.ch/explore/anal...  1978-06-01T00:00:00   \n",
       "76   https://visualcontagions.unige.ch/explore/anal...  1978-06-01T00:00:00   \n",
       "78   https://visualcontagions.unige.ch/explore/anal...  1978-06-01T00:00:00   \n",
       "87   https://visualcontagions.unige.ch/explore/anal...  1978-06-01T00:00:00   \n",
       "\n",
       "                                        issueLabel            labelType  \\\n",
       "638                                      Der Sturm  Avant-garde Journal   \n",
       "632       Abstraction, création, art non figuratif  Avant-garde Journal   \n",
       "631       Abstraction, création, art non figuratif  Avant-garde Journal   \n",
       "633       Abstraction, création, art non figuratif  Avant-garde Journal   \n",
       "636       Abstraction, création, art non figuratif  Avant-garde Journal   \n",
       "..                                             ...                  ...   \n",
       "90   Macedonio. Literatura – Teatro – Cine – Artes               Cinema   \n",
       "52          El Ornitorrinco. Revista de literatura           Literature   \n",
       "76          El Ornitorrinco. Revista de literatura           Literature   \n",
       "78          El Ornitorrinco. Revista de literatura           Literature   \n",
       "87          El Ornitorrinco. Revista de literatura           Literature   \n",
       "\n",
       "        cityLabel countryLabel variable  \\\n",
       "638        Berlin      Germany    image   \n",
       "632         Paris       France    image   \n",
       "631         Paris       France    image   \n",
       "633         Paris       France    image   \n",
       "636         Paris       France    image   \n",
       "..            ...          ...      ...   \n",
       "90   Buenos Aires    Argentina    image   \n",
       "52   Buenos Aires    Argentina    image   \n",
       "76   Buenos Aires    Argentina    image   \n",
       "78   Buenos Aires    Argentina    image   \n",
       "87   Buenos Aires    Argentina    image   \n",
       "\n",
       "                                                   url  \n",
       "638  https://bluemountain.princeton.edu/bluemtn/iii...  \n",
       "632  https://gallica.bnf.fr/iiif/ark:/12148/bpt6k97...  \n",
       "631  https://gallica.bnf.fr/iiif/ark:/12148/bpt6k97...  \n",
       "633  https://gallica.bnf.fr/iiif/ark:/12148/bpt6k97...  \n",
       "636  https://gallica.bnf.fr/iiif/ark:/12148/bpt6k97...  \n",
       "..                                                 ...  \n",
       "90   https://iiif.unige.ch/iiif/2/fedora_ug8048994;...  \n",
       "52   https://iiif.unige.ch/iiif/2/fedora_ug8086029;...  \n",
       "76   https://iiif.unige.ch/iiif/2/fedora_ug8086029;...  \n",
       "78   https://iiif.unige.ch/iiif/2/fedora_ug8086029;...  \n",
       "87   https://iiif.unige.ch/iiif/2/fedora_ug8086029;...  \n",
       "\n",
       "[973 rows x 9 columns]"
      ]
     },
     "execution_count": 17,
     "metadata": {},
     "output_type": "execute_result"
    }
   ],
   "source": [
    "melted_only_unique"
   ]
  },
  {
   "cell_type": "code",
   "execution_count": 18,
   "id": "298d3cdc-a39f-435e-9a0f-7159f1db66cc",
   "metadata": {},
   "outputs": [],
   "source": [
    "melted_only_unique.to_csv('csv/melted_only_unique.csv', index=False)"
   ]
  },
  {
   "cell_type": "markdown",
   "id": "37333281-f7b8-4047-9d08-1655b5ff0f20",
   "metadata": {
    "tags": []
   },
   "source": [
    "## Analysis of Internal Circulation of AG journals"
   ]
  },
  {
   "cell_type": "markdown",
   "id": "cf196aef-b559-41f1-905c-5615cac680e3",
   "metadata": {},
   "source": [
    "### Only cluster with AG journals"
   ]
  },
  {
   "cell_type": "markdown",
   "id": "05522b7f-9b24-4e35-b3f4-43af59a5f21d",
   "metadata": {},
   "source": [
    "<font size=\"4\">Let's focus on AG journals only. In here we check the chains of circulations which exist only within the AG community.</font>"
   ]
  },
  {
   "cell_type": "markdown",
   "id": "4ef3c269-cd6b-4558-88cd-5b44ccd7c1ef",
   "metadata": {},
   "source": [
    "<br>"
   ]
  },
  {
   "cell_type": "markdown",
   "id": "18738b04-ba04-4382-afef-67608b740b33",
   "metadata": {},
   "source": [
    "<font size=\"4\">To do so, we find the clusters associated with a unique community, therefore the clusters which have only a single Journal Type associated with them</font>"
   ]
  },
  {
   "cell_type": "code",
   "execution_count": 19,
   "id": "9b14a014-ea17-468d-ae76-45c50eb975e5",
   "metadata": {},
   "outputs": [],
   "source": [
    "uniType = melted_only_unique.groupby('identifier').labelType.nunique().eq(1)\n",
    "c = uniType.index[uniType == True]\n",
    "melted_type = melted_only_unique[melted_only_unique['identifier'].isin(c)]"
   ]
  },
  {
   "cell_type": "code",
   "execution_count": 20,
   "id": "78700fe8-63c2-4b02-a8e0-1fa368947997",
   "metadata": {},
   "outputs": [],
   "source": [
    "melted_type_ag = melted_type.query(\"labelType == 'Avant-garde Journal'\")"
   ]
  },
  {
   "cell_type": "code",
   "execution_count": 21,
   "id": "d7d5b532-d2c6-461f-aab8-b2b82dfb5cac",
   "metadata": {},
   "outputs": [],
   "source": [
    "melted_type.to_csv('csv/melted_type.csv', index=False)"
   ]
  },
  {
   "cell_type": "markdown",
   "id": "b2811511-0915-4b84-91bd-97ecb2e73430",
   "metadata": {
    "tags": []
   },
   "source": [
    "<font size=\"4\">Let's filter for only AG journals</font>"
   ]
  },
  {
   "cell_type": "code",
   "execution_count": 22,
   "id": "4374a436-311f-457c-aff9-e9d2a556a10a",
   "metadata": {},
   "outputs": [],
   "source": [
    "melted_type_count = melted_type_ag\n",
    "melted_type_count['count_images'] = melted_type_count.groupby(['identifier'])['cluster'].transform('count')"
   ]
  },
  {
   "cell_type": "markdown",
   "id": "5bafc65d-280e-416d-87cf-715b26e2a8f3",
   "metadata": {},
   "source": [
    "<font size=\"4\">We now have the list of images from cluster containing only AG journals</font>"
   ]
  },
  {
   "cell_type": "markdown",
   "id": "c324ceed-7985-48e8-ab76-2afecec92ec6",
   "metadata": {},
   "source": [
    "### Selecting the earliest images"
   ]
  },
  {
   "cell_type": "markdown",
   "id": "58fc8847-5cec-493e-bbc5-b27604ef62ad",
   "metadata": {},
   "source": [
    "<font size=\"4\">Let's select only the earlier published image</font>"
   ]
  },
  {
   "cell_type": "code",
   "execution_count": 23,
   "id": "6ed65caf-5b57-476b-87e4-4bb8882b6e3a",
   "metadata": {},
   "outputs": [],
   "source": [
    "internal_ag = melted_type_count.groupby('identifier', group_keys=False).apply(lambda g: g[g['begin'].eq(g['begin'].min())].sample(n=1))"
   ]
  },
  {
   "cell_type": "code",
   "execution_count": 24,
   "id": "0ab23bfe-304f-427c-a1d2-f87b7e964b63",
   "metadata": {},
   "outputs": [
    {
     "data": {
      "text/html": [
       "<div>\n",
       "<style scoped>\n",
       "    .dataframe tbody tr th:only-of-type {\n",
       "        vertical-align: middle;\n",
       "    }\n",
       "\n",
       "    .dataframe tbody tr th {\n",
       "        vertical-align: top;\n",
       "    }\n",
       "\n",
       "    .dataframe thead th {\n",
       "        text-align: right;\n",
       "    }\n",
       "</style>\n",
       "<table border=\"1\" class=\"dataframe\">\n",
       "  <thead>\n",
       "    <tr style=\"text-align: right;\">\n",
       "      <th></th>\n",
       "      <th>cluster</th>\n",
       "      <th>identifier</th>\n",
       "      <th>begin</th>\n",
       "      <th>issueLabel</th>\n",
       "      <th>labelType</th>\n",
       "      <th>cityLabel</th>\n",
       "      <th>countryLabel</th>\n",
       "      <th>variable</th>\n",
       "      <th>url</th>\n",
       "      <th>count_images</th>\n",
       "    </tr>\n",
       "  </thead>\n",
       "  <tbody>\n",
       "    <tr>\n",
       "      <th>740</th>\n",
       "      <td>https://lod.unige.ch/vc/cluster/human/295</td>\n",
       "      <td>https://visualcontagions.unige.ch/explore/anal...</td>\n",
       "      <td>1912-01-11T00:00:00</td>\n",
       "      <td>Umělecký mĕsíčník</td>\n",
       "      <td>Avant-garde Journal</td>\n",
       "      <td>Prague</td>\n",
       "      <td>Czech Republic</td>\n",
       "      <td>image</td>\n",
       "      <td>https://bluemountain.princeton.edu/bluemtn/iii...</td>\n",
       "      <td>8</td>\n",
       "    </tr>\n",
       "    <tr>\n",
       "      <th>724</th>\n",
       "      <td>https://lod.unige.ch/vc/cluster/human/350</td>\n",
       "      <td>https://visualcontagions.unige.ch/explore/anal...</td>\n",
       "      <td>1945-01-01T00:00:00</td>\n",
       "      <td>Cahiers d'art (Paris)</td>\n",
       "      <td>Avant-garde Journal</td>\n",
       "      <td>Paris</td>\n",
       "      <td>France</td>\n",
       "      <td>image</td>\n",
       "      <td>https://gallica.bnf.fr/iiif/ark:/12148/bpt6k42...</td>\n",
       "      <td>2</td>\n",
       "    </tr>\n",
       "    <tr>\n",
       "      <th>647</th>\n",
       "      <td>https://lod.unige.ch/vc/cluster/human/374</td>\n",
       "      <td>https://visualcontagions.unige.ch/explore/anal...</td>\n",
       "      <td>1913-01-01T00:00:00</td>\n",
       "      <td>Umělecký mĕsíčník</td>\n",
       "      <td>Avant-garde Journal</td>\n",
       "      <td>Prague</td>\n",
       "      <td>Czech Republic</td>\n",
       "      <td>image</td>\n",
       "      <td>https://bluemountain.princeton.edu/bluemtn/iii...</td>\n",
       "      <td>3</td>\n",
       "    </tr>\n",
       "    <tr>\n",
       "      <th>788</th>\n",
       "      <td>https://lod.unige.ch/vc/cluster/human/385</td>\n",
       "      <td>https://visualcontagions.unige.ch/explore/anal...</td>\n",
       "      <td>1921-01-01T00:00:00</td>\n",
       "      <td>Der Ararat</td>\n",
       "      <td>Avant-garde Journal</td>\n",
       "      <td>Munich</td>\n",
       "      <td>Germany</td>\n",
       "      <td>image</td>\n",
       "      <td>https://iiif.unige.ch/iiif/2/fedora_ug8092784;...</td>\n",
       "      <td>3</td>\n",
       "    </tr>\n",
       "  </tbody>\n",
       "</table>\n",
       "</div>"
      ],
      "text/plain": [
       "                                       cluster  \\\n",
       "740  https://lod.unige.ch/vc/cluster/human/295   \n",
       "724  https://lod.unige.ch/vc/cluster/human/350   \n",
       "647  https://lod.unige.ch/vc/cluster/human/374   \n",
       "788  https://lod.unige.ch/vc/cluster/human/385   \n",
       "\n",
       "                                            identifier                begin  \\\n",
       "740  https://visualcontagions.unige.ch/explore/anal...  1912-01-11T00:00:00   \n",
       "724  https://visualcontagions.unige.ch/explore/anal...  1945-01-01T00:00:00   \n",
       "647  https://visualcontagions.unige.ch/explore/anal...  1913-01-01T00:00:00   \n",
       "788  https://visualcontagions.unige.ch/explore/anal...  1921-01-01T00:00:00   \n",
       "\n",
       "                issueLabel            labelType cityLabel    countryLabel  \\\n",
       "740      Umělecký mĕsíčník  Avant-garde Journal    Prague  Czech Republic   \n",
       "724  Cahiers d'art (Paris)  Avant-garde Journal     Paris          France   \n",
       "647      Umělecký mĕsíčník  Avant-garde Journal    Prague  Czech Republic   \n",
       "788             Der Ararat  Avant-garde Journal    Munich         Germany   \n",
       "\n",
       "    variable                                                url  count_images  \n",
       "740    image  https://bluemountain.princeton.edu/bluemtn/iii...             8  \n",
       "724    image  https://gallica.bnf.fr/iiif/ark:/12148/bpt6k42...             2  \n",
       "647    image  https://bluemountain.princeton.edu/bluemtn/iii...             3  \n",
       "788    image  https://iiif.unige.ch/iiif/2/fedora_ug8092784;...             3  "
      ]
     },
     "execution_count": 24,
     "metadata": {},
     "output_type": "execute_result"
    }
   ],
   "source": [
    "internal_ag"
   ]
  },
  {
   "cell_type": "code",
   "execution_count": 25,
   "id": "d844e642-f770-4e2f-a915-5f367718e75d",
   "metadata": {},
   "outputs": [],
   "source": [
    "internal_ag['journal_count'] = internal_ag.groupby(['issueLabel'])['identifier'].transform('count')\n",
    "internal_ag.sort_values(by=['journal_count'], ascending=False, inplace=True)"
   ]
  },
  {
   "cell_type": "code",
   "execution_count": 26,
   "id": "1c773323-703f-4e72-8501-f219127108ae",
   "metadata": {},
   "outputs": [
    {
     "data": {
      "text/html": [
       "<div>\n",
       "<style scoped>\n",
       "    .dataframe tbody tr th:only-of-type {\n",
       "        vertical-align: middle;\n",
       "    }\n",
       "\n",
       "    .dataframe tbody tr th {\n",
       "        vertical-align: top;\n",
       "    }\n",
       "\n",
       "    .dataframe thead th {\n",
       "        text-align: right;\n",
       "    }\n",
       "</style>\n",
       "<table border=\"1\" class=\"dataframe\">\n",
       "  <thead>\n",
       "    <tr style=\"text-align: right;\">\n",
       "      <th></th>\n",
       "      <th>cluster</th>\n",
       "      <th>identifier</th>\n",
       "      <th>begin</th>\n",
       "      <th>issueLabel</th>\n",
       "      <th>labelType</th>\n",
       "      <th>cityLabel</th>\n",
       "      <th>countryLabel</th>\n",
       "      <th>variable</th>\n",
       "      <th>url</th>\n",
       "      <th>count_images</th>\n",
       "      <th>journal_count</th>\n",
       "    </tr>\n",
       "  </thead>\n",
       "  <tbody>\n",
       "    <tr>\n",
       "      <th>740</th>\n",
       "      <td>https://lod.unige.ch/vc/cluster/human/295</td>\n",
       "      <td>https://visualcontagions.unige.ch/explore/anal...</td>\n",
       "      <td>1912-01-11T00:00:00</td>\n",
       "      <td>Umělecký mĕsíčník</td>\n",
       "      <td>Avant-garde Journal</td>\n",
       "      <td>Prague</td>\n",
       "      <td>Czech Republic</td>\n",
       "      <td>image</td>\n",
       "      <td>https://bluemountain.princeton.edu/bluemtn/iii...</td>\n",
       "      <td>8</td>\n",
       "      <td>2</td>\n",
       "    </tr>\n",
       "    <tr>\n",
       "      <th>647</th>\n",
       "      <td>https://lod.unige.ch/vc/cluster/human/374</td>\n",
       "      <td>https://visualcontagions.unige.ch/explore/anal...</td>\n",
       "      <td>1913-01-01T00:00:00</td>\n",
       "      <td>Umělecký mĕsíčník</td>\n",
       "      <td>Avant-garde Journal</td>\n",
       "      <td>Prague</td>\n",
       "      <td>Czech Republic</td>\n",
       "      <td>image</td>\n",
       "      <td>https://bluemountain.princeton.edu/bluemtn/iii...</td>\n",
       "      <td>3</td>\n",
       "      <td>2</td>\n",
       "    </tr>\n",
       "    <tr>\n",
       "      <th>724</th>\n",
       "      <td>https://lod.unige.ch/vc/cluster/human/350</td>\n",
       "      <td>https://visualcontagions.unige.ch/explore/anal...</td>\n",
       "      <td>1945-01-01T00:00:00</td>\n",
       "      <td>Cahiers d'art (Paris)</td>\n",
       "      <td>Avant-garde Journal</td>\n",
       "      <td>Paris</td>\n",
       "      <td>France</td>\n",
       "      <td>image</td>\n",
       "      <td>https://gallica.bnf.fr/iiif/ark:/12148/bpt6k42...</td>\n",
       "      <td>2</td>\n",
       "      <td>1</td>\n",
       "    </tr>\n",
       "    <tr>\n",
       "      <th>788</th>\n",
       "      <td>https://lod.unige.ch/vc/cluster/human/385</td>\n",
       "      <td>https://visualcontagions.unige.ch/explore/anal...</td>\n",
       "      <td>1921-01-01T00:00:00</td>\n",
       "      <td>Der Ararat</td>\n",
       "      <td>Avant-garde Journal</td>\n",
       "      <td>Munich</td>\n",
       "      <td>Germany</td>\n",
       "      <td>image</td>\n",
       "      <td>https://iiif.unige.ch/iiif/2/fedora_ug8092784;...</td>\n",
       "      <td>3</td>\n",
       "      <td>1</td>\n",
       "    </tr>\n",
       "  </tbody>\n",
       "</table>\n",
       "</div>"
      ],
      "text/plain": [
       "                                       cluster  \\\n",
       "740  https://lod.unige.ch/vc/cluster/human/295   \n",
       "647  https://lod.unige.ch/vc/cluster/human/374   \n",
       "724  https://lod.unige.ch/vc/cluster/human/350   \n",
       "788  https://lod.unige.ch/vc/cluster/human/385   \n",
       "\n",
       "                                            identifier                begin  \\\n",
       "740  https://visualcontagions.unige.ch/explore/anal...  1912-01-11T00:00:00   \n",
       "647  https://visualcontagions.unige.ch/explore/anal...  1913-01-01T00:00:00   \n",
       "724  https://visualcontagions.unige.ch/explore/anal...  1945-01-01T00:00:00   \n",
       "788  https://visualcontagions.unige.ch/explore/anal...  1921-01-01T00:00:00   \n",
       "\n",
       "                issueLabel            labelType cityLabel    countryLabel  \\\n",
       "740      Umělecký mĕsíčník  Avant-garde Journal    Prague  Czech Republic   \n",
       "647      Umělecký mĕsíčník  Avant-garde Journal    Prague  Czech Republic   \n",
       "724  Cahiers d'art (Paris)  Avant-garde Journal     Paris          France   \n",
       "788             Der Ararat  Avant-garde Journal    Munich         Germany   \n",
       "\n",
       "    variable                                                url  count_images  \\\n",
       "740    image  https://bluemountain.princeton.edu/bluemtn/iii...             8   \n",
       "647    image  https://bluemountain.princeton.edu/bluemtn/iii...             3   \n",
       "724    image  https://gallica.bnf.fr/iiif/ark:/12148/bpt6k42...             2   \n",
       "788    image  https://iiif.unige.ch/iiif/2/fedora_ug8092784;...             3   \n",
       "\n",
       "     journal_count  \n",
       "740              2  \n",
       "647              2  \n",
       "724              1  \n",
       "788              1  "
      ]
     },
     "execution_count": 26,
     "metadata": {},
     "output_type": "execute_result"
    }
   ],
   "source": [
    "internal_ag"
   ]
  },
  {
   "cell_type": "code",
   "execution_count": 27,
   "id": "f660d0d1-ea32-4b77-84cf-0562f8c42bcd",
   "metadata": {},
   "outputs": [],
   "source": [
    "internal_ag = internal_ag.drop_duplicates(subset='url', keep=\"first\")\n",
    "internal_ag.to_csv('csv/internal_ag.csv', index=False)"
   ]
  },
  {
   "cell_type": "code",
   "execution_count": 28,
   "id": "5228ddd7-f518-4c9e-897e-7f5fcddfb608",
   "metadata": {},
   "outputs": [],
   "source": [
    "internal_ag.rename({ 'countryLabel': 'Country'}, axis=1, inplace=True)"
   ]
  },
  {
   "cell_type": "code",
   "execution_count": 29,
   "id": "08ae14c3-069f-4d49-b3a8-8a1aba18c405",
   "metadata": {},
   "outputs": [],
   "source": [
    "first_internal_ag = internal_ag[internal_ag['journal_count'] >= 5]"
   ]
  },
  {
   "cell_type": "markdown",
   "id": "d7652540-c678-404b-9e9e-9613e54db07e",
   "metadata": {
    "tags": []
   },
   "source": [
    "### Impact"
   ]
  },
  {
   "cell_type": "markdown",
   "id": "82efe785-2dbe-4909-b2f4-852406572711",
   "metadata": {},
   "source": [
    "<font size=\"4\">how many chains of circulation a journal starts</font>"
   ]
  },
  {
   "cell_type": "code",
   "execution_count": 31,
   "id": "088d39f1-63e2-4360-929d-f03471c84912",
   "metadata": {
    "tags": []
   },
   "outputs": [
    {
     "data": {
      "application/vnd.plotly.v1+json": {
       "config": {
        "plotlyServerURL": "https://plot.ly"
       },
       "data": [
        {
         "alignmentgroup": "True",
         "bingroup": "x",
         "hovertemplate": "Country=Czech Republic<br>impact of a AG journal=%{x}<br>count=%{y}<extra></extra>",
         "legendgroup": "Czech Republic",
         "marker": {
          "color": "#636efa",
          "pattern": {
           "shape": ""
          }
         },
         "name": "Czech Republic",
         "offsetgroup": "Czech Republic",
         "orientation": "v",
         "showlegend": true,
         "textangle": 0,
         "textfont": {
          "size": 12
         },
         "textposition": "outside",
         "type": "histogram",
         "x": [
          "Umělecký mĕsíčník",
          "Umělecký mĕsíčník"
         ],
         "xaxis": "x",
         "yaxis": "y"
        },
        {
         "alignmentgroup": "True",
         "bingroup": "x",
         "hovertemplate": "Country=France<br>impact of a AG journal=%{x}<br>count=%{y}<extra></extra>",
         "legendgroup": "France",
         "marker": {
          "color": "#EF553B",
          "pattern": {
           "shape": ""
          }
         },
         "name": "France",
         "offsetgroup": "France",
         "orientation": "v",
         "showlegend": true,
         "textangle": 0,
         "textfont": {
          "size": 12
         },
         "textposition": "outside",
         "type": "histogram",
         "x": [
          "Cahiers d'art (Paris)"
         ],
         "xaxis": "x",
         "yaxis": "y"
        },
        {
         "alignmentgroup": "True",
         "bingroup": "x",
         "hovertemplate": "Country=Germany<br>impact of a AG journal=%{x}<br>count=%{y}<extra></extra>",
         "legendgroup": "Germany",
         "marker": {
          "color": "#00cc96",
          "pattern": {
           "shape": ""
          }
         },
         "name": "Germany",
         "offsetgroup": "Germany",
         "orientation": "v",
         "showlegend": true,
         "textangle": 0,
         "textfont": {
          "size": 12
         },
         "textposition": "outside",
         "type": "histogram",
         "x": [
          "Der Ararat"
         ],
         "xaxis": "x",
         "yaxis": "y"
        }
       ],
       "layout": {
        "autosize": true,
        "barmode": "relative",
        "legend": {
         "title": {
          "text": "Country"
         },
         "tracegroupgap": 0
        },
        "template": {
         "data": {
          "bar": [
           {
            "error_x": {
             "color": "#2a3f5f"
            },
            "error_y": {
             "color": "#2a3f5f"
            },
            "marker": {
             "line": {
              "color": "#E5ECF6",
              "width": 0.5
             },
             "pattern": {
              "fillmode": "overlay",
              "size": 10,
              "solidity": 0.2
             }
            },
            "type": "bar"
           }
          ],
          "barpolar": [
           {
            "marker": {
             "line": {
              "color": "#E5ECF6",
              "width": 0.5
             },
             "pattern": {
              "fillmode": "overlay",
              "size": 10,
              "solidity": 0.2
             }
            },
            "type": "barpolar"
           }
          ],
          "carpet": [
           {
            "aaxis": {
             "endlinecolor": "#2a3f5f",
             "gridcolor": "white",
             "linecolor": "white",
             "minorgridcolor": "white",
             "startlinecolor": "#2a3f5f"
            },
            "baxis": {
             "endlinecolor": "#2a3f5f",
             "gridcolor": "white",
             "linecolor": "white",
             "minorgridcolor": "white",
             "startlinecolor": "#2a3f5f"
            },
            "type": "carpet"
           }
          ],
          "choropleth": [
           {
            "colorbar": {
             "outlinewidth": 0,
             "ticks": ""
            },
            "type": "choropleth"
           }
          ],
          "contour": [
           {
            "colorbar": {
             "outlinewidth": 0,
             "ticks": ""
            },
            "colorscale": [
             [
              0,
              "#0d0887"
             ],
             [
              0.1111111111111111,
              "#46039f"
             ],
             [
              0.2222222222222222,
              "#7201a8"
             ],
             [
              0.3333333333333333,
              "#9c179e"
             ],
             [
              0.4444444444444444,
              "#bd3786"
             ],
             [
              0.5555555555555556,
              "#d8576b"
             ],
             [
              0.6666666666666666,
              "#ed7953"
             ],
             [
              0.7777777777777778,
              "#fb9f3a"
             ],
             [
              0.8888888888888888,
              "#fdca26"
             ],
             [
              1,
              "#f0f921"
             ]
            ],
            "type": "contour"
           }
          ],
          "contourcarpet": [
           {
            "colorbar": {
             "outlinewidth": 0,
             "ticks": ""
            },
            "type": "contourcarpet"
           }
          ],
          "heatmap": [
           {
            "colorbar": {
             "outlinewidth": 0,
             "ticks": ""
            },
            "colorscale": [
             [
              0,
              "#0d0887"
             ],
             [
              0.1111111111111111,
              "#46039f"
             ],
             [
              0.2222222222222222,
              "#7201a8"
             ],
             [
              0.3333333333333333,
              "#9c179e"
             ],
             [
              0.4444444444444444,
              "#bd3786"
             ],
             [
              0.5555555555555556,
              "#d8576b"
             ],
             [
              0.6666666666666666,
              "#ed7953"
             ],
             [
              0.7777777777777778,
              "#fb9f3a"
             ],
             [
              0.8888888888888888,
              "#fdca26"
             ],
             [
              1,
              "#f0f921"
             ]
            ],
            "type": "heatmap"
           }
          ],
          "heatmapgl": [
           {
            "colorbar": {
             "outlinewidth": 0,
             "ticks": ""
            },
            "colorscale": [
             [
              0,
              "#0d0887"
             ],
             [
              0.1111111111111111,
              "#46039f"
             ],
             [
              0.2222222222222222,
              "#7201a8"
             ],
             [
              0.3333333333333333,
              "#9c179e"
             ],
             [
              0.4444444444444444,
              "#bd3786"
             ],
             [
              0.5555555555555556,
              "#d8576b"
             ],
             [
              0.6666666666666666,
              "#ed7953"
             ],
             [
              0.7777777777777778,
              "#fb9f3a"
             ],
             [
              0.8888888888888888,
              "#fdca26"
             ],
             [
              1,
              "#f0f921"
             ]
            ],
            "type": "heatmapgl"
           }
          ],
          "histogram": [
           {
            "marker": {
             "pattern": {
              "fillmode": "overlay",
              "size": 10,
              "solidity": 0.2
             }
            },
            "type": "histogram"
           }
          ],
          "histogram2d": [
           {
            "colorbar": {
             "outlinewidth": 0,
             "ticks": ""
            },
            "colorscale": [
             [
              0,
              "#0d0887"
             ],
             [
              0.1111111111111111,
              "#46039f"
             ],
             [
              0.2222222222222222,
              "#7201a8"
             ],
             [
              0.3333333333333333,
              "#9c179e"
             ],
             [
              0.4444444444444444,
              "#bd3786"
             ],
             [
              0.5555555555555556,
              "#d8576b"
             ],
             [
              0.6666666666666666,
              "#ed7953"
             ],
             [
              0.7777777777777778,
              "#fb9f3a"
             ],
             [
              0.8888888888888888,
              "#fdca26"
             ],
             [
              1,
              "#f0f921"
             ]
            ],
            "type": "histogram2d"
           }
          ],
          "histogram2dcontour": [
           {
            "colorbar": {
             "outlinewidth": 0,
             "ticks": ""
            },
            "colorscale": [
             [
              0,
              "#0d0887"
             ],
             [
              0.1111111111111111,
              "#46039f"
             ],
             [
              0.2222222222222222,
              "#7201a8"
             ],
             [
              0.3333333333333333,
              "#9c179e"
             ],
             [
              0.4444444444444444,
              "#bd3786"
             ],
             [
              0.5555555555555556,
              "#d8576b"
             ],
             [
              0.6666666666666666,
              "#ed7953"
             ],
             [
              0.7777777777777778,
              "#fb9f3a"
             ],
             [
              0.8888888888888888,
              "#fdca26"
             ],
             [
              1,
              "#f0f921"
             ]
            ],
            "type": "histogram2dcontour"
           }
          ],
          "mesh3d": [
           {
            "colorbar": {
             "outlinewidth": 0,
             "ticks": ""
            },
            "type": "mesh3d"
           }
          ],
          "parcoords": [
           {
            "line": {
             "colorbar": {
              "outlinewidth": 0,
              "ticks": ""
             }
            },
            "type": "parcoords"
           }
          ],
          "pie": [
           {
            "automargin": true,
            "type": "pie"
           }
          ],
          "scatter": [
           {
            "fillpattern": {
             "fillmode": "overlay",
             "size": 10,
             "solidity": 0.2
            },
            "type": "scatter"
           }
          ],
          "scatter3d": [
           {
            "line": {
             "colorbar": {
              "outlinewidth": 0,
              "ticks": ""
             }
            },
            "marker": {
             "colorbar": {
              "outlinewidth": 0,
              "ticks": ""
             }
            },
            "type": "scatter3d"
           }
          ],
          "scattercarpet": [
           {
            "marker": {
             "colorbar": {
              "outlinewidth": 0,
              "ticks": ""
             }
            },
            "type": "scattercarpet"
           }
          ],
          "scattergeo": [
           {
            "marker": {
             "colorbar": {
              "outlinewidth": 0,
              "ticks": ""
             }
            },
            "type": "scattergeo"
           }
          ],
          "scattergl": [
           {
            "marker": {
             "colorbar": {
              "outlinewidth": 0,
              "ticks": ""
             }
            },
            "type": "scattergl"
           }
          ],
          "scattermapbox": [
           {
            "marker": {
             "colorbar": {
              "outlinewidth": 0,
              "ticks": ""
             }
            },
            "type": "scattermapbox"
           }
          ],
          "scatterpolar": [
           {
            "marker": {
             "colorbar": {
              "outlinewidth": 0,
              "ticks": ""
             }
            },
            "type": "scatterpolar"
           }
          ],
          "scatterpolargl": [
           {
            "marker": {
             "colorbar": {
              "outlinewidth": 0,
              "ticks": ""
             }
            },
            "type": "scatterpolargl"
           }
          ],
          "scatterternary": [
           {
            "marker": {
             "colorbar": {
              "outlinewidth": 0,
              "ticks": ""
             }
            },
            "type": "scatterternary"
           }
          ],
          "surface": [
           {
            "colorbar": {
             "outlinewidth": 0,
             "ticks": ""
            },
            "colorscale": [
             [
              0,
              "#0d0887"
             ],
             [
              0.1111111111111111,
              "#46039f"
             ],
             [
              0.2222222222222222,
              "#7201a8"
             ],
             [
              0.3333333333333333,
              "#9c179e"
             ],
             [
              0.4444444444444444,
              "#bd3786"
             ],
             [
              0.5555555555555556,
              "#d8576b"
             ],
             [
              0.6666666666666666,
              "#ed7953"
             ],
             [
              0.7777777777777778,
              "#fb9f3a"
             ],
             [
              0.8888888888888888,
              "#fdca26"
             ],
             [
              1,
              "#f0f921"
             ]
            ],
            "type": "surface"
           }
          ],
          "table": [
           {
            "cells": {
             "fill": {
              "color": "#EBF0F8"
             },
             "line": {
              "color": "white"
             }
            },
            "header": {
             "fill": {
              "color": "#C8D4E3"
             },
             "line": {
              "color": "white"
             }
            },
            "type": "table"
           }
          ]
         },
         "layout": {
          "annotationdefaults": {
           "arrowcolor": "#2a3f5f",
           "arrowhead": 0,
           "arrowwidth": 1
          },
          "autotypenumbers": "strict",
          "coloraxis": {
           "colorbar": {
            "outlinewidth": 0,
            "ticks": ""
           }
          },
          "colorscale": {
           "diverging": [
            [
             0,
             "#8e0152"
            ],
            [
             0.1,
             "#c51b7d"
            ],
            [
             0.2,
             "#de77ae"
            ],
            [
             0.3,
             "#f1b6da"
            ],
            [
             0.4,
             "#fde0ef"
            ],
            [
             0.5,
             "#f7f7f7"
            ],
            [
             0.6,
             "#e6f5d0"
            ],
            [
             0.7,
             "#b8e186"
            ],
            [
             0.8,
             "#7fbc41"
            ],
            [
             0.9,
             "#4d9221"
            ],
            [
             1,
             "#276419"
            ]
           ],
           "sequential": [
            [
             0,
             "#0d0887"
            ],
            [
             0.1111111111111111,
             "#46039f"
            ],
            [
             0.2222222222222222,
             "#7201a8"
            ],
            [
             0.3333333333333333,
             "#9c179e"
            ],
            [
             0.4444444444444444,
             "#bd3786"
            ],
            [
             0.5555555555555556,
             "#d8576b"
            ],
            [
             0.6666666666666666,
             "#ed7953"
            ],
            [
             0.7777777777777778,
             "#fb9f3a"
            ],
            [
             0.8888888888888888,
             "#fdca26"
            ],
            [
             1,
             "#f0f921"
            ]
           ],
           "sequentialminus": [
            [
             0,
             "#0d0887"
            ],
            [
             0.1111111111111111,
             "#46039f"
            ],
            [
             0.2222222222222222,
             "#7201a8"
            ],
            [
             0.3333333333333333,
             "#9c179e"
            ],
            [
             0.4444444444444444,
             "#bd3786"
            ],
            [
             0.5555555555555556,
             "#d8576b"
            ],
            [
             0.6666666666666666,
             "#ed7953"
            ],
            [
             0.7777777777777778,
             "#fb9f3a"
            ],
            [
             0.8888888888888888,
             "#fdca26"
            ],
            [
             1,
             "#f0f921"
            ]
           ]
          },
          "colorway": [
           "#636efa",
           "#EF553B",
           "#00cc96",
           "#ab63fa",
           "#FFA15A",
           "#19d3f3",
           "#FF6692",
           "#B6E880",
           "#FF97FF",
           "#FECB52"
          ],
          "font": {
           "color": "#2a3f5f"
          },
          "geo": {
           "bgcolor": "white",
           "lakecolor": "white",
           "landcolor": "#E5ECF6",
           "showlakes": true,
           "showland": true,
           "subunitcolor": "white"
          },
          "hoverlabel": {
           "align": "left"
          },
          "hovermode": "closest",
          "mapbox": {
           "style": "light"
          },
          "paper_bgcolor": "white",
          "plot_bgcolor": "#E5ECF6",
          "polar": {
           "angularaxis": {
            "gridcolor": "white",
            "linecolor": "white",
            "ticks": ""
           },
           "bgcolor": "#E5ECF6",
           "radialaxis": {
            "gridcolor": "white",
            "linecolor": "white",
            "ticks": ""
           }
          },
          "scene": {
           "xaxis": {
            "backgroundcolor": "#E5ECF6",
            "gridcolor": "white",
            "gridwidth": 2,
            "linecolor": "white",
            "showbackground": true,
            "ticks": "",
            "zerolinecolor": "white"
           },
           "yaxis": {
            "backgroundcolor": "#E5ECF6",
            "gridcolor": "white",
            "gridwidth": 2,
            "linecolor": "white",
            "showbackground": true,
            "ticks": "",
            "zerolinecolor": "white"
           },
           "zaxis": {
            "backgroundcolor": "#E5ECF6",
            "gridcolor": "white",
            "gridwidth": 2,
            "linecolor": "white",
            "showbackground": true,
            "ticks": "",
            "zerolinecolor": "white"
           }
          },
          "shapedefaults": {
           "line": {
            "color": "#2a3f5f"
           }
          },
          "ternary": {
           "aaxis": {
            "gridcolor": "white",
            "linecolor": "white",
            "ticks": ""
           },
           "baxis": {
            "gridcolor": "white",
            "linecolor": "white",
            "ticks": ""
           },
           "bgcolor": "#E5ECF6",
           "caxis": {
            "gridcolor": "white",
            "linecolor": "white",
            "ticks": ""
           }
          },
          "title": {
           "x": 0.05
          },
          "xaxis": {
           "automargin": true,
           "gridcolor": "white",
           "linecolor": "white",
           "ticks": "",
           "title": {
            "standoff": 15
           },
           "zerolinecolor": "white",
           "zerolinewidth": 2
          },
          "yaxis": {
           "automargin": true,
           "gridcolor": "white",
           "linecolor": "white",
           "ticks": "",
           "title": {
            "standoff": 15
           },
           "zerolinecolor": "white",
           "zerolinewidth": 2
          }
         }
        },
        "title": {
         "text": "Which journal initiate more chains of circulation in the AG community"
        },
        "xaxis": {
         "anchor": "y",
         "autorange": true,
         "domain": [
          0,
          1
         ],
         "range": [
          -0.5,
          2.5
         ],
         "title": {
          "text": "impact of a AG journal"
         },
         "type": "category"
        },
        "yaxis": {
         "anchor": "x",
         "autorange": true,
         "domain": [
          0,
          1
         ],
         "range": [
          0,
          2.1052631578947367
         ],
         "title": {
          "text": "count"
         }
        }
       }
      },
      "image/png": "[encoded data removed]",
      "text/html": [
       "<div>                            <div id=\"ee9e188d-5db9-4818-a39c-0653cc1cfbf6\" class=\"plotly-graph-div\" style=\"height:525px; width:100%;\"></div>            <script type=\"text/javascript\">                require([\"plotly\"], function(Plotly) {                    window.PLOTLYENV=window.PLOTLYENV || {};                                    if (document.getElementById(\"ee9e188d-5db9-4818-a39c-0653cc1cfbf6\")) {                    Plotly.newPlot(                        \"ee9e188d-5db9-4818-a39c-0653cc1cfbf6\",                        [{\"alignmentgroup\":\"True\",\"bingroup\":\"x\",\"hovertemplate\":\"Country=Czech Republic<br>impact of a AG journal=%{x}<br>count=%{y}<extra></extra>\",\"legendgroup\":\"Czech Republic\",\"marker\":{\"color\":\"#636efa\",\"pattern\":{\"shape\":\"\"}},\"name\":\"Czech Republic\",\"offsetgroup\":\"Czech Republic\",\"orientation\":\"v\",\"showlegend\":true,\"x\":[\"Um\\u011bleck\\u00fd m\\u0115s\\u00ed\\u010dn\\u00edk\",\"Um\\u011bleck\\u00fd m\\u0115s\\u00ed\\u010dn\\u00edk\"],\"xaxis\":\"x\",\"yaxis\":\"y\",\"type\":\"histogram\",\"textfont\":{\"size\":12},\"textangle\":0,\"textposition\":\"outside\"},{\"alignmentgroup\":\"True\",\"bingroup\":\"x\",\"hovertemplate\":\"Country=France<br>impact of a AG journal=%{x}<br>count=%{y}<extra></extra>\",\"legendgroup\":\"France\",\"marker\":{\"color\":\"#EF553B\",\"pattern\":{\"shape\":\"\"}},\"name\":\"France\",\"offsetgroup\":\"France\",\"orientation\":\"v\",\"showlegend\":true,\"x\":[\"Cahiers d'art (Paris)\"],\"xaxis\":\"x\",\"yaxis\":\"y\",\"type\":\"histogram\",\"textfont\":{\"size\":12},\"textangle\":0,\"textposition\":\"outside\"},{\"alignmentgroup\":\"True\",\"bingroup\":\"x\",\"hovertemplate\":\"Country=Germany<br>impact of a AG journal=%{x}<br>count=%{y}<extra></extra>\",\"legendgroup\":\"Germany\",\"marker\":{\"color\":\"#00cc96\",\"pattern\":{\"shape\":\"\"}},\"name\":\"Germany\",\"offsetgroup\":\"Germany\",\"orientation\":\"v\",\"showlegend\":true,\"x\":[\"Der Ararat\"],\"xaxis\":\"x\",\"yaxis\":\"y\",\"type\":\"histogram\",\"textfont\":{\"size\":12},\"textangle\":0,\"textposition\":\"outside\"}],                        {\"template\":{\"data\":{\"histogram2dcontour\":[{\"type\":\"histogram2dcontour\",\"colorbar\":{\"outlinewidth\":0,\"ticks\":\"\"},\"colorscale\":[[0.0,\"#0d0887\"],[0.1111111111111111,\"#46039f\"],[0.2222222222222222,\"#7201a8\"],[0.3333333333333333,\"#9c179e\"],[0.4444444444444444,\"#bd3786\"],[0.5555555555555556,\"#d8576b\"],[0.6666666666666666,\"#ed7953\"],[0.7777777777777778,\"#fb9f3a\"],[0.8888888888888888,\"#fdca26\"],[1.0,\"#f0f921\"]]}],\"choropleth\":[{\"type\":\"choropleth\",\"colorbar\":{\"outlinewidth\":0,\"ticks\":\"\"}}],\"histogram2d\":[{\"type\":\"histogram2d\",\"colorbar\":{\"outlinewidth\":0,\"ticks\":\"\"},\"colorscale\":[[0.0,\"#0d0887\"],[0.1111111111111111,\"#46039f\"],[0.2222222222222222,\"#7201a8\"],[0.3333333333333333,\"#9c179e\"],[0.4444444444444444,\"#bd3786\"],[0.5555555555555556,\"#d8576b\"],[0.6666666666666666,\"#ed7953\"],[0.7777777777777778,\"#fb9f3a\"],[0.8888888888888888,\"#fdca26\"],[1.0,\"#f0f921\"]]}],\"heatmap\":[{\"type\":\"heatmap\",\"colorbar\":{\"outlinewidth\":0,\"ticks\":\"\"},\"colorscale\":[[0.0,\"#0d0887\"],[0.1111111111111111,\"#46039f\"],[0.2222222222222222,\"#7201a8\"],[0.3333333333333333,\"#9c179e\"],[0.4444444444444444,\"#bd3786\"],[0.5555555555555556,\"#d8576b\"],[0.6666666666666666,\"#ed7953\"],[0.7777777777777778,\"#fb9f3a\"],[0.8888888888888888,\"#fdca26\"],[1.0,\"#f0f921\"]]}],\"heatmapgl\":[{\"type\":\"heatmapgl\",\"colorbar\":{\"outlinewidth\":0,\"ticks\":\"\"},\"colorscale\":[[0.0,\"#0d0887\"],[0.1111111111111111,\"#46039f\"],[0.2222222222222222,\"#7201a8\"],[0.3333333333333333,\"#9c179e\"],[0.4444444444444444,\"#bd3786\"],[0.5555555555555556,\"#d8576b\"],[0.6666666666666666,\"#ed7953\"],[0.7777777777777778,\"#fb9f3a\"],[0.8888888888888888,\"#fdca26\"],[1.0,\"#f0f921\"]]}],\"contourcarpet\":[{\"type\":\"contourcarpet\",\"colorbar\":{\"outlinewidth\":0,\"ticks\":\"\"}}],\"contour\":[{\"type\":\"contour\",\"colorbar\":{\"outlinewidth\":0,\"ticks\":\"\"},\"colorscale\":[[0.0,\"#0d0887\"],[0.1111111111111111,\"#46039f\"],[0.2222222222222222,\"#7201a8\"],[0.3333333333333333,\"#9c179e\"],[0.4444444444444444,\"#bd3786\"],[0.5555555555555556,\"#d8576b\"],[0.6666666666666666,\"#ed7953\"],[0.7777777777777778,\"#fb9f3a\"],[0.8888888888888888,\"#fdca26\"],[1.0,\"#f0f921\"]]}],\"surface\":[{\"type\":\"surface\",\"colorbar\":{\"outlinewidth\":0,\"ticks\":\"\"},\"colorscale\":[[0.0,\"#0d0887\"],[0.1111111111111111,\"#46039f\"],[0.2222222222222222,\"#7201a8\"],[0.3333333333333333,\"#9c179e\"],[0.4444444444444444,\"#bd3786\"],[0.5555555555555556,\"#d8576b\"],[0.6666666666666666,\"#ed7953\"],[0.7777777777777778,\"#fb9f3a\"],[0.8888888888888888,\"#fdca26\"],[1.0,\"#f0f921\"]]}],\"mesh3d\":[{\"type\":\"mesh3d\",\"colorbar\":{\"outlinewidth\":0,\"ticks\":\"\"}}],\"scatter\":[{\"fillpattern\":{\"fillmode\":\"overlay\",\"size\":10,\"solidity\":0.2},\"type\":\"scatter\"}],\"parcoords\":[{\"type\":\"parcoords\",\"line\":{\"colorbar\":{\"outlinewidth\":0,\"ticks\":\"\"}}}],\"scatterpolargl\":[{\"type\":\"scatterpolargl\",\"marker\":{\"colorbar\":{\"outlinewidth\":0,\"ticks\":\"\"}}}],\"bar\":[{\"error_x\":{\"color\":\"#2a3f5f\"},\"error_y\":{\"color\":\"#2a3f5f\"},\"marker\":{\"line\":{\"color\":\"#E5ECF6\",\"width\":0.5},\"pattern\":{\"fillmode\":\"overlay\",\"size\":10,\"solidity\":0.2}},\"type\":\"bar\"}],\"scattergeo\":[{\"type\":\"scattergeo\",\"marker\":{\"colorbar\":{\"outlinewidth\":0,\"ticks\":\"\"}}}],\"scatterpolar\":[{\"type\":\"scatterpolar\",\"marker\":{\"colorbar\":{\"outlinewidth\":0,\"ticks\":\"\"}}}],\"histogram\":[{\"marker\":{\"pattern\":{\"fillmode\":\"overlay\",\"size\":10,\"solidity\":0.2}},\"type\":\"histogram\"}],\"scattergl\":[{\"type\":\"scattergl\",\"marker\":{\"colorbar\":{\"outlinewidth\":0,\"ticks\":\"\"}}}],\"scatter3d\":[{\"type\":\"scatter3d\",\"line\":{\"colorbar\":{\"outlinewidth\":0,\"ticks\":\"\"}},\"marker\":{\"colorbar\":{\"outlinewidth\":0,\"ticks\":\"\"}}}],\"scattermapbox\":[{\"type\":\"scattermapbox\",\"marker\":{\"colorbar\":{\"outlinewidth\":0,\"ticks\":\"\"}}}],\"scatterternary\":[{\"type\":\"scatterternary\",\"marker\":{\"colorbar\":{\"outlinewidth\":0,\"ticks\":\"\"}}}],\"scattercarpet\":[{\"type\":\"scattercarpet\",\"marker\":{\"colorbar\":{\"outlinewidth\":0,\"ticks\":\"\"}}}],\"carpet\":[{\"aaxis\":{\"endlinecolor\":\"#2a3f5f\",\"gridcolor\":\"white\",\"linecolor\":\"white\",\"minorgridcolor\":\"white\",\"startlinecolor\":\"#2a3f5f\"},\"baxis\":{\"endlinecolor\":\"#2a3f5f\",\"gridcolor\":\"white\",\"linecolor\":\"white\",\"minorgridcolor\":\"white\",\"startlinecolor\":\"#2a3f5f\"},\"type\":\"carpet\"}],\"table\":[{\"cells\":{\"fill\":{\"color\":\"#EBF0F8\"},\"line\":{\"color\":\"white\"}},\"header\":{\"fill\":{\"color\":\"#C8D4E3\"},\"line\":{\"color\":\"white\"}},\"type\":\"table\"}],\"barpolar\":[{\"marker\":{\"line\":{\"color\":\"#E5ECF6\",\"width\":0.5},\"pattern\":{\"fillmode\":\"overlay\",\"size\":10,\"solidity\":0.2}},\"type\":\"barpolar\"}],\"pie\":[{\"automargin\":true,\"type\":\"pie\"}]},\"layout\":{\"autotypenumbers\":\"strict\",\"colorway\":[\"#636efa\",\"#EF553B\",\"#00cc96\",\"#ab63fa\",\"#FFA15A\",\"#19d3f3\",\"#FF6692\",\"#B6E880\",\"#FF97FF\",\"#FECB52\"],\"font\":{\"color\":\"#2a3f5f\"},\"hovermode\":\"closest\",\"hoverlabel\":{\"align\":\"left\"},\"paper_bgcolor\":\"white\",\"plot_bgcolor\":\"#E5ECF6\",\"polar\":{\"bgcolor\":\"#E5ECF6\",\"angularaxis\":{\"gridcolor\":\"white\",\"linecolor\":\"white\",\"ticks\":\"\"},\"radialaxis\":{\"gridcolor\":\"white\",\"linecolor\":\"white\",\"ticks\":\"\"}},\"ternary\":{\"bgcolor\":\"#E5ECF6\",\"aaxis\":{\"gridcolor\":\"white\",\"linecolor\":\"white\",\"ticks\":\"\"},\"baxis\":{\"gridcolor\":\"white\",\"linecolor\":\"white\",\"ticks\":\"\"},\"caxis\":{\"gridcolor\":\"white\",\"linecolor\":\"white\",\"ticks\":\"\"}},\"coloraxis\":{\"colorbar\":{\"outlinewidth\":0,\"ticks\":\"\"}},\"colorscale\":{\"sequential\":[[0.0,\"#0d0887\"],[0.1111111111111111,\"#46039f\"],[0.2222222222222222,\"#7201a8\"],[0.3333333333333333,\"#9c179e\"],[0.4444444444444444,\"#bd3786\"],[0.5555555555555556,\"#d8576b\"],[0.6666666666666666,\"#ed7953\"],[0.7777777777777778,\"#fb9f3a\"],[0.8888888888888888,\"#fdca26\"],[1.0,\"#f0f921\"]],\"sequentialminus\":[[0.0,\"#0d0887\"],[0.1111111111111111,\"#46039f\"],[0.2222222222222222,\"#7201a8\"],[0.3333333333333333,\"#9c179e\"],[0.4444444444444444,\"#bd3786\"],[0.5555555555555556,\"#d8576b\"],[0.6666666666666666,\"#ed7953\"],[0.7777777777777778,\"#fb9f3a\"],[0.8888888888888888,\"#fdca26\"],[1.0,\"#f0f921\"]],\"diverging\":[[0,\"#8e0152\"],[0.1,\"#c51b7d\"],[0.2,\"#de77ae\"],[0.3,\"#f1b6da\"],[0.4,\"#fde0ef\"],[0.5,\"#f7f7f7\"],[0.6,\"#e6f5d0\"],[0.7,\"#b8e186\"],[0.8,\"#7fbc41\"],[0.9,\"#4d9221\"],[1,\"#276419\"]]},\"xaxis\":{\"gridcolor\":\"white\",\"linecolor\":\"white\",\"ticks\":\"\",\"title\":{\"standoff\":15},\"zerolinecolor\":\"white\",\"automargin\":true,\"zerolinewidth\":2},\"yaxis\":{\"gridcolor\":\"white\",\"linecolor\":\"white\",\"ticks\":\"\",\"title\":{\"standoff\":15},\"zerolinecolor\":\"white\",\"automargin\":true,\"zerolinewidth\":2},\"scene\":{\"xaxis\":{\"backgroundcolor\":\"#E5ECF6\",\"gridcolor\":\"white\",\"linecolor\":\"white\",\"showbackground\":true,\"ticks\":\"\",\"zerolinecolor\":\"white\",\"gridwidth\":2},\"yaxis\":{\"backgroundcolor\":\"#E5ECF6\",\"gridcolor\":\"white\",\"linecolor\":\"white\",\"showbackground\":true,\"ticks\":\"\",\"zerolinecolor\":\"white\",\"gridwidth\":2},\"zaxis\":{\"backgroundcolor\":\"#E5ECF6\",\"gridcolor\":\"white\",\"linecolor\":\"white\",\"showbackground\":true,\"ticks\":\"\",\"zerolinecolor\":\"white\",\"gridwidth\":2}},\"shapedefaults\":{\"line\":{\"color\":\"#2a3f5f\"}},\"annotationdefaults\":{\"arrowcolor\":\"#2a3f5f\",\"arrowhead\":0,\"arrowwidth\":1},\"geo\":{\"bgcolor\":\"white\",\"landcolor\":\"#E5ECF6\",\"subunitcolor\":\"white\",\"showland\":true,\"showlakes\":true,\"lakecolor\":\"white\"},\"title\":{\"x\":0.05},\"mapbox\":{\"style\":\"light\"}}},\"xaxis\":{\"anchor\":\"y\",\"domain\":[0.0,1.0],\"title\":{\"text\":\"impact of a AG journal\"}},\"yaxis\":{\"anchor\":\"x\",\"domain\":[0.0,1.0],\"title\":{\"text\":\"count\"}},\"legend\":{\"title\":{\"text\":\"Country\"},\"tracegroupgap\":0},\"title\":{\"text\":\"Which journal initiate more chains of circulation in the AG community\"},\"barmode\":\"relative\"},                        {\"responsive\": true}                    ).then(function(){\n",
       "                            \n",
       "var gd = document.getElementById('ee9e188d-5db9-4818-a39c-0653cc1cfbf6');\n",
       "var x = new MutationObserver(function (mutations, observer) {{\n",
       "        var display = window.getComputedStyle(gd).display;\n",
       "        if (!display || display === 'none') {{\n",
       "            console.log([gd, 'removed!']);\n",
       "            Plotly.purge(gd);\n",
       "            observer.disconnect();\n",
       "        }}\n",
       "}});\n",
       "\n",
       "// Listen for the removal of the full notebook cells\n",
       "var notebookContainer = gd.closest('#notebook-container');\n",
       "if (notebookContainer) {{\n",
       "    x.observe(notebookContainer, {childList: true});\n",
       "}}\n",
       "\n",
       "// Listen for the clearing of the current output cell\n",
       "var outputEl = gd.closest('.output');\n",
       "if (outputEl) {{\n",
       "    x.observe(outputEl, {childList: true});\n",
       "}}\n",
       "\n",
       "                        })                };                });            </script>        </div>"
      ]
     },
     "metadata": {},
     "output_type": "display_data"
    }
   ],
   "source": [
    "fig = px.histogram(internal_ag,  x='issueLabel', color=\"Country\",\n",
    "            title=\"Which journal initiate more chains of circulation in the AG community\",\n",
    "                  labels={\n",
    "                     \"issueLabel\": \"impact of a AG journal\"})\n",
    "fig.update_traces(textfont_size=12, textangle=0, textposition=\"outside\")\n",
    "fig.show()\n",
    "fig.write_image(\"viz/human_internal_only.png\",  scale=3, width=2000) \n",
    "fig.write_html('viz/human_internal_only.html', auto_open=True)"
   ]
  },
  {
   "cell_type": "markdown",
   "id": "ae1c0abf-29ac-4e6a-a996-5bdbfbe7000b",
   "metadata": {},
   "source": [
    "### Time Dynamics"
   ]
  },
  {
   "cell_type": "markdown",
   "id": "60d2d91f-b7e6-42d8-bcdd-c596fa1d712b",
   "metadata": {},
   "source": [
    "<font size=\"4\">Let's filter for only AG joournals. The data should be analysed in temporal slices, in order to understand the dynamicity of the circulation. We will look particular at this periods:</font>\n",
    "\n",
    "- 1890-1905\n",
    "- 1905-1914\n",
    "- 1914-1918\n",
    "- 1918-1930\n",
    "- 1930-1940\n",
    "\n",
    "</font>"
   ]
  },
  {
   "cell_type": "code",
   "execution_count": null,
   "id": "acac6b67-7652-49c7-bf37-8d4a118a84f1",
   "metadata": {},
   "outputs": [],
   "source": [
    "internal_ag['year'] = pd.DatetimeIndex(internal_ag['begin']).year"
   ]
  },
  {
   "cell_type": "code",
   "execution_count": null,
   "id": "50db8c93-60a2-4828-b342-d3a1c7f2adb6",
   "metadata": {
    "tags": []
   },
   "outputs": [],
   "source": [
    "internal1905 = (internal_ag['year'] > 1890) & (internal_ag['year'] <= 1905)\n",
    "internal1914 = (internal_ag['year'] > 1905) & (internal_ag['year'] <= 1914)\n",
    "internal1918 = (internal_ag['year'] > 1914) & (internal_ag['year'] <= 1918)\n",
    "internal1930 = (internal_ag['year'] > 1918) & (internal_ag['year'] <= 1930)\n",
    "internal1940 = (internal_ag['year'] > 1930) & (internal_ag['year'] <= 1940)\n",
    "internal193540 = (internal_ag['year'] > 1935) & (internal_ag['year'] <= 1940)\n",
    "internal193035 = (internal_ag['year'] > 1930) & (internal_ag['year'] <= 1935)\n",
    "internal1920 = (internal_ag['year'] == 1920)\n"
   ]
  },
  {
   "cell_type": "code",
   "execution_count": null,
   "id": "bf771e80-a25c-403b-b661-67dce55de0fd",
   "metadata": {},
   "outputs": [],
   "source": [
    "i_ag1905 = internal_ag.loc[internal1905]\n",
    "i_ag1914 = internal_ag.loc[internal1914]\n",
    "i_ag1918 = internal_ag.loc[internal1918]\n",
    "i_ag1930 = internal_ag.loc[internal1930]\n",
    "i_ag1940 = internal_ag.loc[internal1940]\n",
    "i_ag193035 = internal_ag.loc[internal193035]\n",
    "i_ag193540 = internal_ag.loc[internal193540]\n",
    "i_ag1920 = internal_ag.loc[internal1920]"
   ]
  },
  {
   "cell_type": "code",
   "execution_count": null,
   "id": "56481e02-e277-4c39-b0f3-dbbc8709a772",
   "metadata": {},
   "outputs": [],
   "source": [
    "i_ag1920_urls = i_ag1920['url'].tolist()\n",
    "gallery(i_ag1920_urls, row_height='200px')"
   ]
  },
  {
   "cell_type": "markdown",
   "id": "f2299a12-3fa8-4753-832f-07fd1342804a",
   "metadata": {},
   "source": [
    "#### 1905 - 1914"
   ]
  },
  {
   "cell_type": "code",
   "execution_count": null,
   "id": "5295d654-b49b-481a-ba9b-20e9a90f7c70",
   "metadata": {},
   "outputs": [],
   "source": [
    "i_ag1914['journal_count'] = i_ag1914.groupby(['issueLabel'])['identifier'].transform('count')\n",
    "i_ag1914.sort_values(by=['journal_count'], ascending=False, inplace=True)"
   ]
  },
  {
   "cell_type": "code",
   "execution_count": null,
   "id": "93cc3862-c7b6-4f34-9aff-3428ed48bb34",
   "metadata": {},
   "outputs": [],
   "source": [
    "fig = px.histogram(i_ag1914, x='issueLabel', color=\"Country\",\n",
    "            title=\"Chains of circulation from AG journals with other AG revues : 1905 - 1914\", \n",
    "            labels={\n",
    "                     \"Number of Images\": \"Number of primitive images\",\n",
    "                     \"issueLabel\": \"Journal name\"})\n",
    "fig.update_traces(textfont_size=12, textangle=0, textposition=\"outside\", cliponaxis=False)\n",
    "fig.show()\n",
    "fig.write_image(\"viz/internal_1905_1914.png\") \n",
    "#fig.write_html('1905.html', auto_open=True)"
   ]
  },
  {
   "cell_type": "markdown",
   "id": "b5236c21-794c-4814-9312-aaa23a397108",
   "metadata": {},
   "source": [
    "#### 1914 - 1918"
   ]
  },
  {
   "cell_type": "code",
   "execution_count": null,
   "id": "f0ae1612-da8c-41c8-94c6-ff634538284a",
   "metadata": {},
   "outputs": [],
   "source": [
    "i_ag1918['journal_count'] = i_ag1918.groupby(['issueLabel'])['identifier'].transform('count')\n",
    "i_ag1918.sort_values(by=['journal_count'], ascending=False, inplace=True)"
   ]
  },
  {
   "cell_type": "code",
   "execution_count": null,
   "id": "b984d60e-2be7-412f-b2ef-ab7c5135e10f",
   "metadata": {},
   "outputs": [],
   "source": [
    "fig = px.histogram(i_ag1918, x='issueLabel', color=\"Country\",\n",
    "            title=\"Chains of circulation from AG journals with other AG revues : 1914 - 1918\", \n",
    "            labels={\n",
    "                     \"journal_count\": \"Number of primitive images\",\n",
    "                     \"issueLabel\": \"Journal name\"})\n",
    "fig.update_traces(textfont_size=12, textangle=0, textposition=\"outside\", cliponaxis=False)\n",
    "fig.show()\n",
    "fig.write_image(\"viz/internal_1914_1918.png\") \n",
    "#fig.write_html('1905.html', auto_open=True)"
   ]
  },
  {
   "cell_type": "markdown",
   "id": "4a9b2654-9940-4fb2-afa1-be9296dd3945",
   "metadata": {},
   "source": [
    "#### 1918 - 1930"
   ]
  },
  {
   "cell_type": "code",
   "execution_count": null,
   "id": "406bbb44-564c-4054-997e-2cb95cc21799",
   "metadata": {},
   "outputs": [],
   "source": [
    "i_ag1930['journal_count'] = i_ag1930.groupby(['issueLabel'])['identifier'].transform('count')\n",
    "i_ag1930.sort_values(by=['journal_count'], ascending=False, inplace=True)"
   ]
  },
  {
   "cell_type": "code",
   "execution_count": null,
   "id": "806f09de-a16e-44b9-9d2b-7e35d00ec690",
   "metadata": {},
   "outputs": [],
   "source": [
    "i_ag1930_top = i_ag1930[i_ag1930['journal_count'] >= 5]"
   ]
  },
  {
   "cell_type": "code",
   "execution_count": null,
   "id": "50c22235-13c1-4dee-a341-ae338acda97d",
   "metadata": {},
   "outputs": [],
   "source": [
    "fig = px.histogram(i_ag1930_top, x='issueLabel', color=\"Country\",\n",
    "            title=\"Chains of circulation from AG journals with other AG revues : 1918 - 1930\", \n",
    "            labels={\n",
    "                     \"journal_count\": \"Number of primitive images\",\n",
    "                     \"issueLabel\": \"Journal name\"})\n",
    "fig.update_traces(textfont_size=12, textangle=0, textposition=\"outside\", cliponaxis=False)\n",
    "fig.write_image(\"viz/internal_1918_1930.png\") \n",
    "fig.show()\n",
    "fig.write_html('1930.html', auto_open=True)"
   ]
  },
  {
   "cell_type": "markdown",
   "id": "16a935f5-3892-4419-92de-1b2b1362501d",
   "metadata": {},
   "source": [
    "#### 1930 - 1940"
   ]
  },
  {
   "cell_type": "code",
   "execution_count": null,
   "id": "56ac2360-0d20-4f21-aced-5585ef3f93c9",
   "metadata": {},
   "outputs": [],
   "source": [
    "i_ag1940['journal_count'] = i_ag1940.groupby(['issueLabel'])['identifier'].transform('count')\n",
    "i_ag1940.sort_values(by=['journal_count'], ascending=False, inplace=True)"
   ]
  },
  {
   "cell_type": "code",
   "execution_count": null,
   "id": "14c89fef-1510-4322-a706-7b223961a3c3",
   "metadata": {},
   "outputs": [],
   "source": [
    "fig = px.histogram(i_ag1940, x='issueLabel', color=\"Country\",\n",
    "            title=\"Chains of circulation from AG journals with other AG revues : 1930 - 1940\", \n",
    "            labels={\n",
    "                     \"journal_count\": \"Number of primitive images\",\n",
    "                     \"issueLabel\": \"Journal name\"})\n",
    "fig.update_traces(textfont_size=12, textangle=0, textposition=\"outside\", cliponaxis=False)\n",
    "fig.write_image(\"viz/internal_1930_1940.png\") \n",
    "fig.show()\n",
    "#fig.write_html('1905.html', auto_open=True)"
   ]
  },
  {
   "cell_type": "markdown",
   "id": "12415687-50bb-49fe-898b-25e903e275dc",
   "metadata": {},
   "source": [
    "#### 1930 - 1935"
   ]
  },
  {
   "cell_type": "code",
   "execution_count": null,
   "id": "51c8f3e5-8bc9-4125-bd6b-eafe71aa80b5",
   "metadata": {},
   "outputs": [],
   "source": [
    "i_ag193035['journal_count'] = i_ag193035.groupby(['issueLabel'])['identifier'].transform('count')\n",
    "i_ag193035.sort_values(by=['journal_count'], ascending=False, inplace=True)"
   ]
  },
  {
   "cell_type": "code",
   "execution_count": null,
   "id": "36d1e249-674c-44e6-bc26-eec394871089",
   "metadata": {},
   "outputs": [],
   "source": [
    "fig = px.histogram(i_ag193035, x='issueLabel', color=\"Country\",\n",
    "            title=\"Chains of circulation from AG journals with other AG revues : 1930 - 1940\", \n",
    "            labels={\n",
    "                     \"journal_count\": \"Number of primitive images\",\n",
    "                     \"issueLabel\": \"Journal name\"})\n",
    "fig.update_traces(textfont_size=12, textangle=0, textposition=\"outside\", cliponaxis=False)\n",
    "fig.write_image(\"viz/internal_1930_1935.png\") \n",
    "fig.show()\n",
    "#fig.write_html('1905.html', auto_open=True)"
   ]
  },
  {
   "cell_type": "markdown",
   "id": "276022b5-bf79-42d1-b144-9ba99082925b",
   "metadata": {},
   "source": [
    "#### 1935 - 1940"
   ]
  },
  {
   "cell_type": "code",
   "execution_count": null,
   "id": "6cc0aaa3-d740-466d-afc2-eee0544a7d43",
   "metadata": {},
   "outputs": [],
   "source": [
    "i_ag193540['journal_count'] = i_ag193540.groupby(['issueLabel'])['identifier'].transform('count')\n",
    "i_ag193540.sort_values(by=['journal_count'], ascending=False, inplace=True)"
   ]
  },
  {
   "cell_type": "code",
   "execution_count": null,
   "id": "c687d8cb-c1ed-4d72-9550-5d192c37b991",
   "metadata": {},
   "outputs": [],
   "source": [
    "fig = px.histogram(i_ag193540, x='issueLabel', color=\"Country\",\n",
    "            title=\"Chains of circulation from AG journals with other AG revues : 1930 - 1940\", \n",
    "            labels={\n",
    "                     \"journal_count\": \"Number of primitive images\",\n",
    "                     \"issueLabel\": \"Journal name\"})\n",
    "fig.update_traces(textfont_size=12, textangle=0, textposition=\"outside\", cliponaxis=False)\n",
    "fig.write_image(\"viz/internal_1935_1940.png\") \n",
    "fig.show()\n",
    "#fig.write_html('1905.html', auto_open=True)"
   ]
  },
  {
   "cell_type": "markdown",
   "id": "2f64373f-fb28-4429-aadd-7d91ba99b54e",
   "metadata": {},
   "source": [
    "## Primitive images"
   ]
  },
  {
   "cell_type": "code",
   "execution_count": null,
   "id": "a01dd246-acf9-49a6-a676-3592f43965f0",
   "metadata": {},
   "outputs": [],
   "source": [
    "image_vis = internal_ag.drop_duplicates(subset='url', keep=\"first\")"
   ]
  },
  {
   "cell_type": "code",
   "execution_count": null,
   "id": "0678192f-2f3b-4902-8cb7-bab97b244dcd",
   "metadata": {},
   "outputs": [],
   "source": [
    "image_vis['year'] = pd.DatetimeIndex(image_vis['begin']).year"
   ]
  },
  {
   "cell_type": "code",
   "execution_count": null,
   "id": "c205d19c-e0d1-4669-9011-546149ca73e5",
   "metadata": {},
   "outputs": [],
   "source": [
    "image_vis['image_per_year'] = image_vis.groupby(['year'])['url'].transform('count')\n",
    "image_vis.sort_values(by=['year'], ascending=True, inplace=True)"
   ]
  },
  {
   "cell_type": "code",
   "execution_count": null,
   "id": "8c62288c-8dd8-4691-bab3-4db03c01ff48",
   "metadata": {},
   "outputs": [],
   "source": [
    "fig = px.histogram(image_vis, x='year',\n",
    "            title=\"Primitive images distribution per year\",\n",
    "                  labels={\n",
    "                     \"year\": \"Year of publication\"})\n",
    "fig.update_traces(textfont_size=12, textangle=0, textposition=\"outside\", cliponaxis=False)\n",
    "fig.show()\n",
    "#fig.write_html('viz/image_per_year.html', auto_open=True)\n",
    "fig.write_image(\"viz/image_per_year.png\") "
   ]
  },
  {
   "cell_type": "code",
   "execution_count": null,
   "id": "bf83addc-0ab1-431a-953e-011278a88ff3",
   "metadata": {},
   "outputs": [],
   "source": [
    "fig = px.histogram(image_vis, x='year', color=\"Country\",\n",
    "            title=\"Primitive images distribution per year\",\n",
    "                  labels={\n",
    "                     \"image_per_year\": \"Images per year\",\n",
    "                     \"year\": \"Year of publication\"})\n",
    "fig.update_traces(textfont_size=12, textangle=0, textposition=\"outside\", cliponaxis=False)\n",
    "fig.show()\n",
    "fig.write_html('viz/image_per_year_country.html', auto_open=True)\n",
    "fig.write_image(\"viz/image_per_year_country.png\")"
   ]
  },
  {
   "cell_type": "markdown",
   "id": "84c35887-a6a5-4461-ac21-1b662fb85831",
   "metadata": {},
   "source": [
    "## Analysing the chain"
   ]
  },
  {
   "cell_type": "code",
   "execution_count": null,
   "id": "9c490958-7dcd-4994-bdc8-76b53f5165aa",
   "metadata": {},
   "outputs": [],
   "source": [
    "internal_ag"
   ]
  },
  {
   "cell_type": "code",
   "execution_count": null,
   "id": "b7b46151-359a-4eb7-8d0d-4f0da12a7f66",
   "metadata": {},
   "outputs": [],
   "source": []
  },
  {
   "cell_type": "markdown",
   "id": "efeadb66-a457-4f8f-9c1a-5489bf2ea9c7",
   "metadata": {},
   "source": [
    "## to cut: Sankey"
   ]
  },
  {
   "cell_type": "code",
   "execution_count": null,
   "id": "c8f46960-145f-4719-9b7f-a62de6a493c2",
   "metadata": {},
   "outputs": [],
   "source": [
    "dfs = pd.read_csv(\"/Users/carboni/Downloads/test_sankey.csv\")"
   ]
  },
  {
   "cell_type": "code",
   "execution_count": null,
   "id": "59b7670a-0145-465d-9ed8-ddafd2b215d8",
   "metadata": {},
   "outputs": [],
   "source": [
    "dfs.head()"
   ]
  },
  {
   "cell_type": "code",
   "execution_count": null,
   "id": "a0d06953-3b6a-468d-af61-58a45b69695d",
   "metadata": {},
   "outputs": [],
   "source": [
    "dfs['count'] = dfs.groupby(['url'])['issueLabel'].transform('count')"
   ]
  },
  {
   "cell_type": "code",
   "execution_count": null,
   "id": "01eb9949-3bb6-4795-beb3-6fd8aaec75ae",
   "metadata": {},
   "outputs": [],
   "source": [
    "dfs"
   ]
  },
  {
   "cell_type": "code",
   "execution_count": null,
   "id": "d99ba4d9-4494-4e09-9e23-03e26d86290f",
   "metadata": {},
   "outputs": [],
   "source": [
    "source = [0, 0, 1, 1, 2]\n",
    "target = [2, 3, 4, 5, 4]\n",
    "value = [8, 2, 2, 8, 4]\n",
    "label = [\"L'Esprit nouveau\", \"La Révolution surréaliste\", \"TWO\", \"THREE\", \"FOUR\", \"FIVE\"]"
   ]
  },
  {
   "cell_type": "code",
   "execution_count": null,
   "id": "ffc17750-0ebe-4fd5-b8a4-3f52a3d2dfd3",
   "metadata": {},
   "outputs": [],
   "source": [
    "link = dict(source = source, target = target, value = value)\n",
    "node = dict(label = label, pad=50, thickness=5)\n",
    "data = go.Sankey(link = link, node=node)\n",
    "print(data)\n"
   ]
  },
  {
   "cell_type": "code",
   "execution_count": null,
   "id": "d2d201df-3303-436e-9c6f-160cce80df40",
   "metadata": {},
   "outputs": [],
   "source": [
    "fig = go.Figure(data)\n",
    "fig.show()"
   ]
  },
  {
   "cell_type": "code",
   "execution_count": null,
   "id": "869486dd-767c-4452-ac99-7502bb6ee695",
   "metadata": {},
   "outputs": [],
   "source": []
  },
  {
   "cell_type": "code",
   "execution_count": null,
   "id": "b6654e02-2a36-4e6a-8604-8cea7f2ab5b8",
   "metadata": {},
   "outputs": [],
   "source": []
  },
  {
   "cell_type": "code",
   "execution_count": null,
   "id": "4ec3847c-e17b-4613-8ebf-344ec25df6da",
   "metadata": {},
   "outputs": [],
   "source": []
  },
  {
   "cell_type": "code",
   "execution_count": null,
   "id": "d0e34698-02ae-42ac-bac6-5de90ff257ce",
   "metadata": {},
   "outputs": [],
   "source": []
  },
  {
   "cell_type": "code",
   "execution_count": null,
   "id": "056ffd70-d601-4d97-82eb-48b1962dee1e",
   "metadata": {},
   "outputs": [],
   "source": []
  }
 ],
 "metadata": {
  "kernelspec": {
   "display_name": "Python 3 (ipykernel)",
   "language": "python",
   "name": "python3"
  },
  "language_info": {
   "codemirror_mode": {
    "name": "ipython",
    "version": 3
   },
   "file_extension": ".py",
   "mimetype": "text/x-python",
   "name": "python",
   "nbconvert_exporter": "python",
   "pygments_lexer": "ipython3",
   "version": "3.10.8"
  }
 },
 "nbformat": 4,
 "nbformat_minor": 5
}
