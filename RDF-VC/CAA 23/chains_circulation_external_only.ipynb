{
 "cells": [
  {
   "cell_type": "markdown",
   "id": "61b4a4a7-f1de-4ea9-9d7e-f94c086c9279",
   "metadata": {},
   "source": [
    "# Community detection"
   ]
  },
  {
   "cell_type": "markdown",
   "id": "26e13268-c1ad-4b58-8d02-fc9cf2f750a1",
   "metadata": {},
   "source": [
    "<font size=\"4\">which journal(s) initiate(s) chains of circulations outside the AG community</font>"
   ]
  },
  {
   "cell_type": "code",
   "execution_count": 1,
   "id": "92643912-2714-417c-a1a1-063570cebac1",
   "metadata": {},
   "outputs": [],
   "source": [
    "from SPARQLWrapper import SPARQLWrapper, JSON\n",
    "import pandas as pd\n",
    "import sparql_dataframe\n",
    "import geopandas as gpd\n",
    "from shapely import wkt\n",
    "import matplotlib.pyplot as plt\n",
    "import folium\n",
    "import VizKG.visualize as vkg\n",
    "import plotly.express as px"
   ]
  },
  {
   "cell_type": "code",
   "execution_count": 2,
   "id": "24de7cd0-ac2d-4fe4-a895-2f60c02eb14d",
   "metadata": {},
   "outputs": [],
   "source": [
    "endpoint = \"http://localhost:3030/VisualContagions/sparql\""
   ]
  },
  {
   "cell_type": "markdown",
   "id": "ecf0f3e2-8c69-4a53-9760-bc735a185290",
   "metadata": {},
   "source": [
    "<font size=\"4\">To understand the impact of the AG in other types of publications/communities, we search for clusters that have both images from AG journals as well as images NOT from AG journals</font>"
   ]
  },
  {
   "cell_type": "code",
   "execution_count": 6,
   "id": "82cb2a60-18a9-4035-af30-4f1169d5da6c",
   "metadata": {},
   "outputs": [],
   "source": [
    "q =\"\"\"\n",
    "\n",
    "PREFIX crmdig: <http://www.ics.forth.gr/isl/CRMdig/>\n",
    "PREFIX frbroo: <http://iflastandards.info/ns/fr/frbr/frbroo/>\n",
    "PREFIX crm: <http://www.cidoc-crm.org/cidoc-crm/>\n",
    "PREFIX rdf: <http://www.w3.org/1999/02/22-rdf-syntax-ns#>\n",
    "PREFIX rdfs: <http://www.w3.org/2000/01/rdf-schema#>\n",
    "PREFIX aat: <http://vocab.getty.edu/aat/>\n",
    "\n",
    "\n",
    "SELECT DISTINCT ?cluster ?identifier ?AGJournal ?notAGJournal ?JournalTypeLabel ?image ?image1 WHERE {\n",
    "\n",
    "  \n",
    "\tVALUES ?avantgarde { <https://lod.unige.ch/vc/type/988EE2E2-172C-3104-8DAA-B4D629E814AE> } .\n",
    "\t\n",
    "\n",
    "\t\t?cluster crm:P148_has_component ?image ;\n",
    "           \tcrm:P1_is_identified_by ?identifier .\n",
    "\t\t?image crm:P128i_is_carried_by ?issue . \n",
    "\t\t?issue crm:P2_has_type ?avantgarde;\n",
    "\t\t\t\trdfs:label ?AGJournal.  \n",
    "\n",
    "\n",
    "\t\n",
    "\t\t?cluster crm:P148_has_component ?image1 . \n",
    "\t\t?image1 crm:P128i_is_carried_by ?issue1 . \n",
    "\t\t?issue1 crm:P2_has_type ?type ;\n",
    "\t\t\t\trdfs:label ?notAGJournal .\n",
    "\t\t?type rdfs:label ?JournalTypeLabel .\n",
    "\n",
    "\t\tFILTER (contains(str(?type), \"https://lod.unige.ch/vc/type/\"))\n",
    "\t\tFILTER (?type != ?avantgarde)\n",
    "\n",
    "# Trashy cluster not useful for the analysis\n",
    "\n",
    "\tFILTER NOT EXISTS {\n",
    "                          VALUES ?trash { <https://visualcontagions.unige.ch/explore/duplicates/clusters/0000030040d2720fb2fd94a38df5dc5b0d55e14309962e6c764e23a54a819816cdfe9c20> <https://visualcontagions.unige.ch/explore/duplicates/clusters/000015004c44ed7f0e7150811be78d4b930ef72322476f4d9cadcf1f73b08117bae435a1> <https://visualcontagions.unige.ch/explore/duplicates/clusters/0000e8009061dc5b29fb17872c9c13ac1a64fe42e8b94af2481e59886f28d0156fde0ceb> <https://visualcontagions.unige.ch/explore/duplicates/clusters/00026200b3d151e5c855c651b2a0bea2c9116be1a5e5b7141bacc846b12d3708338ff615> <https://visualcontagions.unige.ch/explore/duplicates/clusters/0000ca00a432dfdd48c6534088f51065c6f2983133e467314d5d6a4560ae5ea16de6f359> <https://visualcontagions.unige.ch/explore/duplicates/clusters/0000e8009061dc5b29fb17872c9c13ac1a64fe42e8b94af2481e59886f28d0156fde0ceb> <https://visualcontagions.unige.ch/explore/duplicates/clusters/00008a005e931cc1f1dc0dc0f82d3ee457c5b642600420ae9313b50ad6c0d75b41b8f1c0> <https://visualcontagions.unige.ch/explore/duplicates/clusters/0001bd00a370039869e9e1bb229cd73ddc231b51110e135de82d755ef72e3b367a5411e9> <https://visualcontagions.unige.ch/explore/duplicates/clusters/000109002f020235176a28018a0944ed84b4b7ddbed8737474caaa5c0b54922a4cd6073c> <https://visualcontagions.unige.ch/explore/duplicates/clusters/00024100820c145c252454de492f79784d2c1df4b3a13d9eabf0179f0e0305b516a764ba> <https://visualcontagions.unige.ch/explore/duplicates/clusters/0003ec00036e6aa8355e0f69196bf6006defd506c93e04722b54cf7831c66c3c3b8dbb05> <https://visualcontagions.unige.ch/explore/duplicates/clusters/00000200f89ef4fb7b639ce5e811ec9ec425c3da3b92dd5edb5d9e64fbf8d010f9d96d71> <https://visualcontagions.unige.ch/explore/duplicates/clusters/0000040066b73cf2a0b0742a0aceecc4dd1724b52dc7afbdc4b48432ee3f0336124798aa> <https://visualcontagions.unige.ch/explore/duplicates/clusters/00001200bed2a9ade1689744b661b58c1d93bcd442cbeafcf07b6460d0df1b33d65f5b86> <https://visualcontagions.unige.ch/explore/duplicates/clusters/000022005d01a84e38421213b8816fd78e4aef0890445f65f81de2ee1459980a6335942a> <https://visualcontagions.unige.ch/explore/duplicates/clusters/00001600fe63944181de71b69fc3900867dc30611de913a214c5d42ac2e7ce3dd7cff99f> <https://visualcontagions.unige.ch/explore/duplicates/clusters/000012009d66187e47b439dd2c2e6668dd9945209f40685c7039c56c563a4aa9bbfa9718> <https://visualcontagions.unige.ch/explore/duplicates/clusters/00000d0069b0d3bd802ae948c1f53b96391afeb46fcd505e999cb56cd37406508e4ef418> <https://visualcontagions.unige.ch/explore/duplicates/clusters/00000b002057ee6db2a8ea72c04e36379e7b035a4d2911a1155b5652230551866825ab90> <https://visualcontagions.unige.ch/explore/duplicates/clusters/00000b0003d9d58d012451307b2ef5fbd75af31eec0c5f1afcdefb10b4ab8fbc38d15615> <https://visualcontagions.unige.ch/explore/duplicates/clusters/00000a00609f4e0b53f5b2ca7afaea13c7a3ba187b05ae3bdd1108598e5226a7aaf18ded> <https://visualcontagions.unige.ch/explore/duplicates/clusters/000008005b033c554cfd743ed238cd05b35f46fe7de56720622971b00aecaf985896fe4a> <https://visualcontagions.unige.ch/explore/duplicates/clusters/00000600d4e85eaf39fb676e999b8d2466a4455d48d70791ff2d4dd1cc4653c248264df3> <https://visualcontagions.unige.ch/explore/duplicates/clusters/00002a00a60bf43cf1fb052165221ee1727e977b2ecf99f820cbbd426d12c6aa6a37d9e4> <https://visualcontagions.unige.ch/explore/duplicates/clusters/0000310098549f748176d2f4efedf76773dca2aafeaf8db5f746daf37a50dd3d0819dbb3> <https://visualcontagions.unige.ch/explore/duplicates/clusters/0003d500d8362a66c04fe8273b00d9470929fd918a6dc6c4395f060e0c5e270f12f54f5c> <https://visualcontagions.unige.ch/explore/duplicates/clusters/0003ff00a6da95a6b61b8c47220d9839b7b4b6afe26daad02ee0c0c291c40ad1bb0bec90> <https://visualcontagions.unige.ch/explore/duplicates/clusters/0000c9000f961bd877cdc346bd51b76a74b698924ae6960e3bbfa0986e7aea7da730930c> <https://visualcontagions.unige.ch/explore/duplicates/clusters/0000d000ecf8a0329d2530d3eb601e077c0e5c298db100b8316c0af9232e41e8a7e8e4ef> <https://visualcontagions.unige.ch/explore/duplicates/clusters/000403008f37a6852f6339eefe0e74225b20553b5d641b32015b15d40ca4d216a540ae2f> <https://visualcontagions.unige.ch/explore/duplicates/clusters/00002400d7b4ea535865b256e1c13f0d6505182ead425183c8f919bfa3309aab1dae43dc> <https://visualcontagions.unige.ch/explore/duplicates/clusters/00001f00c18ad27c34a66610ece997934ce4bc1aa5fbcdad562e58a52ab86792352bfb9c> <https://visualcontagions.unige.ch/explore/duplicates/clusters/00002b000918272590bc01401e6367c6448a222445fe13cabec0a2a38a7b38e598cea622> <https://visualcontagions.unige.ch/explore/duplicates/clusters/000057008d59ea30b6175a9c5c32ebf3caa2c27cce0d569fd3b2a899ebf0107086c3a197> <https://visualcontagions.unige.ch/explore/duplicates/clusters/000028007bf1c23529418f9fba6de2955caa8fa4e1572632151c41a9f1b20c1c5a45a1c5> <https://visualcontagions.unige.ch/explore/duplicates/clusters/00005a009d47a1932fcbbe7ff04ac3017fa6d167f06fe3287477d6c1cedae50451cd67dc> <https://visualcontagions.unige.ch/explore/duplicates/clusters/00001f0087307813ef1d16a6def5d96b8b6550a707da4fd6702aa64d8425b29e6826f049> <https://visualcontagions.unige.ch/explore/duplicates/clusters/00001c0000968f38146238bab2f376c40b0fca62e734f151a85e2ecce4981e0050eb57a0> <https://visualcontagions.unige.ch/explore/duplicates/clusters/00001d00ffc088f4f254a86d70e0a3495bbf5f288b1373e96c6875d487cd1b14076e2702> <https://visualcontagions.unige.ch/explore/duplicates/clusters/00001d000d01d183fa765191f6028c4b69a7e1c9c9ed1d9a3ae14bb9a4731b5172f4b337> <https://visualcontagions.unige.ch/explore/duplicates/clusters/00001c002016002f400721bfa0a32f16e887e64cc4e092cd626a7fb7c426545e0757e7f1> <https://visualcontagions.unige.ch/explore/duplicates/clusters/0002910088db3f58b1c573c281f266c695c21d421c9337abca57d4a51440e13a2f9c5893> <https://visualcontagions.unige.ch/explore/duplicates/clusters/00028200ce1d42e579bb46d53b1b038b5f23bf88a8057f5d5cb9806d9c87dee28477ecc4>\n",
    "                                       } .\n",
    "    ?cluster crm:P1_is_identified_by ?trash . } \n",
    "\n",
    "}\n",
    "\n",
    "\n",
    "\n",
    "\"\"\""
   ]
  },
  {
   "cell_type": "code",
   "execution_count": 7,
   "id": "c5f91f64-f24e-43fe-bf32-c8fee009973a",
   "metadata": {},
   "outputs": [],
   "source": [
    "df = sparql_dataframe.get(endpoint, q)"
   ]
  },
  {
   "cell_type": "code",
   "execution_count": 8,
   "id": "3b3f8c71-b3e7-412e-8e04-de7559e52691",
   "metadata": {},
   "outputs": [
    {
     "data": {
      "text/html": [
       "<div>\n",
       "<style scoped>\n",
       "    .dataframe tbody tr th:only-of-type {\n",
       "        vertical-align: middle;\n",
       "    }\n",
       "\n",
       "    .dataframe tbody tr th {\n",
       "        vertical-align: top;\n",
       "    }\n",
       "\n",
       "    .dataframe thead th {\n",
       "        text-align: right;\n",
       "    }\n",
       "</style>\n",
       "<table border=\"1\" class=\"dataframe\">\n",
       "  <thead>\n",
       "    <tr style=\"text-align: right;\">\n",
       "      <th></th>\n",
       "      <th>cluster</th>\n",
       "      <th>identifier</th>\n",
       "      <th>AGJournal</th>\n",
       "      <th>notAGJournal</th>\n",
       "      <th>JournalTypeLabel</th>\n",
       "      <th>image</th>\n",
       "      <th>image1</th>\n",
       "    </tr>\n",
       "  </thead>\n",
       "  <tbody>\n",
       "    <tr>\n",
       "      <th>0</th>\n",
       "      <td>https://lod.unige.ch/vc/cluster/00000500e18f2d...</td>\n",
       "      <td>https://visualcontagions.unige.ch/explore/dupl...</td>\n",
       "      <td>Dau al Set</td>\n",
       "      <td>Le Cri de Toulouse</td>\n",
       "      <td>News</td>\n",
       "      <td>https://iiif.unige.ch/iiif/2/fedora_ug8079003;...</td>\n",
       "      <td>https://gallica.bnf.fr/iiif/ark:/12148/bpt6k53...</td>\n",
       "    </tr>\n",
       "    <tr>\n",
       "      <th>1</th>\n",
       "      <td>https://lod.unige.ch/vc/cluster/00000500e18f2d...</td>\n",
       "      <td>https://visualcontagions.unige.ch/explore/dupl...</td>\n",
       "      <td>Dau al Set</td>\n",
       "      <td>Le Cri de Toulouse</td>\n",
       "      <td>News</td>\n",
       "      <td>https://iiif.unige.ch/iiif/2/fedora_ug8079003;...</td>\n",
       "      <td>https://gallica.bnf.fr/iiif/ark:/12148/bpt6k53...</td>\n",
       "    </tr>\n",
       "    <tr>\n",
       "      <th>2</th>\n",
       "      <td>https://lod.unige.ch/vc/cluster/00000200825250...</td>\n",
       "      <td>https://visualcontagions.unige.ch/explore/dupl...</td>\n",
       "      <td>Noi</td>\n",
       "      <td>Der Cicerone</td>\n",
       "      <td>Modern Art Journal</td>\n",
       "      <td>https://iiif.unige.ch/iiif/2/fedora_ug8088904;...</td>\n",
       "      <td>https://digi.ub.uni-heidelberg.de/iiif/2/cicer...</td>\n",
       "    </tr>\n",
       "    <tr>\n",
       "      <th>3</th>\n",
       "      <td>https://lod.unige.ch/vc/cluster/human/296</td>\n",
       "      <td>https://visualcontagions.unige.ch/explore/anal...</td>\n",
       "      <td>Umělecký mĕsíčník</td>\n",
       "      <td>La Revue de l'art ancien et moderne</td>\n",
       "      <td>Art History</td>\n",
       "      <td>https://bluemountain.princeton.edu/bluemtn/iii...</td>\n",
       "      <td>https://gallica.bnf.fr/iiif/ark:/12148/bpt6k43...</td>\n",
       "    </tr>\n",
       "    <tr>\n",
       "      <th>4</th>\n",
       "      <td>https://lod.unige.ch/vc/cluster/human/296</td>\n",
       "      <td>https://visualcontagions.unige.ch/explore/anal...</td>\n",
       "      <td>Umělecký mĕsíčník</td>\n",
       "      <td>L'Art vivant (Paris. 1925)</td>\n",
       "      <td>Modern Art Journal</td>\n",
       "      <td>https://bluemountain.princeton.edu/bluemtn/iii...</td>\n",
       "      <td>https://gallica.bnf.fr/iiif/ark:/12148/bpt6k30...</td>\n",
       "    </tr>\n",
       "    <tr>\n",
       "      <th>...</th>\n",
       "      <td>...</td>\n",
       "      <td>...</td>\n",
       "      <td>...</td>\n",
       "      <td>...</td>\n",
       "      <td>...</td>\n",
       "      <td>...</td>\n",
       "      <td>...</td>\n",
       "    </tr>\n",
       "    <tr>\n",
       "      <th>34951</th>\n",
       "      <td>https://lod.unige.ch/vc/cluster/human/223</td>\n",
       "      <td>https://visualcontagions.unige.ch/explore/anal...</td>\n",
       "      <td>La Révolution surréaliste</td>\n",
       "      <td>Arts Magazine</td>\n",
       "      <td>Art Journal</td>\n",
       "      <td>https://gallica.bnf.fr/iiif/ark:/12148/bpt6k15...</td>\n",
       "      <td>https://iiif.archivelab.org/iiif/sim_arts-maga...</td>\n",
       "    </tr>\n",
       "    <tr>\n",
       "      <th>34952</th>\n",
       "      <td>https://lod.unige.ch/vc/cluster/human/223</td>\n",
       "      <td>https://visualcontagions.unige.ch/explore/anal...</td>\n",
       "      <td>La Révolution surréaliste</td>\n",
       "      <td>L'Amour de l'art (1920)</td>\n",
       "      <td>Modern Art Journal</td>\n",
       "      <td>https://gallica.bnf.fr/iiif/ark:/12148/bpt6k15...</td>\n",
       "      <td>https://gallica.bnf.fr/iiif/ark:/12148/bpt6k42...</td>\n",
       "    </tr>\n",
       "    <tr>\n",
       "      <th>34953</th>\n",
       "      <td>https://lod.unige.ch/vc/cluster/human/223</td>\n",
       "      <td>https://visualcontagions.unige.ch/explore/anal...</td>\n",
       "      <td>La Révolution surréaliste</td>\n",
       "      <td>Deutsche Kunst und Dekoration</td>\n",
       "      <td>Decorative Art</td>\n",
       "      <td>https://gallica.bnf.fr/iiif/ark:/12148/bpt6k15...</td>\n",
       "      <td>https://digi.ub.uni-heidelberg.de/iiif/2/dkd19...</td>\n",
       "    </tr>\n",
       "    <tr>\n",
       "      <th>34954</th>\n",
       "      <td>https://lod.unige.ch/vc/cluster/human/223</td>\n",
       "      <td>https://visualcontagions.unige.ch/explore/anal...</td>\n",
       "      <td>La Révolution surréaliste</td>\n",
       "      <td>Der Cicerone</td>\n",
       "      <td>Modern Art Journal</td>\n",
       "      <td>https://gallica.bnf.fr/iiif/ark:/12148/bpt6k15...</td>\n",
       "      <td>https://digi.ub.uni-heidelberg.de/iiif/2/cicer...</td>\n",
       "    </tr>\n",
       "    <tr>\n",
       "      <th>34955</th>\n",
       "      <td>https://lod.unige.ch/vc/cluster/human/223</td>\n",
       "      <td>https://visualcontagions.unige.ch/explore/anal...</td>\n",
       "      <td>La Révolution surréaliste</td>\n",
       "      <td>Le Bulletin de la vie artistique</td>\n",
       "      <td>Modern Art Journal</td>\n",
       "      <td>https://gallica.bnf.fr/iiif/ark:/12148/bpt6k15...</td>\n",
       "      <td>https://gallica.bnf.fr/iiif/ark:/12148/bpt6k61...</td>\n",
       "    </tr>\n",
       "  </tbody>\n",
       "</table>\n",
       "<p>34956 rows × 7 columns</p>\n",
       "</div>"
      ],
      "text/plain": [
       "                                                 cluster  \\\n",
       "0      https://lod.unige.ch/vc/cluster/00000500e18f2d...   \n",
       "1      https://lod.unige.ch/vc/cluster/00000500e18f2d...   \n",
       "2      https://lod.unige.ch/vc/cluster/00000200825250...   \n",
       "3              https://lod.unige.ch/vc/cluster/human/296   \n",
       "4              https://lod.unige.ch/vc/cluster/human/296   \n",
       "...                                                  ...   \n",
       "34951          https://lod.unige.ch/vc/cluster/human/223   \n",
       "34952          https://lod.unige.ch/vc/cluster/human/223   \n",
       "34953          https://lod.unige.ch/vc/cluster/human/223   \n",
       "34954          https://lod.unige.ch/vc/cluster/human/223   \n",
       "34955          https://lod.unige.ch/vc/cluster/human/223   \n",
       "\n",
       "                                              identifier  \\\n",
       "0      https://visualcontagions.unige.ch/explore/dupl...   \n",
       "1      https://visualcontagions.unige.ch/explore/dupl...   \n",
       "2      https://visualcontagions.unige.ch/explore/dupl...   \n",
       "3      https://visualcontagions.unige.ch/explore/anal...   \n",
       "4      https://visualcontagions.unige.ch/explore/anal...   \n",
       "...                                                  ...   \n",
       "34951  https://visualcontagions.unige.ch/explore/anal...   \n",
       "34952  https://visualcontagions.unige.ch/explore/anal...   \n",
       "34953  https://visualcontagions.unige.ch/explore/anal...   \n",
       "34954  https://visualcontagions.unige.ch/explore/anal...   \n",
       "34955  https://visualcontagions.unige.ch/explore/anal...   \n",
       "\n",
       "                       AGJournal                         notAGJournal  \\\n",
       "0                     Dau al Set                   Le Cri de Toulouse   \n",
       "1                     Dau al Set                   Le Cri de Toulouse   \n",
       "2                            Noi                         Der Cicerone   \n",
       "3              Umělecký mĕsíčník  La Revue de l'art ancien et moderne   \n",
       "4              Umělecký mĕsíčník           L'Art vivant (Paris. 1925)   \n",
       "...                          ...                                  ...   \n",
       "34951  La Révolution surréaliste                        Arts Magazine   \n",
       "34952  La Révolution surréaliste              L'Amour de l'art (1920)   \n",
       "34953  La Révolution surréaliste        Deutsche Kunst und Dekoration   \n",
       "34954  La Révolution surréaliste                         Der Cicerone   \n",
       "34955  La Révolution surréaliste     Le Bulletin de la vie artistique   \n",
       "\n",
       "         JournalTypeLabel                                              image  \\\n",
       "0                    News  https://iiif.unige.ch/iiif/2/fedora_ug8079003;...   \n",
       "1                    News  https://iiif.unige.ch/iiif/2/fedora_ug8079003;...   \n",
       "2      Modern Art Journal  https://iiif.unige.ch/iiif/2/fedora_ug8088904;...   \n",
       "3             Art History  https://bluemountain.princeton.edu/bluemtn/iii...   \n",
       "4      Modern Art Journal  https://bluemountain.princeton.edu/bluemtn/iii...   \n",
       "...                   ...                                                ...   \n",
       "34951         Art Journal  https://gallica.bnf.fr/iiif/ark:/12148/bpt6k15...   \n",
       "34952  Modern Art Journal  https://gallica.bnf.fr/iiif/ark:/12148/bpt6k15...   \n",
       "34953      Decorative Art  https://gallica.bnf.fr/iiif/ark:/12148/bpt6k15...   \n",
       "34954  Modern Art Journal  https://gallica.bnf.fr/iiif/ark:/12148/bpt6k15...   \n",
       "34955  Modern Art Journal  https://gallica.bnf.fr/iiif/ark:/12148/bpt6k15...   \n",
       "\n",
       "                                                  image1  \n",
       "0      https://gallica.bnf.fr/iiif/ark:/12148/bpt6k53...  \n",
       "1      https://gallica.bnf.fr/iiif/ark:/12148/bpt6k53...  \n",
       "2      https://digi.ub.uni-heidelberg.de/iiif/2/cicer...  \n",
       "3      https://gallica.bnf.fr/iiif/ark:/12148/bpt6k43...  \n",
       "4      https://gallica.bnf.fr/iiif/ark:/12148/bpt6k30...  \n",
       "...                                                  ...  \n",
       "34951  https://iiif.archivelab.org/iiif/sim_arts-maga...  \n",
       "34952  https://gallica.bnf.fr/iiif/ark:/12148/bpt6k42...  \n",
       "34953  https://digi.ub.uni-heidelberg.de/iiif/2/dkd19...  \n",
       "34954  https://digi.ub.uni-heidelberg.de/iiif/2/cicer...  \n",
       "34955  https://gallica.bnf.fr/iiif/ark:/12148/bpt6k61...  \n",
       "\n",
       "[34956 rows x 7 columns]"
      ]
     },
     "execution_count": 8,
     "metadata": {},
     "output_type": "execute_result"
    }
   ],
   "source": [
    "df"
   ]
  },
  {
   "cell_type": "code",
   "execution_count": null,
   "id": "540f9906-7e40-4ac9-a81a-7c074fd90e5b",
   "metadata": {},
   "outputs": [],
   "source": [
    "df['count_cluster'] = df.groupby(['identifier'])['cluster'].transform('count')\n",
    "df.sort_values(by=['identifier'], ascending=False, inplace=True)"
   ]
  },
  {
   "cell_type": "code",
   "execution_count": null,
   "id": "415c5fc4-af0f-41a9-bff3-f61e1a6dcaea",
   "metadata": {},
   "outputs": [],
   "source": [
    "df['nOfJournalTypes'] = df.groupby(['JournalTypeLabel'])['notAGJournal'].transform('count')\n",
    "df['count_notAGJournal'] = df.groupby(['notAGJournal'])['JournalTypeLabel'].transform('count')"
   ]
  },
  {
   "cell_type": "code",
   "execution_count": null,
   "id": "59e12a05-dc54-4034-a419-203fb0f48cdd",
   "metadata": {},
   "outputs": [],
   "source": [
    "df"
   ]
  },
  {
   "cell_type": "code",
   "execution_count": null,
   "id": "29383be4-35c4-458b-8b0e-7491eec35a3d",
   "metadata": {},
   "outputs": [],
   "source": [
    "df.to_csv('csv/community.csv', index=False)"
   ]
  },
  {
   "cell_type": "code",
   "execution_count": null,
   "id": "1557f3eb-b6c9-4eb3-9410-ab4354ccda24",
   "metadata": {},
   "outputs": [],
   "source": [
    "df_above_20 = df[df['count_cluster'] >= 20]\n",
    "df_above_20 = df_above_20.drop_duplicates(subset='identifier', keep=\"first\")\n",
    "df_above_20.sort_values(by=['count_cluster'], ascending=False, inplace=True)\n",
    "df_above_20.to_csv('csv/df_above_20.csv', index=False)"
   ]
  },
  {
   "cell_type": "code",
   "execution_count": null,
   "id": "85541e4e-6430-427a-833e-2211da4059d0",
   "metadata": {},
   "outputs": [],
   "source": [
    "df_below_50 = df[df['count_cluster'] <= 50]"
   ]
  },
  {
   "cell_type": "code",
   "execution_count": null,
   "id": "4385a9f4-60f6-48ba-ad89-56413bfe7155",
   "metadata": {},
   "outputs": [],
   "source": [
    "df_below_50"
   ]
  },
  {
   "cell_type": "code",
   "execution_count": null,
   "id": "b2f5bd95-c99c-4b55-8126-e6e89cb227dc",
   "metadata": {},
   "outputs": [],
   "source": [
    "df_below_50['count_community'] = df_below_50.groupby(['JournalTypeLabel'])['notAGJournal'].transform('count')"
   ]
  },
  {
   "cell_type": "code",
   "execution_count": null,
   "id": "35aeb94d-b276-4ce9-a84f-ea4ea3277dc3",
   "metadata": {},
   "outputs": [],
   "source": [
    "df_below_50['count_notAGJournal'] = df_below_50.groupby(['notAGJournal'])['JournalTypeLabel'].transform('count')"
   ]
  },
  {
   "cell_type": "code",
   "execution_count": null,
   "id": "fd097622-3f0d-4e93-8d2f-ed62ce545a75",
   "metadata": {},
   "outputs": [],
   "source": [
    "df_below_50['count_AGJournal'] = df_below_50.groupby(['AGJournal'])['identifier'].transform('count')"
   ]
  },
  {
   "cell_type": "code",
   "execution_count": null,
   "id": "53dfd5c9-14e6-4624-84ce-7622229d4e98",
   "metadata": {},
   "outputs": [],
   "source": [
    "df_below_50.to_csv('community_below_50.csv', index=False)"
   ]
  },
  {
   "cell_type": "code",
   "execution_count": null,
   "id": "46635c1d-f1c4-41ad-8d81-22956b723727",
   "metadata": {},
   "outputs": [],
   "source": [
    "df_viz = df_below_50[df_below_50['count_community'] >= 50]\n",
    "\n",
    "fig = px.bar(df_viz, y='count_community', x='JournalTypeLabel', color='notAGJournal',\n",
    "            title=\"Default\")\n",
    "fig.update_traces(textfont_size=12, textangle=0, textposition=\"outside\", cliponaxis=False)\n",
    "#fig.show()\n",
    "fig.write_html('community.html', auto_open=True)"
   ]
  },
  {
   "cell_type": "code",
   "execution_count": null,
   "id": "e50bd7ba-d607-4432-94c2-494661b4bca8",
   "metadata": {},
   "outputs": [],
   "source": [
    "fig = px.sunburst(df_viz, path=['JournalTypeLabel', 'notAGJournal'], values='count_community')\n",
    "fig.update_layout(uniformtext=dict(minsize=10, mode='hide'))\n",
    "#fig.show()\n",
    "fig.write_html('community_sunburst.html', auto_open=True)"
   ]
  },
  {
   "cell_type": "code",
   "execution_count": null,
   "id": "a2a94d20-16f0-466a-a71f-1f72a39b0922",
   "metadata": {},
   "outputs": [],
   "source": []
  }
 ],
 "metadata": {
  "kernelspec": {
   "display_name": "Python 3 (ipykernel)",
   "language": "python",
   "name": "python3"
  },
  "language_info": {
   "codemirror_mode": {
    "name": "ipython",
    "version": 3
   },
   "file_extension": ".py",
   "mimetype": "text/x-python",
   "name": "python",
   "nbconvert_exporter": "python",
   "pygments_lexer": "ipython3",
   "version": "3.10.8"
  }
 },
 "nbformat": 4,
 "nbformat_minor": 5
}
