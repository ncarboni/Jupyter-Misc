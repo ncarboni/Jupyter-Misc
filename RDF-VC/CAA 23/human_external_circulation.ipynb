{
 "cells": [
  {
   "cell_type": "markdown",
   "id": "61b4a4a7-f1de-4ea9-9d7e-f94c086c9279",
   "metadata": {},
   "source": [
    "# Community detection"
   ]
  },
  {
   "cell_type": "markdown",
   "id": "26e13268-c1ad-4b58-8d02-fc9cf2f750a1",
   "metadata": {},
   "source": [
    "<font size=\"4\">which journal(s) initiate(s) chains of circulations outside the AG community</font>"
   ]
  },
  {
   "cell_type": "code",
   "execution_count": 2,
   "id": "92643912-2714-417c-a1a1-063570cebac1",
   "metadata": {},
   "outputs": [],
   "source": [
    "from SPARQLWrapper import SPARQLWrapper, JSON\n",
    "import pandas as pd\n",
    "import sparql_dataframe\n",
    "import geopandas as gpd\n",
    "from shapely import wkt\n",
    "import matplotlib.pyplot as plt\n",
    "import folium\n",
    "import VizKG.visualize as vkg\n",
    "import plotly.express as px\n",
    "from IPython.display import HTML, Image"
   ]
  },
  {
   "cell_type": "code",
   "execution_count": 3,
   "id": "24de7cd0-ac2d-4fe4-a895-2f60c02eb14d",
   "metadata": {},
   "outputs": [],
   "source": [
    "endpoint = \"http://localhost:3030/VCHuman/sparql\""
   ]
  },
  {
   "cell_type": "markdown",
   "id": "ecf0f3e2-8c69-4a53-9760-bc735a185290",
   "metadata": {},
   "source": [
    "<font size=\"4\">To understand the impact of the AG in other types of publications/communities, we search for clusters that have both images from AG journals as well as images NOT from AG journals</font>"
   ]
  },
  {
   "cell_type": "code",
   "execution_count": 4,
   "id": "82cb2a60-18a9-4035-af30-4f1169d5da6c",
   "metadata": {},
   "outputs": [],
   "source": [
    "q =\"\"\"\n",
    "\n",
    "PREFIX crmdig: <http://www.ics.forth.gr/isl/CRMdig/>\n",
    "PREFIX frbroo: <http://iflastandards.info/ns/fr/frbr/frbroo/>\n",
    "PREFIX crm: <http://www.cidoc-crm.org/cidoc-crm/>\n",
    "PREFIX rdf: <http://www.w3.org/1999/02/22-rdf-syntax-ns#>\n",
    "PREFIX rdfs: <http://www.w3.org/2000/01/rdf-schema#>\n",
    "PREFIX aat: <http://vocab.getty.edu/aat/>\n",
    "\n",
    "\n",
    "SELECT DISTINCT ?cluster WHERE {\n",
    "\n",
    "  \n",
    "\tVALUES ?avantgarde { <https://lod.unige.ch/vc/type/988EE2E2-172C-3104-8DAA-B4D629E814AE> } .\n",
    "\t\n",
    "\n",
    "\t\t?cluster crm:P148_has_component ?image ;\n",
    "           \tcrm:P1_is_identified_by ?identifier .\n",
    "\t\t?image crm:P128i_is_carried_by ?issue . \n",
    "\t\t?issue crm:P2_has_type ?avantgarde;\n",
    "\t\t\t\trdfs:label ?AGJournal.  \n",
    "\n",
    "\n",
    "\t\n",
    "\t\t?cluster crm:P148_has_component ?image1 . \n",
    "\t\t?image1 crm:P128i_is_carried_by ?issue1 . \n",
    "\t\t?issue1 crm:P2_has_type ?type ;\n",
    "\t\t\t\trdfs:label ?notAGJournal .\n",
    "\t\t?type rdfs:label ?JournalTypeLabel .\n",
    "\n",
    "\t\tFILTER (contains(str(?type), \"https://lod.unige.ch/vc/type/\"))\n",
    "\t\tFILTER (?type != ?avantgarde)\n",
    "\n",
    "# Trashy cluster not useful for the analysis\n",
    "\n",
    "\tFILTER NOT EXISTS {\n",
    "                         VALUES ?trash {\n",
    "\n",
    "\n",
    "<https://visualcontagions.unige.ch/explore/duplicates/clusters/0000140031d34e7f32f8fd1bd1734060214c3ad24b96e367e6c7ac7b2af6e527cc8c34e8>\n",
    "<https://visualcontagions.unige.ch/explore/duplicates/clusters/00000f00f2517854b489d2bdd53b690c5ff830c0c9f1aad4b60a27941f7781267ef1cf6d>\n",
    "<https://visualcontagions.unige.ch/explore/duplicates/clusters/00000500e18f2dac9c45156004ab5cb9939ea646d784722ff6c1ffac5bc37ca091252e43>\n",
    "<https://visualcontagions.unige.ch/explore/duplicates/clusters/000005009220cc1b213b05cab3efc43f0e4561a36e216780fd363dc3ead1f01368b33892>\n",
    "<https://visualcontagions.unige.ch/explore/duplicates/clusters/0000040077e6a6c83e14343f6f6640aeeda400ff79c66e15558495f38a570229ad9088da>\n",
    "<https://visualcontagions.unige.ch/explore/duplicates/clusters/000004001433a294563676e3499ab3f3877fb7c388dff9a5b91fc17a69d60ea565814536>\n",
    "<https://visualcontagions.unige.ch/explore/duplicates/clusters/00000300c7466ff7352ae34a7341e0bb573f1537bba5788f9698df593f00176adf8ed978>\n",
    "<https://visualcontagions.unige.ch/explore/duplicates/clusters/00000300b2355781a9e3f1dbdb79ffa77e67ad7da85ddddc1b790f4aefed59d2e45ee6a7>\n",
    "<https://visualcontagions.unige.ch/explore/duplicates/clusters/0000030063404a0b0f25c4bc11f2589dcc74b4b1e0989ce265572a46d13a6f91eb6a9f1e>\n",
    "<https://visualcontagions.unige.ch/explore/duplicates/clusters/0000030039ac3a0cdc635027c14d500278366e1e2d767267aa062f58c359d0841ac6f37d>\n",
    "<https://visualcontagions.unige.ch/explore/duplicates/clusters/00000300368959fdd010d08813b6d7d34ab791758478818f879759c1f3c6455c1983d25a>\n",
    "<https://visualcontagions.unige.ch/explore/duplicates/clusters/000003002d62f3a250c7310a2440b06f3de7c606651e206c3579454081a24a89d1878351>                         \n",
    "<https://visualcontagions.unige.ch/explore/duplicates/clusters/00000300019e9b2c78d92b6f56d6d01b99fc4c722d55e9e9872dda2e634f2b0cdd02cfb8>\n",
    "<https://visualcontagions.unige.ch/explore/duplicates/clusters/00000200e0b8e0d04e36ee62cb79253ae7fcc151fa922fe902ab36885f4abcc47fdcca4e>\n",
    "<https://visualcontagions.unige.ch/explore/duplicates/clusters/000002006b69c25c491d4e7aca5e62f66747d03cb47abb810859c34e66df831c293fa8a8>\n",
    "<https://visualcontagions.unige.ch/explore/duplicates/clusters/0000020061273c01a5333060afef4bfd7f379cd01afb5eeb849390d3ea85b2479d84a08f>\n",
    "<https://visualcontagions.unige.ch/explore/duplicates/clusters/000002002cb36192f01631ce9d01048c27246acbb60f2fde7d2d4bfdfed1804c31b4bdb9>                         \n",
    "<https://visualcontagions.unige.ch/explore/duplicates/clusters/0000020021801a7508f0295ee7be2a86ea9763bfb0078aef44c89552351caea2aea3a3ea>\n",
    "<https://visualcontagions.unige.ch/explore/duplicates/clusters/00000600c6af7d32a5d172ca59bb1997a4ef6e983d60d06f5b3a3755fbc65ae1957ce23c>\n",
    "<https://visualcontagions.unige.ch/explore/duplicates/clusters/00000700fb49c1f48487902b4437e16cc2d78b89e3a98f52c8f65c0e4eedd85d80e217b1>\n",
    "<https://visualcontagions.unige.ch/explore/duplicates/clusters/00000700fb79995772c00bb4d73d2b5e91c91d7781e7268c7c0b6a2606e4c01cfcf66ac5>\n",
    "<https://visualcontagions.unige.ch/explore/duplicates/clusters/0000090015ff635e61946bf01b675ffc6877c07c6e7725f68a3839a2f852f62ec67995dc>\n",
    "<https://visualcontagions.unige.ch/explore/duplicates/clusters/00000a00a7abfe7063f803a5dcd90cc8d54008e7a3e69f07e487a0fd40b1b279bc79eef8>\n",
    "<https://visualcontagions.unige.ch/explore/duplicates/clusters/00000a00feca4edc94d98d05c7a13833c7564e324cd20be9051832da916e9d70ae07ad1f>\n",
    "<https://visualcontagions.unige.ch/explore/duplicates/clusters/00000a0065d77d414af0128714e423067fdd3a73230699c7194f079ace217c302713f314>\n",
    "<https://visualcontagions.unige.ch/explore/duplicates/clusters/00000e00aa775ab9acbab969b79714d2d78737b258410af160aec663e8c3e407a849e288>\n",
    "<https://visualcontagions.unige.ch/explore/duplicates/clusters/0000180098a1d3bd96c00a6c0f612ed33db5e18664e5e44e29e899c739cb46efb5c9359b>\n",
    "<https://visualcontagions.unige.ch/explore/duplicates/clusters/00001800c35c11877c73151184ef51a631b37e6e0f026c72ba48b32e4789422e11c09fbf>\n",
    "<https://visualcontagions.unige.ch/explore/duplicates/clusters/00001b00906fbaf5aa338463ada02b2778d69154a89525e13026eadc19cd82862a95cd69>\n",
    "<https://visualcontagions.unige.ch/explore/duplicates/clusters/00002200a85e3117d932d5ef5a9c5d178e43a8d6dc07bde665a426d313568bfa5ea3a9f9>\n",
    "<https://visualcontagions.unige.ch/explore/duplicates/clusters/00002500745277a76e3c39dfaee431f9ac5c0b4520e1855440cddfdec90e7d5882af5063> \n",
    "<https://visualcontagions.unige.ch/explore/duplicates/clusters/00003c0079fca5aa32f21f894f60a5dd25ba17e720c469af10a6e4b1df453de30fe93e17> \n",
    "<https://visualcontagions.unige.ch/explore/duplicates/clusters/00003d00c899a5073ac5851b4552ef41cddb8a59959cbaff5aede5cbd5aa624f13984e04> \n",
    "<https://visualcontagions.unige.ch/explore/duplicates/clusters/00001e002b2b66d8341fe8685ad3b9df6bc17590236bead713432c79bc2914b23e888c73> \n",
    "<https://visualcontagions.unige.ch/explore/duplicates/clusters/0000490021648c6fcce403be16b80d654186ffafd7635e4e0906a65516aff956179a61d3> \n",
    "<https://visualcontagions.unige.ch/explore/duplicates/clusters/0000030040d2720fb2fd94a38df5dc5b0d55e14309962e6c764e23a54a819816cdfe9c20> \n",
    "<https://visualcontagions.unige.ch/explore/duplicates/clusters/000015004c44ed7f0e7150811be78d4b930ef72322476f4d9cadcf1f73b08117bae435a1> \n",
    "<https://visualcontagions.unige.ch/explore/duplicates/clusters/0000e8009061dc5b29fb17872c9c13ac1a64fe42e8b94af2481e59886f28d0156fde0ceb> \n",
    "<https://visualcontagions.unige.ch/explore/duplicates/clusters/00026200b3d151e5c855c651b2a0bea2c9116be1a5e5b7141bacc846b12d3708338ff615> \n",
    "<https://visualcontagions.unige.ch/explore/duplicates/clusters/0000ca00a432dfdd48c6534088f51065c6f2983133e467314d5d6a4560ae5ea16de6f359> \n",
    "<https://visualcontagions.unige.ch/explore/duplicates/clusters/0000e8009061dc5b29fb17872c9c13ac1a64fe42e8b94af2481e59886f28d0156fde0ceb> \n",
    "<https://visualcontagions.unige.ch/explore/duplicates/clusters/00008a005e931cc1f1dc0dc0f82d3ee457c5b642600420ae9313b50ad6c0d75b41b8f1c0> \n",
    "<https://visualcontagions.unige.ch/explore/duplicates/clusters/0001bd00a370039869e9e1bb229cd73ddc231b51110e135de82d755ef72e3b367a5411e9> \n",
    "<https://visualcontagions.unige.ch/explore/duplicates/clusters/000109002f020235176a28018a0944ed84b4b7ddbed8737474caaa5c0b54922a4cd6073c> \n",
    "<https://visualcontagions.unige.ch/explore/duplicates/clusters/00024100820c145c252454de492f79784d2c1df4b3a13d9eabf0179f0e0305b516a764ba> \n",
    "<https://visualcontagions.unige.ch/explore/duplicates/clusters/0003ec00036e6aa8355e0f69196bf6006defd506c93e04722b54cf7831c66c3c3b8dbb05> \n",
    "<https://visualcontagions.unige.ch/explore/duplicates/clusters/00000200f89ef4fb7b639ce5e811ec9ec425c3da3b92dd5edb5d9e64fbf8d010f9d96d71> \n",
    "<https://visualcontagions.unige.ch/explore/duplicates/clusters/0000040066b73cf2a0b0742a0aceecc4dd1724b52dc7afbdc4b48432ee3f0336124798aa> \n",
    "<https://visualcontagions.unige.ch/explore/duplicates/clusters/00001200bed2a9ade1689744b661b58c1d93bcd442cbeafcf07b6460d0df1b33d65f5b86> \n",
    "<https://visualcontagions.unige.ch/explore/duplicates/clusters/000022005d01a84e38421213b8816fd78e4aef0890445f65f81de2ee1459980a6335942a> \n",
    "<https://visualcontagions.unige.ch/explore/duplicates/clusters/00001600fe63944181de71b69fc3900867dc30611de913a214c5d42ac2e7ce3dd7cff99f> \n",
    "<https://visualcontagions.unige.ch/explore/duplicates/clusters/000012009d66187e47b439dd2c2e6668dd9945209f40685c7039c56c563a4aa9bbfa9718> \n",
    "<https://visualcontagions.unige.ch/explore/duplicates/clusters/00000d0069b0d3bd802ae948c1f53b96391afeb46fcd505e999cb56cd37406508e4ef418> \n",
    "<https://visualcontagions.unige.ch/explore/duplicates/clusters/00000b002057ee6db2a8ea72c04e36379e7b035a4d2911a1155b5652230551866825ab90> \n",
    "<https://visualcontagions.unige.ch/explore/duplicates/clusters/00000b0003d9d58d012451307b2ef5fbd75af31eec0c5f1afcdefb10b4ab8fbc38d15615> \n",
    "<https://visualcontagions.unige.ch/explore/duplicates/clusters/00000a00609f4e0b53f5b2ca7afaea13c7a3ba187b05ae3bdd1108598e5226a7aaf18ded> \n",
    "<https://visualcontagions.unige.ch/explore/duplicates/clusters/000008005b033c554cfd743ed238cd05b35f46fe7de56720622971b00aecaf985896fe4a> \n",
    "<https://visualcontagions.unige.ch/explore/duplicates/clusters/00000600d4e85eaf39fb676e999b8d2466a4455d48d70791ff2d4dd1cc4653c248264df3> \n",
    "<https://visualcontagions.unige.ch/explore/duplicates/clusters/00002a00a60bf43cf1fb052165221ee1727e977b2ecf99f820cbbd426d12c6aa6a37d9e4> \n",
    "<https://visualcontagions.unige.ch/explore/duplicates/clusters/0000310098549f748176d2f4efedf76773dca2aafeaf8db5f746daf37a50dd3d0819dbb3> \n",
    "<https://visualcontagions.unige.ch/explore/duplicates/clusters/0003d500d8362a66c04fe8273b00d9470929fd918a6dc6c4395f060e0c5e270f12f54f5c> \n",
    "<https://visualcontagions.unige.ch/explore/duplicates/clusters/0003ff00a6da95a6b61b8c47220d9839b7b4b6afe26daad02ee0c0c291c40ad1bb0bec90> \n",
    "<https://visualcontagions.unige.ch/explore/duplicates/clusters/0000c9000f961bd877cdc346bd51b76a74b698924ae6960e3bbfa0986e7aea7da730930c> \n",
    "<https://visualcontagions.unige.ch/explore/duplicates/clusters/0000d000ecf8a0329d2530d3eb601e077c0e5c298db100b8316c0af9232e41e8a7e8e4ef> \n",
    "<https://visualcontagions.unige.ch/explore/duplicates/clusters/000403008f37a6852f6339eefe0e74225b20553b5d641b32015b15d40ca4d216a540ae2f> \n",
    "<https://visualcontagions.unige.ch/explore/duplicates/clusters/00002400d7b4ea535865b256e1c13f0d6505182ead425183c8f919bfa3309aab1dae43dc> \n",
    "<https://visualcontagions.unige.ch/explore/duplicates/clusters/00001f00c18ad27c34a66610ece997934ce4bc1aa5fbcdad562e58a52ab86792352bfb9c> \n",
    "<https://visualcontagions.unige.ch/explore/duplicates/clusters/00002b000918272590bc01401e6367c6448a222445fe13cabec0a2a38a7b38e598cea622> \n",
    "<https://visualcontagions.unige.ch/explore/duplicates/clusters/000057008d59ea30b6175a9c5c32ebf3caa2c27cce0d569fd3b2a899ebf0107086c3a197> \n",
    "<https://visualcontagions.unige.ch/explore/duplicates/clusters/000028007bf1c23529418f9fba6de2955caa8fa4e1572632151c41a9f1b20c1c5a45a1c5> \n",
    "<https://visualcontagions.unige.ch/explore/duplicates/clusters/00005a009d47a1932fcbbe7ff04ac3017fa6d167f06fe3287477d6c1cedae50451cd67dc> \n",
    "<https://visualcontagions.unige.ch/explore/duplicates/clusters/00001f0087307813ef1d16a6def5d96b8b6550a707da4fd6702aa64d8425b29e6826f049> \n",
    "<https://visualcontagions.unige.ch/explore/duplicates/clusters/00001c0000968f38146238bab2f376c40b0fca62e734f151a85e2ecce4981e0050eb57a0> \n",
    "<https://visualcontagions.unige.ch/explore/duplicates/clusters/00001d00ffc088f4f254a86d70e0a3495bbf5f288b1373e96c6875d487cd1b14076e2702> \n",
    "<https://visualcontagions.unige.ch/explore/duplicates/clusters/00001d000d01d183fa765191f6028c4b69a7e1c9c9ed1d9a3ae14bb9a4731b5172f4b337> \n",
    "<https://visualcontagions.unige.ch/explore/duplicates/clusters/00001c002016002f400721bfa0a32f16e887e64cc4e092cd626a7fb7c426545e0757e7f1> \n",
    "<https://visualcontagions.unige.ch/explore/duplicates/clusters/0002910088db3f58b1c573c281f266c695c21d421c9337abca57d4a51440e13a2f9c5893> \n",
    "<https://visualcontagions.unige.ch/explore/duplicates/clusters/00028200ce1d42e579bb46d53b1b038b5f23bf88a8057f5d5cb9806d9c87dee28477ecc4>\n",
    "} .\n",
    "    ?cluster crm:P1_is_identified_by ?trash . } \n",
    "\n",
    "}\n",
    "\n",
    "\n",
    "\n",
    "\"\"\""
   ]
  },
  {
   "cell_type": "code",
   "execution_count": 5,
   "id": "c5f91f64-f24e-43fe-bf32-c8fee009973a",
   "metadata": {},
   "outputs": [],
   "source": [
    "df = sparql_dataframe.get(endpoint, q)"
   ]
  },
  {
   "cell_type": "code",
   "execution_count": 6,
   "id": "3b3f8c71-b3e7-412e-8e04-de7559e52691",
   "metadata": {},
   "outputs": [
    {
     "data": {
      "text/html": [
       "<div>\n",
       "<style scoped>\n",
       "    .dataframe tbody tr th:only-of-type {\n",
       "        vertical-align: middle;\n",
       "    }\n",
       "\n",
       "    .dataframe tbody tr th {\n",
       "        vertical-align: top;\n",
       "    }\n",
       "\n",
       "    .dataframe thead th {\n",
       "        text-align: right;\n",
       "    }\n",
       "</style>\n",
       "<table border=\"1\" class=\"dataframe\">\n",
       "  <thead>\n",
       "    <tr style=\"text-align: right;\">\n",
       "      <th></th>\n",
       "      <th>cluster</th>\n",
       "    </tr>\n",
       "  </thead>\n",
       "  <tbody>\n",
       "    <tr>\n",
       "      <th>0</th>\n",
       "      <td>https://lod.unige.ch/vc/cluster/human/353</td>\n",
       "    </tr>\n",
       "    <tr>\n",
       "      <th>1</th>\n",
       "      <td>https://lod.unige.ch/vc/cluster/human/352</td>\n",
       "    </tr>\n",
       "    <tr>\n",
       "      <th>2</th>\n",
       "      <td>https://lod.unige.ch/vc/cluster/human/376</td>\n",
       "    </tr>\n",
       "    <tr>\n",
       "      <th>3</th>\n",
       "      <td>https://lod.unige.ch/vc/cluster/human/210</td>\n",
       "    </tr>\n",
       "    <tr>\n",
       "      <th>4</th>\n",
       "      <td>https://lod.unige.ch/vc/cluster/human/331</td>\n",
       "    </tr>\n",
       "    <tr>\n",
       "      <th>...</th>\n",
       "      <td>...</td>\n",
       "    </tr>\n",
       "    <tr>\n",
       "      <th>73</th>\n",
       "      <td>https://lod.unige.ch/vc/cluster/human/366</td>\n",
       "    </tr>\n",
       "    <tr>\n",
       "      <th>74</th>\n",
       "      <td>https://lod.unige.ch/vc/cluster/human/402</td>\n",
       "    </tr>\n",
       "    <tr>\n",
       "      <th>75</th>\n",
       "      <td>https://lod.unige.ch/vc/cluster/human/57</td>\n",
       "    </tr>\n",
       "    <tr>\n",
       "      <th>76</th>\n",
       "      <td>https://lod.unige.ch/vc/cluster/human/335</td>\n",
       "    </tr>\n",
       "    <tr>\n",
       "      <th>77</th>\n",
       "      <td>https://lod.unige.ch/vc/cluster/human/228</td>\n",
       "    </tr>\n",
       "  </tbody>\n",
       "</table>\n",
       "<p>78 rows × 1 columns</p>\n",
       "</div>"
      ],
      "text/plain": [
       "                                      cluster\n",
       "0   https://lod.unige.ch/vc/cluster/human/353\n",
       "1   https://lod.unige.ch/vc/cluster/human/352\n",
       "2   https://lod.unige.ch/vc/cluster/human/376\n",
       "3   https://lod.unige.ch/vc/cluster/human/210\n",
       "4   https://lod.unige.ch/vc/cluster/human/331\n",
       "..                                        ...\n",
       "73  https://lod.unige.ch/vc/cluster/human/366\n",
       "74  https://lod.unige.ch/vc/cluster/human/402\n",
       "75   https://lod.unige.ch/vc/cluster/human/57\n",
       "76  https://lod.unige.ch/vc/cluster/human/335\n",
       "77  https://lod.unige.ch/vc/cluster/human/228\n",
       "\n",
       "[78 rows x 1 columns]"
      ]
     },
     "execution_count": 6,
     "metadata": {},
     "output_type": "execute_result"
    }
   ],
   "source": [
    "df"
   ]
  },
  {
   "cell_type": "code",
   "execution_count": 7,
   "id": "8f4bf7b8-b571-49b9-93fd-5fae05115669",
   "metadata": {},
   "outputs": [],
   "source": [
    "df['cluster'] = '<' + df['cluster'].astype(str)\n",
    "df['cluster'] = df['cluster'].astype(str) +  '>' \n",
    "cluster = df[\"cluster\"].values.tolist()"
   ]
  },
  {
   "cell_type": "code",
   "execution_count": 8,
   "id": "bb72bf35-ac51-484b-90d7-2ec9790e42ab",
   "metadata": {},
   "outputs": [
    {
     "name": "stdout",
     "output_type": "stream",
     "text": [
      "We retrieved 78 clusters with mix of images coming from AG journal and not AG journal\n"
     ]
    }
   ],
   "source": [
    "n_cluster = len(cluster)\n",
    "print(\"We retrieved {} clusters with mix of images coming from AG journal and not AG journal\".format(n_cluster))"
   ]
  },
  {
   "cell_type": "code",
   "execution_count": 9,
   "id": "ae6c37bc-4865-44b9-bd4d-12341dc226aa",
   "metadata": {},
   "outputs": [],
   "source": [
    "separator = ' '\n",
    "values = separator.join(cluster)"
   ]
  },
  {
   "cell_type": "code",
   "execution_count": 10,
   "id": "8579d2aa-03db-44b4-90aa-cca08165072b",
   "metadata": {},
   "outputs": [],
   "source": [
    "q1= \"\"\"\n",
    "    PREFIX crmdig: <http://www.ics.forth.gr/isl/CRMdig/>\n",
    "    PREFIX frbroo: <http://iflastandards.info/ns/fr/frbr/frbroo/>\n",
    "    PREFIX crm: <http://www.cidoc-crm.org/cidoc-crm/>\n",
    "    PREFIX rdf: <http://www.w3.org/1999/02/22-rdf-syntax-ns#>\n",
    "    PREFIX rdfs: <http://www.w3.org/2000/01/rdf-schema#>\n",
    "    PREFIX aat: <http://vocab.getty.edu/aat/>\n",
    "    PREFIX xsd: <http://www.w3.org/2001/XMLSchema#>\n",
    "    \n",
    "    SELECT DISTINCT ?cluster ?identifier ?image ?issueLabel ?countryLabel ?labelType ?cityLabel ?begin {\n",
    "    VALUES ?cluster { %s } .\n",
    "    \n",
    "    ?cluster crm:P148_has_component ?image ;\n",
    "           \tcrm:P1_is_identified_by ?identifier .\n",
    "            \n",
    "            ?image crm:P128i_is_carried_by ?issue . \n",
    "\t\t\n",
    "        ?issue crm:P108i_was_produced_by ?production ;\n",
    "                rdfs:label ?issueLabel ;\n",
    "                crm:P2_has_type ?typeIssue .\n",
    "        ?typeIssue rdfs:label ?labelType .\n",
    "        \n",
    "        ?production crm:P4_has_time-span ?time ;\n",
    "                     crm:P7_took_place_at ?country .\n",
    "                     \n",
    "        ?time a crm:E52_Time-Span;\n",
    "                crm:P81a_end_of_the_begin ?begin . \n",
    "        \n",
    "        ?country crm:P2_has_type aat:300387506 ;\n",
    "                rdfs:label ?countryLabel .\n",
    "        \n",
    "        OPTIONAL {\n",
    "        \n",
    "        ?production crm:P7_took_place_at ?city .\n",
    "        ?city crm:P2_has_type aat:300008389 ;\n",
    "                rdfs:label ?cityLabel .\n",
    "        }\n",
    "          \n",
    "    }    \n",
    "    \n",
    "\"\"\" % values"
   ]
  },
  {
   "cell_type": "code",
   "execution_count": 11,
   "id": "11bfbb5c-73ff-4e89-af28-c46e5b1d7716",
   "metadata": {},
   "outputs": [],
   "source": [
    "df1 = sparql_dataframe.get(endpoint, q1)"
   ]
  },
  {
   "cell_type": "markdown",
   "id": "3354fe69-768f-45cd-9913-06488d93beaa",
   "metadata": {},
   "source": [
    "## External perspective"
   ]
  },
  {
   "cell_type": "markdown",
   "id": "91fd5687-a328-4a02-ba06-9d6fb853c212",
   "metadata": {},
   "source": [
    "<font size=\"4\">The result of the query give us a list of cluster that have at least one AG image in it. At this stage we sort the results and we extract the year of publication.</font>"
   ]
  },
  {
   "cell_type": "code",
   "execution_count": 12,
   "id": "bc743a24-3171-4c74-a18b-6c088b771340",
   "metadata": {},
   "outputs": [],
   "source": [
    "df1['Datetime'] = pd.to_datetime(df1['begin'])\n",
    "df1['year'] = pd.DatetimeIndex(df1['begin']).year"
   ]
  },
  {
   "cell_type": "markdown",
   "id": "9b4383e0-3cef-47bf-b610-18a2c8b93cac",
   "metadata": {},
   "source": [
    "## Analysing results"
   ]
  },
  {
   "cell_type": "code",
   "execution_count": 13,
   "id": "f870ddb5-22c0-400a-a597-1088ed39c13b",
   "metadata": {},
   "outputs": [],
   "source": [
    "df1.sort_values(['identifier', 'Datetime'], ascending=[True, True])\n",
    "df1.to_csv('csv/community.csv', index=False)"
   ]
  },
  {
   "cell_type": "markdown",
   "id": "66b371d1-6202-4c23-b891-2dda64389eb3",
   "metadata": {},
   "source": [
    "<font size=\"4\">We select only the AG image that start chains of circulation. We select the earlier published image in the cluster and we filter them for AG.</font>"
   ]
  },
  {
   "cell_type": "code",
   "execution_count": 62,
   "id": "d510bb54-7e57-4816-b8a1-fd7e07f4e800",
   "metadata": {},
   "outputs": [],
   "source": [
    "p_images = df1.groupby('identifier', group_keys=False).apply(lambda g: g[g['begin'].eq(g['begin'].min())].sample(n=1))"
   ]
  },
  {
   "cell_type": "code",
   "execution_count": 63,
   "id": "01e0a0a3-99bf-4d59-b64e-04a654b0882f",
   "metadata": {},
   "outputs": [],
   "source": [
    "p_ag = p_images.query(\"labelType == 'Avant-garde Journal'\")"
   ]
  },
  {
   "cell_type": "code",
   "execution_count": 64,
   "id": "b6b53110-e8ad-4f46-aca7-9c3df9569d9c",
   "metadata": {},
   "outputs": [],
   "source": [
    "p_ag = p_ag.drop_duplicates(subset='image', keep=\"first\")\n",
    "p_ag.to_csv('csv/p_ag.csv', index=False)"
   ]
  },
  {
   "cell_type": "markdown",
   "id": "fbcb9230-6c4a-4348-80b3-302d0f1653ed",
   "metadata": {},
   "source": [
    "## Visualise the impact of a Journal"
   ]
  },
  {
   "cell_type": "code",
   "execution_count": 65,
   "id": "aac25ce6-fd42-4589-9c2d-133876c40969",
   "metadata": {},
   "outputs": [],
   "source": [
    "p_ag.rename({ 'countryLabel': 'Country'}, axis=1, inplace=True)"
   ]
  },
  {
   "cell_type": "code",
   "execution_count": 66,
   "id": "4dd8b083-a367-4730-b3e8-f8bb6148c264",
   "metadata": {},
   "outputs": [],
   "source": [
    "p_ag['count_journal'] = p_ag.groupby(['issueLabel'])['identifier'].transform('count')\n",
    "p_ag.to_csv('csv/p_ag.csv', index=False)"
   ]
  },
  {
   "cell_type": "code",
   "execution_count": 23,
   "id": "21605d41-85b3-4b1d-b4b7-069d6a2a7a2a",
   "metadata": {},
   "outputs": [],
   "source": [
    "top = p_ag[p_ag['count_journal'] >= 3]"
   ]
  },
  {
   "cell_type": "code",
   "execution_count": 67,
   "id": "79b8ab1c-92e5-489d-8b6d-1b787bbe97ed",
   "metadata": {},
   "outputs": [
    {
     "data": {
      "text/html": [
       "<div>\n",
       "<style scoped>\n",
       "    .dataframe tbody tr th:only-of-type {\n",
       "        vertical-align: middle;\n",
       "    }\n",
       "\n",
       "    .dataframe tbody tr th {\n",
       "        vertical-align: top;\n",
       "    }\n",
       "\n",
       "    .dataframe thead th {\n",
       "        text-align: right;\n",
       "    }\n",
       "</style>\n",
       "<table border=\"1\" class=\"dataframe\">\n",
       "  <thead>\n",
       "    <tr style=\"text-align: right;\">\n",
       "      <th></th>\n",
       "      <th>cluster</th>\n",
       "      <th>identifier</th>\n",
       "      <th>image</th>\n",
       "      <th>issueLabel</th>\n",
       "      <th>Country</th>\n",
       "      <th>labelType</th>\n",
       "      <th>cityLabel</th>\n",
       "      <th>begin</th>\n",
       "      <th>Datetime</th>\n",
       "      <th>year</th>\n",
       "      <th>primitive</th>\n",
       "      <th>count_journal</th>\n",
       "    </tr>\n",
       "  </thead>\n",
       "  <tbody>\n",
       "    <tr>\n",
       "      <th>638</th>\n",
       "      <td>https://lod.unige.ch/vc/cluster/human/10</td>\n",
       "      <td>https://visualcontagions.unige.ch/explore/anal...</td>\n",
       "      <td>https://bluemountain.princeton.edu/bluemtn/iii...</td>\n",
       "      <td>Der Sturm</td>\n",
       "      <td>Germany</td>\n",
       "      <td>Avant-garde Journal</td>\n",
       "      <td>Berlin</td>\n",
       "      <td>1923-01-04T00:00:00</td>\n",
       "      <td>1923-01-04</td>\n",
       "      <td>1923</td>\n",
       "      <td>primitive</td>\n",
       "      <td>2</td>\n",
       "    </tr>\n",
       "    <tr>\n",
       "      <th>478</th>\n",
       "      <td>https://lod.unige.ch/vc/cluster/human/12</td>\n",
       "      <td>https://visualcontagions.unige.ch/explore/anal...</td>\n",
       "      <td>https://gallica.bnf.fr/iiif/ark:/12148/bpt6k15...</td>\n",
       "      <td>La Révolution surréaliste</td>\n",
       "      <td>France</td>\n",
       "      <td>Avant-garde Journal</td>\n",
       "      <td>Paris</td>\n",
       "      <td>1925-07-15T00:00:00</td>\n",
       "      <td>1925-07-15</td>\n",
       "      <td>1925</td>\n",
       "      <td>primitive</td>\n",
       "      <td>4</td>\n",
       "    </tr>\n",
       "    <tr>\n",
       "      <th>263</th>\n",
       "      <td>https://lod.unige.ch/vc/cluster/human/13</td>\n",
       "      <td>https://visualcontagions.unige.ch/explore/anal...</td>\n",
       "      <td>https://iiif.unige.ch/iiif/2/fedora_ug8093833;...</td>\n",
       "      <td>De Stijl</td>\n",
       "      <td>Netherlands</td>\n",
       "      <td>Avant-garde Journal</td>\n",
       "      <td>Delft</td>\n",
       "      <td>1919-02-01T00:00:00</td>\n",
       "      <td>1919-02-01</td>\n",
       "      <td>1919</td>\n",
       "      <td>no</td>\n",
       "      <td>2</td>\n",
       "    </tr>\n",
       "    <tr>\n",
       "      <th>311</th>\n",
       "      <td>https://lod.unige.ch/vc/cluster/human/14</td>\n",
       "      <td>https://visualcontagions.unige.ch/explore/anal...</td>\n",
       "      <td>https://gallica.bnf.fr/iiif/ark:/12148/bpt6k10...</td>\n",
       "      <td>L'Esprit nouveau (Paris. 1920)</td>\n",
       "      <td>France</td>\n",
       "      <td>Avant-garde Journal</td>\n",
       "      <td>Paris</td>\n",
       "      <td>1921-01-01T00:00:00</td>\n",
       "      <td>1921-01-01</td>\n",
       "      <td>1921</td>\n",
       "      <td>primitive</td>\n",
       "      <td>6</td>\n",
       "    </tr>\n",
       "    <tr>\n",
       "      <th>219</th>\n",
       "      <td>https://lod.unige.ch/vc/cluster/human/203</td>\n",
       "      <td>https://visualcontagions.unige.ch/explore/anal...</td>\n",
       "      <td>https://bluemountain.princeton.edu/bluemtn/iii...</td>\n",
       "      <td>Umělecký mĕsíčník</td>\n",
       "      <td>Czech Republic</td>\n",
       "      <td>Avant-garde Journal</td>\n",
       "      <td>Prague</td>\n",
       "      <td>1912-01-08T00:00:00</td>\n",
       "      <td>1912-01-08</td>\n",
       "      <td>1912</td>\n",
       "      <td>primitive</td>\n",
       "      <td>5</td>\n",
       "    </tr>\n",
       "    <tr>\n",
       "      <th>421</th>\n",
       "      <td>https://lod.unige.ch/vc/cluster/human/208</td>\n",
       "      <td>https://visualcontagions.unige.ch/explore/anal...</td>\n",
       "      <td>https://gallica.bnf.fr/iiif/ark:/12148/bpt6k10...</td>\n",
       "      <td>L'Esprit nouveau (Paris. 1920)</td>\n",
       "      <td>France</td>\n",
       "      <td>Avant-garde Journal</td>\n",
       "      <td>Paris</td>\n",
       "      <td>1922-01-01T00:00:00</td>\n",
       "      <td>1922-01-01</td>\n",
       "      <td>1922</td>\n",
       "      <td>primitive</td>\n",
       "      <td>6</td>\n",
       "    </tr>\n",
       "    <tr>\n",
       "      <th>41</th>\n",
       "      <td>https://lod.unige.ch/vc/cluster/human/210</td>\n",
       "      <td>https://visualcontagions.unige.ch/explore/anal...</td>\n",
       "      <td>https://bluemountain.princeton.edu/bluemtn/iii...</td>\n",
       "      <td>Action: cahiers individualistes de philosophie...</td>\n",
       "      <td>France</td>\n",
       "      <td>Avant-garde Journal</td>\n",
       "      <td>Paris</td>\n",
       "      <td>1920-01-03T00:00:00</td>\n",
       "      <td>1920-01-03</td>\n",
       "      <td>1920</td>\n",
       "      <td>primitive</td>\n",
       "      <td>1</td>\n",
       "    </tr>\n",
       "    <tr>\n",
       "      <th>441</th>\n",
       "      <td>https://lod.unige.ch/vc/cluster/human/211</td>\n",
       "      <td>https://visualcontagions.unige.ch/explore/anal...</td>\n",
       "      <td>https://gallica.bnf.fr/iiif/ark:/12148/bpt6k89...</td>\n",
       "      <td>Montjoie ! Organe de l'impérialsime artistique...</td>\n",
       "      <td>France</td>\n",
       "      <td>Avant-garde Journal</td>\n",
       "      <td>Paris</td>\n",
       "      <td>1914-01-01T00:00:00</td>\n",
       "      <td>1914-01-01</td>\n",
       "      <td>1914</td>\n",
       "      <td>primitive</td>\n",
       "      <td>1</td>\n",
       "    </tr>\n",
       "    <tr>\n",
       "      <th>881</th>\n",
       "      <td>https://lod.unige.ch/vc/cluster/human/217</td>\n",
       "      <td>https://visualcontagions.unige.ch/explore/anal...</td>\n",
       "      <td>https://gallica.bnf.fr/iiif/ark:/12148/bpt6k97...</td>\n",
       "      <td>Cahiers d'art (Paris)</td>\n",
       "      <td>France</td>\n",
       "      <td>Avant-garde Journal</td>\n",
       "      <td>Paris</td>\n",
       "      <td>1937-01-01T00:00:00</td>\n",
       "      <td>1937-01-01</td>\n",
       "      <td>1937</td>\n",
       "      <td>no</td>\n",
       "      <td>12</td>\n",
       "    </tr>\n",
       "    <tr>\n",
       "      <th>790</th>\n",
       "      <td>https://lod.unige.ch/vc/cluster/human/218</td>\n",
       "      <td>https://visualcontagions.unige.ch/explore/anal...</td>\n",
       "      <td>https://gallica.bnf.fr/iiif/ark:/12148/bpt6k10...</td>\n",
       "      <td>L'Esprit nouveau (Paris. 1920)</td>\n",
       "      <td>France</td>\n",
       "      <td>Avant-garde Journal</td>\n",
       "      <td>Paris</td>\n",
       "      <td>1922-01-01T00:00:00</td>\n",
       "      <td>1922-01-01</td>\n",
       "      <td>1922</td>\n",
       "      <td>primitive</td>\n",
       "      <td>6</td>\n",
       "    </tr>\n",
       "    <tr>\n",
       "      <th>596</th>\n",
       "      <td>https://lod.unige.ch/vc/cluster/human/226</td>\n",
       "      <td>https://visualcontagions.unige.ch/explore/anal...</td>\n",
       "      <td>https://bluemountain.princeton.edu/bluemtn/iii...</td>\n",
       "      <td>Der Sturm</td>\n",
       "      <td>Germany</td>\n",
       "      <td>Avant-garde Journal</td>\n",
       "      <td>Berlin</td>\n",
       "      <td>1919-10-10T00:00:00</td>\n",
       "      <td>1919-10-10</td>\n",
       "      <td>1919</td>\n",
       "      <td>no</td>\n",
       "      <td>2</td>\n",
       "    </tr>\n",
       "    <tr>\n",
       "      <th>623</th>\n",
       "      <td>https://lod.unige.ch/vc/cluster/human/232</td>\n",
       "      <td>https://visualcontagions.unige.ch/explore/anal...</td>\n",
       "      <td>https://gallica.bnf.fr/iiif/ark:/12148/bpt6k10...</td>\n",
       "      <td>L'Esprit nouveau (Paris. 1920)</td>\n",
       "      <td>France</td>\n",
       "      <td>Avant-garde Journal</td>\n",
       "      <td>Paris</td>\n",
       "      <td>1924-01-01T00:00:00</td>\n",
       "      <td>1924-01-01</td>\n",
       "      <td>1924</td>\n",
       "      <td>primitive</td>\n",
       "      <td>6</td>\n",
       "    </tr>\n",
       "    <tr>\n",
       "      <th>788</th>\n",
       "      <td>https://lod.unige.ch/vc/cluster/human/292</td>\n",
       "      <td>https://visualcontagions.unige.ch/explore/anal...</td>\n",
       "      <td>https://gallica.bnf.fr/iiif/ark:/12148/bpt6k10...</td>\n",
       "      <td>L'Esprit nouveau (Paris. 1920)</td>\n",
       "      <td>France</td>\n",
       "      <td>Avant-garde Journal</td>\n",
       "      <td>Paris</td>\n",
       "      <td>1920-01-01T00:00:00</td>\n",
       "      <td>1920-01-01</td>\n",
       "      <td>1920</td>\n",
       "      <td>primitive</td>\n",
       "      <td>6</td>\n",
       "    </tr>\n",
       "    <tr>\n",
       "      <th>179</th>\n",
       "      <td>https://lod.unige.ch/vc/cluster/human/296</td>\n",
       "      <td>https://visualcontagions.unige.ch/explore/anal...</td>\n",
       "      <td>https://bluemountain.princeton.edu/bluemtn/iii...</td>\n",
       "      <td>Umělecký mĕsíčník</td>\n",
       "      <td>Czech Republic</td>\n",
       "      <td>Avant-garde Journal</td>\n",
       "      <td>Prague</td>\n",
       "      <td>1912-01-08T00:00:00</td>\n",
       "      <td>1912-01-08</td>\n",
       "      <td>1912</td>\n",
       "      <td>primitive</td>\n",
       "      <td>5</td>\n",
       "    </tr>\n",
       "    <tr>\n",
       "      <th>772</th>\n",
       "      <td>https://lod.unige.ch/vc/cluster/human/300</td>\n",
       "      <td>https://visualcontagions.unige.ch/explore/anal...</td>\n",
       "      <td>https://gallica.bnf.fr/iiif/ark:/12148/bpt6k97...</td>\n",
       "      <td>Cahiers d'art (Paris)</td>\n",
       "      <td>France</td>\n",
       "      <td>Avant-garde Journal</td>\n",
       "      <td>Paris</td>\n",
       "      <td>1926-01-01T00:00:00</td>\n",
       "      <td>1926-01-01</td>\n",
       "      <td>1926</td>\n",
       "      <td>primitive</td>\n",
       "      <td>12</td>\n",
       "    </tr>\n",
       "    <tr>\n",
       "      <th>717</th>\n",
       "      <td>https://lod.unige.ch/vc/cluster/human/302</td>\n",
       "      <td>https://visualcontagions.unige.ch/explore/anal...</td>\n",
       "      <td>https://gallica.bnf.fr/iiif/ark:/12148/bpt6k15...</td>\n",
       "      <td>La Révolution surréaliste</td>\n",
       "      <td>France</td>\n",
       "      <td>Avant-garde Journal</td>\n",
       "      <td>Paris</td>\n",
       "      <td>1926-12-01T00:00:00</td>\n",
       "      <td>1926-12-01</td>\n",
       "      <td>1926</td>\n",
       "      <td>primitive</td>\n",
       "      <td>4</td>\n",
       "    </tr>\n",
       "    <tr>\n",
       "      <th>847</th>\n",
       "      <td>https://lod.unige.ch/vc/cluster/human/321</td>\n",
       "      <td>https://visualcontagions.unige.ch/explore/anal...</td>\n",
       "      <td>https://bluemountain.princeton.edu/bluemtn/iii...</td>\n",
       "      <td>Umělecký mĕsíčník</td>\n",
       "      <td>Czech Republic</td>\n",
       "      <td>Avant-garde Journal</td>\n",
       "      <td>Prague</td>\n",
       "      <td>1914-01-01T00:00:00</td>\n",
       "      <td>1914-01-01</td>\n",
       "      <td>1914</td>\n",
       "      <td>primitive</td>\n",
       "      <td>5</td>\n",
       "    </tr>\n",
       "    <tr>\n",
       "      <th>766</th>\n",
       "      <td>https://lod.unige.ch/vc/cluster/human/329</td>\n",
       "      <td>https://visualcontagions.unige.ch/explore/anal...</td>\n",
       "      <td>https://gallica.bnf.fr/iiif/ark:/12148/bpt6k15...</td>\n",
       "      <td>La Révolution surréaliste</td>\n",
       "      <td>France</td>\n",
       "      <td>Avant-garde Journal</td>\n",
       "      <td>Paris</td>\n",
       "      <td>1925-04-15T00:00:00</td>\n",
       "      <td>1925-04-15</td>\n",
       "      <td>1925</td>\n",
       "      <td>primitive</td>\n",
       "      <td>4</td>\n",
       "    </tr>\n",
       "    <tr>\n",
       "      <th>721</th>\n",
       "      <td>https://lod.unige.ch/vc/cluster/human/330</td>\n",
       "      <td>https://visualcontagions.unige.ch/explore/anal...</td>\n",
       "      <td>https://gallica.bnf.fr/iiif/ark:/12148/bpt6k97...</td>\n",
       "      <td>Cahiers d'art (Paris)</td>\n",
       "      <td>France</td>\n",
       "      <td>Avant-garde Journal</td>\n",
       "      <td>Paris</td>\n",
       "      <td>1928-01-01T00:00:00</td>\n",
       "      <td>1928-01-01</td>\n",
       "      <td>1928</td>\n",
       "      <td>no</td>\n",
       "      <td>12</td>\n",
       "    </tr>\n",
       "    <tr>\n",
       "      <th>44</th>\n",
       "      <td>https://lod.unige.ch/vc/cluster/human/331</td>\n",
       "      <td>https://visualcontagions.unige.ch/explore/anal...</td>\n",
       "      <td>https://gallica.bnf.fr/iiif/ark:/12148/bpt6k97...</td>\n",
       "      <td>Cahiers d'art (Paris)</td>\n",
       "      <td>France</td>\n",
       "      <td>Avant-garde Journal</td>\n",
       "      <td>Paris</td>\n",
       "      <td>1928-01-01T00:00:00</td>\n",
       "      <td>1928-01-01</td>\n",
       "      <td>1928</td>\n",
       "      <td>primitive</td>\n",
       "      <td>12</td>\n",
       "    </tr>\n",
       "    <tr>\n",
       "      <th>736</th>\n",
       "      <td>https://lod.unige.ch/vc/cluster/human/332</td>\n",
       "      <td>https://visualcontagions.unige.ch/explore/anal...</td>\n",
       "      <td>https://gallica.bnf.fr/iiif/ark:/12148/bpt6k97...</td>\n",
       "      <td>Cahiers d'art (Paris)</td>\n",
       "      <td>France</td>\n",
       "      <td>Avant-garde Journal</td>\n",
       "      <td>Paris</td>\n",
       "      <td>1926-01-01T00:00:00</td>\n",
       "      <td>1926-01-01</td>\n",
       "      <td>1926</td>\n",
       "      <td>no</td>\n",
       "      <td>12</td>\n",
       "    </tr>\n",
       "    <tr>\n",
       "      <th>950</th>\n",
       "      <td>https://lod.unige.ch/vc/cluster/human/335</td>\n",
       "      <td>https://visualcontagions.unige.ch/explore/anal...</td>\n",
       "      <td>https://bluemountain.princeton.edu/bluemtn/iii...</td>\n",
       "      <td>Broom: An International Magazine of the Arts</td>\n",
       "      <td>United States of America</td>\n",
       "      <td>Avant-garde Journal</td>\n",
       "      <td>New York City</td>\n",
       "      <td>1921-01-11T00:00:00</td>\n",
       "      <td>1921-01-11</td>\n",
       "      <td>1921</td>\n",
       "      <td>primitive</td>\n",
       "      <td>1</td>\n",
       "    </tr>\n",
       "    <tr>\n",
       "      <th>475</th>\n",
       "      <td>https://lod.unige.ch/vc/cluster/human/338</td>\n",
       "      <td>https://visualcontagions.unige.ch/explore/anal...</td>\n",
       "      <td>https://gallica.bnf.fr/iiif/ark:/12148/bpt6k42...</td>\n",
       "      <td>Cahiers d'art (Paris)</td>\n",
       "      <td>France</td>\n",
       "      <td>Avant-garde Journal</td>\n",
       "      <td>Paris</td>\n",
       "      <td>1931-01-01T00:00:00</td>\n",
       "      <td>1931-01-01</td>\n",
       "      <td>1931</td>\n",
       "      <td>primitive</td>\n",
       "      <td>12</td>\n",
       "    </tr>\n",
       "    <tr>\n",
       "      <th>643</th>\n",
       "      <td>https://lod.unige.ch/vc/cluster/human/340</td>\n",
       "      <td>https://visualcontagions.unige.ch/explore/anal...</td>\n",
       "      <td>https://gallica.bnf.fr/iiif/ark:/12148/bpt6k97...</td>\n",
       "      <td>Cahiers d'art (Paris)</td>\n",
       "      <td>France</td>\n",
       "      <td>Avant-garde Journal</td>\n",
       "      <td>Paris</td>\n",
       "      <td>1928-01-01T00:00:00</td>\n",
       "      <td>1928-01-01</td>\n",
       "      <td>1928</td>\n",
       "      <td>primitive</td>\n",
       "      <td>12</td>\n",
       "    </tr>\n",
       "    <tr>\n",
       "      <th>47</th>\n",
       "      <td>https://lod.unige.ch/vc/cluster/human/341</td>\n",
       "      <td>https://visualcontagions.unige.ch/explore/anal...</td>\n",
       "      <td>https://gallica.bnf.fr/iiif/ark:/12148/bpt6k97...</td>\n",
       "      <td>Cahiers d'art (Paris)</td>\n",
       "      <td>France</td>\n",
       "      <td>Avant-garde Journal</td>\n",
       "      <td>Paris</td>\n",
       "      <td>1928-01-01T00:00:00</td>\n",
       "      <td>1928-01-01</td>\n",
       "      <td>1928</td>\n",
       "      <td>primitive</td>\n",
       "      <td>12</td>\n",
       "    </tr>\n",
       "    <tr>\n",
       "      <th>4</th>\n",
       "      <td>https://lod.unige.ch/vc/cluster/human/352</td>\n",
       "      <td>https://visualcontagions.unige.ch/explore/anal...</td>\n",
       "      <td>https://gallica.bnf.fr/iiif/ark:/12148/bpt6k97...</td>\n",
       "      <td>Cahiers d'art (Paris)</td>\n",
       "      <td>France</td>\n",
       "      <td>Avant-garde Journal</td>\n",
       "      <td>Paris</td>\n",
       "      <td>1929-01-01T00:00:00</td>\n",
       "      <td>1929-01-01</td>\n",
       "      <td>1929</td>\n",
       "      <td>primitive</td>\n",
       "      <td>12</td>\n",
       "    </tr>\n",
       "    <tr>\n",
       "      <th>2</th>\n",
       "      <td>https://lod.unige.ch/vc/cluster/human/353</td>\n",
       "      <td>https://visualcontagions.unige.ch/explore/anal...</td>\n",
       "      <td>https://gallica.bnf.fr/iiif/ark:/12148/bpt6k32...</td>\n",
       "      <td>Les Soirées de Paris</td>\n",
       "      <td>France</td>\n",
       "      <td>Avant-garde Journal</td>\n",
       "      <td>Paris</td>\n",
       "      <td>1914-01-01T00:00:00</td>\n",
       "      <td>1914-01-01</td>\n",
       "      <td>1914</td>\n",
       "      <td>primitive</td>\n",
       "      <td>1</td>\n",
       "    </tr>\n",
       "    <tr>\n",
       "      <th>867</th>\n",
       "      <td>https://lod.unige.ch/vc/cluster/human/354</td>\n",
       "      <td>https://visualcontagions.unige.ch/explore/anal...</td>\n",
       "      <td>https://bluemountain.princeton.edu/bluemtn/iii...</td>\n",
       "      <td>Umělecký mĕsíčník</td>\n",
       "      <td>Czech Republic</td>\n",
       "      <td>Avant-garde Journal</td>\n",
       "      <td>Prague</td>\n",
       "      <td>1913-01-01T00:00:00</td>\n",
       "      <td>1913-01-01</td>\n",
       "      <td>1913</td>\n",
       "      <td>primitive</td>\n",
       "      <td>5</td>\n",
       "    </tr>\n",
       "    <tr>\n",
       "      <th>645</th>\n",
       "      <td>https://lod.unige.ch/vc/cluster/human/356</td>\n",
       "      <td>https://visualcontagions.unige.ch/explore/anal...</td>\n",
       "      <td>https://gallica.bnf.fr/iiif/ark:/12148/bpt6k42...</td>\n",
       "      <td>Cahiers d'art (Paris)</td>\n",
       "      <td>France</td>\n",
       "      <td>Avant-garde Journal</td>\n",
       "      <td>Paris</td>\n",
       "      <td>1931-01-01T00:00:00</td>\n",
       "      <td>1931-01-01</td>\n",
       "      <td>1931</td>\n",
       "      <td>primitive</td>\n",
       "      <td>12</td>\n",
       "    </tr>\n",
       "    <tr>\n",
       "      <th>804</th>\n",
       "      <td>https://lod.unige.ch/vc/cluster/human/369</td>\n",
       "      <td>https://visualcontagions.unige.ch/explore/anal...</td>\n",
       "      <td>https://bluemountain.princeton.edu/bluemtn/iii...</td>\n",
       "      <td>Umělecký mĕsíčník</td>\n",
       "      <td>Czech Republic</td>\n",
       "      <td>Avant-garde Journal</td>\n",
       "      <td>Prague</td>\n",
       "      <td>1914-01-01T00:00:00</td>\n",
       "      <td>1914-01-01</td>\n",
       "      <td>1914</td>\n",
       "      <td>primitive</td>\n",
       "      <td>5</td>\n",
       "    </tr>\n",
       "    <tr>\n",
       "      <th>781</th>\n",
       "      <td>https://lod.unige.ch/vc/cluster/human/373</td>\n",
       "      <td>https://visualcontagions.unige.ch/explore/anal...</td>\n",
       "      <td>https://gallica.bnf.fr/iiif/ark:/12148/bpt6k97...</td>\n",
       "      <td>Cahiers d'art (Paris)</td>\n",
       "      <td>France</td>\n",
       "      <td>Avant-garde Journal</td>\n",
       "      <td>Paris</td>\n",
       "      <td>1930-01-01T00:00:00</td>\n",
       "      <td>1930-01-01</td>\n",
       "      <td>1930</td>\n",
       "      <td>no</td>\n",
       "      <td>12</td>\n",
       "    </tr>\n",
       "    <tr>\n",
       "      <th>8</th>\n",
       "      <td>https://lod.unige.ch/vc/cluster/human/376</td>\n",
       "      <td>https://visualcontagions.unige.ch/explore/anal...</td>\n",
       "      <td>https://gallica.bnf.fr/iiif/ark:/12148/bpt6k97...</td>\n",
       "      <td>Cahiers d'art (Paris)</td>\n",
       "      <td>France</td>\n",
       "      <td>Avant-garde Journal</td>\n",
       "      <td>Paris</td>\n",
       "      <td>1929-01-01T00:00:00</td>\n",
       "      <td>1929-01-01</td>\n",
       "      <td>1929</td>\n",
       "      <td>primitive</td>\n",
       "      <td>12</td>\n",
       "    </tr>\n",
       "    <tr>\n",
       "      <th>865</th>\n",
       "      <td>https://lod.unige.ch/vc/cluster/human/390</td>\n",
       "      <td>https://visualcontagions.unige.ch/explore/anal...</td>\n",
       "      <td>https://iiif.unige.ch/iiif/2/fedora_ug8026323;...</td>\n",
       "      <td>De Stijl</td>\n",
       "      <td>Netherlands</td>\n",
       "      <td>Avant-garde Journal</td>\n",
       "      <td>Delft</td>\n",
       "      <td>1919-12-01T00:00:00</td>\n",
       "      <td>1919-12-01</td>\n",
       "      <td>1919</td>\n",
       "      <td>primitive</td>\n",
       "      <td>2</td>\n",
       "    </tr>\n",
       "    <tr>\n",
       "      <th>125</th>\n",
       "      <td>https://lod.unige.ch/vc/cluster/human/50</td>\n",
       "      <td>https://visualcontagions.unige.ch/explore/anal...</td>\n",
       "      <td>https://gallica.bnf.fr/iiif/ark:/12148/bpt6k10...</td>\n",
       "      <td>L'Esprit nouveau (Paris. 1920)</td>\n",
       "      <td>France</td>\n",
       "      <td>Avant-garde Journal</td>\n",
       "      <td>Paris</td>\n",
       "      <td>1920-01-01T00:00:00</td>\n",
       "      <td>1920-01-01</td>\n",
       "      <td>1920</td>\n",
       "      <td>primitive</td>\n",
       "      <td>6</td>\n",
       "    </tr>\n",
       "    <tr>\n",
       "      <th>77</th>\n",
       "      <td>https://lod.unige.ch/vc/cluster/human/58</td>\n",
       "      <td>https://visualcontagions.unige.ch/explore/anal...</td>\n",
       "      <td>https://gallica.bnf.fr/iiif/ark:/12148/bpt6k15...</td>\n",
       "      <td>La Révolution surréaliste</td>\n",
       "      <td>France</td>\n",
       "      <td>Avant-garde Journal</td>\n",
       "      <td>Paris</td>\n",
       "      <td>1925-07-15T00:00:00</td>\n",
       "      <td>1925-07-15</td>\n",
       "      <td>1925</td>\n",
       "      <td>primitive</td>\n",
       "      <td>4</td>\n",
       "    </tr>\n",
       "  </tbody>\n",
       "</table>\n",
       "</div>"
      ],
      "text/plain": [
       "                                       cluster  \\\n",
       "638   https://lod.unige.ch/vc/cluster/human/10   \n",
       "478   https://lod.unige.ch/vc/cluster/human/12   \n",
       "263   https://lod.unige.ch/vc/cluster/human/13   \n",
       "311   https://lod.unige.ch/vc/cluster/human/14   \n",
       "219  https://lod.unige.ch/vc/cluster/human/203   \n",
       "421  https://lod.unige.ch/vc/cluster/human/208   \n",
       "41   https://lod.unige.ch/vc/cluster/human/210   \n",
       "441  https://lod.unige.ch/vc/cluster/human/211   \n",
       "881  https://lod.unige.ch/vc/cluster/human/217   \n",
       "790  https://lod.unige.ch/vc/cluster/human/218   \n",
       "596  https://lod.unige.ch/vc/cluster/human/226   \n",
       "623  https://lod.unige.ch/vc/cluster/human/232   \n",
       "788  https://lod.unige.ch/vc/cluster/human/292   \n",
       "179  https://lod.unige.ch/vc/cluster/human/296   \n",
       "772  https://lod.unige.ch/vc/cluster/human/300   \n",
       "717  https://lod.unige.ch/vc/cluster/human/302   \n",
       "847  https://lod.unige.ch/vc/cluster/human/321   \n",
       "766  https://lod.unige.ch/vc/cluster/human/329   \n",
       "721  https://lod.unige.ch/vc/cluster/human/330   \n",
       "44   https://lod.unige.ch/vc/cluster/human/331   \n",
       "736  https://lod.unige.ch/vc/cluster/human/332   \n",
       "950  https://lod.unige.ch/vc/cluster/human/335   \n",
       "475  https://lod.unige.ch/vc/cluster/human/338   \n",
       "643  https://lod.unige.ch/vc/cluster/human/340   \n",
       "47   https://lod.unige.ch/vc/cluster/human/341   \n",
       "4    https://lod.unige.ch/vc/cluster/human/352   \n",
       "2    https://lod.unige.ch/vc/cluster/human/353   \n",
       "867  https://lod.unige.ch/vc/cluster/human/354   \n",
       "645  https://lod.unige.ch/vc/cluster/human/356   \n",
       "804  https://lod.unige.ch/vc/cluster/human/369   \n",
       "781  https://lod.unige.ch/vc/cluster/human/373   \n",
       "8    https://lod.unige.ch/vc/cluster/human/376   \n",
       "865  https://lod.unige.ch/vc/cluster/human/390   \n",
       "125   https://lod.unige.ch/vc/cluster/human/50   \n",
       "77    https://lod.unige.ch/vc/cluster/human/58   \n",
       "\n",
       "                                            identifier  \\\n",
       "638  https://visualcontagions.unige.ch/explore/anal...   \n",
       "478  https://visualcontagions.unige.ch/explore/anal...   \n",
       "263  https://visualcontagions.unige.ch/explore/anal...   \n",
       "311  https://visualcontagions.unige.ch/explore/anal...   \n",
       "219  https://visualcontagions.unige.ch/explore/anal...   \n",
       "421  https://visualcontagions.unige.ch/explore/anal...   \n",
       "41   https://visualcontagions.unige.ch/explore/anal...   \n",
       "441  https://visualcontagions.unige.ch/explore/anal...   \n",
       "881  https://visualcontagions.unige.ch/explore/anal...   \n",
       "790  https://visualcontagions.unige.ch/explore/anal...   \n",
       "596  https://visualcontagions.unige.ch/explore/anal...   \n",
       "623  https://visualcontagions.unige.ch/explore/anal...   \n",
       "788  https://visualcontagions.unige.ch/explore/anal...   \n",
       "179  https://visualcontagions.unige.ch/explore/anal...   \n",
       "772  https://visualcontagions.unige.ch/explore/anal...   \n",
       "717  https://visualcontagions.unige.ch/explore/anal...   \n",
       "847  https://visualcontagions.unige.ch/explore/anal...   \n",
       "766  https://visualcontagions.unige.ch/explore/anal...   \n",
       "721  https://visualcontagions.unige.ch/explore/anal...   \n",
       "44   https://visualcontagions.unige.ch/explore/anal...   \n",
       "736  https://visualcontagions.unige.ch/explore/anal...   \n",
       "950  https://visualcontagions.unige.ch/explore/anal...   \n",
       "475  https://visualcontagions.unige.ch/explore/anal...   \n",
       "643  https://visualcontagions.unige.ch/explore/anal...   \n",
       "47   https://visualcontagions.unige.ch/explore/anal...   \n",
       "4    https://visualcontagions.unige.ch/explore/anal...   \n",
       "2    https://visualcontagions.unige.ch/explore/anal...   \n",
       "867  https://visualcontagions.unige.ch/explore/anal...   \n",
       "645  https://visualcontagions.unige.ch/explore/anal...   \n",
       "804  https://visualcontagions.unige.ch/explore/anal...   \n",
       "781  https://visualcontagions.unige.ch/explore/anal...   \n",
       "8    https://visualcontagions.unige.ch/explore/anal...   \n",
       "865  https://visualcontagions.unige.ch/explore/anal...   \n",
       "125  https://visualcontagions.unige.ch/explore/anal...   \n",
       "77   https://visualcontagions.unige.ch/explore/anal...   \n",
       "\n",
       "                                                 image  \\\n",
       "638  https://bluemountain.princeton.edu/bluemtn/iii...   \n",
       "478  https://gallica.bnf.fr/iiif/ark:/12148/bpt6k15...   \n",
       "263  https://iiif.unige.ch/iiif/2/fedora_ug8093833;...   \n",
       "311  https://gallica.bnf.fr/iiif/ark:/12148/bpt6k10...   \n",
       "219  https://bluemountain.princeton.edu/bluemtn/iii...   \n",
       "421  https://gallica.bnf.fr/iiif/ark:/12148/bpt6k10...   \n",
       "41   https://bluemountain.princeton.edu/bluemtn/iii...   \n",
       "441  https://gallica.bnf.fr/iiif/ark:/12148/bpt6k89...   \n",
       "881  https://gallica.bnf.fr/iiif/ark:/12148/bpt6k97...   \n",
       "790  https://gallica.bnf.fr/iiif/ark:/12148/bpt6k10...   \n",
       "596  https://bluemountain.princeton.edu/bluemtn/iii...   \n",
       "623  https://gallica.bnf.fr/iiif/ark:/12148/bpt6k10...   \n",
       "788  https://gallica.bnf.fr/iiif/ark:/12148/bpt6k10...   \n",
       "179  https://bluemountain.princeton.edu/bluemtn/iii...   \n",
       "772  https://gallica.bnf.fr/iiif/ark:/12148/bpt6k97...   \n",
       "717  https://gallica.bnf.fr/iiif/ark:/12148/bpt6k15...   \n",
       "847  https://bluemountain.princeton.edu/bluemtn/iii...   \n",
       "766  https://gallica.bnf.fr/iiif/ark:/12148/bpt6k15...   \n",
       "721  https://gallica.bnf.fr/iiif/ark:/12148/bpt6k97...   \n",
       "44   https://gallica.bnf.fr/iiif/ark:/12148/bpt6k97...   \n",
       "736  https://gallica.bnf.fr/iiif/ark:/12148/bpt6k97...   \n",
       "950  https://bluemountain.princeton.edu/bluemtn/iii...   \n",
       "475  https://gallica.bnf.fr/iiif/ark:/12148/bpt6k42...   \n",
       "643  https://gallica.bnf.fr/iiif/ark:/12148/bpt6k97...   \n",
       "47   https://gallica.bnf.fr/iiif/ark:/12148/bpt6k97...   \n",
       "4    https://gallica.bnf.fr/iiif/ark:/12148/bpt6k97...   \n",
       "2    https://gallica.bnf.fr/iiif/ark:/12148/bpt6k32...   \n",
       "867  https://bluemountain.princeton.edu/bluemtn/iii...   \n",
       "645  https://gallica.bnf.fr/iiif/ark:/12148/bpt6k42...   \n",
       "804  https://bluemountain.princeton.edu/bluemtn/iii...   \n",
       "781  https://gallica.bnf.fr/iiif/ark:/12148/bpt6k97...   \n",
       "8    https://gallica.bnf.fr/iiif/ark:/12148/bpt6k97...   \n",
       "865  https://iiif.unige.ch/iiif/2/fedora_ug8026323;...   \n",
       "125  https://gallica.bnf.fr/iiif/ark:/12148/bpt6k10...   \n",
       "77   https://gallica.bnf.fr/iiif/ark:/12148/bpt6k15...   \n",
       "\n",
       "                                            issueLabel  \\\n",
       "638                                          Der Sturm   \n",
       "478                          La Révolution surréaliste   \n",
       "263                                           De Stijl   \n",
       "311                     L'Esprit nouveau (Paris. 1920)   \n",
       "219                                  Umělecký mĕsíčník   \n",
       "421                     L'Esprit nouveau (Paris. 1920)   \n",
       "41   Action: cahiers individualistes de philosophie...   \n",
       "441  Montjoie ! Organe de l'impérialsime artistique...   \n",
       "881                              Cahiers d'art (Paris)   \n",
       "790                     L'Esprit nouveau (Paris. 1920)   \n",
       "596                                          Der Sturm   \n",
       "623                     L'Esprit nouveau (Paris. 1920)   \n",
       "788                     L'Esprit nouveau (Paris. 1920)   \n",
       "179                                  Umělecký mĕsíčník   \n",
       "772                              Cahiers d'art (Paris)   \n",
       "717                          La Révolution surréaliste   \n",
       "847                                  Umělecký mĕsíčník   \n",
       "766                          La Révolution surréaliste   \n",
       "721                              Cahiers d'art (Paris)   \n",
       "44                               Cahiers d'art (Paris)   \n",
       "736                              Cahiers d'art (Paris)   \n",
       "950       Broom: An International Magazine of the Arts   \n",
       "475                              Cahiers d'art (Paris)   \n",
       "643                              Cahiers d'art (Paris)   \n",
       "47                               Cahiers d'art (Paris)   \n",
       "4                                Cahiers d'art (Paris)   \n",
       "2                                 Les Soirées de Paris   \n",
       "867                                  Umělecký mĕsíčník   \n",
       "645                              Cahiers d'art (Paris)   \n",
       "804                                  Umělecký mĕsíčník   \n",
       "781                              Cahiers d'art (Paris)   \n",
       "8                                Cahiers d'art (Paris)   \n",
       "865                                           De Stijl   \n",
       "125                     L'Esprit nouveau (Paris. 1920)   \n",
       "77                           La Révolution surréaliste   \n",
       "\n",
       "                      Country            labelType      cityLabel  \\\n",
       "638                   Germany  Avant-garde Journal         Berlin   \n",
       "478                    France  Avant-garde Journal          Paris   \n",
       "263               Netherlands  Avant-garde Journal          Delft   \n",
       "311                    France  Avant-garde Journal          Paris   \n",
       "219            Czech Republic  Avant-garde Journal         Prague   \n",
       "421                    France  Avant-garde Journal          Paris   \n",
       "41                     France  Avant-garde Journal          Paris   \n",
       "441                    France  Avant-garde Journal          Paris   \n",
       "881                    France  Avant-garde Journal          Paris   \n",
       "790                    France  Avant-garde Journal          Paris   \n",
       "596                   Germany  Avant-garde Journal         Berlin   \n",
       "623                    France  Avant-garde Journal          Paris   \n",
       "788                    France  Avant-garde Journal          Paris   \n",
       "179            Czech Republic  Avant-garde Journal         Prague   \n",
       "772                    France  Avant-garde Journal          Paris   \n",
       "717                    France  Avant-garde Journal          Paris   \n",
       "847            Czech Republic  Avant-garde Journal         Prague   \n",
       "766                    France  Avant-garde Journal          Paris   \n",
       "721                    France  Avant-garde Journal          Paris   \n",
       "44                     France  Avant-garde Journal          Paris   \n",
       "736                    France  Avant-garde Journal          Paris   \n",
       "950  United States of America  Avant-garde Journal  New York City   \n",
       "475                    France  Avant-garde Journal          Paris   \n",
       "643                    France  Avant-garde Journal          Paris   \n",
       "47                     France  Avant-garde Journal          Paris   \n",
       "4                      France  Avant-garde Journal          Paris   \n",
       "2                      France  Avant-garde Journal          Paris   \n",
       "867            Czech Republic  Avant-garde Journal         Prague   \n",
       "645                    France  Avant-garde Journal          Paris   \n",
       "804            Czech Republic  Avant-garde Journal         Prague   \n",
       "781                    France  Avant-garde Journal          Paris   \n",
       "8                      France  Avant-garde Journal          Paris   \n",
       "865               Netherlands  Avant-garde Journal          Delft   \n",
       "125                    France  Avant-garde Journal          Paris   \n",
       "77                     France  Avant-garde Journal          Paris   \n",
       "\n",
       "                   begin   Datetime  year  primitive  count_journal  \n",
       "638  1923-01-04T00:00:00 1923-01-04  1923  primitive              2  \n",
       "478  1925-07-15T00:00:00 1925-07-15  1925  primitive              4  \n",
       "263  1919-02-01T00:00:00 1919-02-01  1919         no              2  \n",
       "311  1921-01-01T00:00:00 1921-01-01  1921  primitive              6  \n",
       "219  1912-01-08T00:00:00 1912-01-08  1912  primitive              5  \n",
       "421  1922-01-01T00:00:00 1922-01-01  1922  primitive              6  \n",
       "41   1920-01-03T00:00:00 1920-01-03  1920  primitive              1  \n",
       "441  1914-01-01T00:00:00 1914-01-01  1914  primitive              1  \n",
       "881  1937-01-01T00:00:00 1937-01-01  1937         no             12  \n",
       "790  1922-01-01T00:00:00 1922-01-01  1922  primitive              6  \n",
       "596  1919-10-10T00:00:00 1919-10-10  1919         no              2  \n",
       "623  1924-01-01T00:00:00 1924-01-01  1924  primitive              6  \n",
       "788  1920-01-01T00:00:00 1920-01-01  1920  primitive              6  \n",
       "179  1912-01-08T00:00:00 1912-01-08  1912  primitive              5  \n",
       "772  1926-01-01T00:00:00 1926-01-01  1926  primitive             12  \n",
       "717  1926-12-01T00:00:00 1926-12-01  1926  primitive              4  \n",
       "847  1914-01-01T00:00:00 1914-01-01  1914  primitive              5  \n",
       "766  1925-04-15T00:00:00 1925-04-15  1925  primitive              4  \n",
       "721  1928-01-01T00:00:00 1928-01-01  1928         no             12  \n",
       "44   1928-01-01T00:00:00 1928-01-01  1928  primitive             12  \n",
       "736  1926-01-01T00:00:00 1926-01-01  1926         no             12  \n",
       "950  1921-01-11T00:00:00 1921-01-11  1921  primitive              1  \n",
       "475  1931-01-01T00:00:00 1931-01-01  1931  primitive             12  \n",
       "643  1928-01-01T00:00:00 1928-01-01  1928  primitive             12  \n",
       "47   1928-01-01T00:00:00 1928-01-01  1928  primitive             12  \n",
       "4    1929-01-01T00:00:00 1929-01-01  1929  primitive             12  \n",
       "2    1914-01-01T00:00:00 1914-01-01  1914  primitive              1  \n",
       "867  1913-01-01T00:00:00 1913-01-01  1913  primitive              5  \n",
       "645  1931-01-01T00:00:00 1931-01-01  1931  primitive             12  \n",
       "804  1914-01-01T00:00:00 1914-01-01  1914  primitive              5  \n",
       "781  1930-01-01T00:00:00 1930-01-01  1930         no             12  \n",
       "8    1929-01-01T00:00:00 1929-01-01  1929  primitive             12  \n",
       "865  1919-12-01T00:00:00 1919-12-01  1919  primitive              2  \n",
       "125  1920-01-01T00:00:00 1920-01-01  1920  primitive              6  \n",
       "77   1925-07-15T00:00:00 1925-07-15  1925  primitive              4  "
      ]
     },
     "execution_count": 67,
     "metadata": {},
     "output_type": "execute_result"
    }
   ],
   "source": [
    "p_ag"
   ]
  },
  {
   "cell_type": "code",
   "execution_count": 68,
   "id": "563f0b16-26a5-4509-8338-309f603001ca",
   "metadata": {},
   "outputs": [
    {
     "data": {
      "application/vnd.plotly.v1+json": {
       "config": {
        "plotlyServerURL": "https://plot.ly"
       },
       "data": [
        {
         "alignmentgroup": "True",
         "bingroup": "x",
         "hovertemplate": "Country=Germany<br>impact of a AG journal outside the AG=%{x}<br>count=%{y}<extra></extra>",
         "legendgroup": "Germany",
         "marker": {
          "color": "#636efa",
          "pattern": {
           "shape": ""
          }
         },
         "name": "Germany",
         "offsetgroup": "Germany",
         "orientation": "v",
         "showlegend": true,
         "textangle": 0,
         "textfont": {
          "size": 12
         },
         "textposition": "outside",
         "type": "histogram",
         "x": [
          "Der Sturm",
          "Der Sturm"
         ],
         "xaxis": "x",
         "yaxis": "y"
        },
        {
         "alignmentgroup": "True",
         "bingroup": "x",
         "hovertemplate": "Country=France<br>impact of a AG journal outside the AG=%{x}<br>count=%{y}<extra></extra>",
         "legendgroup": "France",
         "marker": {
          "color": "#EF553B",
          "pattern": {
           "shape": ""
          }
         },
         "name": "France",
         "offsetgroup": "France",
         "orientation": "v",
         "showlegend": true,
         "textangle": 0,
         "textfont": {
          "size": 12
         },
         "textposition": "outside",
         "type": "histogram",
         "x": [
          "La Révolution surréaliste",
          "L'Esprit nouveau (Paris. 1920)",
          "L'Esprit nouveau (Paris. 1920)",
          "Action: cahiers individualistes de philosophie et d’art",
          "Montjoie ! Organe de l'impérialsime artistique français",
          "Cahiers d'art (Paris)",
          "L'Esprit nouveau (Paris. 1920)",
          "L'Esprit nouveau (Paris. 1920)",
          "L'Esprit nouveau (Paris. 1920)",
          "Cahiers d'art (Paris)",
          "La Révolution surréaliste",
          "La Révolution surréaliste",
          "Cahiers d'art (Paris)",
          "Cahiers d'art (Paris)",
          "Cahiers d'art (Paris)",
          "Cahiers d'art (Paris)",
          "Cahiers d'art (Paris)",
          "Cahiers d'art (Paris)",
          "Cahiers d'art (Paris)",
          "Les Soirées de Paris",
          "Cahiers d'art (Paris)",
          "Cahiers d'art (Paris)",
          "Cahiers d'art (Paris)",
          "L'Esprit nouveau (Paris. 1920)",
          "La Révolution surréaliste"
         ],
         "xaxis": "x",
         "yaxis": "y"
        },
        {
         "alignmentgroup": "True",
         "bingroup": "x",
         "hovertemplate": "Country=Netherlands<br>impact of a AG journal outside the AG=%{x}<br>count=%{y}<extra></extra>",
         "legendgroup": "Netherlands",
         "marker": {
          "color": "#00cc96",
          "pattern": {
           "shape": ""
          }
         },
         "name": "Netherlands",
         "offsetgroup": "Netherlands",
         "orientation": "v",
         "showlegend": true,
         "textangle": 0,
         "textfont": {
          "size": 12
         },
         "textposition": "outside",
         "type": "histogram",
         "x": [
          "De Stijl",
          "De Stijl"
         ],
         "xaxis": "x",
         "yaxis": "y"
        },
        {
         "alignmentgroup": "True",
         "bingroup": "x",
         "hovertemplate": "Country=Czech Republic<br>impact of a AG journal outside the AG=%{x}<br>count=%{y}<extra></extra>",
         "legendgroup": "Czech Republic",
         "marker": {
          "color": "#ab63fa",
          "pattern": {
           "shape": ""
          }
         },
         "name": "Czech Republic",
         "offsetgroup": "Czech Republic",
         "orientation": "v",
         "showlegend": true,
         "textangle": 0,
         "textfont": {
          "size": 12
         },
         "textposition": "outside",
         "type": "histogram",
         "x": [
          "Umělecký mĕsíčník",
          "Umělecký mĕsíčník",
          "Umělecký mĕsíčník",
          "Umělecký mĕsíčník",
          "Umělecký mĕsíčník"
         ],
         "xaxis": "x",
         "yaxis": "y"
        },
        {
         "alignmentgroup": "True",
         "bingroup": "x",
         "hovertemplate": "Country=United States of America<br>impact of a AG journal outside the AG=%{x}<br>count=%{y}<extra></extra>",
         "legendgroup": "United States of America",
         "marker": {
          "color": "#FFA15A",
          "pattern": {
           "shape": ""
          }
         },
         "name": "United States of America",
         "offsetgroup": "United States of America",
         "orientation": "v",
         "showlegend": true,
         "textangle": 0,
         "textfont": {
          "size": 12
         },
         "textposition": "outside",
         "type": "histogram",
         "x": [
          "Broom: An International Magazine of the Arts"
         ],
         "xaxis": "x",
         "yaxis": "y"
        }
       ],
       "layout": {
        "autosize": true,
        "barmode": "relative",
        "legend": {
         "title": {
          "text": "Country"
         },
         "tracegroupgap": 0
        },
        "template": {
         "data": {
          "bar": [
           {
            "error_x": {
             "color": "#2a3f5f"
            },
            "error_y": {
             "color": "#2a3f5f"
            },
            "marker": {
             "line": {
              "color": "#E5ECF6",
              "width": 0.5
             },
             "pattern": {
              "fillmode": "overlay",
              "size": 10,
              "solidity": 0.2
             }
            },
            "type": "bar"
           }
          ],
          "barpolar": [
           {
            "marker": {
             "line": {
              "color": "#E5ECF6",
              "width": 0.5
             },
             "pattern": {
              "fillmode": "overlay",
              "size": 10,
              "solidity": 0.2
             }
            },
            "type": "barpolar"
           }
          ],
          "carpet": [
           {
            "aaxis": {
             "endlinecolor": "#2a3f5f",
             "gridcolor": "white",
             "linecolor": "white",
             "minorgridcolor": "white",
             "startlinecolor": "#2a3f5f"
            },
            "baxis": {
             "endlinecolor": "#2a3f5f",
             "gridcolor": "white",
             "linecolor": "white",
             "minorgridcolor": "white",
             "startlinecolor": "#2a3f5f"
            },
            "type": "carpet"
           }
          ],
          "choropleth": [
           {
            "colorbar": {
             "outlinewidth": 0,
             "ticks": ""
            },
            "type": "choropleth"
           }
          ],
          "contour": [
           {
            "colorbar": {
             "outlinewidth": 0,
             "ticks": ""
            },
            "colorscale": [
             [
              0,
              "#0d0887"
             ],
             [
              0.1111111111111111,
              "#46039f"
             ],
             [
              0.2222222222222222,
              "#7201a8"
             ],
             [
              0.3333333333333333,
              "#9c179e"
             ],
             [
              0.4444444444444444,
              "#bd3786"
             ],
             [
              0.5555555555555556,
              "#d8576b"
             ],
             [
              0.6666666666666666,
              "#ed7953"
             ],
             [
              0.7777777777777778,
              "#fb9f3a"
             ],
             [
              0.8888888888888888,
              "#fdca26"
             ],
             [
              1,
              "#f0f921"
             ]
            ],
            "type": "contour"
           }
          ],
          "contourcarpet": [
           {
            "colorbar": {
             "outlinewidth": 0,
             "ticks": ""
            },
            "type": "contourcarpet"
           }
          ],
          "heatmap": [
           {
            "colorbar": {
             "outlinewidth": 0,
             "ticks": ""
            },
            "colorscale": [
             [
              0,
              "#0d0887"
             ],
             [
              0.1111111111111111,
              "#46039f"
             ],
             [
              0.2222222222222222,
              "#7201a8"
             ],
             [
              0.3333333333333333,
              "#9c179e"
             ],
             [
              0.4444444444444444,
              "#bd3786"
             ],
             [
              0.5555555555555556,
              "#d8576b"
             ],
             [
              0.6666666666666666,
              "#ed7953"
             ],
             [
              0.7777777777777778,
              "#fb9f3a"
             ],
             [
              0.8888888888888888,
              "#fdca26"
             ],
             [
              1,
              "#f0f921"
             ]
            ],
            "type": "heatmap"
           }
          ],
          "heatmapgl": [
           {
            "colorbar": {
             "outlinewidth": 0,
             "ticks": ""
            },
            "colorscale": [
             [
              0,
              "#0d0887"
             ],
             [
              0.1111111111111111,
              "#46039f"
             ],
             [
              0.2222222222222222,
              "#7201a8"
             ],
             [
              0.3333333333333333,
              "#9c179e"
             ],
             [
              0.4444444444444444,
              "#bd3786"
             ],
             [
              0.5555555555555556,
              "#d8576b"
             ],
             [
              0.6666666666666666,
              "#ed7953"
             ],
             [
              0.7777777777777778,
              "#fb9f3a"
             ],
             [
              0.8888888888888888,
              "#fdca26"
             ],
             [
              1,
              "#f0f921"
             ]
            ],
            "type": "heatmapgl"
           }
          ],
          "histogram": [
           {
            "marker": {
             "pattern": {
              "fillmode": "overlay",
              "size": 10,
              "solidity": 0.2
             }
            },
            "type": "histogram"
           }
          ],
          "histogram2d": [
           {
            "colorbar": {
             "outlinewidth": 0,
             "ticks": ""
            },
            "colorscale": [
             [
              0,
              "#0d0887"
             ],
             [
              0.1111111111111111,
              "#46039f"
             ],
             [
              0.2222222222222222,
              "#7201a8"
             ],
             [
              0.3333333333333333,
              "#9c179e"
             ],
             [
              0.4444444444444444,
              "#bd3786"
             ],
             [
              0.5555555555555556,
              "#d8576b"
             ],
             [
              0.6666666666666666,
              "#ed7953"
             ],
             [
              0.7777777777777778,
              "#fb9f3a"
             ],
             [
              0.8888888888888888,
              "#fdca26"
             ],
             [
              1,
              "#f0f921"
             ]
            ],
            "type": "histogram2d"
           }
          ],
          "histogram2dcontour": [
           {
            "colorbar": {
             "outlinewidth": 0,
             "ticks": ""
            },
            "colorscale": [
             [
              0,
              "#0d0887"
             ],
             [
              0.1111111111111111,
              "#46039f"
             ],
             [
              0.2222222222222222,
              "#7201a8"
             ],
             [
              0.3333333333333333,
              "#9c179e"
             ],
             [
              0.4444444444444444,
              "#bd3786"
             ],
             [
              0.5555555555555556,
              "#d8576b"
             ],
             [
              0.6666666666666666,
              "#ed7953"
             ],
             [
              0.7777777777777778,
              "#fb9f3a"
             ],
             [
              0.8888888888888888,
              "#fdca26"
             ],
             [
              1,
              "#f0f921"
             ]
            ],
            "type": "histogram2dcontour"
           }
          ],
          "mesh3d": [
           {
            "colorbar": {
             "outlinewidth": 0,
             "ticks": ""
            },
            "type": "mesh3d"
           }
          ],
          "parcoords": [
           {
            "line": {
             "colorbar": {
              "outlinewidth": 0,
              "ticks": ""
             }
            },
            "type": "parcoords"
           }
          ],
          "pie": [
           {
            "automargin": true,
            "type": "pie"
           }
          ],
          "scatter": [
           {
            "fillpattern": {
             "fillmode": "overlay",
             "size": 10,
             "solidity": 0.2
            },
            "type": "scatter"
           }
          ],
          "scatter3d": [
           {
            "line": {
             "colorbar": {
              "outlinewidth": 0,
              "ticks": ""
             }
            },
            "marker": {
             "colorbar": {
              "outlinewidth": 0,
              "ticks": ""
             }
            },
            "type": "scatter3d"
           }
          ],
          "scattercarpet": [
           {
            "marker": {
             "colorbar": {
              "outlinewidth": 0,
              "ticks": ""
             }
            },
            "type": "scattercarpet"
           }
          ],
          "scattergeo": [
           {
            "marker": {
             "colorbar": {
              "outlinewidth": 0,
              "ticks": ""
             }
            },
            "type": "scattergeo"
           }
          ],
          "scattergl": [
           {
            "marker": {
             "colorbar": {
              "outlinewidth": 0,
              "ticks": ""
             }
            },
            "type": "scattergl"
           }
          ],
          "scattermapbox": [
           {
            "marker": {
             "colorbar": {
              "outlinewidth": 0,
              "ticks": ""
             }
            },
            "type": "scattermapbox"
           }
          ],
          "scatterpolar": [
           {
            "marker": {
             "colorbar": {
              "outlinewidth": 0,
              "ticks": ""
             }
            },
            "type": "scatterpolar"
           }
          ],
          "scatterpolargl": [
           {
            "marker": {
             "colorbar": {
              "outlinewidth": 0,
              "ticks": ""
             }
            },
            "type": "scatterpolargl"
           }
          ],
          "scatterternary": [
           {
            "marker": {
             "colorbar": {
              "outlinewidth": 0,
              "ticks": ""
             }
            },
            "type": "scatterternary"
           }
          ],
          "surface": [
           {
            "colorbar": {
             "outlinewidth": 0,
             "ticks": ""
            },
            "colorscale": [
             [
              0,
              "#0d0887"
             ],
             [
              0.1111111111111111,
              "#46039f"
             ],
             [
              0.2222222222222222,
              "#7201a8"
             ],
             [
              0.3333333333333333,
              "#9c179e"
             ],
             [
              0.4444444444444444,
              "#bd3786"
             ],
             [
              0.5555555555555556,
              "#d8576b"
             ],
             [
              0.6666666666666666,
              "#ed7953"
             ],
             [
              0.7777777777777778,
              "#fb9f3a"
             ],
             [
              0.8888888888888888,
              "#fdca26"
             ],
             [
              1,
              "#f0f921"
             ]
            ],
            "type": "surface"
           }
          ],
          "table": [
           {
            "cells": {
             "fill": {
              "color": "#EBF0F8"
             },
             "line": {
              "color": "white"
             }
            },
            "header": {
             "fill": {
              "color": "#C8D4E3"
             },
             "line": {
              "color": "white"
             }
            },
            "type": "table"
           }
          ]
         },
         "layout": {
          "annotationdefaults": {
           "arrowcolor": "#2a3f5f",
           "arrowhead": 0,
           "arrowwidth": 1
          },
          "autotypenumbers": "strict",
          "coloraxis": {
           "colorbar": {
            "outlinewidth": 0,
            "ticks": ""
           }
          },
          "colorscale": {
           "diverging": [
            [
             0,
             "#8e0152"
            ],
            [
             0.1,
             "#c51b7d"
            ],
            [
             0.2,
             "#de77ae"
            ],
            [
             0.3,
             "#f1b6da"
            ],
            [
             0.4,
             "#fde0ef"
            ],
            [
             0.5,
             "#f7f7f7"
            ],
            [
             0.6,
             "#e6f5d0"
            ],
            [
             0.7,
             "#b8e186"
            ],
            [
             0.8,
             "#7fbc41"
            ],
            [
             0.9,
             "#4d9221"
            ],
            [
             1,
             "#276419"
            ]
           ],
           "sequential": [
            [
             0,
             "#0d0887"
            ],
            [
             0.1111111111111111,
             "#46039f"
            ],
            [
             0.2222222222222222,
             "#7201a8"
            ],
            [
             0.3333333333333333,
             "#9c179e"
            ],
            [
             0.4444444444444444,
             "#bd3786"
            ],
            [
             0.5555555555555556,
             "#d8576b"
            ],
            [
             0.6666666666666666,
             "#ed7953"
            ],
            [
             0.7777777777777778,
             "#fb9f3a"
            ],
            [
             0.8888888888888888,
             "#fdca26"
            ],
            [
             1,
             "#f0f921"
            ]
           ],
           "sequentialminus": [
            [
             0,
             "#0d0887"
            ],
            [
             0.1111111111111111,
             "#46039f"
            ],
            [
             0.2222222222222222,
             "#7201a8"
            ],
            [
             0.3333333333333333,
             "#9c179e"
            ],
            [
             0.4444444444444444,
             "#bd3786"
            ],
            [
             0.5555555555555556,
             "#d8576b"
            ],
            [
             0.6666666666666666,
             "#ed7953"
            ],
            [
             0.7777777777777778,
             "#fb9f3a"
            ],
            [
             0.8888888888888888,
             "#fdca26"
            ],
            [
             1,
             "#f0f921"
            ]
           ]
          },
          "colorway": [
           "#636efa",
           "#EF553B",
           "#00cc96",
           "#ab63fa",
           "#FFA15A",
           "#19d3f3",
           "#FF6692",
           "#B6E880",
           "#FF97FF",
           "#FECB52"
          ],
          "font": {
           "color": "#2a3f5f"
          },
          "geo": {
           "bgcolor": "white",
           "lakecolor": "white",
           "landcolor": "#E5ECF6",
           "showlakes": true,
           "showland": true,
           "subunitcolor": "white"
          },
          "hoverlabel": {
           "align": "left"
          },
          "hovermode": "closest",
          "mapbox": {
           "style": "light"
          },
          "paper_bgcolor": "white",
          "plot_bgcolor": "#E5ECF6",
          "polar": {
           "angularaxis": {
            "gridcolor": "white",
            "linecolor": "white",
            "ticks": ""
           },
           "bgcolor": "#E5ECF6",
           "radialaxis": {
            "gridcolor": "white",
            "linecolor": "white",
            "ticks": ""
           }
          },
          "scene": {
           "xaxis": {
            "backgroundcolor": "#E5ECF6",
            "gridcolor": "white",
            "gridwidth": 2,
            "linecolor": "white",
            "showbackground": true,
            "ticks": "",
            "zerolinecolor": "white"
           },
           "yaxis": {
            "backgroundcolor": "#E5ECF6",
            "gridcolor": "white",
            "gridwidth": 2,
            "linecolor": "white",
            "showbackground": true,
            "ticks": "",
            "zerolinecolor": "white"
           },
           "zaxis": {
            "backgroundcolor": "#E5ECF6",
            "gridcolor": "white",
            "gridwidth": 2,
            "linecolor": "white",
            "showbackground": true,
            "ticks": "",
            "zerolinecolor": "white"
           }
          },
          "shapedefaults": {
           "line": {
            "color": "#2a3f5f"
           }
          },
          "ternary": {
           "aaxis": {
            "gridcolor": "white",
            "linecolor": "white",
            "ticks": ""
           },
           "baxis": {
            "gridcolor": "white",
            "linecolor": "white",
            "ticks": ""
           },
           "bgcolor": "#E5ECF6",
           "caxis": {
            "gridcolor": "white",
            "linecolor": "white",
            "ticks": ""
           }
          },
          "title": {
           "x": 0.05
          },
          "xaxis": {
           "automargin": true,
           "gridcolor": "white",
           "linecolor": "white",
           "ticks": "",
           "title": {
            "standoff": 15
           },
           "zerolinecolor": "white",
           "zerolinewidth": 2
          },
          "yaxis": {
           "automargin": true,
           "gridcolor": "white",
           "linecolor": "white",
           "ticks": "",
           "title": {
            "standoff": 15
           },
           "zerolinecolor": "white",
           "zerolinewidth": 2
          }
         }
        },
        "title": {
         "text": "Which journal initiate more chains of circulation from the AG towards other communities"
        },
        "xaxis": {
         "anchor": "y",
         "autorange": true,
         "domain": [
          0,
          1
         ],
         "range": [
          -0.5,
          9.5
         ],
         "title": {
          "text": "impact of a AG journal outside the AG"
         },
         "type": "category"
        },
        "yaxis": {
         "anchor": "x",
         "autorange": true,
         "domain": [
          0,
          1
         ],
         "range": [
          0,
          12.631578947368421
         ],
         "title": {
          "text": "count"
         }
        }
       }
      },
      "image/png": "[encoded data removed]",
      "text/html": [
       "<div>                            <div id=\"2ad6f725-d3d0-4c6b-b865-907f4574b952\" class=\"plotly-graph-div\" style=\"height:525px; width:100%;\"></div>            <script type=\"text/javascript\">                require([\"plotly\"], function(Plotly) {                    window.PLOTLYENV=window.PLOTLYENV || {};                                    if (document.getElementById(\"2ad6f725-d3d0-4c6b-b865-907f4574b952\")) {                    Plotly.newPlot(                        \"2ad6f725-d3d0-4c6b-b865-907f4574b952\",                        [{\"alignmentgroup\":\"True\",\"bingroup\":\"x\",\"hovertemplate\":\"Country=Germany<br>impact of a AG journal outside the AG=%{x}<br>count=%{y}<extra></extra>\",\"legendgroup\":\"Germany\",\"marker\":{\"color\":\"#636efa\",\"pattern\":{\"shape\":\"\"}},\"name\":\"Germany\",\"offsetgroup\":\"Germany\",\"orientation\":\"v\",\"showlegend\":true,\"x\":[\"Der Sturm\",\"Der Sturm\"],\"xaxis\":\"x\",\"yaxis\":\"y\",\"type\":\"histogram\",\"textfont\":{\"size\":12},\"textangle\":0,\"textposition\":\"outside\"},{\"alignmentgroup\":\"True\",\"bingroup\":\"x\",\"hovertemplate\":\"Country=France<br>impact of a AG journal outside the AG=%{x}<br>count=%{y}<extra></extra>\",\"legendgroup\":\"France\",\"marker\":{\"color\":\"#EF553B\",\"pattern\":{\"shape\":\"\"}},\"name\":\"France\",\"offsetgroup\":\"France\",\"orientation\":\"v\",\"showlegend\":true,\"x\":[\"La R\\u00e9volution surr\\u00e9aliste\",\"L'Esprit nouveau (Paris. 1920)\",\"L'Esprit nouveau (Paris. 1920)\",\"Action: cahiers individualistes de philosophie et d\\u2019art\",\"Montjoie ! Organe de l'imp\\u00e9rialsime artistique fran\\u00e7ais\",\"Cahiers d'art (Paris)\",\"L'Esprit nouveau (Paris. 1920)\",\"L'Esprit nouveau (Paris. 1920)\",\"L'Esprit nouveau (Paris. 1920)\",\"Cahiers d'art (Paris)\",\"La R\\u00e9volution surr\\u00e9aliste\",\"La R\\u00e9volution surr\\u00e9aliste\",\"Cahiers d'art (Paris)\",\"Cahiers d'art (Paris)\",\"Cahiers d'art (Paris)\",\"Cahiers d'art (Paris)\",\"Cahiers d'art (Paris)\",\"Cahiers d'art (Paris)\",\"Cahiers d'art (Paris)\",\"Les Soir\\u00e9es de Paris\",\"Cahiers d'art (Paris)\",\"Cahiers d'art (Paris)\",\"Cahiers d'art (Paris)\",\"L'Esprit nouveau (Paris. 1920)\",\"La R\\u00e9volution surr\\u00e9aliste\"],\"xaxis\":\"x\",\"yaxis\":\"y\",\"type\":\"histogram\",\"textfont\":{\"size\":12},\"textangle\":0,\"textposition\":\"outside\"},{\"alignmentgroup\":\"True\",\"bingroup\":\"x\",\"hovertemplate\":\"Country=Netherlands<br>impact of a AG journal outside the AG=%{x}<br>count=%{y}<extra></extra>\",\"legendgroup\":\"Netherlands\",\"marker\":{\"color\":\"#00cc96\",\"pattern\":{\"shape\":\"\"}},\"name\":\"Netherlands\",\"offsetgroup\":\"Netherlands\",\"orientation\":\"v\",\"showlegend\":true,\"x\":[\"De Stijl\",\"De Stijl\"],\"xaxis\":\"x\",\"yaxis\":\"y\",\"type\":\"histogram\",\"textfont\":{\"size\":12},\"textangle\":0,\"textposition\":\"outside\"},{\"alignmentgroup\":\"True\",\"bingroup\":\"x\",\"hovertemplate\":\"Country=Czech Republic<br>impact of a AG journal outside the AG=%{x}<br>count=%{y}<extra></extra>\",\"legendgroup\":\"Czech Republic\",\"marker\":{\"color\":\"#ab63fa\",\"pattern\":{\"shape\":\"\"}},\"name\":\"Czech Republic\",\"offsetgroup\":\"Czech Republic\",\"orientation\":\"v\",\"showlegend\":true,\"x\":[\"Um\\u011bleck\\u00fd m\\u0115s\\u00ed\\u010dn\\u00edk\",\"Um\\u011bleck\\u00fd m\\u0115s\\u00ed\\u010dn\\u00edk\",\"Um\\u011bleck\\u00fd m\\u0115s\\u00ed\\u010dn\\u00edk\",\"Um\\u011bleck\\u00fd m\\u0115s\\u00ed\\u010dn\\u00edk\",\"Um\\u011bleck\\u00fd m\\u0115s\\u00ed\\u010dn\\u00edk\"],\"xaxis\":\"x\",\"yaxis\":\"y\",\"type\":\"histogram\",\"textfont\":{\"size\":12},\"textangle\":0,\"textposition\":\"outside\"},{\"alignmentgroup\":\"True\",\"bingroup\":\"x\",\"hovertemplate\":\"Country=United States of America<br>impact of a AG journal outside the AG=%{x}<br>count=%{y}<extra></extra>\",\"legendgroup\":\"United States of America\",\"marker\":{\"color\":\"#FFA15A\",\"pattern\":{\"shape\":\"\"}},\"name\":\"United States of America\",\"offsetgroup\":\"United States of America\",\"orientation\":\"v\",\"showlegend\":true,\"x\":[\"Broom: An International Magazine of the Arts\"],\"xaxis\":\"x\",\"yaxis\":\"y\",\"type\":\"histogram\",\"textfont\":{\"size\":12},\"textangle\":0,\"textposition\":\"outside\"}],                        {\"template\":{\"data\":{\"histogram2dcontour\":[{\"type\":\"histogram2dcontour\",\"colorbar\":{\"outlinewidth\":0,\"ticks\":\"\"},\"colorscale\":[[0.0,\"#0d0887\"],[0.1111111111111111,\"#46039f\"],[0.2222222222222222,\"#7201a8\"],[0.3333333333333333,\"#9c179e\"],[0.4444444444444444,\"#bd3786\"],[0.5555555555555556,\"#d8576b\"],[0.6666666666666666,\"#ed7953\"],[0.7777777777777778,\"#fb9f3a\"],[0.8888888888888888,\"#fdca26\"],[1.0,\"#f0f921\"]]}],\"choropleth\":[{\"type\":\"choropleth\",\"colorbar\":{\"outlinewidth\":0,\"ticks\":\"\"}}],\"histogram2d\":[{\"type\":\"histogram2d\",\"colorbar\":{\"outlinewidth\":0,\"ticks\":\"\"},\"colorscale\":[[0.0,\"#0d0887\"],[0.1111111111111111,\"#46039f\"],[0.2222222222222222,\"#7201a8\"],[0.3333333333333333,\"#9c179e\"],[0.4444444444444444,\"#bd3786\"],[0.5555555555555556,\"#d8576b\"],[0.6666666666666666,\"#ed7953\"],[0.7777777777777778,\"#fb9f3a\"],[0.8888888888888888,\"#fdca26\"],[1.0,\"#f0f921\"]]}],\"heatmap\":[{\"type\":\"heatmap\",\"colorbar\":{\"outlinewidth\":0,\"ticks\":\"\"},\"colorscale\":[[0.0,\"#0d0887\"],[0.1111111111111111,\"#46039f\"],[0.2222222222222222,\"#7201a8\"],[0.3333333333333333,\"#9c179e\"],[0.4444444444444444,\"#bd3786\"],[0.5555555555555556,\"#d8576b\"],[0.6666666666666666,\"#ed7953\"],[0.7777777777777778,\"#fb9f3a\"],[0.8888888888888888,\"#fdca26\"],[1.0,\"#f0f921\"]]}],\"heatmapgl\":[{\"type\":\"heatmapgl\",\"colorbar\":{\"outlinewidth\":0,\"ticks\":\"\"},\"colorscale\":[[0.0,\"#0d0887\"],[0.1111111111111111,\"#46039f\"],[0.2222222222222222,\"#7201a8\"],[0.3333333333333333,\"#9c179e\"],[0.4444444444444444,\"#bd3786\"],[0.5555555555555556,\"#d8576b\"],[0.6666666666666666,\"#ed7953\"],[0.7777777777777778,\"#fb9f3a\"],[0.8888888888888888,\"#fdca26\"],[1.0,\"#f0f921\"]]}],\"contourcarpet\":[{\"type\":\"contourcarpet\",\"colorbar\":{\"outlinewidth\":0,\"ticks\":\"\"}}],\"contour\":[{\"type\":\"contour\",\"colorbar\":{\"outlinewidth\":0,\"ticks\":\"\"},\"colorscale\":[[0.0,\"#0d0887\"],[0.1111111111111111,\"#46039f\"],[0.2222222222222222,\"#7201a8\"],[0.3333333333333333,\"#9c179e\"],[0.4444444444444444,\"#bd3786\"],[0.5555555555555556,\"#d8576b\"],[0.6666666666666666,\"#ed7953\"],[0.7777777777777778,\"#fb9f3a\"],[0.8888888888888888,\"#fdca26\"],[1.0,\"#f0f921\"]]}],\"surface\":[{\"type\":\"surface\",\"colorbar\":{\"outlinewidth\":0,\"ticks\":\"\"},\"colorscale\":[[0.0,\"#0d0887\"],[0.1111111111111111,\"#46039f\"],[0.2222222222222222,\"#7201a8\"],[0.3333333333333333,\"#9c179e\"],[0.4444444444444444,\"#bd3786\"],[0.5555555555555556,\"#d8576b\"],[0.6666666666666666,\"#ed7953\"],[0.7777777777777778,\"#fb9f3a\"],[0.8888888888888888,\"#fdca26\"],[1.0,\"#f0f921\"]]}],\"mesh3d\":[{\"type\":\"mesh3d\",\"colorbar\":{\"outlinewidth\":0,\"ticks\":\"\"}}],\"scatter\":[{\"fillpattern\":{\"fillmode\":\"overlay\",\"size\":10,\"solidity\":0.2},\"type\":\"scatter\"}],\"parcoords\":[{\"type\":\"parcoords\",\"line\":{\"colorbar\":{\"outlinewidth\":0,\"ticks\":\"\"}}}],\"scatterpolargl\":[{\"type\":\"scatterpolargl\",\"marker\":{\"colorbar\":{\"outlinewidth\":0,\"ticks\":\"\"}}}],\"bar\":[{\"error_x\":{\"color\":\"#2a3f5f\"},\"error_y\":{\"color\":\"#2a3f5f\"},\"marker\":{\"line\":{\"color\":\"#E5ECF6\",\"width\":0.5},\"pattern\":{\"fillmode\":\"overlay\",\"size\":10,\"solidity\":0.2}},\"type\":\"bar\"}],\"scattergeo\":[{\"type\":\"scattergeo\",\"marker\":{\"colorbar\":{\"outlinewidth\":0,\"ticks\":\"\"}}}],\"scatterpolar\":[{\"type\":\"scatterpolar\",\"marker\":{\"colorbar\":{\"outlinewidth\":0,\"ticks\":\"\"}}}],\"histogram\":[{\"marker\":{\"pattern\":{\"fillmode\":\"overlay\",\"size\":10,\"solidity\":0.2}},\"type\":\"histogram\"}],\"scattergl\":[{\"type\":\"scattergl\",\"marker\":{\"colorbar\":{\"outlinewidth\":0,\"ticks\":\"\"}}}],\"scatter3d\":[{\"type\":\"scatter3d\",\"line\":{\"colorbar\":{\"outlinewidth\":0,\"ticks\":\"\"}},\"marker\":{\"colorbar\":{\"outlinewidth\":0,\"ticks\":\"\"}}}],\"scattermapbox\":[{\"type\":\"scattermapbox\",\"marker\":{\"colorbar\":{\"outlinewidth\":0,\"ticks\":\"\"}}}],\"scatterternary\":[{\"type\":\"scatterternary\",\"marker\":{\"colorbar\":{\"outlinewidth\":0,\"ticks\":\"\"}}}],\"scattercarpet\":[{\"type\":\"scattercarpet\",\"marker\":{\"colorbar\":{\"outlinewidth\":0,\"ticks\":\"\"}}}],\"carpet\":[{\"aaxis\":{\"endlinecolor\":\"#2a3f5f\",\"gridcolor\":\"white\",\"linecolor\":\"white\",\"minorgridcolor\":\"white\",\"startlinecolor\":\"#2a3f5f\"},\"baxis\":{\"endlinecolor\":\"#2a3f5f\",\"gridcolor\":\"white\",\"linecolor\":\"white\",\"minorgridcolor\":\"white\",\"startlinecolor\":\"#2a3f5f\"},\"type\":\"carpet\"}],\"table\":[{\"cells\":{\"fill\":{\"color\":\"#EBF0F8\"},\"line\":{\"color\":\"white\"}},\"header\":{\"fill\":{\"color\":\"#C8D4E3\"},\"line\":{\"color\":\"white\"}},\"type\":\"table\"}],\"barpolar\":[{\"marker\":{\"line\":{\"color\":\"#E5ECF6\",\"width\":0.5},\"pattern\":{\"fillmode\":\"overlay\",\"size\":10,\"solidity\":0.2}},\"type\":\"barpolar\"}],\"pie\":[{\"automargin\":true,\"type\":\"pie\"}]},\"layout\":{\"autotypenumbers\":\"strict\",\"colorway\":[\"#636efa\",\"#EF553B\",\"#00cc96\",\"#ab63fa\",\"#FFA15A\",\"#19d3f3\",\"#FF6692\",\"#B6E880\",\"#FF97FF\",\"#FECB52\"],\"font\":{\"color\":\"#2a3f5f\"},\"hovermode\":\"closest\",\"hoverlabel\":{\"align\":\"left\"},\"paper_bgcolor\":\"white\",\"plot_bgcolor\":\"#E5ECF6\",\"polar\":{\"bgcolor\":\"#E5ECF6\",\"angularaxis\":{\"gridcolor\":\"white\",\"linecolor\":\"white\",\"ticks\":\"\"},\"radialaxis\":{\"gridcolor\":\"white\",\"linecolor\":\"white\",\"ticks\":\"\"}},\"ternary\":{\"bgcolor\":\"#E5ECF6\",\"aaxis\":{\"gridcolor\":\"white\",\"linecolor\":\"white\",\"ticks\":\"\"},\"baxis\":{\"gridcolor\":\"white\",\"linecolor\":\"white\",\"ticks\":\"\"},\"caxis\":{\"gridcolor\":\"white\",\"linecolor\":\"white\",\"ticks\":\"\"}},\"coloraxis\":{\"colorbar\":{\"outlinewidth\":0,\"ticks\":\"\"}},\"colorscale\":{\"sequential\":[[0.0,\"#0d0887\"],[0.1111111111111111,\"#46039f\"],[0.2222222222222222,\"#7201a8\"],[0.3333333333333333,\"#9c179e\"],[0.4444444444444444,\"#bd3786\"],[0.5555555555555556,\"#d8576b\"],[0.6666666666666666,\"#ed7953\"],[0.7777777777777778,\"#fb9f3a\"],[0.8888888888888888,\"#fdca26\"],[1.0,\"#f0f921\"]],\"sequentialminus\":[[0.0,\"#0d0887\"],[0.1111111111111111,\"#46039f\"],[0.2222222222222222,\"#7201a8\"],[0.3333333333333333,\"#9c179e\"],[0.4444444444444444,\"#bd3786\"],[0.5555555555555556,\"#d8576b\"],[0.6666666666666666,\"#ed7953\"],[0.7777777777777778,\"#fb9f3a\"],[0.8888888888888888,\"#fdca26\"],[1.0,\"#f0f921\"]],\"diverging\":[[0,\"#8e0152\"],[0.1,\"#c51b7d\"],[0.2,\"#de77ae\"],[0.3,\"#f1b6da\"],[0.4,\"#fde0ef\"],[0.5,\"#f7f7f7\"],[0.6,\"#e6f5d0\"],[0.7,\"#b8e186\"],[0.8,\"#7fbc41\"],[0.9,\"#4d9221\"],[1,\"#276419\"]]},\"xaxis\":{\"gridcolor\":\"white\",\"linecolor\":\"white\",\"ticks\":\"\",\"title\":{\"standoff\":15},\"zerolinecolor\":\"white\",\"automargin\":true,\"zerolinewidth\":2},\"yaxis\":{\"gridcolor\":\"white\",\"linecolor\":\"white\",\"ticks\":\"\",\"title\":{\"standoff\":15},\"zerolinecolor\":\"white\",\"automargin\":true,\"zerolinewidth\":2},\"scene\":{\"xaxis\":{\"backgroundcolor\":\"#E5ECF6\",\"gridcolor\":\"white\",\"linecolor\":\"white\",\"showbackground\":true,\"ticks\":\"\",\"zerolinecolor\":\"white\",\"gridwidth\":2},\"yaxis\":{\"backgroundcolor\":\"#E5ECF6\",\"gridcolor\":\"white\",\"linecolor\":\"white\",\"showbackground\":true,\"ticks\":\"\",\"zerolinecolor\":\"white\",\"gridwidth\":2},\"zaxis\":{\"backgroundcolor\":\"#E5ECF6\",\"gridcolor\":\"white\",\"linecolor\":\"white\",\"showbackground\":true,\"ticks\":\"\",\"zerolinecolor\":\"white\",\"gridwidth\":2}},\"shapedefaults\":{\"line\":{\"color\":\"#2a3f5f\"}},\"annotationdefaults\":{\"arrowcolor\":\"#2a3f5f\",\"arrowhead\":0,\"arrowwidth\":1},\"geo\":{\"bgcolor\":\"white\",\"landcolor\":\"#E5ECF6\",\"subunitcolor\":\"white\",\"showland\":true,\"showlakes\":true,\"lakecolor\":\"white\"},\"title\":{\"x\":0.05},\"mapbox\":{\"style\":\"light\"}}},\"xaxis\":{\"anchor\":\"y\",\"domain\":[0.0,1.0],\"title\":{\"text\":\"impact of a AG journal outside the AG\"}},\"yaxis\":{\"anchor\":\"x\",\"domain\":[0.0,1.0],\"title\":{\"text\":\"count\"}},\"legend\":{\"title\":{\"text\":\"Country\"},\"tracegroupgap\":0},\"title\":{\"text\":\"Which journal initiate more chains of circulation from the AG towards other communities\"},\"barmode\":\"relative\"},                        {\"responsive\": true}                    ).then(function(){\n",
       "                            \n",
       "var gd = document.getElementById('2ad6f725-d3d0-4c6b-b865-907f4574b952');\n",
       "var x = new MutationObserver(function (mutations, observer) {{\n",
       "        var display = window.getComputedStyle(gd).display;\n",
       "        if (!display || display === 'none') {{\n",
       "            console.log([gd, 'removed!']);\n",
       "            Plotly.purge(gd);\n",
       "            observer.disconnect();\n",
       "        }}\n",
       "}});\n",
       "\n",
       "// Listen for the removal of the full notebook cells\n",
       "var notebookContainer = gd.closest('#notebook-container');\n",
       "if (notebookContainer) {{\n",
       "    x.observe(notebookContainer, {childList: true});\n",
       "}}\n",
       "\n",
       "// Listen for the clearing of the current output cell\n",
       "var outputEl = gd.closest('.output');\n",
       "if (outputEl) {{\n",
       "    x.observe(outputEl, {childList: true});\n",
       "}}\n",
       "\n",
       "                        })                };                });            </script>        </div>"
      ]
     },
     "metadata": {},
     "output_type": "display_data"
    }
   ],
   "source": [
    "fig = px.histogram(p_ag,  x='issueLabel', color=\"Country\",\n",
    "            title=\"Which journal initiate more chains of circulation from the AG towards other communities\",\n",
    "                  labels={\n",
    "                     \"issueLabel\": \"impact of a AG journal outside the AG\"})\n",
    "fig.update_traces(textfont_size=12, textangle=0, textposition=\"outside\")\n",
    "fig.show()\n",
    "fig.write_image(\"viz/external_human_all.png\",  scale=3, width=2000) \n",
    "fig.write_html('viz/external_human_all.html', auto_open=True)"
   ]
  },
  {
   "cell_type": "markdown",
   "id": "d78bd869-cad9-4c54-a7af-33342d5e1885",
   "metadata": {},
   "source": [
    "## Primitive images"
   ]
  },
  {
   "cell_type": "markdown",
   "id": "fa7cea62-6b02-4c18-9fa6-bd4dd59e59ac",
   "metadata": {},
   "source": [
    "### Distribution per year"
   ]
  },
  {
   "cell_type": "code",
   "execution_count": 25,
   "id": "5c8ca1b3-79d5-4c30-9e77-e7d2956f7c5f",
   "metadata": {},
   "outputs": [],
   "source": [
    "image_vis = p_ag.drop_duplicates(subset=['image'])"
   ]
  },
  {
   "cell_type": "code",
   "execution_count": 26,
   "id": "71789f0e-8287-4fd9-9521-69ef5525a17a",
   "metadata": {},
   "outputs": [
    {
     "data": {
      "application/vnd.plotly.v1+json": {
       "config": {
        "plotlyServerURL": "https://plot.ly"
       },
       "data": [
        {
         "alignmentgroup": "True",
         "bingroup": "x",
         "cliponaxis": false,
         "hovertemplate": "Year of publication=%{x}<br>count=%{y}<extra></extra>",
         "legendgroup": "",
         "marker": {
          "color": "#636efa",
          "pattern": {
           "shape": ""
          }
         },
         "name": "",
         "offsetgroup": "",
         "orientation": "v",
         "showlegend": false,
         "textangle": 0,
         "textfont": {
          "size": 12
         },
         "textposition": "outside",
         "type": "histogram",
         "x": [
          1923,
          1925,
          1919,
          1921,
          1912,
          1922,
          1920,
          1914,
          1937,
          1922,
          1919,
          1928,
          1924,
          1920,
          1912,
          1926,
          1926,
          1914,
          1925,
          1928,
          1921,
          1931,
          1928,
          1928,
          1929,
          1914,
          1913,
          1931,
          1932,
          1914,
          1929,
          1919,
          1920,
          1925
         ],
         "xaxis": "x",
         "yaxis": "y"
        }
       ],
       "layout": {
        "autosize": true,
        "barmode": "relative",
        "legend": {
         "tracegroupgap": 0
        },
        "template": {
         "data": {
          "bar": [
           {
            "error_x": {
             "color": "#2a3f5f"
            },
            "error_y": {
             "color": "#2a3f5f"
            },
            "marker": {
             "line": {
              "color": "#E5ECF6",
              "width": 0.5
             },
             "pattern": {
              "fillmode": "overlay",
              "size": 10,
              "solidity": 0.2
             }
            },
            "type": "bar"
           }
          ],
          "barpolar": [
           {
            "marker": {
             "line": {
              "color": "#E5ECF6",
              "width": 0.5
             },
             "pattern": {
              "fillmode": "overlay",
              "size": 10,
              "solidity": 0.2
             }
            },
            "type": "barpolar"
           }
          ],
          "carpet": [
           {
            "aaxis": {
             "endlinecolor": "#2a3f5f",
             "gridcolor": "white",
             "linecolor": "white",
             "minorgridcolor": "white",
             "startlinecolor": "#2a3f5f"
            },
            "baxis": {
             "endlinecolor": "#2a3f5f",
             "gridcolor": "white",
             "linecolor": "white",
             "minorgridcolor": "white",
             "startlinecolor": "#2a3f5f"
            },
            "type": "carpet"
           }
          ],
          "choropleth": [
           {
            "colorbar": {
             "outlinewidth": 0,
             "ticks": ""
            },
            "type": "choropleth"
           }
          ],
          "contour": [
           {
            "colorbar": {
             "outlinewidth": 0,
             "ticks": ""
            },
            "colorscale": [
             [
              0,
              "#0d0887"
             ],
             [
              0.1111111111111111,
              "#46039f"
             ],
             [
              0.2222222222222222,
              "#7201a8"
             ],
             [
              0.3333333333333333,
              "#9c179e"
             ],
             [
              0.4444444444444444,
              "#bd3786"
             ],
             [
              0.5555555555555556,
              "#d8576b"
             ],
             [
              0.6666666666666666,
              "#ed7953"
             ],
             [
              0.7777777777777778,
              "#fb9f3a"
             ],
             [
              0.8888888888888888,
              "#fdca26"
             ],
             [
              1,
              "#f0f921"
             ]
            ],
            "type": "contour"
           }
          ],
          "contourcarpet": [
           {
            "colorbar": {
             "outlinewidth": 0,
             "ticks": ""
            },
            "type": "contourcarpet"
           }
          ],
          "heatmap": [
           {
            "colorbar": {
             "outlinewidth": 0,
             "ticks": ""
            },
            "colorscale": [
             [
              0,
              "#0d0887"
             ],
             [
              0.1111111111111111,
              "#46039f"
             ],
             [
              0.2222222222222222,
              "#7201a8"
             ],
             [
              0.3333333333333333,
              "#9c179e"
             ],
             [
              0.4444444444444444,
              "#bd3786"
             ],
             [
              0.5555555555555556,
              "#d8576b"
             ],
             [
              0.6666666666666666,
              "#ed7953"
             ],
             [
              0.7777777777777778,
              "#fb9f3a"
             ],
             [
              0.8888888888888888,
              "#fdca26"
             ],
             [
              1,
              "#f0f921"
             ]
            ],
            "type": "heatmap"
           }
          ],
          "heatmapgl": [
           {
            "colorbar": {
             "outlinewidth": 0,
             "ticks": ""
            },
            "colorscale": [
             [
              0,
              "#0d0887"
             ],
             [
              0.1111111111111111,
              "#46039f"
             ],
             [
              0.2222222222222222,
              "#7201a8"
             ],
             [
              0.3333333333333333,
              "#9c179e"
             ],
             [
              0.4444444444444444,
              "#bd3786"
             ],
             [
              0.5555555555555556,
              "#d8576b"
             ],
             [
              0.6666666666666666,
              "#ed7953"
             ],
             [
              0.7777777777777778,
              "#fb9f3a"
             ],
             [
              0.8888888888888888,
              "#fdca26"
             ],
             [
              1,
              "#f0f921"
             ]
            ],
            "type": "heatmapgl"
           }
          ],
          "histogram": [
           {
            "marker": {
             "pattern": {
              "fillmode": "overlay",
              "size": 10,
              "solidity": 0.2
             }
            },
            "type": "histogram"
           }
          ],
          "histogram2d": [
           {
            "colorbar": {
             "outlinewidth": 0,
             "ticks": ""
            },
            "colorscale": [
             [
              0,
              "#0d0887"
             ],
             [
              0.1111111111111111,
              "#46039f"
             ],
             [
              0.2222222222222222,
              "#7201a8"
             ],
             [
              0.3333333333333333,
              "#9c179e"
             ],
             [
              0.4444444444444444,
              "#bd3786"
             ],
             [
              0.5555555555555556,
              "#d8576b"
             ],
             [
              0.6666666666666666,
              "#ed7953"
             ],
             [
              0.7777777777777778,
              "#fb9f3a"
             ],
             [
              0.8888888888888888,
              "#fdca26"
             ],
             [
              1,
              "#f0f921"
             ]
            ],
            "type": "histogram2d"
           }
          ],
          "histogram2dcontour": [
           {
            "colorbar": {
             "outlinewidth": 0,
             "ticks": ""
            },
            "colorscale": [
             [
              0,
              "#0d0887"
             ],
             [
              0.1111111111111111,
              "#46039f"
             ],
             [
              0.2222222222222222,
              "#7201a8"
             ],
             [
              0.3333333333333333,
              "#9c179e"
             ],
             [
              0.4444444444444444,
              "#bd3786"
             ],
             [
              0.5555555555555556,
              "#d8576b"
             ],
             [
              0.6666666666666666,
              "#ed7953"
             ],
             [
              0.7777777777777778,
              "#fb9f3a"
             ],
             [
              0.8888888888888888,
              "#fdca26"
             ],
             [
              1,
              "#f0f921"
             ]
            ],
            "type": "histogram2dcontour"
           }
          ],
          "mesh3d": [
           {
            "colorbar": {
             "outlinewidth": 0,
             "ticks": ""
            },
            "type": "mesh3d"
           }
          ],
          "parcoords": [
           {
            "line": {
             "colorbar": {
              "outlinewidth": 0,
              "ticks": ""
             }
            },
            "type": "parcoords"
           }
          ],
          "pie": [
           {
            "automargin": true,
            "type": "pie"
           }
          ],
          "scatter": [
           {
            "fillpattern": {
             "fillmode": "overlay",
             "size": 10,
             "solidity": 0.2
            },
            "type": "scatter"
           }
          ],
          "scatter3d": [
           {
            "line": {
             "colorbar": {
              "outlinewidth": 0,
              "ticks": ""
             }
            },
            "marker": {
             "colorbar": {
              "outlinewidth": 0,
              "ticks": ""
             }
            },
            "type": "scatter3d"
           }
          ],
          "scattercarpet": [
           {
            "marker": {
             "colorbar": {
              "outlinewidth": 0,
              "ticks": ""
             }
            },
            "type": "scattercarpet"
           }
          ],
          "scattergeo": [
           {
            "marker": {
             "colorbar": {
              "outlinewidth": 0,
              "ticks": ""
             }
            },
            "type": "scattergeo"
           }
          ],
          "scattergl": [
           {
            "marker": {
             "colorbar": {
              "outlinewidth": 0,
              "ticks": ""
             }
            },
            "type": "scattergl"
           }
          ],
          "scattermapbox": [
           {
            "marker": {
             "colorbar": {
              "outlinewidth": 0,
              "ticks": ""
             }
            },
            "type": "scattermapbox"
           }
          ],
          "scatterpolar": [
           {
            "marker": {
             "colorbar": {
              "outlinewidth": 0,
              "ticks": ""
             }
            },
            "type": "scatterpolar"
           }
          ],
          "scatterpolargl": [
           {
            "marker": {
             "colorbar": {
              "outlinewidth": 0,
              "ticks": ""
             }
            },
            "type": "scatterpolargl"
           }
          ],
          "scatterternary": [
           {
            "marker": {
             "colorbar": {
              "outlinewidth": 0,
              "ticks": ""
             }
            },
            "type": "scatterternary"
           }
          ],
          "surface": [
           {
            "colorbar": {
             "outlinewidth": 0,
             "ticks": ""
            },
            "colorscale": [
             [
              0,
              "#0d0887"
             ],
             [
              0.1111111111111111,
              "#46039f"
             ],
             [
              0.2222222222222222,
              "#7201a8"
             ],
             [
              0.3333333333333333,
              "#9c179e"
             ],
             [
              0.4444444444444444,
              "#bd3786"
             ],
             [
              0.5555555555555556,
              "#d8576b"
             ],
             [
              0.6666666666666666,
              "#ed7953"
             ],
             [
              0.7777777777777778,
              "#fb9f3a"
             ],
             [
              0.8888888888888888,
              "#fdca26"
             ],
             [
              1,
              "#f0f921"
             ]
            ],
            "type": "surface"
           }
          ],
          "table": [
           {
            "cells": {
             "fill": {
              "color": "#EBF0F8"
             },
             "line": {
              "color": "white"
             }
            },
            "header": {
             "fill": {
              "color": "#C8D4E3"
             },
             "line": {
              "color": "white"
             }
            },
            "type": "table"
           }
          ]
         },
         "layout": {
          "annotationdefaults": {
           "arrowcolor": "#2a3f5f",
           "arrowhead": 0,
           "arrowwidth": 1
          },
          "autotypenumbers": "strict",
          "coloraxis": {
           "colorbar": {
            "outlinewidth": 0,
            "ticks": ""
           }
          },
          "colorscale": {
           "diverging": [
            [
             0,
             "#8e0152"
            ],
            [
             0.1,
             "#c51b7d"
            ],
            [
             0.2,
             "#de77ae"
            ],
            [
             0.3,
             "#f1b6da"
            ],
            [
             0.4,
             "#fde0ef"
            ],
            [
             0.5,
             "#f7f7f7"
            ],
            [
             0.6,
             "#e6f5d0"
            ],
            [
             0.7,
             "#b8e186"
            ],
            [
             0.8,
             "#7fbc41"
            ],
            [
             0.9,
             "#4d9221"
            ],
            [
             1,
             "#276419"
            ]
           ],
           "sequential": [
            [
             0,
             "#0d0887"
            ],
            [
             0.1111111111111111,
             "#46039f"
            ],
            [
             0.2222222222222222,
             "#7201a8"
            ],
            [
             0.3333333333333333,
             "#9c179e"
            ],
            [
             0.4444444444444444,
             "#bd3786"
            ],
            [
             0.5555555555555556,
             "#d8576b"
            ],
            [
             0.6666666666666666,
             "#ed7953"
            ],
            [
             0.7777777777777778,
             "#fb9f3a"
            ],
            [
             0.8888888888888888,
             "#fdca26"
            ],
            [
             1,
             "#f0f921"
            ]
           ],
           "sequentialminus": [
            [
             0,
             "#0d0887"
            ],
            [
             0.1111111111111111,
             "#46039f"
            ],
            [
             0.2222222222222222,
             "#7201a8"
            ],
            [
             0.3333333333333333,
             "#9c179e"
            ],
            [
             0.4444444444444444,
             "#bd3786"
            ],
            [
             0.5555555555555556,
             "#d8576b"
            ],
            [
             0.6666666666666666,
             "#ed7953"
            ],
            [
             0.7777777777777778,
             "#fb9f3a"
            ],
            [
             0.8888888888888888,
             "#fdca26"
            ],
            [
             1,
             "#f0f921"
            ]
           ]
          },
          "colorway": [
           "#636efa",
           "#EF553B",
           "#00cc96",
           "#ab63fa",
           "#FFA15A",
           "#19d3f3",
           "#FF6692",
           "#B6E880",
           "#FF97FF",
           "#FECB52"
          ],
          "font": {
           "color": "#2a3f5f"
          },
          "geo": {
           "bgcolor": "white",
           "lakecolor": "white",
           "landcolor": "#E5ECF6",
           "showlakes": true,
           "showland": true,
           "subunitcolor": "white"
          },
          "hoverlabel": {
           "align": "left"
          },
          "hovermode": "closest",
          "mapbox": {
           "style": "light"
          },
          "paper_bgcolor": "white",
          "plot_bgcolor": "#E5ECF6",
          "polar": {
           "angularaxis": {
            "gridcolor": "white",
            "linecolor": "white",
            "ticks": ""
           },
           "bgcolor": "#E5ECF6",
           "radialaxis": {
            "gridcolor": "white",
            "linecolor": "white",
            "ticks": ""
           }
          },
          "scene": {
           "xaxis": {
            "backgroundcolor": "#E5ECF6",
            "gridcolor": "white",
            "gridwidth": 2,
            "linecolor": "white",
            "showbackground": true,
            "ticks": "",
            "zerolinecolor": "white"
           },
           "yaxis": {
            "backgroundcolor": "#E5ECF6",
            "gridcolor": "white",
            "gridwidth": 2,
            "linecolor": "white",
            "showbackground": true,
            "ticks": "",
            "zerolinecolor": "white"
           },
           "zaxis": {
            "backgroundcolor": "#E5ECF6",
            "gridcolor": "white",
            "gridwidth": 2,
            "linecolor": "white",
            "showbackground": true,
            "ticks": "",
            "zerolinecolor": "white"
           }
          },
          "shapedefaults": {
           "line": {
            "color": "#2a3f5f"
           }
          },
          "ternary": {
           "aaxis": {
            "gridcolor": "white",
            "linecolor": "white",
            "ticks": ""
           },
           "baxis": {
            "gridcolor": "white",
            "linecolor": "white",
            "ticks": ""
           },
           "bgcolor": "#E5ECF6",
           "caxis": {
            "gridcolor": "white",
            "linecolor": "white",
            "ticks": ""
           }
          },
          "title": {
           "x": 0.05
          },
          "xaxis": {
           "automargin": true,
           "gridcolor": "white",
           "linecolor": "white",
           "ticks": "",
           "title": {
            "standoff": 15
           },
           "zerolinecolor": "white",
           "zerolinewidth": 2
          },
          "yaxis": {
           "automargin": true,
           "gridcolor": "white",
           "linecolor": "white",
           "ticks": "",
           "title": {
            "standoff": 15
           },
           "zerolinecolor": "white",
           "zerolinewidth": 2
          }
         }
        },
        "title": {
         "text": "Primitive images distribution per year"
        },
        "xaxis": {
         "anchor": "y",
         "autorange": true,
         "domain": [
          0,
          1
         ],
         "range": [
          1909.5,
          1939.5
         ],
         "title": {
          "text": "Year of publication"
         },
         "type": "linear"
        },
        "yaxis": {
         "anchor": "x",
         "autorange": true,
         "domain": [
          0,
          1
         ],
         "range": [
          0,
          11.578947368421053
         ],
         "title": {
          "text": "count"
         }
        }
       }
      },
      "image/png": "[encoded data removed]",
      "text/html": [
       "<div>                            <div id=\"8eb078e6-35bf-48da-8469-fdc66dfe7ebc\" class=\"plotly-graph-div\" style=\"height:525px; width:100%;\"></div>            <script type=\"text/javascript\">                require([\"plotly\"], function(Plotly) {                    window.PLOTLYENV=window.PLOTLYENV || {};                                    if (document.getElementById(\"8eb078e6-35bf-48da-8469-fdc66dfe7ebc\")) {                    Plotly.newPlot(                        \"8eb078e6-35bf-48da-8469-fdc66dfe7ebc\",                        [{\"alignmentgroup\":\"True\",\"bingroup\":\"x\",\"hovertemplate\":\"Year of publication=%{x}<br>count=%{y}<extra></extra>\",\"legendgroup\":\"\",\"marker\":{\"color\":\"#636efa\",\"pattern\":{\"shape\":\"\"}},\"name\":\"\",\"offsetgroup\":\"\",\"orientation\":\"v\",\"showlegend\":false,\"x\":[1923,1925,1919,1921,1912,1922,1920,1914,1937,1922,1919,1928,1924,1920,1912,1926,1926,1914,1925,1928,1921,1931,1928,1928,1929,1914,1913,1931,1932,1914,1929,1919,1920,1925],\"xaxis\":\"x\",\"yaxis\":\"y\",\"type\":\"histogram\",\"textfont\":{\"size\":12},\"cliponaxis\":false,\"textangle\":0,\"textposition\":\"outside\"}],                        {\"template\":{\"data\":{\"histogram2dcontour\":[{\"type\":\"histogram2dcontour\",\"colorbar\":{\"outlinewidth\":0,\"ticks\":\"\"},\"colorscale\":[[0.0,\"#0d0887\"],[0.1111111111111111,\"#46039f\"],[0.2222222222222222,\"#7201a8\"],[0.3333333333333333,\"#9c179e\"],[0.4444444444444444,\"#bd3786\"],[0.5555555555555556,\"#d8576b\"],[0.6666666666666666,\"#ed7953\"],[0.7777777777777778,\"#fb9f3a\"],[0.8888888888888888,\"#fdca26\"],[1.0,\"#f0f921\"]]}],\"choropleth\":[{\"type\":\"choropleth\",\"colorbar\":{\"outlinewidth\":0,\"ticks\":\"\"}}],\"histogram2d\":[{\"type\":\"histogram2d\",\"colorbar\":{\"outlinewidth\":0,\"ticks\":\"\"},\"colorscale\":[[0.0,\"#0d0887\"],[0.1111111111111111,\"#46039f\"],[0.2222222222222222,\"#7201a8\"],[0.3333333333333333,\"#9c179e\"],[0.4444444444444444,\"#bd3786\"],[0.5555555555555556,\"#d8576b\"],[0.6666666666666666,\"#ed7953\"],[0.7777777777777778,\"#fb9f3a\"],[0.8888888888888888,\"#fdca26\"],[1.0,\"#f0f921\"]]}],\"heatmap\":[{\"type\":\"heatmap\",\"colorbar\":{\"outlinewidth\":0,\"ticks\":\"\"},\"colorscale\":[[0.0,\"#0d0887\"],[0.1111111111111111,\"#46039f\"],[0.2222222222222222,\"#7201a8\"],[0.3333333333333333,\"#9c179e\"],[0.4444444444444444,\"#bd3786\"],[0.5555555555555556,\"#d8576b\"],[0.6666666666666666,\"#ed7953\"],[0.7777777777777778,\"#fb9f3a\"],[0.8888888888888888,\"#fdca26\"],[1.0,\"#f0f921\"]]}],\"heatmapgl\":[{\"type\":\"heatmapgl\",\"colorbar\":{\"outlinewidth\":0,\"ticks\":\"\"},\"colorscale\":[[0.0,\"#0d0887\"],[0.1111111111111111,\"#46039f\"],[0.2222222222222222,\"#7201a8\"],[0.3333333333333333,\"#9c179e\"],[0.4444444444444444,\"#bd3786\"],[0.5555555555555556,\"#d8576b\"],[0.6666666666666666,\"#ed7953\"],[0.7777777777777778,\"#fb9f3a\"],[0.8888888888888888,\"#fdca26\"],[1.0,\"#f0f921\"]]}],\"contourcarpet\":[{\"type\":\"contourcarpet\",\"colorbar\":{\"outlinewidth\":0,\"ticks\":\"\"}}],\"contour\":[{\"type\":\"contour\",\"colorbar\":{\"outlinewidth\":0,\"ticks\":\"\"},\"colorscale\":[[0.0,\"#0d0887\"],[0.1111111111111111,\"#46039f\"],[0.2222222222222222,\"#7201a8\"],[0.3333333333333333,\"#9c179e\"],[0.4444444444444444,\"#bd3786\"],[0.5555555555555556,\"#d8576b\"],[0.6666666666666666,\"#ed7953\"],[0.7777777777777778,\"#fb9f3a\"],[0.8888888888888888,\"#fdca26\"],[1.0,\"#f0f921\"]]}],\"surface\":[{\"type\":\"surface\",\"colorbar\":{\"outlinewidth\":0,\"ticks\":\"\"},\"colorscale\":[[0.0,\"#0d0887\"],[0.1111111111111111,\"#46039f\"],[0.2222222222222222,\"#7201a8\"],[0.3333333333333333,\"#9c179e\"],[0.4444444444444444,\"#bd3786\"],[0.5555555555555556,\"#d8576b\"],[0.6666666666666666,\"#ed7953\"],[0.7777777777777778,\"#fb9f3a\"],[0.8888888888888888,\"#fdca26\"],[1.0,\"#f0f921\"]]}],\"mesh3d\":[{\"type\":\"mesh3d\",\"colorbar\":{\"outlinewidth\":0,\"ticks\":\"\"}}],\"scatter\":[{\"fillpattern\":{\"fillmode\":\"overlay\",\"size\":10,\"solidity\":0.2},\"type\":\"scatter\"}],\"parcoords\":[{\"type\":\"parcoords\",\"line\":{\"colorbar\":{\"outlinewidth\":0,\"ticks\":\"\"}}}],\"scatterpolargl\":[{\"type\":\"scatterpolargl\",\"marker\":{\"colorbar\":{\"outlinewidth\":0,\"ticks\":\"\"}}}],\"bar\":[{\"error_x\":{\"color\":\"#2a3f5f\"},\"error_y\":{\"color\":\"#2a3f5f\"},\"marker\":{\"line\":{\"color\":\"#E5ECF6\",\"width\":0.5},\"pattern\":{\"fillmode\":\"overlay\",\"size\":10,\"solidity\":0.2}},\"type\":\"bar\"}],\"scattergeo\":[{\"type\":\"scattergeo\",\"marker\":{\"colorbar\":{\"outlinewidth\":0,\"ticks\":\"\"}}}],\"scatterpolar\":[{\"type\":\"scatterpolar\",\"marker\":{\"colorbar\":{\"outlinewidth\":0,\"ticks\":\"\"}}}],\"histogram\":[{\"marker\":{\"pattern\":{\"fillmode\":\"overlay\",\"size\":10,\"solidity\":0.2}},\"type\":\"histogram\"}],\"scattergl\":[{\"type\":\"scattergl\",\"marker\":{\"colorbar\":{\"outlinewidth\":0,\"ticks\":\"\"}}}],\"scatter3d\":[{\"type\":\"scatter3d\",\"line\":{\"colorbar\":{\"outlinewidth\":0,\"ticks\":\"\"}},\"marker\":{\"colorbar\":{\"outlinewidth\":0,\"ticks\":\"\"}}}],\"scattermapbox\":[{\"type\":\"scattermapbox\",\"marker\":{\"colorbar\":{\"outlinewidth\":0,\"ticks\":\"\"}}}],\"scatterternary\":[{\"type\":\"scatterternary\",\"marker\":{\"colorbar\":{\"outlinewidth\":0,\"ticks\":\"\"}}}],\"scattercarpet\":[{\"type\":\"scattercarpet\",\"marker\":{\"colorbar\":{\"outlinewidth\":0,\"ticks\":\"\"}}}],\"carpet\":[{\"aaxis\":{\"endlinecolor\":\"#2a3f5f\",\"gridcolor\":\"white\",\"linecolor\":\"white\",\"minorgridcolor\":\"white\",\"startlinecolor\":\"#2a3f5f\"},\"baxis\":{\"endlinecolor\":\"#2a3f5f\",\"gridcolor\":\"white\",\"linecolor\":\"white\",\"minorgridcolor\":\"white\",\"startlinecolor\":\"#2a3f5f\"},\"type\":\"carpet\"}],\"table\":[{\"cells\":{\"fill\":{\"color\":\"#EBF0F8\"},\"line\":{\"color\":\"white\"}},\"header\":{\"fill\":{\"color\":\"#C8D4E3\"},\"line\":{\"color\":\"white\"}},\"type\":\"table\"}],\"barpolar\":[{\"marker\":{\"line\":{\"color\":\"#E5ECF6\",\"width\":0.5},\"pattern\":{\"fillmode\":\"overlay\",\"size\":10,\"solidity\":0.2}},\"type\":\"barpolar\"}],\"pie\":[{\"automargin\":true,\"type\":\"pie\"}]},\"layout\":{\"autotypenumbers\":\"strict\",\"colorway\":[\"#636efa\",\"#EF553B\",\"#00cc96\",\"#ab63fa\",\"#FFA15A\",\"#19d3f3\",\"#FF6692\",\"#B6E880\",\"#FF97FF\",\"#FECB52\"],\"font\":{\"color\":\"#2a3f5f\"},\"hovermode\":\"closest\",\"hoverlabel\":{\"align\":\"left\"},\"paper_bgcolor\":\"white\",\"plot_bgcolor\":\"#E5ECF6\",\"polar\":{\"bgcolor\":\"#E5ECF6\",\"angularaxis\":{\"gridcolor\":\"white\",\"linecolor\":\"white\",\"ticks\":\"\"},\"radialaxis\":{\"gridcolor\":\"white\",\"linecolor\":\"white\",\"ticks\":\"\"}},\"ternary\":{\"bgcolor\":\"#E5ECF6\",\"aaxis\":{\"gridcolor\":\"white\",\"linecolor\":\"white\",\"ticks\":\"\"},\"baxis\":{\"gridcolor\":\"white\",\"linecolor\":\"white\",\"ticks\":\"\"},\"caxis\":{\"gridcolor\":\"white\",\"linecolor\":\"white\",\"ticks\":\"\"}},\"coloraxis\":{\"colorbar\":{\"outlinewidth\":0,\"ticks\":\"\"}},\"colorscale\":{\"sequential\":[[0.0,\"#0d0887\"],[0.1111111111111111,\"#46039f\"],[0.2222222222222222,\"#7201a8\"],[0.3333333333333333,\"#9c179e\"],[0.4444444444444444,\"#bd3786\"],[0.5555555555555556,\"#d8576b\"],[0.6666666666666666,\"#ed7953\"],[0.7777777777777778,\"#fb9f3a\"],[0.8888888888888888,\"#fdca26\"],[1.0,\"#f0f921\"]],\"sequentialminus\":[[0.0,\"#0d0887\"],[0.1111111111111111,\"#46039f\"],[0.2222222222222222,\"#7201a8\"],[0.3333333333333333,\"#9c179e\"],[0.4444444444444444,\"#bd3786\"],[0.5555555555555556,\"#d8576b\"],[0.6666666666666666,\"#ed7953\"],[0.7777777777777778,\"#fb9f3a\"],[0.8888888888888888,\"#fdca26\"],[1.0,\"#f0f921\"]],\"diverging\":[[0,\"#8e0152\"],[0.1,\"#c51b7d\"],[0.2,\"#de77ae\"],[0.3,\"#f1b6da\"],[0.4,\"#fde0ef\"],[0.5,\"#f7f7f7\"],[0.6,\"#e6f5d0\"],[0.7,\"#b8e186\"],[0.8,\"#7fbc41\"],[0.9,\"#4d9221\"],[1,\"#276419\"]]},\"xaxis\":{\"gridcolor\":\"white\",\"linecolor\":\"white\",\"ticks\":\"\",\"title\":{\"standoff\":15},\"zerolinecolor\":\"white\",\"automargin\":true,\"zerolinewidth\":2},\"yaxis\":{\"gridcolor\":\"white\",\"linecolor\":\"white\",\"ticks\":\"\",\"title\":{\"standoff\":15},\"zerolinecolor\":\"white\",\"automargin\":true,\"zerolinewidth\":2},\"scene\":{\"xaxis\":{\"backgroundcolor\":\"#E5ECF6\",\"gridcolor\":\"white\",\"linecolor\":\"white\",\"showbackground\":true,\"ticks\":\"\",\"zerolinecolor\":\"white\",\"gridwidth\":2},\"yaxis\":{\"backgroundcolor\":\"#E5ECF6\",\"gridcolor\":\"white\",\"linecolor\":\"white\",\"showbackground\":true,\"ticks\":\"\",\"zerolinecolor\":\"white\",\"gridwidth\":2},\"zaxis\":{\"backgroundcolor\":\"#E5ECF6\",\"gridcolor\":\"white\",\"linecolor\":\"white\",\"showbackground\":true,\"ticks\":\"\",\"zerolinecolor\":\"white\",\"gridwidth\":2}},\"shapedefaults\":{\"line\":{\"color\":\"#2a3f5f\"}},\"annotationdefaults\":{\"arrowcolor\":\"#2a3f5f\",\"arrowhead\":0,\"arrowwidth\":1},\"geo\":{\"bgcolor\":\"white\",\"landcolor\":\"#E5ECF6\",\"subunitcolor\":\"white\",\"showland\":true,\"showlakes\":true,\"lakecolor\":\"white\"},\"title\":{\"x\":0.05},\"mapbox\":{\"style\":\"light\"}}},\"xaxis\":{\"anchor\":\"y\",\"domain\":[0.0,1.0],\"title\":{\"text\":\"Year of publication\"}},\"yaxis\":{\"anchor\":\"x\",\"domain\":[0.0,1.0],\"title\":{\"text\":\"count\"}},\"legend\":{\"tracegroupgap\":0},\"title\":{\"text\":\"Primitive images distribution per year\"},\"barmode\":\"relative\"},                        {\"responsive\": true}                    ).then(function(){\n",
       "                            \n",
       "var gd = document.getElementById('8eb078e6-35bf-48da-8469-fdc66dfe7ebc');\n",
       "var x = new MutationObserver(function (mutations, observer) {{\n",
       "        var display = window.getComputedStyle(gd).display;\n",
       "        if (!display || display === 'none') {{\n",
       "            console.log([gd, 'removed!']);\n",
       "            Plotly.purge(gd);\n",
       "            observer.disconnect();\n",
       "        }}\n",
       "}});\n",
       "\n",
       "// Listen for the removal of the full notebook cells\n",
       "var notebookContainer = gd.closest('#notebook-container');\n",
       "if (notebookContainer) {{\n",
       "    x.observe(notebookContainer, {childList: true});\n",
       "}}\n",
       "\n",
       "// Listen for the clearing of the current output cell\n",
       "var outputEl = gd.closest('.output');\n",
       "if (outputEl) {{\n",
       "    x.observe(outputEl, {childList: true});\n",
       "}}\n",
       "\n",
       "                        })                };                });            </script>        </div>"
      ]
     },
     "metadata": {},
     "output_type": "display_data"
    }
   ],
   "source": [
    "fig = px.histogram(image_vis, x='year',\n",
    "            title=\"Primitive images distribution per year\",\n",
    "                  labels={\n",
    "                     \"year\": \"Year of publication\"})\n",
    "fig.update_traces(textfont_size=12, textangle=0, textposition=\"outside\", cliponaxis=False)\n",
    "fig.show()\n",
    "#fig.write_html('viz/image_per_year.html', auto_open=True)\n",
    "fig.write_image(\"viz/image_per_year.png\") "
   ]
  },
  {
   "cell_type": "code",
   "execution_count": 27,
   "id": "f127a6ea-82f6-473a-ade3-02664e9e8c42",
   "metadata": {},
   "outputs": [
    {
     "data": {
      "application/vnd.plotly.v1+json": {
       "config": {
        "plotlyServerURL": "https://plot.ly"
       },
       "data": [
        {
         "alignmentgroup": "True",
         "bingroup": "x",
         "cliponaxis": false,
         "hovertemplate": "Country=Germany<br>Year of publication=%{x}<br>count=%{y}<extra></extra>",
         "legendgroup": "Germany",
         "marker": {
          "color": "#636efa",
          "pattern": {
           "shape": ""
          }
         },
         "name": "Germany",
         "offsetgroup": "Germany",
         "orientation": "v",
         "showlegend": true,
         "textangle": 0,
         "textfont": {
          "size": 12
         },
         "textposition": "outside",
         "type": "histogram",
         "x": [
          1923,
          1919
         ],
         "xaxis": "x",
         "yaxis": "y"
        },
        {
         "alignmentgroup": "True",
         "bingroup": "x",
         "cliponaxis": false,
         "hovertemplate": "Country=France<br>Year of publication=%{x}<br>count=%{y}<extra></extra>",
         "legendgroup": "France",
         "marker": {
          "color": "#EF553B",
          "pattern": {
           "shape": ""
          }
         },
         "name": "France",
         "offsetgroup": "France",
         "orientation": "v",
         "showlegend": true,
         "textangle": 0,
         "textfont": {
          "size": 12
         },
         "textposition": "outside",
         "type": "histogram",
         "x": [
          1925,
          1921,
          1922,
          1920,
          1914,
          1937,
          1922,
          1928,
          1924,
          1920,
          1926,
          1926,
          1925,
          1928,
          1931,
          1928,
          1928,
          1929,
          1914,
          1931,
          1932,
          1929,
          1920,
          1925
         ],
         "xaxis": "x",
         "yaxis": "y"
        },
        {
         "alignmentgroup": "True",
         "bingroup": "x",
         "cliponaxis": false,
         "hovertemplate": "Country=Netherlands<br>Year of publication=%{x}<br>count=%{y}<extra></extra>",
         "legendgroup": "Netherlands",
         "marker": {
          "color": "#00cc96",
          "pattern": {
           "shape": ""
          }
         },
         "name": "Netherlands",
         "offsetgroup": "Netherlands",
         "orientation": "v",
         "showlegend": true,
         "textangle": 0,
         "textfont": {
          "size": 12
         },
         "textposition": "outside",
         "type": "histogram",
         "x": [
          1919,
          1919
         ],
         "xaxis": "x",
         "yaxis": "y"
        },
        {
         "alignmentgroup": "True",
         "bingroup": "x",
         "cliponaxis": false,
         "hovertemplate": "Country=Czech Republic<br>Year of publication=%{x}<br>count=%{y}<extra></extra>",
         "legendgroup": "Czech Republic",
         "marker": {
          "color": "#ab63fa",
          "pattern": {
           "shape": ""
          }
         },
         "name": "Czech Republic",
         "offsetgroup": "Czech Republic",
         "orientation": "v",
         "showlegend": true,
         "textangle": 0,
         "textfont": {
          "size": 12
         },
         "textposition": "outside",
         "type": "histogram",
         "x": [
          1912,
          1912,
          1914,
          1913,
          1914
         ],
         "xaxis": "x",
         "yaxis": "y"
        },
        {
         "alignmentgroup": "True",
         "bingroup": "x",
         "cliponaxis": false,
         "hovertemplate": "Country=United States of America<br>Year of publication=%{x}<br>count=%{y}<extra></extra>",
         "legendgroup": "United States of America",
         "marker": {
          "color": "#FFA15A",
          "pattern": {
           "shape": ""
          }
         },
         "name": "United States of America",
         "offsetgroup": "United States of America",
         "orientation": "v",
         "showlegend": true,
         "textangle": 0,
         "textfont": {
          "size": 12
         },
         "textposition": "outside",
         "type": "histogram",
         "x": [
          1921
         ],
         "xaxis": "x",
         "yaxis": "y"
        }
       ],
       "layout": {
        "autosize": true,
        "barmode": "relative",
        "legend": {
         "title": {
          "text": "Country"
         },
         "tracegroupgap": 0
        },
        "template": {
         "data": {
          "bar": [
           {
            "error_x": {
             "color": "#2a3f5f"
            },
            "error_y": {
             "color": "#2a3f5f"
            },
            "marker": {
             "line": {
              "color": "#E5ECF6",
              "width": 0.5
             },
             "pattern": {
              "fillmode": "overlay",
              "size": 10,
              "solidity": 0.2
             }
            },
            "type": "bar"
           }
          ],
          "barpolar": [
           {
            "marker": {
             "line": {
              "color": "#E5ECF6",
              "width": 0.5
             },
             "pattern": {
              "fillmode": "overlay",
              "size": 10,
              "solidity": 0.2
             }
            },
            "type": "barpolar"
           }
          ],
          "carpet": [
           {
            "aaxis": {
             "endlinecolor": "#2a3f5f",
             "gridcolor": "white",
             "linecolor": "white",
             "minorgridcolor": "white",
             "startlinecolor": "#2a3f5f"
            },
            "baxis": {
             "endlinecolor": "#2a3f5f",
             "gridcolor": "white",
             "linecolor": "white",
             "minorgridcolor": "white",
             "startlinecolor": "#2a3f5f"
            },
            "type": "carpet"
           }
          ],
          "choropleth": [
           {
            "colorbar": {
             "outlinewidth": 0,
             "ticks": ""
            },
            "type": "choropleth"
           }
          ],
          "contour": [
           {
            "colorbar": {
             "outlinewidth": 0,
             "ticks": ""
            },
            "colorscale": [
             [
              0,
              "#0d0887"
             ],
             [
              0.1111111111111111,
              "#46039f"
             ],
             [
              0.2222222222222222,
              "#7201a8"
             ],
             [
              0.3333333333333333,
              "#9c179e"
             ],
             [
              0.4444444444444444,
              "#bd3786"
             ],
             [
              0.5555555555555556,
              "#d8576b"
             ],
             [
              0.6666666666666666,
              "#ed7953"
             ],
             [
              0.7777777777777778,
              "#fb9f3a"
             ],
             [
              0.8888888888888888,
              "#fdca26"
             ],
             [
              1,
              "#f0f921"
             ]
            ],
            "type": "contour"
           }
          ],
          "contourcarpet": [
           {
            "colorbar": {
             "outlinewidth": 0,
             "ticks": ""
            },
            "type": "contourcarpet"
           }
          ],
          "heatmap": [
           {
            "colorbar": {
             "outlinewidth": 0,
             "ticks": ""
            },
            "colorscale": [
             [
              0,
              "#0d0887"
             ],
             [
              0.1111111111111111,
              "#46039f"
             ],
             [
              0.2222222222222222,
              "#7201a8"
             ],
             [
              0.3333333333333333,
              "#9c179e"
             ],
             [
              0.4444444444444444,
              "#bd3786"
             ],
             [
              0.5555555555555556,
              "#d8576b"
             ],
             [
              0.6666666666666666,
              "#ed7953"
             ],
             [
              0.7777777777777778,
              "#fb9f3a"
             ],
             [
              0.8888888888888888,
              "#fdca26"
             ],
             [
              1,
              "#f0f921"
             ]
            ],
            "type": "heatmap"
           }
          ],
          "heatmapgl": [
           {
            "colorbar": {
             "outlinewidth": 0,
             "ticks": ""
            },
            "colorscale": [
             [
              0,
              "#0d0887"
             ],
             [
              0.1111111111111111,
              "#46039f"
             ],
             [
              0.2222222222222222,
              "#7201a8"
             ],
             [
              0.3333333333333333,
              "#9c179e"
             ],
             [
              0.4444444444444444,
              "#bd3786"
             ],
             [
              0.5555555555555556,
              "#d8576b"
             ],
             [
              0.6666666666666666,
              "#ed7953"
             ],
             [
              0.7777777777777778,
              "#fb9f3a"
             ],
             [
              0.8888888888888888,
              "#fdca26"
             ],
             [
              1,
              "#f0f921"
             ]
            ],
            "type": "heatmapgl"
           }
          ],
          "histogram": [
           {
            "marker": {
             "pattern": {
              "fillmode": "overlay",
              "size": 10,
              "solidity": 0.2
             }
            },
            "type": "histogram"
           }
          ],
          "histogram2d": [
           {
            "colorbar": {
             "outlinewidth": 0,
             "ticks": ""
            },
            "colorscale": [
             [
              0,
              "#0d0887"
             ],
             [
              0.1111111111111111,
              "#46039f"
             ],
             [
              0.2222222222222222,
              "#7201a8"
             ],
             [
              0.3333333333333333,
              "#9c179e"
             ],
             [
              0.4444444444444444,
              "#bd3786"
             ],
             [
              0.5555555555555556,
              "#d8576b"
             ],
             [
              0.6666666666666666,
              "#ed7953"
             ],
             [
              0.7777777777777778,
              "#fb9f3a"
             ],
             [
              0.8888888888888888,
              "#fdca26"
             ],
             [
              1,
              "#f0f921"
             ]
            ],
            "type": "histogram2d"
           }
          ],
          "histogram2dcontour": [
           {
            "colorbar": {
             "outlinewidth": 0,
             "ticks": ""
            },
            "colorscale": [
             [
              0,
              "#0d0887"
             ],
             [
              0.1111111111111111,
              "#46039f"
             ],
             [
              0.2222222222222222,
              "#7201a8"
             ],
             [
              0.3333333333333333,
              "#9c179e"
             ],
             [
              0.4444444444444444,
              "#bd3786"
             ],
             [
              0.5555555555555556,
              "#d8576b"
             ],
             [
              0.6666666666666666,
              "#ed7953"
             ],
             [
              0.7777777777777778,
              "#fb9f3a"
             ],
             [
              0.8888888888888888,
              "#fdca26"
             ],
             [
              1,
              "#f0f921"
             ]
            ],
            "type": "histogram2dcontour"
           }
          ],
          "mesh3d": [
           {
            "colorbar": {
             "outlinewidth": 0,
             "ticks": ""
            },
            "type": "mesh3d"
           }
          ],
          "parcoords": [
           {
            "line": {
             "colorbar": {
              "outlinewidth": 0,
              "ticks": ""
             }
            },
            "type": "parcoords"
           }
          ],
          "pie": [
           {
            "automargin": true,
            "type": "pie"
           }
          ],
          "scatter": [
           {
            "fillpattern": {
             "fillmode": "overlay",
             "size": 10,
             "solidity": 0.2
            },
            "type": "scatter"
           }
          ],
          "scatter3d": [
           {
            "line": {
             "colorbar": {
              "outlinewidth": 0,
              "ticks": ""
             }
            },
            "marker": {
             "colorbar": {
              "outlinewidth": 0,
              "ticks": ""
             }
            },
            "type": "scatter3d"
           }
          ],
          "scattercarpet": [
           {
            "marker": {
             "colorbar": {
              "outlinewidth": 0,
              "ticks": ""
             }
            },
            "type": "scattercarpet"
           }
          ],
          "scattergeo": [
           {
            "marker": {
             "colorbar": {
              "outlinewidth": 0,
              "ticks": ""
             }
            },
            "type": "scattergeo"
           }
          ],
          "scattergl": [
           {
            "marker": {
             "colorbar": {
              "outlinewidth": 0,
              "ticks": ""
             }
            },
            "type": "scattergl"
           }
          ],
          "scattermapbox": [
           {
            "marker": {
             "colorbar": {
              "outlinewidth": 0,
              "ticks": ""
             }
            },
            "type": "scattermapbox"
           }
          ],
          "scatterpolar": [
           {
            "marker": {
             "colorbar": {
              "outlinewidth": 0,
              "ticks": ""
             }
            },
            "type": "scatterpolar"
           }
          ],
          "scatterpolargl": [
           {
            "marker": {
             "colorbar": {
              "outlinewidth": 0,
              "ticks": ""
             }
            },
            "type": "scatterpolargl"
           }
          ],
          "scatterternary": [
           {
            "marker": {
             "colorbar": {
              "outlinewidth": 0,
              "ticks": ""
             }
            },
            "type": "scatterternary"
           }
          ],
          "surface": [
           {
            "colorbar": {
             "outlinewidth": 0,
             "ticks": ""
            },
            "colorscale": [
             [
              0,
              "#0d0887"
             ],
             [
              0.1111111111111111,
              "#46039f"
             ],
             [
              0.2222222222222222,
              "#7201a8"
             ],
             [
              0.3333333333333333,
              "#9c179e"
             ],
             [
              0.4444444444444444,
              "#bd3786"
             ],
             [
              0.5555555555555556,
              "#d8576b"
             ],
             [
              0.6666666666666666,
              "#ed7953"
             ],
             [
              0.7777777777777778,
              "#fb9f3a"
             ],
             [
              0.8888888888888888,
              "#fdca26"
             ],
             [
              1,
              "#f0f921"
             ]
            ],
            "type": "surface"
           }
          ],
          "table": [
           {
            "cells": {
             "fill": {
              "color": "#EBF0F8"
             },
             "line": {
              "color": "white"
             }
            },
            "header": {
             "fill": {
              "color": "#C8D4E3"
             },
             "line": {
              "color": "white"
             }
            },
            "type": "table"
           }
          ]
         },
         "layout": {
          "annotationdefaults": {
           "arrowcolor": "#2a3f5f",
           "arrowhead": 0,
           "arrowwidth": 1
          },
          "autotypenumbers": "strict",
          "coloraxis": {
           "colorbar": {
            "outlinewidth": 0,
            "ticks": ""
           }
          },
          "colorscale": {
           "diverging": [
            [
             0,
             "#8e0152"
            ],
            [
             0.1,
             "#c51b7d"
            ],
            [
             0.2,
             "#de77ae"
            ],
            [
             0.3,
             "#f1b6da"
            ],
            [
             0.4,
             "#fde0ef"
            ],
            [
             0.5,
             "#f7f7f7"
            ],
            [
             0.6,
             "#e6f5d0"
            ],
            [
             0.7,
             "#b8e186"
            ],
            [
             0.8,
             "#7fbc41"
            ],
            [
             0.9,
             "#4d9221"
            ],
            [
             1,
             "#276419"
            ]
           ],
           "sequential": [
            [
             0,
             "#0d0887"
            ],
            [
             0.1111111111111111,
             "#46039f"
            ],
            [
             0.2222222222222222,
             "#7201a8"
            ],
            [
             0.3333333333333333,
             "#9c179e"
            ],
            [
             0.4444444444444444,
             "#bd3786"
            ],
            [
             0.5555555555555556,
             "#d8576b"
            ],
            [
             0.6666666666666666,
             "#ed7953"
            ],
            [
             0.7777777777777778,
             "#fb9f3a"
            ],
            [
             0.8888888888888888,
             "#fdca26"
            ],
            [
             1,
             "#f0f921"
            ]
           ],
           "sequentialminus": [
            [
             0,
             "#0d0887"
            ],
            [
             0.1111111111111111,
             "#46039f"
            ],
            [
             0.2222222222222222,
             "#7201a8"
            ],
            [
             0.3333333333333333,
             "#9c179e"
            ],
            [
             0.4444444444444444,
             "#bd3786"
            ],
            [
             0.5555555555555556,
             "#d8576b"
            ],
            [
             0.6666666666666666,
             "#ed7953"
            ],
            [
             0.7777777777777778,
             "#fb9f3a"
            ],
            [
             0.8888888888888888,
             "#fdca26"
            ],
            [
             1,
             "#f0f921"
            ]
           ]
          },
          "colorway": [
           "#636efa",
           "#EF553B",
           "#00cc96",
           "#ab63fa",
           "#FFA15A",
           "#19d3f3",
           "#FF6692",
           "#B6E880",
           "#FF97FF",
           "#FECB52"
          ],
          "font": {
           "color": "#2a3f5f"
          },
          "geo": {
           "bgcolor": "white",
           "lakecolor": "white",
           "landcolor": "#E5ECF6",
           "showlakes": true,
           "showland": true,
           "subunitcolor": "white"
          },
          "hoverlabel": {
           "align": "left"
          },
          "hovermode": "closest",
          "mapbox": {
           "style": "light"
          },
          "paper_bgcolor": "white",
          "plot_bgcolor": "#E5ECF6",
          "polar": {
           "angularaxis": {
            "gridcolor": "white",
            "linecolor": "white",
            "ticks": ""
           },
           "bgcolor": "#E5ECF6",
           "radialaxis": {
            "gridcolor": "white",
            "linecolor": "white",
            "ticks": ""
           }
          },
          "scene": {
           "xaxis": {
            "backgroundcolor": "#E5ECF6",
            "gridcolor": "white",
            "gridwidth": 2,
            "linecolor": "white",
            "showbackground": true,
            "ticks": "",
            "zerolinecolor": "white"
           },
           "yaxis": {
            "backgroundcolor": "#E5ECF6",
            "gridcolor": "white",
            "gridwidth": 2,
            "linecolor": "white",
            "showbackground": true,
            "ticks": "",
            "zerolinecolor": "white"
           },
           "zaxis": {
            "backgroundcolor": "#E5ECF6",
            "gridcolor": "white",
            "gridwidth": 2,
            "linecolor": "white",
            "showbackground": true,
            "ticks": "",
            "zerolinecolor": "white"
           }
          },
          "shapedefaults": {
           "line": {
            "color": "#2a3f5f"
           }
          },
          "ternary": {
           "aaxis": {
            "gridcolor": "white",
            "linecolor": "white",
            "ticks": ""
           },
           "baxis": {
            "gridcolor": "white",
            "linecolor": "white",
            "ticks": ""
           },
           "bgcolor": "#E5ECF6",
           "caxis": {
            "gridcolor": "white",
            "linecolor": "white",
            "ticks": ""
           }
          },
          "title": {
           "x": 0.05
          },
          "xaxis": {
           "automargin": true,
           "gridcolor": "white",
           "linecolor": "white",
           "ticks": "",
           "title": {
            "standoff": 15
           },
           "zerolinecolor": "white",
           "zerolinewidth": 2
          },
          "yaxis": {
           "automargin": true,
           "gridcolor": "white",
           "linecolor": "white",
           "ticks": "",
           "title": {
            "standoff": 15
           },
           "zerolinecolor": "white",
           "zerolinewidth": 2
          }
         }
        },
        "title": {
         "text": "Primitive images distribution per year"
        },
        "xaxis": {
         "anchor": "y",
         "autorange": true,
         "domain": [
          0,
          1
         ],
         "range": [
          1909.5,
          1939.5
         ],
         "title": {
          "text": "Year of publication"
         },
         "type": "linear"
        },
        "yaxis": {
         "anchor": "x",
         "autorange": true,
         "domain": [
          0,
          1
         ],
         "range": [
          0,
          11.578947368421053
         ],
         "title": {
          "text": "count"
         }
        }
       }
      },
      "image/png": "[encoded data removed]",
      "text/html": [
       "<div>                            <div id=\"17d34c98-2d0c-4e22-9389-3d394e33f6ad\" class=\"plotly-graph-div\" style=\"height:525px; width:100%;\"></div>            <script type=\"text/javascript\">                require([\"plotly\"], function(Plotly) {                    window.PLOTLYENV=window.PLOTLYENV || {};                                    if (document.getElementById(\"17d34c98-2d0c-4e22-9389-3d394e33f6ad\")) {                    Plotly.newPlot(                        \"17d34c98-2d0c-4e22-9389-3d394e33f6ad\",                        [{\"alignmentgroup\":\"True\",\"bingroup\":\"x\",\"hovertemplate\":\"Country=Germany<br>Year of publication=%{x}<br>count=%{y}<extra></extra>\",\"legendgroup\":\"Germany\",\"marker\":{\"color\":\"#636efa\",\"pattern\":{\"shape\":\"\"}},\"name\":\"Germany\",\"offsetgroup\":\"Germany\",\"orientation\":\"v\",\"showlegend\":true,\"x\":[1923,1919],\"xaxis\":\"x\",\"yaxis\":\"y\",\"type\":\"histogram\",\"textfont\":{\"size\":12},\"cliponaxis\":false,\"textangle\":0,\"textposition\":\"outside\"},{\"alignmentgroup\":\"True\",\"bingroup\":\"x\",\"hovertemplate\":\"Country=France<br>Year of publication=%{x}<br>count=%{y}<extra></extra>\",\"legendgroup\":\"France\",\"marker\":{\"color\":\"#EF553B\",\"pattern\":{\"shape\":\"\"}},\"name\":\"France\",\"offsetgroup\":\"France\",\"orientation\":\"v\",\"showlegend\":true,\"x\":[1925,1921,1922,1920,1914,1937,1922,1928,1924,1920,1926,1926,1925,1928,1931,1928,1928,1929,1914,1931,1932,1929,1920,1925],\"xaxis\":\"x\",\"yaxis\":\"y\",\"type\":\"histogram\",\"textfont\":{\"size\":12},\"cliponaxis\":false,\"textangle\":0,\"textposition\":\"outside\"},{\"alignmentgroup\":\"True\",\"bingroup\":\"x\",\"hovertemplate\":\"Country=Netherlands<br>Year of publication=%{x}<br>count=%{y}<extra></extra>\",\"legendgroup\":\"Netherlands\",\"marker\":{\"color\":\"#00cc96\",\"pattern\":{\"shape\":\"\"}},\"name\":\"Netherlands\",\"offsetgroup\":\"Netherlands\",\"orientation\":\"v\",\"showlegend\":true,\"x\":[1919,1919],\"xaxis\":\"x\",\"yaxis\":\"y\",\"type\":\"histogram\",\"textfont\":{\"size\":12},\"cliponaxis\":false,\"textangle\":0,\"textposition\":\"outside\"},{\"alignmentgroup\":\"True\",\"bingroup\":\"x\",\"hovertemplate\":\"Country=Czech Republic<br>Year of publication=%{x}<br>count=%{y}<extra></extra>\",\"legendgroup\":\"Czech Republic\",\"marker\":{\"color\":\"#ab63fa\",\"pattern\":{\"shape\":\"\"}},\"name\":\"Czech Republic\",\"offsetgroup\":\"Czech Republic\",\"orientation\":\"v\",\"showlegend\":true,\"x\":[1912,1912,1914,1913,1914],\"xaxis\":\"x\",\"yaxis\":\"y\",\"type\":\"histogram\",\"textfont\":{\"size\":12},\"cliponaxis\":false,\"textangle\":0,\"textposition\":\"outside\"},{\"alignmentgroup\":\"True\",\"bingroup\":\"x\",\"hovertemplate\":\"Country=United States of America<br>Year of publication=%{x}<br>count=%{y}<extra></extra>\",\"legendgroup\":\"United States of America\",\"marker\":{\"color\":\"#FFA15A\",\"pattern\":{\"shape\":\"\"}},\"name\":\"United States of America\",\"offsetgroup\":\"United States of America\",\"orientation\":\"v\",\"showlegend\":true,\"x\":[1921],\"xaxis\":\"x\",\"yaxis\":\"y\",\"type\":\"histogram\",\"textfont\":{\"size\":12},\"cliponaxis\":false,\"textangle\":0,\"textposition\":\"outside\"}],                        {\"template\":{\"data\":{\"histogram2dcontour\":[{\"type\":\"histogram2dcontour\",\"colorbar\":{\"outlinewidth\":0,\"ticks\":\"\"},\"colorscale\":[[0.0,\"#0d0887\"],[0.1111111111111111,\"#46039f\"],[0.2222222222222222,\"#7201a8\"],[0.3333333333333333,\"#9c179e\"],[0.4444444444444444,\"#bd3786\"],[0.5555555555555556,\"#d8576b\"],[0.6666666666666666,\"#ed7953\"],[0.7777777777777778,\"#fb9f3a\"],[0.8888888888888888,\"#fdca26\"],[1.0,\"#f0f921\"]]}],\"choropleth\":[{\"type\":\"choropleth\",\"colorbar\":{\"outlinewidth\":0,\"ticks\":\"\"}}],\"histogram2d\":[{\"type\":\"histogram2d\",\"colorbar\":{\"outlinewidth\":0,\"ticks\":\"\"},\"colorscale\":[[0.0,\"#0d0887\"],[0.1111111111111111,\"#46039f\"],[0.2222222222222222,\"#7201a8\"],[0.3333333333333333,\"#9c179e\"],[0.4444444444444444,\"#bd3786\"],[0.5555555555555556,\"#d8576b\"],[0.6666666666666666,\"#ed7953\"],[0.7777777777777778,\"#fb9f3a\"],[0.8888888888888888,\"#fdca26\"],[1.0,\"#f0f921\"]]}],\"heatmap\":[{\"type\":\"heatmap\",\"colorbar\":{\"outlinewidth\":0,\"ticks\":\"\"},\"colorscale\":[[0.0,\"#0d0887\"],[0.1111111111111111,\"#46039f\"],[0.2222222222222222,\"#7201a8\"],[0.3333333333333333,\"#9c179e\"],[0.4444444444444444,\"#bd3786\"],[0.5555555555555556,\"#d8576b\"],[0.6666666666666666,\"#ed7953\"],[0.7777777777777778,\"#fb9f3a\"],[0.8888888888888888,\"#fdca26\"],[1.0,\"#f0f921\"]]}],\"heatmapgl\":[{\"type\":\"heatmapgl\",\"colorbar\":{\"outlinewidth\":0,\"ticks\":\"\"},\"colorscale\":[[0.0,\"#0d0887\"],[0.1111111111111111,\"#46039f\"],[0.2222222222222222,\"#7201a8\"],[0.3333333333333333,\"#9c179e\"],[0.4444444444444444,\"#bd3786\"],[0.5555555555555556,\"#d8576b\"],[0.6666666666666666,\"#ed7953\"],[0.7777777777777778,\"#fb9f3a\"],[0.8888888888888888,\"#fdca26\"],[1.0,\"#f0f921\"]]}],\"contourcarpet\":[{\"type\":\"contourcarpet\",\"colorbar\":{\"outlinewidth\":0,\"ticks\":\"\"}}],\"contour\":[{\"type\":\"contour\",\"colorbar\":{\"outlinewidth\":0,\"ticks\":\"\"},\"colorscale\":[[0.0,\"#0d0887\"],[0.1111111111111111,\"#46039f\"],[0.2222222222222222,\"#7201a8\"],[0.3333333333333333,\"#9c179e\"],[0.4444444444444444,\"#bd3786\"],[0.5555555555555556,\"#d8576b\"],[0.6666666666666666,\"#ed7953\"],[0.7777777777777778,\"#fb9f3a\"],[0.8888888888888888,\"#fdca26\"],[1.0,\"#f0f921\"]]}],\"surface\":[{\"type\":\"surface\",\"colorbar\":{\"outlinewidth\":0,\"ticks\":\"\"},\"colorscale\":[[0.0,\"#0d0887\"],[0.1111111111111111,\"#46039f\"],[0.2222222222222222,\"#7201a8\"],[0.3333333333333333,\"#9c179e\"],[0.4444444444444444,\"#bd3786\"],[0.5555555555555556,\"#d8576b\"],[0.6666666666666666,\"#ed7953\"],[0.7777777777777778,\"#fb9f3a\"],[0.8888888888888888,\"#fdca26\"],[1.0,\"#f0f921\"]]}],\"mesh3d\":[{\"type\":\"mesh3d\",\"colorbar\":{\"outlinewidth\":0,\"ticks\":\"\"}}],\"scatter\":[{\"fillpattern\":{\"fillmode\":\"overlay\",\"size\":10,\"solidity\":0.2},\"type\":\"scatter\"}],\"parcoords\":[{\"type\":\"parcoords\",\"line\":{\"colorbar\":{\"outlinewidth\":0,\"ticks\":\"\"}}}],\"scatterpolargl\":[{\"type\":\"scatterpolargl\",\"marker\":{\"colorbar\":{\"outlinewidth\":0,\"ticks\":\"\"}}}],\"bar\":[{\"error_x\":{\"color\":\"#2a3f5f\"},\"error_y\":{\"color\":\"#2a3f5f\"},\"marker\":{\"line\":{\"color\":\"#E5ECF6\",\"width\":0.5},\"pattern\":{\"fillmode\":\"overlay\",\"size\":10,\"solidity\":0.2}},\"type\":\"bar\"}],\"scattergeo\":[{\"type\":\"scattergeo\",\"marker\":{\"colorbar\":{\"outlinewidth\":0,\"ticks\":\"\"}}}],\"scatterpolar\":[{\"type\":\"scatterpolar\",\"marker\":{\"colorbar\":{\"outlinewidth\":0,\"ticks\":\"\"}}}],\"histogram\":[{\"marker\":{\"pattern\":{\"fillmode\":\"overlay\",\"size\":10,\"solidity\":0.2}},\"type\":\"histogram\"}],\"scattergl\":[{\"type\":\"scattergl\",\"marker\":{\"colorbar\":{\"outlinewidth\":0,\"ticks\":\"\"}}}],\"scatter3d\":[{\"type\":\"scatter3d\",\"line\":{\"colorbar\":{\"outlinewidth\":0,\"ticks\":\"\"}},\"marker\":{\"colorbar\":{\"outlinewidth\":0,\"ticks\":\"\"}}}],\"scattermapbox\":[{\"type\":\"scattermapbox\",\"marker\":{\"colorbar\":{\"outlinewidth\":0,\"ticks\":\"\"}}}],\"scatterternary\":[{\"type\":\"scatterternary\",\"marker\":{\"colorbar\":{\"outlinewidth\":0,\"ticks\":\"\"}}}],\"scattercarpet\":[{\"type\":\"scattercarpet\",\"marker\":{\"colorbar\":{\"outlinewidth\":0,\"ticks\":\"\"}}}],\"carpet\":[{\"aaxis\":{\"endlinecolor\":\"#2a3f5f\",\"gridcolor\":\"white\",\"linecolor\":\"white\",\"minorgridcolor\":\"white\",\"startlinecolor\":\"#2a3f5f\"},\"baxis\":{\"endlinecolor\":\"#2a3f5f\",\"gridcolor\":\"white\",\"linecolor\":\"white\",\"minorgridcolor\":\"white\",\"startlinecolor\":\"#2a3f5f\"},\"type\":\"carpet\"}],\"table\":[{\"cells\":{\"fill\":{\"color\":\"#EBF0F8\"},\"line\":{\"color\":\"white\"}},\"header\":{\"fill\":{\"color\":\"#C8D4E3\"},\"line\":{\"color\":\"white\"}},\"type\":\"table\"}],\"barpolar\":[{\"marker\":{\"line\":{\"color\":\"#E5ECF6\",\"width\":0.5},\"pattern\":{\"fillmode\":\"overlay\",\"size\":10,\"solidity\":0.2}},\"type\":\"barpolar\"}],\"pie\":[{\"automargin\":true,\"type\":\"pie\"}]},\"layout\":{\"autotypenumbers\":\"strict\",\"colorway\":[\"#636efa\",\"#EF553B\",\"#00cc96\",\"#ab63fa\",\"#FFA15A\",\"#19d3f3\",\"#FF6692\",\"#B6E880\",\"#FF97FF\",\"#FECB52\"],\"font\":{\"color\":\"#2a3f5f\"},\"hovermode\":\"closest\",\"hoverlabel\":{\"align\":\"left\"},\"paper_bgcolor\":\"white\",\"plot_bgcolor\":\"#E5ECF6\",\"polar\":{\"bgcolor\":\"#E5ECF6\",\"angularaxis\":{\"gridcolor\":\"white\",\"linecolor\":\"white\",\"ticks\":\"\"},\"radialaxis\":{\"gridcolor\":\"white\",\"linecolor\":\"white\",\"ticks\":\"\"}},\"ternary\":{\"bgcolor\":\"#E5ECF6\",\"aaxis\":{\"gridcolor\":\"white\",\"linecolor\":\"white\",\"ticks\":\"\"},\"baxis\":{\"gridcolor\":\"white\",\"linecolor\":\"white\",\"ticks\":\"\"},\"caxis\":{\"gridcolor\":\"white\",\"linecolor\":\"white\",\"ticks\":\"\"}},\"coloraxis\":{\"colorbar\":{\"outlinewidth\":0,\"ticks\":\"\"}},\"colorscale\":{\"sequential\":[[0.0,\"#0d0887\"],[0.1111111111111111,\"#46039f\"],[0.2222222222222222,\"#7201a8\"],[0.3333333333333333,\"#9c179e\"],[0.4444444444444444,\"#bd3786\"],[0.5555555555555556,\"#d8576b\"],[0.6666666666666666,\"#ed7953\"],[0.7777777777777778,\"#fb9f3a\"],[0.8888888888888888,\"#fdca26\"],[1.0,\"#f0f921\"]],\"sequentialminus\":[[0.0,\"#0d0887\"],[0.1111111111111111,\"#46039f\"],[0.2222222222222222,\"#7201a8\"],[0.3333333333333333,\"#9c179e\"],[0.4444444444444444,\"#bd3786\"],[0.5555555555555556,\"#d8576b\"],[0.6666666666666666,\"#ed7953\"],[0.7777777777777778,\"#fb9f3a\"],[0.8888888888888888,\"#fdca26\"],[1.0,\"#f0f921\"]],\"diverging\":[[0,\"#8e0152\"],[0.1,\"#c51b7d\"],[0.2,\"#de77ae\"],[0.3,\"#f1b6da\"],[0.4,\"#fde0ef\"],[0.5,\"#f7f7f7\"],[0.6,\"#e6f5d0\"],[0.7,\"#b8e186\"],[0.8,\"#7fbc41\"],[0.9,\"#4d9221\"],[1,\"#276419\"]]},\"xaxis\":{\"gridcolor\":\"white\",\"linecolor\":\"white\",\"ticks\":\"\",\"title\":{\"standoff\":15},\"zerolinecolor\":\"white\",\"automargin\":true,\"zerolinewidth\":2},\"yaxis\":{\"gridcolor\":\"white\",\"linecolor\":\"white\",\"ticks\":\"\",\"title\":{\"standoff\":15},\"zerolinecolor\":\"white\",\"automargin\":true,\"zerolinewidth\":2},\"scene\":{\"xaxis\":{\"backgroundcolor\":\"#E5ECF6\",\"gridcolor\":\"white\",\"linecolor\":\"white\",\"showbackground\":true,\"ticks\":\"\",\"zerolinecolor\":\"white\",\"gridwidth\":2},\"yaxis\":{\"backgroundcolor\":\"#E5ECF6\",\"gridcolor\":\"white\",\"linecolor\":\"white\",\"showbackground\":true,\"ticks\":\"\",\"zerolinecolor\":\"white\",\"gridwidth\":2},\"zaxis\":{\"backgroundcolor\":\"#E5ECF6\",\"gridcolor\":\"white\",\"linecolor\":\"white\",\"showbackground\":true,\"ticks\":\"\",\"zerolinecolor\":\"white\",\"gridwidth\":2}},\"shapedefaults\":{\"line\":{\"color\":\"#2a3f5f\"}},\"annotationdefaults\":{\"arrowcolor\":\"#2a3f5f\",\"arrowhead\":0,\"arrowwidth\":1},\"geo\":{\"bgcolor\":\"white\",\"landcolor\":\"#E5ECF6\",\"subunitcolor\":\"white\",\"showland\":true,\"showlakes\":true,\"lakecolor\":\"white\"},\"title\":{\"x\":0.05},\"mapbox\":{\"style\":\"light\"}}},\"xaxis\":{\"anchor\":\"y\",\"domain\":[0.0,1.0],\"title\":{\"text\":\"Year of publication\"}},\"yaxis\":{\"anchor\":\"x\",\"domain\":[0.0,1.0],\"title\":{\"text\":\"count\"}},\"legend\":{\"title\":{\"text\":\"Country\"},\"tracegroupgap\":0},\"title\":{\"text\":\"Primitive images distribution per year\"},\"barmode\":\"relative\"},                        {\"responsive\": true}                    ).then(function(){\n",
       "                            \n",
       "var gd = document.getElementById('17d34c98-2d0c-4e22-9389-3d394e33f6ad');\n",
       "var x = new MutationObserver(function (mutations, observer) {{\n",
       "        var display = window.getComputedStyle(gd).display;\n",
       "        if (!display || display === 'none') {{\n",
       "            console.log([gd, 'removed!']);\n",
       "            Plotly.purge(gd);\n",
       "            observer.disconnect();\n",
       "        }}\n",
       "}});\n",
       "\n",
       "// Listen for the removal of the full notebook cells\n",
       "var notebookContainer = gd.closest('#notebook-container');\n",
       "if (notebookContainer) {{\n",
       "    x.observe(notebookContainer, {childList: true});\n",
       "}}\n",
       "\n",
       "// Listen for the clearing of the current output cell\n",
       "var outputEl = gd.closest('.output');\n",
       "if (outputEl) {{\n",
       "    x.observe(outputEl, {childList: true});\n",
       "}}\n",
       "\n",
       "                        })                };                });            </script>        </div>"
      ]
     },
     "metadata": {},
     "output_type": "display_data"
    }
   ],
   "source": [
    "fig = px.histogram(image_vis, x='year', color=\"Country\",\n",
    "            title=\"Primitive images distribution per year\",\n",
    "                  labels={\n",
    "                     \"year\": \"Year of publication\"})\n",
    "fig.update_traces(textfont_size=12, textangle=0, textposition=\"outside\", cliponaxis=False)\n",
    "fig.show()\n",
    "#fig.write_html('viz/image_per_year.html', auto_open=True)\n",
    "fig.write_image(\"viz/image_per_year.png\") "
   ]
  },
  {
   "cell_type": "markdown",
   "id": "4d6173e1-d259-4727-b26f-c426614e3767",
   "metadata": {},
   "source": [
    "### Which images"
   ]
  },
  {
   "cell_type": "code",
   "execution_count": null,
   "id": "4e9e8d13-24e0-4aed-bfbc-7b843b863ddb",
   "metadata": {},
   "outputs": [],
   "source": [
    "def _src_from_data(data):\n",
    "    img_obj = Image(data=data)\n",
    "    for bundle in img_obj._repr_mimebundle_():\n",
    "        for mimetype, b64value in bundle.items():\n",
    "            if mimetype.startswith('image/'):\n",
    "                return f'data:{mimetype};base64,{b64value}'\n",
    "\n",
    "def gallery(images, row_height='auto'):\n",
    "    figures = []\n",
    "    for image in images:\n",
    "        if isinstance(image, bytes):\n",
    "            src = _src_from_data(image)\n",
    "            caption = ''\n",
    "        else:\n",
    "            src = image\n",
    "            caption = f'<figcaption style=\"font-size: 0.6em\">{image}</figcaption>'\n",
    "        figures.append(f'''\n",
    "            <figure style=\"margin: 5px !important;\">\n",
    "              <img src=\"{src}\" style=\"height: {row_height}\">\n",
    "              {caption}\n",
    "            </figure>\n",
    "        ''')\n",
    "    return HTML(data=f'''\n",
    "        <div style=\"display: flex; flex-flow: row wrap; text-align: center;\">\n",
    "        {''.join(figures)}\n",
    "        </div>\n",
    "    ''')"
   ]
  },
  {
   "cell_type": "code",
   "execution_count": null,
   "id": "50fde471-596f-4724-8930-9c6de442ec5e",
   "metadata": {},
   "outputs": [],
   "source": [
    "image_vis.to_csv('csv/image_vis.csv', index=False)"
   ]
  },
  {
   "cell_type": "code",
   "execution_count": null,
   "id": "a41490cd-9d2d-42c5-9666-b21bcacf40f5",
   "metadata": {},
   "outputs": [],
   "source": [
    "image_vis[\"image\"].nunique()"
   ]
  },
  {
   "cell_type": "code",
   "execution_count": null,
   "id": "531d9d00-8244-4146-9334-74b2a5ad2f01",
   "metadata": {},
   "outputs": [],
   "source": [
    "image_urls_ag = image_vis['image'].tolist()\n",
    "gallery(image_urls_ag, row_height='200px')"
   ]
  },
  {
   "cell_type": "markdown",
   "id": "e2711464-f45c-4806-a3a0-ea060a298795",
   "metadata": {},
   "source": [
    "## Analysing the chain"
   ]
  },
  {
   "cell_type": "markdown",
   "id": "feaa5224-254a-4e22-b99c-96cfa05ea096",
   "metadata": {},
   "source": [
    "<font size=\"4\">After adding an identifier with the primitive images we used for our analysis we merge them back to the original dataframe</font>"
   ]
  },
  {
   "cell_type": "code",
   "execution_count": 28,
   "id": "846a9444-c950-4f15-9df6-bb2b70833dd9",
   "metadata": {},
   "outputs": [
    {
     "data": {
      "text/html": [
       "<div>\n",
       "<style scoped>\n",
       "    .dataframe tbody tr th:only-of-type {\n",
       "        vertical-align: middle;\n",
       "    }\n",
       "\n",
       "    .dataframe tbody tr th {\n",
       "        vertical-align: top;\n",
       "    }\n",
       "\n",
       "    .dataframe thead th {\n",
       "        text-align: right;\n",
       "    }\n",
       "</style>\n",
       "<table border=\"1\" class=\"dataframe\">\n",
       "  <thead>\n",
       "    <tr style=\"text-align: right;\">\n",
       "      <th></th>\n",
       "      <th>cluster</th>\n",
       "      <th>identifier</th>\n",
       "      <th>image</th>\n",
       "      <th>issueLabel</th>\n",
       "      <th>Country</th>\n",
       "      <th>labelType</th>\n",
       "      <th>cityLabel</th>\n",
       "      <th>begin</th>\n",
       "      <th>Datetime</th>\n",
       "      <th>year</th>\n",
       "      <th>count_journal</th>\n",
       "    </tr>\n",
       "  </thead>\n",
       "  <tbody>\n",
       "    <tr>\n",
       "      <th>638</th>\n",
       "      <td>https://lod.unige.ch/vc/cluster/human/10</td>\n",
       "      <td>https://visualcontagions.unige.ch/explore/anal...</td>\n",
       "      <td>https://bluemountain.princeton.edu/bluemtn/iii...</td>\n",
       "      <td>Der Sturm</td>\n",
       "      <td>Germany</td>\n",
       "      <td>Avant-garde Journal</td>\n",
       "      <td>Berlin</td>\n",
       "      <td>1923-01-04T00:00:00</td>\n",
       "      <td>1923-01-04</td>\n",
       "      <td>1923</td>\n",
       "      <td>2</td>\n",
       "    </tr>\n",
       "    <tr>\n",
       "      <th>478</th>\n",
       "      <td>https://lod.unige.ch/vc/cluster/human/12</td>\n",
       "      <td>https://visualcontagions.unige.ch/explore/anal...</td>\n",
       "      <td>https://gallica.bnf.fr/iiif/ark:/12148/bpt6k15...</td>\n",
       "      <td>La Révolution surréaliste</td>\n",
       "      <td>France</td>\n",
       "      <td>Avant-garde Journal</td>\n",
       "      <td>Paris</td>\n",
       "      <td>1925-07-15T00:00:00</td>\n",
       "      <td>1925-07-15</td>\n",
       "      <td>1925</td>\n",
       "      <td>4</td>\n",
       "    </tr>\n",
       "    <tr>\n",
       "      <th>240</th>\n",
       "      <td>https://lod.unige.ch/vc/cluster/human/13</td>\n",
       "      <td>https://visualcontagions.unige.ch/explore/anal...</td>\n",
       "      <td>https://iiif.unige.ch/iiif/2/fedora_ug8093833;...</td>\n",
       "      <td>De Stijl</td>\n",
       "      <td>Netherlands</td>\n",
       "      <td>Avant-garde Journal</td>\n",
       "      <td>Delft</td>\n",
       "      <td>1919-02-01T00:00:00</td>\n",
       "      <td>1919-02-01</td>\n",
       "      <td>1919</td>\n",
       "      <td>2</td>\n",
       "    </tr>\n",
       "    <tr>\n",
       "      <th>311</th>\n",
       "      <td>https://lod.unige.ch/vc/cluster/human/14</td>\n",
       "      <td>https://visualcontagions.unige.ch/explore/anal...</td>\n",
       "      <td>https://gallica.bnf.fr/iiif/ark:/12148/bpt6k10...</td>\n",
       "      <td>L'Esprit nouveau (Paris. 1920)</td>\n",
       "      <td>France</td>\n",
       "      <td>Avant-garde Journal</td>\n",
       "      <td>Paris</td>\n",
       "      <td>1921-01-01T00:00:00</td>\n",
       "      <td>1921-01-01</td>\n",
       "      <td>1921</td>\n",
       "      <td>6</td>\n",
       "    </tr>\n",
       "    <tr>\n",
       "      <th>192</th>\n",
       "      <td>https://lod.unige.ch/vc/cluster/human/203</td>\n",
       "      <td>https://visualcontagions.unige.ch/explore/anal...</td>\n",
       "      <td>https://bluemountain.princeton.edu/bluemtn/iii...</td>\n",
       "      <td>Umělecký mĕsíčník</td>\n",
       "      <td>Czech Republic</td>\n",
       "      <td>Avant-garde Journal</td>\n",
       "      <td>Prague</td>\n",
       "      <td>1912-01-08T00:00:00</td>\n",
       "      <td>1912-01-08</td>\n",
       "      <td>1912</td>\n",
       "      <td>5</td>\n",
       "    </tr>\n",
       "    <tr>\n",
       "      <th>421</th>\n",
       "      <td>https://lod.unige.ch/vc/cluster/human/208</td>\n",
       "      <td>https://visualcontagions.unige.ch/explore/anal...</td>\n",
       "      <td>https://gallica.bnf.fr/iiif/ark:/12148/bpt6k10...</td>\n",
       "      <td>L'Esprit nouveau (Paris. 1920)</td>\n",
       "      <td>France</td>\n",
       "      <td>Avant-garde Journal</td>\n",
       "      <td>Paris</td>\n",
       "      <td>1922-01-01T00:00:00</td>\n",
       "      <td>1922-01-01</td>\n",
       "      <td>1922</td>\n",
       "      <td>6</td>\n",
       "    </tr>\n",
       "    <tr>\n",
       "      <th>41</th>\n",
       "      <td>https://lod.unige.ch/vc/cluster/human/210</td>\n",
       "      <td>https://visualcontagions.unige.ch/explore/anal...</td>\n",
       "      <td>https://bluemountain.princeton.edu/bluemtn/iii...</td>\n",
       "      <td>Action: cahiers individualistes de philosophie...</td>\n",
       "      <td>France</td>\n",
       "      <td>Avant-garde Journal</td>\n",
       "      <td>Paris</td>\n",
       "      <td>1920-01-03T00:00:00</td>\n",
       "      <td>1920-01-03</td>\n",
       "      <td>1920</td>\n",
       "      <td>1</td>\n",
       "    </tr>\n",
       "    <tr>\n",
       "      <th>441</th>\n",
       "      <td>https://lod.unige.ch/vc/cluster/human/211</td>\n",
       "      <td>https://visualcontagions.unige.ch/explore/anal...</td>\n",
       "      <td>https://gallica.bnf.fr/iiif/ark:/12148/bpt6k89...</td>\n",
       "      <td>Montjoie ! Organe de l'impérialsime artistique...</td>\n",
       "      <td>France</td>\n",
       "      <td>Avant-garde Journal</td>\n",
       "      <td>Paris</td>\n",
       "      <td>1914-01-01T00:00:00</td>\n",
       "      <td>1914-01-01</td>\n",
       "      <td>1914</td>\n",
       "      <td>1</td>\n",
       "    </tr>\n",
       "    <tr>\n",
       "      <th>884</th>\n",
       "      <td>https://lod.unige.ch/vc/cluster/human/217</td>\n",
       "      <td>https://visualcontagions.unige.ch/explore/anal...</td>\n",
       "      <td>https://gallica.bnf.fr/iiif/ark:/12148/bpt6k97...</td>\n",
       "      <td>Cahiers d'art (Paris)</td>\n",
       "      <td>France</td>\n",
       "      <td>Avant-garde Journal</td>\n",
       "      <td>Paris</td>\n",
       "      <td>1937-01-01T00:00:00</td>\n",
       "      <td>1937-01-01</td>\n",
       "      <td>1937</td>\n",
       "      <td>11</td>\n",
       "    </tr>\n",
       "    <tr>\n",
       "      <th>790</th>\n",
       "      <td>https://lod.unige.ch/vc/cluster/human/218</td>\n",
       "      <td>https://visualcontagions.unige.ch/explore/anal...</td>\n",
       "      <td>https://gallica.bnf.fr/iiif/ark:/12148/bpt6k10...</td>\n",
       "      <td>L'Esprit nouveau (Paris. 1920)</td>\n",
       "      <td>France</td>\n",
       "      <td>Avant-garde Journal</td>\n",
       "      <td>Paris</td>\n",
       "      <td>1922-01-01T00:00:00</td>\n",
       "      <td>1922-01-01</td>\n",
       "      <td>1922</td>\n",
       "      <td>6</td>\n",
       "    </tr>\n",
       "    <tr>\n",
       "      <th>586</th>\n",
       "      <td>https://lod.unige.ch/vc/cluster/human/226</td>\n",
       "      <td>https://visualcontagions.unige.ch/explore/anal...</td>\n",
       "      <td>https://bluemountain.princeton.edu/bluemtn/iii...</td>\n",
       "      <td>Der Sturm</td>\n",
       "      <td>Germany</td>\n",
       "      <td>Avant-garde Journal</td>\n",
       "      <td>Berlin</td>\n",
       "      <td>1919-10-10T00:00:00</td>\n",
       "      <td>1919-10-10</td>\n",
       "      <td>1919</td>\n",
       "      <td>2</td>\n",
       "    </tr>\n",
       "    <tr>\n",
       "      <th>177</th>\n",
       "      <td>https://lod.unige.ch/vc/cluster/human/227</td>\n",
       "      <td>https://visualcontagions.unige.ch/explore/anal...</td>\n",
       "      <td>https://gallica.bnf.fr/iiif/ark:/12148/bpt6k97...</td>\n",
       "      <td>Cahiers d'art (Paris)</td>\n",
       "      <td>France</td>\n",
       "      <td>Avant-garde Journal</td>\n",
       "      <td>Paris</td>\n",
       "      <td>1928-01-01T00:00:00</td>\n",
       "      <td>1928-01-01</td>\n",
       "      <td>1928</td>\n",
       "      <td>11</td>\n",
       "    </tr>\n",
       "    <tr>\n",
       "      <th>623</th>\n",
       "      <td>https://lod.unige.ch/vc/cluster/human/232</td>\n",
       "      <td>https://visualcontagions.unige.ch/explore/anal...</td>\n",
       "      <td>https://gallica.bnf.fr/iiif/ark:/12148/bpt6k10...</td>\n",
       "      <td>L'Esprit nouveau (Paris. 1920)</td>\n",
       "      <td>France</td>\n",
       "      <td>Avant-garde Journal</td>\n",
       "      <td>Paris</td>\n",
       "      <td>1924-01-01T00:00:00</td>\n",
       "      <td>1924-01-01</td>\n",
       "      <td>1924</td>\n",
       "      <td>6</td>\n",
       "    </tr>\n",
       "    <tr>\n",
       "      <th>788</th>\n",
       "      <td>https://lod.unige.ch/vc/cluster/human/292</td>\n",
       "      <td>https://visualcontagions.unige.ch/explore/anal...</td>\n",
       "      <td>https://gallica.bnf.fr/iiif/ark:/12148/bpt6k10...</td>\n",
       "      <td>L'Esprit nouveau (Paris. 1920)</td>\n",
       "      <td>France</td>\n",
       "      <td>Avant-garde Journal</td>\n",
       "      <td>Paris</td>\n",
       "      <td>1920-01-01T00:00:00</td>\n",
       "      <td>1920-01-01</td>\n",
       "      <td>1920</td>\n",
       "      <td>6</td>\n",
       "    </tr>\n",
       "    <tr>\n",
       "      <th>235</th>\n",
       "      <td>https://lod.unige.ch/vc/cluster/human/298</td>\n",
       "      <td>https://visualcontagions.unige.ch/explore/anal...</td>\n",
       "      <td>https://bluemountain.princeton.edu/bluemtn/iii...</td>\n",
       "      <td>Umělecký mĕsíčník</td>\n",
       "      <td>Czech Republic</td>\n",
       "      <td>Avant-garde Journal</td>\n",
       "      <td>Prague</td>\n",
       "      <td>1912-01-08T00:00:00</td>\n",
       "      <td>1912-01-08</td>\n",
       "      <td>1912</td>\n",
       "      <td>5</td>\n",
       "    </tr>\n",
       "    <tr>\n",
       "      <th>772</th>\n",
       "      <td>https://lod.unige.ch/vc/cluster/human/300</td>\n",
       "      <td>https://visualcontagions.unige.ch/explore/anal...</td>\n",
       "      <td>https://gallica.bnf.fr/iiif/ark:/12148/bpt6k97...</td>\n",
       "      <td>Cahiers d'art (Paris)</td>\n",
       "      <td>France</td>\n",
       "      <td>Avant-garde Journal</td>\n",
       "      <td>Paris</td>\n",
       "      <td>1926-01-01T00:00:00</td>\n",
       "      <td>1926-01-01</td>\n",
       "      <td>1926</td>\n",
       "      <td>11</td>\n",
       "    </tr>\n",
       "    <tr>\n",
       "      <th>717</th>\n",
       "      <td>https://lod.unige.ch/vc/cluster/human/302</td>\n",
       "      <td>https://visualcontagions.unige.ch/explore/anal...</td>\n",
       "      <td>https://gallica.bnf.fr/iiif/ark:/12148/bpt6k15...</td>\n",
       "      <td>La Révolution surréaliste</td>\n",
       "      <td>France</td>\n",
       "      <td>Avant-garde Journal</td>\n",
       "      <td>Paris</td>\n",
       "      <td>1926-12-01T00:00:00</td>\n",
       "      <td>1926-12-01</td>\n",
       "      <td>1926</td>\n",
       "      <td>4</td>\n",
       "    </tr>\n",
       "    <tr>\n",
       "      <th>847</th>\n",
       "      <td>https://lod.unige.ch/vc/cluster/human/321</td>\n",
       "      <td>https://visualcontagions.unige.ch/explore/anal...</td>\n",
       "      <td>https://bluemountain.princeton.edu/bluemtn/iii...</td>\n",
       "      <td>Umělecký mĕsíčník</td>\n",
       "      <td>Czech Republic</td>\n",
       "      <td>Avant-garde Journal</td>\n",
       "      <td>Prague</td>\n",
       "      <td>1914-01-01T00:00:00</td>\n",
       "      <td>1914-01-01</td>\n",
       "      <td>1914</td>\n",
       "      <td>5</td>\n",
       "    </tr>\n",
       "    <tr>\n",
       "      <th>766</th>\n",
       "      <td>https://lod.unige.ch/vc/cluster/human/329</td>\n",
       "      <td>https://visualcontagions.unige.ch/explore/anal...</td>\n",
       "      <td>https://gallica.bnf.fr/iiif/ark:/12148/bpt6k15...</td>\n",
       "      <td>La Révolution surréaliste</td>\n",
       "      <td>France</td>\n",
       "      <td>Avant-garde Journal</td>\n",
       "      <td>Paris</td>\n",
       "      <td>1925-04-15T00:00:00</td>\n",
       "      <td>1925-04-15</td>\n",
       "      <td>1925</td>\n",
       "      <td>4</td>\n",
       "    </tr>\n",
       "    <tr>\n",
       "      <th>44</th>\n",
       "      <td>https://lod.unige.ch/vc/cluster/human/331</td>\n",
       "      <td>https://visualcontagions.unige.ch/explore/anal...</td>\n",
       "      <td>https://gallica.bnf.fr/iiif/ark:/12148/bpt6k97...</td>\n",
       "      <td>Cahiers d'art (Paris)</td>\n",
       "      <td>France</td>\n",
       "      <td>Avant-garde Journal</td>\n",
       "      <td>Paris</td>\n",
       "      <td>1928-01-01T00:00:00</td>\n",
       "      <td>1928-01-01</td>\n",
       "      <td>1928</td>\n",
       "      <td>11</td>\n",
       "    </tr>\n",
       "    <tr>\n",
       "      <th>950</th>\n",
       "      <td>https://lod.unige.ch/vc/cluster/human/335</td>\n",
       "      <td>https://visualcontagions.unige.ch/explore/anal...</td>\n",
       "      <td>https://bluemountain.princeton.edu/bluemtn/iii...</td>\n",
       "      <td>Broom: An International Magazine of the Arts</td>\n",
       "      <td>United States of America</td>\n",
       "      <td>Avant-garde Journal</td>\n",
       "      <td>New York City</td>\n",
       "      <td>1921-01-11T00:00:00</td>\n",
       "      <td>1921-01-11</td>\n",
       "      <td>1921</td>\n",
       "      <td>1</td>\n",
       "    </tr>\n",
       "    <tr>\n",
       "      <th>475</th>\n",
       "      <td>https://lod.unige.ch/vc/cluster/human/338</td>\n",
       "      <td>https://visualcontagions.unige.ch/explore/anal...</td>\n",
       "      <td>https://gallica.bnf.fr/iiif/ark:/12148/bpt6k42...</td>\n",
       "      <td>Cahiers d'art (Paris)</td>\n",
       "      <td>France</td>\n",
       "      <td>Avant-garde Journal</td>\n",
       "      <td>Paris</td>\n",
       "      <td>1931-01-01T00:00:00</td>\n",
       "      <td>1931-01-01</td>\n",
       "      <td>1931</td>\n",
       "      <td>11</td>\n",
       "    </tr>\n",
       "    <tr>\n",
       "      <th>643</th>\n",
       "      <td>https://lod.unige.ch/vc/cluster/human/340</td>\n",
       "      <td>https://visualcontagions.unige.ch/explore/anal...</td>\n",
       "      <td>https://gallica.bnf.fr/iiif/ark:/12148/bpt6k97...</td>\n",
       "      <td>Cahiers d'art (Paris)</td>\n",
       "      <td>France</td>\n",
       "      <td>Avant-garde Journal</td>\n",
       "      <td>Paris</td>\n",
       "      <td>1928-01-01T00:00:00</td>\n",
       "      <td>1928-01-01</td>\n",
       "      <td>1928</td>\n",
       "      <td>11</td>\n",
       "    </tr>\n",
       "    <tr>\n",
       "      <th>47</th>\n",
       "      <td>https://lod.unige.ch/vc/cluster/human/341</td>\n",
       "      <td>https://visualcontagions.unige.ch/explore/anal...</td>\n",
       "      <td>https://gallica.bnf.fr/iiif/ark:/12148/bpt6k97...</td>\n",
       "      <td>Cahiers d'art (Paris)</td>\n",
       "      <td>France</td>\n",
       "      <td>Avant-garde Journal</td>\n",
       "      <td>Paris</td>\n",
       "      <td>1928-01-01T00:00:00</td>\n",
       "      <td>1928-01-01</td>\n",
       "      <td>1928</td>\n",
       "      <td>11</td>\n",
       "    </tr>\n",
       "    <tr>\n",
       "      <th>4</th>\n",
       "      <td>https://lod.unige.ch/vc/cluster/human/352</td>\n",
       "      <td>https://visualcontagions.unige.ch/explore/anal...</td>\n",
       "      <td>https://gallica.bnf.fr/iiif/ark:/12148/bpt6k97...</td>\n",
       "      <td>Cahiers d'art (Paris)</td>\n",
       "      <td>France</td>\n",
       "      <td>Avant-garde Journal</td>\n",
       "      <td>Paris</td>\n",
       "      <td>1929-01-01T00:00:00</td>\n",
       "      <td>1929-01-01</td>\n",
       "      <td>1929</td>\n",
       "      <td>11</td>\n",
       "    </tr>\n",
       "    <tr>\n",
       "      <th>2</th>\n",
       "      <td>https://lod.unige.ch/vc/cluster/human/353</td>\n",
       "      <td>https://visualcontagions.unige.ch/explore/anal...</td>\n",
       "      <td>https://gallica.bnf.fr/iiif/ark:/12148/bpt6k32...</td>\n",
       "      <td>Les Soirées de Paris</td>\n",
       "      <td>France</td>\n",
       "      <td>Avant-garde Journal</td>\n",
       "      <td>Paris</td>\n",
       "      <td>1914-01-01T00:00:00</td>\n",
       "      <td>1914-01-01</td>\n",
       "      <td>1914</td>\n",
       "      <td>1</td>\n",
       "    </tr>\n",
       "    <tr>\n",
       "      <th>867</th>\n",
       "      <td>https://lod.unige.ch/vc/cluster/human/354</td>\n",
       "      <td>https://visualcontagions.unige.ch/explore/anal...</td>\n",
       "      <td>https://bluemountain.princeton.edu/bluemtn/iii...</td>\n",
       "      <td>Umělecký mĕsíčník</td>\n",
       "      <td>Czech Republic</td>\n",
       "      <td>Avant-garde Journal</td>\n",
       "      <td>Prague</td>\n",
       "      <td>1913-01-01T00:00:00</td>\n",
       "      <td>1913-01-01</td>\n",
       "      <td>1913</td>\n",
       "      <td>5</td>\n",
       "    </tr>\n",
       "    <tr>\n",
       "      <th>645</th>\n",
       "      <td>https://lod.unige.ch/vc/cluster/human/356</td>\n",
       "      <td>https://visualcontagions.unige.ch/explore/anal...</td>\n",
       "      <td>https://gallica.bnf.fr/iiif/ark:/12148/bpt6k42...</td>\n",
       "      <td>Cahiers d'art (Paris)</td>\n",
       "      <td>France</td>\n",
       "      <td>Avant-garde Journal</td>\n",
       "      <td>Paris</td>\n",
       "      <td>1931-01-01T00:00:00</td>\n",
       "      <td>1931-01-01</td>\n",
       "      <td>1931</td>\n",
       "      <td>11</td>\n",
       "    </tr>\n",
       "    <tr>\n",
       "      <th>487</th>\n",
       "      <td>https://lod.unige.ch/vc/cluster/human/367</td>\n",
       "      <td>https://visualcontagions.unige.ch/explore/anal...</td>\n",
       "      <td>https://gallica.bnf.fr/iiif/ark:/12148/bpt6k97...</td>\n",
       "      <td>Cahiers d'art (Paris)</td>\n",
       "      <td>France</td>\n",
       "      <td>Avant-garde Journal</td>\n",
       "      <td>Paris</td>\n",
       "      <td>1932-01-01T00:00:00</td>\n",
       "      <td>1932-01-01</td>\n",
       "      <td>1932</td>\n",
       "      <td>11</td>\n",
       "    </tr>\n",
       "    <tr>\n",
       "      <th>804</th>\n",
       "      <td>https://lod.unige.ch/vc/cluster/human/369</td>\n",
       "      <td>https://visualcontagions.unige.ch/explore/anal...</td>\n",
       "      <td>https://bluemountain.princeton.edu/bluemtn/iii...</td>\n",
       "      <td>Umělecký mĕsíčník</td>\n",
       "      <td>Czech Republic</td>\n",
       "      <td>Avant-garde Journal</td>\n",
       "      <td>Prague</td>\n",
       "      <td>1914-01-01T00:00:00</td>\n",
       "      <td>1914-01-01</td>\n",
       "      <td>1914</td>\n",
       "      <td>5</td>\n",
       "    </tr>\n",
       "    <tr>\n",
       "      <th>8</th>\n",
       "      <td>https://lod.unige.ch/vc/cluster/human/376</td>\n",
       "      <td>https://visualcontagions.unige.ch/explore/anal...</td>\n",
       "      <td>https://gallica.bnf.fr/iiif/ark:/12148/bpt6k97...</td>\n",
       "      <td>Cahiers d'art (Paris)</td>\n",
       "      <td>France</td>\n",
       "      <td>Avant-garde Journal</td>\n",
       "      <td>Paris</td>\n",
       "      <td>1929-01-01T00:00:00</td>\n",
       "      <td>1929-01-01</td>\n",
       "      <td>1929</td>\n",
       "      <td>11</td>\n",
       "    </tr>\n",
       "    <tr>\n",
       "      <th>865</th>\n",
       "      <td>https://lod.unige.ch/vc/cluster/human/390</td>\n",
       "      <td>https://visualcontagions.unige.ch/explore/anal...</td>\n",
       "      <td>https://iiif.unige.ch/iiif/2/fedora_ug8026323;...</td>\n",
       "      <td>De Stijl</td>\n",
       "      <td>Netherlands</td>\n",
       "      <td>Avant-garde Journal</td>\n",
       "      <td>Delft</td>\n",
       "      <td>1919-12-01T00:00:00</td>\n",
       "      <td>1919-12-01</td>\n",
       "      <td>1919</td>\n",
       "      <td>2</td>\n",
       "    </tr>\n",
       "    <tr>\n",
       "      <th>125</th>\n",
       "      <td>https://lod.unige.ch/vc/cluster/human/50</td>\n",
       "      <td>https://visualcontagions.unige.ch/explore/anal...</td>\n",
       "      <td>https://gallica.bnf.fr/iiif/ark:/12148/bpt6k10...</td>\n",
       "      <td>L'Esprit nouveau (Paris. 1920)</td>\n",
       "      <td>France</td>\n",
       "      <td>Avant-garde Journal</td>\n",
       "      <td>Paris</td>\n",
       "      <td>1920-01-01T00:00:00</td>\n",
       "      <td>1920-01-01</td>\n",
       "      <td>1920</td>\n",
       "      <td>6</td>\n",
       "    </tr>\n",
       "    <tr>\n",
       "      <th>77</th>\n",
       "      <td>https://lod.unige.ch/vc/cluster/human/58</td>\n",
       "      <td>https://visualcontagions.unige.ch/explore/anal...</td>\n",
       "      <td>https://gallica.bnf.fr/iiif/ark:/12148/bpt6k15...</td>\n",
       "      <td>La Révolution surréaliste</td>\n",
       "      <td>France</td>\n",
       "      <td>Avant-garde Journal</td>\n",
       "      <td>Paris</td>\n",
       "      <td>1925-07-15T00:00:00</td>\n",
       "      <td>1925-07-15</td>\n",
       "      <td>1925</td>\n",
       "      <td>4</td>\n",
       "    </tr>\n",
       "  </tbody>\n",
       "</table>\n",
       "</div>"
      ],
      "text/plain": [
       "                                       cluster  \\\n",
       "638   https://lod.unige.ch/vc/cluster/human/10   \n",
       "478   https://lod.unige.ch/vc/cluster/human/12   \n",
       "240   https://lod.unige.ch/vc/cluster/human/13   \n",
       "311   https://lod.unige.ch/vc/cluster/human/14   \n",
       "192  https://lod.unige.ch/vc/cluster/human/203   \n",
       "421  https://lod.unige.ch/vc/cluster/human/208   \n",
       "41   https://lod.unige.ch/vc/cluster/human/210   \n",
       "441  https://lod.unige.ch/vc/cluster/human/211   \n",
       "884  https://lod.unige.ch/vc/cluster/human/217   \n",
       "790  https://lod.unige.ch/vc/cluster/human/218   \n",
       "586  https://lod.unige.ch/vc/cluster/human/226   \n",
       "177  https://lod.unige.ch/vc/cluster/human/227   \n",
       "623  https://lod.unige.ch/vc/cluster/human/232   \n",
       "788  https://lod.unige.ch/vc/cluster/human/292   \n",
       "235  https://lod.unige.ch/vc/cluster/human/298   \n",
       "772  https://lod.unige.ch/vc/cluster/human/300   \n",
       "717  https://lod.unige.ch/vc/cluster/human/302   \n",
       "847  https://lod.unige.ch/vc/cluster/human/321   \n",
       "766  https://lod.unige.ch/vc/cluster/human/329   \n",
       "44   https://lod.unige.ch/vc/cluster/human/331   \n",
       "950  https://lod.unige.ch/vc/cluster/human/335   \n",
       "475  https://lod.unige.ch/vc/cluster/human/338   \n",
       "643  https://lod.unige.ch/vc/cluster/human/340   \n",
       "47   https://lod.unige.ch/vc/cluster/human/341   \n",
       "4    https://lod.unige.ch/vc/cluster/human/352   \n",
       "2    https://lod.unige.ch/vc/cluster/human/353   \n",
       "867  https://lod.unige.ch/vc/cluster/human/354   \n",
       "645  https://lod.unige.ch/vc/cluster/human/356   \n",
       "487  https://lod.unige.ch/vc/cluster/human/367   \n",
       "804  https://lod.unige.ch/vc/cluster/human/369   \n",
       "8    https://lod.unige.ch/vc/cluster/human/376   \n",
       "865  https://lod.unige.ch/vc/cluster/human/390   \n",
       "125   https://lod.unige.ch/vc/cluster/human/50   \n",
       "77    https://lod.unige.ch/vc/cluster/human/58   \n",
       "\n",
       "                                            identifier  \\\n",
       "638  https://visualcontagions.unige.ch/explore/anal...   \n",
       "478  https://visualcontagions.unige.ch/explore/anal...   \n",
       "240  https://visualcontagions.unige.ch/explore/anal...   \n",
       "311  https://visualcontagions.unige.ch/explore/anal...   \n",
       "192  https://visualcontagions.unige.ch/explore/anal...   \n",
       "421  https://visualcontagions.unige.ch/explore/anal...   \n",
       "41   https://visualcontagions.unige.ch/explore/anal...   \n",
       "441  https://visualcontagions.unige.ch/explore/anal...   \n",
       "884  https://visualcontagions.unige.ch/explore/anal...   \n",
       "790  https://visualcontagions.unige.ch/explore/anal...   \n",
       "586  https://visualcontagions.unige.ch/explore/anal...   \n",
       "177  https://visualcontagions.unige.ch/explore/anal...   \n",
       "623  https://visualcontagions.unige.ch/explore/anal...   \n",
       "788  https://visualcontagions.unige.ch/explore/anal...   \n",
       "235  https://visualcontagions.unige.ch/explore/anal...   \n",
       "772  https://visualcontagions.unige.ch/explore/anal...   \n",
       "717  https://visualcontagions.unige.ch/explore/anal...   \n",
       "847  https://visualcontagions.unige.ch/explore/anal...   \n",
       "766  https://visualcontagions.unige.ch/explore/anal...   \n",
       "44   https://visualcontagions.unige.ch/explore/anal...   \n",
       "950  https://visualcontagions.unige.ch/explore/anal...   \n",
       "475  https://visualcontagions.unige.ch/explore/anal...   \n",
       "643  https://visualcontagions.unige.ch/explore/anal...   \n",
       "47   https://visualcontagions.unige.ch/explore/anal...   \n",
       "4    https://visualcontagions.unige.ch/explore/anal...   \n",
       "2    https://visualcontagions.unige.ch/explore/anal...   \n",
       "867  https://visualcontagions.unige.ch/explore/anal...   \n",
       "645  https://visualcontagions.unige.ch/explore/anal...   \n",
       "487  https://visualcontagions.unige.ch/explore/anal...   \n",
       "804  https://visualcontagions.unige.ch/explore/anal...   \n",
       "8    https://visualcontagions.unige.ch/explore/anal...   \n",
       "865  https://visualcontagions.unige.ch/explore/anal...   \n",
       "125  https://visualcontagions.unige.ch/explore/anal...   \n",
       "77   https://visualcontagions.unige.ch/explore/anal...   \n",
       "\n",
       "                                                 image  \\\n",
       "638  https://bluemountain.princeton.edu/bluemtn/iii...   \n",
       "478  https://gallica.bnf.fr/iiif/ark:/12148/bpt6k15...   \n",
       "240  https://iiif.unige.ch/iiif/2/fedora_ug8093833;...   \n",
       "311  https://gallica.bnf.fr/iiif/ark:/12148/bpt6k10...   \n",
       "192  https://bluemountain.princeton.edu/bluemtn/iii...   \n",
       "421  https://gallica.bnf.fr/iiif/ark:/12148/bpt6k10...   \n",
       "41   https://bluemountain.princeton.edu/bluemtn/iii...   \n",
       "441  https://gallica.bnf.fr/iiif/ark:/12148/bpt6k89...   \n",
       "884  https://gallica.bnf.fr/iiif/ark:/12148/bpt6k97...   \n",
       "790  https://gallica.bnf.fr/iiif/ark:/12148/bpt6k10...   \n",
       "586  https://bluemountain.princeton.edu/bluemtn/iii...   \n",
       "177  https://gallica.bnf.fr/iiif/ark:/12148/bpt6k97...   \n",
       "623  https://gallica.bnf.fr/iiif/ark:/12148/bpt6k10...   \n",
       "788  https://gallica.bnf.fr/iiif/ark:/12148/bpt6k10...   \n",
       "235  https://bluemountain.princeton.edu/bluemtn/iii...   \n",
       "772  https://gallica.bnf.fr/iiif/ark:/12148/bpt6k97...   \n",
       "717  https://gallica.bnf.fr/iiif/ark:/12148/bpt6k15...   \n",
       "847  https://bluemountain.princeton.edu/bluemtn/iii...   \n",
       "766  https://gallica.bnf.fr/iiif/ark:/12148/bpt6k15...   \n",
       "44   https://gallica.bnf.fr/iiif/ark:/12148/bpt6k97...   \n",
       "950  https://bluemountain.princeton.edu/bluemtn/iii...   \n",
       "475  https://gallica.bnf.fr/iiif/ark:/12148/bpt6k42...   \n",
       "643  https://gallica.bnf.fr/iiif/ark:/12148/bpt6k97...   \n",
       "47   https://gallica.bnf.fr/iiif/ark:/12148/bpt6k97...   \n",
       "4    https://gallica.bnf.fr/iiif/ark:/12148/bpt6k97...   \n",
       "2    https://gallica.bnf.fr/iiif/ark:/12148/bpt6k32...   \n",
       "867  https://bluemountain.princeton.edu/bluemtn/iii...   \n",
       "645  https://gallica.bnf.fr/iiif/ark:/12148/bpt6k42...   \n",
       "487  https://gallica.bnf.fr/iiif/ark:/12148/bpt6k97...   \n",
       "804  https://bluemountain.princeton.edu/bluemtn/iii...   \n",
       "8    https://gallica.bnf.fr/iiif/ark:/12148/bpt6k97...   \n",
       "865  https://iiif.unige.ch/iiif/2/fedora_ug8026323;...   \n",
       "125  https://gallica.bnf.fr/iiif/ark:/12148/bpt6k10...   \n",
       "77   https://gallica.bnf.fr/iiif/ark:/12148/bpt6k15...   \n",
       "\n",
       "                                            issueLabel  \\\n",
       "638                                          Der Sturm   \n",
       "478                          La Révolution surréaliste   \n",
       "240                                           De Stijl   \n",
       "311                     L'Esprit nouveau (Paris. 1920)   \n",
       "192                                  Umělecký mĕsíčník   \n",
       "421                     L'Esprit nouveau (Paris. 1920)   \n",
       "41   Action: cahiers individualistes de philosophie...   \n",
       "441  Montjoie ! Organe de l'impérialsime artistique...   \n",
       "884                              Cahiers d'art (Paris)   \n",
       "790                     L'Esprit nouveau (Paris. 1920)   \n",
       "586                                          Der Sturm   \n",
       "177                              Cahiers d'art (Paris)   \n",
       "623                     L'Esprit nouveau (Paris. 1920)   \n",
       "788                     L'Esprit nouveau (Paris. 1920)   \n",
       "235                                  Umělecký mĕsíčník   \n",
       "772                              Cahiers d'art (Paris)   \n",
       "717                          La Révolution surréaliste   \n",
       "847                                  Umělecký mĕsíčník   \n",
       "766                          La Révolution surréaliste   \n",
       "44                               Cahiers d'art (Paris)   \n",
       "950       Broom: An International Magazine of the Arts   \n",
       "475                              Cahiers d'art (Paris)   \n",
       "643                              Cahiers d'art (Paris)   \n",
       "47                               Cahiers d'art (Paris)   \n",
       "4                                Cahiers d'art (Paris)   \n",
       "2                                 Les Soirées de Paris   \n",
       "867                                  Umělecký mĕsíčník   \n",
       "645                              Cahiers d'art (Paris)   \n",
       "487                              Cahiers d'art (Paris)   \n",
       "804                                  Umělecký mĕsíčník   \n",
       "8                                Cahiers d'art (Paris)   \n",
       "865                                           De Stijl   \n",
       "125                     L'Esprit nouveau (Paris. 1920)   \n",
       "77                           La Révolution surréaliste   \n",
       "\n",
       "                      Country            labelType      cityLabel  \\\n",
       "638                   Germany  Avant-garde Journal         Berlin   \n",
       "478                    France  Avant-garde Journal          Paris   \n",
       "240               Netherlands  Avant-garde Journal          Delft   \n",
       "311                    France  Avant-garde Journal          Paris   \n",
       "192            Czech Republic  Avant-garde Journal         Prague   \n",
       "421                    France  Avant-garde Journal          Paris   \n",
       "41                     France  Avant-garde Journal          Paris   \n",
       "441                    France  Avant-garde Journal          Paris   \n",
       "884                    France  Avant-garde Journal          Paris   \n",
       "790                    France  Avant-garde Journal          Paris   \n",
       "586                   Germany  Avant-garde Journal         Berlin   \n",
       "177                    France  Avant-garde Journal          Paris   \n",
       "623                    France  Avant-garde Journal          Paris   \n",
       "788                    France  Avant-garde Journal          Paris   \n",
       "235            Czech Republic  Avant-garde Journal         Prague   \n",
       "772                    France  Avant-garde Journal          Paris   \n",
       "717                    France  Avant-garde Journal          Paris   \n",
       "847            Czech Republic  Avant-garde Journal         Prague   \n",
       "766                    France  Avant-garde Journal          Paris   \n",
       "44                     France  Avant-garde Journal          Paris   \n",
       "950  United States of America  Avant-garde Journal  New York City   \n",
       "475                    France  Avant-garde Journal          Paris   \n",
       "643                    France  Avant-garde Journal          Paris   \n",
       "47                     France  Avant-garde Journal          Paris   \n",
       "4                      France  Avant-garde Journal          Paris   \n",
       "2                      France  Avant-garde Journal          Paris   \n",
       "867            Czech Republic  Avant-garde Journal         Prague   \n",
       "645                    France  Avant-garde Journal          Paris   \n",
       "487                    France  Avant-garde Journal          Paris   \n",
       "804            Czech Republic  Avant-garde Journal         Prague   \n",
       "8                      France  Avant-garde Journal          Paris   \n",
       "865               Netherlands  Avant-garde Journal          Delft   \n",
       "125                    France  Avant-garde Journal          Paris   \n",
       "77                     France  Avant-garde Journal          Paris   \n",
       "\n",
       "                   begin   Datetime  year  count_journal  \n",
       "638  1923-01-04T00:00:00 1923-01-04  1923              2  \n",
       "478  1925-07-15T00:00:00 1925-07-15  1925              4  \n",
       "240  1919-02-01T00:00:00 1919-02-01  1919              2  \n",
       "311  1921-01-01T00:00:00 1921-01-01  1921              6  \n",
       "192  1912-01-08T00:00:00 1912-01-08  1912              5  \n",
       "421  1922-01-01T00:00:00 1922-01-01  1922              6  \n",
       "41   1920-01-03T00:00:00 1920-01-03  1920              1  \n",
       "441  1914-01-01T00:00:00 1914-01-01  1914              1  \n",
       "884  1937-01-01T00:00:00 1937-01-01  1937             11  \n",
       "790  1922-01-01T00:00:00 1922-01-01  1922              6  \n",
       "586  1919-10-10T00:00:00 1919-10-10  1919              2  \n",
       "177  1928-01-01T00:00:00 1928-01-01  1928             11  \n",
       "623  1924-01-01T00:00:00 1924-01-01  1924              6  \n",
       "788  1920-01-01T00:00:00 1920-01-01  1920              6  \n",
       "235  1912-01-08T00:00:00 1912-01-08  1912              5  \n",
       "772  1926-01-01T00:00:00 1926-01-01  1926             11  \n",
       "717  1926-12-01T00:00:00 1926-12-01  1926              4  \n",
       "847  1914-01-01T00:00:00 1914-01-01  1914              5  \n",
       "766  1925-04-15T00:00:00 1925-04-15  1925              4  \n",
       "44   1928-01-01T00:00:00 1928-01-01  1928             11  \n",
       "950  1921-01-11T00:00:00 1921-01-11  1921              1  \n",
       "475  1931-01-01T00:00:00 1931-01-01  1931             11  \n",
       "643  1928-01-01T00:00:00 1928-01-01  1928             11  \n",
       "47   1928-01-01T00:00:00 1928-01-01  1928             11  \n",
       "4    1929-01-01T00:00:00 1929-01-01  1929             11  \n",
       "2    1914-01-01T00:00:00 1914-01-01  1914              1  \n",
       "867  1913-01-01T00:00:00 1913-01-01  1913              5  \n",
       "645  1931-01-01T00:00:00 1931-01-01  1931             11  \n",
       "487  1932-01-01T00:00:00 1932-01-01  1932             11  \n",
       "804  1914-01-01T00:00:00 1914-01-01  1914              5  \n",
       "8    1929-01-01T00:00:00 1929-01-01  1929             11  \n",
       "865  1919-12-01T00:00:00 1919-12-01  1919              2  \n",
       "125  1920-01-01T00:00:00 1920-01-01  1920              6  \n",
       "77   1925-07-15T00:00:00 1925-07-15  1925              4  "
      ]
     },
     "execution_count": 28,
     "metadata": {},
     "output_type": "execute_result"
    }
   ],
   "source": [
    "p_ag"
   ]
  },
  {
   "cell_type": "code",
   "execution_count": 29,
   "id": "10cbe320-fbd5-4084-aa52-bd788be74df2",
   "metadata": {},
   "outputs": [],
   "source": [
    "p_ag[\"primitive\"] = \"primitive\"\n",
    "p_ag.drop(['issueLabel','cityLabel','Country','begin','Datetime', 'count_journal','labelType','year'], axis=1, inplace=True)"
   ]
  },
  {
   "cell_type": "code",
   "execution_count": 30,
   "id": "92d32cbd-c6de-471c-ad90-d940e4ca97b1",
   "metadata": {},
   "outputs": [],
   "source": [
    "products_dict = dict(zip(p_ag.image,p_ag.primitive))\n",
    "df1['primitive'] = df1['image'].map(products_dict)"
   ]
  },
  {
   "cell_type": "code",
   "execution_count": 31,
   "id": "11130671-bad2-458d-ad8b-5a14a4a2d589",
   "metadata": {},
   "outputs": [],
   "source": [
    "df1['primitive'] = df1['primitive'].fillna('no')"
   ]
  },
  {
   "cell_type": "code",
   "execution_count": 32,
   "id": "8d9e2627-13df-4ef0-9b1b-30ed11c1ac08",
   "metadata": {},
   "outputs": [],
   "source": [
    "df1.to_csv('csv/df1.csv', index=False)"
   ]
  },
  {
   "cell_type": "code",
   "execution_count": 33,
   "id": "b020043e-2622-4512-bda9-a11b42c0797d",
   "metadata": {},
   "outputs": [],
   "source": [
    "melted = df1.melt(id_vars=[\"cluster\", \"identifier\", \"image\", \"begin\", \"issueLabel\", \"labelType\", \"cityLabel\",\"countryLabel\", \"Datetime\", \"year\"], value_name =\"start\")\n",
    "melted.sort_values(by=['identifier', 'begin'], inplace=True)"
   ]
  },
  {
   "cell_type": "code",
   "execution_count": 34,
   "id": "4fd66237-4a58-4096-88d7-4776456bf765",
   "metadata": {},
   "outputs": [
    {
     "data": {
      "text/html": [
       "<div>\n",
       "<style scoped>\n",
       "    .dataframe tbody tr th:only-of-type {\n",
       "        vertical-align: middle;\n",
       "    }\n",
       "\n",
       "    .dataframe tbody tr th {\n",
       "        vertical-align: top;\n",
       "    }\n",
       "\n",
       "    .dataframe thead th {\n",
       "        text-align: right;\n",
       "    }\n",
       "</style>\n",
       "<table border=\"1\" class=\"dataframe\">\n",
       "  <thead>\n",
       "    <tr style=\"text-align: right;\">\n",
       "      <th></th>\n",
       "      <th>cluster</th>\n",
       "      <th>identifier</th>\n",
       "      <th>image</th>\n",
       "      <th>begin</th>\n",
       "      <th>issueLabel</th>\n",
       "      <th>labelType</th>\n",
       "      <th>cityLabel</th>\n",
       "      <th>countryLabel</th>\n",
       "      <th>Datetime</th>\n",
       "      <th>year</th>\n",
       "      <th>variable</th>\n",
       "      <th>start</th>\n",
       "    </tr>\n",
       "  </thead>\n",
       "  <tbody>\n",
       "    <tr>\n",
       "      <th>638</th>\n",
       "      <td>https://lod.unige.ch/vc/cluster/human/10</td>\n",
       "      <td>https://visualcontagions.unige.ch/explore/anal...</td>\n",
       "      <td>https://bluemountain.princeton.edu/bluemtn/iii...</td>\n",
       "      <td>1923-01-04T00:00:00</td>\n",
       "      <td>Der Sturm</td>\n",
       "      <td>Avant-garde Journal</td>\n",
       "      <td>Berlin</td>\n",
       "      <td>Germany</td>\n",
       "      <td>1923-01-04</td>\n",
       "      <td>1923</td>\n",
       "      <td>primitive</td>\n",
       "      <td>primitive</td>\n",
       "    </tr>\n",
       "    <tr>\n",
       "      <th>632</th>\n",
       "      <td>https://lod.unige.ch/vc/cluster/human/10</td>\n",
       "      <td>https://visualcontagions.unige.ch/explore/anal...</td>\n",
       "      <td>https://gallica.bnf.fr/iiif/ark:/12148/bpt6k97...</td>\n",
       "      <td>1932-01-01T00:00:00</td>\n",
       "      <td>Abstraction, création, art non figuratif</td>\n",
       "      <td>Avant-garde Journal</td>\n",
       "      <td>Paris</td>\n",
       "      <td>France</td>\n",
       "      <td>1932-01-01</td>\n",
       "      <td>1932</td>\n",
       "      <td>primitive</td>\n",
       "      <td>no</td>\n",
       "    </tr>\n",
       "    <tr>\n",
       "      <th>631</th>\n",
       "      <td>https://lod.unige.ch/vc/cluster/human/10</td>\n",
       "      <td>https://visualcontagions.unige.ch/explore/anal...</td>\n",
       "      <td>https://gallica.bnf.fr/iiif/ark:/12148/bpt6k97...</td>\n",
       "      <td>1933-01-01T00:00:00</td>\n",
       "      <td>Abstraction, création, art non figuratif</td>\n",
       "      <td>Avant-garde Journal</td>\n",
       "      <td>Paris</td>\n",
       "      <td>France</td>\n",
       "      <td>1933-01-01</td>\n",
       "      <td>1933</td>\n",
       "      <td>primitive</td>\n",
       "      <td>no</td>\n",
       "    </tr>\n",
       "    <tr>\n",
       "      <th>633</th>\n",
       "      <td>https://lod.unige.ch/vc/cluster/human/10</td>\n",
       "      <td>https://visualcontagions.unige.ch/explore/anal...</td>\n",
       "      <td>https://gallica.bnf.fr/iiif/ark:/12148/bpt6k97...</td>\n",
       "      <td>1933-01-01T00:00:00</td>\n",
       "      <td>Abstraction, création, art non figuratif</td>\n",
       "      <td>Avant-garde Journal</td>\n",
       "      <td>Paris</td>\n",
       "      <td>France</td>\n",
       "      <td>1933-01-01</td>\n",
       "      <td>1933</td>\n",
       "      <td>primitive</td>\n",
       "      <td>no</td>\n",
       "    </tr>\n",
       "    <tr>\n",
       "      <th>636</th>\n",
       "      <td>https://lod.unige.ch/vc/cluster/human/10</td>\n",
       "      <td>https://visualcontagions.unige.ch/explore/anal...</td>\n",
       "      <td>https://gallica.bnf.fr/iiif/ark:/12148/bpt6k97...</td>\n",
       "      <td>1933-01-01T00:00:00</td>\n",
       "      <td>Abstraction, création, art non figuratif</td>\n",
       "      <td>Avant-garde Journal</td>\n",
       "      <td>Paris</td>\n",
       "      <td>France</td>\n",
       "      <td>1933-01-01</td>\n",
       "      <td>1933</td>\n",
       "      <td>primitive</td>\n",
       "      <td>no</td>\n",
       "    </tr>\n",
       "  </tbody>\n",
       "</table>\n",
       "</div>"
      ],
      "text/plain": [
       "                                      cluster  \\\n",
       "638  https://lod.unige.ch/vc/cluster/human/10   \n",
       "632  https://lod.unige.ch/vc/cluster/human/10   \n",
       "631  https://lod.unige.ch/vc/cluster/human/10   \n",
       "633  https://lod.unige.ch/vc/cluster/human/10   \n",
       "636  https://lod.unige.ch/vc/cluster/human/10   \n",
       "\n",
       "                                            identifier  \\\n",
       "638  https://visualcontagions.unige.ch/explore/anal...   \n",
       "632  https://visualcontagions.unige.ch/explore/anal...   \n",
       "631  https://visualcontagions.unige.ch/explore/anal...   \n",
       "633  https://visualcontagions.unige.ch/explore/anal...   \n",
       "636  https://visualcontagions.unige.ch/explore/anal...   \n",
       "\n",
       "                                                 image                begin  \\\n",
       "638  https://bluemountain.princeton.edu/bluemtn/iii...  1923-01-04T00:00:00   \n",
       "632  https://gallica.bnf.fr/iiif/ark:/12148/bpt6k97...  1932-01-01T00:00:00   \n",
       "631  https://gallica.bnf.fr/iiif/ark:/12148/bpt6k97...  1933-01-01T00:00:00   \n",
       "633  https://gallica.bnf.fr/iiif/ark:/12148/bpt6k97...  1933-01-01T00:00:00   \n",
       "636  https://gallica.bnf.fr/iiif/ark:/12148/bpt6k97...  1933-01-01T00:00:00   \n",
       "\n",
       "                                   issueLabel            labelType cityLabel  \\\n",
       "638                                 Der Sturm  Avant-garde Journal    Berlin   \n",
       "632  Abstraction, création, art non figuratif  Avant-garde Journal     Paris   \n",
       "631  Abstraction, création, art non figuratif  Avant-garde Journal     Paris   \n",
       "633  Abstraction, création, art non figuratif  Avant-garde Journal     Paris   \n",
       "636  Abstraction, création, art non figuratif  Avant-garde Journal     Paris   \n",
       "\n",
       "    countryLabel   Datetime  year   variable      start  \n",
       "638      Germany 1923-01-04  1923  primitive  primitive  \n",
       "632       France 1932-01-01  1932  primitive         no  \n",
       "631       France 1933-01-01  1933  primitive         no  \n",
       "633       France 1933-01-01  1933  primitive         no  \n",
       "636       France 1933-01-01  1933  primitive         no  "
      ]
     },
     "execution_count": 34,
     "metadata": {},
     "output_type": "execute_result"
    }
   ],
   "source": [
    "melted.head()"
   ]
  },
  {
   "cell_type": "code",
   "execution_count": 35,
   "id": "7d02dcd9-689d-4d73-ba2d-207588e39fd8",
   "metadata": {},
   "outputs": [],
   "source": [
    "melted.to_csv('csv/melted_primitive.csv', index=False)"
   ]
  },
  {
   "cell_type": "code",
   "execution_count": 36,
   "id": "89a35f00-9ef1-4ac5-a1c7-dfbccf3dd313",
   "metadata": {},
   "outputs": [],
   "source": [
    "uniType = melted.groupby('identifier').start.nunique().eq(1)\n",
    "c = uniType.index[uniType == False]\n",
    "ag_cluster = melted[melted['identifier'].isin(c)]"
   ]
  },
  {
   "cell_type": "code",
   "execution_count": 37,
   "id": "9ee22b61-b24a-4cf9-b7e1-2ad41adc72bc",
   "metadata": {},
   "outputs": [
    {
     "data": {
      "text/html": [
       "<div>\n",
       "<style scoped>\n",
       "    .dataframe tbody tr th:only-of-type {\n",
       "        vertical-align: middle;\n",
       "    }\n",
       "\n",
       "    .dataframe tbody tr th {\n",
       "        vertical-align: top;\n",
       "    }\n",
       "\n",
       "    .dataframe thead th {\n",
       "        text-align: right;\n",
       "    }\n",
       "</style>\n",
       "<table border=\"1\" class=\"dataframe\">\n",
       "  <thead>\n",
       "    <tr style=\"text-align: right;\">\n",
       "      <th></th>\n",
       "      <th>cluster</th>\n",
       "      <th>identifier</th>\n",
       "      <th>image</th>\n",
       "      <th>begin</th>\n",
       "      <th>issueLabel</th>\n",
       "      <th>labelType</th>\n",
       "      <th>cityLabel</th>\n",
       "      <th>countryLabel</th>\n",
       "      <th>Datetime</th>\n",
       "      <th>year</th>\n",
       "      <th>variable</th>\n",
       "      <th>start</th>\n",
       "    </tr>\n",
       "  </thead>\n",
       "  <tbody>\n",
       "    <tr>\n",
       "      <th>638</th>\n",
       "      <td>https://lod.unige.ch/vc/cluster/human/10</td>\n",
       "      <td>https://visualcontagions.unige.ch/explore/anal...</td>\n",
       "      <td>https://bluemountain.princeton.edu/bluemtn/iii...</td>\n",
       "      <td>1923-01-04T00:00:00</td>\n",
       "      <td>Der Sturm</td>\n",
       "      <td>Avant-garde Journal</td>\n",
       "      <td>Berlin</td>\n",
       "      <td>Germany</td>\n",
       "      <td>1923-01-04</td>\n",
       "      <td>1923</td>\n",
       "      <td>primitive</td>\n",
       "      <td>primitive</td>\n",
       "    </tr>\n",
       "    <tr>\n",
       "      <th>632</th>\n",
       "      <td>https://lod.unige.ch/vc/cluster/human/10</td>\n",
       "      <td>https://visualcontagions.unige.ch/explore/anal...</td>\n",
       "      <td>https://gallica.bnf.fr/iiif/ark:/12148/bpt6k97...</td>\n",
       "      <td>1932-01-01T00:00:00</td>\n",
       "      <td>Abstraction, création, art non figuratif</td>\n",
       "      <td>Avant-garde Journal</td>\n",
       "      <td>Paris</td>\n",
       "      <td>France</td>\n",
       "      <td>1932-01-01</td>\n",
       "      <td>1932</td>\n",
       "      <td>primitive</td>\n",
       "      <td>no</td>\n",
       "    </tr>\n",
       "    <tr>\n",
       "      <th>631</th>\n",
       "      <td>https://lod.unige.ch/vc/cluster/human/10</td>\n",
       "      <td>https://visualcontagions.unige.ch/explore/anal...</td>\n",
       "      <td>https://gallica.bnf.fr/iiif/ark:/12148/bpt6k97...</td>\n",
       "      <td>1933-01-01T00:00:00</td>\n",
       "      <td>Abstraction, création, art non figuratif</td>\n",
       "      <td>Avant-garde Journal</td>\n",
       "      <td>Paris</td>\n",
       "      <td>France</td>\n",
       "      <td>1933-01-01</td>\n",
       "      <td>1933</td>\n",
       "      <td>primitive</td>\n",
       "      <td>no</td>\n",
       "    </tr>\n",
       "    <tr>\n",
       "      <th>633</th>\n",
       "      <td>https://lod.unige.ch/vc/cluster/human/10</td>\n",
       "      <td>https://visualcontagions.unige.ch/explore/anal...</td>\n",
       "      <td>https://gallica.bnf.fr/iiif/ark:/12148/bpt6k97...</td>\n",
       "      <td>1933-01-01T00:00:00</td>\n",
       "      <td>Abstraction, création, art non figuratif</td>\n",
       "      <td>Avant-garde Journal</td>\n",
       "      <td>Paris</td>\n",
       "      <td>France</td>\n",
       "      <td>1933-01-01</td>\n",
       "      <td>1933</td>\n",
       "      <td>primitive</td>\n",
       "      <td>no</td>\n",
       "    </tr>\n",
       "    <tr>\n",
       "      <th>636</th>\n",
       "      <td>https://lod.unige.ch/vc/cluster/human/10</td>\n",
       "      <td>https://visualcontagions.unige.ch/explore/anal...</td>\n",
       "      <td>https://gallica.bnf.fr/iiif/ark:/12148/bpt6k97...</td>\n",
       "      <td>1933-01-01T00:00:00</td>\n",
       "      <td>Abstraction, création, art non figuratif</td>\n",
       "      <td>Avant-garde Journal</td>\n",
       "      <td>Paris</td>\n",
       "      <td>France</td>\n",
       "      <td>1933-01-01</td>\n",
       "      <td>1933</td>\n",
       "      <td>primitive</td>\n",
       "      <td>no</td>\n",
       "    </tr>\n",
       "  </tbody>\n",
       "</table>\n",
       "</div>"
      ],
      "text/plain": [
       "                                      cluster  \\\n",
       "638  https://lod.unige.ch/vc/cluster/human/10   \n",
       "632  https://lod.unige.ch/vc/cluster/human/10   \n",
       "631  https://lod.unige.ch/vc/cluster/human/10   \n",
       "633  https://lod.unige.ch/vc/cluster/human/10   \n",
       "636  https://lod.unige.ch/vc/cluster/human/10   \n",
       "\n",
       "                                            identifier  \\\n",
       "638  https://visualcontagions.unige.ch/explore/anal...   \n",
       "632  https://visualcontagions.unige.ch/explore/anal...   \n",
       "631  https://visualcontagions.unige.ch/explore/anal...   \n",
       "633  https://visualcontagions.unige.ch/explore/anal...   \n",
       "636  https://visualcontagions.unige.ch/explore/anal...   \n",
       "\n",
       "                                                 image                begin  \\\n",
       "638  https://bluemountain.princeton.edu/bluemtn/iii...  1923-01-04T00:00:00   \n",
       "632  https://gallica.bnf.fr/iiif/ark:/12148/bpt6k97...  1932-01-01T00:00:00   \n",
       "631  https://gallica.bnf.fr/iiif/ark:/12148/bpt6k97...  1933-01-01T00:00:00   \n",
       "633  https://gallica.bnf.fr/iiif/ark:/12148/bpt6k97...  1933-01-01T00:00:00   \n",
       "636  https://gallica.bnf.fr/iiif/ark:/12148/bpt6k97...  1933-01-01T00:00:00   \n",
       "\n",
       "                                   issueLabel            labelType cityLabel  \\\n",
       "638                                 Der Sturm  Avant-garde Journal    Berlin   \n",
       "632  Abstraction, création, art non figuratif  Avant-garde Journal     Paris   \n",
       "631  Abstraction, création, art non figuratif  Avant-garde Journal     Paris   \n",
       "633  Abstraction, création, art non figuratif  Avant-garde Journal     Paris   \n",
       "636  Abstraction, création, art non figuratif  Avant-garde Journal     Paris   \n",
       "\n",
       "    countryLabel   Datetime  year   variable      start  \n",
       "638      Germany 1923-01-04  1923  primitive  primitive  \n",
       "632       France 1932-01-01  1932  primitive         no  \n",
       "631       France 1933-01-01  1933  primitive         no  \n",
       "633       France 1933-01-01  1933  primitive         no  \n",
       "636       France 1933-01-01  1933  primitive         no  "
      ]
     },
     "execution_count": 37,
     "metadata": {},
     "output_type": "execute_result"
    }
   ],
   "source": [
    "ag_cluster.head()"
   ]
  },
  {
   "cell_type": "code",
   "execution_count": 38,
   "id": "bee43fb5-afa1-4c11-87ab-426649d934a2",
   "metadata": {},
   "outputs": [],
   "source": [
    "ag_cluster.to_csv('csv/ag_cluster.csv', index=False)"
   ]
  },
  {
   "cell_type": "markdown",
   "id": "83af93e0-0464-4f31-b71c-ad17ec47d677",
   "metadata": {
    "tags": []
   },
   "source": [
    "## Fixing the differences in numbers"
   ]
  },
  {
   "cell_type": "markdown",
   "id": "4c8bf3fb-5369-4e54-9c34-d41bafde90bd",
   "metadata": {},
   "source": [
    "<font size=\"4\">Due to the use of both human-made and machine-made clusters, some images may be the same across two clusters (and two chains of circulation). Therefore, while merging the data together, some images are assigned the status of primitive, without being so (they do not start a chain of circulation). We need to remove them before proceeding in our analysis</font>"
   ]
  },
  {
   "cell_type": "code",
   "execution_count": 39,
   "id": "2fff1598-96b7-4c91-974b-154d321e5858",
   "metadata": {},
   "outputs": [],
   "source": [
    "clusters_after = ag_cluster[\"identifier\"].tolist()\n",
    "clusters_before = p_ag[\"identifier\"].tolist()"
   ]
  },
  {
   "cell_type": "code",
   "execution_count": 40,
   "id": "cf0c21a8-9670-4f4e-8a9c-a645199e4742",
   "metadata": {},
   "outputs": [
    {
     "data": {
      "text/plain": [
       "['https://visualcontagions.unige.ch/explore/analysis/imageseries/223',\n",
       " 'https://visualcontagions.unige.ch/explore/analysis/imageseries/296',\n",
       " 'https://visualcontagions.unige.ch/explore/analysis/imageseries/209']"
      ]
     },
     "execution_count": 40,
     "metadata": {},
     "output_type": "execute_result"
    }
   ],
   "source": [
    "list_delete = list(set(clusters_after) - set(clusters_before))\n",
    "list_delete"
   ]
  },
  {
   "cell_type": "code",
   "execution_count": 41,
   "id": "64343d4c-47bc-422a-aa87-279cf3197ff6",
   "metadata": {},
   "outputs": [],
   "source": [
    "ag_cluster.loc[ag_cluster['identifier'].isin(list_delete), 'start'] = 'no'\n",
    "ag_cluster.to_csv('csv/ag_cluster.csv', index=False)"
   ]
  },
  {
   "cell_type": "code",
   "execution_count": 42,
   "id": "bf302921-6386-4225-99fe-ec60c4c472db",
   "metadata": {},
   "outputs": [],
   "source": [
    "ag_uni = ag_cluster.groupby('identifier').start.nunique().eq(1)\n",
    "c = ag_uni.index[ag_uni == False]\n",
    "ag_clean = ag_cluster[ag_cluster['identifier'].isin(c)]\n",
    "ag_clean.to_csv('csv/ag_clean.csv', index=False)"
   ]
  },
  {
   "cell_type": "code",
   "execution_count": 43,
   "id": "836a5220-e773-4b25-abef-aed6315f8a1b",
   "metadata": {},
   "outputs": [
    {
     "data": {
      "text/html": [
       "<div>\n",
       "<style scoped>\n",
       "    .dataframe tbody tr th:only-of-type {\n",
       "        vertical-align: middle;\n",
       "    }\n",
       "\n",
       "    .dataframe tbody tr th {\n",
       "        vertical-align: top;\n",
       "    }\n",
       "\n",
       "    .dataframe thead th {\n",
       "        text-align: right;\n",
       "    }\n",
       "</style>\n",
       "<table border=\"1\" class=\"dataframe\">\n",
       "  <thead>\n",
       "    <tr style=\"text-align: right;\">\n",
       "      <th></th>\n",
       "      <th>cluster</th>\n",
       "      <th>identifier</th>\n",
       "      <th>image</th>\n",
       "      <th>begin</th>\n",
       "      <th>issueLabel</th>\n",
       "      <th>labelType</th>\n",
       "      <th>cityLabel</th>\n",
       "      <th>countryLabel</th>\n",
       "      <th>Datetime</th>\n",
       "      <th>year</th>\n",
       "      <th>variable</th>\n",
       "      <th>start</th>\n",
       "    </tr>\n",
       "  </thead>\n",
       "  <tbody>\n",
       "    <tr>\n",
       "      <th>638</th>\n",
       "      <td>https://lod.unige.ch/vc/cluster/human/10</td>\n",
       "      <td>https://visualcontagions.unige.ch/explore/anal...</td>\n",
       "      <td>https://bluemountain.princeton.edu/bluemtn/iii...</td>\n",
       "      <td>1923-01-04T00:00:00</td>\n",
       "      <td>Der Sturm</td>\n",
       "      <td>Avant-garde Journal</td>\n",
       "      <td>Berlin</td>\n",
       "      <td>Germany</td>\n",
       "      <td>1923-01-04</td>\n",
       "      <td>1923</td>\n",
       "      <td>primitive</td>\n",
       "      <td>primitive</td>\n",
       "    </tr>\n",
       "    <tr>\n",
       "      <th>632</th>\n",
       "      <td>https://lod.unige.ch/vc/cluster/human/10</td>\n",
       "      <td>https://visualcontagions.unige.ch/explore/anal...</td>\n",
       "      <td>https://gallica.bnf.fr/iiif/ark:/12148/bpt6k97...</td>\n",
       "      <td>1932-01-01T00:00:00</td>\n",
       "      <td>Abstraction, création, art non figuratif</td>\n",
       "      <td>Avant-garde Journal</td>\n",
       "      <td>Paris</td>\n",
       "      <td>France</td>\n",
       "      <td>1932-01-01</td>\n",
       "      <td>1932</td>\n",
       "      <td>primitive</td>\n",
       "      <td>no</td>\n",
       "    </tr>\n",
       "    <tr>\n",
       "      <th>631</th>\n",
       "      <td>https://lod.unige.ch/vc/cluster/human/10</td>\n",
       "      <td>https://visualcontagions.unige.ch/explore/anal...</td>\n",
       "      <td>https://gallica.bnf.fr/iiif/ark:/12148/bpt6k97...</td>\n",
       "      <td>1933-01-01T00:00:00</td>\n",
       "      <td>Abstraction, création, art non figuratif</td>\n",
       "      <td>Avant-garde Journal</td>\n",
       "      <td>Paris</td>\n",
       "      <td>France</td>\n",
       "      <td>1933-01-01</td>\n",
       "      <td>1933</td>\n",
       "      <td>primitive</td>\n",
       "      <td>no</td>\n",
       "    </tr>\n",
       "    <tr>\n",
       "      <th>633</th>\n",
       "      <td>https://lod.unige.ch/vc/cluster/human/10</td>\n",
       "      <td>https://visualcontagions.unige.ch/explore/anal...</td>\n",
       "      <td>https://gallica.bnf.fr/iiif/ark:/12148/bpt6k97...</td>\n",
       "      <td>1933-01-01T00:00:00</td>\n",
       "      <td>Abstraction, création, art non figuratif</td>\n",
       "      <td>Avant-garde Journal</td>\n",
       "      <td>Paris</td>\n",
       "      <td>France</td>\n",
       "      <td>1933-01-01</td>\n",
       "      <td>1933</td>\n",
       "      <td>primitive</td>\n",
       "      <td>no</td>\n",
       "    </tr>\n",
       "    <tr>\n",
       "      <th>636</th>\n",
       "      <td>https://lod.unige.ch/vc/cluster/human/10</td>\n",
       "      <td>https://visualcontagions.unige.ch/explore/anal...</td>\n",
       "      <td>https://gallica.bnf.fr/iiif/ark:/12148/bpt6k97...</td>\n",
       "      <td>1933-01-01T00:00:00</td>\n",
       "      <td>Abstraction, création, art non figuratif</td>\n",
       "      <td>Avant-garde Journal</td>\n",
       "      <td>Paris</td>\n",
       "      <td>France</td>\n",
       "      <td>1933-01-01</td>\n",
       "      <td>1933</td>\n",
       "      <td>primitive</td>\n",
       "      <td>no</td>\n",
       "    </tr>\n",
       "  </tbody>\n",
       "</table>\n",
       "</div>"
      ],
      "text/plain": [
       "                                      cluster  \\\n",
       "638  https://lod.unige.ch/vc/cluster/human/10   \n",
       "632  https://lod.unige.ch/vc/cluster/human/10   \n",
       "631  https://lod.unige.ch/vc/cluster/human/10   \n",
       "633  https://lod.unige.ch/vc/cluster/human/10   \n",
       "636  https://lod.unige.ch/vc/cluster/human/10   \n",
       "\n",
       "                                            identifier  \\\n",
       "638  https://visualcontagions.unige.ch/explore/anal...   \n",
       "632  https://visualcontagions.unige.ch/explore/anal...   \n",
       "631  https://visualcontagions.unige.ch/explore/anal...   \n",
       "633  https://visualcontagions.unige.ch/explore/anal...   \n",
       "636  https://visualcontagions.unige.ch/explore/anal...   \n",
       "\n",
       "                                                 image                begin  \\\n",
       "638  https://bluemountain.princeton.edu/bluemtn/iii...  1923-01-04T00:00:00   \n",
       "632  https://gallica.bnf.fr/iiif/ark:/12148/bpt6k97...  1932-01-01T00:00:00   \n",
       "631  https://gallica.bnf.fr/iiif/ark:/12148/bpt6k97...  1933-01-01T00:00:00   \n",
       "633  https://gallica.bnf.fr/iiif/ark:/12148/bpt6k97...  1933-01-01T00:00:00   \n",
       "636  https://gallica.bnf.fr/iiif/ark:/12148/bpt6k97...  1933-01-01T00:00:00   \n",
       "\n",
       "                                   issueLabel            labelType cityLabel  \\\n",
       "638                                 Der Sturm  Avant-garde Journal    Berlin   \n",
       "632  Abstraction, création, art non figuratif  Avant-garde Journal     Paris   \n",
       "631  Abstraction, création, art non figuratif  Avant-garde Journal     Paris   \n",
       "633  Abstraction, création, art non figuratif  Avant-garde Journal     Paris   \n",
       "636  Abstraction, création, art non figuratif  Avant-garde Journal     Paris   \n",
       "\n",
       "    countryLabel   Datetime  year   variable      start  \n",
       "638      Germany 1923-01-04  1923  primitive  primitive  \n",
       "632       France 1932-01-01  1932  primitive         no  \n",
       "631       France 1933-01-01  1933  primitive         no  \n",
       "633       France 1933-01-01  1933  primitive         no  \n",
       "636       France 1933-01-01  1933  primitive         no  "
      ]
     },
     "execution_count": 43,
     "metadata": {},
     "output_type": "execute_result"
    }
   ],
   "source": [
    "ag_clean.head()"
   ]
  },
  {
   "cell_type": "markdown",
   "id": "3ff7d5ac-0911-4a41-86de-bb91d529a8ee",
   "metadata": {},
   "source": [
    "#### Number of images per cluster"
   ]
  },
  {
   "cell_type": "code",
   "execution_count": 44,
   "id": "898d6681-5c41-4d79-ade0-2b89d2562263",
   "metadata": {},
   "outputs": [],
   "source": [
    "ag_clean['image_per_cluster'] = ag_clean.groupby(['identifier'])['cluster'].transform('count')\n",
    "ag_clean.sort_values(by=['image_per_cluster'], ascending=False, inplace=True)\n",
    "ag_clean.to_csv('csv/ag_clean.csv', index=False)"
   ]
  },
  {
   "cell_type": "markdown",
   "id": "27b49238-affb-4471-8178-74054988bcd8",
   "metadata": {},
   "source": [
    "<font size=\"4\">Which clusters has the longer chain of circulation?</font>"
   ]
  },
  {
   "cell_type": "code",
   "execution_count": 45,
   "id": "a2b880a3-3332-46b8-9f74-18ae227d6d09",
   "metadata": {},
   "outputs": [
    {
     "name": "stdout",
     "output_type": "stream",
     "text": [
      "https://visualcontagions.unige.ch/explore/analysis/imageseries/13\n"
     ]
    }
   ],
   "source": [
    "ag_clean2 = ag_clean.loc[ag_clean['image_per_cluster'].idxmax()]\n",
    "print(ag_clean2[\"identifier\"])"
   ]
  },
  {
   "cell_type": "markdown",
   "id": "ede68c39-1dc9-4749-aeec-13442dcf41eb",
   "metadata": {
    "tags": []
   },
   "source": [
    "## Visualise interconnections"
   ]
  },
  {
   "cell_type": "markdown",
   "id": "d225ef09-e5d8-47ac-b429-07fe33acb0da",
   "metadata": {},
   "source": [
    "<font size=\"4\">What are the cluster interconnections? How do the chains of circulation traverse different communities? To discover it, we do a bit of data wrangling, and create two columnsm, one for AG journals which initiate chains of circulation, and another for all the different journals they touch</font>"
   ]
  },
  {
   "cell_type": "code",
   "execution_count": 46,
   "id": "b8f3aa3b-9df8-4d77-977b-4c83e527873c",
   "metadata": {},
   "outputs": [],
   "source": [
    "ag_clean.sort_values(by=['identifier', 'start'], ascending=False, inplace=True)"
   ]
  },
  {
   "cell_type": "code",
   "execution_count": 47,
   "id": "728ef87c-1550-4cde-afa3-d6ae0ac4211a",
   "metadata": {},
   "outputs": [
    {
     "data": {
      "text/html": [
       "<div>\n",
       "<style scoped>\n",
       "    .dataframe tbody tr th:only-of-type {\n",
       "        vertical-align: middle;\n",
       "    }\n",
       "\n",
       "    .dataframe tbody tr th {\n",
       "        vertical-align: top;\n",
       "    }\n",
       "\n",
       "    .dataframe thead th {\n",
       "        text-align: right;\n",
       "    }\n",
       "</style>\n",
       "<table border=\"1\" class=\"dataframe\">\n",
       "  <thead>\n",
       "    <tr style=\"text-align: right;\">\n",
       "      <th></th>\n",
       "      <th>cluster</th>\n",
       "      <th>identifier</th>\n",
       "      <th>image</th>\n",
       "      <th>begin</th>\n",
       "      <th>issueLabel</th>\n",
       "      <th>labelType</th>\n",
       "      <th>cityLabel</th>\n",
       "      <th>countryLabel</th>\n",
       "      <th>Datetime</th>\n",
       "      <th>year</th>\n",
       "      <th>variable</th>\n",
       "      <th>start</th>\n",
       "      <th>image_per_cluster</th>\n",
       "    </tr>\n",
       "  </thead>\n",
       "  <tbody>\n",
       "    <tr>\n",
       "      <th>77</th>\n",
       "      <td>https://lod.unige.ch/vc/cluster/human/58</td>\n",
       "      <td>https://visualcontagions.unige.ch/explore/anal...</td>\n",
       "      <td>https://gallica.bnf.fr/iiif/ark:/12148/bpt6k15...</td>\n",
       "      <td>1925-07-15T00:00:00</td>\n",
       "      <td>La Révolution surréaliste</td>\n",
       "      <td>Avant-garde Journal</td>\n",
       "      <td>Paris</td>\n",
       "      <td>France</td>\n",
       "      <td>1925-07-15</td>\n",
       "      <td>1925</td>\n",
       "      <td>primitive</td>\n",
       "      <td>primitive</td>\n",
       "      <td>48</td>\n",
       "    </tr>\n",
       "    <tr>\n",
       "      <th>82</th>\n",
       "      <td>https://lod.unige.ch/vc/cluster/human/58</td>\n",
       "      <td>https://visualcontagions.unige.ch/explore/anal...</td>\n",
       "      <td>https://gallica.bnf.fr/iiif/ark:/12148/bpt6k15...</td>\n",
       "      <td>1926-12-01T00:00:00</td>\n",
       "      <td>La Révolution surréaliste</td>\n",
       "      <td>Avant-garde Journal</td>\n",
       "      <td>Paris</td>\n",
       "      <td>France</td>\n",
       "      <td>1926-12-01</td>\n",
       "      <td>1926</td>\n",
       "      <td>primitive</td>\n",
       "      <td>primitive</td>\n",
       "      <td>48</td>\n",
       "    </tr>\n",
       "    <tr>\n",
       "      <th>56</th>\n",
       "      <td>https://lod.unige.ch/vc/cluster/human/58</td>\n",
       "      <td>https://visualcontagions.unige.ch/explore/anal...</td>\n",
       "      <td>https://gallica.bnf.fr/iiif/ark:/12148/bpt6k97...</td>\n",
       "      <td>1934-01-01T00:00:00</td>\n",
       "      <td>Cahiers d'art (Paris)</td>\n",
       "      <td>Avant-garde Journal</td>\n",
       "      <td>Paris</td>\n",
       "      <td>France</td>\n",
       "      <td>1934-01-01</td>\n",
       "      <td>1934</td>\n",
       "      <td>primitive</td>\n",
       "      <td>no</td>\n",
       "      <td>48</td>\n",
       "    </tr>\n",
       "    <tr>\n",
       "      <th>68</th>\n",
       "      <td>https://lod.unige.ch/vc/cluster/human/58</td>\n",
       "      <td>https://visualcontagions.unige.ch/explore/anal...</td>\n",
       "      <td>https://gallica.bnf.fr/iiif/ark:/12148/bpt6k97...</td>\n",
       "      <td>1934-01-01T00:00:00</td>\n",
       "      <td>Cahiers d'art (Paris)</td>\n",
       "      <td>Avant-garde Journal</td>\n",
       "      <td>Paris</td>\n",
       "      <td>France</td>\n",
       "      <td>1934-01-01</td>\n",
       "      <td>1934</td>\n",
       "      <td>primitive</td>\n",
       "      <td>no</td>\n",
       "      <td>48</td>\n",
       "    </tr>\n",
       "    <tr>\n",
       "      <th>83</th>\n",
       "      <td>https://lod.unige.ch/vc/cluster/human/58</td>\n",
       "      <td>https://visualcontagions.unige.ch/explore/anal...</td>\n",
       "      <td>https://gallica.bnf.fr/iiif/ark:/12148/bpt6k97...</td>\n",
       "      <td>1929-01-01T00:00:00</td>\n",
       "      <td>Cahiers d'art (Paris)</td>\n",
       "      <td>Avant-garde Journal</td>\n",
       "      <td>Paris</td>\n",
       "      <td>France</td>\n",
       "      <td>1929-01-01</td>\n",
       "      <td>1929</td>\n",
       "      <td>primitive</td>\n",
       "      <td>no</td>\n",
       "      <td>48</td>\n",
       "    </tr>\n",
       "  </tbody>\n",
       "</table>\n",
       "</div>"
      ],
      "text/plain": [
       "                                     cluster  \\\n",
       "77  https://lod.unige.ch/vc/cluster/human/58   \n",
       "82  https://lod.unige.ch/vc/cluster/human/58   \n",
       "56  https://lod.unige.ch/vc/cluster/human/58   \n",
       "68  https://lod.unige.ch/vc/cluster/human/58   \n",
       "83  https://lod.unige.ch/vc/cluster/human/58   \n",
       "\n",
       "                                           identifier  \\\n",
       "77  https://visualcontagions.unige.ch/explore/anal...   \n",
       "82  https://visualcontagions.unige.ch/explore/anal...   \n",
       "56  https://visualcontagions.unige.ch/explore/anal...   \n",
       "68  https://visualcontagions.unige.ch/explore/anal...   \n",
       "83  https://visualcontagions.unige.ch/explore/anal...   \n",
       "\n",
       "                                                image                begin  \\\n",
       "77  https://gallica.bnf.fr/iiif/ark:/12148/bpt6k15...  1925-07-15T00:00:00   \n",
       "82  https://gallica.bnf.fr/iiif/ark:/12148/bpt6k15...  1926-12-01T00:00:00   \n",
       "56  https://gallica.bnf.fr/iiif/ark:/12148/bpt6k97...  1934-01-01T00:00:00   \n",
       "68  https://gallica.bnf.fr/iiif/ark:/12148/bpt6k97...  1934-01-01T00:00:00   \n",
       "83  https://gallica.bnf.fr/iiif/ark:/12148/bpt6k97...  1929-01-01T00:00:00   \n",
       "\n",
       "                   issueLabel            labelType cityLabel countryLabel  \\\n",
       "77  La Révolution surréaliste  Avant-garde Journal     Paris       France   \n",
       "82  La Révolution surréaliste  Avant-garde Journal     Paris       France   \n",
       "56      Cahiers d'art (Paris)  Avant-garde Journal     Paris       France   \n",
       "68      Cahiers d'art (Paris)  Avant-garde Journal     Paris       France   \n",
       "83      Cahiers d'art (Paris)  Avant-garde Journal     Paris       France   \n",
       "\n",
       "     Datetime  year   variable      start  image_per_cluster  \n",
       "77 1925-07-15  1925  primitive  primitive                 48  \n",
       "82 1926-12-01  1926  primitive  primitive                 48  \n",
       "56 1934-01-01  1934  primitive         no                 48  \n",
       "68 1934-01-01  1934  primitive         no                 48  \n",
       "83 1929-01-01  1929  primitive         no                 48  "
      ]
     },
     "execution_count": 47,
     "metadata": {},
     "output_type": "execute_result"
    }
   ],
   "source": [
    "ag_clean.head()"
   ]
  },
  {
   "cell_type": "code",
   "execution_count": 48,
   "id": "27d0f749-b9ce-45ed-a57c-a1797c1b0fae",
   "metadata": {},
   "outputs": [],
   "source": [
    "ag_clean['notAG_issue'] = ag_clean['issueLabel']\n",
    "ag_clean['notAG_type'] = ag_clean['labelType']\n",
    "ag_clean['notAG_country'] = ag_clean['countryLabel']"
   ]
  },
  {
   "cell_type": "code",
   "execution_count": 49,
   "id": "3086b1c8-4f0a-458a-982d-e09e9370c134",
   "metadata": {},
   "outputs": [],
   "source": [
    "ag_clean['issueLabel'] = ag_clean['issueLabel'][ag_clean['start']=='primitive']\n",
    "ag_clean['labelType'] = ag_clean['labelType'][ag_clean['start']=='primitive']\n",
    "ag_clean['countryLabel'] = ag_clean['countryLabel'][ag_clean['start']=='primitive']"
   ]
  },
  {
   "cell_type": "code",
   "execution_count": 50,
   "id": "8cf6cb7d-51bd-4f01-8443-b413f0c0a670",
   "metadata": {},
   "outputs": [],
   "source": [
    "ag_clean.ffill(inplace=True)"
   ]
  },
  {
   "cell_type": "code",
   "execution_count": 51,
   "id": "1a413922-d8ef-4011-9985-e5c1974dd868",
   "metadata": {},
   "outputs": [],
   "source": [
    "ag_clean = ag_clean[ag_clean['start']=='no']"
   ]
  },
  {
   "cell_type": "code",
   "execution_count": 52,
   "id": "94d2f049-ea82-4178-81cb-8d4baaa93f6a",
   "metadata": {},
   "outputs": [],
   "source": [
    "ag_clean_only_ext = ag_clean.query(\"notAG_type != 'Avant-garde Journal'\")"
   ]
  },
  {
   "cell_type": "code",
   "execution_count": 53,
   "id": "269842c5-1694-4bb5-8bf1-a32d6a34bbb5",
   "metadata": {},
   "outputs": [
    {
     "data": {
      "text/html": [
       "<div>\n",
       "<style scoped>\n",
       "    .dataframe tbody tr th:only-of-type {\n",
       "        vertical-align: middle;\n",
       "    }\n",
       "\n",
       "    .dataframe tbody tr th {\n",
       "        vertical-align: top;\n",
       "    }\n",
       "\n",
       "    .dataframe thead th {\n",
       "        text-align: right;\n",
       "    }\n",
       "</style>\n",
       "<table border=\"1\" class=\"dataframe\">\n",
       "  <thead>\n",
       "    <tr style=\"text-align: right;\">\n",
       "      <th></th>\n",
       "      <th>cluster</th>\n",
       "      <th>identifier</th>\n",
       "      <th>image</th>\n",
       "      <th>begin</th>\n",
       "      <th>issueLabel</th>\n",
       "      <th>labelType</th>\n",
       "      <th>cityLabel</th>\n",
       "      <th>countryLabel</th>\n",
       "      <th>Datetime</th>\n",
       "      <th>year</th>\n",
       "      <th>variable</th>\n",
       "      <th>start</th>\n",
       "      <th>image_per_cluster</th>\n",
       "      <th>notAG_issue</th>\n",
       "      <th>notAG_type</th>\n",
       "      <th>notAG_country</th>\n",
       "    </tr>\n",
       "  </thead>\n",
       "  <tbody>\n",
       "    <tr>\n",
       "      <th>85</th>\n",
       "      <td>https://lod.unige.ch/vc/cluster/human/58</td>\n",
       "      <td>https://visualcontagions.unige.ch/explore/anal...</td>\n",
       "      <td>https://iiif.archivelab.org/iiif/sim_arts-maga...</td>\n",
       "      <td>1926-01-01T00:00:00</td>\n",
       "      <td>La Révolution surréaliste</td>\n",
       "      <td>Avant-garde Journal</td>\n",
       "      <td>New York City</td>\n",
       "      <td>France</td>\n",
       "      <td>1926-01-01</td>\n",
       "      <td>1926</td>\n",
       "      <td>primitive</td>\n",
       "      <td>no</td>\n",
       "      <td>48</td>\n",
       "      <td>Arts Magazine</td>\n",
       "      <td>Art Journal</td>\n",
       "      <td>United States of America</td>\n",
       "    </tr>\n",
       "    <tr>\n",
       "      <th>88</th>\n",
       "      <td>https://lod.unige.ch/vc/cluster/human/58</td>\n",
       "      <td>https://visualcontagions.unige.ch/explore/anal...</td>\n",
       "      <td>https://gallica.bnf.fr/iiif/ark:/12148/bpt6k42...</td>\n",
       "      <td>1934-01-01T00:00:00</td>\n",
       "      <td>La Révolution surréaliste</td>\n",
       "      <td>Avant-garde Journal</td>\n",
       "      <td>Paris</td>\n",
       "      <td>France</td>\n",
       "      <td>1934-01-01</td>\n",
       "      <td>1934</td>\n",
       "      <td>primitive</td>\n",
       "      <td>no</td>\n",
       "      <td>48</td>\n",
       "      <td>L'Amour de l'art (1920)</td>\n",
       "      <td>Modern Art Journal</td>\n",
       "      <td>France</td>\n",
       "    </tr>\n",
       "    <tr>\n",
       "      <th>87</th>\n",
       "      <td>https://lod.unige.ch/vc/cluster/human/58</td>\n",
       "      <td>https://visualcontagions.unige.ch/explore/anal...</td>\n",
       "      <td>https://iiif.unige.ch/iiif/2/fedora_ug8086029;...</td>\n",
       "      <td>1978-06-01T00:00:00</td>\n",
       "      <td>La Révolution surréaliste</td>\n",
       "      <td>Avant-garde Journal</td>\n",
       "      <td>Buenos Aires</td>\n",
       "      <td>France</td>\n",
       "      <td>1978-06-01</td>\n",
       "      <td>1978</td>\n",
       "      <td>primitive</td>\n",
       "      <td>no</td>\n",
       "      <td>48</td>\n",
       "      <td>El Ornitorrinco. Revista de literatura</td>\n",
       "      <td>Literature</td>\n",
       "      <td>Argentina</td>\n",
       "    </tr>\n",
       "    <tr>\n",
       "      <th>55</th>\n",
       "      <td>https://lod.unige.ch/vc/cluster/human/58</td>\n",
       "      <td>https://visualcontagions.unige.ch/explore/anal...</td>\n",
       "      <td>https://iiif.unige.ch/iiif/2/fedora_ug27805966...</td>\n",
       "      <td>1949-07-01T00:00:00</td>\n",
       "      <td>La Révolution surréaliste</td>\n",
       "      <td>Avant-garde Journal</td>\n",
       "      <td>Amsterdam</td>\n",
       "      <td>France</td>\n",
       "      <td>1949-07-01</td>\n",
       "      <td>1949</td>\n",
       "      <td>primitive</td>\n",
       "      <td>no</td>\n",
       "      <td>48</td>\n",
       "      <td>Ariadne</td>\n",
       "      <td>Illustrated Magazine</td>\n",
       "      <td>Netherlands</td>\n",
       "    </tr>\n",
       "    <tr>\n",
       "      <th>66</th>\n",
       "      <td>https://lod.unige.ch/vc/cluster/human/58</td>\n",
       "      <td>https://visualcontagions.unige.ch/explore/anal...</td>\n",
       "      <td>https://iiif.unige.ch/iiif/2/fedora_ug27817205...</td>\n",
       "      <td>1947-01-01T00:00:00</td>\n",
       "      <td>La Révolution surréaliste</td>\n",
       "      <td>Avant-garde Journal</td>\n",
       "      <td>New York City</td>\n",
       "      <td>France</td>\n",
       "      <td>1947-01-01</td>\n",
       "      <td>1947</td>\n",
       "      <td>primitive</td>\n",
       "      <td>no</td>\n",
       "      <td>48</td>\n",
       "      <td>Art Directors Annual of Advertising Arts</td>\n",
       "      <td>Illustrated Magazine</td>\n",
       "      <td>United States of America</td>\n",
       "    </tr>\n",
       "  </tbody>\n",
       "</table>\n",
       "</div>"
      ],
      "text/plain": [
       "                                     cluster  \\\n",
       "85  https://lod.unige.ch/vc/cluster/human/58   \n",
       "88  https://lod.unige.ch/vc/cluster/human/58   \n",
       "87  https://lod.unige.ch/vc/cluster/human/58   \n",
       "55  https://lod.unige.ch/vc/cluster/human/58   \n",
       "66  https://lod.unige.ch/vc/cluster/human/58   \n",
       "\n",
       "                                           identifier  \\\n",
       "85  https://visualcontagions.unige.ch/explore/anal...   \n",
       "88  https://visualcontagions.unige.ch/explore/anal...   \n",
       "87  https://visualcontagions.unige.ch/explore/anal...   \n",
       "55  https://visualcontagions.unige.ch/explore/anal...   \n",
       "66  https://visualcontagions.unige.ch/explore/anal...   \n",
       "\n",
       "                                                image                begin  \\\n",
       "85  https://iiif.archivelab.org/iiif/sim_arts-maga...  1926-01-01T00:00:00   \n",
       "88  https://gallica.bnf.fr/iiif/ark:/12148/bpt6k42...  1934-01-01T00:00:00   \n",
       "87  https://iiif.unige.ch/iiif/2/fedora_ug8086029;...  1978-06-01T00:00:00   \n",
       "55  https://iiif.unige.ch/iiif/2/fedora_ug27805966...  1949-07-01T00:00:00   \n",
       "66  https://iiif.unige.ch/iiif/2/fedora_ug27817205...  1947-01-01T00:00:00   \n",
       "\n",
       "                   issueLabel            labelType      cityLabel  \\\n",
       "85  La Révolution surréaliste  Avant-garde Journal  New York City   \n",
       "88  La Révolution surréaliste  Avant-garde Journal          Paris   \n",
       "87  La Révolution surréaliste  Avant-garde Journal   Buenos Aires   \n",
       "55  La Révolution surréaliste  Avant-garde Journal      Amsterdam   \n",
       "66  La Révolution surréaliste  Avant-garde Journal  New York City   \n",
       "\n",
       "   countryLabel   Datetime  year   variable start  image_per_cluster  \\\n",
       "85       France 1926-01-01  1926  primitive    no                 48   \n",
       "88       France 1934-01-01  1934  primitive    no                 48   \n",
       "87       France 1978-06-01  1978  primitive    no                 48   \n",
       "55       France 1949-07-01  1949  primitive    no                 48   \n",
       "66       France 1947-01-01  1947  primitive    no                 48   \n",
       "\n",
       "                                 notAG_issue            notAG_type  \\\n",
       "85                             Arts Magazine           Art Journal   \n",
       "88                   L'Amour de l'art (1920)    Modern Art Journal   \n",
       "87    El Ornitorrinco. Revista de literatura            Literature   \n",
       "55                                   Ariadne  Illustrated Magazine   \n",
       "66  Art Directors Annual of Advertising Arts  Illustrated Magazine   \n",
       "\n",
       "               notAG_country  \n",
       "85  United States of America  \n",
       "88                    France  \n",
       "87                 Argentina  \n",
       "55               Netherlands  \n",
       "66  United States of America  "
      ]
     },
     "execution_count": 53,
     "metadata": {},
     "output_type": "execute_result"
    }
   ],
   "source": [
    "ag_clean_only_ext.head()"
   ]
  },
  {
   "cell_type": "code",
   "execution_count": 54,
   "id": "c491ed81-4ea0-4797-baed-eaff04cbfae4",
   "metadata": {},
   "outputs": [],
   "source": [
    "ag_clean_only_ext.sort_values(by=['identifier'], ascending=False, inplace=True)\n",
    "ag_clean_only_ext.to_csv('csv/ag_clean_only_ext.csv', index=False)"
   ]
  },
  {
   "cell_type": "code",
   "execution_count": 55,
   "id": "a8efa62c-a0f2-4ba9-9e62-66cc523c30ac",
   "metadata": {},
   "outputs": [],
   "source": [
    "fig = px.sunburst(ag_clean_only_ext, path=['issueLabel', 'notAG_type', 'notAG_issue'], \n",
    "                  )\n",
    "fig.update_layout(uniformtext=dict(minsize=10, mode='hide'))\n",
    "#fig.show()\n",
    "fig.write_html('viz/community_sunburst.html', auto_open=True)"
   ]
  },
  {
   "cell_type": "code",
   "execution_count": 56,
   "id": "ad873325-03e7-4c35-8435-e0c2d588396f",
   "metadata": {},
   "outputs": [],
   "source": [
    "fig = px.sunburst(ag_clean_only_ext, path=['labelType', 'notAG_type', 'notAG_issue'], \n",
    "                  )\n",
    "fig.update_layout(uniformtext=dict(minsize=10, mode='hide'))\n",
    "#fig.show()\n",
    "fig.write_html('viz/community_sunburst.html', auto_open=True)"
   ]
  },
  {
   "cell_type": "markdown",
   "id": "d02a3659-00ed-48c9-b689-947cef8321ee",
   "metadata": {},
   "source": [
    "the number in the diagram reflect the total number of images that have been impacted by a chain of circulation originating in that country. Ex: if a cluster of 10 images has a primitive image from Germany and create a circulation of 8 image (outside the AG community), it counts 8 for that country."
   ]
  },
  {
   "cell_type": "code",
   "execution_count": 57,
   "id": "def1b6ec-459f-4268-91b7-d53af9b8f873",
   "metadata": {},
   "outputs": [],
   "source": [
    "fig1 = px.sunburst(ag_clean_only_ext, path=['countryLabel', 'notAG_country']\n",
    "                        )\n",
    "fig1.update_layout(uniformtext=dict(minsize=10, mode='hide'))\n",
    "#fig.show()\n",
    "fig1.write_html('viz/country_sunburst.html', auto_open=True)"
   ]
  },
  {
   "cell_type": "markdown",
   "id": "88c5996b-c7a4-4719-93a9-b54a6983e15a",
   "metadata": {},
   "source": [
    "# other possibilities"
   ]
  },
  {
   "cell_type": "markdown",
   "id": "93db299d-c594-40d6-a534-f237372272c1",
   "metadata": {
    "jp-MarkdownHeadingCollapsed": true,
    "tags": []
   },
   "source": [
    "## To cut"
   ]
  },
  {
   "cell_type": "code",
   "execution_count": null,
   "id": "df7c2162-9325-4cdf-9756-2a88c4621bb9",
   "metadata": {},
   "outputs": [],
   "source": [
    "primitive = ag_clean.query(\"start == 'primitive'\")\n",
    "not_primitive = ag_clean.query(\"start == 'no'\")\n",
    "not_primitive = not_primitive.query(\"labelType != 'Avant-garde Journal'\")"
   ]
  },
  {
   "cell_type": "code",
   "execution_count": null,
   "id": "3e5aab5f-4ea1-4572-bb1e-b7890e966ec3",
   "metadata": {},
   "outputs": [],
   "source": [
    "not_primitive['type_not_primitive_count'] = not_primitive.groupby(['labelType'])['cluster'].transform('count')\n",
    "not_primitive['country_not_primitive_count'] = not_primitive.groupby(['countryLabel'])['cluster'].transform('count')"
   ]
  },
  {
   "cell_type": "code",
   "execution_count": null,
   "id": "f3eeedae-bbb9-468b-a865-e0b11ac10898",
   "metadata": {},
   "outputs": [],
   "source": [
    "not_primitive"
   ]
  },
  {
   "cell_type": "code",
   "execution_count": null,
   "id": "e220ebfc-e0a0-46bb-a7b1-738378b03106",
   "metadata": {},
   "outputs": [],
   "source": [
    "not_primitive.rename({'issueLabel': 'issue_notAG', 'countryLabel': 'country_notAG','begin':'begin_notAG', 'labelType':'labelType_notAG'}, axis=1, inplace=True)\n"
   ]
  },
  {
   "cell_type": "code",
   "execution_count": null,
   "id": "a74ce905-4e3b-4ed6-b9f1-ed3583f3408d",
   "metadata": {},
   "outputs": [],
   "source": [
    "not_primitive.drop(['cluster','cityLabel','Datetime', 'variable','year'], axis=1, inplace=True)\n",
    "not_primitive"
   ]
  },
  {
   "cell_type": "code",
   "execution_count": null,
   "id": "918d890d-a974-4759-b3ca-8e385bdeedd7",
   "metadata": {},
   "outputs": [],
   "source": [
    "primitive['country_primitive_count'] = primitive.groupby(['countryLabel'])['cluster'].transform('count')\n",
    "primitive.drop(['cluster','cityLabel','Datetime', 'variable','year'], axis=1, inplace=True)"
   ]
  },
  {
   "cell_type": "code",
   "execution_count": null,
   "id": "46bf48f4-fb52-4318-b872-7757d9585bc8",
   "metadata": {},
   "outputs": [],
   "source": [
    "primitive"
   ]
  },
  {
   "cell_type": "code",
   "execution_count": null,
   "id": "622ddd8d-58cc-4364-ad6c-bda319fb5e55",
   "metadata": {},
   "outputs": [],
   "source": [
    "result = pd.concat([primitive, not_primitive])"
   ]
  },
  {
   "cell_type": "code",
   "execution_count": null,
   "id": "27e6128d-4efc-4aab-a4ad-f8ea163f99f4",
   "metadata": {},
   "outputs": [],
   "source": [
    "result"
   ]
  },
  {
   "cell_type": "code",
   "execution_count": null,
   "id": "24e5a716-904c-4cc2-98bd-feaa2e8282e4",
   "metadata": {},
   "outputs": [],
   "source": [
    "result.sort_values(by=['identifier', 'issueLabel'], ascending=False, inplace=True)\n",
    "result.to_csv('csv/result.csv', index=False)"
   ]
  },
  {
   "cell_type": "code",
   "execution_count": null,
   "id": "4e377255-6bf6-429d-94fc-553888d0f9cf",
   "metadata": {},
   "outputs": [],
   "source": [
    "rs1 = result.ffill(inplace=True)"
   ]
  },
  {
   "cell_type": "code",
   "execution_count": null,
   "id": "349e8e91-9e3a-4328-bc88-3ab1da15599f",
   "metadata": {},
   "outputs": [],
   "source": []
  },
  {
   "cell_type": "code",
   "execution_count": null,
   "id": "6c262885-574b-44f4-9c45-885521a115c0",
   "metadata": {},
   "outputs": [],
   "source": []
  },
  {
   "cell_type": "code",
   "execution_count": null,
   "id": "1f0d17dd-2661-424a-862f-ece4282f96cd",
   "metadata": {},
   "outputs": [],
   "source": []
  },
  {
   "cell_type": "code",
   "execution_count": null,
   "id": "484f7c1f-2e38-4c1e-b437-aa8567c63901",
   "metadata": {},
   "outputs": [],
   "source": [
    "fig = px.sunburst(result, path=['issueLabel', 'labelType_notAG', 'issue_notAG'], \n",
    "                  )\n",
    "fig.update_layout(uniformtext=dict(minsize=10, mode='hide'))\n",
    "#fig.show()\n",
    "fig.write_html('viz/community_sunburst.html', auto_open=True)"
   ]
  },
  {
   "cell_type": "markdown",
   "id": "615e16ca-e934-473b-94f2-a459350a964d",
   "metadata": {
    "jp-MarkdownHeadingCollapsed": true,
    "tags": []
   },
   "source": [
    "## Return to the database"
   ]
  },
  {
   "cell_type": "markdown",
   "id": "a6317cd5-861b-4381-bd19-9a158fb76574",
   "metadata": {},
   "source": [
    "<font size=\"4\">To do so, the easiest way is to use our data to query SPARQL and model the results</font>"
   ]
  },
  {
   "cell_type": "code",
   "execution_count": null,
   "id": "9b3d10b8-0d90-4289-b556-7cfdea49239a",
   "metadata": {},
   "outputs": [],
   "source": [
    "query = p_ag.drop_duplicates(subset=['cluster'])"
   ]
  },
  {
   "cell_type": "code",
   "execution_count": null,
   "id": "577288ad-27e6-4683-9e0b-106656c4a4a6",
   "metadata": {},
   "outputs": [],
   "source": [
    "query['cluster'] = '<' + query['cluster'].astype(str) + '>'\n",
    "guigg = query[\"cluster\"].tolist()\n",
    "separator = ' '\n",
    "new_guigg = separator.join(guigg)"
   ]
  },
  {
   "cell_type": "code",
   "execution_count": null,
   "id": "4446787f-d3b1-4b45-b718-761c3cf6d3cb",
   "metadata": {},
   "outputs": [],
   "source": [
    "qsun = \"\"\"\n",
    "    PREFIX crmdig: <http://www.ics.forth.gr/isl/CRMdig/>\n",
    "    PREFIX frbroo: <http://iflastandards.info/ns/fr/frbr/frbroo/>\n",
    "    PREFIX crm: <http://www.cidoc-crm.org/cidoc-crm/>\n",
    "    PREFIX rdf: <http://www.w3.org/1999/02/22-rdf-syntax-ns#>\n",
    "    PREFIX rdfs: <http://www.w3.org/2000/01/rdf-schema#>\n",
    "    PREFIX aat: <http://vocab.getty.edu/aat/>\n",
    "    PREFIX xsd: <http://www.w3.org/2001/XMLSchema#>\n",
    "    \n",
    "    SELECT DISTINCT ?identifier ?AGJournal ?countryAG ?notAGJournal ?notAGcountry ?JournalTypeLabel WHERE {\n",
    "\n",
    "\tVALUES ?cluster { %s } .\n",
    "    VALUES ?avantgarde { <https://lod.unige.ch/vc/type/988EE2E2-172C-3104-8DAA-B4D629E814AE> } .\n",
    "    \n",
    "\t\t?cluster crm:P148_has_component ?image ;\n",
    "           \tcrm:P1_is_identified_by ?identifier .\n",
    "\t\t?image crm:P128i_is_carried_by ?issue . \n",
    "\t\t?issue crm:P2_has_type <https://lod.unige.ch/vc/type/988EE2E2-172C-3104-8DAA-B4D629E814AE> ;\n",
    "               crm:P108i_was_produced_by ?production ;\n",
    "\t\t\t\trdfs:label ?AGJournal .\n",
    "        \n",
    "        \n",
    "        ?production crm:P7_took_place_at ?country .\n",
    "                     \n",
    "        ?country crm:P2_has_type aat:300387506 ;\n",
    "                rdfs:label ?countryAG .\n",
    "\t\n",
    "\t\t?cluster crm:P148_has_component ?image1 . \n",
    "\t\t?image1 crm:P128i_is_carried_by ?issue1 . \n",
    "\t\t?issue1 crm:P108i_was_produced_by ?production1 ;\n",
    "                crm:P2_has_type ?type ;\n",
    "\t\t\t\trdfs:label ?notAGJournal .\n",
    "\t\t?type rdfs:label ?JournalTypeLabel .\n",
    "         \n",
    "        ?production1 crm:P7_took_place_at ?country1 .\n",
    "        \n",
    "        ?country1 crm:P2_has_type aat:300387506 ;\n",
    "                rdfs:label ?notAGcountry .\n",
    "\n",
    "\t\tFILTER (contains(str(?type), \"https://lod.unige.ch/vc/type/\"))\n",
    "\t\tFILTER (?type != ?avantgarde)\n",
    "\n",
    "}\n",
    "\"\"\" % new_guigg"
   ]
  },
  {
   "cell_type": "code",
   "execution_count": null,
   "id": "69e63e0d-3582-40df-a015-6cdd6cf9bf5d",
   "metadata": {
    "tags": []
   },
   "outputs": [],
   "source": [
    "df_compare = sparql_dataframe.get(endpoint, qsun)"
   ]
  },
  {
   "cell_type": "markdown",
   "id": "9e8b5f35-0d87-4728-9e08-383fb08c3dbc",
   "metadata": {},
   "source": [
    "once obtained the result, we can count the number of different communities associated with AD"
   ]
  },
  {
   "cell_type": "code",
   "execution_count": null,
   "id": "7b3ba348-18f4-44e8-a314-af09c68263f1",
   "metadata": {},
   "outputs": [],
   "source": [
    "df_compare.head()"
   ]
  },
  {
   "cell_type": "code",
   "execution_count": null,
   "id": "7683683f-73fc-4c9a-b27e-780814a03588",
   "metadata": {},
   "outputs": [],
   "source": [
    "df2 = df_compare.groupby(['countryAG','image']).identifier.agg('count')"
   ]
  },
  {
   "cell_type": "code",
   "execution_count": null,
   "id": "f36fb7d2-d062-404d-954b-704af439f24f",
   "metadata": {},
   "outputs": [],
   "source": [
    "df2.info()"
   ]
  },
  {
   "cell_type": "code",
   "execution_count": null,
   "id": "8bbf1210-dcd8-4a4e-9ca5-393f8d6557ca",
   "metadata": {},
   "outputs": [],
   "source": [
    "df_compare = df_compare.groupby([\"countryAG\", \"identifier\"]).agg(count_col=pd.NamedAgg(column=\"countryAG\", aggfunc=\"count\")"
   ]
  },
  {
   "cell_type": "code",
   "execution_count": null,
   "id": "5bc91479-fbc3-4670-b14c-ce3f7a8638b4",
   "metadata": {},
   "outputs": [],
   "source": [
    "df2 = df_compare.groupby(['countryAG','AGJournal'])[\"identifier\"].transform(\"count\")"
   ]
  },
  {
   "cell_type": "code",
   "execution_count": null,
   "id": "b0b27cbb-8dd7-4910-b417-0aac05997d1b",
   "metadata": {},
   "outputs": [],
   "source": [
    "df_compare['count_community'] = df_compare.groupby([ 'JournalTypeLabel'])['notAGJournal'].transform('count')\n",
    "df_compare['count_notAG_country'] = df_compare.groupby([ 'notAGcountry'])['identifier'].transform('count')\n",
    "df_compare['count_countryAG'] = df_compare.groupby([ 'countryAG'])['identifier'].transform('count')"
   ]
  },
  {
   "cell_type": "code",
   "execution_count": null,
   "id": "5edc5f0b-896b-4035-a038-477e989ea19d",
   "metadata": {},
   "outputs": [],
   "source": [
    "df_compare.to_csv('csv/df_compare.csv', index=False)"
   ]
  },
  {
   "cell_type": "code",
   "execution_count": null,
   "id": "9725af14-1427-4b6e-bdb7-e521701630fb",
   "metadata": {
    "tags": []
   },
   "outputs": [],
   "source": [
    "fig = px.sunburst(df_compare, path=['AGJournal', 'JournalTypeLabel', 'notAGJournal'], \n",
    "                  )\n",
    "fig.update_layout(uniformtext=dict(minsize=10, mode='hide'))\n",
    "#fig.show()\n",
    "fig.write_html('viz/community_sunburst.html', auto_open=True)"
   ]
  },
  {
   "cell_type": "markdown",
   "id": "be66d0b6-de9a-46db-acb8-0a0a37d2f2ab",
   "metadata": {},
   "source": [
    "<font size=\"4\">As we computed the countries, we can check them out too</font>"
   ]
  },
  {
   "cell_type": "code",
   "execution_count": null,
   "id": "e82ec84d-8b49-4e9d-86bf-2ecc5e4afbf0",
   "metadata": {},
   "outputs": [],
   "source": [
    "df_compare['notAGcountry'].info"
   ]
  },
  {
   "cell_type": "code",
   "execution_count": null,
   "id": "85eb429f-84f8-495f-b27a-f2d7a79ed400",
   "metadata": {},
   "outputs": [],
   "source": [
    "fig1 = px.sunburst(df_compare, path=['countryAG', 'notAGcountry']\n",
    "                        )\n",
    "fig1.update_layout(uniformtext=dict(minsize=10, mode='hide'))\n",
    "#fig.show()\n",
    "fig1.write_html('viz/country_sunburst.html', auto_open=True)"
   ]
  },
  {
   "cell_type": "markdown",
   "id": "1c7d4a01-83f2-4d50-97f4-86abcfd26dfa",
   "metadata": {
    "jp-MarkdownHeadingCollapsed": true,
    "tags": []
   },
   "source": [
    "## to cut: Filter by Time (post 1960)"
   ]
  },
  {
   "cell_type": "code",
   "execution_count": null,
   "id": "cd6da518-32db-4f7d-813d-431a067e6700",
   "metadata": {},
   "outputs": [],
   "source": []
  },
  {
   "cell_type": "code",
   "execution_count": null,
   "id": "5b277a47-c39f-440c-9ebf-6a862ea16dfa",
   "metadata": {},
   "outputs": [],
   "source": [
    "import plotly.express as px\n",
    "import pandas as pd\n",
    "vendors = [\"A\", \"B\", \"C\", \"D\", None, \"E\", \"F\", \"G\", \"H\", None]\n",
    "sectors = [\"Tech\", \"Tech\", \"Finance\", \"Finance\", \"Other\",\n",
    "           \"Tech\", \"Tech\", \"Finance\", \"Finance\", \"Other\"]\n",
    "regions = [\"North\", \"North\", \"North\", \"North\", \"North\",\n",
    "           \"South\", \"South\", \"South\", \"South\", \"South\"]\n",
    "sales = [1, 3, 2, 4, 1, 2, 2, 1, 4, 1]\n",
    "df = pd.DataFrame(\n",
    "    dict(vendors=vendors, sectors=sectors, regions=regions, sales=sales)\n",
    ")\n",
    "print(df)\n",
    "fig = px.sunburst(df, path=['regions', 'sectors', 'vendors'], values='sales')\n",
    "fig.show()"
   ]
  },
  {
   "cell_type": "code",
   "execution_count": null,
   "id": "8650a31e-0706-495f-a61f-673f6d5219c2",
   "metadata": {},
   "outputs": [],
   "source": []
  },
  {
   "cell_type": "code",
   "execution_count": null,
   "id": "09da9a70-4a39-4b43-a527-4f5ef5844300",
   "metadata": {},
   "outputs": [],
   "source": [
    "\n",
    "post1960 = (df1['year'] > 1960) \n",
    "df_post1960 = df1.loc[post1960]\n",
    "\n",
    "df_post1960[\"cluster\"].nunique()\n",
    "\n",
    "df_post1960.drop_duplicates(subset=['identifier'], inplace=True)\n",
    "df_post1960.to_csv('csv/df_post1960.csv', index=False)"
   ]
  }
 ],
 "metadata": {
  "kernelspec": {
   "display_name": "Python 3 (ipykernel)",
   "language": "python",
   "name": "python3"
  },
  "language_info": {
   "codemirror_mode": {
    "name": "ipython",
    "version": 3
   },
   "file_extension": ".py",
   "mimetype": "text/x-python",
   "name": "python",
   "nbconvert_exporter": "python",
   "pygments_lexer": "ipython3",
   "version": "3.10.8"
  }
 },
 "nbformat": 4,
 "nbformat_minor": 5
}
