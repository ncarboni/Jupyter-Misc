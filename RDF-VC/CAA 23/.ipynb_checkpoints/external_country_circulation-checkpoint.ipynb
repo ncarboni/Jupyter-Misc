{
 "cells": [
  {
   "cell_type": "markdown",
   "id": "61b4a4a7-f1de-4ea9-9d7e-f94c086c9279",
   "metadata": {},
   "source": [
    "# Community detection"
   ]
  },
  {
   "cell_type": "markdown",
   "id": "26e13268-c1ad-4b58-8d02-fc9cf2f750a1",
   "metadata": {},
   "source": [
    "<font size=\"4\">which journal(s) initiate(s) chains of circulations outside the AG community</font>"
   ]
  },
  {
   "cell_type": "code",
   "execution_count": 83,
   "id": "92643912-2714-417c-a1a1-063570cebac1",
   "metadata": {},
   "outputs": [],
   "source": [
    "from SPARQLWrapper import SPARQLWrapper, JSON\n",
    "import pandas as pd\n",
    "import sparql_dataframe\n",
    "import geopandas as gpd\n",
    "from shapely import wkt\n",
    "import matplotlib.pyplot as plt\n",
    "import folium\n",
    "import VizKG.visualize as vkg\n",
    "import plotly.express as px\n",
    "from IPython.display import HTML, Image"
   ]
  },
  {
   "cell_type": "code",
   "execution_count": 84,
   "id": "24de7cd0-ac2d-4fe4-a895-2f60c02eb14d",
   "metadata": {},
   "outputs": [],
   "source": [
    "endpoint = \"http://localhost:3030/VisualContagions/sparql\""
   ]
  },
  {
   "cell_type": "markdown",
   "id": "ecf0f3e2-8c69-4a53-9760-bc735a185290",
   "metadata": {},
   "source": [
    "<font size=\"4\">To understand the impact of the AG in other types of publications/communities, we search for clusters that have both images from AG journals as well as images NOT from AG journals</font>"
   ]
  },
  {
   "cell_type": "code",
   "execution_count": 85,
   "id": "82cb2a60-18a9-4035-af30-4f1169d5da6c",
   "metadata": {},
   "outputs": [],
   "source": [
    "q =\"\"\"\n",
    "\n",
    "PREFIX crmdig: <http://www.ics.forth.gr/isl/CRMdig/>\n",
    "PREFIX frbroo: <http://iflastandards.info/ns/fr/frbr/frbroo/>\n",
    "PREFIX crm: <http://www.cidoc-crm.org/cidoc-crm/>\n",
    "PREFIX rdf: <http://www.w3.org/1999/02/22-rdf-syntax-ns#>\n",
    "PREFIX rdfs: <http://www.w3.org/2000/01/rdf-schema#>\n",
    "PREFIX aat: <http://vocab.getty.edu/aat/>\n",
    "\n",
    "\n",
    "SELECT DISTINCT ?cluster WHERE {\n",
    "\n",
    "  \n",
    "\tVALUES ?avantgarde { <https://lod.unige.ch/vc/type/988EE2E2-172C-3104-8DAA-B4D629E814AE> } .\n",
    "\t\n",
    "\n",
    "\t\t?cluster crm:P148_has_component ?image ;\n",
    "           \tcrm:P1_is_identified_by ?identifier .\n",
    "\t\t?image crm:P128i_is_carried_by ?issue . \n",
    "\t\t?issue crm:P2_has_type ?avantgarde;\n",
    "\t\t\t\trdfs:label ?AGJournal.  \n",
    "\n",
    "\n",
    "\t\n",
    "\t\t?cluster crm:P148_has_component ?image1 . \n",
    "\t\t?image1 crm:P128i_is_carried_by ?issue1 . \n",
    "\t\t?issue1 crm:P2_has_type ?type ;\n",
    "\t\t\t\trdfs:label ?notAGJournal .\n",
    "\t\t?type rdfs:label ?JournalTypeLabel .\n",
    "\n",
    "\t\tFILTER (contains(str(?type), \"https://lod.unige.ch/vc/type/\"))\n",
    "\t\tFILTER (?type != ?avantgarde)\n",
    "\n",
    "# Trashy cluster not useful for the analysis\n",
    "\n",
    "\tFILTER NOT EXISTS {\n",
    "                         VALUES ?trash {\n",
    "\n",
    "\n",
    "<https://visualcontagions.unige.ch/explore/duplicates/clusters/0000140031d34e7f32f8fd1bd1734060214c3ad24b96e367e6c7ac7b2af6e527cc8c34e8>\n",
    "<https://visualcontagions.unige.ch/explore/duplicates/clusters/00000f00f2517854b489d2bdd53b690c5ff830c0c9f1aad4b60a27941f7781267ef1cf6d>\n",
    "<https://visualcontagions.unige.ch/explore/duplicates/clusters/00000500e18f2dac9c45156004ab5cb9939ea646d784722ff6c1ffac5bc37ca091252e43>\n",
    "<https://visualcontagions.unige.ch/explore/duplicates/clusters/000005009220cc1b213b05cab3efc43f0e4561a36e216780fd363dc3ead1f01368b33892>\n",
    "<https://visualcontagions.unige.ch/explore/duplicates/clusters/0000040077e6a6c83e14343f6f6640aeeda400ff79c66e15558495f38a570229ad9088da>\n",
    "<https://visualcontagions.unige.ch/explore/duplicates/clusters/000004001433a294563676e3499ab3f3877fb7c388dff9a5b91fc17a69d60ea565814536>\n",
    "<https://visualcontagions.unige.ch/explore/duplicates/clusters/00000300c7466ff7352ae34a7341e0bb573f1537bba5788f9698df593f00176adf8ed978>\n",
    "<https://visualcontagions.unige.ch/explore/duplicates/clusters/00000300b2355781a9e3f1dbdb79ffa77e67ad7da85ddddc1b790f4aefed59d2e45ee6a7>\n",
    "<https://visualcontagions.unige.ch/explore/duplicates/clusters/0000030063404a0b0f25c4bc11f2589dcc74b4b1e0989ce265572a46d13a6f91eb6a9f1e>\n",
    "<https://visualcontagions.unige.ch/explore/duplicates/clusters/0000030039ac3a0cdc635027c14d500278366e1e2d767267aa062f58c359d0841ac6f37d>\n",
    "<https://visualcontagions.unige.ch/explore/duplicates/clusters/00000300368959fdd010d08813b6d7d34ab791758478818f879759c1f3c6455c1983d25a>\n",
    "<https://visualcontagions.unige.ch/explore/duplicates/clusters/000003002d62f3a250c7310a2440b06f3de7c606651e206c3579454081a24a89d1878351>                         \n",
    "<https://visualcontagions.unige.ch/explore/duplicates/clusters/00000300019e9b2c78d92b6f56d6d01b99fc4c722d55e9e9872dda2e634f2b0cdd02cfb8>\n",
    "<https://visualcontagions.unige.ch/explore/duplicates/clusters/00000200e0b8e0d04e36ee62cb79253ae7fcc151fa922fe902ab36885f4abcc47fdcca4e>\n",
    "<https://visualcontagions.unige.ch/explore/duplicates/clusters/000002006b69c25c491d4e7aca5e62f66747d03cb47abb810859c34e66df831c293fa8a8>\n",
    "<https://visualcontagions.unige.ch/explore/duplicates/clusters/0000020061273c01a5333060afef4bfd7f379cd01afb5eeb849390d3ea85b2479d84a08f>\n",
    "<https://visualcontagions.unige.ch/explore/duplicates/clusters/000002002cb36192f01631ce9d01048c27246acbb60f2fde7d2d4bfdfed1804c31b4bdb9>                         \n",
    "<https://visualcontagions.unige.ch/explore/duplicates/clusters/0000020021801a7508f0295ee7be2a86ea9763bfb0078aef44c89552351caea2aea3a3ea>\n",
    "<https://visualcontagions.unige.ch/explore/duplicates/clusters/00000600c6af7d32a5d172ca59bb1997a4ef6e983d60d06f5b3a3755fbc65ae1957ce23c>\n",
    "<https://visualcontagions.unige.ch/explore/duplicates/clusters/00000700fb49c1f48487902b4437e16cc2d78b89e3a98f52c8f65c0e4eedd85d80e217b1>\n",
    "<https://visualcontagions.unige.ch/explore/duplicates/clusters/00000700fb79995772c00bb4d73d2b5e91c91d7781e7268c7c0b6a2606e4c01cfcf66ac5>\n",
    "<https://visualcontagions.unige.ch/explore/duplicates/clusters/0000090015ff635e61946bf01b675ffc6877c07c6e7725f68a3839a2f852f62ec67995dc>\n",
    "<https://visualcontagions.unige.ch/explore/duplicates/clusters/00000a00a7abfe7063f803a5dcd90cc8d54008e7a3e69f07e487a0fd40b1b279bc79eef8>\n",
    "<https://visualcontagions.unige.ch/explore/duplicates/clusters/00000a00feca4edc94d98d05c7a13833c7564e324cd20be9051832da916e9d70ae07ad1f>\n",
    "<https://visualcontagions.unige.ch/explore/duplicates/clusters/00000a0065d77d414af0128714e423067fdd3a73230699c7194f079ace217c302713f314>\n",
    "<https://visualcontagions.unige.ch/explore/duplicates/clusters/00000e00aa775ab9acbab969b79714d2d78737b258410af160aec663e8c3e407a849e288>\n",
    "<https://visualcontagions.unige.ch/explore/duplicates/clusters/0000180098a1d3bd96c00a6c0f612ed33db5e18664e5e44e29e899c739cb46efb5c9359b>\n",
    "<https://visualcontagions.unige.ch/explore/duplicates/clusters/00001800c35c11877c73151184ef51a631b37e6e0f026c72ba48b32e4789422e11c09fbf>\n",
    "<https://visualcontagions.unige.ch/explore/duplicates/clusters/00001b00906fbaf5aa338463ada02b2778d69154a89525e13026eadc19cd82862a95cd69>\n",
    "<https://visualcontagions.unige.ch/explore/duplicates/clusters/00002200a85e3117d932d5ef5a9c5d178e43a8d6dc07bde665a426d313568bfa5ea3a9f9>\n",
    "<https://visualcontagions.unige.ch/explore/duplicates/clusters/00002500745277a76e3c39dfaee431f9ac5c0b4520e1855440cddfdec90e7d5882af5063> \n",
    "<https://visualcontagions.unige.ch/explore/duplicates/clusters/00003c0079fca5aa32f21f894f60a5dd25ba17e720c469af10a6e4b1df453de30fe93e17> \n",
    "<https://visualcontagions.unige.ch/explore/duplicates/clusters/00003d00c899a5073ac5851b4552ef41cddb8a59959cbaff5aede5cbd5aa624f13984e04> \n",
    "<https://visualcontagions.unige.ch/explore/duplicates/clusters/00001e002b2b66d8341fe8685ad3b9df6bc17590236bead713432c79bc2914b23e888c73> \n",
    "<https://visualcontagions.unige.ch/explore/duplicates/clusters/0000490021648c6fcce403be16b80d654186ffafd7635e4e0906a65516aff956179a61d3> \n",
    "<https://visualcontagions.unige.ch/explore/duplicates/clusters/0000030040d2720fb2fd94a38df5dc5b0d55e14309962e6c764e23a54a819816cdfe9c20> \n",
    "<https://visualcontagions.unige.ch/explore/duplicates/clusters/000015004c44ed7f0e7150811be78d4b930ef72322476f4d9cadcf1f73b08117bae435a1> \n",
    "<https://visualcontagions.unige.ch/explore/duplicates/clusters/0000e8009061dc5b29fb17872c9c13ac1a64fe42e8b94af2481e59886f28d0156fde0ceb> \n",
    "<https://visualcontagions.unige.ch/explore/duplicates/clusters/00026200b3d151e5c855c651b2a0bea2c9116be1a5e5b7141bacc846b12d3708338ff615> \n",
    "<https://visualcontagions.unige.ch/explore/duplicates/clusters/0000ca00a432dfdd48c6534088f51065c6f2983133e467314d5d6a4560ae5ea16de6f359> \n",
    "<https://visualcontagions.unige.ch/explore/duplicates/clusters/0000e8009061dc5b29fb17872c9c13ac1a64fe42e8b94af2481e59886f28d0156fde0ceb> \n",
    "<https://visualcontagions.unige.ch/explore/duplicates/clusters/00008a005e931cc1f1dc0dc0f82d3ee457c5b642600420ae9313b50ad6c0d75b41b8f1c0> \n",
    "<https://visualcontagions.unige.ch/explore/duplicates/clusters/0001bd00a370039869e9e1bb229cd73ddc231b51110e135de82d755ef72e3b367a5411e9> \n",
    "<https://visualcontagions.unige.ch/explore/duplicates/clusters/000109002f020235176a28018a0944ed84b4b7ddbed8737474caaa5c0b54922a4cd6073c> \n",
    "<https://visualcontagions.unige.ch/explore/duplicates/clusters/00024100820c145c252454de492f79784d2c1df4b3a13d9eabf0179f0e0305b516a764ba> \n",
    "<https://visualcontagions.unige.ch/explore/duplicates/clusters/0003ec00036e6aa8355e0f69196bf6006defd506c93e04722b54cf7831c66c3c3b8dbb05> \n",
    "<https://visualcontagions.unige.ch/explore/duplicates/clusters/00000200f89ef4fb7b639ce5e811ec9ec425c3da3b92dd5edb5d9e64fbf8d010f9d96d71> \n",
    "<https://visualcontagions.unige.ch/explore/duplicates/clusters/0000040066b73cf2a0b0742a0aceecc4dd1724b52dc7afbdc4b48432ee3f0336124798aa> \n",
    "<https://visualcontagions.unige.ch/explore/duplicates/clusters/00001200bed2a9ade1689744b661b58c1d93bcd442cbeafcf07b6460d0df1b33d65f5b86> \n",
    "<https://visualcontagions.unige.ch/explore/duplicates/clusters/000022005d01a84e38421213b8816fd78e4aef0890445f65f81de2ee1459980a6335942a> \n",
    "<https://visualcontagions.unige.ch/explore/duplicates/clusters/00001600fe63944181de71b69fc3900867dc30611de913a214c5d42ac2e7ce3dd7cff99f> \n",
    "<https://visualcontagions.unige.ch/explore/duplicates/clusters/000012009d66187e47b439dd2c2e6668dd9945209f40685c7039c56c563a4aa9bbfa9718> \n",
    "<https://visualcontagions.unige.ch/explore/duplicates/clusters/00000d0069b0d3bd802ae948c1f53b96391afeb46fcd505e999cb56cd37406508e4ef418> \n",
    "<https://visualcontagions.unige.ch/explore/duplicates/clusters/00000b002057ee6db2a8ea72c04e36379e7b035a4d2911a1155b5652230551866825ab90> \n",
    "<https://visualcontagions.unige.ch/explore/duplicates/clusters/00000b0003d9d58d012451307b2ef5fbd75af31eec0c5f1afcdefb10b4ab8fbc38d15615> \n",
    "<https://visualcontagions.unige.ch/explore/duplicates/clusters/00000a00609f4e0b53f5b2ca7afaea13c7a3ba187b05ae3bdd1108598e5226a7aaf18ded> \n",
    "<https://visualcontagions.unige.ch/explore/duplicates/clusters/000008005b033c554cfd743ed238cd05b35f46fe7de56720622971b00aecaf985896fe4a> \n",
    "<https://visualcontagions.unige.ch/explore/duplicates/clusters/00000600d4e85eaf39fb676e999b8d2466a4455d48d70791ff2d4dd1cc4653c248264df3> \n",
    "<https://visualcontagions.unige.ch/explore/duplicates/clusters/00002a00a60bf43cf1fb052165221ee1727e977b2ecf99f820cbbd426d12c6aa6a37d9e4> \n",
    "<https://visualcontagions.unige.ch/explore/duplicates/clusters/0000310098549f748176d2f4efedf76773dca2aafeaf8db5f746daf37a50dd3d0819dbb3> \n",
    "<https://visualcontagions.unige.ch/explore/duplicates/clusters/0003d500d8362a66c04fe8273b00d9470929fd918a6dc6c4395f060e0c5e270f12f54f5c> \n",
    "<https://visualcontagions.unige.ch/explore/duplicates/clusters/0003ff00a6da95a6b61b8c47220d9839b7b4b6afe26daad02ee0c0c291c40ad1bb0bec90> \n",
    "<https://visualcontagions.unige.ch/explore/duplicates/clusters/0000c9000f961bd877cdc346bd51b76a74b698924ae6960e3bbfa0986e7aea7da730930c> \n",
    "<https://visualcontagions.unige.ch/explore/duplicates/clusters/0000d000ecf8a0329d2530d3eb601e077c0e5c298db100b8316c0af9232e41e8a7e8e4ef> \n",
    "<https://visualcontagions.unige.ch/explore/duplicates/clusters/000403008f37a6852f6339eefe0e74225b20553b5d641b32015b15d40ca4d216a540ae2f> \n",
    "<https://visualcontagions.unige.ch/explore/duplicates/clusters/00002400d7b4ea535865b256e1c13f0d6505182ead425183c8f919bfa3309aab1dae43dc> \n",
    "<https://visualcontagions.unige.ch/explore/duplicates/clusters/00001f00c18ad27c34a66610ece997934ce4bc1aa5fbcdad562e58a52ab86792352bfb9c> \n",
    "<https://visualcontagions.unige.ch/explore/duplicates/clusters/00002b000918272590bc01401e6367c6448a222445fe13cabec0a2a38a7b38e598cea622> \n",
    "<https://visualcontagions.unige.ch/explore/duplicates/clusters/000057008d59ea30b6175a9c5c32ebf3caa2c27cce0d569fd3b2a899ebf0107086c3a197> \n",
    "<https://visualcontagions.unige.ch/explore/duplicates/clusters/000028007bf1c23529418f9fba6de2955caa8fa4e1572632151c41a9f1b20c1c5a45a1c5> \n",
    "<https://visualcontagions.unige.ch/explore/duplicates/clusters/00005a009d47a1932fcbbe7ff04ac3017fa6d167f06fe3287477d6c1cedae50451cd67dc> \n",
    "<https://visualcontagions.unige.ch/explore/duplicates/clusters/00001f0087307813ef1d16a6def5d96b8b6550a707da4fd6702aa64d8425b29e6826f049> \n",
    "<https://visualcontagions.unige.ch/explore/duplicates/clusters/00001c0000968f38146238bab2f376c40b0fca62e734f151a85e2ecce4981e0050eb57a0> \n",
    "<https://visualcontagions.unige.ch/explore/duplicates/clusters/00001d00ffc088f4f254a86d70e0a3495bbf5f288b1373e96c6875d487cd1b14076e2702> \n",
    "<https://visualcontagions.unige.ch/explore/duplicates/clusters/00001d000d01d183fa765191f6028c4b69a7e1c9c9ed1d9a3ae14bb9a4731b5172f4b337> \n",
    "<https://visualcontagions.unige.ch/explore/duplicates/clusters/00001c002016002f400721bfa0a32f16e887e64cc4e092cd626a7fb7c426545e0757e7f1> \n",
    "<https://visualcontagions.unige.ch/explore/duplicates/clusters/0002910088db3f58b1c573c281f266c695c21d421c9337abca57d4a51440e13a2f9c5893> \n",
    "<https://visualcontagions.unige.ch/explore/duplicates/clusters/00028200ce1d42e579bb46d53b1b038b5f23bf88a8057f5d5cb9806d9c87dee28477ecc4>\n",
    "} .\n",
    "    ?cluster crm:P1_is_identified_by ?trash . } \n",
    "\n",
    "}\n",
    "\n",
    "\n",
    "\n",
    "\"\"\""
   ]
  },
  {
   "cell_type": "code",
   "execution_count": 86,
   "id": "c5f91f64-f24e-43fe-bf32-c8fee009973a",
   "metadata": {},
   "outputs": [],
   "source": [
    "df = sparql_dataframe.get(endpoint, q)"
   ]
  },
  {
   "cell_type": "code",
   "execution_count": 87,
   "id": "3b3f8c71-b3e7-412e-8e04-de7559e52691",
   "metadata": {},
   "outputs": [
    {
     "data": {
      "text/html": [
       "<div>\n",
       "<style scoped>\n",
       "    .dataframe tbody tr th:only-of-type {\n",
       "        vertical-align: middle;\n",
       "    }\n",
       "\n",
       "    .dataframe tbody tr th {\n",
       "        vertical-align: top;\n",
       "    }\n",
       "\n",
       "    .dataframe thead th {\n",
       "        text-align: right;\n",
       "    }\n",
       "</style>\n",
       "<table border=\"1\" class=\"dataframe\">\n",
       "  <thead>\n",
       "    <tr style=\"text-align: right;\">\n",
       "      <th></th>\n",
       "      <th>cluster</th>\n",
       "    </tr>\n",
       "  </thead>\n",
       "  <tbody>\n",
       "    <tr>\n",
       "      <th>0</th>\n",
       "      <td>https://lod.unige.ch/vc/cluster/000002008252503af5df48b7bf1635b8e9883dc91e66f70a1efcd2b9a86d8e7428cd12d2</td>\n",
       "    </tr>\n",
       "    <tr>\n",
       "      <th>1</th>\n",
       "      <td>https://lod.unige.ch/vc/cluster/human/296</td>\n",
       "    </tr>\n",
       "    <tr>\n",
       "      <th>2</th>\n",
       "      <td>https://lod.unige.ch/vc/cluster/human/203</td>\n",
       "    </tr>\n",
       "    <tr>\n",
       "      <th>3</th>\n",
       "      <td>https://lod.unige.ch/vc/cluster/human/298</td>\n",
       "    </tr>\n",
       "    <tr>\n",
       "      <th>4</th>\n",
       "      <td>https://lod.unige.ch/vc/cluster/0000030095d62964d789f85b9ca76bd7f313d7ac297033e38e3a954f37722486b00ab43b</td>\n",
       "    </tr>\n",
       "    <tr>\n",
       "      <th>...</th>\n",
       "      <td>...</td>\n",
       "    </tr>\n",
       "    <tr>\n",
       "      <th>1435</th>\n",
       "      <td>https://lod.unige.ch/vc/cluster/000003000479748e8c32d56abb9532cc521e6af2885821475b20a24d2f759a2cc912c06c</td>\n",
       "    </tr>\n",
       "    <tr>\n",
       "      <th>1436</th>\n",
       "      <td>https://lod.unige.ch/vc/cluster/00000200a2198eed7b5190bc425cc3f242a99f95b4b320c20229d8ae5f4e0620f3f5c442</td>\n",
       "    </tr>\n",
       "    <tr>\n",
       "      <th>1437</th>\n",
       "      <td>https://lod.unige.ch/vc/cluster/00000200104c0a4960491d282f5c0388029cee7ccea579b2e751dfc66cc2eb6bf94df3d2</td>\n",
       "    </tr>\n",
       "    <tr>\n",
       "      <th>1438</th>\n",
       "      <td>https://lod.unige.ch/vc/cluster/0000020030889d017f96819cf914b75d5eeb9567be200277f3d421a39c835628c38e4ea8</td>\n",
       "    </tr>\n",
       "    <tr>\n",
       "      <th>1439</th>\n",
       "      <td>https://lod.unige.ch/vc/cluster/000002000c26e2dc062e8b94e8e5fd41f7d087039f1203d38dea457d74e78dde1e5caea5</td>\n",
       "    </tr>\n",
       "  </tbody>\n",
       "</table>\n",
       "<p>1440 rows × 1 columns</p>\n",
       "</div>"
      ],
      "text/plain": [
       "                                                                                                       cluster\n",
       "0     https://lod.unige.ch/vc/cluster/000002008252503af5df48b7bf1635b8e9883dc91e66f70a1efcd2b9a86d8e7428cd12d2\n",
       "1                                                                    https://lod.unige.ch/vc/cluster/human/296\n",
       "2                                                                    https://lod.unige.ch/vc/cluster/human/203\n",
       "3                                                                    https://lod.unige.ch/vc/cluster/human/298\n",
       "4     https://lod.unige.ch/vc/cluster/0000030095d62964d789f85b9ca76bd7f313d7ac297033e38e3a954f37722486b00ab43b\n",
       "...                                                                                                        ...\n",
       "1435  https://lod.unige.ch/vc/cluster/000003000479748e8c32d56abb9532cc521e6af2885821475b20a24d2f759a2cc912c06c\n",
       "1436  https://lod.unige.ch/vc/cluster/00000200a2198eed7b5190bc425cc3f242a99f95b4b320c20229d8ae5f4e0620f3f5c442\n",
       "1437  https://lod.unige.ch/vc/cluster/00000200104c0a4960491d282f5c0388029cee7ccea579b2e751dfc66cc2eb6bf94df3d2\n",
       "1438  https://lod.unige.ch/vc/cluster/0000020030889d017f96819cf914b75d5eeb9567be200277f3d421a39c835628c38e4ea8\n",
       "1439  https://lod.unige.ch/vc/cluster/000002000c26e2dc062e8b94e8e5fd41f7d087039f1203d38dea457d74e78dde1e5caea5\n",
       "\n",
       "[1440 rows x 1 columns]"
      ]
     },
     "execution_count": 87,
     "metadata": {},
     "output_type": "execute_result"
    }
   ],
   "source": [
    "df"
   ]
  },
  {
   "cell_type": "code",
   "execution_count": 88,
   "id": "8f4bf7b8-b571-49b9-93fd-5fae05115669",
   "metadata": {},
   "outputs": [],
   "source": [
    "df['cluster'] = '<' + df['cluster'].astype(str)\n",
    "df['cluster'] = df['cluster'].astype(str) +  '>' \n",
    "cluster = df[\"cluster\"].values.tolist()"
   ]
  },
  {
   "cell_type": "code",
   "execution_count": 89,
   "id": "bb72bf35-ac51-484b-90d7-2ec9790e42ab",
   "metadata": {},
   "outputs": [
    {
     "name": "stdout",
     "output_type": "stream",
     "text": [
      "We retrieved 1440 clusters with mix of images coming from AG journal and not AG journal\n"
     ]
    }
   ],
   "source": [
    "n_cluster = len(cluster)\n",
    "print(\"We retrieved {} clusters with mix of images coming from AG journal and not AG journal\".format(n_cluster))"
   ]
  },
  {
   "cell_type": "code",
   "execution_count": 90,
   "id": "ae6c37bc-4865-44b9-bd4d-12341dc226aa",
   "metadata": {},
   "outputs": [],
   "source": [
    "separator = ' '\n",
    "values = separator.join(cluster)"
   ]
  },
  {
   "cell_type": "code",
   "execution_count": 91,
   "id": "8579d2aa-03db-44b4-90aa-cca08165072b",
   "metadata": {},
   "outputs": [],
   "source": [
    "q1= \"\"\"\n",
    "    PREFIX crmdig: <http://www.ics.forth.gr/isl/CRMdig/>\n",
    "    PREFIX frbroo: <http://iflastandards.info/ns/fr/frbr/frbroo/>\n",
    "    PREFIX crm: <http://www.cidoc-crm.org/cidoc-crm/>\n",
    "    PREFIX rdf: <http://www.w3.org/1999/02/22-rdf-syntax-ns#>\n",
    "    PREFIX rdfs: <http://www.w3.org/2000/01/rdf-schema#>\n",
    "    PREFIX aat: <http://vocab.getty.edu/aat/>\n",
    "    PREFIX xsd: <http://www.w3.org/2001/XMLSchema#>\n",
    "    \n",
    "    SELECT DISTINCT ?cluster ?identifier ?image ?issueLabel ?countryLabel ?labelType ?cityLabel ?begin {\n",
    "    VALUES ?cluster { %s } .\n",
    "    \n",
    "    ?cluster crm:P148_has_component ?image ;\n",
    "           \tcrm:P1_is_identified_by ?identifier .\n",
    "            \n",
    "            ?image crm:P128i_is_carried_by ?issue . \n",
    "\t\t\n",
    "        ?issue crm:P108i_was_produced_by ?production ;\n",
    "                rdfs:label ?issueLabel ;\n",
    "                crm:P2_has_type ?typeIssue .\n",
    "        ?typeIssue rdfs:label ?labelType .\n",
    "        \n",
    "        ?production crm:P4_has_time-span ?time ;\n",
    "                     crm:P7_took_place_at ?country .\n",
    "                     \n",
    "        ?time a crm:E52_Time-Span;\n",
    "                crm:P81a_end_of_the_begin ?begin . \n",
    "        \n",
    "        ?country crm:P2_has_type aat:300387506 ;\n",
    "                rdfs:label ?countryLabel .\n",
    "        \n",
    "        OPTIONAL {\n",
    "        \n",
    "        ?production crm:P7_took_place_at ?city .\n",
    "        ?city crm:P2_has_type aat:300008389 ;\n",
    "                rdfs:label ?cityLabel .\n",
    "        }\n",
    "          \n",
    "    }    \n",
    "    \n",
    "\"\"\" % values"
   ]
  },
  {
   "cell_type": "code",
   "execution_count": 92,
   "id": "11bfbb5c-73ff-4e89-af28-c46e5b1d7716",
   "metadata": {},
   "outputs": [],
   "source": [
    "df1 = sparql_dataframe.get(endpoint, q1)"
   ]
  },
  {
   "cell_type": "markdown",
   "id": "3354fe69-768f-45cd-9913-06488d93beaa",
   "metadata": {},
   "source": [
    "## External perspective"
   ]
  },
  {
   "cell_type": "markdown",
   "id": "91fd5687-a328-4a02-ba06-9d6fb853c212",
   "metadata": {},
   "source": [
    "<font size=\"4\">The result of the query give us a list of cluster that have at least one AG image in it. At this stage we sort the results and we extract the year of publication.</font>"
   ]
  },
  {
   "cell_type": "code",
   "execution_count": 93,
   "id": "bc743a24-3171-4c74-a18b-6c088b771340",
   "metadata": {},
   "outputs": [],
   "source": [
    "df1['Datetime'] = pd.to_datetime(df1['begin'])\n",
    "df1['year'] = pd.DatetimeIndex(df1['begin']).year"
   ]
  },
  {
   "cell_type": "markdown",
   "id": "9b4383e0-3cef-47bf-b610-18a2c8b93cac",
   "metadata": {},
   "source": [
    "## Analysing results"
   ]
  },
  {
   "cell_type": "code",
   "execution_count": 94,
   "id": "f870ddb5-22c0-400a-a597-1088ed39c13b",
   "metadata": {},
   "outputs": [],
   "source": [
    "df1.sort_values(['identifier', 'Datetime'], ascending=[True, True])\n",
    "df1.to_csv('csv/community.csv', index=False)"
   ]
  },
  {
   "cell_type": "markdown",
   "id": "66b371d1-6202-4c23-b891-2dda64389eb3",
   "metadata": {},
   "source": [
    "<font size=\"4\">We select only the AG image that start chains of circulation. We select the earlier published image in the cluster and we filter them for AG.</font>"
   ]
  },
  {
   "cell_type": "code",
   "execution_count": 95,
   "id": "d510bb54-7e57-4816-b8a1-fd7e07f4e800",
   "metadata": {},
   "outputs": [],
   "source": [
    "p_images = df1.groupby('identifier', group_keys=False).apply(lambda g: g[g['begin'].eq(g['begin'].min())].sample(n=1))"
   ]
  },
  {
   "cell_type": "code",
   "execution_count": 96,
   "id": "01e0a0a3-99bf-4d59-b64e-04a654b0882f",
   "metadata": {},
   "outputs": [],
   "source": [
    "p_ag = p_images.query(\"labelType == 'Avant-garde Journal'\")"
   ]
  },
  {
   "cell_type": "code",
   "execution_count": 97,
   "id": "b6b53110-e8ad-4f46-aca7-9c3df9569d9c",
   "metadata": {},
   "outputs": [],
   "source": [
    "p_ag.to_csv('csv/p_ag.csv', index=False)"
   ]
  },
  {
   "cell_type": "markdown",
   "id": "fbcb9230-6c4a-4348-80b3-302d0f1653ed",
   "metadata": {},
   "source": [
    "## Visualise the impact of a Journal"
   ]
  },
  {
   "cell_type": "code",
   "execution_count": 98,
   "id": "aac25ce6-fd42-4589-9c2d-133876c40969",
   "metadata": {},
   "outputs": [],
   "source": [
    "p_ag.rename({ 'countryLabel': 'Country'}, axis=1, inplace=True)"
   ]
  },
  {
   "cell_type": "code",
   "execution_count": 99,
   "id": "4dd8b083-a367-4730-b3e8-f8bb6148c264",
   "metadata": {},
   "outputs": [],
   "source": [
    "p_ag['count_journal'] = p_ag.groupby(['issueLabel'])['identifier'].transform('count')\n",
    "p_ag.to_csv('csv/p_ag.csv', index=False)"
   ]
  },
  {
   "cell_type": "code",
   "execution_count": 100,
   "id": "21605d41-85b3-4b1d-b4b7-069d6a2a7a2a",
   "metadata": {},
   "outputs": [],
   "source": [
    "top = p_ag[p_ag['count_journal'] >= 10]"
   ]
  },
  {
   "cell_type": "code",
   "execution_count": 101,
   "id": "563f0b16-26a5-4509-8338-309f603001ca",
   "metadata": {},
   "outputs": [
    {
     "data": {
      "application/vnd.plotly.v1+json": {
       "config": {
        "plotlyServerURL": "https://plot.ly"
       },
       "data": [
        {
         "alignmentgroup": "True",
         "bingroup": "x",
         "hovertemplate": "Country=Germany<br>impact of a AG journal outside the AG=%{x}<br>count=%{y}<extra></extra>",
         "legendgroup": "Germany",
         "marker": {
          "color": "#636efa",
          "pattern": {
           "shape": ""
          }
         },
         "name": "Germany",
         "offsetgroup": "Germany",
         "orientation": "v",
         "showlegend": true,
         "textangle": 0,
         "textfont": {
          "size": 12
         },
         "textposition": "outside",
         "type": "histogram",
         "x": [
          "Der Sturm",
          "Der Sturm",
          "Die Form",
          "Der Sturm",
          "Die Form",
          "Die Form",
          "Die Form",
          "Die Form",
          "Die Form",
          "Die Form",
          "Die Form",
          "Die Form",
          "Die Form",
          "Die Form",
          "Die Form",
          "Die Form",
          "Die Form",
          "Die Form",
          "Die Form",
          "Die Form",
          "Die Form",
          "Die Form",
          "Die Form",
          "Die Form",
          "Die Form",
          "Die Form",
          "Die Form",
          "Die Form",
          "Die Form",
          "Die Form",
          "Die Form",
          "Die Form",
          "Die Form",
          "Die Form",
          "Die Form",
          "Die Form",
          "Die Form",
          "Die Form",
          "Die Form",
          "Die Form",
          "Die Form",
          "Die Form",
          "Die Form",
          "Die Form",
          "Die Form",
          "Die Form",
          "Die Form",
          "Die Form",
          "Die Form",
          "Die Form",
          "Die Form",
          "Die Form",
          "Die Form",
          "Die Form",
          "Die Form",
          "Die Form",
          "Die Form",
          "Die Form",
          "Die Form",
          "Die Form",
          "Die Form",
          "Die Form",
          "Die Form",
          "Die Form",
          "Die Form",
          "Die Form",
          "Die Form",
          "Der Sturm",
          "Die Form",
          "Die Form",
          "Die Form",
          "Die Form",
          "Die Form",
          "Die Form",
          "Die Form",
          "Die Form",
          "Die Form",
          "Die Form",
          "Die Form",
          "Die Form",
          "Die Form",
          "Die Form",
          "Die Form",
          "Die Form",
          "Der Sturm",
          "Die Form",
          "Der Sturm",
          "Die Form",
          "Die Form",
          "Die Form",
          "Die Form",
          "Die Form",
          "Die Form",
          "Die Form",
          "Die Form",
          "Die Form",
          "Die Form",
          "Die Form",
          "Die Form",
          "Die Form",
          "Die Form",
          "Die Form",
          "Die Form",
          "Die Form",
          "Die Form",
          "Die Form",
          "Die Form",
          "Die Form",
          "Der Sturm",
          "Die Form",
          "Die Form",
          "Die Form",
          "Die Form",
          "Die Form",
          "Die Form",
          "Die Form",
          "Die Form",
          "Die Form",
          "Die Form",
          "Die Form",
          "Die Form",
          "Die Form",
          "Die Form",
          "Die Form",
          "Der Sturm",
          "Die Form",
          "Die Form",
          "Die Form",
          "Die Form",
          "Die Form",
          "Der Sturm",
          "Die Form",
          "Die Form",
          "Die Form",
          "Die Form",
          "Die Form",
          "Die Form",
          "Die Form",
          "Die Form",
          "Die Form",
          "Die Form",
          "Die Form",
          "Die Form",
          "Die Form",
          "Die Form",
          "Die Form",
          "Die Form",
          "Die Form",
          "Die Form",
          "Die Form",
          "Die Form",
          "Der Sturm",
          "Die Form",
          "Der Sturm",
          "Die Form",
          "Der Sturm",
          "Der Sturm",
          "Die Form",
          "Die Form",
          "Die Form",
          "Die Form",
          "Die Form",
          "Der Sturm",
          "Die Form",
          "Die Form",
          "Die Form",
          "Der Sturm",
          "Die Form",
          "Die Form",
          "Die Form",
          "Die Form",
          "Die Form",
          "Die Form",
          "Die Form",
          "Die Form",
          "Die Form",
          "Die Form",
          "Die Form",
          "Die Form",
          "Die Form",
          "Die Form",
          "Die Form",
          "Die Form",
          "Die Form",
          "Die Form",
          "Die Form",
          "Die Form",
          "Die Form",
          "Die Form",
          "Die Form",
          "Die Form",
          "Die Form",
          "Der Sturm",
          "Die Form",
          "Die Form",
          "Die Form",
          "Der Sturm"
         ],
         "xaxis": "x",
         "yaxis": "y"
        },
        {
         "alignmentgroup": "True",
         "bingroup": "x",
         "hovertemplate": "Country=Netherlands<br>impact of a AG journal outside the AG=%{x}<br>count=%{y}<extra></extra>",
         "legendgroup": "Netherlands",
         "marker": {
          "color": "#EF553B",
          "pattern": {
           "shape": ""
          }
         },
         "name": "Netherlands",
         "offsetgroup": "Netherlands",
         "orientation": "v",
         "showlegend": true,
         "textangle": 0,
         "textfont": {
          "size": 12
         },
         "textposition": "outside",
         "type": "histogram",
         "x": [
          "De Stijl",
          "De Stijl",
          "De Stijl",
          "De Stijl",
          "De Stijl",
          "De Stijl",
          "De Stijl",
          "De Stijl",
          "De Stijl",
          "De Stijl",
          "De Stijl"
         ],
         "xaxis": "x",
         "yaxis": "y"
        },
        {
         "alignmentgroup": "True",
         "bingroup": "x",
         "hovertemplate": "Country=France<br>impact of a AG journal outside the AG=%{x}<br>count=%{y}<extra></extra>",
         "legendgroup": "France",
         "marker": {
          "color": "#00cc96",
          "pattern": {
           "shape": ""
          }
         },
         "name": "France",
         "offsetgroup": "France",
         "orientation": "v",
         "showlegend": true,
         "textangle": 0,
         "textfont": {
          "size": 12
         },
         "textposition": "outside",
         "type": "histogram",
         "x": [
          "L'Esprit nouveau (Paris. 1920)",
          "L'Esprit nouveau (Paris. 1920)",
          "Cahiers d'art (Paris)",
          "L'Esprit nouveau (Paris. 1920)",
          "L'Esprit nouveau (Paris. 1920)",
          "L'Esprit nouveau (Paris. 1920)",
          "Cahiers d'art (Paris)",
          "Cahiers d'art (Paris)",
          "Cahiers d'art (Paris)",
          "Cahiers d'art (Paris)",
          "Cahiers d'art (Paris)",
          "Cahiers d'art (Paris)",
          "Cahiers d'art (Paris)",
          "Cahiers d'art (Paris)",
          "Cahiers d'art (Paris)",
          "L'Esprit nouveau (Paris. 1920)",
          "Cahiers d'art (Paris)",
          "Cahiers d'art (Paris)",
          "L'Esprit nouveau (Paris. 1920)",
          "Cahiers d'art (Paris)",
          "Cahiers d'art (Paris)",
          "Cahiers d'art (Paris)",
          "Cahiers d'art (Paris)",
          "Cahiers d'art (Paris)",
          "Cahiers d'art (Paris)",
          "Cahiers d'art (Paris)",
          "Cahiers d'art (Paris)",
          "Cahiers d'art (Paris)",
          "Cahiers d'art (Paris)",
          "Cahiers d'art (Paris)",
          "L'Esprit nouveau (Paris. 1920)",
          "Cahiers d'art (Paris)",
          "Cahiers d'art (Paris)",
          "Cahiers d'art (Paris)",
          "Cahiers d'art (Paris)",
          "Cahiers d'art (Paris)",
          "Cahiers d'art (Paris)",
          "Cahiers d'art (Paris)",
          "Cahiers d'art (Paris)",
          "Cahiers d'art (Paris)",
          "Cahiers d'art (Paris)",
          "Cahiers d'art (Paris)",
          "Cahiers d'art (Paris)",
          "Cahiers d'art (Paris)",
          "Cahiers d'art (Paris)",
          "Cahiers d'art (Paris)",
          "Cahiers d'art (Paris)",
          "Cahiers d'art (Paris)",
          "L'Esprit nouveau (Paris. 1920)",
          "L'Esprit nouveau (Paris. 1920)",
          "Cahiers d'art (Paris)",
          "L'Esprit nouveau (Paris. 1920)",
          "Cahiers d'art (Paris)",
          "Cahiers d'art (Paris)",
          "Cahiers d'art (Paris)",
          "Cahiers d'art (Paris)",
          "Cahiers d'art (Paris)",
          "Cahiers d'art (Paris)",
          "Cahiers d'art (Paris)",
          "L'Esprit nouveau (Paris. 1920)",
          "Cahiers d'art (Paris)",
          "Cahiers d'art (Paris)",
          "Cahiers d'art (Paris)",
          "Cahiers d'art (Paris)",
          "Cahiers d'art (Paris)",
          "Cahiers d'art (Paris)",
          "Cahiers d'art (Paris)",
          "Cahiers d'art (Paris)",
          "Cahiers d'art (Paris)",
          "Cahiers d'art (Paris)",
          "Cahiers d'art (Paris)",
          "Cahiers d'art (Paris)",
          "Cahiers d'art (Paris)",
          "L'Esprit nouveau (Paris. 1920)",
          "Cahiers d'art (Paris)",
          "Cahiers d'art (Paris)",
          "Cahiers d'art (Paris)",
          "Cahiers d'art (Paris)",
          "Cahiers d'art (Paris)",
          "Cahiers d'art (Paris)",
          "Cahiers d'art (Paris)",
          "Cahiers d'art (Paris)",
          "Cahiers d'art (Paris)",
          "Cahiers d'art (Paris)",
          "Cahiers d'art (Paris)",
          "L'Esprit nouveau (Paris. 1920)",
          "Cahiers d'art (Paris)",
          "Cahiers d'art (Paris)",
          "Cahiers d'art (Paris)",
          "Cahiers d'art (Paris)",
          "Cahiers d'art (Paris)",
          "L'Esprit nouveau (Paris. 1920)",
          "Cahiers d'art (Paris)",
          "Cahiers d'art (Paris)",
          "L'Esprit nouveau (Paris. 1920)",
          "Cahiers d'art (Paris)",
          "Cahiers d'art (Paris)",
          "Cahiers d'art (Paris)",
          "Cahiers d'art (Paris)",
          "Cahiers d'art (Paris)",
          "Cahiers d'art (Paris)",
          "Cahiers d'art (Paris)",
          "Cahiers d'art (Paris)",
          "Cahiers d'art (Paris)",
          "Cahiers d'art (Paris)",
          "Cahiers d'art (Paris)",
          "Cahiers d'art (Paris)",
          "Cahiers d'art (Paris)",
          "Cahiers d'art (Paris)",
          "L'Esprit nouveau (Paris. 1920)",
          "L'Esprit nouveau (Paris. 1920)",
          "L'Esprit nouveau (Paris. 1920)",
          "L'Esprit nouveau (Paris. 1920)",
          "Cahiers d'art (Paris)",
          "Cahiers d'art (Paris)",
          "Cahiers d'art (Paris)",
          "L'Esprit nouveau (Paris. 1920)",
          "L'Esprit nouveau (Paris. 1920)",
          "Cahiers d'art (Paris)",
          "Cahiers d'art (Paris)",
          "Cahiers d'art (Paris)",
          "Cahiers d'art (Paris)",
          "Cahiers d'art (Paris)",
          "Cahiers d'art (Paris)",
          "Cahiers d'art (Paris)",
          "Cahiers d'art (Paris)",
          "Cahiers d'art (Paris)",
          "Cahiers d'art (Paris)",
          "Cahiers d'art (Paris)",
          "Cahiers d'art (Paris)",
          "Cahiers d'art (Paris)",
          "Cahiers d'art (Paris)",
          "Cahiers d'art (Paris)",
          "L'Esprit nouveau (Paris. 1920)",
          "Cahiers d'art (Paris)",
          "L'Esprit nouveau (Paris. 1920)",
          "Cahiers d'art (Paris)",
          "Cahiers d'art (Paris)",
          "Cahiers d'art (Paris)",
          "Cahiers d'art (Paris)",
          "Cahiers d'art (Paris)",
          "Cahiers d'art (Paris)",
          "Cahiers d'art (Paris)",
          "Cahiers d'art (Paris)",
          "L'Esprit nouveau (Paris. 1920)",
          "Cahiers d'art (Paris)",
          "Cahiers d'art (Paris)",
          "Cahiers d'art (Paris)",
          "L'Esprit nouveau (Paris. 1920)",
          "L'Esprit nouveau (Paris. 1920)",
          "Cahiers d'art (Paris)",
          "L'Esprit nouveau (Paris. 1920)",
          "Cahiers d'art (Paris)",
          "L'Esprit nouveau (Paris. 1920)",
          "Cahiers d'art (Paris)",
          "Cahiers d'art (Paris)",
          "Cahiers d'art (Paris)",
          "Cahiers d'art (Paris)",
          "Cahiers d'art (Paris)",
          "Cahiers d'art (Paris)",
          "Cahiers d'art (Paris)",
          "Cahiers d'art (Paris)",
          "Cahiers d'art (Paris)",
          "Cahiers d'art (Paris)",
          "Cahiers d'art (Paris)",
          "L'Esprit nouveau (Paris. 1920)",
          "L'Esprit nouveau (Paris. 1920)",
          "L'Esprit nouveau (Paris. 1920)",
          "L'Esprit nouveau (Paris. 1920)",
          "Cahiers d'art (Paris)",
          "Cahiers d'art (Paris)",
          "L'Esprit nouveau (Paris. 1920)",
          "Cahiers d'art (Paris)",
          "Cahiers d'art (Paris)",
          "Cahiers d'art (Paris)",
          "Cahiers d'art (Paris)",
          "Cahiers d'art (Paris)",
          "Cahiers d'art (Paris)",
          "Cahiers d'art (Paris)",
          "L'Esprit nouveau (Paris. 1920)",
          "Cahiers d'art (Paris)",
          "Cahiers d'art (Paris)",
          "L'Esprit nouveau (Paris. 1920)",
          "Cahiers d'art (Paris)",
          "L'Esprit nouveau (Paris. 1920)",
          "Cahiers d'art (Paris)",
          "L'Esprit nouveau (Paris. 1920)",
          "Cahiers d'art (Paris)",
          "Cahiers d'art (Paris)",
          "Cahiers d'art (Paris)",
          "Cahiers d'art (Paris)",
          "Cahiers d'art (Paris)",
          "Cahiers d'art (Paris)",
          "Cahiers d'art (Paris)",
          "L'Esprit nouveau (Paris. 1920)",
          "Cahiers d'art (Paris)",
          "Cahiers d'art (Paris)",
          "Cahiers d'art (Paris)",
          "Cahiers d'art (Paris)",
          "Cahiers d'art (Paris)",
          "Cahiers d'art (Paris)",
          "L'Esprit nouveau (Paris. 1920)",
          "Cahiers d'art (Paris)",
          "Cahiers d'art (Paris)",
          "Cahiers d'art (Paris)",
          "Cahiers d'art (Paris)",
          "Cahiers d'art (Paris)",
          "Cahiers d'art (Paris)",
          "Cahiers d'art (Paris)",
          "Cahiers d'art (Paris)",
          "Cahiers d'art (Paris)",
          "Cahiers d'art (Paris)",
          "Cahiers d'art (Paris)",
          "Cahiers d'art (Paris)",
          "Cahiers d'art (Paris)",
          "Cahiers d'art (Paris)",
          "Cahiers d'art (Paris)",
          "Cahiers d'art (Paris)",
          "Cahiers d'art (Paris)",
          "Cahiers d'art (Paris)",
          "Cahiers d'art (Paris)",
          "L'Esprit nouveau (Paris. 1920)",
          "Cahiers d'art (Paris)",
          "Cahiers d'art (Paris)",
          "L'Esprit nouveau (Paris. 1920)",
          "L'Esprit nouveau (Paris. 1920)",
          "Cahiers d'art (Paris)",
          "Cahiers d'art (Paris)",
          "L'Esprit nouveau (Paris. 1920)",
          "Cahiers d'art (Paris)",
          "Cahiers d'art (Paris)",
          "Cahiers d'art (Paris)",
          "Cahiers d'art (Paris)",
          "Cahiers d'art (Paris)",
          "Cahiers d'art (Paris)",
          "Cahiers d'art (Paris)",
          "L'Esprit nouveau (Paris. 1920)",
          "L'Esprit nouveau (Paris. 1920)",
          "Cahiers d'art (Paris)",
          "Cahiers d'art (Paris)",
          "Cahiers d'art (Paris)",
          "Cahiers d'art (Paris)",
          "Cahiers d'art (Paris)",
          "Cahiers d'art (Paris)",
          "Cahiers d'art (Paris)",
          "Cahiers d'art (Paris)",
          "L'Esprit nouveau (Paris. 1920)",
          "Cahiers d'art (Paris)",
          "Cahiers d'art (Paris)",
          "Cahiers d'art (Paris)",
          "Cahiers d'art (Paris)",
          "Cahiers d'art (Paris)",
          "Cahiers d'art (Paris)",
          "Cahiers d'art (Paris)",
          "Cahiers d'art (Paris)",
          "L'Esprit nouveau (Paris. 1920)",
          "Cahiers d'art (Paris)",
          "Cahiers d'art (Paris)",
          "L'Esprit nouveau (Paris. 1920)",
          "Cahiers d'art (Paris)",
          "Cahiers d'art (Paris)",
          "Cahiers d'art (Paris)",
          "Cahiers d'art (Paris)",
          "L'Esprit nouveau (Paris. 1920)",
          "Cahiers d'art (Paris)",
          "Cahiers d'art (Paris)",
          "L'Esprit nouveau (Paris. 1920)",
          "Cahiers d'art (Paris)",
          "Cahiers d'art (Paris)",
          "Cahiers d'art (Paris)",
          "Cahiers d'art (Paris)",
          "L'Esprit nouveau (Paris. 1920)",
          "Cahiers d'art (Paris)",
          "Cahiers d'art (Paris)",
          "Cahiers d'art (Paris)",
          "Cahiers d'art (Paris)",
          "Cahiers d'art (Paris)",
          "Cahiers d'art (Paris)",
          "Cahiers d'art (Paris)",
          "Cahiers d'art (Paris)",
          "Cahiers d'art (Paris)",
          "Cahiers d'art (Paris)",
          "Cahiers d'art (Paris)",
          "Cahiers d'art (Paris)",
          "L'Esprit nouveau (Paris. 1920)",
          "Cahiers d'art (Paris)",
          "Cahiers d'art (Paris)",
          "L'Esprit nouveau (Paris. 1920)",
          "Cahiers d'art (Paris)",
          "Cahiers d'art (Paris)",
          "Cahiers d'art (Paris)",
          "L'Esprit nouveau (Paris. 1920)",
          "L'Esprit nouveau (Paris. 1920)",
          "L'Esprit nouveau (Paris. 1920)",
          "Cahiers d'art (Paris)",
          "L'Esprit nouveau (Paris. 1920)",
          "L'Esprit nouveau (Paris. 1920)",
          "Cahiers d'art (Paris)",
          "L'Esprit nouveau (Paris. 1920)",
          "Cahiers d'art (Paris)",
          "L'Esprit nouveau (Paris. 1920)",
          "Cahiers d'art (Paris)",
          "Cahiers d'art (Paris)",
          "L'Esprit nouveau (Paris. 1920)",
          "L'Esprit nouveau (Paris. 1920)",
          "Cahiers d'art (Paris)",
          "Cahiers d'art (Paris)",
          "Cahiers d'art (Paris)",
          "Cahiers d'art (Paris)",
          "Cahiers d'art (Paris)",
          "Cahiers d'art (Paris)",
          "L'Esprit nouveau (Paris. 1920)",
          "Cahiers d'art (Paris)",
          "Cahiers d'art (Paris)",
          "L'Esprit nouveau (Paris. 1920)",
          "L'Esprit nouveau (Paris. 1920)",
          "L'Esprit nouveau (Paris. 1920)",
          "Cahiers d'art (Paris)",
          "L'Esprit nouveau (Paris. 1920)",
          "Cahiers d'art (Paris)",
          "Cahiers d'art (Paris)",
          "L'Esprit nouveau (Paris. 1920)",
          "Cahiers d'art (Paris)",
          "Cahiers d'art (Paris)",
          "L'Esprit nouveau (Paris. 1920)",
          "Cahiers d'art (Paris)",
          "Cahiers d'art (Paris)",
          "L'Esprit nouveau (Paris. 1920)",
          "Cahiers d'art (Paris)",
          "L'Esprit nouveau (Paris. 1920)",
          "Cahiers d'art (Paris)",
          "L'Esprit nouveau (Paris. 1920)",
          "Cahiers d'art (Paris)",
          "Cahiers d'art (Paris)",
          "L'Esprit nouveau (Paris. 1920)",
          "Cahiers d'art (Paris)",
          "L'Esprit nouveau (Paris. 1920)",
          "Cahiers d'art (Paris)",
          "L'Esprit nouveau (Paris. 1920)",
          "Cahiers d'art (Paris)",
          "Cahiers d'art (Paris)",
          "L'Esprit nouveau (Paris. 1920)",
          "Cahiers d'art (Paris)",
          "Cahiers d'art (Paris)",
          "L'Esprit nouveau (Paris. 1920)",
          "L'Esprit nouveau (Paris. 1920)",
          "Cahiers d'art (Paris)",
          "L'Esprit nouveau (Paris. 1920)",
          "L'Esprit nouveau (Paris. 1920)"
         ],
         "xaxis": "x",
         "yaxis": "y"
        },
        {
         "alignmentgroup": "True",
         "bingroup": "x",
         "hovertemplate": "Country=Czech Republic<br>impact of a AG journal outside the AG=%{x}<br>count=%{y}<extra></extra>",
         "legendgroup": "Czech Republic",
         "marker": {
          "color": "#ab63fa",
          "pattern": {
           "shape": ""
          }
         },
         "name": "Czech Republic",
         "offsetgroup": "Czech Republic",
         "orientation": "v",
         "showlegend": true,
         "textangle": 0,
         "textfont": {
          "size": 12
         },
         "textposition": "outside",
         "type": "histogram",
         "x": [
          "Umělecký mĕsíčník",
          "Umělecký mĕsíčník",
          "Umělecký mĕsíčník",
          "Umělecký mĕsíčník",
          "Umělecký mĕsíčník",
          "Umělecký mĕsíčník",
          "Umělecký mĕsíčník",
          "Umělecký mĕsíčník",
          "Umělecký mĕsíčník",
          "Umělecký mĕsíčník",
          "Umělecký mĕsíčník",
          "Umělecký mĕsíčník",
          "Umělecký mĕsíčník",
          "Umělecký mĕsíčník",
          "Umělecký mĕsíčník",
          "Umělecký mĕsíčník",
          "Umělecký mĕsíčník",
          "Umělecký mĕsíčník",
          "Umělecký mĕsíčník",
          "Umělecký mĕsíčník",
          "Umělecký mĕsíčník",
          "Umělecký mĕsíčník",
          "Umělecký mĕsíčník",
          "Umělecký mĕsíčník",
          "Umělecký mĕsíčník",
          "Umělecký mĕsíčník",
          "Umělecký mĕsíčník"
         ],
         "xaxis": "x",
         "yaxis": "y"
        },
        {
         "alignmentgroup": "True",
         "bingroup": "x",
         "hovertemplate": "Country=Poland<br>impact of a AG journal outside the AG=%{x}<br>count=%{y}<extra></extra>",
         "legendgroup": "Poland",
         "marker": {
          "color": "#FFA15A",
          "pattern": {
           "shape": ""
          }
         },
         "name": "Poland",
         "offsetgroup": "Poland",
         "orientation": "v",
         "showlegend": true,
         "textangle": 0,
         "textfont": {
          "size": 12
         },
         "textposition": "outside",
         "type": "histogram",
         "x": [
          "Praesens",
          "Praesens",
          "Praesens",
          "Blok",
          "Praesens",
          "Praesens",
          "Blok",
          "Praesens",
          "Blok",
          "Praesens",
          "Praesens",
          "Praesens",
          "Praesens",
          "Praesens",
          "Praesens",
          "Praesens",
          "Blok",
          "Praesens",
          "Blok",
          "Praesens",
          "Praesens",
          "Blok",
          "Praesens",
          "Blok",
          "Blok",
          "Blok",
          "Blok",
          "Praesens",
          "Blok"
         ],
         "xaxis": "x",
         "yaxis": "y"
        }
       ],
       "layout": {
        "autosize": true,
        "barmode": "relative",
        "legend": {
         "title": {
          "text": "Country"
         },
         "tracegroupgap": 0
        },
        "template": {
         "data": {
          "bar": [
           {
            "error_x": {
             "color": "#2a3f5f"
            },
            "error_y": {
             "color": "#2a3f5f"
            },
            "marker": {
             "line": {
              "color": "#E5ECF6",
              "width": 0.5
             },
             "pattern": {
              "fillmode": "overlay",
              "size": 10,
              "solidity": 0.2
             }
            },
            "type": "bar"
           }
          ],
          "barpolar": [
           {
            "marker": {
             "line": {
              "color": "#E5ECF6",
              "width": 0.5
             },
             "pattern": {
              "fillmode": "overlay",
              "size": 10,
              "solidity": 0.2
             }
            },
            "type": "barpolar"
           }
          ],
          "carpet": [
           {
            "aaxis": {
             "endlinecolor": "#2a3f5f",
             "gridcolor": "white",
             "linecolor": "white",
             "minorgridcolor": "white",
             "startlinecolor": "#2a3f5f"
            },
            "baxis": {
             "endlinecolor": "#2a3f5f",
             "gridcolor": "white",
             "linecolor": "white",
             "minorgridcolor": "white",
             "startlinecolor": "#2a3f5f"
            },
            "type": "carpet"
           }
          ],
          "choropleth": [
           {
            "colorbar": {
             "outlinewidth": 0,
             "ticks": ""
            },
            "type": "choropleth"
           }
          ],
          "contour": [
           {
            "colorbar": {
             "outlinewidth": 0,
             "ticks": ""
            },
            "colorscale": [
             [
              0,
              "#0d0887"
             ],
             [
              0.1111111111111111,
              "#46039f"
             ],
             [
              0.2222222222222222,
              "#7201a8"
             ],
             [
              0.3333333333333333,
              "#9c179e"
             ],
             [
              0.4444444444444444,
              "#bd3786"
             ],
             [
              0.5555555555555556,
              "#d8576b"
             ],
             [
              0.6666666666666666,
              "#ed7953"
             ],
             [
              0.7777777777777778,
              "#fb9f3a"
             ],
             [
              0.8888888888888888,
              "#fdca26"
             ],
             [
              1,
              "#f0f921"
             ]
            ],
            "type": "contour"
           }
          ],
          "contourcarpet": [
           {
            "colorbar": {
             "outlinewidth": 0,
             "ticks": ""
            },
            "type": "contourcarpet"
           }
          ],
          "heatmap": [
           {
            "colorbar": {
             "outlinewidth": 0,
             "ticks": ""
            },
            "colorscale": [
             [
              0,
              "#0d0887"
             ],
             [
              0.1111111111111111,
              "#46039f"
             ],
             [
              0.2222222222222222,
              "#7201a8"
             ],
             [
              0.3333333333333333,
              "#9c179e"
             ],
             [
              0.4444444444444444,
              "#bd3786"
             ],
             [
              0.5555555555555556,
              "#d8576b"
             ],
             [
              0.6666666666666666,
              "#ed7953"
             ],
             [
              0.7777777777777778,
              "#fb9f3a"
             ],
             [
              0.8888888888888888,
              "#fdca26"
             ],
             [
              1,
              "#f0f921"
             ]
            ],
            "type": "heatmap"
           }
          ],
          "heatmapgl": [
           {
            "colorbar": {
             "outlinewidth": 0,
             "ticks": ""
            },
            "colorscale": [
             [
              0,
              "#0d0887"
             ],
             [
              0.1111111111111111,
              "#46039f"
             ],
             [
              0.2222222222222222,
              "#7201a8"
             ],
             [
              0.3333333333333333,
              "#9c179e"
             ],
             [
              0.4444444444444444,
              "#bd3786"
             ],
             [
              0.5555555555555556,
              "#d8576b"
             ],
             [
              0.6666666666666666,
              "#ed7953"
             ],
             [
              0.7777777777777778,
              "#fb9f3a"
             ],
             [
              0.8888888888888888,
              "#fdca26"
             ],
             [
              1,
              "#f0f921"
             ]
            ],
            "type": "heatmapgl"
           }
          ],
          "histogram": [
           {
            "marker": {
             "pattern": {
              "fillmode": "overlay",
              "size": 10,
              "solidity": 0.2
             }
            },
            "type": "histogram"
           }
          ],
          "histogram2d": [
           {
            "colorbar": {
             "outlinewidth": 0,
             "ticks": ""
            },
            "colorscale": [
             [
              0,
              "#0d0887"
             ],
             [
              0.1111111111111111,
              "#46039f"
             ],
             [
              0.2222222222222222,
              "#7201a8"
             ],
             [
              0.3333333333333333,
              "#9c179e"
             ],
             [
              0.4444444444444444,
              "#bd3786"
             ],
             [
              0.5555555555555556,
              "#d8576b"
             ],
             [
              0.6666666666666666,
              "#ed7953"
             ],
             [
              0.7777777777777778,
              "#fb9f3a"
             ],
             [
              0.8888888888888888,
              "#fdca26"
             ],
             [
              1,
              "#f0f921"
             ]
            ],
            "type": "histogram2d"
           }
          ],
          "histogram2dcontour": [
           {
            "colorbar": {
             "outlinewidth": 0,
             "ticks": ""
            },
            "colorscale": [
             [
              0,
              "#0d0887"
             ],
             [
              0.1111111111111111,
              "#46039f"
             ],
             [
              0.2222222222222222,
              "#7201a8"
             ],
             [
              0.3333333333333333,
              "#9c179e"
             ],
             [
              0.4444444444444444,
              "#bd3786"
             ],
             [
              0.5555555555555556,
              "#d8576b"
             ],
             [
              0.6666666666666666,
              "#ed7953"
             ],
             [
              0.7777777777777778,
              "#fb9f3a"
             ],
             [
              0.8888888888888888,
              "#fdca26"
             ],
             [
              1,
              "#f0f921"
             ]
            ],
            "type": "histogram2dcontour"
           }
          ],
          "mesh3d": [
           {
            "colorbar": {
             "outlinewidth": 0,
             "ticks": ""
            },
            "type": "mesh3d"
           }
          ],
          "parcoords": [
           {
            "line": {
             "colorbar": {
              "outlinewidth": 0,
              "ticks": ""
             }
            },
            "type": "parcoords"
           }
          ],
          "pie": [
           {
            "automargin": true,
            "type": "pie"
           }
          ],
          "scatter": [
           {
            "fillpattern": {
             "fillmode": "overlay",
             "size": 10,
             "solidity": 0.2
            },
            "type": "scatter"
           }
          ],
          "scatter3d": [
           {
            "line": {
             "colorbar": {
              "outlinewidth": 0,
              "ticks": ""
             }
            },
            "marker": {
             "colorbar": {
              "outlinewidth": 0,
              "ticks": ""
             }
            },
            "type": "scatter3d"
           }
          ],
          "scattercarpet": [
           {
            "marker": {
             "colorbar": {
              "outlinewidth": 0,
              "ticks": ""
             }
            },
            "type": "scattercarpet"
           }
          ],
          "scattergeo": [
           {
            "marker": {
             "colorbar": {
              "outlinewidth": 0,
              "ticks": ""
             }
            },
            "type": "scattergeo"
           }
          ],
          "scattergl": [
           {
            "marker": {
             "colorbar": {
              "outlinewidth": 0,
              "ticks": ""
             }
            },
            "type": "scattergl"
           }
          ],
          "scattermapbox": [
           {
            "marker": {
             "colorbar": {
              "outlinewidth": 0,
              "ticks": ""
             }
            },
            "type": "scattermapbox"
           }
          ],
          "scatterpolar": [
           {
            "marker": {
             "colorbar": {
              "outlinewidth": 0,
              "ticks": ""
             }
            },
            "type": "scatterpolar"
           }
          ],
          "scatterpolargl": [
           {
            "marker": {
             "colorbar": {
              "outlinewidth": 0,
              "ticks": ""
             }
            },
            "type": "scatterpolargl"
           }
          ],
          "scatterternary": [
           {
            "marker": {
             "colorbar": {
              "outlinewidth": 0,
              "ticks": ""
             }
            },
            "type": "scatterternary"
           }
          ],
          "surface": [
           {
            "colorbar": {
             "outlinewidth": 0,
             "ticks": ""
            },
            "colorscale": [
             [
              0,
              "#0d0887"
             ],
             [
              0.1111111111111111,
              "#46039f"
             ],
             [
              0.2222222222222222,
              "#7201a8"
             ],
             [
              0.3333333333333333,
              "#9c179e"
             ],
             [
              0.4444444444444444,
              "#bd3786"
             ],
             [
              0.5555555555555556,
              "#d8576b"
             ],
             [
              0.6666666666666666,
              "#ed7953"
             ],
             [
              0.7777777777777778,
              "#fb9f3a"
             ],
             [
              0.8888888888888888,
              "#fdca26"
             ],
             [
              1,
              "#f0f921"
             ]
            ],
            "type": "surface"
           }
          ],
          "table": [
           {
            "cells": {
             "fill": {
              "color": "#EBF0F8"
             },
             "line": {
              "color": "white"
             }
            },
            "header": {
             "fill": {
              "color": "#C8D4E3"
             },
             "line": {
              "color": "white"
             }
            },
            "type": "table"
           }
          ]
         },
         "layout": {
          "annotationdefaults": {
           "arrowcolor": "#2a3f5f",
           "arrowhead": 0,
           "arrowwidth": 1
          },
          "autotypenumbers": "strict",
          "coloraxis": {
           "colorbar": {
            "outlinewidth": 0,
            "ticks": ""
           }
          },
          "colorscale": {
           "diverging": [
            [
             0,
             "#8e0152"
            ],
            [
             0.1,
             "#c51b7d"
            ],
            [
             0.2,
             "#de77ae"
            ],
            [
             0.3,
             "#f1b6da"
            ],
            [
             0.4,
             "#fde0ef"
            ],
            [
             0.5,
             "#f7f7f7"
            ],
            [
             0.6,
             "#e6f5d0"
            ],
            [
             0.7,
             "#b8e186"
            ],
            [
             0.8,
             "#7fbc41"
            ],
            [
             0.9,
             "#4d9221"
            ],
            [
             1,
             "#276419"
            ]
           ],
           "sequential": [
            [
             0,
             "#0d0887"
            ],
            [
             0.1111111111111111,
             "#46039f"
            ],
            [
             0.2222222222222222,
             "#7201a8"
            ],
            [
             0.3333333333333333,
             "#9c179e"
            ],
            [
             0.4444444444444444,
             "#bd3786"
            ],
            [
             0.5555555555555556,
             "#d8576b"
            ],
            [
             0.6666666666666666,
             "#ed7953"
            ],
            [
             0.7777777777777778,
             "#fb9f3a"
            ],
            [
             0.8888888888888888,
             "#fdca26"
            ],
            [
             1,
             "#f0f921"
            ]
           ],
           "sequentialminus": [
            [
             0,
             "#0d0887"
            ],
            [
             0.1111111111111111,
             "#46039f"
            ],
            [
             0.2222222222222222,
             "#7201a8"
            ],
            [
             0.3333333333333333,
             "#9c179e"
            ],
            [
             0.4444444444444444,
             "#bd3786"
            ],
            [
             0.5555555555555556,
             "#d8576b"
            ],
            [
             0.6666666666666666,
             "#ed7953"
            ],
            [
             0.7777777777777778,
             "#fb9f3a"
            ],
            [
             0.8888888888888888,
             "#fdca26"
            ],
            [
             1,
             "#f0f921"
            ]
           ]
          },
          "colorway": [
           "#636efa",
           "#EF553B",
           "#00cc96",
           "#ab63fa",
           "#FFA15A",
           "#19d3f3",
           "#FF6692",
           "#B6E880",
           "#FF97FF",
           "#FECB52"
          ],
          "font": {
           "color": "#2a3f5f"
          },
          "geo": {
           "bgcolor": "white",
           "lakecolor": "white",
           "landcolor": "#E5ECF6",
           "showlakes": true,
           "showland": true,
           "subunitcolor": "white"
          },
          "hoverlabel": {
           "align": "left"
          },
          "hovermode": "closest",
          "mapbox": {
           "style": "light"
          },
          "paper_bgcolor": "white",
          "plot_bgcolor": "#E5ECF6",
          "polar": {
           "angularaxis": {
            "gridcolor": "white",
            "linecolor": "white",
            "ticks": ""
           },
           "bgcolor": "#E5ECF6",
           "radialaxis": {
            "gridcolor": "white",
            "linecolor": "white",
            "ticks": ""
           }
          },
          "scene": {
           "xaxis": {
            "backgroundcolor": "#E5ECF6",
            "gridcolor": "white",
            "gridwidth": 2,
            "linecolor": "white",
            "showbackground": true,
            "ticks": "",
            "zerolinecolor": "white"
           },
           "yaxis": {
            "backgroundcolor": "#E5ECF6",
            "gridcolor": "white",
            "gridwidth": 2,
            "linecolor": "white",
            "showbackground": true,
            "ticks": "",
            "zerolinecolor": "white"
           },
           "zaxis": {
            "backgroundcolor": "#E5ECF6",
            "gridcolor": "white",
            "gridwidth": 2,
            "linecolor": "white",
            "showbackground": true,
            "ticks": "",
            "zerolinecolor": "white"
           }
          },
          "shapedefaults": {
           "line": {
            "color": "#2a3f5f"
           }
          },
          "ternary": {
           "aaxis": {
            "gridcolor": "white",
            "linecolor": "white",
            "ticks": ""
           },
           "baxis": {
            "gridcolor": "white",
            "linecolor": "white",
            "ticks": ""
           },
           "bgcolor": "#E5ECF6",
           "caxis": {
            "gridcolor": "white",
            "linecolor": "white",
            "ticks": ""
           }
          },
          "title": {
           "x": 0.05
          },
          "xaxis": {
           "automargin": true,
           "gridcolor": "white",
           "linecolor": "white",
           "ticks": "",
           "title": {
            "standoff": 15
           },
           "zerolinecolor": "white",
           "zerolinewidth": 2
          },
          "yaxis": {
           "automargin": true,
           "gridcolor": "white",
           "linecolor": "white",
           "ticks": "",
           "title": {
            "standoff": 15
           },
           "zerolinecolor": "white",
           "zerolinewidth": 2
          }
         }
        },
        "title": {
         "text": "Which journal initiate more chains of circulation from the AG towards other communities"
        },
        "xaxis": {
         "anchor": "y",
         "autorange": true,
         "domain": [
          0,
          1
         ],
         "range": [
          -0.5,
          7.5
         ],
         "title": {
          "text": "impact of a AG journal outside the AG"
         },
         "type": "category"
        },
        "yaxis": {
         "anchor": "x",
         "autorange": true,
         "domain": [
          0,
          1
         ],
         "range": [
          0,
          282.10526315789474
         ],
         "title": {
          "text": "count"
         }
        }
       }
      },
      "image/png": "[encoded data removed]",
      "text/html": [
       "<div>                            <div id=\"8ad33725-8ed4-44d6-8f59-f7e0e9c6134b\" class=\"plotly-graph-div\" style=\"height:525px; width:100%;\"></div>            <script type=\"text/javascript\">                require([\"plotly\"], function(Plotly) {                    window.PLOTLYENV=window.PLOTLYENV || {};                                    if (document.getElementById(\"8ad33725-8ed4-44d6-8f59-f7e0e9c6134b\")) {                    Plotly.newPlot(                        \"8ad33725-8ed4-44d6-8f59-f7e0e9c6134b\",                        [{\"alignmentgroup\":\"True\",\"bingroup\":\"x\",\"hovertemplate\":\"Country=Germany<br>impact of a AG journal outside the AG=%{x}<br>count=%{y}<extra></extra>\",\"legendgroup\":\"Germany\",\"marker\":{\"color\":\"#636efa\",\"pattern\":{\"shape\":\"\"}},\"name\":\"Germany\",\"offsetgroup\":\"Germany\",\"orientation\":\"v\",\"showlegend\":true,\"x\":[\"Der Sturm\",\"Der Sturm\",\"Die Form\",\"Der Sturm\",\"Die Form\",\"Die Form\",\"Die Form\",\"Die Form\",\"Die Form\",\"Die Form\",\"Die Form\",\"Die Form\",\"Die Form\",\"Die Form\",\"Die Form\",\"Die Form\",\"Die Form\",\"Die Form\",\"Die Form\",\"Die Form\",\"Die Form\",\"Die Form\",\"Die Form\",\"Die Form\",\"Die Form\",\"Die Form\",\"Die Form\",\"Die Form\",\"Die Form\",\"Die Form\",\"Die Form\",\"Die Form\",\"Die Form\",\"Die Form\",\"Die Form\",\"Die Form\",\"Die Form\",\"Die Form\",\"Die Form\",\"Die Form\",\"Die Form\",\"Die Form\",\"Die Form\",\"Die Form\",\"Die Form\",\"Die Form\",\"Die Form\",\"Die Form\",\"Die Form\",\"Die Form\",\"Die Form\",\"Die Form\",\"Die Form\",\"Die Form\",\"Die Form\",\"Die Form\",\"Die Form\",\"Die Form\",\"Die Form\",\"Die Form\",\"Die Form\",\"Die Form\",\"Die Form\",\"Die Form\",\"Die Form\",\"Die Form\",\"Die Form\",\"Der Sturm\",\"Die Form\",\"Die Form\",\"Die Form\",\"Die Form\",\"Die Form\",\"Die Form\",\"Die Form\",\"Die Form\",\"Die Form\",\"Die Form\",\"Die Form\",\"Die Form\",\"Die Form\",\"Die Form\",\"Die Form\",\"Die Form\",\"Der Sturm\",\"Die Form\",\"Der Sturm\",\"Die Form\",\"Die Form\",\"Die Form\",\"Die Form\",\"Die Form\",\"Die Form\",\"Die Form\",\"Die Form\",\"Die Form\",\"Die Form\",\"Die Form\",\"Die Form\",\"Die Form\",\"Die Form\",\"Die Form\",\"Die Form\",\"Die Form\",\"Die Form\",\"Die Form\",\"Die Form\",\"Die Form\",\"Der Sturm\",\"Die Form\",\"Die Form\",\"Die Form\",\"Die Form\",\"Die Form\",\"Die Form\",\"Die Form\",\"Die Form\",\"Die Form\",\"Die Form\",\"Die Form\",\"Die Form\",\"Die Form\",\"Die Form\",\"Die Form\",\"Der Sturm\",\"Die Form\",\"Die Form\",\"Die Form\",\"Die Form\",\"Die Form\",\"Der Sturm\",\"Die Form\",\"Die Form\",\"Die Form\",\"Die Form\",\"Die Form\",\"Die Form\",\"Die Form\",\"Die Form\",\"Die Form\",\"Die Form\",\"Die Form\",\"Die Form\",\"Die Form\",\"Die Form\",\"Die Form\",\"Die Form\",\"Die Form\",\"Die Form\",\"Die Form\",\"Die Form\",\"Der Sturm\",\"Die Form\",\"Der Sturm\",\"Die Form\",\"Der Sturm\",\"Der Sturm\",\"Die Form\",\"Die Form\",\"Die Form\",\"Die Form\",\"Die Form\",\"Der Sturm\",\"Die Form\",\"Die Form\",\"Die Form\",\"Der Sturm\",\"Die Form\",\"Die Form\",\"Die Form\",\"Die Form\",\"Die Form\",\"Die Form\",\"Die Form\",\"Die Form\",\"Die Form\",\"Die Form\",\"Die Form\",\"Die Form\",\"Die Form\",\"Die Form\",\"Die Form\",\"Die Form\",\"Die Form\",\"Die Form\",\"Die Form\",\"Die Form\",\"Die Form\",\"Die Form\",\"Die Form\",\"Die Form\",\"Die Form\",\"Der Sturm\",\"Die Form\",\"Die Form\",\"Die Form\",\"Der Sturm\"],\"xaxis\":\"x\",\"yaxis\":\"y\",\"type\":\"histogram\",\"textfont\":{\"size\":12},\"textangle\":0,\"textposition\":\"outside\"},{\"alignmentgroup\":\"True\",\"bingroup\":\"x\",\"hovertemplate\":\"Country=Netherlands<br>impact of a AG journal outside the AG=%{x}<br>count=%{y}<extra></extra>\",\"legendgroup\":\"Netherlands\",\"marker\":{\"color\":\"#EF553B\",\"pattern\":{\"shape\":\"\"}},\"name\":\"Netherlands\",\"offsetgroup\":\"Netherlands\",\"orientation\":\"v\",\"showlegend\":true,\"x\":[\"De Stijl\",\"De Stijl\",\"De Stijl\",\"De Stijl\",\"De Stijl\",\"De Stijl\",\"De Stijl\",\"De Stijl\",\"De Stijl\",\"De Stijl\",\"De Stijl\"],\"xaxis\":\"x\",\"yaxis\":\"y\",\"type\":\"histogram\",\"textfont\":{\"size\":12},\"textangle\":0,\"textposition\":\"outside\"},{\"alignmentgroup\":\"True\",\"bingroup\":\"x\",\"hovertemplate\":\"Country=France<br>impact of a AG journal outside the AG=%{x}<br>count=%{y}<extra></extra>\",\"legendgroup\":\"France\",\"marker\":{\"color\":\"#00cc96\",\"pattern\":{\"shape\":\"\"}},\"name\":\"France\",\"offsetgroup\":\"France\",\"orientation\":\"v\",\"showlegend\":true,\"x\":[\"L'Esprit nouveau (Paris. 1920)\",\"L'Esprit nouveau (Paris. 1920)\",\"Cahiers d'art (Paris)\",\"L'Esprit nouveau (Paris. 1920)\",\"L'Esprit nouveau (Paris. 1920)\",\"L'Esprit nouveau (Paris. 1920)\",\"Cahiers d'art (Paris)\",\"Cahiers d'art (Paris)\",\"Cahiers d'art (Paris)\",\"Cahiers d'art (Paris)\",\"Cahiers d'art (Paris)\",\"Cahiers d'art (Paris)\",\"Cahiers d'art (Paris)\",\"Cahiers d'art (Paris)\",\"Cahiers d'art (Paris)\",\"L'Esprit nouveau (Paris. 1920)\",\"Cahiers d'art (Paris)\",\"Cahiers d'art (Paris)\",\"L'Esprit nouveau (Paris. 1920)\",\"Cahiers d'art (Paris)\",\"Cahiers d'art (Paris)\",\"Cahiers d'art (Paris)\",\"Cahiers d'art (Paris)\",\"Cahiers d'art (Paris)\",\"Cahiers d'art (Paris)\",\"Cahiers d'art (Paris)\",\"Cahiers d'art (Paris)\",\"Cahiers d'art (Paris)\",\"Cahiers d'art (Paris)\",\"Cahiers d'art (Paris)\",\"L'Esprit nouveau (Paris. 1920)\",\"Cahiers d'art (Paris)\",\"Cahiers d'art (Paris)\",\"Cahiers d'art (Paris)\",\"Cahiers d'art (Paris)\",\"Cahiers d'art (Paris)\",\"Cahiers d'art (Paris)\",\"Cahiers d'art (Paris)\",\"Cahiers d'art (Paris)\",\"Cahiers d'art (Paris)\",\"Cahiers d'art (Paris)\",\"Cahiers d'art (Paris)\",\"Cahiers d'art (Paris)\",\"Cahiers d'art (Paris)\",\"Cahiers d'art (Paris)\",\"Cahiers d'art (Paris)\",\"Cahiers d'art (Paris)\",\"Cahiers d'art (Paris)\",\"L'Esprit nouveau (Paris. 1920)\",\"L'Esprit nouveau (Paris. 1920)\",\"Cahiers d'art (Paris)\",\"L'Esprit nouveau (Paris. 1920)\",\"Cahiers d'art (Paris)\",\"Cahiers d'art (Paris)\",\"Cahiers d'art (Paris)\",\"Cahiers d'art (Paris)\",\"Cahiers d'art (Paris)\",\"Cahiers d'art (Paris)\",\"Cahiers d'art (Paris)\",\"L'Esprit nouveau (Paris. 1920)\",\"Cahiers d'art (Paris)\",\"Cahiers d'art (Paris)\",\"Cahiers d'art (Paris)\",\"Cahiers d'art (Paris)\",\"Cahiers d'art (Paris)\",\"Cahiers d'art (Paris)\",\"Cahiers d'art (Paris)\",\"Cahiers d'art (Paris)\",\"Cahiers d'art (Paris)\",\"Cahiers d'art (Paris)\",\"Cahiers d'art (Paris)\",\"Cahiers d'art (Paris)\",\"Cahiers d'art (Paris)\",\"L'Esprit nouveau (Paris. 1920)\",\"Cahiers d'art (Paris)\",\"Cahiers d'art (Paris)\",\"Cahiers d'art (Paris)\",\"Cahiers d'art (Paris)\",\"Cahiers d'art (Paris)\",\"Cahiers d'art (Paris)\",\"Cahiers d'art (Paris)\",\"Cahiers d'art (Paris)\",\"Cahiers d'art (Paris)\",\"Cahiers d'art (Paris)\",\"Cahiers d'art (Paris)\",\"L'Esprit nouveau (Paris. 1920)\",\"Cahiers d'art (Paris)\",\"Cahiers d'art (Paris)\",\"Cahiers d'art (Paris)\",\"Cahiers d'art (Paris)\",\"Cahiers d'art (Paris)\",\"L'Esprit nouveau (Paris. 1920)\",\"Cahiers d'art (Paris)\",\"Cahiers d'art (Paris)\",\"L'Esprit nouveau (Paris. 1920)\",\"Cahiers d'art (Paris)\",\"Cahiers d'art (Paris)\",\"Cahiers d'art (Paris)\",\"Cahiers d'art (Paris)\",\"Cahiers d'art (Paris)\",\"Cahiers d'art (Paris)\",\"Cahiers d'art (Paris)\",\"Cahiers d'art (Paris)\",\"Cahiers d'art (Paris)\",\"Cahiers d'art (Paris)\",\"Cahiers d'art (Paris)\",\"Cahiers d'art (Paris)\",\"Cahiers d'art (Paris)\",\"Cahiers d'art (Paris)\",\"L'Esprit nouveau (Paris. 1920)\",\"L'Esprit nouveau (Paris. 1920)\",\"L'Esprit nouveau (Paris. 1920)\",\"L'Esprit nouveau (Paris. 1920)\",\"Cahiers d'art (Paris)\",\"Cahiers d'art (Paris)\",\"Cahiers d'art (Paris)\",\"L'Esprit nouveau (Paris. 1920)\",\"L'Esprit nouveau (Paris. 1920)\",\"Cahiers d'art (Paris)\",\"Cahiers d'art (Paris)\",\"Cahiers d'art (Paris)\",\"Cahiers d'art (Paris)\",\"Cahiers d'art (Paris)\",\"Cahiers d'art (Paris)\",\"Cahiers d'art (Paris)\",\"Cahiers d'art (Paris)\",\"Cahiers d'art (Paris)\",\"Cahiers d'art (Paris)\",\"Cahiers d'art (Paris)\",\"Cahiers d'art (Paris)\",\"Cahiers d'art (Paris)\",\"Cahiers d'art (Paris)\",\"Cahiers d'art (Paris)\",\"L'Esprit nouveau (Paris. 1920)\",\"Cahiers d'art (Paris)\",\"L'Esprit nouveau (Paris. 1920)\",\"Cahiers d'art (Paris)\",\"Cahiers d'art (Paris)\",\"Cahiers d'art (Paris)\",\"Cahiers d'art (Paris)\",\"Cahiers d'art (Paris)\",\"Cahiers d'art (Paris)\",\"Cahiers d'art (Paris)\",\"Cahiers d'art (Paris)\",\"L'Esprit nouveau (Paris. 1920)\",\"Cahiers d'art (Paris)\",\"Cahiers d'art (Paris)\",\"Cahiers d'art (Paris)\",\"L'Esprit nouveau (Paris. 1920)\",\"L'Esprit nouveau (Paris. 1920)\",\"Cahiers d'art (Paris)\",\"L'Esprit nouveau (Paris. 1920)\",\"Cahiers d'art (Paris)\",\"L'Esprit nouveau (Paris. 1920)\",\"Cahiers d'art (Paris)\",\"Cahiers d'art (Paris)\",\"Cahiers d'art (Paris)\",\"Cahiers d'art (Paris)\",\"Cahiers d'art (Paris)\",\"Cahiers d'art (Paris)\",\"Cahiers d'art (Paris)\",\"Cahiers d'art (Paris)\",\"Cahiers d'art (Paris)\",\"Cahiers d'art (Paris)\",\"Cahiers d'art (Paris)\",\"L'Esprit nouveau (Paris. 1920)\",\"L'Esprit nouveau (Paris. 1920)\",\"L'Esprit nouveau (Paris. 1920)\",\"L'Esprit nouveau (Paris. 1920)\",\"Cahiers d'art (Paris)\",\"Cahiers d'art (Paris)\",\"L'Esprit nouveau (Paris. 1920)\",\"Cahiers d'art (Paris)\",\"Cahiers d'art (Paris)\",\"Cahiers d'art (Paris)\",\"Cahiers d'art (Paris)\",\"Cahiers d'art (Paris)\",\"Cahiers d'art (Paris)\",\"Cahiers d'art (Paris)\",\"L'Esprit nouveau (Paris. 1920)\",\"Cahiers d'art (Paris)\",\"Cahiers d'art (Paris)\",\"L'Esprit nouveau (Paris. 1920)\",\"Cahiers d'art (Paris)\",\"L'Esprit nouveau (Paris. 1920)\",\"Cahiers d'art (Paris)\",\"L'Esprit nouveau (Paris. 1920)\",\"Cahiers d'art (Paris)\",\"Cahiers d'art (Paris)\",\"Cahiers d'art (Paris)\",\"Cahiers d'art (Paris)\",\"Cahiers d'art (Paris)\",\"Cahiers d'art (Paris)\",\"Cahiers d'art (Paris)\",\"L'Esprit nouveau (Paris. 1920)\",\"Cahiers d'art (Paris)\",\"Cahiers d'art (Paris)\",\"Cahiers d'art (Paris)\",\"Cahiers d'art (Paris)\",\"Cahiers d'art (Paris)\",\"Cahiers d'art (Paris)\",\"L'Esprit nouveau (Paris. 1920)\",\"Cahiers d'art (Paris)\",\"Cahiers d'art (Paris)\",\"Cahiers d'art (Paris)\",\"Cahiers d'art (Paris)\",\"Cahiers d'art (Paris)\",\"Cahiers d'art (Paris)\",\"Cahiers d'art (Paris)\",\"Cahiers d'art (Paris)\",\"Cahiers d'art (Paris)\",\"Cahiers d'art (Paris)\",\"Cahiers d'art (Paris)\",\"Cahiers d'art (Paris)\",\"Cahiers d'art (Paris)\",\"Cahiers d'art (Paris)\",\"Cahiers d'art (Paris)\",\"Cahiers d'art (Paris)\",\"Cahiers d'art (Paris)\",\"Cahiers d'art (Paris)\",\"Cahiers d'art (Paris)\",\"L'Esprit nouveau (Paris. 1920)\",\"Cahiers d'art (Paris)\",\"Cahiers d'art (Paris)\",\"L'Esprit nouveau (Paris. 1920)\",\"L'Esprit nouveau (Paris. 1920)\",\"Cahiers d'art (Paris)\",\"Cahiers d'art (Paris)\",\"L'Esprit nouveau (Paris. 1920)\",\"Cahiers d'art (Paris)\",\"Cahiers d'art (Paris)\",\"Cahiers d'art (Paris)\",\"Cahiers d'art (Paris)\",\"Cahiers d'art (Paris)\",\"Cahiers d'art (Paris)\",\"Cahiers d'art (Paris)\",\"L'Esprit nouveau (Paris. 1920)\",\"L'Esprit nouveau (Paris. 1920)\",\"Cahiers d'art (Paris)\",\"Cahiers d'art (Paris)\",\"Cahiers d'art (Paris)\",\"Cahiers d'art (Paris)\",\"Cahiers d'art (Paris)\",\"Cahiers d'art (Paris)\",\"Cahiers d'art (Paris)\",\"Cahiers d'art (Paris)\",\"L'Esprit nouveau (Paris. 1920)\",\"Cahiers d'art (Paris)\",\"Cahiers d'art (Paris)\",\"Cahiers d'art (Paris)\",\"Cahiers d'art (Paris)\",\"Cahiers d'art (Paris)\",\"Cahiers d'art (Paris)\",\"Cahiers d'art (Paris)\",\"Cahiers d'art (Paris)\",\"L'Esprit nouveau (Paris. 1920)\",\"Cahiers d'art (Paris)\",\"Cahiers d'art (Paris)\",\"L'Esprit nouveau (Paris. 1920)\",\"Cahiers d'art (Paris)\",\"Cahiers d'art (Paris)\",\"Cahiers d'art (Paris)\",\"Cahiers d'art (Paris)\",\"L'Esprit nouveau (Paris. 1920)\",\"Cahiers d'art (Paris)\",\"Cahiers d'art (Paris)\",\"L'Esprit nouveau (Paris. 1920)\",\"Cahiers d'art (Paris)\",\"Cahiers d'art (Paris)\",\"Cahiers d'art (Paris)\",\"Cahiers d'art (Paris)\",\"L'Esprit nouveau (Paris. 1920)\",\"Cahiers d'art (Paris)\",\"Cahiers d'art (Paris)\",\"Cahiers d'art (Paris)\",\"Cahiers d'art (Paris)\",\"Cahiers d'art (Paris)\",\"Cahiers d'art (Paris)\",\"Cahiers d'art (Paris)\",\"Cahiers d'art (Paris)\",\"Cahiers d'art (Paris)\",\"Cahiers d'art (Paris)\",\"Cahiers d'art (Paris)\",\"Cahiers d'art (Paris)\",\"L'Esprit nouveau (Paris. 1920)\",\"Cahiers d'art (Paris)\",\"Cahiers d'art (Paris)\",\"L'Esprit nouveau (Paris. 1920)\",\"Cahiers d'art (Paris)\",\"Cahiers d'art (Paris)\",\"Cahiers d'art (Paris)\",\"L'Esprit nouveau (Paris. 1920)\",\"L'Esprit nouveau (Paris. 1920)\",\"L'Esprit nouveau (Paris. 1920)\",\"Cahiers d'art (Paris)\",\"L'Esprit nouveau (Paris. 1920)\",\"L'Esprit nouveau (Paris. 1920)\",\"Cahiers d'art (Paris)\",\"L'Esprit nouveau (Paris. 1920)\",\"Cahiers d'art (Paris)\",\"L'Esprit nouveau (Paris. 1920)\",\"Cahiers d'art (Paris)\",\"Cahiers d'art (Paris)\",\"L'Esprit nouveau (Paris. 1920)\",\"L'Esprit nouveau (Paris. 1920)\",\"Cahiers d'art (Paris)\",\"Cahiers d'art (Paris)\",\"Cahiers d'art (Paris)\",\"Cahiers d'art (Paris)\",\"Cahiers d'art (Paris)\",\"Cahiers d'art (Paris)\",\"L'Esprit nouveau (Paris. 1920)\",\"Cahiers d'art (Paris)\",\"Cahiers d'art (Paris)\",\"L'Esprit nouveau (Paris. 1920)\",\"L'Esprit nouveau (Paris. 1920)\",\"L'Esprit nouveau (Paris. 1920)\",\"Cahiers d'art (Paris)\",\"L'Esprit nouveau (Paris. 1920)\",\"Cahiers d'art (Paris)\",\"Cahiers d'art (Paris)\",\"L'Esprit nouveau (Paris. 1920)\",\"Cahiers d'art (Paris)\",\"Cahiers d'art (Paris)\",\"L'Esprit nouveau (Paris. 1920)\",\"Cahiers d'art (Paris)\",\"Cahiers d'art (Paris)\",\"L'Esprit nouveau (Paris. 1920)\",\"Cahiers d'art (Paris)\",\"L'Esprit nouveau (Paris. 1920)\",\"Cahiers d'art (Paris)\",\"L'Esprit nouveau (Paris. 1920)\",\"Cahiers d'art (Paris)\",\"Cahiers d'art (Paris)\",\"L'Esprit nouveau (Paris. 1920)\",\"Cahiers d'art (Paris)\",\"L'Esprit nouveau (Paris. 1920)\",\"Cahiers d'art (Paris)\",\"L'Esprit nouveau (Paris. 1920)\",\"Cahiers d'art (Paris)\",\"Cahiers d'art (Paris)\",\"L'Esprit nouveau (Paris. 1920)\",\"Cahiers d'art (Paris)\",\"Cahiers d'art (Paris)\",\"L'Esprit nouveau (Paris. 1920)\",\"L'Esprit nouveau (Paris. 1920)\",\"Cahiers d'art (Paris)\",\"L'Esprit nouveau (Paris. 1920)\",\"L'Esprit nouveau (Paris. 1920)\"],\"xaxis\":\"x\",\"yaxis\":\"y\",\"type\":\"histogram\",\"textfont\":{\"size\":12},\"textangle\":0,\"textposition\":\"outside\"},{\"alignmentgroup\":\"True\",\"bingroup\":\"x\",\"hovertemplate\":\"Country=Czech Republic<br>impact of a AG journal outside the AG=%{x}<br>count=%{y}<extra></extra>\",\"legendgroup\":\"Czech Republic\",\"marker\":{\"color\":\"#ab63fa\",\"pattern\":{\"shape\":\"\"}},\"name\":\"Czech Republic\",\"offsetgroup\":\"Czech Republic\",\"orientation\":\"v\",\"showlegend\":true,\"x\":[\"Um\\u011bleck\\u00fd m\\u0115s\\u00ed\\u010dn\\u00edk\",\"Um\\u011bleck\\u00fd m\\u0115s\\u00ed\\u010dn\\u00edk\",\"Um\\u011bleck\\u00fd m\\u0115s\\u00ed\\u010dn\\u00edk\",\"Um\\u011bleck\\u00fd m\\u0115s\\u00ed\\u010dn\\u00edk\",\"Um\\u011bleck\\u00fd m\\u0115s\\u00ed\\u010dn\\u00edk\",\"Um\\u011bleck\\u00fd m\\u0115s\\u00ed\\u010dn\\u00edk\",\"Um\\u011bleck\\u00fd m\\u0115s\\u00ed\\u010dn\\u00edk\",\"Um\\u011bleck\\u00fd m\\u0115s\\u00ed\\u010dn\\u00edk\",\"Um\\u011bleck\\u00fd m\\u0115s\\u00ed\\u010dn\\u00edk\",\"Um\\u011bleck\\u00fd m\\u0115s\\u00ed\\u010dn\\u00edk\",\"Um\\u011bleck\\u00fd m\\u0115s\\u00ed\\u010dn\\u00edk\",\"Um\\u011bleck\\u00fd m\\u0115s\\u00ed\\u010dn\\u00edk\",\"Um\\u011bleck\\u00fd m\\u0115s\\u00ed\\u010dn\\u00edk\",\"Um\\u011bleck\\u00fd m\\u0115s\\u00ed\\u010dn\\u00edk\",\"Um\\u011bleck\\u00fd m\\u0115s\\u00ed\\u010dn\\u00edk\",\"Um\\u011bleck\\u00fd m\\u0115s\\u00ed\\u010dn\\u00edk\",\"Um\\u011bleck\\u00fd m\\u0115s\\u00ed\\u010dn\\u00edk\",\"Um\\u011bleck\\u00fd m\\u0115s\\u00ed\\u010dn\\u00edk\",\"Um\\u011bleck\\u00fd m\\u0115s\\u00ed\\u010dn\\u00edk\",\"Um\\u011bleck\\u00fd m\\u0115s\\u00ed\\u010dn\\u00edk\",\"Um\\u011bleck\\u00fd m\\u0115s\\u00ed\\u010dn\\u00edk\",\"Um\\u011bleck\\u00fd m\\u0115s\\u00ed\\u010dn\\u00edk\",\"Um\\u011bleck\\u00fd m\\u0115s\\u00ed\\u010dn\\u00edk\",\"Um\\u011bleck\\u00fd m\\u0115s\\u00ed\\u010dn\\u00edk\",\"Um\\u011bleck\\u00fd m\\u0115s\\u00ed\\u010dn\\u00edk\",\"Um\\u011bleck\\u00fd m\\u0115s\\u00ed\\u010dn\\u00edk\",\"Um\\u011bleck\\u00fd m\\u0115s\\u00ed\\u010dn\\u00edk\"],\"xaxis\":\"x\",\"yaxis\":\"y\",\"type\":\"histogram\",\"textfont\":{\"size\":12},\"textangle\":0,\"textposition\":\"outside\"},{\"alignmentgroup\":\"True\",\"bingroup\":\"x\",\"hovertemplate\":\"Country=Poland<br>impact of a AG journal outside the AG=%{x}<br>count=%{y}<extra></extra>\",\"legendgroup\":\"Poland\",\"marker\":{\"color\":\"#FFA15A\",\"pattern\":{\"shape\":\"\"}},\"name\":\"Poland\",\"offsetgroup\":\"Poland\",\"orientation\":\"v\",\"showlegend\":true,\"x\":[\"Praesens\",\"Praesens\",\"Praesens\",\"Blok\",\"Praesens\",\"Praesens\",\"Blok\",\"Praesens\",\"Blok\",\"Praesens\",\"Praesens\",\"Praesens\",\"Praesens\",\"Praesens\",\"Praesens\",\"Praesens\",\"Blok\",\"Praesens\",\"Blok\",\"Praesens\",\"Praesens\",\"Blok\",\"Praesens\",\"Blok\",\"Blok\",\"Blok\",\"Blok\",\"Praesens\",\"Blok\"],\"xaxis\":\"x\",\"yaxis\":\"y\",\"type\":\"histogram\",\"textfont\":{\"size\":12},\"textangle\":0,\"textposition\":\"outside\"}],                        {\"template\":{\"data\":{\"histogram2dcontour\":[{\"type\":\"histogram2dcontour\",\"colorbar\":{\"outlinewidth\":0,\"ticks\":\"\"},\"colorscale\":[[0.0,\"#0d0887\"],[0.1111111111111111,\"#46039f\"],[0.2222222222222222,\"#7201a8\"],[0.3333333333333333,\"#9c179e\"],[0.4444444444444444,\"#bd3786\"],[0.5555555555555556,\"#d8576b\"],[0.6666666666666666,\"#ed7953\"],[0.7777777777777778,\"#fb9f3a\"],[0.8888888888888888,\"#fdca26\"],[1.0,\"#f0f921\"]]}],\"choropleth\":[{\"type\":\"choropleth\",\"colorbar\":{\"outlinewidth\":0,\"ticks\":\"\"}}],\"histogram2d\":[{\"type\":\"histogram2d\",\"colorbar\":{\"outlinewidth\":0,\"ticks\":\"\"},\"colorscale\":[[0.0,\"#0d0887\"],[0.1111111111111111,\"#46039f\"],[0.2222222222222222,\"#7201a8\"],[0.3333333333333333,\"#9c179e\"],[0.4444444444444444,\"#bd3786\"],[0.5555555555555556,\"#d8576b\"],[0.6666666666666666,\"#ed7953\"],[0.7777777777777778,\"#fb9f3a\"],[0.8888888888888888,\"#fdca26\"],[1.0,\"#f0f921\"]]}],\"heatmap\":[{\"type\":\"heatmap\",\"colorbar\":{\"outlinewidth\":0,\"ticks\":\"\"},\"colorscale\":[[0.0,\"#0d0887\"],[0.1111111111111111,\"#46039f\"],[0.2222222222222222,\"#7201a8\"],[0.3333333333333333,\"#9c179e\"],[0.4444444444444444,\"#bd3786\"],[0.5555555555555556,\"#d8576b\"],[0.6666666666666666,\"#ed7953\"],[0.7777777777777778,\"#fb9f3a\"],[0.8888888888888888,\"#fdca26\"],[1.0,\"#f0f921\"]]}],\"heatmapgl\":[{\"type\":\"heatmapgl\",\"colorbar\":{\"outlinewidth\":0,\"ticks\":\"\"},\"colorscale\":[[0.0,\"#0d0887\"],[0.1111111111111111,\"#46039f\"],[0.2222222222222222,\"#7201a8\"],[0.3333333333333333,\"#9c179e\"],[0.4444444444444444,\"#bd3786\"],[0.5555555555555556,\"#d8576b\"],[0.6666666666666666,\"#ed7953\"],[0.7777777777777778,\"#fb9f3a\"],[0.8888888888888888,\"#fdca26\"],[1.0,\"#f0f921\"]]}],\"contourcarpet\":[{\"type\":\"contourcarpet\",\"colorbar\":{\"outlinewidth\":0,\"ticks\":\"\"}}],\"contour\":[{\"type\":\"contour\",\"colorbar\":{\"outlinewidth\":0,\"ticks\":\"\"},\"colorscale\":[[0.0,\"#0d0887\"],[0.1111111111111111,\"#46039f\"],[0.2222222222222222,\"#7201a8\"],[0.3333333333333333,\"#9c179e\"],[0.4444444444444444,\"#bd3786\"],[0.5555555555555556,\"#d8576b\"],[0.6666666666666666,\"#ed7953\"],[0.7777777777777778,\"#fb9f3a\"],[0.8888888888888888,\"#fdca26\"],[1.0,\"#f0f921\"]]}],\"surface\":[{\"type\":\"surface\",\"colorbar\":{\"outlinewidth\":0,\"ticks\":\"\"},\"colorscale\":[[0.0,\"#0d0887\"],[0.1111111111111111,\"#46039f\"],[0.2222222222222222,\"#7201a8\"],[0.3333333333333333,\"#9c179e\"],[0.4444444444444444,\"#bd3786\"],[0.5555555555555556,\"#d8576b\"],[0.6666666666666666,\"#ed7953\"],[0.7777777777777778,\"#fb9f3a\"],[0.8888888888888888,\"#fdca26\"],[1.0,\"#f0f921\"]]}],\"mesh3d\":[{\"type\":\"mesh3d\",\"colorbar\":{\"outlinewidth\":0,\"ticks\":\"\"}}],\"scatter\":[{\"fillpattern\":{\"fillmode\":\"overlay\",\"size\":10,\"solidity\":0.2},\"type\":\"scatter\"}],\"parcoords\":[{\"type\":\"parcoords\",\"line\":{\"colorbar\":{\"outlinewidth\":0,\"ticks\":\"\"}}}],\"scatterpolargl\":[{\"type\":\"scatterpolargl\",\"marker\":{\"colorbar\":{\"outlinewidth\":0,\"ticks\":\"\"}}}],\"bar\":[{\"error_x\":{\"color\":\"#2a3f5f\"},\"error_y\":{\"color\":\"#2a3f5f\"},\"marker\":{\"line\":{\"color\":\"#E5ECF6\",\"width\":0.5},\"pattern\":{\"fillmode\":\"overlay\",\"size\":10,\"solidity\":0.2}},\"type\":\"bar\"}],\"scattergeo\":[{\"type\":\"scattergeo\",\"marker\":{\"colorbar\":{\"outlinewidth\":0,\"ticks\":\"\"}}}],\"scatterpolar\":[{\"type\":\"scatterpolar\",\"marker\":{\"colorbar\":{\"outlinewidth\":0,\"ticks\":\"\"}}}],\"histogram\":[{\"marker\":{\"pattern\":{\"fillmode\":\"overlay\",\"size\":10,\"solidity\":0.2}},\"type\":\"histogram\"}],\"scattergl\":[{\"type\":\"scattergl\",\"marker\":{\"colorbar\":{\"outlinewidth\":0,\"ticks\":\"\"}}}],\"scatter3d\":[{\"type\":\"scatter3d\",\"line\":{\"colorbar\":{\"outlinewidth\":0,\"ticks\":\"\"}},\"marker\":{\"colorbar\":{\"outlinewidth\":0,\"ticks\":\"\"}}}],\"scattermapbox\":[{\"type\":\"scattermapbox\",\"marker\":{\"colorbar\":{\"outlinewidth\":0,\"ticks\":\"\"}}}],\"scatterternary\":[{\"type\":\"scatterternary\",\"marker\":{\"colorbar\":{\"outlinewidth\":0,\"ticks\":\"\"}}}],\"scattercarpet\":[{\"type\":\"scattercarpet\",\"marker\":{\"colorbar\":{\"outlinewidth\":0,\"ticks\":\"\"}}}],\"carpet\":[{\"aaxis\":{\"endlinecolor\":\"#2a3f5f\",\"gridcolor\":\"white\",\"linecolor\":\"white\",\"minorgridcolor\":\"white\",\"startlinecolor\":\"#2a3f5f\"},\"baxis\":{\"endlinecolor\":\"#2a3f5f\",\"gridcolor\":\"white\",\"linecolor\":\"white\",\"minorgridcolor\":\"white\",\"startlinecolor\":\"#2a3f5f\"},\"type\":\"carpet\"}],\"table\":[{\"cells\":{\"fill\":{\"color\":\"#EBF0F8\"},\"line\":{\"color\":\"white\"}},\"header\":{\"fill\":{\"color\":\"#C8D4E3\"},\"line\":{\"color\":\"white\"}},\"type\":\"table\"}],\"barpolar\":[{\"marker\":{\"line\":{\"color\":\"#E5ECF6\",\"width\":0.5},\"pattern\":{\"fillmode\":\"overlay\",\"size\":10,\"solidity\":0.2}},\"type\":\"barpolar\"}],\"pie\":[{\"automargin\":true,\"type\":\"pie\"}]},\"layout\":{\"autotypenumbers\":\"strict\",\"colorway\":[\"#636efa\",\"#EF553B\",\"#00cc96\",\"#ab63fa\",\"#FFA15A\",\"#19d3f3\",\"#FF6692\",\"#B6E880\",\"#FF97FF\",\"#FECB52\"],\"font\":{\"color\":\"#2a3f5f\"},\"hovermode\":\"closest\",\"hoverlabel\":{\"align\":\"left\"},\"paper_bgcolor\":\"white\",\"plot_bgcolor\":\"#E5ECF6\",\"polar\":{\"bgcolor\":\"#E5ECF6\",\"angularaxis\":{\"gridcolor\":\"white\",\"linecolor\":\"white\",\"ticks\":\"\"},\"radialaxis\":{\"gridcolor\":\"white\",\"linecolor\":\"white\",\"ticks\":\"\"}},\"ternary\":{\"bgcolor\":\"#E5ECF6\",\"aaxis\":{\"gridcolor\":\"white\",\"linecolor\":\"white\",\"ticks\":\"\"},\"baxis\":{\"gridcolor\":\"white\",\"linecolor\":\"white\",\"ticks\":\"\"},\"caxis\":{\"gridcolor\":\"white\",\"linecolor\":\"white\",\"ticks\":\"\"}},\"coloraxis\":{\"colorbar\":{\"outlinewidth\":0,\"ticks\":\"\"}},\"colorscale\":{\"sequential\":[[0.0,\"#0d0887\"],[0.1111111111111111,\"#46039f\"],[0.2222222222222222,\"#7201a8\"],[0.3333333333333333,\"#9c179e\"],[0.4444444444444444,\"#bd3786\"],[0.5555555555555556,\"#d8576b\"],[0.6666666666666666,\"#ed7953\"],[0.7777777777777778,\"#fb9f3a\"],[0.8888888888888888,\"#fdca26\"],[1.0,\"#f0f921\"]],\"sequentialminus\":[[0.0,\"#0d0887\"],[0.1111111111111111,\"#46039f\"],[0.2222222222222222,\"#7201a8\"],[0.3333333333333333,\"#9c179e\"],[0.4444444444444444,\"#bd3786\"],[0.5555555555555556,\"#d8576b\"],[0.6666666666666666,\"#ed7953\"],[0.7777777777777778,\"#fb9f3a\"],[0.8888888888888888,\"#fdca26\"],[1.0,\"#f0f921\"]],\"diverging\":[[0,\"#8e0152\"],[0.1,\"#c51b7d\"],[0.2,\"#de77ae\"],[0.3,\"#f1b6da\"],[0.4,\"#fde0ef\"],[0.5,\"#f7f7f7\"],[0.6,\"#e6f5d0\"],[0.7,\"#b8e186\"],[0.8,\"#7fbc41\"],[0.9,\"#4d9221\"],[1,\"#276419\"]]},\"xaxis\":{\"gridcolor\":\"white\",\"linecolor\":\"white\",\"ticks\":\"\",\"title\":{\"standoff\":15},\"zerolinecolor\":\"white\",\"automargin\":true,\"zerolinewidth\":2},\"yaxis\":{\"gridcolor\":\"white\",\"linecolor\":\"white\",\"ticks\":\"\",\"title\":{\"standoff\":15},\"zerolinecolor\":\"white\",\"automargin\":true,\"zerolinewidth\":2},\"scene\":{\"xaxis\":{\"backgroundcolor\":\"#E5ECF6\",\"gridcolor\":\"white\",\"linecolor\":\"white\",\"showbackground\":true,\"ticks\":\"\",\"zerolinecolor\":\"white\",\"gridwidth\":2},\"yaxis\":{\"backgroundcolor\":\"#E5ECF6\",\"gridcolor\":\"white\",\"linecolor\":\"white\",\"showbackground\":true,\"ticks\":\"\",\"zerolinecolor\":\"white\",\"gridwidth\":2},\"zaxis\":{\"backgroundcolor\":\"#E5ECF6\",\"gridcolor\":\"white\",\"linecolor\":\"white\",\"showbackground\":true,\"ticks\":\"\",\"zerolinecolor\":\"white\",\"gridwidth\":2}},\"shapedefaults\":{\"line\":{\"color\":\"#2a3f5f\"}},\"annotationdefaults\":{\"arrowcolor\":\"#2a3f5f\",\"arrowhead\":0,\"arrowwidth\":1},\"geo\":{\"bgcolor\":\"white\",\"landcolor\":\"#E5ECF6\",\"subunitcolor\":\"white\",\"showland\":true,\"showlakes\":true,\"lakecolor\":\"white\"},\"title\":{\"x\":0.05},\"mapbox\":{\"style\":\"light\"}}},\"xaxis\":{\"anchor\":\"y\",\"domain\":[0.0,1.0],\"title\":{\"text\":\"impact of a AG journal outside the AG\"}},\"yaxis\":{\"anchor\":\"x\",\"domain\":[0.0,1.0],\"title\":{\"text\":\"count\"}},\"legend\":{\"title\":{\"text\":\"Country\"},\"tracegroupgap\":0},\"title\":{\"text\":\"Which journal initiate more chains of circulation from the AG towards other communities\"},\"barmode\":\"relative\"},                        {\"responsive\": true}                    ).then(function(){\n",
       "                            \n",
       "var gd = document.getElementById('8ad33725-8ed4-44d6-8f59-f7e0e9c6134b');\n",
       "var x = new MutationObserver(function (mutations, observer) {{\n",
       "        var display = window.getComputedStyle(gd).display;\n",
       "        if (!display || display === 'none') {{\n",
       "            console.log([gd, 'removed!']);\n",
       "            Plotly.purge(gd);\n",
       "            observer.disconnect();\n",
       "        }}\n",
       "}});\n",
       "\n",
       "// Listen for the removal of the full notebook cells\n",
       "var notebookContainer = gd.closest('#notebook-container');\n",
       "if (notebookContainer) {{\n",
       "    x.observe(notebookContainer, {childList: true});\n",
       "}}\n",
       "\n",
       "// Listen for the clearing of the current output cell\n",
       "var outputEl = gd.closest('.output');\n",
       "if (outputEl) {{\n",
       "    x.observe(outputEl, {childList: true});\n",
       "}}\n",
       "\n",
       "                        })                };                });            </script>        </div>"
      ]
     },
     "metadata": {},
     "output_type": "display_data"
    }
   ],
   "source": [
    "fig = px.histogram(top,  x='issueLabel', color=\"Country\",\n",
    "            title=\"Which journal initiate more chains of circulation from the AG towards other communities\",\n",
    "                  labels={\n",
    "                     \"issueLabel\": \"impact of a AG journal outside the AG\"})\n",
    "fig.update_traces(textfont_size=12, textangle=0, textposition=\"outside\")\n",
    "fig.show()\n",
    "fig.write_image(\"viz/external_only_all.png\",  scale=3, width=2000) \n",
    "fig.write_html('viz/external_only_all.html', auto_open=True)"
   ]
  },
  {
   "cell_type": "markdown",
   "id": "d78bd869-cad9-4c54-a7af-33342d5e1885",
   "metadata": {},
   "source": [
    "## Primitive images"
   ]
  },
  {
   "cell_type": "markdown",
   "id": "fa7cea62-6b02-4c18-9fa6-bd4dd59e59ac",
   "metadata": {},
   "source": [
    "### Distribution per year"
   ]
  },
  {
   "cell_type": "code",
   "execution_count": 102,
   "id": "5c8ca1b3-79d5-4c30-9e77-e7d2956f7c5f",
   "metadata": {},
   "outputs": [],
   "source": [
    "image_vis = p_ag.drop_duplicates(subset=['image'])"
   ]
  },
  {
   "cell_type": "code",
   "execution_count": 103,
   "id": "71789f0e-8287-4fd9-9521-69ef5525a17a",
   "metadata": {},
   "outputs": [
    {
     "data": {
      "application/vnd.plotly.v1+json": {
       "config": {
        "plotlyServerURL": "https://plot.ly"
       },
       "data": [
        {
         "alignmentgroup": "True",
         "bingroup": "x",
         "cliponaxis": false,
         "hovertemplate": "Year of publication=%{x}<br>count=%{y}<extra></extra>",
         "legendgroup": "",
         "marker": {
          "color": "#636efa",
          "pattern": {
           "shape": ""
          }
         },
         "name": "",
         "offsetgroup": "",
         "orientation": "v",
         "showlegend": false,
         "textangle": 0,
         "textfont": {
          "size": 12
         },
         "textposition": "outside",
         "type": "histogram",
         "x": [
          1923,
          1925,
          1919,
          1921,
          1912,
          1922,
          1920,
          1914,
          1937,
          1922,
          1919,
          1928,
          1924,
          1920,
          1912,
          1926,
          1926,
          1914,
          1925,
          1928,
          1921,
          1931,
          1928,
          1928,
          1929,
          1914,
          1913,
          1931,
          1932,
          1914,
          1929,
          1919,
          1920,
          1925,
          1918,
          1932,
          1930,
          1954,
          1932,
          1925,
          1927,
          1921,
          1928,
          1932,
          1926,
          1927,
          1936,
          1921,
          1930,
          1928,
          1931,
          1929,
          1927,
          1928,
          1930,
          1926,
          1930,
          1923,
          1939,
          1927,
          1927,
          1924,
          1930,
          1932,
          1927,
          1922,
          1930,
          1925,
          1930,
          1922,
          1931,
          1926,
          1927,
          1926,
          1927,
          1926,
          1928,
          1949,
          1927,
          1931,
          1930,
          1932,
          1952,
          1930,
          1927,
          1920,
          1922,
          1915,
          1929,
          1927,
          1931,
          1930,
          1932,
          1928,
          1929,
          1930,
          1928,
          1927,
          1929,
          1930,
          1924,
          1931,
          1920,
          1925,
          1924,
          1934,
          1926,
          1925,
          1922,
          1925,
          1920,
          1929,
          1939,
          1929,
          1927,
          1924,
          1945,
          1929,
          1932,
          1921,
          1928,
          1931,
          1945,
          1924,
          1926,
          1933,
          1926,
          1919,
          1934,
          1938,
          1914,
          1930,
          1929,
          1926,
          1928,
          1930,
          1928,
          1932,
          1927,
          1927,
          1930,
          1927,
          1930,
          1932,
          1918,
          1922,
          1927,
          1926,
          1930,
          1925,
          1927,
          1933,
          1930,
          1926,
          1927,
          1915,
          1929,
          1930,
          1921,
          1931,
          1927,
          1928,
          1928,
          1925,
          1931,
          1931,
          1932,
          1930,
          1914,
          1932,
          1934,
          1930,
          1931,
          1927,
          1922,
          1930,
          1927,
          1929,
          1935,
          1929,
          1932,
          1927,
          1933,
          1930,
          1930,
          1913,
          1921,
          1927,
          1922,
          1930,
          1912,
          1928,
          1926,
          1930,
          1932,
          1928,
          1930,
          1929,
          1924,
          1927,
          1933,
          1921,
          1928,
          1931,
          1919,
          1929,
          1930,
          1922,
          1915,
          1933,
          1932,
          1928,
          1929,
          1927,
          1928,
          1928,
          1928,
          1932,
          1947,
          1926,
          1928,
          1947,
          1932,
          1936,
          1945,
          1954,
          1924,
          1927,
          1929,
          1932,
          1912,
          1929,
          1927,
          1932,
          1926,
          1921,
          1921,
          1912,
          1920,
          1921,
          1920,
          1929,
          1926,
          1927,
          1925,
          1927,
          1922,
          1930,
          1921,
          1945,
          1930,
          1933,
          1921,
          1924,
          1919,
          1931,
          1935,
          1912,
          1930,
          1945,
          1930,
          1939,
          1933,
          1912,
          1932,
          1929,
          1931,
          1931,
          1927,
          1925,
          1940,
          1928,
          1923,
          1927,
          1929,
          1931,
          1926,
          1928,
          1933,
          1927,
          1920,
          1918,
          1921,
          1930,
          1928,
          1922,
          1930,
          1929,
          1927,
          1930,
          1918,
          1924,
          1930,
          1913,
          1930,
          1922,
          1928,
          1935,
          1922,
          1920,
          1947,
          1933,
          1954,
          1927,
          1929,
          1932,
          1927,
          1929,
          1931,
          1924,
          1930,
          1948,
          1930,
          1932,
          1928,
          1921,
          1927,
          1925,
          1928,
          1930,
          1920,
          1930,
          1921,
          1927,
          1919,
          1931,
          1930,
          1927,
          1921,
          1931,
          1934,
          1922,
          1945,
          1922,
          1925,
          1927,
          1928,
          1927,
          1927,
          1912,
          1926,
          1931,
          1929,
          1929,
          1926,
          1932,
          1927,
          1922,
          1936,
          1947,
          1931,
          1919,
          1933,
          1929,
          1921,
          1924,
          1933,
          1922,
          1924,
          1925,
          1930,
          1927,
          1929,
          1931,
          1948,
          1921,
          1928,
          1930,
          1920,
          1936,
          1924,
          1934,
          1929,
          1931,
          1928,
          1928,
          1948,
          1930,
          1952,
          1930,
          1928,
          1930,
          1929,
          1927,
          1920,
          1932,
          1916,
          1926,
          1932,
          1921,
          1928,
          1928,
          1927,
          1924,
          1929,
          1913,
          1924,
          1926,
          1928,
          1932,
          1930,
          1927,
          1932,
          1929,
          1930,
          1931,
          1930,
          1924,
          1932,
          1923,
          1925,
          1935,
          1929,
          1914,
          1933,
          1922,
          1926,
          1929,
          1930,
          1932,
          1927,
          1912,
          1924,
          1931,
          1948,
          1918,
          1930,
          1926,
          1926,
          1915,
          1928,
          1926,
          1920,
          1947,
          1933,
          1927,
          1938,
          1918,
          1930,
          1926,
          1931,
          1930,
          1927,
          1929,
          1930,
          1925,
          1937,
          1924,
          1932,
          1927,
          1928,
          1927,
          1929,
          1919,
          1937,
          1926,
          1929,
          1929,
          1932,
          1931,
          1928,
          1932,
          1927,
          1928,
          1930,
          1913,
          1932,
          1930,
          1919,
          1928,
          1931,
          1932,
          1930,
          1921,
          1926,
          1930,
          1926,
          1924,
          1924,
          1928,
          1928,
          1924,
          1931,
          1930,
          1931,
          1924,
          1931,
          1922,
          1931,
          1929,
          1922,
          1933,
          1929,
          1929,
          1912,
          1927,
          1913,
          1928,
          1929,
          1928,
          1928,
          1936,
          1928,
          1928,
          1930,
          1931,
          1921,
          1924,
          1929,
          1922,
          1926,
          1930,
          1933,
          1916,
          1932,
          1937,
          1930,
          1930,
          1928,
          1918,
          1937,
          1911,
          1935,
          1926,
          1921,
          1927,
          1929,
          1926,
          1930,
          1919,
          1919,
          1927,
          1927,
          1912,
          1911,
          1933,
          1929,
          1914,
          1930,
          1930,
          1932,
          1920,
          1929,
          1926,
          1924,
          1930,
          1926,
          1929,
          1926,
          1933,
          1933,
          1921,
          1928,
          1925,
          1926,
          1920,
          1926,
          1929,
          1928,
          1924,
          1930,
          1922,
          1931,
          1921,
          1930,
          1927,
          1927,
          1928,
          1912,
          1930,
          1926,
          1931,
          1918,
          1912,
          1928,
          1927,
          1931,
          1923,
          1926,
          1933,
          1929,
          1911,
          1928,
          1933,
          1917,
          1924,
          1930,
          1931,
          1932,
          1921,
          1932,
          1930,
          1929,
          1927,
          1926,
          1927,
          1922,
          1915,
          1924,
          1924,
          1913,
          1924,
          1928,
          1932,
          1921,
          1928,
          1921,
          1929,
          1920,
          1928,
          1920,
          1927,
          1926,
          1929,
          1921,
          1918,
          1927,
          1922,
          1924,
          1928,
          1932,
          1927,
          1928,
          1914,
          1929,
          1925,
          1930,
          1926,
          1930,
          1934,
          1924,
          1926,
          1929,
          1920,
          1924,
          1920,
          1927,
          1930,
          1927,
          1920,
          1929,
          1931,
          1920,
          1920,
          1927,
          1929,
          1921,
          1922,
          1950,
          1927,
          1921,
          1930,
          1920,
          1933,
          1920,
          1930,
          1927,
          1924,
          1925,
          1929,
          1917,
          1919,
          1921,
          1928,
          1921,
          1930,
          1914,
          1925,
          1926,
          1928,
          1929,
          1924,
          1930,
          1920,
          1927,
          1914,
          1927,
          1920,
          1924,
          1912,
          1928,
          1926,
          1911,
          1948,
          1928,
          1930,
          1928,
          1927,
          1925,
          1929,
          1926,
          1927,
          1924,
          1914,
          1928,
          1928,
          1921,
          1920
         ],
         "xaxis": "x",
         "yaxis": "y"
        }
       ],
       "layout": {
        "autosize": true,
        "barmode": "relative",
        "legend": {
         "tracegroupgap": 0
        },
        "template": {
         "data": {
          "bar": [
           {
            "error_x": {
             "color": "#2a3f5f"
            },
            "error_y": {
             "color": "#2a3f5f"
            },
            "marker": {
             "line": {
              "color": "#E5ECF6",
              "width": 0.5
             },
             "pattern": {
              "fillmode": "overlay",
              "size": 10,
              "solidity": 0.2
             }
            },
            "type": "bar"
           }
          ],
          "barpolar": [
           {
            "marker": {
             "line": {
              "color": "#E5ECF6",
              "width": 0.5
             },
             "pattern": {
              "fillmode": "overlay",
              "size": 10,
              "solidity": 0.2
             }
            },
            "type": "barpolar"
           }
          ],
          "carpet": [
           {
            "aaxis": {
             "endlinecolor": "#2a3f5f",
             "gridcolor": "white",
             "linecolor": "white",
             "minorgridcolor": "white",
             "startlinecolor": "#2a3f5f"
            },
            "baxis": {
             "endlinecolor": "#2a3f5f",
             "gridcolor": "white",
             "linecolor": "white",
             "minorgridcolor": "white",
             "startlinecolor": "#2a3f5f"
            },
            "type": "carpet"
           }
          ],
          "choropleth": [
           {
            "colorbar": {
             "outlinewidth": 0,
             "ticks": ""
            },
            "type": "choropleth"
           }
          ],
          "contour": [
           {
            "colorbar": {
             "outlinewidth": 0,
             "ticks": ""
            },
            "colorscale": [
             [
              0,
              "#0d0887"
             ],
             [
              0.1111111111111111,
              "#46039f"
             ],
             [
              0.2222222222222222,
              "#7201a8"
             ],
             [
              0.3333333333333333,
              "#9c179e"
             ],
             [
              0.4444444444444444,
              "#bd3786"
             ],
             [
              0.5555555555555556,
              "#d8576b"
             ],
             [
              0.6666666666666666,
              "#ed7953"
             ],
             [
              0.7777777777777778,
              "#fb9f3a"
             ],
             [
              0.8888888888888888,
              "#fdca26"
             ],
             [
              1,
              "#f0f921"
             ]
            ],
            "type": "contour"
           }
          ],
          "contourcarpet": [
           {
            "colorbar": {
             "outlinewidth": 0,
             "ticks": ""
            },
            "type": "contourcarpet"
           }
          ],
          "heatmap": [
           {
            "colorbar": {
             "outlinewidth": 0,
             "ticks": ""
            },
            "colorscale": [
             [
              0,
              "#0d0887"
             ],
             [
              0.1111111111111111,
              "#46039f"
             ],
             [
              0.2222222222222222,
              "#7201a8"
             ],
             [
              0.3333333333333333,
              "#9c179e"
             ],
             [
              0.4444444444444444,
              "#bd3786"
             ],
             [
              0.5555555555555556,
              "#d8576b"
             ],
             [
              0.6666666666666666,
              "#ed7953"
             ],
             [
              0.7777777777777778,
              "#fb9f3a"
             ],
             [
              0.8888888888888888,
              "#fdca26"
             ],
             [
              1,
              "#f0f921"
             ]
            ],
            "type": "heatmap"
           }
          ],
          "heatmapgl": [
           {
            "colorbar": {
             "outlinewidth": 0,
             "ticks": ""
            },
            "colorscale": [
             [
              0,
              "#0d0887"
             ],
             [
              0.1111111111111111,
              "#46039f"
             ],
             [
              0.2222222222222222,
              "#7201a8"
             ],
             [
              0.3333333333333333,
              "#9c179e"
             ],
             [
              0.4444444444444444,
              "#bd3786"
             ],
             [
              0.5555555555555556,
              "#d8576b"
             ],
             [
              0.6666666666666666,
              "#ed7953"
             ],
             [
              0.7777777777777778,
              "#fb9f3a"
             ],
             [
              0.8888888888888888,
              "#fdca26"
             ],
             [
              1,
              "#f0f921"
             ]
            ],
            "type": "heatmapgl"
           }
          ],
          "histogram": [
           {
            "marker": {
             "pattern": {
              "fillmode": "overlay",
              "size": 10,
              "solidity": 0.2
             }
            },
            "type": "histogram"
           }
          ],
          "histogram2d": [
           {
            "colorbar": {
             "outlinewidth": 0,
             "ticks": ""
            },
            "colorscale": [
             [
              0,
              "#0d0887"
             ],
             [
              0.1111111111111111,
              "#46039f"
             ],
             [
              0.2222222222222222,
              "#7201a8"
             ],
             [
              0.3333333333333333,
              "#9c179e"
             ],
             [
              0.4444444444444444,
              "#bd3786"
             ],
             [
              0.5555555555555556,
              "#d8576b"
             ],
             [
              0.6666666666666666,
              "#ed7953"
             ],
             [
              0.7777777777777778,
              "#fb9f3a"
             ],
             [
              0.8888888888888888,
              "#fdca26"
             ],
             [
              1,
              "#f0f921"
             ]
            ],
            "type": "histogram2d"
           }
          ],
          "histogram2dcontour": [
           {
            "colorbar": {
             "outlinewidth": 0,
             "ticks": ""
            },
            "colorscale": [
             [
              0,
              "#0d0887"
             ],
             [
              0.1111111111111111,
              "#46039f"
             ],
             [
              0.2222222222222222,
              "#7201a8"
             ],
             [
              0.3333333333333333,
              "#9c179e"
             ],
             [
              0.4444444444444444,
              "#bd3786"
             ],
             [
              0.5555555555555556,
              "#d8576b"
             ],
             [
              0.6666666666666666,
              "#ed7953"
             ],
             [
              0.7777777777777778,
              "#fb9f3a"
             ],
             [
              0.8888888888888888,
              "#fdca26"
             ],
             [
              1,
              "#f0f921"
             ]
            ],
            "type": "histogram2dcontour"
           }
          ],
          "mesh3d": [
           {
            "colorbar": {
             "outlinewidth": 0,
             "ticks": ""
            },
            "type": "mesh3d"
           }
          ],
          "parcoords": [
           {
            "line": {
             "colorbar": {
              "outlinewidth": 0,
              "ticks": ""
             }
            },
            "type": "parcoords"
           }
          ],
          "pie": [
           {
            "automargin": true,
            "type": "pie"
           }
          ],
          "scatter": [
           {
            "fillpattern": {
             "fillmode": "overlay",
             "size": 10,
             "solidity": 0.2
            },
            "type": "scatter"
           }
          ],
          "scatter3d": [
           {
            "line": {
             "colorbar": {
              "outlinewidth": 0,
              "ticks": ""
             }
            },
            "marker": {
             "colorbar": {
              "outlinewidth": 0,
              "ticks": ""
             }
            },
            "type": "scatter3d"
           }
          ],
          "scattercarpet": [
           {
            "marker": {
             "colorbar": {
              "outlinewidth": 0,
              "ticks": ""
             }
            },
            "type": "scattercarpet"
           }
          ],
          "scattergeo": [
           {
            "marker": {
             "colorbar": {
              "outlinewidth": 0,
              "ticks": ""
             }
            },
            "type": "scattergeo"
           }
          ],
          "scattergl": [
           {
            "marker": {
             "colorbar": {
              "outlinewidth": 0,
              "ticks": ""
             }
            },
            "type": "scattergl"
           }
          ],
          "scattermapbox": [
           {
            "marker": {
             "colorbar": {
              "outlinewidth": 0,
              "ticks": ""
             }
            },
            "type": "scattermapbox"
           }
          ],
          "scatterpolar": [
           {
            "marker": {
             "colorbar": {
              "outlinewidth": 0,
              "ticks": ""
             }
            },
            "type": "scatterpolar"
           }
          ],
          "scatterpolargl": [
           {
            "marker": {
             "colorbar": {
              "outlinewidth": 0,
              "ticks": ""
             }
            },
            "type": "scatterpolargl"
           }
          ],
          "scatterternary": [
           {
            "marker": {
             "colorbar": {
              "outlinewidth": 0,
              "ticks": ""
             }
            },
            "type": "scatterternary"
           }
          ],
          "surface": [
           {
            "colorbar": {
             "outlinewidth": 0,
             "ticks": ""
            },
            "colorscale": [
             [
              0,
              "#0d0887"
             ],
             [
              0.1111111111111111,
              "#46039f"
             ],
             [
              0.2222222222222222,
              "#7201a8"
             ],
             [
              0.3333333333333333,
              "#9c179e"
             ],
             [
              0.4444444444444444,
              "#bd3786"
             ],
             [
              0.5555555555555556,
              "#d8576b"
             ],
             [
              0.6666666666666666,
              "#ed7953"
             ],
             [
              0.7777777777777778,
              "#fb9f3a"
             ],
             [
              0.8888888888888888,
              "#fdca26"
             ],
             [
              1,
              "#f0f921"
             ]
            ],
            "type": "surface"
           }
          ],
          "table": [
           {
            "cells": {
             "fill": {
              "color": "#EBF0F8"
             },
             "line": {
              "color": "white"
             }
            },
            "header": {
             "fill": {
              "color": "#C8D4E3"
             },
             "line": {
              "color": "white"
             }
            },
            "type": "table"
           }
          ]
         },
         "layout": {
          "annotationdefaults": {
           "arrowcolor": "#2a3f5f",
           "arrowhead": 0,
           "arrowwidth": 1
          },
          "autotypenumbers": "strict",
          "coloraxis": {
           "colorbar": {
            "outlinewidth": 0,
            "ticks": ""
           }
          },
          "colorscale": {
           "diverging": [
            [
             0,
             "#8e0152"
            ],
            [
             0.1,
             "#c51b7d"
            ],
            [
             0.2,
             "#de77ae"
            ],
            [
             0.3,
             "#f1b6da"
            ],
            [
             0.4,
             "#fde0ef"
            ],
            [
             0.5,
             "#f7f7f7"
            ],
            [
             0.6,
             "#e6f5d0"
            ],
            [
             0.7,
             "#b8e186"
            ],
            [
             0.8,
             "#7fbc41"
            ],
            [
             0.9,
             "#4d9221"
            ],
            [
             1,
             "#276419"
            ]
           ],
           "sequential": [
            [
             0,
             "#0d0887"
            ],
            [
             0.1111111111111111,
             "#46039f"
            ],
            [
             0.2222222222222222,
             "#7201a8"
            ],
            [
             0.3333333333333333,
             "#9c179e"
            ],
            [
             0.4444444444444444,
             "#bd3786"
            ],
            [
             0.5555555555555556,
             "#d8576b"
            ],
            [
             0.6666666666666666,
             "#ed7953"
            ],
            [
             0.7777777777777778,
             "#fb9f3a"
            ],
            [
             0.8888888888888888,
             "#fdca26"
            ],
            [
             1,
             "#f0f921"
            ]
           ],
           "sequentialminus": [
            [
             0,
             "#0d0887"
            ],
            [
             0.1111111111111111,
             "#46039f"
            ],
            [
             0.2222222222222222,
             "#7201a8"
            ],
            [
             0.3333333333333333,
             "#9c179e"
            ],
            [
             0.4444444444444444,
             "#bd3786"
            ],
            [
             0.5555555555555556,
             "#d8576b"
            ],
            [
             0.6666666666666666,
             "#ed7953"
            ],
            [
             0.7777777777777778,
             "#fb9f3a"
            ],
            [
             0.8888888888888888,
             "#fdca26"
            ],
            [
             1,
             "#f0f921"
            ]
           ]
          },
          "colorway": [
           "#636efa",
           "#EF553B",
           "#00cc96",
           "#ab63fa",
           "#FFA15A",
           "#19d3f3",
           "#FF6692",
           "#B6E880",
           "#FF97FF",
           "#FECB52"
          ],
          "font": {
           "color": "#2a3f5f"
          },
          "geo": {
           "bgcolor": "white",
           "lakecolor": "white",
           "landcolor": "#E5ECF6",
           "showlakes": true,
           "showland": true,
           "subunitcolor": "white"
          },
          "hoverlabel": {
           "align": "left"
          },
          "hovermode": "closest",
          "mapbox": {
           "style": "light"
          },
          "paper_bgcolor": "white",
          "plot_bgcolor": "#E5ECF6",
          "polar": {
           "angularaxis": {
            "gridcolor": "white",
            "linecolor": "white",
            "ticks": ""
           },
           "bgcolor": "#E5ECF6",
           "radialaxis": {
            "gridcolor": "white",
            "linecolor": "white",
            "ticks": ""
           }
          },
          "scene": {
           "xaxis": {
            "backgroundcolor": "#E5ECF6",
            "gridcolor": "white",
            "gridwidth": 2,
            "linecolor": "white",
            "showbackground": true,
            "ticks": "",
            "zerolinecolor": "white"
           },
           "yaxis": {
            "backgroundcolor": "#E5ECF6",
            "gridcolor": "white",
            "gridwidth": 2,
            "linecolor": "white",
            "showbackground": true,
            "ticks": "",
            "zerolinecolor": "white"
           },
           "zaxis": {
            "backgroundcolor": "#E5ECF6",
            "gridcolor": "white",
            "gridwidth": 2,
            "linecolor": "white",
            "showbackground": true,
            "ticks": "",
            "zerolinecolor": "white"
           }
          },
          "shapedefaults": {
           "line": {
            "color": "#2a3f5f"
           }
          },
          "ternary": {
           "aaxis": {
            "gridcolor": "white",
            "linecolor": "white",
            "ticks": ""
           },
           "baxis": {
            "gridcolor": "white",
            "linecolor": "white",
            "ticks": ""
           },
           "bgcolor": "#E5ECF6",
           "caxis": {
            "gridcolor": "white",
            "linecolor": "white",
            "ticks": ""
           }
          },
          "title": {
           "x": 0.05
          },
          "xaxis": {
           "automargin": true,
           "gridcolor": "white",
           "linecolor": "white",
           "ticks": "",
           "title": {
            "standoff": 15
           },
           "zerolinecolor": "white",
           "zerolinewidth": 2
          },
          "yaxis": {
           "automargin": true,
           "gridcolor": "white",
           "linecolor": "white",
           "ticks": "",
           "title": {
            "standoff": 15
           },
           "zerolinecolor": "white",
           "zerolinewidth": 2
          }
         }
        },
        "title": {
         "text": "Primitive images distribution per year"
        },
        "xaxis": {
         "anchor": "y",
         "autorange": true,
         "domain": [
          0,
          1
         ],
         "range": [
          1910.5,
          1954.5
         ],
         "title": {
          "text": "Year of publication"
         },
         "type": "linear"
        },
        "yaxis": {
         "anchor": "x",
         "autorange": true,
         "domain": [
          0,
          1
         ],
         "range": [
          0,
          85.26315789473684
         ],
         "title": {
          "text": "count"
         }
        }
       }
      },
      "image/png": "[encoded data removed]",
      "text/html": [
       "<div>                            <div id=\"61fb8ea4-48ac-4e03-9552-b261ad4604fc\" class=\"plotly-graph-div\" style=\"height:525px; width:100%;\"></div>            <script type=\"text/javascript\">                require([\"plotly\"], function(Plotly) {                    window.PLOTLYENV=window.PLOTLYENV || {};                                    if (document.getElementById(\"61fb8ea4-48ac-4e03-9552-b261ad4604fc\")) {                    Plotly.newPlot(                        \"61fb8ea4-48ac-4e03-9552-b261ad4604fc\",                        [{\"alignmentgroup\":\"True\",\"bingroup\":\"x\",\"hovertemplate\":\"Year of publication=%{x}<br>count=%{y}<extra></extra>\",\"legendgroup\":\"\",\"marker\":{\"color\":\"#636efa\",\"pattern\":{\"shape\":\"\"}},\"name\":\"\",\"offsetgroup\":\"\",\"orientation\":\"v\",\"showlegend\":false,\"x\":[1923,1925,1919,1921,1912,1922,1920,1914,1937,1922,1919,1928,1924,1920,1912,1926,1926,1914,1925,1928,1921,1931,1928,1928,1929,1914,1913,1931,1932,1914,1929,1919,1920,1925,1918,1932,1930,1954,1932,1925,1927,1921,1928,1932,1926,1927,1936,1921,1930,1928,1931,1929,1927,1928,1930,1926,1930,1923,1939,1927,1927,1924,1930,1932,1927,1922,1930,1925,1930,1922,1931,1926,1927,1926,1927,1926,1928,1949,1927,1931,1930,1932,1952,1930,1927,1920,1922,1915,1929,1927,1931,1930,1932,1928,1929,1930,1928,1927,1929,1930,1924,1931,1920,1925,1924,1934,1926,1925,1922,1925,1920,1929,1939,1929,1927,1924,1945,1929,1932,1921,1928,1931,1945,1924,1926,1933,1926,1919,1934,1938,1914,1930,1929,1926,1928,1930,1928,1932,1927,1927,1930,1927,1930,1932,1918,1922,1927,1926,1930,1925,1927,1933,1930,1926,1927,1915,1929,1930,1921,1931,1927,1928,1928,1925,1931,1931,1932,1930,1914,1932,1934,1930,1931,1927,1922,1930,1927,1929,1935,1929,1932,1927,1933,1930,1930,1913,1921,1927,1922,1930,1912,1928,1926,1930,1932,1928,1930,1929,1924,1927,1933,1921,1928,1931,1919,1929,1930,1922,1915,1933,1932,1928,1929,1927,1928,1928,1928,1932,1947,1926,1928,1947,1932,1936,1945,1954,1924,1927,1929,1932,1912,1929,1927,1932,1926,1921,1921,1912,1920,1921,1920,1929,1926,1927,1925,1927,1922,1930,1921,1945,1930,1933,1921,1924,1919,1931,1935,1912,1930,1945,1930,1939,1933,1912,1932,1929,1931,1931,1927,1925,1940,1928,1923,1927,1929,1931,1926,1928,1933,1927,1920,1918,1921,1930,1928,1922,1930,1929,1927,1930,1918,1924,1930,1913,1930,1922,1928,1935,1922,1920,1947,1933,1954,1927,1929,1932,1927,1929,1931,1924,1930,1948,1930,1932,1928,1921,1927,1925,1928,1930,1920,1930,1921,1927,1919,1931,1930,1927,1921,1931,1934,1922,1945,1922,1925,1927,1928,1927,1927,1912,1926,1931,1929,1929,1926,1932,1927,1922,1936,1947,1931,1919,1933,1929,1921,1924,1933,1922,1924,1925,1930,1927,1929,1931,1948,1921,1928,1930,1920,1936,1924,1934,1929,1931,1928,1928,1948,1930,1952,1930,1928,1930,1929,1927,1920,1932,1916,1926,1932,1921,1928,1928,1927,1924,1929,1913,1924,1926,1928,1932,1930,1927,1932,1929,1930,1931,1930,1924,1932,1923,1925,1935,1929,1914,1933,1922,1926,1929,1930,1932,1927,1912,1924,1931,1948,1918,1930,1926,1926,1915,1928,1926,1920,1947,1933,1927,1938,1918,1930,1926,1931,1930,1927,1929,1930,1925,1937,1924,1932,1927,1928,1927,1929,1919,1937,1926,1929,1929,1932,1931,1928,1932,1927,1928,1930,1913,1932,1930,1919,1928,1931,1932,1930,1921,1926,1930,1926,1924,1924,1928,1928,1924,1931,1930,1931,1924,1931,1922,1931,1929,1922,1933,1929,1929,1912,1927,1913,1928,1929,1928,1928,1936,1928,1928,1930,1931,1921,1924,1929,1922,1926,1930,1933,1916,1932,1937,1930,1930,1928,1918,1937,1911,1935,1926,1921,1927,1929,1926,1930,1919,1919,1927,1927,1912,1911,1933,1929,1914,1930,1930,1932,1920,1929,1926,1924,1930,1926,1929,1926,1933,1933,1921,1928,1925,1926,1920,1926,1929,1928,1924,1930,1922,1931,1921,1930,1927,1927,1928,1912,1930,1926,1931,1918,1912,1928,1927,1931,1923,1926,1933,1929,1911,1928,1933,1917,1924,1930,1931,1932,1921,1932,1930,1929,1927,1926,1927,1922,1915,1924,1924,1913,1924,1928,1932,1921,1928,1921,1929,1920,1928,1920,1927,1926,1929,1921,1918,1927,1922,1924,1928,1932,1927,1928,1914,1929,1925,1930,1926,1930,1934,1924,1926,1929,1920,1924,1920,1927,1930,1927,1920,1929,1931,1920,1920,1927,1929,1921,1922,1950,1927,1921,1930,1920,1933,1920,1930,1927,1924,1925,1929,1917,1919,1921,1928,1921,1930,1914,1925,1926,1928,1929,1924,1930,1920,1927,1914,1927,1920,1924,1912,1928,1926,1911,1948,1928,1930,1928,1927,1925,1929,1926,1927,1924,1914,1928,1928,1921,1920],\"xaxis\":\"x\",\"yaxis\":\"y\",\"type\":\"histogram\",\"textfont\":{\"size\":12},\"cliponaxis\":false,\"textangle\":0,\"textposition\":\"outside\"}],                        {\"template\":{\"data\":{\"histogram2dcontour\":[{\"type\":\"histogram2dcontour\",\"colorbar\":{\"outlinewidth\":0,\"ticks\":\"\"},\"colorscale\":[[0.0,\"#0d0887\"],[0.1111111111111111,\"#46039f\"],[0.2222222222222222,\"#7201a8\"],[0.3333333333333333,\"#9c179e\"],[0.4444444444444444,\"#bd3786\"],[0.5555555555555556,\"#d8576b\"],[0.6666666666666666,\"#ed7953\"],[0.7777777777777778,\"#fb9f3a\"],[0.8888888888888888,\"#fdca26\"],[1.0,\"#f0f921\"]]}],\"choropleth\":[{\"type\":\"choropleth\",\"colorbar\":{\"outlinewidth\":0,\"ticks\":\"\"}}],\"histogram2d\":[{\"type\":\"histogram2d\",\"colorbar\":{\"outlinewidth\":0,\"ticks\":\"\"},\"colorscale\":[[0.0,\"#0d0887\"],[0.1111111111111111,\"#46039f\"],[0.2222222222222222,\"#7201a8\"],[0.3333333333333333,\"#9c179e\"],[0.4444444444444444,\"#bd3786\"],[0.5555555555555556,\"#d8576b\"],[0.6666666666666666,\"#ed7953\"],[0.7777777777777778,\"#fb9f3a\"],[0.8888888888888888,\"#fdca26\"],[1.0,\"#f0f921\"]]}],\"heatmap\":[{\"type\":\"heatmap\",\"colorbar\":{\"outlinewidth\":0,\"ticks\":\"\"},\"colorscale\":[[0.0,\"#0d0887\"],[0.1111111111111111,\"#46039f\"],[0.2222222222222222,\"#7201a8\"],[0.3333333333333333,\"#9c179e\"],[0.4444444444444444,\"#bd3786\"],[0.5555555555555556,\"#d8576b\"],[0.6666666666666666,\"#ed7953\"],[0.7777777777777778,\"#fb9f3a\"],[0.8888888888888888,\"#fdca26\"],[1.0,\"#f0f921\"]]}],\"heatmapgl\":[{\"type\":\"heatmapgl\",\"colorbar\":{\"outlinewidth\":0,\"ticks\":\"\"},\"colorscale\":[[0.0,\"#0d0887\"],[0.1111111111111111,\"#46039f\"],[0.2222222222222222,\"#7201a8\"],[0.3333333333333333,\"#9c179e\"],[0.4444444444444444,\"#bd3786\"],[0.5555555555555556,\"#d8576b\"],[0.6666666666666666,\"#ed7953\"],[0.7777777777777778,\"#fb9f3a\"],[0.8888888888888888,\"#fdca26\"],[1.0,\"#f0f921\"]]}],\"contourcarpet\":[{\"type\":\"contourcarpet\",\"colorbar\":{\"outlinewidth\":0,\"ticks\":\"\"}}],\"contour\":[{\"type\":\"contour\",\"colorbar\":{\"outlinewidth\":0,\"ticks\":\"\"},\"colorscale\":[[0.0,\"#0d0887\"],[0.1111111111111111,\"#46039f\"],[0.2222222222222222,\"#7201a8\"],[0.3333333333333333,\"#9c179e\"],[0.4444444444444444,\"#bd3786\"],[0.5555555555555556,\"#d8576b\"],[0.6666666666666666,\"#ed7953\"],[0.7777777777777778,\"#fb9f3a\"],[0.8888888888888888,\"#fdca26\"],[1.0,\"#f0f921\"]]}],\"surface\":[{\"type\":\"surface\",\"colorbar\":{\"outlinewidth\":0,\"ticks\":\"\"},\"colorscale\":[[0.0,\"#0d0887\"],[0.1111111111111111,\"#46039f\"],[0.2222222222222222,\"#7201a8\"],[0.3333333333333333,\"#9c179e\"],[0.4444444444444444,\"#bd3786\"],[0.5555555555555556,\"#d8576b\"],[0.6666666666666666,\"#ed7953\"],[0.7777777777777778,\"#fb9f3a\"],[0.8888888888888888,\"#fdca26\"],[1.0,\"#f0f921\"]]}],\"mesh3d\":[{\"type\":\"mesh3d\",\"colorbar\":{\"outlinewidth\":0,\"ticks\":\"\"}}],\"scatter\":[{\"fillpattern\":{\"fillmode\":\"overlay\",\"size\":10,\"solidity\":0.2},\"type\":\"scatter\"}],\"parcoords\":[{\"type\":\"parcoords\",\"line\":{\"colorbar\":{\"outlinewidth\":0,\"ticks\":\"\"}}}],\"scatterpolargl\":[{\"type\":\"scatterpolargl\",\"marker\":{\"colorbar\":{\"outlinewidth\":0,\"ticks\":\"\"}}}],\"bar\":[{\"error_x\":{\"color\":\"#2a3f5f\"},\"error_y\":{\"color\":\"#2a3f5f\"},\"marker\":{\"line\":{\"color\":\"#E5ECF6\",\"width\":0.5},\"pattern\":{\"fillmode\":\"overlay\",\"size\":10,\"solidity\":0.2}},\"type\":\"bar\"}],\"scattergeo\":[{\"type\":\"scattergeo\",\"marker\":{\"colorbar\":{\"outlinewidth\":0,\"ticks\":\"\"}}}],\"scatterpolar\":[{\"type\":\"scatterpolar\",\"marker\":{\"colorbar\":{\"outlinewidth\":0,\"ticks\":\"\"}}}],\"histogram\":[{\"marker\":{\"pattern\":{\"fillmode\":\"overlay\",\"size\":10,\"solidity\":0.2}},\"type\":\"histogram\"}],\"scattergl\":[{\"type\":\"scattergl\",\"marker\":{\"colorbar\":{\"outlinewidth\":0,\"ticks\":\"\"}}}],\"scatter3d\":[{\"type\":\"scatter3d\",\"line\":{\"colorbar\":{\"outlinewidth\":0,\"ticks\":\"\"}},\"marker\":{\"colorbar\":{\"outlinewidth\":0,\"ticks\":\"\"}}}],\"scattermapbox\":[{\"type\":\"scattermapbox\",\"marker\":{\"colorbar\":{\"outlinewidth\":0,\"ticks\":\"\"}}}],\"scatterternary\":[{\"type\":\"scatterternary\",\"marker\":{\"colorbar\":{\"outlinewidth\":0,\"ticks\":\"\"}}}],\"scattercarpet\":[{\"type\":\"scattercarpet\",\"marker\":{\"colorbar\":{\"outlinewidth\":0,\"ticks\":\"\"}}}],\"carpet\":[{\"aaxis\":{\"endlinecolor\":\"#2a3f5f\",\"gridcolor\":\"white\",\"linecolor\":\"white\",\"minorgridcolor\":\"white\",\"startlinecolor\":\"#2a3f5f\"},\"baxis\":{\"endlinecolor\":\"#2a3f5f\",\"gridcolor\":\"white\",\"linecolor\":\"white\",\"minorgridcolor\":\"white\",\"startlinecolor\":\"#2a3f5f\"},\"type\":\"carpet\"}],\"table\":[{\"cells\":{\"fill\":{\"color\":\"#EBF0F8\"},\"line\":{\"color\":\"white\"}},\"header\":{\"fill\":{\"color\":\"#C8D4E3\"},\"line\":{\"color\":\"white\"}},\"type\":\"table\"}],\"barpolar\":[{\"marker\":{\"line\":{\"color\":\"#E5ECF6\",\"width\":0.5},\"pattern\":{\"fillmode\":\"overlay\",\"size\":10,\"solidity\":0.2}},\"type\":\"barpolar\"}],\"pie\":[{\"automargin\":true,\"type\":\"pie\"}]},\"layout\":{\"autotypenumbers\":\"strict\",\"colorway\":[\"#636efa\",\"#EF553B\",\"#00cc96\",\"#ab63fa\",\"#FFA15A\",\"#19d3f3\",\"#FF6692\",\"#B6E880\",\"#FF97FF\",\"#FECB52\"],\"font\":{\"color\":\"#2a3f5f\"},\"hovermode\":\"closest\",\"hoverlabel\":{\"align\":\"left\"},\"paper_bgcolor\":\"white\",\"plot_bgcolor\":\"#E5ECF6\",\"polar\":{\"bgcolor\":\"#E5ECF6\",\"angularaxis\":{\"gridcolor\":\"white\",\"linecolor\":\"white\",\"ticks\":\"\"},\"radialaxis\":{\"gridcolor\":\"white\",\"linecolor\":\"white\",\"ticks\":\"\"}},\"ternary\":{\"bgcolor\":\"#E5ECF6\",\"aaxis\":{\"gridcolor\":\"white\",\"linecolor\":\"white\",\"ticks\":\"\"},\"baxis\":{\"gridcolor\":\"white\",\"linecolor\":\"white\",\"ticks\":\"\"},\"caxis\":{\"gridcolor\":\"white\",\"linecolor\":\"white\",\"ticks\":\"\"}},\"coloraxis\":{\"colorbar\":{\"outlinewidth\":0,\"ticks\":\"\"}},\"colorscale\":{\"sequential\":[[0.0,\"#0d0887\"],[0.1111111111111111,\"#46039f\"],[0.2222222222222222,\"#7201a8\"],[0.3333333333333333,\"#9c179e\"],[0.4444444444444444,\"#bd3786\"],[0.5555555555555556,\"#d8576b\"],[0.6666666666666666,\"#ed7953\"],[0.7777777777777778,\"#fb9f3a\"],[0.8888888888888888,\"#fdca26\"],[1.0,\"#f0f921\"]],\"sequentialminus\":[[0.0,\"#0d0887\"],[0.1111111111111111,\"#46039f\"],[0.2222222222222222,\"#7201a8\"],[0.3333333333333333,\"#9c179e\"],[0.4444444444444444,\"#bd3786\"],[0.5555555555555556,\"#d8576b\"],[0.6666666666666666,\"#ed7953\"],[0.7777777777777778,\"#fb9f3a\"],[0.8888888888888888,\"#fdca26\"],[1.0,\"#f0f921\"]],\"diverging\":[[0,\"#8e0152\"],[0.1,\"#c51b7d\"],[0.2,\"#de77ae\"],[0.3,\"#f1b6da\"],[0.4,\"#fde0ef\"],[0.5,\"#f7f7f7\"],[0.6,\"#e6f5d0\"],[0.7,\"#b8e186\"],[0.8,\"#7fbc41\"],[0.9,\"#4d9221\"],[1,\"#276419\"]]},\"xaxis\":{\"gridcolor\":\"white\",\"linecolor\":\"white\",\"ticks\":\"\",\"title\":{\"standoff\":15},\"zerolinecolor\":\"white\",\"automargin\":true,\"zerolinewidth\":2},\"yaxis\":{\"gridcolor\":\"white\",\"linecolor\":\"white\",\"ticks\":\"\",\"title\":{\"standoff\":15},\"zerolinecolor\":\"white\",\"automargin\":true,\"zerolinewidth\":2},\"scene\":{\"xaxis\":{\"backgroundcolor\":\"#E5ECF6\",\"gridcolor\":\"white\",\"linecolor\":\"white\",\"showbackground\":true,\"ticks\":\"\",\"zerolinecolor\":\"white\",\"gridwidth\":2},\"yaxis\":{\"backgroundcolor\":\"#E5ECF6\",\"gridcolor\":\"white\",\"linecolor\":\"white\",\"showbackground\":true,\"ticks\":\"\",\"zerolinecolor\":\"white\",\"gridwidth\":2},\"zaxis\":{\"backgroundcolor\":\"#E5ECF6\",\"gridcolor\":\"white\",\"linecolor\":\"white\",\"showbackground\":true,\"ticks\":\"\",\"zerolinecolor\":\"white\",\"gridwidth\":2}},\"shapedefaults\":{\"line\":{\"color\":\"#2a3f5f\"}},\"annotationdefaults\":{\"arrowcolor\":\"#2a3f5f\",\"arrowhead\":0,\"arrowwidth\":1},\"geo\":{\"bgcolor\":\"white\",\"landcolor\":\"#E5ECF6\",\"subunitcolor\":\"white\",\"showland\":true,\"showlakes\":true,\"lakecolor\":\"white\"},\"title\":{\"x\":0.05},\"mapbox\":{\"style\":\"light\"}}},\"xaxis\":{\"anchor\":\"y\",\"domain\":[0.0,1.0],\"title\":{\"text\":\"Year of publication\"}},\"yaxis\":{\"anchor\":\"x\",\"domain\":[0.0,1.0],\"title\":{\"text\":\"count\"}},\"legend\":{\"tracegroupgap\":0},\"title\":{\"text\":\"Primitive images distribution per year\"},\"barmode\":\"relative\"},                        {\"responsive\": true}                    ).then(function(){\n",
       "                            \n",
       "var gd = document.getElementById('61fb8ea4-48ac-4e03-9552-b261ad4604fc');\n",
       "var x = new MutationObserver(function (mutations, observer) {{\n",
       "        var display = window.getComputedStyle(gd).display;\n",
       "        if (!display || display === 'none') {{\n",
       "            console.log([gd, 'removed!']);\n",
       "            Plotly.purge(gd);\n",
       "            observer.disconnect();\n",
       "        }}\n",
       "}});\n",
       "\n",
       "// Listen for the removal of the full notebook cells\n",
       "var notebookContainer = gd.closest('#notebook-container');\n",
       "if (notebookContainer) {{\n",
       "    x.observe(notebookContainer, {childList: true});\n",
       "}}\n",
       "\n",
       "// Listen for the clearing of the current output cell\n",
       "var outputEl = gd.closest('.output');\n",
       "if (outputEl) {{\n",
       "    x.observe(outputEl, {childList: true});\n",
       "}}\n",
       "\n",
       "                        })                };                });            </script>        </div>"
      ]
     },
     "metadata": {},
     "output_type": "display_data"
    }
   ],
   "source": [
    "fig = px.histogram(image_vis, x='year',\n",
    "            title=\"Primitive images distribution per year\",\n",
    "                  labels={\n",
    "                     \"year\": \"Year of publication\"})\n",
    "fig.update_traces(textfont_size=12, textangle=0, textposition=\"outside\", cliponaxis=False)\n",
    "fig.show()\n",
    "#fig.write_html('viz/image_per_year.html', auto_open=True)\n",
    "fig.write_image(\"viz/image_per_year.png\") "
   ]
  },
  {
   "cell_type": "code",
   "execution_count": 104,
   "id": "f127a6ea-82f6-473a-ade3-02664e9e8c42",
   "metadata": {},
   "outputs": [
    {
     "data": {
      "application/vnd.plotly.v1+json": {
       "config": {
        "plotlyServerURL": "https://plot.ly"
       },
       "data": [
        {
         "alignmentgroup": "True",
         "bingroup": "x",
         "cliponaxis": false,
         "hovertemplate": "Country=Germany<br>Year of publication=%{x}<br>count=%{y}<extra></extra>",
         "legendgroup": "Germany",
         "marker": {
          "color": "#636efa",
          "pattern": {
           "shape": ""
          }
         },
         "name": "Germany",
         "offsetgroup": "Germany",
         "orientation": "v",
         "showlegend": true,
         "textangle": 0,
         "textfont": {
          "size": 12
         },
         "textposition": "outside",
         "type": "histogram",
         "x": [
          1923,
          1919,
          1928,
          1954,
          1925,
          1928,
          1932,
          1921,
          1930,
          1927,
          1927,
          1930,
          1932,
          1927,
          1922,
          1930,
          1925,
          1930,
          1922,
          1928,
          1930,
          1932,
          1922,
          1931,
          1930,
          1928,
          1930,
          1931,
          1920,
          1925,
          1934,
          1925,
          1922,
          1925,
          1929,
          1927,
          1928,
          1933,
          1934,
          1930,
          1928,
          1927,
          1930,
          1930,
          1932,
          1922,
          1927,
          1930,
          1931,
          1925,
          1931,
          1932,
          1932,
          1930,
          1931,
          1922,
          1930,
          1929,
          1929,
          1927,
          1922,
          1932,
          1928,
          1931,
          1929,
          1922,
          1928,
          1929,
          1928,
          1954,
          1927,
          1929,
          1932,
          1929,
          1932,
          1929,
          1922,
          1930,
          1930,
          1932,
          1929,
          1927,
          1925,
          1927,
          1931,
          1928,
          1918,
          1921,
          1929,
          1918,
          1922,
          1954,
          1931,
          1930,
          1932,
          1928,
          1928,
          1930,
          1931,
          1927,
          1931,
          1922,
          1925,
          1927,
          1927,
          1931,
          1929,
          1922,
          1931,
          1925,
          1930,
          1927,
          1929,
          1921,
          1928,
          1930,
          1929,
          1928,
          1930,
          1932,
          1928,
          1928,
          1932,
          1930,
          1932,
          1925,
          1929,
          1933,
          1930,
          1932,
          1924,
          1918,
          1928,
          1927,
          1930,
          1929,
          1925,
          1924,
          1932,
          1928,
          1929,
          1929,
          1932,
          1928,
          1928,
          1932,
          1931,
          1930,
          1922,
          1931,
          1929,
          1922,
          1933,
          1929,
          1927,
          1928,
          1930,
          1931,
          1924,
          1929,
          1916,
          1928,
          1918,
          1911,
          1929,
          1930,
          1930,
          1932,
          1933,
          1925,
          1928,
          1922,
          1929,
          1911,
          1928,
          1931,
          1930,
          1929,
          1927,
          1932,
          1928,
          1927,
          1932,
          1927,
          1928,
          1925,
          1930,
          1927,
          1931,
          1929,
          1922,
          1927,
          1925,
          1919,
          1925,
          1930,
          1928,
          1928,
          1930,
          1928,
          1927,
          1925,
          1929,
          1927,
          1928
         ],
         "xaxis": "x",
         "yaxis": "y"
        },
        {
         "alignmentgroup": "True",
         "bingroup": "x",
         "cliponaxis": false,
         "hovertemplate": "Country=France<br>Year of publication=%{x}<br>count=%{y}<extra></extra>",
         "legendgroup": "France",
         "marker": {
          "color": "#EF553B",
          "pattern": {
           "shape": ""
          }
         },
         "name": "France",
         "offsetgroup": "France",
         "orientation": "v",
         "showlegend": true,
         "textangle": 0,
         "textfont": {
          "size": 12
         },
         "textposition": "outside",
         "type": "histogram",
         "x": [
          1925,
          1921,
          1922,
          1920,
          1914,
          1937,
          1922,
          1924,
          1920,
          1926,
          1926,
          1925,
          1928,
          1931,
          1928,
          1928,
          1929,
          1914,
          1931,
          1932,
          1929,
          1920,
          1925,
          1932,
          1932,
          1921,
          1927,
          1936,
          1928,
          1931,
          1929,
          1928,
          1930,
          1926,
          1930,
          1939,
          1927,
          1924,
          1931,
          1926,
          1927,
          1927,
          1926,
          1949,
          1927,
          1931,
          1952,
          1930,
          1927,
          1929,
          1932,
          1928,
          1929,
          1930,
          1927,
          1929,
          1924,
          1924,
          1926,
          1920,
          1929,
          1939,
          1945,
          1929,
          1932,
          1931,
          1945,
          1924,
          1926,
          1938,
          1914,
          1929,
          1926,
          1930,
          1932,
          1927,
          1927,
          1927,
          1926,
          1930,
          1933,
          1926,
          1927,
          1929,
          1930,
          1921,
          1927,
          1928,
          1928,
          1931,
          1930,
          1914,
          1934,
          1927,
          1927,
          1932,
          1927,
          1933,
          1930,
          1921,
          1930,
          1928,
          1930,
          1928,
          1930,
          1929,
          1924,
          1927,
          1933,
          1921,
          1930,
          1933,
          1932,
          1927,
          1928,
          1928,
          1932,
          1947,
          1928,
          1947,
          1932,
          1936,
          1945,
          1927,
          1926,
          1921,
          1921,
          1920,
          1921,
          1920,
          1927,
          1945,
          1930,
          1933,
          1921,
          1924,
          1931,
          1935,
          1945,
          1930,
          1939,
          1933,
          1931,
          1931,
          1940,
          1928,
          1929,
          1926,
          1933,
          1927,
          1928,
          1922,
          1927,
          1930,
          1924,
          1930,
          1928,
          1935,
          1920,
          1933,
          1927,
          1929,
          1932,
          1927,
          1929,
          1924,
          1930,
          1921,
          1927,
          1930,
          1920,
          1921,
          1927,
          1921,
          1934,
          1922,
          1945,
          1928,
          1926,
          1929,
          1926,
          1932,
          1927,
          1936,
          1947,
          1933,
          1929,
          1921,
          1924,
          1933,
          1922,
          1924,
          1931,
          1948,
          1920,
          1936,
          1924,
          1934,
          1931,
          1928,
          1928,
          1948,
          1952,
          1929,
          1927,
          1920,
          1932,
          1926,
          1921,
          1928,
          1924,
          1929,
          1924,
          1926,
          1932,
          1930,
          1927,
          1929,
          1930,
          1931,
          1935,
          1914,
          1922,
          1929,
          1927,
          1931,
          1930,
          1926,
          1926,
          1920,
          1947,
          1933,
          1938,
          1930,
          1926,
          1931,
          1927,
          1937,
          1927,
          1927,
          1937,
          1926,
          1929,
          1931,
          1928,
          1932,
          1927,
          1930,
          1932,
          1930,
          1931,
          1930,
          1921,
          1926,
          1926,
          1924,
          1924,
          1928,
          1928,
          1924,
          1931,
          1931,
          1929,
          1928,
          1929,
          1928,
          1928,
          1928,
          1921,
          1922,
          1926,
          1930,
          1933,
          1932,
          1937,
          1930,
          1930,
          1937,
          1926,
          1921,
          1927,
          1926,
          1927,
          1927,
          1933,
          1929,
          1914,
          1920,
          1929,
          1926,
          1924,
          1930,
          1926,
          1929,
          1926,
          1933,
          1921,
          1928,
          1926,
          1920,
          1926,
          1929,
          1930,
          1931,
          1921,
          1930,
          1927,
          1927,
          1928,
          1930,
          1926,
          1931,
          1912,
          1928,
          1927,
          1931,
          1926,
          1933,
          1933,
          1924,
          1930,
          1932,
          1921,
          1932,
          1927,
          1922,
          1924,
          1924,
          1928,
          1921,
          1921,
          1929,
          1920,
          1928,
          1920,
          1927,
          1929,
          1921,
          1924,
          1928,
          1914,
          1929,
          1930,
          1926,
          1934,
          1924,
          1926,
          1929,
          1920,
          1924,
          1920,
          1927,
          1920,
          1929,
          1920,
          1920,
          1927,
          1921,
          1921,
          1930,
          1920,
          1933,
          1920,
          1930,
          1927,
          1924,
          1929,
          1921,
          1928,
          1921,
          1930,
          1914,
          1926,
          1928,
          1929,
          1920,
          1927,
          1914,
          1927,
          1924,
          1926,
          1924,
          1914,
          1921,
          1920
         ],
         "xaxis": "x",
         "yaxis": "y"
        },
        {
         "alignmentgroup": "True",
         "bingroup": "x",
         "cliponaxis": false,
         "hovertemplate": "Country=Netherlands<br>Year of publication=%{x}<br>count=%{y}<extra></extra>",
         "legendgroup": "Netherlands",
         "marker": {
          "color": "#00cc96",
          "pattern": {
           "shape": ""
          }
         },
         "name": "Netherlands",
         "offsetgroup": "Netherlands",
         "orientation": "v",
         "showlegend": true,
         "textangle": 0,
         "textfont": {
          "size": 12
         },
         "textposition": "outside",
         "type": "histogram",
         "x": [
          1919,
          1919,
          1918,
          1919,
          1920,
          1919,
          1919,
          1918,
          1918,
          1918,
          1917
         ],
         "xaxis": "x",
         "yaxis": "y"
        },
        {
         "alignmentgroup": "True",
         "bingroup": "x",
         "cliponaxis": false,
         "hovertemplate": "Country=Czech Republic<br>Year of publication=%{x}<br>count=%{y}<extra></extra>",
         "legendgroup": "Czech Republic",
         "marker": {
          "color": "#ab63fa",
          "pattern": {
           "shape": ""
          }
         },
         "name": "Czech Republic",
         "offsetgroup": "Czech Republic",
         "orientation": "v",
         "showlegend": true,
         "textangle": 0,
         "textfont": {
          "size": 12
         },
         "textposition": "outside",
         "type": "histogram",
         "x": [
          1912,
          1912,
          1914,
          1913,
          1914,
          1927,
          1927,
          1935,
          1913,
          1912,
          1912,
          1912,
          1912,
          1912,
          1913,
          1922,
          1947,
          1948,
          1927,
          1912,
          1927,
          1913,
          1912,
          1948,
          1913,
          1912,
          1913,
          1936,
          1935,
          1912,
          1911,
          1912,
          1913,
          1912,
          1911,
          1948
         ],
         "xaxis": "x",
         "yaxis": "y"
        },
        {
         "alignmentgroup": "True",
         "bingroup": "x",
         "cliponaxis": false,
         "hovertemplate": "Country=United States of America<br>Year of publication=%{x}<br>count=%{y}<extra></extra>",
         "legendgroup": "United States of America",
         "marker": {
          "color": "#FFA15A",
          "pattern": {
           "shape": ""
          }
         },
         "name": "United States of America",
         "offsetgroup": "United States of America",
         "orientation": "v",
         "showlegend": true,
         "textangle": 0,
         "textfont": {
          "size": 12
         },
         "textposition": "outside",
         "type": "histogram",
         "x": [
          1921,
          1923,
          1915,
          1921,
          1915,
          1915,
          1921,
          1916,
          1915,
          1917,
          1915,
          1922
         ],
         "xaxis": "x",
         "yaxis": "y"
        },
        {
         "alignmentgroup": "True",
         "bingroup": "x",
         "cliponaxis": false,
         "hovertemplate": "Country=Denmark<br>Year of publication=%{x}<br>count=%{y}<extra></extra>",
         "legendgroup": "Denmark",
         "marker": {
          "color": "#19d3f3",
          "pattern": {
           "shape": ""
          }
         },
         "name": "Denmark",
         "offsetgroup": "Denmark",
         "orientation": "v",
         "showlegend": true,
         "textangle": 0,
         "textfont": {
          "size": 12
         },
         "textposition": "outside",
         "type": "histogram",
         "x": [
          1918,
          1920,
          1919,
          1919,
          1919,
          1919,
          1919,
          1920
         ],
         "xaxis": "x",
         "yaxis": "y"
        },
        {
         "alignmentgroup": "True",
         "bingroup": "x",
         "cliponaxis": false,
         "hovertemplate": "Country=Poland<br>Year of publication=%{x}<br>count=%{y}<extra></extra>",
         "legendgroup": "Poland",
         "marker": {
          "color": "#FF6692",
          "pattern": {
           "shape": ""
          }
         },
         "name": "Poland",
         "offsetgroup": "Poland",
         "orientation": "v",
         "showlegend": true,
         "textangle": 0,
         "textfont": {
          "size": 12
         },
         "textposition": "outside",
         "type": "histogram",
         "x": [
          1930,
          1926,
          1926,
          1924,
          1926,
          1930,
          1926,
          1926,
          1924,
          1926,
          1930,
          1930,
          1930,
          1930,
          1930,
          1930,
          1924,
          1926,
          1926,
          1930,
          1930,
          1924,
          1930,
          1924,
          1926,
          1924,
          1926,
          1930,
          1926
         ],
         "xaxis": "x",
         "yaxis": "y"
        },
        {
         "alignmentgroup": "True",
         "bingroup": "x",
         "cliponaxis": false,
         "hovertemplate": "Country=Russia<br>Year of publication=%{x}<br>count=%{y}<extra></extra>",
         "legendgroup": "Russia",
         "marker": {
          "color": "#B6E880",
          "pattern": {
           "shape": ""
          }
         },
         "name": "Russia",
         "offsetgroup": "Russia",
         "orientation": "v",
         "showlegend": true,
         "textangle": 0,
         "textfont": {
          "size": 12
         },
         "textposition": "outside",
         "type": "histogram",
         "x": [
          1928,
          1927,
          1923,
          1928
         ],
         "xaxis": "x",
         "yaxis": "y"
        },
        {
         "alignmentgroup": "True",
         "bingroup": "x",
         "cliponaxis": false,
         "hovertemplate": "Country=Romania<br>Year of publication=%{x}<br>count=%{y}<extra></extra>",
         "legendgroup": "Romania",
         "marker": {
          "color": "#FF97FF",
          "pattern": {
           "shape": ""
          }
         },
         "name": "Romania",
         "offsetgroup": "Romania",
         "orientation": "v",
         "showlegend": true,
         "textangle": 0,
         "textfont": {
          "size": 12
         },
         "textposition": "outside",
         "type": "histogram",
         "x": [
          1925,
          1925
         ],
         "xaxis": "x",
         "yaxis": "y"
        },
        {
         "alignmentgroup": "True",
         "bingroup": "x",
         "cliponaxis": false,
         "hovertemplate": "Country=Italy<br>Year of publication=%{x}<br>count=%{y}<extra></extra>",
         "legendgroup": "Italy",
         "marker": {
          "color": "#FECB52",
          "pattern": {
           "shape": ""
          }
         },
         "name": "Italy",
         "offsetgroup": "Italy",
         "orientation": "v",
         "showlegend": true,
         "textangle": 0,
         "textfont": {
          "size": 12
         },
         "textposition": "outside",
         "type": "histogram",
         "x": [
          1923,
          1923
         ],
         "xaxis": "x",
         "yaxis": "y"
        },
        {
         "alignmentgroup": "True",
         "bingroup": "x",
         "cliponaxis": false,
         "hovertemplate": "Country=Argentina<br>Year of publication=%{x}<br>count=%{y}<extra></extra>",
         "legendgroup": "Argentina",
         "marker": {
          "color": "#636efa",
          "pattern": {
           "shape": ""
          }
         },
         "name": "Argentina",
         "offsetgroup": "Argentina",
         "orientation": "v",
         "showlegend": true,
         "textangle": 0,
         "textfont": {
          "size": 12
         },
         "textposition": "outside",
         "type": "histogram",
         "x": [
          1925
         ],
         "xaxis": "x",
         "yaxis": "y"
        },
        {
         "alignmentgroup": "True",
         "bingroup": "x",
         "cliponaxis": false,
         "hovertemplate": "Country=Switzerland<br>Year of publication=%{x}<br>count=%{y}<extra></extra>",
         "legendgroup": "Switzerland",
         "marker": {
          "color": "#EF553B",
          "pattern": {
           "shape": ""
          }
         },
         "name": "Switzerland",
         "offsetgroup": "Switzerland",
         "orientation": "v",
         "showlegend": true,
         "textangle": 0,
         "textfont": {
          "size": 12
         },
         "textposition": "outside",
         "type": "histogram",
         "x": [
          1919
         ],
         "xaxis": "x",
         "yaxis": "y"
        },
        {
         "alignmentgroup": "True",
         "bingroup": "x",
         "cliponaxis": false,
         "hovertemplate": "Country=Spain<br>Year of publication=%{x}<br>count=%{y}<extra></extra>",
         "legendgroup": "Spain",
         "marker": {
          "color": "#00cc96",
          "pattern": {
           "shape": ""
          }
         },
         "name": "Spain",
         "offsetgroup": "Spain",
         "orientation": "v",
         "showlegend": true,
         "textangle": 0,
         "textfont": {
          "size": 12
         },
         "textposition": "outside",
         "type": "histogram",
         "x": [
          1950,
          1924
         ],
         "xaxis": "x",
         "yaxis": "y"
        }
       ],
       "layout": {
        "autosize": true,
        "barmode": "relative",
        "legend": {
         "title": {
          "text": "Country"
         },
         "tracegroupgap": 0
        },
        "template": {
         "data": {
          "bar": [
           {
            "error_x": {
             "color": "#2a3f5f"
            },
            "error_y": {
             "color": "#2a3f5f"
            },
            "marker": {
             "line": {
              "color": "#E5ECF6",
              "width": 0.5
             },
             "pattern": {
              "fillmode": "overlay",
              "size": 10,
              "solidity": 0.2
             }
            },
            "type": "bar"
           }
          ],
          "barpolar": [
           {
            "marker": {
             "line": {
              "color": "#E5ECF6",
              "width": 0.5
             },
             "pattern": {
              "fillmode": "overlay",
              "size": 10,
              "solidity": 0.2
             }
            },
            "type": "barpolar"
           }
          ],
          "carpet": [
           {
            "aaxis": {
             "endlinecolor": "#2a3f5f",
             "gridcolor": "white",
             "linecolor": "white",
             "minorgridcolor": "white",
             "startlinecolor": "#2a3f5f"
            },
            "baxis": {
             "endlinecolor": "#2a3f5f",
             "gridcolor": "white",
             "linecolor": "white",
             "minorgridcolor": "white",
             "startlinecolor": "#2a3f5f"
            },
            "type": "carpet"
           }
          ],
          "choropleth": [
           {
            "colorbar": {
             "outlinewidth": 0,
             "ticks": ""
            },
            "type": "choropleth"
           }
          ],
          "contour": [
           {
            "colorbar": {
             "outlinewidth": 0,
             "ticks": ""
            },
            "colorscale": [
             [
              0,
              "#0d0887"
             ],
             [
              0.1111111111111111,
              "#46039f"
             ],
             [
              0.2222222222222222,
              "#7201a8"
             ],
             [
              0.3333333333333333,
              "#9c179e"
             ],
             [
              0.4444444444444444,
              "#bd3786"
             ],
             [
              0.5555555555555556,
              "#d8576b"
             ],
             [
              0.6666666666666666,
              "#ed7953"
             ],
             [
              0.7777777777777778,
              "#fb9f3a"
             ],
             [
              0.8888888888888888,
              "#fdca26"
             ],
             [
              1,
              "#f0f921"
             ]
            ],
            "type": "contour"
           }
          ],
          "contourcarpet": [
           {
            "colorbar": {
             "outlinewidth": 0,
             "ticks": ""
            },
            "type": "contourcarpet"
           }
          ],
          "heatmap": [
           {
            "colorbar": {
             "outlinewidth": 0,
             "ticks": ""
            },
            "colorscale": [
             [
              0,
              "#0d0887"
             ],
             [
              0.1111111111111111,
              "#46039f"
             ],
             [
              0.2222222222222222,
              "#7201a8"
             ],
             [
              0.3333333333333333,
              "#9c179e"
             ],
             [
              0.4444444444444444,
              "#bd3786"
             ],
             [
              0.5555555555555556,
              "#d8576b"
             ],
             [
              0.6666666666666666,
              "#ed7953"
             ],
             [
              0.7777777777777778,
              "#fb9f3a"
             ],
             [
              0.8888888888888888,
              "#fdca26"
             ],
             [
              1,
              "#f0f921"
             ]
            ],
            "type": "heatmap"
           }
          ],
          "heatmapgl": [
           {
            "colorbar": {
             "outlinewidth": 0,
             "ticks": ""
            },
            "colorscale": [
             [
              0,
              "#0d0887"
             ],
             [
              0.1111111111111111,
              "#46039f"
             ],
             [
              0.2222222222222222,
              "#7201a8"
             ],
             [
              0.3333333333333333,
              "#9c179e"
             ],
             [
              0.4444444444444444,
              "#bd3786"
             ],
             [
              0.5555555555555556,
              "#d8576b"
             ],
             [
              0.6666666666666666,
              "#ed7953"
             ],
             [
              0.7777777777777778,
              "#fb9f3a"
             ],
             [
              0.8888888888888888,
              "#fdca26"
             ],
             [
              1,
              "#f0f921"
             ]
            ],
            "type": "heatmapgl"
           }
          ],
          "histogram": [
           {
            "marker": {
             "pattern": {
              "fillmode": "overlay",
              "size": 10,
              "solidity": 0.2
             }
            },
            "type": "histogram"
           }
          ],
          "histogram2d": [
           {
            "colorbar": {
             "outlinewidth": 0,
             "ticks": ""
            },
            "colorscale": [
             [
              0,
              "#0d0887"
             ],
             [
              0.1111111111111111,
              "#46039f"
             ],
             [
              0.2222222222222222,
              "#7201a8"
             ],
             [
              0.3333333333333333,
              "#9c179e"
             ],
             [
              0.4444444444444444,
              "#bd3786"
             ],
             [
              0.5555555555555556,
              "#d8576b"
             ],
             [
              0.6666666666666666,
              "#ed7953"
             ],
             [
              0.7777777777777778,
              "#fb9f3a"
             ],
             [
              0.8888888888888888,
              "#fdca26"
             ],
             [
              1,
              "#f0f921"
             ]
            ],
            "type": "histogram2d"
           }
          ],
          "histogram2dcontour": [
           {
            "colorbar": {
             "outlinewidth": 0,
             "ticks": ""
            },
            "colorscale": [
             [
              0,
              "#0d0887"
             ],
             [
              0.1111111111111111,
              "#46039f"
             ],
             [
              0.2222222222222222,
              "#7201a8"
             ],
             [
              0.3333333333333333,
              "#9c179e"
             ],
             [
              0.4444444444444444,
              "#bd3786"
             ],
             [
              0.5555555555555556,
              "#d8576b"
             ],
             [
              0.6666666666666666,
              "#ed7953"
             ],
             [
              0.7777777777777778,
              "#fb9f3a"
             ],
             [
              0.8888888888888888,
              "#fdca26"
             ],
             [
              1,
              "#f0f921"
             ]
            ],
            "type": "histogram2dcontour"
           }
          ],
          "mesh3d": [
           {
            "colorbar": {
             "outlinewidth": 0,
             "ticks": ""
            },
            "type": "mesh3d"
           }
          ],
          "parcoords": [
           {
            "line": {
             "colorbar": {
              "outlinewidth": 0,
              "ticks": ""
             }
            },
            "type": "parcoords"
           }
          ],
          "pie": [
           {
            "automargin": true,
            "type": "pie"
           }
          ],
          "scatter": [
           {
            "fillpattern": {
             "fillmode": "overlay",
             "size": 10,
             "solidity": 0.2
            },
            "type": "scatter"
           }
          ],
          "scatter3d": [
           {
            "line": {
             "colorbar": {
              "outlinewidth": 0,
              "ticks": ""
             }
            },
            "marker": {
             "colorbar": {
              "outlinewidth": 0,
              "ticks": ""
             }
            },
            "type": "scatter3d"
           }
          ],
          "scattercarpet": [
           {
            "marker": {
             "colorbar": {
              "outlinewidth": 0,
              "ticks": ""
             }
            },
            "type": "scattercarpet"
           }
          ],
          "scattergeo": [
           {
            "marker": {
             "colorbar": {
              "outlinewidth": 0,
              "ticks": ""
             }
            },
            "type": "scattergeo"
           }
          ],
          "scattergl": [
           {
            "marker": {
             "colorbar": {
              "outlinewidth": 0,
              "ticks": ""
             }
            },
            "type": "scattergl"
           }
          ],
          "scattermapbox": [
           {
            "marker": {
             "colorbar": {
              "outlinewidth": 0,
              "ticks": ""
             }
            },
            "type": "scattermapbox"
           }
          ],
          "scatterpolar": [
           {
            "marker": {
             "colorbar": {
              "outlinewidth": 0,
              "ticks": ""
             }
            },
            "type": "scatterpolar"
           }
          ],
          "scatterpolargl": [
           {
            "marker": {
             "colorbar": {
              "outlinewidth": 0,
              "ticks": ""
             }
            },
            "type": "scatterpolargl"
           }
          ],
          "scatterternary": [
           {
            "marker": {
             "colorbar": {
              "outlinewidth": 0,
              "ticks": ""
             }
            },
            "type": "scatterternary"
           }
          ],
          "surface": [
           {
            "colorbar": {
             "outlinewidth": 0,
             "ticks": ""
            },
            "colorscale": [
             [
              0,
              "#0d0887"
             ],
             [
              0.1111111111111111,
              "#46039f"
             ],
             [
              0.2222222222222222,
              "#7201a8"
             ],
             [
              0.3333333333333333,
              "#9c179e"
             ],
             [
              0.4444444444444444,
              "#bd3786"
             ],
             [
              0.5555555555555556,
              "#d8576b"
             ],
             [
              0.6666666666666666,
              "#ed7953"
             ],
             [
              0.7777777777777778,
              "#fb9f3a"
             ],
             [
              0.8888888888888888,
              "#fdca26"
             ],
             [
              1,
              "#f0f921"
             ]
            ],
            "type": "surface"
           }
          ],
          "table": [
           {
            "cells": {
             "fill": {
              "color": "#EBF0F8"
             },
             "line": {
              "color": "white"
             }
            },
            "header": {
             "fill": {
              "color": "#C8D4E3"
             },
             "line": {
              "color": "white"
             }
            },
            "type": "table"
           }
          ]
         },
         "layout": {
          "annotationdefaults": {
           "arrowcolor": "#2a3f5f",
           "arrowhead": 0,
           "arrowwidth": 1
          },
          "autotypenumbers": "strict",
          "coloraxis": {
           "colorbar": {
            "outlinewidth": 0,
            "ticks": ""
           }
          },
          "colorscale": {
           "diverging": [
            [
             0,
             "#8e0152"
            ],
            [
             0.1,
             "#c51b7d"
            ],
            [
             0.2,
             "#de77ae"
            ],
            [
             0.3,
             "#f1b6da"
            ],
            [
             0.4,
             "#fde0ef"
            ],
            [
             0.5,
             "#f7f7f7"
            ],
            [
             0.6,
             "#e6f5d0"
            ],
            [
             0.7,
             "#b8e186"
            ],
            [
             0.8,
             "#7fbc41"
            ],
            [
             0.9,
             "#4d9221"
            ],
            [
             1,
             "#276419"
            ]
           ],
           "sequential": [
            [
             0,
             "#0d0887"
            ],
            [
             0.1111111111111111,
             "#46039f"
            ],
            [
             0.2222222222222222,
             "#7201a8"
            ],
            [
             0.3333333333333333,
             "#9c179e"
            ],
            [
             0.4444444444444444,
             "#bd3786"
            ],
            [
             0.5555555555555556,
             "#d8576b"
            ],
            [
             0.6666666666666666,
             "#ed7953"
            ],
            [
             0.7777777777777778,
             "#fb9f3a"
            ],
            [
             0.8888888888888888,
             "#fdca26"
            ],
            [
             1,
             "#f0f921"
            ]
           ],
           "sequentialminus": [
            [
             0,
             "#0d0887"
            ],
            [
             0.1111111111111111,
             "#46039f"
            ],
            [
             0.2222222222222222,
             "#7201a8"
            ],
            [
             0.3333333333333333,
             "#9c179e"
            ],
            [
             0.4444444444444444,
             "#bd3786"
            ],
            [
             0.5555555555555556,
             "#d8576b"
            ],
            [
             0.6666666666666666,
             "#ed7953"
            ],
            [
             0.7777777777777778,
             "#fb9f3a"
            ],
            [
             0.8888888888888888,
             "#fdca26"
            ],
            [
             1,
             "#f0f921"
            ]
           ]
          },
          "colorway": [
           "#636efa",
           "#EF553B",
           "#00cc96",
           "#ab63fa",
           "#FFA15A",
           "#19d3f3",
           "#FF6692",
           "#B6E880",
           "#FF97FF",
           "#FECB52"
          ],
          "font": {
           "color": "#2a3f5f"
          },
          "geo": {
           "bgcolor": "white",
           "lakecolor": "white",
           "landcolor": "#E5ECF6",
           "showlakes": true,
           "showland": true,
           "subunitcolor": "white"
          },
          "hoverlabel": {
           "align": "left"
          },
          "hovermode": "closest",
          "mapbox": {
           "style": "light"
          },
          "paper_bgcolor": "white",
          "plot_bgcolor": "#E5ECF6",
          "polar": {
           "angularaxis": {
            "gridcolor": "white",
            "linecolor": "white",
            "ticks": ""
           },
           "bgcolor": "#E5ECF6",
           "radialaxis": {
            "gridcolor": "white",
            "linecolor": "white",
            "ticks": ""
           }
          },
          "scene": {
           "xaxis": {
            "backgroundcolor": "#E5ECF6",
            "gridcolor": "white",
            "gridwidth": 2,
            "linecolor": "white",
            "showbackground": true,
            "ticks": "",
            "zerolinecolor": "white"
           },
           "yaxis": {
            "backgroundcolor": "#E5ECF6",
            "gridcolor": "white",
            "gridwidth": 2,
            "linecolor": "white",
            "showbackground": true,
            "ticks": "",
            "zerolinecolor": "white"
           },
           "zaxis": {
            "backgroundcolor": "#E5ECF6",
            "gridcolor": "white",
            "gridwidth": 2,
            "linecolor": "white",
            "showbackground": true,
            "ticks": "",
            "zerolinecolor": "white"
           }
          },
          "shapedefaults": {
           "line": {
            "color": "#2a3f5f"
           }
          },
          "ternary": {
           "aaxis": {
            "gridcolor": "white",
            "linecolor": "white",
            "ticks": ""
           },
           "baxis": {
            "gridcolor": "white",
            "linecolor": "white",
            "ticks": ""
           },
           "bgcolor": "#E5ECF6",
           "caxis": {
            "gridcolor": "white",
            "linecolor": "white",
            "ticks": ""
           }
          },
          "title": {
           "x": 0.05
          },
          "xaxis": {
           "automargin": true,
           "gridcolor": "white",
           "linecolor": "white",
           "ticks": "",
           "title": {
            "standoff": 15
           },
           "zerolinecolor": "white",
           "zerolinewidth": 2
          },
          "yaxis": {
           "automargin": true,
           "gridcolor": "white",
           "linecolor": "white",
           "ticks": "",
           "title": {
            "standoff": 15
           },
           "zerolinecolor": "white",
           "zerolinewidth": 2
          }
         }
        },
        "title": {
         "text": "Primitive images distribution per year"
        },
        "xaxis": {
         "anchor": "y",
         "autorange": true,
         "domain": [
          0,
          1
         ],
         "range": [
          1910.5,
          1954.5
         ],
         "title": {
          "text": "Year of publication"
         },
         "type": "linear"
        },
        "yaxis": {
         "anchor": "x",
         "autorange": true,
         "domain": [
          0,
          1
         ],
         "range": [
          0,
          85.26315789473684
         ],
         "title": {
          "text": "count"
         }
        }
       }
      },
      "image/png": "[encoded data removed]",
      "text/html": [
       "<div>                            <div id=\"c79bb6aa-7a0f-496d-b226-2c37760d4fac\" class=\"plotly-graph-div\" style=\"height:525px; width:100%;\"></div>            <script type=\"text/javascript\">                require([\"plotly\"], function(Plotly) {                    window.PLOTLYENV=window.PLOTLYENV || {};                                    if (document.getElementById(\"c79bb6aa-7a0f-496d-b226-2c37760d4fac\")) {                    Plotly.newPlot(                        \"c79bb6aa-7a0f-496d-b226-2c37760d4fac\",                        [{\"alignmentgroup\":\"True\",\"bingroup\":\"x\",\"hovertemplate\":\"Country=Germany<br>Year of publication=%{x}<br>count=%{y}<extra></extra>\",\"legendgroup\":\"Germany\",\"marker\":{\"color\":\"#636efa\",\"pattern\":{\"shape\":\"\"}},\"name\":\"Germany\",\"offsetgroup\":\"Germany\",\"orientation\":\"v\",\"showlegend\":true,\"x\":[1923,1919,1928,1954,1925,1928,1932,1921,1930,1927,1927,1930,1932,1927,1922,1930,1925,1930,1922,1928,1930,1932,1922,1931,1930,1928,1930,1931,1920,1925,1934,1925,1922,1925,1929,1927,1928,1933,1934,1930,1928,1927,1930,1930,1932,1922,1927,1930,1931,1925,1931,1932,1932,1930,1931,1922,1930,1929,1929,1927,1922,1932,1928,1931,1929,1922,1928,1929,1928,1954,1927,1929,1932,1929,1932,1929,1922,1930,1930,1932,1929,1927,1925,1927,1931,1928,1918,1921,1929,1918,1922,1954,1931,1930,1932,1928,1928,1930,1931,1927,1931,1922,1925,1927,1927,1931,1929,1922,1931,1925,1930,1927,1929,1921,1928,1930,1929,1928,1930,1932,1928,1928,1932,1930,1932,1925,1929,1933,1930,1932,1924,1918,1928,1927,1930,1929,1925,1924,1932,1928,1929,1929,1932,1928,1928,1932,1931,1930,1922,1931,1929,1922,1933,1929,1927,1928,1930,1931,1924,1929,1916,1928,1918,1911,1929,1930,1930,1932,1933,1925,1928,1922,1929,1911,1928,1931,1930,1929,1927,1932,1928,1927,1932,1927,1928,1925,1930,1927,1931,1929,1922,1927,1925,1919,1925,1930,1928,1928,1930,1928,1927,1925,1929,1927,1928],\"xaxis\":\"x\",\"yaxis\":\"y\",\"type\":\"histogram\",\"textfont\":{\"size\":12},\"cliponaxis\":false,\"textangle\":0,\"textposition\":\"outside\"},{\"alignmentgroup\":\"True\",\"bingroup\":\"x\",\"hovertemplate\":\"Country=France<br>Year of publication=%{x}<br>count=%{y}<extra></extra>\",\"legendgroup\":\"France\",\"marker\":{\"color\":\"#EF553B\",\"pattern\":{\"shape\":\"\"}},\"name\":\"France\",\"offsetgroup\":\"France\",\"orientation\":\"v\",\"showlegend\":true,\"x\":[1925,1921,1922,1920,1914,1937,1922,1924,1920,1926,1926,1925,1928,1931,1928,1928,1929,1914,1931,1932,1929,1920,1925,1932,1932,1921,1927,1936,1928,1931,1929,1928,1930,1926,1930,1939,1927,1924,1931,1926,1927,1927,1926,1949,1927,1931,1952,1930,1927,1929,1932,1928,1929,1930,1927,1929,1924,1924,1926,1920,1929,1939,1945,1929,1932,1931,1945,1924,1926,1938,1914,1929,1926,1930,1932,1927,1927,1927,1926,1930,1933,1926,1927,1929,1930,1921,1927,1928,1928,1931,1930,1914,1934,1927,1927,1932,1927,1933,1930,1921,1930,1928,1930,1928,1930,1929,1924,1927,1933,1921,1930,1933,1932,1927,1928,1928,1932,1947,1928,1947,1932,1936,1945,1927,1926,1921,1921,1920,1921,1920,1927,1945,1930,1933,1921,1924,1931,1935,1945,1930,1939,1933,1931,1931,1940,1928,1929,1926,1933,1927,1928,1922,1927,1930,1924,1930,1928,1935,1920,1933,1927,1929,1932,1927,1929,1924,1930,1921,1927,1930,1920,1921,1927,1921,1934,1922,1945,1928,1926,1929,1926,1932,1927,1936,1947,1933,1929,1921,1924,1933,1922,1924,1931,1948,1920,1936,1924,1934,1931,1928,1928,1948,1952,1929,1927,1920,1932,1926,1921,1928,1924,1929,1924,1926,1932,1930,1927,1929,1930,1931,1935,1914,1922,1929,1927,1931,1930,1926,1926,1920,1947,1933,1938,1930,1926,1931,1927,1937,1927,1927,1937,1926,1929,1931,1928,1932,1927,1930,1932,1930,1931,1930,1921,1926,1926,1924,1924,1928,1928,1924,1931,1931,1929,1928,1929,1928,1928,1928,1921,1922,1926,1930,1933,1932,1937,1930,1930,1937,1926,1921,1927,1926,1927,1927,1933,1929,1914,1920,1929,1926,1924,1930,1926,1929,1926,1933,1921,1928,1926,1920,1926,1929,1930,1931,1921,1930,1927,1927,1928,1930,1926,1931,1912,1928,1927,1931,1926,1933,1933,1924,1930,1932,1921,1932,1927,1922,1924,1924,1928,1921,1921,1929,1920,1928,1920,1927,1929,1921,1924,1928,1914,1929,1930,1926,1934,1924,1926,1929,1920,1924,1920,1927,1920,1929,1920,1920,1927,1921,1921,1930,1920,1933,1920,1930,1927,1924,1929,1921,1928,1921,1930,1914,1926,1928,1929,1920,1927,1914,1927,1924,1926,1924,1914,1921,1920],\"xaxis\":\"x\",\"yaxis\":\"y\",\"type\":\"histogram\",\"textfont\":{\"size\":12},\"cliponaxis\":false,\"textangle\":0,\"textposition\":\"outside\"},{\"alignmentgroup\":\"True\",\"bingroup\":\"x\",\"hovertemplate\":\"Country=Netherlands<br>Year of publication=%{x}<br>count=%{y}<extra></extra>\",\"legendgroup\":\"Netherlands\",\"marker\":{\"color\":\"#00cc96\",\"pattern\":{\"shape\":\"\"}},\"name\":\"Netherlands\",\"offsetgroup\":\"Netherlands\",\"orientation\":\"v\",\"showlegend\":true,\"x\":[1919,1919,1918,1919,1920,1919,1919,1918,1918,1918,1917],\"xaxis\":\"x\",\"yaxis\":\"y\",\"type\":\"histogram\",\"textfont\":{\"size\":12},\"cliponaxis\":false,\"textangle\":0,\"textposition\":\"outside\"},{\"alignmentgroup\":\"True\",\"bingroup\":\"x\",\"hovertemplate\":\"Country=Czech Republic<br>Year of publication=%{x}<br>count=%{y}<extra></extra>\",\"legendgroup\":\"Czech Republic\",\"marker\":{\"color\":\"#ab63fa\",\"pattern\":{\"shape\":\"\"}},\"name\":\"Czech Republic\",\"offsetgroup\":\"Czech Republic\",\"orientation\":\"v\",\"showlegend\":true,\"x\":[1912,1912,1914,1913,1914,1927,1927,1935,1913,1912,1912,1912,1912,1912,1913,1922,1947,1948,1927,1912,1927,1913,1912,1948,1913,1912,1913,1936,1935,1912,1911,1912,1913,1912,1911,1948],\"xaxis\":\"x\",\"yaxis\":\"y\",\"type\":\"histogram\",\"textfont\":{\"size\":12},\"cliponaxis\":false,\"textangle\":0,\"textposition\":\"outside\"},{\"alignmentgroup\":\"True\",\"bingroup\":\"x\",\"hovertemplate\":\"Country=United States of America<br>Year of publication=%{x}<br>count=%{y}<extra></extra>\",\"legendgroup\":\"United States of America\",\"marker\":{\"color\":\"#FFA15A\",\"pattern\":{\"shape\":\"\"}},\"name\":\"United States of America\",\"offsetgroup\":\"United States of America\",\"orientation\":\"v\",\"showlegend\":true,\"x\":[1921,1923,1915,1921,1915,1915,1921,1916,1915,1917,1915,1922],\"xaxis\":\"x\",\"yaxis\":\"y\",\"type\":\"histogram\",\"textfont\":{\"size\":12},\"cliponaxis\":false,\"textangle\":0,\"textposition\":\"outside\"},{\"alignmentgroup\":\"True\",\"bingroup\":\"x\",\"hovertemplate\":\"Country=Denmark<br>Year of publication=%{x}<br>count=%{y}<extra></extra>\",\"legendgroup\":\"Denmark\",\"marker\":{\"color\":\"#19d3f3\",\"pattern\":{\"shape\":\"\"}},\"name\":\"Denmark\",\"offsetgroup\":\"Denmark\",\"orientation\":\"v\",\"showlegend\":true,\"x\":[1918,1920,1919,1919,1919,1919,1919,1920],\"xaxis\":\"x\",\"yaxis\":\"y\",\"type\":\"histogram\",\"textfont\":{\"size\":12},\"cliponaxis\":false,\"textangle\":0,\"textposition\":\"outside\"},{\"alignmentgroup\":\"True\",\"bingroup\":\"x\",\"hovertemplate\":\"Country=Poland<br>Year of publication=%{x}<br>count=%{y}<extra></extra>\",\"legendgroup\":\"Poland\",\"marker\":{\"color\":\"#FF6692\",\"pattern\":{\"shape\":\"\"}},\"name\":\"Poland\",\"offsetgroup\":\"Poland\",\"orientation\":\"v\",\"showlegend\":true,\"x\":[1930,1926,1926,1924,1926,1930,1926,1926,1924,1926,1930,1930,1930,1930,1930,1930,1924,1926,1926,1930,1930,1924,1930,1924,1926,1924,1926,1930,1926],\"xaxis\":\"x\",\"yaxis\":\"y\",\"type\":\"histogram\",\"textfont\":{\"size\":12},\"cliponaxis\":false,\"textangle\":0,\"textposition\":\"outside\"},{\"alignmentgroup\":\"True\",\"bingroup\":\"x\",\"hovertemplate\":\"Country=Russia<br>Year of publication=%{x}<br>count=%{y}<extra></extra>\",\"legendgroup\":\"Russia\",\"marker\":{\"color\":\"#B6E880\",\"pattern\":{\"shape\":\"\"}},\"name\":\"Russia\",\"offsetgroup\":\"Russia\",\"orientation\":\"v\",\"showlegend\":true,\"x\":[1928,1927,1923,1928],\"xaxis\":\"x\",\"yaxis\":\"y\",\"type\":\"histogram\",\"textfont\":{\"size\":12},\"cliponaxis\":false,\"textangle\":0,\"textposition\":\"outside\"},{\"alignmentgroup\":\"True\",\"bingroup\":\"x\",\"hovertemplate\":\"Country=Romania<br>Year of publication=%{x}<br>count=%{y}<extra></extra>\",\"legendgroup\":\"Romania\",\"marker\":{\"color\":\"#FF97FF\",\"pattern\":{\"shape\":\"\"}},\"name\":\"Romania\",\"offsetgroup\":\"Romania\",\"orientation\":\"v\",\"showlegend\":true,\"x\":[1925,1925],\"xaxis\":\"x\",\"yaxis\":\"y\",\"type\":\"histogram\",\"textfont\":{\"size\":12},\"cliponaxis\":false,\"textangle\":0,\"textposition\":\"outside\"},{\"alignmentgroup\":\"True\",\"bingroup\":\"x\",\"hovertemplate\":\"Country=Italy<br>Year of publication=%{x}<br>count=%{y}<extra></extra>\",\"legendgroup\":\"Italy\",\"marker\":{\"color\":\"#FECB52\",\"pattern\":{\"shape\":\"\"}},\"name\":\"Italy\",\"offsetgroup\":\"Italy\",\"orientation\":\"v\",\"showlegend\":true,\"x\":[1923,1923],\"xaxis\":\"x\",\"yaxis\":\"y\",\"type\":\"histogram\",\"textfont\":{\"size\":12},\"cliponaxis\":false,\"textangle\":0,\"textposition\":\"outside\"},{\"alignmentgroup\":\"True\",\"bingroup\":\"x\",\"hovertemplate\":\"Country=Argentina<br>Year of publication=%{x}<br>count=%{y}<extra></extra>\",\"legendgroup\":\"Argentina\",\"marker\":{\"color\":\"#636efa\",\"pattern\":{\"shape\":\"\"}},\"name\":\"Argentina\",\"offsetgroup\":\"Argentina\",\"orientation\":\"v\",\"showlegend\":true,\"x\":[1925],\"xaxis\":\"x\",\"yaxis\":\"y\",\"type\":\"histogram\",\"textfont\":{\"size\":12},\"cliponaxis\":false,\"textangle\":0,\"textposition\":\"outside\"},{\"alignmentgroup\":\"True\",\"bingroup\":\"x\",\"hovertemplate\":\"Country=Switzerland<br>Year of publication=%{x}<br>count=%{y}<extra></extra>\",\"legendgroup\":\"Switzerland\",\"marker\":{\"color\":\"#EF553B\",\"pattern\":{\"shape\":\"\"}},\"name\":\"Switzerland\",\"offsetgroup\":\"Switzerland\",\"orientation\":\"v\",\"showlegend\":true,\"x\":[1919],\"xaxis\":\"x\",\"yaxis\":\"y\",\"type\":\"histogram\",\"textfont\":{\"size\":12},\"cliponaxis\":false,\"textangle\":0,\"textposition\":\"outside\"},{\"alignmentgroup\":\"True\",\"bingroup\":\"x\",\"hovertemplate\":\"Country=Spain<br>Year of publication=%{x}<br>count=%{y}<extra></extra>\",\"legendgroup\":\"Spain\",\"marker\":{\"color\":\"#00cc96\",\"pattern\":{\"shape\":\"\"}},\"name\":\"Spain\",\"offsetgroup\":\"Spain\",\"orientation\":\"v\",\"showlegend\":true,\"x\":[1950,1924],\"xaxis\":\"x\",\"yaxis\":\"y\",\"type\":\"histogram\",\"textfont\":{\"size\":12},\"cliponaxis\":false,\"textangle\":0,\"textposition\":\"outside\"}],                        {\"template\":{\"data\":{\"histogram2dcontour\":[{\"type\":\"histogram2dcontour\",\"colorbar\":{\"outlinewidth\":0,\"ticks\":\"\"},\"colorscale\":[[0.0,\"#0d0887\"],[0.1111111111111111,\"#46039f\"],[0.2222222222222222,\"#7201a8\"],[0.3333333333333333,\"#9c179e\"],[0.4444444444444444,\"#bd3786\"],[0.5555555555555556,\"#d8576b\"],[0.6666666666666666,\"#ed7953\"],[0.7777777777777778,\"#fb9f3a\"],[0.8888888888888888,\"#fdca26\"],[1.0,\"#f0f921\"]]}],\"choropleth\":[{\"type\":\"choropleth\",\"colorbar\":{\"outlinewidth\":0,\"ticks\":\"\"}}],\"histogram2d\":[{\"type\":\"histogram2d\",\"colorbar\":{\"outlinewidth\":0,\"ticks\":\"\"},\"colorscale\":[[0.0,\"#0d0887\"],[0.1111111111111111,\"#46039f\"],[0.2222222222222222,\"#7201a8\"],[0.3333333333333333,\"#9c179e\"],[0.4444444444444444,\"#bd3786\"],[0.5555555555555556,\"#d8576b\"],[0.6666666666666666,\"#ed7953\"],[0.7777777777777778,\"#fb9f3a\"],[0.8888888888888888,\"#fdca26\"],[1.0,\"#f0f921\"]]}],\"heatmap\":[{\"type\":\"heatmap\",\"colorbar\":{\"outlinewidth\":0,\"ticks\":\"\"},\"colorscale\":[[0.0,\"#0d0887\"],[0.1111111111111111,\"#46039f\"],[0.2222222222222222,\"#7201a8\"],[0.3333333333333333,\"#9c179e\"],[0.4444444444444444,\"#bd3786\"],[0.5555555555555556,\"#d8576b\"],[0.6666666666666666,\"#ed7953\"],[0.7777777777777778,\"#fb9f3a\"],[0.8888888888888888,\"#fdca26\"],[1.0,\"#f0f921\"]]}],\"heatmapgl\":[{\"type\":\"heatmapgl\",\"colorbar\":{\"outlinewidth\":0,\"ticks\":\"\"},\"colorscale\":[[0.0,\"#0d0887\"],[0.1111111111111111,\"#46039f\"],[0.2222222222222222,\"#7201a8\"],[0.3333333333333333,\"#9c179e\"],[0.4444444444444444,\"#bd3786\"],[0.5555555555555556,\"#d8576b\"],[0.6666666666666666,\"#ed7953\"],[0.7777777777777778,\"#fb9f3a\"],[0.8888888888888888,\"#fdca26\"],[1.0,\"#f0f921\"]]}],\"contourcarpet\":[{\"type\":\"contourcarpet\",\"colorbar\":{\"outlinewidth\":0,\"ticks\":\"\"}}],\"contour\":[{\"type\":\"contour\",\"colorbar\":{\"outlinewidth\":0,\"ticks\":\"\"},\"colorscale\":[[0.0,\"#0d0887\"],[0.1111111111111111,\"#46039f\"],[0.2222222222222222,\"#7201a8\"],[0.3333333333333333,\"#9c179e\"],[0.4444444444444444,\"#bd3786\"],[0.5555555555555556,\"#d8576b\"],[0.6666666666666666,\"#ed7953\"],[0.7777777777777778,\"#fb9f3a\"],[0.8888888888888888,\"#fdca26\"],[1.0,\"#f0f921\"]]}],\"surface\":[{\"type\":\"surface\",\"colorbar\":{\"outlinewidth\":0,\"ticks\":\"\"},\"colorscale\":[[0.0,\"#0d0887\"],[0.1111111111111111,\"#46039f\"],[0.2222222222222222,\"#7201a8\"],[0.3333333333333333,\"#9c179e\"],[0.4444444444444444,\"#bd3786\"],[0.5555555555555556,\"#d8576b\"],[0.6666666666666666,\"#ed7953\"],[0.7777777777777778,\"#fb9f3a\"],[0.8888888888888888,\"#fdca26\"],[1.0,\"#f0f921\"]]}],\"mesh3d\":[{\"type\":\"mesh3d\",\"colorbar\":{\"outlinewidth\":0,\"ticks\":\"\"}}],\"scatter\":[{\"fillpattern\":{\"fillmode\":\"overlay\",\"size\":10,\"solidity\":0.2},\"type\":\"scatter\"}],\"parcoords\":[{\"type\":\"parcoords\",\"line\":{\"colorbar\":{\"outlinewidth\":0,\"ticks\":\"\"}}}],\"scatterpolargl\":[{\"type\":\"scatterpolargl\",\"marker\":{\"colorbar\":{\"outlinewidth\":0,\"ticks\":\"\"}}}],\"bar\":[{\"error_x\":{\"color\":\"#2a3f5f\"},\"error_y\":{\"color\":\"#2a3f5f\"},\"marker\":{\"line\":{\"color\":\"#E5ECF6\",\"width\":0.5},\"pattern\":{\"fillmode\":\"overlay\",\"size\":10,\"solidity\":0.2}},\"type\":\"bar\"}],\"scattergeo\":[{\"type\":\"scattergeo\",\"marker\":{\"colorbar\":{\"outlinewidth\":0,\"ticks\":\"\"}}}],\"scatterpolar\":[{\"type\":\"scatterpolar\",\"marker\":{\"colorbar\":{\"outlinewidth\":0,\"ticks\":\"\"}}}],\"histogram\":[{\"marker\":{\"pattern\":{\"fillmode\":\"overlay\",\"size\":10,\"solidity\":0.2}},\"type\":\"histogram\"}],\"scattergl\":[{\"type\":\"scattergl\",\"marker\":{\"colorbar\":{\"outlinewidth\":0,\"ticks\":\"\"}}}],\"scatter3d\":[{\"type\":\"scatter3d\",\"line\":{\"colorbar\":{\"outlinewidth\":0,\"ticks\":\"\"}},\"marker\":{\"colorbar\":{\"outlinewidth\":0,\"ticks\":\"\"}}}],\"scattermapbox\":[{\"type\":\"scattermapbox\",\"marker\":{\"colorbar\":{\"outlinewidth\":0,\"ticks\":\"\"}}}],\"scatterternary\":[{\"type\":\"scatterternary\",\"marker\":{\"colorbar\":{\"outlinewidth\":0,\"ticks\":\"\"}}}],\"scattercarpet\":[{\"type\":\"scattercarpet\",\"marker\":{\"colorbar\":{\"outlinewidth\":0,\"ticks\":\"\"}}}],\"carpet\":[{\"aaxis\":{\"endlinecolor\":\"#2a3f5f\",\"gridcolor\":\"white\",\"linecolor\":\"white\",\"minorgridcolor\":\"white\",\"startlinecolor\":\"#2a3f5f\"},\"baxis\":{\"endlinecolor\":\"#2a3f5f\",\"gridcolor\":\"white\",\"linecolor\":\"white\",\"minorgridcolor\":\"white\",\"startlinecolor\":\"#2a3f5f\"},\"type\":\"carpet\"}],\"table\":[{\"cells\":{\"fill\":{\"color\":\"#EBF0F8\"},\"line\":{\"color\":\"white\"}},\"header\":{\"fill\":{\"color\":\"#C8D4E3\"},\"line\":{\"color\":\"white\"}},\"type\":\"table\"}],\"barpolar\":[{\"marker\":{\"line\":{\"color\":\"#E5ECF6\",\"width\":0.5},\"pattern\":{\"fillmode\":\"overlay\",\"size\":10,\"solidity\":0.2}},\"type\":\"barpolar\"}],\"pie\":[{\"automargin\":true,\"type\":\"pie\"}]},\"layout\":{\"autotypenumbers\":\"strict\",\"colorway\":[\"#636efa\",\"#EF553B\",\"#00cc96\",\"#ab63fa\",\"#FFA15A\",\"#19d3f3\",\"#FF6692\",\"#B6E880\",\"#FF97FF\",\"#FECB52\"],\"font\":{\"color\":\"#2a3f5f\"},\"hovermode\":\"closest\",\"hoverlabel\":{\"align\":\"left\"},\"paper_bgcolor\":\"white\",\"plot_bgcolor\":\"#E5ECF6\",\"polar\":{\"bgcolor\":\"#E5ECF6\",\"angularaxis\":{\"gridcolor\":\"white\",\"linecolor\":\"white\",\"ticks\":\"\"},\"radialaxis\":{\"gridcolor\":\"white\",\"linecolor\":\"white\",\"ticks\":\"\"}},\"ternary\":{\"bgcolor\":\"#E5ECF6\",\"aaxis\":{\"gridcolor\":\"white\",\"linecolor\":\"white\",\"ticks\":\"\"},\"baxis\":{\"gridcolor\":\"white\",\"linecolor\":\"white\",\"ticks\":\"\"},\"caxis\":{\"gridcolor\":\"white\",\"linecolor\":\"white\",\"ticks\":\"\"}},\"coloraxis\":{\"colorbar\":{\"outlinewidth\":0,\"ticks\":\"\"}},\"colorscale\":{\"sequential\":[[0.0,\"#0d0887\"],[0.1111111111111111,\"#46039f\"],[0.2222222222222222,\"#7201a8\"],[0.3333333333333333,\"#9c179e\"],[0.4444444444444444,\"#bd3786\"],[0.5555555555555556,\"#d8576b\"],[0.6666666666666666,\"#ed7953\"],[0.7777777777777778,\"#fb9f3a\"],[0.8888888888888888,\"#fdca26\"],[1.0,\"#f0f921\"]],\"sequentialminus\":[[0.0,\"#0d0887\"],[0.1111111111111111,\"#46039f\"],[0.2222222222222222,\"#7201a8\"],[0.3333333333333333,\"#9c179e\"],[0.4444444444444444,\"#bd3786\"],[0.5555555555555556,\"#d8576b\"],[0.6666666666666666,\"#ed7953\"],[0.7777777777777778,\"#fb9f3a\"],[0.8888888888888888,\"#fdca26\"],[1.0,\"#f0f921\"]],\"diverging\":[[0,\"#8e0152\"],[0.1,\"#c51b7d\"],[0.2,\"#de77ae\"],[0.3,\"#f1b6da\"],[0.4,\"#fde0ef\"],[0.5,\"#f7f7f7\"],[0.6,\"#e6f5d0\"],[0.7,\"#b8e186\"],[0.8,\"#7fbc41\"],[0.9,\"#4d9221\"],[1,\"#276419\"]]},\"xaxis\":{\"gridcolor\":\"white\",\"linecolor\":\"white\",\"ticks\":\"\",\"title\":{\"standoff\":15},\"zerolinecolor\":\"white\",\"automargin\":true,\"zerolinewidth\":2},\"yaxis\":{\"gridcolor\":\"white\",\"linecolor\":\"white\",\"ticks\":\"\",\"title\":{\"standoff\":15},\"zerolinecolor\":\"white\",\"automargin\":true,\"zerolinewidth\":2},\"scene\":{\"xaxis\":{\"backgroundcolor\":\"#E5ECF6\",\"gridcolor\":\"white\",\"linecolor\":\"white\",\"showbackground\":true,\"ticks\":\"\",\"zerolinecolor\":\"white\",\"gridwidth\":2},\"yaxis\":{\"backgroundcolor\":\"#E5ECF6\",\"gridcolor\":\"white\",\"linecolor\":\"white\",\"showbackground\":true,\"ticks\":\"\",\"zerolinecolor\":\"white\",\"gridwidth\":2},\"zaxis\":{\"backgroundcolor\":\"#E5ECF6\",\"gridcolor\":\"white\",\"linecolor\":\"white\",\"showbackground\":true,\"ticks\":\"\",\"zerolinecolor\":\"white\",\"gridwidth\":2}},\"shapedefaults\":{\"line\":{\"color\":\"#2a3f5f\"}},\"annotationdefaults\":{\"arrowcolor\":\"#2a3f5f\",\"arrowhead\":0,\"arrowwidth\":1},\"geo\":{\"bgcolor\":\"white\",\"landcolor\":\"#E5ECF6\",\"subunitcolor\":\"white\",\"showland\":true,\"showlakes\":true,\"lakecolor\":\"white\"},\"title\":{\"x\":0.05},\"mapbox\":{\"style\":\"light\"}}},\"xaxis\":{\"anchor\":\"y\",\"domain\":[0.0,1.0],\"title\":{\"text\":\"Year of publication\"}},\"yaxis\":{\"anchor\":\"x\",\"domain\":[0.0,1.0],\"title\":{\"text\":\"count\"}},\"legend\":{\"title\":{\"text\":\"Country\"},\"tracegroupgap\":0},\"title\":{\"text\":\"Primitive images distribution per year\"},\"barmode\":\"relative\"},                        {\"responsive\": true}                    ).then(function(){\n",
       "                            \n",
       "var gd = document.getElementById('c79bb6aa-7a0f-496d-b226-2c37760d4fac');\n",
       "var x = new MutationObserver(function (mutations, observer) {{\n",
       "        var display = window.getComputedStyle(gd).display;\n",
       "        if (!display || display === 'none') {{\n",
       "            console.log([gd, 'removed!']);\n",
       "            Plotly.purge(gd);\n",
       "            observer.disconnect();\n",
       "        }}\n",
       "}});\n",
       "\n",
       "// Listen for the removal of the full notebook cells\n",
       "var notebookContainer = gd.closest('#notebook-container');\n",
       "if (notebookContainer) {{\n",
       "    x.observe(notebookContainer, {childList: true});\n",
       "}}\n",
       "\n",
       "// Listen for the clearing of the current output cell\n",
       "var outputEl = gd.closest('.output');\n",
       "if (outputEl) {{\n",
       "    x.observe(outputEl, {childList: true});\n",
       "}}\n",
       "\n",
       "                        })                };                });            </script>        </div>"
      ]
     },
     "metadata": {},
     "output_type": "display_data"
    }
   ],
   "source": [
    "fig = px.histogram(image_vis, x='year', color=\"Country\",\n",
    "            title=\"Primitive images distribution per year\",\n",
    "                  labels={\n",
    "                     \"year\": \"Year of publication\"})\n",
    "fig.update_traces(textfont_size=12, textangle=0, textposition=\"outside\", cliponaxis=False)\n",
    "fig.show()\n",
    "#fig.write_html('viz/image_per_year.html', auto_open=True)\n",
    "fig.write_image(\"viz/image_per_year.png\") "
   ]
  },
  {
   "cell_type": "markdown",
   "id": "4d6173e1-d259-4727-b26f-c426614e3767",
   "metadata": {},
   "source": [
    "### Which images"
   ]
  },
  {
   "cell_type": "code",
   "execution_count": 105,
   "id": "4e9e8d13-24e0-4aed-bfbc-7b843b863ddb",
   "metadata": {},
   "outputs": [],
   "source": [
    "def _src_from_data(data):\n",
    "    img_obj = Image(data=data)\n",
    "    for bundle in img_obj._repr_mimebundle_():\n",
    "        for mimetype, b64value in bundle.items():\n",
    "            if mimetype.startswith('image/'):\n",
    "                return f'data:{mimetype};base64,{b64value}'\n",
    "\n",
    "def gallery(images, row_height='auto'):\n",
    "    figures = []\n",
    "    for image in images:\n",
    "        if isinstance(image, bytes):\n",
    "            src = _src_from_data(image)\n",
    "            caption = ''\n",
    "        else:\n",
    "            src = image\n",
    "            caption = f'<figcaption style=\"font-size: 0.6em\">{image}</figcaption>'\n",
    "        figures.append(f'''\n",
    "            <figure style=\"margin: 5px !important;\">\n",
    "              <img src=\"{src}\" style=\"height: {row_height}\">\n",
    "              {caption}\n",
    "            </figure>\n",
    "        ''')\n",
    "    return HTML(data=f'''\n",
    "        <div style=\"display: flex; flex-flow: row wrap; text-align: center;\">\n",
    "        {''.join(figures)}\n",
    "        </div>\n",
    "    ''')"
   ]
  },
  {
   "cell_type": "code",
   "execution_count": 106,
   "id": "531d9d00-8244-4146-9334-74b2a5ad2f01",
   "metadata": {},
   "outputs": [],
   "source": [
    "image_urls_ag = image_vis['image'].tolist()\n",
    "#gallery(image_urls_ag, row_height='150px')"
   ]
  },
  {
   "cell_type": "markdown",
   "id": "e2711464-f45c-4806-a3a0-ea060a298795",
   "metadata": {},
   "source": [
    "## Analysing the chain"
   ]
  },
  {
   "cell_type": "markdown",
   "id": "feaa5224-254a-4e22-b99c-96cfa05ea096",
   "metadata": {},
   "source": [
    "<font size=\"4\">After adding an identifier with the primitive images we used for our analysis we merge them back to the original dataframe</font>"
   ]
  },
  {
   "cell_type": "code",
   "execution_count": 25,
   "id": "846a9444-c950-4f15-9df6-bb2b70833dd9",
   "metadata": {},
   "outputs": [
    {
     "data": {
      "text/html": [
       "<div>\n",
       "<style scoped>\n",
       "    .dataframe tbody tr th:only-of-type {\n",
       "        vertical-align: middle;\n",
       "    }\n",
       "\n",
       "    .dataframe tbody tr th {\n",
       "        vertical-align: top;\n",
       "    }\n",
       "\n",
       "    .dataframe thead th {\n",
       "        text-align: right;\n",
       "    }\n",
       "</style>\n",
       "<table border=\"1\" class=\"dataframe\">\n",
       "  <thead>\n",
       "    <tr style=\"text-align: right;\">\n",
       "      <th></th>\n",
       "      <th>cluster</th>\n",
       "      <th>identifier</th>\n",
       "      <th>image</th>\n",
       "      <th>issueLabel</th>\n",
       "      <th>Country</th>\n",
       "      <th>labelType</th>\n",
       "      <th>cityLabel</th>\n",
       "      <th>begin</th>\n",
       "      <th>Datetime</th>\n",
       "      <th>year</th>\n",
       "      <th>count_journal</th>\n",
       "    </tr>\n",
       "  </thead>\n",
       "  <tbody>\n",
       "    <tr>\n",
       "      <th>6986</th>\n",
       "      <td>https://lod.unige.ch/vc/cluster/human/10</td>\n",
       "      <td>https://visualcontagions.unige.ch/explore/anal...</td>\n",
       "      <td>https://bluemountain.princeton.edu/bluemtn/iii...</td>\n",
       "      <td>Der Sturm</td>\n",
       "      <td>Germany</td>\n",
       "      <td>Avant-garde Journal</td>\n",
       "      <td>Berlin</td>\n",
       "      <td>1923-01-04T00:00:00</td>\n",
       "      <td>1923-01-04</td>\n",
       "      <td>1923</td>\n",
       "      <td>17</td>\n",
       "    </tr>\n",
       "    <tr>\n",
       "      <th>2814</th>\n",
       "      <td>https://lod.unige.ch/vc/cluster/human/12</td>\n",
       "      <td>https://visualcontagions.unige.ch/explore/anal...</td>\n",
       "      <td>https://gallica.bnf.fr/iiif/ark:/12148/bpt6k15...</td>\n",
       "      <td>La Révolution surréaliste</td>\n",
       "      <td>France</td>\n",
       "      <td>Avant-garde Journal</td>\n",
       "      <td>Paris</td>\n",
       "      <td>1925-07-15T00:00:00</td>\n",
       "      <td>1925-07-15</td>\n",
       "      <td>1925</td>\n",
       "      <td>8</td>\n",
       "    </tr>\n",
       "    <tr>\n",
       "      <th>2061</th>\n",
       "      <td>https://lod.unige.ch/vc/cluster/human/13</td>\n",
       "      <td>https://visualcontagions.unige.ch/explore/anal...</td>\n",
       "      <td>https://iiif.unige.ch/iiif/2/fedora_ug8093833;...</td>\n",
       "      <td>De Stijl</td>\n",
       "      <td>Netherlands</td>\n",
       "      <td>Avant-garde Journal</td>\n",
       "      <td>Delft</td>\n",
       "      <td>1919-02-01T00:00:00</td>\n",
       "      <td>1919-02-01</td>\n",
       "      <td>1919</td>\n",
       "      <td>11</td>\n",
       "    </tr>\n",
       "    <tr>\n",
       "      <th>1966</th>\n",
       "      <td>https://lod.unige.ch/vc/cluster/human/14</td>\n",
       "      <td>https://visualcontagions.unige.ch/explore/anal...</td>\n",
       "      <td>https://gallica.bnf.fr/iiif/ark:/12148/bpt6k10...</td>\n",
       "      <td>L'Esprit nouveau (Paris. 1920)</td>\n",
       "      <td>France</td>\n",
       "      <td>Avant-garde Journal</td>\n",
       "      <td>Paris</td>\n",
       "      <td>1921-01-01T00:00:00</td>\n",
       "      <td>1921-01-01</td>\n",
       "      <td>1921</td>\n",
       "      <td>80</td>\n",
       "    </tr>\n",
       "    <tr>\n",
       "      <th>35</th>\n",
       "      <td>https://lod.unige.ch/vc/cluster/human/203</td>\n",
       "      <td>https://visualcontagions.unige.ch/explore/anal...</td>\n",
       "      <td>https://bluemountain.princeton.edu/bluemtn/iii...</td>\n",
       "      <td>Umělecký mĕsíčník</td>\n",
       "      <td>Czech Republic</td>\n",
       "      <td>Avant-garde Journal</td>\n",
       "      <td>Prague</td>\n",
       "      <td>1912-01-08T00:00:00</td>\n",
       "      <td>1912-01-08</td>\n",
       "      <td>1912</td>\n",
       "      <td>25</td>\n",
       "    </tr>\n",
       "    <tr>\n",
       "      <th>...</th>\n",
       "      <td>...</td>\n",
       "      <td>...</td>\n",
       "      <td>...</td>\n",
       "      <td>...</td>\n",
       "      <td>...</td>\n",
       "      <td>...</td>\n",
       "      <td>...</td>\n",
       "      <td>...</td>\n",
       "      <td>...</td>\n",
       "      <td>...</td>\n",
       "      <td>...</td>\n",
       "    </tr>\n",
       "    <tr>\n",
       "      <th>4469</th>\n",
       "      <td>https://lod.unige.ch/vc/cluster/00000700ec640d...</td>\n",
       "      <td>https://visualcontagions.unige.ch/explore/dupl...</td>\n",
       "      <td>https://digi.ub.uni-heidelberg.de/iiif/2/form1...</td>\n",
       "      <td>Die Form</td>\n",
       "      <td>Germany</td>\n",
       "      <td>Avant-garde Journal</td>\n",
       "      <td>Berlin</td>\n",
       "      <td>1928-01-01T00:00:00</td>\n",
       "      <td>1928-01-01</td>\n",
       "      <td>1928</td>\n",
       "      <td>178</td>\n",
       "    </tr>\n",
       "    <tr>\n",
       "      <th>6438</th>\n",
       "      <td>https://lod.unige.ch/vc/cluster/000008009d38e3...</td>\n",
       "      <td>https://visualcontagions.unige.ch/explore/dupl...</td>\n",
       "      <td>https://iiif.unige.ch/iiif/2/fedora_ug8065393;...</td>\n",
       "      <td>Novy LEF</td>\n",
       "      <td>Russia</td>\n",
       "      <td>Avant-garde Journal</td>\n",
       "      <td>Moscow</td>\n",
       "      <td>1928-01-01T00:00:00</td>\n",
       "      <td>1928-01-01</td>\n",
       "      <td>1928</td>\n",
       "      <td>3</td>\n",
       "    </tr>\n",
       "    <tr>\n",
       "      <th>2757</th>\n",
       "      <td>https://lod.unige.ch/vc/cluster/00000a00d326a0...</td>\n",
       "      <td>https://visualcontagions.unige.ch/explore/dupl...</td>\n",
       "      <td>https://gallica.bnf.fr/iiif/ark:/12148/bpt6k10...</td>\n",
       "      <td>L'Esprit nouveau (Paris. 1920)</td>\n",
       "      <td>France</td>\n",
       "      <td>Avant-garde Journal</td>\n",
       "      <td>Paris</td>\n",
       "      <td>1921-01-01T00:00:00</td>\n",
       "      <td>1921-01-01</td>\n",
       "      <td>1921</td>\n",
       "      <td>80</td>\n",
       "    </tr>\n",
       "    <tr>\n",
       "      <th>6618</th>\n",
       "      <td>https://lod.unige.ch/vc/cluster/00000c0054dd71...</td>\n",
       "      <td>https://visualcontagions.unige.ch/explore/dupl...</td>\n",
       "      <td>https://bluemountain.princeton.edu/bluemtn/iii...</td>\n",
       "      <td>Action: cahiers individualistes de philosophie...</td>\n",
       "      <td>France</td>\n",
       "      <td>Avant-garde Journal</td>\n",
       "      <td>Paris</td>\n",
       "      <td>1920-01-02T00:00:00</td>\n",
       "      <td>1920-01-02</td>\n",
       "      <td>1920</td>\n",
       "      <td>9</td>\n",
       "    </tr>\n",
       "    <tr>\n",
       "      <th>6140</th>\n",
       "      <td>https://lod.unige.ch/vc/cluster/00001c00d092d9...</td>\n",
       "      <td>https://visualcontagions.unige.ch/explore/dupl...</td>\n",
       "      <td>https://bluemountain.princeton.edu/bluemtn/iii...</td>\n",
       "      <td>Der Sturm</td>\n",
       "      <td>Germany</td>\n",
       "      <td>Avant-garde Journal</td>\n",
       "      <td>Berlin</td>\n",
       "      <td>1923-01-04T00:00:00</td>\n",
       "      <td>1923-01-04</td>\n",
       "      <td>1923</td>\n",
       "      <td>17</td>\n",
       "    </tr>\n",
       "  </tbody>\n",
       "</table>\n",
       "<p>725 rows × 11 columns</p>\n",
       "</div>"
      ],
      "text/plain": [
       "                                                cluster  \\\n",
       "6986           https://lod.unige.ch/vc/cluster/human/10   \n",
       "2814           https://lod.unige.ch/vc/cluster/human/12   \n",
       "2061           https://lod.unige.ch/vc/cluster/human/13   \n",
       "1966           https://lod.unige.ch/vc/cluster/human/14   \n",
       "35            https://lod.unige.ch/vc/cluster/human/203   \n",
       "...                                                 ...   \n",
       "4469  https://lod.unige.ch/vc/cluster/00000700ec640d...   \n",
       "6438  https://lod.unige.ch/vc/cluster/000008009d38e3...   \n",
       "2757  https://lod.unige.ch/vc/cluster/00000a00d326a0...   \n",
       "6618  https://lod.unige.ch/vc/cluster/00000c0054dd71...   \n",
       "6140  https://lod.unige.ch/vc/cluster/00001c00d092d9...   \n",
       "\n",
       "                                             identifier  \\\n",
       "6986  https://visualcontagions.unige.ch/explore/anal...   \n",
       "2814  https://visualcontagions.unige.ch/explore/anal...   \n",
       "2061  https://visualcontagions.unige.ch/explore/anal...   \n",
       "1966  https://visualcontagions.unige.ch/explore/anal...   \n",
       "35    https://visualcontagions.unige.ch/explore/anal...   \n",
       "...                                                 ...   \n",
       "4469  https://visualcontagions.unige.ch/explore/dupl...   \n",
       "6438  https://visualcontagions.unige.ch/explore/dupl...   \n",
       "2757  https://visualcontagions.unige.ch/explore/dupl...   \n",
       "6618  https://visualcontagions.unige.ch/explore/dupl...   \n",
       "6140  https://visualcontagions.unige.ch/explore/dupl...   \n",
       "\n",
       "                                                  image  \\\n",
       "6986  https://bluemountain.princeton.edu/bluemtn/iii...   \n",
       "2814  https://gallica.bnf.fr/iiif/ark:/12148/bpt6k15...   \n",
       "2061  https://iiif.unige.ch/iiif/2/fedora_ug8093833;...   \n",
       "1966  https://gallica.bnf.fr/iiif/ark:/12148/bpt6k10...   \n",
       "35    https://bluemountain.princeton.edu/bluemtn/iii...   \n",
       "...                                                 ...   \n",
       "4469  https://digi.ub.uni-heidelberg.de/iiif/2/form1...   \n",
       "6438  https://iiif.unige.ch/iiif/2/fedora_ug8065393;...   \n",
       "2757  https://gallica.bnf.fr/iiif/ark:/12148/bpt6k10...   \n",
       "6618  https://bluemountain.princeton.edu/bluemtn/iii...   \n",
       "6140  https://bluemountain.princeton.edu/bluemtn/iii...   \n",
       "\n",
       "                                             issueLabel         Country  \\\n",
       "6986                                          Der Sturm         Germany   \n",
       "2814                          La Révolution surréaliste          France   \n",
       "2061                                           De Stijl     Netherlands   \n",
       "1966                     L'Esprit nouveau (Paris. 1920)          France   \n",
       "35                                    Umělecký mĕsíčník  Czech Republic   \n",
       "...                                                 ...             ...   \n",
       "4469                                           Die Form         Germany   \n",
       "6438                                           Novy LEF          Russia   \n",
       "2757                     L'Esprit nouveau (Paris. 1920)          France   \n",
       "6618  Action: cahiers individualistes de philosophie...          France   \n",
       "6140                                          Der Sturm         Germany   \n",
       "\n",
       "                labelType cityLabel                begin   Datetime  year  \\\n",
       "6986  Avant-garde Journal    Berlin  1923-01-04T00:00:00 1923-01-04  1923   \n",
       "2814  Avant-garde Journal     Paris  1925-07-15T00:00:00 1925-07-15  1925   \n",
       "2061  Avant-garde Journal     Delft  1919-02-01T00:00:00 1919-02-01  1919   \n",
       "1966  Avant-garde Journal     Paris  1921-01-01T00:00:00 1921-01-01  1921   \n",
       "35    Avant-garde Journal    Prague  1912-01-08T00:00:00 1912-01-08  1912   \n",
       "...                   ...       ...                  ...        ...   ...   \n",
       "4469  Avant-garde Journal    Berlin  1928-01-01T00:00:00 1928-01-01  1928   \n",
       "6438  Avant-garde Journal    Moscow  1928-01-01T00:00:00 1928-01-01  1928   \n",
       "2757  Avant-garde Journal     Paris  1921-01-01T00:00:00 1921-01-01  1921   \n",
       "6618  Avant-garde Journal     Paris  1920-01-02T00:00:00 1920-01-02  1920   \n",
       "6140  Avant-garde Journal    Berlin  1923-01-04T00:00:00 1923-01-04  1923   \n",
       "\n",
       "      count_journal  \n",
       "6986             17  \n",
       "2814              8  \n",
       "2061             11  \n",
       "1966             80  \n",
       "35               25  \n",
       "...             ...  \n",
       "4469            178  \n",
       "6438              3  \n",
       "2757             80  \n",
       "6618              9  \n",
       "6140             17  \n",
       "\n",
       "[725 rows x 11 columns]"
      ]
     },
     "execution_count": 25,
     "metadata": {},
     "output_type": "execute_result"
    }
   ],
   "source": [
    "p_ag"
   ]
  },
  {
   "cell_type": "code",
   "execution_count": 107,
   "id": "10cbe320-fbd5-4084-aa52-bd788be74df2",
   "metadata": {},
   "outputs": [],
   "source": [
    "p_ag[\"primitive\"] = \"primitive\"\n",
    "p_ag.drop(['issueLabel','cityLabel','Country','begin','Datetime', 'count_journal','labelType','year'], axis=1, inplace=True)"
   ]
  },
  {
   "cell_type": "code",
   "execution_count": 108,
   "id": "92d32cbd-c6de-471c-ad90-d940e4ca97b1",
   "metadata": {},
   "outputs": [],
   "source": [
    "products_dict = dict(zip(p_ag.image,p_ag.primitive))\n",
    "df1['primitive'] = df1['image'].map(products_dict)"
   ]
  },
  {
   "cell_type": "code",
   "execution_count": 109,
   "id": "11130671-bad2-458d-ad8b-5a14a4a2d589",
   "metadata": {},
   "outputs": [],
   "source": [
    "df1['primitive'] = df1['primitive'].fillna('no')"
   ]
  },
  {
   "cell_type": "code",
   "execution_count": 110,
   "id": "8d9e2627-13df-4ef0-9b1b-30ed11c1ac08",
   "metadata": {},
   "outputs": [],
   "source": [
    "df1.to_csv('csv/df1.csv', index=False)"
   ]
  },
  {
   "cell_type": "code",
   "execution_count": 111,
   "id": "b020043e-2622-4512-bda9-a11b42c0797d",
   "metadata": {},
   "outputs": [],
   "source": [
    "melted = df1.melt(id_vars=[\"cluster\", \"identifier\", \"image\", \"begin\", \"issueLabel\", \"labelType\", \"cityLabel\",\"countryLabel\", \"Datetime\", \"year\"], value_name =\"start\")\n",
    "melted.sort_values(by=['identifier', 'begin'], inplace=True)"
   ]
  },
  {
   "cell_type": "code",
   "execution_count": 112,
   "id": "4fd66237-4a58-4096-88d7-4776456bf765",
   "metadata": {},
   "outputs": [
    {
     "data": {
      "text/html": [
       "<div>\n",
       "<style scoped>\n",
       "    .dataframe tbody tr th:only-of-type {\n",
       "        vertical-align: middle;\n",
       "    }\n",
       "\n",
       "    .dataframe tbody tr th {\n",
       "        vertical-align: top;\n",
       "    }\n",
       "\n",
       "    .dataframe thead th {\n",
       "        text-align: right;\n",
       "    }\n",
       "</style>\n",
       "<table border=\"1\" class=\"dataframe\">\n",
       "  <thead>\n",
       "    <tr style=\"text-align: right;\">\n",
       "      <th></th>\n",
       "      <th>cluster</th>\n",
       "      <th>identifier</th>\n",
       "      <th>image</th>\n",
       "      <th>begin</th>\n",
       "      <th>issueLabel</th>\n",
       "      <th>labelType</th>\n",
       "      <th>cityLabel</th>\n",
       "      <th>countryLabel</th>\n",
       "      <th>Datetime</th>\n",
       "      <th>year</th>\n",
       "      <th>variable</th>\n",
       "      <th>start</th>\n",
       "    </tr>\n",
       "  </thead>\n",
       "  <tbody>\n",
       "    <tr>\n",
       "      <th>6986</th>\n",
       "      <td>https://lod.unige.ch/vc/cluster/human/10</td>\n",
       "      <td>https://visualcontagions.unige.ch/explore/analysis/imageseries/10</td>\n",
       "      <td>https://bluemountain.princeton.edu/bluemtn/iiif/image/bmtnabg19230401-01.1.11/796,1424,4550,5562/full/0/default.jpg</td>\n",
       "      <td>1923-01-04T00:00:00</td>\n",
       "      <td>Der Sturm</td>\n",
       "      <td>Avant-garde Journal</td>\n",
       "      <td>Berlin</td>\n",
       "      <td>Germany</td>\n",
       "      <td>1923-01-04</td>\n",
       "      <td>1923</td>\n",
       "      <td>primitive</td>\n",
       "      <td>primitive</td>\n",
       "    </tr>\n",
       "    <tr>\n",
       "      <th>6990</th>\n",
       "      <td>https://lod.unige.ch/vc/cluster/human/10</td>\n",
       "      <td>https://visualcontagions.unige.ch/explore/analysis/imageseries/10</td>\n",
       "      <td>https://gallica.bnf.fr/iiif/ark:/12148/bpt6k9773372w/f25/1710,2232,1430,1851/full/0/default.jpg</td>\n",
       "      <td>1932-01-01T00:00:00</td>\n",
       "      <td>Abstraction, création, art non figuratif</td>\n",
       "      <td>Avant-garde Journal</td>\n",
       "      <td>Paris</td>\n",
       "      <td>France</td>\n",
       "      <td>1932-01-01</td>\n",
       "      <td>1932</td>\n",
       "      <td>primitive</td>\n",
       "      <td>no</td>\n",
       "    </tr>\n",
       "    <tr>\n",
       "      <th>6984</th>\n",
       "      <td>https://lod.unige.ch/vc/cluster/human/10</td>\n",
       "      <td>https://visualcontagions.unige.ch/explore/analysis/imageseries/10</td>\n",
       "      <td>https://gallica.bnf.fr/iiif/ark:/12148/bpt6k9773371g/f30/1927,2094,1424,2028/full/0/default.jpg</td>\n",
       "      <td>1933-01-01T00:00:00</td>\n",
       "      <td>Abstraction, création, art non figuratif</td>\n",
       "      <td>Avant-garde Journal</td>\n",
       "      <td>Paris</td>\n",
       "      <td>France</td>\n",
       "      <td>1933-01-01</td>\n",
       "      <td>1933</td>\n",
       "      <td>primitive</td>\n",
       "      <td>no</td>\n",
       "    </tr>\n",
       "    <tr>\n",
       "      <th>6987</th>\n",
       "      <td>https://lod.unige.ch/vc/cluster/human/10</td>\n",
       "      <td>https://visualcontagions.unige.ch/explore/analysis/imageseries/10</td>\n",
       "      <td>https://gallica.bnf.fr/iiif/ark:/12148/bpt6k9773371g/f30/393,308,1426,1940/full/0/default.jpg</td>\n",
       "      <td>1933-01-01T00:00:00</td>\n",
       "      <td>Abstraction, création, art non figuratif</td>\n",
       "      <td>Avant-garde Journal</td>\n",
       "      <td>Paris</td>\n",
       "      <td>France</td>\n",
       "      <td>1933-01-01</td>\n",
       "      <td>1933</td>\n",
       "      <td>primitive</td>\n",
       "      <td>no</td>\n",
       "    </tr>\n",
       "    <tr>\n",
       "      <th>6989</th>\n",
       "      <td>https://lod.unige.ch/vc/cluster/human/10</td>\n",
       "      <td>https://visualcontagions.unige.ch/explore/analysis/imageseries/10</td>\n",
       "      <td>https://gallica.bnf.fr/iiif/ark:/12148/bpt6k9773371g/f14/438,323,1420,1737/full/0/default.jpg</td>\n",
       "      <td>1933-01-01T00:00:00</td>\n",
       "      <td>Abstraction, création, art non figuratif</td>\n",
       "      <td>Avant-garde Journal</td>\n",
       "      <td>Paris</td>\n",
       "      <td>France</td>\n",
       "      <td>1933-01-01</td>\n",
       "      <td>1933</td>\n",
       "      <td>primitive</td>\n",
       "      <td>no</td>\n",
       "    </tr>\n",
       "    <tr>\n",
       "      <th>...</th>\n",
       "      <td>...</td>\n",
       "      <td>...</td>\n",
       "      <td>...</td>\n",
       "      <td>...</td>\n",
       "      <td>...</td>\n",
       "      <td>...</td>\n",
       "      <td>...</td>\n",
       "      <td>...</td>\n",
       "      <td>...</td>\n",
       "      <td>...</td>\n",
       "      <td>...</td>\n",
       "      <td>...</td>\n",
       "    </tr>\n",
       "    <tr>\n",
       "      <th>1614</th>\n",
       "      <td>https://lod.unige.ch/vc/cluster/0002de009ba02e9b123aaf3882c207a819cac1d12b08ce724587601e43d7cd9aefd01fa4</td>\n",
       "      <td>https://visualcontagions.unige.ch/explore/duplicates/clusters/0002de009ba02e9b123aaf3882c207a819cac1d12b08ce724587601e43d7cd9aefd01fa4</td>\n",
       "      <td>https://digi.ub.uni-heidelberg.de/iiif/2/bkgvm1897%3A25.jpg/875,1595,583,568/full/0/default.jpg</td>\n",
       "      <td>1987-01-01T00:00:00</td>\n",
       "      <td>Zeitschrift des Bayerischen Kunstgewerbe-Vereins zu München</td>\n",
       "      <td>Decorative Art</td>\n",
       "      <td>Munich</td>\n",
       "      <td>Germany</td>\n",
       "      <td>1987-01-01</td>\n",
       "      <td>1987</td>\n",
       "      <td>primitive</td>\n",
       "      <td>no</td>\n",
       "    </tr>\n",
       "    <tr>\n",
       "      <th>1630</th>\n",
       "      <td>https://lod.unige.ch/vc/cluster/0002de009ba02e9b123aaf3882c207a819cac1d12b08ce724587601e43d7cd9aefd01fa4</td>\n",
       "      <td>https://visualcontagions.unige.ch/explore/duplicates/clusters/0002de009ba02e9b123aaf3882c207a819cac1d12b08ce724587601e43d7cd9aefd01fa4</td>\n",
       "      <td>https://digi.ub.uni-heidelberg.de/iiif/2/bkgvm1897%3A28.jpg/241,752,337,333/full/0/default.jpg</td>\n",
       "      <td>1987-01-01T00:00:00</td>\n",
       "      <td>Zeitschrift des Bayerischen Kunstgewerbe-Vereins zu München</td>\n",
       "      <td>Decorative Art</td>\n",
       "      <td>Munich</td>\n",
       "      <td>Germany</td>\n",
       "      <td>1987-01-01</td>\n",
       "      <td>1987</td>\n",
       "      <td>primitive</td>\n",
       "      <td>no</td>\n",
       "    </tr>\n",
       "    <tr>\n",
       "      <th>1675</th>\n",
       "      <td>https://lod.unige.ch/vc/cluster/0002de009ba02e9b123aaf3882c207a819cac1d12b08ce724587601e43d7cd9aefd01fa4</td>\n",
       "      <td>https://visualcontagions.unige.ch/explore/duplicates/clusters/0002de009ba02e9b123aaf3882c207a819cac1d12b08ce724587601e43d7cd9aefd01fa4</td>\n",
       "      <td>https://digi.ub.uni-heidelberg.de/iiif/2/bkgvm1897%3A28.jpg/1797,777,318,312/full/0/default.jpg</td>\n",
       "      <td>1987-01-01T00:00:00</td>\n",
       "      <td>Zeitschrift des Bayerischen Kunstgewerbe-Vereins zu München</td>\n",
       "      <td>Decorative Art</td>\n",
       "      <td>Munich</td>\n",
       "      <td>Germany</td>\n",
       "      <td>1987-01-01</td>\n",
       "      <td>1987</td>\n",
       "      <td>primitive</td>\n",
       "      <td>no</td>\n",
       "    </tr>\n",
       "    <tr>\n",
       "      <th>1100</th>\n",
       "      <td>https://lod.unige.ch/vc/cluster/0002de009ba02e9b123aaf3882c207a819cac1d12b08ce724587601e43d7cd9aefd01fa4</td>\n",
       "      <td>https://visualcontagions.unige.ch/explore/duplicates/clusters/0002de009ba02e9b123aaf3882c207a819cac1d12b08ce724587601e43d7cd9aefd01fa4</td>\n",
       "      <td>https://digi.ub.uni-heidelberg.de/iiif/2/fiorentini1999%3AAbbildung_18.jpg/139,422,1075,1079/full/0/default.jpg</td>\n",
       "      <td>1999-01-01T00:00:00</td>\n",
       "      <td>Ikonographie eines Wandels</td>\n",
       "      <td>Art History</td>\n",
       "      <td>Berlin</td>\n",
       "      <td>Germany</td>\n",
       "      <td>1999-01-01</td>\n",
       "      <td>1999</td>\n",
       "      <td>primitive</td>\n",
       "      <td>no</td>\n",
       "    </tr>\n",
       "    <tr>\n",
       "      <th>1397</th>\n",
       "      <td>https://lod.unige.ch/vc/cluster/0002de009ba02e9b123aaf3882c207a819cac1d12b08ce724587601e43d7cd9aefd01fa4</td>\n",
       "      <td>https://visualcontagions.unige.ch/explore/duplicates/clusters/0002de009ba02e9b123aaf3882c207a819cac1d12b08ce724587601e43d7cd9aefd01fa4</td>\n",
       "      <td>https://digi.ub.uni-heidelberg.de/iiif/2/rhs2000%3A021.jpg/841,1978,964,737/full/0/default.jpg</td>\n",
       "      <td>2000-01-01T00:00:00</td>\n",
       "      <td>Rocznik Historii Sztuki</td>\n",
       "      <td>Art History</td>\n",
       "      <td>Warsaw</td>\n",
       "      <td>Poland</td>\n",
       "      <td>2000-01-01</td>\n",
       "      <td>2000</td>\n",
       "      <td>primitive</td>\n",
       "      <td>no</td>\n",
       "    </tr>\n",
       "  </tbody>\n",
       "</table>\n",
       "<p>7249 rows × 12 columns</p>\n",
       "</div>"
      ],
      "text/plain": [
       "                                                                                                       cluster  \\\n",
       "6986                                                                  https://lod.unige.ch/vc/cluster/human/10   \n",
       "6990                                                                  https://lod.unige.ch/vc/cluster/human/10   \n",
       "6984                                                                  https://lod.unige.ch/vc/cluster/human/10   \n",
       "6987                                                                  https://lod.unige.ch/vc/cluster/human/10   \n",
       "6989                                                                  https://lod.unige.ch/vc/cluster/human/10   \n",
       "...                                                                                                        ...   \n",
       "1614  https://lod.unige.ch/vc/cluster/0002de009ba02e9b123aaf3882c207a819cac1d12b08ce724587601e43d7cd9aefd01fa4   \n",
       "1630  https://lod.unige.ch/vc/cluster/0002de009ba02e9b123aaf3882c207a819cac1d12b08ce724587601e43d7cd9aefd01fa4   \n",
       "1675  https://lod.unige.ch/vc/cluster/0002de009ba02e9b123aaf3882c207a819cac1d12b08ce724587601e43d7cd9aefd01fa4   \n",
       "1100  https://lod.unige.ch/vc/cluster/0002de009ba02e9b123aaf3882c207a819cac1d12b08ce724587601e43d7cd9aefd01fa4   \n",
       "1397  https://lod.unige.ch/vc/cluster/0002de009ba02e9b123aaf3882c207a819cac1d12b08ce724587601e43d7cd9aefd01fa4   \n",
       "\n",
       "                                                                                                                                  identifier  \\\n",
       "6986                                                                       https://visualcontagions.unige.ch/explore/analysis/imageseries/10   \n",
       "6990                                                                       https://visualcontagions.unige.ch/explore/analysis/imageseries/10   \n",
       "6984                                                                       https://visualcontagions.unige.ch/explore/analysis/imageseries/10   \n",
       "6987                                                                       https://visualcontagions.unige.ch/explore/analysis/imageseries/10   \n",
       "6989                                                                       https://visualcontagions.unige.ch/explore/analysis/imageseries/10   \n",
       "...                                                                                                                                      ...   \n",
       "1614  https://visualcontagions.unige.ch/explore/duplicates/clusters/0002de009ba02e9b123aaf3882c207a819cac1d12b08ce724587601e43d7cd9aefd01fa4   \n",
       "1630  https://visualcontagions.unige.ch/explore/duplicates/clusters/0002de009ba02e9b123aaf3882c207a819cac1d12b08ce724587601e43d7cd9aefd01fa4   \n",
       "1675  https://visualcontagions.unige.ch/explore/duplicates/clusters/0002de009ba02e9b123aaf3882c207a819cac1d12b08ce724587601e43d7cd9aefd01fa4   \n",
       "1100  https://visualcontagions.unige.ch/explore/duplicates/clusters/0002de009ba02e9b123aaf3882c207a819cac1d12b08ce724587601e43d7cd9aefd01fa4   \n",
       "1397  https://visualcontagions.unige.ch/explore/duplicates/clusters/0002de009ba02e9b123aaf3882c207a819cac1d12b08ce724587601e43d7cd9aefd01fa4   \n",
       "\n",
       "                                                                                                                    image  \\\n",
       "6986  https://bluemountain.princeton.edu/bluemtn/iiif/image/bmtnabg19230401-01.1.11/796,1424,4550,5562/full/0/default.jpg   \n",
       "6990                      https://gallica.bnf.fr/iiif/ark:/12148/bpt6k9773372w/f25/1710,2232,1430,1851/full/0/default.jpg   \n",
       "6984                      https://gallica.bnf.fr/iiif/ark:/12148/bpt6k9773371g/f30/1927,2094,1424,2028/full/0/default.jpg   \n",
       "6987                        https://gallica.bnf.fr/iiif/ark:/12148/bpt6k9773371g/f30/393,308,1426,1940/full/0/default.jpg   \n",
       "6989                        https://gallica.bnf.fr/iiif/ark:/12148/bpt6k9773371g/f14/438,323,1420,1737/full/0/default.jpg   \n",
       "...                                                                                                                   ...   \n",
       "1614                      https://digi.ub.uni-heidelberg.de/iiif/2/bkgvm1897%3A25.jpg/875,1595,583,568/full/0/default.jpg   \n",
       "1630                       https://digi.ub.uni-heidelberg.de/iiif/2/bkgvm1897%3A28.jpg/241,752,337,333/full/0/default.jpg   \n",
       "1675                      https://digi.ub.uni-heidelberg.de/iiif/2/bkgvm1897%3A28.jpg/1797,777,318,312/full/0/default.jpg   \n",
       "1100      https://digi.ub.uni-heidelberg.de/iiif/2/fiorentini1999%3AAbbildung_18.jpg/139,422,1075,1079/full/0/default.jpg   \n",
       "1397                       https://digi.ub.uni-heidelberg.de/iiif/2/rhs2000%3A021.jpg/841,1978,964,737/full/0/default.jpg   \n",
       "\n",
       "                    begin  \\\n",
       "6986  1923-01-04T00:00:00   \n",
       "6990  1932-01-01T00:00:00   \n",
       "6984  1933-01-01T00:00:00   \n",
       "6987  1933-01-01T00:00:00   \n",
       "6989  1933-01-01T00:00:00   \n",
       "...                   ...   \n",
       "1614  1987-01-01T00:00:00   \n",
       "1630  1987-01-01T00:00:00   \n",
       "1675  1987-01-01T00:00:00   \n",
       "1100  1999-01-01T00:00:00   \n",
       "1397  2000-01-01T00:00:00   \n",
       "\n",
       "                                                       issueLabel  \\\n",
       "6986                                                    Der Sturm   \n",
       "6990                     Abstraction, création, art non figuratif   \n",
       "6984                     Abstraction, création, art non figuratif   \n",
       "6987                     Abstraction, création, art non figuratif   \n",
       "6989                     Abstraction, création, art non figuratif   \n",
       "...                                                           ...   \n",
       "1614  Zeitschrift des Bayerischen Kunstgewerbe-Vereins zu München   \n",
       "1630  Zeitschrift des Bayerischen Kunstgewerbe-Vereins zu München   \n",
       "1675  Zeitschrift des Bayerischen Kunstgewerbe-Vereins zu München   \n",
       "1100                                   Ikonographie eines Wandels   \n",
       "1397                                      Rocznik Historii Sztuki   \n",
       "\n",
       "                labelType cityLabel countryLabel   Datetime  year   variable  \\\n",
       "6986  Avant-garde Journal    Berlin      Germany 1923-01-04  1923  primitive   \n",
       "6990  Avant-garde Journal     Paris       France 1932-01-01  1932  primitive   \n",
       "6984  Avant-garde Journal     Paris       France 1933-01-01  1933  primitive   \n",
       "6987  Avant-garde Journal     Paris       France 1933-01-01  1933  primitive   \n",
       "6989  Avant-garde Journal     Paris       France 1933-01-01  1933  primitive   \n",
       "...                   ...       ...          ...        ...   ...        ...   \n",
       "1614       Decorative Art    Munich      Germany 1987-01-01  1987  primitive   \n",
       "1630       Decorative Art    Munich      Germany 1987-01-01  1987  primitive   \n",
       "1675       Decorative Art    Munich      Germany 1987-01-01  1987  primitive   \n",
       "1100          Art History    Berlin      Germany 1999-01-01  1999  primitive   \n",
       "1397          Art History    Warsaw       Poland 2000-01-01  2000  primitive   \n",
       "\n",
       "          start  \n",
       "6986  primitive  \n",
       "6990         no  \n",
       "6984         no  \n",
       "6987         no  \n",
       "6989         no  \n",
       "...         ...  \n",
       "1614         no  \n",
       "1630         no  \n",
       "1675         no  \n",
       "1100         no  \n",
       "1397         no  \n",
       "\n",
       "[7249 rows x 12 columns]"
      ]
     },
     "execution_count": 112,
     "metadata": {},
     "output_type": "execute_result"
    }
   ],
   "source": [
    "melted"
   ]
  },
  {
   "cell_type": "code",
   "execution_count": 113,
   "id": "7d02dcd9-689d-4d73-ba2d-207588e39fd8",
   "metadata": {},
   "outputs": [],
   "source": [
    "melted.to_csv('csv/melted_primitive.csv', index=False)"
   ]
  },
  {
   "cell_type": "code",
   "execution_count": 114,
   "id": "89a35f00-9ef1-4ac5-a1c7-dfbccf3dd313",
   "metadata": {},
   "outputs": [],
   "source": [
    "uniType = melted.groupby('identifier').start.nunique().eq(1)\n",
    "c = uniType.index[uniType == False]\n",
    "ag_cluster = melted[melted['identifier'].isin(c)]"
   ]
  },
  {
   "cell_type": "code",
   "execution_count": 115,
   "id": "9ee22b61-b24a-4cf9-b7e1-2ad41adc72bc",
   "metadata": {},
   "outputs": [
    {
     "data": {
      "text/html": [
       "<div>\n",
       "<style scoped>\n",
       "    .dataframe tbody tr th:only-of-type {\n",
       "        vertical-align: middle;\n",
       "    }\n",
       "\n",
       "    .dataframe tbody tr th {\n",
       "        vertical-align: top;\n",
       "    }\n",
       "\n",
       "    .dataframe thead th {\n",
       "        text-align: right;\n",
       "    }\n",
       "</style>\n",
       "<table border=\"1\" class=\"dataframe\">\n",
       "  <thead>\n",
       "    <tr style=\"text-align: right;\">\n",
       "      <th></th>\n",
       "      <th>cluster</th>\n",
       "      <th>identifier</th>\n",
       "      <th>image</th>\n",
       "      <th>begin</th>\n",
       "      <th>issueLabel</th>\n",
       "      <th>labelType</th>\n",
       "      <th>cityLabel</th>\n",
       "      <th>countryLabel</th>\n",
       "      <th>Datetime</th>\n",
       "      <th>year</th>\n",
       "      <th>variable</th>\n",
       "      <th>start</th>\n",
       "    </tr>\n",
       "  </thead>\n",
       "  <tbody>\n",
       "    <tr>\n",
       "      <th>6986</th>\n",
       "      <td>https://lod.unige.ch/vc/cluster/human/10</td>\n",
       "      <td>https://visualcontagions.unige.ch/explore/analysis/imageseries/10</td>\n",
       "      <td>https://bluemountain.princeton.edu/bluemtn/iiif/image/bmtnabg19230401-01.1.11/796,1424,4550,5562/full/0/default.jpg</td>\n",
       "      <td>1923-01-04T00:00:00</td>\n",
       "      <td>Der Sturm</td>\n",
       "      <td>Avant-garde Journal</td>\n",
       "      <td>Berlin</td>\n",
       "      <td>Germany</td>\n",
       "      <td>1923-01-04</td>\n",
       "      <td>1923</td>\n",
       "      <td>primitive</td>\n",
       "      <td>primitive</td>\n",
       "    </tr>\n",
       "    <tr>\n",
       "      <th>6990</th>\n",
       "      <td>https://lod.unige.ch/vc/cluster/human/10</td>\n",
       "      <td>https://visualcontagions.unige.ch/explore/analysis/imageseries/10</td>\n",
       "      <td>https://gallica.bnf.fr/iiif/ark:/12148/bpt6k9773372w/f25/1710,2232,1430,1851/full/0/default.jpg</td>\n",
       "      <td>1932-01-01T00:00:00</td>\n",
       "      <td>Abstraction, création, art non figuratif</td>\n",
       "      <td>Avant-garde Journal</td>\n",
       "      <td>Paris</td>\n",
       "      <td>France</td>\n",
       "      <td>1932-01-01</td>\n",
       "      <td>1932</td>\n",
       "      <td>primitive</td>\n",
       "      <td>no</td>\n",
       "    </tr>\n",
       "    <tr>\n",
       "      <th>6984</th>\n",
       "      <td>https://lod.unige.ch/vc/cluster/human/10</td>\n",
       "      <td>https://visualcontagions.unige.ch/explore/analysis/imageseries/10</td>\n",
       "      <td>https://gallica.bnf.fr/iiif/ark:/12148/bpt6k9773371g/f30/1927,2094,1424,2028/full/0/default.jpg</td>\n",
       "      <td>1933-01-01T00:00:00</td>\n",
       "      <td>Abstraction, création, art non figuratif</td>\n",
       "      <td>Avant-garde Journal</td>\n",
       "      <td>Paris</td>\n",
       "      <td>France</td>\n",
       "      <td>1933-01-01</td>\n",
       "      <td>1933</td>\n",
       "      <td>primitive</td>\n",
       "      <td>no</td>\n",
       "    </tr>\n",
       "    <tr>\n",
       "      <th>6987</th>\n",
       "      <td>https://lod.unige.ch/vc/cluster/human/10</td>\n",
       "      <td>https://visualcontagions.unige.ch/explore/analysis/imageseries/10</td>\n",
       "      <td>https://gallica.bnf.fr/iiif/ark:/12148/bpt6k9773371g/f30/393,308,1426,1940/full/0/default.jpg</td>\n",
       "      <td>1933-01-01T00:00:00</td>\n",
       "      <td>Abstraction, création, art non figuratif</td>\n",
       "      <td>Avant-garde Journal</td>\n",
       "      <td>Paris</td>\n",
       "      <td>France</td>\n",
       "      <td>1933-01-01</td>\n",
       "      <td>1933</td>\n",
       "      <td>primitive</td>\n",
       "      <td>no</td>\n",
       "    </tr>\n",
       "    <tr>\n",
       "      <th>6989</th>\n",
       "      <td>https://lod.unige.ch/vc/cluster/human/10</td>\n",
       "      <td>https://visualcontagions.unige.ch/explore/analysis/imageseries/10</td>\n",
       "      <td>https://gallica.bnf.fr/iiif/ark:/12148/bpt6k9773371g/f14/438,323,1420,1737/full/0/default.jpg</td>\n",
       "      <td>1933-01-01T00:00:00</td>\n",
       "      <td>Abstraction, création, art non figuratif</td>\n",
       "      <td>Avant-garde Journal</td>\n",
       "      <td>Paris</td>\n",
       "      <td>France</td>\n",
       "      <td>1933-01-01</td>\n",
       "      <td>1933</td>\n",
       "      <td>primitive</td>\n",
       "      <td>no</td>\n",
       "    </tr>\n",
       "    <tr>\n",
       "      <th>...</th>\n",
       "      <td>...</td>\n",
       "      <td>...</td>\n",
       "      <td>...</td>\n",
       "      <td>...</td>\n",
       "      <td>...</td>\n",
       "      <td>...</td>\n",
       "      <td>...</td>\n",
       "      <td>...</td>\n",
       "      <td>...</td>\n",
       "      <td>...</td>\n",
       "      <td>...</td>\n",
       "      <td>...</td>\n",
       "    </tr>\n",
       "    <tr>\n",
       "      <th>6134</th>\n",
       "      <td>https://lod.unige.ch/vc/cluster/00001c00d092d9e21aed98d7f0a9e149f412bb2c71f403ed29e6dd76259a5a0bdd9d2e06</td>\n",
       "      <td>https://visualcontagions.unige.ch/explore/duplicates/clusters/00001c00d092d9e21aed98d7f0a9e149f412bb2c71f403ed29e6dd76259a5a0bdd9d2e06</td>\n",
       "      <td>https://iiif.unige.ch/iiif/2/fedora_ug27809793;37/206,1119,1335,809/full/0/default.jpg</td>\n",
       "      <td>1958-06-01T00:00:00</td>\n",
       "      <td>Archiv für Buchgewerbe und Gebrauchsgraphik</td>\n",
       "      <td>Illustrated Magazine</td>\n",
       "      <td>Berlin</td>\n",
       "      <td>Germany</td>\n",
       "      <td>1958-06-01</td>\n",
       "      <td>1958</td>\n",
       "      <td>primitive</td>\n",
       "      <td>no</td>\n",
       "    </tr>\n",
       "    <tr>\n",
       "      <th>6124</th>\n",
       "      <td>https://lod.unige.ch/vc/cluster/00001c00d092d9e21aed98d7f0a9e149f412bb2c71f403ed29e6dd76259a5a0bdd9d2e06</td>\n",
       "      <td>https://visualcontagions.unige.ch/explore/duplicates/clusters/00001c00d092d9e21aed98d7f0a9e149f412bb2c71f403ed29e6dd76259a5a0bdd9d2e06</td>\n",
       "      <td>https://iiif.unige.ch/iiif/2/fedora_ug27817959;49/550,1465,456,451/full/0/default.jpg</td>\n",
       "      <td>1961-01-01T00:00:00</td>\n",
       "      <td>Archiv für Buchgewerbe und Gebrauchsgraphik</td>\n",
       "      <td>Illustrated Magazine</td>\n",
       "      <td>Berlin</td>\n",
       "      <td>Germany</td>\n",
       "      <td>1961-01-01</td>\n",
       "      <td>1961</td>\n",
       "      <td>primitive</td>\n",
       "      <td>no</td>\n",
       "    </tr>\n",
       "    <tr>\n",
       "      <th>6133</th>\n",
       "      <td>https://lod.unige.ch/vc/cluster/00001c00d092d9e21aed98d7f0a9e149f412bb2c71f403ed29e6dd76259a5a0bdd9d2e06</td>\n",
       "      <td>https://visualcontagions.unige.ch/explore/duplicates/clusters/00001c00d092d9e21aed98d7f0a9e149f412bb2c71f403ed29e6dd76259a5a0bdd9d2e06</td>\n",
       "      <td>https://iiif.unige.ch/iiif/2/fedora_ug27817959;49/1049,1460,440,456/full/0/default.jpg</td>\n",
       "      <td>1961-01-01T00:00:00</td>\n",
       "      <td>Archiv für Buchgewerbe und Gebrauchsgraphik</td>\n",
       "      <td>Illustrated Magazine</td>\n",
       "      <td>Berlin</td>\n",
       "      <td>Germany</td>\n",
       "      <td>1961-01-01</td>\n",
       "      <td>1961</td>\n",
       "      <td>primitive</td>\n",
       "      <td>no</td>\n",
       "    </tr>\n",
       "    <tr>\n",
       "      <th>6132</th>\n",
       "      <td>https://lod.unige.ch/vc/cluster/00001c00d092d9e21aed98d7f0a9e149f412bb2c71f403ed29e6dd76259a5a0bdd9d2e06</td>\n",
       "      <td>https://visualcontagions.unige.ch/explore/duplicates/clusters/00001c00d092d9e21aed98d7f0a9e149f412bb2c71f403ed29e6dd76259a5a0bdd9d2e06</td>\n",
       "      <td>https://iiif.unige.ch/iiif/2/fedora_ug27819684;366/159,1164,495,557/full/0/default.jpg</td>\n",
       "      <td>1966-01-01T00:00:00</td>\n",
       "      <td>Biennale Plakatu</td>\n",
       "      <td>Art Journal</td>\n",
       "      <td>Warsaw</td>\n",
       "      <td>Poland</td>\n",
       "      <td>1966-01-01</td>\n",
       "      <td>1966</td>\n",
       "      <td>primitive</td>\n",
       "      <td>no</td>\n",
       "    </tr>\n",
       "    <tr>\n",
       "      <th>6143</th>\n",
       "      <td>https://lod.unige.ch/vc/cluster/00001c00d092d9e21aed98d7f0a9e149f412bb2c71f403ed29e6dd76259a5a0bdd9d2e06</td>\n",
       "      <td>https://visualcontagions.unige.ch/explore/duplicates/clusters/00001c00d092d9e21aed98d7f0a9e149f412bb2c71f403ed29e6dd76259a5a0bdd9d2e06</td>\n",
       "      <td>https://digi.ub.uni-heidelberg.de/iiif/2/phs1973%3A00_Rycina_22.jpg/145,103,1179,1621/full/0/default.jpg</td>\n",
       "      <td>1973-01-01T00:00:00</td>\n",
       "      <td>Prace z historii sztuki</td>\n",
       "      <td>Art History</td>\n",
       "      <td>Kraków</td>\n",
       "      <td>Poland</td>\n",
       "      <td>1973-01-01</td>\n",
       "      <td>1973</td>\n",
       "      <td>primitive</td>\n",
       "      <td>no</td>\n",
       "    </tr>\n",
       "  </tbody>\n",
       "</table>\n",
       "<p>2361 rows × 12 columns</p>\n",
       "</div>"
      ],
      "text/plain": [
       "                                                                                                       cluster  \\\n",
       "6986                                                                  https://lod.unige.ch/vc/cluster/human/10   \n",
       "6990                                                                  https://lod.unige.ch/vc/cluster/human/10   \n",
       "6984                                                                  https://lod.unige.ch/vc/cluster/human/10   \n",
       "6987                                                                  https://lod.unige.ch/vc/cluster/human/10   \n",
       "6989                                                                  https://lod.unige.ch/vc/cluster/human/10   \n",
       "...                                                                                                        ...   \n",
       "6134  https://lod.unige.ch/vc/cluster/00001c00d092d9e21aed98d7f0a9e149f412bb2c71f403ed29e6dd76259a5a0bdd9d2e06   \n",
       "6124  https://lod.unige.ch/vc/cluster/00001c00d092d9e21aed98d7f0a9e149f412bb2c71f403ed29e6dd76259a5a0bdd9d2e06   \n",
       "6133  https://lod.unige.ch/vc/cluster/00001c00d092d9e21aed98d7f0a9e149f412bb2c71f403ed29e6dd76259a5a0bdd9d2e06   \n",
       "6132  https://lod.unige.ch/vc/cluster/00001c00d092d9e21aed98d7f0a9e149f412bb2c71f403ed29e6dd76259a5a0bdd9d2e06   \n",
       "6143  https://lod.unige.ch/vc/cluster/00001c00d092d9e21aed98d7f0a9e149f412bb2c71f403ed29e6dd76259a5a0bdd9d2e06   \n",
       "\n",
       "                                                                                                                                  identifier  \\\n",
       "6986                                                                       https://visualcontagions.unige.ch/explore/analysis/imageseries/10   \n",
       "6990                                                                       https://visualcontagions.unige.ch/explore/analysis/imageseries/10   \n",
       "6984                                                                       https://visualcontagions.unige.ch/explore/analysis/imageseries/10   \n",
       "6987                                                                       https://visualcontagions.unige.ch/explore/analysis/imageseries/10   \n",
       "6989                                                                       https://visualcontagions.unige.ch/explore/analysis/imageseries/10   \n",
       "...                                                                                                                                      ...   \n",
       "6134  https://visualcontagions.unige.ch/explore/duplicates/clusters/00001c00d092d9e21aed98d7f0a9e149f412bb2c71f403ed29e6dd76259a5a0bdd9d2e06   \n",
       "6124  https://visualcontagions.unige.ch/explore/duplicates/clusters/00001c00d092d9e21aed98d7f0a9e149f412bb2c71f403ed29e6dd76259a5a0bdd9d2e06   \n",
       "6133  https://visualcontagions.unige.ch/explore/duplicates/clusters/00001c00d092d9e21aed98d7f0a9e149f412bb2c71f403ed29e6dd76259a5a0bdd9d2e06   \n",
       "6132  https://visualcontagions.unige.ch/explore/duplicates/clusters/00001c00d092d9e21aed98d7f0a9e149f412bb2c71f403ed29e6dd76259a5a0bdd9d2e06   \n",
       "6143  https://visualcontagions.unige.ch/explore/duplicates/clusters/00001c00d092d9e21aed98d7f0a9e149f412bb2c71f403ed29e6dd76259a5a0bdd9d2e06   \n",
       "\n",
       "                                                                                                                    image  \\\n",
       "6986  https://bluemountain.princeton.edu/bluemtn/iiif/image/bmtnabg19230401-01.1.11/796,1424,4550,5562/full/0/default.jpg   \n",
       "6990                      https://gallica.bnf.fr/iiif/ark:/12148/bpt6k9773372w/f25/1710,2232,1430,1851/full/0/default.jpg   \n",
       "6984                      https://gallica.bnf.fr/iiif/ark:/12148/bpt6k9773371g/f30/1927,2094,1424,2028/full/0/default.jpg   \n",
       "6987                        https://gallica.bnf.fr/iiif/ark:/12148/bpt6k9773371g/f30/393,308,1426,1940/full/0/default.jpg   \n",
       "6989                        https://gallica.bnf.fr/iiif/ark:/12148/bpt6k9773371g/f14/438,323,1420,1737/full/0/default.jpg   \n",
       "...                                                                                                                   ...   \n",
       "6134                               https://iiif.unige.ch/iiif/2/fedora_ug27809793;37/206,1119,1335,809/full/0/default.jpg   \n",
       "6124                                https://iiif.unige.ch/iiif/2/fedora_ug27817959;49/550,1465,456,451/full/0/default.jpg   \n",
       "6133                               https://iiif.unige.ch/iiif/2/fedora_ug27817959;49/1049,1460,440,456/full/0/default.jpg   \n",
       "6132                               https://iiif.unige.ch/iiif/2/fedora_ug27819684;366/159,1164,495,557/full/0/default.jpg   \n",
       "6143             https://digi.ub.uni-heidelberg.de/iiif/2/phs1973%3A00_Rycina_22.jpg/145,103,1179,1621/full/0/default.jpg   \n",
       "\n",
       "                    begin                                   issueLabel  \\\n",
       "6986  1923-01-04T00:00:00                                    Der Sturm   \n",
       "6990  1932-01-01T00:00:00     Abstraction, création, art non figuratif   \n",
       "6984  1933-01-01T00:00:00     Abstraction, création, art non figuratif   \n",
       "6987  1933-01-01T00:00:00     Abstraction, création, art non figuratif   \n",
       "6989  1933-01-01T00:00:00     Abstraction, création, art non figuratif   \n",
       "...                   ...                                          ...   \n",
       "6134  1958-06-01T00:00:00  Archiv für Buchgewerbe und Gebrauchsgraphik   \n",
       "6124  1961-01-01T00:00:00  Archiv für Buchgewerbe und Gebrauchsgraphik   \n",
       "6133  1961-01-01T00:00:00  Archiv für Buchgewerbe und Gebrauchsgraphik   \n",
       "6132  1966-01-01T00:00:00                             Biennale Plakatu   \n",
       "6143  1973-01-01T00:00:00                      Prace z historii sztuki   \n",
       "\n",
       "                 labelType cityLabel countryLabel   Datetime  year   variable  \\\n",
       "6986   Avant-garde Journal    Berlin      Germany 1923-01-04  1923  primitive   \n",
       "6990   Avant-garde Journal     Paris       France 1932-01-01  1932  primitive   \n",
       "6984   Avant-garde Journal     Paris       France 1933-01-01  1933  primitive   \n",
       "6987   Avant-garde Journal     Paris       France 1933-01-01  1933  primitive   \n",
       "6989   Avant-garde Journal     Paris       France 1933-01-01  1933  primitive   \n",
       "...                    ...       ...          ...        ...   ...        ...   \n",
       "6134  Illustrated Magazine    Berlin      Germany 1958-06-01  1958  primitive   \n",
       "6124  Illustrated Magazine    Berlin      Germany 1961-01-01  1961  primitive   \n",
       "6133  Illustrated Magazine    Berlin      Germany 1961-01-01  1961  primitive   \n",
       "6132           Art Journal    Warsaw       Poland 1966-01-01  1966  primitive   \n",
       "6143           Art History    Kraków       Poland 1973-01-01  1973  primitive   \n",
       "\n",
       "          start  \n",
       "6986  primitive  \n",
       "6990         no  \n",
       "6984         no  \n",
       "6987         no  \n",
       "6989         no  \n",
       "...         ...  \n",
       "6134         no  \n",
       "6124         no  \n",
       "6133         no  \n",
       "6132         no  \n",
       "6143         no  \n",
       "\n",
       "[2361 rows x 12 columns]"
      ]
     },
     "execution_count": 115,
     "metadata": {},
     "output_type": "execute_result"
    }
   ],
   "source": [
    "ag_cluster"
   ]
  },
  {
   "cell_type": "code",
   "execution_count": 116,
   "id": "bee43fb5-afa1-4c11-87ab-426649d934a2",
   "metadata": {},
   "outputs": [],
   "source": [
    "ag_cluster.to_csv('csv/ag_cluster.csv', index=False)"
   ]
  },
  {
   "cell_type": "markdown",
   "id": "83af93e0-0464-4f31-b71c-ad17ec47d677",
   "metadata": {
    "tags": []
   },
   "source": [
    "## Fixing the differences in numbers"
   ]
  },
  {
   "cell_type": "markdown",
   "id": "4c8bf3fb-5369-4e54-9c34-d41bafde90bd",
   "metadata": {},
   "source": [
    "<font size=\"4\">Due to the use of both human-made and machine-made clusters, some images may be the same across two clusters (and two chains of circulation). Therefore, while merging the data together, some images are assigned the status of primitive, without being so (they do not start a chain of circulation). We need to remove them before proceeding in our analysis</font>"
   ]
  },
  {
   "cell_type": "code",
   "execution_count": 117,
   "id": "2fff1598-96b7-4c91-974b-154d321e5858",
   "metadata": {},
   "outputs": [],
   "source": [
    "clusters_after = ag_cluster[\"identifier\"].tolist()\n",
    "clusters_before = p_ag[\"identifier\"].tolist()"
   ]
  },
  {
   "cell_type": "code",
   "execution_count": 118,
   "id": "cf0c21a8-9670-4f4e-8a9c-a645199e4742",
   "metadata": {},
   "outputs": [
    {
     "data": {
      "text/plain": [
       "['https://visualcontagions.unige.ch/explore/analysis/imageseries/209',\n",
       " 'https://visualcontagions.unige.ch/explore/analysis/imageseries/206',\n",
       " 'https://visualcontagions.unige.ch/explore/analysis/imageseries/330',\n",
       " 'https://visualcontagions.unige.ch/explore/analysis/imageseries/304',\n",
       " 'https://visualcontagions.unige.ch/explore/analysis/imageseries/373',\n",
       " 'https://visualcontagions.unige.ch/explore/analysis/imageseries/297',\n",
       " 'https://visualcontagions.unige.ch/explore/analysis/imageseries/223',\n",
       " 'https://visualcontagions.unige.ch/explore/analysis/imageseries/225',\n",
       " 'https://visualcontagions.unige.ch/explore/analysis/imageseries/381']"
      ]
     },
     "execution_count": 118,
     "metadata": {},
     "output_type": "execute_result"
    }
   ],
   "source": [
    "list_delete = list(set(clusters_after) - set(clusters_before))\n",
    "list_delete"
   ]
  },
  {
   "cell_type": "code",
   "execution_count": 119,
   "id": "64343d4c-47bc-422a-aa87-279cf3197ff6",
   "metadata": {},
   "outputs": [],
   "source": [
    "ag_cluster.loc[ag_cluster['identifier'].isin(list_delete), 'start'] = 'no'\n",
    "ag_cluster.to_csv('csv/ag_cluster.csv', index=False)"
   ]
  },
  {
   "cell_type": "code",
   "execution_count": 120,
   "id": "bf302921-6386-4225-99fe-ec60c4c472db",
   "metadata": {},
   "outputs": [],
   "source": [
    "ag_uni = ag_cluster.groupby('identifier').start.nunique().eq(1)\n",
    "c = ag_uni.index[ag_uni == False]\n",
    "ag_clean = ag_cluster[ag_cluster['identifier'].isin(c)]\n",
    "ag_clean.to_csv('csv/ag_clean.csv', index=False)"
   ]
  },
  {
   "cell_type": "code",
   "execution_count": 121,
   "id": "836a5220-e773-4b25-abef-aed6315f8a1b",
   "metadata": {},
   "outputs": [
    {
     "data": {
      "text/html": [
       "<div>\n",
       "<style scoped>\n",
       "    .dataframe tbody tr th:only-of-type {\n",
       "        vertical-align: middle;\n",
       "    }\n",
       "\n",
       "    .dataframe tbody tr th {\n",
       "        vertical-align: top;\n",
       "    }\n",
       "\n",
       "    .dataframe thead th {\n",
       "        text-align: right;\n",
       "    }\n",
       "</style>\n",
       "<table border=\"1\" class=\"dataframe\">\n",
       "  <thead>\n",
       "    <tr style=\"text-align: right;\">\n",
       "      <th></th>\n",
       "      <th>cluster</th>\n",
       "      <th>identifier</th>\n",
       "      <th>image</th>\n",
       "      <th>begin</th>\n",
       "      <th>issueLabel</th>\n",
       "      <th>labelType</th>\n",
       "      <th>cityLabel</th>\n",
       "      <th>countryLabel</th>\n",
       "      <th>Datetime</th>\n",
       "      <th>year</th>\n",
       "      <th>variable</th>\n",
       "      <th>start</th>\n",
       "    </tr>\n",
       "  </thead>\n",
       "  <tbody>\n",
       "    <tr>\n",
       "      <th>6986</th>\n",
       "      <td>https://lod.unige.ch/vc/cluster/human/10</td>\n",
       "      <td>https://visualcontagions.unige.ch/explore/analysis/imageseries/10</td>\n",
       "      <td>https://bluemountain.princeton.edu/bluemtn/iiif/image/bmtnabg19230401-01.1.11/796,1424,4550,5562/full/0/default.jpg</td>\n",
       "      <td>1923-01-04T00:00:00</td>\n",
       "      <td>Der Sturm</td>\n",
       "      <td>Avant-garde Journal</td>\n",
       "      <td>Berlin</td>\n",
       "      <td>Germany</td>\n",
       "      <td>1923-01-04</td>\n",
       "      <td>1923</td>\n",
       "      <td>primitive</td>\n",
       "      <td>primitive</td>\n",
       "    </tr>\n",
       "    <tr>\n",
       "      <th>6990</th>\n",
       "      <td>https://lod.unige.ch/vc/cluster/human/10</td>\n",
       "      <td>https://visualcontagions.unige.ch/explore/analysis/imageseries/10</td>\n",
       "      <td>https://gallica.bnf.fr/iiif/ark:/12148/bpt6k9773372w/f25/1710,2232,1430,1851/full/0/default.jpg</td>\n",
       "      <td>1932-01-01T00:00:00</td>\n",
       "      <td>Abstraction, création, art non figuratif</td>\n",
       "      <td>Avant-garde Journal</td>\n",
       "      <td>Paris</td>\n",
       "      <td>France</td>\n",
       "      <td>1932-01-01</td>\n",
       "      <td>1932</td>\n",
       "      <td>primitive</td>\n",
       "      <td>no</td>\n",
       "    </tr>\n",
       "    <tr>\n",
       "      <th>6984</th>\n",
       "      <td>https://lod.unige.ch/vc/cluster/human/10</td>\n",
       "      <td>https://visualcontagions.unige.ch/explore/analysis/imageseries/10</td>\n",
       "      <td>https://gallica.bnf.fr/iiif/ark:/12148/bpt6k9773371g/f30/1927,2094,1424,2028/full/0/default.jpg</td>\n",
       "      <td>1933-01-01T00:00:00</td>\n",
       "      <td>Abstraction, création, art non figuratif</td>\n",
       "      <td>Avant-garde Journal</td>\n",
       "      <td>Paris</td>\n",
       "      <td>France</td>\n",
       "      <td>1933-01-01</td>\n",
       "      <td>1933</td>\n",
       "      <td>primitive</td>\n",
       "      <td>no</td>\n",
       "    </tr>\n",
       "    <tr>\n",
       "      <th>6987</th>\n",
       "      <td>https://lod.unige.ch/vc/cluster/human/10</td>\n",
       "      <td>https://visualcontagions.unige.ch/explore/analysis/imageseries/10</td>\n",
       "      <td>https://gallica.bnf.fr/iiif/ark:/12148/bpt6k9773371g/f30/393,308,1426,1940/full/0/default.jpg</td>\n",
       "      <td>1933-01-01T00:00:00</td>\n",
       "      <td>Abstraction, création, art non figuratif</td>\n",
       "      <td>Avant-garde Journal</td>\n",
       "      <td>Paris</td>\n",
       "      <td>France</td>\n",
       "      <td>1933-01-01</td>\n",
       "      <td>1933</td>\n",
       "      <td>primitive</td>\n",
       "      <td>no</td>\n",
       "    </tr>\n",
       "    <tr>\n",
       "      <th>6989</th>\n",
       "      <td>https://lod.unige.ch/vc/cluster/human/10</td>\n",
       "      <td>https://visualcontagions.unige.ch/explore/analysis/imageseries/10</td>\n",
       "      <td>https://gallica.bnf.fr/iiif/ark:/12148/bpt6k9773371g/f14/438,323,1420,1737/full/0/default.jpg</td>\n",
       "      <td>1933-01-01T00:00:00</td>\n",
       "      <td>Abstraction, création, art non figuratif</td>\n",
       "      <td>Avant-garde Journal</td>\n",
       "      <td>Paris</td>\n",
       "      <td>France</td>\n",
       "      <td>1933-01-01</td>\n",
       "      <td>1933</td>\n",
       "      <td>primitive</td>\n",
       "      <td>no</td>\n",
       "    </tr>\n",
       "    <tr>\n",
       "      <th>...</th>\n",
       "      <td>...</td>\n",
       "      <td>...</td>\n",
       "      <td>...</td>\n",
       "      <td>...</td>\n",
       "      <td>...</td>\n",
       "      <td>...</td>\n",
       "      <td>...</td>\n",
       "      <td>...</td>\n",
       "      <td>...</td>\n",
       "      <td>...</td>\n",
       "      <td>...</td>\n",
       "      <td>...</td>\n",
       "    </tr>\n",
       "    <tr>\n",
       "      <th>6134</th>\n",
       "      <td>https://lod.unige.ch/vc/cluster/00001c00d092d9e21aed98d7f0a9e149f412bb2c71f403ed29e6dd76259a5a0bdd9d2e06</td>\n",
       "      <td>https://visualcontagions.unige.ch/explore/duplicates/clusters/00001c00d092d9e21aed98d7f0a9e149f412bb2c71f403ed29e6dd76259a5a0bdd9d2e06</td>\n",
       "      <td>https://iiif.unige.ch/iiif/2/fedora_ug27809793;37/206,1119,1335,809/full/0/default.jpg</td>\n",
       "      <td>1958-06-01T00:00:00</td>\n",
       "      <td>Archiv für Buchgewerbe und Gebrauchsgraphik</td>\n",
       "      <td>Illustrated Magazine</td>\n",
       "      <td>Berlin</td>\n",
       "      <td>Germany</td>\n",
       "      <td>1958-06-01</td>\n",
       "      <td>1958</td>\n",
       "      <td>primitive</td>\n",
       "      <td>no</td>\n",
       "    </tr>\n",
       "    <tr>\n",
       "      <th>6124</th>\n",
       "      <td>https://lod.unige.ch/vc/cluster/00001c00d092d9e21aed98d7f0a9e149f412bb2c71f403ed29e6dd76259a5a0bdd9d2e06</td>\n",
       "      <td>https://visualcontagions.unige.ch/explore/duplicates/clusters/00001c00d092d9e21aed98d7f0a9e149f412bb2c71f403ed29e6dd76259a5a0bdd9d2e06</td>\n",
       "      <td>https://iiif.unige.ch/iiif/2/fedora_ug27817959;49/550,1465,456,451/full/0/default.jpg</td>\n",
       "      <td>1961-01-01T00:00:00</td>\n",
       "      <td>Archiv für Buchgewerbe und Gebrauchsgraphik</td>\n",
       "      <td>Illustrated Magazine</td>\n",
       "      <td>Berlin</td>\n",
       "      <td>Germany</td>\n",
       "      <td>1961-01-01</td>\n",
       "      <td>1961</td>\n",
       "      <td>primitive</td>\n",
       "      <td>no</td>\n",
       "    </tr>\n",
       "    <tr>\n",
       "      <th>6133</th>\n",
       "      <td>https://lod.unige.ch/vc/cluster/00001c00d092d9e21aed98d7f0a9e149f412bb2c71f403ed29e6dd76259a5a0bdd9d2e06</td>\n",
       "      <td>https://visualcontagions.unige.ch/explore/duplicates/clusters/00001c00d092d9e21aed98d7f0a9e149f412bb2c71f403ed29e6dd76259a5a0bdd9d2e06</td>\n",
       "      <td>https://iiif.unige.ch/iiif/2/fedora_ug27817959;49/1049,1460,440,456/full/0/default.jpg</td>\n",
       "      <td>1961-01-01T00:00:00</td>\n",
       "      <td>Archiv für Buchgewerbe und Gebrauchsgraphik</td>\n",
       "      <td>Illustrated Magazine</td>\n",
       "      <td>Berlin</td>\n",
       "      <td>Germany</td>\n",
       "      <td>1961-01-01</td>\n",
       "      <td>1961</td>\n",
       "      <td>primitive</td>\n",
       "      <td>no</td>\n",
       "    </tr>\n",
       "    <tr>\n",
       "      <th>6132</th>\n",
       "      <td>https://lod.unige.ch/vc/cluster/00001c00d092d9e21aed98d7f0a9e149f412bb2c71f403ed29e6dd76259a5a0bdd9d2e06</td>\n",
       "      <td>https://visualcontagions.unige.ch/explore/duplicates/clusters/00001c00d092d9e21aed98d7f0a9e149f412bb2c71f403ed29e6dd76259a5a0bdd9d2e06</td>\n",
       "      <td>https://iiif.unige.ch/iiif/2/fedora_ug27819684;366/159,1164,495,557/full/0/default.jpg</td>\n",
       "      <td>1966-01-01T00:00:00</td>\n",
       "      <td>Biennale Plakatu</td>\n",
       "      <td>Art Journal</td>\n",
       "      <td>Warsaw</td>\n",
       "      <td>Poland</td>\n",
       "      <td>1966-01-01</td>\n",
       "      <td>1966</td>\n",
       "      <td>primitive</td>\n",
       "      <td>no</td>\n",
       "    </tr>\n",
       "    <tr>\n",
       "      <th>6143</th>\n",
       "      <td>https://lod.unige.ch/vc/cluster/00001c00d092d9e21aed98d7f0a9e149f412bb2c71f403ed29e6dd76259a5a0bdd9d2e06</td>\n",
       "      <td>https://visualcontagions.unige.ch/explore/duplicates/clusters/00001c00d092d9e21aed98d7f0a9e149f412bb2c71f403ed29e6dd76259a5a0bdd9d2e06</td>\n",
       "      <td>https://digi.ub.uni-heidelberg.de/iiif/2/phs1973%3A00_Rycina_22.jpg/145,103,1179,1621/full/0/default.jpg</td>\n",
       "      <td>1973-01-01T00:00:00</td>\n",
       "      <td>Prace z historii sztuki</td>\n",
       "      <td>Art History</td>\n",
       "      <td>Kraków</td>\n",
       "      <td>Poland</td>\n",
       "      <td>1973-01-01</td>\n",
       "      <td>1973</td>\n",
       "      <td>primitive</td>\n",
       "      <td>no</td>\n",
       "    </tr>\n",
       "  </tbody>\n",
       "</table>\n",
       "<p>2173 rows × 12 columns</p>\n",
       "</div>"
      ],
      "text/plain": [
       "                                                                                                       cluster  \\\n",
       "6986                                                                  https://lod.unige.ch/vc/cluster/human/10   \n",
       "6990                                                                  https://lod.unige.ch/vc/cluster/human/10   \n",
       "6984                                                                  https://lod.unige.ch/vc/cluster/human/10   \n",
       "6987                                                                  https://lod.unige.ch/vc/cluster/human/10   \n",
       "6989                                                                  https://lod.unige.ch/vc/cluster/human/10   \n",
       "...                                                                                                        ...   \n",
       "6134  https://lod.unige.ch/vc/cluster/00001c00d092d9e21aed98d7f0a9e149f412bb2c71f403ed29e6dd76259a5a0bdd9d2e06   \n",
       "6124  https://lod.unige.ch/vc/cluster/00001c00d092d9e21aed98d7f0a9e149f412bb2c71f403ed29e6dd76259a5a0bdd9d2e06   \n",
       "6133  https://lod.unige.ch/vc/cluster/00001c00d092d9e21aed98d7f0a9e149f412bb2c71f403ed29e6dd76259a5a0bdd9d2e06   \n",
       "6132  https://lod.unige.ch/vc/cluster/00001c00d092d9e21aed98d7f0a9e149f412bb2c71f403ed29e6dd76259a5a0bdd9d2e06   \n",
       "6143  https://lod.unige.ch/vc/cluster/00001c00d092d9e21aed98d7f0a9e149f412bb2c71f403ed29e6dd76259a5a0bdd9d2e06   \n",
       "\n",
       "                                                                                                                                  identifier  \\\n",
       "6986                                                                       https://visualcontagions.unige.ch/explore/analysis/imageseries/10   \n",
       "6990                                                                       https://visualcontagions.unige.ch/explore/analysis/imageseries/10   \n",
       "6984                                                                       https://visualcontagions.unige.ch/explore/analysis/imageseries/10   \n",
       "6987                                                                       https://visualcontagions.unige.ch/explore/analysis/imageseries/10   \n",
       "6989                                                                       https://visualcontagions.unige.ch/explore/analysis/imageseries/10   \n",
       "...                                                                                                                                      ...   \n",
       "6134  https://visualcontagions.unige.ch/explore/duplicates/clusters/00001c00d092d9e21aed98d7f0a9e149f412bb2c71f403ed29e6dd76259a5a0bdd9d2e06   \n",
       "6124  https://visualcontagions.unige.ch/explore/duplicates/clusters/00001c00d092d9e21aed98d7f0a9e149f412bb2c71f403ed29e6dd76259a5a0bdd9d2e06   \n",
       "6133  https://visualcontagions.unige.ch/explore/duplicates/clusters/00001c00d092d9e21aed98d7f0a9e149f412bb2c71f403ed29e6dd76259a5a0bdd9d2e06   \n",
       "6132  https://visualcontagions.unige.ch/explore/duplicates/clusters/00001c00d092d9e21aed98d7f0a9e149f412bb2c71f403ed29e6dd76259a5a0bdd9d2e06   \n",
       "6143  https://visualcontagions.unige.ch/explore/duplicates/clusters/00001c00d092d9e21aed98d7f0a9e149f412bb2c71f403ed29e6dd76259a5a0bdd9d2e06   \n",
       "\n",
       "                                                                                                                    image  \\\n",
       "6986  https://bluemountain.princeton.edu/bluemtn/iiif/image/bmtnabg19230401-01.1.11/796,1424,4550,5562/full/0/default.jpg   \n",
       "6990                      https://gallica.bnf.fr/iiif/ark:/12148/bpt6k9773372w/f25/1710,2232,1430,1851/full/0/default.jpg   \n",
       "6984                      https://gallica.bnf.fr/iiif/ark:/12148/bpt6k9773371g/f30/1927,2094,1424,2028/full/0/default.jpg   \n",
       "6987                        https://gallica.bnf.fr/iiif/ark:/12148/bpt6k9773371g/f30/393,308,1426,1940/full/0/default.jpg   \n",
       "6989                        https://gallica.bnf.fr/iiif/ark:/12148/bpt6k9773371g/f14/438,323,1420,1737/full/0/default.jpg   \n",
       "...                                                                                                                   ...   \n",
       "6134                               https://iiif.unige.ch/iiif/2/fedora_ug27809793;37/206,1119,1335,809/full/0/default.jpg   \n",
       "6124                                https://iiif.unige.ch/iiif/2/fedora_ug27817959;49/550,1465,456,451/full/0/default.jpg   \n",
       "6133                               https://iiif.unige.ch/iiif/2/fedora_ug27817959;49/1049,1460,440,456/full/0/default.jpg   \n",
       "6132                               https://iiif.unige.ch/iiif/2/fedora_ug27819684;366/159,1164,495,557/full/0/default.jpg   \n",
       "6143             https://digi.ub.uni-heidelberg.de/iiif/2/phs1973%3A00_Rycina_22.jpg/145,103,1179,1621/full/0/default.jpg   \n",
       "\n",
       "                    begin                                   issueLabel  \\\n",
       "6986  1923-01-04T00:00:00                                    Der Sturm   \n",
       "6990  1932-01-01T00:00:00     Abstraction, création, art non figuratif   \n",
       "6984  1933-01-01T00:00:00     Abstraction, création, art non figuratif   \n",
       "6987  1933-01-01T00:00:00     Abstraction, création, art non figuratif   \n",
       "6989  1933-01-01T00:00:00     Abstraction, création, art non figuratif   \n",
       "...                   ...                                          ...   \n",
       "6134  1958-06-01T00:00:00  Archiv für Buchgewerbe und Gebrauchsgraphik   \n",
       "6124  1961-01-01T00:00:00  Archiv für Buchgewerbe und Gebrauchsgraphik   \n",
       "6133  1961-01-01T00:00:00  Archiv für Buchgewerbe und Gebrauchsgraphik   \n",
       "6132  1966-01-01T00:00:00                             Biennale Plakatu   \n",
       "6143  1973-01-01T00:00:00                      Prace z historii sztuki   \n",
       "\n",
       "                 labelType cityLabel countryLabel   Datetime  year   variable  \\\n",
       "6986   Avant-garde Journal    Berlin      Germany 1923-01-04  1923  primitive   \n",
       "6990   Avant-garde Journal     Paris       France 1932-01-01  1932  primitive   \n",
       "6984   Avant-garde Journal     Paris       France 1933-01-01  1933  primitive   \n",
       "6987   Avant-garde Journal     Paris       France 1933-01-01  1933  primitive   \n",
       "6989   Avant-garde Journal     Paris       France 1933-01-01  1933  primitive   \n",
       "...                    ...       ...          ...        ...   ...        ...   \n",
       "6134  Illustrated Magazine    Berlin      Germany 1958-06-01  1958  primitive   \n",
       "6124  Illustrated Magazine    Berlin      Germany 1961-01-01  1961  primitive   \n",
       "6133  Illustrated Magazine    Berlin      Germany 1961-01-01  1961  primitive   \n",
       "6132           Art Journal    Warsaw       Poland 1966-01-01  1966  primitive   \n",
       "6143           Art History    Kraków       Poland 1973-01-01  1973  primitive   \n",
       "\n",
       "          start  \n",
       "6986  primitive  \n",
       "6990         no  \n",
       "6984         no  \n",
       "6987         no  \n",
       "6989         no  \n",
       "...         ...  \n",
       "6134         no  \n",
       "6124         no  \n",
       "6133         no  \n",
       "6132         no  \n",
       "6143         no  \n",
       "\n",
       "[2173 rows x 12 columns]"
      ]
     },
     "execution_count": 121,
     "metadata": {},
     "output_type": "execute_result"
    }
   ],
   "source": [
    "ag_clean"
   ]
  },
  {
   "cell_type": "markdown",
   "id": "3ff7d5ac-0911-4a41-86de-bb91d529a8ee",
   "metadata": {},
   "source": [
    "#### Number of images per cluster"
   ]
  },
  {
   "cell_type": "code",
   "execution_count": 122,
   "id": "898d6681-5c41-4d79-ade0-2b89d2562263",
   "metadata": {},
   "outputs": [],
   "source": [
    "ag_clean['image_per_cluster'] = ag_clean.groupby(['identifier'])['cluster'].transform('count')\n",
    "ag_clean.sort_values(by=['image_per_cluster'], ascending=False, inplace=True)\n",
    "ag_clean.to_csv('csv/ag_clean.csv', index=False)"
   ]
  },
  {
   "cell_type": "markdown",
   "id": "27b49238-affb-4471-8178-74054988bcd8",
   "metadata": {},
   "source": [
    "<font size=\"4\">Which clusters has the longer chain of circulation?</font>"
   ]
  },
  {
   "cell_type": "code",
   "execution_count": 123,
   "id": "a2b880a3-3332-46b8-9f74-18ae227d6d09",
   "metadata": {},
   "outputs": [
    {
     "name": "stdout",
     "output_type": "stream",
     "text": [
      "https://visualcontagions.unige.ch/explore/analysis/imageseries/13\n"
     ]
    }
   ],
   "source": [
    "ag_clean2 = ag_clean.loc[ag_clean['image_per_cluster'].idxmax()]\n",
    "print(ag_clean2[\"identifier\"])"
   ]
  },
  {
   "cell_type": "markdown",
   "id": "ede68c39-1dc9-4749-aeec-13442dcf41eb",
   "metadata": {
    "tags": []
   },
   "source": [
    "## Visualise interconnections"
   ]
  },
  {
   "cell_type": "markdown",
   "id": "d225ef09-e5d8-47ac-b429-07fe33acb0da",
   "metadata": {},
   "source": [
    "<font size=\"4\">What are the cluster interconnections? How do the chains of circulation traverse different communities? To discover it, we do a bit of data wrangling, and create two columnsm, one for AG journals which initiate chains of circulation, and another for all the different journals they touch</font>"
   ]
  },
  {
   "cell_type": "markdown",
   "id": "a6317cd5-861b-4381-bd19-9a158fb76574",
   "metadata": {},
   "source": [
    "<font size=\"4\">To do so, the easiest way is to use our data to query SPARQL and model the results</font>"
   ]
  },
  {
   "cell_type": "markdown",
   "id": "615e16ca-e934-473b-94f2-a459350a964d",
   "metadata": {
    "tags": []
   },
   "source": [
    "## Return to the database"
   ]
  },
  {
   "cell_type": "code",
   "execution_count": 124,
   "id": "9b3d10b8-0d90-4289-b556-7cfdea49239a",
   "metadata": {},
   "outputs": [],
   "source": [
    "query = p_ag.drop_duplicates(subset=['cluster'])"
   ]
  },
  {
   "cell_type": "code",
   "execution_count": 125,
   "id": "577288ad-27e6-4683-9e0b-106656c4a4a6",
   "metadata": {},
   "outputs": [],
   "source": [
    "query['cluster'] = '<' + query['cluster'].astype(str) + '>'\n",
    "guigg = query[\"cluster\"].tolist()\n",
    "separator = ' '\n",
    "new_guigg = separator.join(guigg)"
   ]
  },
  {
   "cell_type": "code",
   "execution_count": 130,
   "id": "4446787f-d3b1-4b45-b718-761c3cf6d3cb",
   "metadata": {},
   "outputs": [],
   "source": [
    "qsun = \"\"\"\n",
    "    PREFIX crmdig: <http://www.ics.forth.gr/isl/CRMdig/>\n",
    "    PREFIX frbroo: <http://iflastandards.info/ns/fr/frbr/frbroo/>\n",
    "    PREFIX crm: <http://www.cidoc-crm.org/cidoc-crm/>\n",
    "    PREFIX rdf: <http://www.w3.org/1999/02/22-rdf-syntax-ns#>\n",
    "    PREFIX rdfs: <http://www.w3.org/2000/01/rdf-schema#>\n",
    "    PREFIX aat: <http://vocab.getty.edu/aat/>\n",
    "    PREFIX xsd: <http://www.w3.org/2001/XMLSchema#>\n",
    "    \n",
    "    SELECT DISTINCT ?identifier ?AGJournal ?notAGJournal ?notAGcountry ?JournalTypeLabel WHERE {\n",
    "\n",
    "\tVALUES ?cluster { %s } .\n",
    "    VALUES ?avantgarde { <https://lod.unige.ch/vc/type/988EE2E2-172C-3104-8DAA-B4D629E814AE> } .\n",
    "    \n",
    "\t\t?cluster crm:P148_has_component ?image ;\n",
    "           \tcrm:P1_is_identified_by ?identifier .\n",
    "\t\t?image crm:P128i_is_carried_by ?issue . \n",
    "\t\t?issue crm:P2_has_type <https://lod.unige.ch/vc/type/988EE2E2-172C-3104-8DAA-B4D629E814AE> ;\n",
    "\t\t\t\trdfs:label ?AGJournal .\n",
    "\n",
    "\t\n",
    "\t\t?cluster crm:P148_has_component ?image1 . \n",
    "\t\t?image1 crm:P128i_is_carried_by ?issue1 . \n",
    "\t\t?issue1 crm:P108i_was_produced_by ?production1 ;\n",
    "                crm:P2_has_type ?type ;\n",
    "\t\t\t\trdfs:label ?notAGJournal .\n",
    "\t\t?type rdfs:label ?JournalTypeLabel .\n",
    "         \n",
    "        ?production1 crm:P7_took_place_at ?country1 .\n",
    "        \n",
    "        ?country1 crm:P2_has_type aat:300387506 ;\n",
    "                rdfs:label ?notAGcountry .\n",
    "\n",
    "\t\tFILTER (contains(str(?type), \"https://lod.unige.ch/vc/type/\"))\n",
    "\t\tFILTER (?type != ?avantgarde)\n",
    "\n",
    "}\n",
    "    \n",
    "\"\"\" % new_guigg"
   ]
  },
  {
   "cell_type": "code",
   "execution_count": 131,
   "id": "69e63e0d-3582-40df-a015-6cdd6cf9bf5d",
   "metadata": {},
   "outputs": [],
   "source": [
    "df_compare = sparql_dataframe.get(endpoint, qsun)"
   ]
  },
  {
   "cell_type": "markdown",
   "id": "9e8b5f35-0d87-4728-9e08-383fb08c3dbc",
   "metadata": {},
   "source": [
    "once obtained the result, we can count the number of different communities associated with AD"
   ]
  },
  {
   "cell_type": "code",
   "execution_count": 132,
   "id": "b0b27cbb-8dd7-4910-b417-0aac05997d1b",
   "metadata": {},
   "outputs": [],
   "source": [
    "df_compare['count_community'] = df_compare.groupby([ 'JournalTypeLabel'])['notAGJournal'].transform('count')"
   ]
  },
  {
   "cell_type": "code",
   "execution_count": 134,
   "id": "5edc5f0b-896b-4035-a038-477e989ea19d",
   "metadata": {},
   "outputs": [
    {
     "data": {
      "text/html": [
       "<div>\n",
       "<style scoped>\n",
       "    .dataframe tbody tr th:only-of-type {\n",
       "        vertical-align: middle;\n",
       "    }\n",
       "\n",
       "    .dataframe tbody tr th {\n",
       "        vertical-align: top;\n",
       "    }\n",
       "\n",
       "    .dataframe thead th {\n",
       "        text-align: right;\n",
       "    }\n",
       "</style>\n",
       "<table border=\"1\" class=\"dataframe\">\n",
       "  <thead>\n",
       "    <tr style=\"text-align: right;\">\n",
       "      <th></th>\n",
       "      <th>identifier</th>\n",
       "      <th>AGJournal</th>\n",
       "      <th>notAGJournal</th>\n",
       "      <th>notAGcountry</th>\n",
       "      <th>JournalTypeLabel</th>\n",
       "      <th>count_community</th>\n",
       "    </tr>\n",
       "  </thead>\n",
       "  <tbody>\n",
       "    <tr>\n",
       "      <th>0</th>\n",
       "      <td>https://visualcontagions.unige.ch/explore/analysis/imageseries/10</td>\n",
       "      <td>Abstraction, création, art non figuratif</td>\n",
       "      <td>Arts Magazine</td>\n",
       "      <td>United States of America</td>\n",
       "      <td>Art Journal</td>\n",
       "      <td>233</td>\n",
       "    </tr>\n",
       "    <tr>\n",
       "      <th>1</th>\n",
       "      <td>https://visualcontagions.unige.ch/explore/analysis/imageseries/10</td>\n",
       "      <td>Abstraction, création, art non figuratif</td>\n",
       "      <td>Ariadne</td>\n",
       "      <td>Netherlands</td>\n",
       "      <td>Illustrated Magazine</td>\n",
       "      <td>199</td>\n",
       "    </tr>\n",
       "    <tr>\n",
       "      <th>2</th>\n",
       "      <td>https://visualcontagions.unige.ch/explore/analysis/imageseries/10</td>\n",
       "      <td>Abstraction, création, art non figuratif</td>\n",
       "      <td>Prace z historii sztuki</td>\n",
       "      <td>Poland</td>\n",
       "      <td>Art History</td>\n",
       "      <td>122</td>\n",
       "    </tr>\n",
       "    <tr>\n",
       "      <th>3</th>\n",
       "      <td>https://visualcontagions.unige.ch/explore/analysis/imageseries/10</td>\n",
       "      <td>Der Sturm</td>\n",
       "      <td>Arts Magazine</td>\n",
       "      <td>United States of America</td>\n",
       "      <td>Art Journal</td>\n",
       "      <td>233</td>\n",
       "    </tr>\n",
       "    <tr>\n",
       "      <th>4</th>\n",
       "      <td>https://visualcontagions.unige.ch/explore/analysis/imageseries/10</td>\n",
       "      <td>Der Sturm</td>\n",
       "      <td>Ariadne</td>\n",
       "      <td>Netherlands</td>\n",
       "      <td>Illustrated Magazine</td>\n",
       "      <td>199</td>\n",
       "    </tr>\n",
       "    <tr>\n",
       "      <th>...</th>\n",
       "      <td>...</td>\n",
       "      <td>...</td>\n",
       "      <td>...</td>\n",
       "      <td>...</td>\n",
       "      <td>...</td>\n",
       "      <td>...</td>\n",
       "    </tr>\n",
       "    <tr>\n",
       "      <th>1356</th>\n",
       "      <td>https://visualcontagions.unige.ch/explore/duplicates/clusters/00001c00d092d9e21aed98d7f0a9e149f412bb2c71f403ed29e6dd76259a5a0bdd9d2e06</td>\n",
       "      <td>Der Sturm</td>\n",
       "      <td>Archiv für Buchgewerbe und Gebrauchsgraphik</td>\n",
       "      <td>Germany</td>\n",
       "      <td>Illustrated Magazine</td>\n",
       "      <td>199</td>\n",
       "    </tr>\n",
       "    <tr>\n",
       "      <th>1357</th>\n",
       "      <td>https://visualcontagions.unige.ch/explore/duplicates/clusters/00001c00d092d9e21aed98d7f0a9e149f412bb2c71f403ed29e6dd76259a5a0bdd9d2e06</td>\n",
       "      <td>Der Sturm</td>\n",
       "      <td>Arts Magazine</td>\n",
       "      <td>United States of America</td>\n",
       "      <td>Art Journal</td>\n",
       "      <td>233</td>\n",
       "    </tr>\n",
       "    <tr>\n",
       "      <th>1358</th>\n",
       "      <td>https://visualcontagions.unige.ch/explore/duplicates/clusters/00001c00d092d9e21aed98d7f0a9e149f412bb2c71f403ed29e6dd76259a5a0bdd9d2e06</td>\n",
       "      <td>Der Sturm</td>\n",
       "      <td>Biennale Plakatu</td>\n",
       "      <td>Poland</td>\n",
       "      <td>Art Journal</td>\n",
       "      <td>233</td>\n",
       "    </tr>\n",
       "    <tr>\n",
       "      <th>1359</th>\n",
       "      <td>https://visualcontagions.unige.ch/explore/duplicates/clusters/00001c00d092d9e21aed98d7f0a9e149f412bb2c71f403ed29e6dd76259a5a0bdd9d2e06</td>\n",
       "      <td>Der Sturm</td>\n",
       "      <td>Commercial Art - Art and Industry</td>\n",
       "      <td>United Kingdom</td>\n",
       "      <td>Illustrated Magazine</td>\n",
       "      <td>199</td>\n",
       "    </tr>\n",
       "    <tr>\n",
       "      <th>1360</th>\n",
       "      <td>https://visualcontagions.unige.ch/explore/duplicates/clusters/00001c00d092d9e21aed98d7f0a9e149f412bb2c71f403ed29e6dd76259a5a0bdd9d2e06</td>\n",
       "      <td>Der Sturm</td>\n",
       "      <td>Prace z historii sztuki</td>\n",
       "      <td>Poland</td>\n",
       "      <td>Art History</td>\n",
       "      <td>122</td>\n",
       "    </tr>\n",
       "  </tbody>\n",
       "</table>\n",
       "<p>1361 rows × 6 columns</p>\n",
       "</div>"
      ],
      "text/plain": [
       "                                                                                                                                  identifier  \\\n",
       "0                                                                          https://visualcontagions.unige.ch/explore/analysis/imageseries/10   \n",
       "1                                                                          https://visualcontagions.unige.ch/explore/analysis/imageseries/10   \n",
       "2                                                                          https://visualcontagions.unige.ch/explore/analysis/imageseries/10   \n",
       "3                                                                          https://visualcontagions.unige.ch/explore/analysis/imageseries/10   \n",
       "4                                                                          https://visualcontagions.unige.ch/explore/analysis/imageseries/10   \n",
       "...                                                                                                                                      ...   \n",
       "1356  https://visualcontagions.unige.ch/explore/duplicates/clusters/00001c00d092d9e21aed98d7f0a9e149f412bb2c71f403ed29e6dd76259a5a0bdd9d2e06   \n",
       "1357  https://visualcontagions.unige.ch/explore/duplicates/clusters/00001c00d092d9e21aed98d7f0a9e149f412bb2c71f403ed29e6dd76259a5a0bdd9d2e06   \n",
       "1358  https://visualcontagions.unige.ch/explore/duplicates/clusters/00001c00d092d9e21aed98d7f0a9e149f412bb2c71f403ed29e6dd76259a5a0bdd9d2e06   \n",
       "1359  https://visualcontagions.unige.ch/explore/duplicates/clusters/00001c00d092d9e21aed98d7f0a9e149f412bb2c71f403ed29e6dd76259a5a0bdd9d2e06   \n",
       "1360  https://visualcontagions.unige.ch/explore/duplicates/clusters/00001c00d092d9e21aed98d7f0a9e149f412bb2c71f403ed29e6dd76259a5a0bdd9d2e06   \n",
       "\n",
       "                                     AGJournal  \\\n",
       "0     Abstraction, création, art non figuratif   \n",
       "1     Abstraction, création, art non figuratif   \n",
       "2     Abstraction, création, art non figuratif   \n",
       "3                                    Der Sturm   \n",
       "4                                    Der Sturm   \n",
       "...                                        ...   \n",
       "1356                                 Der Sturm   \n",
       "1357                                 Der Sturm   \n",
       "1358                                 Der Sturm   \n",
       "1359                                 Der Sturm   \n",
       "1360                                 Der Sturm   \n",
       "\n",
       "                                     notAGJournal              notAGcountry  \\\n",
       "0                                   Arts Magazine  United States of America   \n",
       "1                                         Ariadne               Netherlands   \n",
       "2                         Prace z historii sztuki                    Poland   \n",
       "3                                   Arts Magazine  United States of America   \n",
       "4                                         Ariadne               Netherlands   \n",
       "...                                           ...                       ...   \n",
       "1356  Archiv für Buchgewerbe und Gebrauchsgraphik                   Germany   \n",
       "1357                                Arts Magazine  United States of America   \n",
       "1358                             Biennale Plakatu                    Poland   \n",
       "1359            Commercial Art - Art and Industry            United Kingdom   \n",
       "1360                      Prace z historii sztuki                    Poland   \n",
       "\n",
       "          JournalTypeLabel  count_community  \n",
       "0              Art Journal              233  \n",
       "1     Illustrated Magazine              199  \n",
       "2              Art History              122  \n",
       "3              Art Journal              233  \n",
       "4     Illustrated Magazine              199  \n",
       "...                    ...              ...  \n",
       "1356  Illustrated Magazine              199  \n",
       "1357           Art Journal              233  \n",
       "1358           Art Journal              233  \n",
       "1359  Illustrated Magazine              199  \n",
       "1360           Art History              122  \n",
       "\n",
       "[1361 rows x 6 columns]"
      ]
     },
     "execution_count": 134,
     "metadata": {},
     "output_type": "execute_result"
    }
   ],
   "source": [
    "df_compare"
   ]
  },
  {
   "cell_type": "code",
   "execution_count": 137,
   "id": "9725af14-1427-4b6e-bdb7-e521701630fb",
   "metadata": {
    "tags": []
   },
   "outputs": [],
   "source": [
    "fig = px.sunburst(df_compare, path=['AGJournal', 'JournalTypeLabel', 'notAGJournal'], \n",
    "                  values='count_community')\n",
    "fig.update_layout(uniformtext=dict(minsize=10, mode='hide'))\n",
    "#fig.show()\n",
    "fig.write_html('community_sunburst.html', auto_open=True)"
   ]
  },
  {
   "cell_type": "code",
   "execution_count": null,
   "id": "f903cbce-2040-417c-94c2-99e4f0ccc984",
   "metadata": {},
   "outputs": [],
   "source": []
  },
  {
   "cell_type": "code",
   "execution_count": null,
   "id": "85eb429f-84f8-495f-b27a-f2d7a79ed400",
   "metadata": {},
   "outputs": [],
   "source": []
  },
  {
   "cell_type": "markdown",
   "id": "1c7d4a01-83f2-4d50-97f4-86abcfd26dfa",
   "metadata": {
    "tags": []
   },
   "source": [
    "## to cut: Filte by Time (post 1960)"
   ]
  },
  {
   "cell_type": "code",
   "execution_count": null,
   "id": "09da9a70-4a39-4b43-a527-4f5ef5844300",
   "metadata": {},
   "outputs": [],
   "source": [
    "\n",
    "post1960 = (df1['year'] > 1960) \n",
    "df_post1960 = df1.loc[post1960]\n",
    "\n",
    "df_post1960[\"cluster\"].nunique()\n",
    "\n",
    "df_post1960.drop_duplicates(subset=['identifier'], inplace=True)\n",
    "df_post1960.to_csv('csv/df_post1960.csv', index=False)"
   ]
  }
 ],
 "metadata": {
  "kernelspec": {
   "display_name": "Python 3 (ipykernel)",
   "language": "python",
   "name": "python3"
  },
  "language_info": {
   "codemirror_mode": {
    "name": "ipython",
    "version": 3
   },
   "file_extension": ".py",
   "mimetype": "text/x-python",
   "name": "python",
   "nbconvert_exporter": "python",
   "pygments_lexer": "ipython3",
   "version": "3.10.8"
  }
 },
 "nbformat": 4,
 "nbformat_minor": 5
}
