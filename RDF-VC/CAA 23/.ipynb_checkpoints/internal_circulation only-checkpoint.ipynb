{
 "cells": [
  {
   "cell_type": "markdown",
   "id": "24c983ba-260e-4c69-af10-08c446cbf8fe",
   "metadata": {},
   "source": [
    "# Chains of circulations"
   ]
  },
  {
   "cell_type": "markdown",
   "id": "26e13268-c1ad-4b58-8d02-fc9cf2f750a1",
   "metadata": {},
   "source": [
    "<font size=\"4\">which AG journal(s) initiate(s) chains of circulations within the AG community</font>"
   ]
  },
  {
   "cell_type": "markdown",
   "id": "429f19ce-c598-45d2-a6bb-ea5a56491e94",
   "metadata": {
    "tags": []
   },
   "source": [
    "## Data Retrieval"
   ]
  },
  {
   "cell_type": "code",
   "execution_count": 64,
   "id": "92643912-2714-417c-a1a1-063570cebac1",
   "metadata": {
    "tags": []
   },
   "outputs": [],
   "source": [
    "from SPARQLWrapper import SPARQLWrapper, JSON\n",
    "import pandas as pd\n",
    "import sparql_dataframe\n",
    "import geopandas as gpd\n",
    "from shapely import wkt\n",
    "import matplotlib.pyplot as plt\n",
    "import folium\n",
    "import VizKG.visualize as vkg\n",
    "import plotly.express as px\n",
    "import markdown as md"
   ]
  },
  {
   "cell_type": "code",
   "execution_count": 65,
   "id": "24de7cd0-ac2d-4fe4-a895-2f60c02eb14d",
   "metadata": {
    "tags": []
   },
   "outputs": [],
   "source": [
    "endpoint = \"http://localhost:3030/VisualContagions/sparql\""
   ]
  },
  {
   "cell_type": "code",
   "execution_count": 66,
   "id": "82cb2a60-18a9-4035-af30-4f1169d5da6c",
   "metadata": {},
   "outputs": [],
   "source": [
    "q =\"\"\"\n",
    "\n",
    "PREFIX crmdig: <http://www.ics.forth.gr/isl/CRMdig/>\n",
    "PREFIX frbroo: <http://iflastandards.info/ns/fr/frbr/frbroo/>\n",
    "PREFIX crm: <http://www.cidoc-crm.org/cidoc-crm/>\n",
    "PREFIX rdf: <http://www.w3.org/1999/02/22-rdf-syntax-ns#>\n",
    "PREFIX rdfs: <http://www.w3.org/2000/01/rdf-schema#>\n",
    "PREFIX aat: <http://vocab.getty.edu/aat/>\n",
    "\n",
    "\n",
    "SELECT DISTINCT ?cluster WHERE {\n",
    "\n",
    "                ?cluster crm:P148_has_component ?image ;\n",
    "                         crm:P1_is_identified_by ?identifier .\n",
    "                ?image crm:P128i_is_carried_by ?issue . \n",
    "                ?issue crm:P2_has_type <https://lod.unige.ch/vc/type/988EE2E2-172C-3104-8DAA-B4D629E814AE> .\n",
    "      \n",
    "FILTER NOT EXISTS {\n",
    "\n",
    "    VALUES ?trash { \n",
    "        \n",
    "<https://visualcontagions.unige.ch/explore/duplicates/clusters/0000140031d34e7f32f8fd1bd1734060214c3ad24b96e367e6c7ac7b2af6e527cc8c34e8>\n",
    "<https://visualcontagions.unige.ch/explore/duplicates/clusters/00000f00f2517854b489d2bdd53b690c5ff830c0c9f1aad4b60a27941f7781267ef1cf6d>\n",
    "<https://visualcontagions.unige.ch/explore/duplicates/clusters/00000500e18f2dac9c45156004ab5cb9939ea646d784722ff6c1ffac5bc37ca091252e43>\n",
    "<https://visualcontagions.unige.ch/explore/duplicates/clusters/000005009220cc1b213b05cab3efc43f0e4561a36e216780fd363dc3ead1f01368b33892>\n",
    "<https://visualcontagions.unige.ch/explore/duplicates/clusters/0000040077e6a6c83e14343f6f6640aeeda400ff79c66e15558495f38a570229ad9088da>\n",
    "<https://visualcontagions.unige.ch/explore/duplicates/clusters/000004001433a294563676e3499ab3f3877fb7c388dff9a5b91fc17a69d60ea565814536>\n",
    "<https://visualcontagions.unige.ch/explore/duplicates/clusters/00000300c7466ff7352ae34a7341e0bb573f1537bba5788f9698df593f00176adf8ed978>\n",
    "<https://visualcontagions.unige.ch/explore/duplicates/clusters/00000300b2355781a9e3f1dbdb79ffa77e67ad7da85ddddc1b790f4aefed59d2e45ee6a7>\n",
    "<https://visualcontagions.unige.ch/explore/duplicates/clusters/0000030063404a0b0f25c4bc11f2589dcc74b4b1e0989ce265572a46d13a6f91eb6a9f1e>\n",
    "<https://visualcontagions.unige.ch/explore/duplicates/clusters/0000030039ac3a0cdc635027c14d500278366e1e2d767267aa062f58c359d0841ac6f37d>\n",
    "<https://visualcontagions.unige.ch/explore/duplicates/clusters/00000300368959fdd010d08813b6d7d34ab791758478818f879759c1f3c6455c1983d25a>\n",
    "<https://visualcontagions.unige.ch/explore/duplicates/clusters/000003002d62f3a250c7310a2440b06f3de7c606651e206c3579454081a24a89d1878351>                         \n",
    "<https://visualcontagions.unige.ch/explore/duplicates/clusters/00000300019e9b2c78d92b6f56d6d01b99fc4c722d55e9e9872dda2e634f2b0cdd02cfb8>\n",
    "<https://visualcontagions.unige.ch/explore/duplicates/clusters/00000200e0b8e0d04e36ee62cb79253ae7fcc151fa922fe902ab36885f4abcc47fdcca4e>\n",
    "<https://visualcontagions.unige.ch/explore/duplicates/clusters/000002006b69c25c491d4e7aca5e62f66747d03cb47abb810859c34e66df831c293fa8a8>\n",
    "<https://visualcontagions.unige.ch/explore/duplicates/clusters/0000020061273c01a5333060afef4bfd7f379cd01afb5eeb849390d3ea85b2479d84a08f>\n",
    "<https://visualcontagions.unige.ch/explore/duplicates/clusters/000002002cb36192f01631ce9d01048c27246acbb60f2fde7d2d4bfdfed1804c31b4bdb9>                         \n",
    "<https://visualcontagions.unige.ch/explore/duplicates/clusters/0000020021801a7508f0295ee7be2a86ea9763bfb0078aef44c89552351caea2aea3a3ea>\n",
    "<https://visualcontagions.unige.ch/explore/duplicates/clusters/00000600c6af7d32a5d172ca59bb1997a4ef6e983d60d06f5b3a3755fbc65ae1957ce23c>\n",
    "<https://visualcontagions.unige.ch/explore/duplicates/clusters/00000700fb49c1f48487902b4437e16cc2d78b89e3a98f52c8f65c0e4eedd85d80e217b1>\n",
    "<https://visualcontagions.unige.ch/explore/duplicates/clusters/00000700fb79995772c00bb4d73d2b5e91c91d7781e7268c7c0b6a2606e4c01cfcf66ac5>\n",
    "<https://visualcontagions.unige.ch/explore/duplicates/clusters/0000090015ff635e61946bf01b675ffc6877c07c6e7725f68a3839a2f852f62ec67995dc>\n",
    "<https://visualcontagions.unige.ch/explore/duplicates/clusters/00000a00a7abfe7063f803a5dcd90cc8d54008e7a3e69f07e487a0fd40b1b279bc79eef8>\n",
    "<https://visualcontagions.unige.ch/explore/duplicates/clusters/00000a00feca4edc94d98d05c7a13833c7564e324cd20be9051832da916e9d70ae07ad1f>\n",
    "<https://visualcontagions.unige.ch/explore/duplicates/clusters/00000a0065d77d414af0128714e423067fdd3a73230699c7194f079ace217c302713f314>\n",
    "<https://visualcontagions.unige.ch/explore/duplicates/clusters/00000e00aa775ab9acbab969b79714d2d78737b258410af160aec663e8c3e407a849e288>\n",
    "<https://visualcontagions.unige.ch/explore/duplicates/clusters/0000180098a1d3bd96c00a6c0f612ed33db5e18664e5e44e29e899c739cb46efb5c9359b>\n",
    "<https://visualcontagions.unige.ch/explore/duplicates/clusters/00001800c35c11877c73151184ef51a631b37e6e0f026c72ba48b32e4789422e11c09fbf>\n",
    "<https://visualcontagions.unige.ch/explore/duplicates/clusters/00001b00906fbaf5aa338463ada02b2778d69154a89525e13026eadc19cd82862a95cd69>\n",
    "<https://visualcontagions.unige.ch/explore/duplicates/clusters/00002200a85e3117d932d5ef5a9c5d178e43a8d6dc07bde665a426d313568bfa5ea3a9f9>\n",
    "<https://visualcontagions.unige.ch/explore/duplicates/clusters/00002500745277a76e3c39dfaee431f9ac5c0b4520e1855440cddfdec90e7d5882af5063> \n",
    "<https://visualcontagions.unige.ch/explore/duplicates/clusters/00003c0079fca5aa32f21f894f60a5dd25ba17e720c469af10a6e4b1df453de30fe93e17> \n",
    "<https://visualcontagions.unige.ch/explore/duplicates/clusters/00003d00c899a5073ac5851b4552ef41cddb8a59959cbaff5aede5cbd5aa624f13984e04> \n",
    "<https://visualcontagions.unige.ch/explore/duplicates/clusters/00001e002b2b66d8341fe8685ad3b9df6bc17590236bead713432c79bc2914b23e888c73> \n",
    "<https://visualcontagions.unige.ch/explore/duplicates/clusters/0000490021648c6fcce403be16b80d654186ffafd7635e4e0906a65516aff956179a61d3> \n",
    "<https://visualcontagions.unige.ch/explore/duplicates/clusters/0000030040d2720fb2fd94a38df5dc5b0d55e14309962e6c764e23a54a819816cdfe9c20> \n",
    "<https://visualcontagions.unige.ch/explore/duplicates/clusters/000015004c44ed7f0e7150811be78d4b930ef72322476f4d9cadcf1f73b08117bae435a1>\n",
    "<https://visualcontagions.unige.ch/explore/duplicates/clusters/00000200108e61b49fbe40ca13dfc9dd06bbed1701c979a1ed985482c1ce1de08b17717d>\n",
    "<https://visualcontagions.unige.ch/explore/duplicates/clusters/000003009775be58b129b4f4079112ec1c825552f238d9e580435d2c732066cecf29baa8>\n",
    "<https://visualcontagions.unige.ch/explore/duplicates/clusters/0000e8009061dc5b29fb17872c9c13ac1a64fe42e8b94af2481e59886f28d0156fde0ceb>\n",
    "<https://visualcontagions.unige.ch/explore/duplicates/clusters/00026200b3d151e5c855c651b2a0bea2c9116be1a5e5b7141bacc846b12d3708338ff615>\n",
    "<https://visualcontagions.unige.ch/explore/duplicates/clusters/0000ca00a432dfdd48c6534088f51065c6f2983133e467314d5d6a4560ae5ea16de6f359>\n",
    "<https://visualcontagions.unige.ch/explore/duplicates/clusters/0000e8009061dc5b29fb17872c9c13ac1a64fe42e8b94af2481e59886f28d0156fde0ceb>\n",
    "<https://visualcontagions.unige.ch/explore/duplicates/clusters/00008a005e931cc1f1dc0dc0f82d3ee457c5b642600420ae9313b50ad6c0d75b41b8f1c0>\n",
    "<https://visualcontagions.unige.ch/explore/duplicates/clusters/0001bd00a370039869e9e1bb229cd73ddc231b51110e135de82d755ef72e3b367a5411e9>\n",
    "<https://visualcontagions.unige.ch/explore/duplicates/clusters/000109002f020235176a28018a0944ed84b4b7ddbed8737474caaa5c0b54922a4cd6073c>\n",
    "<https://visualcontagions.unige.ch/explore/duplicates/clusters/00024100820c145c252454de492f79784d2c1df4b3a13d9eabf0179f0e0305b516a764ba>\n",
    "<https://visualcontagions.unige.ch/explore/duplicates/clusters/0003ec00036e6aa8355e0f69196bf6006defd506c93e04722b54cf7831c66c3c3b8dbb05>\n",
    "<https://visualcontagions.unige.ch/explore/duplicates/clusters/00000200f89ef4fb7b639ce5e811ec9ec425c3da3b92dd5edb5d9e64fbf8d010f9d96d71>\n",
    "<https://visualcontagions.unige.ch/explore/duplicates/clusters/0000040066b73cf2a0b0742a0aceecc4dd1724b52dc7afbdc4b48432ee3f0336124798aa>\n",
    "<https://visualcontagions.unige.ch/explore/duplicates/clusters/00001200bed2a9ade1689744b661b58c1d93bcd442cbeafcf07b6460d0df1b33d65f5b86>\n",
    "<https://visualcontagions.unige.ch/explore/duplicates/clusters/000022005d01a84e38421213b8816fd78e4aef0890445f65f81de2ee1459980a6335942a>\n",
    "<https://visualcontagions.unige.ch/explore/duplicates/clusters/00001600fe63944181de71b69fc3900867dc30611de913a214c5d42ac2e7ce3dd7cff99f>\n",
    "<https://visualcontagions.unige.ch/explore/duplicates/clusters/000012009d66187e47b439dd2c2e6668dd9945209f40685c7039c56c563a4aa9bbfa9718>\n",
    "<https://visualcontagions.unige.ch/explore/duplicates/clusters/00000d0069b0d3bd802ae948c1f53b96391afeb46fcd505e999cb56cd37406508e4ef418>\n",
    "<https://visualcontagions.unige.ch/explore/duplicates/clusters/00000b002057ee6db2a8ea72c04e36379e7b035a4d2911a1155b5652230551866825ab90>\n",
    "<https://visualcontagions.unige.ch/explore/duplicates/clusters/00000b0003d9d58d012451307b2ef5fbd75af31eec0c5f1afcdefb10b4ab8fbc38d15615>\n",
    "<https://visualcontagions.unige.ch/explore/duplicates/clusters/00000a00609f4e0b53f5b2ca7afaea13c7a3ba187b05ae3bdd1108598e5226a7aaf18ded>\n",
    "<https://visualcontagions.unige.ch/explore/duplicates/clusters/000008005b033c554cfd743ed238cd05b35f46fe7de56720622971b00aecaf985896fe4a>\n",
    "<https://visualcontagions.unige.ch/explore/duplicates/clusters/00000600d4e85eaf39fb676e999b8d2466a4455d48d70791ff2d4dd1cc4653c248264df3>\n",
    "<https://visualcontagions.unige.ch/explore/duplicates/clusters/00002a00a60bf43cf1fb052165221ee1727e977b2ecf99f820cbbd426d12c6aa6a37d9e4>\n",
    "<https://visualcontagions.unige.ch/explore/duplicates/clusters/0000310098549f748176d2f4efedf76773dca2aafeaf8db5f746daf37a50dd3d0819dbb3>\n",
    "<https://visualcontagions.unige.ch/explore/duplicates/clusters/0003d500d8362a66c04fe8273b00d9470929fd918a6dc6c4395f060e0c5e270f12f54f5c>\n",
    "<https://visualcontagions.unige.ch/explore/duplicates/clusters/0003ff00a6da95a6b61b8c47220d9839b7b4b6afe26daad02ee0c0c291c40ad1bb0bec90>\n",
    "<https://visualcontagions.unige.ch/explore/duplicates/clusters/0000c9000f961bd877cdc346bd51b76a74b698924ae6960e3bbfa0986e7aea7da730930c>\n",
    "<https://visualcontagions.unige.ch/explore/duplicates/clusters/0000d000ecf8a0329d2530d3eb601e077c0e5c298db100b8316c0af9232e41e8a7e8e4ef>\n",
    "<https://visualcontagions.unige.ch/explore/duplicates/clusters/000403008f37a6852f6339eefe0e74225b20553b5d641b32015b15d40ca4d216a540ae2f>\n",
    "<https://visualcontagions.unige.ch/explore/duplicates/clusters/00002400d7b4ea535865b256e1c13f0d6505182ead425183c8f919bfa3309aab1dae43dc>\n",
    "<https://visualcontagions.unige.ch/explore/duplicates/clusters/00001f00c18ad27c34a66610ece997934ce4bc1aa5fbcdad562e58a52ab86792352bfb9c>\n",
    "<https://visualcontagions.unige.ch/explore/duplicates/clusters/00002b000918272590bc01401e6367c6448a222445fe13cabec0a2a38a7b38e598cea622>\n",
    "<https://visualcontagions.unige.ch/explore/duplicates/clusters/000057008d59ea30b6175a9c5c32ebf3caa2c27cce0d569fd3b2a899ebf0107086c3a197>\n",
    "<https://visualcontagions.unige.ch/explore/duplicates/clusters/000028007bf1c23529418f9fba6de2955caa8fa4e1572632151c41a9f1b20c1c5a45a1c5>\n",
    "<https://visualcontagions.unige.ch/explore/duplicates/clusters/00005a009d47a1932fcbbe7ff04ac3017fa6d167f06fe3287477d6c1cedae50451cd67dc>\n",
    "<https://visualcontagions.unige.ch/explore/duplicates/clusters/00001f0087307813ef1d16a6def5d96b8b6550a707da4fd6702aa64d8425b29e6826f049>\n",
    "<https://visualcontagions.unige.ch/explore/duplicates/clusters/00001c0000968f38146238bab2f376c40b0fca62e734f151a85e2ecce4981e0050eb57a0>\n",
    "<https://visualcontagions.unige.ch/explore/duplicates/clusters/00001d00ffc088f4f254a86d70e0a3495bbf5f288b1373e96c6875d487cd1b14076e2702>\n",
    "<https://visualcontagions.unige.ch/explore/duplicates/clusters/00001d000d01d183fa765191f6028c4b69a7e1c9c9ed1d9a3ae14bb9a4731b5172f4b337>\n",
    "<https://visualcontagions.unige.ch/explore/duplicates/clusters/00001c002016002f400721bfa0a32f16e887e64cc4e092cd626a7fb7c426545e0757e7f1>\n",
    "<https://visualcontagions.unige.ch/explore/duplicates/clusters/0002910088db3f58b1c573c281f266c695c21d421c9337abca57d4a51440e13a2f9c5893>\n",
    "<https://visualcontagions.unige.ch/explore/duplicates/clusters/00028200ce1d42e579bb46d53b1b038b5f23bf88a8057f5d5cb9806d9c87dee28477ecc4>\n",
    "}\n",
    "                                        \n",
    "                          ?cluster crm:P1_is_identified_by  ?trash . }\n",
    "                \n",
    "    } \n",
    "\n",
    "\"\"\""
   ]
  },
  {
   "cell_type": "code",
   "execution_count": 67,
   "id": "c5f91f64-f24e-43fe-bf32-c8fee009973a",
   "metadata": {},
   "outputs": [],
   "source": [
    "df = sparql_dataframe.get(endpoint, q)"
   ]
  },
  {
   "cell_type": "code",
   "execution_count": 68,
   "id": "2f91aec4-7f06-4b99-ac59-6fccb2ffcfe4",
   "metadata": {},
   "outputs": [
    {
     "data": {
      "text/html": [
       "<div>\n",
       "<style scoped>\n",
       "    .dataframe tbody tr th:only-of-type {\n",
       "        vertical-align: middle;\n",
       "    }\n",
       "\n",
       "    .dataframe tbody tr th {\n",
       "        vertical-align: top;\n",
       "    }\n",
       "\n",
       "    .dataframe thead th {\n",
       "        text-align: right;\n",
       "    }\n",
       "</style>\n",
       "<table border=\"1\" class=\"dataframe\">\n",
       "  <thead>\n",
       "    <tr style=\"text-align: right;\">\n",
       "      <th></th>\n",
       "      <th>cluster</th>\n",
       "    </tr>\n",
       "  </thead>\n",
       "  <tbody>\n",
       "    <tr>\n",
       "      <th>0</th>\n",
       "      <td>https://lod.unige.ch/vc/cluster/000005002dad81...</td>\n",
       "    </tr>\n",
       "    <tr>\n",
       "      <th>1</th>\n",
       "      <td>https://lod.unige.ch/vc/cluster/0000030004db65...</td>\n",
       "    </tr>\n",
       "    <tr>\n",
       "      <th>2</th>\n",
       "      <td>https://lod.unige.ch/vc/cluster/000002006471ad...</td>\n",
       "    </tr>\n",
       "    <tr>\n",
       "      <th>3</th>\n",
       "      <td>https://lod.unige.ch/vc/cluster/00000300b38745...</td>\n",
       "    </tr>\n",
       "    <tr>\n",
       "      <th>4</th>\n",
       "      <td>https://lod.unige.ch/vc/cluster/000008000c6c9e...</td>\n",
       "    </tr>\n",
       "    <tr>\n",
       "      <th>...</th>\n",
       "      <td>...</td>\n",
       "    </tr>\n",
       "    <tr>\n",
       "      <th>4809</th>\n",
       "      <td>https://lod.unige.ch/vc/cluster/0000020045b4c2...</td>\n",
       "    </tr>\n",
       "    <tr>\n",
       "      <th>4810</th>\n",
       "      <td>https://lod.unige.ch/vc/cluster/00000200930c63...</td>\n",
       "    </tr>\n",
       "    <tr>\n",
       "      <th>4811</th>\n",
       "      <td>https://lod.unige.ch/vc/cluster/000002005d06cc...</td>\n",
       "    </tr>\n",
       "    <tr>\n",
       "      <th>4812</th>\n",
       "      <td>https://lod.unige.ch/vc/cluster/0000080090a269...</td>\n",
       "    </tr>\n",
       "    <tr>\n",
       "      <th>4813</th>\n",
       "      <td>https://lod.unige.ch/vc/cluster/000003002d8fa0...</td>\n",
       "    </tr>\n",
       "  </tbody>\n",
       "</table>\n",
       "<p>4814 rows × 1 columns</p>\n",
       "</div>"
      ],
      "text/plain": [
       "                                                cluster\n",
       "0     https://lod.unige.ch/vc/cluster/000005002dad81...\n",
       "1     https://lod.unige.ch/vc/cluster/0000030004db65...\n",
       "2     https://lod.unige.ch/vc/cluster/000002006471ad...\n",
       "3     https://lod.unige.ch/vc/cluster/00000300b38745...\n",
       "4     https://lod.unige.ch/vc/cluster/000008000c6c9e...\n",
       "...                                                 ...\n",
       "4809  https://lod.unige.ch/vc/cluster/0000020045b4c2...\n",
       "4810  https://lod.unige.ch/vc/cluster/00000200930c63...\n",
       "4811  https://lod.unige.ch/vc/cluster/000002005d06cc...\n",
       "4812  https://lod.unige.ch/vc/cluster/0000080090a269...\n",
       "4813  https://lod.unige.ch/vc/cluster/000003002d8fa0...\n",
       "\n",
       "[4814 rows x 1 columns]"
      ]
     },
     "execution_count": 68,
     "metadata": {},
     "output_type": "execute_result"
    }
   ],
   "source": [
    "df"
   ]
  },
  {
   "cell_type": "code",
   "execution_count": 69,
   "id": "2f23d4b8-75ee-4cf4-9dc2-4656e2dccd63",
   "metadata": {},
   "outputs": [],
   "source": [
    "df['cluster'] = '<' + df['cluster'].astype(str)\n",
    "df['cluster'] = df['cluster'].astype(str) +  '>' \n",
    "cluster = df[\"cluster\"].values.tolist()"
   ]
  },
  {
   "cell_type": "code",
   "execution_count": 70,
   "id": "bb014755-f252-4e69-b23a-c2cc4bfb2ead",
   "metadata": {},
   "outputs": [
    {
     "name": "stdout",
     "output_type": "stream",
     "text": [
      "We retrieved 4814 clusters with at least one image from an AG journal\n"
     ]
    }
   ],
   "source": [
    "n_cluster = len(cluster)\n",
    "print(\"We retrieved {} clusters with at least one image from an AG journal\".format(n_cluster))"
   ]
  },
  {
   "cell_type": "markdown",
   "id": "ca9382bc-2df3-46ea-83ec-d2756c5056ee",
   "metadata": {},
   "source": [
    "<font size=\"4\">The list should be used for another SPARQL query, so a separator between the uri should be added </font>"
   ]
  },
  {
   "cell_type": "markdown",
   "id": "ef53b366-3e8b-4b48-a3d9-183fa53dda08",
   "metadata": {},
   "source": [
    "<font size=\"4\">We use the results obtained in the first query for a second query. Bur first we need to split the list in two</font>"
   ]
  },
  {
   "cell_type": "code",
   "execution_count": 71,
   "id": "6df82da0-aee8-4684-b08f-588f004604f9",
   "metadata": {},
   "outputs": [],
   "source": [
    "q1 = cluster[:len(cluster)//2]\n",
    "q2 = cluster[len(cluster)//2:]"
   ]
  },
  {
   "cell_type": "code",
   "execution_count": 72,
   "id": "6ba46ed4-31cb-4150-a3a8-5644b937b294",
   "metadata": {},
   "outputs": [],
   "source": [
    "separator = ' '\n",
    "values1 = separator.join(q1)\n",
    "values2 = separator.join(q2)"
   ]
  },
  {
   "cell_type": "code",
   "execution_count": 73,
   "id": "ee3345c2-dc3a-4f6c-b70e-0da4d187987f",
   "metadata": {
    "tags": []
   },
   "outputs": [],
   "source": [
    "q1= \"\"\"\n",
    "    PREFIX crmdig: <http://www.ics.forth.gr/isl/CRMdig/>\n",
    "    PREFIX frbroo: <http://iflastandards.info/ns/fr/frbr/frbroo/>\n",
    "    PREFIX crm: <http://www.cidoc-crm.org/cidoc-crm/>\n",
    "    PREFIX rdf: <http://www.w3.org/1999/02/22-rdf-syntax-ns#>\n",
    "    PREFIX rdfs: <http://www.w3.org/2000/01/rdf-schema#>\n",
    "    PREFIX aat: <http://vocab.getty.edu/aat/>\n",
    "    \n",
    "    SELECT DISTINCT ?cluster ?identifier ?image ?issueLabel ?countryLabel ?labelType ?cityLabel ?begin {\n",
    "    VALUES ?cluster { %s } .\n",
    "    \n",
    "    ?cluster crm:P148_has_component ?image ;\n",
    "           \tcrm:P1_is_identified_by ?identifier .\n",
    "            \n",
    "            ?image crm:P128i_is_carried_by ?issue . \n",
    "\t\t\n",
    "        ?issue crm:P108i_was_produced_by ?production ;\n",
    "                rdfs:label ?issueLabel ;\n",
    "                crm:P2_has_type ?typeIssue .\n",
    "        ?typeIssue rdfs:label ?labelType .\n",
    "        \n",
    "        ?production crm:P4_has_time-span ?time ;\n",
    "                     crm:P7_took_place_at ?country .\n",
    "                     \n",
    "        ?time a crm:E52_Time-Span;\n",
    "                crm:P81a_end_of_the_begin ?begin . \n",
    "        \n",
    "        ?country crm:P2_has_type aat:300387506 ;\n",
    "                rdfs:label ?countryLabel .\n",
    "        \n",
    "        OPTIONAL {\n",
    "        \n",
    "        ?production crm:P7_took_place_at ?city .\n",
    "        ?city crm:P2_has_type aat:300008389 ;\n",
    "                rdfs:label ?cityLabel .\n",
    "        }\n",
    "          \n",
    "            \n",
    "    }    \n",
    "    \n",
    "\"\"\" % values1"
   ]
  },
  {
   "cell_type": "code",
   "execution_count": 74,
   "id": "66e12895-6ff0-47e0-9394-48e7d1b303e9",
   "metadata": {},
   "outputs": [],
   "source": [
    "df_q1 = sparql_dataframe.get(endpoint, q1)"
   ]
  },
  {
   "cell_type": "code",
   "execution_count": 75,
   "id": "0a9d9217-e5d2-4878-8b3c-7ccf79031bac",
   "metadata": {},
   "outputs": [],
   "source": [
    "q2= \"\"\"\n",
    "    PREFIX crmdig: <http://www.ics.forth.gr/isl/CRMdig/>\n",
    "    PREFIX frbroo: <http://iflastandards.info/ns/fr/frbr/frbroo/>\n",
    "    PREFIX crm: <http://www.cidoc-crm.org/cidoc-crm/>\n",
    "    PREFIX rdf: <http://www.w3.org/1999/02/22-rdf-syntax-ns#>\n",
    "    PREFIX rdfs: <http://www.w3.org/2000/01/rdf-schema#>\n",
    "    PREFIX aat: <http://vocab.getty.edu/aat/>\n",
    "    \n",
    "    SELECT DISTINCT ?cluster ?identifier ?image ?issueLabel ?countryLabel ?labelType ?cityLabel ?begin {\n",
    "    VALUES ?cluster { %s } .\n",
    "    \n",
    "    ?cluster crm:P148_has_component ?image ;\n",
    "           \tcrm:P1_is_identified_by ?identifier .\n",
    "            \n",
    "            ?image crm:P128i_is_carried_by ?issue . \n",
    "\t\t\n",
    "        ?issue crm:P108i_was_produced_by ?production ;\n",
    "                rdfs:label ?issueLabel ;\n",
    "                crm:P2_has_type ?typeIssue .\n",
    "        ?typeIssue rdfs:label ?labelType .\n",
    "        \n",
    "        ?production crm:P4_has_time-span ?time ;\n",
    "                     crm:P7_took_place_at ?country .\n",
    "                     \n",
    "        ?time a crm:E52_Time-Span;\n",
    "                crm:P81a_end_of_the_begin ?begin . \n",
    "        \n",
    "        ?country crm:P2_has_type aat:300387506 ;\n",
    "                rdfs:label ?countryLabel .\n",
    "        \n",
    "        OPTIONAL {\n",
    "        \n",
    "        ?production crm:P7_took_place_at ?city .\n",
    "        ?city crm:P2_has_type aat:300008389 ;\n",
    "                rdfs:label ?cityLabel .\n",
    "        }\n",
    "          \n",
    "            \n",
    "    }    \n",
    "    \n",
    "\"\"\" % values2"
   ]
  },
  {
   "cell_type": "code",
   "execution_count": 76,
   "id": "a6e199ad-3d57-4ca0-ba01-bb0a317824d0",
   "metadata": {},
   "outputs": [],
   "source": [
    "df_q2 = sparql_dataframe.get(endpoint, q2)"
   ]
  },
  {
   "cell_type": "code",
   "execution_count": 77,
   "id": "efb436e4-1414-4aee-8bd8-fde27b6a5ef1",
   "metadata": {},
   "outputs": [],
   "source": [
    "df1 = pd.concat([df_q1, df_q2])"
   ]
  },
  {
   "cell_type": "code",
   "execution_count": 78,
   "id": "4dbae137-2b2b-43fc-bc2d-33e3386cd80e",
   "metadata": {},
   "outputs": [],
   "source": [
    "# save the result of the query\n",
    "df1.to_csv('csv/internal/query_result.csv', index=False)\n",
    "# if you are using the notebook without SPARQL, if you can charge the CSV as df1 and proceed from this point forward"
   ]
  },
  {
   "cell_type": "code",
   "execution_count": 79,
   "id": "8dc41bc3-7a0b-4585-869e-9703ee62c087",
   "metadata": {},
   "outputs": [
    {
     "data": {
      "text/html": [
       "<div>\n",
       "<style scoped>\n",
       "    .dataframe tbody tr th:only-of-type {\n",
       "        vertical-align: middle;\n",
       "    }\n",
       "\n",
       "    .dataframe tbody tr th {\n",
       "        vertical-align: top;\n",
       "    }\n",
       "\n",
       "    .dataframe thead th {\n",
       "        text-align: right;\n",
       "    }\n",
       "</style>\n",
       "<table border=\"1\" class=\"dataframe\">\n",
       "  <thead>\n",
       "    <tr style=\"text-align: right;\">\n",
       "      <th></th>\n",
       "      <th>cluster</th>\n",
       "      <th>identifier</th>\n",
       "      <th>image</th>\n",
       "      <th>issueLabel</th>\n",
       "      <th>countryLabel</th>\n",
       "      <th>labelType</th>\n",
       "      <th>cityLabel</th>\n",
       "      <th>begin</th>\n",
       "    </tr>\n",
       "  </thead>\n",
       "  <tbody>\n",
       "    <tr>\n",
       "      <th>0</th>\n",
       "      <td>https://lod.unige.ch/vc/cluster/000005002dad81...</td>\n",
       "      <td>https://visualcontagions.unige.ch/explore/dupl...</td>\n",
       "      <td>https://iiif.unige.ch/iiif/2/fedora_ug8092415;...</td>\n",
       "      <td>Novy LEF</td>\n",
       "      <td>Russia</td>\n",
       "      <td>Avant-garde Journal</td>\n",
       "      <td>Moscow</td>\n",
       "      <td>1927-01-01T00:00:00</td>\n",
       "    </tr>\n",
       "    <tr>\n",
       "      <th>1</th>\n",
       "      <td>https://lod.unige.ch/vc/cluster/000005002dad81...</td>\n",
       "      <td>https://visualcontagions.unige.ch/explore/dupl...</td>\n",
       "      <td>https://iiif.unige.ch/iiif/2/fedora_ug8030160;...</td>\n",
       "      <td>Novy LEF</td>\n",
       "      <td>Russia</td>\n",
       "      <td>Avant-garde Journal</td>\n",
       "      <td>Moscow</td>\n",
       "      <td>1928-01-01T00:00:00</td>\n",
       "    </tr>\n",
       "    <tr>\n",
       "      <th>2</th>\n",
       "      <td>https://lod.unige.ch/vc/cluster/000005002dad81...</td>\n",
       "      <td>https://visualcontagions.unige.ch/explore/dupl...</td>\n",
       "      <td>https://iiif.unige.ch/iiif/2/fedora_ug8029289;...</td>\n",
       "      <td>Novy LEF</td>\n",
       "      <td>Russia</td>\n",
       "      <td>Avant-garde Journal</td>\n",
       "      <td>Moscow</td>\n",
       "      <td>1927-01-01T00:00:00</td>\n",
       "    </tr>\n",
       "    <tr>\n",
       "      <th>3</th>\n",
       "      <td>https://lod.unige.ch/vc/cluster/000005002dad81...</td>\n",
       "      <td>https://visualcontagions.unige.ch/explore/dupl...</td>\n",
       "      <td>https://iiif.unige.ch/iiif/2/fedora_ug8059014;...</td>\n",
       "      <td>Novy LEF</td>\n",
       "      <td>Russia</td>\n",
       "      <td>Avant-garde Journal</td>\n",
       "      <td>Moscow</td>\n",
       "      <td>1927-01-01T00:00:00</td>\n",
       "    </tr>\n",
       "    <tr>\n",
       "      <th>4</th>\n",
       "      <td>https://lod.unige.ch/vc/cluster/000005002dad81...</td>\n",
       "      <td>https://visualcontagions.unige.ch/explore/dupl...</td>\n",
       "      <td>https://iiif.unige.ch/iiif/2/fedora_ug8084481;...</td>\n",
       "      <td>Novy LEF</td>\n",
       "      <td>Russia</td>\n",
       "      <td>Avant-garde Journal</td>\n",
       "      <td>Moscow</td>\n",
       "      <td>1927-01-01T00:00:00</td>\n",
       "    </tr>\n",
       "    <tr>\n",
       "      <th>...</th>\n",
       "      <td>...</td>\n",
       "      <td>...</td>\n",
       "      <td>...</td>\n",
       "      <td>...</td>\n",
       "      <td>...</td>\n",
       "      <td>...</td>\n",
       "      <td>...</td>\n",
       "      <td>...</td>\n",
       "    </tr>\n",
       "    <tr>\n",
       "      <th>7740</th>\n",
       "      <td>https://lod.unige.ch/vc/cluster/0000080090a269...</td>\n",
       "      <td>https://visualcontagions.unige.ch/explore/dupl...</td>\n",
       "      <td>https://gallica.bnf.fr/iiif/ark:/12148/bpt6k94...</td>\n",
       "      <td>Le Moniteur du dessin, de l'architecture &amp; des...</td>\n",
       "      <td>France</td>\n",
       "      <td>Art Journal</td>\n",
       "      <td>Paris</td>\n",
       "      <td>1930-04-01T00:00:00</td>\n",
       "    </tr>\n",
       "    <tr>\n",
       "      <th>7741</th>\n",
       "      <td>https://lod.unige.ch/vc/cluster/0000080090a269...</td>\n",
       "      <td>https://visualcontagions.unige.ch/explore/dupl...</td>\n",
       "      <td>https://gallica.bnf.fr/iiif/ark:/12148/bpt6k94...</td>\n",
       "      <td>Le Moniteur du dessin, de l'architecture &amp; des...</td>\n",
       "      <td>France</td>\n",
       "      <td>Art Journal</td>\n",
       "      <td>Paris</td>\n",
       "      <td>1930-04-01T00:00:00</td>\n",
       "    </tr>\n",
       "    <tr>\n",
       "      <th>7742</th>\n",
       "      <td>https://lod.unige.ch/vc/cluster/000003002d8fa0...</td>\n",
       "      <td>https://visualcontagions.unige.ch/explore/dupl...</td>\n",
       "      <td>https://images.iiif.slub-dresden.de/iiif/2/dat...</td>\n",
       "      <td>Der Querschnitt</td>\n",
       "      <td>Germany</td>\n",
       "      <td>Avant-garde Journal</td>\n",
       "      <td>Düsseldorf</td>\n",
       "      <td>1935-04-01T00:00:00</td>\n",
       "    </tr>\n",
       "    <tr>\n",
       "      <th>7743</th>\n",
       "      <td>https://lod.unige.ch/vc/cluster/000003002d8fa0...</td>\n",
       "      <td>https://visualcontagions.unige.ch/explore/dupl...</td>\n",
       "      <td>https://images.iiif.slub-dresden.de/iiif/2/dat...</td>\n",
       "      <td>Der Querschnitt</td>\n",
       "      <td>Germany</td>\n",
       "      <td>Avant-garde Journal</td>\n",
       "      <td>Düsseldorf</td>\n",
       "      <td>1935-03-01T00:00:00</td>\n",
       "    </tr>\n",
       "    <tr>\n",
       "      <th>7744</th>\n",
       "      <td>https://lod.unige.ch/vc/cluster/000003002d8fa0...</td>\n",
       "      <td>https://visualcontagions.unige.ch/explore/dupl...</td>\n",
       "      <td>https://images.iiif.slub-dresden.de/iiif/2/dat...</td>\n",
       "      <td>Der Querschnitt</td>\n",
       "      <td>Germany</td>\n",
       "      <td>Avant-garde Journal</td>\n",
       "      <td>Düsseldorf</td>\n",
       "      <td>1935-02-01T00:00:00</td>\n",
       "    </tr>\n",
       "  </tbody>\n",
       "</table>\n",
       "<p>17715 rows × 8 columns</p>\n",
       "</div>"
      ],
      "text/plain": [
       "                                                cluster  \\\n",
       "0     https://lod.unige.ch/vc/cluster/000005002dad81...   \n",
       "1     https://lod.unige.ch/vc/cluster/000005002dad81...   \n",
       "2     https://lod.unige.ch/vc/cluster/000005002dad81...   \n",
       "3     https://lod.unige.ch/vc/cluster/000005002dad81...   \n",
       "4     https://lod.unige.ch/vc/cluster/000005002dad81...   \n",
       "...                                                 ...   \n",
       "7740  https://lod.unige.ch/vc/cluster/0000080090a269...   \n",
       "7741  https://lod.unige.ch/vc/cluster/0000080090a269...   \n",
       "7742  https://lod.unige.ch/vc/cluster/000003002d8fa0...   \n",
       "7743  https://lod.unige.ch/vc/cluster/000003002d8fa0...   \n",
       "7744  https://lod.unige.ch/vc/cluster/000003002d8fa0...   \n",
       "\n",
       "                                             identifier  \\\n",
       "0     https://visualcontagions.unige.ch/explore/dupl...   \n",
       "1     https://visualcontagions.unige.ch/explore/dupl...   \n",
       "2     https://visualcontagions.unige.ch/explore/dupl...   \n",
       "3     https://visualcontagions.unige.ch/explore/dupl...   \n",
       "4     https://visualcontagions.unige.ch/explore/dupl...   \n",
       "...                                                 ...   \n",
       "7740  https://visualcontagions.unige.ch/explore/dupl...   \n",
       "7741  https://visualcontagions.unige.ch/explore/dupl...   \n",
       "7742  https://visualcontagions.unige.ch/explore/dupl...   \n",
       "7743  https://visualcontagions.unige.ch/explore/dupl...   \n",
       "7744  https://visualcontagions.unige.ch/explore/dupl...   \n",
       "\n",
       "                                                  image  \\\n",
       "0     https://iiif.unige.ch/iiif/2/fedora_ug8092415;...   \n",
       "1     https://iiif.unige.ch/iiif/2/fedora_ug8030160;...   \n",
       "2     https://iiif.unige.ch/iiif/2/fedora_ug8029289;...   \n",
       "3     https://iiif.unige.ch/iiif/2/fedora_ug8059014;...   \n",
       "4     https://iiif.unige.ch/iiif/2/fedora_ug8084481;...   \n",
       "...                                                 ...   \n",
       "7740  https://gallica.bnf.fr/iiif/ark:/12148/bpt6k94...   \n",
       "7741  https://gallica.bnf.fr/iiif/ark:/12148/bpt6k94...   \n",
       "7742  https://images.iiif.slub-dresden.de/iiif/2/dat...   \n",
       "7743  https://images.iiif.slub-dresden.de/iiif/2/dat...   \n",
       "7744  https://images.iiif.slub-dresden.de/iiif/2/dat...   \n",
       "\n",
       "                                             issueLabel countryLabel  \\\n",
       "0                                              Novy LEF       Russia   \n",
       "1                                              Novy LEF       Russia   \n",
       "2                                              Novy LEF       Russia   \n",
       "3                                              Novy LEF       Russia   \n",
       "4                                              Novy LEF       Russia   \n",
       "...                                                 ...          ...   \n",
       "7740  Le Moniteur du dessin, de l'architecture & des...       France   \n",
       "7741  Le Moniteur du dessin, de l'architecture & des...       France   \n",
       "7742                                    Der Querschnitt      Germany   \n",
       "7743                                    Der Querschnitt      Germany   \n",
       "7744                                    Der Querschnitt      Germany   \n",
       "\n",
       "                labelType   cityLabel                begin  \n",
       "0     Avant-garde Journal      Moscow  1927-01-01T00:00:00  \n",
       "1     Avant-garde Journal      Moscow  1928-01-01T00:00:00  \n",
       "2     Avant-garde Journal      Moscow  1927-01-01T00:00:00  \n",
       "3     Avant-garde Journal      Moscow  1927-01-01T00:00:00  \n",
       "4     Avant-garde Journal      Moscow  1927-01-01T00:00:00  \n",
       "...                   ...         ...                  ...  \n",
       "7740          Art Journal       Paris  1930-04-01T00:00:00  \n",
       "7741          Art Journal       Paris  1930-04-01T00:00:00  \n",
       "7742  Avant-garde Journal  Düsseldorf  1935-04-01T00:00:00  \n",
       "7743  Avant-garde Journal  Düsseldorf  1935-03-01T00:00:00  \n",
       "7744  Avant-garde Journal  Düsseldorf  1935-02-01T00:00:00  \n",
       "\n",
       "[17715 rows x 8 columns]"
      ]
     },
     "execution_count": 79,
     "metadata": {},
     "output_type": "execute_result"
    }
   ],
   "source": [
    "df1"
   ]
  },
  {
   "cell_type": "markdown",
   "id": "a7d805f0-9461-468c-8cfe-c06bbe095a21",
   "metadata": {},
   "source": [
    "### Remove clusters with primitive images with the same dates"
   ]
  },
  {
   "cell_type": "markdown",
   "id": "f056b0ed-a429-43dc-b820-fa0d3ca983d1",
   "metadata": {},
   "source": [
    "<font size=\"4\">Some clusters do have primitive images with the same date of publications, opening the problem of uncertainty of circulation, as we are not able to define the primitive image at the origine of a circulation chain. \n",
    "A solution to the problem could be to use a randomizer in our analysis, choosing randomly between one or the other. \n",
    "However at this stage of our analysis, we prefer to ignore such clusters and proceed to only focus on the one we are certain about where the circulation stem from.</font>"
   ]
  },
  {
   "cell_type": "markdown",
   "id": "2a77133a-dd7d-4971-803e-e42e2ae7b357",
   "metadata": {},
   "source": [
    "<font size=\"4\">To do so, we first identify the clusters which have more than one earliest date, and we remove them</font>"
   ]
  },
  {
   "cell_type": "code",
   "execution_count": 80,
   "id": "9dc034ea-8348-4499-9504-6ad54150b7cb",
   "metadata": {},
   "outputs": [
    {
     "data": {
      "text/plain": [
       "4814"
      ]
     },
     "execution_count": 80,
     "metadata": {},
     "output_type": "execute_result"
    }
   ],
   "source": [
    "df1['cluster'].nunique()"
   ]
  },
  {
   "cell_type": "code",
   "execution_count": 81,
   "id": "c85ae552-d7ef-4b52-b721-9f2548f1f47d",
   "metadata": {},
   "outputs": [],
   "source": [
    "df1[df1.groupby('identifier')['begin'].transform('first').eq(df1['begin'])]\n",
    "df1_count = df1.groupby(['identifier','begin']).size().reset_index(name='count')"
   ]
  },
  {
   "cell_type": "code",
   "execution_count": 82,
   "id": "a54d7355-3558-4777-8846-00600f8b40ca",
   "metadata": {},
   "outputs": [
    {
     "data": {
      "text/html": [
       "<div>\n",
       "<style scoped>\n",
       "    .dataframe tbody tr th:only-of-type {\n",
       "        vertical-align: middle;\n",
       "    }\n",
       "\n",
       "    .dataframe tbody tr th {\n",
       "        vertical-align: top;\n",
       "    }\n",
       "\n",
       "    .dataframe thead th {\n",
       "        text-align: right;\n",
       "    }\n",
       "</style>\n",
       "<table border=\"1\" class=\"dataframe\">\n",
       "  <thead>\n",
       "    <tr style=\"text-align: right;\">\n",
       "      <th></th>\n",
       "      <th>identifier</th>\n",
       "      <th>begin</th>\n",
       "      <th>count</th>\n",
       "    </tr>\n",
       "  </thead>\n",
       "  <tbody>\n",
       "    <tr>\n",
       "      <th>0</th>\n",
       "      <td>https://visualcontagions.unige.ch/explore/anal...</td>\n",
       "      <td>1929-01-01T00:00:00</td>\n",
       "      <td>2</td>\n",
       "    </tr>\n",
       "    <tr>\n",
       "      <th>1</th>\n",
       "      <td>https://visualcontagions.unige.ch/explore/anal...</td>\n",
       "      <td>1930-05-01T00:00:00</td>\n",
       "      <td>1</td>\n",
       "    </tr>\n",
       "    <tr>\n",
       "      <th>2</th>\n",
       "      <td>https://visualcontagions.unige.ch/explore/anal...</td>\n",
       "      <td>1932-01-01T00:00:00</td>\n",
       "      <td>1</td>\n",
       "    </tr>\n",
       "    <tr>\n",
       "      <th>3</th>\n",
       "      <td>https://visualcontagions.unige.ch/explore/anal...</td>\n",
       "      <td>1933-01-01T00:00:00</td>\n",
       "      <td>1</td>\n",
       "    </tr>\n",
       "    <tr>\n",
       "      <th>4</th>\n",
       "      <td>https://visualcontagions.unige.ch/explore/anal...</td>\n",
       "      <td>1925-07-15T00:00:00</td>\n",
       "      <td>1</td>\n",
       "    </tr>\n",
       "    <tr>\n",
       "      <th>...</th>\n",
       "      <td>...</td>\n",
       "      <td>...</td>\n",
       "      <td>...</td>\n",
       "    </tr>\n",
       "    <tr>\n",
       "      <th>12779</th>\n",
       "      <td>https://visualcontagions.unige.ch/explore/dupl...</td>\n",
       "      <td>1976-01-01T00:00:00</td>\n",
       "      <td>3</td>\n",
       "    </tr>\n",
       "    <tr>\n",
       "      <th>12780</th>\n",
       "      <td>https://visualcontagions.unige.ch/explore/dupl...</td>\n",
       "      <td>1977-01-01T00:00:00</td>\n",
       "      <td>1</td>\n",
       "    </tr>\n",
       "    <tr>\n",
       "      <th>12781</th>\n",
       "      <td>https://visualcontagions.unige.ch/explore/dupl...</td>\n",
       "      <td>1987-01-01T00:00:00</td>\n",
       "      <td>3</td>\n",
       "    </tr>\n",
       "    <tr>\n",
       "      <th>12782</th>\n",
       "      <td>https://visualcontagions.unige.ch/explore/dupl...</td>\n",
       "      <td>1999-01-01T00:00:00</td>\n",
       "      <td>1</td>\n",
       "    </tr>\n",
       "    <tr>\n",
       "      <th>12783</th>\n",
       "      <td>https://visualcontagions.unige.ch/explore/dupl...</td>\n",
       "      <td>2000-01-01T00:00:00</td>\n",
       "      <td>1</td>\n",
       "    </tr>\n",
       "  </tbody>\n",
       "</table>\n",
       "<p>12784 rows × 3 columns</p>\n",
       "</div>"
      ],
      "text/plain": [
       "                                              identifier                begin  \\\n",
       "0      https://visualcontagions.unige.ch/explore/anal...  1929-01-01T00:00:00   \n",
       "1      https://visualcontagions.unige.ch/explore/anal...  1930-05-01T00:00:00   \n",
       "2      https://visualcontagions.unige.ch/explore/anal...  1932-01-01T00:00:00   \n",
       "3      https://visualcontagions.unige.ch/explore/anal...  1933-01-01T00:00:00   \n",
       "4      https://visualcontagions.unige.ch/explore/anal...  1925-07-15T00:00:00   \n",
       "...                                                  ...                  ...   \n",
       "12779  https://visualcontagions.unige.ch/explore/dupl...  1976-01-01T00:00:00   \n",
       "12780  https://visualcontagions.unige.ch/explore/dupl...  1977-01-01T00:00:00   \n",
       "12781  https://visualcontagions.unige.ch/explore/dupl...  1987-01-01T00:00:00   \n",
       "12782  https://visualcontagions.unige.ch/explore/dupl...  1999-01-01T00:00:00   \n",
       "12783  https://visualcontagions.unige.ch/explore/dupl...  2000-01-01T00:00:00   \n",
       "\n",
       "       count  \n",
       "0          2  \n",
       "1          1  \n",
       "2          1  \n",
       "3          1  \n",
       "4          1  \n",
       "...      ...  \n",
       "12779      3  \n",
       "12780      1  \n",
       "12781      3  \n",
       "12782      1  \n",
       "12783      1  \n",
       "\n",
       "[12784 rows x 3 columns]"
      ]
     },
     "execution_count": 82,
     "metadata": {},
     "output_type": "execute_result"
    }
   ],
   "source": [
    "df1_count"
   ]
  },
  {
   "cell_type": "code",
   "execution_count": 83,
   "id": "e98273c3-6d79-4733-bf72-782c5c66df9c",
   "metadata": {},
   "outputs": [],
   "source": [
    "df1_count.sort_values(by=['identifier', 'begin'], ascending=True, inplace=True)\n",
    "df1_count = df1_count.drop_duplicates(subset='identifier', keep=\"first\")\n",
    "df1_count.drop(['begin'], axis=1, inplace=True)\n",
    "df1_count.to_csv('csv/internal/df1_count.csv', index=False)\n",
    "df1_count.drop(df1_count.loc[df1_count['count']!=1].index, inplace=True)"
   ]
  },
  {
   "cell_type": "code",
   "execution_count": 84,
   "id": "68ab33e7-c7d5-47ac-b88b-94f7168b9512",
   "metadata": {},
   "outputs": [],
   "source": [
    "df2 = pd.merge(df1_count, df1, on=[\"identifier\"], how=\"outer\", indicator=True)\n",
    "df2 = df2.loc[df2[\"_merge\"] == \"both\"].drop(\"_merge\", axis=1)\n",
    "df2.drop(['count'], axis=1, inplace=True)"
   ]
  },
  {
   "cell_type": "code",
   "execution_count": 85,
   "id": "2765d680-c266-4630-a8e0-85850e275152",
   "metadata": {},
   "outputs": [
    {
     "data": {
      "text/plain": [
       "3377"
      ]
     },
     "execution_count": 85,
     "metadata": {},
     "output_type": "execute_result"
    }
   ],
   "source": [
    "df2['cluster'].nunique()"
   ]
  },
  {
   "cell_type": "code",
   "execution_count": 86,
   "id": "5f825d76-fb9b-4aba-99d1-619d3f083a81",
   "metadata": {},
   "outputs": [],
   "source": [
    "df2.to_csv('csv/internal/internal_df2.csv', index=False)"
   ]
  },
  {
   "cell_type": "markdown",
   "id": "80e97ebc-d74f-4563-bc5b-b3d1f57f8221",
   "metadata": {},
   "source": [
    "### Escape the loop"
   ]
  },
  {
   "cell_type": "markdown",
   "id": "6d4a5672-1e50-444c-8b88-193a70bd7c16",
   "metadata": {},
   "source": [
    "<font size=\"4\">In order to avoid computing circulation within the same journal, we eliminate from our analysis the clusters which do comprise only a **single journal** (internal journal circulation).</font>"
   ]
  },
  {
   "cell_type": "code",
   "execution_count": null,
   "id": "9c40e9fe-2bb0-49ea-9be5-4d7a1ea82482",
   "metadata": {},
   "outputs": [],
   "source": [
    "melted_new = df2.groupby('identifier').issueLabel.nunique() > 1\n",
    "b = melted_new.index[melted_new == True]\n",
    "melted_only_unique = df2[df2['identifier'].isin(b)]"
   ]
  },
  {
   "cell_type": "code",
   "execution_count": null,
   "id": "d74509f2-a53a-4ab3-a06a-b992fdf8fda5",
   "metadata": {},
   "outputs": [],
   "source": [
    "melted_only_unique[\"cluster\"].nunique() "
   ]
  },
  {
   "cell_type": "code",
   "execution_count": null,
   "id": "209c3a26-5342-4d60-ad14-4a39e206910d",
   "metadata": {},
   "outputs": [],
   "source": [
    "melted_only_unique"
   ]
  },
  {
   "cell_type": "markdown",
   "id": "ede653bc-ce5c-4b2b-9e58-372dced184a5",
   "metadata": {},
   "source": [
    "### Add time gaps"
   ]
  },
  {
   "cell_type": "code",
   "execution_count": null,
   "id": "1b14dd2b-4e2b-40ee-9b6d-56b04c1e892e",
   "metadata": {},
   "outputs": [],
   "source": [
    "melted_only_unique['begin'] = pd.to_datetime(melted_only_unique['begin'])\n",
    "melted_only_unique.sort_values(by=['identifier', 'begin'], ascending=True, inplace=True)"
   ]
  },
  {
   "cell_type": "code",
   "execution_count": null,
   "id": "44b2097c-5a7d-4a33-89c6-6e5f22611d17",
   "metadata": {},
   "outputs": [],
   "source": [
    "s = pd.to_datetime(melted_only_unique['begin']).dt.date\n",
    "melted_only_unique['diff'] = (s - s.groupby(melted_only_unique.identifier).transform('min')).dt.days"
   ]
  },
  {
   "cell_type": "code",
   "execution_count": null,
   "id": "2b7fb38e-ee3b-4900-8701-1799e64f35e6",
   "metadata": {},
   "outputs": [],
   "source": [
    "melted_only_unique"
   ]
  },
  {
   "cell_type": "code",
   "execution_count": null,
   "id": "298d3cdc-a39f-435e-9a0f-7159f1db66cc",
   "metadata": {},
   "outputs": [],
   "source": [
    "melted_only_unique.to_csv('csv/internal/melted_only_unique.csv', index=False)"
   ]
  },
  {
   "cell_type": "markdown",
   "id": "37333281-f7b8-4047-9d08-1655b5ff0f20",
   "metadata": {
    "tags": []
   },
   "source": [
    "## Analysis of Internal Circulation of AG journals"
   ]
  },
  {
   "cell_type": "markdown",
   "id": "cf196aef-b559-41f1-905c-5615cac680e3",
   "metadata": {},
   "source": [
    "### Only cluster with AG journals"
   ]
  },
  {
   "cell_type": "markdown",
   "id": "05522b7f-9b24-4e35-b3f4-43af59a5f21d",
   "metadata": {},
   "source": [
    "<font size=\"4\">Let's focus on AG journals only. In here we check the chains of circulations which exist only within the AG community.</font>"
   ]
  },
  {
   "cell_type": "markdown",
   "id": "4ef3c269-cd6b-4558-88cd-5b44ccd7c1ef",
   "metadata": {},
   "source": [
    "<br>"
   ]
  },
  {
   "cell_type": "markdown",
   "id": "18738b04-ba04-4382-afef-67608b740b33",
   "metadata": {},
   "source": [
    "<font size=\"4\">To do so, we find the clusters associated with a unique community, therefore the clusters which have only a single **Journal Type** associated with them</font>"
   ]
  },
  {
   "cell_type": "code",
   "execution_count": null,
   "id": "9b14a014-ea17-468d-ae76-45c50eb975e5",
   "metadata": {},
   "outputs": [],
   "source": [
    "uniType = melted_only_unique.groupby('identifier').labelType.nunique().eq(1)\n",
    "c = uniType.index[uniType == True]\n",
    "melted_type = melted_only_unique[melted_only_unique['identifier'].isin(c)]"
   ]
  },
  {
   "cell_type": "markdown",
   "id": "b2811511-0915-4b84-91bd-97ecb2e73430",
   "metadata": {
    "tags": []
   },
   "source": [
    "<font size=\"4\">We filter for only AG journals</font>"
   ]
  },
  {
   "cell_type": "code",
   "execution_count": null,
   "id": "78700fe8-63c2-4b02-a8e0-1fa368947997",
   "metadata": {},
   "outputs": [],
   "source": [
    "melted_type_ag = melted_type.query(\"labelType == 'Avant-garde Journal'\")"
   ]
  },
  {
   "cell_type": "code",
   "execution_count": null,
   "id": "d7d5b532-d2c6-461f-aab8-b2b82dfb5cac",
   "metadata": {},
   "outputs": [],
   "source": [
    "melted_type_ag.to_csv('csv/internal/melted_type_ag.csv', index=False)"
   ]
  },
  {
   "cell_type": "code",
   "execution_count": null,
   "id": "76f4c93b-f323-4e00-8562-13fd9071813f",
   "metadata": {},
   "outputs": [],
   "source": [
    "melted_type_ag['identifier'].nunique()"
   ]
  },
  {
   "cell_type": "code",
   "execution_count": null,
   "id": "4374a436-311f-457c-aff9-e9d2a556a10a",
   "metadata": {},
   "outputs": [],
   "source": [
    "melted_type_count = melted_type_ag\n",
    "melted_type_count['count_images'] = melted_type_count.groupby(['identifier'])['cluster'].transform('count')"
   ]
  },
  {
   "cell_type": "markdown",
   "id": "5bafc65d-280e-416d-87cf-715b26e2a8f3",
   "metadata": {},
   "source": [
    "<font size=\"4\">We now have the list of images from cluster containing only AG journals</font>"
   ]
  },
  {
   "cell_type": "markdown",
   "id": "c324ceed-7985-48e8-ab76-2afecec92ec6",
   "metadata": {},
   "source": [
    "### Selecting the earliest images"
   ]
  },
  {
   "cell_type": "markdown",
   "id": "58fc8847-5cec-493e-bbc5-b27604ef62ad",
   "metadata": {},
   "source": [
    "<font size=\"4\">For each cluster we select only the image that start the chain of circulation (the earliest published image per cluster)</font>"
   ]
  },
  {
   "cell_type": "code",
   "execution_count": null,
   "id": "6ed65caf-5b57-476b-87e4-4bb8882b6e3a",
   "metadata": {},
   "outputs": [],
   "source": [
    "internal_ag = melted_type_count.groupby('identifier', group_keys=False).apply(lambda g: g[g['begin'].eq(g['begin'].min())].sample(n=1))"
   ]
  },
  {
   "cell_type": "code",
   "execution_count": null,
   "id": "d844e642-f770-4e2f-a915-5f367718e75d",
   "metadata": {},
   "outputs": [],
   "source": [
    "internal_ag['journal_count'] = internal_ag.groupby(['issueLabel'])['identifier'].transform('count')\n",
    "internal_ag.sort_values(by=['journal_count'], ascending=False, inplace=True)"
   ]
  },
  {
   "cell_type": "code",
   "execution_count": null,
   "id": "1c773323-703f-4e72-8501-f219127108ae",
   "metadata": {},
   "outputs": [],
   "source": [
    "internal_ag"
   ]
  },
  {
   "cell_type": "code",
   "execution_count": null,
   "id": "f660d0d1-ea32-4b77-84cf-0562f8c42bcd",
   "metadata": {},
   "outputs": [],
   "source": [
    "internal_ag = internal_ag.drop_duplicates(subset='image', keep=\"first\")\n",
    "internal_ag.to_csv('csv/internal/internal_ag.csv', index=False)"
   ]
  },
  {
   "cell_type": "code",
   "execution_count": null,
   "id": "5228ddd7-f518-4c9e-897e-7f5fcddfb608",
   "metadata": {},
   "outputs": [],
   "source": [
    "internal_ag.rename({ 'countryLabel': 'Country'}, axis=1, inplace=True)"
   ]
  },
  {
   "cell_type": "code",
   "execution_count": null,
   "id": "08ae14c3-069f-4d49-b3a8-8a1aba18c405",
   "metadata": {},
   "outputs": [],
   "source": [
    "first_internal_ag = internal_ag[internal_ag['journal_count'] >= 5]"
   ]
  },
  {
   "cell_type": "markdown",
   "id": "d7652540-c678-404b-9e9e-9613e54db07e",
   "metadata": {
    "tags": []
   },
   "source": [
    "### Impact"
   ]
  },
  {
   "cell_type": "markdown",
   "id": "82efe785-2dbe-4909-b2f4-852406572711",
   "metadata": {},
   "source": [
    "<font size=\"4\">how many chains of circulation a journal starts</font>"
   ]
  },
  {
   "cell_type": "code",
   "execution_count": null,
   "id": "088d39f1-63e2-4360-929d-f03471c84912",
   "metadata": {
    "tags": []
   },
   "outputs": [],
   "source": [
    "fig = px.histogram(first_internal_ag,  x='issueLabel', color=\"Country\",\n",
    "            title=\"Which journal initiate more chains of circulation in the AG community\",\n",
    "                  labels={\n",
    "                     \"issueLabel\": \"impact of a AG journal\"},\n",
    "                    color_discrete_map= {\n",
    "                    \"France\": \"#fa4d56\",\n",
    "                    \"Germany\": \"#1192e8\",\n",
    "                    \"Czech Republic\": \"#6929c4\",\n",
    "                    \"Netherlands\": \"#FF4F00\",\n",
    "                    \"Poland\": \"#005d5d\",\n",
    "                    \"Denmark\" : \"#198038\"   })\n",
    "fig.update_traces(textfont_size=12, textangle=0, textposition=\"outside\")\n",
    "fig.show()\n",
    "fig.write_image(\"viz/internal/internal_only_all.png\",  scale=3, width=2000) \n",
    "fig.write_html('viz/internal/internal_only_all.html', auto_open=True)"
   ]
  },
  {
   "cell_type": "markdown",
   "id": "ae1c0abf-29ac-4e6a-a996-5bdbfbe7000b",
   "metadata": {},
   "source": [
    "### Time Dynamics"
   ]
  },
  {
   "cell_type": "markdown",
   "id": "60d2d91f-b7e6-42d8-bcdd-c596fa1d712b",
   "metadata": {},
   "source": [
    "<font size=\"4\">Let's filter for only AG joornals. The data should be analysed in temporal slices, in order to understand the dynamicity of the circulation. We will look particular at this periods:</font>\n",
    "\n",
    "- 1890-1905\n",
    "- 1905-1914\n",
    "- 1914-1918\n",
    "- 1918-1930\n",
    "- 1930-1940\n",
    "\n",
    "</font>"
   ]
  },
  {
   "cell_type": "code",
   "execution_count": null,
   "id": "acac6b67-7652-49c7-bf37-8d4a118a84f1",
   "metadata": {},
   "outputs": [],
   "source": [
    "internal_ag['year'] = pd.DatetimeIndex(internal_ag['begin']).year"
   ]
  },
  {
   "cell_type": "code",
   "execution_count": null,
   "id": "50db8c93-60a2-4828-b342-d3a1c7f2adb6",
   "metadata": {
    "tags": []
   },
   "outputs": [],
   "source": [
    "internal1905 = (internal_ag['year'] >= 1890) & (internal_ag['year'] <= 1905)\n",
    "internal1910 = (internal_ag['year'] >= 1905) & (internal_ag['year'] <= 1910)\n",
    "internal1914 = (internal_ag['year'] > 1910) & (internal_ag['year'] <= 1914)\n",
    "internal1919 = (internal_ag['year'] >= 1914) & (internal_ag['year'] <= 1919)\n",
    "internal1926 = (internal_ag['year'] >= 1920) & (internal_ag['year'] <= 1926)\n",
    "internal1932 = (internal_ag['year'] >= 1927) & (internal_ag['year'] <= 1932)\n",
    "internal1945 = (internal_ag['year'] > 1932) & (internal_ag['year'] <= 1945)\n",
    "\n",
    "internal1914x = (internal_ag['year'] >= 1905) & (internal_ag['year'] <= 1914)\n"
   ]
  },
  {
   "cell_type": "code",
   "execution_count": null,
   "id": "bf771e80-a25c-403b-b661-67dce55de0fd",
   "metadata": {},
   "outputs": [],
   "source": [
    "i_ag1905 = internal_ag.loc[internal1905]\n",
    "i_ag1910 = internal_ag.loc[internal1910]\n",
    "i_ag1914 = internal_ag.loc[internal1914]\n",
    "i_ag1919 = internal_ag.loc[internal1919]\n",
    "i_ag1926 = internal_ag.loc[internal1926]\n",
    "i_ag1932 = internal_ag.loc[internal1932]\n",
    "i_ag1945 = internal_ag.loc[internal1945]\n",
    "\n",
    "i_ag14x = internal_ag.loc[internal1914x]\n"
   ]
  },
  {
   "cell_type": "markdown",
   "id": "f2299a12-3fa8-4753-832f-07fd1342804a",
   "metadata": {},
   "source": [
    "#### 1905 - 1910"
   ]
  },
  {
   "cell_type": "code",
   "execution_count": null,
   "id": "5295d654-b49b-481a-ba9b-20e9a90f7c70",
   "metadata": {},
   "outputs": [],
   "source": [
    "i_ag1910['journal_count'] = i_ag1910.groupby(['issueLabel'])['identifier'].transform('count')\n",
    "i_ag1910.sort_values(by=['journal_count'], ascending=False, inplace=True)"
   ]
  },
  {
   "cell_type": "code",
   "execution_count": null,
   "id": "93cc3862-c7b6-4f34-9aff-3428ed48bb34",
   "metadata": {},
   "outputs": [],
   "source": [
    "fig = px.histogram(i_ag1910, x='issueLabel', color=\"Country\",\n",
    "            title=\"Chains of circulation from AG journals with other AG revues : 1905 - 1910\", \n",
    "            labels={\n",
    "                     \"Number of Images\": \"Number of primitive images\",\n",
    "                     \"issueLabel\": \"Journal name\"},\n",
    "                  color_discrete_map= {\n",
    "                    \"France\": \"#fa4d56\",\n",
    "                    \"Germany\": \"#1192e8\",\n",
    "                    \"Czech Republic\": \"#6929c4\",\n",
    "                    \"Netherlands\": \"#FF4F00\",\n",
    "                    \"Poland\": \"#005d5d\",\n",
    "                    \"Denmark\" : \"#198038\"   })\n",
    "fig.update_traces(textfont_size=12, textangle=0, textposition=\"outside\", cliponaxis=False)\n",
    "fig.show()\n",
    "fig.write_image(\"viz/internal/internal_1905_1910.png\") \n",
    "fig.write_html('viz/internal/internal_1905_1910.html', auto_open=False)"
   ]
  },
  {
   "cell_type": "markdown",
   "id": "718537e7-7a0d-430e-88f5-dcd9d2c597e7",
   "metadata": {},
   "source": [
    "#### 1910 - 1914"
   ]
  },
  {
   "cell_type": "code",
   "execution_count": null,
   "id": "08a8de8d-6507-47f4-a76d-c64c8e07ef10",
   "metadata": {},
   "outputs": [],
   "source": [
    "i_ag1914['journal_count'] = i_ag1914.groupby(['issueLabel'])['identifier'].transform('count')\n",
    "i_ag1914.sort_values(by=['journal_count'], ascending=False, inplace=True)"
   ]
  },
  {
   "cell_type": "code",
   "execution_count": null,
   "id": "bcaef472-9b8e-4b5b-aced-978ecde8e7bd",
   "metadata": {},
   "outputs": [],
   "source": [
    "fig = px.histogram(i_ag1914, x='issueLabel', color=\"Country\",\n",
    "            title=\"Chains of circulation from AG journals with other AG revues : 1910 - 1914\", \n",
    "            labels={\n",
    "                     \"journal_count\": \"Number of primitive images\",\n",
    "                     \"issueLabel\": \"Journal name\"},\n",
    "                  color_discrete_map= {\n",
    "                    \"France\": \"#fa4d56\",\n",
    "                    \"Germany\": \"#1192e8\",\n",
    "                    \"Czech Republic\": \"#6929c4\",\n",
    "                    \"Netherlands\": \"#FF4F00\",\n",
    "                    \"Poland\": \"#005d5d\",\n",
    "                    \"Denmark\" : \"#198038\"  })\n",
    "fig.update_traces(textfont_size=12, textangle=0, textposition=\"outside\", cliponaxis=False)\n",
    "fig.show()\n",
    "fig.write_image(\"viz/internal/internal_1910_1914.png\") \n",
    "fig.write_html('viz/internal/internal_1910_1914.html', auto_open=False)"
   ]
  },
  {
   "cell_type": "markdown",
   "id": "b5236c21-794c-4814-9312-aaa23a397108",
   "metadata": {},
   "source": [
    "#### 1914 - 1919"
   ]
  },
  {
   "cell_type": "code",
   "execution_count": null,
   "id": "f0ae1612-da8c-41c8-94c6-ff634538284a",
   "metadata": {},
   "outputs": [],
   "source": [
    "i_ag1919['journal_count'] = i_ag1919.groupby(['issueLabel'])['identifier'].transform('count')\n",
    "i_ag1919.sort_values(by=['journal_count'], ascending=False, inplace=True)"
   ]
  },
  {
   "cell_type": "code",
   "execution_count": null,
   "id": "b984d60e-2be7-412f-b2ef-ab7c5135e10f",
   "metadata": {},
   "outputs": [],
   "source": [
    "fig = px.histogram(i_ag1919, x='issueLabel', color=\"Country\",\n",
    "            title=\"Chains of circulation from AG journals with other AG revues : 1914 - 1919\", \n",
    "            labels={\n",
    "                     \"journal_count\": \"Number of primitive images\",\n",
    "                     \"issueLabel\": \"Journal name\"},\n",
    "                  color_discrete_map= {\n",
    "                    \"France\": \"#fa4d56\",\n",
    "                    \"Germany\": \"#1192e8\",\n",
    "                    \"Czech Republic\": \"#6929c4\",\n",
    "                    \"Netherlands\": \"#FF4F00\",\n",
    "                    \"Poland\": \"#005d5d\",\n",
    "                    \"Denmark\" : \"#198038\"  })\n",
    "fig.update_traces(textfont_size=12, textangle=0, textposition=\"outside\", cliponaxis=False)\n",
    "fig.show()\n",
    "fig.write_image(\"viz/internal/internal_1914_1919.png\") \n",
    "fig.write_html('viz/internal/internal_1914_1919.html', auto_open=False)"
   ]
  },
  {
   "cell_type": "markdown",
   "id": "4a9b2654-9940-4fb2-afa1-be9296dd3945",
   "metadata": {},
   "source": [
    "#### 1920 - 1926"
   ]
  },
  {
   "cell_type": "code",
   "execution_count": null,
   "id": "406bbb44-564c-4054-997e-2cb95cc21799",
   "metadata": {},
   "outputs": [],
   "source": [
    "i_ag1926['journal_count'] = i_ag1926.groupby(['issueLabel'])['identifier'].transform('count')\n",
    "i_ag1926.sort_values(by=['journal_count'], ascending=False, inplace=True)"
   ]
  },
  {
   "cell_type": "code",
   "execution_count": null,
   "id": "50c22235-13c1-4dee-a341-ae338acda97d",
   "metadata": {},
   "outputs": [],
   "source": [
    "fig = px.histogram(i_ag1926, x='issueLabel', color=\"Country\",\n",
    "            title=\"Chains of circulation from AG journals with other AG revues : 1920 - 1926\", \n",
    "            labels={\n",
    "                     \"journal_count\": \"Number of primitive images\",\n",
    "                     \"issueLabel\": \"Journal name\"},\n",
    "                  color_discrete_map= {\n",
    "                    \"France\": \"#fa4d56\",\n",
    "                    \"Germany\": \"#1192e8\",\n",
    "                    \"Czech Republic\": \"#6929c4\",\n",
    "                    \"Netherlands\": \"#FF4F00\",\n",
    "                    \"Poland\": \"#005d5d\",\n",
    "                    \"Denmark\" : \"#198038\"   })\n",
    "fig.update_traces(textfont_size=12, textangle=0, textposition=\"outside\", cliponaxis=False)\n",
    "fig.write_image(\"viz/internal/internal_1920_1926.png\") \n",
    "fig.show()\n",
    "fig.write_html('viz/internal/internal_1920_1926.html', auto_open=False)"
   ]
  },
  {
   "cell_type": "markdown",
   "id": "c2a997d1-4678-46b1-b0c8-b87644f0984d",
   "metadata": {},
   "source": [
    "#### 1927 - 1932"
   ]
  },
  {
   "cell_type": "code",
   "execution_count": null,
   "id": "c2cc9959-af16-4329-a49e-8a63eb3ca46c",
   "metadata": {},
   "outputs": [],
   "source": [
    "i_ag1932['journal_count'] = i_ag1932.groupby(['issueLabel'])['identifier'].transform('count')\n",
    "i_ag1932.sort_values(by=['journal_count'], ascending=False, inplace=True)"
   ]
  },
  {
   "cell_type": "code",
   "execution_count": null,
   "id": "1fd2df26-caf3-4819-ae91-51b2789f8626",
   "metadata": {},
   "outputs": [],
   "source": [
    "fig = px.histogram(i_ag1932, x='issueLabel', color=\"Country\",\n",
    "            title=\"Chains of circulation from AG journals with other AG revues : 1927 - 1932\", \n",
    "            labels={\n",
    "                     \"journal_count\": \"Number of primitive images\",\n",
    "                     \"issueLabel\": \"Journal name\"},\n",
    "                  color_discrete_map= {\n",
    "                    \"France\": \"#fa4d56\",\n",
    "                    \"Germany\": \"#1192e8\",\n",
    "                    \"Czech Republic\": \"#6929c4\",\n",
    "                    \"Netherlands\": \"#FF4F00\",\n",
    "                    \"Poland\": \"#005d5d\",\n",
    "                    \"Denmark\" : \"#198038\"  })\n",
    "fig.update_traces(textfont_size=12, textangle=0, textposition=\"outside\", cliponaxis=False)\n",
    "fig.show()\n",
    "fig.write_image(\"viz/internal/internal_1927_1932.png\") \n",
    "fig.write_html('viz/internal/internal_1927_1932.html', auto_open=False)"
   ]
  },
  {
   "cell_type": "markdown",
   "id": "16a935f5-3892-4419-92de-1b2b1362501d",
   "metadata": {
    "tags": []
   },
   "source": [
    "#### 1932 - 1945"
   ]
  },
  {
   "cell_type": "code",
   "execution_count": null,
   "id": "56ac2360-0d20-4f21-aced-5585ef3f93c9",
   "metadata": {},
   "outputs": [],
   "source": [
    "i_ag1945['journal_count'] = i_ag1945.groupby(['issueLabel'])['identifier'].transform('count')\n",
    "i_ag1945.sort_values(by=['journal_count'], ascending=False, inplace=True)"
   ]
  },
  {
   "cell_type": "code",
   "execution_count": null,
   "id": "14c89fef-1510-4322-a706-7b223961a3c3",
   "metadata": {},
   "outputs": [],
   "source": [
    "fig = px.histogram(i_ag1945, x='issueLabel', color=\"Country\",\n",
    "            title=\"Chains of circulation from AG journals with other AG revues : 1932 - 1945\", \n",
    "            labels={\n",
    "                     \"journal_count\": \"Number of primitive images\",\n",
    "                     \"issueLabel\": \"Journal name\"},\n",
    "                  color_discrete_map= {\n",
    "                    \"France\": \"#fa4d56\",\n",
    "                    \"Germany\": \"#1192e8\",\n",
    "                    \"Czech Republic\": \"#6929c4\",\n",
    "                    \"Netherlands\": \"#FF4F00\",\n",
    "                    \"Poland\": \"#005d5d\",\n",
    "                    \"Denmark\" : \"#198038\"   })\n",
    "fig.update_traces(textfont_size=12, textangle=0, textposition=\"outside\", cliponaxis=False)\n",
    "fig.write_image(\"viz/internal/internal_1932_1945.png\") \n",
    "fig.show()\n",
    "fig.write_html('viz/internal/internal_1932_1945.html', auto_open=False)"
   ]
  },
  {
   "cell_type": "markdown",
   "id": "2f64373f-fb28-4429-aadd-7d91ba99b54e",
   "metadata": {},
   "source": [
    "## Primitive images"
   ]
  },
  {
   "cell_type": "code",
   "execution_count": null,
   "id": "a01dd246-acf9-49a6-a676-3592f43965f0",
   "metadata": {},
   "outputs": [],
   "source": [
    "image_vis = internal_ag.drop_duplicates(subset='image', keep=\"first\")"
   ]
  },
  {
   "cell_type": "code",
   "execution_count": null,
   "id": "0678192f-2f3b-4902-8cb7-bab97b244dcd",
   "metadata": {},
   "outputs": [],
   "source": [
    "image_vis['year'] = pd.DatetimeIndex(image_vis['begin']).year"
   ]
  },
  {
   "cell_type": "code",
   "execution_count": null,
   "id": "c205d19c-e0d1-4669-9011-546149ca73e5",
   "metadata": {},
   "outputs": [],
   "source": [
    "image_vis['image_per_year'] = image_vis.groupby(['year'])['image'].transform('count')\n",
    "image_vis.sort_values(by=['year'], ascending=True, inplace=True)"
   ]
  },
  {
   "cell_type": "code",
   "execution_count": null,
   "id": "8c62288c-8dd8-4691-bab3-4db03c01ff48",
   "metadata": {
    "tags": []
   },
   "outputs": [],
   "source": [
    "fig = px.histogram(image_vis, x='year',\n",
    "            title=\"Primitive images distribution per year\",\n",
    "                  labels={\n",
    "                     \"year\": \"Year of publication\"},\n",
    "                  )\n",
    "fig.update_traces(textfont_size=12, textangle=0, textposition=\"outside\", cliponaxis=False)\n",
    "fig.show()\n",
    "fig.write_html('viz/internal/image_per_year.html', auto_open=True)\n",
    "fig.write_image(\"viz/internal/image_per_year.png\") "
   ]
  },
  {
   "cell_type": "code",
   "execution_count": null,
   "id": "bf83addc-0ab1-431a-953e-011278a88ff3",
   "metadata": {},
   "outputs": [],
   "source": [
    "fig = px.histogram(image_vis, x='year', color=\"Country\",\n",
    "            title=\"Primitive images distribution per year\",\n",
    "                  labels={\n",
    "                     \"image_per_year\": \"Images per year\",\n",
    "                     \"year\": \"Year of publication\"},\n",
    "                  color_discrete_map= {\n",
    "                    \"France\": \"#fa4d56\",\n",
    "                    \"Germany\": \"#1192e8\",\n",
    "                    \"Czech Republic\": \"#6929c4\",\n",
    "                    \"Netherlands\": \"#FF4F00\",\n",
    "                    \"Poland\": \"#005d5d\",\n",
    "                    \"Denmark\" : \"#198038\"   })\n",
    "fig.update_traces(textfont_size=12, textangle=0, textposition=\"outside\", cliponaxis=False)\n",
    "fig.show()\n",
    "fig.write_html('viz/internal/image_per_year_country.html', auto_open=True)\n",
    "fig.write_image(\"viz/internal/image_per_year_country.png\")"
   ]
  },
  {
   "cell_type": "markdown",
   "id": "63e75fe0-61bf-40b2-9c66-2546fa68303b",
   "metadata": {},
   "source": [
    "## Analysing the chain"
   ]
  },
  {
   "cell_type": "code",
   "execution_count": null,
   "id": "6042c149-ca49-4932-83c5-74b7cb69cbaa",
   "metadata": {},
   "outputs": [],
   "source": [
    "internal_ag.head()"
   ]
  },
  {
   "cell_type": "code",
   "execution_count": null,
   "id": "5df6dc0e-ae75-4d69-8556-38b766ea3b4e",
   "metadata": {},
   "outputs": [],
   "source": [
    "internal_ag[\"primitive\"] = \"primitive\"\n",
    "internal_ag.drop(['issueLabel','cityLabel','Country','begin', 'journal_count','labelType','year','count_images','diff'], axis=1, inplace=True)"
   ]
  },
  {
   "cell_type": "code",
   "execution_count": null,
   "id": "dbd93a62-6989-4c70-9d3f-fea4238b8612",
   "metadata": {},
   "outputs": [],
   "source": [
    "products_dict = dict(zip(internal_ag.image,internal_ag.primitive))\n",
    "melted_type_ag['primitive'] = melted_type_ag['image'].map(products_dict)"
   ]
  },
  {
   "cell_type": "code",
   "execution_count": null,
   "id": "a1ffff40-7962-46ec-9cea-838e648b1a76",
   "metadata": {},
   "outputs": [],
   "source": [
    "melted_only_unique['primitive'] = melted_only_unique['primitive'].fillna('no')"
   ]
  },
  {
   "cell_type": "code",
   "execution_count": null,
   "id": "c2576014-ac18-4539-8afe-8b0c41c77123",
   "metadata": {},
   "outputs": [],
   "source": [
    "melted_only_unique.to_csv('csv/internal/df_primitives.csv', index=False)"
   ]
  },
  {
   "cell_type": "code",
   "execution_count": null,
   "id": "c494a3b6-c588-45b5-b299-bc73a6b6dd8e",
   "metadata": {},
   "outputs": [],
   "source": [
    "melted_only_unique"
   ]
  },
  {
   "cell_type": "code",
   "execution_count": null,
   "id": "541a5ebe-34ad-4609-a874-a93c182e0230",
   "metadata": {},
   "outputs": [],
   "source": [
    "melted = melted_only_unique.melt(id_vars=[\"cluster\", \"identifier\", \"image\", \"begin\", \"issueLabel\", \"labelType\", \"cityLabel\",\"countryLabel\", \"diff\"], value_name =\"start\")\n",
    "melted.sort_values(by=['identifier', 'begin'], inplace=True)"
   ]
  },
  {
   "cell_type": "code",
   "execution_count": null,
   "id": "a161988e-f1aa-4676-853e-862a83208d2c",
   "metadata": {},
   "outputs": [],
   "source": [
    "melted.head()"
   ]
  },
  {
   "cell_type": "code",
   "execution_count": null,
   "id": "cbce3c55-d54e-4601-a047-86f6ec4cabf0",
   "metadata": {},
   "outputs": [],
   "source": [
    "melted.to_csv('csv/internal/melted_primitive.csv', index=False)"
   ]
  },
  {
   "cell_type": "markdown",
   "id": "d27bec0d-2349-4578-abfd-daaf8ae1953c",
   "metadata": {},
   "source": [
    "here we re-remove the "
   ]
  },
  {
   "cell_type": "code",
   "execution_count": null,
   "id": "9cdeebeb-abc5-4d28-8ed2-5a04e5a289e5",
   "metadata": {},
   "outputs": [],
   "source": [
    "uniType = melted.groupby('identifier').start.nunique().eq(1)\n",
    "c = uniType.index[uniType == False]\n",
    "ag_cluster = melted[melted['identifier'].isin(c)]"
   ]
  },
  {
   "cell_type": "code",
   "execution_count": null,
   "id": "cadcf941-ea18-4905-99af-0ac64289d39a",
   "metadata": {},
   "outputs": [],
   "source": [
    "c"
   ]
  },
  {
   "cell_type": "code",
   "execution_count": null,
   "id": "b08ff129-c0c2-472b-8590-86d989189cc1",
   "metadata": {},
   "outputs": [],
   "source": [
    "ag_cluster.head()"
   ]
  },
  {
   "cell_type": "code",
   "execution_count": null,
   "id": "756f9bb2-e0f8-418a-a6cc-2f83a10af9f0",
   "metadata": {},
   "outputs": [],
   "source": [
    "ag_cluster.to_csv('csv/internal/ag_cluster.csv', index=False)"
   ]
  },
  {
   "cell_type": "markdown",
   "id": "83a7dcb1-076e-49cc-a682-793dde538e10",
   "metadata": {
    "tags": []
   },
   "source": [
    "## Fixing the differences in numbers"
   ]
  },
  {
   "cell_type": "markdown",
   "id": "1d1dcc08-c212-413a-bfb6-8d76e8c9c2a2",
   "metadata": {},
   "source": [
    "<font size=\"4\">Due to the use of both human-made and machine-made clusters, some images may be the same across two clusters (and two chains of circulation). Therefore, while merging the data together, some images are assigned the status of primitive, without being so (they do not start a chain of circulation). We need to remove them before proceeding in our analysis</font>"
   ]
  },
  {
   "cell_type": "code",
   "execution_count": null,
   "id": "f61219e0-6581-4c7f-b36c-4be035f40e20",
   "metadata": {},
   "outputs": [],
   "source": [
    "clusters_after = ag_cluster[\"identifier\"].tolist()\n",
    "clusters_before = internal_ag[\"identifier\"].tolist()"
   ]
  },
  {
   "cell_type": "code",
   "execution_count": null,
   "id": "18add5c6-2d1b-409b-a789-0068a9f79765",
   "metadata": {},
   "outputs": [],
   "source": [
    "list_delete = list(set(clusters_after) - set(clusters_before))\n",
    "list_delete"
   ]
  },
  {
   "cell_type": "code",
   "execution_count": null,
   "id": "1fea53b9-3eec-4402-abb8-bd676529cc3b",
   "metadata": {},
   "outputs": [],
   "source": [
    "#list_delete.to_csv('csv/internal/list_delete.csv', index=False)\n",
    "with open(\"list_delete.txt\", \"w\") as output:\n",
    "    output.write(str(list_delete))"
   ]
  },
  {
   "cell_type": "code",
   "execution_count": null,
   "id": "c1800cc7-b106-4c52-944b-eefb9856eefc",
   "metadata": {},
   "outputs": [],
   "source": [
    "ag_cluster.loc[ag_cluster['identifier'].isin(list_delete), 'start'] = 'no'\n",
    "ag_cluster.to_csv('csv/external/ag_cluster.csv', index=False)"
   ]
  },
  {
   "cell_type": "code",
   "execution_count": null,
   "id": "13a8cd95-aec7-4237-9706-79e14b4474ea",
   "metadata": {},
   "outputs": [],
   "source": [
    "ag_uni = ag_cluster.groupby('identifier').start.nunique().eq(1)\n",
    "c = ag_uni.index[ag_uni == False]\n",
    "ag_clean = ag_cluster[ag_cluster['identifier'].isin(c)]\n",
    "ag_clean.to_csv('csv/external/ag_clean.csv', index=False)"
   ]
  },
  {
   "cell_type": "code",
   "execution_count": null,
   "id": "1f369da2-facc-45a3-ac08-a81f4d7e6b23",
   "metadata": {},
   "outputs": [],
   "source": [
    "ag_clean.head()"
   ]
  },
  {
   "cell_type": "markdown",
   "id": "ed91b802-cd50-4f5c-9fb7-74e2eadad445",
   "metadata": {},
   "source": [
    "#### Number of images per cluster"
   ]
  },
  {
   "cell_type": "code",
   "execution_count": null,
   "id": "2a64cb87-19d4-49e8-8d36-aade97b66b92",
   "metadata": {},
   "outputs": [],
   "source": [
    "ag_clean['image_per_cluster'] = ag_clean.groupby(['identifier'])['cluster'].transform('count')\n",
    "ag_clean.sort_values(by=['image_per_cluster'], ascending=False, inplace=True)\n",
    "ag_clean.to_csv('csv/external/ag_clean.csv', index=False)"
   ]
  },
  {
   "cell_type": "markdown",
   "id": "ef9bfbec-aefe-438d-9638-40ec9ef97d03",
   "metadata": {},
   "source": [
    "<font size=\"4\">Which clusters has the longer chain of circulation?</font>"
   ]
  },
  {
   "cell_type": "code",
   "execution_count": null,
   "id": "086968e1-fe21-4c0e-8987-dacf8aae49b7",
   "metadata": {},
   "outputs": [],
   "source": [
    "ag_clean2 = ag_clean.loc[ag_clean['image_per_cluster'].idxmax()]\n",
    "print(ag_clean2[\"identifier\"])"
   ]
  }
 ],
 "metadata": {
  "kernelspec": {
   "display_name": "Python 3 (ipykernel)",
   "language": "python",
   "name": "python3"
  },
  "language_info": {
   "codemirror_mode": {
    "name": "ipython",
    "version": 3
   },
   "file_extension": ".py",
   "mimetype": "text/x-python",
   "name": "python",
   "nbconvert_exporter": "python",
   "pygments_lexer": "ipython3",
   "version": "3.10.8"
  }
 },
 "nbformat": 4,
 "nbformat_minor": 5
}
