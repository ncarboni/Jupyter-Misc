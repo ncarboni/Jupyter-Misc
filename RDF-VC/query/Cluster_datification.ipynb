{
 "cells": [
  {
   "cell_type": "markdown",
   "id": "04b88dc5-b9c7-462d-bd7f-da7f2fc924a2",
   "metadata": {},
   "source": [
    "# Cluster Datification"
   ]
  },
  {
   "cell_type": "code",
   "execution_count": 1,
   "id": "4933c8c4-9b28-47f4-800f-02909ec896fd",
   "metadata": {},
   "outputs": [],
   "source": [
    "from SPARQLWrapper import SPARQLWrapper, JSON\n",
    "import pandas as pd\n",
    "import sparql_dataframe"
   ]
  },
  {
   "cell_type": "code",
   "execution_count": 2,
   "id": "582845ee-5e0b-4338-a613-738a6d836652",
   "metadata": {},
   "outputs": [],
   "source": [
    "endpoint = \"http://localhost:3030/VisualContagions/sparql\""
   ]
  },
  {
   "cell_type": "code",
   "execution_count": 8,
   "id": "235b58f6-060e-4e66-8c6a-b0f8b043e130",
   "metadata": {},
   "outputs": [],
   "source": [
    "q =\"\"\"\n",
    "\n",
    "PREFIX crmdig: <http://www.ics.forth.gr/isl/CRMdig/>\n",
    "PREFIX frbroo: <http://iflastandards.info/ns/fr/frbr/frbroo/>\n",
    "PREFIX crm: <http://www.cidoc-crm.org/cidoc-crm/>\n",
    "PREFIX rdf: <http://www.w3.org/1999/02/22-rdf-syntax-ns#>\n",
    "PREFIX rdfs: <http://www.w3.org/2000/01/rdf-schema#>\n",
    "PREFIX aat: <http://vocab.getty.edu/aat/>\n",
    "\n",
    "SELECT ?cluster (MIN(?begin) as ?minBegin) (MAX(?begin) as ?maxBegin) (count(distinct ?image) as ?nOfImages) (count(distinct ?serial) as ?nOfRevues) (count(distinct ?country) as ?nOfCountries) (count(distinct ?city) as ?nOfCities) WHERE {\n",
    "  \n",
    "\t?cluster a crmdig:D1_Digital_Object;\n",
    "  \t\tcrm:P2_has_type <https://lod.unige.ch/vc/type/cluster> ;\n",
    "\t\tcrm:P148_has_component ?image .\n",
    "\n",
    "\t?image crm:P128i_is_carried_by ?issue .\n",
    "\t?issue crm:P108i_was_produced_by ?production .\n",
    "\t?production frbroo:R23_created_a_realization_of ?serial ;\n",
    "\t\t\t\tcrm:P7_took_place_at ?country ;\n",
    "\t\t\t\tcrm:P4_has_time-span ?time .\n",
    "  OPTIONAL {\n",
    "    \n",
    "    ?production crm:P7_took_place_at ?city .\n",
    "    ?city rdfs:label ?cityLabel .\n",
    "  }\n",
    "\n",
    "\t?time a crm:E52_Time-Span;\n",
    "\t\tcrm:P81a_end_of_the_begin ?begin .\n",
    "\n",
    "  \t?country a crm:E53_Place ;\n",
    "\t\trdfs:label ?labelCountry ;\n",
    "\t\tcrm:P2_has_type aat:300387506 .\n",
    "\n",
    "} \n",
    "GROUP BY ?cluster\n",
    "ORDER BY DESC(?nOfCountries) ?minBegin ?maxBegin ?nOfCities ?nOfRevues ?nOfImages\n",
    "LIMIT 10\n",
    "\"\"\""
   ]
  },
  {
   "cell_type": "code",
   "execution_count": null,
   "id": "9574a1b7-d06f-49bb-a75e-f57ce7b210a3",
   "metadata": {},
   "outputs": [],
   "source": [
    "df = sparql_dataframe.get(endpoint, q)"
   ]
  },
  {
   "cell_type": "code",
   "execution_count": null,
   "id": "0bb33aeb-eac8-4867-a7b5-fc58151e60a5",
   "metadata": {},
   "outputs": [],
   "source": [
    "df"
   ]
  },
  {
   "cell_type": "code",
   "execution_count": null,
   "id": "601ed894-68c3-4b41-b892-e1545a14d71d",
   "metadata": {},
   "outputs": [],
   "source": []
  }
 ],
 "metadata": {
  "kernelspec": {
   "display_name": "Python 3 (ipykernel)",
   "language": "python",
   "name": "python3"
  },
  "language_info": {
   "codemirror_mode": {
    "name": "ipython",
    "version": 3
   },
   "file_extension": ".py",
   "mimetype": "text/x-python",
   "name": "python",
   "nbconvert_exporter": "python",
   "pygments_lexer": "ipython3",
   "version": "3.11.0"
  }
 },
 "nbformat": 4,
 "nbformat_minor": 5
}
