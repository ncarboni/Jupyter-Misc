{
 "cells": [
  {
   "cell_type": "markdown",
   "id": "084930db-4ca6-4153-bb1b-f0e7d80b7b6c",
   "metadata": {},
   "source": [
    "# Community Circulations"
   ]
  },
  {
   "cell_type": "code",
   "execution_count": null,
   "id": "0b4c8e02-6ada-4a46-b1a0-8e6cac7cc8d5",
   "metadata": {},
   "outputs": [],
   "source": [
    "from SPARQLWrapper import SPARQLWrapper, JSON\n",
    "import pandas as pd\n",
    "import sparql_dataframe"
   ]
  },
  {
   "cell_type": "code",
   "execution_count": null,
   "id": "b8112ae1-1fb0-4224-aeac-72aaa715522b",
   "metadata": {},
   "outputs": [],
   "source": [
    "endpoint = \"http://localhost:3030/VisualContagions/sparql\""
   ]
  },
  {
   "cell_type": "code",
   "execution_count": null,
   "id": "2f8bb2d7-5313-4c6a-aa34-5129891d96d0",
   "metadata": {},
   "outputs": [],
   "source": [
    "q =\"\"\"\n",
    "\n",
    "PREFIX crmdig: <http://www.ics.forth.gr/isl/CRMdig/>\n",
    "PREFIX frbroo: <http://iflastandards.info/ns/fr/frbr/frbroo/>\n",
    "PREFIX crm: <http://www.cidoc-crm.org/cidoc-crm/>\n",
    "PREFIX rdf: <http://www.w3.org/1999/02/22-rdf-syntax-ns#>\n",
    "PREFIX rdfs: <http://www.w3.org/2000/01/rdf-schema#>\n",
    "\n",
    "# Each image is initially published by and for \n",
    "# a community of readers, reflected by the type of journal \n",
    "# where it appears. The index of external circulation \n",
    "# quantifies how many extra-communities an image has \n",
    "# touched upon after its initial release.\n",
    " \n",
    "\n",
    "\n",
    "SELECT DISTINCT ?cluster ?image (count(distinct ?type) as ?nOfTypes) ?label WHERE {\n",
    "  \n",
    "?cluster a crmdig:D1_Digital_Object;\n",
    "  \t\tcrm:P2_has_type <https://lod.unige.ch/vc/type/cluster> ;\n",
    "\t\tcrm:P148_has_component ?image .\n",
    "  \n",
    "?image crm:P128i_is_carried_by ?issue . \n",
    "?issue crm:P108i_was_produced_by ?production .\n",
    "?production  frbroo:R23_created_a_realization_of ?serial ;\n",
    "             crm:P4_has_time-span ?time .\n",
    "  \n",
    "  ?serial crm:P2_has_type ?type .\n",
    "  ?type a crm:E55_Type ;\n",
    "   \t\trdfs:label ?label .\n",
    "  \n",
    "  ?time a crm:E52_Time-Span;\n",
    "\t\tcrm:P81a_end_of_the_begin ?begin .\n",
    "                                                                    \n",
    "\n",
    "} \n",
    "GROUP BY ?cluster ?image ?label  \n",
    "ORDER BY ?nOfTypes\n",
    "LIMIT 10\n",
    "\"\"\""
   ]
  },
  {
   "cell_type": "code",
   "execution_count": null,
   "id": "ded5a94b-50a5-44df-8600-a9ae6f6f8904",
   "metadata": {},
   "outputs": [],
   "source": [
    "df = sparql_dataframe.get(endpoint, q)"
   ]
  },
  {
   "cell_type": "code",
   "execution_count": null,
   "id": "e37473f1-621b-4cc3-90f8-f76b12aa2baf",
   "metadata": {},
   "outputs": [],
   "source": [
    "df"
   ]
  }
 ],
 "metadata": {
  "kernelspec": {
   "display_name": "Python 3 (ipykernel)",
   "language": "python",
   "name": "python3"
  },
  "language_info": {
   "codemirror_mode": {
    "name": "ipython",
    "version": 3
   },
   "file_extension": ".py",
   "mimetype": "text/x-python",
   "name": "python",
   "nbconvert_exporter": "python",
   "pygments_lexer": "ipython3",
   "version": "3.11.0"
  }
 },
 "nbformat": 4,
 "nbformat_minor": 5
}
