{
 "cells": [
  {
   "cell_type": "markdown",
   "id": "f275a548-be5b-4009-bc53-26815ae5be9a",
   "metadata": {},
   "source": [
    "# Information about the Corpus"
   ]
  },
  {
   "cell_type": "code",
   "execution_count": 1,
   "id": "db584969-641b-4ad3-9732-7cce5bb5eb0d",
   "metadata": {},
   "outputs": [],
   "source": [
    "from SPARQLWrapper import SPARQLWrapper, JSON\n",
    "import pandas as pd\n",
    "import sparql_dataframe"
   ]
  },
  {
   "cell_type": "code",
   "execution_count": 2,
   "id": "8642148e-b1a2-4a59-8f11-6dbdeab902ca",
   "metadata": {},
   "outputs": [],
   "source": [
    "endpoint = \"http://localhost:3030/VisualContagions/sparql\""
   ]
  },
  {
   "cell_type": "code",
   "execution_count": 3,
   "id": "312172fb-a34e-4895-8849-31231e6443dd",
   "metadata": {},
   "outputs": [],
   "source": [
    "q =\"\"\"\n",
    "\n",
    "PREFIX crmdig: <http://www.ics.forth.gr/isl/CRMdig/>\n",
    "PREFIX frbroo: <http://iflastandards.info/ns/fr/frbr/frbroo/>\n",
    "PREFIX crm: <http://www.cidoc-crm.org/cidoc-crm/>\n",
    "PREFIX rdf: <http://www.w3.org/1999/02/22-rdf-syntax-ns#>\n",
    "PREFIX rdfs: <http://www.w3.org/2000/01/rdf-schema#>\n",
    "PREFIX aat: <http://vocab.getty.edu/aat/>\n",
    "\n",
    "# How many journals in total + their country + count issues for each journal + their earliest and latest issues\n",
    "\n",
    "SELECT DISTINCT ?serial ?label ?labelCountry (count(distinct ?issue) as ?nOfIssues) (MIN(?begin) as ?minBegin) (MAX(?begin) as ?maxBegin) WHERE {\n",
    "\n",
    "\t?issue crm:P108i_was_produced_by ?production .\n",
    "\t?production  frbroo:R23_created_a_realization_of ?serial .\n",
    "  \n",
    "  OPTIONAL {\n",
    "  \t?production crm:P4_has_time-span ?time .\n",
    "    ?time a crm:E52_Time-Span;\n",
    "\t\tcrm:P81a_end_of_the_begin ?begin .\n",
    "  }\n",
    "   \n",
    "  OPTIONAL {\n",
    "    ?production crm:P7_took_place_at ?country .\n",
    "    ?country crm:P2_has_type aat:300387506 ;\n",
    "    \t\t rdfs:label ?labelCountry . \n",
    "  }\n",
    "\t\n",
    "\t?serial a frbroo:F18_Serial_Work ;\n",
    "\t\trdfs:label ?label .\n",
    "\t\n",
    "FILTER regex(str(?labelCountry),\"japan\",\"i\") \n",
    "\n",
    "\n",
    "}\n",
    "\n",
    "GROUP BY ?serial ?label ?labelCountry  \n",
    "ORDER BY DESC(?nOfIssues)\n",
    "LIMIT 10\n",
    "\"\"\""
   ]
  },
  {
   "cell_type": "code",
   "execution_count": null,
   "id": "a3e9c7d8-4d8b-4cba-91f2-a4a29a383df6",
   "metadata": {},
   "outputs": [],
   "source": [
    "df = sparql_dataframe.get(endpoint, q)"
   ]
  },
  {
   "cell_type": "code",
   "execution_count": null,
   "id": "a7abdeb1-7b69-403a-a751-b7b791da8413",
   "metadata": {},
   "outputs": [],
   "source": [
    "df"
   ]
  },
  {
   "cell_type": "code",
   "execution_count": null,
   "id": "c04dd7f1-4951-4c33-8a08-d905d972cab8",
   "metadata": {},
   "outputs": [],
   "source": [
    "q1 =\"\"\"\n",
    "PREFIX crmdig: <http://www.ics.forth.gr/isl/CRMdig/>\n",
    "PREFIX frbroo: <http://iflastandards.info/ns/fr/frbr/frbroo/>\n",
    "PREFIX crm: <http://www.cidoc-crm.org/cidoc-crm/>\n",
    "PREFIX rdf: <http://www.w3.org/1999/02/22-rdf-syntax-ns#>\n",
    "PREFIX rdfs: <http://www.w3.org/2000/01/rdf-schema#>\n",
    "PREFIX aat: <http://vocab.getty.edu/aat/>\n",
    "\n",
    "# How many journals from a country in total + their country + count issues for each journal + their earliest and latest issues\n",
    "\n",
    "SELECT DISTINCT ?serial ?label ?labelCountry (count(distinct ?issue) as ?nOfIssues) (MIN(?begin) as ?minBegin) (MAX(?begin) as ?maxBegin) WHERE {\n",
    "\n",
    "\t?issue crm:P108i_was_produced_by ?production .\n",
    "\t?production  frbroo:R23_created_a_realization_of ?serial .\n",
    "  \n",
    "  OPTIONAL {\n",
    "  \t?production crm:P4_has_time-span ?time .\n",
    "    ?time a crm:E52_Time-Span;\n",
    "\t\tcrm:P81a_end_of_the_begin ?begin .\n",
    "  }\n",
    "   \n",
    "  OPTIONAL {\n",
    "    ?production crm:P7_took_place_at ?country .\n",
    "    ?country crm:P2_has_type aat:300387506 ;\n",
    "    \t\t rdfs:label ?labelCountry . \n",
    "  }\n",
    "\t\n",
    "\t?serial a frbroo:F18_Serial_Work ;\n",
    "\t\trdfs:label ?label .\n",
    "\t\n",
    "FILTER regex(str(?labelCountry),\"japan\",\"i\") \n",
    "\n",
    "\n",
    "}\n",
    "\n",
    "GROUP BY ?serial ?label ?labelCountry  \n",
    "ORDER BY DESC(?nOfIssues)\n",
    "\"\"\""
   ]
  },
  {
   "cell_type": "code",
   "execution_count": null,
   "id": "fc262de8-2327-4354-8052-ed430801b66b",
   "metadata": {},
   "outputs": [],
   "source": [
    "df1 = sparql_dataframe.get(endpoint, q1)"
   ]
  },
  {
   "cell_type": "code",
   "execution_count": null,
   "id": "c3b3347d-ca6d-4d0b-9ed1-e3069d28ab29",
   "metadata": {},
   "outputs": [],
   "source": [
    "df1"
   ]
  }
 ],
 "metadata": {
  "kernelspec": {
   "display_name": "Python 3 (ipykernel)",
   "language": "python",
   "name": "python3"
  },
  "language_info": {
   "codemirror_mode": {
    "name": "ipython",
    "version": 3
   },
   "file_extension": ".py",
   "mimetype": "text/x-python",
   "name": "python",
   "nbconvert_exporter": "python",
   "pygments_lexer": "ipython3",
   "version": "3.11.0"
  }
 },
 "nbformat": 4,
 "nbformat_minor": 5
}
