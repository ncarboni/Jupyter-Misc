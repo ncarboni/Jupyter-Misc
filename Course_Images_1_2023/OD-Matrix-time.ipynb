{
 "cells": [
  {
   "cell_type": "code",
   "execution_count": null,
   "id": "96f90b0e-4c59-40b0-a57b-7ff94b00396c",
   "metadata": {},
   "outputs": [],
   "source": [
    "import pandas as pd\n",
    "import os"
   ]
  },
  {
   "cell_type": "code",
   "execution_count": null,
   "id": "120215b2-3975-481c-b1be-b5bdc0082faa",
   "metadata": {},
   "outputs": [],
   "source": [
    "df = pd.read_csv('/Users/carboni/Downloads/Leopard Dec 19 2023.csv')"
   ]
  },
  {
   "cell_type": "markdown",
   "id": "4b343904-0681-4ebd-8ca8-488672634d2f",
   "metadata": {},
   "source": [
    "### Clusters and other keywords"
   ]
  },
  {
   "cell_type": "code",
   "execution_count": null,
   "id": "cbe00d75-4f38-4c6c-b28b-b8702023e2f3",
   "metadata": {},
   "outputs": [],
   "source": [
    "#keyword = 'Bête'\n",
    "#df = df[df['cluster'].str.contains(keyword, case=False, na=False)]"
   ]
  },
  {
   "cell_type": "code",
   "execution_count": null,
   "id": "2d242c1f-916a-447f-867e-97fb5d9d0d13",
   "metadata": {},
   "outputs": [],
   "source": [
    "df.head()"
   ]
  },
  {
   "cell_type": "markdown",
   "id": "2b39bbf8-4601-4c4c-9f23-4a3cc7b93ef8",
   "metadata": {},
   "source": [
    "## Index city "
   ]
  },
  {
   "cell_type": "markdown",
   "id": "a7034514-404b-4f90-91bc-5295d3a5f4de",
   "metadata": {
    "tags": []
   },
   "source": [
    "### If WKT"
   ]
  },
  {
   "cell_type": "code",
   "execution_count": null,
   "id": "e1ace343-8863-47ba-a1dc-cf57149f27bb",
   "metadata": {},
   "outputs": [],
   "source": [
    "df[['lon', 'lat']] = df['wkt'].str.extract(r'POINT\\(([^ ]+) ([^ ]+)\\)')"
   ]
  },
  {
   "cell_type": "markdown",
   "id": "3dea4cd6-cca1-409b-89c7-e438e595c1c2",
   "metadata": {},
   "source": [
    "### if not wkt"
   ]
  },
  {
   "cell_type": "code",
   "execution_count": null,
   "id": "1f284641-f75d-4a06-a1cb-5480946d9a7e",
   "metadata": {},
   "outputs": [],
   "source": [
    "city_coords = df.groupby('City').agg({'lat': 'first', 'lon': 'first'}).reset_index()"
   ]
  },
  {
   "cell_type": "code",
   "execution_count": null,
   "id": "065048a7-7065-4e7a-85f8-cfa234249fb5",
   "metadata": {},
   "outputs": [],
   "source": [
    "city_coords.rename({'City': 'name'}, axis=1, inplace=True)"
   ]
  },
  {
   "cell_type": "code",
   "execution_count": null,
   "id": "5db19100-ade1-4e04-af8c-3e30227aa514",
   "metadata": {},
   "outputs": [],
   "source": [
    "city_coords.index = city_coords.index + 1\n",
    "city_coords.index.name = 'id'"
   ]
  },
  {
   "cell_type": "code",
   "execution_count": null,
   "id": "4e35713a-a02e-4b5b-b13b-1b3525592fb4",
   "metadata": {},
   "outputs": [],
   "source": [
    "print(city_coords)"
   ]
  },
  {
   "cell_type": "code",
   "execution_count": null,
   "id": "0804ded8-99af-4eac-814a-146cfa0657c1",
   "metadata": {},
   "outputs": [],
   "source": [
    "city_coords.to_csv('od_city_index.csv', index=True)"
   ]
  },
  {
   "cell_type": "markdown",
   "id": "f303be77-2ea3-448f-b56f-23946f1b986d",
   "metadata": {},
   "source": [
    "## Index to OD Matrix"
   ]
  },
  {
   "cell_type": "code",
   "execution_count": null,
   "id": "9c7d8043-b15a-4075-b7c6-da538cc19996",
   "metadata": {},
   "outputs": [],
   "source": [
    "#df['Year'] = df['date'].str.split('-', n=1, expand=True)[0]"
   ]
  },
  {
   "cell_type": "code",
   "execution_count": null,
   "id": "b2644069-bfbf-46af-a8d9-872ac4ae31cd",
   "metadata": {},
   "outputs": [],
   "source": [
    "df['Year'] = pd.to_datetime(df['Date']).dt.year"
   ]
  },
  {
   "cell_type": "code",
   "execution_count": null,
   "id": "99b390fd-a22f-4c4d-be7b-c46c23bcb4c2",
   "metadata": {},
   "outputs": [],
   "source": [
    "df.head()"
   ]
  },
  {
   "cell_type": "code",
   "execution_count": null,
   "id": "bc6bcab0-4cc9-4687-827d-da9ade48d407",
   "metadata": {},
   "outputs": [],
   "source": [
    "city_id_map = city_coords.reset_index().set_index('name')['id'].to_dict()"
   ]
  },
  {
   "cell_type": "code",
   "execution_count": null,
   "id": "02885a8f-8380-4b59-b89e-cd7d4a5ba3d0",
   "metadata": {},
   "outputs": [],
   "source": [
    "df = df.dropna(subset=['City'])"
   ]
  },
  {
   "cell_type": "code",
   "execution_count": null,
   "id": "78127f98-7c58-4bb3-b38d-76e499a6a42f",
   "metadata": {},
   "outputs": [],
   "source": [
    "df['origin'] = df['City'].map(city_id_map).astype(int)\n",
    "df['dest'] = df['City'].shift(-1).map(city_id_map).fillna(method='ffill').astype(int)\n",
    "df.iloc[-1, df.columns.get_loc('dest')] = df.iloc[-1]['origin']"
   ]
  },
  {
   "cell_type": "markdown",
   "id": "848f2853-8fd6-4de9-93dc-0b38276fb9da",
   "metadata": {},
   "source": [
    "### Overall OD Matrix"
   ]
  },
  {
   "cell_type": "code",
   "execution_count": null,
   "id": "46b1dac2-7c83-4a38-b442-9fdb74096460",
   "metadata": {},
   "outputs": [],
   "source": [
    "overall_od_matrix = df.groupby(['origin', 'dest', 'Year']).size().reset_index(name='count')"
   ]
  },
  {
   "cell_type": "code",
   "execution_count": null,
   "id": "10d0fa6c-a349-4b20-af97-963f52ff2926",
   "metadata": {},
   "outputs": [],
   "source": [
    "overall_od_matrix['time'] = overall_od_matrix['Year'].astype(str) + '-01-01'\n",
    "overall_od_matrix.drop('Year', axis=1, inplace=True)"
   ]
  },
  {
   "cell_type": "code",
   "execution_count": null,
   "id": "aa9131b6-511f-4466-a0ed-c52900bcfdd6",
   "metadata": {},
   "outputs": [],
   "source": [
    "print(overall_od_matrix)"
   ]
  },
  {
   "cell_type": "code",
   "execution_count": null,
   "id": "2b1d2867-5455-4a63-a0d0-ef04f940901e",
   "metadata": {},
   "outputs": [],
   "source": [
    "overall_od_matrix.to_csv('overall_od_matrix.csv', index=False)"
   ]
  },
  {
   "cell_type": "code",
   "execution_count": null,
   "id": "323a5291-11db-4099-9a86-bf96b62e1bb7",
   "metadata": {},
   "outputs": [],
   "source": []
  }
 ],
 "metadata": {
  "kernelspec": {
   "display_name": "Python 3 (ipykernel)",
   "language": "python",
   "name": "python3"
  },
  "language_info": {
   "codemirror_mode": {
    "name": "ipython",
    "version": 3
   },
   "file_extension": ".py",
   "mimetype": "text/x-python",
   "name": "python",
   "nbconvert_exporter": "python",
   "pygments_lexer": "ipython3",
   "version": "3.10.8"
  }
 },
 "nbformat": 4,
 "nbformat_minor": 5
}
