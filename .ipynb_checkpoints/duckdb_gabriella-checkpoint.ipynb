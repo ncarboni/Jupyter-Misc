{
 "cells": [
  {
   "cell_type": "markdown",
   "id": "584c225c-785d-413e-92d3-69f273265ab8",
   "metadata": {},
   "source": [
    "# Exemples de chargement de données dans duckdb pour des requêtes SQL"
   ]
  },
  {
   "cell_type": "markdown",
   "id": "5a32f740-03da-471a-a82e-753920b6c0c7",
   "metadata": {},
   "source": [
    "vous devez installer duckdb et charger les données pour effectuer des query.\n",
    "Voici un tutoriel, mais il y en a beaucoup :\n",
    "https://motherduck.com/blog/duckdb-tutorial-for-beginners/"
   ]
  },
  {
   "cell_type": "code",
   "execution_count": null,
   "id": "03894a3d-4d95-4e9f-b5b9-c59155a76a37",
   "metadata": {},
   "outputs": [],
   "source": [
    "!pip install duckdb"
   ]
  },
  {
   "cell_type": "code",
   "execution_count": 39,
   "id": "d9e8a460-e3fd-4266-8390-9284e04cdccb",
   "metadata": {
    "tags": []
   },
   "outputs": [],
   "source": [
    "duckdb.sql(\"CREATE TABLE exhibition AS SELECT * FROM final_merged_with_exhibition\")"
   ]
  },
  {
   "cell_type": "code",
   "execution_count": 40,
   "id": "eefb8fbb-6741-45a5-addf-2e9b3963ac8f",
   "metadata": {
    "tags": []
   },
   "outputs": [
    {
     "data": {
      "text/html": [
       "<div>\n",
       "<style scoped>\n",
       "    .dataframe tbody tr th:only-of-type {\n",
       "        vertical-align: middle;\n",
       "    }\n",
       "\n",
       "    .dataframe tbody tr th {\n",
       "        vertical-align: top;\n",
       "    }\n",
       "\n",
       "    .dataframe thead th {\n",
       "        text-align: right;\n",
       "    }\n",
       "</style>\n",
       "<table border=\"1\" class=\"dataframe\">\n",
       "  <thead>\n",
       "    <tr style=\"text-align: right;\">\n",
       "      <th></th>\n",
       "      <th>id_catalog</th>\n",
       "      <th>id_exhibition</th>\n",
       "      <th>id_section</th>\n",
       "      <th>id_personage</th>\n",
       "      <th>id_address_exhibition</th>\n",
       "      <th>id_work</th>\n",
       "      <th>title</th>\n",
       "      <th>traveling</th>\n",
       "      <th>source</th>\n",
       "      <th>id_user</th>\n",
       "      <th>timestamp</th>\n",
       "      <th>begin_year</th>\n",
       "      <th>end_year</th>\n",
       "      <th>id_city</th>\n",
       "      <th>id_exhibition_group</th>\n",
       "      <th>former_country</th>\n",
       "      <th>former_city</th>\n",
       "      <th>public</th>\n",
       "    </tr>\n",
       "  </thead>\n",
       "  <tbody>\n",
       "    <tr>\n",
       "      <th>0</th>\n",
       "      <td>3697</td>\n",
       "      <td>8155</td>\n",
       "      <td>4007</td>\n",
       "      <td>50822</td>\n",
       "      <td>18157</td>\n",
       "      <td>102296</td>\n",
       "      <td>Brooklyn Loan Exhibit</td>\n",
       "      <td>f</td>\n",
       "      <td>archive.org</td>\n",
       "      <td>2</td>\n",
       "      <td>2018-12-29 10:40:27.262038</td>\n",
       "      <td>1911</td>\n",
       "      <td>1911</td>\n",
       "      <td>6812</td>\n",
       "      <td>1</td>\n",
       "      <td>NaN</td>\n",
       "      <td>NaN</td>\n",
       "      <td>f</td>\n",
       "    </tr>\n",
       "    <tr>\n",
       "      <th>1</th>\n",
       "      <td>3697</td>\n",
       "      <td>8155</td>\n",
       "      <td>4007</td>\n",
       "      <td>50822</td>\n",
       "      <td>18157</td>\n",
       "      <td>102297</td>\n",
       "      <td>Brooklyn Loan Exhibit</td>\n",
       "      <td>f</td>\n",
       "      <td>archive.org</td>\n",
       "      <td>2</td>\n",
       "      <td>2018-12-29 10:40:27.262038</td>\n",
       "      <td>1911</td>\n",
       "      <td>1911</td>\n",
       "      <td>6812</td>\n",
       "      <td>1</td>\n",
       "      <td>NaN</td>\n",
       "      <td>NaN</td>\n",
       "      <td>f</td>\n",
       "    </tr>\n",
       "    <tr>\n",
       "      <th>2</th>\n",
       "      <td>3697</td>\n",
       "      <td>8155</td>\n",
       "      <td>4007</td>\n",
       "      <td>50822</td>\n",
       "      <td>18157</td>\n",
       "      <td>102298</td>\n",
       "      <td>Brooklyn Loan Exhibit</td>\n",
       "      <td>f</td>\n",
       "      <td>archive.org</td>\n",
       "      <td>2</td>\n",
       "      <td>2018-12-29 10:40:27.262038</td>\n",
       "      <td>1911</td>\n",
       "      <td>1911</td>\n",
       "      <td>6812</td>\n",
       "      <td>1</td>\n",
       "      <td>NaN</td>\n",
       "      <td>NaN</td>\n",
       "      <td>f</td>\n",
       "    </tr>\n",
       "    <tr>\n",
       "      <th>3</th>\n",
       "      <td>3697</td>\n",
       "      <td>8155</td>\n",
       "      <td>4007</td>\n",
       "      <td>50823</td>\n",
       "      <td>18157</td>\n",
       "      <td>102299</td>\n",
       "      <td>Brooklyn Loan Exhibit</td>\n",
       "      <td>f</td>\n",
       "      <td>archive.org</td>\n",
       "      <td>2</td>\n",
       "      <td>2018-12-29 10:40:27.262038</td>\n",
       "      <td>1911</td>\n",
       "      <td>1911</td>\n",
       "      <td>6812</td>\n",
       "      <td>1</td>\n",
       "      <td>NaN</td>\n",
       "      <td>NaN</td>\n",
       "      <td>f</td>\n",
       "    </tr>\n",
       "    <tr>\n",
       "      <th>4</th>\n",
       "      <td>3697</td>\n",
       "      <td>8155</td>\n",
       "      <td>4007</td>\n",
       "      <td>50824</td>\n",
       "      <td>18157</td>\n",
       "      <td>102300</td>\n",
       "      <td>Brooklyn Loan Exhibit</td>\n",
       "      <td>f</td>\n",
       "      <td>archive.org</td>\n",
       "      <td>2</td>\n",
       "      <td>2018-12-29 10:40:27.262038</td>\n",
       "      <td>1911</td>\n",
       "      <td>1911</td>\n",
       "      <td>6812</td>\n",
       "      <td>1</td>\n",
       "      <td>NaN</td>\n",
       "      <td>NaN</td>\n",
       "      <td>f</td>\n",
       "    </tr>\n",
       "  </tbody>\n",
       "</table>\n",
       "</div>"
      ],
      "text/plain": [
       "  id_catalog id_exhibition id_section id_personage id_address_exhibition  \\\n",
       "0       3697          8155       4007        50822                 18157   \n",
       "1       3697          8155       4007        50822                 18157   \n",
       "2       3697          8155       4007        50822                 18157   \n",
       "3       3697          8155       4007        50823                 18157   \n",
       "4       3697          8155       4007        50824                 18157   \n",
       "\n",
       "  id_work                  title traveling       source id_user  \\\n",
       "0  102296  Brooklyn Loan Exhibit         f  archive.org       2   \n",
       "1  102297  Brooklyn Loan Exhibit         f  archive.org       2   \n",
       "2  102298  Brooklyn Loan Exhibit         f  archive.org       2   \n",
       "3  102299  Brooklyn Loan Exhibit         f  archive.org       2   \n",
       "4  102300  Brooklyn Loan Exhibit         f  archive.org       2   \n",
       "\n",
       "                    timestamp begin_year end_year id_city id_exhibition_group  \\\n",
       "0  2018-12-29 10:40:27.262038       1911     1911    6812                   1   \n",
       "1  2018-12-29 10:40:27.262038       1911     1911    6812                   1   \n",
       "2  2018-12-29 10:40:27.262038       1911     1911    6812                   1   \n",
       "3  2018-12-29 10:40:27.262038       1911     1911    6812                   1   \n",
       "4  2018-12-29 10:40:27.262038       1911     1911    6812                   1   \n",
       "\n",
       "  former_country former_city public  \n",
       "0            NaN         NaN      f  \n",
       "1            NaN         NaN      f  \n",
       "2            NaN         NaN      f  \n",
       "3            NaN         NaN      f  \n",
       "4            NaN         NaN      f  "
      ]
     },
     "execution_count": 40,
     "metadata": {},
     "output_type": "execute_result"
    }
   ],
   "source": [
    "result = duckdb.execute(\"SELECT * FROM exhibition\").fetchdf()\n",
    "result.head(5)"
   ]
  },
  {
   "cell_type": "code",
   "execution_count": 45,
   "id": "3642e662-84c2-482a-8a78-c525233f2ffa",
   "metadata": {
    "tags": []
   },
   "outputs": [],
   "source": [
    "query = \"\"\"\n",
    "SELECT id_exhibition, traveling, COUNT(DISTINCT id_section) as section_count, COUNT(DISTINCT id_address_exhibition) as id_address_exhibition_count , COUNT(DISTINCT id_catalog) as catalog_count_count\n",
    "FROM exhibition\n",
    "GROUP BY id_exhibition, traveling\n",
    "HAVING COUNT(DISTINCT id_section) > 1;\n",
    "\"\"\""
   ]
  },
  {
   "cell_type": "code",
   "execution_count": 46,
   "id": "a8300370-b3b1-47af-a66f-daea9711da96",
   "metadata": {
    "tags": []
   },
   "outputs": [
    {
     "name": "stdout",
     "output_type": "stream",
     "text": [
      "   id_exhibition traveling  section_count  id_address_exhibition_count  \\\n",
      "0           5582         f             54                           54   \n",
      "1           4322       NaN              2                            1   \n",
      "2           8149         f              5                            1   \n",
      "3          18437         f              2                            1   \n",
      "4           5814         f              4                            1   \n",
      "5           4157         f              2                            1   \n",
      "6           4181         f              2                            1   \n",
      "7           5781         f              2                            1   \n",
      "8           5810         f              3                            1   \n",
      "9           4079         f             40                            3   \n",
      "10          3993         f              4                            1   \n",
      "11         18424         t              4                            1   \n",
      "12         18433         f              3                            1   \n",
      "13         18430         f              5                            1   \n",
      "14         18493         t              4                            1   \n",
      "15         18426         t              2                            1   \n",
      "16         18425         t              3                            1   \n",
      "17         18432         f              5                            1   \n",
      "18         18428         f              2                            1   \n",
      "19         18544       NaN              2                            1   \n",
      "20         18429         f              4                            1   \n",
      "21           600         f              7                            1   \n",
      "22           602         f             10                            1   \n",
      "23           604         f              9                            1   \n",
      "24           599         f              5                            1   \n",
      "25           601         f              7                            1   \n",
      "26           603         f              8                            1   \n",
      "27           655         f              2                            1   \n",
      "28         18508         t              3                            1   \n",
      "29          4006       NaN              2                            1   \n",
      "30          4817         f              2                            1   \n",
      "31          5278         f              6                            6   \n",
      "32          4680       NaN             18                            1   \n",
      "33          4003         f              8                            1   \n",
      "34          4018         f              8                            2   \n",
      "35          4060       NaN              7                            1   \n",
      "36          4642         f             10                            1   \n",
      "37          4142         f             24                            1   \n",
      "38         18495         f              6                            1   \n",
      "39          4180       NaN              2                            1   \n",
      "40          5784         f              3                            1   \n",
      "41          4283       NaN             12                            1   \n",
      "42          4129       NaN              9                            1   \n",
      "\n",
      "    catalog_count_count  \n",
      "0                     1  \n",
      "1                     1  \n",
      "2                     1  \n",
      "3                     1  \n",
      "4                     1  \n",
      "5                     1  \n",
      "6                     1  \n",
      "7                     1  \n",
      "8                     1  \n",
      "9                     1  \n",
      "10                    1  \n",
      "11                    1  \n",
      "12                    1  \n",
      "13                    1  \n",
      "14                    1  \n",
      "15                    1  \n",
      "16                    1  \n",
      "17                    1  \n",
      "18                    1  \n",
      "19                    1  \n",
      "20                    1  \n",
      "21                    1  \n",
      "22                    1  \n",
      "23                    1  \n",
      "24                    1  \n",
      "25                    1  \n",
      "26                    1  \n",
      "27                    1  \n",
      "28                    1  \n",
      "29                    1  \n",
      "30                    1  \n",
      "31                    1  \n",
      "32                    1  \n",
      "33                    1  \n",
      "34                    1  \n",
      "35                    1  \n",
      "36                    1  \n",
      "37                    1  \n",
      "38                    1  \n",
      "39                    1  \n",
      "40                    1  \n",
      "41                    1  \n",
      "42                    1  \n"
     ]
    }
   ],
   "source": [
    "result = duckdb.query(query).fetchdf()\n",
    "print(result)"
   ]
  },
  {
   "cell_type": "markdown",
   "id": "dc271853-6c69-4eb9-a0e9-af226538c8fc",
   "metadata": {},
   "source": [
    "### Multiple catalogues' id example"
   ]
  },
  {
   "cell_type": "code",
   "execution_count": null,
   "id": "6aa6c7e6-3aa3-4528-9a18-90d69ca7a2c5",
   "metadata": {
    "tags": []
   },
   "outputs": [],
   "source": [
    "catalogues = duckdb.execute(\"SELECT DISTINCT id_section, id_catalog FROM exhibition WHERE id_exhibition = 18492;\").fetchdf()"
   ]
  },
  {
   "cell_type": "code",
   "execution_count": null,
   "id": "cd258d2a-0eeb-47b0-a52b-a76f8bfba1d1",
   "metadata": {
    "tags": []
   },
   "outputs": [],
   "source": [
    "print(catalogues)"
   ]
  },
  {
   "cell_type": "markdown",
   "id": "eb69d1d4-18e4-4638-8fc8-2e09fe0643bd",
   "metadata": {},
   "source": [
    "### Multiple section example"
   ]
  },
  {
   "cell_type": "code",
   "execution_count": 43,
   "id": "21088d72-c160-43da-acee-0aacf7040c13",
   "metadata": {
    "tags": []
   },
   "outputs": [],
   "source": [
    "section = duckdb.execute(\"SELECT DISTINCT id_section, id_catalog FROM exhibition WHERE id_exhibition = 4283;\").fetchdf()"
   ]
  },
  {
   "cell_type": "code",
   "execution_count": 44,
   "id": "c3feeb18-2a22-4a24-a522-e446706151f2",
   "metadata": {
    "tags": []
   },
   "outputs": [
    {
     "name": "stdout",
     "output_type": "stream",
     "text": [
      "   id_section id_catalog\n",
      "0        2784        291\n",
      "1        2785        291\n",
      "2        2786        291\n",
      "3        2787        291\n",
      "4        2788        291\n",
      "5        2789        291\n",
      "6        2790        291\n",
      "7        3188        291\n",
      "8        3189        291\n",
      "9        3190        291\n",
      "10       3191        291\n",
      "11       3192        291\n"
     ]
    }
   ],
   "source": [
    "print(section)"
   ]
  },
  {
   "cell_type": "code",
   "execution_count": null,
   "id": "b8d75302-93b0-48f5-8955-72a4ef81471c",
   "metadata": {},
   "outputs": [],
   "source": []
  }
 ],
 "metadata": {
  "kernelspec": {
   "display_name": "Python 3 (ipykernel)",
   "language": "python",
   "name": "python3"
  },
  "language_info": {
   "codemirror_mode": {
    "name": "ipython",
    "version": 3
   },
   "file_extension": ".py",
   "mimetype": "text/x-python",
   "name": "python",
   "nbconvert_exporter": "python",
   "pygments_lexer": "ipython3",
   "version": "3.10.8"
  }
 },
 "nbformat": 4,
 "nbformat_minor": 5
}
