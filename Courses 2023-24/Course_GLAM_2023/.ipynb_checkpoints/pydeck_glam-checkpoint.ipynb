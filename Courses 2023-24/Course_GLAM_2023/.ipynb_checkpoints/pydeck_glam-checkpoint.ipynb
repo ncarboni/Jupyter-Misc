{
 "cells": [
  {
   "cell_type": "markdown",
   "id": "3737d98e-3229-4e4b-9295-8e845d563669",
   "metadata": {},
   "source": [
    "## From openrefine to cartography"
   ]
  },
  {
   "cell_type": "code",
   "execution_count": null,
   "id": "a2a04971-9a95-4b94-a4a2-64754a6bd496",
   "metadata": {
    "tags": []
   },
   "outputs": [],
   "source": [
    "import pydeck as pdk\n",
    "import pandas as pd\n",
    "from shapely.wkt import loads\n",
    "import numpy as np"
   ]
  },
  {
   "cell_type": "markdown",
   "id": "02baf5a6-987c-4a09-bcb8-a24ca39802f6",
   "metadata": {},
   "source": [
    "### Load the CSV from OpenRefine"
   ]
  },
  {
   "cell_type": "code",
   "execution_count": null,
   "id": "6ce43d15-8136-40c8-bbe8-caeea128e954",
   "metadata": {},
   "outputs": [],
   "source": [
    "df = pd.read_csv('/Users/carboni/Documents/UNIGE/pynotebook/personal/GLAM/mah_artist_glam.csv')"
   ]
  },
  {
   "cell_type": "code",
   "execution_count": null,
   "id": "739f1814-f51e-4bd7-9e18-01e1d8e169a5",
   "metadata": {
    "tags": []
   },
   "outputs": [],
   "source": [
    "df.head()"
   ]
  },
  {
   "cell_type": "markdown",
   "id": "e9e338cb-0732-4201-951b-d2056245a179",
   "metadata": {},
   "source": [
    "### Drop the empty value from the column city "
   ]
  },
  {
   "cell_type": "code",
   "execution_count": null,
   "id": "298d6fd2-2460-49d3-a8ce-f97a9a63e09e",
   "metadata": {},
   "outputs": [],
   "source": [
    "df = df.dropna(subset=['city'])"
   ]
  },
  {
   "cell_type": "code",
   "execution_count": null,
   "id": "bc645cd1-ebc9-4c2b-a285-27cad2c36b9c",
   "metadata": {},
   "outputs": [],
   "source": [
    "#df = df[~df['city'].str.contains('nan')]"
   ]
  },
  {
   "cell_type": "markdown",
   "id": "8101c4a9-f9c4-4948-8add-3a03fd8e8719",
   "metadata": {},
   "source": [
    "### Count the number of cities"
   ]
  },
  {
   "cell_type": "code",
   "execution_count": null,
   "id": "ee44acd5-56db-42e5-8d2e-d58e7060b8fe",
   "metadata": {},
   "outputs": [],
   "source": [
    "df['city_number'] = df.groupby(['city'])['city'].transform('count')"
   ]
  },
  {
   "cell_type": "markdown",
   "id": "228a37bd-1e32-4336-ae87-ea9434108712",
   "metadata": {},
   "source": [
    "### Extract latitude and longitude \n",
    "this step is necessary only if you have a unique 'coordinate' column"
   ]
  },
  {
   "cell_type": "code",
   "execution_count": null,
   "id": "134ba29f-f31a-4395-b850-8857c4905c5c",
   "metadata": {},
   "outputs": [],
   "source": [
    "df[['latitude', 'longitude']] = df['coordinate location'].str.split(',', expand=True).astype(float)"
   ]
  },
  {
   "cell_type": "code",
   "execution_count": null,
   "id": "f28ce63b-da80-4ffc-a072-040882ad96a3",
   "metadata": {},
   "outputs": [],
   "source": [
    "df.head()"
   ]
  },
  {
   "cell_type": "markdown",
   "id": "deecd26d-3447-4604-9854-4e2890c14961",
   "metadata": {},
   "source": [
    "### Normalize the city count "
   ]
  },
  {
   "cell_type": "code",
   "execution_count": null,
   "id": "9ac75dc3-3ede-400a-8370-0a11629e136e",
   "metadata": {},
   "outputs": [],
   "source": [
    "# df['normalized_counts'] = np.log(df['city_number'])"
   ]
  },
  {
   "cell_type": "markdown",
   "id": "ce1dcde8-9ede-4a94-bfe5-51a5651c0223",
   "metadata": {},
   "source": [
    "### Create and save the map"
   ]
  },
  {
   "cell_type": "code",
   "execution_count": null,
   "id": "2ca1adbe-c71c-4d30-843c-c6c24385d154",
   "metadata": {},
   "outputs": [],
   "source": [
    "scatter_layer = pdk.Layer(\n",
    "    'ScatterplotLayer',\n",
    "    df,\n",
    "    opacity=0.6,\n",
    "    get_position='[longitude, latitude]',\n",
    "#    get_radius='normalized_counts * 5000',\n",
    "    get_radius='city_number * 1500',\n",
    "    get_fill_color=[255, 0, 0],  # Red \n",
    "    pickable=True,\n",
    "    stroked=True,\n",
    "    get_line_color=[255,255,255]\n",
    ")"
   ]
  },
  {
   "cell_type": "code",
   "execution_count": null,
   "id": "d01ed0d3-b8b0-4925-8740-7ed5036584bb",
   "metadata": {
    "tags": []
   },
   "outputs": [],
   "source": [
    "view_state = pdk.ViewState(\n",
    "    latitude=df['latitude'].mean(),\n",
    "    longitude=df['longitude'].mean(),\n",
    "    zoom=3,\n",
    ")"
   ]
  },
  {
   "cell_type": "markdown",
   "id": "431c9291-8440-4fe8-84c3-e381a97d4d0b",
   "metadata": {},
   "source": [
    "#### here you can modify the content of the the tooltip for the html map"
   ]
  },
  {
   "cell_type": "code",
   "execution_count": null,
   "id": "62cc6ff9-e516-40a9-82a7-e555c576369c",
   "metadata": {},
   "outputs": [],
   "source": [
    "tooltip = {\n",
    "    \"html\": \"<b>{city_number}</b> of artist born in <b>{city}</b>\",\n",
    "    \"style\": {\"background\": \"grey\", \"color\": \"white\", \"font-family\": '\"Helvetica Neue\", Arial', \"z-index\": \"10000\"},\n",
    "}"
   ]
  },
  {
   "cell_type": "code",
   "execution_count": null,
   "id": "751ed6d8-cc08-42b2-842c-0ff656cd1ea8",
   "metadata": {},
   "outputs": [],
   "source": [
    "deck = pdk.Deck(\n",
    "    layers=[scatter_layer],\n",
    "    initial_view_state=view_state,\n",
    "    tooltip=tooltip,\n",
    "    map_provider=\"carto\",\n",
    "    map_style=\"light\" #possible here to go for light’, ‘dark’, ‘road’, ‘satellite’, \n",
    "    #‘dark_no_labels’, and ‘light_no_labels’. Also possible to use mapbox. To change together with the \n",
    "    #parameters on scatter_layer (e.g. opacity!)\n",
    ")"
   ]
  },
  {
   "cell_type": "code",
   "execution_count": null,
   "id": "ce5ad851-702e-48c3-ba16-11a3ccb48977",
   "metadata": {},
   "outputs": [],
   "source": [
    "deck.to_html(filename='map.html', offline=True, open_browser=False, notebook_display=False)"
   ]
  },
  {
   "cell_type": "markdown",
   "id": "d7309fa5-7fab-42f4-847e-fd41a491daf4",
   "metadata": {},
   "source": [
    "### Save the dataframe used for the map"
   ]
  },
  {
   "cell_type": "code",
   "execution_count": null,
   "id": "2d17d0d7-2f4f-4c74-8544-ebf4f4cf6a80",
   "metadata": {},
   "outputs": [],
   "source": [
    "df.to_csv('df.csv', index=False)"
   ]
  }
 ],
 "metadata": {
  "kernelspec": {
   "display_name": "Python 3 (ipykernel)",
   "language": "python",
   "name": "python3"
  },
  "language_info": {
   "codemirror_mode": {
    "name": "ipython",
    "version": 3
   },
   "file_extension": ".py",
   "mimetype": "text/x-python",
   "name": "python",
   "nbconvert_exporter": "python",
   "pygments_lexer": "ipython3",
   "version": "3.10.8"
  }
 },
 "nbformat": 4,
 "nbformat_minor": 5
}
