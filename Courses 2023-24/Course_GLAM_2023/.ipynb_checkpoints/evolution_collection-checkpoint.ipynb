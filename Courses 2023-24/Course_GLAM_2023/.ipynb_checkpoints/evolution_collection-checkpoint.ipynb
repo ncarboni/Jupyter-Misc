{
 "cells": [
  {
   "cell_type": "markdown",
   "id": "7a67c7fe-d0f0-463d-ac8f-d6d5bb4311a2",
   "metadata": {},
   "source": [
    "# Plotly Evolution collection"
   ]
  },
  {
   "cell_type": "code",
   "execution_count": null,
   "id": "30320b2f-5201-4681-89fe-653949955316",
   "metadata": {},
   "outputs": [],
   "source": [
    "import pandas as pd\n",
    "import plotly.express as px"
   ]
  },
  {
   "cell_type": "code",
   "execution_count": null,
   "id": "7c56dd82-b9e8-4f26-8381-39ed3f9e92ca",
   "metadata": {},
   "outputs": [],
   "source": [
    "df = pd.read_csv('/Users/carboni/Downloads/MAH Art.csv')"
   ]
  },
  {
   "cell_type": "code",
   "execution_count": null,
   "id": "d363bbef-1c21-4bac-aa89-6a67b267c14b",
   "metadata": {},
   "outputs": [],
   "source": [
    "df.head()"
   ]
  },
  {
   "cell_type": "code",
   "execution_count": null,
   "id": "64e30d8a-0635-46fa-a36f-7435fd711d73",
   "metadata": {},
   "outputs": [],
   "source": [
    "df = df.dropna(subset=['DateAcqu'])"
   ]
  },
  {
   "cell_type": "code",
   "execution_count": null,
   "id": "ecca134f-1be8-4990-acad-1ca3d1c36116",
   "metadata": {},
   "outputs": [],
   "source": [
    "df['Year'] = pd.to_datetime(df['DateAcqu']).dt.year"
   ]
  },
  {
   "cell_type": "markdown",
   "id": "82e9411d-a6bf-427d-8350-0d404c4dcac6",
   "metadata": {},
   "source": [
    "## Line Plot - Acquisition per year"
   ]
  },
  {
   "cell_type": "code",
   "execution_count": null,
   "id": "3d44270f-b3ed-42f1-80f3-1165a6ec9699",
   "metadata": {},
   "outputs": [],
   "source": [
    "acquisitions_per_year = df['Year'].value_counts().sort_index()"
   ]
  },
  {
   "cell_type": "code",
   "execution_count": null,
   "id": "cb2b2cb9-cac3-4985-a955-a9675bada398",
   "metadata": {},
   "outputs": [],
   "source": [
    "acquisitions_per_year"
   ]
  },
  {
   "cell_type": "code",
   "execution_count": null,
   "id": "3b4f1320-7c9b-477c-b5f3-5310ba3e3c62",
   "metadata": {},
   "outputs": [],
   "source": [
    "data_for_plot = pd.DataFrame({\n",
    "    'Year': acquisitions_per_year.index,\n",
    "    'Acquisitions': acquisitions_per_year.values\n",
    "})"
   ]
  },
  {
   "cell_type": "code",
   "execution_count": null,
   "id": "f1fb71d9-b53d-4d67-b26d-512bb54b03c6",
   "metadata": {},
   "outputs": [],
   "source": [
    "fig = px.line(data_for_plot, x='Year', y='Acquisitions', title='Acquisitions Per Year')"
   ]
  },
  {
   "cell_type": "code",
   "execution_count": null,
   "id": "29d05228-d4f3-4149-a726-0eed05da95b5",
   "metadata": {},
   "outputs": [],
   "source": [
    "fig.show()"
   ]
  },
  {
   "cell_type": "markdown",
   "id": "bd365ce3-6976-4f11-8101-8ca1e4552ab6",
   "metadata": {},
   "source": [
    "## Line Plot - Acquisition per year and Type"
   ]
  },
  {
   "cell_type": "code",
   "execution_count": null,
   "id": "c666a9cb-49f1-4ac2-af9b-6b351ea5d5da",
   "metadata": {},
   "outputs": [],
   "source": [
    "acquisitions_by_type = df.groupby(['Year', \"Type d'acquisition\"]).size().reset_index(name='Acquisitions')"
   ]
  },
  {
   "cell_type": "code",
   "execution_count": null,
   "id": "4af41988-531f-46d5-8a0a-505455f2bf76",
   "metadata": {},
   "outputs": [],
   "source": [
    "fig = px.line(acquisitions_by_type, x='Year', y='Acquisitions', color=\"Type d'acquisition\", hover_name=\"Year\",title='Acquisitions Per Year by Type')\n",
    "fig.show()"
   ]
  },
  {
   "cell_type": "code",
   "execution_count": null,
   "id": "9f739eca-29cc-471d-849d-5cedde7301da",
   "metadata": {},
   "outputs": [],
   "source": [
    "fig.write_html(\"acquisitions_chart_by_type.html\")"
   ]
  },
  {
   "cell_type": "markdown",
   "id": "d24ccc46-0dd2-461b-9e22-5b46dc3a59d8",
   "metadata": {},
   "source": [
    "## Scatter Plot - Acquisition per year and Type"
   ]
  },
  {
   "cell_type": "code",
   "execution_count": null,
   "id": "fdffc302-ae70-4f4d-bf25-772dad13cb5e",
   "metadata": {},
   "outputs": [],
   "source": [
    "fig = px.scatter(acquisitions_by_type, x='Year', y='Acquisitions', color=\"Type d'acquisition\", hover_name=\"Year\", title='Achat Acquisitions Per Year by Country')\n",
    "fig.show()"
   ]
  },
  {
   "cell_type": "markdown",
   "id": "01802b52-43b0-475b-a7dc-37d79c7a816e",
   "metadata": {},
   "source": [
    "## Scatter Plot - Acquisition per year, Type and number of Artists"
   ]
  },
  {
   "cell_type": "code",
   "execution_count": null,
   "id": "15ff7b1d-836d-4515-aa4d-733d7e31f33d",
   "metadata": {},
   "outputs": [],
   "source": [
    "df_filtered = df[df['Year'] > 1900]"
   ]
  },
  {
   "cell_type": "code",
   "execution_count": null,
   "id": "0ad72545-2d8b-49e4-a15a-908067d399d0",
   "metadata": {},
   "outputs": [],
   "source": [
    "def concatenate_artists(series):\n",
    "    return ', '.join(series.astype(str))"
   ]
  },
  {
   "cell_type": "code",
   "execution_count": null,
   "id": "300edf91-28d2-4b14-beda-22258a8129a9",
   "metadata": {},
   "outputs": [],
   "source": [
    "acquisitions_by_type_scatter = df.groupby(['Year', \"Type d'acquisition\"]).agg({'ID artiste MuseumPlusMAH': ['nunique', concatenate_artists]}).reset_index()"
   ]
  },
  {
   "cell_type": "code",
   "execution_count": null,
   "id": "e625c241-c19c-42ab-a972-848aa61888fa",
   "metadata": {},
   "outputs": [],
   "source": [
    "acquisitions_by_type_scatter.columns = ['Year', 'Type d\\'acquisition', 'Unique Artists', 'Artist IDs']"
   ]
  },
  {
   "cell_type": "code",
   "execution_count": null,
   "id": "86fb1369-cdb9-43b1-8ef3-33198d453a5f",
   "metadata": {},
   "outputs": [],
   "source": [
    "fig = px.scatter(acquisitions_by_type_scatter, x='Year', y='Unique Artists', \n",
    "                 color=\"Type d'acquisition\", size='Unique Artists', \n",
    "                 hover_data=['Artist IDs'], \n",
    "                 title='Acquisitions Per Year by Type (Unique Artist Count)')"
   ]
  },
  {
   "cell_type": "code",
   "execution_count": null,
   "id": "06e4daa9-f4dc-4439-babe-829da52fb6dc",
   "metadata": {},
   "outputs": [],
   "source": [
    "fig.show()\n",
    "fig.write_html(\"acquisitions_scatter_by_type.html\")"
   ]
  },
  {
   "cell_type": "markdown",
   "id": "d051e0e4-ee74-4fb5-91a6-7162ed1f311f",
   "metadata": {},
   "source": [
    "## Filter by content"
   ]
  },
  {
   "cell_type": "code",
   "execution_count": null,
   "id": "29d87f48-4283-46f6-9001-abb6f38f6d9f",
   "metadata": {},
   "outputs": [],
   "source": [
    "#df_achat = df[df[\"Type d'acquisition\"] == \"Achat\"]"
   ]
  },
  {
   "cell_type": "code",
   "execution_count": null,
   "id": "75c255dc-0023-47d5-ba96-c14dbaea76a8",
   "metadata": {},
   "outputs": [],
   "source": [
    "#df_achat = df[df[\"Type d'acquisition\"].str.contains(\"Achat\", na=False)]"
   ]
  },
  {
   "cell_type": "code",
   "execution_count": null,
   "id": "3a327b30-d1c7-4c89-8df6-28023ce04f1d",
   "metadata": {},
   "outputs": [],
   "source": [
    "#df_achat[\"Type d'acquisition\"].unique()"
   ]
  },
  {
   "cell_type": "code",
   "execution_count": null,
   "id": "0e6de362-8dab-4dfc-98dc-1970357e481e",
   "metadata": {},
   "outputs": [],
   "source": [
    "# acquisitions_by_country = df_achat.groupby(['Year', 'Country']).size().reset_index(name='Acquisitions')"
   ]
  },
  {
   "cell_type": "code",
   "execution_count": null,
   "id": "13da35e3-138f-4894-a042-1f759025d67e",
   "metadata": {},
   "outputs": [],
   "source": [
    "# fig = px.line(acquisitions_by_country, x='Year', y='Acquisitions', color='Country', hover_name=\"Year\", title='Achat Acquisitions Per Year by Country')\n",
    "# fig.show()"
   ]
  }
 ],
 "metadata": {
  "kernelspec": {
   "display_name": "Python 3 (ipykernel)",
   "language": "python",
   "name": "python3"
  },
  "language_info": {
   "codemirror_mode": {
    "name": "ipython",
    "version": 3
   },
   "file_extension": ".py",
   "mimetype": "text/x-python",
   "name": "python",
   "nbconvert_exporter": "python",
   "pygments_lexer": "ipython3",
   "version": "3.10.8"
  }
 },
 "nbformat": 4,
 "nbformat_minor": 5
}
