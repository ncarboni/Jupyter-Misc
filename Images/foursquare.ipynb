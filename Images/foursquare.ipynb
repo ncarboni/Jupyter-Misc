{
 "cells": [
  {
   "cell_type": "code",
   "execution_count": 1,
   "id": "4e67250a-87db-4026-86c9-d1f1339a36f5",
   "metadata": {},
   "outputs": [],
   "source": [
    "import pandas as pd"
   ]
  },
  {
   "cell_type": "code",
   "execution_count": 27,
   "id": "fd81141c-3a29-4450-97ae-00e6c510b424",
   "metadata": {},
   "outputs": [],
   "source": [
    "df = pd.read_csv('/Users/carboni/Downloads/Leopard.csv')"
   ]
  },
  {
   "cell_type": "markdown",
   "id": "72679163-e47d-47fe-8fc9-55d1ac35902d",
   "metadata": {
    "tags": []
   },
   "source": [
    "### In case of clusters of other keywords + wkt"
   ]
  },
  {
   "cell_type": "code",
   "execution_count": 28,
   "id": "8c4829a0-dd41-4586-8188-90543ec60b71",
   "metadata": {},
   "outputs": [],
   "source": [
    "transformed_data = []\n",
    "\n",
    "for cluster, group_df in df.groupby('Cluster'):\n",
    "    group_df = group_df.sort_values(by='Date')\n",
    "    group_df['origin'] = group_df['wkt']\n",
    "    group_df['destination'] = group_df['wkt'].shift(-1).fillna(group_df['wkt'].iloc[-1])\n",
    "    transformed_data.append(group_df)\n",
    "\n",
    "# Concatenate all transformed groups\n",
    "transformed_df = pd.concat(transformed_data)"
   ]
  },
  {
   "cell_type": "code",
   "execution_count": 29,
   "id": "10d7dba1-5500-400b-94f9-d2f9c6179f61",
   "metadata": {},
   "outputs": [
    {
     "data": {
      "text/html": [
       "<div>\n",
       "<style scoped>\n",
       "    .dataframe tbody tr th:only-of-type {\n",
       "        vertical-align: middle;\n",
       "    }\n",
       "\n",
       "    .dataframe tbody tr th {\n",
       "        vertical-align: top;\n",
       "    }\n",
       "\n",
       "    .dataframe thead th {\n",
       "        text-align: right;\n",
       "    }\n",
       "</style>\n",
       "<table border=\"1\" class=\"dataframe\">\n",
       "  <thead>\n",
       "    <tr style=\"text-align: right;\">\n",
       "      <th></th>\n",
       "      <th>Cluster</th>\n",
       "      <th>manifest_url</th>\n",
       "      <th>canvas_number</th>\n",
       "      <th>image_url</th>\n",
       "      <th>City</th>\n",
       "      <th>Country</th>\n",
       "      <th>Title</th>\n",
       "      <th>wkt</th>\n",
       "      <th>Date</th>\n",
       "      <th>Journal Type</th>\n",
       "      <th>Unnamed: 10</th>\n",
       "      <th>origin</th>\n",
       "      <th>destination</th>\n",
       "    </tr>\n",
       "  </thead>\n",
       "  <tbody>\n",
       "    <tr>\n",
       "      <th>2965</th>\n",
       "      <td>Bête Seule (Tigre)</td>\n",
       "      <td>https://gallica.bnf.fr/iiif/ark:/12148/bpt6k19...</td>\n",
       "      <td>422.0</td>\n",
       "      <td>https://gallica.bnf.fr/iiif/ark:/12148/bpt6k19...</td>\n",
       "      <td>Paris</td>\n",
       "      <td>France</td>\n",
       "      <td>L'Artiste : journal de la littérature et des b...</td>\n",
       "      <td>POINT(2.3513888888889 48.856944444444)</td>\n",
       "      <td>1831-07-10</td>\n",
       "      <td>Art History</td>\n",
       "      <td>NaN</td>\n",
       "      <td>POINT(2.3513888888889 48.856944444444)</td>\n",
       "      <td>POINT(2.3513888888889 48.856944444444)</td>\n",
       "    </tr>\n",
       "    <tr>\n",
       "      <th>2964</th>\n",
       "      <td>Bête Seule (Tigre)</td>\n",
       "      <td>https://gallica.bnf.fr/iiif/ark:/12148/bpt6k19...</td>\n",
       "      <td>412.0</td>\n",
       "      <td>https://gallica.bnf.fr/iiif/ark:/12148/bpt6k19...</td>\n",
       "      <td>Paris</td>\n",
       "      <td>France</td>\n",
       "      <td>L'Artiste : journal de la littérature et des b...</td>\n",
       "      <td>POINT(2.3513888888889 48.856944444444)</td>\n",
       "      <td>1832-07-10</td>\n",
       "      <td>Art History</td>\n",
       "      <td>NaN</td>\n",
       "      <td>POINT(2.3513888888889 48.856944444444)</td>\n",
       "      <td>POINT(-74.006015 40.712728)</td>\n",
       "    </tr>\n",
       "    <tr>\n",
       "      <th>2962</th>\n",
       "      <td>Bête Seule (Tigre)</td>\n",
       "      <td>https://iiif.unige.ch/dhportal/ug27806292/mani...</td>\n",
       "      <td>320.0</td>\n",
       "      <td>https://iiif.unige.ch/iiif/2/fedora_ug27812760...</td>\n",
       "      <td>New York</td>\n",
       "      <td>United States of America</td>\n",
       "      <td>The Illustrated Magazine of Art</td>\n",
       "      <td>POINT(-74.006015 40.712728)</td>\n",
       "      <td>1854-01-01</td>\n",
       "      <td>Art Journal</td>\n",
       "      <td>NaN</td>\n",
       "      <td>POINT(-74.006015 40.712728)</td>\n",
       "      <td>POINT(2.3513888888889 48.856944444444)</td>\n",
       "    </tr>\n",
       "    <tr>\n",
       "      <th>2961</th>\n",
       "      <td>Bête Seule (Tigre)</td>\n",
       "      <td>https://gallica.bnf.fr/iiif/ark:/12148/bpt6k22...</td>\n",
       "      <td>139.0</td>\n",
       "      <td>https://gallica.bnf.fr/iiif/ark:/12148/bpt6k22...</td>\n",
       "      <td>Paris</td>\n",
       "      <td>France</td>\n",
       "      <td>L'Artiste : journal de la littérature et des b...</td>\n",
       "      <td>POINT(2.3513888888889 48.856944444444)</td>\n",
       "      <td>1856-07-10</td>\n",
       "      <td>Art History</td>\n",
       "      <td>NaN</td>\n",
       "      <td>POINT(2.3513888888889 48.856944444444)</td>\n",
       "      <td>POINT(-0.1275 51.507222222222)</td>\n",
       "    </tr>\n",
       "    <tr>\n",
       "      <th>2959</th>\n",
       "      <td>Bête Seule (Tigre)</td>\n",
       "      <td>https://iiif.archive.org/iiif/sim_illustrated-...</td>\n",
       "      <td>23.0</td>\n",
       "      <td>https://iiif.archive.org/image/iiif/3/sim_illu...</td>\n",
       "      <td>London</td>\n",
       "      <td>United Kingdom</td>\n",
       "      <td>The Illustrated London News 1859-05-07: Vol 34...</td>\n",
       "      <td>POINT(-0.1275 51.507222222222)</td>\n",
       "      <td>1859-05-07</td>\n",
       "      <td>News</td>\n",
       "      <td>NaN</td>\n",
       "      <td>POINT(-0.1275 51.507222222222)</td>\n",
       "      <td>POINT(2.3513888888889 48.856944444444)</td>\n",
       "    </tr>\n",
       "  </tbody>\n",
       "</table>\n",
       "</div>"
      ],
      "text/plain": [
       "                 Cluster                                       manifest_url  \\\n",
       "2965  Bête Seule (Tigre)  https://gallica.bnf.fr/iiif/ark:/12148/bpt6k19...   \n",
       "2964  Bête Seule (Tigre)  https://gallica.bnf.fr/iiif/ark:/12148/bpt6k19...   \n",
       "2962  Bête Seule (Tigre)  https://iiif.unige.ch/dhportal/ug27806292/mani...   \n",
       "2961  Bête Seule (Tigre)  https://gallica.bnf.fr/iiif/ark:/12148/bpt6k22...   \n",
       "2959  Bête Seule (Tigre)  https://iiif.archive.org/iiif/sim_illustrated-...   \n",
       "\n",
       "      canvas_number                                          image_url  \\\n",
       "2965          422.0  https://gallica.bnf.fr/iiif/ark:/12148/bpt6k19...   \n",
       "2964          412.0  https://gallica.bnf.fr/iiif/ark:/12148/bpt6k19...   \n",
       "2962          320.0  https://iiif.unige.ch/iiif/2/fedora_ug27812760...   \n",
       "2961          139.0  https://gallica.bnf.fr/iiif/ark:/12148/bpt6k22...   \n",
       "2959           23.0  https://iiif.archive.org/image/iiif/3/sim_illu...   \n",
       "\n",
       "          City                   Country  \\\n",
       "2965     Paris                    France   \n",
       "2964     Paris                    France   \n",
       "2962  New York  United States of America   \n",
       "2961     Paris                    France   \n",
       "2959    London            United Kingdom   \n",
       "\n",
       "                                                  Title  \\\n",
       "2965  L'Artiste : journal de la littérature et des b...   \n",
       "2964  L'Artiste : journal de la littérature et des b...   \n",
       "2962                    The Illustrated Magazine of Art   \n",
       "2961  L'Artiste : journal de la littérature et des b...   \n",
       "2959  The Illustrated London News 1859-05-07: Vol 34...   \n",
       "\n",
       "                                         wkt        Date Journal Type  \\\n",
       "2965  POINT(2.3513888888889 48.856944444444)  1831-07-10  Art History   \n",
       "2964  POINT(2.3513888888889 48.856944444444)  1832-07-10  Art History   \n",
       "2962             POINT(-74.006015 40.712728)  1854-01-01  Art Journal   \n",
       "2961  POINT(2.3513888888889 48.856944444444)  1856-07-10  Art History   \n",
       "2959          POINT(-0.1275 51.507222222222)  1859-05-07         News   \n",
       "\n",
       "     Unnamed: 10                                  origin  \\\n",
       "2965         NaN  POINT(2.3513888888889 48.856944444444)   \n",
       "2964         NaN  POINT(2.3513888888889 48.856944444444)   \n",
       "2962         NaN             POINT(-74.006015 40.712728)   \n",
       "2961         NaN  POINT(2.3513888888889 48.856944444444)   \n",
       "2959         NaN          POINT(-0.1275 51.507222222222)   \n",
       "\n",
       "                                 destination  \n",
       "2965  POINT(2.3513888888889 48.856944444444)  \n",
       "2964             POINT(-74.006015 40.712728)  \n",
       "2962  POINT(2.3513888888889 48.856944444444)  \n",
       "2961          POINT(-0.1275 51.507222222222)  \n",
       "2959  POINT(2.3513888888889 48.856944444444)  "
      ]
     },
     "execution_count": 29,
     "metadata": {},
     "output_type": "execute_result"
    }
   ],
   "source": [
    "transformed_df.head()"
   ]
  },
  {
   "cell_type": "markdown",
   "id": "a441f50d-6ed5-40c7-9bc2-5a050481af19",
   "metadata": {},
   "source": [
    "### In case of clusters of other keywords + wkt"
   ]
  },
  {
   "cell_type": "code",
   "execution_count": null,
   "id": "f0e411d9-debb-4a4d-abc1-587e0473e6c5",
   "metadata": {},
   "outputs": [],
   "source": [
    "transformed_data = []\n",
    "\n",
    "for cluster, group_df in df.groupby('Cluster'):\n",
    "    group_df = group_df.sort_values(by='Date')\n",
    "    group_df['coord'] = group_df['lat'] + \", \" + group_df['long']\n",
    "    group_df['origin'] = group_df['coord']\n",
    "    group_df['destination'] = group_df['coord'].shift(-1).fillna(group_df['wkt'].iloc[-1])\n",
    "    transformed_data.append(group_df)\n",
    "\n",
    "# Concatenate all transformed groups\n",
    "transformed_df = pd.concat(transformed_data)"
   ]
  },
  {
   "cell_type": "code",
   "execution_count": null,
   "id": "45e55ddb-a0e9-4d5f-9499-e8c0487815fd",
   "metadata": {},
   "outputs": [],
   "source": []
  },
  {
   "cell_type": "markdown",
   "id": "2ccdec65-f833-43d4-9737-905f84937887",
   "metadata": {
    "tags": []
   },
   "source": [
    "### Without cluster but with coordinates"
   ]
  },
  {
   "cell_type": "code",
   "execution_count": null,
   "id": "6f301a6e-c575-4a26-a588-dea77ffc26b7",
   "metadata": {},
   "outputs": [],
   "source": [
    "df['Date'] = pd.to_datetime(df['Date'])\n",
    "df = df.sort_values(by='Date')"
   ]
  },
  {
   "cell_type": "code",
   "execution_count": null,
   "id": "b6ce0265-407a-4fa7-8bf7-ea92ca957d36",
   "metadata": {},
   "outputs": [],
   "source": [
    "df['origin_lat'] = df['lat']\n",
    "df['origin_long'] = df['long']"
   ]
  },
  {
   "cell_type": "code",
   "execution_count": null,
   "id": "eaccac50-0948-4744-8783-d34fcf395137",
   "metadata": {},
   "outputs": [],
   "source": [
    "df['dest_lat'] = df['lat'].shift(-1).fillna(df['lat'].iloc[-1])\n",
    "df['dest_long'] = df['long'].shift(-1).fillna(df['long'].iloc[-1])"
   ]
  },
  {
   "cell_type": "markdown",
   "id": "fc8277e2-1380-4dc3-a6b7-d48e23d6b5f9",
   "metadata": {},
   "source": [
    "### Common Operations"
   ]
  },
  {
   "cell_type": "code",
   "execution_count": 39,
   "id": "7e21bbf1-7e8a-4eed-8a41-bea49c14df22",
   "metadata": {},
   "outputs": [],
   "source": [
    "transformed_df['Date'] = pd.to_datetime(transformed_df['Date']).dt.strftime('%Y-%m-%dT%H:%M:%S')"
   ]
  },
  {
   "cell_type": "code",
   "execution_count": 31,
   "id": "1e9e8846-55c3-4555-85c6-683a2cee852e",
   "metadata": {},
   "outputs": [],
   "source": [
    "transformed_df[['origin_longitude', 'origin_latitude']] = transformed_df['origin'].str.extract(r'POINT\\(([^ ]+) ([^ ]+)\\)')"
   ]
  },
  {
   "cell_type": "code",
   "execution_count": 32,
   "id": "207da8da-263e-455c-98b5-24207f92a01f",
   "metadata": {},
   "outputs": [],
   "source": [
    "transformed_df[['destination_longitude', 'destination_latitude']] = transformed_df['destination'].str.extract(r'POINT\\(([^ ]+) ([^ ]+)\\)')"
   ]
  },
  {
   "cell_type": "code",
   "execution_count": 33,
   "id": "ab6c07da-b461-42a9-8fd5-5e3195a0786d",
   "metadata": {},
   "outputs": [],
   "source": [
    "transformed_df.drop(['destination', 'origin', 'wkt'], axis=1, inplace=True)"
   ]
  },
  {
   "cell_type": "code",
   "execution_count": 35,
   "id": "81a815df-6d5e-42f1-a4c6-95c423eb2bb3",
   "metadata": {},
   "outputs": [],
   "source": [
    "# Calculate the duration for each movement\n",
    "transformed_df['Date'] = pd.to_datetime(transformed_df['Date'])\n",
    "transformed_df['Duration'] = transformed_df.groupby('Cluster')['Date'].diff().fillna(pd.Timedelta(seconds=0))"
   ]
  },
  {
   "cell_type": "markdown",
   "id": "e53bb78b-1610-4f7c-b5a7-e8a3eae99be6",
   "metadata": {
    "jp-MarkdownHeadingCollapsed": true,
    "tags": []
   },
   "source": [
    "### Only for Leopard data"
   ]
  },
  {
   "cell_type": "code",
   "execution_count": 54,
   "id": "2d150700-0574-4a1a-b024-719cae5dbd21",
   "metadata": {},
   "outputs": [],
   "source": [
    "transformed_df['City'] = transformed_df['City'].replace('New York', 'New York City')"
   ]
  },
  {
   "cell_type": "markdown",
   "id": "5a18dfe0-075a-4658-8510-388925f5497f",
   "metadata": {},
   "source": [
    "### Count cities and transform dates in datetimem"
   ]
  },
  {
   "cell_type": "code",
   "execution_count": 55,
   "id": "80059ba5-09d3-46e3-92b2-3c2c773d555b",
   "metadata": {},
   "outputs": [],
   "source": [
    "transformed_df['city_number'] = transformed_df.groupby(['City'])['City'].transform('count')"
   ]
  },
  {
   "cell_type": "code",
   "execution_count": 56,
   "id": "8ca6cf3f-c725-4a58-920f-e79b5054d641",
   "metadata": {},
   "outputs": [],
   "source": [
    "transformed_df['Date'] = pd.to_datetime(transformed_df['Date']).dt.strftime('%Y-%m-%dT%H:%M:%S')"
   ]
  },
  {
   "cell_type": "code",
   "execution_count": 58,
   "id": "de4c5d50-f500-4d11-810e-99c65ffc50f9",
   "metadata": {},
   "outputs": [],
   "source": [
    "transformed_df.to_csv('foursquare.csv', index=False)"
   ]
  }
 ],
 "metadata": {
  "kernelspec": {
   "display_name": "Python 3 (ipykernel)",
   "language": "python",
   "name": "python3"
  },
  "language_info": {
   "codemirror_mode": {
    "name": "ipython",
    "version": 3
   },
   "file_extension": ".py",
   "mimetype": "text/x-python",
   "name": "python",
   "nbconvert_exporter": "python",
   "pygments_lexer": "ipython3",
   "version": "3.10.8"
  }
 },
 "nbformat": 4,
 "nbformat_minor": 5
}
