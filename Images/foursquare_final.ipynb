{
 "cells": [
  {
   "cell_type": "code",
   "execution_count": 91,
   "id": "4e67250a-87db-4026-86c9-d1f1339a36f5",
   "metadata": {},
   "outputs": [],
   "source": [
    "import pandas as pd"
   ]
  },
  {
   "cell_type": "code",
   "execution_count": 92,
   "id": "fd81141c-3a29-4450-97ae-00e6c510b424",
   "metadata": {},
   "outputs": [],
   "source": [
    "df = pd.read_csv('/Users/carboni/Downloads/FJC_georeferenced.csv')"
   ]
  },
  {
   "cell_type": "code",
   "execution_count": 93,
   "id": "21f13dde-e627-46d1-90dc-e223a6599c40",
   "metadata": {},
   "outputs": [
    {
     "data": {
      "text/html": [
       "<div>\n",
       "<style scoped>\n",
       "    .dataframe tbody tr th:only-of-type {\n",
       "        vertical-align: middle;\n",
       "    }\n",
       "\n",
       "    .dataframe tbody tr th {\n",
       "        vertical-align: top;\n",
       "    }\n",
       "\n",
       "    .dataframe thead th {\n",
       "        text-align: right;\n",
       "    }\n",
       "</style>\n",
       "<table border=\"1\" class=\"dataframe\">\n",
       "  <thead>\n",
       "    <tr style=\"text-align: right;\">\n",
       "      <th></th>\n",
       "      <th>https://ncarboni.github.io/Tropy_cinquecentine/schema#Printer</th>\n",
       "      <th>title_image</th>\n",
       "      <th>id</th>\n",
       "      <th>https://ncarboni.github.io/Tropy_cinquecentine/schema#PageNumber</th>\n",
       "      <th>https://ncarboni.github.io/Tropy_cinquecentine/schema#Identifier</th>\n",
       "      <th>https://ncarboni.github.io/Tropy_cinquecentine/schema#QuireMark</th>\n",
       "      <th>http://id.loc.gov/ontologies/bibframe/mainTitle</th>\n",
       "      <th>https://ncarboni.github.io/Tropy_cinquecentine/schema#ModelType</th>\n",
       "      <th>http://id.loc.gov/ontologies/bibframe/descriptionLanguage</th>\n",
       "      <th>date</th>\n",
       "      <th>https://visualcontagions.net/schema#City</th>\n",
       "      <th>latitude</th>\n",
       "      <th>longitude</th>\n",
       "      <th>coord</th>\n",
       "      <th>https://tropy.org/v1/tropy#tag</th>\n",
       "      <th>https://tropy.org/v1/tropy#path</th>\n",
       "      <th>https://tropy.org/v1/tropy#note</th>\n",
       "    </tr>\n",
       "  </thead>\n",
       "  <tbody>\n",
       "    <tr>\n",
       "      <th>0</th>\n",
       "      <td>Durant Zacharie</td>\n",
       "      <td>Ant_Pope_Gold_Relics_1557</td>\n",
       "      <td>Ant</td>\n",
       "      <td>NaN</td>\n",
       "      <td>NaN</td>\n",
       "      <td>[C5]</td>\n",
       "      <td>Antithesis</td>\n",
       "      <td>Pope_Gold_Relics</td>\n",
       "      <td>Latin</td>\n",
       "      <td>1557-01-01</td>\n",
       "      <td>Genève</td>\n",
       "      <td>46.204717</td>\n",
       "      <td>6.142311</td>\n",
       "      <td>46.2047169, 6.1423106290939335</td>\n",
       "      <td>NaN</td>\n",
       "      <td>/Users/brigitteroux/Documents/faits de JC/édit...</td>\n",
       "      <td>NaN</td>\n",
       "    </tr>\n",
       "    <tr>\n",
       "      <th>1</th>\n",
       "      <td>Durant Zacharie</td>\n",
       "      <td>Ant_Entry_Jerusalem_1557</td>\n",
       "      <td>Ant</td>\n",
       "      <td>NaN</td>\n",
       "      <td>NaN</td>\n",
       "      <td>[C6v]</td>\n",
       "      <td>Antithesis</td>\n",
       "      <td>Entry_Jerusalem</td>\n",
       "      <td>Latin</td>\n",
       "      <td>1557-01-01</td>\n",
       "      <td>Genève</td>\n",
       "      <td>46.204717</td>\n",
       "      <td>6.142311</td>\n",
       "      <td>46.2047169, 6.1423106290939335</td>\n",
       "      <td>NaN</td>\n",
       "      <td>/Users/brigitteroux/Documents/faits de JC/édit...</td>\n",
       "      <td>NaN</td>\n",
       "    </tr>\n",
       "    <tr>\n",
       "      <th>2</th>\n",
       "      <td>Durant Zacharie</td>\n",
       "      <td>Ant_Pope_War_1557</td>\n",
       "      <td>Ant</td>\n",
       "      <td>NaN</td>\n",
       "      <td>NaN</td>\n",
       "      <td>[C7]</td>\n",
       "      <td>Antithesis</td>\n",
       "      <td>Pope_war</td>\n",
       "      <td>Latin</td>\n",
       "      <td>1557-01-01</td>\n",
       "      <td>Genève</td>\n",
       "      <td>46.204717</td>\n",
       "      <td>6.142311</td>\n",
       "      <td>46.2047169, 6.1423106290939335</td>\n",
       "      <td>NaN</td>\n",
       "      <td>/Users/brigitteroux/Documents/faits de JC/édit...</td>\n",
       "      <td>NaN</td>\n",
       "    </tr>\n",
       "    <tr>\n",
       "      <th>3</th>\n",
       "      <td>Durant Zacharie</td>\n",
       "      <td>Ant_Cleansing_Temple_1557</td>\n",
       "      <td>Ant</td>\n",
       "      <td>NaN</td>\n",
       "      <td>NaN</td>\n",
       "      <td>[C8v]</td>\n",
       "      <td>Antithesis</td>\n",
       "      <td>Cleansing_Temple</td>\n",
       "      <td>Latin</td>\n",
       "      <td>1557-01-01</td>\n",
       "      <td>Genève</td>\n",
       "      <td>46.204717</td>\n",
       "      <td>6.142311</td>\n",
       "      <td>46.2047169, 6.1423106290939335</td>\n",
       "      <td>NaN</td>\n",
       "      <td>/Users/brigitteroux/Documents/faits de JC/édit...</td>\n",
       "      <td>NaN</td>\n",
       "    </tr>\n",
       "    <tr>\n",
       "      <th>4</th>\n",
       "      <td>Durant Zacharie</td>\n",
       "      <td>Ant_Pope_Indulgences_1557</td>\n",
       "      <td>Ant</td>\n",
       "      <td>NaN</td>\n",
       "      <td>NaN</td>\n",
       "      <td>Di</td>\n",
       "      <td>Antithesis</td>\n",
       "      <td>Pope_indulgences</td>\n",
       "      <td>Latin</td>\n",
       "      <td>1557-01-01</td>\n",
       "      <td>Genève</td>\n",
       "      <td>46.204717</td>\n",
       "      <td>6.142311</td>\n",
       "      <td>46.2047169, 6.1423106290939335</td>\n",
       "      <td>NaN</td>\n",
       "      <td>/Users/brigitteroux/Documents/faits de JC/édit...</td>\n",
       "      <td>NaN</td>\n",
       "    </tr>\n",
       "    <tr>\n",
       "      <th>...</th>\n",
       "      <td>...</td>\n",
       "      <td>...</td>\n",
       "      <td>...</td>\n",
       "      <td>...</td>\n",
       "      <td>...</td>\n",
       "      <td>...</td>\n",
       "      <td>...</td>\n",
       "      <td>...</td>\n",
       "      <td>...</td>\n",
       "      <td>...</td>\n",
       "      <td>...</td>\n",
       "      <td>...</td>\n",
       "      <td>...</td>\n",
       "      <td>...</td>\n",
       "      <td>...</td>\n",
       "      <td>...</td>\n",
       "      <td>...</td>\n",
       "    </tr>\n",
       "    <tr>\n",
       "      <th>157</th>\n",
       "      <td>Saugrain</td>\n",
       "      <td>FJP_Refuse_Crown_1558</td>\n",
       "      <td>FJP_58</td>\n",
       "      <td>NaN</td>\n",
       "      <td>NaN</td>\n",
       "      <td>NaN</td>\n",
       "      <td>Faits</td>\n",
       "      <td>Refuse_crown</td>\n",
       "      <td>French</td>\n",
       "      <td>1558-01-01</td>\n",
       "      <td>Lyon</td>\n",
       "      <td>45.757814</td>\n",
       "      <td>4.832011</td>\n",
       "      <td>45.7578137, 4.8320114</td>\n",
       "      <td>Lyon</td>\n",
       "      <td>/Users/brigitteroux/Documents/faits de JC/édit...</td>\n",
       "      <td>NaN</td>\n",
       "    </tr>\n",
       "    <tr>\n",
       "      <th>158</th>\n",
       "      <td>Saugrain</td>\n",
       "      <td>FJP_Refuse_Entry_Emperor_1558</td>\n",
       "      <td>FJP_58</td>\n",
       "      <td>NaN</td>\n",
       "      <td>NaN</td>\n",
       "      <td>NaN</td>\n",
       "      <td>Faits</td>\n",
       "      <td>Refuse_entry_emperor</td>\n",
       "      <td>French</td>\n",
       "      <td>1558-01-01</td>\n",
       "      <td>Lyon</td>\n",
       "      <td>45.757814</td>\n",
       "      <td>4.832011</td>\n",
       "      <td>45.7578137, 4.8320114</td>\n",
       "      <td>Lyon</td>\n",
       "      <td>/Users/brigitteroux/Documents/faits de JC/édit...</td>\n",
       "      <td>NaN</td>\n",
       "    </tr>\n",
       "    <tr>\n",
       "      <th>159</th>\n",
       "      <td>Saugrain</td>\n",
       "      <td>FJP_Nativity_1558</td>\n",
       "      <td>FJP_58</td>\n",
       "      <td>NaN</td>\n",
       "      <td>NaN</td>\n",
       "      <td>NaN</td>\n",
       "      <td>Faits</td>\n",
       "      <td>Nativity</td>\n",
       "      <td>French</td>\n",
       "      <td>1558-01-01</td>\n",
       "      <td>Lyon</td>\n",
       "      <td>45.757814</td>\n",
       "      <td>4.832011</td>\n",
       "      <td>45.7578137, 4.8320114</td>\n",
       "      <td>Lyon</td>\n",
       "      <td>/Users/brigitteroux/Documents/faits de JC/édit...</td>\n",
       "      <td>NaN</td>\n",
       "    </tr>\n",
       "    <tr>\n",
       "      <th>160</th>\n",
       "      <td>Wolfgang Köpfel</td>\n",
       "      <td>Christ_Good_Sheperd_1523</td>\n",
       "      <td>Christ</td>\n",
       "      <td>NaN</td>\n",
       "      <td>NaN</td>\n",
       "      <td>NaN</td>\n",
       "      <td>Christeliche verantwortung</td>\n",
       "      <td>Good_Sheperd</td>\n",
       "      <td>German</td>\n",
       "      <td>1523-01-01</td>\n",
       "      <td>Strasbourg</td>\n",
       "      <td>48.584614</td>\n",
       "      <td>7.750713</td>\n",
       "      <td>48.584614, 7.7507127</td>\n",
       "      <td>NaN</td>\n",
       "      <td>/Users/brigitteroux/Documents/faits de JC/édit...</td>\n",
       "      <td>NaN</td>\n",
       "    </tr>\n",
       "    <tr>\n",
       "      <th>161</th>\n",
       "      <td>Wolfgang Köpfel</td>\n",
       "      <td>Christ_Good_Sheperd_1524</td>\n",
       "      <td>Christ</td>\n",
       "      <td>NaN</td>\n",
       "      <td>NaN</td>\n",
       "      <td>NaN</td>\n",
       "      <td>Christeliche verantwortung</td>\n",
       "      <td>Good_Sheperd</td>\n",
       "      <td>German</td>\n",
       "      <td>1523-01-01</td>\n",
       "      <td>Strasbourg</td>\n",
       "      <td>48.584614</td>\n",
       "      <td>7.750713</td>\n",
       "      <td>48.584614, 7.7507127</td>\n",
       "      <td>NaN</td>\n",
       "      <td>/Users/brigitteroux/Documents/faits de JC/édit...</td>\n",
       "      <td>NaN</td>\n",
       "    </tr>\n",
       "  </tbody>\n",
       "</table>\n",
       "<p>162 rows × 17 columns</p>\n",
       "</div>"
      ],
      "text/plain": [
       "    https://ncarboni.github.io/Tropy_cinquecentine/schema#Printer  \\\n",
       "0                                      Durant Zacharie              \n",
       "1                                      Durant Zacharie              \n",
       "2                                      Durant Zacharie              \n",
       "3                                      Durant Zacharie              \n",
       "4                                      Durant Zacharie              \n",
       "..                                                 ...              \n",
       "157                                           Saugrain              \n",
       "158                                           Saugrain              \n",
       "159                                           Saugrain              \n",
       "160                                   Wolfgang Köpfel              \n",
       "161                                   Wolfgang Köpfel              \n",
       "\n",
       "                       title_image      id  \\\n",
       "0        Ant_Pope_Gold_Relics_1557     Ant   \n",
       "1         Ant_Entry_Jerusalem_1557     Ant   \n",
       "2                Ant_Pope_War_1557     Ant   \n",
       "3        Ant_Cleansing_Temple_1557     Ant   \n",
       "4        Ant_Pope_Indulgences_1557     Ant   \n",
       "..                             ...     ...   \n",
       "157          FJP_Refuse_Crown_1558  FJP_58   \n",
       "158  FJP_Refuse_Entry_Emperor_1558  FJP_58   \n",
       "159              FJP_Nativity_1558  FJP_58   \n",
       "160       Christ_Good_Sheperd_1523  Christ   \n",
       "161       Christ_Good_Sheperd_1524  Christ   \n",
       "\n",
       "     https://ncarboni.github.io/Tropy_cinquecentine/schema#PageNumber  \\\n",
       "0                                                  NaN                  \n",
       "1                                                  NaN                  \n",
       "2                                                  NaN                  \n",
       "3                                                  NaN                  \n",
       "4                                                  NaN                  \n",
       "..                                                 ...                  \n",
       "157                                                NaN                  \n",
       "158                                                NaN                  \n",
       "159                                                NaN                  \n",
       "160                                                NaN                  \n",
       "161                                                NaN                  \n",
       "\n",
       "    https://ncarboni.github.io/Tropy_cinquecentine/schema#Identifier  \\\n",
       "0                                                  NaN                 \n",
       "1                                                  NaN                 \n",
       "2                                                  NaN                 \n",
       "3                                                  NaN                 \n",
       "4                                                  NaN                 \n",
       "..                                                 ...                 \n",
       "157                                                NaN                 \n",
       "158                                                NaN                 \n",
       "159                                                NaN                 \n",
       "160                                                NaN                 \n",
       "161                                                NaN                 \n",
       "\n",
       "    https://ncarboni.github.io/Tropy_cinquecentine/schema#QuireMark  \\\n",
       "0                                                 [C5]                \n",
       "1                                                [C6v]                \n",
       "2                                                 [C7]                \n",
       "3                                                [C8v]                \n",
       "4                                                   Di                \n",
       "..                                                 ...                \n",
       "157                                                NaN                \n",
       "158                                                NaN                \n",
       "159                                                NaN                \n",
       "160                                                NaN                \n",
       "161                                                NaN                \n",
       "\n",
       "    http://id.loc.gov/ontologies/bibframe/mainTitle  \\\n",
       "0                                        Antithesis   \n",
       "1                                        Antithesis   \n",
       "2                                        Antithesis   \n",
       "3                                        Antithesis   \n",
       "4                                        Antithesis   \n",
       "..                                              ...   \n",
       "157                                           Faits   \n",
       "158                                           Faits   \n",
       "159                                           Faits   \n",
       "160                      Christeliche verantwortung   \n",
       "161                      Christeliche verantwortung   \n",
       "\n",
       "    https://ncarboni.github.io/Tropy_cinquecentine/schema#ModelType  \\\n",
       "0                                     Pope_Gold_Relics                \n",
       "1                                      Entry_Jerusalem                \n",
       "2                                             Pope_war                \n",
       "3                                     Cleansing_Temple                \n",
       "4                                     Pope_indulgences                \n",
       "..                                                 ...                \n",
       "157                                       Refuse_crown                \n",
       "158                               Refuse_entry_emperor                \n",
       "159                                           Nativity                \n",
       "160                                       Good_Sheperd                \n",
       "161                                       Good_Sheperd                \n",
       "\n",
       "    http://id.loc.gov/ontologies/bibframe/descriptionLanguage        date  \\\n",
       "0                                                Latin         1557-01-01   \n",
       "1                                                Latin         1557-01-01   \n",
       "2                                                Latin         1557-01-01   \n",
       "3                                                Latin         1557-01-01   \n",
       "4                                                Latin         1557-01-01   \n",
       "..                                                 ...                ...   \n",
       "157                                             French         1558-01-01   \n",
       "158                                             French         1558-01-01   \n",
       "159                                             French         1558-01-01   \n",
       "160                                             German         1523-01-01   \n",
       "161                                             German         1523-01-01   \n",
       "\n",
       "    https://visualcontagions.net/schema#City   latitude  longitude  \\\n",
       "0                                     Genève  46.204717   6.142311   \n",
       "1                                     Genève  46.204717   6.142311   \n",
       "2                                     Genève  46.204717   6.142311   \n",
       "3                                     Genève  46.204717   6.142311   \n",
       "4                                     Genève  46.204717   6.142311   \n",
       "..                                       ...        ...        ...   \n",
       "157                                     Lyon  45.757814   4.832011   \n",
       "158                                     Lyon  45.757814   4.832011   \n",
       "159                                     Lyon  45.757814   4.832011   \n",
       "160                               Strasbourg  48.584614   7.750713   \n",
       "161                               Strasbourg  48.584614   7.750713   \n",
       "\n",
       "                              coord https://tropy.org/v1/tropy#tag  \\\n",
       "0    46.2047169, 6.1423106290939335                            NaN   \n",
       "1    46.2047169, 6.1423106290939335                            NaN   \n",
       "2    46.2047169, 6.1423106290939335                            NaN   \n",
       "3    46.2047169, 6.1423106290939335                            NaN   \n",
       "4    46.2047169, 6.1423106290939335                            NaN   \n",
       "..                              ...                            ...   \n",
       "157           45.7578137, 4.8320114                           Lyon   \n",
       "158           45.7578137, 4.8320114                           Lyon   \n",
       "159           45.7578137, 4.8320114                           Lyon   \n",
       "160            48.584614, 7.7507127                            NaN   \n",
       "161            48.584614, 7.7507127                            NaN   \n",
       "\n",
       "                       https://tropy.org/v1/tropy#path  \\\n",
       "0    /Users/brigitteroux/Documents/faits de JC/édit...   \n",
       "1    /Users/brigitteroux/Documents/faits de JC/édit...   \n",
       "2    /Users/brigitteroux/Documents/faits de JC/édit...   \n",
       "3    /Users/brigitteroux/Documents/faits de JC/édit...   \n",
       "4    /Users/brigitteroux/Documents/faits de JC/édit...   \n",
       "..                                                 ...   \n",
       "157  /Users/brigitteroux/Documents/faits de JC/édit...   \n",
       "158  /Users/brigitteroux/Documents/faits de JC/édit...   \n",
       "159  /Users/brigitteroux/Documents/faits de JC/édit...   \n",
       "160  /Users/brigitteroux/Documents/faits de JC/édit...   \n",
       "161  /Users/brigitteroux/Documents/faits de JC/édit...   \n",
       "\n",
       "     https://tropy.org/v1/tropy#note  \n",
       "0                                NaN  \n",
       "1                                NaN  \n",
       "2                                NaN  \n",
       "3                                NaN  \n",
       "4                                NaN  \n",
       "..                               ...  \n",
       "157                              NaN  \n",
       "158                              NaN  \n",
       "159                              NaN  \n",
       "160                              NaN  \n",
       "161                              NaN  \n",
       "\n",
       "[162 rows x 17 columns]"
      ]
     },
     "execution_count": 93,
     "metadata": {},
     "output_type": "execute_result"
    }
   ],
   "source": [
    "df"
   ]
  },
  {
   "cell_type": "markdown",
   "id": "72679163-e47d-47fe-8fc9-55d1ac35902d",
   "metadata": {
    "jp-MarkdownHeadingCollapsed": true,
    "tags": []
   },
   "source": [
    "## In case you have clusters (or other categories) & WKT coordinates"
   ]
  },
  {
   "cell_type": "code",
   "execution_count": null,
   "id": "8c4829a0-dd41-4586-8188-90543ec60b71",
   "metadata": {},
   "outputs": [],
   "source": [
    "## Remember to change the name of the column according to your data\n",
    "\n",
    "transformed_data = []\n",
    "\n",
    "for cluster, group_df in df.groupby('Cluster'): #add name of the category to group here\n",
    "    group_df = group_df.sort_values(by='Date') # sort values by the temporal data, add your column here\n",
    "    group_df['origin'] = group_df['wkt'] # wkt here is the column where you have the coordinates\n",
    "    group_df['destination'] = group_df['wkt'].shift(-1).fillna(group_df['wkt'].iloc[-1])\n",
    "    transformed_data.append(group_df)\n",
    "\n",
    "# Concatenate all transformed groups\n",
    "transformed_df = pd.concat(transformed_data)"
   ]
  },
  {
   "cell_type": "code",
   "execution_count": null,
   "id": "10d7dba1-5500-400b-94f9-d2f9c6179f61",
   "metadata": {},
   "outputs": [],
   "source": [
    "transformed_df.head()"
   ]
  },
  {
   "cell_type": "code",
   "execution_count": null,
   "id": "1166f2e0-b29a-4924-8bf4-56cf081288fc",
   "metadata": {},
   "outputs": [],
   "source": [
    "transformed_df['date'] = pd.to_datetime(transformed_df['date']).dt.strftime('%Y-%m-%dT%H:%M:%S')"
   ]
  },
  {
   "cell_type": "code",
   "execution_count": null,
   "id": "824eabc8-eab4-419c-ac52-c9bd7a564205",
   "metadata": {},
   "outputs": [],
   "source": [
    "## in case the other formula give you an error similar to:\n",
    "## \"OutOfBoundsDatetime: Out of bounds nanosecond timestamp: 1521-01-01 00:00:00 present at position 0\"\n",
    "## use this formula to add T00:00:00 to the current YYYY-MM-DD dates. \n",
    "## Before using this formula be sure that the date are in YYYY-MM-DD format\n",
    "## remove the '#' (comment) on the code before running the instruction. Leave this text alone.\n",
    "\n",
    "#transformed_df['date'] = transformed_df['date'] + \"T00:00:00\""
   ]
  },
  {
   "cell_type": "code",
   "execution_count": null,
   "id": "9f5a34cf-e3f5-4b14-bcb8-5a97a2b60368",
   "metadata": {},
   "outputs": [],
   "source": [
    "transformed_df[['origin_longitude', 'origin_latitude']] = transformed_df['origin'].str.extract(r'POINT\\(([^ ]+) ([^ ]+)\\)')"
   ]
  },
  {
   "cell_type": "code",
   "execution_count": null,
   "id": "7a9baf6f-1426-4a1d-a99a-5575d941e77a",
   "metadata": {},
   "outputs": [],
   "source": [
    "transformed_df[['destination_longitude', 'destination_latitude']] = transformed_df['destination'].str.extract(r'POINT\\(([^ ]+) ([^ ]+)\\)')"
   ]
  },
  {
   "cell_type": "code",
   "execution_count": null,
   "id": "6befd9df-6477-4664-8f27-98ba9a31a046",
   "metadata": {},
   "outputs": [],
   "source": [
    "transformed_df.drop(['destination', 'origin', 'wkt'], axis=1, inplace=True)"
   ]
  },
  {
   "cell_type": "code",
   "execution_count": null,
   "id": "57c0e020-0b09-4bbc-b3e6-9d31e5878da9",
   "metadata": {},
   "outputs": [],
   "source": [
    "## due to one error in the metadata file, if you are using Leopard data you may need \n",
    "## to use this instruction\n",
    "\n",
    "transformed_df['City'] = transformed_df['City'].replace('New York', 'New York City')"
   ]
  },
  {
   "cell_type": "code",
   "execution_count": null,
   "id": "0c06341a-60b4-4c74-ba4b-887f02bcc386",
   "metadata": {},
   "outputs": [],
   "source": [
    "transformed_df.drop(['destination', 'origin', 'wkt'], axis=1, inplace=True)"
   ]
  },
  {
   "cell_type": "markdown",
   "id": "a441f50d-6ed5-40c7-9bc2-5a050481af19",
   "metadata": {
    "tags": []
   },
   "source": [
    "## In case you have clusters (or other categories) & decimal (lat,long) coordinates"
   ]
  },
  {
   "cell_type": "code",
   "execution_count": 78,
   "id": "37bdea27-4320-47b2-8969-84c854724b36",
   "metadata": {},
   "outputs": [],
   "source": [
    "## if your coordinate column is splitted into latitude and longitude, use the formula to put them together.\n",
    "## Change the name of the column accordingly and remove the '#' (comment) on the code before running the instruction. Leave this text alone.\n",
    "\n",
    "# df['coord'] = df['latitude'].astype(str) + \",\" + df['longitude'].astype(str)"
   ]
  },
  {
   "cell_type": "code",
   "execution_count": 94,
   "id": "f0e411d9-debb-4a4d-abc1-587e0473e6c5",
   "metadata": {},
   "outputs": [],
   "source": [
    "## Remember to change the name of the column according to your data\n",
    "\n",
    "transformed_data = []\n",
    "\n",
    "for cluster, group_df in df.groupby('https://ncarboni.github.io/Tropy_cinquecentine/schema#ModelType'): #add name of the category to group here\n",
    "    group_df = group_df.sort_values(by='date') # sort values by the temporal data, add your column here\n",
    "    group_df['origin'] = group_df['coord'] # coord here is the column where you have the decimal coordinates (lat,long)\n",
    "    group_df['destination'] = group_df['coord'].shift(-1).fillna(group_df['coord'].iloc[-1])\n",
    "    transformed_data.append(group_df)\n",
    "\n",
    "# Concatenate all transformed groups\n",
    "transformed_df = pd.concat(transformed_data)"
   ]
  },
  {
   "cell_type": "code",
   "execution_count": 80,
   "id": "b85f25f6-836f-46c4-8188-5dadd3f1278c",
   "metadata": {},
   "outputs": [],
   "source": [
    "#transformed_df['date'] = pd.to_datetime(transformed_df['date']).dt.strftime('%Y-%m-%dT%H:%M:%S')"
   ]
  },
  {
   "cell_type": "code",
   "execution_count": 95,
   "id": "27292bf5-0f06-4cce-9fcc-75dd4d63727b",
   "metadata": {},
   "outputs": [],
   "source": [
    "## in case the other formula give you an error similar to:\n",
    "## \"OutOfBoundsDatetime: Out of bounds nanosecond timestamp: 1521-01-01 00:00:00 present at position 0\"\n",
    "## use this formula to add T00:00:00 to the current YYYY-MM-DD dates. \n",
    "## Before using this formula be sure that the date are in YYYY-MM-DD format\n",
    "## remove the '#' (comment) on the code before running the instruction. Leave this text alone.\n",
    "\n",
    "transformed_df['date'] = transformed_df['date'] + \"T00:00:00\""
   ]
  },
  {
   "cell_type": "code",
   "execution_count": 96,
   "id": "b15aa208-7074-43d8-ad3c-5d00592dbab7",
   "metadata": {},
   "outputs": [],
   "source": [
    "transformed_df[['origin_latitude', 'origin_longitude']] = transformed_df['origin'].str.split(',', n=1, expand=True)\n",
    "transformed_df[['destination_latitude','destination_longitude']] = transformed_df['destination'].str.split(',', n=1, expand=True)"
   ]
  },
  {
   "cell_type": "code",
   "execution_count": 97,
   "id": "4057d3bd-8dbc-410b-bd7a-3df783fabc02",
   "metadata": {},
   "outputs": [],
   "source": [
    "transformed_df.drop(['destination', 'origin', 'coord'], axis=1, inplace=True)"
   ]
  },
  {
   "cell_type": "markdown",
   "id": "2ccdec65-f833-43d4-9737-905f84937887",
   "metadata": {
    "jp-MarkdownHeadingCollapsed": true,
    "tags": []
   },
   "source": [
    "## In case you DO NOT have clusters (or other categories) and have decimal (lat,long) coordinates"
   ]
  },
  {
   "cell_type": "code",
   "execution_count": null,
   "id": "f3dee8d2-0cf0-487c-bcfa-28eb6208a349",
   "metadata": {},
   "outputs": [],
   "source": [
    "## If you have the coordinates stored in a single column in the form: lat,long\n",
    "## use the instruction above to divide them\n",
    "## remove the '#' (comment) on the code before running the instruction. Leave this text alone.\n",
    "\n",
    "# df[['lat', 'long']] = df['coord'].str.split(',', n=1, expand=True)"
   ]
  },
  {
   "cell_type": "code",
   "execution_count": null,
   "id": "86872a43-7bbe-4ba6-a3f6-18338a1d59d6",
   "metadata": {},
   "outputs": [],
   "source": [
    "# df['Date'] = pd.to_datetime(df['Date'])"
   ]
  },
  {
   "cell_type": "code",
   "execution_count": null,
   "id": "6f301a6e-c575-4a26-a588-dea77ffc26b7",
   "metadata": {},
   "outputs": [],
   "source": [
    "df = df.sort_values(by='Date')"
   ]
  },
  {
   "cell_type": "code",
   "execution_count": null,
   "id": "b6ce0265-407a-4fa7-8bf7-ea92ca957d36",
   "metadata": {},
   "outputs": [],
   "source": [
    "df['origin_lat'] = df['lat']\n",
    "df['origin_long'] = df['long']"
   ]
  },
  {
   "cell_type": "code",
   "execution_count": null,
   "id": "eaccac50-0948-4744-8783-d34fcf395137",
   "metadata": {},
   "outputs": [],
   "source": [
    "df['dest_lat'] = df['lat'].shift(-1).fillna(df['lat'].iloc[-1])\n",
    "df['dest_long'] = df['long'].shift(-1).fillna(df['long'].iloc[-1])"
   ]
  },
  {
   "cell_type": "code",
   "execution_count": null,
   "id": "3f570af3-0e4f-488b-a6d6-e4e658406e11",
   "metadata": {},
   "outputs": [],
   "source": [
    "df['date'] = pd.to_datetime(transformed_df['date']).dt.strftime('%Y-%m-%dT%H:%M:%S')"
   ]
  },
  {
   "cell_type": "code",
   "execution_count": null,
   "id": "4a56115c-91b6-4aad-8771-adcae57c87c5",
   "metadata": {},
   "outputs": [],
   "source": [
    "## in case the other formula give you an error similar to:\n",
    "## \"OutOfBoundsDatetime: Out of bounds nanosecond timestamp: 1521-01-01 00:00:00 present at position 0\"\n",
    "## use this formula to add T00:00:00 to the current YYYY-MM-DD dates. \n",
    "## Before using this formula be sure that the date are in YYYY-MM-DD format\n",
    "## remove the '#' (comment) on the code before running the instruction. Leave this text alone.\n",
    "\n",
    "#df['date'] = df['date'] + \"T00:00:00\""
   ]
  },
  {
   "cell_type": "code",
   "execution_count": null,
   "id": "1345fbd9-ee27-49d2-bb87-ba3387138c75",
   "metadata": {},
   "outputs": [],
   "source": [
    "transformed_df = df"
   ]
  },
  {
   "cell_type": "code",
   "execution_count": null,
   "id": "df858e17-1e1b-430d-b2a5-b10cb159ec5e",
   "metadata": {},
   "outputs": [],
   "source": [
    "transformed_df.drop(['lat', 'long'], axis=1, inplace=True)"
   ]
  },
  {
   "cell_type": "markdown",
   "id": "fc8277e2-1380-4dc3-a6b7-d48e23d6b5f9",
   "metadata": {},
   "source": [
    "## Common Operations"
   ]
  },
  {
   "cell_type": "code",
   "execution_count": null,
   "id": "8aae2797-53aa-4f91-9d60-0802b897dddb",
   "metadata": {},
   "outputs": [],
   "source": [
    "transformed_df"
   ]
  },
  {
   "cell_type": "markdown",
   "id": "7f56e0cc-b6d0-4844-900e-b2f8918e34de",
   "metadata": {},
   "source": [
    "### Duration"
   ]
  },
  {
   "cell_type": "code",
   "execution_count": null,
   "id": "81a815df-6d5e-42f1-a4c6-95c423eb2bb3",
   "metadata": {},
   "outputs": [],
   "source": [
    "# Calculate the duration for each movement\n",
    "##\n",
    "transformed_df['date'] = pd.to_datetime(transformed_df['date'])\n",
    "transformed_df['Duration'] = transformed_df.groupby('Cluster')['date'].diff().fillna(pd.Timedelta(seconds=0))"
   ]
  },
  {
   "cell_type": "markdown",
   "id": "5a18dfe0-075a-4658-8510-388925f5497f",
   "metadata": {},
   "source": [
    "### Count cities"
   ]
  },
  {
   "cell_type": "code",
   "execution_count": 98,
   "id": "80059ba5-09d3-46e3-92b2-3c2c773d555b",
   "metadata": {},
   "outputs": [],
   "source": [
    "transformed_df['city_number'] = transformed_df.groupby(['https://visualcontagions.net/schema#City'])['https://visualcontagions.net/schema#City'].transform('count')"
   ]
  },
  {
   "cell_type": "markdown",
   "id": "f0c1a861-48f0-4181-9dc3-e6906bef9573",
   "metadata": {},
   "source": [
    "### Count number of images per edition"
   ]
  },
  {
   "cell_type": "code",
   "execution_count": 99,
   "id": "f7035638-90d5-4810-aea1-56c6a775774c",
   "metadata": {},
   "outputs": [],
   "source": [
    "transformed_df['image_number_per_edition'] = transformed_df.groupby('id')['id'].transform('count')"
   ]
  },
  {
   "cell_type": "markdown",
   "id": "b6444ae2-8f33-4297-af69-6334e6cc546b",
   "metadata": {},
   "source": [
    "### Save the CSV"
   ]
  },
  {
   "cell_type": "code",
   "execution_count": 58,
   "id": "de4c5d50-f500-4d11-810e-99c65ffc50f9",
   "metadata": {},
   "outputs": [],
   "source": [
    "transformed_df.to_csv('foursquare_images.csv', index=False)"
   ]
  },
  {
   "cell_type": "markdown",
   "id": "484a792a-4351-4b58-b389-844cce7cf2da",
   "metadata": {},
   "source": [
    "### Save the CSV without namespaces"
   ]
  },
  {
   "cell_type": "code",
   "execution_count": 100,
   "id": "cfb4261b-06a1-4850-8539-16e374020197",
   "metadata": {},
   "outputs": [],
   "source": [
    "transformed_df.sort_values(['https://ncarboni.github.io/Tropy_cinquecentine/schema#ModelType', 'date'], ascending=[True, True], inplace=True)"
   ]
  },
  {
   "cell_type": "code",
   "execution_count": 70,
   "id": "18578007-b4b4-47be-96cc-948747cf4f8c",
   "metadata": {},
   "outputs": [],
   "source": [
    "#keyword = 'Poverty'\n",
    "#transformed_df = transformed_df[transformed_df['https://ncarboni.github.io/Tropy_cinquecentine/schema#ModelType'].str.contains(keyword, case=False, na=False)]"
   ]
  },
  {
   "cell_type": "code",
   "execution_count": 101,
   "id": "d8c1ce35-2abf-4e7e-a443-99806f366516",
   "metadata": {},
   "outputs": [],
   "source": [
    "replacements = {\n",
    "    \"https://ncarboni.github.io/Tropy_cinquecentine/schema#\": \"cc:\",\n",
    "    \"http://id.loc.gov/ontologies/bibframe/\": \"bf:\",\n",
    "    \"https://visualcontagions.net/schema#\": \"vc:\",\n",
    "    \"https://tropy.org/v1/tropy#\": \"tr:\"\n",
    "}\n",
    "\n",
    "def replace_column_names(col_name):\n",
    "    for old, new in replacements.items():\n",
    "        col_name = col_name.replace(old, new)\n",
    "    return col_name\n",
    "\n",
    "transformed_df.columns = [replace_column_names(col) for col in transformed_df.columns]"
   ]
  },
  {
   "cell_type": "code",
   "execution_count": 89,
   "id": "3bd4fce4-7be5-4406-9bc9-9f799d44b8b1",
   "metadata": {},
   "outputs": [],
   "source": [
    "# transformed_df.drop(['latitude', 'longitude', 'tr:path', 'tr:tag', 'tr:note'], axis=1, inplace=True)"
   ]
  },
  {
   "cell_type": "code",
   "execution_count": 102,
   "id": "1d1e45ca-f677-402c-b4ec-dbc69bea84e5",
   "metadata": {},
   "outputs": [],
   "source": [
    "transformed_df.to_csv('foursquare_images_mod.csv', index=False)"
   ]
  },
  {
   "cell_type": "code",
   "execution_count": null,
   "id": "3a42e792-d702-4836-81b7-c4b1ecc2181a",
   "metadata": {},
   "outputs": [],
   "source": []
  }
 ],
 "metadata": {
  "kernelspec": {
   "display_name": "Python 3 (ipykernel)",
   "language": "python",
   "name": "python3"
  },
  "language_info": {
   "codemirror_mode": {
    "name": "ipython",
    "version": 3
   },
   "file_extension": ".py",
   "mimetype": "text/x-python",
   "name": "python",
   "nbconvert_exporter": "python",
   "pygments_lexer": "ipython3",
   "version": "3.10.8"
  }
 },
 "nbformat": 4,
 "nbformat_minor": 5
}
