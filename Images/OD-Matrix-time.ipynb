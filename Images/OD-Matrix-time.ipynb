{
 "cells": [
  {
   "cell_type": "code",
   "execution_count": 1,
   "id": "96f90b0e-4c59-40b0-a57b-7ff94b00396c",
   "metadata": {},
   "outputs": [],
   "source": [
    "import pandas as pd\n",
    "import os"
   ]
  },
  {
   "cell_type": "code",
   "execution_count": 36,
   "id": "120215b2-3975-481c-b1be-b5bdc0082faa",
   "metadata": {},
   "outputs": [],
   "source": [
    "df = pd.read_csv('/Users/carboni/Downloads/Leopard Dec 19 2023.csv')"
   ]
  },
  {
   "cell_type": "markdown",
   "id": "4b343904-0681-4ebd-8ca8-488672634d2f",
   "metadata": {},
   "source": [
    "### Clusters and other keywords"
   ]
  },
  {
   "cell_type": "code",
   "execution_count": 37,
   "id": "cbe00d75-4f38-4c6c-b28b-b8702023e2f3",
   "metadata": {},
   "outputs": [],
   "source": [
    "#keyword = 'Bête'\n",
    "#df = df[df['cluster'].str.contains(keyword, case=False, na=False)]"
   ]
  },
  {
   "cell_type": "code",
   "execution_count": 38,
   "id": "2d242c1f-916a-447f-867e-97fb5d9d0d13",
   "metadata": {},
   "outputs": [
    {
     "data": {
      "text/html": [
       "<div>\n",
       "<style scoped>\n",
       "    .dataframe tbody tr th:only-of-type {\n",
       "        vertical-align: middle;\n",
       "    }\n",
       "\n",
       "    .dataframe tbody tr th {\n",
       "        vertical-align: top;\n",
       "    }\n",
       "\n",
       "    .dataframe thead th {\n",
       "        text-align: right;\n",
       "    }\n",
       "</style>\n",
       "<table border=\"1\" class=\"dataframe\">\n",
       "  <thead>\n",
       "    <tr style=\"text-align: right;\">\n",
       "      <th></th>\n",
       "      <th>cluster</th>\n",
       "      <th>manifest_url</th>\n",
       "      <th>canvas_number</th>\n",
       "      <th>image_url</th>\n",
       "      <th>City</th>\n",
       "      <th>Country</th>\n",
       "      <th>Title</th>\n",
       "      <th>wkt</th>\n",
       "      <th>Date</th>\n",
       "      <th>Journal Type</th>\n",
       "      <th>notice</th>\n",
       "    </tr>\n",
       "  </thead>\n",
       "  <tbody>\n",
       "    <tr>\n",
       "      <th>0</th>\n",
       "      <td>Léopard Fourrure</td>\n",
       "      <td>https://digi.ub.uni-heidelberg.de/diglit/iiif/...</td>\n",
       "      <td>11.0</td>\n",
       "      <td>https://digi.ub.uni-heidelberg.de/iiif/2/punch...</td>\n",
       "      <td>London</td>\n",
       "      <td>United Kingdom</td>\n",
       "      <td>Punch's Almanack</td>\n",
       "      <td>POINT(-0.1275 51.507222222222)</td>\n",
       "      <td>1921-01-01</td>\n",
       "      <td>Humour</td>\n",
       "      <td>NaN</td>\n",
       "    </tr>\n",
       "    <tr>\n",
       "      <th>1</th>\n",
       "      <td>Léopard Fourrure</td>\n",
       "      <td>https://digi.ub.uni-heidelberg.de/diglit/iiif/...</td>\n",
       "      <td>12.0</td>\n",
       "      <td>https://digi.ub.uni-heidelberg.de/iiif/2/fb164...</td>\n",
       "      <td>Munich</td>\n",
       "      <td>Germany</td>\n",
       "      <td>Fliegende Blätter</td>\n",
       "      <td>POINT(11.575 48.1375)</td>\n",
       "      <td>1926-01-01</td>\n",
       "      <td>Humour</td>\n",
       "      <td>NaN</td>\n",
       "    </tr>\n",
       "    <tr>\n",
       "      <th>2</th>\n",
       "      <td>Léopard Fourrure</td>\n",
       "      <td>https://digi.ub.uni-heidelberg.de/diglit/iiif/...</td>\n",
       "      <td>13.0</td>\n",
       "      <td>https://digi.ub.uni-heidelberg.de/iiif/2/studi...</td>\n",
       "      <td>London</td>\n",
       "      <td>United Kingdom</td>\n",
       "      <td>Studio : international art</td>\n",
       "      <td>POINT(-0.1275 51.507222222222)</td>\n",
       "      <td>1901-01-01</td>\n",
       "      <td>Modern Art Journal</td>\n",
       "      <td>NaN</td>\n",
       "    </tr>\n",
       "    <tr>\n",
       "      <th>3</th>\n",
       "      <td>Léopard Fourrure</td>\n",
       "      <td>https://digi.ub.uni-heidelberg.de/diglit/iiif/...</td>\n",
       "      <td>33.0</td>\n",
       "      <td>https://digi.ub.uni-heidelberg.de/iiif/2/punch...</td>\n",
       "      <td>London</td>\n",
       "      <td>United Kingdom</td>\n",
       "      <td>Punch</td>\n",
       "      <td>POINT(-0.1275 51.507222222222)</td>\n",
       "      <td>1924-01-01</td>\n",
       "      <td>Humour</td>\n",
       "      <td>NaN</td>\n",
       "    </tr>\n",
       "    <tr>\n",
       "      <th>4</th>\n",
       "      <td>Léopard Fourrure</td>\n",
       "      <td>https://digi.ub.uni-heidelberg.de/diglit/iiif/...</td>\n",
       "      <td>34.0</td>\n",
       "      <td>https://digi.ub.uni-heidelberg.de/iiif/2/punch...</td>\n",
       "      <td>London</td>\n",
       "      <td>United Kingdom</td>\n",
       "      <td>Punch</td>\n",
       "      <td>POINT(-0.1275 51.507222222222)</td>\n",
       "      <td>1924-01-01</td>\n",
       "      <td>Humour</td>\n",
       "      <td>NaN</td>\n",
       "    </tr>\n",
       "  </tbody>\n",
       "</table>\n",
       "</div>"
      ],
      "text/plain": [
       "            cluster                                       manifest_url  \\\n",
       "0  Léopard Fourrure  https://digi.ub.uni-heidelberg.de/diglit/iiif/...   \n",
       "1  Léopard Fourrure  https://digi.ub.uni-heidelberg.de/diglit/iiif/...   \n",
       "2  Léopard Fourrure  https://digi.ub.uni-heidelberg.de/diglit/iiif/...   \n",
       "3  Léopard Fourrure  https://digi.ub.uni-heidelberg.de/diglit/iiif/...   \n",
       "4  Léopard Fourrure  https://digi.ub.uni-heidelberg.de/diglit/iiif/...   \n",
       "\n",
       "   canvas_number                                          image_url    City  \\\n",
       "0           11.0  https://digi.ub.uni-heidelberg.de/iiif/2/punch...  London   \n",
       "1           12.0  https://digi.ub.uni-heidelberg.de/iiif/2/fb164...  Munich   \n",
       "2           13.0  https://digi.ub.uni-heidelberg.de/iiif/2/studi...  London   \n",
       "3           33.0  https://digi.ub.uni-heidelberg.de/iiif/2/punch...  London   \n",
       "4           34.0  https://digi.ub.uni-heidelberg.de/iiif/2/punch...  London   \n",
       "\n",
       "          Country                       Title                             wkt  \\\n",
       "0  United Kingdom            Punch's Almanack  POINT(-0.1275 51.507222222222)   \n",
       "1         Germany           Fliegende Blätter           POINT(11.575 48.1375)   \n",
       "2  United Kingdom  Studio : international art  POINT(-0.1275 51.507222222222)   \n",
       "3  United Kingdom                       Punch  POINT(-0.1275 51.507222222222)   \n",
       "4  United Kingdom                       Punch  POINT(-0.1275 51.507222222222)   \n",
       "\n",
       "         Date        Journal Type  notice  \n",
       "0  1921-01-01              Humour     NaN  \n",
       "1  1926-01-01              Humour     NaN  \n",
       "2  1901-01-01  Modern Art Journal     NaN  \n",
       "3  1924-01-01              Humour     NaN  \n",
       "4  1924-01-01              Humour     NaN  "
      ]
     },
     "execution_count": 38,
     "metadata": {},
     "output_type": "execute_result"
    }
   ],
   "source": [
    "df.head()"
   ]
  },
  {
   "cell_type": "markdown",
   "id": "2b39bbf8-4601-4c4c-9f23-4a3cc7b93ef8",
   "metadata": {},
   "source": [
    "## Index city "
   ]
  },
  {
   "cell_type": "markdown",
   "id": "a7034514-404b-4f90-91bc-5295d3a5f4de",
   "metadata": {
    "tags": []
   },
   "source": [
    "### If WKT"
   ]
  },
  {
   "cell_type": "code",
   "execution_count": 39,
   "id": "e1ace343-8863-47ba-a1dc-cf57149f27bb",
   "metadata": {},
   "outputs": [],
   "source": [
    "df[['lon', 'lat']] = df['wkt'].str.extract(r'POINT\\(([^ ]+) ([^ ]+)\\)')"
   ]
  },
  {
   "cell_type": "markdown",
   "id": "3dea4cd6-cca1-409b-89c7-e438e595c1c2",
   "metadata": {},
   "source": [
    "### if not wkt"
   ]
  },
  {
   "cell_type": "code",
   "execution_count": 40,
   "id": "1f284641-f75d-4a06-a1cb-5480946d9a7e",
   "metadata": {},
   "outputs": [],
   "source": [
    "city_coords = df.groupby('City').agg({'lat': 'first', 'lon': 'first'}).reset_index()"
   ]
  },
  {
   "cell_type": "code",
   "execution_count": 41,
   "id": "065048a7-7065-4e7a-85f8-cfa234249fb5",
   "metadata": {},
   "outputs": [],
   "source": [
    "city_coords.rename({'City': 'name'}, axis=1, inplace=True)"
   ]
  },
  {
   "cell_type": "code",
   "execution_count": 42,
   "id": "5db19100-ade1-4e04-af8c-3e30227aa514",
   "metadata": {},
   "outputs": [],
   "source": [
    "city_coords.index = city_coords.index + 1\n",
    "city_coords.index.name = 'id'"
   ]
  },
  {
   "cell_type": "code",
   "execution_count": 43,
   "id": "4e35713a-a02e-4b5b-b13b-1b3525592fb4",
   "metadata": {},
   "outputs": [
    {
     "name": "stdout",
     "output_type": "stream",
     "text": [
      "                 name                lat                  lon\n",
      "id                                                           \n",
      "1            Aberdeen  46.97536111111111  -123.81572222222222\n",
      "2         Albuquerque    35.116666666667     -106.61666666667\n",
      "3             Algiers    36.776388888889      3.0586111111111\n",
      "4                Alma    43.378888888889     -84.659722222222\n",
      "5            Amarillo    35.199166666667     -101.84527777778\n",
      "..                ...                ...                  ...\n",
      "222        Wilmington    34.223333333333     -77.912222222222\n",
      "223  Wisconsin Rapids    44.394444444444     -89.832777777778\n",
      "224              Yale    43.130277777778     -82.797777777778\n",
      "225            Évreux    49.023333333333               1.1525\n",
      "226              Žiri          46.046019            14.108283\n",
      "\n",
      "[226 rows x 3 columns]\n"
     ]
    }
   ],
   "source": [
    "print(city_coords)"
   ]
  },
  {
   "cell_type": "code",
   "execution_count": 44,
   "id": "0804ded8-99af-4eac-814a-146cfa0657c1",
   "metadata": {},
   "outputs": [],
   "source": [
    "city_coords.to_csv('od_city_index.csv', index=True)"
   ]
  },
  {
   "cell_type": "markdown",
   "id": "f303be77-2ea3-448f-b56f-23946f1b986d",
   "metadata": {},
   "source": [
    "## Index to OD Matrix"
   ]
  },
  {
   "cell_type": "code",
   "execution_count": 45,
   "id": "9c7d8043-b15a-4075-b7c6-da538cc19996",
   "metadata": {},
   "outputs": [],
   "source": [
    "#df['Year'] = df['date'].str.split('-', n=1, expand=True)[0]"
   ]
  },
  {
   "cell_type": "code",
   "execution_count": 46,
   "id": "b2644069-bfbf-46af-a8d9-872ac4ae31cd",
   "metadata": {},
   "outputs": [],
   "source": [
    "df['Year'] = pd.to_datetime(df['Date']).dt.year"
   ]
  },
  {
   "cell_type": "code",
   "execution_count": 47,
   "id": "99b390fd-a22f-4c4d-be7b-c46c23bcb4c2",
   "metadata": {},
   "outputs": [
    {
     "data": {
      "text/html": [
       "<div>\n",
       "<style scoped>\n",
       "    .dataframe tbody tr th:only-of-type {\n",
       "        vertical-align: middle;\n",
       "    }\n",
       "\n",
       "    .dataframe tbody tr th {\n",
       "        vertical-align: top;\n",
       "    }\n",
       "\n",
       "    .dataframe thead th {\n",
       "        text-align: right;\n",
       "    }\n",
       "</style>\n",
       "<table border=\"1\" class=\"dataframe\">\n",
       "  <thead>\n",
       "    <tr style=\"text-align: right;\">\n",
       "      <th></th>\n",
       "      <th>cluster</th>\n",
       "      <th>manifest_url</th>\n",
       "      <th>canvas_number</th>\n",
       "      <th>image_url</th>\n",
       "      <th>City</th>\n",
       "      <th>Country</th>\n",
       "      <th>Title</th>\n",
       "      <th>wkt</th>\n",
       "      <th>Date</th>\n",
       "      <th>Journal Type</th>\n",
       "      <th>notice</th>\n",
       "      <th>lon</th>\n",
       "      <th>lat</th>\n",
       "      <th>Year</th>\n",
       "    </tr>\n",
       "  </thead>\n",
       "  <tbody>\n",
       "    <tr>\n",
       "      <th>0</th>\n",
       "      <td>Léopard Fourrure</td>\n",
       "      <td>https://digi.ub.uni-heidelberg.de/diglit/iiif/...</td>\n",
       "      <td>11.0</td>\n",
       "      <td>https://digi.ub.uni-heidelberg.de/iiif/2/punch...</td>\n",
       "      <td>London</td>\n",
       "      <td>United Kingdom</td>\n",
       "      <td>Punch's Almanack</td>\n",
       "      <td>POINT(-0.1275 51.507222222222)</td>\n",
       "      <td>1921-01-01</td>\n",
       "      <td>Humour</td>\n",
       "      <td>NaN</td>\n",
       "      <td>-0.1275</td>\n",
       "      <td>51.507222222222</td>\n",
       "      <td>1921</td>\n",
       "    </tr>\n",
       "    <tr>\n",
       "      <th>1</th>\n",
       "      <td>Léopard Fourrure</td>\n",
       "      <td>https://digi.ub.uni-heidelberg.de/diglit/iiif/...</td>\n",
       "      <td>12.0</td>\n",
       "      <td>https://digi.ub.uni-heidelberg.de/iiif/2/fb164...</td>\n",
       "      <td>Munich</td>\n",
       "      <td>Germany</td>\n",
       "      <td>Fliegende Blätter</td>\n",
       "      <td>POINT(11.575 48.1375)</td>\n",
       "      <td>1926-01-01</td>\n",
       "      <td>Humour</td>\n",
       "      <td>NaN</td>\n",
       "      <td>11.575</td>\n",
       "      <td>48.1375</td>\n",
       "      <td>1926</td>\n",
       "    </tr>\n",
       "    <tr>\n",
       "      <th>2</th>\n",
       "      <td>Léopard Fourrure</td>\n",
       "      <td>https://digi.ub.uni-heidelberg.de/diglit/iiif/...</td>\n",
       "      <td>13.0</td>\n",
       "      <td>https://digi.ub.uni-heidelberg.de/iiif/2/studi...</td>\n",
       "      <td>London</td>\n",
       "      <td>United Kingdom</td>\n",
       "      <td>Studio : international art</td>\n",
       "      <td>POINT(-0.1275 51.507222222222)</td>\n",
       "      <td>1901-01-01</td>\n",
       "      <td>Modern Art Journal</td>\n",
       "      <td>NaN</td>\n",
       "      <td>-0.1275</td>\n",
       "      <td>51.507222222222</td>\n",
       "      <td>1901</td>\n",
       "    </tr>\n",
       "    <tr>\n",
       "      <th>3</th>\n",
       "      <td>Léopard Fourrure</td>\n",
       "      <td>https://digi.ub.uni-heidelberg.de/diglit/iiif/...</td>\n",
       "      <td>33.0</td>\n",
       "      <td>https://digi.ub.uni-heidelberg.de/iiif/2/punch...</td>\n",
       "      <td>London</td>\n",
       "      <td>United Kingdom</td>\n",
       "      <td>Punch</td>\n",
       "      <td>POINT(-0.1275 51.507222222222)</td>\n",
       "      <td>1924-01-01</td>\n",
       "      <td>Humour</td>\n",
       "      <td>NaN</td>\n",
       "      <td>-0.1275</td>\n",
       "      <td>51.507222222222</td>\n",
       "      <td>1924</td>\n",
       "    </tr>\n",
       "    <tr>\n",
       "      <th>4</th>\n",
       "      <td>Léopard Fourrure</td>\n",
       "      <td>https://digi.ub.uni-heidelberg.de/diglit/iiif/...</td>\n",
       "      <td>34.0</td>\n",
       "      <td>https://digi.ub.uni-heidelberg.de/iiif/2/punch...</td>\n",
       "      <td>London</td>\n",
       "      <td>United Kingdom</td>\n",
       "      <td>Punch</td>\n",
       "      <td>POINT(-0.1275 51.507222222222)</td>\n",
       "      <td>1924-01-01</td>\n",
       "      <td>Humour</td>\n",
       "      <td>NaN</td>\n",
       "      <td>-0.1275</td>\n",
       "      <td>51.507222222222</td>\n",
       "      <td>1924</td>\n",
       "    </tr>\n",
       "  </tbody>\n",
       "</table>\n",
       "</div>"
      ],
      "text/plain": [
       "            cluster                                       manifest_url  \\\n",
       "0  Léopard Fourrure  https://digi.ub.uni-heidelberg.de/diglit/iiif/...   \n",
       "1  Léopard Fourrure  https://digi.ub.uni-heidelberg.de/diglit/iiif/...   \n",
       "2  Léopard Fourrure  https://digi.ub.uni-heidelberg.de/diglit/iiif/...   \n",
       "3  Léopard Fourrure  https://digi.ub.uni-heidelberg.de/diglit/iiif/...   \n",
       "4  Léopard Fourrure  https://digi.ub.uni-heidelberg.de/diglit/iiif/...   \n",
       "\n",
       "   canvas_number                                          image_url    City  \\\n",
       "0           11.0  https://digi.ub.uni-heidelberg.de/iiif/2/punch...  London   \n",
       "1           12.0  https://digi.ub.uni-heidelberg.de/iiif/2/fb164...  Munich   \n",
       "2           13.0  https://digi.ub.uni-heidelberg.de/iiif/2/studi...  London   \n",
       "3           33.0  https://digi.ub.uni-heidelberg.de/iiif/2/punch...  London   \n",
       "4           34.0  https://digi.ub.uni-heidelberg.de/iiif/2/punch...  London   \n",
       "\n",
       "          Country                       Title                             wkt  \\\n",
       "0  United Kingdom            Punch's Almanack  POINT(-0.1275 51.507222222222)   \n",
       "1         Germany           Fliegende Blätter           POINT(11.575 48.1375)   \n",
       "2  United Kingdom  Studio : international art  POINT(-0.1275 51.507222222222)   \n",
       "3  United Kingdom                       Punch  POINT(-0.1275 51.507222222222)   \n",
       "4  United Kingdom                       Punch  POINT(-0.1275 51.507222222222)   \n",
       "\n",
       "         Date        Journal Type  notice      lon              lat  Year  \n",
       "0  1921-01-01              Humour     NaN  -0.1275  51.507222222222  1921  \n",
       "1  1926-01-01              Humour     NaN   11.575          48.1375  1926  \n",
       "2  1901-01-01  Modern Art Journal     NaN  -0.1275  51.507222222222  1901  \n",
       "3  1924-01-01              Humour     NaN  -0.1275  51.507222222222  1924  \n",
       "4  1924-01-01              Humour     NaN  -0.1275  51.507222222222  1924  "
      ]
     },
     "execution_count": 47,
     "metadata": {},
     "output_type": "execute_result"
    }
   ],
   "source": [
    "df.head()"
   ]
  },
  {
   "cell_type": "code",
   "execution_count": 48,
   "id": "bc6bcab0-4cc9-4687-827d-da9ade48d407",
   "metadata": {},
   "outputs": [],
   "source": [
    "city_id_map = city_coords.reset_index().set_index('name')['id'].to_dict()"
   ]
  },
  {
   "cell_type": "code",
   "execution_count": 50,
   "id": "02885a8f-8380-4b59-b89e-cd7d4a5ba3d0",
   "metadata": {},
   "outputs": [],
   "source": [
    "df = df.dropna(subset=['City'])"
   ]
  },
  {
   "cell_type": "code",
   "execution_count": 51,
   "id": "78127f98-7c58-4bb3-b38d-76e499a6a42f",
   "metadata": {},
   "outputs": [],
   "source": [
    "df['origin'] = df['City'].map(city_id_map).astype(int)\n",
    "df['dest'] = df['City'].shift(-1).map(city_id_map).fillna(method='ffill').astype(int)\n",
    "df.iloc[-1, df.columns.get_loc('dest')] = df.iloc[-1]['origin']"
   ]
  },
  {
   "cell_type": "markdown",
   "id": "848f2853-8fd6-4de9-93dc-0b38276fb9da",
   "metadata": {},
   "source": [
    "### Overall OD Matrix"
   ]
  },
  {
   "cell_type": "code",
   "execution_count": 52,
   "id": "46b1dac2-7c83-4a38-b442-9fdb74096460",
   "metadata": {},
   "outputs": [],
   "source": [
    "overall_od_matrix = df.groupby(['origin', 'dest', 'Year']).size().reset_index(name='count')"
   ]
  },
  {
   "cell_type": "code",
   "execution_count": 53,
   "id": "10d0fa6c-a349-4b20-af97-963f52ff2926",
   "metadata": {},
   "outputs": [],
   "source": [
    "overall_od_matrix['time'] = overall_od_matrix['Year'].astype(str) + '-01-01'\n",
    "overall_od_matrix.drop('Year', axis=1, inplace=True)"
   ]
  },
  {
   "cell_type": "code",
   "execution_count": 54,
   "id": "aa9131b6-511f-4466-a0ed-c52900bcfdd6",
   "metadata": {},
   "outputs": [
    {
     "name": "stdout",
     "output_type": "stream",
     "text": [
      "      origin  dest  count        time\n",
      "0          1   137      1  1909-01-01\n",
      "1          1   146      1  1908-01-01\n",
      "2          2    45      1  1906-01-01\n",
      "3          2    54      1  1913-01-01\n",
      "4          2   146      1  1915-01-01\n",
      "...      ...   ...    ...         ...\n",
      "1699     222   186      1  1921-01-01\n",
      "1700     223    43      1  1909-01-01\n",
      "1701     224   217      1  1892-01-01\n",
      "1702     225   157      1  1898-01-01\n",
      "1703     226    67      1  1997-01-01\n",
      "\n",
      "[1704 rows x 4 columns]\n"
     ]
    }
   ],
   "source": [
    "print(overall_od_matrix)"
   ]
  },
  {
   "cell_type": "code",
   "execution_count": 55,
   "id": "2b1d2867-5455-4a63-a0d0-ef04f940901e",
   "metadata": {},
   "outputs": [],
   "source": [
    "overall_od_matrix.to_csv('overall_od_matrix.csv', index=False)"
   ]
  },
  {
   "cell_type": "code",
   "execution_count": null,
   "id": "323a5291-11db-4099-9a86-bf96b62e1bb7",
   "metadata": {},
   "outputs": [],
   "source": []
  }
 ],
 "metadata": {
  "kernelspec": {
   "display_name": "Python 3 (ipykernel)",
   "language": "python",
   "name": "python3"
  },
  "language_info": {
   "codemirror_mode": {
    "name": "ipython",
    "version": 3
   },
   "file_extension": ".py",
   "mimetype": "text/x-python",
   "name": "python",
   "nbconvert_exporter": "python",
   "pygments_lexer": "ipython3",
   "version": "3.10.8"
  }
 },
 "nbformat": 4,
 "nbformat_minor": 5
}
