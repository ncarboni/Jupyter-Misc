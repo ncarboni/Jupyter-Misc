{
 "cells": [
  {
   "cell_type": "code",
   "execution_count": 24,
   "id": "96f90b0e-4c59-40b0-a57b-7ff94b00396c",
   "metadata": {},
   "outputs": [],
   "source": [
    "import pandas as pd\n",
    "import os"
   ]
  },
  {
   "cell_type": "code",
   "execution_count": 42,
   "id": "120215b2-3975-481c-b1be-b5bdc0082faa",
   "metadata": {},
   "outputs": [],
   "source": [
    "df = pd.read_csv('/Users/carboni/Documents/UNIGE/pynotebook/personal/Images/foursquare_images_mod.csv')"
   ]
  },
  {
   "cell_type": "markdown",
   "id": "4b343904-0681-4ebd-8ca8-488672634d2f",
   "metadata": {},
   "source": [
    "### Clusters and other keywords"
   ]
  },
  {
   "cell_type": "code",
   "execution_count": 26,
   "id": "cbe00d75-4f38-4c6c-b28b-b8702023e2f3",
   "metadata": {},
   "outputs": [],
   "source": [
    "keyword = 'Bête'\n",
    "df = df[df['Cluster'].str.contains(keyword, case=False, na=False)]"
   ]
  },
  {
   "cell_type": "code",
   "execution_count": 43,
   "id": "2d242c1f-916a-447f-867e-97fb5d9d0d13",
   "metadata": {},
   "outputs": [
    {
     "data": {
      "text/html": [
       "<div>\n",
       "<style scoped>\n",
       "    .dataframe tbody tr th:only-of-type {\n",
       "        vertical-align: middle;\n",
       "    }\n",
       "\n",
       "    .dataframe tbody tr th {\n",
       "        vertical-align: top;\n",
       "    }\n",
       "\n",
       "    .dataframe thead th {\n",
       "        text-align: right;\n",
       "    }\n",
       "</style>\n",
       "<table border=\"1\" class=\"dataframe\">\n",
       "  <thead>\n",
       "    <tr style=\"text-align: right;\">\n",
       "      <th></th>\n",
       "      <th>cc:Printer</th>\n",
       "      <th>title_image</th>\n",
       "      <th>id</th>\n",
       "      <th>cc:PageNumber</th>\n",
       "      <th>cc:Identifier</th>\n",
       "      <th>cc:QuireMark</th>\n",
       "      <th>bf:mainTitle</th>\n",
       "      <th>cc:ModelType</th>\n",
       "      <th>bf:descriptionLanguage</th>\n",
       "      <th>date</th>\n",
       "      <th>...</th>\n",
       "      <th>longitude</th>\n",
       "      <th>tr:tag</th>\n",
       "      <th>tr:path</th>\n",
       "      <th>tr:note</th>\n",
       "      <th>origin_latitude</th>\n",
       "      <th>origin_longitude</th>\n",
       "      <th>destination_latitude</th>\n",
       "      <th>destination_longitude</th>\n",
       "      <th>city_number</th>\n",
       "      <th>image_number_per_edition</th>\n",
       "    </tr>\n",
       "  </thead>\n",
       "  <tbody>\n",
       "    <tr>\n",
       "      <th>0</th>\n",
       "      <td>Grunenberg</td>\n",
       "      <td>Pass_Ascension_1521_W</td>\n",
       "      <td>Pass_witt</td>\n",
       "      <td>26.0</td>\n",
       "      <td>NaN</td>\n",
       "      <td>NaN</td>\n",
       "      <td>Passional Christi und Antichristi</td>\n",
       "      <td>Ascension</td>\n",
       "      <td>German</td>\n",
       "      <td>1521-01-01T00:00:00</td>\n",
       "      <td>...</td>\n",
       "      <td>12.646761</td>\n",
       "      <td>NaN</td>\n",
       "      <td>/Users/brigitteroux/Documents/faits de JC/édit...</td>\n",
       "      <td>NaN</td>\n",
       "      <td>51.866653</td>\n",
       "      <td>12.646761</td>\n",
       "      <td>48.584614</td>\n",
       "      <td>7.750713</td>\n",
       "      <td>26</td>\n",
       "      <td>26</td>\n",
       "    </tr>\n",
       "    <tr>\n",
       "      <th>1</th>\n",
       "      <td>Knobloch</td>\n",
       "      <td>Pass_Ascension_1521_S</td>\n",
       "      <td>Pass_str</td>\n",
       "      <td>30.0</td>\n",
       "      <td>NaN</td>\n",
       "      <td>NaN</td>\n",
       "      <td>Passional Christi und Antichristi</td>\n",
       "      <td>Ascension</td>\n",
       "      <td>German</td>\n",
       "      <td>1521-01-01T00:00:00</td>\n",
       "      <td>...</td>\n",
       "      <td>7.750713</td>\n",
       "      <td>NaN</td>\n",
       "      <td>/Users/brigitteroux/Documents/faits de JC/édit...</td>\n",
       "      <td>NaN</td>\n",
       "      <td>48.584614</td>\n",
       "      <td>7.750713</td>\n",
       "      <td>46.989583</td>\n",
       "      <td>6.929264</td>\n",
       "      <td>32</td>\n",
       "      <td>30</td>\n",
       "    </tr>\n",
       "    <tr>\n",
       "      <th>2</th>\n",
       "      <td>Pierre de Vingle</td>\n",
       "      <td>FJP_Ascension_1534</td>\n",
       "      <td>FJP_34</td>\n",
       "      <td>46.0</td>\n",
       "      <td>NaN</td>\n",
       "      <td>[Fiiijv]</td>\n",
       "      <td>Faits</td>\n",
       "      <td>Ascension</td>\n",
       "      <td>French</td>\n",
       "      <td>1534-01-01T00:00:00</td>\n",
       "      <td>...</td>\n",
       "      <td>6.929264</td>\n",
       "      <td>Neuchâtel</td>\n",
       "      <td>/Users/brigitteroux/Desktop/BPF_ANDRE_1001/JPE...</td>\n",
       "      <td>NaN</td>\n",
       "      <td>46.989583</td>\n",
       "      <td>6.929264</td>\n",
       "      <td>46.204717</td>\n",
       "      <td>6.142311</td>\n",
       "      <td>32</td>\n",
       "      <td>32</td>\n",
       "    </tr>\n",
       "    <tr>\n",
       "      <th>3</th>\n",
       "      <td>Jean Michel</td>\n",
       "      <td>FJP_Ascension_1538</td>\n",
       "      <td>FJP_38</td>\n",
       "      <td>86.0</td>\n",
       "      <td>16a_e</td>\n",
       "      <td>[L3v]</td>\n",
       "      <td>Faits</td>\n",
       "      <td>Ascension</td>\n",
       "      <td>French</td>\n",
       "      <td>1538-01-01T00:00:00</td>\n",
       "      <td>...</td>\n",
       "      <td>6.142311</td>\n",
       "      <td>Genève</td>\n",
       "      <td>/Users/brigitteroux/Documents/faits de JC/édit...</td>\n",
       "      <td>NaN</td>\n",
       "      <td>46.204717</td>\n",
       "      <td>6.142311</td>\n",
       "      <td>46.204717</td>\n",
       "      <td>6.142311</td>\n",
       "      <td>62</td>\n",
       "      <td>32</td>\n",
       "    </tr>\n",
       "    <tr>\n",
       "      <th>4</th>\n",
       "      <td>Durant Zacharie</td>\n",
       "      <td>Ant_Ascension_1557</td>\n",
       "      <td>Ant</td>\n",
       "      <td>NaN</td>\n",
       "      <td>NaN</td>\n",
       "      <td>[Eiiiiv]</td>\n",
       "      <td>Antithesis</td>\n",
       "      <td>Ascension</td>\n",
       "      <td>Latin</td>\n",
       "      <td>1557-01-01T00:00:00</td>\n",
       "      <td>...</td>\n",
       "      <td>6.142311</td>\n",
       "      <td>NaN</td>\n",
       "      <td>/Users/brigitteroux/Documents/faits de JC/édit...</td>\n",
       "      <td>NaN</td>\n",
       "      <td>46.204717</td>\n",
       "      <td>6.142311</td>\n",
       "      <td>46.204717</td>\n",
       "      <td>6.142311</td>\n",
       "      <td>62</td>\n",
       "      <td>30</td>\n",
       "    </tr>\n",
       "  </tbody>\n",
       "</table>\n",
       "<p>5 rows × 22 columns</p>\n",
       "</div>"
      ],
      "text/plain": [
       "         cc:Printer            title_image         id  cc:PageNumber  \\\n",
       "0        Grunenberg  Pass_Ascension_1521_W  Pass_witt           26.0   \n",
       "1          Knobloch  Pass_Ascension_1521_S   Pass_str           30.0   \n",
       "2  Pierre de Vingle     FJP_Ascension_1534     FJP_34           46.0   \n",
       "3       Jean Michel     FJP_Ascension_1538     FJP_38           86.0   \n",
       "4   Durant Zacharie     Ant_Ascension_1557        Ant            NaN   \n",
       "\n",
       "  cc:Identifier cc:QuireMark                       bf:mainTitle cc:ModelType  \\\n",
       "0           NaN          NaN  Passional Christi und Antichristi    Ascension   \n",
       "1           NaN          NaN  Passional Christi und Antichristi    Ascension   \n",
       "2           NaN     [Fiiijv]                              Faits    Ascension   \n",
       "3         16a_e        [L3v]                              Faits    Ascension   \n",
       "4           NaN     [Eiiiiv]                         Antithesis    Ascension   \n",
       "\n",
       "  bf:descriptionLanguage                 date  ...  longitude     tr:tag  \\\n",
       "0                 German  1521-01-01T00:00:00  ...  12.646761        NaN   \n",
       "1                 German  1521-01-01T00:00:00  ...   7.750713        NaN   \n",
       "2                 French  1534-01-01T00:00:00  ...   6.929264  Neuchâtel   \n",
       "3                 French  1538-01-01T00:00:00  ...   6.142311     Genève   \n",
       "4                  Latin  1557-01-01T00:00:00  ...   6.142311        NaN   \n",
       "\n",
       "                                             tr:path tr:note origin_latitude  \\\n",
       "0  /Users/brigitteroux/Documents/faits de JC/édit...     NaN       51.866653   \n",
       "1  /Users/brigitteroux/Documents/faits de JC/édit...     NaN       48.584614   \n",
       "2  /Users/brigitteroux/Desktop/BPF_ANDRE_1001/JPE...     NaN       46.989583   \n",
       "3  /Users/brigitteroux/Documents/faits de JC/édit...     NaN       46.204717   \n",
       "4  /Users/brigitteroux/Documents/faits de JC/édit...     NaN       46.204717   \n",
       "\n",
       "   origin_longitude  destination_latitude  destination_longitude  city_number  \\\n",
       "0         12.646761             48.584614               7.750713           26   \n",
       "1          7.750713             46.989583               6.929264           32   \n",
       "2          6.929264             46.204717               6.142311           32   \n",
       "3          6.142311             46.204717               6.142311           62   \n",
       "4          6.142311             46.204717               6.142311           62   \n",
       "\n",
       "   image_number_per_edition  \n",
       "0                        26  \n",
       "1                        30  \n",
       "2                        32  \n",
       "3                        32  \n",
       "4                        30  \n",
       "\n",
       "[5 rows x 22 columns]"
      ]
     },
     "execution_count": 43,
     "metadata": {},
     "output_type": "execute_result"
    }
   ],
   "source": [
    "df.head()"
   ]
  },
  {
   "cell_type": "markdown",
   "id": "2b39bbf8-4601-4c4c-9f23-4a3cc7b93ef8",
   "metadata": {},
   "source": [
    "## Index city "
   ]
  },
  {
   "cell_type": "markdown",
   "id": "a7034514-404b-4f90-91bc-5295d3a5f4de",
   "metadata": {
    "tags": []
   },
   "source": [
    "### If WKT"
   ]
  },
  {
   "cell_type": "code",
   "execution_count": 29,
   "id": "e1ace343-8863-47ba-a1dc-cf57149f27bb",
   "metadata": {},
   "outputs": [],
   "source": [
    "df[['lon', 'lat']] = df['wkt'].str.extract(r'POINT\\(([^ ]+) ([^ ]+)\\)')"
   ]
  },
  {
   "cell_type": "markdown",
   "id": "3dea4cd6-cca1-409b-89c7-e438e595c1c2",
   "metadata": {},
   "source": [
    "### if not wkt"
   ]
  },
  {
   "cell_type": "code",
   "execution_count": 30,
   "id": "1f284641-f75d-4a06-a1cb-5480946d9a7e",
   "metadata": {},
   "outputs": [],
   "source": [
    "city_coords = df.groupby('City').agg({'lat': 'first', 'lon': 'first'}).reset_index()"
   ]
  },
  {
   "cell_type": "code",
   "execution_count": 31,
   "id": "065048a7-7065-4e7a-85f8-cfa234249fb5",
   "metadata": {},
   "outputs": [],
   "source": [
    "city_coords.rename({'City': 'name'}, axis=1, inplace=True)"
   ]
  },
  {
   "cell_type": "code",
   "execution_count": 32,
   "id": "5db19100-ade1-4e04-af8c-3e30227aa514",
   "metadata": {},
   "outputs": [],
   "source": [
    "city_coords.index = city_coords.index + 1\n",
    "city_coords.index.name = 'id'"
   ]
  },
  {
   "cell_type": "code",
   "execution_count": 33,
   "id": "4e35713a-a02e-4b5b-b13b-1b3525592fb4",
   "metadata": {},
   "outputs": [
    {
     "name": "stdout",
     "output_type": "stream",
     "text": [
      "                 name                lat                  lon\n",
      "id                                                           \n",
      "1            Aberdeen  46.97536111111111  -123.81572222222222\n",
      "2         Albuquerque    35.116666666667     -106.61666666667\n",
      "3             Algiers    36.776388888889      3.0586111111111\n",
      "4                Alma    43.378888888889     -84.659722222222\n",
      "5            Amarillo    35.199166666667     -101.84527777778\n",
      "..                ...                ...                  ...\n",
      "223        Wilmington    34.223333333333     -77.912222222222\n",
      "224  Wisconsin Rapids    44.394444444444     -89.832777777778\n",
      "225              Yale    43.130277777778     -82.797777777778\n",
      "226            Évreux    49.023333333333               1.1525\n",
      "227              Žiri          46.046019            14.108283\n",
      "\n",
      "[227 rows x 3 columns]\n"
     ]
    }
   ],
   "source": [
    "print(city_coords)"
   ]
  },
  {
   "cell_type": "code",
   "execution_count": 34,
   "id": "0804ded8-99af-4eac-814a-146cfa0657c1",
   "metadata": {},
   "outputs": [],
   "source": [
    "city_coords.to_csv('od_city_index.csv', index=True)"
   ]
  },
  {
   "cell_type": "code",
   "execution_count": null,
   "id": "66f3fdab-2ec1-4e40-b15c-d7a0056d7114",
   "metadata": {},
   "outputs": [],
   "source": []
  },
  {
   "cell_type": "markdown",
   "id": "f303be77-2ea3-448f-b56f-23946f1b986d",
   "metadata": {},
   "source": [
    "## Index to OD Matrix"
   ]
  },
  {
   "cell_type": "code",
   "execution_count": 35,
   "id": "80e66014-8277-4c3d-bb2d-216486d23ad5",
   "metadata": {},
   "outputs": [],
   "source": [
    "df['Year'] = pd.to_datetime(df['Date']).dt.year"
   ]
  },
  {
   "cell_type": "code",
   "execution_count": 36,
   "id": "0a67f73d-409b-4384-bd39-e444997be0e3",
   "metadata": {},
   "outputs": [],
   "source": [
    "city_id_map = city_coords.reset_index().set_index('name')['id'].to_dict()"
   ]
  },
  {
   "cell_type": "code",
   "execution_count": 37,
   "id": "2b659740-eeba-4501-b361-61041c38ec56",
   "metadata": {},
   "outputs": [],
   "source": [
    "df['origin'] = df['City'].map(city_id_map).astype(int)\n",
    "df['dest'] = df['City'].shift(-1).map(city_id_map).fillna(method='ffill').astype(int)\n",
    "df.iloc[-1, df.columns.get_loc('dest')] = df.iloc[-1]['origin']"
   ]
  },
  {
   "cell_type": "markdown",
   "id": "638f342a-3c45-479b-926d-89abc87a7f02",
   "metadata": {},
   "source": [
    "### Overall OD Matrix"
   ]
  },
  {
   "cell_type": "code",
   "execution_count": 38,
   "id": "4178c911-905f-4ac8-abb4-a44ac9fabcab",
   "metadata": {},
   "outputs": [],
   "source": [
    "overall_od_matrix = df.groupby(['origin', 'dest', 'Year']).size().reset_index(name='count')"
   ]
  },
  {
   "cell_type": "code",
   "execution_count": 39,
   "id": "7504ed82-90e1-486a-91eb-f78b86e5a451",
   "metadata": {},
   "outputs": [],
   "source": [
    "overall_od_matrix['time'] = overall_od_matrix['Year'].astype(str) + '-01-01'\n",
    "overall_od_matrix.drop('Year', axis=1, inplace=True)"
   ]
  },
  {
   "cell_type": "code",
   "execution_count": 40,
   "id": "c4dfb892-8ce4-4ad9-979a-68b727e63724",
   "metadata": {},
   "outputs": [
    {
     "name": "stdout",
     "output_type": "stream",
     "text": [
      "      origin  dest  count        time\n",
      "0          1   122      1  1908-01-01\n",
      "1          1   122      1  1909-01-01\n",
      "2          2     2      1  1913-01-01\n",
      "3          2    47      1  1922-01-01\n",
      "4          2    69      1  1915-01-01\n",
      "...      ...   ...    ...         ...\n",
      "1837     223    75      1  1921-01-01\n",
      "1838     224    14      1  1909-01-01\n",
      "1839     225   122      1  1892-01-01\n",
      "1840     226   147      1  1898-01-01\n",
      "1841     227   114      1  1997-01-01\n",
      "\n",
      "[1842 rows x 4 columns]\n"
     ]
    }
   ],
   "source": [
    "print(overall_od_matrix)"
   ]
  },
  {
   "cell_type": "code",
   "execution_count": 41,
   "id": "275f210b-347d-4d49-9097-4de309f0996a",
   "metadata": {},
   "outputs": [],
   "source": [
    "overall_od_matrix.to_csv('overall_od_matrix.csv', index=False)"
   ]
  },
  {
   "cell_type": "code",
   "execution_count": 22,
   "id": "1e669e17-0233-48dc-b89c-a44113f2b8af",
   "metadata": {},
   "outputs": [],
   "source": [
    "unique_keywords = df['Cluster'].unique()"
   ]
  },
  {
   "cell_type": "code",
   "execution_count": 23,
   "id": "a9fb0db3-009a-4bb7-b5d4-bc9e9812af77",
   "metadata": {},
   "outputs": [
    {
     "ename": "NameError",
     "evalue": "name 'keyword' is not defined",
     "output_type": "error",
     "traceback": [
      "\u001b[0;31m---------------------------------------------------------------------------\u001b[0m",
      "\u001b[0;31mNameError\u001b[0m                                 Traceback (most recent call last)",
      "Cell \u001b[0;32mIn[23], line 1\u001b[0m\n\u001b[0;32m----> 1\u001b[0m filename \u001b[38;5;241m=\u001b[39m \u001b[43mkeyword\u001b[49m\u001b[38;5;241m.\u001b[39mreplace(\u001b[38;5;124m'\u001b[39m\u001b[38;5;124m \u001b[39m\u001b[38;5;124m'\u001b[39m, \u001b[38;5;124m'\u001b[39m\u001b[38;5;124m_\u001b[39m\u001b[38;5;124m'\u001b[39m)\u001b[38;5;241m.\u001b[39mreplace(\u001b[38;5;124m'\u001b[39m\u001b[38;5;124m,\u001b[39m\u001b[38;5;124m'\u001b[39m, \u001b[38;5;124m'\u001b[39m\u001b[38;5;124m'\u001b[39m)\u001b[38;5;241m.\u001b[39mreplace(\u001b[38;5;124m'\u001b[39m\u001b[38;5;124m:\u001b[39m\u001b[38;5;124m'\u001b[39m, \u001b[38;5;124m'\u001b[39m\u001b[38;5;124m'\u001b[39m)\u001b[38;5;241m.\u001b[39mreplace(\u001b[38;5;124m'\u001b[39m\u001b[38;5;124m/\u001b[39m\u001b[38;5;124m'\u001b[39m, \u001b[38;5;124m'\u001b[39m\u001b[38;5;124m_or_\u001b[39m\u001b[38;5;124m'\u001b[39m) \u001b[38;5;241m+\u001b[39m \u001b[38;5;124m'\u001b[39m\u001b[38;5;124m.csv\u001b[39m\u001b[38;5;124m'\u001b[39m\n",
      "\u001b[0;31mNameError\u001b[0m: name 'keyword' is not defined"
     ]
    }
   ],
   "source": [
    "filename = keyword.replace(' ', '_').replace(',', '').replace(':', '').replace('/', '_or_') + '.csv'"
   ]
  },
  {
   "cell_type": "code",
   "execution_count": 18,
   "id": "6cdd166d-2af3-4c35-a8e9-2b9df6317f1e",
   "metadata": {},
   "outputs": [
    {
     "ename": "NameError",
     "evalue": "name 'os' is not defined",
     "output_type": "error",
     "traceback": [
      "\u001b[0;31m---------------------------------------------------------------------------\u001b[0m",
      "\u001b[0;31mNameError\u001b[0m                                 Traceback (most recent call last)",
      "Cell \u001b[0;32mIn[18], line 2\u001b[0m\n\u001b[1;32m      1\u001b[0m group_name_dir \u001b[38;5;241m=\u001b[39m \u001b[38;5;124m'\u001b[39m\u001b[38;5;124mgroup_name\u001b[39m\u001b[38;5;124m'\u001b[39m\n\u001b[0;32m----> 2\u001b[0m \u001b[38;5;28;01mif\u001b[39;00m \u001b[38;5;129;01mnot\u001b[39;00m \u001b[43mos\u001b[49m\u001b[38;5;241m.\u001b[39mpath\u001b[38;5;241m.\u001b[39mexists(group_name_dir):\n\u001b[1;32m      3\u001b[0m     os\u001b[38;5;241m.\u001b[39mmakedirs(group_name_dir)\n",
      "\u001b[0;31mNameError\u001b[0m: name 'os' is not defined"
     ]
    }
   ],
   "source": [
    "group_name_dir = 'group_name'\n",
    "if not os.path.exists(group_name_dir):\n",
    "    os.makedirs(group_name_dir)"
   ]
  },
  {
   "cell_type": "code",
   "execution_count": 48,
   "id": "3accfc20-2141-4cbc-9eba-b5cac43c90a1",
   "metadata": {},
   "outputs": [
    {
     "name": "stdout",
     "output_type": "stream",
     "text": [
      "OD matrix for \"Metzner (Franz), Design for a Mausoleum at Berlin, date?\" saved as group_name/Metzner_(Franz)_Design_for_a_Mausoleum_at_Berlin_date?.csv\n",
      "OD matrix for \"De Chirico, Einsame Strasse [coll. Paul Guillaume], 1914\" saved as group_name/De_Chirico_Einsame_Strasse_[coll._Paul_Guillaume]_1914.csv\n",
      "OD matrix for \"Diverse_Geom_abstract\" saved as group_name/Diverse_Geom_abstract.csv\n",
      "OD matrix for \"Picasso, Le Buste, 1925\" saved as group_name/Picasso_Le_Buste_1925.csv\n",
      "OD matrix for \"Picasso, La Dame au Fauteuil, 1914\" saved as group_name/Picasso_La_Dame_au_Fauteuil_1914.csv\n",
      "OD matrix for \"Van Gogh, Le Pont de Trinquetaille, 1888\" saved as group_name/Van_Gogh_Le_Pont_de_Trinquetaille_1888.csv\n",
      "OD matrix for \"Cézanne, Les Joueurs de cartes, vers 1890-95, huile sur toile, musée d'Orsay\" saved as group_name/Cézanne_Les_Joueurs_de_cartes_vers_1890-95_huile_sur_toile_musée_d'Orsay.csv\n",
      "OD matrix for \"Picasso_Blind Beggar with a Boy_1903\" saved as group_name/Picasso_Blind_Beggar_with_a_Boy_1903.csv\n",
      "OD matrix for \"Severini, Danse du Pan Pan, c. 1909-1911 (2e version, 1960; Centre Pompidou : \"Réplique d'artiste (1959-1960) exécutée à Rome d'après le tableau original (1909-1911) disparu depuis 1926\")\" saved as group_name/Severini_Danse_du_Pan_Pan_c._1909-1911_(2e_version_1960;_Centre_Pompidou__\"Réplique_d'artiste_(1959-1960)_exécutée_à_Rome_d'après_le_tableau_original_(1909-1911)_disparu_depuis_1926\").csv\n",
      "OD matrix for \"Rousseau, Fleurs, 1909\" saved as group_name/Rousseau_Fleurs_1909.csv\n",
      "OD matrix for \"Cassatt, Mère et enfant,  1889, Paris, musée d'Orsay, conservé au musée du Louvre\" saved as group_name/Cassatt_Mère_et_enfant__1889_Paris_musée_d'Orsay_conservé_au_musée_du_Louvre.csv\n",
      "OD matrix for \"Mondrian, [generic neoplasticist square work]\" saved as group_name/Mondrian_[generic_neoplasticist_square_work].csv\n",
      "OD matrix for \"Cézanne, Portrait (coll. Pellerin) / copie du Gréco, Dame à l'Hermine, entre 1885 et 1886\" saved as group_name/Cézanne_Portrait_(coll._Pellerin)__or__copie_du_Gréco_Dame_à_l'Hermine_entre_1885_et_1886.csv\n",
      "OD matrix for \"Rousseau_Bohémienne endormie_1897_reinterpretation\" saved as group_name/Rousseau_Bohémienne_endormie_1897_reinterpretation.csv\n",
      "OD matrix for \"Picasso_Femme et enfant au bord de la mer_1921\" saved as group_name/Picasso_Femme_et_enfant_au_bord_de_la_mer_1921.csv\n",
      "OD matrix for \"Evenepoel_Espagnol à Paris_1899\" saved as group_name/Evenepoel_Espagnol_à_Paris_1899.csv\n",
      "OD matrix for \"Beckmann_Port de Gênes_1926\" saved as group_name/Beckmann_Port_de_Gênes_1926.csv\n",
      "OD matrix for \"Matisse, Odalisque assise (many), 1926\" saved as group_name/Matisse_Odalisque_assise_(many)_1926.csv\n",
      "OD matrix for \"Braque Nature morte 1910 [coll. La Roche 1911?]\" saved as group_name/Braque_Nature_morte_1910_[coll._La_Roche_1911?].csv\n",
      "OD matrix for \"Manet, Un bar aux Folies Bergère, 1882, Courtauld Gallery\" saved as group_name/Manet_Un_bar_aux_Folies_Bergère_1882_Courtauld_Gallery.csv\n",
      "OD matrix for \"Stella (Joseph), Brooklyn Bridge (1919-1920)\" saved as group_name/Stella_(Joseph)_Brooklyn_Bridge_(1919-1920).csv\n",
      "OD matrix for \"Rousseau_Le Bouquet_1909-1910\" saved as group_name/Rousseau_Le_Bouquet_1909-1910.csv\n",
      "OD matrix for \"Picasso, les Demoiselles d'Avignon, 1907, MoMA\" saved as group_name/Picasso_les_Demoiselles_d'Avignon_1907_MoMA.csv\n",
      "OD matrix for \"Rousseau_Éclaireurs attaqués par un tigre_1904\" saved as group_name/Rousseau_Éclaireurs_attaqués_par_un_tigre_1904.csv\n"
     ]
    }
   ],
   "source": [
    "for keyword in unique_keywords:\n",
    "    # Filter DataFrame for the current keyword\n",
    "    filtered_df = df[df['group_name'] == keyword]\n",
    "\n",
    "    # Create OD matrix for the filtered DataFrame\n",
    "    keyword_od_matrix = filtered_df.groupby(['origin', 'dest', 'Year']).size().reset_index(name='count')\n",
    "    keyword_od_matrix['time'] = keyword_od_matrix['Year'].astype(str) + '-01-01'\n",
    "    keyword_od_matrix.drop('Year', axis=1, inplace=True)\n",
    "\n",
    "    # Sanitize the keyword to use as a filename\n",
    "    filename = keyword.replace(' ', '_').replace(',', '').replace(':', '').replace('/', '_or_') + '.csv'\n",
    "    \n",
    "    # Full path for the file\n",
    "    full_path = os.path.join(group_name_dir, filename)\n",
    "\n",
    "    # Save keyword OD matrix to CSV in the group_name directory\n",
    "    keyword_od_matrix.to_csv(full_path, index=False)\n",
    "    print(f'OD matrix for \"{keyword}\" saved as {full_path}')"
   ]
  }
 ],
 "metadata": {
  "kernelspec": {
   "display_name": "Python 3 (ipykernel)",
   "language": "python",
   "name": "python3"
  },
  "language_info": {
   "codemirror_mode": {
    "name": "ipython",
    "version": 3
   },
   "file_extension": ".py",
   "mimetype": "text/x-python",
   "name": "python",
   "nbconvert_exporter": "python",
   "pygments_lexer": "ipython3",
   "version": "3.10.8"
  }
 },
 "nbformat": 4,
 "nbformat_minor": 5
}
