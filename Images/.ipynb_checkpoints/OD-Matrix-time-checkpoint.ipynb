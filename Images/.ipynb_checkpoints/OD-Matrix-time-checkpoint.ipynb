{
 "cells": [
  {
   "cell_type": "code",
   "execution_count": 24,
   "id": "96f90b0e-4c59-40b0-a57b-7ff94b00396c",
   "metadata": {},
   "outputs": [],
   "source": [
    "import pandas as pd\n",
    "import os"
   ]
  },
  {
   "cell_type": "code",
   "execution_count": 42,
   "id": "120215b2-3975-481c-b1be-b5bdc0082faa",
   "metadata": {},
   "outputs": [],
   "source": [
    "df = pd.read_csv('/Users/carboni/Documents/UNIGE/pynotebook/personal/Images/foursquare_images_mod.csv')"
   ]
  },
  {
   "cell_type": "markdown",
   "id": "4b343904-0681-4ebd-8ca8-488672634d2f",
   "metadata": {},
   "source": [
    "### Clusters and other keywords"
   ]
  },
  {
   "cell_type": "code",
   "execution_count": 26,
   "id": "cbe00d75-4f38-4c6c-b28b-b8702023e2f3",
   "metadata": {},
   "outputs": [],
   "source": [
    "#keyword = 'Bête'\n",
    "#df = df[df['Cluster'].str.contains(keyword, case=False, na=False)]"
   ]
  },
  {
   "cell_type": "code",
   "execution_count": 43,
   "id": "2d242c1f-916a-447f-867e-97fb5d9d0d13",
   "metadata": {},
   "outputs": [
    {
     "data": {
      "text/html": [
       "<div>\n",
       "<style scoped>\n",
       "    .dataframe tbody tr th:only-of-type {\n",
       "        vertical-align: middle;\n",
       "    }\n",
       "\n",
       "    .dataframe tbody tr th {\n",
       "        vertical-align: top;\n",
       "    }\n",
       "\n",
       "    .dataframe thead th {\n",
       "        text-align: right;\n",
       "    }\n",
       "</style>\n",
       "<table border=\"1\" class=\"dataframe\">\n",
       "  <thead>\n",
       "    <tr style=\"text-align: right;\">\n",
       "      <th></th>\n",
       "      <th>cc:Printer</th>\n",
       "      <th>title_image</th>\n",
       "      <th>id</th>\n",
       "      <th>cc:PageNumber</th>\n",
       "      <th>cc:Identifier</th>\n",
       "      <th>cc:QuireMark</th>\n",
       "      <th>bf:mainTitle</th>\n",
       "      <th>cc:ModelType</th>\n",
       "      <th>bf:descriptionLanguage</th>\n",
       "      <th>date</th>\n",
       "      <th>...</th>\n",
       "      <th>longitude</th>\n",
       "      <th>tr:tag</th>\n",
       "      <th>tr:path</th>\n",
       "      <th>tr:note</th>\n",
       "      <th>origin_latitude</th>\n",
       "      <th>origin_longitude</th>\n",
       "      <th>destination_latitude</th>\n",
       "      <th>destination_longitude</th>\n",
       "      <th>city_number</th>\n",
       "      <th>image_number_per_edition</th>\n",
       "    </tr>\n",
       "  </thead>\n",
       "  <tbody>\n",
       "    <tr>\n",
       "      <th>0</th>\n",
       "      <td>Grunenberg</td>\n",
       "      <td>Pass_Ascension_1521_W</td>\n",
       "      <td>Pass_witt</td>\n",
       "      <td>26.0</td>\n",
       "      <td>NaN</td>\n",
       "      <td>NaN</td>\n",
       "      <td>Passional Christi und Antichristi</td>\n",
       "      <td>Ascension</td>\n",
       "      <td>German</td>\n",
       "      <td>1521-01-01T00:00:00</td>\n",
       "      <td>...</td>\n",
       "      <td>12.646761</td>\n",
       "      <td>NaN</td>\n",
       "      <td>/Users/brigitteroux/Documents/faits de JC/édit...</td>\n",
       "      <td>NaN</td>\n",
       "      <td>51.866653</td>\n",
       "      <td>12.646761</td>\n",
       "      <td>48.584614</td>\n",
       "      <td>7.750713</td>\n",
       "      <td>26</td>\n",
       "      <td>26</td>\n",
       "    </tr>\n",
       "    <tr>\n",
       "      <th>1</th>\n",
       "      <td>Knobloch</td>\n",
       "      <td>Pass_Ascension_1521_S</td>\n",
       "      <td>Pass_str</td>\n",
       "      <td>30.0</td>\n",
       "      <td>NaN</td>\n",
       "      <td>NaN</td>\n",
       "      <td>Passional Christi und Antichristi</td>\n",
       "      <td>Ascension</td>\n",
       "      <td>German</td>\n",
       "      <td>1521-01-01T00:00:00</td>\n",
       "      <td>...</td>\n",
       "      <td>7.750713</td>\n",
       "      <td>NaN</td>\n",
       "      <td>/Users/brigitteroux/Documents/faits de JC/édit...</td>\n",
       "      <td>NaN</td>\n",
       "      <td>48.584614</td>\n",
       "      <td>7.750713</td>\n",
       "      <td>46.989583</td>\n",
       "      <td>6.929264</td>\n",
       "      <td>32</td>\n",
       "      <td>30</td>\n",
       "    </tr>\n",
       "    <tr>\n",
       "      <th>2</th>\n",
       "      <td>Pierre de Vingle</td>\n",
       "      <td>FJP_Ascension_1534</td>\n",
       "      <td>FJP_34</td>\n",
       "      <td>46.0</td>\n",
       "      <td>NaN</td>\n",
       "      <td>[Fiiijv]</td>\n",
       "      <td>Faits</td>\n",
       "      <td>Ascension</td>\n",
       "      <td>French</td>\n",
       "      <td>1534-01-01T00:00:00</td>\n",
       "      <td>...</td>\n",
       "      <td>6.929264</td>\n",
       "      <td>Neuchâtel</td>\n",
       "      <td>/Users/brigitteroux/Desktop/BPF_ANDRE_1001/JPE...</td>\n",
       "      <td>NaN</td>\n",
       "      <td>46.989583</td>\n",
       "      <td>6.929264</td>\n",
       "      <td>46.204717</td>\n",
       "      <td>6.142311</td>\n",
       "      <td>32</td>\n",
       "      <td>32</td>\n",
       "    </tr>\n",
       "    <tr>\n",
       "      <th>3</th>\n",
       "      <td>Jean Michel</td>\n",
       "      <td>FJP_Ascension_1538</td>\n",
       "      <td>FJP_38</td>\n",
       "      <td>86.0</td>\n",
       "      <td>16a_e</td>\n",
       "      <td>[L3v]</td>\n",
       "      <td>Faits</td>\n",
       "      <td>Ascension</td>\n",
       "      <td>French</td>\n",
       "      <td>1538-01-01T00:00:00</td>\n",
       "      <td>...</td>\n",
       "      <td>6.142311</td>\n",
       "      <td>Genève</td>\n",
       "      <td>/Users/brigitteroux/Documents/faits de JC/édit...</td>\n",
       "      <td>NaN</td>\n",
       "      <td>46.204717</td>\n",
       "      <td>6.142311</td>\n",
       "      <td>46.204717</td>\n",
       "      <td>6.142311</td>\n",
       "      <td>62</td>\n",
       "      <td>32</td>\n",
       "    </tr>\n",
       "    <tr>\n",
       "      <th>4</th>\n",
       "      <td>Durant Zacharie</td>\n",
       "      <td>Ant_Ascension_1557</td>\n",
       "      <td>Ant</td>\n",
       "      <td>NaN</td>\n",
       "      <td>NaN</td>\n",
       "      <td>[Eiiiiv]</td>\n",
       "      <td>Antithesis</td>\n",
       "      <td>Ascension</td>\n",
       "      <td>Latin</td>\n",
       "      <td>1557-01-01T00:00:00</td>\n",
       "      <td>...</td>\n",
       "      <td>6.142311</td>\n",
       "      <td>NaN</td>\n",
       "      <td>/Users/brigitteroux/Documents/faits de JC/édit...</td>\n",
       "      <td>NaN</td>\n",
       "      <td>46.204717</td>\n",
       "      <td>6.142311</td>\n",
       "      <td>46.204717</td>\n",
       "      <td>6.142311</td>\n",
       "      <td>62</td>\n",
       "      <td>30</td>\n",
       "    </tr>\n",
       "  </tbody>\n",
       "</table>\n",
       "<p>5 rows × 22 columns</p>\n",
       "</div>"
      ],
      "text/plain": [
       "         cc:Printer            title_image         id  cc:PageNumber  \\\n",
       "0        Grunenberg  Pass_Ascension_1521_W  Pass_witt           26.0   \n",
       "1          Knobloch  Pass_Ascension_1521_S   Pass_str           30.0   \n",
       "2  Pierre de Vingle     FJP_Ascension_1534     FJP_34           46.0   \n",
       "3       Jean Michel     FJP_Ascension_1538     FJP_38           86.0   \n",
       "4   Durant Zacharie     Ant_Ascension_1557        Ant            NaN   \n",
       "\n",
       "  cc:Identifier cc:QuireMark                       bf:mainTitle cc:ModelType  \\\n",
       "0           NaN          NaN  Passional Christi und Antichristi    Ascension   \n",
       "1           NaN          NaN  Passional Christi und Antichristi    Ascension   \n",
       "2           NaN     [Fiiijv]                              Faits    Ascension   \n",
       "3         16a_e        [L3v]                              Faits    Ascension   \n",
       "4           NaN     [Eiiiiv]                         Antithesis    Ascension   \n",
       "\n",
       "  bf:descriptionLanguage                 date  ...  longitude     tr:tag  \\\n",
       "0                 German  1521-01-01T00:00:00  ...  12.646761        NaN   \n",
       "1                 German  1521-01-01T00:00:00  ...   7.750713        NaN   \n",
       "2                 French  1534-01-01T00:00:00  ...   6.929264  Neuchâtel   \n",
       "3                 French  1538-01-01T00:00:00  ...   6.142311     Genève   \n",
       "4                  Latin  1557-01-01T00:00:00  ...   6.142311        NaN   \n",
       "\n",
       "                                             tr:path tr:note origin_latitude  \\\n",
       "0  /Users/brigitteroux/Documents/faits de JC/édit...     NaN       51.866653   \n",
       "1  /Users/brigitteroux/Documents/faits de JC/édit...     NaN       48.584614   \n",
       "2  /Users/brigitteroux/Desktop/BPF_ANDRE_1001/JPE...     NaN       46.989583   \n",
       "3  /Users/brigitteroux/Documents/faits de JC/édit...     NaN       46.204717   \n",
       "4  /Users/brigitteroux/Documents/faits de JC/édit...     NaN       46.204717   \n",
       "\n",
       "   origin_longitude  destination_latitude  destination_longitude  city_number  \\\n",
       "0         12.646761             48.584614               7.750713           26   \n",
       "1          7.750713             46.989583               6.929264           32   \n",
       "2          6.929264             46.204717               6.142311           32   \n",
       "3          6.142311             46.204717               6.142311           62   \n",
       "4          6.142311             46.204717               6.142311           62   \n",
       "\n",
       "   image_number_per_edition  \n",
       "0                        26  \n",
       "1                        30  \n",
       "2                        32  \n",
       "3                        32  \n",
       "4                        30  \n",
       "\n",
       "[5 rows x 22 columns]"
      ]
     },
     "execution_count": 43,
     "metadata": {},
     "output_type": "execute_result"
    }
   ],
   "source": [
    "df.head()"
   ]
  },
  {
   "cell_type": "markdown",
   "id": "2b39bbf8-4601-4c4c-9f23-4a3cc7b93ef8",
   "metadata": {},
   "source": [
    "## Index city "
   ]
  },
  {
   "cell_type": "markdown",
   "id": "a7034514-404b-4f90-91bc-5295d3a5f4de",
   "metadata": {
    "tags": []
   },
   "source": [
    "### If WKT"
   ]
  },
  {
   "cell_type": "code",
   "execution_count": 29,
   "id": "e1ace343-8863-47ba-a1dc-cf57149f27bb",
   "metadata": {},
   "outputs": [],
   "source": [
    "df[['lon', 'lat']] = df['wkt'].str.extract(r'POINT\\(([^ ]+) ([^ ]+)\\)')"
   ]
  },
  {
   "cell_type": "markdown",
   "id": "3dea4cd6-cca1-409b-89c7-e438e595c1c2",
   "metadata": {},
   "source": [
    "### if not wkt"
   ]
  },
  {
   "cell_type": "code",
   "execution_count": 30,
   "id": "1f284641-f75d-4a06-a1cb-5480946d9a7e",
   "metadata": {},
   "outputs": [],
   "source": [
    "city_coords = df.groupby('City').agg({'lat': 'first', 'lon': 'first'}).reset_index()"
   ]
  },
  {
   "cell_type": "code",
   "execution_count": 31,
   "id": "065048a7-7065-4e7a-85f8-cfa234249fb5",
   "metadata": {},
   "outputs": [],
   "source": [
    "city_coords.rename({'City': 'name'}, axis=1, inplace=True)"
   ]
  },
  {
   "cell_type": "code",
   "execution_count": 32,
   "id": "5db19100-ade1-4e04-af8c-3e30227aa514",
   "metadata": {},
   "outputs": [],
   "source": [
    "city_coords.index = city_coords.index + 1\n",
    "city_coords.index.name = 'id'"
   ]
  },
  {
   "cell_type": "code",
   "execution_count": 33,
   "id": "4e35713a-a02e-4b5b-b13b-1b3525592fb4",
   "metadata": {},
   "outputs": [
    {
     "name": "stdout",
     "output_type": "stream",
     "text": [
      "                 name                lat                  lon\n",
      "id                                                           \n",
      "1            Aberdeen  46.97536111111111  -123.81572222222222\n",
      "2         Albuquerque    35.116666666667     -106.61666666667\n",
      "3             Algiers    36.776388888889      3.0586111111111\n",
      "4                Alma    43.378888888889     -84.659722222222\n",
      "5            Amarillo    35.199166666667     -101.84527777778\n",
      "..                ...                ...                  ...\n",
      "223        Wilmington    34.223333333333     -77.912222222222\n",
      "224  Wisconsin Rapids    44.394444444444     -89.832777777778\n",
      "225              Yale    43.130277777778     -82.797777777778\n",
      "226            Évreux    49.023333333333               1.1525\n",
      "227              Žiri          46.046019            14.108283\n",
      "\n",
      "[227 rows x 3 columns]\n"
     ]
    }
   ],
   "source": [
    "print(city_coords)"
   ]
  },
  {
   "cell_type": "code",
   "execution_count": 34,
   "id": "0804ded8-99af-4eac-814a-146cfa0657c1",
   "metadata": {},
   "outputs": [],
   "source": [
    "city_coords.to_csv('od_city_index.csv', index=True)"
   ]
  },
  {
   "cell_type": "markdown",
   "id": "f303be77-2ea3-448f-b56f-23946f1b986d",
   "metadata": {},
   "source": [
    "## Index to OD Matrix"
   ]
  },
  {
   "cell_type": "code",
   "execution_count": null,
   "id": "9c7d8043-b15a-4075-b7c6-da538cc19996",
   "metadata": {},
   "outputs": [],
   "source": [
    "#df['Year'] = df['date'].str.split('-', n=1, expand=True)[0]"
   ]
  },
  {
   "cell_type": "code",
   "execution_count": 35,
   "id": "b2644069-bfbf-46af-a8d9-872ac4ae31cd",
   "metadata": {},
   "outputs": [],
   "source": [
    "df['Year'] = pd.to_datetime(df['Date']).dt.year"
   ]
  },
  {
   "cell_type": "code",
   "execution_count": 36,
   "id": "bc6bcab0-4cc9-4687-827d-da9ade48d407",
   "metadata": {},
   "outputs": [],
   "source": [
    "city_id_map = city_coords.reset_index().set_index('name')['id'].to_dict()"
   ]
  },
  {
   "cell_type": "code",
   "execution_count": 37,
   "id": "78127f98-7c58-4bb3-b38d-76e499a6a42f",
   "metadata": {},
   "outputs": [],
   "source": [
    "df['origin'] = df['City'].map(city_id_map).astype(int)\n",
    "df['dest'] = df['City'].shift(-1).map(city_id_map).fillna(method='ffill').astype(int)\n",
    "df.iloc[-1, df.columns.get_loc('dest')] = df.iloc[-1]['origin']"
   ]
  },
  {
   "cell_type": "markdown",
   "id": "848f2853-8fd6-4de9-93dc-0b38276fb9da",
   "metadata": {},
   "source": [
    "### Overall OD Matrix"
   ]
  },
  {
   "cell_type": "code",
   "execution_count": 38,
   "id": "46b1dac2-7c83-4a38-b442-9fdb74096460",
   "metadata": {},
   "outputs": [],
   "source": [
    "overall_od_matrix = df.groupby(['origin', 'dest', 'Year']).size().reset_index(name='count')"
   ]
  },
  {
   "cell_type": "code",
   "execution_count": 39,
   "id": "10d0fa6c-a349-4b20-af97-963f52ff2926",
   "metadata": {},
   "outputs": [],
   "source": [
    "overall_od_matrix['time'] = overall_od_matrix['Year'].astype(str) + '-01-01'\n",
    "overall_od_matrix.drop('Year', axis=1, inplace=True)"
   ]
  },
  {
   "cell_type": "code",
   "execution_count": 40,
   "id": "aa9131b6-511f-4466-a0ed-c52900bcfdd6",
   "metadata": {},
   "outputs": [
    {
     "name": "stdout",
     "output_type": "stream",
     "text": [
      "     origin  dest  count        time\n",
      "0         1    18      1  1954-01-01\n",
      "1         2     1      1  1904-01-01\n",
      "2         2    12      1  1914-01-01\n",
      "3         2    19      1  1921-01-01\n",
      "4         3     3      1  1923-01-01\n",
      "..      ...   ...    ...         ...\n",
      "129      18    18      1  1927-01-01\n",
      "130      19     3      1  1985-01-01\n",
      "131      19    15      1  1924-01-01\n",
      "132      19    15      2  1965-01-01\n",
      "133      19    18      1  1961-01-01\n",
      "\n",
      "[134 rows x 4 columns]\n"
     ]
    }
   ],
   "source": [
    "print(overall_od_matrix)"
   ]
  },
  {
   "cell_type": "code",
   "execution_count": 41,
   "id": "2b1d2867-5455-4a63-a0d0-ef04f940901e",
   "metadata": {},
   "outputs": [],
   "source": [
    "overall_od_matrix.to_csv('overall_od_matrix.csv', index=False)"
   ]
  }
 ],
 "metadata": {
  "kernelspec": {
   "display_name": "Python 3 (ipykernel)",
   "language": "python",
   "name": "python3"
  },
  "language_info": {
   "codemirror_mode": {
    "name": "ipython",
    "version": 3
   },
   "file_extension": ".py",
   "mimetype": "text/x-python",
   "name": "python",
   "nbconvert_exporter": "python",
   "pygments_lexer": "ipython3",
   "version": "3.10.8"
  }
 },
 "nbformat": 4,
 "nbformat_minor": 5
}
