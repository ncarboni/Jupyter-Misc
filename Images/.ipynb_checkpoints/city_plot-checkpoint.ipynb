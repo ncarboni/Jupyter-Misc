{
 "cells": [
  {
   "cell_type": "code",
   "execution_count": null,
   "id": "bc304623-9ed0-4ce4-a36c-8fcfa44e2fb4",
   "metadata": {},
   "outputs": [],
   "source": [
    "import pandas as pd\n",
    "import matplotlib.pyplot as plt\n",
    "from datetime import datetime"
   ]
  },
  {
   "cell_type": "code",
   "execution_count": null,
   "id": "1b493efc-3e8b-4aef-a3ae-535689068baa",
   "metadata": {},
   "outputs": [],
   "source": [
    "df = pd.read_csv('/Users/carboni/Documents/UNIGE/pynotebook/personal/Images/foursquare_images_mod.csv')"
   ]
  },
  {
   "cell_type": "code",
   "execution_count": null,
   "id": "89067e48-03be-4d2c-8ba7-0c95fc2efdec",
   "metadata": {},
   "outputs": [],
   "source": [
    "# Convert date strings to Python datetime objects\n",
    "df['date'] = df['date'].apply(lambda x: datetime.strptime(x, '%Y-%m-%dT%H:%M:%S'))\n",
    "\n",
    "# Convert dates to ordinal format for plotting\n",
    "df['date_ordinal'] = df['date'].apply(lambda x: x.toordinal())\n",
    "\n",
    "# Sort by 'cc:ModelType' and then by 'date'\n",
    "df.sort_values(by=['cc:ModelType', 'date_ordinal'], inplace=True)\n",
    "\n",
    "# Map cities to numbers for plotting\n",
    "unique_cities = df['vc:City'].unique()\n",
    "city_to_num = {city: i for i, city in enumerate(unique_cities)}\n",
    "\n",
    "# Unique dates for x-axis ticks\n",
    "unique_dates = df['date'].unique()\n",
    "date_ticks = [d.toordinal() for d in unique_dates]\n",
    "date_labels = [d.strftime('%Y-%m-%d') for d in unique_dates]\n",
    "\n",
    "# Plotting\n",
    "plt.figure(figsize=(15, 8))\n",
    "\n",
    "for model_type in df['cc:ModelType'].unique():\n",
    "    model_df = df[df['cc:ModelType'] == model_type]\n",
    "    plt.plot(model_df['date_ordinal'], model_df['vc:City'].map(city_to_num), marker='o', label=model_type)\n",
    "\n",
    "plt.xticks(date_ticks, date_labels, rotation=45)\n",
    "plt.xlabel('Date')\n",
    "plt.ylabel('City')\n",
    "plt.yticks(range(len(unique_cities)), unique_cities)  # Set y-ticks to city names\n",
    "plt.legend(loc='upper left', bbox_to_anchor=(1, 1))  # Move legend outside of plot\n",
    "plt.title('Spatial Movement per Model Type Over Time')\n",
    "plt.grid(True)\n",
    "\n",
    "# Save the plot as a PNG file\n",
    "plt.savefig('model_type_movement.png', bbox_inches='tight')\n",
    "\n",
    "plt.show()"
   ]
  },
  {
   "cell_type": "code",
   "execution_count": null,
   "id": "87de6045-54a5-45f4-8364-5c63894c9780",
   "metadata": {},
   "outputs": [],
   "source": []
  }
 ],
 "metadata": {
  "kernelspec": {
   "display_name": "Python 3 (ipykernel)",
   "language": "python",
   "name": "python3"
  },
  "language_info": {
   "codemirror_mode": {
    "name": "ipython",
    "version": 3
   },
   "file_extension": ".py",
   "mimetype": "text/x-python",
   "name": "python",
   "nbconvert_exporter": "python",
   "pygments_lexer": "ipython3",
   "version": "3.10.8"
  }
 },
 "nbformat": 4,
 "nbformat_minor": 5
}
