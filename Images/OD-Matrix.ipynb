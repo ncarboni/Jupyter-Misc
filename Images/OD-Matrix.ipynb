{
 "cells": [
  {
   "cell_type": "code",
   "execution_count": 1,
   "id": "96f90b0e-4c59-40b0-a57b-7ff94b00396c",
   "metadata": {},
   "outputs": [],
   "source": [
    "import pandas as pd"
   ]
  },
  {
   "cell_type": "code",
   "execution_count": 2,
   "id": "120215b2-3975-481c-b1be-b5bdc0082faa",
   "metadata": {},
   "outputs": [],
   "source": [
    "df = pd.read_csv('/Users/carboni/Downloads/Leopard.csv')"
   ]
  },
  {
   "cell_type": "markdown",
   "id": "4b343904-0681-4ebd-8ca8-488672634d2f",
   "metadata": {},
   "source": [
    "### Clusters and other keywords"
   ]
  },
  {
   "cell_type": "code",
   "execution_count": 3,
   "id": "cbe00d75-4f38-4c6c-b28b-b8702023e2f3",
   "metadata": {},
   "outputs": [],
   "source": [
    "keyword = 'Bête'\n",
    "df = df[df['Cluster'].str.contains(keyword, case=False, na=False)]"
   ]
  },
  {
   "cell_type": "code",
   "execution_count": 4,
   "id": "2d242c1f-916a-447f-867e-97fb5d9d0d13",
   "metadata": {},
   "outputs": [
    {
     "data": {
      "text/html": [
       "<div>\n",
       "<style scoped>\n",
       "    .dataframe tbody tr th:only-of-type {\n",
       "        vertical-align: middle;\n",
       "    }\n",
       "\n",
       "    .dataframe tbody tr th {\n",
       "        vertical-align: top;\n",
       "    }\n",
       "\n",
       "    .dataframe thead th {\n",
       "        text-align: right;\n",
       "    }\n",
       "</style>\n",
       "<table border=\"1\" class=\"dataframe\">\n",
       "  <thead>\n",
       "    <tr style=\"text-align: right;\">\n",
       "      <th></th>\n",
       "      <th>Cluster</th>\n",
       "      <th>manifest_url</th>\n",
       "      <th>canvas_number</th>\n",
       "      <th>image_url</th>\n",
       "      <th>City</th>\n",
       "      <th>Country</th>\n",
       "      <th>Title</th>\n",
       "      <th>wkt</th>\n",
       "      <th>Date</th>\n",
       "      <th>Journal Type</th>\n",
       "      <th>Unnamed: 10</th>\n",
       "    </tr>\n",
       "  </thead>\n",
       "  <tbody>\n",
       "    <tr>\n",
       "      <th>0</th>\n",
       "      <td>Bête Seule (Tigre)</td>\n",
       "      <td>https://iiif.unige.ch/dhportal/ug796777/manifest</td>\n",
       "      <td>26.0</td>\n",
       "      <td>https://iiif.unige.ch/iiif/2/visualcontagions/...</td>\n",
       "      <td>Washington, D.C.</td>\n",
       "      <td>United States of America</td>\n",
       "      <td>National Geographic Society</td>\n",
       "      <td>POINT(-77.036666666667 38.895)</td>\n",
       "      <td>2019-01-01</td>\n",
       "      <td>Geography</td>\n",
       "      <td>NaN</td>\n",
       "    </tr>\n",
       "    <tr>\n",
       "      <th>4</th>\n",
       "      <td>Bête et Corps Léopard</td>\n",
       "      <td>https://digi.ub.uni-heidelberg.de/diglit/iiif/...</td>\n",
       "      <td>54.0</td>\n",
       "      <td>https://digi.ub.uni-heidelberg.de/iiif/2/porta...</td>\n",
       "      <td>Gdańsk</td>\n",
       "      <td>Poland</td>\n",
       "      <td>Porta aurea : rocznik Instytutu Historii Sztuk...</td>\n",
       "      <td>POINT(18.655 54.348055555555554)</td>\n",
       "      <td>2018-01-01</td>\n",
       "      <td>Art History</td>\n",
       "      <td>NaN</td>\n",
       "    </tr>\n",
       "    <tr>\n",
       "      <th>5</th>\n",
       "      <td>Bête Seule (Tigre)</td>\n",
       "      <td>https://iiif.unige.ch/dhportal/ug622322/manifest</td>\n",
       "      <td>40.0</td>\n",
       "      <td>https://iiif.unige.ch/iiif/2/visualcontagions/...</td>\n",
       "      <td>Washington, D.C.</td>\n",
       "      <td>United States of America</td>\n",
       "      <td>National Geographic Society</td>\n",
       "      <td>POINT(-77.036666666667 38.895)</td>\n",
       "      <td>2018-01-01</td>\n",
       "      <td>Geography</td>\n",
       "      <td>NaN</td>\n",
       "    </tr>\n",
       "    <tr>\n",
       "      <th>9</th>\n",
       "      <td>Bête Seule Léopard</td>\n",
       "      <td>https://iiif.unige.ch/dhportal/ug673896/manifest</td>\n",
       "      <td>115.0</td>\n",
       "      <td>https://iiif.unige.ch/iiif/2/visualcontagions/...</td>\n",
       "      <td>Washington, D.C.</td>\n",
       "      <td>United States of America</td>\n",
       "      <td>National Geographic Society</td>\n",
       "      <td>POINT(-77.036666666667 38.895)</td>\n",
       "      <td>2017-01-01</td>\n",
       "      <td>Geography</td>\n",
       "      <td>NaN</td>\n",
       "    </tr>\n",
       "    <tr>\n",
       "      <th>10</th>\n",
       "      <td>Bête Seule Léopard</td>\n",
       "      <td>https://iiif.unige.ch/dhportal/ug673896/manifest</td>\n",
       "      <td>116.0</td>\n",
       "      <td>https://iiif.unige.ch/iiif/2/visualcontagions/...</td>\n",
       "      <td>Washington, D.C.</td>\n",
       "      <td>United States of America</td>\n",
       "      <td>National Geographic Society</td>\n",
       "      <td>POINT(-77.036666666667 38.895)</td>\n",
       "      <td>2017-01-01</td>\n",
       "      <td>Geography</td>\n",
       "      <td>NaN</td>\n",
       "    </tr>\n",
       "  </tbody>\n",
       "</table>\n",
       "</div>"
      ],
      "text/plain": [
       "                  Cluster                                       manifest_url  \\\n",
       "0      Bête Seule (Tigre)   https://iiif.unige.ch/dhportal/ug796777/manifest   \n",
       "4   Bête et Corps Léopard  https://digi.ub.uni-heidelberg.de/diglit/iiif/...   \n",
       "5      Bête Seule (Tigre)   https://iiif.unige.ch/dhportal/ug622322/manifest   \n",
       "9      Bête Seule Léopard   https://iiif.unige.ch/dhportal/ug673896/manifest   \n",
       "10     Bête Seule Léopard   https://iiif.unige.ch/dhportal/ug673896/manifest   \n",
       "\n",
       "    canvas_number                                          image_url  \\\n",
       "0            26.0  https://iiif.unige.ch/iiif/2/visualcontagions/...   \n",
       "4            54.0  https://digi.ub.uni-heidelberg.de/iiif/2/porta...   \n",
       "5            40.0  https://iiif.unige.ch/iiif/2/visualcontagions/...   \n",
       "9           115.0  https://iiif.unige.ch/iiif/2/visualcontagions/...   \n",
       "10          116.0  https://iiif.unige.ch/iiif/2/visualcontagions/...   \n",
       "\n",
       "                City                   Country  \\\n",
       "0   Washington, D.C.  United States of America   \n",
       "4             Gdańsk                    Poland   \n",
       "5   Washington, D.C.  United States of America   \n",
       "9   Washington, D.C.  United States of America   \n",
       "10  Washington, D.C.  United States of America   \n",
       "\n",
       "                                                Title  \\\n",
       "0                         National Geographic Society   \n",
       "4   Porta aurea : rocznik Instytutu Historii Sztuk...   \n",
       "5                         National Geographic Society   \n",
       "9                         National Geographic Society   \n",
       "10                        National Geographic Society   \n",
       "\n",
       "                                 wkt        Date Journal Type Unnamed: 10  \n",
       "0     POINT(-77.036666666667 38.895)  2019-01-01    Geography         NaN  \n",
       "4   POINT(18.655 54.348055555555554)  2018-01-01  Art History         NaN  \n",
       "5     POINT(-77.036666666667 38.895)  2018-01-01    Geography         NaN  \n",
       "9     POINT(-77.036666666667 38.895)  2017-01-01    Geography         NaN  \n",
       "10    POINT(-77.036666666667 38.895)  2017-01-01    Geography         NaN  "
      ]
     },
     "execution_count": 4,
     "metadata": {},
     "output_type": "execute_result"
    }
   ],
   "source": [
    "df.head()"
   ]
  },
  {
   "cell_type": "markdown",
   "id": "2b39bbf8-4601-4c4c-9f23-4a3cc7b93ef8",
   "metadata": {},
   "source": [
    "## Index city "
   ]
  },
  {
   "cell_type": "markdown",
   "id": "a7034514-404b-4f90-91bc-5295d3a5f4de",
   "metadata": {
    "tags": []
   },
   "source": [
    "### If WKT"
   ]
  },
  {
   "cell_type": "code",
   "execution_count": 7,
   "id": "e1ace343-8863-47ba-a1dc-cf57149f27bb",
   "metadata": {},
   "outputs": [],
   "source": [
    "df[['lon', 'lat']] = df['wkt'].str.extract(r'POINT\\(([^ ]+) ([^ ]+)\\)')"
   ]
  },
  {
   "cell_type": "markdown",
   "id": "3dea4cd6-cca1-409b-89c7-e438e595c1c2",
   "metadata": {},
   "source": [
    "### if not wkt"
   ]
  },
  {
   "cell_type": "code",
   "execution_count": 8,
   "id": "1f284641-f75d-4a06-a1cb-5480946d9a7e",
   "metadata": {},
   "outputs": [],
   "source": [
    "city_coords = df.groupby('City').agg({'lat': 'first', 'lon': 'first'}).reset_index()"
   ]
  },
  {
   "cell_type": "code",
   "execution_count": 9,
   "id": "065048a7-7065-4e7a-85f8-cfa234249fb5",
   "metadata": {},
   "outputs": [],
   "source": [
    "city_coords.rename({'City': 'name'}, axis=1, inplace=True)"
   ]
  },
  {
   "cell_type": "code",
   "execution_count": 10,
   "id": "5db19100-ade1-4e04-af8c-3e30227aa514",
   "metadata": {},
   "outputs": [],
   "source": [
    "city_coords.index = city_coords.index + 1\n",
    "city_coords.index.name = 'id'"
   ]
  },
  {
   "cell_type": "code",
   "execution_count": 11,
   "id": "4e35713a-a02e-4b5b-b13b-1b3525592fb4",
   "metadata": {},
   "outputs": [
    {
     "name": "stdout",
     "output_type": "stream",
     "text": [
      "                 name                lat                  lon\n",
      "id                                                           \n",
      "1            Aberdeen  46.97536111111111  -123.81572222222222\n",
      "2         Albuquerque    35.116666666667     -106.61666666667\n",
      "3             Algiers    36.776388888889      3.0586111111111\n",
      "4                Alma    43.378888888889     -84.659722222222\n",
      "5            Amarillo    35.199166666667     -101.84527777778\n",
      "..                ...                ...                  ...\n",
      "182           Wichita    37.688888888889     -97.336111111111\n",
      "183        Wilmington    34.223333333333     -77.912222222222\n",
      "184  Wisconsin Rapids    44.394444444444     -89.832777777778\n",
      "185              Yale    43.130277777778     -82.797777777778\n",
      "186            Évreux    49.023333333333               1.1525\n",
      "\n",
      "[186 rows x 3 columns]\n"
     ]
    }
   ],
   "source": [
    "print(city_coords)"
   ]
  },
  {
   "cell_type": "code",
   "execution_count": 12,
   "id": "0804ded8-99af-4eac-814a-146cfa0657c1",
   "metadata": {},
   "outputs": [],
   "source": [
    "city_coords.to_csv('od_city_index.csv', index=True)"
   ]
  },
  {
   "cell_type": "markdown",
   "id": "29225317-5213-48c2-9ffb-cbfa3cc254bd",
   "metadata": {},
   "source": [
    "## Index to OD Matrix"
   ]
  },
  {
   "cell_type": "code",
   "execution_count": 13,
   "id": "57195a9c-1e13-41f9-9d7f-aead9e9b1a08",
   "metadata": {},
   "outputs": [],
   "source": [
    "city_id_map = city_coords.reset_index().set_index('name')['id'].to_dict()"
   ]
  },
  {
   "cell_type": "code",
   "execution_count": 14,
   "id": "201dd8af-53f5-48ac-b9f1-670e56f95834",
   "metadata": {},
   "outputs": [],
   "source": [
    "df['origin'] = df['City'].map(city_id_map).astype(int)\n",
    "df['dest'] = df['City'].shift(-1).map(city_id_map).fillna(method='ffill').astype(int)\n",
    "df.iloc[-1, df.columns.get_loc('dest')] = df.iloc[-1]['origin']"
   ]
  },
  {
   "cell_type": "code",
   "execution_count": 15,
   "id": "263cb90d-3af4-4f08-b7d3-56a54f5c4538",
   "metadata": {},
   "outputs": [],
   "source": [
    "#df.iloc[-1, df.columns.get_loc('dest')] = df.iloc[-1]['origin']"
   ]
  },
  {
   "cell_type": "code",
   "execution_count": 16,
   "id": "85af0d74-3462-4966-b891-2f1ac44515d1",
   "metadata": {},
   "outputs": [],
   "source": [
    "od_matrix = df.groupby(['origin', 'dest']).size().reset_index(name='count')"
   ]
  },
  {
   "cell_type": "code",
   "execution_count": 17,
   "id": "aa17605c-4583-4ac8-a21f-d4fa486ebece",
   "metadata": {},
   "outputs": [
    {
     "name": "stdout",
     "output_type": "stream",
     "text": [
      "     origin  dest  count\n",
      "0         1   103      2\n",
      "1         2     2      1\n",
      "2         2    36      1\n",
      "3         2    57      1\n",
      "4         2   129      1\n",
      "..      ...   ...    ...\n",
      "614     182   103      1\n",
      "615     183    62      1\n",
      "616     184    12      1\n",
      "617     185   103      1\n",
      "618     186   133      1\n",
      "\n",
      "[619 rows x 3 columns]\n"
     ]
    }
   ],
   "source": [
    "print(od_matrix)"
   ]
  },
  {
   "cell_type": "code",
   "execution_count": 18,
   "id": "332e1f19-f4a5-4b3a-a6ef-495bfd3424d1",
   "metadata": {},
   "outputs": [],
   "source": [
    "od_matrix.to_csv('od_matrix.csv', index=True)"
   ]
  },
  {
   "cell_type": "code",
   "execution_count": null,
   "id": "4534bd3c-c86f-48f7-bf01-add1c3da05b7",
   "metadata": {},
   "outputs": [],
   "source": []
  }
 ],
 "metadata": {
  "kernelspec": {
   "display_name": "Python 3 (ipykernel)",
   "language": "python",
   "name": "python3"
  },
  "language_info": {
   "codemirror_mode": {
    "name": "ipython",
    "version": 3
   },
   "file_extension": ".py",
   "mimetype": "text/x-python",
   "name": "python",
   "nbconvert_exporter": "python",
   "pygments_lexer": "ipython3",
   "version": "3.10.8"
  }
 },
 "nbformat": 4,
 "nbformat_minor": 5
}
