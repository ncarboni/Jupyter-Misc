{
 "cells": [
  {
   "cell_type": "code",
   "execution_count": 1,
   "id": "cd5dc0aa-8f21-4b22-b2a8-aaf25851386b",
   "metadata": {},
   "outputs": [],
   "source": [
    "from keplergl import KeplerGl\n",
    "import pandas as pd"
   ]
  },
  {
   "cell_type": "code",
   "execution_count": 2,
   "id": "b2fc32df-677a-4238-bf6c-9c7fa5995293",
   "metadata": {},
   "outputs": [],
   "source": [
    "df = pd.read_csv('images-all-robin-date.csv')"
   ]
  },
  {
   "cell_type": "code",
   "execution_count": 3,
   "id": "2e1a0473-63ef-4678-bf1e-40d07f801fef",
   "metadata": {},
   "outputs": [],
   "source": [
    "# load the config\n",
    "%run hex_config.py"
   ]
  },
  {
   "cell_type": "code",
   "execution_count": null,
   "id": "e3810122-4760-4cdd-8b1c-d7b85675fb9b",
   "metadata": {},
   "outputs": [],
   "source": [
    "df.info()"
   ]
  },
  {
   "cell_type": "code",
   "execution_count": 4,
   "id": "1026b581-cbee-4ba4-8eb3-b107dc5bf247",
   "metadata": {},
   "outputs": [
    {
     "name": "stdout",
     "output_type": "stream",
     "text": [
      "User Guide: https://docs.kepler.gl/docs/keplergl-jupyter\n"
     ]
    },
    {
     "name": "stderr",
     "output_type": "stream",
     "text": [
      "/opt/homebrew/Caskroom/miniforge/base/envs/jupyter/lib/python3.8/site-packages/jupyter_client/session.py:716: UserWarning: Message serialization failed with:\n",
      "Out of range float values are not JSON compliant\n",
      "Supporting this message is deprecated in jupyter-client 7, please make sure your message is JSON-compliant\n",
      "  content = self.pack(content)\n"
     ]
    }
   ],
   "source": [
    "map_1 = KeplerGl()\n",
    "map_1.add_data(data=df, name='all images Explore')\n",
    "map_1.config = config"
   ]
  },
  {
   "cell_type": "code",
   "execution_count": null,
   "id": "3a322840-bffc-432b-ab0a-0c68e0c5a4e7",
   "metadata": {},
   "outputs": [],
   "source": [
    "map_1 = KeplerGl(height=800, data={'c95 Robin': df}, config=config)"
   ]
  },
  {
   "cell_type": "code",
   "execution_count": 5,
   "id": "c2449014-7b7d-420d-8d79-216559df4646",
   "metadata": {},
   "outputs": [
    {
     "data": {
      "application/vnd.jupyter.widget-view+json": {
       "model_id": "706ca8f990f647199663adf48f1230c7",
       "version_major": 2,
       "version_minor": 0
      },
      "text/plain": [
       "KeplerGl(config={'version': 'v1', 'config': {'visState': {'filters': [], 'layers': [{'id': '7o87j6b', 'type': …"
      ]
     },
     "metadata": {},
     "output_type": "display_data"
    }
   ],
   "source": [
    "map_1"
   ]
  },
  {
   "cell_type": "code",
   "execution_count": 6,
   "id": "31f464da-3a19-4637-b9c4-956befb058e8",
   "metadata": {},
   "outputs": [],
   "source": [
    "# Save map_1 config to a file\n",
    "with open('hex_config.py', 'w') as f:\n",
    "   f.write('config = {}'.format(map_1.config))"
   ]
  },
  {
   "cell_type": "code",
   "execution_count": 7,
   "id": "71153a70-1d61-4107-acf2-25dd707e6f2a",
   "metadata": {},
   "outputs": [],
   "source": [
    "config = map_1.config"
   ]
  },
  {
   "cell_type": "code",
   "execution_count": 9,
   "id": "5720fb93-231a-4a1f-991b-21dd665e0b69",
   "metadata": {},
   "outputs": [
    {
     "name": "stdout",
     "output_type": "stream",
     "text": [
      "Map saved to map_explore.html!\n"
     ]
    }
   ],
   "source": [
    "map_1.save_to_html(data={'all images Explore': df}, config=config, file_name='map_explore.html')"
   ]
  },
  {
   "cell_type": "code",
   "execution_count": 11,
   "id": "22b95f26-22c8-4ab8-b626-5ebf8fcd25e9",
   "metadata": {},
   "outputs": [
    {
     "name": "stdout",
     "output_type": "stream",
     "text": [
      "Map saved to first_map_disable.html!\n"
     ]
    }
   ],
   "source": [
    "map_1.save_to_html(config=config, file_name='first_map_disable.html', read_only=True)"
   ]
  },
  {
   "cell_type": "code",
   "execution_count": 12,
   "id": "9f4b3c25-378a-46fa-a127-02245061ccdc",
   "metadata": {},
   "outputs": [
    {
     "name": "stdout",
     "output_type": "stream",
     "text": [
      "Map saved to first_map_disable.html!\n"
     ]
    }
   ],
   "source": [
    "map_1.save_to_html(data={'all images Explore': df}, config=config, file_name='first_map_disable.html', read_only=True)"
   ]
  },
  {
   "cell_type": "code",
   "execution_count": null,
   "id": "60844e11-c512-4b8a-867c-ee3bab5719df",
   "metadata": {},
   "outputs": [],
   "source": [
    "map_1.save_to_html(file_name='first_map_disable.html', read_only=True)"
   ]
  }
 ],
 "metadata": {
  "kernelspec": {
   "display_name": "Python 3 (ipykernel)",
   "language": "python",
   "name": "python3"
  },
  "language_info": {
   "codemirror_mode": {
    "name": "ipython",
    "version": 3
   },
   "file_extension": ".py",
   "mimetype": "text/x-python",
   "name": "python",
   "nbconvert_exporter": "python",
   "pygments_lexer": "ipython3",
   "version": "3.8.12"
  }
 },
 "nbformat": 4,
 "nbformat_minor": 5
}
