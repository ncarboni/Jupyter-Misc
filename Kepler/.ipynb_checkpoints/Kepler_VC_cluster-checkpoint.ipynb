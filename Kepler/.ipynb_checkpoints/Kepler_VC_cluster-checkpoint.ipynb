{
 "cells": [
  {
   "cell_type": "markdown",
   "id": "2b5f652c-654e-4512-8fc2-564a0c48b68c",
   "metadata": {},
   "source": [
    "# Map with Kepler"
   ]
  },
  {
   "cell_type": "markdown",
   "id": "695062fe-8954-4196-9203-c94938018c88",
   "metadata": {},
   "source": [
    "creating a map with Kepler"
   ]
  },
  {
   "cell_type": "code",
   "execution_count": 2,
   "id": "cd5dc0aa-8f21-4b22-b2a8-aaf25851386b",
   "metadata": {},
   "outputs": [],
   "source": [
    "from keplergl import KeplerGl\n",
    "import pandas as pd\n",
    "from shapely import wkt\n",
    "from shapely.wkt import loads\n",
    "import geopandas as gpd"
   ]
  },
  {
   "cell_type": "code",
   "execution_count": 3,
   "id": "b2fc32df-677a-4238-bf6c-9c7fa5995293",
   "metadata": {},
   "outputs": [],
   "source": [
    "df = pd.read_csv('/Users/carboni/Downloads/corpus-112_images_2023-09-21_1139.csv')"
   ]
  },
  {
   "cell_type": "code",
   "execution_count": 4,
   "id": "8f3592e0-33b7-4a9f-985b-973c280797ad",
   "metadata": {},
   "outputs": [],
   "source": [
    "df = df.dropna(subset=['City'])"
   ]
  },
  {
   "cell_type": "code",
   "execution_count": 5,
   "id": "23ffd649-a665-4d9f-a196-0d13067b71c7",
   "metadata": {},
   "outputs": [],
   "source": [
    "df['wkt'] = df['wkt'].astype(str)"
   ]
  },
  {
   "cell_type": "code",
   "execution_count": 6,
   "id": "e39fbaeb-3c3e-4b27-9d8d-0f5731c05ae5",
   "metadata": {},
   "outputs": [],
   "source": [
    "df = df[~df['wkt'].str.contains('nan')]"
   ]
  },
  {
   "cell_type": "code",
   "execution_count": 7,
   "id": "15e872a4-9920-4aff-abac-390a029465f9",
   "metadata": {},
   "outputs": [],
   "source": [
    "df['Date'] = df['Date'].astype(str)"
   ]
  },
  {
   "cell_type": "code",
   "execution_count": 8,
   "id": "7f698287-0bab-4cc2-a2f0-5a7c663324c1",
   "metadata": {},
   "outputs": [],
   "source": [
    "df = df[~df['Date'].str.contains('nan')]"
   ]
  },
  {
   "cell_type": "code",
   "execution_count": 9,
   "id": "de7b15a4-4832-4b42-8ab9-4fab1c85e381",
   "metadata": {},
   "outputs": [],
   "source": [
    "df['datime'] = pd.to_datetime(df['Date'])\n",
    "df['Year'] = df['datime'].dt.year\n",
    "df['image_per_year_in_city'] = df.groupby(['City', 'Country', 'Year'])['image_url'].transform('count')"
   ]
  },
  {
   "cell_type": "code",
   "execution_count": 10,
   "id": "6be27c19-58a6-4567-8b2f-d26d24b1c287",
   "metadata": {},
   "outputs": [],
   "source": [
    "df['geometry'] = df['wkt'].apply(loads)"
   ]
  },
  {
   "cell_type": "code",
   "execution_count": 11,
   "id": "776dafb4-d463-4ede-97af-be8d249213f1",
   "metadata": {},
   "outputs": [],
   "source": [
    "df['latitude'] = df['geometry'].apply(lambda geom: geom.y)\n",
    "df['longitude'] = df['geometry'].apply(lambda geom: geom.x)"
   ]
  },
  {
   "cell_type": "code",
   "execution_count": 12,
   "id": "ba1e7519-780d-46ab-b29d-adb0668643a2",
   "metadata": {},
   "outputs": [],
   "source": [
    "df['Date'] = df['Date'].astype(str) + 'T00:00:00Z'"
   ]
  },
  {
   "cell_type": "code",
   "execution_count": 13,
   "id": "e2e87cbc-2f2b-4547-acaf-dc131b735781",
   "metadata": {},
   "outputs": [
    {
     "data": {
      "text/html": [
       "<div>\n",
       "<style scoped>\n",
       "    .dataframe tbody tr th:only-of-type {\n",
       "        vertical-align: middle;\n",
       "    }\n",
       "\n",
       "    .dataframe tbody tr th {\n",
       "        vertical-align: top;\n",
       "    }\n",
       "\n",
       "    .dataframe thead th {\n",
       "        text-align: right;\n",
       "    }\n",
       "</style>\n",
       "<table border=\"1\" class=\"dataframe\">\n",
       "  <thead>\n",
       "    <tr style=\"text-align: right;\">\n",
       "      <th></th>\n",
       "      <th>manifest_url</th>\n",
       "      <th>canvas_number</th>\n",
       "      <th>image_url</th>\n",
       "      <th>City</th>\n",
       "      <th>Country</th>\n",
       "      <th>Title</th>\n",
       "      <th>wkt</th>\n",
       "      <th>Date</th>\n",
       "      <th>Journal Type</th>\n",
       "      <th>notice</th>\n",
       "      <th>datime</th>\n",
       "      <th>Year</th>\n",
       "      <th>image_per_year_in_city</th>\n",
       "      <th>geometry</th>\n",
       "      <th>latitude</th>\n",
       "      <th>longitude</th>\n",
       "    </tr>\n",
       "  </thead>\n",
       "  <tbody>\n",
       "    <tr>\n",
       "      <th>1</th>\n",
       "      <td>https://iiif.unige.ch/dhportal/ug8096214/manifest</td>\n",
       "      <td>0.0</td>\n",
       "      <td>https://iiif.unige.ch/iiif/2/fedora_ug8064419/...</td>\n",
       "      <td>Tokyo</td>\n",
       "      <td>Japan</td>\n",
       "      <td>FLIX</td>\n",
       "      <td>POINT(139.69222222222 35.689722222222)</td>\n",
       "      <td>2010-06-01T00:00:00Z</td>\n",
       "      <td>Cinema</td>\n",
       "      <td>NaN</td>\n",
       "      <td>2010-06-01</td>\n",
       "      <td>2010</td>\n",
       "      <td>93</td>\n",
       "      <td>POINT (139.69222222222 35.689722222222)</td>\n",
       "      <td>35.689722</td>\n",
       "      <td>139.692222</td>\n",
       "    </tr>\n",
       "    <tr>\n",
       "      <th>2</th>\n",
       "      <td>https://iiif.unige.ch/dhportal/ug8054362/manifest</td>\n",
       "      <td>0.0</td>\n",
       "      <td>https://iiif.unige.ch/iiif/2/fedora_ug8059238/...</td>\n",
       "      <td>Tokyo</td>\n",
       "      <td>Japan</td>\n",
       "      <td>FLIX</td>\n",
       "      <td>POINT(139.69222222222 35.689722222222)</td>\n",
       "      <td>2013-08-01T00:00:00Z</td>\n",
       "      <td>Cinema</td>\n",
       "      <td>NaN</td>\n",
       "      <td>2013-08-01</td>\n",
       "      <td>2013</td>\n",
       "      <td>130</td>\n",
       "      <td>POINT (139.69222222222 35.689722222222)</td>\n",
       "      <td>35.689722</td>\n",
       "      <td>139.692222</td>\n",
       "    </tr>\n",
       "    <tr>\n",
       "      <th>3</th>\n",
       "      <td>https://iiif.unige.ch/dhportal/ug8079451/manifest</td>\n",
       "      <td>0.0</td>\n",
       "      <td>https://iiif.unige.ch/iiif/2/fedora_ug8102867/...</td>\n",
       "      <td>Kyiv</td>\n",
       "      <td>Ukraine</td>\n",
       "      <td>KINO</td>\n",
       "      <td>POINT(30.523611111111 50.45)</td>\n",
       "      <td>1933-05-10T00:00:00Z</td>\n",
       "      <td>Cinema</td>\n",
       "      <td>NaN</td>\n",
       "      <td>1933-05-10</td>\n",
       "      <td>1933</td>\n",
       "      <td>29</td>\n",
       "      <td>POINT (30.523611111111 50.45)</td>\n",
       "      <td>50.450000</td>\n",
       "      <td>30.523611</td>\n",
       "    </tr>\n",
       "    <tr>\n",
       "      <th>5</th>\n",
       "      <td>https://iiif.unige.ch/dhportal/ug410612/manifest</td>\n",
       "      <td>0.0</td>\n",
       "      <td>https://iiif.unige.ch/iiif/2/visualcontagions/...</td>\n",
       "      <td>Hamburg</td>\n",
       "      <td>Germany</td>\n",
       "      <td>Der Spiegel</td>\n",
       "      <td>POINT(10 53.55)</td>\n",
       "      <td>2020-10-26T00:00:00Z</td>\n",
       "      <td>NaN</td>\n",
       "      <td>NaN</td>\n",
       "      <td>2020-10-26</td>\n",
       "      <td>2020</td>\n",
       "      <td>83</td>\n",
       "      <td>POINT (10 53.55)</td>\n",
       "      <td>53.550000</td>\n",
       "      <td>10.000000</td>\n",
       "    </tr>\n",
       "    <tr>\n",
       "      <th>6</th>\n",
       "      <td>https://iiif.unige.ch/dhportal/ug396639/manifest</td>\n",
       "      <td>0.0</td>\n",
       "      <td>https://iiif.unige.ch/iiif/2/visualcontagions/...</td>\n",
       "      <td>Hamburg</td>\n",
       "      <td>Germany</td>\n",
       "      <td>Der Spiegel</td>\n",
       "      <td>POINT(10 53.55)</td>\n",
       "      <td>2014-03-23T00:00:00Z</td>\n",
       "      <td>NaN</td>\n",
       "      <td>NaN</td>\n",
       "      <td>2014-03-23</td>\n",
       "      <td>2014</td>\n",
       "      <td>90</td>\n",
       "      <td>POINT (10 53.55)</td>\n",
       "      <td>53.550000</td>\n",
       "      <td>10.000000</td>\n",
       "    </tr>\n",
       "  </tbody>\n",
       "</table>\n",
       "</div>"
      ],
      "text/plain": [
       "                                        manifest_url  canvas_number  \\\n",
       "1  https://iiif.unige.ch/dhportal/ug8096214/manifest            0.0   \n",
       "2  https://iiif.unige.ch/dhportal/ug8054362/manifest            0.0   \n",
       "3  https://iiif.unige.ch/dhportal/ug8079451/manifest            0.0   \n",
       "5   https://iiif.unige.ch/dhportal/ug410612/manifest            0.0   \n",
       "6   https://iiif.unige.ch/dhportal/ug396639/manifest            0.0   \n",
       "\n",
       "                                           image_url     City  Country  \\\n",
       "1  https://iiif.unige.ch/iiif/2/fedora_ug8064419/...    Tokyo    Japan   \n",
       "2  https://iiif.unige.ch/iiif/2/fedora_ug8059238/...    Tokyo    Japan   \n",
       "3  https://iiif.unige.ch/iiif/2/fedora_ug8102867/...     Kyiv  Ukraine   \n",
       "5  https://iiif.unige.ch/iiif/2/visualcontagions/...  Hamburg  Germany   \n",
       "6  https://iiif.unige.ch/iiif/2/visualcontagions/...  Hamburg  Germany   \n",
       "\n",
       "         Title                                     wkt                  Date  \\\n",
       "1         FLIX  POINT(139.69222222222 35.689722222222)  2010-06-01T00:00:00Z   \n",
       "2         FLIX  POINT(139.69222222222 35.689722222222)  2013-08-01T00:00:00Z   \n",
       "3         KINO            POINT(30.523611111111 50.45)  1933-05-10T00:00:00Z   \n",
       "5  Der Spiegel                         POINT(10 53.55)  2020-10-26T00:00:00Z   \n",
       "6  Der Spiegel                         POINT(10 53.55)  2014-03-23T00:00:00Z   \n",
       "\n",
       "  Journal Type  notice     datime  Year  image_per_year_in_city  \\\n",
       "1       Cinema     NaN 2010-06-01  2010                      93   \n",
       "2       Cinema     NaN 2013-08-01  2013                     130   \n",
       "3       Cinema     NaN 1933-05-10  1933                      29   \n",
       "5          NaN     NaN 2020-10-26  2020                      83   \n",
       "6          NaN     NaN 2014-03-23  2014                      90   \n",
       "\n",
       "                                  geometry   latitude   longitude  \n",
       "1  POINT (139.69222222222 35.689722222222)  35.689722  139.692222  \n",
       "2  POINT (139.69222222222 35.689722222222)  35.689722  139.692222  \n",
       "3            POINT (30.523611111111 50.45)  50.450000   30.523611  \n",
       "5                         POINT (10 53.55)  53.550000   10.000000  \n",
       "6                         POINT (10 53.55)  53.550000   10.000000  "
      ]
     },
     "execution_count": 13,
     "metadata": {},
     "output_type": "execute_result"
    }
   ],
   "source": [
    "df.head()"
   ]
  },
  {
   "cell_type": "code",
   "execution_count": 14,
   "id": "1bc13a89-35a8-4702-9755-3b6b51eb073f",
   "metadata": {},
   "outputs": [],
   "source": [
    "df['Num_JT'] = df.groupby(['City', 'Country'])['Journal Type'].transform('nunique')"
   ]
  },
  {
   "cell_type": "code",
   "execution_count": 15,
   "id": "cbd48fc6-074e-43ab-8caa-ceb302d8ff4a",
   "metadata": {},
   "outputs": [
    {
     "data": {
      "text/html": [
       "<div>\n",
       "<style scoped>\n",
       "    .dataframe tbody tr th:only-of-type {\n",
       "        vertical-align: middle;\n",
       "    }\n",
       "\n",
       "    .dataframe tbody tr th {\n",
       "        vertical-align: top;\n",
       "    }\n",
       "\n",
       "    .dataframe thead th {\n",
       "        text-align: right;\n",
       "    }\n",
       "</style>\n",
       "<table border=\"1\" class=\"dataframe\">\n",
       "  <thead>\n",
       "    <tr style=\"text-align: right;\">\n",
       "      <th></th>\n",
       "      <th>manifest_url</th>\n",
       "      <th>canvas_number</th>\n",
       "      <th>image_url</th>\n",
       "      <th>City</th>\n",
       "      <th>Country</th>\n",
       "      <th>Title</th>\n",
       "      <th>wkt</th>\n",
       "      <th>Date</th>\n",
       "      <th>Journal Type</th>\n",
       "      <th>notice</th>\n",
       "      <th>datime</th>\n",
       "      <th>Year</th>\n",
       "      <th>image_per_year_in_city</th>\n",
       "      <th>geometry</th>\n",
       "      <th>latitude</th>\n",
       "      <th>longitude</th>\n",
       "      <th>Num_JT</th>\n",
       "    </tr>\n",
       "  </thead>\n",
       "  <tbody>\n",
       "    <tr>\n",
       "      <th>1</th>\n",
       "      <td>https://iiif.unige.ch/dhportal/ug8096214/manifest</td>\n",
       "      <td>0.0</td>\n",
       "      <td>https://iiif.unige.ch/iiif/2/fedora_ug8064419/...</td>\n",
       "      <td>Tokyo</td>\n",
       "      <td>Japan</td>\n",
       "      <td>FLIX</td>\n",
       "      <td>POINT(139.69222222222 35.689722222222)</td>\n",
       "      <td>2010-06-01T00:00:00Z</td>\n",
       "      <td>Cinema</td>\n",
       "      <td>NaN</td>\n",
       "      <td>2010-06-01</td>\n",
       "      <td>2010</td>\n",
       "      <td>93</td>\n",
       "      <td>POINT (139.69222222222 35.689722222222)</td>\n",
       "      <td>35.689722</td>\n",
       "      <td>139.692222</td>\n",
       "      <td>5</td>\n",
       "    </tr>\n",
       "    <tr>\n",
       "      <th>2</th>\n",
       "      <td>https://iiif.unige.ch/dhportal/ug8054362/manifest</td>\n",
       "      <td>0.0</td>\n",
       "      <td>https://iiif.unige.ch/iiif/2/fedora_ug8059238/...</td>\n",
       "      <td>Tokyo</td>\n",
       "      <td>Japan</td>\n",
       "      <td>FLIX</td>\n",
       "      <td>POINT(139.69222222222 35.689722222222)</td>\n",
       "      <td>2013-08-01T00:00:00Z</td>\n",
       "      <td>Cinema</td>\n",
       "      <td>NaN</td>\n",
       "      <td>2013-08-01</td>\n",
       "      <td>2013</td>\n",
       "      <td>130</td>\n",
       "      <td>POINT (139.69222222222 35.689722222222)</td>\n",
       "      <td>35.689722</td>\n",
       "      <td>139.692222</td>\n",
       "      <td>5</td>\n",
       "    </tr>\n",
       "    <tr>\n",
       "      <th>3</th>\n",
       "      <td>https://iiif.unige.ch/dhportal/ug8079451/manifest</td>\n",
       "      <td>0.0</td>\n",
       "      <td>https://iiif.unige.ch/iiif/2/fedora_ug8102867/...</td>\n",
       "      <td>Kyiv</td>\n",
       "      <td>Ukraine</td>\n",
       "      <td>KINO</td>\n",
       "      <td>POINT(30.523611111111 50.45)</td>\n",
       "      <td>1933-05-10T00:00:00Z</td>\n",
       "      <td>Cinema</td>\n",
       "      <td>NaN</td>\n",
       "      <td>1933-05-10</td>\n",
       "      <td>1933</td>\n",
       "      <td>29</td>\n",
       "      <td>POINT (30.523611111111 50.45)</td>\n",
       "      <td>50.450000</td>\n",
       "      <td>30.523611</td>\n",
       "      <td>4</td>\n",
       "    </tr>\n",
       "    <tr>\n",
       "      <th>5</th>\n",
       "      <td>https://iiif.unige.ch/dhportal/ug410612/manifest</td>\n",
       "      <td>0.0</td>\n",
       "      <td>https://iiif.unige.ch/iiif/2/visualcontagions/...</td>\n",
       "      <td>Hamburg</td>\n",
       "      <td>Germany</td>\n",
       "      <td>Der Spiegel</td>\n",
       "      <td>POINT(10 53.55)</td>\n",
       "      <td>2020-10-26T00:00:00Z</td>\n",
       "      <td>NaN</td>\n",
       "      <td>NaN</td>\n",
       "      <td>2020-10-26</td>\n",
       "      <td>2020</td>\n",
       "      <td>83</td>\n",
       "      <td>POINT (10 53.55)</td>\n",
       "      <td>53.550000</td>\n",
       "      <td>10.000000</td>\n",
       "      <td>4</td>\n",
       "    </tr>\n",
       "    <tr>\n",
       "      <th>6</th>\n",
       "      <td>https://iiif.unige.ch/dhportal/ug396639/manifest</td>\n",
       "      <td>0.0</td>\n",
       "      <td>https://iiif.unige.ch/iiif/2/visualcontagions/...</td>\n",
       "      <td>Hamburg</td>\n",
       "      <td>Germany</td>\n",
       "      <td>Der Spiegel</td>\n",
       "      <td>POINT(10 53.55)</td>\n",
       "      <td>2014-03-23T00:00:00Z</td>\n",
       "      <td>NaN</td>\n",
       "      <td>NaN</td>\n",
       "      <td>2014-03-23</td>\n",
       "      <td>2014</td>\n",
       "      <td>90</td>\n",
       "      <td>POINT (10 53.55)</td>\n",
       "      <td>53.550000</td>\n",
       "      <td>10.000000</td>\n",
       "      <td>4</td>\n",
       "    </tr>\n",
       "  </tbody>\n",
       "</table>\n",
       "</div>"
      ],
      "text/plain": [
       "                                        manifest_url  canvas_number  \\\n",
       "1  https://iiif.unige.ch/dhportal/ug8096214/manifest            0.0   \n",
       "2  https://iiif.unige.ch/dhportal/ug8054362/manifest            0.0   \n",
       "3  https://iiif.unige.ch/dhportal/ug8079451/manifest            0.0   \n",
       "5   https://iiif.unige.ch/dhportal/ug410612/manifest            0.0   \n",
       "6   https://iiif.unige.ch/dhportal/ug396639/manifest            0.0   \n",
       "\n",
       "                                           image_url     City  Country  \\\n",
       "1  https://iiif.unige.ch/iiif/2/fedora_ug8064419/...    Tokyo    Japan   \n",
       "2  https://iiif.unige.ch/iiif/2/fedora_ug8059238/...    Tokyo    Japan   \n",
       "3  https://iiif.unige.ch/iiif/2/fedora_ug8102867/...     Kyiv  Ukraine   \n",
       "5  https://iiif.unige.ch/iiif/2/visualcontagions/...  Hamburg  Germany   \n",
       "6  https://iiif.unige.ch/iiif/2/visualcontagions/...  Hamburg  Germany   \n",
       "\n",
       "         Title                                     wkt                  Date  \\\n",
       "1         FLIX  POINT(139.69222222222 35.689722222222)  2010-06-01T00:00:00Z   \n",
       "2         FLIX  POINT(139.69222222222 35.689722222222)  2013-08-01T00:00:00Z   \n",
       "3         KINO            POINT(30.523611111111 50.45)  1933-05-10T00:00:00Z   \n",
       "5  Der Spiegel                         POINT(10 53.55)  2020-10-26T00:00:00Z   \n",
       "6  Der Spiegel                         POINT(10 53.55)  2014-03-23T00:00:00Z   \n",
       "\n",
       "  Journal Type  notice     datime  Year  image_per_year_in_city  \\\n",
       "1       Cinema     NaN 2010-06-01  2010                      93   \n",
       "2       Cinema     NaN 2013-08-01  2013                     130   \n",
       "3       Cinema     NaN 1933-05-10  1933                      29   \n",
       "5          NaN     NaN 2020-10-26  2020                      83   \n",
       "6          NaN     NaN 2014-03-23  2014                      90   \n",
       "\n",
       "                                  geometry   latitude   longitude  Num_JT  \n",
       "1  POINT (139.69222222222 35.689722222222)  35.689722  139.692222       5  \n",
       "2  POINT (139.69222222222 35.689722222222)  35.689722  139.692222       5  \n",
       "3            POINT (30.523611111111 50.45)  50.450000   30.523611       4  \n",
       "5                         POINT (10 53.55)  53.550000   10.000000       4  \n",
       "6                         POINT (10 53.55)  53.550000   10.000000       4  "
      ]
     },
     "execution_count": 15,
     "metadata": {},
     "output_type": "execute_result"
    }
   ],
   "source": [
    "df.head()"
   ]
  },
  {
   "cell_type": "code",
   "execution_count": 16,
   "id": "e02abd8b-9d89-4178-ad7a-21fe08bf73cd",
   "metadata": {},
   "outputs": [],
   "source": [
    "df = df.drop(columns=['geometry', 'notice', 'Title','canvas_number', 'City', 'datime', 'Year', 'Country', 'wkt', 'Journal Type', 'manifest_url', 'image_url'])"
   ]
  },
  {
   "cell_type": "code",
   "execution_count": 17,
   "id": "cddfc50d-fd50-4533-a19b-e1435a3af6bf",
   "metadata": {},
   "outputs": [
    {
     "data": {
      "text/html": [
       "<div>\n",
       "<style scoped>\n",
       "    .dataframe tbody tr th:only-of-type {\n",
       "        vertical-align: middle;\n",
       "    }\n",
       "\n",
       "    .dataframe tbody tr th {\n",
       "        vertical-align: top;\n",
       "    }\n",
       "\n",
       "    .dataframe thead th {\n",
       "        text-align: right;\n",
       "    }\n",
       "</style>\n",
       "<table border=\"1\" class=\"dataframe\">\n",
       "  <thead>\n",
       "    <tr style=\"text-align: right;\">\n",
       "      <th></th>\n",
       "      <th>Date</th>\n",
       "      <th>image_per_year_in_city</th>\n",
       "      <th>latitude</th>\n",
       "      <th>longitude</th>\n",
       "      <th>Num_JT</th>\n",
       "    </tr>\n",
       "  </thead>\n",
       "  <tbody>\n",
       "    <tr>\n",
       "      <th>1</th>\n",
       "      <td>2010-06-01T00:00:00Z</td>\n",
       "      <td>93</td>\n",
       "      <td>35.689722</td>\n",
       "      <td>139.692222</td>\n",
       "      <td>5</td>\n",
       "    </tr>\n",
       "    <tr>\n",
       "      <th>2</th>\n",
       "      <td>2013-08-01T00:00:00Z</td>\n",
       "      <td>130</td>\n",
       "      <td>35.689722</td>\n",
       "      <td>139.692222</td>\n",
       "      <td>5</td>\n",
       "    </tr>\n",
       "    <tr>\n",
       "      <th>3</th>\n",
       "      <td>1933-05-10T00:00:00Z</td>\n",
       "      <td>29</td>\n",
       "      <td>50.450000</td>\n",
       "      <td>30.523611</td>\n",
       "      <td>4</td>\n",
       "    </tr>\n",
       "    <tr>\n",
       "      <th>5</th>\n",
       "      <td>2020-10-26T00:00:00Z</td>\n",
       "      <td>83</td>\n",
       "      <td>53.550000</td>\n",
       "      <td>10.000000</td>\n",
       "      <td>4</td>\n",
       "    </tr>\n",
       "    <tr>\n",
       "      <th>6</th>\n",
       "      <td>2014-03-23T00:00:00Z</td>\n",
       "      <td>90</td>\n",
       "      <td>53.550000</td>\n",
       "      <td>10.000000</td>\n",
       "      <td>4</td>\n",
       "    </tr>\n",
       "  </tbody>\n",
       "</table>\n",
       "</div>"
      ],
      "text/plain": [
       "                   Date  image_per_year_in_city   latitude   longitude  Num_JT\n",
       "1  2010-06-01T00:00:00Z                      93  35.689722  139.692222       5\n",
       "2  2013-08-01T00:00:00Z                     130  35.689722  139.692222       5\n",
       "3  1933-05-10T00:00:00Z                      29  50.450000   30.523611       4\n",
       "5  2020-10-26T00:00:00Z                      83  53.550000   10.000000       4\n",
       "6  2014-03-23T00:00:00Z                      90  53.550000   10.000000       4"
      ]
     },
     "execution_count": 17,
     "metadata": {},
     "output_type": "execute_result"
    }
   ],
   "source": [
    "df.head()"
   ]
  },
  {
   "cell_type": "code",
   "execution_count": 18,
   "id": "305e4c19-d10b-4a7b-8502-63cc3507b7f5",
   "metadata": {},
   "outputs": [],
   "source": [
    "df = df.drop_duplicates(subset=['latitude', 'Date'])"
   ]
  },
  {
   "cell_type": "code",
   "execution_count": 25,
   "id": "a36dfae0-c3ec-46d6-ac44-754265f79a47",
   "metadata": {},
   "outputs": [],
   "source": [
    "mask = df['Date'] > '1890-01-01'\n",
    "filtered_df = df[mask]"
   ]
  },
  {
   "cell_type": "code",
   "execution_count": 26,
   "id": "6f64c4a6-d167-4df5-8caa-6f0d65679416",
   "metadata": {},
   "outputs": [
    {
     "name": "stdout",
     "output_type": "stream",
     "text": [
      "<class 'pandas.core.frame.DataFrame'>\n",
      "Int64Index: 826143 entries, 1 to 12878587\n",
      "Data columns (total 5 columns):\n",
      " #   Column                  Non-Null Count   Dtype  \n",
      "---  ------                  --------------   -----  \n",
      " 0   Date                    826143 non-null  object \n",
      " 1   image_per_year_in_city  826143 non-null  int64  \n",
      " 2   latitude                826143 non-null  float64\n",
      " 3   longitude               826143 non-null  float64\n",
      " 4   Num_JT                  826143 non-null  int64  \n",
      "dtypes: float64(2), int64(2), object(1)\n",
      "memory usage: 37.8+ MB\n"
     ]
    }
   ],
   "source": [
    "filtered_df.info()"
   ]
  },
  {
   "cell_type": "code",
   "execution_count": 27,
   "id": "9d31a0a7-7940-401e-a004-4350864578f0",
   "metadata": {},
   "outputs": [],
   "source": [
    "filtered_df.to_csv('df.csv', index=False)"
   ]
  },
  {
   "cell_type": "markdown",
   "id": "8ca8cc41-798e-49d5-ab9c-29d1efa1f86e",
   "metadata": {
    "tags": []
   },
   "source": [
    "## Creating a basic map"
   ]
  },
  {
   "cell_type": "code",
   "execution_count": 21,
   "id": "90eceddc-9a5b-4662-b78e-74151267616e",
   "metadata": {},
   "outputs": [],
   "source": [
    "config = {'version': 'v1',\n",
    " 'config': {'visState': {'filters': [{'dataId': ['Visual Contagions Bustes'],\n",
    "     'id': 'dzyid41zv',\n",
    "     'name': ['Date'],\n",
    "     'type': 'timeRange',\n",
    "     'value': [-4197052800000, 1638316800000],\n",
    "     'enlarged': True,\n",
    "     'plotType': 'histogram',\n",
    "     'animationWindow': 'free',\n",
    "     'yAxis': None,\n",
    "     'speed': 1}],\n",
    "   'layers': [{'id': '01eotlq',\n",
    "     'type': 'geojson',\n",
    "     'config': {'dataId': 'Visual Contagions Bustes',\n",
    "      'label': 'Visual Contagions Bustes',\n",
    "      'color': [231, 159, 213],\n",
    "      'highlightColor': [252, 242, 26, 255],\n",
    "      'columns': {'geojson': 'wkt'},\n",
    "      'isVisible': True,\n",
    "      'visConfig': {'opacity': 0.8,\n",
    "       'strokeOpacity': 0.8,\n",
    "       'thickness': 0.5,\n",
    "       'strokeColor': None,\n",
    "       'colorRange': {'name': 'Global Warming 4',\n",
    "        'type': 'sequential',\n",
    "        'category': 'Uber',\n",
    "        'colors': ['#FFC300', '#E3611C', '#831A3D', '#5A1846'],\n",
    "        'reversed': True},\n",
    "       'strokeColorRange': {'name': 'Global Warming',\n",
    "        'type': 'sequential',\n",
    "        'category': 'Uber',\n",
    "        'colors': ['#5A1846',\n",
    "         '#900C3F',\n",
    "         '#C70039',\n",
    "         '#E3611C',\n",
    "         '#F1920E',\n",
    "         '#FFC300']},\n",
    "       'radius': 10,\n",
    "       'sizeRange': [0, 10],\n",
    "       'radiusRange': [4, 38],\n",
    "       'heightRange': [0, 500],\n",
    "       'elevationScale': 5,\n",
    "       'enableElevationZoomFactor': True,\n",
    "       'stroked': False,\n",
    "       'filled': True,\n",
    "       'enable3d': False,\n",
    "       'wireframe': False},\n",
    "      'hidden': False,\n",
    "      'textLabel': [{'field': None,\n",
    "        'color': [255, 255, 255],\n",
    "        'size': 18,\n",
    "        'offset': [0, 0],\n",
    "        'anchor': 'start',\n",
    "        'alignment': 'center'}]},\n",
    "     'visualChannels': {'colorField': {'name': 'City_number',\n",
    "       'type': 'integer'},\n",
    "      'colorScale': 'quantile',\n",
    "      'strokeColorField': None,\n",
    "      'strokeColorScale': 'quantile',\n",
    "      'sizeField': None,\n",
    "      'sizeScale': 'linear',\n",
    "      'heightField': None,\n",
    "      'heightScale': 'linear',\n",
    "      'radiusField': {'name': 'City_number', 'type': 'integer'},\n",
    "      'radiusScale': 'sqrt'}}],\n",
    "   'interactionConfig': {'tooltip': {'fieldsToShow': {'Visual Contagions Bustes': [{'name': 'City',\n",
    "        'format': None}]},\n",
    "     'compareMode': False,\n",
    "     'compareType': 'absolute',\n",
    "     'enabled': True},\n",
    "    'brush': {'size': 0.5, 'enabled': False},\n",
    "    'geocoder': {'enabled': False},\n",
    "    'coordinate': {'enabled': False}},\n",
    "   'layerBlending': 'normal',\n",
    "   'splitMaps': [],\n",
    "   'animationConfig': {'currentTime': None, 'speed': 1}},\n",
    "  'mapState': {'bearing': 0,\n",
    "   'dragRotate': False,\n",
    "   'latitude': 10.873968378937608,\n",
    "   'longitude': 10.387154471543907,\n",
    "   'pitch': 0,\n",
    "   'zoom': 1,\n",
    "   'isSplit': False},\n",
    "  'mapStyle': {'styleType': 'dark',\n",
    "   'topLayerGroups': {},\n",
    "   'visibleLayerGroups': {'label': True,\n",
    "    'road': True,\n",
    "    'border': False,\n",
    "    'building': True,\n",
    "    'water': True,\n",
    "    'land': True,\n",
    "    '3d building': False},\n",
    "   'threeDBuildingColor': [9.665468314072013,\n",
    "    17.18305478057247,\n",
    "    31.1442867897876],\n",
    "   'mapStyles': {}}}}"
   ]
  },
  {
   "cell_type": "code",
   "execution_count": 22,
   "id": "3a322840-bffc-432b-ab0a-0c68e0c5a4e7",
   "metadata": {},
   "outputs": [
    {
     "name": "stdout",
     "output_type": "stream",
     "text": [
      "User Guide: https://docs.kepler.gl/docs/keplergl-jupyter\n"
     ]
    }
   ],
   "source": [
    "map = KeplerGl(height=600, data={'Corpus Explore Visual Contagions': filtered_df}, config = config)"
   ]
  },
  {
   "cell_type": "code",
   "execution_count": 24,
   "id": "c1b92601-8e82-436c-8167-f7eb67dcb5c5",
   "metadata": {
    "tags": []
   },
   "outputs": [
    {
     "name": "stderr",
     "output_type": "stream",
     "text": [
      "/Users/carboni/mambaforge/envs/jupyter/lib/python3.10/site-packages/IPython/core/formatters.py:365: FormatterWarning: text/html formatter returned invalid type <class 'bytes'> (expected <class 'str'>) for object: KeplerGl(config={'version': 'v1', 'config': {'visState': {'filters': [{'dataId': ['Visual Contagions Bustes'], 'id': 'dzyid41zv', 'name': ['Date'], 'type': 'timeRange', 'value': [-4197052800000, 1638316800000], 'enlarged': True, 'plotType': 'histogram', 'animationWindow': 'free', 'yAxis': None, 'speed': 1}], 'layers': [{'id': '01eotlq', 'type': 'geojson', 'config': {'dataId': 'Visual Contagions Bustes', 'label': 'Visual Contagions Bustes', 'color': [231, 159, 213], 'highlightColor': [252, 242, 26, 255], 'columns': {'geojson': 'wkt'}, 'isVisible': True, 'visConfig': {'opacity': 0.8, 'strokeOpacity': 0.8, 'thickness': 0.5, 'strokeColor': None, 'colorRange': {'name': 'Global Warming 4', 'type': 'sequential', 'category': 'Uber', 'colors': ['#FFC300', '#E3611C', '#831A3D', '#5A1846'], 'reversed': True}, 'strokeColorRange': {'name': 'Global Warming', 'type': 'sequential', 'category': 'Uber', 'colors': ['#5A1846', '#900C3F', '#C70039', '#E3611C', '#F1920E', '#FFC300']}, 'radius': 10, 'sizeRange': [0, 10], 'radiusRange': [4, 38], 'heightRange': [0, 500], 'elevationScale': 5, 'enableElevationZoomFactor': True, 'stroked': False, 'filled': True, 'enable3d': False, 'wireframe': False}, 'hidden': False, 'textLabel': [{'field': None, 'color': [255, 255, 255], 'size': 18, 'offset': [0, 0], 'anchor': 'start', 'alignment': 'center'}]}, 'visualChannels': {'colorField': {'name': 'City_number', 'type': 'integer'}, 'colorScale': 'quantile', 'strokeColorField': None, 'strokeColorScale': 'quantile', 'sizeField': None, 'sizeScale': 'linear', 'heightField': None, 'heightScale': 'linear', 'radiusField': {'name': 'City_number', 'type': 'integer'}, 'radiusScale': 'sqrt'}}], 'interactionConfig': {'tooltip': {'fieldsToShow': {'Visual Contagions Bustes': [{'name': 'City', 'format': None}]}, 'compareMode': False, 'compareType': 'absolute', 'enabled': True}, 'brush': {'size': 0.5, 'enabled': False}, 'geocoder': {'enabled': False}, 'coordinate': {'enabled': False}}, 'layerBlending': 'normal', 'splitMaps': [], 'animationConfig': {'currentTime': None, 'speed': 1}}, 'mapState': {'bearing': 0, 'dragRotate': False, 'latitude': 10.873968378937608, 'longitude': 10.387154471543907, 'pitch': 0, 'zoom': 1, 'isSplit': False}, 'mapStyle': {'styleType': 'dark', 'topLayerGroups': {}, 'visibleLayerGroups': {'label': True, 'road': True, 'border': False, 'building': True, 'water': True, 'land': True, '3d building': False}, 'threeDBuildingColor': [9.665468314072013, 17.18305478057247, 31.1442867897876], 'mapStyles': {}}}}, data={'Corpus Explore Visual Contagions':                           Date  image_per_year_in_city   latitude   longitude  \\\n",
      "1         2010-06-01T00:00:00Z                      93  35.689722  139.692222   \n",
      "2         2013-08-01T00:00:00Z                     130  35.689722  139.692222   \n",
      "3         1933-05-10T00:00:00Z                      29  50.450000   30.523611   \n",
      "5         2020-10-26T00:00:00Z                      83  53.550000   10.000000   \n",
      "6         2014-03-23T00:00:00Z                      90  53.550000   10.000000   \n",
      "...                        ...                     ...        ...         ...   \n",
      "12878546  1985-01-01T00:00:00Z                       5  38.347222  -81.633333   \n",
      "12878551  1986-01-01T00:00:00Z                       7  38.347222  -81.633333   \n",
      "12878558  1987-01-01T00:00:00Z                       6  38.347222  -81.633333   \n",
      "12878564  1957-05-01T00:00:00Z                      51  38.347222  -81.633333   \n",
      "12878587  1958-05-01T00:00:00Z                      16  38.347222  -81.633333   \n",
      "\n",
      "          Num_JT  \n",
      "1              5  \n",
      "2              5  \n",
      "3              4  \n",
      "5              4  \n",
      "6              4  \n",
      "...          ...  \n",
      "12878546       2  \n",
      "12878551       2  \n",
      "12878558       2  \n",
      "12878564       2  \n",
      "12878587       2  \n",
      "\n",
      "[844912 rows x 5 columns]}, height=600)\n",
      "  warnings.warn(\n"
     ]
    },
    {
     "data": {
      "application/vnd.jupyter.widget-view+json": {
       "model_id": "71d9c13a8c684cefb74e879971eafbda",
       "version_major": 2,
       "version_minor": 0
      },
      "text/plain": [
       "KeplerGl(config={'version': 'v1', 'config': {'visState': {'filters': [{'dataId': ['Visual Contagions Bustes'],…"
      ]
     },
     "execution_count": 24,
     "metadata": {},
     "output_type": "execute_result"
    }
   ],
   "source": [
    "map"
   ]
  },
  {
   "cell_type": "code",
   "execution_count": 23,
   "id": "5720fb93-231a-4a1f-991b-21dd665e0b69",
   "metadata": {},
   "outputs": [
    {
     "name": "stdout",
     "output_type": "stream",
     "text": [
      "Map saved to /Users/carboni/Documents/UNIGE/pynotebook/kepler/VC_explored.html!\n"
     ]
    }
   ],
   "source": [
    "map.save_to_html(data={'Visual Contagions Corpus': df}, config=config, file_name='/Users/carboni/Documents/UNIGE/pynotebook/kepler/VC_explored.html')"
   ]
  },
  {
   "cell_type": "code",
   "execution_count": null,
   "id": "628358bb-0cf9-49b4-8d23-9f86e11ac7c1",
   "metadata": {},
   "outputs": [],
   "source": []
  }
 ],
 "metadata": {
  "kernelspec": {
   "display_name": "Python 3 (ipykernel)",
   "language": "python",
   "name": "python3"
  },
  "language_info": {
   "codemirror_mode": {
    "name": "ipython",
    "version": 3
   },
   "file_extension": ".py",
   "mimetype": "text/x-python",
   "name": "python",
   "nbconvert_exporter": "python",
   "pygments_lexer": "ipython3",
   "version": "3.10.8"
  }
 },
 "nbformat": 4,
 "nbformat_minor": 5
}
