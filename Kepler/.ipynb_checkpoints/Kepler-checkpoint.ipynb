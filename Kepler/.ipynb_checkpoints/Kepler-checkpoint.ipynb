{
 "cells": [
  {
   "cell_type": "code",
   "execution_count": 1,
   "id": "cd5dc0aa-8f21-4b22-b2a8-aaf25851386b",
   "metadata": {},
   "outputs": [],
   "source": [
    "from keplergl import KeplerGl\n",
    "import pandas as pd"
   ]
  },
  {
   "cell_type": "code",
   "execution_count": 3,
   "id": "b2fc32df-677a-4238-bf6c-9c7fa5995293",
   "metadata": {},
   "outputs": [
    {
     "name": "stdout",
     "output_type": "stream",
     "text": [
      "User Guide: https://docs.kepler.gl/docs/keplergl-jupyter\n"
     ]
    },
    {
     "name": "stderr",
     "output_type": "stream",
     "text": [
      "/opt/homebrew/Caskroom/miniforge/base/envs/jupyter/lib/python3.8/site-packages/jupyter_client/session.py:716: UserWarning: Message serialization failed with:\n",
      "Out of range float values are not JSON compliant\n",
      "Supporting this message is deprecated in jupyter-client 7, please make sure your message is JSON-compliant\n",
      "  content = self.pack(content)\n"
     ]
    }
   ],
   "source": [
    "df = pd.read_csv('c95.csv')"
   ]
  },
  {
   "cell_type": "code",
   "execution_count": 5,
   "id": "43c34a91-db9e-4f30-8167-72773404136d",
   "metadata": {},
   "outputs": [
    {
     "data": {
      "application/vnd.jupyter.widget-view+json": {
       "model_id": "e942c38ee3ae4526aebc2ee5628d4543",
       "version_major": 2,
       "version_minor": 0
      },
      "text/plain": [
       "KeplerGl(data={'data_1': {'index': [0, 1, 2, 3, 4, 5, 6, 7, 8, 9, 10, 11, 12, 13, 14, 15, 16, 17, 18, 19, 20, …"
      ]
     },
     "metadata": {},
     "output_type": "display_data"
    }
   ],
   "source": []
  },
  {
   "cell_type": "code",
   "execution_count": 6,
   "id": "2be923ba-0346-44c7-8497-55f3fbc2a722",
   "metadata": {},
   "outputs": [
    {
     "data": {
      "text/plain": [
       "{'version': 'v1',\n",
       " 'config': {'visState': {'filters': [{'dataId': ['data_1'],\n",
       "     'id': 'w7mryckgl',\n",
       "     'name': ['date'],\n",
       "     'type': 'timeRange',\n",
       "     'value': [-3092601600000, -2879497168000],\n",
       "     'enlarged': True,\n",
       "     'plotType': 'lineChart',\n",
       "     'animationWindow': 'free',\n",
       "     'yAxis': {'name': '_ - num_images', 'type': 'integer'},\n",
       "     'speed': 1}],\n",
       "   'layers': [{'id': 'fihvktq',\n",
       "     'type': 'geojson',\n",
       "     'config': {'dataId': 'data_1',\n",
       "      'label': 'data_1',\n",
       "      'color': [255, 203, 153],\n",
       "      'highlightColor': [252, 242, 26, 255],\n",
       "      'columns': {'geojson': 'wkt'},\n",
       "      'isVisible': True,\n",
       "      'visConfig': {'opacity': 0.8,\n",
       "       'strokeOpacity': 0.8,\n",
       "       'thickness': 0.5,\n",
       "       'strokeColor': None,\n",
       "       'colorRange': {'name': 'Global Warming 4',\n",
       "        'type': 'sequential',\n",
       "        'category': 'Uber',\n",
       "        'colors': ['#FFC300', '#E3611C', '#831A3D', '#5A1846'],\n",
       "        'reversed': True},\n",
       "       'strokeColorRange': {'name': 'Global Warming',\n",
       "        'type': 'sequential',\n",
       "        'category': 'Uber',\n",
       "        'colors': ['#5A1846',\n",
       "         '#900C3F',\n",
       "         '#C70039',\n",
       "         '#E3611C',\n",
       "         '#F1920E',\n",
       "         '#FFC300']},\n",
       "       'radius': 10,\n",
       "       'sizeRange': [0, 10],\n",
       "       'radiusRange': [15, 80],\n",
       "       'heightRange': [0, 500],\n",
       "       'elevationScale': 5,\n",
       "       'enableElevationZoomFactor': True,\n",
       "       'stroked': False,\n",
       "       'filled': True,\n",
       "       'enable3d': False,\n",
       "       'wireframe': False},\n",
       "      'hidden': False,\n",
       "      'textLabel': [{'field': None,\n",
       "        'color': [255, 255, 255],\n",
       "        'size': 18,\n",
       "        'offset': [0, 0],\n",
       "        'anchor': 'start',\n",
       "        'alignment': 'center'}]},\n",
       "     'visualChannels': {'colorField': {'name': '_ - num_images',\n",
       "       'type': 'integer'},\n",
       "      'colorScale': 'quantile',\n",
       "      'strokeColorField': None,\n",
       "      'strokeColorScale': 'quantile',\n",
       "      'sizeField': None,\n",
       "      'sizeScale': 'linear',\n",
       "      'heightField': None,\n",
       "      'heightScale': 'linear',\n",
       "      'radiusField': {'name': '_ - num_images', 'type': 'integer'},\n",
       "      'radiusScale': 'sqrt'}}],\n",
       "   'interactionConfig': {'tooltip': {'fieldsToShow': {'data_1': [{'name': 'manifest',\n",
       "        'format': None},\n",
       "       {'name': '_ - num_images', 'format': None},\n",
       "       {'name': 'Title', 'format': None},\n",
       "       {'name': 'Country', 'format': None},\n",
       "       {'name': 'City', 'format': None}]},\n",
       "     'compareMode': False,\n",
       "     'compareType': 'absolute',\n",
       "     'enabled': True},\n",
       "    'brush': {'size': 0.5, 'enabled': False},\n",
       "    'geocoder': {'enabled': False},\n",
       "    'coordinate': {'enabled': False}},\n",
       "   'layerBlending': 'normal',\n",
       "   'splitMaps': [],\n",
       "   'animationConfig': {'currentTime': None, 'speed': 1}},\n",
       "  'mapState': {'bearing': 0,\n",
       "   'dragRotate': False,\n",
       "   'latitude': 14.208333333333336,\n",
       "   'longitude': 7.291805555555555,\n",
       "   'pitch': 0,\n",
       "   'zoom': 1,\n",
       "   'isSplit': False},\n",
       "  'mapStyle': {'styleType': 'dark',\n",
       "   'topLayerGroups': {},\n",
       "   'visibleLayerGroups': {'label': True,\n",
       "    'road': True,\n",
       "    'border': False,\n",
       "    'building': True,\n",
       "    'water': True,\n",
       "    'land': True,\n",
       "    '3d building': False},\n",
       "   'threeDBuildingColor': [9.665468314072013,\n",
       "    17.18305478057247,\n",
       "    31.1442867897876],\n",
       "   'mapStyles': {}}}}"
      ]
     },
     "execution_count": 6,
     "metadata": {},
     "output_type": "execute_result"
    }
   ],
   "source": [
    "map_1.config"
   ]
  },
  {
   "cell_type": "code",
   "execution_count": 7,
   "id": "3049aba5-022f-478e-ad28-bafb7aaee010",
   "metadata": {},
   "outputs": [],
   "source": [
    "config = {\n",
    "    'version': 'v1',\n",
    " 'config': {'visState': {'filters': [{'dataId': ['data_1'],\n",
    "     'id': 'w7mryckgl',\n",
    "     'name': ['date'],\n",
    "     'type': 'timeRange',\n",
    "     'value': [-3092601600000, -2879497168000],\n",
    "     'enlarged': True,\n",
    "     'plotType': 'lineChart',\n",
    "     'animationWindow': 'free',\n",
    "     'yAxis': {'name': '_ - num_images', 'type': 'integer'},\n",
    "     'speed': 1}],\n",
    "   'layers': [{'id': 'fihvktq',\n",
    "     'type': 'geojson',\n",
    "     'config': {'dataId': 'data_1',\n",
    "      'label': 'data_1',\n",
    "      'color': [255, 203, 153],\n",
    "      'highlightColor': [252, 242, 26, 255],\n",
    "      'columns': {'geojson': 'wkt'},\n",
    "      'isVisible': True,\n",
    "      'visConfig': {'opacity': 0.8,\n",
    "       'strokeOpacity': 0.8,\n",
    "       'thickness': 0.5,\n",
    "       'strokeColor': None,\n",
    "       'colorRange': {'name': 'Global Warming 4',\n",
    "        'type': 'sequential',\n",
    "        'category': 'Uber',\n",
    "        'colors': ['#FFC300', '#E3611C', '#831A3D', '#5A1846'],\n",
    "        'reversed': True},\n",
    "       'strokeColorRange': {'name': 'Global Warming',\n",
    "        'type': 'sequential',\n",
    "        'category': 'Uber',\n",
    "        'colors': ['#5A1846',\n",
    "         '#900C3F',\n",
    "         '#C70039',\n",
    "         '#E3611C',\n",
    "         '#F1920E',\n",
    "         '#FFC300']},\n",
    "       'radius': 10,\n",
    "       'sizeRange': [0, 10],\n",
    "       'radiusRange': [15, 80],\n",
    "       'heightRange': [0, 500],\n",
    "       'elevationScale': 5,\n",
    "       'enableElevationZoomFactor': True,\n",
    "       'stroked': False,\n",
    "       'filled': True,\n",
    "       'enable3d': False,\n",
    "       'wireframe': False},\n",
    "      'hidden': False,\n",
    "      'textLabel': [{'field': None,\n",
    "        'color': [255, 255, 255],\n",
    "        'size': 18,\n",
    "        'offset': [0, 0],\n",
    "        'anchor': 'start',\n",
    "        'alignment': 'center'}]},\n",
    "     'visualChannels': {'colorField': {'name': '_ - num_images',\n",
    "       'type': 'integer'},\n",
    "      'colorScale': 'quantile',\n",
    "      'strokeColorField': None,\n",
    "      'strokeColorScale': 'quantile',\n",
    "      'sizeField': None,\n",
    "      'sizeScale': 'linear',\n",
    "      'heightField': None,\n",
    "      'heightScale': 'linear',\n",
    "      'radiusField': {'name': '_ - num_images', 'type': 'integer'},\n",
    "      'radiusScale': 'sqrt'}}],\n",
    "   'interactionConfig': {'tooltip': {'fieldsToShow': {'data_1': [{'name': 'manifest',\n",
    "        'format': None},\n",
    "       {'name': '_ - num_images', 'format': None},\n",
    "       {'name': 'Title', 'format': None},\n",
    "       {'name': 'Country', 'format': None},\n",
    "       {'name': 'City', 'format': None}]},\n",
    "     'compareMode': False,\n",
    "     'compareType': 'absolute',\n",
    "     'enabled': True},\n",
    "    'brush': {'size': 0.5, 'enabled': False},\n",
    "    'geocoder': {'enabled': False},\n",
    "    'coordinate': {'enabled': False}},\n",
    "   'layerBlending': 'normal',\n",
    "   'splitMaps': [],\n",
    "   'animationConfig': {'currentTime': None, 'speed': 1}},\n",
    "  'mapState': {'bearing': 0,\n",
    "   'dragRotate': False,\n",
    "   'latitude': 14.208333333333336,\n",
    "   'longitude': 7.291805555555555,\n",
    "   'pitch': 0,\n",
    "   'zoom': 1,\n",
    "   'isSplit': False},\n",
    "  'mapStyle': {'styleType': 'dark',\n",
    "   'topLayerGroups': {},\n",
    "   'visibleLayerGroups': {'label': True,\n",
    "    'road': True,\n",
    "    'border': False,\n",
    "    'building': True,\n",
    "    'water': True,\n",
    "    'land': True,\n",
    "    '3d building': False},\n",
    "   'threeDBuildingColor': [9.665468314072013,\n",
    "    17.18305478057247,\n",
    "    31.1442867897876],\n",
    "   'mapStyles': {}\n",
    "              }\n",
    "           }\n",
    "    }"
   ]
  },
  {
   "cell_type": "code",
   "execution_count": null,
   "id": "1026b581-cbee-4ba4-8eb3-b107dc5bf247",
   "metadata": {},
   "outputs": [],
   "source": [
    "map_1 = KeplerGl()\n",
    "map_1.add_data(data=df, name='c95 Robin')\n",
    "map_1.config = config"
   ]
  },
  {
   "cell_type": "code",
   "execution_count": null,
   "id": "c2449014-7b7d-420d-8d79-216559df4646",
   "metadata": {},
   "outputs": [],
   "source": [
    "map_1"
   ]
  },
  {
   "cell_type": "code",
   "execution_count": 8,
   "id": "31f464da-3a19-4637-b9c4-956befb058e8",
   "metadata": {},
   "outputs": [],
   "source": [
    "# Save map_1 config to a file\n",
    "with open('hex_config.py', 'w') as f:\n",
    "   f.write('config = {}'.format(map_1.config))"
   ]
  },
  {
   "cell_type": "code",
   "execution_count": null,
   "id": "2e1a0473-63ef-4678-bf1e-40d07f801fef",
   "metadata": {},
   "outputs": [],
   "source": [
    "# load the config\n",
    "%run hex_config.py"
   ]
  }
 ],
 "metadata": {
  "kernelspec": {
   "display_name": "Python 3 (ipykernel)",
   "language": "python",
   "name": "python3"
  },
  "language_info": {
   "codemirror_mode": {
    "name": "ipython",
    "version": 3
   },
   "file_extension": ".py",
   "mimetype": "text/x-python",
   "name": "python",
   "nbconvert_exporter": "python",
   "pygments_lexer": "ipython3",
   "version": "3.8.12"
  }
 },
 "nbformat": 4,
 "nbformat_minor": 5
}
