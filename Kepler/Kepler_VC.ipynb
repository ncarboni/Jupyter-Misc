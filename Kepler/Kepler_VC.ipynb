{
 "cells": [
  {
   "cell_type": "markdown",
   "id": "2b5f652c-654e-4512-8fc2-564a0c48b68c",
   "metadata": {},
   "source": [
    "# Map with Kepler"
   ]
  },
  {
   "cell_type": "markdown",
   "id": "695062fe-8954-4196-9203-c94938018c88",
   "metadata": {},
   "source": [
    "creating a map with Kepler"
   ]
  },
  {
   "cell_type": "code",
   "execution_count": 1,
   "id": "cd5dc0aa-8f21-4b22-b2a8-aaf25851386b",
   "metadata": {},
   "outputs": [],
   "source": [
    "from keplergl import KeplerGl\n",
    "import pandas as pd"
   ]
  },
  {
   "cell_type": "code",
   "execution_count": 3,
   "id": "b2fc32df-677a-4238-bf6c-9c7fa5995293",
   "metadata": {},
   "outputs": [],
   "source": [
    "df = pd.read_csv('/Users/carboni/Documents/UNIGE/pynotebook/kepler/VC_lat-long_April_22.csv')"
   ]
  },
  {
   "cell_type": "code",
   "execution_count": 4,
   "id": "e2e87cbc-2f2b-4547-acaf-dc131b735781",
   "metadata": {},
   "outputs": [
    {
     "data": {
      "text/html": [
       "<div>\n",
       "<style scoped>\n",
       "    .dataframe tbody tr th:only-of-type {\n",
       "        vertical-align: middle;\n",
       "    }\n",
       "\n",
       "    .dataframe tbody tr th {\n",
       "        vertical-align: top;\n",
       "    }\n",
       "\n",
       "    .dataframe thead th {\n",
       "        text-align: right;\n",
       "    }\n",
       "</style>\n",
       "<table border=\"1\" class=\"dataframe\">\n",
       "  <thead>\n",
       "    <tr style=\"text-align: right;\">\n",
       "      <th></th>\n",
       "      <th>Unnamed: 0</th>\n",
       "      <th>Media URL</th>\n",
       "      <th>City</th>\n",
       "      <th>Country</th>\n",
       "      <th>wkt</th>\n",
       "      <th>normalized_date</th>\n",
       "      <th>Title</th>\n",
       "      <th>Journal Type</th>\n",
       "      <th>City_number</th>\n",
       "      <th>Journal_number</th>\n",
       "      <th>long</th>\n",
       "      <th>lat</th>\n",
       "    </tr>\n",
       "  </thead>\n",
       "  <tbody>\n",
       "    <tr>\n",
       "      <th>0</th>\n",
       "      <td>0</td>\n",
       "      <td>https://iiif.unige.ch/dhportal/ug8101433/manifest</td>\n",
       "      <td>New York City</td>\n",
       "      <td>United States of America</td>\n",
       "      <td>POINT(-74.006015 40.712728)</td>\n",
       "      <td>1936-11-23T00:00:00Z</td>\n",
       "      <td>LIFE</td>\n",
       "      <td>Illustrated Magazine</td>\n",
       "      <td>7571</td>\n",
       "      <td>1006</td>\n",
       "      <td>-74.006015</td>\n",
       "      <td>40.712728</td>\n",
       "    </tr>\n",
       "    <tr>\n",
       "      <th>1</th>\n",
       "      <td>1</td>\n",
       "      <td>https://iiif.unige.ch/dhportal/ug8026695/manifest</td>\n",
       "      <td>New York City</td>\n",
       "      <td>United States of America</td>\n",
       "      <td>POINT(-74.006015 40.712728)</td>\n",
       "      <td>1936-11-30T00:00:00Z</td>\n",
       "      <td>LIFE</td>\n",
       "      <td>Illustrated Magazine</td>\n",
       "      <td>7571</td>\n",
       "      <td>1006</td>\n",
       "      <td>-74.006015</td>\n",
       "      <td>40.712728</td>\n",
       "    </tr>\n",
       "    <tr>\n",
       "      <th>2</th>\n",
       "      <td>2</td>\n",
       "      <td>https://iiif.unige.ch/dhportal/ug8013847/manifest</td>\n",
       "      <td>New York City</td>\n",
       "      <td>United States of America</td>\n",
       "      <td>POINT(-74.006015 40.712728)</td>\n",
       "      <td>1936-12-07T00:00:00Z</td>\n",
       "      <td>LIFE</td>\n",
       "      <td>Illustrated Magazine</td>\n",
       "      <td>7571</td>\n",
       "      <td>1006</td>\n",
       "      <td>-74.006015</td>\n",
       "      <td>40.712728</td>\n",
       "    </tr>\n",
       "    <tr>\n",
       "      <th>3</th>\n",
       "      <td>3</td>\n",
       "      <td>https://iiif.unige.ch/dhportal/ug8010392/manifest</td>\n",
       "      <td>New York City</td>\n",
       "      <td>United States of America</td>\n",
       "      <td>POINT(-74.006015 40.712728)</td>\n",
       "      <td>1936-12-21T00:00:00Z</td>\n",
       "      <td>LIFE</td>\n",
       "      <td>Illustrated Magazine</td>\n",
       "      <td>7571</td>\n",
       "      <td>1006</td>\n",
       "      <td>-74.006015</td>\n",
       "      <td>40.712728</td>\n",
       "    </tr>\n",
       "    <tr>\n",
       "      <th>4</th>\n",
       "      <td>4</td>\n",
       "      <td>https://iiif.unige.ch/dhportal/ug8032218/manifest</td>\n",
       "      <td>New York City</td>\n",
       "      <td>United States of America</td>\n",
       "      <td>POINT(-74.006015 40.712728)</td>\n",
       "      <td>1936-12-28T00:00:00Z</td>\n",
       "      <td>LIFE</td>\n",
       "      <td>Illustrated Magazine</td>\n",
       "      <td>7571</td>\n",
       "      <td>1006</td>\n",
       "      <td>-74.006015</td>\n",
       "      <td>40.712728</td>\n",
       "    </tr>\n",
       "  </tbody>\n",
       "</table>\n",
       "</div>"
      ],
      "text/plain": [
       "   Unnamed: 0                                          Media URL  \\\n",
       "0           0  https://iiif.unige.ch/dhportal/ug8101433/manifest   \n",
       "1           1  https://iiif.unige.ch/dhportal/ug8026695/manifest   \n",
       "2           2  https://iiif.unige.ch/dhportal/ug8013847/manifest   \n",
       "3           3  https://iiif.unige.ch/dhportal/ug8010392/manifest   \n",
       "4           4  https://iiif.unige.ch/dhportal/ug8032218/manifest   \n",
       "\n",
       "            City                   Country                          wkt  \\\n",
       "0  New York City  United States of America  POINT(-74.006015 40.712728)   \n",
       "1  New York City  United States of America  POINT(-74.006015 40.712728)   \n",
       "2  New York City  United States of America  POINT(-74.006015 40.712728)   \n",
       "3  New York City  United States of America  POINT(-74.006015 40.712728)   \n",
       "4  New York City  United States of America  POINT(-74.006015 40.712728)   \n",
       "\n",
       "        normalized_date Title          Journal Type  City_number  \\\n",
       "0  1936-11-23T00:00:00Z  LIFE  Illustrated Magazine         7571   \n",
       "1  1936-11-30T00:00:00Z  LIFE  Illustrated Magazine         7571   \n",
       "2  1936-12-07T00:00:00Z  LIFE  Illustrated Magazine         7571   \n",
       "3  1936-12-21T00:00:00Z  LIFE  Illustrated Magazine         7571   \n",
       "4  1936-12-28T00:00:00Z  LIFE  Illustrated Magazine         7571   \n",
       "\n",
       "   Journal_number       long        lat  \n",
       "0            1006 -74.006015  40.712728  \n",
       "1            1006 -74.006015  40.712728  \n",
       "2            1006 -74.006015  40.712728  \n",
       "3            1006 -74.006015  40.712728  \n",
       "4            1006 -74.006015  40.712728  "
      ]
     },
     "execution_count": 4,
     "metadata": {},
     "output_type": "execute_result"
    }
   ],
   "source": [
    "df.head()"
   ]
  },
  {
   "cell_type": "code",
   "execution_count": 4,
   "id": "8d792fba-7e12-43f2-8d39-7632ca82c816",
   "metadata": {},
   "outputs": [],
   "source": [
    "df[['long', 'lat']] = df['wkt'].str.split(' ', 1, expand=True)"
   ]
  },
  {
   "cell_type": "code",
   "execution_count": 5,
   "id": "bd4cdfc0-82b9-4be9-b38f-99f9c1074904",
   "metadata": {},
   "outputs": [],
   "source": [
    "df['long'] = df['long'].replace('POINT\\(','', regex=True)"
   ]
  },
  {
   "cell_type": "code",
   "execution_count": 6,
   "id": "503d7990-fc2a-4668-8425-e774800e338d",
   "metadata": {},
   "outputs": [],
   "source": [
    "df['lat'] = df['lat'].replace('\\)','', regex=True)"
   ]
  },
  {
   "cell_type": "code",
   "execution_count": 7,
   "id": "ba1e7519-780d-46ab-b29d-adb0668643a2",
   "metadata": {},
   "outputs": [],
   "source": [
    "df['normalized_date'] = df['normalized_date'].astype(str) + 'T00:00:00Z'"
   ]
  },
  {
   "cell_type": "code",
   "execution_count": 8,
   "id": "fb1ccf95-6db1-490a-96e5-571e92fce164",
   "metadata": {},
   "outputs": [
    {
     "data": {
      "text/html": [
       "<div>\n",
       "<style scoped>\n",
       "    .dataframe tbody tr th:only-of-type {\n",
       "        vertical-align: middle;\n",
       "    }\n",
       "\n",
       "    .dataframe tbody tr th {\n",
       "        vertical-align: top;\n",
       "    }\n",
       "\n",
       "    .dataframe thead th {\n",
       "        text-align: right;\n",
       "    }\n",
       "</style>\n",
       "<table border=\"1\" class=\"dataframe\">\n",
       "  <thead>\n",
       "    <tr style=\"text-align: right;\">\n",
       "      <th></th>\n",
       "      <th>Media URL</th>\n",
       "      <th>City</th>\n",
       "      <th>Country</th>\n",
       "      <th>wkt</th>\n",
       "      <th>normalized_date</th>\n",
       "      <th>Title</th>\n",
       "      <th>Journal Type</th>\n",
       "      <th>City_number</th>\n",
       "      <th>Journal_number</th>\n",
       "      <th>long</th>\n",
       "      <th>lat</th>\n",
       "    </tr>\n",
       "  </thead>\n",
       "  <tbody>\n",
       "    <tr>\n",
       "      <th>0</th>\n",
       "      <td>https://iiif.unige.ch/dhportal/ug8101433/manifest</td>\n",
       "      <td>New York City</td>\n",
       "      <td>United States of America</td>\n",
       "      <td>POINT(-74.006015 40.712728)</td>\n",
       "      <td>1936-11-23T00:00:00Z</td>\n",
       "      <td>LIFE</td>\n",
       "      <td>Illustrated Magazine</td>\n",
       "      <td>7571</td>\n",
       "      <td>1006</td>\n",
       "      <td>-74.006015</td>\n",
       "      <td>40.712728</td>\n",
       "    </tr>\n",
       "    <tr>\n",
       "      <th>1</th>\n",
       "      <td>https://iiif.unige.ch/dhportal/ug8026695/manifest</td>\n",
       "      <td>New York City</td>\n",
       "      <td>United States of America</td>\n",
       "      <td>POINT(-74.006015 40.712728)</td>\n",
       "      <td>1936-11-30T00:00:00Z</td>\n",
       "      <td>LIFE</td>\n",
       "      <td>Illustrated Magazine</td>\n",
       "      <td>7571</td>\n",
       "      <td>1006</td>\n",
       "      <td>-74.006015</td>\n",
       "      <td>40.712728</td>\n",
       "    </tr>\n",
       "  </tbody>\n",
       "</table>\n",
       "</div>"
      ],
      "text/plain": [
       "                                           Media URL           City  \\\n",
       "0  https://iiif.unige.ch/dhportal/ug8101433/manifest  New York City   \n",
       "1  https://iiif.unige.ch/dhportal/ug8026695/manifest  New York City   \n",
       "\n",
       "                    Country                          wkt  \\\n",
       "0  United States of America  POINT(-74.006015 40.712728)   \n",
       "1  United States of America  POINT(-74.006015 40.712728)   \n",
       "\n",
       "        normalized_date Title          Journal Type  City_number  \\\n",
       "0  1936-11-23T00:00:00Z  LIFE  Illustrated Magazine         7571   \n",
       "1  1936-11-30T00:00:00Z  LIFE  Illustrated Magazine         7571   \n",
       "\n",
       "   Journal_number        long        lat  \n",
       "0            1006  -74.006015  40.712728  \n",
       "1            1006  -74.006015  40.712728  "
      ]
     },
     "execution_count": 8,
     "metadata": {},
     "output_type": "execute_result"
    }
   ],
   "source": [
    "df.head(2)"
   ]
  },
  {
   "cell_type": "code",
   "execution_count": 9,
   "id": "701bcc02-2381-4e67-8667-a9d1a1ee6370",
   "metadata": {},
   "outputs": [],
   "source": [
    "df.to_csv(\"VC_lat-long_April_22.csv\")"
   ]
  },
  {
   "cell_type": "markdown",
   "id": "8ca8cc41-798e-49d5-ab9c-29d1efa1f86e",
   "metadata": {},
   "source": [
    "## Creating a basic map"
   ]
  },
  {
   "cell_type": "code",
   "execution_count": 5,
   "id": "3a322840-bffc-432b-ab0a-0c68e0c5a4e7",
   "metadata": {},
   "outputs": [
    {
     "name": "stdout",
     "output_type": "stream",
     "text": [
      "User Guide: https://docs.kepler.gl/docs/keplergl-jupyter\n"
     ]
    },
    {
     "name": "stderr",
     "output_type": "stream",
     "text": [
      "/opt/homebrew/Caskroom/miniforge/base/envs/jupyter/lib/python3.8/site-packages/jupyter_client/session.py:718: UserWarning: Message serialization failed with:\n",
      "Out of range float values are not JSON compliant\n",
      "Supporting this message is deprecated in jupyter-client 7, please make sure your message is JSON-compliant\n",
      "  content = self.pack(content)\n"
     ]
    }
   ],
   "source": [
    "map = KeplerGl(height=600, data={'Visual Contagions Corpus': df})"
   ]
  },
  {
   "cell_type": "code",
   "execution_count": 6,
   "id": "35432123-dd5c-47bf-8f9c-9c2b526032d3",
   "metadata": {
    "tags": []
   },
   "outputs": [
    {
     "data": {
      "application/vnd.jupyter.widget-view+json": {
       "model_id": "a8f8aae2bfcc4569ac19bcc6d8f93d19",
       "version_major": 2,
       "version_minor": 0
      },
      "text/plain": [
       "KeplerGl(data={'Visual Contagions Corpus':         Unnamed: 0                                          Media U…"
      ]
     },
     "metadata": {},
     "output_type": "display_data"
    }
   ],
   "source": [
    "map"
   ]
  },
  {
   "cell_type": "code",
   "execution_count": 11,
   "id": "3d73e471-6e6a-421b-95e7-7477a8045adf",
   "metadata": {},
   "outputs": [
    {
     "data": {
      "text/plain": [
       "{'version': 'v1',\n",
       " 'config': {'visState': {'filters': [{'dataId': ['Visual Contagions Corpus'],\n",
       "     'id': 'uefuctltr',\n",
       "     'name': ['normalized_date'],\n",
       "     'type': 'timeRange',\n",
       "     'value': [-3092601600000, 1638316800000],\n",
       "     'enlarged': True,\n",
       "     'plotType': 'histogram',\n",
       "     'animationWindow': 'free',\n",
       "     'yAxis': None,\n",
       "     'speed': 1}],\n",
       "   'layers': [{'id': '296xag',\n",
       "     'type': 'geojson',\n",
       "     'config': {'dataId': 'Visual Contagions Corpus',\n",
       "      'label': 'Visual Contagions Corpus',\n",
       "      'color': [255, 153, 31],\n",
       "      'highlightColor': [252, 242, 26, 255],\n",
       "      'columns': {'geojson': 'wkt'},\n",
       "      'isVisible': True,\n",
       "      'visConfig': {'opacity': 0.8,\n",
       "       'strokeOpacity': 0.8,\n",
       "       'thickness': 0.5,\n",
       "       'strokeColor': None,\n",
       "       'colorRange': {'name': 'ColorBrewer YlGn-6',\n",
       "        'type': 'sequential',\n",
       "        'category': 'ColorBrewer',\n",
       "        'colors': ['#ffffcc',\n",
       "         '#d9f0a3',\n",
       "         '#addd8e',\n",
       "         '#78c679',\n",
       "         '#31a354',\n",
       "         '#006837']},\n",
       "       'strokeColorRange': {'name': 'Global Warming',\n",
       "        'type': 'sequential',\n",
       "        'category': 'Uber',\n",
       "        'colors': ['#5A1846',\n",
       "         '#900C3F',\n",
       "         '#C70039',\n",
       "         '#E3611C',\n",
       "         '#F1920E',\n",
       "         '#FFC300']},\n",
       "       'radius': 10,\n",
       "       'sizeRange': [0, 10],\n",
       "       'radiusRange': [0, 50],\n",
       "       'heightRange': [0, 500],\n",
       "       'elevationScale': 5,\n",
       "       'enableElevationZoomFactor': True,\n",
       "       'stroked': False,\n",
       "       'filled': True,\n",
       "       'enable3d': False,\n",
       "       'wireframe': False},\n",
       "      'hidden': False,\n",
       "      'textLabel': [{'field': None,\n",
       "        'color': [255, 255, 255],\n",
       "        'size': 18,\n",
       "        'offset': [0, 0],\n",
       "        'anchor': 'start',\n",
       "        'alignment': 'center'}]},\n",
       "     'visualChannels': {'colorField': {'name': 'City_number',\n",
       "       'type': 'integer'},\n",
       "      'colorScale': 'quantile',\n",
       "      'strokeColorField': None,\n",
       "      'strokeColorScale': 'quantile',\n",
       "      'sizeField': None,\n",
       "      'sizeScale': 'linear',\n",
       "      'heightField': None,\n",
       "      'heightScale': 'linear',\n",
       "      'radiusField': {'name': 'City_number', 'type': 'integer'},\n",
       "      'radiusScale': 'sqrt'}}],\n",
       "   'interactionConfig': {'tooltip': {'fieldsToShow': {'Visual Contagions Corpus': [{'name': 'Unnamed: 0',\n",
       "        'format': None},\n",
       "       {'name': 'Media URL', 'format': None},\n",
       "       {'name': 'City', 'format': None},\n",
       "       {'name': 'Country', 'format': None},\n",
       "       {'name': 'normalized_date', 'format': None}]},\n",
       "     'compareMode': False,\n",
       "     'compareType': 'absolute',\n",
       "     'enabled': True},\n",
       "    'brush': {'size': 0.5, 'enabled': False},\n",
       "    'geocoder': {'enabled': False},\n",
       "    'coordinate': {'enabled': False}},\n",
       "   'layerBlending': 'normal',\n",
       "   'splitMaps': [],\n",
       "   'animationConfig': {'currentTime': None, 'speed': 1}},\n",
       "  'mapState': {'bearing': 0,\n",
       "   'dragRotate': False,\n",
       "   'latitude': -14.47155512980511,\n",
       "   'longitude': -59.53127528094375,\n",
       "   'pitch': 0,\n",
       "   'zoom': 1.4677936511633336,\n",
       "   'isSplit': False},\n",
       "  'mapStyle': {'styleType': 'dark',\n",
       "   'topLayerGroups': {},\n",
       "   'visibleLayerGroups': {'label': True,\n",
       "    'road': True,\n",
       "    'border': False,\n",
       "    'building': True,\n",
       "    'water': True,\n",
       "    'land': True,\n",
       "    '3d building': False},\n",
       "   'threeDBuildingColor': [9.665468314072013,\n",
       "    17.18305478057247,\n",
       "    31.1442867897876],\n",
       "   'mapStyles': {}}}}"
      ]
     },
     "execution_count": 11,
     "metadata": {},
     "output_type": "execute_result"
    }
   ],
   "source": [
    "map.config"
   ]
  },
  {
   "cell_type": "code",
   "execution_count": 10,
   "id": "c2449014-7b7d-420d-8d79-216559df4646",
   "metadata": {},
   "outputs": [],
   "source": [
    "config =  map.config"
   ]
  },
  {
   "cell_type": "code",
   "execution_count": 26,
   "id": "5720fb93-231a-4a1f-991b-21dd665e0b69",
   "metadata": {},
   "outputs": [
    {
     "name": "stdout",
     "output_type": "stream",
     "text": [
      "Map saved to VC_explored.html!\n"
     ]
    }
   ],
   "source": [
    "map.save_to_html(data={'Visual Contagions Corpus': df}, config=config, file_name='VC_explored.html')"
   ]
  }
 ],
 "metadata": {
  "kernelspec": {
   "display_name": "Python 3 (ipykernel)",
   "language": "python",
   "name": "python3"
  },
  "language_info": {
   "codemirror_mode": {
    "name": "ipython",
    "version": 3
   },
   "file_extension": ".py",
   "mimetype": "text/x-python",
   "name": "python",
   "nbconvert_exporter": "python",
   "pygments_lexer": "ipython3",
   "version": "3.8.12"
  }
 },
 "nbformat": 4,
 "nbformat_minor": 5
}
