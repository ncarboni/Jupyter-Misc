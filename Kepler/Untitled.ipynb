{
 "cells": [
  {
   "cell_type": "code",
   "execution_count": 1,
   "id": "f8796945-92a5-4682-8d94-eaca0944c3ac",
   "metadata": {},
   "outputs": [],
   "source": [
    "from keplergl import KeplerGl\n",
    "import pandas as pd"
   ]
  },
  {
   "cell_type": "code",
   "execution_count": 2,
   "id": "4216464f-298c-47d9-a1ff-bee8b2d5bcb5",
   "metadata": {},
   "outputs": [],
   "source": [
    "df = pd.read_csv('159_metadata_datetime.csv')"
   ]
  },
  {
   "cell_type": "code",
   "execution_count": null,
   "id": "2b9158f2-a1eb-47ba-ba09-fed2cbd83f03",
   "metadata": {},
   "outputs": [],
   "source": [
    "df['date'] = pd.to_datetime(df['date']).dt.normalize()"
   ]
  },
  {
   "cell_type": "code",
   "execution_count": 3,
   "id": "f37f2c77-c79e-41c8-a67f-188373f284d6",
   "metadata": {},
   "outputs": [
    {
     "name": "stdout",
     "output_type": "stream",
     "text": [
      "<class 'pandas.core.frame.DataFrame'>\n",
      "RangeIndex: 455717 entries, 0 to 455716\n",
      "Data columns (total 8 columns):\n",
      " #   Column        Non-Null Count   Dtype \n",
      "---  ------        --------------   ----- \n",
      " 0   jpg           455717 non-null  object\n",
      " 1   manifest      455717 non-null  object\n",
      " 2   date          455021 non-null  object\n",
      " 3   Journal_Type  451199 non-null  object\n",
      " 4   Title         455021 non-null  object\n",
      " 5   City          443957 non-null  object\n",
      " 6   wkt           453519 non-null  object\n",
      " 7   cluster       455717 non-null  object\n",
      "dtypes: object(8)\n",
      "memory usage: 27.8+ MB\n"
     ]
    }
   ],
   "source": [
    "df.info()"
   ]
  },
  {
   "cell_type": "code",
   "execution_count": 4,
   "id": "0c037158-f7cb-41b6-b60c-3a2b324c9801",
   "metadata": {},
   "outputs": [
    {
     "data": {
      "text/html": [
       "<div>\n",
       "<style scoped>\n",
       "    .dataframe tbody tr th:only-of-type {\n",
       "        vertical-align: middle;\n",
       "    }\n",
       "\n",
       "    .dataframe tbody tr th {\n",
       "        vertical-align: top;\n",
       "    }\n",
       "\n",
       "    .dataframe thead th {\n",
       "        text-align: right;\n",
       "    }\n",
       "</style>\n",
       "<table border=\"1\" class=\"dataframe\">\n",
       "  <thead>\n",
       "    <tr style=\"text-align: right;\">\n",
       "      <th></th>\n",
       "      <th>jpg</th>\n",
       "      <th>manifest</th>\n",
       "      <th>date</th>\n",
       "      <th>Journal_Type</th>\n",
       "      <th>Title</th>\n",
       "      <th>City</th>\n",
       "      <th>wkt</th>\n",
       "      <th>cluster</th>\n",
       "    </tr>\n",
       "  </thead>\n",
       "  <tbody>\n",
       "    <tr>\n",
       "      <th>0</th>\n",
       "      <td>https://gallica.bnf.fr/iiif/ark:/12148/bpt6k67...</td>\n",
       "      <td>https://gallica.bnf.fr/iiif/ark:/12148/bpt6k67...</td>\n",
       "      <td>1910-01-01T00:00:00Z</td>\n",
       "      <td>Politics</td>\n",
       "      <td>Cahiers de la quinzaine (Paris. 1900)</td>\n",
       "      <td>Paris</td>\n",
       "      <td>POINT(2.3513888888889 48.856944444444)</td>\n",
       "      <td>cluster:00472f00240d92df04569bd5e112b6c961aee4...</td>\n",
       "    </tr>\n",
       "    <tr>\n",
       "      <th>1</th>\n",
       "      <td>https://gallica.bnf.fr/iiif/ark:/12148/bpt6k67...</td>\n",
       "      <td>https://gallica.bnf.fr/iiif/ark:/12148/bpt6k67...</td>\n",
       "      <td>1904-01-01T00:00:00Z</td>\n",
       "      <td>Politics</td>\n",
       "      <td>Cahiers de la quinzaine (Paris. 1900)</td>\n",
       "      <td>Paris</td>\n",
       "      <td>POINT(2.3513888888889 48.856944444444)</td>\n",
       "      <td>cluster:00472f00240d92df04569bd5e112b6c961aee4...</td>\n",
       "    </tr>\n",
       "    <tr>\n",
       "      <th>2</th>\n",
       "      <td>https://gallica.bnf.fr/iiif/ark:/12148/bpt6k67...</td>\n",
       "      <td>https://gallica.bnf.fr/iiif/ark:/12148/bpt6k67...</td>\n",
       "      <td>1906-01-01T00:00:00Z</td>\n",
       "      <td>Politics</td>\n",
       "      <td>Cahiers de la quinzaine (Paris. 1900)</td>\n",
       "      <td>Paris</td>\n",
       "      <td>POINT(2.3513888888889 48.856944444444)</td>\n",
       "      <td>cluster:00472f00240d92df04569bd5e112b6c961aee4...</td>\n",
       "    </tr>\n",
       "    <tr>\n",
       "      <th>3</th>\n",
       "      <td>https://gallica.bnf.fr/iiif/ark:/12148/bpt6k67...</td>\n",
       "      <td>https://gallica.bnf.fr/iiif/ark:/12148/bpt6k67...</td>\n",
       "      <td>1908-07-01T00:00:00Z</td>\n",
       "      <td>Politics</td>\n",
       "      <td>Cahiers de la quinzaine (Paris. 1900)</td>\n",
       "      <td>Paris</td>\n",
       "      <td>POINT(2.3513888888889 48.856944444444)</td>\n",
       "      <td>cluster:00472f00240d92df04569bd5e112b6c961aee4...</td>\n",
       "    </tr>\n",
       "    <tr>\n",
       "      <th>4</th>\n",
       "      <td>https://gallica.bnf.fr/iiif/ark:/12148/bpt6k67...</td>\n",
       "      <td>https://gallica.bnf.fr/iiif/ark:/12148/bpt6k67...</td>\n",
       "      <td>1913-07-01T00:00:00Z</td>\n",
       "      <td>Politics</td>\n",
       "      <td>Cahiers de la quinzaine (Paris. 1900)</td>\n",
       "      <td>Paris</td>\n",
       "      <td>POINT(2.3513888888889 48.856944444444)</td>\n",
       "      <td>cluster:00472f00240d92df04569bd5e112b6c961aee4...</td>\n",
       "    </tr>\n",
       "  </tbody>\n",
       "</table>\n",
       "</div>"
      ],
      "text/plain": [
       "                                                 jpg  \\\n",
       "0  https://gallica.bnf.fr/iiif/ark:/12148/bpt6k67...   \n",
       "1  https://gallica.bnf.fr/iiif/ark:/12148/bpt6k67...   \n",
       "2  https://gallica.bnf.fr/iiif/ark:/12148/bpt6k67...   \n",
       "3  https://gallica.bnf.fr/iiif/ark:/12148/bpt6k67...   \n",
       "4  https://gallica.bnf.fr/iiif/ark:/12148/bpt6k67...   \n",
       "\n",
       "                                            manifest                  date  \\\n",
       "0  https://gallica.bnf.fr/iiif/ark:/12148/bpt6k67...  1910-01-01T00:00:00Z   \n",
       "1  https://gallica.bnf.fr/iiif/ark:/12148/bpt6k67...  1904-01-01T00:00:00Z   \n",
       "2  https://gallica.bnf.fr/iiif/ark:/12148/bpt6k67...  1906-01-01T00:00:00Z   \n",
       "3  https://gallica.bnf.fr/iiif/ark:/12148/bpt6k67...  1908-07-01T00:00:00Z   \n",
       "4  https://gallica.bnf.fr/iiif/ark:/12148/bpt6k67...  1913-07-01T00:00:00Z   \n",
       "\n",
       "  Journal_Type                                  Title   City  \\\n",
       "0     Politics  Cahiers de la quinzaine (Paris. 1900)  Paris   \n",
       "1     Politics  Cahiers de la quinzaine (Paris. 1900)  Paris   \n",
       "2     Politics  Cahiers de la quinzaine (Paris. 1900)  Paris   \n",
       "3     Politics  Cahiers de la quinzaine (Paris. 1900)  Paris   \n",
       "4     Politics  Cahiers de la quinzaine (Paris. 1900)  Paris   \n",
       "\n",
       "                                      wkt  \\\n",
       "0  POINT(2.3513888888889 48.856944444444)   \n",
       "1  POINT(2.3513888888889 48.856944444444)   \n",
       "2  POINT(2.3513888888889 48.856944444444)   \n",
       "3  POINT(2.3513888888889 48.856944444444)   \n",
       "4  POINT(2.3513888888889 48.856944444444)   \n",
       "\n",
       "                                             cluster  \n",
       "0  cluster:00472f00240d92df04569bd5e112b6c961aee4...  \n",
       "1  cluster:00472f00240d92df04569bd5e112b6c961aee4...  \n",
       "2  cluster:00472f00240d92df04569bd5e112b6c961aee4...  \n",
       "3  cluster:00472f00240d92df04569bd5e112b6c961aee4...  \n",
       "4  cluster:00472f00240d92df04569bd5e112b6c961aee4...  "
      ]
     },
     "execution_count": 4,
     "metadata": {},
     "output_type": "execute_result"
    }
   ],
   "source": [
    "df.head()"
   ]
  },
  {
   "cell_type": "code",
   "execution_count": null,
   "id": "ce6191e6-f1c4-4bf9-b908-89d8b6256902",
   "metadata": {},
   "outputs": [],
   "source": [
    "df['date'] = pd.to_datetime(df['date'], errors='coerce').dt.strftime('%Y-%m-%d')"
   ]
  },
  {
   "cell_type": "code",
   "execution_count": null,
   "id": "d5671222-7e46-4ea8-bcd5-2a3ecab03c6a",
   "metadata": {},
   "outputs": [],
   "source": [
    "df['date'] = pd.to_datetime(df['date']).dt.normalize()"
   ]
  },
  {
   "cell_type": "code",
   "execution_count": null,
   "id": "3b6d759b-6e00-4e6f-abe7-6b3ce8ea151d",
   "metadata": {},
   "outputs": [],
   "source": [
    "df.info()"
   ]
  },
  {
   "cell_type": "code",
   "execution_count": null,
   "id": "b893cc3a-74dc-4dc2-8eff-6280d304ee80",
   "metadata": {},
   "outputs": [],
   "source": []
  },
  {
   "cell_type": "code",
   "execution_count": 5,
   "id": "9942c9a6-9df8-469c-b32d-be1cf2400173",
   "metadata": {
    "tags": []
   },
   "outputs": [
    {
     "name": "stdout",
     "output_type": "stream",
     "text": [
      "User Guide: https://docs.kepler.gl/docs/keplergl-jupyter\n"
     ]
    },
    {
     "name": "stderr",
     "output_type": "stream",
     "text": [
      "/opt/homebrew/Caskroom/miniforge/base/envs/jupyter/lib/python3.8/site-packages/jupyter_client/session.py:716: UserWarning: Message serialization failed with:\n",
      "Out of range float values are not JSON compliant\n",
      "Supporting this message is deprecated in jupyter-client 7, please make sure your message is JSON-compliant\n",
      "  content = self.pack(content)\n"
     ]
    }
   ],
   "source": [
    "map_1 = KeplerGl()\n",
    "map_1.add_data(data=df, name='Explore')"
   ]
  },
  {
   "cell_type": "code",
   "execution_count": null,
   "id": "36e8b789-e0c2-4a1b-b2a1-053a7f70e13e",
   "metadata": {},
   "outputs": [],
   "source": []
  },
  {
   "cell_type": "code",
   "execution_count": 6,
   "id": "73945b68-e93c-4fab-82fa-a958fa7f6bcd",
   "metadata": {},
   "outputs": [
    {
     "data": {
      "application/vnd.jupyter.widget-view+json": {
       "model_id": "303adbe05a10445a86aa7134d929e76d",
       "version_major": 2,
       "version_minor": 0
      },
      "text/plain": [
       "KeplerGl(data={'Explore': {'index': [0, 1, 2, 3, 4, 5, 6, 7, 8, 9, 10, 11, 12, 13, 14, 15, 16, 17, 18, 19, 20,…"
      ]
     },
     "metadata": {},
     "output_type": "display_data"
    }
   ],
   "source": [
    "map_1"
   ]
  },
  {
   "cell_type": "code",
   "execution_count": null,
   "id": "b7f6e352-b0a6-4bd7-be39-d9ee944f1763",
   "metadata": {},
   "outputs": [],
   "source": []
  },
  {
   "cell_type": "code",
   "execution_count": 9,
   "id": "94ff585d-e0f5-46a0-b5b9-060384194c6b",
   "metadata": {},
   "outputs": [],
   "source": [
    "config = map_1.config"
   ]
  },
  {
   "cell_type": "code",
   "execution_count": 10,
   "id": "db2bb338-6657-45d3-8f16-7ad47b05285b",
   "metadata": {},
   "outputs": [
    {
     "name": "stdout",
     "output_type": "stream",
     "text": [
      "Map saved to 159.html!\n"
     ]
    }
   ],
   "source": [
    "map_1.save_to_html(data={'159': df}, config=config, file_name='159.html')"
   ]
  },
  {
   "cell_type": "code",
   "execution_count": null,
   "id": "d96f6e2a-942a-4b9c-a5be-98f747ec1bcc",
   "metadata": {},
   "outputs": [],
   "source": []
  }
 ],
 "metadata": {
  "kernelspec": {
   "display_name": "Python 3 (ipykernel)",
   "language": "python",
   "name": "python3"
  },
  "language_info": {
   "codemirror_mode": {
    "name": "ipython",
    "version": 3
   },
   "file_extension": ".py",
   "mimetype": "text/x-python",
   "name": "python",
   "nbconvert_exporter": "python",
   "pygments_lexer": "ipython3",
   "version": "3.8.12"
  }
 },
 "nbformat": 4,
 "nbformat_minor": 5
}
