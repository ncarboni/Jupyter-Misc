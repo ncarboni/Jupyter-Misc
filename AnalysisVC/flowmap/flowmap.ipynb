{
 "cells": [
  {
   "cell_type": "markdown",
   "id": "0d58120a-ce13-4c89-b10c-d5ae11bcae3e",
   "metadata": {},
   "source": [
    "# Flowmap Blue OD Matrix"
   ]
  },
  {
   "cell_type": "code",
   "execution_count": 45,
   "id": "74381dd5-bb07-4713-8127-5b018c35ff0f",
   "metadata": {},
   "outputs": [],
   "source": [
    "import pandas as pd\n",
    "import os"
   ]
  },
  {
   "cell_type": "code",
   "execution_count": 26,
   "id": "650e37e8-21f4-44e0-9f2f-125ac62dcda1",
   "metadata": {},
   "outputs": [],
   "source": [
    "df = pd.read_csv('/Users/carboni/Downloads/Avantguarde.csv')"
   ]
  },
  {
   "cell_type": "markdown",
   "id": "064d4a7d-20af-41de-bfea-ab049364cb46",
   "metadata": {},
   "source": [
    "### Clusters and other keywords"
   ]
  },
  {
   "cell_type": "code",
   "execution_count": 28,
   "id": "b1238cd5-3f15-459c-b771-50d2ddb62104",
   "metadata": {},
   "outputs": [
    {
     "data": {
      "text/html": [
       "<div>\n",
       "<style scoped>\n",
       "    .dataframe tbody tr th:only-of-type {\n",
       "        vertical-align: middle;\n",
       "    }\n",
       "\n",
       "    .dataframe tbody tr th {\n",
       "        vertical-align: top;\n",
       "    }\n",
       "\n",
       "    .dataframe thead th {\n",
       "        text-align: right;\n",
       "    }\n",
       "</style>\n",
       "<table border=\"1\" class=\"dataframe\">\n",
       "  <thead>\n",
       "    <tr style=\"text-align: right;\">\n",
       "      <th></th>\n",
       "      <th>numero_cluster</th>\n",
       "      <th>manifest_url</th>\n",
       "      <th>canvas_number</th>\n",
       "      <th>image_url</th>\n",
       "      <th>City</th>\n",
       "      <th>Country</th>\n",
       "      <th>Title</th>\n",
       "      <th>wkt</th>\n",
       "      <th>Date</th>\n",
       "      <th>Journal Type</th>\n",
       "      <th>notice</th>\n",
       "      <th>group_name</th>\n",
       "      <th>group_tags</th>\n",
       "    </tr>\n",
       "  </thead>\n",
       "  <tbody>\n",
       "    <tr>\n",
       "      <th>0</th>\n",
       "      <td>849</td>\n",
       "      <td>https://digi.ub.uni-heidelberg.de/diglit/iiif/...</td>\n",
       "      <td>101.0</td>\n",
       "      <td>https://digi.ub.uni-heidelberg.de/iiif/2/dkd19...</td>\n",
       "      <td>Stuttgart</td>\n",
       "      <td>Germany</td>\n",
       "      <td>Deutsche Kunst und Dekoration</td>\n",
       "      <td>POINT(9.1775 48.776111111111)</td>\n",
       "      <td>1904-01-01</td>\n",
       "      <td>Decorative Art</td>\n",
       "      <td>NaN</td>\n",
       "      <td>Metzner (Franz), Design for a Mausoleum at Ber...</td>\n",
       "      <td>NaN</td>\n",
       "    </tr>\n",
       "    <tr>\n",
       "      <th>1</th>\n",
       "      <td>849</td>\n",
       "      <td>https://digi.ub.uni-heidelberg.de/diglit/iiif/...</td>\n",
       "      <td>102.0</td>\n",
       "      <td>https://digi.ub.uni-heidelberg.de/iiif/2/kunst...</td>\n",
       "      <td>Leipzig</td>\n",
       "      <td>Germany</td>\n",
       "      <td>Kunstgewerbeblatt</td>\n",
       "      <td>POINT(12.375 51.34)</td>\n",
       "      <td>1906-01-01</td>\n",
       "      <td>Decorative Art</td>\n",
       "      <td>NaN</td>\n",
       "      <td>Metzner (Franz), Design for a Mausoleum at Ber...</td>\n",
       "      <td>NaN</td>\n",
       "    </tr>\n",
       "    <tr>\n",
       "      <th>2</th>\n",
       "      <td>849</td>\n",
       "      <td>https://digi.ub.uni-heidelberg.de/diglit/iiif/...</td>\n",
       "      <td>307.0</td>\n",
       "      <td>https://digi.ub.uni-heidelberg.de/iiif/2/inter...</td>\n",
       "      <td>New York City</td>\n",
       "      <td>United States of America</td>\n",
       "      <td>International studio</td>\n",
       "      <td>POINT(-74.006015 40.712728)</td>\n",
       "      <td>1907-01-01</td>\n",
       "      <td>Modern Art Journal</td>\n",
       "      <td>NaN</td>\n",
       "      <td>Metzner (Franz), Design for a Mausoleum at Ber...</td>\n",
       "      <td>NaN</td>\n",
       "    </tr>\n",
       "    <tr>\n",
       "      <th>3</th>\n",
       "      <td>849</td>\n",
       "      <td>https://digi.ub.uni-heidelberg.de/diglit/iiif/...</td>\n",
       "      <td>315.0</td>\n",
       "      <td>https://digi.ub.uni-heidelberg.de/iiif/2/studi...</td>\n",
       "      <td>London</td>\n",
       "      <td>United Kingdom</td>\n",
       "      <td>Studio : international art</td>\n",
       "      <td>POINT(-0.1275 51.507222222222)</td>\n",
       "      <td>1907-01-01</td>\n",
       "      <td>Modern Art Journal</td>\n",
       "      <td>NaN</td>\n",
       "      <td>Metzner (Franz), Design for a Mausoleum at Ber...</td>\n",
       "      <td>NaN</td>\n",
       "    </tr>\n",
       "    <tr>\n",
       "      <th>4</th>\n",
       "      <td>537</td>\n",
       "      <td>https://digi.ub.uni-heidelberg.de/diglit/iiif/...</td>\n",
       "      <td>678.0</td>\n",
       "      <td>https://digi.ub.uni-heidelberg.de/iiif/2/cicer...</td>\n",
       "      <td>Leipzig</td>\n",
       "      <td>Germany</td>\n",
       "      <td>Der Cicerone</td>\n",
       "      <td>POINT(12.375 51.34)</td>\n",
       "      <td>1929-01-01</td>\n",
       "      <td>Modern Art Journal</td>\n",
       "      <td>NaN</td>\n",
       "      <td>De Chirico, Einsame Strasse [coll. Paul Guilla...</td>\n",
       "      <td>NaN</td>\n",
       "    </tr>\n",
       "  </tbody>\n",
       "</table>\n",
       "</div>"
      ],
      "text/plain": [
       "   numero_cluster                                       manifest_url  \\\n",
       "0             849  https://digi.ub.uni-heidelberg.de/diglit/iiif/...   \n",
       "1             849  https://digi.ub.uni-heidelberg.de/diglit/iiif/...   \n",
       "2             849  https://digi.ub.uni-heidelberg.de/diglit/iiif/...   \n",
       "3             849  https://digi.ub.uni-heidelberg.de/diglit/iiif/...   \n",
       "4             537  https://digi.ub.uni-heidelberg.de/diglit/iiif/...   \n",
       "\n",
       "   canvas_number                                          image_url  \\\n",
       "0          101.0  https://digi.ub.uni-heidelberg.de/iiif/2/dkd19...   \n",
       "1          102.0  https://digi.ub.uni-heidelberg.de/iiif/2/kunst...   \n",
       "2          307.0  https://digi.ub.uni-heidelberg.de/iiif/2/inter...   \n",
       "3          315.0  https://digi.ub.uni-heidelberg.de/iiif/2/studi...   \n",
       "4          678.0  https://digi.ub.uni-heidelberg.de/iiif/2/cicer...   \n",
       "\n",
       "            City                   Country                          Title  \\\n",
       "0      Stuttgart                   Germany  Deutsche Kunst und Dekoration   \n",
       "1        Leipzig                   Germany              Kunstgewerbeblatt   \n",
       "2  New York City  United States of America           International studio   \n",
       "3         London            United Kingdom     Studio : international art   \n",
       "4        Leipzig                   Germany                   Der Cicerone   \n",
       "\n",
       "                              wkt        Date        Journal Type  notice  \\\n",
       "0   POINT(9.1775 48.776111111111)  1904-01-01      Decorative Art     NaN   \n",
       "1             POINT(12.375 51.34)  1906-01-01      Decorative Art     NaN   \n",
       "2     POINT(-74.006015 40.712728)  1907-01-01  Modern Art Journal     NaN   \n",
       "3  POINT(-0.1275 51.507222222222)  1907-01-01  Modern Art Journal     NaN   \n",
       "4             POINT(12.375 51.34)  1929-01-01  Modern Art Journal     NaN   \n",
       "\n",
       "                                          group_name group_tags  \n",
       "0  Metzner (Franz), Design for a Mausoleum at Ber...        NaN  \n",
       "1  Metzner (Franz), Design for a Mausoleum at Ber...        NaN  \n",
       "2  Metzner (Franz), Design for a Mausoleum at Ber...        NaN  \n",
       "3  Metzner (Franz), Design for a Mausoleum at Ber...        NaN  \n",
       "4  De Chirico, Einsame Strasse [coll. Paul Guilla...        NaN  "
      ]
     },
     "execution_count": 28,
     "metadata": {},
     "output_type": "execute_result"
    }
   ],
   "source": [
    "df.head()"
   ]
  },
  {
   "cell_type": "markdown",
   "id": "6a9ae23a-2a1d-420c-8de6-c56a43494e66",
   "metadata": {},
   "source": [
    "## Create the index for cities"
   ]
  },
  {
   "cell_type": "code",
   "execution_count": 29,
   "id": "ec6e00e0-8acf-4305-9197-63693ee21bf9",
   "metadata": {},
   "outputs": [],
   "source": [
    "df[['lon', 'lat']] = df['wkt'].str.extract(r'POINT\\(([^ ]+) ([^ ]+)\\)')"
   ]
  },
  {
   "cell_type": "code",
   "execution_count": 30,
   "id": "5cf2ec96-971a-4348-8709-3dc7587a796e",
   "metadata": {},
   "outputs": [],
   "source": [
    "city_coords = df.groupby('City').agg({'lat': 'first', 'lon': 'first'}).reset_index()"
   ]
  },
  {
   "cell_type": "code",
   "execution_count": 31,
   "id": "36b858ac-dff1-4750-88e0-4edc8ad0fbcf",
   "metadata": {},
   "outputs": [],
   "source": [
    "city_coords.rename({'City': 'name'}, axis=1, inplace=True)"
   ]
  },
  {
   "cell_type": "code",
   "execution_count": 32,
   "id": "a59c0e13-ec2e-4ccd-96b4-8791b643a9e5",
   "metadata": {},
   "outputs": [],
   "source": [
    "city_coords.index = city_coords.index + 1\n",
    "city_coords.index.name = 'id'"
   ]
  },
  {
   "cell_type": "code",
   "execution_count": 33,
   "id": "7e26535f-8fdd-4308-87cd-424655e5ce9c",
   "metadata": {},
   "outputs": [
    {
     "name": "stdout",
     "output_type": "stream",
     "text": [
      "                name                 lat                 lon\n",
      "id                                                          \n",
      "1        Baden-Baden     48.761944444444     8.2408333333333\n",
      "2          Barcelona             41.3825     2.1769444444444\n",
      "3             Berlin     52.516666666667     13.383333333333\n",
      "4            Chicago     41.881944444444    -87.627777777778\n",
      "5   City of Brussels  50.846666666666664   4.351666666666667\n",
      "6         Copenhagen     55.676111111111     12.568888888889\n",
      "7              Delft     52.011944444444     4.3594444444444\n",
      "8          Frankfurt     50.113611111111     8.6797222222222\n",
      "9            Hanover     52.374444444444     9.7386111111111\n",
      "10           Leipzig               51.34              12.375\n",
      "11            Lleida            41.61674             0.62218\n",
      "12            London     51.507222222222             -0.1275\n",
      "13            Munich             48.1375              11.575\n",
      "14     New York City           40.712728          -74.006015\n",
      "15             Paris     48.856944444444     2.3513888888889\n",
      "16            Prague     50.083333333333     14.416666666667\n",
      "17              Rome     41.893055555556     12.482777777778\n",
      "18         Stuttgart     48.776111111111              9.1775\n",
      "19            Warsaw               52.23  21.011111111111113\n"
     ]
    }
   ],
   "source": [
    "print(city_coords)"
   ]
  },
  {
   "cell_type": "code",
   "execution_count": 34,
   "id": "8d3afd4d-581c-4214-bc6b-adf2cca90625",
   "metadata": {},
   "outputs": [],
   "source": [
    "city_coords.to_csv('od_city_index.csv', index=True)"
   ]
  },
  {
   "cell_type": "markdown",
   "id": "6db8a7fa-0191-475d-bd30-c2dce720ae14",
   "metadata": {},
   "source": [
    "## Index to OD Matrix"
   ]
  },
  {
   "cell_type": "code",
   "execution_count": 35,
   "id": "11d28ce7-b676-4db1-a2e7-736edb4825da",
   "metadata": {},
   "outputs": [],
   "source": [
    "df['Year'] = pd.to_datetime(df['Date']).dt.year"
   ]
  },
  {
   "cell_type": "code",
   "execution_count": 36,
   "id": "b436b051-63dd-4862-bd48-11c39507c241",
   "metadata": {},
   "outputs": [],
   "source": [
    "city_id_map = city_coords.reset_index().set_index('name')['id'].to_dict()"
   ]
  },
  {
   "cell_type": "code",
   "execution_count": 37,
   "id": "aaf72916-09f2-414c-89c4-2e6a8aa54297",
   "metadata": {},
   "outputs": [],
   "source": [
    "df['origin'] = df['City'].map(city_id_map).astype(int)\n",
    "df['dest'] = df['City'].shift(-1).map(city_id_map).fillna(method='ffill').astype(int)\n",
    "df.iloc[-1, df.columns.get_loc('dest')] = df.iloc[-1]['origin']"
   ]
  },
  {
   "cell_type": "markdown",
   "id": "795a581f-1281-4ebb-b8ea-1d96b2200418",
   "metadata": {},
   "source": [
    "### Overall OD Matrix"
   ]
  },
  {
   "cell_type": "code",
   "execution_count": 38,
   "id": "4dee8938-6e56-4485-9311-6399a09fbd07",
   "metadata": {},
   "outputs": [],
   "source": [
    "overall_od_matrix = df.groupby(['origin', 'dest', 'Year']).size().reset_index(name='count')"
   ]
  },
  {
   "cell_type": "code",
   "execution_count": 39,
   "id": "5c6e472e-17a6-4001-9c52-c07a7290ce8f",
   "metadata": {},
   "outputs": [],
   "source": [
    "overall_od_matrix['time'] = overall_od_matrix['Year'].astype(str) + '-01-01'\n",
    "overall_od_matrix.drop('Year', axis=1, inplace=True)"
   ]
  },
  {
   "cell_type": "code",
   "execution_count": 40,
   "id": "4029ade6-0c2e-499b-b761-f2ff676fbd38",
   "metadata": {},
   "outputs": [
    {
     "name": "stdout",
     "output_type": "stream",
     "text": [
      "     origin  dest  count        time\n",
      "0         1    18      1  1954-01-01\n",
      "1         2     1      1  1904-01-01\n",
      "2         2    12      1  1914-01-01\n",
      "3         2    19      1  1921-01-01\n",
      "4         3     3      1  1923-01-01\n",
      "..      ...   ...    ...         ...\n",
      "129      18    18      1  1927-01-01\n",
      "130      19     3      1  1985-01-01\n",
      "131      19    15      1  1924-01-01\n",
      "132      19    15      2  1965-01-01\n",
      "133      19    18      1  1961-01-01\n",
      "\n",
      "[134 rows x 4 columns]\n"
     ]
    }
   ],
   "source": [
    "print(overall_od_matrix)"
   ]
  },
  {
   "cell_type": "code",
   "execution_count": 41,
   "id": "e6d4c7db-696b-44ed-9044-d75d954e5f06",
   "metadata": {},
   "outputs": [],
   "source": [
    "overall_od_matrix.to_csv('overall_od_matrix.csv', index=False)"
   ]
  },
  {
   "cell_type": "markdown",
   "id": "0c81cceb-79f9-4c4f-a2b0-7f48c68ad864",
   "metadata": {},
   "source": [
    "## Keyword to OD Matrix"
   ]
  },
  {
   "cell_type": "code",
   "execution_count": 42,
   "id": "eb998f00-93ac-43df-935f-a6fecb6b9f61",
   "metadata": {},
   "outputs": [],
   "source": [
    "unique_keywords = df['group_name'].unique()"
   ]
  },
  {
   "cell_type": "code",
   "execution_count": null,
   "id": "05041599-3d47-44af-8cf9-69beb3ae841d",
   "metadata": {},
   "outputs": [],
   "source": [
    "filename = keyword.replace(' ', '_').replace(',', '').replace(':', '').replace('/', '_or_') + '.csv'"
   ]
  },
  {
   "cell_type": "code",
   "execution_count": 47,
   "id": "56d9aec9-f511-4047-ace6-ff87ce60cc82",
   "metadata": {},
   "outputs": [],
   "source": [
    "group_name_dir = 'group_name'\n",
    "if not os.path.exists(group_name_dir):\n",
    "    os.makedirs(group_name_dir)"
   ]
  },
  {
   "cell_type": "code",
   "execution_count": 48,
   "id": "4ec5198d-0c00-489e-be1e-9954d37c6b12",
   "metadata": {},
   "outputs": [
    {
     "name": "stdout",
     "output_type": "stream",
     "text": [
      "OD matrix for \"Metzner (Franz), Design for a Mausoleum at Berlin, date?\" saved as group_name/Metzner_(Franz)_Design_for_a_Mausoleum_at_Berlin_date?.csv\n",
      "OD matrix for \"De Chirico, Einsame Strasse [coll. Paul Guillaume], 1914\" saved as group_name/De_Chirico_Einsame_Strasse_[coll._Paul_Guillaume]_1914.csv\n",
      "OD matrix for \"Diverse_Geom_abstract\" saved as group_name/Diverse_Geom_abstract.csv\n",
      "OD matrix for \"Picasso, Le Buste, 1925\" saved as group_name/Picasso_Le_Buste_1925.csv\n",
      "OD matrix for \"Picasso, La Dame au Fauteuil, 1914\" saved as group_name/Picasso_La_Dame_au_Fauteuil_1914.csv\n",
      "OD matrix for \"Van Gogh, Le Pont de Trinquetaille, 1888\" saved as group_name/Van_Gogh_Le_Pont_de_Trinquetaille_1888.csv\n",
      "OD matrix for \"Cézanne, Les Joueurs de cartes, vers 1890-95, huile sur toile, musée d'Orsay\" saved as group_name/Cézanne_Les_Joueurs_de_cartes_vers_1890-95_huile_sur_toile_musée_d'Orsay.csv\n",
      "OD matrix for \"Picasso_Blind Beggar with a Boy_1903\" saved as group_name/Picasso_Blind_Beggar_with_a_Boy_1903.csv\n",
      "OD matrix for \"Severini, Danse du Pan Pan, c. 1909-1911 (2e version, 1960; Centre Pompidou : \"Réplique d'artiste (1959-1960) exécutée à Rome d'après le tableau original (1909-1911) disparu depuis 1926\")\" saved as group_name/Severini_Danse_du_Pan_Pan_c._1909-1911_(2e_version_1960;_Centre_Pompidou__\"Réplique_d'artiste_(1959-1960)_exécutée_à_Rome_d'après_le_tableau_original_(1909-1911)_disparu_depuis_1926\").csv\n",
      "OD matrix for \"Rousseau, Fleurs, 1909\" saved as group_name/Rousseau_Fleurs_1909.csv\n",
      "OD matrix for \"Cassatt, Mère et enfant,  1889, Paris, musée d'Orsay, conservé au musée du Louvre\" saved as group_name/Cassatt_Mère_et_enfant__1889_Paris_musée_d'Orsay_conservé_au_musée_du_Louvre.csv\n",
      "OD matrix for \"Mondrian, [generic neoplasticist square work]\" saved as group_name/Mondrian_[generic_neoplasticist_square_work].csv\n",
      "OD matrix for \"Cézanne, Portrait (coll. Pellerin) / copie du Gréco, Dame à l'Hermine, entre 1885 et 1886\" saved as group_name/Cézanne_Portrait_(coll._Pellerin)__or__copie_du_Gréco_Dame_à_l'Hermine_entre_1885_et_1886.csv\n",
      "OD matrix for \"Rousseau_Bohémienne endormie_1897_reinterpretation\" saved as group_name/Rousseau_Bohémienne_endormie_1897_reinterpretation.csv\n",
      "OD matrix for \"Picasso_Femme et enfant au bord de la mer_1921\" saved as group_name/Picasso_Femme_et_enfant_au_bord_de_la_mer_1921.csv\n",
      "OD matrix for \"Evenepoel_Espagnol à Paris_1899\" saved as group_name/Evenepoel_Espagnol_à_Paris_1899.csv\n",
      "OD matrix for \"Beckmann_Port de Gênes_1926\" saved as group_name/Beckmann_Port_de_Gênes_1926.csv\n",
      "OD matrix for \"Matisse, Odalisque assise (many), 1926\" saved as group_name/Matisse_Odalisque_assise_(many)_1926.csv\n",
      "OD matrix for \"Braque Nature morte 1910 [coll. La Roche 1911?]\" saved as group_name/Braque_Nature_morte_1910_[coll._La_Roche_1911?].csv\n",
      "OD matrix for \"Manet, Un bar aux Folies Bergère, 1882, Courtauld Gallery\" saved as group_name/Manet_Un_bar_aux_Folies_Bergère_1882_Courtauld_Gallery.csv\n",
      "OD matrix for \"Stella (Joseph), Brooklyn Bridge (1919-1920)\" saved as group_name/Stella_(Joseph)_Brooklyn_Bridge_(1919-1920).csv\n",
      "OD matrix for \"Rousseau_Le Bouquet_1909-1910\" saved as group_name/Rousseau_Le_Bouquet_1909-1910.csv\n",
      "OD matrix for \"Picasso, les Demoiselles d'Avignon, 1907, MoMA\" saved as group_name/Picasso_les_Demoiselles_d'Avignon_1907_MoMA.csv\n",
      "OD matrix for \"Rousseau_Éclaireurs attaqués par un tigre_1904\" saved as group_name/Rousseau_Éclaireurs_attaqués_par_un_tigre_1904.csv\n"
     ]
    }
   ],
   "source": [
    "for keyword in unique_keywords:\n",
    "    # Filter DataFrame for the current keyword\n",
    "    filtered_df = df[df['group_name'] == keyword]\n",
    "\n",
    "    # Create OD matrix for the filtered DataFrame\n",
    "    keyword_od_matrix = filtered_df.groupby(['origin', 'dest', 'Year']).size().reset_index(name='count')\n",
    "    keyword_od_matrix['time'] = keyword_od_matrix['Year'].astype(str) + '-01-01'\n",
    "    keyword_od_matrix.drop('Year', axis=1, inplace=True)\n",
    "\n",
    "    # Sanitize the keyword to use as a filename\n",
    "    filename = keyword.replace(' ', '_').replace(',', '').replace(':', '').replace('/', '_or_') + '.csv'\n",
    "    \n",
    "    # Full path for the file\n",
    "    full_path = os.path.join(group_name_dir, filename)\n",
    "\n",
    "    # Save keyword OD matrix to CSV in the group_name directory\n",
    "    keyword_od_matrix.to_csv(full_path, index=False)\n",
    "    print(f'OD matrix for \"{keyword}\" saved as {full_path}')"
   ]
  },
  {
   "cell_type": "code",
   "execution_count": null,
   "id": "531c0fb6-e3f5-45c3-bd45-cb23000523bb",
   "metadata": {},
   "outputs": [],
   "source": []
  }
 ],
 "metadata": {
  "kernelspec": {
   "display_name": "Python 3 (ipykernel)",
   "language": "python",
   "name": "python3"
  },
  "language_info": {
   "codemirror_mode": {
    "name": "ipython",
    "version": 3
   },
   "file_extension": ".py",
   "mimetype": "text/x-python",
   "name": "python",
   "nbconvert_exporter": "python",
   "pygments_lexer": "ipython3",
   "version": "3.10.8"
  }
 },
 "nbformat": 4,
 "nbformat_minor": 5
}
