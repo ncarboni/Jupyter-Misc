{
 "cells": [
  {
   "cell_type": "code",
   "execution_count": 16,
   "id": "e5e9f237-5562-438b-9fa6-5e15f320a8ed",
   "metadata": {},
   "outputs": [],
   "source": [
    "import pandas as pd\n",
    "from py2neo import Graph"
   ]
  },
  {
   "cell_type": "code",
   "execution_count": 17,
   "id": "104d7e15-8144-44d2-ac52-458c8afde3b2",
   "metadata": {},
   "outputs": [],
   "source": [
    "cluster = pd.read_csv(\"/Users/carboni/Documents/UNIGE/pynotebook/corpus_analysis/cluster/export.csv\")"
   ]
  },
  {
   "cell_type": "code",
   "execution_count": 22,
   "id": "e4453e8d-fbad-45b2-8f62-60f38eb11b3c",
   "metadata": {},
   "outputs": [],
   "source": [
    "graph = Graph(\"bolt://localhost:7687\", user=\"neo4j\", password=\"visualcontagions\")"
   ]
  },
  {
   "cell_type": "markdown",
   "id": "6fff5cee-94cc-49b5-9a1a-6dc58a8e85f0",
   "metadata": {},
   "source": [
    "DELETE all statements in the graph"
   ]
  },
  {
   "cell_type": "code",
   "execution_count": 23,
   "id": "4610ef75-e7bd-4901-abef-4a45d4540d6a",
   "metadata": {},
   "outputs": [],
   "source": [
    "graph.delete_all()"
   ]
  },
  {
   "cell_type": "markdown",
   "id": "945f9375-899e-4d86-9974-b8d51f72a06e",
   "metadata": {},
   "source": [
    "## LOAD CSV"
   ]
  },
  {
   "cell_type": "code",
   "execution_count": 24,
   "id": "ffc9a9a6-ef7a-4cbb-b690-37ea655e83e9",
   "metadata": {},
   "outputs": [],
   "source": [
    "load_clusters = \"\"\"\n",
    "LOAD CSV WITH HEADERS FROM\n",
    "             'file:///cluster.csv' AS line\n",
    "             CALL {\n",
    "                 WITH line\n",
    "                 MERGE (image:Image {name: line.image_url})\n",
    "                 MERGE (cluster:Cluster {name: line.numero_cluster})\n",
    "                 MERGE (cluster)-[r:CONTAINS]->(image)\n",
    "             } IN TRANSACTIONS OF 500 ROWS ;\n",
    "\"\"\""
   ]
  },
  {
   "cell_type": "code",
   "execution_count": 25,
   "id": "4b1f38cc-e44d-4dad-922b-91621010458e",
   "metadata": {},
   "outputs": [
    {
     "data": {
      "text/html": [
       "(No data)"
      ],
      "text/plain": [
       "(No data)"
      ]
     },
     "execution_count": 25,
     "metadata": {},
     "output_type": "execute_result"
    }
   ],
   "source": [
    "graph.run(load_clusters)"
   ]
  },
  {
   "cell_type": "code",
   "execution_count": null,
   "id": "39f5e815-88f5-435a-adcd-dde02cc73143",
   "metadata": {},
   "outputs": [],
   "source": []
  }
 ],
 "metadata": {
  "kernelspec": {
   "display_name": "Python 3 (ipykernel)",
   "language": "python",
   "name": "python3"
  },
  "language_info": {
   "codemirror_mode": {
    "name": "ipython",
    "version": 3
   },
   "file_extension": ".py",
   "mimetype": "text/x-python",
   "name": "python",
   "nbconvert_exporter": "python",
   "pygments_lexer": "ipython3",
   "version": "3.10.8"
  }
 },
 "nbformat": 4,
 "nbformat_minor": 5
}
