{
 "cells": [
  {
   "cell_type": "code",
   "execution_count": null,
   "id": "26893512-4d1c-4513-9ec1-7de7aca9ace3",
   "metadata": {},
   "outputs": [],
   "source": [
    "import pandas as pd\n",
    "import pydeck as pdk"
   ]
  },
  {
   "cell_type": "code",
   "execution_count": null,
   "id": "7b6edf08-00b3-4005-a224-db702d17698b",
   "metadata": {},
   "outputs": [],
   "source": [
    "df = pd.read_csv('/Users/carboni/Downloads/Data Engineering.csv')"
   ]
  },
  {
   "cell_type": "code",
   "execution_count": null,
   "id": "44b134de-e7ec-4a26-9400-adf7683d9bee",
   "metadata": {},
   "outputs": [],
   "source": [
    "df.head()"
   ]
  },
  {
   "cell_type": "code",
   "execution_count": null,
   "id": "fbb43e01-85cf-4b73-bddc-b9f58a5fcadb",
   "metadata": {},
   "outputs": [],
   "source": [
    "df.columns.unique()"
   ]
  },
  {
   "cell_type": "code",
   "execution_count": null,
   "id": "dc9246a7-fdce-4345-bd76-86e46fa04cc9",
   "metadata": {},
   "outputs": [],
   "source": [
    "#change the name of the column!\n",
    "df['source'] = df.apply(lambda row: [row['Long_location_corr'], row['Lat_location_corr']], axis=1)\n",
    "df['target'] = df.apply(lambda row: [row['Long_location_death'], row['Lat_location_death']], axis=1)"
   ]
  },
  {
   "cell_type": "code",
   "execution_count": null,
   "id": "70d49e2f-d6b4-4af8-aebb-f7071bb90121",
   "metadata": {},
   "outputs": [],
   "source": [
    "df['arc_id'] = df.apply(lambda row: f\"{row['source']}-{row['target']}\", axis=1)"
   ]
  },
  {
   "cell_type": "code",
   "execution_count": null,
   "id": "610225a9-5007-4013-a650-c9483162dfa9",
   "metadata": {},
   "outputs": [],
   "source": [
    "arc_counts = df['arc_id'].value_counts().reset_index()\n",
    "arc_counts.columns = ['arc_id', 'arc_count']"
   ]
  },
  {
   "cell_type": "code",
   "execution_count": null,
   "id": "f3f2bc31-eaf0-4711-b1d3-da7c90b9d989",
   "metadata": {},
   "outputs": [],
   "source": [
    "df = df.merge(arc_counts, on='arc_id')"
   ]
  },
  {
   "cell_type": "code",
   "execution_count": null,
   "id": "00e2a697-5bce-4da1-82d6-a798fdd272ad",
   "metadata": {},
   "outputs": [],
   "source": [
    "GREEN_RGB = [200, 255, 0, 40]\n",
    "RED_RGB = [240, 100, 0, 40]"
   ]
  },
  {
   "cell_type": "code",
   "execution_count": null,
   "id": "40b14865-03d2-42ee-9af8-180b6dbb8988",
   "metadata": {},
   "outputs": [],
   "source": [
    "arc_layer = pdk.Layer(\n",
    "    \"ArcLayer\",\n",
    "    df,\n",
    "    get_width=\"arc_count * 2\", \n",
    "    get_source_position=\"source\",\n",
    "    get_target_position=\"target\",\n",
    "    get_tilt=10,\n",
    "    get_source_color=RED_RGB,\n",
    "    get_target_color=GREEN_RGB,\n",
    "    get_height=10,  \n",
    "    pickable=True,\n",
    "    auto_highlight=True\n",
    ")"
   ]
  },
  {
   "cell_type": "code",
   "execution_count": null,
   "id": "6649c9cf-0bea-4e49-b896-7d35a2c2fe5b",
   "metadata": {},
   "outputs": [],
   "source": [
    "view_state = pdk.ViewState(latitude=df['Lat_location_corr'].mean(), longitude=df['Long_location_corr'].mean(), zoom=1, bearing=15, pitch=45)"
   ]
  },
  {
   "cell_type": "code",
   "execution_count": null,
   "id": "dfcba662-f10c-4acf-8389-65a6d7cc92db",
   "metadata": {},
   "outputs": [],
   "source": [
    "tooltips = {\n",
    "    \"html\": \"<b>Origin:</b> {Naissance_Location1}<br/><b>Destination:</b> {target}<br/><b>Count:</b> {arc_count}\",\n",
    "    \"style\": {\"backgroundColor\": \"steelblue\", \"color\": \"white\"}\n",
    "}"
   ]
  },
  {
   "cell_type": "code",
   "execution_count": null,
   "id": "399e81f0-45c3-41e5-a9f7-8852f0a4ef6a",
   "metadata": {},
   "outputs": [],
   "source": [
    "r = pdk.Deck(layers=[arc_layer], initial_view_state=view_state, tooltip=tooltips, map_provider=\"carto\", map_style=\"dark\")"
   ]
  },
  {
   "cell_type": "code",
   "execution_count": null,
   "id": "91ed96df-c8ef-43da-b374-a66e7e77e170",
   "metadata": {},
   "outputs": [],
   "source": [
    "r.to_html('arcs_between_locations.html')"
   ]
  }
 ],
 "metadata": {
  "kernelspec": {
   "display_name": "Python 3 (ipykernel)",
   "language": "python",
   "name": "python3"
  },
  "language_info": {
   "codemirror_mode": {
    "name": "ipython",
    "version": 3
   },
   "file_extension": ".py",
   "mimetype": "text/x-python",
   "name": "python",
   "nbconvert_exporter": "python",
   "pygments_lexer": "ipython3",
   "version": "3.10.8"
  }
 },
 "nbformat": 4,
 "nbformat_minor": 5
}
