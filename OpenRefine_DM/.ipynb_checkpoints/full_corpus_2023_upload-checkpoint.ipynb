{
 "cells": [
  {
   "cell_type": "markdown",
   "id": "1d728bfc-2c40-4bec-9f2c-5fbf6dc0e3e2",
   "metadata": {},
   "source": [
    "# Corpus Analysis from OpenRefine"
   ]
  },
  {
   "cell_type": "code",
   "execution_count": 14,
   "id": "279208ba-5d5b-4025-a099-5626f71f3c93",
   "metadata": {},
   "outputs": [],
   "source": [
    "import pandas as pd\n",
    "import os\n",
    "import time\n",
    "import glob\n",
    "import requests\n",
    "from tqdm import tqdm\n",
    "import datetime"
   ]
  },
  {
   "cell_type": "markdown",
   "id": "48f62ba8-98dd-47ec-9fd4-31d534b6b9df",
   "metadata": {},
   "source": [
    "## Step 1. Create folder for the process"
   ]
  },
  {
   "cell_type": "code",
   "execution_count": 21,
   "id": "05902bf3-65c3-4928-a562-4e4c96d34964",
   "metadata": {},
   "outputs": [
    {
     "name": "stdout",
     "output_type": "stream",
     "text": [
      "Folder 'data_OR_2023-09-06' already exists in '/Users/carboni/Documents/UNIGE/pynotebook/OpenRefine_fusion_Local'\n"
     ]
    }
   ],
   "source": [
    "# Get the current date in \"YYYY-MM-DD\" format\n",
    "current_date = datetime.datetime.now().strftime(\"%Y-%m-%d\")\n",
    "\n",
    "# Define the folder name based on the current date\n",
    "folder_name = f\"data_OR_{current_date}\"\n",
    "\n",
    "# Get the script's directory (where this code is executed)\n",
    "script_directory = os.getcwd()\n",
    "\n",
    "# Create the full path for the new folder in the script's directory\n",
    "folder_path = os.path.join(script_directory, folder_name)\n",
    "\n",
    "# Check if the folder already exists and create it if not\n",
    "if not os.path.exists(folder_path):\n",
    "    os.makedirs(folder_path)\n",
    "    print(f\"Folder '{folder_name}' created in '{script_directory}'\")\n",
    "else:\n",
    "    print(f\"Folder '{folder_name}' already exists in '{script_directory}'\")"
   ]
  },
  {
   "cell_type": "markdown",
   "id": "3614101f-a068-4468-b91c-9b33189fc8ed",
   "metadata": {},
   "source": [
    "## Step 2. Download datasets"
   ]
  },
  {
   "cell_type": "markdown",
   "id": "5fd23aa4-3bce-4803-84ac-06833919742c",
   "metadata": {},
   "source": [
    "### Step 2.1 LOC"
   ]
  },
  {
   "cell_type": "markdown",
   "id": "d294bcaf-bd80-4293-85ec-7d5e0f43a4f0",
   "metadata": {},
   "source": [
    "#### Online"
   ]
  },
  {
   "cell_type": "code",
   "execution_count": 12,
   "id": "c69189ed-efe9-4116-bb1b-4a50c5629a39",
   "metadata": {},
   "outputs": [],
   "source": [
    "# Define the URL of the file to download\n",
    "file_url = 'https://jdp.visualcontagions.net/data/loc.csv'"
   ]
  },
  {
   "cell_type": "code",
   "execution_count": 23,
   "id": "68c2e673-69f2-49c8-b8a9-799d92a81150",
   "metadata": {
    "tags": []
   },
   "outputs": [
    {
     "name": "stderr",
     "output_type": "stream",
     "text": [
      "100%|██████████| 504M/504M [00:08<00:00, 57.8MB/s] "
     ]
    },
    {
     "name": "stdout",
     "output_type": "stream",
     "text": [
      "File 'loc.csv' downloaded and saved in '/Users/carboni/Documents/UNIGE/pynotebook/OpenRefine_fusion_Local/data_OR_2023-09-06'\n"
     ]
    },
    {
     "name": "stderr",
     "output_type": "stream",
     "text": [
      "\n"
     ]
    }
   ],
   "source": [
    "# Extract the file name from the URL\n",
    "file_name = os.path.basename(file_url)\n",
    "file_path = os.path.join(folder_path, file_name)\n",
    "\n",
    "# Stream the file download with a progress bar\n",
    "response = requests.get(file_url, stream=True)\n",
    "\n",
    "# Check if the request was successful\n",
    "if response.status_code == 200:\n",
    "    # Get the total file size (in bytes)\n",
    "    total_size = int(response.headers.get('content-length', 0))\n",
    "\n",
    "    # Create a progress bar using tqdm\n",
    "    progress_bar = tqdm(total=total_size, unit='B', unit_scale=True)\n",
    "\n",
    "    # Open a file for writing\n",
    "    with open(file_path, 'wb') as file:\n",
    "        for data in response.iter_content(chunk_size=1024):\n",
    "            # Write the downloaded data to the file\n",
    "            file.write(data)\n",
    "\n",
    "            # Update the progress bar\n",
    "            progress_bar.update(len(data))\n",
    "\n",
    "    # Close the progress bar\n",
    "    progress_bar.close()\n",
    "\n",
    "    print(f\"File '{file_name}' downloaded and saved in '{folder_path}'\")\n",
    "else:\n",
    "    # Handle errors\n",
    "    print(f\"Download failed with status code {response.status_code}\")\n"
   ]
  },
  {
   "cell_type": "code",
   "execution_count": 29,
   "id": "f41b42bc-1584-4f57-8109-91577d68dd56",
   "metadata": {},
   "outputs": [],
   "source": [
    "loc_dataset = f\"{folder_path}/{file_name}\"\n",
    "loc = pd.read_csv(loc_dataset)"
   ]
  },
  {
   "cell_type": "markdown",
   "id": "b98895c9-2fce-4cf4-8177-a980e697fd56",
   "metadata": {},
   "source": [
    "#### Local"
   ]
  },
  {
   "cell_type": "code",
   "execution_count": 2,
   "id": "b90a9f0d-5f9a-4510-89e9-df466d4872c0",
   "metadata": {},
   "outputs": [],
   "source": [
    "### it is better to store LOC instead of downloading it each time. \n",
    "### Once stored you can uncomment the code \n",
    "### (only the part with 1 #)\n",
    "### and use it to copy the file in the processing folder\n",
    "\n",
    "\n",
    "import shutil\n",
    "\n",
    "### Specify the source file path (original location of the CSV file)\n",
    "### e.g. source_file_path = '/Users/carboni/Documents/UNIGE/LOC.csv'\n",
    "\n",
    "#source_file_path = 'file_path_of_LOC'\n",
    "\n",
    "### Specify the new filename for the copied file\n",
    "# new_filename = 'loc.csv'\n",
    "\n",
    "### Create the full destination file path by combining the folder and filename\n",
    "# destination_file_path = os.path.join(destination_folder, new_filename)\n",
    "\n",
    "### Copy the file from the source to the destination\n",
    "#shutil.copy(source_file_path, destination_file_path)\n",
    "\n",
    "#print(f\"File '{new_filename}' copied to '{destination_folder}'\")\n"
   ]
  },
  {
   "cell_type": "markdown",
   "id": "25072a4b-c04c-4986-8312-7420d8ce7f20",
   "metadata": {},
   "source": [
    "### Step 2.2. Everything Else"
   ]
  },
  {
   "cell_type": "markdown",
   "id": "34c0c382-9ae8-4a9d-99ce-030aa322bc7e",
   "metadata": {},
   "source": [
    "**List of the projects from OpenRefine**"
   ]
  },
  {
   "cell_type": "code",
   "execution_count": 31,
   "id": "e397b95a-a79d-4992-b9a4-5c7744f6d630",
   "metadata": {},
   "outputs": [],
   "source": [
    "projects_dict = {\n",
    "    '1878246014108': 'Backup_2022_02_03_PDF_cleaned',\n",
    "    '2374512373252': 'BackupCBT_2022_02_03_IIIF_Only',\n",
    "    '2332843665824': 'Princeton_Blue_Mountain',\n",
    "    '1688128007940': 'Journaux_Est-Asiatique',\n",
    "    '1695291554765': 'Marie',\n",
    "    '1914921870678': 'Adrien',\n",
    "    '1695103319397': 'ag',\n",
    "    '2370932517189': 'ag2',\n",
    "    '2010224589348': 'Der-Spiegel',\n",
    "    '2332878816656': 'digiteca',\n",
    "    '2141702759150': 'l_artiste',\n",
    "    '2330813936766': 'art_mode',\n",
    "    '1897293512341': 'BNF_1',\n",
    "    '1792589433060': 'BNF_2',\n",
    "    '2216922237200': 'locomotion_automobile',\n",
    "    '1929627493981': 'Project_Translatio'\n",
    "}"
   ]
  },
  {
   "cell_type": "code",
   "execution_count": 32,
   "id": "61c50f7d-1c5d-4e6a-aa1e-b4b7bd9ad879",
   "metadata": {},
   "outputs": [
    {
     "name": "stdout",
     "output_type": "stream",
     "text": [
      "CSV data for 'Backup_2022_02_03_PDF_cleaned' (ID: 1878246014108) saved as 'Backup_2022_02_03_PDF_cleaned.csv' in '/Users/carboni/Documents/UNIGE/pynotebook/OpenRefine_fusion_Local/data_OR_2023-09-06'\n",
      "CSV data for 'BackupCBT_2022_02_03_IIIF_Only' (ID: 2374512373252) saved as 'BackupCBT_2022_02_03_IIIF_Only.csv' in '/Users/carboni/Documents/UNIGE/pynotebook/OpenRefine_fusion_Local/data_OR_2023-09-06'\n",
      "CSV data for 'Princeton_Blue_Mountain' (ID: 2332843665824) saved as 'Princeton_Blue_Mountain.csv' in '/Users/carboni/Documents/UNIGE/pynotebook/OpenRefine_fusion_Local/data_OR_2023-09-06'\n",
      "CSV data for 'Journaux_Est-Asiatique' (ID: 1688128007940) saved as 'Journaux_Est-Asiatique.csv' in '/Users/carboni/Documents/UNIGE/pynotebook/OpenRefine_fusion_Local/data_OR_2023-09-06'\n",
      "CSV data for 'Marie' (ID: 1695291554765) saved as 'Marie.csv' in '/Users/carboni/Documents/UNIGE/pynotebook/OpenRefine_fusion_Local/data_OR_2023-09-06'\n",
      "CSV data for 'Adrien' (ID: 1914921870678) saved as 'Adrien.csv' in '/Users/carboni/Documents/UNIGE/pynotebook/OpenRefine_fusion_Local/data_OR_2023-09-06'\n",
      "CSV data for 'ag' (ID: 1695103319397) saved as 'ag.csv' in '/Users/carboni/Documents/UNIGE/pynotebook/OpenRefine_fusion_Local/data_OR_2023-09-06'\n",
      "CSV data for 'ag2' (ID: 2370932517189) saved as 'ag2.csv' in '/Users/carboni/Documents/UNIGE/pynotebook/OpenRefine_fusion_Local/data_OR_2023-09-06'\n",
      "CSV data for 'Der-Spiegel' (ID: 2010224589348) saved as 'Der-Spiegel.csv' in '/Users/carboni/Documents/UNIGE/pynotebook/OpenRefine_fusion_Local/data_OR_2023-09-06'\n",
      "CSV data for 'digiteca' (ID: 2332878816656) saved as 'digiteca.csv' in '/Users/carboni/Documents/UNIGE/pynotebook/OpenRefine_fusion_Local/data_OR_2023-09-06'\n",
      "CSV data for 'l_artiste' (ID: 2141702759150) saved as 'l_artiste.csv' in '/Users/carboni/Documents/UNIGE/pynotebook/OpenRefine_fusion_Local/data_OR_2023-09-06'\n",
      "CSV data for 'art_mode' (ID: 2330813936766) saved as 'art_mode.csv' in '/Users/carboni/Documents/UNIGE/pynotebook/OpenRefine_fusion_Local/data_OR_2023-09-06'\n",
      "CSV data for 'BNF_1' (ID: 1897293512341) saved as 'BNF_1.csv' in '/Users/carboni/Documents/UNIGE/pynotebook/OpenRefine_fusion_Local/data_OR_2023-09-06'\n",
      "CSV data for 'BNF_2' (ID: 1792589433060) saved as 'BNF_2.csv' in '/Users/carboni/Documents/UNIGE/pynotebook/OpenRefine_fusion_Local/data_OR_2023-09-06'\n",
      "CSV data for 'locomotion_automobile' (ID: 2216922237200) saved as 'locomotion_automobile.csv' in '/Users/carboni/Documents/UNIGE/pynotebook/OpenRefine_fusion_Local/data_OR_2023-09-06'\n",
      "CSV data for 'Project_Translatio' (ID: 1929627493981) saved as 'Project_Translatio.csv' in '/Users/carboni/Documents/UNIGE/pynotebook/OpenRefine_fusion_Local/data_OR_2023-09-06'\n"
     ]
    }
   ],
   "source": [
    "# Define the API endpoint and parameters\n",
    "url = 'http://129.194.213.75/command/core/export-rows'\n",
    "format = 'csv'\n",
    "engine = '{\"facets\":[],\"mode\":\"row-based\"}'\n",
    "\n",
    "# Dictionary of project IDs to project names\n",
    "\n",
    "# the folder is already specified in step 1\n",
    "#folder_path = 'project_refine'\n",
    "\n",
    "# Iterate over the projects and their names\n",
    "for project_id, project_name in projects_dict.items():\n",
    "    # Set the project parameter\n",
    "    params = {\n",
    "        'project': project_id,\n",
    "        'format': format,\n",
    "        'engine': engine\n",
    "    }\n",
    "\n",
    "    # Specify the file name for each project\n",
    "    file_name = f'{project_name}.csv'\n",
    "    file_path = os.path.join(folder_path, file_name)\n",
    "\n",
    "    # Send the POST request\n",
    "    response = requests.post(url, params=params)\n",
    "\n",
    "    # Check the response status and save the CSV data to a file\n",
    "    if response.status_code == 200:\n",
    "        # The request was successful, save the CSV data to the file\n",
    "        with open(file_path, 'wb') as file:\n",
    "            file.write(response.content)\n",
    "        print(f\"CSV data for '{project_name}' (ID: {project_id}) saved as '{file_name}' in '{folder_path}'\")\n",
    "    else:\n",
    "        # Handle errors\n",
    "        print(f\"Request for '{project_name}' (ID: {project_id}) failed with status code {response.status_code}\")\n",
    "        print(response.text)\n"
   ]
  },
  {
   "cell_type": "markdown",
   "id": "3dc522f1-ead1-415d-aec5-5dce3f4809f9",
   "metadata": {},
   "source": [
    "## Step 3. Merge and Analyse"
   ]
  },
  {
   "cell_type": "code",
   "execution_count": 64,
   "id": "740dc701-0bf6-4c37-b0c5-2c5d310a45e8",
   "metadata": {},
   "outputs": [],
   "source": [
    "keep_col = ['Media URL','City','Country','wkt', 'normalized_date', 'Title', 'Journal Type']"
   ]
  },
  {
   "cell_type": "code",
   "execution_count": 76,
   "id": "fc93346b-6cd4-4458-a76f-fa6cd09e55b7",
   "metadata": {},
   "outputs": [
    {
     "name": "stdout",
     "output_type": "stream",
     "text": [
      "Deleted '/Users/carboni/Documents/UNIGE/pynotebook/OpenRefine_fusion_Local/data_OR_2023-09-06/CorpusCombined_2023-09-06.csv'\n"
     ]
    }
   ],
   "source": [
    "# List all CSV files in the folder\n",
    "all_files = glob.glob(folder_path + \"/*.csv\")\n",
    "\n",
    "# Iterate over the files and delete those with 'CorpusCombined' in the filename\n",
    "for filename in all_files:\n",
    "    if 'CorpusCombined' in filename:\n",
    "        os.remove(filename)\n",
    "        print(f\"Deleted '{filename}'\")"
   ]
  },
  {
   "cell_type": "markdown",
   "id": "aaca304b-fb4e-4a58-b490-b5c754929c75",
   "metadata": {},
   "source": [
    "### Step 3.1 Create 2 datasets, one with LOC and one without"
   ]
  },
  {
   "cell_type": "code",
   "execution_count": 93,
   "id": "4a3e473f-0595-4496-8ba3-9415d64b5024",
   "metadata": {
    "tags": []
   },
   "outputs": [],
   "source": [
    "all_files = glob.glob(folder_path + \"/*.csv\")\n",
    "\n",
    "li = []\n",
    "\n",
    "for filename in all_files:\n",
    "    df = pd.read_csv(filename, index_col=None, header=0, delimiter=',', low_memory=False)\n",
    "    df = df[keep_col]\n",
    "    li.append(df)\n",
    "\n",
    "df_merged = pd.concat(li, axis=0, ignore_index=True)"
   ]
  },
  {
   "cell_type": "code",
   "execution_count": 94,
   "id": "d770ab3b-1580-41e9-958e-24e1eef33b3f",
   "metadata": {},
   "outputs": [],
   "source": [
    "all_files = glob.glob(folder_path + \"/*.csv\")\n",
    "li = []\n",
    "\n",
    "for filename in all_files:\n",
    "    # Skip processing 'loc.csv'\n",
    "    if 'loc.csv' in filename:\n",
    "        continue    \n",
    "    df = pd.read_csv(filename, index_col=None, header=0, delimiter=',', low_memory=False)    \n",
    "    df = df[keep_col]    \n",
    "    li.append(df)\n",
    "df_merged_sans_loc = pd.concat(li, axis=0, ignore_index=True)"
   ]
  },
  {
   "cell_type": "code",
   "execution_count": 95,
   "id": "f2b5d332-0cf3-4c1b-b2d8-5d12911b8c4d",
   "metadata": {},
   "outputs": [
    {
     "name": "stdout",
     "output_type": "stream",
     "text": [
      "<class 'pandas.core.frame.DataFrame'>\n",
      "RangeIndex: 471673 entries, 0 to 471672\n",
      "Data columns (total 7 columns):\n",
      " #   Column           Non-Null Count   Dtype \n",
      "---  ------           --------------   ----- \n",
      " 0   Media URL        471672 non-null  object\n",
      " 1   City             469653 non-null  object\n",
      " 2   Country          471619 non-null  object\n",
      " 3   wkt              471093 non-null  object\n",
      " 4   normalized_date  471420 non-null  object\n",
      " 5   Title            471673 non-null  object\n",
      " 6   Journal Type     328902 non-null  object\n",
      "dtypes: object(7)\n",
      "memory usage: 25.2+ MB\n"
     ]
    }
   ],
   "source": [
    "df_merged_sans_loc.info()"
   ]
  },
  {
   "cell_type": "code",
   "execution_count": 96,
   "id": "43b1930b-2bfe-4689-9c88-1ce48f1c0cc6",
   "metadata": {},
   "outputs": [
    {
     "name": "stdout",
     "output_type": "stream",
     "text": [
      "<class 'pandas.core.frame.DataFrame'>\n",
      "RangeIndex: 3536894 entries, 0 to 3536893\n",
      "Data columns (total 7 columns):\n",
      " #   Column           Dtype \n",
      "---  ------           ----- \n",
      " 0   Media URL        object\n",
      " 1   City             object\n",
      " 2   Country          object\n",
      " 3   wkt              object\n",
      " 4   normalized_date  object\n",
      " 5   Title            object\n",
      " 6   Journal Type     object\n",
      "dtypes: object(7)\n",
      "memory usage: 188.9+ MB\n"
     ]
    }
   ],
   "source": [
    "df_merged.info()"
   ]
  },
  {
   "cell_type": "markdown",
   "id": "34896b02-f8ae-48f6-aa7e-ff5abdfb418b",
   "metadata": {},
   "source": [
    "### Step 3.2 Save the content of the dataset without LOC"
   ]
  },
  {
   "cell_type": "code",
   "execution_count": 98,
   "id": "095fbfb0-d589-482e-936b-5f39e3a6a6fe",
   "metadata": {},
   "outputs": [],
   "source": [
    "merged_name = f\"CorpusCombined_{current_date}.csv\"\n",
    "merged_path = os.path.join(folder_path, merged_name)\n",
    "df_merged_sans_loc.to_csv(merged_path, index=False)\n",
    "#df_merged.to_csv(merged_path, index=False)"
   ]
  },
  {
   "cell_type": "markdown",
   "id": "4860d3da-96e5-4c5e-9445-09d0e489d528",
   "metadata": {},
   "source": [
    "### Number of Journal and issues"
   ]
  },
  {
   "cell_type": "code",
   "execution_count": 99,
   "id": "9342ead9-b237-48d6-be36-97e48b6cd2d5",
   "metadata": {},
   "outputs": [
    {
     "data": {
      "text/plain": [
       "4528"
      ]
     },
     "execution_count": 99,
     "metadata": {},
     "output_type": "execute_result"
    }
   ],
   "source": [
    "df_merged[\"Title\"].nunique()"
   ]
  },
  {
   "cell_type": "code",
   "execution_count": 100,
   "id": "8e988dcf-2b2e-4cd8-bd4a-026b97659cf3",
   "metadata": {},
   "outputs": [
    {
     "data": {
      "text/plain": [
       "3536673"
      ]
     },
     "execution_count": 100,
     "metadata": {},
     "output_type": "execute_result"
    }
   ],
   "source": [
    "df_merged[\"Media URL\"].nunique()"
   ]
  },
  {
   "cell_type": "markdown",
   "id": "1d9b0936-5be3-48cd-90f6-ca814d0d0110",
   "metadata": {},
   "source": [
    "### Cities and Countries"
   ]
  },
  {
   "cell_type": "code",
   "execution_count": 101,
   "id": "0e5e03cb-fc3b-4943-a214-d4109d5a98df",
   "metadata": {},
   "outputs": [
    {
     "data": {
      "text/plain": [
       "1189"
      ]
     },
     "execution_count": 101,
     "metadata": {},
     "output_type": "execute_result"
    }
   ],
   "source": [
    "df_merged[\"City\"].nunique()"
   ]
  },
  {
   "cell_type": "code",
   "execution_count": 102,
   "id": "01ed1cb2-4eb3-4462-9722-6bfddcbf9fdd",
   "metadata": {},
   "outputs": [
    {
     "data": {
      "text/plain": [
       "51"
      ]
     },
     "execution_count": 102,
     "metadata": {},
     "output_type": "execute_result"
    }
   ],
   "source": [
    "df_merged[\"Country\"].nunique()"
   ]
  },
  {
   "cell_type": "markdown",
   "id": "473b7075-8404-4d45-b026-0dc9357d09a3",
   "metadata": {},
   "source": [
    "### Journal type"
   ]
  },
  {
   "cell_type": "code",
   "execution_count": 42,
   "id": "dc3ec15b-4a3c-4698-8e03-5d6a2d0302d5",
   "metadata": {},
   "outputs": [
    {
     "data": {
      "text/plain": [
       "83"
      ]
     },
     "execution_count": 42,
     "metadata": {},
     "output_type": "execute_result"
    }
   ],
   "source": [
    "df_merged[\"Journal Type\"].nunique()"
   ]
  },
  {
   "cell_type": "markdown",
   "id": "745cedba-3f3f-431f-b88b-28eb2d6647c7",
   "metadata": {},
   "source": [
    "### Earliest and latest date"
   ]
  },
  {
   "cell_type": "code",
   "execution_count": 43,
   "id": "0581157c-53d6-4af1-8f6d-89cdbc1fe276",
   "metadata": {},
   "outputs": [],
   "source": [
    "df_merged['normalized_date'] =  pd.to_datetime(df_merged['normalized_date'])"
   ]
  },
  {
   "cell_type": "code",
   "execution_count": 44,
   "id": "6e0d7664-1e18-47d4-a5ea-289009b57470",
   "metadata": {},
   "outputs": [
    {
     "data": {
      "text/plain": [
       "Timestamp('1801-12-22 00:00:00')"
      ]
     },
     "execution_count": 44,
     "metadata": {},
     "output_type": "execute_result"
    }
   ],
   "source": [
    "df_merged['normalized_date'].min()"
   ]
  },
  {
   "cell_type": "code",
   "execution_count": 45,
   "id": "86297431-73a1-4c5a-b882-d051ea59287f",
   "metadata": {},
   "outputs": [
    {
     "data": {
      "text/plain": [
       "Timestamp('2021-12-01 00:00:00')"
      ]
     },
     "execution_count": 45,
     "metadata": {},
     "output_type": "execute_result"
    }
   ],
   "source": [
    "df_merged['normalized_date'].max()"
   ]
  }
 ],
 "metadata": {
  "kernelspec": {
   "display_name": "Python 3 (ipykernel)",
   "language": "python",
   "name": "python3"
  },
  "language_info": {
   "codemirror_mode": {
    "name": "ipython",
    "version": 3
   },
   "file_extension": ".py",
   "mimetype": "text/x-python",
   "name": "python",
   "nbconvert_exporter": "python",
   "pygments_lexer": "ipython3",
   "version": "3.10.8"
  }
 },
 "nbformat": 4,
 "nbformat_minor": 5
}
