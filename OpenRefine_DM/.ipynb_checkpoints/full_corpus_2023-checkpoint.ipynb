{
 "cells": [
  {
   "cell_type": "markdown",
   "id": "1d728bfc-2c40-4bec-9f2c-5fbf6dc0e3e2",
   "metadata": {},
   "source": [
    "# Corpus from OpenRefine\n",
    "\n",
    "The notebook download and merge all the sources tagged with #corpusVC in OpenRefine "
   ]
  },
  {
   "cell_type": "code",
   "execution_count": 1,
   "id": "279208ba-5d5b-4025-a099-5626f71f3c93",
   "metadata": {},
   "outputs": [],
   "source": [
    "import pandas as pd\n",
    "import os\n",
    "import time\n",
    "import glob\n",
    "import requests\n",
    "from tqdm import tqdm\n",
    "import datetime\n",
    "import plotly.express as px\n",
    "import shutil"
   ]
  },
  {
   "cell_type": "markdown",
   "id": "48f62ba8-98dd-47ec-9fd4-31d534b6b9df",
   "metadata": {},
   "source": [
    "## Step 1. Create folder for the process"
   ]
  },
  {
   "cell_type": "code",
   "execution_count": 2,
   "id": "05902bf3-65c3-4928-a562-4e4c96d34964",
   "metadata": {},
   "outputs": [
    {
     "name": "stdout",
     "output_type": "stream",
     "text": [
      "Folder 'data_OR_2023-09-22' created in '/Users/carboni/Documents/UNIGE/pynotebook/OpenRefine_fusion_Local'\n"
     ]
    }
   ],
   "source": [
    "# Get the current date in \"YYYY-MM-DD\" format\n",
    "current_date = datetime.datetime.now().strftime(\"%Y-%m-%d\")\n",
    "\n",
    "# Define the folder name based on the current date\n",
    "folder_name = f\"data_OR_{current_date}\"\n",
    "\n",
    "# Get the script's directory (where this code is executed)\n",
    "script_directory = os.getcwd()\n",
    "\n",
    "# Create the full path for the new folder in the script's directory\n",
    "folder_path = os.path.join(script_directory, folder_name)\n",
    "\n",
    "# Check if the folder already exists and create it if not\n",
    "if not os.path.exists(folder_path):\n",
    "    os.makedirs(folder_path)\n",
    "    print(f\"Folder '{folder_name}' created in '{script_directory}'\")\n",
    "else:\n",
    "    print(f\"Folder '{folder_name}' already exists in '{script_directory}'\")"
   ]
  },
  {
   "cell_type": "markdown",
   "id": "3614101f-a068-4468-b91c-9b33189fc8ed",
   "metadata": {},
   "source": [
    "## Step 2. Download datasets"
   ]
  },
  {
   "cell_type": "markdown",
   "id": "5fd23aa4-3bce-4803-84ac-06833919742c",
   "metadata": {},
   "source": [
    "### Step 2.1 LOC"
   ]
  },
  {
   "cell_type": "markdown",
   "id": "d294bcaf-bd80-4293-85ec-7d5e0f43a4f0",
   "metadata": {},
   "source": [
    "#### Online"
   ]
  },
  {
   "cell_type": "code",
   "execution_count": 3,
   "id": "c69189ed-efe9-4116-bb1b-4a50c5629a39",
   "metadata": {},
   "outputs": [],
   "source": [
    "# Define the URL of the file to download\n",
    "file_url = 'https://jdp.visualcontagions.net/data/loc.csv'"
   ]
  },
  {
   "cell_type": "code",
   "execution_count": 4,
   "id": "68c2e673-69f2-49c8-b8a9-799d92a81150",
   "metadata": {
    "tags": []
   },
   "outputs": [
    {
     "name": "stderr",
     "output_type": "stream",
     "text": [
      "100%|██████████| 504M/504M [01:10<00:00, 7.19MB/s] "
     ]
    },
    {
     "name": "stdout",
     "output_type": "stream",
     "text": [
      "File 'loc.csv' downloaded and saved in '/Users/carboni/Documents/UNIGE/pynotebook/OpenRefine_fusion_Local/data_OR_2023-09-22'\n"
     ]
    },
    {
     "name": "stderr",
     "output_type": "stream",
     "text": [
      "\n"
     ]
    }
   ],
   "source": [
    "# Extract the file name from the URL\n",
    "file_name = os.path.basename(file_url)\n",
    "file_path = os.path.join(folder_path, file_name)\n",
    "\n",
    "# Stream the file download with a progress bar\n",
    "response = requests.get(file_url, stream=True)\n",
    "\n",
    "# Check if the request was successful\n",
    "if response.status_code == 200:\n",
    "    # Get the total file size (in bytes)\n",
    "    total_size = int(response.headers.get('content-length', 0))\n",
    "\n",
    "    # Create a progress bar using tqdm\n",
    "    progress_bar = tqdm(total=total_size, unit='B', unit_scale=True)\n",
    "\n",
    "    # Open a file for writing\n",
    "    with open(file_path, 'wb') as file:\n",
    "        for data in response.iter_content(chunk_size=1024):\n",
    "            # Write the downloaded data to the file\n",
    "            file.write(data)\n",
    "\n",
    "            # Update the progress bar\n",
    "            progress_bar.update(len(data))\n",
    "\n",
    "    # Close the progress bar\n",
    "    progress_bar.close()\n",
    "\n",
    "    print(f\"File '{file_name}' downloaded and saved in '{folder_path}'\")\n",
    "else:\n",
    "    # Handle errors\n",
    "    print(f\"Download failed with status code {response.status_code}\")\n"
   ]
  },
  {
   "cell_type": "markdown",
   "id": "b98895c9-2fce-4cf4-8177-a980e697fd56",
   "metadata": {},
   "source": [
    "#### Local"
   ]
  },
  {
   "cell_type": "code",
   "execution_count": 2,
   "id": "b90a9f0d-5f9a-4510-89e9-df466d4872c0",
   "metadata": {},
   "outputs": [],
   "source": [
    "#loc_source_file = \"/Users/carboni/Documents/UNIGE/pynotebook/OpenRefine_fusion_Local/backup/LOC.csv\"\n",
    "#shutil.move(loc_source_file, folder_path)"
   ]
  },
  {
   "cell_type": "markdown",
   "id": "25072a4b-c04c-4986-8312-7420d8ce7f20",
   "metadata": {},
   "source": [
    "### Step 2.2. Everything Else"
   ]
  },
  {
   "cell_type": "markdown",
   "id": "34c0c382-9ae8-4a9d-99ce-030aa322bc7e",
   "metadata": {},
   "source": [
    "**List of the projects from OpenRefine**"
   ]
  },
  {
   "cell_type": "code",
   "execution_count": 5,
   "id": "9c1d8815-37e1-46f9-81a1-3d3d5e443661",
   "metadata": {
    "tags": []
   },
   "outputs": [
    {
     "name": "stdout",
     "output_type": "stream",
     "text": [
      "{'2141702759150': \"L'artiste\", '1897293512341': 'BNF_periodic_1', '1688128007940': 'Journaux Est-Asiatique (collecte barbara)', '1914921870678': 'Adrien iaddb data iiif(UNIGE)', '1695103319397': 'AG2023', '1878246014108': 'Backup_2022_02_03_PDF_cleaned', '1695291554765': 'Marie mag PhD data iiif (UNIGE)', '2330813936766': 'art mode', '2010224589348': 'Der Spiegel', '1929627493981': 'Project Translatio', '2637062031927': 'Slovenia magazines with iiif manifest csv', '2216922237200': 'La Locomotion automobile', '2374512373252': 'BackupCBT_2022_02_03_IIIF', '2332878816656': 'digiteca', '1792589433060': 'BNF_periodics_2_2023', '2332843665824': 'Princeton Blue Mountain', '2370932517189': 'AG2023_part2', '2090209062960': 'National Geographic with iiif manifest'}\n"
     ]
    }
   ],
   "source": [
    "# Define the API endpoint URL\n",
    "api_url = 'http://129.194.213.75/command/core/get-all-project-metadata'\n",
    "\n",
    "# Disable SSL certificate verification (use with caution)\n",
    "verify_ssl = False\n",
    "\n",
    "# Make the GET request to the API\n",
    "response = requests.get(api_url, verify=verify_ssl)\n",
    "\n",
    "# Check if the request was successful (status code 200)\n",
    "if response.status_code == 200:\n",
    "    # Parse the JSON response\n",
    "    api_response = response.json()\n",
    "else:\n",
    "    print(f\"API request failed with status code: {response.status_code}\")\n",
    "    print(response.text)\n",
    "\n",
    "projects_data = api_response.get('projects', {})\n",
    "\n",
    "# Initialize an empty dictionary for projects\n",
    "projects_dict = {}\n",
    "\n",
    "# Iterate through the projects\n",
    "for project_id, project_info in projects_data.items():\n",
    "    project_tags = project_info.get('tags', [])\n",
    "    if 'corpusVC' in project_tags:\n",
    "        project_name = project_info.get('name', '')\n",
    "        projects_dict[project_id] = project_name\n",
    "\n",
    "print(projects_dict)"
   ]
  },
  {
   "cell_type": "code",
   "execution_count": 6,
   "id": "61c50f7d-1c5d-4e6a-aa1e-b4b7bd9ad879",
   "metadata": {},
   "outputs": [
    {
     "name": "stdout",
     "output_type": "stream",
     "text": [
      "CSV data for 'L'artiste' (ID: 2141702759150) saved as 'L'artiste.csv' in '/Users/carboni/Documents/UNIGE/pynotebook/OpenRefine_fusion_Local/data_OR_2023-09-22'\n",
      "CSV data for 'BNF_periodic_1' (ID: 1897293512341) saved as 'BNF_periodic_1.csv' in '/Users/carboni/Documents/UNIGE/pynotebook/OpenRefine_fusion_Local/data_OR_2023-09-22'\n",
      "CSV data for 'Journaux Est-Asiatique (collecte barbara)' (ID: 1688128007940) saved as 'Journaux Est-Asiatique (collecte barbara).csv' in '/Users/carboni/Documents/UNIGE/pynotebook/OpenRefine_fusion_Local/data_OR_2023-09-22'\n",
      "CSV data for 'Adrien iaddb data iiif(UNIGE)' (ID: 1914921870678) saved as 'Adrien iaddb data iiif(UNIGE).csv' in '/Users/carboni/Documents/UNIGE/pynotebook/OpenRefine_fusion_Local/data_OR_2023-09-22'\n",
      "CSV data for 'AG2023' (ID: 1695103319397) saved as 'AG2023.csv' in '/Users/carboni/Documents/UNIGE/pynotebook/OpenRefine_fusion_Local/data_OR_2023-09-22'\n",
      "CSV data for 'Backup_2022_02_03_PDF_cleaned' (ID: 1878246014108) saved as 'Backup_2022_02_03_PDF_cleaned.csv' in '/Users/carboni/Documents/UNIGE/pynotebook/OpenRefine_fusion_Local/data_OR_2023-09-22'\n",
      "CSV data for 'Marie mag PhD data iiif (UNIGE)' (ID: 1695291554765) saved as 'Marie mag PhD data iiif (UNIGE).csv' in '/Users/carboni/Documents/UNIGE/pynotebook/OpenRefine_fusion_Local/data_OR_2023-09-22'\n",
      "CSV data for 'art mode' (ID: 2330813936766) saved as 'art mode.csv' in '/Users/carboni/Documents/UNIGE/pynotebook/OpenRefine_fusion_Local/data_OR_2023-09-22'\n",
      "CSV data for 'Der Spiegel' (ID: 2010224589348) saved as 'Der Spiegel.csv' in '/Users/carboni/Documents/UNIGE/pynotebook/OpenRefine_fusion_Local/data_OR_2023-09-22'\n",
      "CSV data for 'Project Translatio' (ID: 1929627493981) saved as 'Project Translatio.csv' in '/Users/carboni/Documents/UNIGE/pynotebook/OpenRefine_fusion_Local/data_OR_2023-09-22'\n",
      "CSV data for 'Slovenia magazines with iiif manifest csv' (ID: 2637062031927) saved as 'Slovenia magazines with iiif manifest csv.csv' in '/Users/carboni/Documents/UNIGE/pynotebook/OpenRefine_fusion_Local/data_OR_2023-09-22'\n",
      "CSV data for 'La Locomotion automobile' (ID: 2216922237200) saved as 'La Locomotion automobile.csv' in '/Users/carboni/Documents/UNIGE/pynotebook/OpenRefine_fusion_Local/data_OR_2023-09-22'\n",
      "CSV data for 'BackupCBT_2022_02_03_IIIF' (ID: 2374512373252) saved as 'BackupCBT_2022_02_03_IIIF.csv' in '/Users/carboni/Documents/UNIGE/pynotebook/OpenRefine_fusion_Local/data_OR_2023-09-22'\n",
      "CSV data for 'digiteca' (ID: 2332878816656) saved as 'digiteca.csv' in '/Users/carboni/Documents/UNIGE/pynotebook/OpenRefine_fusion_Local/data_OR_2023-09-22'\n",
      "CSV data for 'BNF_periodics_2_2023' (ID: 1792589433060) saved as 'BNF_periodics_2_2023.csv' in '/Users/carboni/Documents/UNIGE/pynotebook/OpenRefine_fusion_Local/data_OR_2023-09-22'\n",
      "CSV data for 'Princeton Blue Mountain' (ID: 2332843665824) saved as 'Princeton Blue Mountain.csv' in '/Users/carboni/Documents/UNIGE/pynotebook/OpenRefine_fusion_Local/data_OR_2023-09-22'\n",
      "CSV data for 'AG2023_part2' (ID: 2370932517189) saved as 'AG2023_part2.csv' in '/Users/carboni/Documents/UNIGE/pynotebook/OpenRefine_fusion_Local/data_OR_2023-09-22'\n",
      "CSV data for 'National Geographic with iiif manifest' (ID: 2090209062960) saved as 'National Geographic with iiif manifest.csv' in '/Users/carboni/Documents/UNIGE/pynotebook/OpenRefine_fusion_Local/data_OR_2023-09-22'\n"
     ]
    }
   ],
   "source": [
    "# Define the API endpoint and parameters\n",
    "url = 'http://129.194.213.75/command/core/export-rows'\n",
    "format = 'csv'\n",
    "engine = '{\"facets\":[],\"mode\":\"row-based\"}'\n",
    "\n",
    "# Dictionary of project IDs to project names\n",
    "\n",
    "# the folder is already specified in step 1\n",
    "#folder_path = 'project_refine'\n",
    "\n",
    "# Iterate over the projects and their names\n",
    "for project_id, project_name in projects_dict.items():\n",
    "    # Set the project parameter\n",
    "    params = {\n",
    "        'project': project_id,\n",
    "        'format': format,\n",
    "        'engine': engine\n",
    "    }\n",
    "\n",
    "    # Specify the file name for each project\n",
    "    file_name = f'{project_name}.csv'\n",
    "    file_path = os.path.join(folder_path, file_name)\n",
    "\n",
    "    # Send the POST request\n",
    "    response = requests.post(url, params=params)\n",
    "\n",
    "    # Check the response status and save the CSV data to a file\n",
    "    if response.status_code == 200:\n",
    "        # The request was successful, save the CSV data to the file\n",
    "        with open(file_path, 'wb') as file:\n",
    "            file.write(response.content)\n",
    "        print(f\"CSV data for '{project_name}' (ID: {project_id}) saved as '{file_name}' in '{folder_path}'\")\n",
    "    else:\n",
    "        # Handle errors\n",
    "        print(f\"Request for '{project_name}' (ID: {project_id}) failed with status code {response.status_code}\")\n",
    "        print(response.text)\n"
   ]
  },
  {
   "cell_type": "markdown",
   "id": "3dc522f1-ead1-415d-aec5-5dce3f4809f9",
   "metadata": {},
   "source": [
    "## Step 3. Merge and Analyse"
   ]
  },
  {
   "cell_type": "code",
   "execution_count": 7,
   "id": "740dc701-0bf6-4c37-b0c5-2c5d310a45e8",
   "metadata": {},
   "outputs": [],
   "source": [
    "keep_col = ['Media URL','City','Country','wkt', 'normalized_date', 'Title', 'Journal Type']"
   ]
  },
  {
   "cell_type": "code",
   "execution_count": 8,
   "id": "fc93346b-6cd4-4458-a76f-fa6cd09e55b7",
   "metadata": {},
   "outputs": [],
   "source": [
    "# List all CSV files in the folder\n",
    "all_files = glob.glob(folder_path + \"/*.csv\")\n",
    "\n",
    "# Iterate over the files and delete those with 'CorpusCombined' in the filename\n",
    "for filename in all_files:\n",
    "    if 'CorpusCombined' in filename:\n",
    "        os.remove(filename)\n",
    "        print(f\"Deleted '{filename}'\")"
   ]
  },
  {
   "cell_type": "markdown",
   "id": "aaca304b-fb4e-4a58-b490-b5c754929c75",
   "metadata": {},
   "source": [
    "### Step 3.1 Create 2 datasets, one with LOC and one without"
   ]
  },
  {
   "cell_type": "code",
   "execution_count": 9,
   "id": "4a3e473f-0595-4496-8ba3-9415d64b5024",
   "metadata": {
    "tags": []
   },
   "outputs": [],
   "source": [
    "#with LOC\n",
    "\n",
    "all_files = glob.glob(folder_path + \"/*.csv\")\n",
    "\n",
    "li = []\n",
    "\n",
    "for filename in all_files:\n",
    "    df = pd.read_csv(filename, index_col=None, header=0, delimiter=',', low_memory=False)\n",
    "    df = df[keep_col]\n",
    "    li.append(df)\n",
    "\n",
    "df_merged = pd.concat(li, axis=0, ignore_index=True)"
   ]
  },
  {
   "cell_type": "code",
   "execution_count": 10,
   "id": "f0d4d740-b839-47f6-8c41-0445142ae2fd",
   "metadata": {},
   "outputs": [],
   "source": [
    "df_merged.to_csv('test.csv', index=False)"
   ]
  },
  {
   "cell_type": "code",
   "execution_count": 16,
   "id": "d770ab3b-1580-41e9-958e-24e1eef33b3f",
   "metadata": {},
   "outputs": [],
   "source": [
    "#without LOC\n",
    "\n",
    "all_files = glob.glob(folder_path + \"/*.csv\")\n",
    "li = []\n",
    "\n",
    "for filename in all_files:\n",
    "    # Skip processing 'loc.csv'\n",
    "    if 'loc.csv' in filename:\n",
    "        continue    \n",
    "    df = pd.read_csv(filename, index_col=None, header=0, delimiter=',', low_memory=False)    \n",
    "    df = df[keep_col]    \n",
    "    li.append(df)\n",
    "df_merged_sans_loc = pd.concat(li, axis=0, ignore_index=True)"
   ]
  },
  {
   "cell_type": "code",
   "execution_count": 17,
   "id": "f2b5d332-0cf3-4c1b-b2d8-5d12911b8c4d",
   "metadata": {},
   "outputs": [
    {
     "name": "stdout",
     "output_type": "stream",
     "text": [
      "<class 'pandas.core.frame.DataFrame'>\n",
      "RangeIndex: 1080371 entries, 0 to 1080370\n",
      "Data columns (total 7 columns):\n",
      " #   Column           Non-Null Count    Dtype \n",
      "---  ------           --------------    ----- \n",
      " 0   Media URL        1080015 non-null  object\n",
      " 1   City             1075438 non-null  object\n",
      " 2   Country          1080296 non-null  object\n",
      " 3   wkt              1068722 non-null  object\n",
      " 4   normalized_date  1079981 non-null  object\n",
      " 5   Title            1080371 non-null  object\n",
      " 6   Journal Type     799729 non-null   object\n",
      "dtypes: object(7)\n",
      "memory usage: 57.7+ MB\n"
     ]
    }
   ],
   "source": [
    "df_merged_sans_loc.info()"
   ]
  },
  {
   "cell_type": "code",
   "execution_count": 18,
   "id": "43b1930b-2bfe-4689-9c88-1ce48f1c0cc6",
   "metadata": {},
   "outputs": [
    {
     "name": "stdout",
     "output_type": "stream",
     "text": [
      "<class 'pandas.core.frame.DataFrame'>\n",
      "RangeIndex: 4145592 entries, 0 to 4145591\n",
      "Data columns (total 7 columns):\n",
      " #   Column           Dtype \n",
      "---  ------           ----- \n",
      " 0   Media URL        object\n",
      " 1   City             object\n",
      " 2   Country          object\n",
      " 3   wkt              object\n",
      " 4   normalized_date  object\n",
      " 5   Title            object\n",
      " 6   Journal Type     object\n",
      "dtypes: object(7)\n",
      "memory usage: 221.4+ MB\n"
     ]
    }
   ],
   "source": [
    "df_merged.info()"
   ]
  },
  {
   "cell_type": "markdown",
   "id": "34896b02-f8ae-48f6-aa7e-ff5abdfb418b",
   "metadata": {},
   "source": [
    "### Step 3.2 Save the content of the dataset without LOC"
   ]
  },
  {
   "cell_type": "code",
   "execution_count": 19,
   "id": "095fbfb0-d589-482e-936b-5f39e3a6a6fe",
   "metadata": {},
   "outputs": [],
   "source": [
    "merged_name = f\"CorpusCombined_{current_date}.csv\"\n",
    "merged_path = os.path.join(folder_path, merged_name)\n",
    "df_merged_sans_loc.to_csv(merged_path, index=False)\n",
    "#df_merged.to_csv(merged_path, index=False)"
   ]
  },
  {
   "cell_type": "markdown",
   "id": "4860d3da-96e5-4c5e-9445-09d0e489d528",
   "metadata": {},
   "source": [
    "### Number of Journal and issues"
   ]
  },
  {
   "cell_type": "code",
   "execution_count": 20,
   "id": "9342ead9-b237-48d6-be36-97e48b6cd2d5",
   "metadata": {},
   "outputs": [
    {
     "data": {
      "text/plain": [
       "4721"
      ]
     },
     "execution_count": 20,
     "metadata": {},
     "output_type": "execute_result"
    }
   ],
   "source": [
    "df_merged[\"Title\"].nunique()"
   ]
  },
  {
   "cell_type": "code",
   "execution_count": 21,
   "id": "8e988dcf-2b2e-4cd8-bd4a-026b97659cf3",
   "metadata": {},
   "outputs": [
    {
     "data": {
      "text/plain": [
       "3609837"
      ]
     },
     "execution_count": 21,
     "metadata": {},
     "output_type": "execute_result"
    }
   ],
   "source": [
    "df_merged[\"Media URL\"].nunique()"
   ]
  },
  {
   "cell_type": "markdown",
   "id": "1d9b0936-5be3-48cd-90f6-ca814d0d0110",
   "metadata": {},
   "source": [
    "### Cities and Countries"
   ]
  },
  {
   "cell_type": "code",
   "execution_count": 22,
   "id": "0e5e03cb-fc3b-4943-a214-d4109d5a98df",
   "metadata": {},
   "outputs": [
    {
     "data": {
      "text/plain": [
       "1230"
      ]
     },
     "execution_count": 22,
     "metadata": {},
     "output_type": "execute_result"
    }
   ],
   "source": [
    "df_merged[\"City\"].nunique()"
   ]
  },
  {
   "cell_type": "code",
   "execution_count": 23,
   "id": "01ed1cb2-4eb3-4462-9722-6bfddcbf9fdd",
   "metadata": {},
   "outputs": [
    {
     "data": {
      "text/plain": [
       "51"
      ]
     },
     "execution_count": 23,
     "metadata": {},
     "output_type": "execute_result"
    }
   ],
   "source": [
    "df_merged[\"Country\"].nunique()"
   ]
  },
  {
   "cell_type": "code",
   "execution_count": 13,
   "id": "d072c37d-548d-45b5-8983-34193719129f",
   "metadata": {},
   "outputs": [
    {
     "data": {
      "application/vnd.plotly.v1+json": {
       "config": {
        "plotlyServerURL": "https://plot.ly"
       },
       "data": [
        {
         "branchvalues": "total",
         "domain": {
          "x": [
           0,
           1
          ],
          "y": [
           0,
           1
          ]
         },
         "hovertemplate": "labels=%{label}<br>Count=%{value}<br>parent=%{parent}<br>id=%{id}<extra></extra>",
         "ids": [
          "Algeria",
          "Allemagne",
          "Argentina",
          "Australia",
          "Austria",
          "Belgium",
          "Brazil",
          "Cameroon",
          "Canada",
          "Chile",
          "Croatia",
          "Czech Republic",
          "Denmark",
          "Egypt",
          "Finland",
          "France",
          "Germany",
          "Hungary",
          "India",
          "Iraq",
          "Israel",
          "Italy",
          "Japan",
          "Kazakhstan",
          "Lebanon",
          "Madagascar",
          "Mexique",
          "Monaco",
          "Morocco",
          "Netherlands",
          "People's Republic of China",
          "Peru",
          "Poland",
          "Republic of Ireland",
          "Romania",
          "Russia",
          "Senegal",
          "Serbia",
          "Slovakia",
          "Slovenia",
          "South Africa",
          "Spain",
          "Sweden",
          "Switzerland",
          "Tunisia",
          "Turkey",
          "Ukraine",
          "United Kingdom",
          "United States of America",
          "Uruguay",
          "Vietnam"
         ],
         "labels": [
          "Algeria",
          "Allemagne",
          "Argentina",
          "Australia",
          "Austria",
          "Belgium",
          "Brazil",
          "Cameroon",
          "Canada",
          "Chile",
          "Croatia",
          "Czech Republic",
          "Denmark",
          "Egypt",
          "Finland",
          "France",
          "Germany",
          "Hungary",
          "India",
          "Iraq",
          "Israel",
          "Italy",
          "Japan",
          "Kazakhstan",
          "Lebanon",
          "Madagascar",
          "Mexique",
          "Monaco",
          "Morocco",
          "Netherlands",
          "People's Republic of China",
          "Peru",
          "Poland",
          "Republic of Ireland",
          "Romania",
          "Russia",
          "Senegal",
          "Serbia",
          "Slovakia",
          "Slovenia",
          "South Africa",
          "Spain",
          "Sweden",
          "Switzerland",
          "Tunisia",
          "Turkey",
          "Ukraine",
          "United Kingdom",
          "United States of America",
          "Uruguay",
          "Vietnam"
         ],
         "name": "",
         "parents": [
          "",
          "",
          "",
          "",
          "",
          "",
          "",
          "",
          "",
          "",
          "",
          "",
          "",
          "",
          "",
          "",
          "",
          "",
          "",
          "",
          "",
          "",
          "",
          "",
          "",
          "",
          "",
          "",
          "",
          "",
          "",
          "",
          "",
          "",
          "",
          "",
          "",
          "",
          "",
          "",
          "",
          "",
          "",
          "",
          "",
          "",
          "",
          "",
          "",
          "",
          ""
         ],
         "type": "icicle",
         "values": [
          10773,
          20,
          3171,
          18,
          232,
          599,
          4,
          36,
          9,
          31,
          6,
          1496,
          38,
          172,
          7,
          403777,
          7843,
          5,
          1,
          2,
          37,
          4405,
          3501,
          1,
          9,
          987,
          2,
          6,
          4423,
          737,
          1272,
          29,
          623,
          14,
          135,
          226,
          392,
          1,
          5,
          3,
          25,
          2146,
          1,
          1823,
          95,
          68,
          1392,
          886,
          3074347,
          8,
          11001
         ]
        }
       ],
       "layout": {
        "autosize": true,
        "legend": {
         "tracegroupgap": 0
        },
        "template": {
         "data": {
          "bar": [
           {
            "error_x": {
             "color": "#2a3f5f"
            },
            "error_y": {
             "color": "#2a3f5f"
            },
            "marker": {
             "line": {
              "color": "#E5ECF6",
              "width": 0.5
             },
             "pattern": {
              "fillmode": "overlay",
              "size": 10,
              "solidity": 0.2
             }
            },
            "type": "bar"
           }
          ],
          "barpolar": [
           {
            "marker": {
             "line": {
              "color": "#E5ECF6",
              "width": 0.5
             },
             "pattern": {
              "fillmode": "overlay",
              "size": 10,
              "solidity": 0.2
             }
            },
            "type": "barpolar"
           }
          ],
          "carpet": [
           {
            "aaxis": {
             "endlinecolor": "#2a3f5f",
             "gridcolor": "white",
             "linecolor": "white",
             "minorgridcolor": "white",
             "startlinecolor": "#2a3f5f"
            },
            "baxis": {
             "endlinecolor": "#2a3f5f",
             "gridcolor": "white",
             "linecolor": "white",
             "minorgridcolor": "white",
             "startlinecolor": "#2a3f5f"
            },
            "type": "carpet"
           }
          ],
          "choropleth": [
           {
            "colorbar": {
             "outlinewidth": 0,
             "ticks": ""
            },
            "type": "choropleth"
           }
          ],
          "contour": [
           {
            "colorbar": {
             "outlinewidth": 0,
             "ticks": ""
            },
            "colorscale": [
             [
              0,
              "#0d0887"
             ],
             [
              0.1111111111111111,
              "#46039f"
             ],
             [
              0.2222222222222222,
              "#7201a8"
             ],
             [
              0.3333333333333333,
              "#9c179e"
             ],
             [
              0.4444444444444444,
              "#bd3786"
             ],
             [
              0.5555555555555556,
              "#d8576b"
             ],
             [
              0.6666666666666666,
              "#ed7953"
             ],
             [
              0.7777777777777778,
              "#fb9f3a"
             ],
             [
              0.8888888888888888,
              "#fdca26"
             ],
             [
              1,
              "#f0f921"
             ]
            ],
            "type": "contour"
           }
          ],
          "contourcarpet": [
           {
            "colorbar": {
             "outlinewidth": 0,
             "ticks": ""
            },
            "type": "contourcarpet"
           }
          ],
          "heatmap": [
           {
            "colorbar": {
             "outlinewidth": 0,
             "ticks": ""
            },
            "colorscale": [
             [
              0,
              "#0d0887"
             ],
             [
              0.1111111111111111,
              "#46039f"
             ],
             [
              0.2222222222222222,
              "#7201a8"
             ],
             [
              0.3333333333333333,
              "#9c179e"
             ],
             [
              0.4444444444444444,
              "#bd3786"
             ],
             [
              0.5555555555555556,
              "#d8576b"
             ],
             [
              0.6666666666666666,
              "#ed7953"
             ],
             [
              0.7777777777777778,
              "#fb9f3a"
             ],
             [
              0.8888888888888888,
              "#fdca26"
             ],
             [
              1,
              "#f0f921"
             ]
            ],
            "type": "heatmap"
           }
          ],
          "heatmapgl": [
           {
            "colorbar": {
             "outlinewidth": 0,
             "ticks": ""
            },
            "colorscale": [
             [
              0,
              "#0d0887"
             ],
             [
              0.1111111111111111,
              "#46039f"
             ],
             [
              0.2222222222222222,
              "#7201a8"
             ],
             [
              0.3333333333333333,
              "#9c179e"
             ],
             [
              0.4444444444444444,
              "#bd3786"
             ],
             [
              0.5555555555555556,
              "#d8576b"
             ],
             [
              0.6666666666666666,
              "#ed7953"
             ],
             [
              0.7777777777777778,
              "#fb9f3a"
             ],
             [
              0.8888888888888888,
              "#fdca26"
             ],
             [
              1,
              "#f0f921"
             ]
            ],
            "type": "heatmapgl"
           }
          ],
          "histogram": [
           {
            "marker": {
             "pattern": {
              "fillmode": "overlay",
              "size": 10,
              "solidity": 0.2
             }
            },
            "type": "histogram"
           }
          ],
          "histogram2d": [
           {
            "colorbar": {
             "outlinewidth": 0,
             "ticks": ""
            },
            "colorscale": [
             [
              0,
              "#0d0887"
             ],
             [
              0.1111111111111111,
              "#46039f"
             ],
             [
              0.2222222222222222,
              "#7201a8"
             ],
             [
              0.3333333333333333,
              "#9c179e"
             ],
             [
              0.4444444444444444,
              "#bd3786"
             ],
             [
              0.5555555555555556,
              "#d8576b"
             ],
             [
              0.6666666666666666,
              "#ed7953"
             ],
             [
              0.7777777777777778,
              "#fb9f3a"
             ],
             [
              0.8888888888888888,
              "#fdca26"
             ],
             [
              1,
              "#f0f921"
             ]
            ],
            "type": "histogram2d"
           }
          ],
          "histogram2dcontour": [
           {
            "colorbar": {
             "outlinewidth": 0,
             "ticks": ""
            },
            "colorscale": [
             [
              0,
              "#0d0887"
             ],
             [
              0.1111111111111111,
              "#46039f"
             ],
             [
              0.2222222222222222,
              "#7201a8"
             ],
             [
              0.3333333333333333,
              "#9c179e"
             ],
             [
              0.4444444444444444,
              "#bd3786"
             ],
             [
              0.5555555555555556,
              "#d8576b"
             ],
             [
              0.6666666666666666,
              "#ed7953"
             ],
             [
              0.7777777777777778,
              "#fb9f3a"
             ],
             [
              0.8888888888888888,
              "#fdca26"
             ],
             [
              1,
              "#f0f921"
             ]
            ],
            "type": "histogram2dcontour"
           }
          ],
          "mesh3d": [
           {
            "colorbar": {
             "outlinewidth": 0,
             "ticks": ""
            },
            "type": "mesh3d"
           }
          ],
          "parcoords": [
           {
            "line": {
             "colorbar": {
              "outlinewidth": 0,
              "ticks": ""
             }
            },
            "type": "parcoords"
           }
          ],
          "pie": [
           {
            "automargin": true,
            "type": "pie"
           }
          ],
          "scatter": [
           {
            "fillpattern": {
             "fillmode": "overlay",
             "size": 10,
             "solidity": 0.2
            },
            "type": "scatter"
           }
          ],
          "scatter3d": [
           {
            "line": {
             "colorbar": {
              "outlinewidth": 0,
              "ticks": ""
             }
            },
            "marker": {
             "colorbar": {
              "outlinewidth": 0,
              "ticks": ""
             }
            },
            "type": "scatter3d"
           }
          ],
          "scattercarpet": [
           {
            "marker": {
             "colorbar": {
              "outlinewidth": 0,
              "ticks": ""
             }
            },
            "type": "scattercarpet"
           }
          ],
          "scattergeo": [
           {
            "marker": {
             "colorbar": {
              "outlinewidth": 0,
              "ticks": ""
             }
            },
            "type": "scattergeo"
           }
          ],
          "scattergl": [
           {
            "marker": {
             "colorbar": {
              "outlinewidth": 0,
              "ticks": ""
             }
            },
            "type": "scattergl"
           }
          ],
          "scattermapbox": [
           {
            "marker": {
             "colorbar": {
              "outlinewidth": 0,
              "ticks": ""
             }
            },
            "type": "scattermapbox"
           }
          ],
          "scatterpolar": [
           {
            "marker": {
             "colorbar": {
              "outlinewidth": 0,
              "ticks": ""
             }
            },
            "type": "scatterpolar"
           }
          ],
          "scatterpolargl": [
           {
            "marker": {
             "colorbar": {
              "outlinewidth": 0,
              "ticks": ""
             }
            },
            "type": "scatterpolargl"
           }
          ],
          "scatterternary": [
           {
            "marker": {
             "colorbar": {
              "outlinewidth": 0,
              "ticks": ""
             }
            },
            "type": "scatterternary"
           }
          ],
          "surface": [
           {
            "colorbar": {
             "outlinewidth": 0,
             "ticks": ""
            },
            "colorscale": [
             [
              0,
              "#0d0887"
             ],
             [
              0.1111111111111111,
              "#46039f"
             ],
             [
              0.2222222222222222,
              "#7201a8"
             ],
             [
              0.3333333333333333,
              "#9c179e"
             ],
             [
              0.4444444444444444,
              "#bd3786"
             ],
             [
              0.5555555555555556,
              "#d8576b"
             ],
             [
              0.6666666666666666,
              "#ed7953"
             ],
             [
              0.7777777777777778,
              "#fb9f3a"
             ],
             [
              0.8888888888888888,
              "#fdca26"
             ],
             [
              1,
              "#f0f921"
             ]
            ],
            "type": "surface"
           }
          ],
          "table": [
           {
            "cells": {
             "fill": {
              "color": "#EBF0F8"
             },
             "line": {
              "color": "white"
             }
            },
            "header": {
             "fill": {
              "color": "#C8D4E3"
             },
             "line": {
              "color": "white"
             }
            },
            "type": "table"
           }
          ]
         },
         "layout": {
          "annotationdefaults": {
           "arrowcolor": "#2a3f5f",
           "arrowhead": 0,
           "arrowwidth": 1
          },
          "autotypenumbers": "strict",
          "coloraxis": {
           "colorbar": {
            "outlinewidth": 0,
            "ticks": ""
           }
          },
          "colorscale": {
           "diverging": [
            [
             0,
             "#8e0152"
            ],
            [
             0.1,
             "#c51b7d"
            ],
            [
             0.2,
             "#de77ae"
            ],
            [
             0.3,
             "#f1b6da"
            ],
            [
             0.4,
             "#fde0ef"
            ],
            [
             0.5,
             "#f7f7f7"
            ],
            [
             0.6,
             "#e6f5d0"
            ],
            [
             0.7,
             "#b8e186"
            ],
            [
             0.8,
             "#7fbc41"
            ],
            [
             0.9,
             "#4d9221"
            ],
            [
             1,
             "#276419"
            ]
           ],
           "sequential": [
            [
             0,
             "#0d0887"
            ],
            [
             0.1111111111111111,
             "#46039f"
            ],
            [
             0.2222222222222222,
             "#7201a8"
            ],
            [
             0.3333333333333333,
             "#9c179e"
            ],
            [
             0.4444444444444444,
             "#bd3786"
            ],
            [
             0.5555555555555556,
             "#d8576b"
            ],
            [
             0.6666666666666666,
             "#ed7953"
            ],
            [
             0.7777777777777778,
             "#fb9f3a"
            ],
            [
             0.8888888888888888,
             "#fdca26"
            ],
            [
             1,
             "#f0f921"
            ]
           ],
           "sequentialminus": [
            [
             0,
             "#0d0887"
            ],
            [
             0.1111111111111111,
             "#46039f"
            ],
            [
             0.2222222222222222,
             "#7201a8"
            ],
            [
             0.3333333333333333,
             "#9c179e"
            ],
            [
             0.4444444444444444,
             "#bd3786"
            ],
            [
             0.5555555555555556,
             "#d8576b"
            ],
            [
             0.6666666666666666,
             "#ed7953"
            ],
            [
             0.7777777777777778,
             "#fb9f3a"
            ],
            [
             0.8888888888888888,
             "#fdca26"
            ],
            [
             1,
             "#f0f921"
            ]
           ]
          },
          "colorway": [
           "#636efa",
           "#EF553B",
           "#00cc96",
           "#ab63fa",
           "#FFA15A",
           "#19d3f3",
           "#FF6692",
           "#B6E880",
           "#FF97FF",
           "#FECB52"
          ],
          "font": {
           "color": "#2a3f5f"
          },
          "geo": {
           "bgcolor": "white",
           "lakecolor": "white",
           "landcolor": "#E5ECF6",
           "showlakes": true,
           "showland": true,
           "subunitcolor": "white"
          },
          "hoverlabel": {
           "align": "left"
          },
          "hovermode": "closest",
          "mapbox": {
           "style": "light"
          },
          "paper_bgcolor": "white",
          "plot_bgcolor": "#E5ECF6",
          "polar": {
           "angularaxis": {
            "gridcolor": "white",
            "linecolor": "white",
            "ticks": ""
           },
           "bgcolor": "#E5ECF6",
           "radialaxis": {
            "gridcolor": "white",
            "linecolor": "white",
            "ticks": ""
           }
          },
          "scene": {
           "xaxis": {
            "backgroundcolor": "#E5ECF6",
            "gridcolor": "white",
            "gridwidth": 2,
            "linecolor": "white",
            "showbackground": true,
            "ticks": "",
            "zerolinecolor": "white"
           },
           "yaxis": {
            "backgroundcolor": "#E5ECF6",
            "gridcolor": "white",
            "gridwidth": 2,
            "linecolor": "white",
            "showbackground": true,
            "ticks": "",
            "zerolinecolor": "white"
           },
           "zaxis": {
            "backgroundcolor": "#E5ECF6",
            "gridcolor": "white",
            "gridwidth": 2,
            "linecolor": "white",
            "showbackground": true,
            "ticks": "",
            "zerolinecolor": "white"
           }
          },
          "shapedefaults": {
           "line": {
            "color": "#2a3f5f"
           }
          },
          "ternary": {
           "aaxis": {
            "gridcolor": "white",
            "linecolor": "white",
            "ticks": ""
           },
           "baxis": {
            "gridcolor": "white",
            "linecolor": "white",
            "ticks": ""
           },
           "bgcolor": "#E5ECF6",
           "caxis": {
            "gridcolor": "white",
            "linecolor": "white",
            "ticks": ""
           }
          },
          "title": {
           "x": 0.05
          },
          "xaxis": {
           "automargin": true,
           "gridcolor": "white",
           "linecolor": "white",
           "ticks": "",
           "title": {
            "standoff": 15
           },
           "zerolinecolor": "white",
           "zerolinewidth": 2
          },
          "yaxis": {
           "automargin": true,
           "gridcolor": "white",
           "linecolor": "white",
           "ticks": "",
           "title": {
            "standoff": 15
           },
           "zerolinecolor": "white",
           "zerolinewidth": 2
          }
         }
        },
        "title": {
         "text": "Country Frequency in DataFrame"
        }
       }
      },
      "image/png": "[encoded data removed]",
      "text/html": [
       "<div>                            <div id=\"6079ff64-e169-4c02-a2aa-8fddbe8469e8\" class=\"plotly-graph-div\" style=\"height:525px; width:100%;\"></div>            <script type=\"text/javascript\">                require([\"plotly\"], function(Plotly) {                    window.PLOTLYENV=window.PLOTLYENV || {};                                    if (document.getElementById(\"6079ff64-e169-4c02-a2aa-8fddbe8469e8\")) {                    Plotly.newPlot(                        \"6079ff64-e169-4c02-a2aa-8fddbe8469e8\",                        [{\"branchvalues\":\"total\",\"domain\":{\"x\":[0.0,1.0],\"y\":[0.0,1.0]},\"hovertemplate\":\"labels=%{label}<br>Count=%{value}<br>parent=%{parent}<br>id=%{id}<extra></extra>\",\"ids\":[\"Algeria\",\"Allemagne\",\"Argentina\",\"Australia\",\"Austria\",\"Belgium\",\"Brazil\",\"Cameroon\",\"Canada\",\"Chile\",\"Croatia\",\"Czech Republic\",\"Denmark\",\"Egypt\",\"Finland\",\"France\",\"Germany\",\"Hungary\",\"India\",\"Iraq\",\"Israel\",\"Italy\",\"Japan\",\"Kazakhstan\",\"Lebanon\",\"Madagascar\",\"Mexique\",\"Monaco\",\"Morocco\",\"Netherlands\",\"People's Republic of China\",\"Peru\",\"Poland\",\"Republic of Ireland\",\"Romania\",\"Russia\",\"Senegal\",\"Serbia\",\"Slovakia\",\"Slovenia\",\"South Africa\",\"Spain\",\"Sweden\",\"Switzerland\",\"Tunisia\",\"Turkey\",\"Ukraine\",\"United Kingdom\",\"United States of America\",\"Uruguay\",\"Vietnam\"],\"labels\":[\"Algeria\",\"Allemagne\",\"Argentina\",\"Australia\",\"Austria\",\"Belgium\",\"Brazil\",\"Cameroon\",\"Canada\",\"Chile\",\"Croatia\",\"Czech Republic\",\"Denmark\",\"Egypt\",\"Finland\",\"France\",\"Germany\",\"Hungary\",\"India\",\"Iraq\",\"Israel\",\"Italy\",\"Japan\",\"Kazakhstan\",\"Lebanon\",\"Madagascar\",\"Mexique\",\"Monaco\",\"Morocco\",\"Netherlands\",\"People's Republic of China\",\"Peru\",\"Poland\",\"Republic of Ireland\",\"Romania\",\"Russia\",\"Senegal\",\"Serbia\",\"Slovakia\",\"Slovenia\",\"South Africa\",\"Spain\",\"Sweden\",\"Switzerland\",\"Tunisia\",\"Turkey\",\"Ukraine\",\"United Kingdom\",\"United States of America\",\"Uruguay\",\"Vietnam\"],\"name\":\"\",\"parents\":[\"\",\"\",\"\",\"\",\"\",\"\",\"\",\"\",\"\",\"\",\"\",\"\",\"\",\"\",\"\",\"\",\"\",\"\",\"\",\"\",\"\",\"\",\"\",\"\",\"\",\"\",\"\",\"\",\"\",\"\",\"\",\"\",\"\",\"\",\"\",\"\",\"\",\"\",\"\",\"\",\"\",\"\",\"\",\"\",\"\",\"\",\"\",\"\",\"\",\"\",\"\"],\"values\":[10773,20,3171,18,232,599,4,36,9,31,6,1496,38,172,7,403777,7843,5,1,2,37,4405,3501,1,9,987,2,6,4423,737,1272,29,623,14,135,226,392,1,5,3,25,2146,1,1823,95,68,1392,886,3074347,8,11001],\"type\":\"icicle\"}],                        {\"template\":{\"data\":{\"histogram2dcontour\":[{\"type\":\"histogram2dcontour\",\"colorbar\":{\"outlinewidth\":0,\"ticks\":\"\"},\"colorscale\":[[0.0,\"#0d0887\"],[0.1111111111111111,\"#46039f\"],[0.2222222222222222,\"#7201a8\"],[0.3333333333333333,\"#9c179e\"],[0.4444444444444444,\"#bd3786\"],[0.5555555555555556,\"#d8576b\"],[0.6666666666666666,\"#ed7953\"],[0.7777777777777778,\"#fb9f3a\"],[0.8888888888888888,\"#fdca26\"],[1.0,\"#f0f921\"]]}],\"choropleth\":[{\"type\":\"choropleth\",\"colorbar\":{\"outlinewidth\":0,\"ticks\":\"\"}}],\"histogram2d\":[{\"type\":\"histogram2d\",\"colorbar\":{\"outlinewidth\":0,\"ticks\":\"\"},\"colorscale\":[[0.0,\"#0d0887\"],[0.1111111111111111,\"#46039f\"],[0.2222222222222222,\"#7201a8\"],[0.3333333333333333,\"#9c179e\"],[0.4444444444444444,\"#bd3786\"],[0.5555555555555556,\"#d8576b\"],[0.6666666666666666,\"#ed7953\"],[0.7777777777777778,\"#fb9f3a\"],[0.8888888888888888,\"#fdca26\"],[1.0,\"#f0f921\"]]}],\"heatmap\":[{\"type\":\"heatmap\",\"colorbar\":{\"outlinewidth\":0,\"ticks\":\"\"},\"colorscale\":[[0.0,\"#0d0887\"],[0.1111111111111111,\"#46039f\"],[0.2222222222222222,\"#7201a8\"],[0.3333333333333333,\"#9c179e\"],[0.4444444444444444,\"#bd3786\"],[0.5555555555555556,\"#d8576b\"],[0.6666666666666666,\"#ed7953\"],[0.7777777777777778,\"#fb9f3a\"],[0.8888888888888888,\"#fdca26\"],[1.0,\"#f0f921\"]]}],\"heatmapgl\":[{\"type\":\"heatmapgl\",\"colorbar\":{\"outlinewidth\":0,\"ticks\":\"\"},\"colorscale\":[[0.0,\"#0d0887\"],[0.1111111111111111,\"#46039f\"],[0.2222222222222222,\"#7201a8\"],[0.3333333333333333,\"#9c179e\"],[0.4444444444444444,\"#bd3786\"],[0.5555555555555556,\"#d8576b\"],[0.6666666666666666,\"#ed7953\"],[0.7777777777777778,\"#fb9f3a\"],[0.8888888888888888,\"#fdca26\"],[1.0,\"#f0f921\"]]}],\"contourcarpet\":[{\"type\":\"contourcarpet\",\"colorbar\":{\"outlinewidth\":0,\"ticks\":\"\"}}],\"contour\":[{\"type\":\"contour\",\"colorbar\":{\"outlinewidth\":0,\"ticks\":\"\"},\"colorscale\":[[0.0,\"#0d0887\"],[0.1111111111111111,\"#46039f\"],[0.2222222222222222,\"#7201a8\"],[0.3333333333333333,\"#9c179e\"],[0.4444444444444444,\"#bd3786\"],[0.5555555555555556,\"#d8576b\"],[0.6666666666666666,\"#ed7953\"],[0.7777777777777778,\"#fb9f3a\"],[0.8888888888888888,\"#fdca26\"],[1.0,\"#f0f921\"]]}],\"surface\":[{\"type\":\"surface\",\"colorbar\":{\"outlinewidth\":0,\"ticks\":\"\"},\"colorscale\":[[0.0,\"#0d0887\"],[0.1111111111111111,\"#46039f\"],[0.2222222222222222,\"#7201a8\"],[0.3333333333333333,\"#9c179e\"],[0.4444444444444444,\"#bd3786\"],[0.5555555555555556,\"#d8576b\"],[0.6666666666666666,\"#ed7953\"],[0.7777777777777778,\"#fb9f3a\"],[0.8888888888888888,\"#fdca26\"],[1.0,\"#f0f921\"]]}],\"mesh3d\":[{\"type\":\"mesh3d\",\"colorbar\":{\"outlinewidth\":0,\"ticks\":\"\"}}],\"scatter\":[{\"fillpattern\":{\"fillmode\":\"overlay\",\"size\":10,\"solidity\":0.2},\"type\":\"scatter\"}],\"parcoords\":[{\"type\":\"parcoords\",\"line\":{\"colorbar\":{\"outlinewidth\":0,\"ticks\":\"\"}}}],\"scatterpolargl\":[{\"type\":\"scatterpolargl\",\"marker\":{\"colorbar\":{\"outlinewidth\":0,\"ticks\":\"\"}}}],\"bar\":[{\"error_x\":{\"color\":\"#2a3f5f\"},\"error_y\":{\"color\":\"#2a3f5f\"},\"marker\":{\"line\":{\"color\":\"#E5ECF6\",\"width\":0.5},\"pattern\":{\"fillmode\":\"overlay\",\"size\":10,\"solidity\":0.2}},\"type\":\"bar\"}],\"scattergeo\":[{\"type\":\"scattergeo\",\"marker\":{\"colorbar\":{\"outlinewidth\":0,\"ticks\":\"\"}}}],\"scatterpolar\":[{\"type\":\"scatterpolar\",\"marker\":{\"colorbar\":{\"outlinewidth\":0,\"ticks\":\"\"}}}],\"histogram\":[{\"marker\":{\"pattern\":{\"fillmode\":\"overlay\",\"size\":10,\"solidity\":0.2}},\"type\":\"histogram\"}],\"scattergl\":[{\"type\":\"scattergl\",\"marker\":{\"colorbar\":{\"outlinewidth\":0,\"ticks\":\"\"}}}],\"scatter3d\":[{\"type\":\"scatter3d\",\"line\":{\"colorbar\":{\"outlinewidth\":0,\"ticks\":\"\"}},\"marker\":{\"colorbar\":{\"outlinewidth\":0,\"ticks\":\"\"}}}],\"scattermapbox\":[{\"type\":\"scattermapbox\",\"marker\":{\"colorbar\":{\"outlinewidth\":0,\"ticks\":\"\"}}}],\"scatterternary\":[{\"type\":\"scatterternary\",\"marker\":{\"colorbar\":{\"outlinewidth\":0,\"ticks\":\"\"}}}],\"scattercarpet\":[{\"type\":\"scattercarpet\",\"marker\":{\"colorbar\":{\"outlinewidth\":0,\"ticks\":\"\"}}}],\"carpet\":[{\"aaxis\":{\"endlinecolor\":\"#2a3f5f\",\"gridcolor\":\"white\",\"linecolor\":\"white\",\"minorgridcolor\":\"white\",\"startlinecolor\":\"#2a3f5f\"},\"baxis\":{\"endlinecolor\":\"#2a3f5f\",\"gridcolor\":\"white\",\"linecolor\":\"white\",\"minorgridcolor\":\"white\",\"startlinecolor\":\"#2a3f5f\"},\"type\":\"carpet\"}],\"table\":[{\"cells\":{\"fill\":{\"color\":\"#EBF0F8\"},\"line\":{\"color\":\"white\"}},\"header\":{\"fill\":{\"color\":\"#C8D4E3\"},\"line\":{\"color\":\"white\"}},\"type\":\"table\"}],\"barpolar\":[{\"marker\":{\"line\":{\"color\":\"#E5ECF6\",\"width\":0.5},\"pattern\":{\"fillmode\":\"overlay\",\"size\":10,\"solidity\":0.2}},\"type\":\"barpolar\"}],\"pie\":[{\"automargin\":true,\"type\":\"pie\"}]},\"layout\":{\"autotypenumbers\":\"strict\",\"colorway\":[\"#636efa\",\"#EF553B\",\"#00cc96\",\"#ab63fa\",\"#FFA15A\",\"#19d3f3\",\"#FF6692\",\"#B6E880\",\"#FF97FF\",\"#FECB52\"],\"font\":{\"color\":\"#2a3f5f\"},\"hovermode\":\"closest\",\"hoverlabel\":{\"align\":\"left\"},\"paper_bgcolor\":\"white\",\"plot_bgcolor\":\"#E5ECF6\",\"polar\":{\"bgcolor\":\"#E5ECF6\",\"angularaxis\":{\"gridcolor\":\"white\",\"linecolor\":\"white\",\"ticks\":\"\"},\"radialaxis\":{\"gridcolor\":\"white\",\"linecolor\":\"white\",\"ticks\":\"\"}},\"ternary\":{\"bgcolor\":\"#E5ECF6\",\"aaxis\":{\"gridcolor\":\"white\",\"linecolor\":\"white\",\"ticks\":\"\"},\"baxis\":{\"gridcolor\":\"white\",\"linecolor\":\"white\",\"ticks\":\"\"},\"caxis\":{\"gridcolor\":\"white\",\"linecolor\":\"white\",\"ticks\":\"\"}},\"coloraxis\":{\"colorbar\":{\"outlinewidth\":0,\"ticks\":\"\"}},\"colorscale\":{\"sequential\":[[0.0,\"#0d0887\"],[0.1111111111111111,\"#46039f\"],[0.2222222222222222,\"#7201a8\"],[0.3333333333333333,\"#9c179e\"],[0.4444444444444444,\"#bd3786\"],[0.5555555555555556,\"#d8576b\"],[0.6666666666666666,\"#ed7953\"],[0.7777777777777778,\"#fb9f3a\"],[0.8888888888888888,\"#fdca26\"],[1.0,\"#f0f921\"]],\"sequentialminus\":[[0.0,\"#0d0887\"],[0.1111111111111111,\"#46039f\"],[0.2222222222222222,\"#7201a8\"],[0.3333333333333333,\"#9c179e\"],[0.4444444444444444,\"#bd3786\"],[0.5555555555555556,\"#d8576b\"],[0.6666666666666666,\"#ed7953\"],[0.7777777777777778,\"#fb9f3a\"],[0.8888888888888888,\"#fdca26\"],[1.0,\"#f0f921\"]],\"diverging\":[[0,\"#8e0152\"],[0.1,\"#c51b7d\"],[0.2,\"#de77ae\"],[0.3,\"#f1b6da\"],[0.4,\"#fde0ef\"],[0.5,\"#f7f7f7\"],[0.6,\"#e6f5d0\"],[0.7,\"#b8e186\"],[0.8,\"#7fbc41\"],[0.9,\"#4d9221\"],[1,\"#276419\"]]},\"xaxis\":{\"gridcolor\":\"white\",\"linecolor\":\"white\",\"ticks\":\"\",\"title\":{\"standoff\":15},\"zerolinecolor\":\"white\",\"automargin\":true,\"zerolinewidth\":2},\"yaxis\":{\"gridcolor\":\"white\",\"linecolor\":\"white\",\"ticks\":\"\",\"title\":{\"standoff\":15},\"zerolinecolor\":\"white\",\"automargin\":true,\"zerolinewidth\":2},\"scene\":{\"xaxis\":{\"backgroundcolor\":\"#E5ECF6\",\"gridcolor\":\"white\",\"linecolor\":\"white\",\"showbackground\":true,\"ticks\":\"\",\"zerolinecolor\":\"white\",\"gridwidth\":2},\"yaxis\":{\"backgroundcolor\":\"#E5ECF6\",\"gridcolor\":\"white\",\"linecolor\":\"white\",\"showbackground\":true,\"ticks\":\"\",\"zerolinecolor\":\"white\",\"gridwidth\":2},\"zaxis\":{\"backgroundcolor\":\"#E5ECF6\",\"gridcolor\":\"white\",\"linecolor\":\"white\",\"showbackground\":true,\"ticks\":\"\",\"zerolinecolor\":\"white\",\"gridwidth\":2}},\"shapedefaults\":{\"line\":{\"color\":\"#2a3f5f\"}},\"annotationdefaults\":{\"arrowcolor\":\"#2a3f5f\",\"arrowhead\":0,\"arrowwidth\":1},\"geo\":{\"bgcolor\":\"white\",\"landcolor\":\"#E5ECF6\",\"subunitcolor\":\"white\",\"showland\":true,\"showlakes\":true,\"lakecolor\":\"white\"},\"title\":{\"x\":0.05},\"mapbox\":{\"style\":\"light\"}}},\"legend\":{\"tracegroupgap\":0},\"title\":{\"text\":\"Country Frequency in DataFrame\"}},                        {\"responsive\": true}                    ).then(function(){\n",
       "                            \n",
       "var gd = document.getElementById('6079ff64-e169-4c02-a2aa-8fddbe8469e8');\n",
       "var x = new MutationObserver(function (mutations, observer) {{\n",
       "        var display = window.getComputedStyle(gd).display;\n",
       "        if (!display || display === 'none') {{\n",
       "            console.log([gd, 'removed!']);\n",
       "            Plotly.purge(gd);\n",
       "            observer.disconnect();\n",
       "        }}\n",
       "}});\n",
       "\n",
       "// Listen for the removal of the full notebook cells\n",
       "var notebookContainer = gd.closest('#notebook-container');\n",
       "if (notebookContainer) {{\n",
       "    x.observe(notebookContainer, {childList: true});\n",
       "}}\n",
       "\n",
       "// Listen for the clearing of the current output cell\n",
       "var outputEl = gd.closest('.output');\n",
       "if (outputEl) {{\n",
       "    x.observe(outputEl, {childList: true});\n",
       "}}\n",
       "\n",
       "                        })                };                });            </script>        </div>"
      ]
     },
     "metadata": {},
     "output_type": "display_data"
    }
   ],
   "source": [
    "country_counts = df_merged['Country'].value_counts().reset_index()\n",
    "country_counts.columns = ['Country', 'Count']\n",
    "\n",
    "# Create the Icicle Chart\n",
    "fig = px.icicle(country_counts, path=['Country'], values='Count', \n",
    "                title='Country Frequency in DataFrame')\n",
    "\n",
    "# Show the chart\n",
    "fig.show()"
   ]
  },
  {
   "cell_type": "markdown",
   "id": "473b7075-8404-4d45-b026-0dc9357d09a3",
   "metadata": {},
   "source": [
    "### Journal type"
   ]
  },
  {
   "cell_type": "code",
   "execution_count": 24,
   "id": "dc3ec15b-4a3c-4698-8e03-5d6a2d0302d5",
   "metadata": {},
   "outputs": [
    {
     "data": {
      "text/plain": [
       "83"
      ]
     },
     "execution_count": 24,
     "metadata": {},
     "output_type": "execute_result"
    }
   ],
   "source": [
    "df_merged[\"Journal Type\"].nunique()"
   ]
  },
  {
   "cell_type": "markdown",
   "id": "745cedba-3f3f-431f-b88b-28eb2d6647c7",
   "metadata": {},
   "source": [
    "### Earliest and latest date"
   ]
  },
  {
   "cell_type": "code",
   "execution_count": 43,
   "id": "0581157c-53d6-4af1-8f6d-89cdbc1fe276",
   "metadata": {},
   "outputs": [],
   "source": [
    "df_merged['normalized_date'] =  pd.to_datetime(df_merged['normalized_date'])"
   ]
  },
  {
   "cell_type": "code",
   "execution_count": 44,
   "id": "6e0d7664-1e18-47d4-a5ea-289009b57470",
   "metadata": {},
   "outputs": [
    {
     "data": {
      "text/plain": [
       "Timestamp('1801-12-22 00:00:00')"
      ]
     },
     "execution_count": 44,
     "metadata": {},
     "output_type": "execute_result"
    }
   ],
   "source": [
    "df_merged['normalized_date'].min()"
   ]
  },
  {
   "cell_type": "code",
   "execution_count": 45,
   "id": "86297431-73a1-4c5a-b882-d051ea59287f",
   "metadata": {},
   "outputs": [
    {
     "data": {
      "text/plain": [
       "Timestamp('2021-12-01 00:00:00')"
      ]
     },
     "execution_count": 45,
     "metadata": {},
     "output_type": "execute_result"
    }
   ],
   "source": [
    "df_merged['normalized_date'].max()"
   ]
  },
  {
   "cell_type": "markdown",
   "id": "97d41759-aa93-42a1-9dc9-e62805d84f1f",
   "metadata": {},
   "source": [
    "### journal per period"
   ]
  },
  {
   "cell_type": "code",
   "execution_count": null,
   "id": "f096957d-a4ab-49b6-8d11-e1c10dcb71cb",
   "metadata": {},
   "outputs": [],
   "source": []
  },
  {
   "cell_type": "code",
   "execution_count": null,
   "id": "14d154df-6a9f-48ae-8cd5-e069d905ad5a",
   "metadata": {},
   "outputs": [],
   "source": []
  }
 ],
 "metadata": {
  "kernelspec": {
   "display_name": "Python 3 (ipykernel)",
   "language": "python",
   "name": "python3"
  },
  "language_info": {
   "codemirror_mode": {
    "name": "ipython",
    "version": 3
   },
   "file_extension": ".py",
   "mimetype": "text/x-python",
   "name": "python",
   "nbconvert_exporter": "python",
   "pygments_lexer": "ipython3",
   "version": "3.10.8"
  }
 },
 "nbformat": 4,
 "nbformat_minor": 5
}
