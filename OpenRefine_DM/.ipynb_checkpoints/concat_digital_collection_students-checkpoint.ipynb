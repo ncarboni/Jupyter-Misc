{
 "cells": [
  {
   "cell_type": "code",
   "execution_count": null,
   "id": "f1372bf4-ccb6-4143-890d-8114c30c90a1",
   "metadata": {},
   "outputs": [],
   "source": [
    "import os\n",
    "import pandas as pd\n",
    "import warnings\n",
    "import glob"
   ]
  },
  {
   "cell_type": "markdown",
   "id": "8c0f66cc",
   "metadata": {},
   "source": [
    "# Use the following code to merge two or more file CSV"
   ]
  },
  {
   "cell_type": "code",
   "execution_count": null,
   "id": "85d558b9-a5a4-4448-9e96-d476ac8b7bd5",
   "metadata": {},
   "outputs": [],
   "source": [
    "path = r'/Users/carboni/Downloads/example' # insert your path\n",
    "all_files = glob.glob(path + \"/*.csv\")\n",
    "\n",
    "li = []\n",
    "\n",
    "for filename in all_files:\n",
    "    df = pd.read_csv(filename, index_col=None, header=0, delimiter=',')\n",
    "    li.append(df)\n",
    "\n",
    "df2 = pd.concat(li, axis=0, ignore_index=True)"
   ]
  },
  {
   "cell_type": "markdown",
   "id": "fe310420",
   "metadata": {},
   "source": [
    "# Let's visualise the result \n",
    "In the command above we stored all the table in a dataframe, which we can visualise using the command `df2`. Alternatevely, if we want to visualise only a the few first lines of the dataframe we can use the command \n",
    "`df.head()`\n",
    "`df.head(20)` to visualize 20 lines\n",
    "`df.head(25)` to visualize 25 lines etc."
   ]
  },
  {
   "cell_type": "code",
   "execution_count": null,
   "id": "1cde226f-96e4-4b2f-a991-cb529858daf2",
   "metadata": {},
   "outputs": [],
   "source": [
    "df2"
   ]
  },
  {
   "cell_type": "markdown",
   "id": "df7d6576-eddb-4483-b82a-724df5017b09",
   "metadata": {
    "tags": []
   },
   "source": [
    "## Clean some results\n",
    "It could be useful to exclude \"Turner, Joseph Mallord William\" not to skew the data too much towards UK (already overrepresented)"
   ]
  },
  {
   "cell_type": "code",
   "execution_count": null,
   "id": "df558189-79be-4631-aee7-502628200841",
   "metadata": {},
   "outputs": [],
   "source": [
    "df_clean = df2[df2[\"artist\"].str.contains(\"Turner, Joseph Mallord William\") == False]"
   ]
  },
  {
   "cell_type": "markdown",
   "id": "354c8390",
   "metadata": {
    "tags": []
   },
   "source": [
    "## Save the file in your computer"
   ]
  },
  {
   "cell_type": "code",
   "execution_count": null,
   "id": "55b5fed9-f556-409e-a4cc-d949a9c6a000",
   "metadata": {},
   "outputs": [],
   "source": [
    "df_clean.to_csv('combined.csv', index=False)"
   ]
  },
  {
   "cell_type": "markdown",
   "id": "60565522-0255-442f-8a49-83363bd6f060",
   "metadata": {},
   "source": [
    "## Existing df\n",
    "\n",
    "Use this set of instruction is you have multiple dataframe already loaded with python and you want to combine them together. "
   ]
  },
  {
   "cell_type": "markdown",
   "id": "e3fa855d",
   "metadata": {},
   "source": [
    "The example `df1 = pd.read_csv(\"/Users/carboni/Downloads/style/cubism.csv\")`  load a CSV file from your computer to a dataframe in python. We use a variable to identify it, for example \"df1\" or \"df2\", but it could easily be \"table\", \"data\" or anything else."
   ]
  },
  {
   "cell_type": "code",
   "execution_count": null,
   "id": "c505ca83-b8ba-4297-8531-f4f02894c7f4",
   "metadata": {},
   "outputs": [],
   "source": [
    "df1 = pd.read_csv(\"/Users/carboni/Downloads/style/cubism.csv\") "
   ]
  },
  {
   "cell_type": "code",
   "execution_count": null,
   "id": "4b04cc56-fcf3-498d-97e7-00d787a058b9",
   "metadata": {},
   "outputs": [],
   "source": [
    "df2 = pd.read_csv(\"/Users/carboni/Downloads/style/impressionism.csv\") "
   ]
  },
  {
   "cell_type": "markdown",
   "id": "8c7ee048",
   "metadata": {},
   "source": [
    "## Let's merge the two dataframe"
   ]
  },
  {
   "cell_type": "code",
   "execution_count": null,
   "id": "52dbe2d2-5642-4cf0-814a-8bf2985217e1",
   "metadata": {},
   "outputs": [],
   "source": [
    "df_merged = pd.concat([df1, df2], ignore_index=True, sort=False)"
   ]
  },
  {
   "cell_type": "code",
   "execution_count": null,
   "id": "90dea6d6-a261-4e8b-aa1e-ab81b113f951",
   "metadata": {},
   "outputs": [],
   "source": [
    "df_merge.head()"
   ]
  },
  {
   "cell_type": "code",
   "execution_count": null,
   "id": "109ef48e-c23f-4358-ac41-0210962040cc",
   "metadata": {},
   "outputs": [],
   "source": [
    "df_merged.to_csv('merged.csv', index=False)"
   ]
  }
 ],
 "metadata": {
  "kernelspec": {
   "display_name": "Python 3 (ipykernel)",
   "language": "python",
   "name": "python3"
  },
  "language_info": {
   "codemirror_mode": {
    "name": "ipython",
    "version": 3
   },
   "file_extension": ".py",
   "mimetype": "text/x-python",
   "name": "python",
   "nbconvert_exporter": "python",
   "pygments_lexer": "ipython3",
   "version": "3.8.13"
  }
 },
 "nbformat": 4,
 "nbformat_minor": 5
}
