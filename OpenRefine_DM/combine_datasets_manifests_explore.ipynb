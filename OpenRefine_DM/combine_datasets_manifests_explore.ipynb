{
 "cells": [
  {
   "cell_type": "markdown",
   "id": "1873ffbe-4ab9-4c21-89fc-9c847824b516",
   "metadata": {},
   "source": [
    "# Combine datasets for Explore"
   ]
  },
  {
   "cell_type": "code",
   "execution_count": 10,
   "id": "7589327f-7140-431c-907f-53a8439ccf94",
   "metadata": {},
   "outputs": [],
   "source": [
    "import pandas as pd\n",
    "import os\n",
    "import glob"
   ]
  },
  {
   "cell_type": "code",
   "execution_count": 11,
   "id": "4b35ed03-e205-41c2-a02c-d4885095eb82",
   "metadata": {},
   "outputs": [],
   "source": [
    "keep_col = ['Media URL']"
   ]
  },
  {
   "cell_type": "code",
   "execution_count": 12,
   "id": "fd45a168-2641-47d0-b626-96fd275586f2",
   "metadata": {},
   "outputs": [],
   "source": [
    "folder_path = '/Users/carboni/Documents/UNIGE/pynotebook/OpenRefine_fusion_Local/combined_datasets_explore'"
   ]
  },
  {
   "cell_type": "code",
   "execution_count": 13,
   "id": "554c96fa-ff09-4d67-92c2-9b3bfec91366",
   "metadata": {},
   "outputs": [],
   "source": [
    "all_files = glob.glob(folder_path + \"/*.csv\")\n",
    "\n",
    "li = []\n",
    "\n",
    "for filename in all_files:\n",
    "    df = pd.read_csv(filename, index_col=None, header=0, delimiter=',', low_memory=False)\n",
    "    df = df[keep_col]\n",
    "    df['source'] = filename.split(\"/\")[-1]\n",
    "    li.append(df)\n",
    "\n",
    "df_merged = pd.concat(li, axis=0, ignore_index=True)"
   ]
  },
  {
   "cell_type": "code",
   "execution_count": 14,
   "id": "c5013398-fc81-4735-92b0-f48221a330b4",
   "metadata": {},
   "outputs": [],
   "source": [
    "df_merged.to_csv('merged_combined_manifests.csv', index=False)"
   ]
  },
  {
   "cell_type": "code",
   "execution_count": 17,
   "id": "764b929a-79de-4ee1-960d-60b69653dc4c",
   "metadata": {
    "tags": []
   },
   "outputs": [],
   "source": [
    "# df_merged = df_merged.dropna()"
   ]
  },
  {
   "cell_type": "code",
   "execution_count": 18,
   "id": "b1650d95-3732-4497-bd0c-ee953de3373a",
   "metadata": {},
   "outputs": [
    {
     "name": "stdout",
     "output_type": "stream",
     "text": [
      "Text file 'manifests.txt' created.\n"
     ]
    }
   ],
   "source": [
    "url_string = ' '.join(df_merged['Media URL'].astype(str))\n",
    "\n",
    "# Write the string to a text file\n",
    "with open('manifests.txt', 'w') as file:\n",
    "    file.write(url_string)\n",
    "\n",
    "print(\"Text file 'manifests.txt' created.\")"
   ]
  },
  {
   "cell_type": "markdown",
   "id": "a7b3b78d-458d-461a-8d91-a7357616bdc8",
   "metadata": {},
   "source": [
    "## Single file"
   ]
  },
  {
   "cell_type": "code",
   "execution_count": 3,
   "id": "7212a16d-eaa6-4ade-898d-1c5c48ecb342",
   "metadata": {},
   "outputs": [],
   "source": [
    "df_single = pd.read_csv('/Users/carboni/Downloads/Slovenia-magazines-with-iiif-manifest-csv.tsv', low_memory=False)"
   ]
  },
  {
   "cell_type": "code",
   "execution_count": 4,
   "id": "6dd45bbe-f863-42c1-95fe-0e0dbf5ed62b",
   "metadata": {},
   "outputs": [],
   "source": [
    "url_string = ' '.join(df_single['Media URL'].astype(str))"
   ]
  },
  {
   "cell_type": "code",
   "execution_count": 5,
   "id": "cd158b9c-dd48-4df2-8e84-42c370cf387c",
   "metadata": {},
   "outputs": [
    {
     "name": "stdout",
     "output_type": "stream",
     "text": [
      "Text file 'manifests.txt' created.\n"
     ]
    }
   ],
   "source": [
    "# Write the string to a text file\n",
    "with open('manifests_slovenia.txt', 'w') as file:\n",
    "    file.write(url_string)\n",
    "\n",
    "print(\"Text file 'manifests.txt' created.\")"
   ]
  }
 ],
 "metadata": {
  "kernelspec": {
   "display_name": "Python 3 (ipykernel)",
   "language": "python",
   "name": "python3"
  },
  "language_info": {
   "codemirror_mode": {
    "name": "ipython",
    "version": 3
   },
   "file_extension": ".py",
   "mimetype": "text/x-python",
   "name": "python",
   "nbconvert_exporter": "python",
   "pygments_lexer": "ipython3",
   "version": "3.10.8"
  }
 },
 "nbformat": 4,
 "nbformat_minor": 5
}
