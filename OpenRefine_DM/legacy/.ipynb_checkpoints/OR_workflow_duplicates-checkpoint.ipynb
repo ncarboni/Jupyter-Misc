{
 "cells": [
  {
   "cell_type": "markdown",
   "id": "038f8a7d-def4-4684-b233-91ce357bdf1c",
   "metadata": {
    "tags": []
   },
   "source": [
    "# Preparation of metadata for cluster walk"
   ]
  },
  {
   "cell_type": "markdown",
   "id": "834f09bd-8972-4c7a-8e5b-710415c3b2f1",
   "metadata": {},
   "source": [
    "This notebook requires the presence of the [Openrefine Client](https://github.com/opencultureconsulting/openrefine-client) on the same directory as the notebook itself. \n",
    "The process goes along these steps:\n",
    "1. Download files from Visual Contagion Openrefine instance\n",
    "2. Extract necessary columns for Cluster Walk\n",
    "3. Combining the files into a single CSV\n",
    "4. Filter by date (>1870)\n",
    "5. Export as CSV"
   ]
  },
  {
   "cell_type": "code",
   "execution_count": 1,
   "id": "c28eaa4e-9677-479f-b6dc-db8006e51949",
   "metadata": {},
   "outputs": [],
   "source": [
    "import pandas as pd\n",
    "import os\n",
    "import time"
   ]
  },
  {
   "cell_type": "code",
   "execution_count": null,
   "id": "3e5633c0-d983-4a92-85c2-8040be1ff3ce",
   "metadata": {},
   "outputs": [],
   "source": [
    "!.\\openrefine-client_0-3-10_windows.exe --host 129.194.213.75 --export 1878246014108 --output backup/Backup_2022_02_03_PDF_cleaned.csv\n",
    "!.\\openrefine-client_0-3-10_windows.exe --host 129.194.213.75 --export 2624032615455 --output backup/CORPUS_wikidata_visual_items_post_1870.csv\n",
    "!.\\openrefine-client_0-3-10_windows.exe --host 129.194.213.75 --export 2370544250568 --output backup/BackupCBT_2022_02_03_IIIF_Only.csv\n",
    "!.\\openrefine-client_0-3-10_windows.exe --host 129.194.213.75 --export 1671940401029 --output backup/BNF_periodic_explore.csv\n",
    "!.\\openrefine-client_0-3-10_windows.exe --host 129.194.213.75 --export 1650201645555 --output backup/Venus_Explore.csv\n",
    "!.\\openrefine-client_0-3-10_windows.exe --host 129.194.213.75 --export 2332843665824 --output backup/Princeton_Blue_Mountain.csv\n",
    "!.\\openrefine-client_0-3-10_windows.exe --host 129.194.213.75 --export 1688128007940 --output backup/Journaux_Est-Asiatique.csv"
   ]
  },
  {
   "cell_type": "code",
   "execution_count": null,
   "id": "dfddcbdf-77dd-4a2f-9211-d04ff71c5f33",
   "metadata": {},
   "outputs": [],
   "source": [
    "!docker run --rm --platform linux/amd64 --network=host -v ${PWD}:/data:z felixlohmeier/openrefine-client:v0.3.10 --host 129.194.213.75 -P 80 --export 2089200999491 --output backup/BNF_periodic_explore_analysed.csv"
   ]
  },
  {
   "cell_type": "code",
   "execution_count": null,
   "id": "6b469a5a-67b9-4035-9322-bd7f525b54a2",
   "metadata": {},
   "outputs": [],
   "source": [
    "!docker run --rm --platform linux/amd64 --network=host -v ${PWD}:/data:z felixlohmeier/openrefine-client:v0.3.10 --host 129.194.213.75 -P 80 --export   2047666291789 --output backup/LOC/LOC_data_split_5.csv\n",
    "!docker run --rm --platform linux/amd64 --network=host -v ${PWD}:/data:z felixlohmeier/openrefine-client:v0.3.10 --host 129.194.213.75 -P 80 --export   1820125999201 --output backup/LOC/LOC_data_split_35.csv\n",
    "!docker run --rm --platform linux/amd64 --network=host -v ${PWD}:/data:z felixlohmeier/openrefine-client:v0.3.10 --host 129.194.213.75 -P 80 --export   2028488326813 --output backup/LOC/LOC_data_split_3.csv\n",
    "!docker run --rm --platform linux/amd64 --network=host -v ${PWD}:/data:z felixlohmeier/openrefine-client:v0.3.10 --host 129.194.213.75 -P 80 --export   2216520225436 --output backup/LOC/LOC_data_split_24.csv\n",
    "!docker run --rm --platform linux/amd64 --network=host -v ${PWD}:/data:z felixlohmeier/openrefine-client:v0.3.10 --host 129.194.213.75 -P 80 --export   1878390445452 --output backup/LOC/LOC_data_split_19.csv\n",
    "!docker run --rm --platform linux/amd64 --network=host -v ${PWD}:/data:z felixlohmeier/openrefine-client:v0.3.10 --host 129.194.213.75 -P 80 --export   2501284133125 --output backup/LOC/LOC_data_split_13.csv\n",
    "!docker run --rm --platform linux/amd64 --network=host -v ${PWD}:/data:z felixlohmeier/openrefine-client:v0.3.10 --host 129.194.213.75 -P 80 --export   1925298038214 --output backup/LOC/LOC_data_split_4.csv\n",
    "!docker run --rm --platform linux/amd64 --network=host -v ${PWD}:/data:z felixlohmeier/openrefine-client:v0.3.10 --host 129.194.213.75 -P 80 --export   1901822211299 --output backup/LOC/LOC_data_split_34.csv\n",
    "!docker run --rm --platform linux/amd64 --network=host -v ${PWD}:/data:z felixlohmeier/openrefine-client:v0.3.10 --host 129.194.213.75 -P 80 --export   2073550312956 --output backup/LOC/LOC_data_split_29.csv\n",
    "!docker run --rm --platform linux/amd64 --network=host -v ${PWD}:/data:z felixlohmeier/openrefine-client:v0.3.10 --host 129.194.213.75 -P 80 --export   2621633610759 --output backup/LOC/LOC_data_split_23.csv\n",
    "!docker run --rm --platform linux/amd64 --network=host -v ${PWD}:/data:z felixlohmeier/openrefine-client:v0.3.10 --host 129.194.213.75 -P 80 --export   1670541632378 --output backup/LOC/LOC_data_split_18.csv\n",
    "!docker run --rm --platform linux/amd64 --network=host -v ${PWD}:/data:z felixlohmeier/openrefine-client:v0.3.10 --host 129.194.213.75 -P 80 --export   2243116747353 --output backup/LOC/LOC_data_split_12.csv\n",
    "!docker run --rm --platform linux/amd64 --network=host -v ${PWD}:/data:z felixlohmeier/openrefine-client:v0.3.10 --host 129.194.213.75 -P 80 --export   2353142965960 --output backup/LOC/LOC_data_split_9.csv\n",
    "!docker run --rm --platform linux/amd64 --network=host -v ${PWD}:/data:z felixlohmeier/openrefine-client:v0.3.10 --host 129.194.213.75 -P 80 --export   2531972604041 --output backup/LOC/LOC_data_split_39.csv\n",
    "!docker run --rm --platform linux/amd64 --network=host -v ${PWD}:/data:z felixlohmeier/openrefine-client:v0.3.10 --host 129.194.213.75 -P 80 --export   1874398366264 --output backup/LOC/LOC_data_split_33.csv\n",
    "!docker run --rm --platform linux/amd64 --network=host -v ${PWD}:/data:z felixlohmeier/openrefine-client:v0.3.10 --host 129.194.213.75 -P 80 --export   2467785227200 --output backup/LOC/LOC_data_split_28.csv\n",
    "!docker run --rm --platform linux/amd64 --network=host -v ${PWD}:/data:z felixlohmeier/openrefine-client:v0.3.10 --host 129.194.213.75 -P 80 --export   2028442026853 --output backup/LOC/LOC_data_split_22.csv\n",
    "!docker run --rm --platform linux/amd64 --network=host -v ${PWD}:/data:z felixlohmeier/openrefine-client:v0.3.10 --host 129.194.213.75 -P 80 --export   1805325912958 --output backup/LOC/LOC_data_split_17.csv\n",
    "!docker run --rm --platform linux/amd64 --network=host -v ${PWD}:/data:z felixlohmeier/openrefine-client:v0.3.10 --host 129.194.213.75 -P 80 --export   1711460813015 --output backup/LOC/LOC_data_split_11.csv\n",
    "!docker run --rm --platform linux/amd64 --network=host -v ${PWD}:/data:z felixlohmeier/openrefine-client:v0.3.10 --host 129.194.213.75 -P 80 --export   1687608985639 --output backup/LOC/LOC_data_split_8.csv\n",
    "!docker run --rm --platform linux/amd64 --network=host -v ${PWD}:/data:z felixlohmeier/openrefine-client:v0.3.10 --host 129.194.213.75 -P 80 --export   2133720217430 --output backup/LOC/LOC_data_split_38.csv\n",
    "!docker run --rm --platform linux/amd64 --network=host -v ${PWD}:/data:z felixlohmeier/openrefine-client:v0.3.10 --host 129.194.213.75 -P 80 --export   2344287920881 --output backup/LOC/LOC_data_split_32.csv\n",
    "!docker run --rm --platform linux/amd64 --network=host -v ${PWD}:/data:z felixlohmeier/openrefine-client:v0.3.10 --host 129.194.213.75 -P 80 --export   1908931908083 --output backup/LOC/LOC_data_split_27.csv\n",
    "!docker run --rm --platform linux/amd64 --network=host -v ${PWD}:/data:z felixlohmeier/openrefine-client:v0.3.10 --host 129.194.213.75 -P 80 --export   1824069689667 --output backup/LOC/LOC_data_split_21.csv\n",
    "!docker run --rm --platform linux/amd64 --network=host -v ${PWD}:/data:z felixlohmeier/openrefine-client:v0.3.10 --host 129.194.213.75 -P 80 --export   2541207265824 --output backup/LOC/LOC_data_split_16.csv\n",
    "!docker run --rm --platform linux/amd64 --network=host -v ${PWD}:/data:z felixlohmeier/openrefine-client:v0.3.10 --host 129.194.213.75 -P 80 --export   1930760934037 --output backup/LOC/LOC_data_split_10.csv\n",
    "!docker run --rm --platform linux/amd64 --network=host -v ${PWD}:/data:z felixlohmeier/openrefine-client:v0.3.10 --host 129.194.213.75 -P 80 --export   1977014112356 --output backup/LOC/LOC_data_split_7.csv\n",
    "!docker run --rm --platform linux/amd64 --network=host -v ${PWD}:/data:z felixlohmeier/openrefine-client:v0.3.10 --host 129.194.213.75 -P 80 --export   2009538018475 --output backup/LOC/LOC_data_split_37.csv\n",
    "!docker run --rm --platform linux/amd64 --network=host -v ${PWD}:/data:z felixlohmeier/openrefine-client:v0.3.10 --host 129.194.213.75 -P 80 --export   1832323915625 --output backup/LOC/LOC_data_split_31.csv\n",
    "!docker run --rm --platform linux/amd64 --network=host -v ${PWD}:/data:z felixlohmeier/openrefine-client:v0.3.10 --host 129.194.213.75 -P 80 --export   2210123552025 --output backup/LOC/LOC_data_split_26.csv\n",
    "!docker run --rm --platform linux/amd64 --network=host -v ${PWD}:/data:z felixlohmeier/openrefine-client:v0.3.10 --host 129.194.213.75 -P 80 --export   2507754320644 --output backup/LOC/LOC_data_split_20.csv\n",
    "!docker run --rm --platform linux/amd64 --network=host -v ${PWD}:/data:z felixlohmeier/openrefine-client:v0.3.10 --host 129.194.213.75 -P 80 --export   2130702052855 --output backup/LOC/LOC_data_split_15.csv\n",
    "!docker run --rm --platform linux/amd64 --network=host -v ${PWD}:/data:z felixlohmeier/openrefine-client:v0.3.10 --host 129.194.213.75 -P 80 --export   2203115725404 --output backup/LOC/LOC_data_split_1.csv\n",
    "!docker run --rm --platform linux/amd64 --network=host -v ${PWD}:/data:z felixlohmeier/openrefine-client:v0.3.10 --host 129.194.213.75 -P 80 --export   1911434304172 --output backup/LOC/LOC_data_split_6.csv\n",
    "!docker run --rm --platform linux/amd64 --network=host -v ${PWD}:/data:z felixlohmeier/openrefine-client:v0.3.10 --host 129.194.213.75 -P 80 --export   2295365687687 --output backup/LOC/LOC_data_split_36.csv\n",
    "!docker run --rm --platform linux/amd64 --network=host -v ${PWD}:/data:z felixlohmeier/openrefine-client:v0.3.10 --host 129.194.213.75 -P 80 --export   2537031598668 --output backup/LOC/LOC_data_split_30.csv\n",
    "!docker run --rm --platform linux/amd64 --network=host -v ${PWD}:/data:z felixlohmeier/openrefine-client:v0.3.10 --host 129.194.213.75 -P 80 --export   2280442840422 --output backup/LOC/LOC_data_split_25.csv\n",
    "!docker run --rm --platform linux/amd64 --network=host -v ${PWD}:/data:z felixlohmeier/openrefine-client:v0.3.10 --host 129.194.213.75 -P 80 --export   2258596404211 --output backup/LOC/LOC_data_split_2.csv\n",
    "!docker run --rm --platform linux/amd64 --network=host -v ${PWD}:/data:z felixlohmeier/openrefine-client:v0.3.10 --host 129.194.213.75 -P 80 --export   2551555514629 --output backup/LOC/LOC_data_split_14.csv\n",
    "!docker run --rm --platform linux/amd64 --network=host -v ${PWD}:/data:z felixlohmeier/openrefine-client:v0.3.10 --host 129.194.213.75 -P 80 --export   2137270911378 --output backup/LOC/LOC_data_split_0.csv"
   ]
  },
  {
   "cell_type": "markdown",
   "id": "6eeb9b33-1523-4b47-882c-8b90b48a1531",
   "metadata": {
    "tags": []
   },
   "source": [
    "## Combining"
   ]
  },
  {
   "cell_type": "code",
   "execution_count": 2,
   "id": "fd266360-24cb-4a53-95b6-c554b3951309",
   "metadata": {},
   "outputs": [],
   "source": [
    "keep_col = ['Media URL','City','Country','wkt', 'normalized_date', 'Title', 'Journal Type']"
   ]
  },
  {
   "cell_type": "code",
   "execution_count": 3,
   "id": "aff36de6-6a2e-41ff-9abb-7fed2ad869f6",
   "metadata": {
    "tags": []
   },
   "outputs": [],
   "source": [
    "pdf = pd.read_csv(\"backup/Backup_2022_02_03_PDF_cleaned.csv\")\n",
    "new_pdf = pdf[keep_col]\n",
    "new_pdf['Corpus'] = 'PDF'"
   ]
  },
  {
   "cell_type": "markdown",
   "id": "6c100b45-f843-49d0-afbc-09ebff93de49",
   "metadata": {},
   "source": [
    "Following for **BackupCBT_2022_02_03_IIIF_Only**"
   ]
  },
  {
   "cell_type": "code",
   "execution_count": 4,
   "id": "88c07f66-b7e4-4801-8284-2d3423ebe25b",
   "metadata": {},
   "outputs": [],
   "source": [
    "iiif = pd.read_csv(\"backup/BackupCBT_2022_02_03_IIIF_Only.csv\")\n",
    "new_iiif = iiif[keep_col]\n",
    "new_iiif['Corpus'] = 'IIIF'"
   ]
  },
  {
   "cell_type": "code",
   "execution_count": 5,
   "id": "8b03e088-0bf2-4bcf-a4d5-e3dd8206f991",
   "metadata": {},
   "outputs": [],
   "source": [
    "bm = pd.read_csv(\"backup/Princeton_Blue_Mountain.csv\")\n",
    "new_bm = bm[keep_col]\n",
    "new_bm['Corpus'] = 'BM'"
   ]
  },
  {
   "cell_type": "code",
   "execution_count": 6,
   "id": "2f50a9fc-8cea-4f10-95fb-8072aa58de07",
   "metadata": {},
   "outputs": [],
   "source": [
    "est = pd.read_csv(\"backup/Journaux_Est-Asiatique.csv\")\n",
    "new_est = est[keep_col]\n",
    "new_est['Corpus'] = 'EST'"
   ]
  },
  {
   "cell_type": "markdown",
   "id": "04219a0c-43dd-4996-9f7b-539edd0952ab",
   "metadata": {},
   "source": [
    "### BNF Periodic ALL"
   ]
  },
  {
   "cell_type": "code",
   "execution_count": null,
   "id": "228c380a-178a-449d-9a67-f5c9f0e90533",
   "metadata": {},
   "outputs": [],
   "source": [
    "bnf = pd.read_csv(\"backup/BNF_periodic_all.csv\", low_memory=False)\n",
    "new_bnf = bnf[keep_col]\n",
    "new_bnf.to_csv(\"backup/BNF_periodic_all.csv\", index=False)"
   ]
  },
  {
   "cell_type": "markdown",
   "id": "e636c8d6-6415-43bb-9ffd-56e30b0ee79d",
   "metadata": {},
   "source": [
    "### BNF Periodic Explored"
   ]
  },
  {
   "cell_type": "code",
   "execution_count": 7,
   "id": "3d9cbfa2-fe40-4658-ba22-f6f0ba62d741",
   "metadata": {},
   "outputs": [],
   "source": [
    "bnf = pd.read_csv(\"backup/BNF_periodic_explored.csv\", low_memory=False)\n",
    "new_bnf = bnf[keep_col]\n",
    "new_bnf['Corpus'] = 'BNF'"
   ]
  },
  {
   "cell_type": "code",
   "execution_count": null,
   "id": "cc0fde74-2d7d-490e-97bc-20a84c9dc6a2",
   "metadata": {},
   "outputs": [],
   "source": [
    "wiki = pd.read_csv(\"backup/CORPUS_wikidata_visual_items_post_1870.csv\", low_memory=False, dtype=object)\n",
    "new_wiki = wiki[keep_col]\n",
    "new_wiki.to_csv(\"backup/CORPUS_wikidata_visual_items_post_1870.csv\", index=False)"
   ]
  },
  {
   "cell_type": "code",
   "execution_count": null,
   "id": "2e9f9ca2-0337-48dc-87aa-c3640bfe607d",
   "metadata": {},
   "outputs": [],
   "source": [
    "venus = pd.read_csv(\"backup/Venus_Explore.csv\")\n",
    "new_venus = venus[keep_col]\n",
    "new_venus.to_csv(\"backup/Venus_Explore.csv\", index=False)"
   ]
  },
  {
   "cell_type": "markdown",
   "id": "f7fc8e1c-b2c4-4aeb-b6eb-5144802fb89f",
   "metadata": {},
   "source": [
    "### "
   ]
  },
  {
   "cell_type": "code",
   "execution_count": null,
   "id": "176a0f60-b1c3-44e3-a4b9-b9c1bea595cb",
   "metadata": {},
   "outputs": [],
   "source": [
    "loc = pd.read_csv(\"backup/LOC/LOC.csv\")"
   ]
  },
  {
   "cell_type": "code",
   "execution_count": null,
   "id": "19ee9db0-1703-44bc-a097-40c1b3d58593",
   "metadata": {},
   "outputs": [],
   "source": [
    "loc.head()"
   ]
  },
  {
   "cell_type": "code",
   "execution_count": null,
   "id": "b46dda36-b2a7-4a64-b13f-913c0aacb76e",
   "metadata": {},
   "outputs": [],
   "source": [
    "loc['Journal Type'] = 'News'"
   ]
  },
  {
   "cell_type": "code",
   "execution_count": null,
   "id": "5fdb6ebe-e28e-4fc0-9ef6-a34d2e27ce78",
   "metadata": {},
   "outputs": [],
   "source": [
    "loc[\"Journal Type\"].unique()"
   ]
  },
  {
   "cell_type": "code",
   "execution_count": null,
   "id": "25ee1a9f-bc35-4744-bcea-e3a783778b42",
   "metadata": {},
   "outputs": [],
   "source": [
    "loc['normalized_date'] = loc['normalized_date'].replace('/','-', regex=True)"
   ]
  },
  {
   "cell_type": "code",
   "execution_count": 8,
   "id": "42b9bfb2-e504-40cc-967d-c87f33841a68",
   "metadata": {},
   "outputs": [],
   "source": [
    "merged_df = pd.concat([new_pdf, new_iiif, new_bnf, new_bm, new_est ])"
   ]
  },
  {
   "cell_type": "code",
   "execution_count": 10,
   "id": "610d889e-561e-47e9-8f31-05650e211eaf",
   "metadata": {},
   "outputs": [
    {
     "name": "stdout",
     "output_type": "stream",
     "text": [
      "<class 'pandas.core.frame.DataFrame'>\n",
      "Int64Index: 145496 entries, 0 to 4690\n",
      "Data columns (total 8 columns):\n",
      " #   Column           Non-Null Count   Dtype \n",
      "---  ------           --------------   ----- \n",
      " 0   Media URL        145496 non-null  object\n",
      " 1   City             143396 non-null  object\n",
      " 2   Country          145442 non-null  object\n",
      " 3   wkt              145390 non-null  object\n",
      " 4   normalized_date  145243 non-null  object\n",
      " 5   Title            145496 non-null  object\n",
      " 6   Journal Type     134699 non-null  object\n",
      " 7   Corpus           145496 non-null  object\n",
      "dtypes: object(8)\n",
      "memory usage: 10.0+ MB\n"
     ]
    }
   ],
   "source": [
    "merged_df.info()"
   ]
  },
  {
   "cell_type": "code",
   "execution_count": 11,
   "id": "54b041fe-a01a-4706-890f-c29de1697a02",
   "metadata": {},
   "outputs": [
    {
     "data": {
      "text/html": [
       "<div>\n",
       "<style scoped>\n",
       "    .dataframe tbody tr th:only-of-type {\n",
       "        vertical-align: middle;\n",
       "    }\n",
       "\n",
       "    .dataframe tbody tr th {\n",
       "        vertical-align: top;\n",
       "    }\n",
       "\n",
       "    .dataframe thead th {\n",
       "        text-align: right;\n",
       "    }\n",
       "</style>\n",
       "<table border=\"1\" class=\"dataframe\">\n",
       "  <thead>\n",
       "    <tr style=\"text-align: right;\">\n",
       "      <th></th>\n",
       "      <th>Media URL</th>\n",
       "      <th>City</th>\n",
       "      <th>Country</th>\n",
       "      <th>wkt</th>\n",
       "      <th>normalized_date</th>\n",
       "      <th>Title</th>\n",
       "      <th>Journal Type</th>\n",
       "      <th>Corpus</th>\n",
       "    </tr>\n",
       "  </thead>\n",
       "  <tbody>\n",
       "    <tr>\n",
       "      <th>0</th>\n",
       "      <td>https://iiif.unige.ch/dhportal/ug8000019/manifest</td>\n",
       "      <td>Bucharest</td>\n",
       "      <td>Romania</td>\n",
       "      <td>POINT(26.083333333333 44.4)</td>\n",
       "      <td>1930-07-01</td>\n",
       "      <td>Unu</td>\n",
       "      <td>Avant-garde Journal</td>\n",
       "      <td>PDF</td>\n",
       "    </tr>\n",
       "    <tr>\n",
       "      <th>1</th>\n",
       "      <td>https://iiif.unige.ch/dhportal/ug8000022/manifest</td>\n",
       "      <td>Buenos Aires</td>\n",
       "      <td>Argentina</td>\n",
       "      <td>POINT(-58.381944444444 -34.599722222222)</td>\n",
       "      <td>1968-01-01</td>\n",
       "      <td>Folklore</td>\n",
       "      <td>Folklore</td>\n",
       "      <td>PDF</td>\n",
       "    </tr>\n",
       "    <tr>\n",
       "      <th>2</th>\n",
       "      <td>https://iiif.unige.ch/dhportal/ug8000031/manifest</td>\n",
       "      <td>Buenos Aires</td>\n",
       "      <td>Argentina</td>\n",
       "      <td>POINT(-58.381944444444 -34.599722222222)</td>\n",
       "      <td>1967-12-01</td>\n",
       "      <td>Propósitos</td>\n",
       "      <td>Politics</td>\n",
       "      <td>PDF</td>\n",
       "    </tr>\n",
       "    <tr>\n",
       "      <th>3</th>\n",
       "      <td>https://iiif.unige.ch/dhportal/ug8000043/manifest</td>\n",
       "      <td>Buenos Aires</td>\n",
       "      <td>Argentina</td>\n",
       "      <td>POINT(-58.381944444444 -34.599722222222)</td>\n",
       "      <td>1966-04-01</td>\n",
       "      <td>Automundo</td>\n",
       "      <td>Automobile</td>\n",
       "      <td>PDF</td>\n",
       "    </tr>\n",
       "    <tr>\n",
       "      <th>4</th>\n",
       "      <td>https://iiif.unige.ch/dhportal/ug8000057/manifest</td>\n",
       "      <td>Moscow</td>\n",
       "      <td>Russia</td>\n",
       "      <td>POINT(37.617777777778 55.755833333333)</td>\n",
       "      <td>1928-01-01</td>\n",
       "      <td>30 (Thirty) Days</td>\n",
       "      <td>News</td>\n",
       "      <td>PDF</td>\n",
       "    </tr>\n",
       "  </tbody>\n",
       "</table>\n",
       "</div>"
      ],
      "text/plain": [
       "                                           Media URL          City    Country  \\\n",
       "0  https://iiif.unige.ch/dhportal/ug8000019/manifest     Bucharest    Romania   \n",
       "1  https://iiif.unige.ch/dhportal/ug8000022/manifest  Buenos Aires  Argentina   \n",
       "2  https://iiif.unige.ch/dhportal/ug8000031/manifest  Buenos Aires  Argentina   \n",
       "3  https://iiif.unige.ch/dhportal/ug8000043/manifest  Buenos Aires  Argentina   \n",
       "4  https://iiif.unige.ch/dhportal/ug8000057/manifest        Moscow     Russia   \n",
       "\n",
       "                                        wkt normalized_date             Title  \\\n",
       "0               POINT(26.083333333333 44.4)      1930-07-01               Unu   \n",
       "1  POINT(-58.381944444444 -34.599722222222)      1968-01-01          Folklore   \n",
       "2  POINT(-58.381944444444 -34.599722222222)      1967-12-01        Propósitos   \n",
       "3  POINT(-58.381944444444 -34.599722222222)      1966-04-01         Automundo   \n",
       "4    POINT(37.617777777778 55.755833333333)      1928-01-01  30 (Thirty) Days   \n",
       "\n",
       "          Journal Type Corpus  \n",
       "0  Avant-garde Journal    PDF  \n",
       "1             Folklore    PDF  \n",
       "2             Politics    PDF  \n",
       "3           Automobile    PDF  \n",
       "4                 News    PDF  "
      ]
     },
     "execution_count": 11,
     "metadata": {},
     "output_type": "execute_result"
    }
   ],
   "source": [
    "merged_df.head()"
   ]
  },
  {
   "cell_type": "code",
   "execution_count": 12,
   "id": "6566077c-1a4f-4a97-be43-6b4c254c2ad6",
   "metadata": {
    "tags": []
   },
   "outputs": [],
   "source": [
    "merged_df.to_csv(\"backup/combined_explored_duplicates.csv\", index=False)"
   ]
  },
  {
   "cell_type": "code",
   "execution_count": 11,
   "id": "f382e742-77ee-4b8c-89bb-69840e220e67",
   "metadata": {},
   "outputs": [],
   "source": [
    "duplicateRows = merged_df[merged_df.duplicated(['Media URL'])]"
   ]
  },
  {
   "cell_type": "code",
   "execution_count": 12,
   "id": "17980b49-76f1-4e7c-9728-5cd5e1efc510",
   "metadata": {},
   "outputs": [
    {
     "name": "stdout",
     "output_type": "stream",
     "text": [
      "Empty DataFrame\n",
      "Columns: [Media URL, City, Country, wkt, normalized_date, Title, Journal Type]\n",
      "Index: []\n"
     ]
    }
   ],
   "source": [
    "print(duplicateRows)"
   ]
  },
  {
   "cell_type": "code",
   "execution_count": null,
   "id": "cd2d019a-efd2-46b1-8ca7-b6c177790595",
   "metadata": {},
   "outputs": [],
   "source": []
  },
  {
   "cell_type": "markdown",
   "id": "983d8a8d-e0db-48fe-9375-7ba123601c07",
   "metadata": {},
   "source": [
    "merged **with LOC**"
   ]
  },
  {
   "cell_type": "code",
   "execution_count": null,
   "id": "24dc03f5-0207-4e92-8f34-6c244c5e21ca",
   "metadata": {},
   "outputs": [],
   "source": [
    "merged_df = pd.concat([new_pdf, new_iiif, new_bnf, new_bm, new_est, new_loc ])"
   ]
  },
  {
   "cell_type": "markdown",
   "id": "b165f529-e068-455d-8480-aa257bf1982b",
   "metadata": {},
   "source": [
    "merged **with LOC and wiki**"
   ]
  },
  {
   "cell_type": "code",
   "execution_count": null,
   "id": "dd20b417-3547-4b1f-ae95-5cadb1a54e90",
   "metadata": {
    "tags": []
   },
   "outputs": [],
   "source": [
    "merged_df = pd.concat([new_pdf, new_iiif, new_venus, new_bnf, new_bm, new_est, new_wiki, new_loc ])"
   ]
  },
  {
   "cell_type": "markdown",
   "id": "e8f9b023-d0c3-46bf-85a3-ab4e3a9b11a3",
   "metadata": {},
   "source": [
    "## Filtering by Time"
   ]
  },
  {
   "cell_type": "markdown",
   "id": "6c2f8e0b-78b3-4aa4-acf1-8088b3a203f9",
   "metadata": {},
   "source": [
    "As now we have loaded all the dataframe into one, called 'merged_df', we need to filter for date value equal and above 1870"
   ]
  },
  {
   "cell_type": "code",
   "execution_count": null,
   "id": "6b1fb1e8-082a-4190-9404-f01c2e0f96f4",
   "metadata": {},
   "outputs": [],
   "source": [
    "def date_split(date:str)-> (str,str,str):\n",
    "    if type(date) is not str:\n",
    "        return float('nan'),float('nan'),float('nan')\n",
    "    splits = date.split('-')\n",
    "    vals = splits + [float('nan')] * (3 - len(splits))\n",
    "    return [float(v) for v in vals]\n",
    "\n",
    "merged_df['year'], merged_df['month'], merged_df['day'] = zip(*merged_df['normalized_date'].apply(date_split))\n",
    "\n",
    "merged_1870 = merged_df[merged_df['year'] >= 1870.]"
   ]
  },
  {
   "cell_type": "code",
   "execution_count": null,
   "id": "e47214be-91d0-4e2f-85ea-9a57a09effd9",
   "metadata": {},
   "outputs": [],
   "source": [
    "merged_1870 = merged_1870.drop(['month','day', 'year'], 1)"
   ]
  },
  {
   "cell_type": "code",
   "execution_count": null,
   "id": "5a7b57e5-dca7-402f-9e27-7d34df2643d8",
   "metadata": {},
   "outputs": [],
   "source": [
    "merged_1870.info()"
   ]
  },
  {
   "cell_type": "markdown",
   "id": "cebae7ef-7619-4d18-b779-5c23ea270025",
   "metadata": {
    "tags": []
   },
   "source": [
    "We finally save the combined file"
   ]
  },
  {
   "cell_type": "code",
   "execution_count": null,
   "id": "bb88f09c-042b-47da-bd39-e71cd3244a03",
   "metadata": {},
   "outputs": [],
   "source": [
    "merged_1870.to_csv(\"backup/combined_explored_august_22.csv\", index=False)"
   ]
  },
  {
   "cell_type": "code",
   "execution_count": null,
   "id": "5ead8cd1-465b-4a02-a453-4ec3b16f8d1d",
   "metadata": {},
   "outputs": [],
   "source": [
    "merged_1870.to_csv(\"backup/combined_1870_ALL_august_22.csv\", index=False)"
   ]
  },
  {
   "cell_type": "markdown",
   "id": "4770ec16-6f20-4044-8a3b-3422770eb43f",
   "metadata": {
    "tags": []
   },
   "source": [
    "## Filtering by Place"
   ]
  },
  {
   "cell_type": "markdown",
   "id": "d6dc6f90-7be4-480f-9bb0-a3af78ab204a",
   "metadata": {},
   "source": [
    "Another important filter we may need is about the presence of the coordinate value related to a record"
   ]
  },
  {
   "cell_type": "code",
   "execution_count": null,
   "id": "cda940e7-c8b4-410b-8d07-472cf21e30f3",
   "metadata": {},
   "outputs": [],
   "source": [
    "merged_1870_wkt = merged_1870[merged_1870['wkt'].notnull()]"
   ]
  },
  {
   "cell_type": "code",
   "execution_count": null,
   "id": "b946608c-605d-4cf6-87e4-f8cb8bc2f477",
   "metadata": {},
   "outputs": [],
   "source": [
    "merged_1870_wkt.nunique()"
   ]
  },
  {
   "cell_type": "code",
   "execution_count": null,
   "id": "2686b466-c6db-497b-aec6-7b572eb0e994",
   "metadata": {},
   "outputs": [],
   "source": [
    "merged_1870_wkt.to_csv(\"backup/combined_1870_wkt.csv\", index=False)"
   ]
  },
  {
   "cell_type": "code",
   "execution_count": null,
   "id": "69fde8b0-3b10-4617-b3ea-316423da71d2",
   "metadata": {},
   "outputs": [],
   "source": [
    "def date_split(date:str)-> (str,str,str):\n",
    "    if type(date) is not str:\n",
    "        return float('nan'),float('nan'),float('nan')\n",
    "    splits = date.split('-')\n",
    "    vals = splits + [float('nan')] * (3 - len(splits))\n",
    "    return [float(v) for v in vals]\n",
    "\n",
    "merged_df['year'], merged_df['month'], merged_df['day'] = zip(*merged_df['normalized_date'].apply(date_split))\n",
    "\n",
    "merged_1870 = merged_df[merged_df['year'] >= 1870.]"
   ]
  },
  {
   "cell_type": "code",
   "execution_count": null,
   "id": "3106208c-edc8-4094-8696-c7670e1fef43",
   "metadata": {},
   "outputs": [],
   "source": [
    "merged_1870.head()"
   ]
  },
  {
   "cell_type": "code",
   "execution_count": null,
   "id": "f26f8b0e-e2a1-4f39-9d1b-97a90173a8bf",
   "metadata": {},
   "outputs": [],
   "source": [
    "merged_1870 = merged_1870.drop(['month','day', 'normalized_date'], 1)"
   ]
  },
  {
   "cell_type": "code",
   "execution_count": null,
   "id": "0f3b747c-3de8-41fa-8777-adba6b7c65de",
   "metadata": {},
   "outputs": [],
   "source": [
    "merged_1870.head()"
   ]
  },
  {
   "cell_type": "code",
   "execution_count": null,
   "id": "0346ab14-b5ec-42dd-b16c-77bbc1351fdd",
   "metadata": {},
   "outputs": [],
   "source": [
    "merged_1870['year'] = merged_1870['year'].astype(str)"
   ]
  },
  {
   "cell_type": "code",
   "execution_count": null,
   "id": "7acaa2b2-a94d-4e77-ae10-ec19a8ab47c7",
   "metadata": {},
   "outputs": [],
   "source": [
    "merged_1870.info()"
   ]
  },
  {
   "cell_type": "code",
   "execution_count": null,
   "id": "f1978907-eb14-4c9c-84d9-6b0d956e7318",
   "metadata": {},
   "outputs": [],
   "source": [
    "merged_1870['year'] = merged_1870['year'].str.replace('\\.0','', regex=True)"
   ]
  },
  {
   "cell_type": "code",
   "execution_count": null,
   "id": "0f55f50f-a415-4823-942d-83d99a1e1d3b",
   "metadata": {},
   "outputs": [],
   "source": [
    "merged_1870.head()"
   ]
  },
  {
   "cell_type": "code",
   "execution_count": null,
   "id": "512d71cf-e8b8-4d66-b241-378cc1f8c088",
   "metadata": {},
   "outputs": [],
   "source": [
    "merged_1870.to_csv(\"backup/combined_1870_year.csv\", index=False)"
   ]
  },
  {
   "cell_type": "markdown",
   "id": "b382a020-1f44-4720-9864-1c38da73dc6c",
   "metadata": {},
   "source": [
    "Take in input the json results downloaded from explore"
   ]
  },
  {
   "cell_type": "code",
   "execution_count": null,
   "id": "79ef1725-b708-4ef1-ae05-9048116a6d4e",
   "metadata": {},
   "outputs": [],
   "source": [
    "!jq '.items[].items[].items[] | {jpg: .body.id, manifest: .partOf[].id, cluster: .metadata[].value[][] }' json/manifest.json > json/extract_cluster_jpg.json"
   ]
  },
  {
   "cell_type": "code",
   "execution_count": null,
   "id": "bde7cd5d-c2b2-460d-90c9-8ff67c79a7bc",
   "metadata": {},
   "outputs": [],
   "source": [
    "with open('json/extract_cluster_jpg.json', encoding='utf-8') as inputfile:\n",
    "    jdf = pd.read_json(inputfile, orient='split')"
   ]
  },
  {
   "cell_type": "code",
   "execution_count": null,
   "id": "d35bebd1-3b0b-44f2-aab5-0e0f5d47aae6",
   "metadata": {},
   "outputs": [],
   "source": [
    "jdf.head()"
   ]
  }
 ],
 "metadata": {
  "kernelspec": {
   "display_name": "Python 3 (ipykernel)",
   "language": "python",
   "name": "python3"
  },
  "language_info": {
   "codemirror_mode": {
    "name": "ipython",
    "version": 3
   },
   "file_extension": ".py",
   "mimetype": "text/x-python",
   "name": "python",
   "nbconvert_exporter": "python",
   "pygments_lexer": "ipython3",
   "version": "3.8.13"
  }
 },
 "nbformat": 4,
 "nbformat_minor": 5
}
