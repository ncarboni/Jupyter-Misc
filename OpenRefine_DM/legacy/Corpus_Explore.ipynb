{
 "cells": [
  {
   "cell_type": "code",
   "execution_count": 1,
   "id": "53c28dbe-1d7b-4fca-8d83-8803af961624",
   "metadata": {},
   "outputs": [],
   "source": [
    "import pandas as pd\n",
    "import os\n",
    "import time\n",
    "import glob"
   ]
  },
  {
   "cell_type": "code",
   "execution_count": null,
   "id": "bd536962-d4c6-424f-a530-350400edcfb8",
   "metadata": {},
   "outputs": [],
   "source": []
  },
  {
   "cell_type": "code",
   "execution_count": 2,
   "id": "e45c60b3-46c0-4126-96d3-d300576a1c5d",
   "metadata": {},
   "outputs": [],
   "source": [
    "df = pd.read_csv(\"/Users/carboni/Downloads/export.csv\")"
   ]
  },
  {
   "cell_type": "code",
   "execution_count": null,
   "id": "53af2ba8-74d8-4bdf-9d6c-7ea2eb91db60",
   "metadata": {},
   "outputs": [],
   "source": []
  },
  {
   "cell_type": "markdown",
   "id": "34537ad6-2bcf-49fc-8e0d-714033c2ce55",
   "metadata": {},
   "source": [
    "## No LOC"
   ]
  },
  {
   "cell_type": "code",
   "execution_count": 3,
   "id": "56088e9d-086d-4171-a686-c1606e65fd5a",
   "metadata": {},
   "outputs": [
    {
     "data": {
      "text/plain": [
       "1223"
      ]
     },
     "execution_count": 3,
     "metadata": {},
     "output_type": "execute_result"
    }
   ],
   "source": [
    "df[\"Title\"].nunique()"
   ]
  },
  {
   "cell_type": "code",
   "execution_count": 5,
   "id": "c491cee3-9b38-41f3-82da-a21e2d33fd00",
   "metadata": {},
   "outputs": [
    {
     "data": {
      "text/plain": [
       "227"
      ]
     },
     "execution_count": 5,
     "metadata": {},
     "output_type": "execute_result"
    }
   ],
   "source": [
    "df[\"City\"].nunique()"
   ]
  },
  {
   "cell_type": "code",
   "execution_count": 6,
   "id": "00f32193-7621-4372-a8d4-438b676736f1",
   "metadata": {},
   "outputs": [
    {
     "data": {
      "text/plain": [
       "36"
      ]
     },
     "execution_count": 6,
     "metadata": {},
     "output_type": "execute_result"
    }
   ],
   "source": [
    "df[\"Country\"].nunique()"
   ]
  },
  {
   "cell_type": "code",
   "execution_count": 17,
   "id": "ca03e0b4-c6be-4d40-a11a-0311da417ad1",
   "metadata": {},
   "outputs": [
    {
     "data": {
      "text/html": [
       "<div>\n",
       "<style scoped>\n",
       "    .dataframe tbody tr th:only-of-type {\n",
       "        vertical-align: middle;\n",
       "    }\n",
       "\n",
       "    .dataframe tbody tr th {\n",
       "        vertical-align: top;\n",
       "    }\n",
       "\n",
       "    .dataframe thead th {\n",
       "        text-align: right;\n",
       "    }\n",
       "</style>\n",
       "<table border=\"1\" class=\"dataframe\">\n",
       "  <thead>\n",
       "    <tr style=\"text-align: right;\">\n",
       "      <th></th>\n",
       "      <th>numero_cluster</th>\n",
       "      <th>manifest_url</th>\n",
       "      <th>canvas_number</th>\n",
       "      <th>image_url</th>\n",
       "      <th>City</th>\n",
       "      <th>Country</th>\n",
       "      <th>Title</th>\n",
       "      <th>wkt</th>\n",
       "      <th>Date</th>\n",
       "      <th>Journal Type</th>\n",
       "      <th>notice</th>\n",
       "    </tr>\n",
       "  </thead>\n",
       "  <tbody>\n",
       "    <tr>\n",
       "      <th>0</th>\n",
       "      <td>000af30067d3b901448d80dd3aec145a6b23cb7de3570a...</td>\n",
       "      <td>https://digi.ub.uni-heidelberg.de/diglit/iiif/...</td>\n",
       "      <td>0.0</td>\n",
       "      <td>https://digi.ub.uni-heidelberg.de/iiif/2/fb95%...</td>\n",
       "      <td>Munich</td>\n",
       "      <td>Germany</td>\n",
       "      <td>Fliegende Blätter</td>\n",
       "      <td>POINT(11.575 48.1375)</td>\n",
       "      <td>1891-01-01</td>\n",
       "      <td>Humour</td>\n",
       "      <td>NaN</td>\n",
       "    </tr>\n",
       "    <tr>\n",
       "      <th>1</th>\n",
       "      <td>000af30067d3b901448d80dd3aec145a6b23cb7de3570a...</td>\n",
       "      <td>https://digi.ub.uni-heidelberg.de/diglit/iiif/...</td>\n",
       "      <td>0.0</td>\n",
       "      <td>https://digi.ub.uni-heidelberg.de/iiif/2/fb96%...</td>\n",
       "      <td>Munich</td>\n",
       "      <td>Germany</td>\n",
       "      <td>Fliegende Blätter</td>\n",
       "      <td>POINT(11.575 48.1375)</td>\n",
       "      <td>1892-01-01</td>\n",
       "      <td>Humour</td>\n",
       "      <td>NaN</td>\n",
       "    </tr>\n",
       "    <tr>\n",
       "      <th>2</th>\n",
       "      <td>000af30067d3b901448d80dd3aec145a6b23cb7de3570a...</td>\n",
       "      <td>https://digi.ub.uni-heidelberg.de/diglit/iiif/...</td>\n",
       "      <td>0.0</td>\n",
       "      <td>https://digi.ub.uni-heidelberg.de/iiif/2/fb97%...</td>\n",
       "      <td>Munich</td>\n",
       "      <td>Germany</td>\n",
       "      <td>Fliegende Blätter</td>\n",
       "      <td>POINT(11.575 48.1375)</td>\n",
       "      <td>1892-01-01</td>\n",
       "      <td>Humour</td>\n",
       "      <td>NaN</td>\n",
       "    </tr>\n",
       "    <tr>\n",
       "      <th>3</th>\n",
       "      <td>000af30067d3b901448d80dd3aec145a6b23cb7de3570a...</td>\n",
       "      <td>https://digi.ub.uni-heidelberg.de/diglit/iiif/...</td>\n",
       "      <td>0.0</td>\n",
       "      <td>https://digi.ub.uni-heidelberg.de/iiif/2/fb94%...</td>\n",
       "      <td>Munich</td>\n",
       "      <td>Germany</td>\n",
       "      <td>Fliegende Blätter</td>\n",
       "      <td>POINT(11.575 48.1375)</td>\n",
       "      <td>1891-01-01</td>\n",
       "      <td>Humour</td>\n",
       "      <td>NaN</td>\n",
       "    </tr>\n",
       "    <tr>\n",
       "      <th>4</th>\n",
       "      <td>000af30067d3b901448d80dd3aec145a6b23cb7de3570a...</td>\n",
       "      <td>https://digi.ub.uni-heidelberg.de/diglit/iiif/...</td>\n",
       "      <td>0.0</td>\n",
       "      <td>https://digi.ub.uni-heidelberg.de/iiif/2/fb155...</td>\n",
       "      <td>Munich</td>\n",
       "      <td>Germany</td>\n",
       "      <td>Fliegende Blätter</td>\n",
       "      <td>POINT(11.575 48.1375)</td>\n",
       "      <td>1921-01-01</td>\n",
       "      <td>Humour</td>\n",
       "      <td>NaN</td>\n",
       "    </tr>\n",
       "  </tbody>\n",
       "</table>\n",
       "</div>"
      ],
      "text/plain": [
       "                                      numero_cluster  \\\n",
       "0  000af30067d3b901448d80dd3aec145a6b23cb7de3570a...   \n",
       "1  000af30067d3b901448d80dd3aec145a6b23cb7de3570a...   \n",
       "2  000af30067d3b901448d80dd3aec145a6b23cb7de3570a...   \n",
       "3  000af30067d3b901448d80dd3aec145a6b23cb7de3570a...   \n",
       "4  000af30067d3b901448d80dd3aec145a6b23cb7de3570a...   \n",
       "\n",
       "                                        manifest_url  canvas_number  \\\n",
       "0  https://digi.ub.uni-heidelberg.de/diglit/iiif/...            0.0   \n",
       "1  https://digi.ub.uni-heidelberg.de/diglit/iiif/...            0.0   \n",
       "2  https://digi.ub.uni-heidelberg.de/diglit/iiif/...            0.0   \n",
       "3  https://digi.ub.uni-heidelberg.de/diglit/iiif/...            0.0   \n",
       "4  https://digi.ub.uni-heidelberg.de/diglit/iiif/...            0.0   \n",
       "\n",
       "                                           image_url    City  Country  \\\n",
       "0  https://digi.ub.uni-heidelberg.de/iiif/2/fb95%...  Munich  Germany   \n",
       "1  https://digi.ub.uni-heidelberg.de/iiif/2/fb96%...  Munich  Germany   \n",
       "2  https://digi.ub.uni-heidelberg.de/iiif/2/fb97%...  Munich  Germany   \n",
       "3  https://digi.ub.uni-heidelberg.de/iiif/2/fb94%...  Munich  Germany   \n",
       "4  https://digi.ub.uni-heidelberg.de/iiif/2/fb155...  Munich  Germany   \n",
       "\n",
       "               Title                    wkt        Date Journal Type  notice  \n",
       "0  Fliegende Blätter  POINT(11.575 48.1375)  1891-01-01       Humour     NaN  \n",
       "1  Fliegende Blätter  POINT(11.575 48.1375)  1892-01-01       Humour     NaN  \n",
       "2  Fliegende Blätter  POINT(11.575 48.1375)  1892-01-01       Humour     NaN  \n",
       "3  Fliegende Blätter  POINT(11.575 48.1375)  1891-01-01       Humour     NaN  \n",
       "4  Fliegende Blätter  POINT(11.575 48.1375)  1921-01-01       Humour     NaN  "
      ]
     },
     "execution_count": 17,
     "metadata": {},
     "output_type": "execute_result"
    }
   ],
   "source": [
    "df.head()"
   ]
  },
  {
   "cell_type": "code",
   "execution_count": 35,
   "id": "dcfb4d9d-72a1-4494-b1bd-bdf1ac3f6bcf",
   "metadata": {},
   "outputs": [
    {
     "data": {
      "text/plain": [
       "64813"
      ]
     },
     "execution_count": 35,
     "metadata": {},
     "output_type": "execute_result"
    }
   ],
   "source": [
    "df[\"manifest_url\"].nunique()"
   ]
  },
  {
   "cell_type": "code",
   "execution_count": 37,
   "id": "af68741b-8967-4215-b401-fe05a5ab1bb8",
   "metadata": {},
   "outputs": [
    {
     "data": {
      "text/plain": [
       "0"
      ]
     },
     "execution_count": 38,
     "metadata": {},
     "output_type": "execute_result"
    }
   ],
   "source": [
    "df[\"notice\"].nunique()"
   ]
  },
  {
   "cell_type": "code",
   "execution_count": 7,
   "id": "10d78dda-a21c-4ad8-8aa2-0bd8789441af",
   "metadata": {},
   "outputs": [
    {
     "data": {
      "text/plain": [
       "79"
      ]
     },
     "execution_count": 7,
     "metadata": {},
     "output_type": "execute_result"
    }
   ],
   "source": [
    "df[\"Journal Type\"].nunique()"
   ]
  },
  {
   "cell_type": "markdown",
   "id": "0d81ff43-a19c-4371-8b97-697e73cb87f5",
   "metadata": {},
   "source": [
    "## WITH LOC"
   ]
  },
  {
   "cell_type": "code",
   "execution_count": 26,
   "id": "75140311-b9ab-46cf-a9e6-ba21487d2a3a",
   "metadata": {},
   "outputs": [],
   "source": [
    "loc = pd.read_csv(\"/Users/carboni/Documents/UNIGE/pynotebook/OpenRefine_fusion_Local/backup/LOC.csv\")"
   ]
  },
  {
   "cell_type": "code",
   "execution_count": 27,
   "id": "2717fa99-cf5e-4faa-bbbb-e9a286798d1b",
   "metadata": {},
   "outputs": [
    {
     "data": {
      "text/html": [
       "<div>\n",
       "<style scoped>\n",
       "    .dataframe tbody tr th:only-of-type {\n",
       "        vertical-align: middle;\n",
       "    }\n",
       "\n",
       "    .dataframe tbody tr th {\n",
       "        vertical-align: top;\n",
       "    }\n",
       "\n",
       "    .dataframe thead th {\n",
       "        text-align: right;\n",
       "    }\n",
       "</style>\n",
       "<table border=\"1\" class=\"dataframe\">\n",
       "  <thead>\n",
       "    <tr style=\"text-align: right;\">\n",
       "      <th></th>\n",
       "      <th>Media URL</th>\n",
       "      <th>City</th>\n",
       "      <th>Country</th>\n",
       "      <th>wkt</th>\n",
       "      <th>normalized_date</th>\n",
       "      <th>Title</th>\n",
       "      <th>Journal Type</th>\n",
       "    </tr>\n",
       "  </thead>\n",
       "  <tbody>\n",
       "    <tr>\n",
       "      <th>0</th>\n",
       "      <td>https://iiif.unige.ch/dhportal/ug9123302/manifest</td>\n",
       "      <td>Kennewick</td>\n",
       "      <td>United States of America</td>\n",
       "      <td>POINT(-119.15927 46.203475)</td>\n",
       "      <td>1913-05-16</td>\n",
       "      <td>The Kennewick courier.</td>\n",
       "      <td>News</td>\n",
       "    </tr>\n",
       "    <tr>\n",
       "      <th>1</th>\n",
       "      <td>https://iiif.unige.ch/dhportal/ug8660646/manifest</td>\n",
       "      <td>Kennewick</td>\n",
       "      <td>United States of America</td>\n",
       "      <td>POINT(-119.15927 46.203475)</td>\n",
       "      <td>1913-10-31</td>\n",
       "      <td>The Kennewick courier.</td>\n",
       "      <td>News</td>\n",
       "    </tr>\n",
       "    <tr>\n",
       "      <th>2</th>\n",
       "      <td>https://iiif.unige.ch/dhportal/ug9034616/manifest</td>\n",
       "      <td>Kennewick</td>\n",
       "      <td>United States of America</td>\n",
       "      <td>POINT(-119.15927 46.203475)</td>\n",
       "      <td>1913-02-14</td>\n",
       "      <td>The Kennewick courier.</td>\n",
       "      <td>News</td>\n",
       "    </tr>\n",
       "    <tr>\n",
       "      <th>3</th>\n",
       "      <td>https://iiif.unige.ch/dhportal/ug8390532/manifest</td>\n",
       "      <td>Kennewick</td>\n",
       "      <td>United States of America</td>\n",
       "      <td>POINT(-119.15927 46.203475)</td>\n",
       "      <td>1913-01-31</td>\n",
       "      <td>The Kennewick courier.</td>\n",
       "      <td>News</td>\n",
       "    </tr>\n",
       "    <tr>\n",
       "      <th>4</th>\n",
       "      <td>https://iiif.unige.ch/dhportal/ug8742023/manifest</td>\n",
       "      <td>Kennewick</td>\n",
       "      <td>United States of America</td>\n",
       "      <td>POINT(-119.15927 46.203475)</td>\n",
       "      <td>1913-07-11</td>\n",
       "      <td>The Kennewick courier.</td>\n",
       "      <td>News</td>\n",
       "    </tr>\n",
       "  </tbody>\n",
       "</table>\n",
       "</div>"
      ],
      "text/plain": [
       "                                           Media URL       City  \\\n",
       "0  https://iiif.unige.ch/dhportal/ug9123302/manifest  Kennewick   \n",
       "1  https://iiif.unige.ch/dhportal/ug8660646/manifest  Kennewick   \n",
       "2  https://iiif.unige.ch/dhportal/ug9034616/manifest  Kennewick   \n",
       "3  https://iiif.unige.ch/dhportal/ug8390532/manifest  Kennewick   \n",
       "4  https://iiif.unige.ch/dhportal/ug8742023/manifest  Kennewick   \n",
       "\n",
       "                    Country                          wkt normalized_date  \\\n",
       "0  United States of America  POINT(-119.15927 46.203475)      1913-05-16   \n",
       "1  United States of America  POINT(-119.15927 46.203475)      1913-10-31   \n",
       "2  United States of America  POINT(-119.15927 46.203475)      1913-02-14   \n",
       "3  United States of America  POINT(-119.15927 46.203475)      1913-01-31   \n",
       "4  United States of America  POINT(-119.15927 46.203475)      1913-07-11   \n",
       "\n",
       "                    Title Journal Type  \n",
       "0  The Kennewick courier.         News  \n",
       "1  The Kennewick courier.         News  \n",
       "2  The Kennewick courier.         News  \n",
       "3  The Kennewick courier.         News  \n",
       "4  The Kennewick courier.         News  "
      ]
     },
     "execution_count": 27,
     "metadata": {},
     "output_type": "execute_result"
    }
   ],
   "source": [
    "loc.head()"
   ]
  },
  {
   "cell_type": "code",
   "execution_count": 28,
   "id": "fe693d33-3661-4211-a50b-fa5962471b8b",
   "metadata": {},
   "outputs": [],
   "source": [
    "loc = loc.rename({'Media URL': 'manifest_url', 'normalized_date': 'Date'}, axis=1)"
   ]
  },
  {
   "cell_type": "code",
   "execution_count": 29,
   "id": "d82c1f01-4db4-49f1-99d2-0b3b2f0a95d4",
   "metadata": {},
   "outputs": [],
   "source": [
    "df_merged = pd.concat([df, loc], ignore_index=True, sort=False)"
   ]
  },
  {
   "cell_type": "code",
   "execution_count": 30,
   "id": "0f7e856c-00ba-4a91-b72e-2df7e7023776",
   "metadata": {},
   "outputs": [
    {
     "data": {
      "text/html": [
       "<div>\n",
       "<style scoped>\n",
       "    .dataframe tbody tr th:only-of-type {\n",
       "        vertical-align: middle;\n",
       "    }\n",
       "\n",
       "    .dataframe tbody tr th {\n",
       "        vertical-align: top;\n",
       "    }\n",
       "\n",
       "    .dataframe thead th {\n",
       "        text-align: right;\n",
       "    }\n",
       "</style>\n",
       "<table border=\"1\" class=\"dataframe\">\n",
       "  <thead>\n",
       "    <tr style=\"text-align: right;\">\n",
       "      <th></th>\n",
       "      <th>numero_cluster</th>\n",
       "      <th>manifest_url</th>\n",
       "      <th>canvas_number</th>\n",
       "      <th>image_url</th>\n",
       "      <th>City</th>\n",
       "      <th>Country</th>\n",
       "      <th>Title</th>\n",
       "      <th>wkt</th>\n",
       "      <th>Date</th>\n",
       "      <th>Journal Type</th>\n",
       "      <th>notice</th>\n",
       "    </tr>\n",
       "  </thead>\n",
       "  <tbody>\n",
       "    <tr>\n",
       "      <th>0</th>\n",
       "      <td>000af30067d3b901448d80dd3aec145a6b23cb7de3570a...</td>\n",
       "      <td>https://digi.ub.uni-heidelberg.de/diglit/iiif/...</td>\n",
       "      <td>0.0</td>\n",
       "      <td>https://digi.ub.uni-heidelberg.de/iiif/2/fb95%...</td>\n",
       "      <td>Munich</td>\n",
       "      <td>Germany</td>\n",
       "      <td>Fliegende Blätter</td>\n",
       "      <td>POINT(11.575 48.1375)</td>\n",
       "      <td>1891-01-01</td>\n",
       "      <td>Humour</td>\n",
       "      <td>NaN</td>\n",
       "    </tr>\n",
       "    <tr>\n",
       "      <th>1</th>\n",
       "      <td>000af30067d3b901448d80dd3aec145a6b23cb7de3570a...</td>\n",
       "      <td>https://digi.ub.uni-heidelberg.de/diglit/iiif/...</td>\n",
       "      <td>0.0</td>\n",
       "      <td>https://digi.ub.uni-heidelberg.de/iiif/2/fb96%...</td>\n",
       "      <td>Munich</td>\n",
       "      <td>Germany</td>\n",
       "      <td>Fliegende Blätter</td>\n",
       "      <td>POINT(11.575 48.1375)</td>\n",
       "      <td>1892-01-01</td>\n",
       "      <td>Humour</td>\n",
       "      <td>NaN</td>\n",
       "    </tr>\n",
       "    <tr>\n",
       "      <th>2</th>\n",
       "      <td>000af30067d3b901448d80dd3aec145a6b23cb7de3570a...</td>\n",
       "      <td>https://digi.ub.uni-heidelberg.de/diglit/iiif/...</td>\n",
       "      <td>0.0</td>\n",
       "      <td>https://digi.ub.uni-heidelberg.de/iiif/2/fb97%...</td>\n",
       "      <td>Munich</td>\n",
       "      <td>Germany</td>\n",
       "      <td>Fliegende Blätter</td>\n",
       "      <td>POINT(11.575 48.1375)</td>\n",
       "      <td>1892-01-01</td>\n",
       "      <td>Humour</td>\n",
       "      <td>NaN</td>\n",
       "    </tr>\n",
       "    <tr>\n",
       "      <th>3</th>\n",
       "      <td>000af30067d3b901448d80dd3aec145a6b23cb7de3570a...</td>\n",
       "      <td>https://digi.ub.uni-heidelberg.de/diglit/iiif/...</td>\n",
       "      <td>0.0</td>\n",
       "      <td>https://digi.ub.uni-heidelberg.de/iiif/2/fb94%...</td>\n",
       "      <td>Munich</td>\n",
       "      <td>Germany</td>\n",
       "      <td>Fliegende Blätter</td>\n",
       "      <td>POINT(11.575 48.1375)</td>\n",
       "      <td>1891-01-01</td>\n",
       "      <td>Humour</td>\n",
       "      <td>NaN</td>\n",
       "    </tr>\n",
       "    <tr>\n",
       "      <th>4</th>\n",
       "      <td>000af30067d3b901448d80dd3aec145a6b23cb7de3570a...</td>\n",
       "      <td>https://digi.ub.uni-heidelberg.de/diglit/iiif/...</td>\n",
       "      <td>0.0</td>\n",
       "      <td>https://digi.ub.uni-heidelberg.de/iiif/2/fb155...</td>\n",
       "      <td>Munich</td>\n",
       "      <td>Germany</td>\n",
       "      <td>Fliegende Blätter</td>\n",
       "      <td>POINT(11.575 48.1375)</td>\n",
       "      <td>1921-01-01</td>\n",
       "      <td>Humour</td>\n",
       "      <td>NaN</td>\n",
       "    </tr>\n",
       "  </tbody>\n",
       "</table>\n",
       "</div>"
      ],
      "text/plain": [
       "                                      numero_cluster  \\\n",
       "0  000af30067d3b901448d80dd3aec145a6b23cb7de3570a...   \n",
       "1  000af30067d3b901448d80dd3aec145a6b23cb7de3570a...   \n",
       "2  000af30067d3b901448d80dd3aec145a6b23cb7de3570a...   \n",
       "3  000af30067d3b901448d80dd3aec145a6b23cb7de3570a...   \n",
       "4  000af30067d3b901448d80dd3aec145a6b23cb7de3570a...   \n",
       "\n",
       "                                        manifest_url  canvas_number  \\\n",
       "0  https://digi.ub.uni-heidelberg.de/diglit/iiif/...            0.0   \n",
       "1  https://digi.ub.uni-heidelberg.de/diglit/iiif/...            0.0   \n",
       "2  https://digi.ub.uni-heidelberg.de/diglit/iiif/...            0.0   \n",
       "3  https://digi.ub.uni-heidelberg.de/diglit/iiif/...            0.0   \n",
       "4  https://digi.ub.uni-heidelberg.de/diglit/iiif/...            0.0   \n",
       "\n",
       "                                           image_url    City  Country  \\\n",
       "0  https://digi.ub.uni-heidelberg.de/iiif/2/fb95%...  Munich  Germany   \n",
       "1  https://digi.ub.uni-heidelberg.de/iiif/2/fb96%...  Munich  Germany   \n",
       "2  https://digi.ub.uni-heidelberg.de/iiif/2/fb97%...  Munich  Germany   \n",
       "3  https://digi.ub.uni-heidelberg.de/iiif/2/fb94%...  Munich  Germany   \n",
       "4  https://digi.ub.uni-heidelberg.de/iiif/2/fb155...  Munich  Germany   \n",
       "\n",
       "               Title                    wkt        Date Journal Type  notice  \n",
       "0  Fliegende Blätter  POINT(11.575 48.1375)  1891-01-01       Humour     NaN  \n",
       "1  Fliegende Blätter  POINT(11.575 48.1375)  1892-01-01       Humour     NaN  \n",
       "2  Fliegende Blätter  POINT(11.575 48.1375)  1892-01-01       Humour     NaN  \n",
       "3  Fliegende Blätter  POINT(11.575 48.1375)  1891-01-01       Humour     NaN  \n",
       "4  Fliegende Blätter  POINT(11.575 48.1375)  1921-01-01       Humour     NaN  "
      ]
     },
     "execution_count": 30,
     "metadata": {},
     "output_type": "execute_result"
    }
   ],
   "source": [
    "df_merged.head()"
   ]
  },
  {
   "cell_type": "code",
   "execution_count": 31,
   "id": "0c968fb0-f010-4de3-a6da-edb523f36b95",
   "metadata": {},
   "outputs": [
    {
     "data": {
      "text/plain": [
       "2925"
      ]
     },
     "execution_count": 31,
     "metadata": {},
     "output_type": "execute_result"
    }
   ],
   "source": [
    "df_merged[\"Title\"].nunique()"
   ]
  },
  {
   "cell_type": "code",
   "execution_count": 32,
   "id": "f43d6c5e-b13c-4a5a-b192-e315b96c3662",
   "metadata": {},
   "outputs": [
    {
     "data": {
      "text/plain": [
       "1049"
      ]
     },
     "execution_count": 32,
     "metadata": {},
     "output_type": "execute_result"
    }
   ],
   "source": [
    "df_merged[\"City\"].nunique()"
   ]
  },
  {
   "cell_type": "code",
   "execution_count": 33,
   "id": "b2641f1c-a237-4352-a004-996b65195565",
   "metadata": {},
   "outputs": [
    {
     "data": {
      "text/plain": [
       "36"
      ]
     },
     "execution_count": 33,
     "metadata": {},
     "output_type": "execute_result"
    }
   ],
   "source": [
    "df_merged[\"Country\"].nunique()"
   ]
  },
  {
   "cell_type": "code",
   "execution_count": 13,
   "id": "0d520714-7075-4d4c-bcd6-d479e5003038",
   "metadata": {},
   "outputs": [
    {
     "data": {
      "text/plain": [
       "79"
      ]
     },
     "execution_count": 13,
     "metadata": {},
     "output_type": "execute_result"
    }
   ],
   "source": [
    "df_merged[\"Journal Type\"].nunique()"
   ]
  },
  {
   "cell_type": "code",
   "execution_count": 36,
   "id": "c5e2ad1d-b11e-404b-b657-8d6131615326",
   "metadata": {},
   "outputs": [
    {
     "data": {
      "text/plain": [
       "3130034"
      ]
     },
     "execution_count": 36,
     "metadata": {},
     "output_type": "execute_result"
    }
   ],
   "source": [
    "df_merged[\"manifest_url\"].nunique()"
   ]
  },
  {
   "cell_type": "markdown",
   "id": "4fdc68d6-946b-4bf9-b2ae-72b3b01a3fce",
   "metadata": {},
   "source": [
    "## Merged + BNF full"
   ]
  },
  {
   "cell_type": "code",
   "execution_count": 49,
   "id": "f8a5ba1e-37ce-41af-bdee-f706379c6972",
   "metadata": {},
   "outputs": [
    {
     "name": "stderr",
     "output_type": "stream",
     "text": [
      "/var/folders/nw/zm4zl9xn4_d_rq3fnglst3n80000gp/T/ipykernel_4605/789927666.py:1: DtypeWarning: Columns (15) have mixed types. Specify dtype option on import or set low_memory=False.\n",
      "  bnf = pd.read_csv(\"/Users/carboni/Downloads/bnf_all.csv\")\n"
     ]
    }
   ],
   "source": [
    "bnf = pd.read_csv(\"/Users/carboni/Downloads/bnf_all.csv\")"
   ]
  },
  {
   "cell_type": "code",
   "execution_count": 50,
   "id": "2679146d-6f16-4ba0-beea-27b9ab19b36b",
   "metadata": {},
   "outputs": [
    {
     "data": {
      "text/html": [
       "<div>\n",
       "<style scoped>\n",
       "    .dataframe tbody tr th:only-of-type {\n",
       "        vertical-align: middle;\n",
       "    }\n",
       "\n",
       "    .dataframe tbody tr th {\n",
       "        vertical-align: top;\n",
       "    }\n",
       "\n",
       "    .dataframe thead th {\n",
       "        text-align: right;\n",
       "    }\n",
       "</style>\n",
       "<table border=\"1\" class=\"dataframe\">\n",
       "  <thead>\n",
       "    <tr style=\"text-align: right;\">\n",
       "      <th></th>\n",
       "      <th>Title</th>\n",
       "      <th>normalized_date</th>\n",
       "      <th>datetime</th>\n",
       "      <th>Journal Type</th>\n",
       "      <th>City</th>\n",
       "      <th>wkt</th>\n",
       "      <th>City_wd</th>\n",
       "      <th>Country</th>\n",
       "      <th>Country_wd</th>\n",
       "      <th>Notice</th>\n",
       "      <th>pages</th>\n",
       "      <th>year</th>\n",
       "      <th>Media URL</th>\n",
       "      <th>yes</th>\n",
       "      <th>analysed</th>\n",
       "      <th>Revue_wd</th>\n",
       "      <th>mirador_url</th>\n",
       "      <th>identifier</th>\n",
       "      <th>periodic</th>\n",
       "    </tr>\n",
       "  </thead>\n",
       "  <tbody>\n",
       "    <tr>\n",
       "      <th>0</th>\n",
       "      <td>\"Athéna\" (Paris. 1922)</td>\n",
       "      <td>1922-01-01</td>\n",
       "      <td>1922-01-01T00:00:00Z</td>\n",
       "      <td>NaN</td>\n",
       "      <td>Paris</td>\n",
       "      <td>POINT(2.3513888888889 48.856944444444)</td>\n",
       "      <td>Q90</td>\n",
       "      <td>France</td>\n",
       "      <td>Q142</td>\n",
       "      <td>https://gallica.bnf.fr/ark:/12148/cb32706140t/...</td>\n",
       "      <td>100.0</td>\n",
       "      <td>1922</td>\n",
       "      <td>https://gallica.bnf.fr/iiif/ark:/12148/bpt6k62...</td>\n",
       "      <td>no</td>\n",
       "      <td>NaN</td>\n",
       "      <td>NaN</td>\n",
       "      <td>https://iiif.unige.ch/mirador/https%3A%2F%2Fga...</td>\n",
       "      <td>428ee2fbf953141427238cea3ec456a98adf5885</td>\n",
       "      <td>http://data.bnf.fr/ark:/12148/cb32706140t#about</td>\n",
       "    </tr>\n",
       "    <tr>\n",
       "      <th>1</th>\n",
       "      <td>\"Athéna\" (Paris. 1922)</td>\n",
       "      <td>1922-02-01</td>\n",
       "      <td>1922-02-01T00:00:00Z</td>\n",
       "      <td>NaN</td>\n",
       "      <td>Paris</td>\n",
       "      <td>POINT(2.3513888888889 48.856944444444)</td>\n",
       "      <td>Q90</td>\n",
       "      <td>France</td>\n",
       "      <td>Q142</td>\n",
       "      <td>https://gallica.bnf.fr/ark:/12148/cb32706140t/...</td>\n",
       "      <td>100.0</td>\n",
       "      <td>1922</td>\n",
       "      <td>https://gallica.bnf.fr/iiif/ark:/12148/bpt6k62...</td>\n",
       "      <td>no</td>\n",
       "      <td>NaN</td>\n",
       "      <td>NaN</td>\n",
       "      <td>https://iiif.unige.ch/mirador/https%3A%2F%2Fga...</td>\n",
       "      <td>1ae09774e580bff5d6d318f09f5df6543ad52bef</td>\n",
       "      <td>http://data.bnf.fr/ark:/12148/cb32706140t#about</td>\n",
       "    </tr>\n",
       "    <tr>\n",
       "      <th>2</th>\n",
       "      <td>\"Athéna\" (Paris. 1922)</td>\n",
       "      <td>1922-03-01</td>\n",
       "      <td>1922-03-01T00:00:00Z</td>\n",
       "      <td>NaN</td>\n",
       "      <td>Paris</td>\n",
       "      <td>POINT(2.3513888888889 48.856944444444)</td>\n",
       "      <td>Q90</td>\n",
       "      <td>France</td>\n",
       "      <td>Q142</td>\n",
       "      <td>https://gallica.bnf.fr/ark:/12148/cb32706140t/...</td>\n",
       "      <td>100.0</td>\n",
       "      <td>1922</td>\n",
       "      <td>https://gallica.bnf.fr/iiif/ark:/12148/bpt6k62...</td>\n",
       "      <td>no</td>\n",
       "      <td>NaN</td>\n",
       "      <td>NaN</td>\n",
       "      <td>https://iiif.unige.ch/mirador/https%3A%2F%2Fga...</td>\n",
       "      <td>1c875c69d335b240643fc6329bf5abc2524bcbd7</td>\n",
       "      <td>http://data.bnf.fr/ark:/12148/cb32706140t#about</td>\n",
       "    </tr>\n",
       "    <tr>\n",
       "      <th>3</th>\n",
       "      <td>\"Athéna\" (Paris. 1922)</td>\n",
       "      <td>1922-04-01</td>\n",
       "      <td>1922-04-01T00:00:00Z</td>\n",
       "      <td>NaN</td>\n",
       "      <td>Paris</td>\n",
       "      <td>POINT(2.3513888888889 48.856944444444)</td>\n",
       "      <td>Q90</td>\n",
       "      <td>France</td>\n",
       "      <td>Q142</td>\n",
       "      <td>https://gallica.bnf.fr/ark:/12148/cb32706140t/...</td>\n",
       "      <td>100.0</td>\n",
       "      <td>1922</td>\n",
       "      <td>https://gallica.bnf.fr/iiif/ark:/12148/bpt6k62...</td>\n",
       "      <td>no</td>\n",
       "      <td>NaN</td>\n",
       "      <td>NaN</td>\n",
       "      <td>https://iiif.unige.ch/mirador/https%3A%2F%2Fga...</td>\n",
       "      <td>7f6870120de32101f4fc68be99fbf85fd1177d4f</td>\n",
       "      <td>http://data.bnf.fr/ark:/12148/cb32706140t#about</td>\n",
       "    </tr>\n",
       "    <tr>\n",
       "      <th>4</th>\n",
       "      <td>\"Athéna\" (Paris. 1922)</td>\n",
       "      <td>1922-05-01</td>\n",
       "      <td>1922-05-01T00:00:00Z</td>\n",
       "      <td>NaN</td>\n",
       "      <td>Paris</td>\n",
       "      <td>POINT(2.3513888888889 48.856944444444)</td>\n",
       "      <td>Q90</td>\n",
       "      <td>France</td>\n",
       "      <td>Q142</td>\n",
       "      <td>https://gallica.bnf.fr/ark:/12148/cb32706140t/...</td>\n",
       "      <td>100.0</td>\n",
       "      <td>1922</td>\n",
       "      <td>https://gallica.bnf.fr/iiif/ark:/12148/bpt6k62...</td>\n",
       "      <td>no</td>\n",
       "      <td>NaN</td>\n",
       "      <td>NaN</td>\n",
       "      <td>https://iiif.unige.ch/mirador/https%3A%2F%2Fga...</td>\n",
       "      <td>81956e9a1b316a06f4180371e313962dde891310</td>\n",
       "      <td>http://data.bnf.fr/ark:/12148/cb32706140t#about</td>\n",
       "    </tr>\n",
       "  </tbody>\n",
       "</table>\n",
       "</div>"
      ],
      "text/plain": [
       "                    Title normalized_date              datetime Journal Type  \\\n",
       "0  \"Athéna\" (Paris. 1922)      1922-01-01  1922-01-01T00:00:00Z          NaN   \n",
       "1  \"Athéna\" (Paris. 1922)      1922-02-01  1922-02-01T00:00:00Z          NaN   \n",
       "2  \"Athéna\" (Paris. 1922)      1922-03-01  1922-03-01T00:00:00Z          NaN   \n",
       "3  \"Athéna\" (Paris. 1922)      1922-04-01  1922-04-01T00:00:00Z          NaN   \n",
       "4  \"Athéna\" (Paris. 1922)      1922-05-01  1922-05-01T00:00:00Z          NaN   \n",
       "\n",
       "    City                                     wkt City_wd Country Country_wd  \\\n",
       "0  Paris  POINT(2.3513888888889 48.856944444444)     Q90  France       Q142   \n",
       "1  Paris  POINT(2.3513888888889 48.856944444444)     Q90  France       Q142   \n",
       "2  Paris  POINT(2.3513888888889 48.856944444444)     Q90  France       Q142   \n",
       "3  Paris  POINT(2.3513888888889 48.856944444444)     Q90  France       Q142   \n",
       "4  Paris  POINT(2.3513888888889 48.856944444444)     Q90  France       Q142   \n",
       "\n",
       "                                              Notice  pages  year  \\\n",
       "0  https://gallica.bnf.fr/ark:/12148/cb32706140t/...  100.0  1922   \n",
       "1  https://gallica.bnf.fr/ark:/12148/cb32706140t/...  100.0  1922   \n",
       "2  https://gallica.bnf.fr/ark:/12148/cb32706140t/...  100.0  1922   \n",
       "3  https://gallica.bnf.fr/ark:/12148/cb32706140t/...  100.0  1922   \n",
       "4  https://gallica.bnf.fr/ark:/12148/cb32706140t/...  100.0  1922   \n",
       "\n",
       "                                           Media URL yes analysed Revue_wd  \\\n",
       "0  https://gallica.bnf.fr/iiif/ark:/12148/bpt6k62...  no      NaN      NaN   \n",
       "1  https://gallica.bnf.fr/iiif/ark:/12148/bpt6k62...  no      NaN      NaN   \n",
       "2  https://gallica.bnf.fr/iiif/ark:/12148/bpt6k62...  no      NaN      NaN   \n",
       "3  https://gallica.bnf.fr/iiif/ark:/12148/bpt6k62...  no      NaN      NaN   \n",
       "4  https://gallica.bnf.fr/iiif/ark:/12148/bpt6k62...  no      NaN      NaN   \n",
       "\n",
       "                                         mirador_url  \\\n",
       "0  https://iiif.unige.ch/mirador/https%3A%2F%2Fga...   \n",
       "1  https://iiif.unige.ch/mirador/https%3A%2F%2Fga...   \n",
       "2  https://iiif.unige.ch/mirador/https%3A%2F%2Fga...   \n",
       "3  https://iiif.unige.ch/mirador/https%3A%2F%2Fga...   \n",
       "4  https://iiif.unige.ch/mirador/https%3A%2F%2Fga...   \n",
       "\n",
       "                                 identifier  \\\n",
       "0  428ee2fbf953141427238cea3ec456a98adf5885   \n",
       "1  1ae09774e580bff5d6d318f09f5df6543ad52bef   \n",
       "2  1c875c69d335b240643fc6329bf5abc2524bcbd7   \n",
       "3  7f6870120de32101f4fc68be99fbf85fd1177d4f   \n",
       "4  81956e9a1b316a06f4180371e313962dde891310   \n",
       "\n",
       "                                          periodic  \n",
       "0  http://data.bnf.fr/ark:/12148/cb32706140t#about  \n",
       "1  http://data.bnf.fr/ark:/12148/cb32706140t#about  \n",
       "2  http://data.bnf.fr/ark:/12148/cb32706140t#about  \n",
       "3  http://data.bnf.fr/ark:/12148/cb32706140t#about  \n",
       "4  http://data.bnf.fr/ark:/12148/cb32706140t#about  "
      ]
     },
     "execution_count": 50,
     "metadata": {},
     "output_type": "execute_result"
    }
   ],
   "source": [
    "bnf.head()"
   ]
  },
  {
   "cell_type": "code",
   "execution_count": 51,
   "id": "7340f270-d972-4ed4-b07e-12fea6e7cc8b",
   "metadata": {},
   "outputs": [],
   "source": [
    "keep_col = ['Media URL','City','Country','wkt', 'normalized_date', 'Title', 'Journal Type']"
   ]
  },
  {
   "cell_type": "code",
   "execution_count": 52,
   "id": "2fea6655-3820-46d2-bfff-52a72628d066",
   "metadata": {},
   "outputs": [],
   "source": [
    "new_bnf = bnf[keep_col]"
   ]
  },
  {
   "cell_type": "code",
   "execution_count": 53,
   "id": "07df63f1-351c-4a05-9506-a3bf7ffdfcc0",
   "metadata": {},
   "outputs": [],
   "source": [
    "new_bnf = new_bnf.rename({'Media URL': 'manifest_url', 'normalized_date': 'Date'}, axis=1)"
   ]
  },
  {
   "cell_type": "code",
   "execution_count": 54,
   "id": "65e78684-5c3d-4242-aea0-7a596075fdb2",
   "metadata": {},
   "outputs": [],
   "source": [
    "df_all = pd.concat([df_merged, new_bnf], ignore_index=True, sort=False)"
   ]
  },
  {
   "cell_type": "code",
   "execution_count": 55,
   "id": "aaf1e3a4-65f1-46cb-9ddd-c28379a33920",
   "metadata": {},
   "outputs": [
    {
     "data": {
      "text/html": [
       "<div>\n",
       "<style scoped>\n",
       "    .dataframe tbody tr th:only-of-type {\n",
       "        vertical-align: middle;\n",
       "    }\n",
       "\n",
       "    .dataframe tbody tr th {\n",
       "        vertical-align: top;\n",
       "    }\n",
       "\n",
       "    .dataframe thead th {\n",
       "        text-align: right;\n",
       "    }\n",
       "</style>\n",
       "<table border=\"1\" class=\"dataframe\">\n",
       "  <thead>\n",
       "    <tr style=\"text-align: right;\">\n",
       "      <th></th>\n",
       "      <th>numero_cluster</th>\n",
       "      <th>manifest_url</th>\n",
       "      <th>canvas_number</th>\n",
       "      <th>image_url</th>\n",
       "      <th>City</th>\n",
       "      <th>Country</th>\n",
       "      <th>Title</th>\n",
       "      <th>wkt</th>\n",
       "      <th>Date</th>\n",
       "      <th>Journal Type</th>\n",
       "      <th>notice</th>\n",
       "    </tr>\n",
       "  </thead>\n",
       "  <tbody>\n",
       "    <tr>\n",
       "      <th>0</th>\n",
       "      <td>000af30067d3b901448d80dd3aec145a6b23cb7de3570a...</td>\n",
       "      <td>https://digi.ub.uni-heidelberg.de/diglit/iiif/...</td>\n",
       "      <td>0.0</td>\n",
       "      <td>https://digi.ub.uni-heidelberg.de/iiif/2/fb95%...</td>\n",
       "      <td>Munich</td>\n",
       "      <td>Germany</td>\n",
       "      <td>Fliegende Blätter</td>\n",
       "      <td>POINT(11.575 48.1375)</td>\n",
       "      <td>1891-01-01</td>\n",
       "      <td>Humour</td>\n",
       "      <td>NaN</td>\n",
       "    </tr>\n",
       "    <tr>\n",
       "      <th>1</th>\n",
       "      <td>000af30067d3b901448d80dd3aec145a6b23cb7de3570a...</td>\n",
       "      <td>https://digi.ub.uni-heidelberg.de/diglit/iiif/...</td>\n",
       "      <td>0.0</td>\n",
       "      <td>https://digi.ub.uni-heidelberg.de/iiif/2/fb96%...</td>\n",
       "      <td>Munich</td>\n",
       "      <td>Germany</td>\n",
       "      <td>Fliegende Blätter</td>\n",
       "      <td>POINT(11.575 48.1375)</td>\n",
       "      <td>1892-01-01</td>\n",
       "      <td>Humour</td>\n",
       "      <td>NaN</td>\n",
       "    </tr>\n",
       "    <tr>\n",
       "      <th>2</th>\n",
       "      <td>000af30067d3b901448d80dd3aec145a6b23cb7de3570a...</td>\n",
       "      <td>https://digi.ub.uni-heidelberg.de/diglit/iiif/...</td>\n",
       "      <td>0.0</td>\n",
       "      <td>https://digi.ub.uni-heidelberg.de/iiif/2/fb97%...</td>\n",
       "      <td>Munich</td>\n",
       "      <td>Germany</td>\n",
       "      <td>Fliegende Blätter</td>\n",
       "      <td>POINT(11.575 48.1375)</td>\n",
       "      <td>1892-01-01</td>\n",
       "      <td>Humour</td>\n",
       "      <td>NaN</td>\n",
       "    </tr>\n",
       "    <tr>\n",
       "      <th>3</th>\n",
       "      <td>000af30067d3b901448d80dd3aec145a6b23cb7de3570a...</td>\n",
       "      <td>https://digi.ub.uni-heidelberg.de/diglit/iiif/...</td>\n",
       "      <td>0.0</td>\n",
       "      <td>https://digi.ub.uni-heidelberg.de/iiif/2/fb94%...</td>\n",
       "      <td>Munich</td>\n",
       "      <td>Germany</td>\n",
       "      <td>Fliegende Blätter</td>\n",
       "      <td>POINT(11.575 48.1375)</td>\n",
       "      <td>1891-01-01</td>\n",
       "      <td>Humour</td>\n",
       "      <td>NaN</td>\n",
       "    </tr>\n",
       "    <tr>\n",
       "      <th>4</th>\n",
       "      <td>000af30067d3b901448d80dd3aec145a6b23cb7de3570a...</td>\n",
       "      <td>https://digi.ub.uni-heidelberg.de/diglit/iiif/...</td>\n",
       "      <td>0.0</td>\n",
       "      <td>https://digi.ub.uni-heidelberg.de/iiif/2/fb155...</td>\n",
       "      <td>Munich</td>\n",
       "      <td>Germany</td>\n",
       "      <td>Fliegende Blätter</td>\n",
       "      <td>POINT(11.575 48.1375)</td>\n",
       "      <td>1921-01-01</td>\n",
       "      <td>Humour</td>\n",
       "      <td>NaN</td>\n",
       "    </tr>\n",
       "  </tbody>\n",
       "</table>\n",
       "</div>"
      ],
      "text/plain": [
       "                                      numero_cluster  \\\n",
       "0  000af30067d3b901448d80dd3aec145a6b23cb7de3570a...   \n",
       "1  000af30067d3b901448d80dd3aec145a6b23cb7de3570a...   \n",
       "2  000af30067d3b901448d80dd3aec145a6b23cb7de3570a...   \n",
       "3  000af30067d3b901448d80dd3aec145a6b23cb7de3570a...   \n",
       "4  000af30067d3b901448d80dd3aec145a6b23cb7de3570a...   \n",
       "\n",
       "                                        manifest_url  canvas_number  \\\n",
       "0  https://digi.ub.uni-heidelberg.de/diglit/iiif/...            0.0   \n",
       "1  https://digi.ub.uni-heidelberg.de/diglit/iiif/...            0.0   \n",
       "2  https://digi.ub.uni-heidelberg.de/diglit/iiif/...            0.0   \n",
       "3  https://digi.ub.uni-heidelberg.de/diglit/iiif/...            0.0   \n",
       "4  https://digi.ub.uni-heidelberg.de/diglit/iiif/...            0.0   \n",
       "\n",
       "                                           image_url    City  Country  \\\n",
       "0  https://digi.ub.uni-heidelberg.de/iiif/2/fb95%...  Munich  Germany   \n",
       "1  https://digi.ub.uni-heidelberg.de/iiif/2/fb96%...  Munich  Germany   \n",
       "2  https://digi.ub.uni-heidelberg.de/iiif/2/fb97%...  Munich  Germany   \n",
       "3  https://digi.ub.uni-heidelberg.de/iiif/2/fb94%...  Munich  Germany   \n",
       "4  https://digi.ub.uni-heidelberg.de/iiif/2/fb155...  Munich  Germany   \n",
       "\n",
       "               Title                    wkt        Date Journal Type  notice  \n",
       "0  Fliegende Blätter  POINT(11.575 48.1375)  1891-01-01       Humour     NaN  \n",
       "1  Fliegende Blätter  POINT(11.575 48.1375)  1892-01-01       Humour     NaN  \n",
       "2  Fliegende Blätter  POINT(11.575 48.1375)  1892-01-01       Humour     NaN  \n",
       "3  Fliegende Blätter  POINT(11.575 48.1375)  1891-01-01       Humour     NaN  \n",
       "4  Fliegende Blätter  POINT(11.575 48.1375)  1921-01-01       Humour     NaN  "
      ]
     },
     "execution_count": 55,
     "metadata": {},
     "output_type": "execute_result"
    }
   ],
   "source": [
    "df_all.head()"
   ]
  },
  {
   "cell_type": "code",
   "execution_count": 56,
   "id": "2a66f6d4-09b1-4a8e-93ab-1bfc7d5a8b8c",
   "metadata": {},
   "outputs": [
    {
     "data": {
      "text/plain": [
       "3938"
      ]
     },
     "execution_count": 56,
     "metadata": {},
     "output_type": "execute_result"
    }
   ],
   "source": [
    "df_all[\"Title\"].nunique()"
   ]
  },
  {
   "cell_type": "code",
   "execution_count": 57,
   "id": "cf39453e-d4f1-47b9-b33c-03c397deea8e",
   "metadata": {},
   "outputs": [
    {
     "data": {
      "text/plain": [
       "1143"
      ]
     },
     "execution_count": 57,
     "metadata": {},
     "output_type": "execute_result"
    }
   ],
   "source": [
    "df_all[\"City\"].nunique()"
   ]
  },
  {
   "cell_type": "code",
   "execution_count": 58,
   "id": "1f2388c2-9815-42d0-9ba0-145e99805b78",
   "metadata": {},
   "outputs": [
    {
     "data": {
      "text/plain": [
       "40"
      ]
     },
     "execution_count": 58,
     "metadata": {},
     "output_type": "execute_result"
    }
   ],
   "source": [
    "df_all[\"Country\"].nunique()"
   ]
  },
  {
   "cell_type": "code",
   "execution_count": 59,
   "id": "5f455146-0e0c-41ba-8b12-f2d83c318f29",
   "metadata": {},
   "outputs": [
    {
     "data": {
      "text/plain": [
       "2933"
      ]
     },
     "execution_count": 59,
     "metadata": {},
     "output_type": "execute_result"
    }
   ],
   "source": [
    "df_merged2[\"Title\"].nunique()"
   ]
  },
  {
   "cell_type": "code",
   "execution_count": 60,
   "id": "9e3b99a2-6655-4e98-8e7a-7fdb64993cad",
   "metadata": {},
   "outputs": [],
   "source": [
    "df_everything = pd.concat([df_merged2, new_bnf], ignore_index=True, sort=False)"
   ]
  },
  {
   "cell_type": "code",
   "execution_count": 62,
   "id": "f02018cd-8dd9-4334-a90e-d92d2153b1ff",
   "metadata": {},
   "outputs": [
    {
     "data": {
      "text/plain": [
       "3941"
      ]
     },
     "execution_count": 62,
     "metadata": {},
     "output_type": "execute_result"
    }
   ],
   "source": [
    "df_everything[\"Title\"].nunique()"
   ]
  }
 ],
 "metadata": {
  "kernelspec": {
   "display_name": "Python 3 (ipykernel)",
   "language": "python",
   "name": "python3"
  },
  "language_info": {
   "codemirror_mode": {
    "name": "ipython",
    "version": 3
   },
   "file_extension": ".py",
   "mimetype": "text/x-python",
   "name": "python",
   "nbconvert_exporter": "python",
   "pygments_lexer": "ipython3",
   "version": "3.10.8"
  }
 },
 "nbformat": 4,
 "nbformat_minor": 5
}
