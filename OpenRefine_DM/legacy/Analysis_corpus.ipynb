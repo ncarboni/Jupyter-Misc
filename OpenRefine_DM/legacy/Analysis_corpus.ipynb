{
 "cells": [
  {
   "cell_type": "code",
   "execution_count": 1,
   "id": "9e63cb35-5730-4c59-bb67-6c8554675f0c",
   "metadata": {},
   "outputs": [],
   "source": [
    "import pandas as pd\n",
    "import os\n"
   ]
  },
  {
   "cell_type": "code",
   "execution_count": 1,
   "id": "82de8efa-b737-44ad-a4bb-5b2302327bdd",
   "metadata": {},
   "outputs": [],
   "source": [
    "keep_col = ['Media URL','City','Country','wkt', 'normalized_date', 'Title', 'Journal Type']"
   ]
  },
  {
   "cell_type": "code",
   "execution_count": 3,
   "id": "84b1825d-8634-4a8b-b3d9-2f3bd870c788",
   "metadata": {},
   "outputs": [],
   "source": [
    "loc = pd.read_csv(\"/Users/carboni/Documents/UNIGE/pynotebook/OpenRefine_fusion_Local/backup/LOC.csv\")"
   ]
  },
  {
   "cell_type": "code",
   "execution_count": 4,
   "id": "7307b23a-59f2-4c0a-baa9-f9c168464428",
   "metadata": {},
   "outputs": [],
   "source": [
    "new_loc = loc[keep_col]"
   ]
  },
  {
   "cell_type": "code",
   "execution_count": 5,
   "id": "aab3fd56-c59d-411d-b28b-73dc830159d1",
   "metadata": {},
   "outputs": [],
   "source": [
    "new_loc['Journal Type'] = 'News'"
   ]
  },
  {
   "cell_type": "code",
   "execution_count": 6,
   "id": "15afbad2-3f57-47ba-bbc9-1ed5dd27edc8",
   "metadata": {},
   "outputs": [],
   "source": [
    "new_loc['normalized_date'] = loc['normalized_date'].replace('/','-', regex=True)"
   ]
  },
  {
   "cell_type": "code",
   "execution_count": 7,
   "id": "0d75c3da-a123-4c78-a2e8-4f260dacc436",
   "metadata": {
    "tags": []
   },
   "outputs": [
    {
     "data": {
      "text/html": [
       "<div>\n",
       "<style scoped>\n",
       "    .dataframe tbody tr th:only-of-type {\n",
       "        vertical-align: middle;\n",
       "    }\n",
       "\n",
       "    .dataframe tbody tr th {\n",
       "        vertical-align: top;\n",
       "    }\n",
       "\n",
       "    .dataframe thead th {\n",
       "        text-align: right;\n",
       "    }\n",
       "</style>\n",
       "<table border=\"1\" class=\"dataframe\">\n",
       "  <thead>\n",
       "    <tr style=\"text-align: right;\">\n",
       "      <th></th>\n",
       "      <th>Media URL</th>\n",
       "      <th>City</th>\n",
       "      <th>Country</th>\n",
       "      <th>wkt</th>\n",
       "      <th>normalized_date</th>\n",
       "      <th>Title</th>\n",
       "      <th>Journal Type</th>\n",
       "    </tr>\n",
       "  </thead>\n",
       "  <tbody>\n",
       "    <tr>\n",
       "      <th>0</th>\n",
       "      <td>https://iiif.unige.ch/dhportal/ug9123302/manifest</td>\n",
       "      <td>Kennewick</td>\n",
       "      <td>United States of America</td>\n",
       "      <td>POINT(-119.15927 46.203475)</td>\n",
       "      <td>1913-05-16</td>\n",
       "      <td>The Kennewick courier.</td>\n",
       "      <td>News</td>\n",
       "    </tr>\n",
       "    <tr>\n",
       "      <th>1</th>\n",
       "      <td>https://iiif.unige.ch/dhportal/ug8660646/manifest</td>\n",
       "      <td>Kennewick</td>\n",
       "      <td>United States of America</td>\n",
       "      <td>POINT(-119.15927 46.203475)</td>\n",
       "      <td>1913-10-31</td>\n",
       "      <td>The Kennewick courier.</td>\n",
       "      <td>News</td>\n",
       "    </tr>\n",
       "    <tr>\n",
       "      <th>2</th>\n",
       "      <td>https://iiif.unige.ch/dhportal/ug9034616/manifest</td>\n",
       "      <td>Kennewick</td>\n",
       "      <td>United States of America</td>\n",
       "      <td>POINT(-119.15927 46.203475)</td>\n",
       "      <td>1913-02-14</td>\n",
       "      <td>The Kennewick courier.</td>\n",
       "      <td>News</td>\n",
       "    </tr>\n",
       "    <tr>\n",
       "      <th>3</th>\n",
       "      <td>https://iiif.unige.ch/dhportal/ug8390532/manifest</td>\n",
       "      <td>Kennewick</td>\n",
       "      <td>United States of America</td>\n",
       "      <td>POINT(-119.15927 46.203475)</td>\n",
       "      <td>1913-01-31</td>\n",
       "      <td>The Kennewick courier.</td>\n",
       "      <td>News</td>\n",
       "    </tr>\n",
       "    <tr>\n",
       "      <th>4</th>\n",
       "      <td>https://iiif.unige.ch/dhportal/ug8742023/manifest</td>\n",
       "      <td>Kennewick</td>\n",
       "      <td>United States of America</td>\n",
       "      <td>POINT(-119.15927 46.203475)</td>\n",
       "      <td>1913-07-11</td>\n",
       "      <td>The Kennewick courier.</td>\n",
       "      <td>News</td>\n",
       "    </tr>\n",
       "  </tbody>\n",
       "</table>\n",
       "</div>"
      ],
      "text/plain": [
       "                                           Media URL       City  \\\n",
       "0  https://iiif.unige.ch/dhportal/ug9123302/manifest  Kennewick   \n",
       "1  https://iiif.unige.ch/dhportal/ug8660646/manifest  Kennewick   \n",
       "2  https://iiif.unige.ch/dhportal/ug9034616/manifest  Kennewick   \n",
       "3  https://iiif.unige.ch/dhportal/ug8390532/manifest  Kennewick   \n",
       "4  https://iiif.unige.ch/dhportal/ug8742023/manifest  Kennewick   \n",
       "\n",
       "                    Country                          wkt normalized_date  \\\n",
       "0  United States of America  POINT(-119.15927 46.203475)      1913-05-16   \n",
       "1  United States of America  POINT(-119.15927 46.203475)      1913-10-31   \n",
       "2  United States of America  POINT(-119.15927 46.203475)      1913-02-14   \n",
       "3  United States of America  POINT(-119.15927 46.203475)      1913-01-31   \n",
       "4  United States of America  POINT(-119.15927 46.203475)      1913-07-11   \n",
       "\n",
       "                    Title Journal Type  \n",
       "0  The Kennewick courier.         News  \n",
       "1  The Kennewick courier.         News  \n",
       "2  The Kennewick courier.         News  \n",
       "3  The Kennewick courier.         News  \n",
       "4  The Kennewick courier.         News  "
      ]
     },
     "execution_count": 7,
     "metadata": {},
     "output_type": "execute_result"
    }
   ],
   "source": [
    "new_loc.head()"
   ]
  },
  {
   "cell_type": "code",
   "execution_count": 152,
   "id": "4bc2d5a1-cf3d-4dff-8ab0-3df0e4d72752",
   "metadata": {},
   "outputs": [],
   "source": [
    "new_loc.to_csv(\"/Users/carboni/Documents/UNIGE/pynotebook/OpenRefine_fusion/backup/LOC_type.csv\")"
   ]
  },
  {
   "cell_type": "markdown",
   "id": "9f06c5c8-0743-401a-9abf-f7b93969b6ef",
   "metadata": {},
   "source": [
    "## Full dataset"
   ]
  },
  {
   "cell_type": "code",
   "execution_count": 9,
   "id": "e1eb1495-afb6-44fa-800e-dc9c505dc9d2",
   "metadata": {},
   "outputs": [],
   "source": [
    "pdf = pd.read_csv(\"backup/Backup_2022_02_03_PDF_cleaned.csv\")\n",
    "new_pdf = pdf[keep_col]\n",
    "iiif = pd.read_csv(\"backup/BackupCBT_2022_02_03_IIIF_Only.csv\")\n",
    "new_iiif = iiif[keep_col]\n",
    "bnf = pd.read_csv(\"backup/BNF_periodic_all.csv\", low_memory=False)\n",
    "new_bnf = bnf[keep_col]\n",
    "bm = pd.read_csv(\"backup/Princeton_Blue_Mountain.csv\")\n",
    "new_bm = bm[keep_col]\n",
    "est = pd.read_csv(\"backup/Journaux_Est-Asiatique.csv\")\n",
    "new_est = est[keep_col]\n",
    "# wiki = pd.read_csv(\"backup/CORPUS_wikidata_visual_items_post_1870.csv\", low_memory=False, dtype=object)\n",
    "# new_wiki = wiki[keep_col]"
   ]
  },
  {
   "cell_type": "code",
   "execution_count": 11,
   "id": "572e60bd-126e-4947-86cc-9d07e8ba3094",
   "metadata": {
    "tags": []
   },
   "outputs": [],
   "source": [
    "merged_df = pd.concat([new_loc, new_pdf, new_iiif, new_bnf, new_bm, new_est])"
   ]
  },
  {
   "cell_type": "markdown",
   "id": "bed6b35b-eb64-436b-ae92-7ede5eb48a25",
   "metadata": {},
   "source": [
    "## Analysed Dataset"
   ]
  },
  {
   "cell_type": "code",
   "execution_count": 106,
   "id": "6ed06ed3-f94d-4ea6-9654-cd8babd7794b",
   "metadata": {},
   "outputs": [],
   "source": [
    "pdf = pd.read_csv(\"backup/Backup_2022_02_03_PDF_cleaned.csv\")\n",
    "new_pdf = pdf[keep_col]\n",
    "iiif = pd.read_csv(\"backup/BackupCBT_2022_02_03_IIIF_Only.csv\")\n",
    "new_iiif = iiif[keep_col]\n",
    "bnf = pd.read_csv(\"backup/BNF_periodic_explored.csv\", low_memory=False)\n",
    "new_bnf = bnf[keep_col]\n",
    "bm = pd.read_csv(\"backup/Princeton_Blue_Mountain.csv\")\n",
    "new_bm = bm[keep_col]\n",
    "est = pd.read_csv(\"backup/Journaux_Est-Asiatique.csv\")\n",
    "new_est = est[keep_col]"
   ]
  },
  {
   "cell_type": "code",
   "execution_count": 115,
   "id": "3b976ade-abc0-44ff-b5b0-43b7655a2e8b",
   "metadata": {},
   "outputs": [],
   "source": [
    "merged_df_no_loc = pd.concat([new_pdf, new_iiif, new_bnf, new_bm, new_est])"
   ]
  },
  {
   "cell_type": "code",
   "execution_count": 107,
   "id": "393f1552-e263-4e11-abdb-47d42479f32d",
   "metadata": {},
   "outputs": [],
   "source": [
    "merged_df = pd.concat([new_loc, new_pdf, new_iiif, new_bnf, new_bm, new_est])"
   ]
  },
  {
   "cell_type": "markdown",
   "id": "e98fb4cb-83e5-4761-920f-0465d8edd673",
   "metadata": {},
   "source": [
    "## Titles"
   ]
  },
  {
   "cell_type": "markdown",
   "id": "a4942aeb-e647-4cfc-bdc1-35bf7a9c83aa",
   "metadata": {},
   "source": [
    "#### LOC"
   ]
  },
  {
   "cell_type": "code",
   "execution_count": 114,
   "id": "3e4cfee6-ad6e-49fb-b3fd-8183f802e49f",
   "metadata": {},
   "outputs": [
    {
     "data": {
      "text/plain": [
       "1702"
      ]
     },
     "execution_count": 114,
     "metadata": {},
     "output_type": "execute_result"
    }
   ],
   "source": [
    "new_loc[\"Title\"].nunique()"
   ]
  },
  {
   "cell_type": "code",
   "execution_count": 123,
   "id": "66c222d1-b7ed-4d66-a959-f024526fc82a",
   "metadata": {},
   "outputs": [],
   "source": [
    "titles_loc = new_loc[\"Title\"].unique()"
   ]
  },
  {
   "cell_type": "code",
   "execution_count": 128,
   "id": "957fa87c-1bcc-41a6-a50b-5f26714b1ad4",
   "metadata": {},
   "outputs": [],
   "source": [
    "title_series_loc = pd.Series(titles_loc)"
   ]
  },
  {
   "cell_type": "code",
   "execution_count": 136,
   "id": "216c3b50-f6f7-4e7f-bdd5-397ac5d0832b",
   "metadata": {},
   "outputs": [],
   "source": [
    "title_series_loc.sort_values(ascending = True).to_csv(\"/Users/carboni/Documents/UNIGE/pynotebook/OpenRefine_fusion/backup/LOC_title.csv\")"
   ]
  },
  {
   "cell_type": "code",
   "execution_count": 150,
   "id": "4a4db8e9-e60e-41a6-a8c4-27231f57044a",
   "metadata": {},
   "outputs": [
    {
     "data": {
      "text/plain": [
       "840"
      ]
     },
     "execution_count": 150,
     "metadata": {},
     "output_type": "execute_result"
    }
   ],
   "source": [
    "new_loc[\"City\"].nunique()"
   ]
  },
  {
   "cell_type": "markdown",
   "id": "ddbe789c-cc89-4c9c-b218-fb9725b9957d",
   "metadata": {},
   "source": [
    "#### Merged no LOC"
   ]
  },
  {
   "cell_type": "code",
   "execution_count": 146,
   "id": "84fdca77-1957-4972-8e15-5bea33ac2f24",
   "metadata": {},
   "outputs": [
    {
     "data": {
      "text/plain": [
       "1791"
      ]
     },
     "execution_count": 146,
     "metadata": {},
     "output_type": "execute_result"
    }
   ],
   "source": [
    "merged_df_no_loc[\"Title\"].nunique()"
   ]
  },
  {
   "cell_type": "code",
   "execution_count": 147,
   "id": "bd7d7b97-7ef3-49fc-bdb8-9f35e5c1da73",
   "metadata": {
    "tags": []
   },
   "outputs": [],
   "source": [
    "titles_merged_no_loc = merged_df_no_loc[\"Title\"].unique()"
   ]
  },
  {
   "cell_type": "code",
   "execution_count": 148,
   "id": "c2b874ed-393c-4d33-816a-3b1f972b680f",
   "metadata": {},
   "outputs": [],
   "source": [
    "titles_merged_no_loc_series = pd.Series(titles_merged_no_loc)"
   ]
  },
  {
   "cell_type": "code",
   "execution_count": 149,
   "id": "e1ef1b9b-3ab3-4bb5-aa50-d5a3577234ce",
   "metadata": {},
   "outputs": [],
   "source": [
    "titles_merged_no_loc_series.sort_values(ascending = True).to_csv(\"/Users/carboni/Documents/UNIGE/pynotebook/OpenRefine_fusion/backup/MERGED_NO_LOC_title.csv\")"
   ]
  },
  {
   "cell_type": "code",
   "execution_count": 151,
   "id": "b971bca5-d43b-4e3d-8b9e-a315d4a22098",
   "metadata": {},
   "outputs": [
    {
     "data": {
      "text/plain": [
       "304"
      ]
     },
     "execution_count": 151,
     "metadata": {},
     "output_type": "execute_result"
    }
   ],
   "source": [
    "merged_df_no_loc[\"City\"].nunique()"
   ]
  },
  {
   "cell_type": "markdown",
   "id": "6e269150-e286-45c5-bfa6-b3e21d52a87a",
   "metadata": {},
   "source": [
    "#### Titles all"
   ]
  },
  {
   "cell_type": "code",
   "execution_count": 12,
   "id": "1e0a0383-6547-42b5-9604-e211d8a4e4ea",
   "metadata": {},
   "outputs": [
    {
     "data": {
      "text/plain": [
       "4455"
      ]
     },
     "execution_count": 12,
     "metadata": {},
     "output_type": "execute_result"
    }
   ],
   "source": [
    "merged_df[\"Title\"].nunique()"
   ]
  },
  {
   "cell_type": "code",
   "execution_count": 13,
   "id": "787733e6-001c-4063-87d6-b5c6a1317c83",
   "metadata": {},
   "outputs": [
    {
     "data": {
      "text/plain": [
       "45"
      ]
     },
     "execution_count": 13,
     "metadata": {},
     "output_type": "execute_result"
    }
   ],
   "source": [
    "merged_df[\"Country\"].nunique()"
   ]
  },
  {
   "cell_type": "code",
   "execution_count": 14,
   "id": "0ada63c8-773c-473b-8c57-98903cd28074",
   "metadata": {},
   "outputs": [
    {
     "data": {
      "text/plain": [
       "1193"
      ]
     },
     "execution_count": 14,
     "metadata": {},
     "output_type": "execute_result"
    }
   ],
   "source": [
    "merged_df[\"City\"].nunique()"
   ]
  },
  {
   "cell_type": "code",
   "execution_count": 143,
   "id": "94f4c625-d091-422e-a3d0-781af0ce5640",
   "metadata": {
    "tags": []
   },
   "outputs": [],
   "source": [
    "merged = merged_df[\"Title\"].unique()"
   ]
  },
  {
   "cell_type": "code",
   "execution_count": 144,
   "id": "e589505b-3514-4b6f-8a7b-6a582ae86d61",
   "metadata": {},
   "outputs": [],
   "source": [
    "merged_series = pd.Series(merged)"
   ]
  },
  {
   "cell_type": "code",
   "execution_count": 145,
   "id": "c9fec27d-1644-4803-9af0-5dd33629d874",
   "metadata": {},
   "outputs": [],
   "source": [
    "merged_series.sort_values(ascending = True).to_csv(\"/Users/carboni/Documents/UNIGE/pynotebook/OpenRefine_fusion/backup/MERGED_title.csv\")"
   ]
  },
  {
   "cell_type": "markdown",
   "id": "b3fe3aad-04b4-4c49-9fe1-33fdf442b4f1",
   "metadata": {
    "tags": []
   },
   "source": [
    "## "
   ]
  },
  {
   "cell_type": "code",
   "execution_count": 108,
   "id": "93f3cae7-1edc-4029-ae5c-3ffd2545f9a5",
   "metadata": {},
   "outputs": [],
   "source": [
    "def date_split(date:str)-> (str,str,str):\n",
    "    if type(date) is not str:\n",
    "        return float('nan'),float('nan'),float('nan')\n",
    "    splits = date.split('-')\n",
    "    vals = splits + [float('nan')] * (3 - len(splits))\n",
    "    return [float(v) for v in vals]\n",
    "\n",
    "merged_df['year'], merged_df['month'], merged_df['day'] = zip(*merged_df['normalized_date'].apply(date_split))\n",
    "\n",
    "merged_1870 = merged_df[merged_df['year'] >= 1870.]"
   ]
  },
  {
   "cell_type": "code",
   "execution_count": 109,
   "id": "87350dbd-0efb-47f4-802f-172721630506",
   "metadata": {},
   "outputs": [
    {
     "name": "stderr",
     "output_type": "stream",
     "text": [
      "/var/folders/nw/zm4zl9xn4_d_rq3fnglst3n80000gp/T/ipykernel_91316/3457124699.py:1: FutureWarning: In a future version of pandas all arguments of DataFrame.drop except for the argument 'labels' will be keyword-only.\n",
      "  merged_1870 = merged_1870.drop(['month','day', 'year'], 1)\n"
     ]
    }
   ],
   "source": [
    "merged_1870 = merged_1870.drop(['month','day', 'year'], 1)"
   ]
  },
  {
   "cell_type": "code",
   "execution_count": 110,
   "id": "96c21a98-0471-4f03-b286-d7009cb31f54",
   "metadata": {},
   "outputs": [
    {
     "name": "stdout",
     "output_type": "stream",
     "text": [
      "<class 'pandas.core.frame.DataFrame'>\n",
      "Int64Index: 3218731 entries, 0 to 4690\n",
      "Data columns (total 7 columns):\n",
      " #   Column           Dtype \n",
      "---  ------           ----- \n",
      " 0   Media URL        object\n",
      " 1   City             object\n",
      " 2   Country          object\n",
      " 3   wkt              object\n",
      " 4   normalized_date  object\n",
      " 5   Title            object\n",
      " 6   Journal Type     object\n",
      "dtypes: object(7)\n",
      "memory usage: 196.5+ MB\n"
     ]
    }
   ],
   "source": [
    "merged_1870.info()"
   ]
  },
  {
   "cell_type": "code",
   "execution_count": 154,
   "id": "1bba8c14-f23f-4234-b645-2962180bcb95",
   "metadata": {},
   "outputs": [
    {
     "ename": "OSError",
     "evalue": "Cannot save file into a non-existent directory: '/Users/carboni/Documents/UNIGE/pynotebook/OpenRefine_fusion/backup/combined_explored_loc'",
     "output_type": "error",
     "traceback": [
      "\u001b[0;31m---------------------------------------------------------------------------\u001b[0m",
      "\u001b[0;31mOSError\u001b[0m                                   Traceback (most recent call last)",
      "Input \u001b[0;32mIn [154]\u001b[0m, in \u001b[0;36m<cell line: 1>\u001b[0;34m()\u001b[0m\n\u001b[0;32m----> 1\u001b[0m \u001b[43mmerged_1870\u001b[49m\u001b[38;5;241;43m.\u001b[39;49m\u001b[43mto_csv\u001b[49m\u001b[43m(\u001b[49m\u001b[38;5;124;43m\"\u001b[39;49m\u001b[38;5;124;43m/Users/carboni/Documents/UNIGE/pynotebook/OpenRefine_fusion/backup/combined_explored_loc/combined_explored_all2.csv\u001b[39;49m\u001b[38;5;124;43m\"\u001b[39;49m\u001b[43m,\u001b[49m\u001b[43m \u001b[49m\u001b[43mindex\u001b[49m\u001b[38;5;241;43m=\u001b[39;49m\u001b[38;5;28;43;01mFalse\u001b[39;49;00m\u001b[43m)\u001b[49m\n",
      "File \u001b[0;32m/opt/homebrew/Caskroom/miniforge/base/envs/jupyter/lib/python3.8/site-packages/pandas/core/generic.py:3563\u001b[0m, in \u001b[0;36mNDFrame.to_csv\u001b[0;34m(self, path_or_buf, sep, na_rep, float_format, columns, header, index, index_label, mode, encoding, compression, quoting, quotechar, line_terminator, chunksize, date_format, doublequote, escapechar, decimal, errors, storage_options)\u001b[0m\n\u001b[1;32m   3552\u001b[0m df \u001b[38;5;241m=\u001b[39m \u001b[38;5;28mself\u001b[39m \u001b[38;5;28;01mif\u001b[39;00m \u001b[38;5;28misinstance\u001b[39m(\u001b[38;5;28mself\u001b[39m, ABCDataFrame) \u001b[38;5;28;01melse\u001b[39;00m \u001b[38;5;28mself\u001b[39m\u001b[38;5;241m.\u001b[39mto_frame()\n\u001b[1;32m   3554\u001b[0m formatter \u001b[38;5;241m=\u001b[39m DataFrameFormatter(\n\u001b[1;32m   3555\u001b[0m     frame\u001b[38;5;241m=\u001b[39mdf,\n\u001b[1;32m   3556\u001b[0m     header\u001b[38;5;241m=\u001b[39mheader,\n\u001b[0;32m   (...)\u001b[0m\n\u001b[1;32m   3560\u001b[0m     decimal\u001b[38;5;241m=\u001b[39mdecimal,\n\u001b[1;32m   3561\u001b[0m )\n\u001b[0;32m-> 3563\u001b[0m \u001b[38;5;28;01mreturn\u001b[39;00m \u001b[43mDataFrameRenderer\u001b[49m\u001b[43m(\u001b[49m\u001b[43mformatter\u001b[49m\u001b[43m)\u001b[49m\u001b[38;5;241;43m.\u001b[39;49m\u001b[43mto_csv\u001b[49m\u001b[43m(\u001b[49m\n\u001b[1;32m   3564\u001b[0m \u001b[43m    \u001b[49m\u001b[43mpath_or_buf\u001b[49m\u001b[43m,\u001b[49m\n\u001b[1;32m   3565\u001b[0m \u001b[43m    \u001b[49m\u001b[43mline_terminator\u001b[49m\u001b[38;5;241;43m=\u001b[39;49m\u001b[43mline_terminator\u001b[49m\u001b[43m,\u001b[49m\n\u001b[1;32m   3566\u001b[0m \u001b[43m    \u001b[49m\u001b[43msep\u001b[49m\u001b[38;5;241;43m=\u001b[39;49m\u001b[43msep\u001b[49m\u001b[43m,\u001b[49m\n\u001b[1;32m   3567\u001b[0m \u001b[43m    \u001b[49m\u001b[43mencoding\u001b[49m\u001b[38;5;241;43m=\u001b[39;49m\u001b[43mencoding\u001b[49m\u001b[43m,\u001b[49m\n\u001b[1;32m   3568\u001b[0m \u001b[43m    \u001b[49m\u001b[43merrors\u001b[49m\u001b[38;5;241;43m=\u001b[39;49m\u001b[43merrors\u001b[49m\u001b[43m,\u001b[49m\n\u001b[1;32m   3569\u001b[0m \u001b[43m    \u001b[49m\u001b[43mcompression\u001b[49m\u001b[38;5;241;43m=\u001b[39;49m\u001b[43mcompression\u001b[49m\u001b[43m,\u001b[49m\n\u001b[1;32m   3570\u001b[0m \u001b[43m    \u001b[49m\u001b[43mquoting\u001b[49m\u001b[38;5;241;43m=\u001b[39;49m\u001b[43mquoting\u001b[49m\u001b[43m,\u001b[49m\n\u001b[1;32m   3571\u001b[0m \u001b[43m    \u001b[49m\u001b[43mcolumns\u001b[49m\u001b[38;5;241;43m=\u001b[39;49m\u001b[43mcolumns\u001b[49m\u001b[43m,\u001b[49m\n\u001b[1;32m   3572\u001b[0m \u001b[43m    \u001b[49m\u001b[43mindex_label\u001b[49m\u001b[38;5;241;43m=\u001b[39;49m\u001b[43mindex_label\u001b[49m\u001b[43m,\u001b[49m\n\u001b[1;32m   3573\u001b[0m \u001b[43m    \u001b[49m\u001b[43mmode\u001b[49m\u001b[38;5;241;43m=\u001b[39;49m\u001b[43mmode\u001b[49m\u001b[43m,\u001b[49m\n\u001b[1;32m   3574\u001b[0m \u001b[43m    \u001b[49m\u001b[43mchunksize\u001b[49m\u001b[38;5;241;43m=\u001b[39;49m\u001b[43mchunksize\u001b[49m\u001b[43m,\u001b[49m\n\u001b[1;32m   3575\u001b[0m \u001b[43m    \u001b[49m\u001b[43mquotechar\u001b[49m\u001b[38;5;241;43m=\u001b[39;49m\u001b[43mquotechar\u001b[49m\u001b[43m,\u001b[49m\n\u001b[1;32m   3576\u001b[0m \u001b[43m    \u001b[49m\u001b[43mdate_format\u001b[49m\u001b[38;5;241;43m=\u001b[39;49m\u001b[43mdate_format\u001b[49m\u001b[43m,\u001b[49m\n\u001b[1;32m   3577\u001b[0m \u001b[43m    \u001b[49m\u001b[43mdoublequote\u001b[49m\u001b[38;5;241;43m=\u001b[39;49m\u001b[43mdoublequote\u001b[49m\u001b[43m,\u001b[49m\n\u001b[1;32m   3578\u001b[0m \u001b[43m    \u001b[49m\u001b[43mescapechar\u001b[49m\u001b[38;5;241;43m=\u001b[39;49m\u001b[43mescapechar\u001b[49m\u001b[43m,\u001b[49m\n\u001b[1;32m   3579\u001b[0m \u001b[43m    \u001b[49m\u001b[43mstorage_options\u001b[49m\u001b[38;5;241;43m=\u001b[39;49m\u001b[43mstorage_options\u001b[49m\u001b[43m,\u001b[49m\n\u001b[1;32m   3580\u001b[0m \u001b[43m\u001b[49m\u001b[43m)\u001b[49m\n",
      "File \u001b[0;32m/opt/homebrew/Caskroom/miniforge/base/envs/jupyter/lib/python3.8/site-packages/pandas/io/formats/format.py:1180\u001b[0m, in \u001b[0;36mDataFrameRenderer.to_csv\u001b[0;34m(self, path_or_buf, encoding, sep, columns, index_label, mode, compression, quoting, quotechar, line_terminator, chunksize, date_format, doublequote, escapechar, errors, storage_options)\u001b[0m\n\u001b[1;32m   1159\u001b[0m     created_buffer \u001b[38;5;241m=\u001b[39m \u001b[38;5;28;01mFalse\u001b[39;00m\n\u001b[1;32m   1161\u001b[0m csv_formatter \u001b[38;5;241m=\u001b[39m CSVFormatter(\n\u001b[1;32m   1162\u001b[0m     path_or_buf\u001b[38;5;241m=\u001b[39mpath_or_buf,\n\u001b[1;32m   1163\u001b[0m     line_terminator\u001b[38;5;241m=\u001b[39mline_terminator,\n\u001b[0;32m   (...)\u001b[0m\n\u001b[1;32m   1178\u001b[0m     formatter\u001b[38;5;241m=\u001b[39m\u001b[38;5;28mself\u001b[39m\u001b[38;5;241m.\u001b[39mfmt,\n\u001b[1;32m   1179\u001b[0m )\n\u001b[0;32m-> 1180\u001b[0m \u001b[43mcsv_formatter\u001b[49m\u001b[38;5;241;43m.\u001b[39;49m\u001b[43msave\u001b[49m\u001b[43m(\u001b[49m\u001b[43m)\u001b[49m\n\u001b[1;32m   1182\u001b[0m \u001b[38;5;28;01mif\u001b[39;00m created_buffer:\n\u001b[1;32m   1183\u001b[0m     \u001b[38;5;28;01massert\u001b[39;00m \u001b[38;5;28misinstance\u001b[39m(path_or_buf, StringIO)\n",
      "File \u001b[0;32m/opt/homebrew/Caskroom/miniforge/base/envs/jupyter/lib/python3.8/site-packages/pandas/io/formats/csvs.py:241\u001b[0m, in \u001b[0;36mCSVFormatter.save\u001b[0;34m(self)\u001b[0m\n\u001b[1;32m    237\u001b[0m \u001b[38;5;124;03m\"\"\"\u001b[39;00m\n\u001b[1;32m    238\u001b[0m \u001b[38;5;124;03mCreate the writer & save.\u001b[39;00m\n\u001b[1;32m    239\u001b[0m \u001b[38;5;124;03m\"\"\"\u001b[39;00m\n\u001b[1;32m    240\u001b[0m \u001b[38;5;66;03m# apply compression and byte/text conversion\u001b[39;00m\n\u001b[0;32m--> 241\u001b[0m \u001b[38;5;28;01mwith\u001b[39;00m \u001b[43mget_handle\u001b[49m\u001b[43m(\u001b[49m\n\u001b[1;32m    242\u001b[0m \u001b[43m    \u001b[49m\u001b[38;5;28;43mself\u001b[39;49m\u001b[38;5;241;43m.\u001b[39;49m\u001b[43mfilepath_or_buffer\u001b[49m\u001b[43m,\u001b[49m\n\u001b[1;32m    243\u001b[0m \u001b[43m    \u001b[49m\u001b[38;5;28;43mself\u001b[39;49m\u001b[38;5;241;43m.\u001b[39;49m\u001b[43mmode\u001b[49m\u001b[43m,\u001b[49m\n\u001b[1;32m    244\u001b[0m \u001b[43m    \u001b[49m\u001b[43mencoding\u001b[49m\u001b[38;5;241;43m=\u001b[39;49m\u001b[38;5;28;43mself\u001b[39;49m\u001b[38;5;241;43m.\u001b[39;49m\u001b[43mencoding\u001b[49m\u001b[43m,\u001b[49m\n\u001b[1;32m    245\u001b[0m \u001b[43m    \u001b[49m\u001b[43merrors\u001b[49m\u001b[38;5;241;43m=\u001b[39;49m\u001b[38;5;28;43mself\u001b[39;49m\u001b[38;5;241;43m.\u001b[39;49m\u001b[43merrors\u001b[49m\u001b[43m,\u001b[49m\n\u001b[1;32m    246\u001b[0m \u001b[43m    \u001b[49m\u001b[43mcompression\u001b[49m\u001b[38;5;241;43m=\u001b[39;49m\u001b[38;5;28;43mself\u001b[39;49m\u001b[38;5;241;43m.\u001b[39;49m\u001b[43mcompression\u001b[49m\u001b[43m,\u001b[49m\n\u001b[1;32m    247\u001b[0m \u001b[43m    \u001b[49m\u001b[43mstorage_options\u001b[49m\u001b[38;5;241;43m=\u001b[39;49m\u001b[38;5;28;43mself\u001b[39;49m\u001b[38;5;241;43m.\u001b[39;49m\u001b[43mstorage_options\u001b[49m\u001b[43m,\u001b[49m\n\u001b[1;32m    248\u001b[0m \u001b[43m\u001b[49m\u001b[43m)\u001b[49m \u001b[38;5;28;01mas\u001b[39;00m handles:\n\u001b[1;32m    249\u001b[0m \n\u001b[1;32m    250\u001b[0m     \u001b[38;5;66;03m# Note: self.encoding is irrelevant here\u001b[39;00m\n\u001b[1;32m    251\u001b[0m     \u001b[38;5;28mself\u001b[39m\u001b[38;5;241m.\u001b[39mwriter \u001b[38;5;241m=\u001b[39m csvlib\u001b[38;5;241m.\u001b[39mwriter(\n\u001b[1;32m    252\u001b[0m         handles\u001b[38;5;241m.\u001b[39mhandle,\n\u001b[1;32m    253\u001b[0m         lineterminator\u001b[38;5;241m=\u001b[39m\u001b[38;5;28mself\u001b[39m\u001b[38;5;241m.\u001b[39mline_terminator,\n\u001b[0;32m   (...)\u001b[0m\n\u001b[1;32m    258\u001b[0m         quotechar\u001b[38;5;241m=\u001b[39m\u001b[38;5;28mself\u001b[39m\u001b[38;5;241m.\u001b[39mquotechar,\n\u001b[1;32m    259\u001b[0m     )\n\u001b[1;32m    261\u001b[0m     \u001b[38;5;28mself\u001b[39m\u001b[38;5;241m.\u001b[39m_save()\n",
      "File \u001b[0;32m/opt/homebrew/Caskroom/miniforge/base/envs/jupyter/lib/python3.8/site-packages/pandas/io/common.py:697\u001b[0m, in \u001b[0;36mget_handle\u001b[0;34m(path_or_buf, mode, encoding, compression, memory_map, is_text, errors, storage_options)\u001b[0m\n\u001b[1;32m    695\u001b[0m \u001b[38;5;66;03m# Only for write methods\u001b[39;00m\n\u001b[1;32m    696\u001b[0m \u001b[38;5;28;01mif\u001b[39;00m \u001b[38;5;124m\"\u001b[39m\u001b[38;5;124mr\u001b[39m\u001b[38;5;124m\"\u001b[39m \u001b[38;5;129;01mnot\u001b[39;00m \u001b[38;5;129;01min\u001b[39;00m mode \u001b[38;5;129;01mand\u001b[39;00m is_path:\n\u001b[0;32m--> 697\u001b[0m     \u001b[43mcheck_parent_directory\u001b[49m\u001b[43m(\u001b[49m\u001b[38;5;28;43mstr\u001b[39;49m\u001b[43m(\u001b[49m\u001b[43mhandle\u001b[49m\u001b[43m)\u001b[49m\u001b[43m)\u001b[49m\n\u001b[1;32m    699\u001b[0m \u001b[38;5;28;01mif\u001b[39;00m compression:\n\u001b[1;32m    700\u001b[0m     \u001b[38;5;28;01mif\u001b[39;00m compression \u001b[38;5;241m!=\u001b[39m \u001b[38;5;124m\"\u001b[39m\u001b[38;5;124mzstd\u001b[39m\u001b[38;5;124m\"\u001b[39m:\n\u001b[1;32m    701\u001b[0m         \u001b[38;5;66;03m# compression libraries do not like an explicit text-mode\u001b[39;00m\n",
      "File \u001b[0;32m/opt/homebrew/Caskroom/miniforge/base/envs/jupyter/lib/python3.8/site-packages/pandas/io/common.py:571\u001b[0m, in \u001b[0;36mcheck_parent_directory\u001b[0;34m(path)\u001b[0m\n\u001b[1;32m    569\u001b[0m parent \u001b[38;5;241m=\u001b[39m Path(path)\u001b[38;5;241m.\u001b[39mparent\n\u001b[1;32m    570\u001b[0m \u001b[38;5;28;01mif\u001b[39;00m \u001b[38;5;129;01mnot\u001b[39;00m parent\u001b[38;5;241m.\u001b[39mis_dir():\n\u001b[0;32m--> 571\u001b[0m     \u001b[38;5;28;01mraise\u001b[39;00m \u001b[38;5;167;01mOSError\u001b[39;00m(\u001b[38;5;124mfr\u001b[39m\u001b[38;5;124m\"\u001b[39m\u001b[38;5;124mCannot save file into a non-existent directory: \u001b[39m\u001b[38;5;124m'\u001b[39m\u001b[38;5;132;01m{\u001b[39;00mparent\u001b[38;5;132;01m}\u001b[39;00m\u001b[38;5;124m'\u001b[39m\u001b[38;5;124m\"\u001b[39m)\n",
      "\u001b[0;31mOSError\u001b[0m: Cannot save file into a non-existent directory: '/Users/carboni/Documents/UNIGE/pynotebook/OpenRefine_fusion/backup/combined_explored_loc'"
     ]
    }
   ],
   "source": [
    "merged_1870.to_csv(\"/Users/carboni/Documents/UNIGE/pynotebook/OpenRefine_fusion/backup/combined_explored_loc/combined_explored_all2.csv\", index=False)"
   ]
  },
  {
   "cell_type": "code",
   "execution_count": 111,
   "id": "598b8cc6-28b2-41ae-8a74-73e951495a7b",
   "metadata": {
    "tags": []
   },
   "outputs": [
    {
     "data": {
      "text/html": [
       "<div>\n",
       "<style scoped>\n",
       "    .dataframe tbody tr th:only-of-type {\n",
       "        vertical-align: middle;\n",
       "    }\n",
       "\n",
       "    .dataframe tbody tr th {\n",
       "        vertical-align: top;\n",
       "    }\n",
       "\n",
       "    .dataframe thead th {\n",
       "        text-align: right;\n",
       "    }\n",
       "</style>\n",
       "<table border=\"1\" class=\"dataframe\">\n",
       "  <thead>\n",
       "    <tr style=\"text-align: right;\">\n",
       "      <th></th>\n",
       "      <th>Media URL</th>\n",
       "      <th>City</th>\n",
       "      <th>Country</th>\n",
       "      <th>wkt</th>\n",
       "      <th>normalized_date</th>\n",
       "      <th>Title</th>\n",
       "      <th>Journal Type</th>\n",
       "    </tr>\n",
       "  </thead>\n",
       "  <tbody>\n",
       "    <tr>\n",
       "      <th>0</th>\n",
       "      <td>https://iiif.unige.ch/dhportal/ug9123302/manifest</td>\n",
       "      <td>Kennewick</td>\n",
       "      <td>United States of America</td>\n",
       "      <td>POINT(-119.15927 46.203475)</td>\n",
       "      <td>1913-05-16</td>\n",
       "      <td>The Kennewick courier.</td>\n",
       "      <td>News</td>\n",
       "    </tr>\n",
       "    <tr>\n",
       "      <th>1</th>\n",
       "      <td>https://iiif.unige.ch/dhportal/ug8660646/manifest</td>\n",
       "      <td>Kennewick</td>\n",
       "      <td>United States of America</td>\n",
       "      <td>POINT(-119.15927 46.203475)</td>\n",
       "      <td>1913-10-31</td>\n",
       "      <td>The Kennewick courier.</td>\n",
       "      <td>News</td>\n",
       "    </tr>\n",
       "    <tr>\n",
       "      <th>2</th>\n",
       "      <td>https://iiif.unige.ch/dhportal/ug9034616/manifest</td>\n",
       "      <td>Kennewick</td>\n",
       "      <td>United States of America</td>\n",
       "      <td>POINT(-119.15927 46.203475)</td>\n",
       "      <td>1913-02-14</td>\n",
       "      <td>The Kennewick courier.</td>\n",
       "      <td>News</td>\n",
       "    </tr>\n",
       "    <tr>\n",
       "      <th>3</th>\n",
       "      <td>https://iiif.unige.ch/dhportal/ug8390532/manifest</td>\n",
       "      <td>Kennewick</td>\n",
       "      <td>United States of America</td>\n",
       "      <td>POINT(-119.15927 46.203475)</td>\n",
       "      <td>1913-01-31</td>\n",
       "      <td>The Kennewick courier.</td>\n",
       "      <td>News</td>\n",
       "    </tr>\n",
       "    <tr>\n",
       "      <th>4</th>\n",
       "      <td>https://iiif.unige.ch/dhportal/ug8742023/manifest</td>\n",
       "      <td>Kennewick</td>\n",
       "      <td>United States of America</td>\n",
       "      <td>POINT(-119.15927 46.203475)</td>\n",
       "      <td>1913-07-11</td>\n",
       "      <td>The Kennewick courier.</td>\n",
       "      <td>News</td>\n",
       "    </tr>\n",
       "    <tr>\n",
       "      <th>5</th>\n",
       "      <td>https://iiif.unige.ch/dhportal/ug9078267/manifest</td>\n",
       "      <td>Kennewick</td>\n",
       "      <td>United States of America</td>\n",
       "      <td>POINT(-119.15927 46.203475)</td>\n",
       "      <td>1913-10-17</td>\n",
       "      <td>The Kennewick courier.</td>\n",
       "      <td>News</td>\n",
       "    </tr>\n",
       "  </tbody>\n",
       "</table>\n",
       "</div>"
      ],
      "text/plain": [
       "                                           Media URL       City  \\\n",
       "0  https://iiif.unige.ch/dhportal/ug9123302/manifest  Kennewick   \n",
       "1  https://iiif.unige.ch/dhportal/ug8660646/manifest  Kennewick   \n",
       "2  https://iiif.unige.ch/dhportal/ug9034616/manifest  Kennewick   \n",
       "3  https://iiif.unige.ch/dhportal/ug8390532/manifest  Kennewick   \n",
       "4  https://iiif.unige.ch/dhportal/ug8742023/manifest  Kennewick   \n",
       "5  https://iiif.unige.ch/dhportal/ug9078267/manifest  Kennewick   \n",
       "\n",
       "                    Country                          wkt normalized_date  \\\n",
       "0  United States of America  POINT(-119.15927 46.203475)      1913-05-16   \n",
       "1  United States of America  POINT(-119.15927 46.203475)      1913-10-31   \n",
       "2  United States of America  POINT(-119.15927 46.203475)      1913-02-14   \n",
       "3  United States of America  POINT(-119.15927 46.203475)      1913-01-31   \n",
       "4  United States of America  POINT(-119.15927 46.203475)      1913-07-11   \n",
       "5  United States of America  POINT(-119.15927 46.203475)      1913-10-17   \n",
       "\n",
       "                    Title Journal Type  \n",
       "0  The Kennewick courier.         News  \n",
       "1  The Kennewick courier.         News  \n",
       "2  The Kennewick courier.         News  \n",
       "3  The Kennewick courier.         News  \n",
       "4  The Kennewick courier.         News  \n",
       "5  The Kennewick courier.         News  "
      ]
     },
     "execution_count": 111,
     "metadata": {},
     "output_type": "execute_result"
    }
   ],
   "source": [
    "merged_1870.head(6)"
   ]
  },
  {
   "cell_type": "code",
   "execution_count": 112,
   "id": "344cace3-af22-404b-8353-c7df0f8e744d",
   "metadata": {},
   "outputs": [
    {
     "data": {
      "text/plain": [
       "1109"
      ]
     },
     "execution_count": 112,
     "metadata": {},
     "output_type": "execute_result"
    }
   ],
   "source": [
    "merged_1870[\"City\"].nunique()"
   ]
  },
  {
   "cell_type": "code",
   "execution_count": 113,
   "id": "00cfedf0-e7f0-47c4-80a7-b9475914a1c7",
   "metadata": {},
   "outputs": [
    {
     "data": {
      "text/plain": [
       "3478"
      ]
     },
     "execution_count": 113,
     "metadata": {},
     "output_type": "execute_result"
    }
   ],
   "source": [
    "merged_1870[\"Title\"].nunique()"
   ]
  },
  {
   "cell_type": "markdown",
   "id": "14c84432-8168-408f-9f46-fbe7e2bdeb6a",
   "metadata": {
    "tags": []
   },
   "source": [
    "## Pivot - Cities only"
   ]
  },
  {
   "cell_type": "code",
   "execution_count": 72,
   "id": "a2e00c3b-5c45-4a73-89dd-be5c6946da26",
   "metadata": {},
   "outputs": [],
   "source": [
    "pivot_city = pd.pivot_table(merged_1870, values='Media URL', index='City', aggfunc=pd.Series.nunique)"
   ]
  },
  {
   "cell_type": "code",
   "execution_count": 73,
   "id": "f49de248-6777-44f7-8cdc-c762a8358b0c",
   "metadata": {},
   "outputs": [
    {
     "data": {
      "text/html": [
       "<div>\n",
       "<style scoped>\n",
       "    .dataframe tbody tr th:only-of-type {\n",
       "        vertical-align: middle;\n",
       "    }\n",
       "\n",
       "    .dataframe tbody tr th {\n",
       "        vertical-align: top;\n",
       "    }\n",
       "\n",
       "    .dataframe thead th {\n",
       "        text-align: right;\n",
       "    }\n",
       "</style>\n",
       "<table border=\"1\" class=\"dataframe\">\n",
       "  <thead>\n",
       "    <tr style=\"text-align: right;\">\n",
       "      <th></th>\n",
       "      <th>Media URL</th>\n",
       "    </tr>\n",
       "    <tr>\n",
       "      <th>City</th>\n",
       "      <th></th>\n",
       "    </tr>\n",
       "  </thead>\n",
       "  <tbody>\n",
       "    <tr>\n",
       "      <th>'s-Hertogenbosch</th>\n",
       "      <td>20</td>\n",
       "    </tr>\n",
       "    <tr>\n",
       "      <th>A Coruña</th>\n",
       "      <td>2</td>\n",
       "    </tr>\n",
       "    <tr>\n",
       "      <th>Aachen</th>\n",
       "      <td>11</td>\n",
       "    </tr>\n",
       "    <tr>\n",
       "      <th>Aalbeke</th>\n",
       "      <td>1</td>\n",
       "    </tr>\n",
       "    <tr>\n",
       "      <th>Aalborg Municipality</th>\n",
       "      <td>1</td>\n",
       "    </tr>\n",
       "    <tr>\n",
       "      <th>Aalten</th>\n",
       "      <td>1</td>\n",
       "    </tr>\n",
       "    <tr>\n",
       "      <th>Aarau</th>\n",
       "      <td>1</td>\n",
       "    </tr>\n",
       "    <tr>\n",
       "      <th>Abbeville</th>\n",
       "      <td>4276</td>\n",
       "    </tr>\n",
       "    <tr>\n",
       "      <th>Aberdare</th>\n",
       "      <td>2</td>\n",
       "    </tr>\n",
       "    <tr>\n",
       "      <th>Aberdeen</th>\n",
       "      <td>4175</td>\n",
       "    </tr>\n",
       "    <tr>\n",
       "      <th>Aberdeen City</th>\n",
       "      <td>3</td>\n",
       "    </tr>\n",
       "    <tr>\n",
       "      <th>Aberdeenshire</th>\n",
       "      <td>1</td>\n",
       "    </tr>\n",
       "    <tr>\n",
       "      <th>Abergavenny</th>\n",
       "      <td>1</td>\n",
       "    </tr>\n",
       "    <tr>\n",
       "      <th>Aberystwyth</th>\n",
       "      <td>2</td>\n",
       "    </tr>\n",
       "    <tr>\n",
       "      <th>Abfaltersbach</th>\n",
       "      <td>1</td>\n",
       "    </tr>\n",
       "    <tr>\n",
       "      <th>Abilene</th>\n",
       "      <td>2603</td>\n",
       "    </tr>\n",
       "    <tr>\n",
       "      <th>Accomac</th>\n",
       "      <td>134</td>\n",
       "    </tr>\n",
       "    <tr>\n",
       "      <th>Acton</th>\n",
       "      <td>1</td>\n",
       "    </tr>\n",
       "    <tr>\n",
       "      <th>Adaminaby</th>\n",
       "      <td>1</td>\n",
       "    </tr>\n",
       "    <tr>\n",
       "      <th>Adamov</th>\n",
       "      <td>2</td>\n",
       "    </tr>\n",
       "  </tbody>\n",
       "</table>\n",
       "</div>"
      ],
      "text/plain": [
       "                      Media URL\n",
       "City                           \n",
       "'s-Hertogenbosch             20\n",
       "A Coruña                      2\n",
       "Aachen                       11\n",
       "Aalbeke                       1\n",
       "Aalborg Municipality          1\n",
       "Aalten                        1\n",
       "Aarau                         1\n",
       "Abbeville                  4276\n",
       "Aberdare                      2\n",
       "Aberdeen                   4175\n",
       "Aberdeen City                 3\n",
       "Aberdeenshire                 1\n",
       "Abergavenny                   1\n",
       "Aberystwyth                   2\n",
       "Abfaltersbach                 1\n",
       "Abilene                    2603\n",
       "Accomac                     134\n",
       "Acton                         1\n",
       "Adaminaby                     1\n",
       "Adamov                        2"
      ]
     },
     "execution_count": 73,
     "metadata": {},
     "output_type": "execute_result"
    }
   ],
   "source": [
    "pivot_city.head(20)"
   ]
  },
  {
   "cell_type": "code",
   "execution_count": 76,
   "id": "ac7f01dc-50ca-46be-aabd-45604d0d2399",
   "metadata": {},
   "outputs": [],
   "source": [
    "cross = pd.merge(pivot_city, merged_1870, on=['City'])"
   ]
  },
  {
   "cell_type": "code",
   "execution_count": 77,
   "id": "3c51fa9d-e895-44cf-8d6b-4b2686d58b71",
   "metadata": {},
   "outputs": [
    {
     "data": {
      "text/html": [
       "<div>\n",
       "<style scoped>\n",
       "    .dataframe tbody tr th:only-of-type {\n",
       "        vertical-align: middle;\n",
       "    }\n",
       "\n",
       "    .dataframe tbody tr th {\n",
       "        vertical-align: top;\n",
       "    }\n",
       "\n",
       "    .dataframe thead th {\n",
       "        text-align: right;\n",
       "    }\n",
       "</style>\n",
       "<table border=\"1\" class=\"dataframe\">\n",
       "  <thead>\n",
       "    <tr style=\"text-align: right;\">\n",
       "      <th></th>\n",
       "      <th>City</th>\n",
       "      <th>Media URL_x</th>\n",
       "      <th>Media URL_y</th>\n",
       "      <th>Country</th>\n",
       "      <th>wkt</th>\n",
       "      <th>normalized_date</th>\n",
       "      <th>Title</th>\n",
       "      <th>Journal Type</th>\n",
       "    </tr>\n",
       "  </thead>\n",
       "  <tbody>\n",
       "    <tr>\n",
       "      <th>0</th>\n",
       "      <td>'s-Hertogenbosch</td>\n",
       "      <td>20</td>\n",
       "      <td>http://commons.wikimedia.org/wiki/Special:File...</td>\n",
       "      <td>Netherlands</td>\n",
       "      <td>POINT(5.3031 51.6892)</td>\n",
       "      <td>1903-01-01</td>\n",
       "      <td>Drakenfontein 's-Hertogenbosch</td>\n",
       "      <td>NaN</td>\n",
       "    </tr>\n",
       "    <tr>\n",
       "      <th>1</th>\n",
       "      <td>'s-Hertogenbosch</td>\n",
       "      <td>20</td>\n",
       "      <td>http://commons.wikimedia.org/wiki/Special:File...</td>\n",
       "      <td>Netherlands</td>\n",
       "      <td>POINT(5.3031 51.6892)</td>\n",
       "      <td>1929-01-01</td>\n",
       "      <td>Statue of Hieronymus Bosch</td>\n",
       "      <td>NaN</td>\n",
       "    </tr>\n",
       "    <tr>\n",
       "      <th>2</th>\n",
       "      <td>'s-Hertogenbosch</td>\n",
       "      <td>20</td>\n",
       "      <td>http://commons.wikimedia.org/wiki/Special:File...</td>\n",
       "      <td>Netherlands</td>\n",
       "      <td>POINT(5.3031 51.6892)</td>\n",
       "      <td>1906-01-01</td>\n",
       "      <td>NaN</td>\n",
       "      <td>NaN</td>\n",
       "    </tr>\n",
       "  </tbody>\n",
       "</table>\n",
       "</div>"
      ],
      "text/plain": [
       "               City  Media URL_x  \\\n",
       "0  's-Hertogenbosch           20   \n",
       "1  's-Hertogenbosch           20   \n",
       "2  's-Hertogenbosch           20   \n",
       "\n",
       "                                         Media URL_y      Country  \\\n",
       "0  http://commons.wikimedia.org/wiki/Special:File...  Netherlands   \n",
       "1  http://commons.wikimedia.org/wiki/Special:File...  Netherlands   \n",
       "2  http://commons.wikimedia.org/wiki/Special:File...  Netherlands   \n",
       "\n",
       "                     wkt normalized_date                           Title  \\\n",
       "0  POINT(5.3031 51.6892)      1903-01-01  Drakenfontein 's-Hertogenbosch   \n",
       "1  POINT(5.3031 51.6892)      1929-01-01      Statue of Hieronymus Bosch   \n",
       "2  POINT(5.3031 51.6892)      1906-01-01                             NaN   \n",
       "\n",
       "  Journal Type  \n",
       "0          NaN  \n",
       "1          NaN  \n",
       "2          NaN  "
      ]
     },
     "execution_count": 77,
     "metadata": {},
     "output_type": "execute_result"
    }
   ],
   "source": [
    "cross.head(3)"
   ]
  },
  {
   "cell_type": "code",
   "execution_count": 78,
   "id": "bc215906-c8f2-462a-a558-1d628f1c56e9",
   "metadata": {},
   "outputs": [],
   "source": [
    "cross_new = cross.rename({'Media URL_x': 'pivot_city', 'Media URL_y': 'Media URL'}, axis=1)"
   ]
  },
  {
   "cell_type": "code",
   "execution_count": 79,
   "id": "947df57b-dab6-4ce4-a8aa-c6abbb661425",
   "metadata": {},
   "outputs": [
    {
     "data": {
      "text/html": [
       "<div>\n",
       "<style scoped>\n",
       "    .dataframe tbody tr th:only-of-type {\n",
       "        vertical-align: middle;\n",
       "    }\n",
       "\n",
       "    .dataframe tbody tr th {\n",
       "        vertical-align: top;\n",
       "    }\n",
       "\n",
       "    .dataframe thead th {\n",
       "        text-align: right;\n",
       "    }\n",
       "</style>\n",
       "<table border=\"1\" class=\"dataframe\">\n",
       "  <thead>\n",
       "    <tr style=\"text-align: right;\">\n",
       "      <th></th>\n",
       "      <th>City</th>\n",
       "      <th>pivot_city</th>\n",
       "      <th>Media URL</th>\n",
       "      <th>Country</th>\n",
       "      <th>wkt</th>\n",
       "      <th>normalized_date</th>\n",
       "      <th>Title</th>\n",
       "      <th>Journal Type</th>\n",
       "    </tr>\n",
       "  </thead>\n",
       "  <tbody>\n",
       "    <tr>\n",
       "      <th>0</th>\n",
       "      <td>'s-Hertogenbosch</td>\n",
       "      <td>20</td>\n",
       "      <td>http://commons.wikimedia.org/wiki/Special:File...</td>\n",
       "      <td>Netherlands</td>\n",
       "      <td>POINT(5.3031 51.6892)</td>\n",
       "      <td>1903-01-01</td>\n",
       "      <td>Drakenfontein 's-Hertogenbosch</td>\n",
       "      <td>NaN</td>\n",
       "    </tr>\n",
       "    <tr>\n",
       "      <th>1</th>\n",
       "      <td>'s-Hertogenbosch</td>\n",
       "      <td>20</td>\n",
       "      <td>http://commons.wikimedia.org/wiki/Special:File...</td>\n",
       "      <td>Netherlands</td>\n",
       "      <td>POINT(5.3031 51.6892)</td>\n",
       "      <td>1929-01-01</td>\n",
       "      <td>Statue of Hieronymus Bosch</td>\n",
       "      <td>NaN</td>\n",
       "    </tr>\n",
       "    <tr>\n",
       "      <th>2</th>\n",
       "      <td>'s-Hertogenbosch</td>\n",
       "      <td>20</td>\n",
       "      <td>http://commons.wikimedia.org/wiki/Special:File...</td>\n",
       "      <td>Netherlands</td>\n",
       "      <td>POINT(5.3031 51.6892)</td>\n",
       "      <td>1906-01-01</td>\n",
       "      <td>NaN</td>\n",
       "      <td>NaN</td>\n",
       "    </tr>\n",
       "  </tbody>\n",
       "</table>\n",
       "</div>"
      ],
      "text/plain": [
       "               City  pivot_city  \\\n",
       "0  's-Hertogenbosch          20   \n",
       "1  's-Hertogenbosch          20   \n",
       "2  's-Hertogenbosch          20   \n",
       "\n",
       "                                           Media URL      Country  \\\n",
       "0  http://commons.wikimedia.org/wiki/Special:File...  Netherlands   \n",
       "1  http://commons.wikimedia.org/wiki/Special:File...  Netherlands   \n",
       "2  http://commons.wikimedia.org/wiki/Special:File...  Netherlands   \n",
       "\n",
       "                     wkt normalized_date                           Title  \\\n",
       "0  POINT(5.3031 51.6892)      1903-01-01  Drakenfontein 's-Hertogenbosch   \n",
       "1  POINT(5.3031 51.6892)      1929-01-01      Statue of Hieronymus Bosch   \n",
       "2  POINT(5.3031 51.6892)      1906-01-01                             NaN   \n",
       "\n",
       "  Journal Type  \n",
       "0          NaN  \n",
       "1          NaN  \n",
       "2          NaN  "
      ]
     },
     "execution_count": 79,
     "metadata": {},
     "output_type": "execute_result"
    }
   ],
   "source": [
    "cross_new.head(3)"
   ]
  },
  {
   "cell_type": "code",
   "execution_count": 80,
   "id": "820c78b9-5a6c-472c-b780-fbf7cc5ce385",
   "metadata": {},
   "outputs": [],
   "source": [
    "cross_new.drop(['Country', 'Media URL', 'normalized_date', 'Title', 'Journal Type' ], axis=1, inplace=True)"
   ]
  },
  {
   "cell_type": "code",
   "execution_count": 81,
   "id": "eca61b6d-2862-4ad9-aa5e-ed8cca66d4d5",
   "metadata": {},
   "outputs": [
    {
     "data": {
      "text/html": [
       "<div>\n",
       "<style scoped>\n",
       "    .dataframe tbody tr th:only-of-type {\n",
       "        vertical-align: middle;\n",
       "    }\n",
       "\n",
       "    .dataframe tbody tr th {\n",
       "        vertical-align: top;\n",
       "    }\n",
       "\n",
       "    .dataframe thead th {\n",
       "        text-align: right;\n",
       "    }\n",
       "</style>\n",
       "<table border=\"1\" class=\"dataframe\">\n",
       "  <thead>\n",
       "    <tr style=\"text-align: right;\">\n",
       "      <th></th>\n",
       "      <th>City</th>\n",
       "      <th>pivot_city</th>\n",
       "      <th>wkt</th>\n",
       "    </tr>\n",
       "  </thead>\n",
       "  <tbody>\n",
       "    <tr>\n",
       "      <th>0</th>\n",
       "      <td>'s-Hertogenbosch</td>\n",
       "      <td>20</td>\n",
       "      <td>POINT(5.3031 51.6892)</td>\n",
       "    </tr>\n",
       "    <tr>\n",
       "      <th>1</th>\n",
       "      <td>'s-Hertogenbosch</td>\n",
       "      <td>20</td>\n",
       "      <td>POINT(5.3031 51.6892)</td>\n",
       "    </tr>\n",
       "    <tr>\n",
       "      <th>2</th>\n",
       "      <td>'s-Hertogenbosch</td>\n",
       "      <td>20</td>\n",
       "      <td>POINT(5.3031 51.6892)</td>\n",
       "    </tr>\n",
       "  </tbody>\n",
       "</table>\n",
       "</div>"
      ],
      "text/plain": [
       "               City  pivot_city                    wkt\n",
       "0  's-Hertogenbosch          20  POINT(5.3031 51.6892)\n",
       "1  's-Hertogenbosch          20  POINT(5.3031 51.6892)\n",
       "2  's-Hertogenbosch          20  POINT(5.3031 51.6892)"
      ]
     },
     "execution_count": 81,
     "metadata": {},
     "output_type": "execute_result"
    }
   ],
   "source": [
    "cross_new.head(3)"
   ]
  },
  {
   "cell_type": "code",
   "execution_count": 82,
   "id": "3dd07902-ecdd-4dec-a0df-78d97eee8bb6",
   "metadata": {},
   "outputs": [
    {
     "data": {
      "text/plain": [
       "3111"
      ]
     },
     "execution_count": 82,
     "metadata": {},
     "output_type": "execute_result"
    }
   ],
   "source": [
    "cross_new[\"City\"].nunique()"
   ]
  },
  {
   "cell_type": "code",
   "execution_count": 83,
   "id": "201602a8-cd82-4bf6-9ed2-7899052f35be",
   "metadata": {},
   "outputs": [
    {
     "name": "stdout",
     "output_type": "stream",
     "text": [
      "<class 'pandas.core.frame.DataFrame'>\n",
      "Int64Index: 3554214 entries, 0 to 3554213\n",
      "Data columns (total 3 columns):\n",
      " #   Column      Dtype \n",
      "---  ------      ----- \n",
      " 0   City        object\n",
      " 1   pivot_city  int64 \n",
      " 2   wkt         object\n",
      "dtypes: int64(1), object(2)\n",
      "memory usage: 108.5+ MB\n"
     ]
    }
   ],
   "source": [
    "cross_new.info()"
   ]
  },
  {
   "cell_type": "code",
   "execution_count": 84,
   "id": "edc47a01-c258-443b-9ca7-5306aa5da51c",
   "metadata": {},
   "outputs": [],
   "source": [
    "cross_new2 = cross_new.drop_duplicates(subset=['City'])"
   ]
  },
  {
   "cell_type": "code",
   "execution_count": 85,
   "id": "c3fe5c64-5327-4b4b-b9cc-cd1f50856f9e",
   "metadata": {},
   "outputs": [
    {
     "name": "stdout",
     "output_type": "stream",
     "text": [
      "<class 'pandas.core.frame.DataFrame'>\n",
      "Int64Index: 3111 entries, 0 to 3554213\n",
      "Data columns (total 3 columns):\n",
      " #   Column      Non-Null Count  Dtype \n",
      "---  ------      --------------  ----- \n",
      " 0   City        3111 non-null   object\n",
      " 1   pivot_city  3111 non-null   int64 \n",
      " 2   wkt         3101 non-null   object\n",
      "dtypes: int64(1), object(2)\n",
      "memory usage: 97.2+ KB\n"
     ]
    }
   ],
   "source": [
    "cross_new2.info()"
   ]
  },
  {
   "cell_type": "code",
   "execution_count": 86,
   "id": "0a22e3a7-a4d2-4eb9-8cc7-03d57c90a3d2",
   "metadata": {},
   "outputs": [],
   "source": [
    "cross_new2.to_csv(\"/Users/carboni/Documents/UNIGE/pynotebook/OpenRefine_fusion/backup/combined_explored_loc/pivot_city.csv\", index=False)"
   ]
  }
 ],
 "metadata": {
  "kernelspec": {
   "display_name": "Python 3 (ipykernel)",
   "language": "python",
   "name": "python3"
  },
  "language_info": {
   "codemirror_mode": {
    "name": "ipython",
    "version": 3
   },
   "file_extension": ".py",
   "mimetype": "text/x-python",
   "name": "python",
   "nbconvert_exporter": "python",
   "pygments_lexer": "ipython3",
   "version": "3.10.8"
  }
 },
 "nbformat": 4,
 "nbformat_minor": 5
}
