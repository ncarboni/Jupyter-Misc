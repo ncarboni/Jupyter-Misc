{
 "cells": [
  {
   "cell_type": "markdown",
   "id": "038f8a7d-def4-4684-b233-91ce357bdf1c",
   "metadata": {
    "tags": []
   },
   "source": [
    "# Preparation of metadata for cluster walk"
   ]
  },
  {
   "cell_type": "markdown",
   "id": "834f09bd-8972-4c7a-8e5b-710415c3b2f1",
   "metadata": {},
   "source": [
    "This notebook requires the presence of the [Openrefine Client](https://github.com/opencultureconsulting/openrefine-client) on the same directory as the notebook itself. \n",
    "The process goes along these steps:\n",
    "1. Download files from Visual Contagion Openrefine instance\n",
    "2. Extract necessary columns for Cluster Walk\n",
    "3. Combining the files into a single CSV\n",
    "4. Filter by date (>1870)\n",
    "5. Export as CSV"
   ]
  },
  {
   "cell_type": "code",
   "execution_count": 1,
   "id": "c28eaa4e-9677-479f-b6dc-db8006e51949",
   "metadata": {},
   "outputs": [],
   "source": [
    "import pandas as pd\n",
    "import os"
   ]
  },
  {
   "cell_type": "markdown",
   "id": "ed382291-d06d-446e-8f35-a9e9bec57f88",
   "metadata": {},
   "source": [
    "## Download Files from Visual Contagion Openrefine instance"
   ]
  },
  {
   "cell_type": "markdown",
   "id": "3cea7dc2-72c6-4718-a564-6692b237523f",
   "metadata": {},
   "source": [
    "This operation will download the following dataset from the Visual Contagion Openrefine instance 129.194.213.75 \n",
    "\n",
    "- 2624032615455: CORPUS_wikidata_visual_items_post_1870\n",
    "- 1878246014108: Backup_2022_02_03_PDF_cleaned\n",
    "- 2370544250568: BackupCBT_2022_02_03_IIIF_Only\n",
    "- 1671940401029: BNF_periodic_explore\n",
    "- 1650201645555: Venus Explore\n",
    "- 2332843665824: Princeton Blue Mountain\n",
    "- 1688128007940: Journaux Est-Asiatique (collecte barbara)\n",
    "\n",
    "Any additions or change should be done in the cell below"
   ]
  },
  {
   "cell_type": "code",
   "execution_count": 2,
   "id": "17ddfe85-2fb6-44f9-8dd4-9e060fc883e9",
   "metadata": {},
   "outputs": [
    {
     "name": "stdout",
     "output_type": "stream",
     "text": [
      "Directory  backup  Created \n"
     ]
    }
   ],
   "source": [
    "dirName = 'backup'\n",
    "try:\n",
    "    os.mkdir(dirName)\n",
    "    print(\"Directory \" , dirName ,  \" Created \") \n",
    "except FileExistsError:\n",
    "    print(\"Directory \" , dirName ,  \" already exists\")"
   ]
  },
  {
   "cell_type": "markdown",
   "id": "087a29fe-f051-4da4-97b2-07b443cb98b1",
   "metadata": {},
   "source": [
    "**Use this code if you are running Mac/Windows or Linux on an Intel CPU**"
   ]
  },
  {
   "cell_type": "code",
   "execution_count": null,
   "id": "897d409f-1fe8-46b8-b66a-31876ec3fffb",
   "metadata": {
    "tags": []
   },
   "outputs": [],
   "source": [
    "#!./openrefine-client_0-3-10_macos --host 129.194.213.75 --export 1878246014108 --output backup/Backup_2022_02_03_PDF_cleaned.csv\n",
    "#!./openrefine-client_0-3-10_macos --host 129.194.213.75 --export 2624032615455 --output backup/CORPUS_wikidata_visual_items_post_1870.csv\n",
    "#!./openrefine-client_0-3-10_macos --host 129.194.213.75 --export 2370544250568 --output backup/BackupCBT_2022_02_03_IIIF_Only.csv\n",
    "#!./openrefine-client_0-3-10_macos --host 129.194.213.75 --export 1671940401029 --output backup/BNF_periodic_explore.csv\n",
    "#!./openrefine-client_0-3-10_macos --host 129.194.213.75 --export 1650201645555 --output backup/Venus_Explore.csv\n",
    "#!./openrefine-client_0-3-10_macos --host 129.194.213.75 --export 2332843665824 --output backup/Princeton_Blue_Mountain.csv\n",
    "#!./openrefine-client_0-3-10_macos --host 129.194.213.75 --export 1688128007940 --output backup/Journaux_Est-Asiatique.csv"
   ]
  },
  {
   "cell_type": "code",
   "execution_count": null,
   "id": "646770ac-1600-48c3-8f5c-214efcf75b12",
   "metadata": {},
   "outputs": [],
   "source": [
    "If you use windows, use the command below"
   ]
  },
  {
   "cell_type": "code",
   "execution_count": null,
   "id": "3e5633c0-d983-4a92-85c2-8040be1ff3ce",
   "metadata": {},
   "outputs": [],
   "source": [
    "!.\\openrefine-client_0-3-10_windows.exe --host 129.194.213.75 --export 1878246014108 --output backup/Backup_2022_02_03_PDF_cleaned.csv\n",
    "!.\\openrefine-client_0-3-10_windows.exe --host 129.194.213.75 --export 2624032615455 --output backup/CORPUS_wikidata_visual_items_post_1870.csv\n",
    "!.\\openrefine-client_0-3-10_windows.exe --host 129.194.213.75 --export 2370544250568 --output backup/BackupCBT_2022_02_03_IIIF_Only.csv\n",
    "!.\\openrefine-client_0-3-10_windows.exe --host 129.194.213.75 --export 1671940401029 --output backup/BNF_periodic_explore.csv\n",
    "!.\\openrefine-client_0-3-10_windows.exe --host 129.194.213.75 --export 1650201645555 --output backup/Venus_Explore.csv\n",
    "!.\\openrefine-client_0-3-10_windows.exe --host 129.194.213.75 --export 2332843665824 --output backup/Princeton_Blue_Mountain.csv\n",
    "!.\\openrefine-client_0-3-10_windows.exe --host 129.194.213.75 --export 1688128007940 --output backup/Journaux_Est-Asiatique.csv"
   ]
  },
  {
   "cell_type": "markdown",
   "id": "16ace0bd-083f-4eab-88c8-57988abbe147",
   "metadata": {},
   "source": [
    "**Use this code if you are running on an ARM64 CPU**"
   ]
  },
  {
   "cell_type": "code",
   "execution_count": 3,
   "id": "17470397-38e7-4315-9bbc-08439667b185",
   "metadata": {},
   "outputs": [
    {
     "name": "stdout",
     "output_type": "stream",
     "text": [
      "Export to file backup/Backup_2022_02_03_PDF_cleaned.csv complete\n",
      "Export to file backup/CORPUS_wikidata_visual_items_post_1870.csv complete\n",
      "Export to file backup/BackupCBT_2022_02_03_IIIF_Only.csv complete\n",
      "Export to file backup/BNF_periodic_explore.csv complete\n",
      "Export to file backup/Venus_Explore.csv complete\n",
      "Export to file backup/Princeton_Blue_Mountain.csv complete\n",
      "Export to file backup/Journaux_Est-Asiatique.csv complete\n"
     ]
    }
   ],
   "source": [
    "!docker run --rm --platform linux/amd64 --network=host -v ${PWD}:/data:z felixlohmeier/openrefine-client:v0.3.10 --host 129.194.213.75 --export 1878246014108 --output backup/Backup_2022_02_03_PDF_cleaned.csv\n",
    "!docker run --rm --platform linux/amd64 --network=host -v ${PWD}:/data:z felixlohmeier/openrefine-client:v0.3.10 --host 129.194.213.75 --export 2624032615455 --output backup/CORPUS_wikidata_visual_items_post_1870.csv\n",
    "!docker run --rm --platform linux/amd64 --network=host -v ${PWD}:/data:z felixlohmeier/openrefine-client:v0.3.10 --host 129.194.213.75 --export 2370544250568 --output backup/BackupCBT_2022_02_03_IIIF_Only.csv\n",
    "!docker run --rm --platform linux/amd64 --network=host -v ${PWD}:/data:z felixlohmeier/openrefine-client:v0.3.10 --host 129.194.213.75 --export 1671940401029 --output backup/BNF_periodic_explore.csv\n",
    "!docker run --rm --platform linux/amd64 --network=host -v ${PWD}:/data:z felixlohmeier/openrefine-client:v0.3.10 --host 129.194.213.75 --export 1650201645555 --output backup/Venus_Explore.csv\n",
    "!docker run --rm --platform linux/amd64 --network=host -v ${PWD}:/data:z felixlohmeier/openrefine-client:v0.3.10 --host 129.194.213.75 --export 2332843665824 --output backup/Princeton_Blue_Mountain.csv\n",
    "!docker run --rm --platform linux/amd64 --network=host -v ${PWD}:/data:z felixlohmeier/openrefine-client:v0.3.10 --host 129.194.213.75 --export 1688128007940 --output backup/Journaux_Est-Asiatique.csv"
   ]
  },
  {
   "cell_type": "markdown",
   "id": "e9edbc50-fb1f-4380-9542-bdd1b5c428dc",
   "metadata": {},
   "source": [
    "A very first step is to preserve only the necessary columns for Cluster Walk to work:\n",
    "+ Media URL\n",
    "+ City\n",
    "+ Country\n",
    "+ wkt\n",
    "+ normalized_date\n",
    "+ Title"
   ]
  },
  {
   "cell_type": "markdown",
   "id": "3e7bd0e1-c29a-4328-bc77-e23ba5f4a480",
   "metadata": {},
   "source": [
    "We start with the **Backup_2022_02_03_PDF_cleaned**"
   ]
  },
  {
   "cell_type": "code",
   "execution_count": 4,
   "id": "aff36de6-6a2e-41ff-9abb-7fed2ad869f6",
   "metadata": {
    "tags": []
   },
   "outputs": [],
   "source": [
    "pdf = pd.read_csv(\"backup/Backup_2022_02_03_PDF_cleaned.csv\")\n",
    "keep_col = ['Media URL','City','Country','wkt', 'normalized_date', 'Title']\n",
    "new_pdf = pdf[keep_col]\n",
    "new_pdf.to_csv(\"backup/Backup_2022_02_03_PDF_cleaned.csv\", index=False)"
   ]
  },
  {
   "cell_type": "markdown",
   "id": "6c100b45-f843-49d0-afbc-09ebff93de49",
   "metadata": {},
   "source": [
    "Following for **BackupCBT_2022_02_03_IIIF_Only**"
   ]
  },
  {
   "cell_type": "code",
   "execution_count": 5,
   "id": "88c07f66-b7e4-4801-8284-2d3423ebe25b",
   "metadata": {},
   "outputs": [],
   "source": [
    "iiif = pd.read_csv(\"backup/BackupCBT_2022_02_03_IIIF_Only.csv\")\n",
    "keep_col = ['Media URL','City','Country','wkt', 'normalized_date', 'Title']\n",
    "new_iiif = iiif[keep_col]\n",
    "new_iiif.to_csv(\"backup/BackupCBT_2022_02_03_IIIF_Only.csv\", index=False)"
   ]
  },
  {
   "cell_type": "code",
   "execution_count": 6,
   "id": "cc0fde74-2d7d-490e-97bc-20a84c9dc6a2",
   "metadata": {},
   "outputs": [],
   "source": [
    "wiki = pd.read_csv(\"backup/CORPUS_wikidata_visual_items_post_1870.csv\", low_memory=False, dtype=object)\n",
    "keep_col = ['Media URL','City','Country','wkt', 'normalized_date', 'Title']\n",
    "new_wiki = wiki[keep_col]\n",
    "new_wiki.to_csv(\"backup/CORPUS_wikidata_visual_items_post_1870.csv\", index=False)"
   ]
  },
  {
   "cell_type": "code",
   "execution_count": 7,
   "id": "3d9cbfa2-fe40-4658-ba22-f6f0ba62d741",
   "metadata": {},
   "outputs": [],
   "source": [
    "bnf = pd.read_csv(\"backup/BNF_periodic_explore.csv\")\n",
    "keep_col = ['Media URL','City','Country','wkt', 'normalized_date', 'Title']\n",
    "new_bnf = bnf[keep_col]\n",
    "new_bnf.to_csv(\"backup/BNF_periodic_explore.csv\", index=False)"
   ]
  },
  {
   "cell_type": "code",
   "execution_count": 8,
   "id": "2e9f9ca2-0337-48dc-87aa-c3640bfe607d",
   "metadata": {},
   "outputs": [],
   "source": [
    "venus = pd.read_csv(\"backup/Venus_Explore.csv\")\n",
    "keep_col = ['Media URL','City','Country','wkt', 'normalized_date', 'Title']\n",
    "new_venus = venus[keep_col]\n",
    "new_venus.to_csv(\"backup/Venus_Explore.csv\", index=False)"
   ]
  },
  {
   "cell_type": "code",
   "execution_count": 9,
   "id": "8b03e088-0bf2-4bcf-a4d5-e3dd8206f991",
   "metadata": {},
   "outputs": [],
   "source": [
    "bm = pd.read_csv(\"backup/Princeton_Blue_Mountain.csv\")\n",
    "keep_col = ['Media URL','City','Country','wkt', 'normalized_date', 'Title']\n",
    "new_bm = bm[keep_col]\n",
    "new_bm.to_csv(\"backup/Princeton_Blue_Mountain.csv\", index=False)"
   ]
  },
  {
   "cell_type": "code",
   "execution_count": 10,
   "id": "2f50a9fc-8cea-4f10-95fb-8072aa58de07",
   "metadata": {},
   "outputs": [],
   "source": [
    "est = pd.read_csv(\"backup/Journaux_Est-Asiatique.csv\")\n",
    "keep_col = ['Media URL','City','Country','wkt', 'normalized_date', 'Title']\n",
    "new_est = est[keep_col]\n",
    "new_est.to_csv(\"backup/Journaux_Est-Asiatique.csv\", index=False)"
   ]
  },
  {
   "cell_type": "code",
   "execution_count": 11,
   "id": "dd20b417-3547-4b1f-ae95-5cadb1a54e90",
   "metadata": {},
   "outputs": [],
   "source": [
    "merged_df = pd.concat([new_pdf, new_iiif, new_wiki, new_bnf, new_venus, new_bm, new_est ])"
   ]
  },
  {
   "cell_type": "markdown",
   "id": "e8f9b023-d0c3-46bf-85a3-ab4e3a9b11a3",
   "metadata": {},
   "source": [
    "## Filtering by Time"
   ]
  },
  {
   "cell_type": "markdown",
   "id": "6c2f8e0b-78b3-4aa4-acf1-8088b3a203f9",
   "metadata": {},
   "source": [
    "As now we have loaded all the dataframe into one, called 'merged_df', we need to filter for date value equal and above 1870"
   ]
  },
  {
   "cell_type": "code",
   "execution_count": 12,
   "id": "6b1fb1e8-082a-4190-9404-f01c2e0f96f4",
   "metadata": {},
   "outputs": [],
   "source": [
    "def date_split(date:str)-> (str,str,str):\n",
    "    if type(date) is not str:\n",
    "        return float('nan'),float('nan'),float('nan')\n",
    "    splits = date.split('-')\n",
    "    vals = splits + [float('nan')] * (3 - len(splits))\n",
    "    return [float(v) for v in vals]\n",
    "\n",
    "merged_df['year'], merged_df['month'], merged_df['day'] = zip(*merged_df['normalized_date'].apply(date_split))\n",
    "\n",
    "merged_1870 = merged_df[merged_df['year'] >= 1870.]"
   ]
  },
  {
   "cell_type": "code",
   "execution_count": 13,
   "id": "e47214be-91d0-4e2f-85ea-9a57a09effd9",
   "metadata": {},
   "outputs": [
    {
     "name": "stderr",
     "output_type": "stream",
     "text": [
      "/var/folders/nw/zm4zl9xn4_d_rq3fnglst3n80000gp/T/ipykernel_26675/3457124699.py:1: FutureWarning: In a future version of pandas all arguments of DataFrame.drop except for the argument 'labels' will be keyword-only.\n",
      "  merged_1870 = merged_1870.drop(['month','day', 'year'], 1)\n"
     ]
    }
   ],
   "source": [
    "merged_1870 = merged_1870.drop(['month','day', 'year'], 1)"
   ]
  },
  {
   "cell_type": "code",
   "execution_count": 14,
   "id": "5a7b57e5-dca7-402f-9e27-7d34df2643d8",
   "metadata": {},
   "outputs": [
    {
     "name": "stdout",
     "output_type": "stream",
     "text": [
      "<class 'pandas.core.frame.DataFrame'>\n",
      "Int64Index: 629768 entries, 0 to 4690\n",
      "Data columns (total 6 columns):\n",
      " #   Column           Non-Null Count   Dtype \n",
      "---  ------           --------------   ----- \n",
      " 0   Media URL        629764 non-null  object\n",
      " 1   City             485671 non-null  object\n",
      " 2   Country          502433 non-null  object\n",
      " 3   wkt              497106 non-null  object\n",
      " 4   normalized_date  629768 non-null  object\n",
      " 5   Title            604868 non-null  object\n",
      "dtypes: object(6)\n",
      "memory usage: 33.6+ MB\n"
     ]
    }
   ],
   "source": [
    "merged_1870.info()"
   ]
  },
  {
   "cell_type": "markdown",
   "id": "cebae7ef-7619-4d18-b779-5c23ea270025",
   "metadata": {
    "tags": []
   },
   "source": [
    "We finally save the combined file"
   ]
  },
  {
   "cell_type": "code",
   "execution_count": 15,
   "id": "bb88f09c-042b-47da-bd39-e71cd3244a03",
   "metadata": {},
   "outputs": [],
   "source": [
    "merged_1870.to_csv(\"backup/combined_1870.csv\", index=False)"
   ]
  },
  {
   "cell_type": "markdown",
   "id": "4770ec16-6f20-4044-8a3b-3422770eb43f",
   "metadata": {},
   "source": [
    "## Filtering by Place"
   ]
  },
  {
   "cell_type": "markdown",
   "id": "d6dc6f90-7be4-480f-9bb0-a3af78ab204a",
   "metadata": {},
   "source": [
    "Another important filter we may need is about the presence of the coordinate value related to a record"
   ]
  },
  {
   "cell_type": "code",
   "execution_count": 16,
   "id": "cda940e7-c8b4-410b-8d07-472cf21e30f3",
   "metadata": {},
   "outputs": [],
   "source": [
    "merged_1870_wkt = merged_1870[merged_1870['wkt'].notnull()]"
   ]
  },
  {
   "cell_type": "code",
   "execution_count": 17,
   "id": "b946608c-605d-4cf6-87e4-f8cb8bc2f477",
   "metadata": {},
   "outputs": [
    {
     "data": {
      "text/plain": [
       "Media URL          491977\n",
       "City                 2385\n",
       "Country               108\n",
       "wkt                  2491\n",
       "normalized_date     40240\n",
       "Title                9739\n",
       "dtype: int64"
      ]
     },
     "execution_count": 17,
     "metadata": {},
     "output_type": "execute_result"
    }
   ],
   "source": [
    "merged_1870_wkt.nunique()"
   ]
  },
  {
   "cell_type": "code",
   "execution_count": 18,
   "id": "2686b466-c6db-497b-aec6-7b572eb0e994",
   "metadata": {},
   "outputs": [],
   "source": [
    "merged_1870_wkt.to_csv(\"backup/combined_1870_wkt.csv\", index=False)"
   ]
  },
  {
   "cell_type": "code",
   "execution_count": 19,
   "id": "69fde8b0-3b10-4617-b3ea-316423da71d2",
   "metadata": {},
   "outputs": [],
   "source": [
    "def date_split(date:str)-> (str,str,str):\n",
    "    if type(date) is not str:\n",
    "        return float('nan'),float('nan'),float('nan')\n",
    "    splits = date.split('-')\n",
    "    vals = splits + [float('nan')] * (3 - len(splits))\n",
    "    return [float(v) for v in vals]\n",
    "\n",
    "merged_df['year'], merged_df['month'], merged_df['day'] = zip(*merged_df['normalized_date'].apply(date_split))\n",
    "\n",
    "merged_1870 = merged_df[merged_df['year'] >= 1870.]"
   ]
  },
  {
   "cell_type": "code",
   "execution_count": 20,
   "id": "3106208c-edc8-4094-8696-c7670e1fef43",
   "metadata": {},
   "outputs": [
    {
     "data": {
      "text/html": [
       "<div>\n",
       "<style scoped>\n",
       "    .dataframe tbody tr th:only-of-type {\n",
       "        vertical-align: middle;\n",
       "    }\n",
       "\n",
       "    .dataframe tbody tr th {\n",
       "        vertical-align: top;\n",
       "    }\n",
       "\n",
       "    .dataframe thead th {\n",
       "        text-align: right;\n",
       "    }\n",
       "</style>\n",
       "<table border=\"1\" class=\"dataframe\">\n",
       "  <thead>\n",
       "    <tr style=\"text-align: right;\">\n",
       "      <th></th>\n",
       "      <th>Media URL</th>\n",
       "      <th>City</th>\n",
       "      <th>Country</th>\n",
       "      <th>wkt</th>\n",
       "      <th>normalized_date</th>\n",
       "      <th>Title</th>\n",
       "      <th>year</th>\n",
       "      <th>month</th>\n",
       "      <th>day</th>\n",
       "    </tr>\n",
       "  </thead>\n",
       "  <tbody>\n",
       "    <tr>\n",
       "      <th>0</th>\n",
       "      <td>https://iiif.unige.ch/dhportal/ug8101433/manifest</td>\n",
       "      <td>New York City</td>\n",
       "      <td>United States of America</td>\n",
       "      <td>POINT(-74.006015 40.712728)</td>\n",
       "      <td>1936-11-23</td>\n",
       "      <td>LIFE</td>\n",
       "      <td>1936.0</td>\n",
       "      <td>11.0</td>\n",
       "      <td>23.0</td>\n",
       "    </tr>\n",
       "    <tr>\n",
       "      <th>1</th>\n",
       "      <td>https://iiif.unige.ch/dhportal/ug8026695/manifest</td>\n",
       "      <td>New York City</td>\n",
       "      <td>United States of America</td>\n",
       "      <td>POINT(-74.006015 40.712728)</td>\n",
       "      <td>1936-11-30</td>\n",
       "      <td>LIFE</td>\n",
       "      <td>1936.0</td>\n",
       "      <td>11.0</td>\n",
       "      <td>30.0</td>\n",
       "    </tr>\n",
       "    <tr>\n",
       "      <th>2</th>\n",
       "      <td>https://iiif.unige.ch/dhportal/ug8013847/manifest</td>\n",
       "      <td>New York City</td>\n",
       "      <td>United States of America</td>\n",
       "      <td>POINT(-74.006015 40.712728)</td>\n",
       "      <td>1936-12-07</td>\n",
       "      <td>LIFE</td>\n",
       "      <td>1936.0</td>\n",
       "      <td>12.0</td>\n",
       "      <td>7.0</td>\n",
       "    </tr>\n",
       "    <tr>\n",
       "      <th>3</th>\n",
       "      <td>https://iiif.unige.ch/dhportal/ug8010392/manifest</td>\n",
       "      <td>New York City</td>\n",
       "      <td>United States of America</td>\n",
       "      <td>POINT(-74.006015 40.712728)</td>\n",
       "      <td>1936-12-21</td>\n",
       "      <td>LIFE</td>\n",
       "      <td>1936.0</td>\n",
       "      <td>12.0</td>\n",
       "      <td>21.0</td>\n",
       "    </tr>\n",
       "    <tr>\n",
       "      <th>4</th>\n",
       "      <td>https://iiif.unige.ch/dhportal/ug8032218/manifest</td>\n",
       "      <td>New York City</td>\n",
       "      <td>United States of America</td>\n",
       "      <td>POINT(-74.006015 40.712728)</td>\n",
       "      <td>1936-12-28</td>\n",
       "      <td>LIFE</td>\n",
       "      <td>1936.0</td>\n",
       "      <td>12.0</td>\n",
       "      <td>28.0</td>\n",
       "    </tr>\n",
       "  </tbody>\n",
       "</table>\n",
       "</div>"
      ],
      "text/plain": [
       "                                           Media URL           City  \\\n",
       "0  https://iiif.unige.ch/dhportal/ug8101433/manifest  New York City   \n",
       "1  https://iiif.unige.ch/dhportal/ug8026695/manifest  New York City   \n",
       "2  https://iiif.unige.ch/dhportal/ug8013847/manifest  New York City   \n",
       "3  https://iiif.unige.ch/dhportal/ug8010392/manifest  New York City   \n",
       "4  https://iiif.unige.ch/dhportal/ug8032218/manifest  New York City   \n",
       "\n",
       "                    Country                          wkt normalized_date  \\\n",
       "0  United States of America  POINT(-74.006015 40.712728)      1936-11-23   \n",
       "1  United States of America  POINT(-74.006015 40.712728)      1936-11-30   \n",
       "2  United States of America  POINT(-74.006015 40.712728)      1936-12-07   \n",
       "3  United States of America  POINT(-74.006015 40.712728)      1936-12-21   \n",
       "4  United States of America  POINT(-74.006015 40.712728)      1936-12-28   \n",
       "\n",
       "  Title    year  month   day  \n",
       "0  LIFE  1936.0   11.0  23.0  \n",
       "1  LIFE  1936.0   11.0  30.0  \n",
       "2  LIFE  1936.0   12.0   7.0  \n",
       "3  LIFE  1936.0   12.0  21.0  \n",
       "4  LIFE  1936.0   12.0  28.0  "
      ]
     },
     "execution_count": 20,
     "metadata": {},
     "output_type": "execute_result"
    }
   ],
   "source": [
    "merged_1870.head()"
   ]
  },
  {
   "cell_type": "code",
   "execution_count": 21,
   "id": "f26f8b0e-e2a1-4f39-9d1b-97a90173a8bf",
   "metadata": {},
   "outputs": [
    {
     "name": "stderr",
     "output_type": "stream",
     "text": [
      "/var/folders/nw/zm4zl9xn4_d_rq3fnglst3n80000gp/T/ipykernel_26675/2774102438.py:1: FutureWarning: In a future version of pandas all arguments of DataFrame.drop except for the argument 'labels' will be keyword-only.\n",
      "  merged_1870 = merged_1870.drop(['month','day', 'normalized_date'], 1)\n"
     ]
    }
   ],
   "source": [
    "merged_1870 = merged_1870.drop(['month','day', 'normalized_date'], 1)"
   ]
  },
  {
   "cell_type": "code",
   "execution_count": 22,
   "id": "0f3b747c-3de8-41fa-8777-adba6b7c65de",
   "metadata": {},
   "outputs": [
    {
     "data": {
      "text/html": [
       "<div>\n",
       "<style scoped>\n",
       "    .dataframe tbody tr th:only-of-type {\n",
       "        vertical-align: middle;\n",
       "    }\n",
       "\n",
       "    .dataframe tbody tr th {\n",
       "        vertical-align: top;\n",
       "    }\n",
       "\n",
       "    .dataframe thead th {\n",
       "        text-align: right;\n",
       "    }\n",
       "</style>\n",
       "<table border=\"1\" class=\"dataframe\">\n",
       "  <thead>\n",
       "    <tr style=\"text-align: right;\">\n",
       "      <th></th>\n",
       "      <th>Media URL</th>\n",
       "      <th>City</th>\n",
       "      <th>Country</th>\n",
       "      <th>wkt</th>\n",
       "      <th>Title</th>\n",
       "      <th>year</th>\n",
       "    </tr>\n",
       "  </thead>\n",
       "  <tbody>\n",
       "    <tr>\n",
       "      <th>0</th>\n",
       "      <td>https://iiif.unige.ch/dhportal/ug8101433/manifest</td>\n",
       "      <td>New York City</td>\n",
       "      <td>United States of America</td>\n",
       "      <td>POINT(-74.006015 40.712728)</td>\n",
       "      <td>LIFE</td>\n",
       "      <td>1936.0</td>\n",
       "    </tr>\n",
       "    <tr>\n",
       "      <th>1</th>\n",
       "      <td>https://iiif.unige.ch/dhportal/ug8026695/manifest</td>\n",
       "      <td>New York City</td>\n",
       "      <td>United States of America</td>\n",
       "      <td>POINT(-74.006015 40.712728)</td>\n",
       "      <td>LIFE</td>\n",
       "      <td>1936.0</td>\n",
       "    </tr>\n",
       "    <tr>\n",
       "      <th>2</th>\n",
       "      <td>https://iiif.unige.ch/dhportal/ug8013847/manifest</td>\n",
       "      <td>New York City</td>\n",
       "      <td>United States of America</td>\n",
       "      <td>POINT(-74.006015 40.712728)</td>\n",
       "      <td>LIFE</td>\n",
       "      <td>1936.0</td>\n",
       "    </tr>\n",
       "    <tr>\n",
       "      <th>3</th>\n",
       "      <td>https://iiif.unige.ch/dhportal/ug8010392/manifest</td>\n",
       "      <td>New York City</td>\n",
       "      <td>United States of America</td>\n",
       "      <td>POINT(-74.006015 40.712728)</td>\n",
       "      <td>LIFE</td>\n",
       "      <td>1936.0</td>\n",
       "    </tr>\n",
       "    <tr>\n",
       "      <th>4</th>\n",
       "      <td>https://iiif.unige.ch/dhportal/ug8032218/manifest</td>\n",
       "      <td>New York City</td>\n",
       "      <td>United States of America</td>\n",
       "      <td>POINT(-74.006015 40.712728)</td>\n",
       "      <td>LIFE</td>\n",
       "      <td>1936.0</td>\n",
       "    </tr>\n",
       "  </tbody>\n",
       "</table>\n",
       "</div>"
      ],
      "text/plain": [
       "                                           Media URL           City  \\\n",
       "0  https://iiif.unige.ch/dhportal/ug8101433/manifest  New York City   \n",
       "1  https://iiif.unige.ch/dhportal/ug8026695/manifest  New York City   \n",
       "2  https://iiif.unige.ch/dhportal/ug8013847/manifest  New York City   \n",
       "3  https://iiif.unige.ch/dhportal/ug8010392/manifest  New York City   \n",
       "4  https://iiif.unige.ch/dhportal/ug8032218/manifest  New York City   \n",
       "\n",
       "                    Country                          wkt Title    year  \n",
       "0  United States of America  POINT(-74.006015 40.712728)  LIFE  1936.0  \n",
       "1  United States of America  POINT(-74.006015 40.712728)  LIFE  1936.0  \n",
       "2  United States of America  POINT(-74.006015 40.712728)  LIFE  1936.0  \n",
       "3  United States of America  POINT(-74.006015 40.712728)  LIFE  1936.0  \n",
       "4  United States of America  POINT(-74.006015 40.712728)  LIFE  1936.0  "
      ]
     },
     "execution_count": 22,
     "metadata": {},
     "output_type": "execute_result"
    }
   ],
   "source": [
    "merged_1870.head()"
   ]
  },
  {
   "cell_type": "code",
   "execution_count": 23,
   "id": "0346ab14-b5ec-42dd-b16c-77bbc1351fdd",
   "metadata": {},
   "outputs": [],
   "source": [
    "merged_1870['year'] = merged_1870['year'].astype(str)"
   ]
  },
  {
   "cell_type": "code",
   "execution_count": 24,
   "id": "7acaa2b2-a94d-4e77-ae10-ec19a8ab47c7",
   "metadata": {},
   "outputs": [
    {
     "name": "stdout",
     "output_type": "stream",
     "text": [
      "<class 'pandas.core.frame.DataFrame'>\n",
      "Int64Index: 629768 entries, 0 to 4690\n",
      "Data columns (total 6 columns):\n",
      " #   Column     Non-Null Count   Dtype \n",
      "---  ------     --------------   ----- \n",
      " 0   Media URL  629764 non-null  object\n",
      " 1   City       485671 non-null  object\n",
      " 2   Country    502433 non-null  object\n",
      " 3   wkt        497106 non-null  object\n",
      " 4   Title      604868 non-null  object\n",
      " 5   year       629768 non-null  object\n",
      "dtypes: object(6)\n",
      "memory usage: 33.6+ MB\n"
     ]
    }
   ],
   "source": [
    "merged_1870.info()"
   ]
  },
  {
   "cell_type": "code",
   "execution_count": 25,
   "id": "f1978907-eb14-4c9c-84d9-6b0d956e7318",
   "metadata": {},
   "outputs": [],
   "source": [
    "merged_1870['year'] = merged_1870['year'].str.replace('\\.0','', regex=True)"
   ]
  },
  {
   "cell_type": "code",
   "execution_count": 26,
   "id": "0f55f50f-a415-4823-942d-83d99a1e1d3b",
   "metadata": {},
   "outputs": [
    {
     "data": {
      "text/html": [
       "<div>\n",
       "<style scoped>\n",
       "    .dataframe tbody tr th:only-of-type {\n",
       "        vertical-align: middle;\n",
       "    }\n",
       "\n",
       "    .dataframe tbody tr th {\n",
       "        vertical-align: top;\n",
       "    }\n",
       "\n",
       "    .dataframe thead th {\n",
       "        text-align: right;\n",
       "    }\n",
       "</style>\n",
       "<table border=\"1\" class=\"dataframe\">\n",
       "  <thead>\n",
       "    <tr style=\"text-align: right;\">\n",
       "      <th></th>\n",
       "      <th>Media URL</th>\n",
       "      <th>City</th>\n",
       "      <th>Country</th>\n",
       "      <th>wkt</th>\n",
       "      <th>Title</th>\n",
       "      <th>year</th>\n",
       "    </tr>\n",
       "  </thead>\n",
       "  <tbody>\n",
       "    <tr>\n",
       "      <th>0</th>\n",
       "      <td>https://iiif.unige.ch/dhportal/ug8101433/manifest</td>\n",
       "      <td>New York City</td>\n",
       "      <td>United States of America</td>\n",
       "      <td>POINT(-74.006015 40.712728)</td>\n",
       "      <td>LIFE</td>\n",
       "      <td>1936</td>\n",
       "    </tr>\n",
       "    <tr>\n",
       "      <th>1</th>\n",
       "      <td>https://iiif.unige.ch/dhportal/ug8026695/manifest</td>\n",
       "      <td>New York City</td>\n",
       "      <td>United States of America</td>\n",
       "      <td>POINT(-74.006015 40.712728)</td>\n",
       "      <td>LIFE</td>\n",
       "      <td>1936</td>\n",
       "    </tr>\n",
       "    <tr>\n",
       "      <th>2</th>\n",
       "      <td>https://iiif.unige.ch/dhportal/ug8013847/manifest</td>\n",
       "      <td>New York City</td>\n",
       "      <td>United States of America</td>\n",
       "      <td>POINT(-74.006015 40.712728)</td>\n",
       "      <td>LIFE</td>\n",
       "      <td>1936</td>\n",
       "    </tr>\n",
       "    <tr>\n",
       "      <th>3</th>\n",
       "      <td>https://iiif.unige.ch/dhportal/ug8010392/manifest</td>\n",
       "      <td>New York City</td>\n",
       "      <td>United States of America</td>\n",
       "      <td>POINT(-74.006015 40.712728)</td>\n",
       "      <td>LIFE</td>\n",
       "      <td>1936</td>\n",
       "    </tr>\n",
       "    <tr>\n",
       "      <th>4</th>\n",
       "      <td>https://iiif.unige.ch/dhportal/ug8032218/manifest</td>\n",
       "      <td>New York City</td>\n",
       "      <td>United States of America</td>\n",
       "      <td>POINT(-74.006015 40.712728)</td>\n",
       "      <td>LIFE</td>\n",
       "      <td>1936</td>\n",
       "    </tr>\n",
       "  </tbody>\n",
       "</table>\n",
       "</div>"
      ],
      "text/plain": [
       "                                           Media URL           City  \\\n",
       "0  https://iiif.unige.ch/dhportal/ug8101433/manifest  New York City   \n",
       "1  https://iiif.unige.ch/dhportal/ug8026695/manifest  New York City   \n",
       "2  https://iiif.unige.ch/dhportal/ug8013847/manifest  New York City   \n",
       "3  https://iiif.unige.ch/dhportal/ug8010392/manifest  New York City   \n",
       "4  https://iiif.unige.ch/dhportal/ug8032218/manifest  New York City   \n",
       "\n",
       "                    Country                          wkt Title  year  \n",
       "0  United States of America  POINT(-74.006015 40.712728)  LIFE  1936  \n",
       "1  United States of America  POINT(-74.006015 40.712728)  LIFE  1936  \n",
       "2  United States of America  POINT(-74.006015 40.712728)  LIFE  1936  \n",
       "3  United States of America  POINT(-74.006015 40.712728)  LIFE  1936  \n",
       "4  United States of America  POINT(-74.006015 40.712728)  LIFE  1936  "
      ]
     },
     "execution_count": 26,
     "metadata": {},
     "output_type": "execute_result"
    }
   ],
   "source": [
    "merged_1870.head()"
   ]
  },
  {
   "cell_type": "code",
   "execution_count": 27,
   "id": "512d71cf-e8b8-4d66-b241-378cc1f8c088",
   "metadata": {},
   "outputs": [],
   "source": [
    "merged_1870.to_csv(\"backup/combined_1870_year.csv\", index=False)"
   ]
  },
  {
   "cell_type": "code",
   "execution_count": null,
   "id": "283f1316-65b1-4144-a41f-97e420187c71",
   "metadata": {},
   "outputs": [],
   "source": []
  }
 ],
 "metadata": {
  "kernelspec": {
   "display_name": "Python 3 (ipykernel)",
   "language": "python",
   "name": "python3"
  },
  "language_info": {
   "codemirror_mode": {
    "name": "ipython",
    "version": 3
   },
   "file_extension": ".py",
   "mimetype": "text/x-python",
   "name": "python",
   "nbconvert_exporter": "python",
   "pygments_lexer": "ipython3",
   "version": "3.8.12"
  }
 },
 "nbformat": 4,
 "nbformat_minor": 5
}
