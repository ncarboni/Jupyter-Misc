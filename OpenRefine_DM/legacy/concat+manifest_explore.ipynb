{
 "cells": [
  {
   "cell_type": "markdown",
   "id": "c6bb4667-780b-4c8c-8ff2-e37a862cba37",
   "metadata": {},
   "source": [
    "# Concat Media URLs of corpus for Explore"
   ]
  },
  {
   "cell_type": "code",
   "execution_count": 9,
   "id": "ae13ad04-1b6b-4cf1-bde2-16e5a74d9713",
   "metadata": {},
   "outputs": [],
   "source": [
    "import pandas as pd\n",
    "import os\n",
    "import glob"
   ]
  },
  {
   "cell_type": "markdown",
   "id": "46467aae-a48a-4dc3-8683-e0ac34ca7c50",
   "metadata": {},
   "source": [
    "## Download files"
   ]
  },
  {
   "cell_type": "code",
   "execution_count": 7,
   "id": "5b77d61f-f4a4-4a65-a0c9-0d5ffc20233d",
   "metadata": {},
   "outputs": [
    {
     "name": "stdout",
     "output_type": "stream",
     "text": [
      "Export to file backup/complete/Backup_2022_02_03_PDF_cleaned.csv complete\n",
      "Export to file backup/complete/CORPUS_wikidata_visual_items_post_1870.csv complete\n",
      "Export to file backup/complete/BackupCBT_2022_02_03_IIIF_Only.csv complete\n",
      "Export to file backup/complete/Princeton_Blue_Mountain.csv complete\n",
      "Export to file backup/complete/Journaux_Est-Asiatique.csv complete\n",
      "Export to file backup/complete/Marie.csv complete\n",
      "Export to file backup/complete/Adrien.csv complete\n"
     ]
    }
   ],
   "source": [
    "!docker run --rm --platform linux/amd64 --network=host -v ${PWD}:/data:z felixlohmeier/openrefine-client:v0.3.10 --host 129.194.213.75 -P 80 --export 1878246014108 --output backup/complete/Backup_2022_02_03_PDF_cleaned.csv\n",
    "!docker run --rm --platform linux/amd64 --network=host -v ${PWD}:/data:z felixlohmeier/openrefine-client:v0.3.10 --host 129.194.213.75 -P 80 --export 2370544250568 --output backup/complete/BackupCBT_2022_02_03_IIIF_Only.csv\n",
    "!docker run --rm --platform linux/amd64 --network=host -v ${PWD}:/data:z felixlohmeier/openrefine-client:v0.3.10 --host 129.194.213.75 -P 80 --export 2332843665824 --output backup/complete/Princeton_Blue_Mountain.csv\n",
    "!docker run --rm --platform linux/amd64 --network=host -v ${PWD}:/data:z felixlohmeier/openrefine-client:v0.3.10 --host 129.194.213.75 -P 80 --export 1688128007940 --output backup/complete/Journaux_Est-Asiatique.csv\n",
    "!docker run --rm --platform linux/amd64 --network=host -v ${PWD}:/data:z felixlohmeier/openrefine-client:v0.3.10 --host 129.194.213.75 -P 80 --export 1695291554765 --output backup/complete/Marie.csv\n",
    "!docker run --rm --platform linux/amd64 --network=host -v ${PWD}:/data:z felixlohmeier/openrefine-client:v0.3.10 --host 129.194.213.75 -P 80 --export 1914921870678 --output backup/complete/Adrien.csv"
   ]
  },
  {
   "cell_type": "markdown",
   "id": "4a8168cb-7ab0-4bf5-9b0e-bf5f9514af0e",
   "metadata": {},
   "source": [
    "## "
   ]
  },
  {
   "cell_type": "markdown",
   "id": "eb510aa2-711d-45e1-8509-65aa3a830ee5",
   "metadata": {},
   "source": [
    "## Single File"
   ]
  },
  {
   "cell_type": "code",
   "execution_count": 10,
   "id": "c3db0832-b76d-42c3-ac31-68dc08250258",
   "metadata": {},
   "outputs": [
    {
     "name": "stderr",
     "output_type": "stream",
     "text": [
      "/var/folders/nw/zm4zl9xn4_d_rq3fnglst3n80000gp/T/ipykernel_80477/2013838793.py:1: DtypeWarning: Columns (13) have mixed types. Specify dtype option on import or set low_memory=False.\n",
      "  all = pd.read_csv(\"/Users/carboni/Downloads/BNF_periodics_not_explored.csv\")\n"
     ]
    }
   ],
   "source": [
    "all = pd.read_csv(\"/Users/carboni/Downloads/BNF_periodics_not_explored.csv\")"
   ]
  },
  {
   "cell_type": "code",
   "execution_count": 11,
   "id": "bcaf421f-d502-4fb9-8f87-ad8b89fe7ded",
   "metadata": {},
   "outputs": [],
   "source": [
    "keep_col = ['Media URL']"
   ]
  },
  {
   "cell_type": "code",
   "execution_count": 12,
   "id": "7c00e187-af0d-4130-955f-5b118e971dd9",
   "metadata": {},
   "outputs": [
    {
     "data": {
      "text/html": [
       "<div>\n",
       "<style scoped>\n",
       "    .dataframe tbody tr th:only-of-type {\n",
       "        vertical-align: middle;\n",
       "    }\n",
       "\n",
       "    .dataframe tbody tr th {\n",
       "        vertical-align: top;\n",
       "    }\n",
       "\n",
       "    .dataframe thead th {\n",
       "        text-align: right;\n",
       "    }\n",
       "</style>\n",
       "<table border=\"1\" class=\"dataframe\">\n",
       "  <thead>\n",
       "    <tr style=\"text-align: right;\">\n",
       "      <th></th>\n",
       "      <th>Title</th>\n",
       "      <th>Journal Type</th>\n",
       "      <th>City</th>\n",
       "      <th>wkt</th>\n",
       "      <th>City_wd</th>\n",
       "      <th>Country</th>\n",
       "      <th>Country_wd</th>\n",
       "      <th>Notice</th>\n",
       "      <th>pages</th>\n",
       "      <th>normalized_date</th>\n",
       "      <th>year</th>\n",
       "      <th>Media URL</th>\n",
       "      <th>analysed</th>\n",
       "      <th>Revue_wd</th>\n",
       "      <th>mirador_url</th>\n",
       "      <th>identifier</th>\n",
       "      <th>periodic</th>\n",
       "    </tr>\n",
       "  </thead>\n",
       "  <tbody>\n",
       "    <tr>\n",
       "      <th>0</th>\n",
       "      <td>L'Équipe (Paris. 1946)</td>\n",
       "      <td>NaN</td>\n",
       "      <td>Paris</td>\n",
       "      <td>POINT(2.3513888888889 48.856944444444)</td>\n",
       "      <td>Q90</td>\n",
       "      <td>France</td>\n",
       "      <td>Q142</td>\n",
       "      <td>https://gallica.bnf.fr/ark:/12148/cb32768368g/...</td>\n",
       "      <td>2.0</td>\n",
       "      <td>1947-01-01</td>\n",
       "      <td>1947</td>\n",
       "      <td>https://gallica.bnf.fr/iiif/ark:/12148/bd6t510...</td>\n",
       "      <td>NaN</td>\n",
       "      <td>NaN</td>\n",
       "      <td>https://iiif.unige.ch/mirador/https%3A%2F%2Fga...</td>\n",
       "      <td>b4d88189f4c41733492258e755b5ad943e74bcf4</td>\n",
       "      <td>http://data.bnf.fr/ark:/12148/cb32768368g#about</td>\n",
       "    </tr>\n",
       "    <tr>\n",
       "      <th>1</th>\n",
       "      <td>L'Équipe (Paris. 1946)</td>\n",
       "      <td>NaN</td>\n",
       "      <td>Paris</td>\n",
       "      <td>POINT(2.3513888888889 48.856944444444)</td>\n",
       "      <td>Q90</td>\n",
       "      <td>France</td>\n",
       "      <td>Q142</td>\n",
       "      <td>https://gallica.bnf.fr/ark:/12148/cb32768368g/...</td>\n",
       "      <td>2.0</td>\n",
       "      <td>1947-01-02</td>\n",
       "      <td>1947</td>\n",
       "      <td>https://gallica.bnf.fr/iiif/ark:/12148/bd6t510...</td>\n",
       "      <td>NaN</td>\n",
       "      <td>NaN</td>\n",
       "      <td>https://iiif.unige.ch/mirador/https%3A%2F%2Fga...</td>\n",
       "      <td>3936906cf26f8cb835fbe1aea44bb3503e047632</td>\n",
       "      <td>http://data.bnf.fr/ark:/12148/cb32768368g#about</td>\n",
       "    </tr>\n",
       "    <tr>\n",
       "      <th>2</th>\n",
       "      <td>L'Équipe (Paris. 1946)</td>\n",
       "      <td>NaN</td>\n",
       "      <td>Paris</td>\n",
       "      <td>POINT(2.3513888888889 48.856944444444)</td>\n",
       "      <td>Q90</td>\n",
       "      <td>France</td>\n",
       "      <td>Q142</td>\n",
       "      <td>https://gallica.bnf.fr/ark:/12148/cb32768368g/...</td>\n",
       "      <td>2.0</td>\n",
       "      <td>1947-01-03</td>\n",
       "      <td>1947</td>\n",
       "      <td>https://gallica.bnf.fr/iiif/ark:/12148/bd6t510...</td>\n",
       "      <td>NaN</td>\n",
       "      <td>NaN</td>\n",
       "      <td>https://iiif.unige.ch/mirador/https%3A%2F%2Fga...</td>\n",
       "      <td>42c5457ab26c3ed51d009b4e7dd80e4e9fefd7ec</td>\n",
       "      <td>http://data.bnf.fr/ark:/12148/cb32768368g#about</td>\n",
       "    </tr>\n",
       "    <tr>\n",
       "      <th>3</th>\n",
       "      <td>L'Équipe (Paris. 1946)</td>\n",
       "      <td>NaN</td>\n",
       "      <td>Paris</td>\n",
       "      <td>POINT(2.3513888888889 48.856944444444)</td>\n",
       "      <td>Q90</td>\n",
       "      <td>France</td>\n",
       "      <td>Q142</td>\n",
       "      <td>https://gallica.bnf.fr/ark:/12148/cb32768368g/...</td>\n",
       "      <td>2.0</td>\n",
       "      <td>1947-01-04</td>\n",
       "      <td>1947</td>\n",
       "      <td>https://gallica.bnf.fr/iiif/ark:/12148/bd6t510...</td>\n",
       "      <td>NaN</td>\n",
       "      <td>NaN</td>\n",
       "      <td>https://iiif.unige.ch/mirador/https%3A%2F%2Fga...</td>\n",
       "      <td>62a49a88082b9829e9b14865c1645ebdbd1a5a88</td>\n",
       "      <td>http://data.bnf.fr/ark:/12148/cb32768368g#about</td>\n",
       "    </tr>\n",
       "    <tr>\n",
       "      <th>4</th>\n",
       "      <td>L'Équipe (Paris. 1946)</td>\n",
       "      <td>NaN</td>\n",
       "      <td>Paris</td>\n",
       "      <td>POINT(2.3513888888889 48.856944444444)</td>\n",
       "      <td>Q90</td>\n",
       "      <td>France</td>\n",
       "      <td>Q142</td>\n",
       "      <td>https://gallica.bnf.fr/ark:/12148/cb32768368g/...</td>\n",
       "      <td>2.0</td>\n",
       "      <td>1947-01-06</td>\n",
       "      <td>1947</td>\n",
       "      <td>https://gallica.bnf.fr/iiif/ark:/12148/bd6t510...</td>\n",
       "      <td>NaN</td>\n",
       "      <td>NaN</td>\n",
       "      <td>https://iiif.unige.ch/mirador/https%3A%2F%2Fga...</td>\n",
       "      <td>707f9a2f43ee4004dd8accb897e405e618a1b1b7</td>\n",
       "      <td>http://data.bnf.fr/ark:/12148/cb32768368g#about</td>\n",
       "    </tr>\n",
       "  </tbody>\n",
       "</table>\n",
       "</div>"
      ],
      "text/plain": [
       "                    Title Journal Type   City  \\\n",
       "0  L'Équipe (Paris. 1946)          NaN  Paris   \n",
       "1  L'Équipe (Paris. 1946)          NaN  Paris   \n",
       "2  L'Équipe (Paris. 1946)          NaN  Paris   \n",
       "3  L'Équipe (Paris. 1946)          NaN  Paris   \n",
       "4  L'Équipe (Paris. 1946)          NaN  Paris   \n",
       "\n",
       "                                      wkt City_wd Country Country_wd  \\\n",
       "0  POINT(2.3513888888889 48.856944444444)     Q90  France       Q142   \n",
       "1  POINT(2.3513888888889 48.856944444444)     Q90  France       Q142   \n",
       "2  POINT(2.3513888888889 48.856944444444)     Q90  France       Q142   \n",
       "3  POINT(2.3513888888889 48.856944444444)     Q90  France       Q142   \n",
       "4  POINT(2.3513888888889 48.856944444444)     Q90  France       Q142   \n",
       "\n",
       "                                              Notice  pages normalized_date  \\\n",
       "0  https://gallica.bnf.fr/ark:/12148/cb32768368g/...    2.0      1947-01-01   \n",
       "1  https://gallica.bnf.fr/ark:/12148/cb32768368g/...    2.0      1947-01-02   \n",
       "2  https://gallica.bnf.fr/ark:/12148/cb32768368g/...    2.0      1947-01-03   \n",
       "3  https://gallica.bnf.fr/ark:/12148/cb32768368g/...    2.0      1947-01-04   \n",
       "4  https://gallica.bnf.fr/ark:/12148/cb32768368g/...    2.0      1947-01-06   \n",
       "\n",
       "   year                                          Media URL  analysed Revue_wd  \\\n",
       "0  1947  https://gallica.bnf.fr/iiif/ark:/12148/bd6t510...       NaN      NaN   \n",
       "1  1947  https://gallica.bnf.fr/iiif/ark:/12148/bd6t510...       NaN      NaN   \n",
       "2  1947  https://gallica.bnf.fr/iiif/ark:/12148/bd6t510...       NaN      NaN   \n",
       "3  1947  https://gallica.bnf.fr/iiif/ark:/12148/bd6t510...       NaN      NaN   \n",
       "4  1947  https://gallica.bnf.fr/iiif/ark:/12148/bd6t510...       NaN      NaN   \n",
       "\n",
       "                                         mirador_url  \\\n",
       "0  https://iiif.unige.ch/mirador/https%3A%2F%2Fga...   \n",
       "1  https://iiif.unige.ch/mirador/https%3A%2F%2Fga...   \n",
       "2  https://iiif.unige.ch/mirador/https%3A%2F%2Fga...   \n",
       "3  https://iiif.unige.ch/mirador/https%3A%2F%2Fga...   \n",
       "4  https://iiif.unige.ch/mirador/https%3A%2F%2Fga...   \n",
       "\n",
       "                                 identifier  \\\n",
       "0  b4d88189f4c41733492258e755b5ad943e74bcf4   \n",
       "1  3936906cf26f8cb835fbe1aea44bb3503e047632   \n",
       "2  42c5457ab26c3ed51d009b4e7dd80e4e9fefd7ec   \n",
       "3  62a49a88082b9829e9b14865c1645ebdbd1a5a88   \n",
       "4  707f9a2f43ee4004dd8accb897e405e618a1b1b7   \n",
       "\n",
       "                                          periodic  \n",
       "0  http://data.bnf.fr/ark:/12148/cb32768368g#about  \n",
       "1  http://data.bnf.fr/ark:/12148/cb32768368g#about  \n",
       "2  http://data.bnf.fr/ark:/12148/cb32768368g#about  \n",
       "3  http://data.bnf.fr/ark:/12148/cb32768368g#about  \n",
       "4  http://data.bnf.fr/ark:/12148/cb32768368g#about  "
      ]
     },
     "execution_count": 12,
     "metadata": {},
     "output_type": "execute_result"
    }
   ],
   "source": [
    "all.head()"
   ]
  },
  {
   "cell_type": "code",
   "execution_count": 13,
   "id": "8eb97763-0c37-4255-8a9d-7db56e28ade0",
   "metadata": {},
   "outputs": [],
   "source": [
    "manifests = all[\"Media URL\"].values.tolist()"
   ]
  },
  {
   "cell_type": "code",
   "execution_count": 14,
   "id": "ae8e28c6-a69a-40c3-99ca-69df978103fd",
   "metadata": {},
   "outputs": [
    {
     "name": "stdout",
     "output_type": "stream",
     "text": [
      "Done\n"
     ]
    }
   ],
   "source": [
    "with open(r'/Users/carboni/Documents/UNIGE/pynotebook/OpenRefine_fusion/backup/manifests_urls.txt', 'w') as fp:\n",
    "    for item in manifests:\n",
    "        # write each item on a new line\n",
    "        fp.write(\"%s \" % item)\n",
    "    print('Done')"
   ]
  },
  {
   "cell_type": "code",
   "execution_count": 16,
   "id": "e7ea5e75-0854-4d7f-9ff1-2e74064d074a",
   "metadata": {},
   "outputs": [],
   "source": [
    "import numpy as np\n",
    "test = np.array_split(manifests, 3)"
   ]
  },
  {
   "cell_type": "code",
   "execution_count": 20,
   "id": "c263c2de-0f96-4287-9fbf-a95cbde92559",
   "metadata": {},
   "outputs": [],
   "source": [
    "manifest1 = test[0]\n",
    "manifest2 = test[1]\n",
    "manifest3 = test[2]"
   ]
  },
  {
   "cell_type": "code",
   "execution_count": 23,
   "id": "0cb123dc-0c9c-4bba-a29d-ce15792bfd85",
   "metadata": {},
   "outputs": [
    {
     "name": "stdout",
     "output_type": "stream",
     "text": [
      "Done\n"
     ]
    }
   ],
   "source": [
    "with open(r'/Users/carboni/Documents/UNIGE/pynotebook/OpenRefine_fusion/backup/manifests_urls3.txt', 'w') as fp:\n",
    "    for item in manifest3:\n",
    "        # write each item on a new line\n",
    "        fp.write(\"%s \" % item)\n",
    "    print('Done')"
   ]
  },
  {
   "cell_type": "markdown",
   "id": "ffcd1fc4-d8e3-4c7f-bcaf-b590dc16e24a",
   "metadata": {},
   "source": [
    "## Multiple Files"
   ]
  },
  {
   "cell_type": "code",
   "execution_count": 71,
   "id": "c2bab92d-dd9d-4180-ab20-4d6b69d6987d",
   "metadata": {},
   "outputs": [],
   "source": [
    "path = r'/Users/carboni/Documents/UNIGE/pynotebook/OpenRefine_fusion/backup/complete' # use your path\n",
    "all_files = glob.glob(path + \"/*.csv\")\n",
    "\n",
    "li = []\n",
    "\n",
    "for filename in all_files:\n",
    "    df = pd.read_csv(filename, index_col=None, header=0, delimiter=',')\n",
    "    df = df[keep_col]\n",
    "    li.append(df)\n",
    "\n",
    "df2 = pd.concat(li, axis=0, ignore_index=True)"
   ]
  },
  {
   "cell_type": "markdown",
   "id": "2c1c16cb-4c38-4f3c-bf51-81d38284c386",
   "metadata": {},
   "source": [
    "## "
   ]
  },
  {
   "cell_type": "code",
   "execution_count": 72,
   "id": "f9e02e4a-2163-42e6-a6ea-2c4e793d9da5",
   "metadata": {},
   "outputs": [
    {
     "name": "stdout",
     "output_type": "stream",
     "text": [
      "<class 'pandas.core.frame.DataFrame'>\n",
      "RangeIndex: 158044 entries, 0 to 158043\n",
      "Data columns (total 1 columns):\n",
      " #   Column     Non-Null Count   Dtype \n",
      "---  ------     --------------   ----- \n",
      " 0   Media URL  158044 non-null  object\n",
      "dtypes: object(1)\n",
      "memory usage: 1.2+ MB\n"
     ]
    }
   ],
   "source": [
    "df2.info()"
   ]
  },
  {
   "cell_type": "code",
   "execution_count": 73,
   "id": "c1978c1f-75c3-4f4a-a49b-3b3398854062",
   "metadata": {},
   "outputs": [
    {
     "data": {
      "text/html": [
       "<div>\n",
       "<style scoped>\n",
       "    .dataframe tbody tr th:only-of-type {\n",
       "        vertical-align: middle;\n",
       "    }\n",
       "\n",
       "    .dataframe tbody tr th {\n",
       "        vertical-align: top;\n",
       "    }\n",
       "\n",
       "    .dataframe thead th {\n",
       "        text-align: right;\n",
       "    }\n",
       "</style>\n",
       "<table border=\"1\" class=\"dataframe\">\n",
       "  <thead>\n",
       "    <tr style=\"text-align: right;\">\n",
       "      <th></th>\n",
       "      <th>Media URL</th>\n",
       "    </tr>\n",
       "  </thead>\n",
       "  <tbody>\n",
       "    <tr>\n",
       "      <th>0</th>\n",
       "      <td>https://iiif.unige.ch/dhportal/ug27808014/mani...</td>\n",
       "    </tr>\n",
       "    <tr>\n",
       "      <th>1</th>\n",
       "      <td>https://iiif.unige.ch/dhportal/ug27812178/mani...</td>\n",
       "    </tr>\n",
       "    <tr>\n",
       "      <th>2</th>\n",
       "      <td>https://iiif.unige.ch/dhportal/ug27809875/mani...</td>\n",
       "    </tr>\n",
       "    <tr>\n",
       "      <th>3</th>\n",
       "      <td>https://iiif.unige.ch/dhportal/ug27815928/mani...</td>\n",
       "    </tr>\n",
       "    <tr>\n",
       "      <th>4</th>\n",
       "      <td>https://iiif.unige.ch/dhportal/ug27810859/mani...</td>\n",
       "    </tr>\n",
       "  </tbody>\n",
       "</table>\n",
       "</div>"
      ],
      "text/plain": [
       "                                           Media URL\n",
       "0  https://iiif.unige.ch/dhportal/ug27808014/mani...\n",
       "1  https://iiif.unige.ch/dhportal/ug27812178/mani...\n",
       "2  https://iiif.unige.ch/dhportal/ug27809875/mani...\n",
       "3  https://iiif.unige.ch/dhportal/ug27815928/mani...\n",
       "4  https://iiif.unige.ch/dhportal/ug27810859/mani..."
      ]
     },
     "execution_count": 73,
     "metadata": {},
     "output_type": "execute_result"
    }
   ],
   "source": [
    "df2.head()"
   ]
  },
  {
   "cell_type": "code",
   "execution_count": 74,
   "id": "05e680f0-d5a3-444c-a08d-1eb2dd60b517",
   "metadata": {},
   "outputs": [
    {
     "name": "stdout",
     "output_type": "stream",
     "text": [
      "<class 'pandas.core.frame.DataFrame'>\n",
      "RangeIndex: 158044 entries, 0 to 158043\n",
      "Data columns (total 1 columns):\n",
      " #   Column     Non-Null Count   Dtype \n",
      "---  ------     --------------   ----- \n",
      " 0   Media URL  158044 non-null  object\n",
      "dtypes: object(1)\n",
      "memory usage: 1.2+ MB\n"
     ]
    }
   ],
   "source": [
    "df2.info()"
   ]
  },
  {
   "cell_type": "code",
   "execution_count": 75,
   "id": "bdc0fc69-8219-4f57-884c-c0934fbb290c",
   "metadata": {},
   "outputs": [],
   "source": [
    "df2.to_csv(\"/Users/carboni/Downloads/Complete_dataset/manifests.csv\", index=False)"
   ]
  },
  {
   "cell_type": "code",
   "execution_count": 76,
   "id": "142aff16-ec6c-4c99-b02b-7fec924708ef",
   "metadata": {},
   "outputs": [],
   "source": [
    "manifests = df2[\"Media URL\"].values.tolist()"
   ]
  },
  {
   "cell_type": "code",
   "execution_count": 77,
   "id": "92702419-ce27-4b97-896c-2afd56a749b0",
   "metadata": {},
   "outputs": [
    {
     "name": "stdout",
     "output_type": "stream",
     "text": [
      "Done\n"
     ]
    }
   ],
   "source": [
    "with open(r'/Users/carboni/Downloads/Complete_dataset/manifests_bnf_not_analysed.txt', 'w') as fp:\n",
    "    for item in manifests:\n",
    "        # write each item on a new line\n",
    "        fp.write(\"%s \" % item)\n",
    "    print('Done')"
   ]
  },
  {
   "cell_type": "code",
   "execution_count": null,
   "id": "4e1a110c-f29a-4290-9254-80a1a3658b1f",
   "metadata": {},
   "outputs": [],
   "source": []
  }
 ],
 "metadata": {
  "kernelspec": {
   "display_name": "Python 3 (ipykernel)",
   "language": "python",
   "name": "python3"
  },
  "language_info": {
   "codemirror_mode": {
    "name": "ipython",
    "version": 3
   },
   "file_extension": ".py",
   "mimetype": "text/x-python",
   "name": "python",
   "nbconvert_exporter": "python",
   "pygments_lexer": "ipython3",
   "version": "3.10.8"
  }
 },
 "nbformat": 4,
 "nbformat_minor": 5
}
