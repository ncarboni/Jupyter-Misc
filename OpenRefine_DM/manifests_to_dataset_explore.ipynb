{
 "cells": [
  {
   "cell_type": "markdown",
   "id": "1873ffbe-4ab9-4c21-89fc-9c847824b516",
   "metadata": {
    "tags": []
   },
   "source": [
    "# Extract manifest link for creating datasets in Explore"
   ]
  },
  {
   "cell_type": "markdown",
   "id": "0f6bedc9-1405-4218-af13-e02b96458dc7",
   "metadata": {},
   "source": [
    "The notebook is used to create list of manifests to ingest in Explore. The Manifests are created based on one or multiple CSV file downloaded from OpenRefine. It extract the \"Media URL\" value and concatenate them together creating a txt file."
   ]
  },
  {
   "cell_type": "code",
   "execution_count": null,
   "id": "7589327f-7140-431c-907f-53a8439ccf94",
   "metadata": {},
   "outputs": [],
   "source": [
    "import pandas as pd\n",
    "import os\n",
    "import glob"
   ]
  },
  {
   "cell_type": "code",
   "execution_count": null,
   "id": "4b35ed03-e205-41c2-a02c-d4885095eb82",
   "metadata": {},
   "outputs": [],
   "source": [
    "keep_col = ['Media URL']"
   ]
  },
  {
   "cell_type": "markdown",
   "id": "b312ac51-3f72-4cd6-b0c8-3dff2822f069",
   "metadata": {},
   "source": [
    "## Combined datasets to unique txt file "
   ]
  },
  {
   "cell_type": "code",
   "execution_count": null,
   "id": "fd45a168-2641-47d0-b626-96fd275586f2",
   "metadata": {},
   "outputs": [],
   "source": [
    "folder_path = 'combined_datasets_explore'"
   ]
  },
  {
   "cell_type": "code",
   "execution_count": null,
   "id": "554c96fa-ff09-4d67-92c2-9b3bfec91366",
   "metadata": {},
   "outputs": [],
   "source": [
    "all_files = glob.glob(folder_path + \"/*.csv\")\n",
    "\n",
    "li = []\n",
    "\n",
    "for filename in all_files:\n",
    "    df = pd.read_csv(filename, index_col=None, header=0, delimiter=',', low_memory=False)\n",
    "    df = df[keep_col]\n",
    "    df['source'] = filename.split(\"/\")[-1]\n",
    "    li.append(df)\n",
    "\n",
    "df_merged = pd.concat(li, axis=0, ignore_index=True)"
   ]
  },
  {
   "cell_type": "code",
   "execution_count": null,
   "id": "769459a6-3ea7-4c4a-91c8-0a0d27afc8c8",
   "metadata": {
    "tags": []
   },
   "outputs": [],
   "source": [
    "df_merged.head()"
   ]
  },
  {
   "cell_type": "code",
   "execution_count": null,
   "id": "c5013398-fc81-4735-92b0-f48221a330b4",
   "metadata": {},
   "outputs": [],
   "source": [
    "df_merged.to_csv('merged_combined_manifests.csv', index=False)"
   ]
  },
  {
   "cell_type": "code",
   "execution_count": null,
   "id": "764b929a-79de-4ee1-960d-60b69653dc4c",
   "metadata": {
    "tags": []
   },
   "outputs": [],
   "source": [
    "# df_merged = df_merged.dropna()"
   ]
  },
  {
   "cell_type": "code",
   "execution_count": null,
   "id": "b1650d95-3732-4497-bd0c-ee953de3373a",
   "metadata": {},
   "outputs": [],
   "source": [
    "url_string = ' '.join(df_merged['Media URL'].astype(str))\n",
    "\n",
    "# Write the string to a text file\n",
    "with open('full_manifests.txt', 'w') as file:\n",
    "    file.write(url_string)\n",
    "\n",
    "print(\"Text file 'full_manifests.txt' created.\")"
   ]
  },
  {
   "cell_type": "markdown",
   "id": "7891dfed-3aa1-4f52-9546-cef885d02384",
   "metadata": {},
   "source": [
    "## Combined datasets to multiplle file (based on the source)"
   ]
  },
  {
   "cell_type": "markdown",
   "id": "fa6bb607-63ab-4634-bfc7-04dd990c9c05",
   "metadata": {},
   "source": [
    "The following do the same operation as the one above, but the produced results are based on the original CSV files (source). If multiple CSV are given as input, multiple lists of manifests are produced"
   ]
  },
  {
   "cell_type": "code",
   "execution_count": null,
   "id": "30950427-f606-4ca6-ae9b-24cd35c508d1",
   "metadata": {
    "tags": []
   },
   "outputs": [],
   "source": [
    "grouped = df_merged.groupby('source')['Media URL'].apply(lambda x: ' '.join(x.astype(str)))\n",
    "\n",
    "for source, urls in grouped.items():\n",
    "    filename = source.replace('/', '_').replace('\\\\', '_') + '_manifest.txt'\n",
    "\n",
    "    with open(filename, 'w') as file:\n",
    "        file.write(urls)\n",
    "\n",
    "    print(f\"Text file '{filename}' created.\")"
   ]
  },
  {
   "cell_type": "markdown",
   "id": "5615782f-9216-41a3-875d-ae5e7034ec34",
   "metadata": {},
   "source": [
    "## Combined datasets to multiplle file (based on the size)"
   ]
  },
  {
   "cell_type": "markdown",
   "id": "fdb1406a-8af2-46ea-ae70-d92f770ca858",
   "metadata": {},
   "source": [
    "The following operations combine multiple CSV and extract the manifests in the column 'Media URL'. The result is then splitted into multiple files based on the size. Currently, the script it is set for using 20 MB as the maximum size for the manifest list. Bigger txt file have caused errors on Explore."
   ]
  },
  {
   "cell_type": "code",
   "execution_count": null,
   "id": "8d1b1185-9cfd-415a-abe3-36af1a6eb300",
   "metadata": {
    "tags": []
   },
   "outputs": [],
   "source": [
    "def write_to_file(file_number, content):\n",
    "    filename = f'manifests_{file_number}.txt'\n",
    "    with open(filename, 'w') as file:\n",
    "        file.write(content)\n",
    "    print(f\"Text file '{filename}' created.\")\n",
    "\n",
    "# Convert the column to a string, separating entries with spaces\n",
    "url_string = ' '.join(df_merged['Media URL'].astype(str))\n",
    "\n",
    "# Define max size for each file (in bytes) - 20MB\n",
    "max_size = 20 * 1024 * 1024\n",
    "\n",
    "file_number = 1\n",
    "current_size = 0\n",
    "current_content = ''\n",
    "\n",
    "for url in url_string.split(' '):\n",
    "    # Estimate size added by next URL\n",
    "    added_size = len(url.encode('utf-8')) + 1  # +1 for the space\n",
    "\n",
    "    # Check if adding the next URL would exceed the max size\n",
    "    if current_size + added_size > max_size:\n",
    "        write_to_file(file_number, current_content)\n",
    "        file_number += 1\n",
    "        current_content = url + ' '\n",
    "        current_size = added_size\n",
    "    else:\n",
    "        current_content += url + ' '\n",
    "        current_size += added_size\n",
    "\n",
    "# Write any remaining content to a file\n",
    "if current_content:\n",
    "    write_to_file(file_number, current_content)\n"
   ]
  },
  {
   "cell_type": "markdown",
   "id": "a7b3b78d-458d-461a-8d91-a7357616bdc8",
   "metadata": {},
   "source": [
    "## Single CSV file to manifest list"
   ]
  },
  {
   "cell_type": "code",
   "execution_count": null,
   "id": "7212a16d-eaa6-4ade-898d-1c5c48ecb342",
   "metadata": {},
   "outputs": [],
   "source": [
    "df_single = pd.read_csv('/Users/carboni/Downloads/Slovenia-magazines-with-iiif-manifest-csv.tsv', low_memory=False)"
   ]
  },
  {
   "cell_type": "code",
   "execution_count": null,
   "id": "6dd45bbe-f863-42c1-95fe-0e0dbf5ed62b",
   "metadata": {},
   "outputs": [],
   "source": [
    "url_string = ' '.join(df_single['Media URL'].astype(str))"
   ]
  },
  {
   "cell_type": "code",
   "execution_count": null,
   "id": "cd158b9c-dd48-4df2-8e84-42c370cf387c",
   "metadata": {},
   "outputs": [],
   "source": [
    "# Write the string to a text file\n",
    "with open('manifests_slovenia.txt', 'w') as file:\n",
    "    file.write(url_string)\n",
    "\n",
    "print(\"Text file 'manifests.txt' created.\")"
   ]
  }
 ],
 "metadata": {
  "kernelspec": {
   "display_name": "Python 3 (ipykernel)",
   "language": "python",
   "name": "python3"
  },
  "language_info": {
   "codemirror_mode": {
    "name": "ipython",
    "version": 3
   },
   "file_extension": ".py",
   "mimetype": "text/x-python",
   "name": "python",
   "nbconvert_exporter": "python",
   "pygments_lexer": "ipython3",
   "version": "3.10.8"
  }
 },
 "nbformat": 4,
 "nbformat_minor": 5
}
