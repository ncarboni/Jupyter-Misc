{
 "cells": [
  {
   "cell_type": "code",
   "execution_count": 3,
   "id": "af1a4ccc-3261-43b8-8db8-a91de23f769a",
   "metadata": {},
   "outputs": [],
   "source": [
    "import requests\n",
    "\n",
    "# Define the API endpoint URL\n",
    "api_url = 'http://129.194.213.75/command/core/get-all-project-metadata'\n",
    "\n",
    "# Disable SSL certificate verification (use with caution)\n",
    "verify_ssl = False\n",
    "\n",
    "# Make the GET request to the API\n",
    "response = requests.get(api_url, verify=verify_ssl)\n",
    "\n",
    "# Check if the request was successful (status code 200)\n",
    "if response.status_code == 200:\n",
    "    # Parse the JSON response\n",
    "    api_response = response.json()\n",
    "else:\n",
    "    print(f\"API request failed with status code: {response.status_code}\")\n",
    "    print(response.text)\n",
    "\n",
    "projects_data = api_response.get('projects', {})\n",
    "\n",
    "# Initialize an empty dictionary for projects\n",
    "projects_dict = {}\n",
    "\n",
    "# Iterate through the projects\n",
    "for project_id, project_info in projects_data.items():\n",
    "    project_tags = project_info.get('tags', [])\n",
    "    if 'corpusVC' in project_tags:\n",
    "        project_name = project_info.get('name', '')\n",
    "        projects_dict[project_id] = project_name\n",
    "\n",
    "print(projects_dict)"
   ]
  },
  {
   "cell_type": "code",
   "execution_count": 11,
   "id": "c23e5b14-58c0-48b6-8156-e65e11410203",
   "metadata": {},
   "outputs": [
    {
     "name": "stdout",
     "output_type": "stream",
     "text": [
      "{'2141702759150': \"L'artiste\", '1897293512341': 'BNF_periodic_1', '1688128007940': 'Journaux Est-Asiatique (collecte barbara)', '1914921870678': 'Adrien iaddb data iiif(UNIGE)', '1695103319397': 'AG2023', '1878246014108': 'Backup_2022_02_03_PDF_cleaned', '1695291554765': 'Marie mag PhD data iiif (UNIGE)', '2330813936766': 'art mode', '2010224589348': 'Der Spiegel', '1929627493981': 'Project Translatio', '2637062031927': 'Slovenia magazines with iiif manifest csv', '2216922237200': 'La Locomotion automobile', '2374512373252': 'BackupCBT_2022_02_03_IIIF', '1650201645555': 'Venus Explore', '2332878816656': 'digiteca', '1792589433060': 'BNF_periodics_2_2023', '2332843665824': 'Princeton Blue Mountain', '2370932517189': 'AG2023_part2', '2090209062960': 'National Geographic with iiif manifest'}\n"
     ]
    }
   ],
   "source": [
    "projects_data = api_response.get('projects', {})\n",
    "\n",
    "# Initialize an empty dictionary for projects\n",
    "projects_dict = {}\n",
    "\n",
    "# Iterate through the projects\n",
    "for project_id, project_info in projects_data.items():\n",
    "    project_tags = project_info.get('tags', [])\n",
    "    if 'corpusVC' in project_tags:\n",
    "        project_name = project_info.get('name', '')\n",
    "        projects_dict[project_id] = project_name\n",
    "\n",
    "print(projects_dict)"
   ]
  }
 ],
 "metadata": {
  "kernelspec": {
   "display_name": "Python 3 (ipykernel)",
   "language": "python",
   "name": "python3"
  },
  "language_info": {
   "codemirror_mode": {
    "name": "ipython",
    "version": 3
   },
   "file_extension": ".py",
   "mimetype": "text/x-python",
   "name": "python",
   "nbconvert_exporter": "python",
   "pygments_lexer": "ipython3",
   "version": "3.10.8"
  }
 },
 "nbformat": 4,
 "nbformat_minor": 5
}
