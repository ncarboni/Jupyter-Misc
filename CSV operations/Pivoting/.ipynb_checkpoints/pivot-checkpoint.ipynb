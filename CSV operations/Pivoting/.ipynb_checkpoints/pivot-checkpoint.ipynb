{
 "cells": [
  {
   "cell_type": "markdown",
   "id": "6e6de001-5fcb-4b1f-ba20-22497eb93d37",
   "metadata": {
    "tags": []
   },
   "source": [
    "# Pivot Notebook"
   ]
  },
  {
   "cell_type": "markdown",
   "id": "9da3927a-2ff8-4b45-b441-e2debf835651",
   "metadata": {},
   "source": [
    "To be used to create pivot table for the explored corpus of VC. It opens a file and create pivot table according to\n",
    "+ City\n",
    "+ Journal\n",
    "+ Type"
   ]
  },
  {
   "cell_type": "markdown",
   "id": "d30124d9-5179-4093-81be-d377b0ffc92e",
   "metadata": {},
   "source": [
    "## Computing Pivot"
   ]
  },
  {
   "cell_type": "code",
   "execution_count": 1,
   "id": "e03f482d-59a4-487d-8c67-689a7894b200",
   "metadata": {},
   "outputs": [],
   "source": [
    "import pandas as pd"
   ]
  },
  {
   "cell_type": "code",
   "execution_count": 2,
   "id": "5f90ae1b-bdf3-4a60-a5ef-5f1ac79524d6",
   "metadata": {},
   "outputs": [],
   "source": [
    "df = pd.read_csv(\"Explored_april_22.csv\", sep='\\t')"
   ]
  },
  {
   "cell_type": "code",
   "execution_count": 3,
   "id": "dd4aa0b6-ac93-4e88-84cc-c676b9342a32",
   "metadata": {},
   "outputs": [
    {
     "data": {
      "text/html": [
       "<div>\n",
       "<style scoped>\n",
       "    .dataframe tbody tr th:only-of-type {\n",
       "        vertical-align: middle;\n",
       "    }\n",
       "\n",
       "    .dataframe tbody tr th {\n",
       "        vertical-align: top;\n",
       "    }\n",
       "\n",
       "    .dataframe thead th {\n",
       "        text-align: right;\n",
       "    }\n",
       "</style>\n",
       "<table border=\"1\" class=\"dataframe\">\n",
       "  <thead>\n",
       "    <tr style=\"text-align: right;\">\n",
       "      <th></th>\n",
       "      <th>Media URL</th>\n",
       "      <th>wkt</th>\n",
       "      <th>City</th>\n",
       "      <th>Country</th>\n",
       "      <th>normalized_date</th>\n",
       "      <th>Title</th>\n",
       "      <th>Journal Type</th>\n",
       "    </tr>\n",
       "  </thead>\n",
       "  <tbody>\n",
       "    <tr>\n",
       "      <th>0</th>\n",
       "      <td>https://iiif.unige.ch/dhportal/ug8101433/manifest</td>\n",
       "      <td>POINT(-74.006015 40.712728)</td>\n",
       "      <td>New York City</td>\n",
       "      <td>United States of America</td>\n",
       "      <td>1936-11-23T00:00:00Z</td>\n",
       "      <td>LIFE</td>\n",
       "      <td>Illustrated Magazine</td>\n",
       "    </tr>\n",
       "    <tr>\n",
       "      <th>1</th>\n",
       "      <td>https://iiif.unige.ch/dhportal/ug8026695/manifest</td>\n",
       "      <td>POINT(-74.006015 40.712728)</td>\n",
       "      <td>New York City</td>\n",
       "      <td>United States of America</td>\n",
       "      <td>1936-11-30T00:00:00Z</td>\n",
       "      <td>LIFE</td>\n",
       "      <td>Illustrated Magazine</td>\n",
       "    </tr>\n",
       "    <tr>\n",
       "      <th>2</th>\n",
       "      <td>https://iiif.unige.ch/dhportal/ug8013847/manifest</td>\n",
       "      <td>POINT(-74.006015 40.712728)</td>\n",
       "      <td>New York City</td>\n",
       "      <td>United States of America</td>\n",
       "      <td>1936-12-07T00:00:00Z</td>\n",
       "      <td>LIFE</td>\n",
       "      <td>Illustrated Magazine</td>\n",
       "    </tr>\n",
       "    <tr>\n",
       "      <th>3</th>\n",
       "      <td>https://iiif.unige.ch/dhportal/ug8010392/manifest</td>\n",
       "      <td>POINT(-74.006015 40.712728)</td>\n",
       "      <td>New York City</td>\n",
       "      <td>United States of America</td>\n",
       "      <td>1936-12-21T00:00:00Z</td>\n",
       "      <td>LIFE</td>\n",
       "      <td>Illustrated Magazine</td>\n",
       "    </tr>\n",
       "    <tr>\n",
       "      <th>4</th>\n",
       "      <td>https://iiif.unige.ch/dhportal/ug8032218/manifest</td>\n",
       "      <td>POINT(-74.006015 40.712728)</td>\n",
       "      <td>New York City</td>\n",
       "      <td>United States of America</td>\n",
       "      <td>1936-12-28T00:00:00Z</td>\n",
       "      <td>LIFE</td>\n",
       "      <td>Illustrated Magazine</td>\n",
       "    </tr>\n",
       "  </tbody>\n",
       "</table>\n",
       "</div>"
      ],
      "text/plain": [
       "                                           Media URL  \\\n",
       "0  https://iiif.unige.ch/dhportal/ug8101433/manifest   \n",
       "1  https://iiif.unige.ch/dhportal/ug8026695/manifest   \n",
       "2  https://iiif.unige.ch/dhportal/ug8013847/manifest   \n",
       "3  https://iiif.unige.ch/dhportal/ug8010392/manifest   \n",
       "4  https://iiif.unige.ch/dhportal/ug8032218/manifest   \n",
       "\n",
       "                           wkt           City                   Country  \\\n",
       "0  POINT(-74.006015 40.712728)  New York City  United States of America   \n",
       "1  POINT(-74.006015 40.712728)  New York City  United States of America   \n",
       "2  POINT(-74.006015 40.712728)  New York City  United States of America   \n",
       "3  POINT(-74.006015 40.712728)  New York City  United States of America   \n",
       "4  POINT(-74.006015 40.712728)  New York City  United States of America   \n",
       "\n",
       "        normalized_date Title          Journal Type  \n",
       "0  1936-11-23T00:00:00Z  LIFE  Illustrated Magazine  \n",
       "1  1936-11-30T00:00:00Z  LIFE  Illustrated Magazine  \n",
       "2  1936-12-07T00:00:00Z  LIFE  Illustrated Magazine  \n",
       "3  1936-12-21T00:00:00Z  LIFE  Illustrated Magazine  \n",
       "4  1936-12-28T00:00:00Z  LIFE  Illustrated Magazine  "
      ]
     },
     "execution_count": 3,
     "metadata": {},
     "output_type": "execute_result"
    }
   ],
   "source": [
    "df.head()"
   ]
  },
  {
   "cell_type": "code",
   "execution_count": 4,
   "id": "4309ff68-b062-4171-a34b-0824716d9a76",
   "metadata": {
    "tags": []
   },
   "outputs": [
    {
     "name": "stdout",
     "output_type": "stream",
     "text": [
      "<class 'pandas.core.frame.DataFrame'>\n",
      "RangeIndex: 156546 entries, 0 to 156545\n",
      "Data columns (total 7 columns):\n",
      " #   Column           Non-Null Count   Dtype \n",
      "---  ------           --------------   ----- \n",
      " 0   Media URL        156546 non-null  object\n",
      " 1   wkt              156305 non-null  object\n",
      " 2   City             154550 non-null  object\n",
      " 3   Country          156496 non-null  object\n",
      " 4   normalized_date  156546 non-null  object\n",
      " 5   Title            156546 non-null  object\n",
      " 6   Journal Type     145575 non-null  object\n",
      "dtypes: object(7)\n",
      "memory usage: 8.4+ MB\n"
     ]
    }
   ],
   "source": [
    "df.info()"
   ]
  },
  {
   "cell_type": "markdown",
   "id": "70eb88b5-cf7c-4ddb-9b69-2f0bfd4fd176",
   "metadata": {
    "tags": []
   },
   "source": [
    "### Quantify how many Media URL (Manifest) have been published on the same city"
   ]
  },
  {
   "cell_type": "code",
   "execution_count": 5,
   "id": "8ea07ebd-dab6-4616-a457-6040f5d1b798",
   "metadata": {
    "tags": []
   },
   "outputs": [],
   "source": [
    "pivot_city = pd.pivot_table(df, values='Media URL', index='City', aggfunc=pd.Series.nunique)"
   ]
  },
  {
   "cell_type": "code",
   "execution_count": 6,
   "id": "dfef878d-cd7d-40d5-be16-09823fc69378",
   "metadata": {},
   "outputs": [
    {
     "data": {
      "text/html": [
       "<div>\n",
       "<style scoped>\n",
       "    .dataframe tbody tr th:only-of-type {\n",
       "        vertical-align: middle;\n",
       "    }\n",
       "\n",
       "    .dataframe tbody tr th {\n",
       "        vertical-align: top;\n",
       "    }\n",
       "\n",
       "    .dataframe thead th {\n",
       "        text-align: right;\n",
       "    }\n",
       "</style>\n",
       "<table border=\"1\" class=\"dataframe\">\n",
       "  <thead>\n",
       "    <tr style=\"text-align: right;\">\n",
       "      <th></th>\n",
       "      <th>Media URL</th>\n",
       "    </tr>\n",
       "    <tr>\n",
       "      <th>City</th>\n",
       "      <th></th>\n",
       "    </tr>\n",
       "  </thead>\n",
       "  <tbody>\n",
       "    <tr>\n",
       "      <th>Aachen</th>\n",
       "      <td>1</td>\n",
       "    </tr>\n",
       "    <tr>\n",
       "      <th>Aix-en-Provence</th>\n",
       "      <td>1</td>\n",
       "    </tr>\n",
       "    <tr>\n",
       "      <th>Alençon</th>\n",
       "      <td>1</td>\n",
       "    </tr>\n",
       "    <tr>\n",
       "      <th>Algiers</th>\n",
       "      <td>1094</td>\n",
       "    </tr>\n",
       "    <tr>\n",
       "      <th>Amiens</th>\n",
       "      <td>776</td>\n",
       "    </tr>\n",
       "    <tr>\n",
       "      <th>...</th>\n",
       "      <td>...</td>\n",
       "    </tr>\n",
       "    <tr>\n",
       "      <th>Yarmolyntsi</th>\n",
       "      <td>68</td>\n",
       "    </tr>\n",
       "    <tr>\n",
       "      <th>Zagreb</th>\n",
       "      <td>34</td>\n",
       "    </tr>\n",
       "    <tr>\n",
       "      <th>Zürich</th>\n",
       "      <td>33</td>\n",
       "    </tr>\n",
       "    <tr>\n",
       "      <th>Épinal</th>\n",
       "      <td>487</td>\n",
       "    </tr>\n",
       "    <tr>\n",
       "      <th>Évreux</th>\n",
       "      <td>4</td>\n",
       "    </tr>\n",
       "  </tbody>\n",
       "</table>\n",
       "<p>301 rows × 1 columns</p>\n",
       "</div>"
      ],
      "text/plain": [
       "                 Media URL\n",
       "City                      \n",
       "Aachen                   1\n",
       "Aix-en-Provence          1\n",
       "Alençon                  1\n",
       "Algiers               1094\n",
       "Amiens                 776\n",
       "...                    ...\n",
       "Yarmolyntsi             68\n",
       "Zagreb                  34\n",
       "Zürich                  33\n",
       "Épinal                 487\n",
       "Évreux                   4\n",
       "\n",
       "[301 rows x 1 columns]"
      ]
     },
     "execution_count": 6,
     "metadata": {},
     "output_type": "execute_result"
    }
   ],
   "source": [
    "pivot_city"
   ]
  },
  {
   "cell_type": "code",
   "execution_count": 7,
   "id": "45845f08-10f3-4b02-ac04-ed0322246c8e",
   "metadata": {},
   "outputs": [],
   "source": [
    "pivot_city.to_csv(\"pivot_city.csv\")"
   ]
  },
  {
   "cell_type": "markdown",
   "id": "d2fff675-5ef3-436f-b7a0-5193aba8550b",
   "metadata": {},
   "source": [
    "### Quantify how many Media URL (Manifest) belong to the same journal"
   ]
  },
  {
   "cell_type": "code",
   "execution_count": 8,
   "id": "ac302235-2785-4cf9-8cd1-48a01e8b61b2",
   "metadata": {},
   "outputs": [],
   "source": [
    "pivot_title = pd.pivot_table(df, values='Media URL', index='Title', aggfunc=pd.Series.nunique)"
   ]
  },
  {
   "cell_type": "code",
   "execution_count": 9,
   "id": "edb258c5-622c-42f9-9873-64a9c93b3da1",
   "metadata": {},
   "outputs": [
    {
     "data": {
      "text/html": [
       "<div>\n",
       "<style scoped>\n",
       "    .dataframe tbody tr th:only-of-type {\n",
       "        vertical-align: middle;\n",
       "    }\n",
       "\n",
       "    .dataframe tbody tr th {\n",
       "        vertical-align: top;\n",
       "    }\n",
       "\n",
       "    .dataframe thead th {\n",
       "        text-align: right;\n",
       "    }\n",
       "</style>\n",
       "<table border=\"1\" class=\"dataframe\">\n",
       "  <thead>\n",
       "    <tr style=\"text-align: right;\">\n",
       "      <th></th>\n",
       "      <th>Media URL</th>\n",
       "    </tr>\n",
       "    <tr>\n",
       "      <th>Title</th>\n",
       "      <th></th>\n",
       "    </tr>\n",
       "  </thead>\n",
       "  <tbody>\n",
       "    <tr>\n",
       "      <th>18 Whiskys. Un buen record</th>\n",
       "      <td>1</td>\n",
       "    </tr>\n",
       "    <tr>\n",
       "      <th>19 Whiskys. Un buen record</th>\n",
       "      <td>1</td>\n",
       "    </tr>\n",
       "    <tr>\n",
       "      <th>2001</th>\n",
       "      <td>1</td>\n",
       "    </tr>\n",
       "    <tr>\n",
       "      <th>2001 Periodismo de Anticipación</th>\n",
       "      <td>48</td>\n",
       "    </tr>\n",
       "    <tr>\n",
       "      <th>20th CENTURY FOX NEWS</th>\n",
       "      <td>1</td>\n",
       "    </tr>\n",
       "    <tr>\n",
       "      <th>...</th>\n",
       "      <td>...</td>\n",
       "    </tr>\n",
       "    <tr>\n",
       "      <th>Świadectwo autoportretu</th>\n",
       "      <td>1</td>\n",
       "    </tr>\n",
       "    <tr>\n",
       "      <th>Światła Stambułu</th>\n",
       "      <td>1</td>\n",
       "    </tr>\n",
       "    <tr>\n",
       "      <th>Żeby wiedzieć</th>\n",
       "      <td>1</td>\n",
       "    </tr>\n",
       "    <tr>\n",
       "      <th>Византийские иконы Синая / Vizantijskie ikony Sinaja</th>\n",
       "      <td>1</td>\n",
       "    </tr>\n",
       "    <tr>\n",
       "      <th>Ḥamīyet</th>\n",
       "      <td>1</td>\n",
       "    </tr>\n",
       "  </tbody>\n",
       "</table>\n",
       "<p>1793 rows × 1 columns</p>\n",
       "</div>"
      ],
      "text/plain": [
       "                                                    Media URL\n",
       "Title                                                        \n",
       "18 Whiskys. Un buen record                                  1\n",
       "19 Whiskys. Un buen record                                  1\n",
       "2001                                                        1\n",
       "2001 Periodismo de Anticipación                            48\n",
       "20th CENTURY FOX NEWS                                       1\n",
       "...                                                       ...\n",
       "Świadectwo autoportretu                                     1\n",
       "Światła Stambułu                                            1\n",
       "Żeby wiedzieć                                               1\n",
       "Византийские иконы Синая / Vizantijskie ikony S...          1\n",
       "Ḥamīyet                                                     1\n",
       "\n",
       "[1793 rows x 1 columns]"
      ]
     },
     "execution_count": 9,
     "metadata": {},
     "output_type": "execute_result"
    }
   ],
   "source": [
    "pivot_title"
   ]
  },
  {
   "cell_type": "code",
   "execution_count": 10,
   "id": "15f27750-b870-4794-9faa-3ac7604017f1",
   "metadata": {},
   "outputs": [],
   "source": [
    "pivot_title.to_csv(\"pivot_title.csv\")"
   ]
  },
  {
   "cell_type": "markdown",
   "id": "6c3c1ec8-57d6-4540-81b5-17d070367a87",
   "metadata": {},
   "source": [
    "### Quantify how many Media URL (Manifest) belong to the same Journal Type"
   ]
  },
  {
   "cell_type": "code",
   "execution_count": 11,
   "id": "b7a013f9-eb9d-420f-a2ea-ad61891ca80b",
   "metadata": {},
   "outputs": [],
   "source": [
    "pivot_type = pd.pivot_table(df, values='Media URL', index='Journal Type', aggfunc=pd.Series.nunique)"
   ]
  },
  {
   "cell_type": "code",
   "execution_count": 12,
   "id": "f6e5090f-f886-43ca-a2d9-8465980a2a06",
   "metadata": {},
   "outputs": [
    {
     "data": {
      "text/html": [
       "<div>\n",
       "<style scoped>\n",
       "    .dataframe tbody tr th:only-of-type {\n",
       "        vertical-align: middle;\n",
       "    }\n",
       "\n",
       "    .dataframe tbody tr th {\n",
       "        vertical-align: top;\n",
       "    }\n",
       "\n",
       "    .dataframe thead th {\n",
       "        text-align: right;\n",
       "    }\n",
       "</style>\n",
       "<table border=\"1\" class=\"dataframe\">\n",
       "  <thead>\n",
       "    <tr style=\"text-align: right;\">\n",
       "      <th></th>\n",
       "      <th>Media URL</th>\n",
       "    </tr>\n",
       "    <tr>\n",
       "      <th>Journal Type</th>\n",
       "      <th></th>\n",
       "    </tr>\n",
       "  </thead>\n",
       "  <tbody>\n",
       "    <tr>\n",
       "      <th>Academic Journal</th>\n",
       "      <td>7</td>\n",
       "    </tr>\n",
       "    <tr>\n",
       "      <th>Academy</th>\n",
       "      <td>7</td>\n",
       "    </tr>\n",
       "    <tr>\n",
       "      <th>Administration</th>\n",
       "      <td>75</td>\n",
       "    </tr>\n",
       "    <tr>\n",
       "      <th>Advertisement</th>\n",
       "      <td>4</td>\n",
       "    </tr>\n",
       "    <tr>\n",
       "      <th>Architecture</th>\n",
       "      <td>239</td>\n",
       "    </tr>\n",
       "    <tr>\n",
       "      <th>...</th>\n",
       "      <td>...</td>\n",
       "    </tr>\n",
       "    <tr>\n",
       "      <th>Urbanism</th>\n",
       "      <td>3</td>\n",
       "    </tr>\n",
       "    <tr>\n",
       "      <th>War</th>\n",
       "      <td>1737</td>\n",
       "    </tr>\n",
       "    <tr>\n",
       "      <th>Woman</th>\n",
       "      <td>1829</td>\n",
       "    </tr>\n",
       "    <tr>\n",
       "      <th>Worldliness</th>\n",
       "      <td>715</td>\n",
       "    </tr>\n",
       "    <tr>\n",
       "      <th>Youth</th>\n",
       "      <td>535</td>\n",
       "    </tr>\n",
       "  </tbody>\n",
       "</table>\n",
       "<p>79 rows × 1 columns</p>\n",
       "</div>"
      ],
      "text/plain": [
       "                  Media URL\n",
       "Journal Type               \n",
       "Academic Journal          7\n",
       "Academy                   7\n",
       "Administration           75\n",
       "Advertisement             4\n",
       "Architecture            239\n",
       "...                     ...\n",
       "Urbanism                  3\n",
       "War                    1737\n",
       "Woman                  1829\n",
       "Worldliness             715\n",
       "Youth                   535\n",
       "\n",
       "[79 rows x 1 columns]"
      ]
     },
     "execution_count": 12,
     "metadata": {},
     "output_type": "execute_result"
    }
   ],
   "source": [
    "pivot_type"
   ]
  },
  {
   "cell_type": "code",
   "execution_count": 13,
   "id": "3050607b-8ec4-460e-a936-0c2bf8dd519e",
   "metadata": {},
   "outputs": [],
   "source": [
    "pivot_type.to_csv(\"pivot_type.csv\")"
   ]
  },
  {
   "cell_type": "markdown",
   "id": "a93b7c58-0071-48ef-91f9-67ff30365d1a",
   "metadata": {},
   "source": [
    "## Adding values to original dataframe"
   ]
  },
  {
   "cell_type": "markdown",
   "id": "23242d57-0a1c-4116-a45d-e025148f2b09",
   "metadata": {},
   "source": [
    "### City"
   ]
  },
  {
   "cell_type": "code",
   "execution_count": 14,
   "id": "c6e56620-0940-4f24-95e8-a3a17a2c45d9",
   "metadata": {
    "tags": []
   },
   "outputs": [],
   "source": [
    "pivot_city = pivot_city.rename(columns={\"Media URL\": \"City_number\"})"
   ]
  },
  {
   "cell_type": "code",
   "execution_count": 15,
   "id": "1498db9c-96e5-4c1a-83fa-941f11a6dce2",
   "metadata": {},
   "outputs": [],
   "source": [
    "df = pd.merge(df, pivot_city, on=['City'])"
   ]
  },
  {
   "cell_type": "code",
   "execution_count": 16,
   "id": "ae5f9375-facd-4bbc-80ad-ce45db732f97",
   "metadata": {
    "tags": []
   },
   "outputs": [
    {
     "data": {
      "text/html": [
       "<div>\n",
       "<style scoped>\n",
       "    .dataframe tbody tr th:only-of-type {\n",
       "        vertical-align: middle;\n",
       "    }\n",
       "\n",
       "    .dataframe tbody tr th {\n",
       "        vertical-align: top;\n",
       "    }\n",
       "\n",
       "    .dataframe thead th {\n",
       "        text-align: right;\n",
       "    }\n",
       "</style>\n",
       "<table border=\"1\" class=\"dataframe\">\n",
       "  <thead>\n",
       "    <tr style=\"text-align: right;\">\n",
       "      <th></th>\n",
       "      <th>Media URL</th>\n",
       "      <th>wkt</th>\n",
       "      <th>City</th>\n",
       "      <th>Country</th>\n",
       "      <th>normalized_date</th>\n",
       "      <th>Title</th>\n",
       "      <th>Journal Type</th>\n",
       "      <th>City_number</th>\n",
       "    </tr>\n",
       "  </thead>\n",
       "  <tbody>\n",
       "    <tr>\n",
       "      <th>0</th>\n",
       "      <td>https://iiif.unige.ch/dhportal/ug8101433/manifest</td>\n",
       "      <td>POINT(-74.006015 40.712728)</td>\n",
       "      <td>New York City</td>\n",
       "      <td>United States of America</td>\n",
       "      <td>1936-11-23T00:00:00Z</td>\n",
       "      <td>LIFE</td>\n",
       "      <td>Illustrated Magazine</td>\n",
       "      <td>7571</td>\n",
       "    </tr>\n",
       "    <tr>\n",
       "      <th>1</th>\n",
       "      <td>https://iiif.unige.ch/dhportal/ug8026695/manifest</td>\n",
       "      <td>POINT(-74.006015 40.712728)</td>\n",
       "      <td>New York City</td>\n",
       "      <td>United States of America</td>\n",
       "      <td>1936-11-30T00:00:00Z</td>\n",
       "      <td>LIFE</td>\n",
       "      <td>Illustrated Magazine</td>\n",
       "      <td>7571</td>\n",
       "    </tr>\n",
       "    <tr>\n",
       "      <th>2</th>\n",
       "      <td>https://iiif.unige.ch/dhportal/ug8013847/manifest</td>\n",
       "      <td>POINT(-74.006015 40.712728)</td>\n",
       "      <td>New York City</td>\n",
       "      <td>United States of America</td>\n",
       "      <td>1936-12-07T00:00:00Z</td>\n",
       "      <td>LIFE</td>\n",
       "      <td>Illustrated Magazine</td>\n",
       "      <td>7571</td>\n",
       "    </tr>\n",
       "    <tr>\n",
       "      <th>3</th>\n",
       "      <td>https://iiif.unige.ch/dhportal/ug8010392/manifest</td>\n",
       "      <td>POINT(-74.006015 40.712728)</td>\n",
       "      <td>New York City</td>\n",
       "      <td>United States of America</td>\n",
       "      <td>1936-12-21T00:00:00Z</td>\n",
       "      <td>LIFE</td>\n",
       "      <td>Illustrated Magazine</td>\n",
       "      <td>7571</td>\n",
       "    </tr>\n",
       "    <tr>\n",
       "      <th>4</th>\n",
       "      <td>https://iiif.unige.ch/dhportal/ug8032218/manifest</td>\n",
       "      <td>POINT(-74.006015 40.712728)</td>\n",
       "      <td>New York City</td>\n",
       "      <td>United States of America</td>\n",
       "      <td>1936-12-28T00:00:00Z</td>\n",
       "      <td>LIFE</td>\n",
       "      <td>Illustrated Magazine</td>\n",
       "      <td>7571</td>\n",
       "    </tr>\n",
       "  </tbody>\n",
       "</table>\n",
       "</div>"
      ],
      "text/plain": [
       "                                           Media URL  \\\n",
       "0  https://iiif.unige.ch/dhportal/ug8101433/manifest   \n",
       "1  https://iiif.unige.ch/dhportal/ug8026695/manifest   \n",
       "2  https://iiif.unige.ch/dhportal/ug8013847/manifest   \n",
       "3  https://iiif.unige.ch/dhportal/ug8010392/manifest   \n",
       "4  https://iiif.unige.ch/dhportal/ug8032218/manifest   \n",
       "\n",
       "                           wkt           City                   Country  \\\n",
       "0  POINT(-74.006015 40.712728)  New York City  United States of America   \n",
       "1  POINT(-74.006015 40.712728)  New York City  United States of America   \n",
       "2  POINT(-74.006015 40.712728)  New York City  United States of America   \n",
       "3  POINT(-74.006015 40.712728)  New York City  United States of America   \n",
       "4  POINT(-74.006015 40.712728)  New York City  United States of America   \n",
       "\n",
       "        normalized_date Title          Journal Type  City_number  \n",
       "0  1936-11-23T00:00:00Z  LIFE  Illustrated Magazine         7571  \n",
       "1  1936-11-30T00:00:00Z  LIFE  Illustrated Magazine         7571  \n",
       "2  1936-12-07T00:00:00Z  LIFE  Illustrated Magazine         7571  \n",
       "3  1936-12-21T00:00:00Z  LIFE  Illustrated Magazine         7571  \n",
       "4  1936-12-28T00:00:00Z  LIFE  Illustrated Magazine         7571  "
      ]
     },
     "execution_count": 16,
     "metadata": {},
     "output_type": "execute_result"
    }
   ],
   "source": [
    "df.head()"
   ]
  },
  {
   "cell_type": "code",
   "execution_count": 17,
   "id": "c74c8047-9589-4dc3-8c42-db35499f9aba",
   "metadata": {
    "tags": []
   },
   "outputs": [],
   "source": [
    "df.to_csv(\"explored_city_quant.csv\")"
   ]
  },
  {
   "cell_type": "markdown",
   "id": "bb6d038f-f490-4cf2-821b-84b81d598db6",
   "metadata": {
    "tags": []
   },
   "source": [
    "### Journal"
   ]
  },
  {
   "cell_type": "code",
   "execution_count": 18,
   "id": "f44e794a-2a86-4101-bd85-571adf6d0e19",
   "metadata": {},
   "outputs": [],
   "source": [
    "pivot_title = pivot_title.rename(columns={\"Media URL\": \"Journal_number\"})"
   ]
  },
  {
   "cell_type": "code",
   "execution_count": 19,
   "id": "3751a0e2-3142-4051-a955-2c4642a4ef67",
   "metadata": {},
   "outputs": [],
   "source": [
    "df = pd.merge(df, pivot_title, on=['Title'])"
   ]
  },
  {
   "cell_type": "code",
   "execution_count": 20,
   "id": "e3e1d9a6-002a-4245-b4ad-c56d964145fc",
   "metadata": {},
   "outputs": [
    {
     "data": {
      "text/html": [
       "<div>\n",
       "<style scoped>\n",
       "    .dataframe tbody tr th:only-of-type {\n",
       "        vertical-align: middle;\n",
       "    }\n",
       "\n",
       "    .dataframe tbody tr th {\n",
       "        vertical-align: top;\n",
       "    }\n",
       "\n",
       "    .dataframe thead th {\n",
       "        text-align: right;\n",
       "    }\n",
       "</style>\n",
       "<table border=\"1\" class=\"dataframe\">\n",
       "  <thead>\n",
       "    <tr style=\"text-align: right;\">\n",
       "      <th></th>\n",
       "      <th>Media URL</th>\n",
       "      <th>wkt</th>\n",
       "      <th>City</th>\n",
       "      <th>Country</th>\n",
       "      <th>normalized_date</th>\n",
       "      <th>Title</th>\n",
       "      <th>Journal Type</th>\n",
       "      <th>City_number</th>\n",
       "      <th>Journal_number</th>\n",
       "    </tr>\n",
       "  </thead>\n",
       "  <tbody>\n",
       "    <tr>\n",
       "      <th>0</th>\n",
       "      <td>https://iiif.unige.ch/dhportal/ug8101433/manifest</td>\n",
       "      <td>POINT(-74.006015 40.712728)</td>\n",
       "      <td>New York City</td>\n",
       "      <td>United States of America</td>\n",
       "      <td>1936-11-23T00:00:00Z</td>\n",
       "      <td>LIFE</td>\n",
       "      <td>Illustrated Magazine</td>\n",
       "      <td>7571</td>\n",
       "      <td>1006</td>\n",
       "    </tr>\n",
       "    <tr>\n",
       "      <th>1</th>\n",
       "      <td>https://iiif.unige.ch/dhportal/ug8026695/manifest</td>\n",
       "      <td>POINT(-74.006015 40.712728)</td>\n",
       "      <td>New York City</td>\n",
       "      <td>United States of America</td>\n",
       "      <td>1936-11-30T00:00:00Z</td>\n",
       "      <td>LIFE</td>\n",
       "      <td>Illustrated Magazine</td>\n",
       "      <td>7571</td>\n",
       "      <td>1006</td>\n",
       "    </tr>\n",
       "    <tr>\n",
       "      <th>2</th>\n",
       "      <td>https://iiif.unige.ch/dhportal/ug8013847/manifest</td>\n",
       "      <td>POINT(-74.006015 40.712728)</td>\n",
       "      <td>New York City</td>\n",
       "      <td>United States of America</td>\n",
       "      <td>1936-12-07T00:00:00Z</td>\n",
       "      <td>LIFE</td>\n",
       "      <td>Illustrated Magazine</td>\n",
       "      <td>7571</td>\n",
       "      <td>1006</td>\n",
       "    </tr>\n",
       "    <tr>\n",
       "      <th>3</th>\n",
       "      <td>https://iiif.unige.ch/dhportal/ug8010392/manifest</td>\n",
       "      <td>POINT(-74.006015 40.712728)</td>\n",
       "      <td>New York City</td>\n",
       "      <td>United States of America</td>\n",
       "      <td>1936-12-21T00:00:00Z</td>\n",
       "      <td>LIFE</td>\n",
       "      <td>Illustrated Magazine</td>\n",
       "      <td>7571</td>\n",
       "      <td>1006</td>\n",
       "    </tr>\n",
       "    <tr>\n",
       "      <th>4</th>\n",
       "      <td>https://iiif.unige.ch/dhportal/ug8032218/manifest</td>\n",
       "      <td>POINT(-74.006015 40.712728)</td>\n",
       "      <td>New York City</td>\n",
       "      <td>United States of America</td>\n",
       "      <td>1936-12-28T00:00:00Z</td>\n",
       "      <td>LIFE</td>\n",
       "      <td>Illustrated Magazine</td>\n",
       "      <td>7571</td>\n",
       "      <td>1006</td>\n",
       "    </tr>\n",
       "  </tbody>\n",
       "</table>\n",
       "</div>"
      ],
      "text/plain": [
       "                                           Media URL  \\\n",
       "0  https://iiif.unige.ch/dhportal/ug8101433/manifest   \n",
       "1  https://iiif.unige.ch/dhportal/ug8026695/manifest   \n",
       "2  https://iiif.unige.ch/dhportal/ug8013847/manifest   \n",
       "3  https://iiif.unige.ch/dhportal/ug8010392/manifest   \n",
       "4  https://iiif.unige.ch/dhportal/ug8032218/manifest   \n",
       "\n",
       "                           wkt           City                   Country  \\\n",
       "0  POINT(-74.006015 40.712728)  New York City  United States of America   \n",
       "1  POINT(-74.006015 40.712728)  New York City  United States of America   \n",
       "2  POINT(-74.006015 40.712728)  New York City  United States of America   \n",
       "3  POINT(-74.006015 40.712728)  New York City  United States of America   \n",
       "4  POINT(-74.006015 40.712728)  New York City  United States of America   \n",
       "\n",
       "        normalized_date Title          Journal Type  City_number  \\\n",
       "0  1936-11-23T00:00:00Z  LIFE  Illustrated Magazine         7571   \n",
       "1  1936-11-30T00:00:00Z  LIFE  Illustrated Magazine         7571   \n",
       "2  1936-12-07T00:00:00Z  LIFE  Illustrated Magazine         7571   \n",
       "3  1936-12-21T00:00:00Z  LIFE  Illustrated Magazine         7571   \n",
       "4  1936-12-28T00:00:00Z  LIFE  Illustrated Magazine         7571   \n",
       "\n",
       "   Journal_number  \n",
       "0            1006  \n",
       "1            1006  \n",
       "2            1006  \n",
       "3            1006  \n",
       "4            1006  "
      ]
     },
     "execution_count": 20,
     "metadata": {},
     "output_type": "execute_result"
    }
   ],
   "source": [
    "df.head()"
   ]
  },
  {
   "cell_type": "code",
   "execution_count": 21,
   "id": "4ea946de-0f83-4a43-875e-feef448f7ffa",
   "metadata": {},
   "outputs": [],
   "source": [
    "df.to_csv(\"explored_city_journ_quant.csv\")"
   ]
  },
  {
   "cell_type": "markdown",
   "id": "72b680fe-ba5c-40b7-a418-8824a6f9a37d",
   "metadata": {
    "tags": []
   },
   "source": [
    "### Type"
   ]
  },
  {
   "cell_type": "code",
   "execution_count": 22,
   "id": "6c748e16-f5d3-40e8-b550-ecf7bfd3d145",
   "metadata": {},
   "outputs": [],
   "source": [
    "pivot_type = pivot_type.rename(columns={\"Media URL\": \"Type_number\"})"
   ]
  },
  {
   "cell_type": "code",
   "execution_count": 23,
   "id": "8af0dd75-56be-4d6e-b960-3033083c3ac2",
   "metadata": {},
   "outputs": [],
   "source": [
    "df = pd.merge(df, pivot_type, on=['Journal Type'])"
   ]
  },
  {
   "cell_type": "code",
   "execution_count": 24,
   "id": "ba324f6c-ea39-492c-b1de-60d2d25d7dc9",
   "metadata": {},
   "outputs": [
    {
     "data": {
      "text/html": [
       "<div>\n",
       "<style scoped>\n",
       "    .dataframe tbody tr th:only-of-type {\n",
       "        vertical-align: middle;\n",
       "    }\n",
       "\n",
       "    .dataframe tbody tr th {\n",
       "        vertical-align: top;\n",
       "    }\n",
       "\n",
       "    .dataframe thead th {\n",
       "        text-align: right;\n",
       "    }\n",
       "</style>\n",
       "<table border=\"1\" class=\"dataframe\">\n",
       "  <thead>\n",
       "    <tr style=\"text-align: right;\">\n",
       "      <th></th>\n",
       "      <th>Media URL</th>\n",
       "      <th>wkt</th>\n",
       "      <th>City</th>\n",
       "      <th>Country</th>\n",
       "      <th>normalized_date</th>\n",
       "      <th>Title</th>\n",
       "      <th>Journal Type</th>\n",
       "      <th>City_number</th>\n",
       "      <th>Journal_number</th>\n",
       "      <th>Type_number</th>\n",
       "    </tr>\n",
       "  </thead>\n",
       "  <tbody>\n",
       "    <tr>\n",
       "      <th>0</th>\n",
       "      <td>https://iiif.unige.ch/dhportal/ug8101433/manifest</td>\n",
       "      <td>POINT(-74.006015 40.712728)</td>\n",
       "      <td>New York City</td>\n",
       "      <td>United States of America</td>\n",
       "      <td>1936-11-23T00:00:00Z</td>\n",
       "      <td>LIFE</td>\n",
       "      <td>Illustrated Magazine</td>\n",
       "      <td>7571</td>\n",
       "      <td>1006</td>\n",
       "      <td>1812</td>\n",
       "    </tr>\n",
       "    <tr>\n",
       "      <th>1</th>\n",
       "      <td>https://iiif.unige.ch/dhportal/ug8026695/manifest</td>\n",
       "      <td>POINT(-74.006015 40.712728)</td>\n",
       "      <td>New York City</td>\n",
       "      <td>United States of America</td>\n",
       "      <td>1936-11-30T00:00:00Z</td>\n",
       "      <td>LIFE</td>\n",
       "      <td>Illustrated Magazine</td>\n",
       "      <td>7571</td>\n",
       "      <td>1006</td>\n",
       "      <td>1812</td>\n",
       "    </tr>\n",
       "    <tr>\n",
       "      <th>2</th>\n",
       "      <td>https://iiif.unige.ch/dhportal/ug8013847/manifest</td>\n",
       "      <td>POINT(-74.006015 40.712728)</td>\n",
       "      <td>New York City</td>\n",
       "      <td>United States of America</td>\n",
       "      <td>1936-12-07T00:00:00Z</td>\n",
       "      <td>LIFE</td>\n",
       "      <td>Illustrated Magazine</td>\n",
       "      <td>7571</td>\n",
       "      <td>1006</td>\n",
       "      <td>1812</td>\n",
       "    </tr>\n",
       "    <tr>\n",
       "      <th>3</th>\n",
       "      <td>https://iiif.unige.ch/dhportal/ug8010392/manifest</td>\n",
       "      <td>POINT(-74.006015 40.712728)</td>\n",
       "      <td>New York City</td>\n",
       "      <td>United States of America</td>\n",
       "      <td>1936-12-21T00:00:00Z</td>\n",
       "      <td>LIFE</td>\n",
       "      <td>Illustrated Magazine</td>\n",
       "      <td>7571</td>\n",
       "      <td>1006</td>\n",
       "      <td>1812</td>\n",
       "    </tr>\n",
       "    <tr>\n",
       "      <th>4</th>\n",
       "      <td>https://iiif.unige.ch/dhportal/ug8032218/manifest</td>\n",
       "      <td>POINT(-74.006015 40.712728)</td>\n",
       "      <td>New York City</td>\n",
       "      <td>United States of America</td>\n",
       "      <td>1936-12-28T00:00:00Z</td>\n",
       "      <td>LIFE</td>\n",
       "      <td>Illustrated Magazine</td>\n",
       "      <td>7571</td>\n",
       "      <td>1006</td>\n",
       "      <td>1812</td>\n",
       "    </tr>\n",
       "  </tbody>\n",
       "</table>\n",
       "</div>"
      ],
      "text/plain": [
       "                                           Media URL  \\\n",
       "0  https://iiif.unige.ch/dhportal/ug8101433/manifest   \n",
       "1  https://iiif.unige.ch/dhportal/ug8026695/manifest   \n",
       "2  https://iiif.unige.ch/dhportal/ug8013847/manifest   \n",
       "3  https://iiif.unige.ch/dhportal/ug8010392/manifest   \n",
       "4  https://iiif.unige.ch/dhportal/ug8032218/manifest   \n",
       "\n",
       "                           wkt           City                   Country  \\\n",
       "0  POINT(-74.006015 40.712728)  New York City  United States of America   \n",
       "1  POINT(-74.006015 40.712728)  New York City  United States of America   \n",
       "2  POINT(-74.006015 40.712728)  New York City  United States of America   \n",
       "3  POINT(-74.006015 40.712728)  New York City  United States of America   \n",
       "4  POINT(-74.006015 40.712728)  New York City  United States of America   \n",
       "\n",
       "        normalized_date Title          Journal Type  City_number  \\\n",
       "0  1936-11-23T00:00:00Z  LIFE  Illustrated Magazine         7571   \n",
       "1  1936-11-30T00:00:00Z  LIFE  Illustrated Magazine         7571   \n",
       "2  1936-12-07T00:00:00Z  LIFE  Illustrated Magazine         7571   \n",
       "3  1936-12-21T00:00:00Z  LIFE  Illustrated Magazine         7571   \n",
       "4  1936-12-28T00:00:00Z  LIFE  Illustrated Magazine         7571   \n",
       "\n",
       "   Journal_number  Type_number  \n",
       "0            1006         1812  \n",
       "1            1006         1812  \n",
       "2            1006         1812  \n",
       "3            1006         1812  \n",
       "4            1006         1812  "
      ]
     },
     "execution_count": 24,
     "metadata": {},
     "output_type": "execute_result"
    }
   ],
   "source": [
    "df.head()"
   ]
  },
  {
   "cell_type": "code",
   "execution_count": 26,
   "id": "dcd1538c-03e3-437a-9ab9-938c83bab829",
   "metadata": {},
   "outputs": [],
   "source": [
    "df.to_csv(\"explored_city_journ_type_quant.csv\")"
   ]
  },
  {
   "cell_type": "code",
   "execution_count": null,
   "id": "0831da72-fec9-4d7e-b267-27293fccf2b4",
   "metadata": {},
   "outputs": [],
   "source": []
  }
 ],
 "metadata": {
  "kernelspec": {
   "display_name": "Python 3 (ipykernel)",
   "language": "python",
   "name": "python3"
  },
  "language_info": {
   "codemirror_mode": {
    "name": "ipython",
    "version": 3
   },
   "file_extension": ".py",
   "mimetype": "text/x-python",
   "name": "python",
   "nbconvert_exporter": "python",
   "pygments_lexer": "ipython3",
   "version": "3.8.12"
  }
 },
 "nbformat": 4,
 "nbformat_minor": 5
}
