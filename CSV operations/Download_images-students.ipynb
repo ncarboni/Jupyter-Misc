{
 "cells": [
  {
   "cell_type": "code",
   "execution_count": 15,
   "id": "c1a1af5f-8895-49a7-9641-718b7fcc8b8a",
   "metadata": {},
   "outputs": [],
   "source": [
    "import requests\n",
    "import os\n",
    "import urllib.request"
   ]
  },
  {
   "cell_type": "markdown",
   "id": "06d17d8c-43ed-4d8d-8222-398ec44379fd",
   "metadata": {
    "tags": []
   },
   "source": [
    "# Downloading images from list"
   ]
  },
  {
   "cell_type": "markdown",
   "id": "5d51d7ec-27f4-44f0-a430-496a7e858cae",
   "metadata": {},
   "source": [
    "How to download images from a list of urls. \n",
    "We start with loading a table containing a list of images. The table contain a list of 1000 images from wikidata, and it contains also other type of information"
   ]
  },
  {
   "cell_type": "markdown",
   "id": "c9e0f17f-463e-4cef-8634-646d611e3b9b",
   "metadata": {},
   "source": [
    "# Load Csv with an image list"
   ]
  },
  {
   "cell_type": "markdown",
   "id": "814c9f40-e004-4386-ad1e-429ae4a19c5c",
   "metadata": {},
   "source": [
    "we use the library Pandas"
   ]
  },
  {
   "cell_type": "code",
   "execution_count": 16,
   "id": "1bc7f1be-eae4-491b-8783-c3f4efd77213",
   "metadata": {},
   "outputs": [
    {
     "ename": "FileNotFoundError",
     "evalue": "[Errno 2] No such file or directory: '/Users/carboni/Downloads/painting_post_1870.csv'",
     "output_type": "error",
     "traceback": [
      "\u001b[0;31m---------------------------------------------------------------------------\u001b[0m",
      "\u001b[0;31mFileNotFoundError\u001b[0m                         Traceback (most recent call last)",
      "Input \u001b[0;32mIn [16]\u001b[0m, in \u001b[0;36m<cell line: 2>\u001b[0;34m()\u001b[0m\n\u001b[1;32m      1\u001b[0m \u001b[38;5;28;01mimport\u001b[39;00m \u001b[38;5;21;01mpandas\u001b[39;00m \u001b[38;5;28;01mas\u001b[39;00m \u001b[38;5;21;01mpd\u001b[39;00m\n\u001b[0;32m----> 2\u001b[0m df \u001b[38;5;241m=\u001b[39m \u001b[43mpd\u001b[49m\u001b[38;5;241;43m.\u001b[39;49m\u001b[43mread_csv\u001b[49m\u001b[43m(\u001b[49m\u001b[38;5;124;43m\"\u001b[39;49m\u001b[38;5;124;43m/Users/carboni/Downloads/painting_post_1870.csv\u001b[39;49m\u001b[38;5;124;43m\"\u001b[39;49m\u001b[43m)\u001b[49m\n",
      "File \u001b[0;32m/opt/homebrew/Caskroom/miniforge/base/envs/jupyter/lib/python3.8/site-packages/pandas/util/_decorators.py:311\u001b[0m, in \u001b[0;36mdeprecate_nonkeyword_arguments.<locals>.decorate.<locals>.wrapper\u001b[0;34m(*args, **kwargs)\u001b[0m\n\u001b[1;32m    305\u001b[0m \u001b[38;5;28;01mif\u001b[39;00m \u001b[38;5;28mlen\u001b[39m(args) \u001b[38;5;241m>\u001b[39m num_allow_args:\n\u001b[1;32m    306\u001b[0m     warnings\u001b[38;5;241m.\u001b[39mwarn(\n\u001b[1;32m    307\u001b[0m         msg\u001b[38;5;241m.\u001b[39mformat(arguments\u001b[38;5;241m=\u001b[39marguments),\n\u001b[1;32m    308\u001b[0m         \u001b[38;5;167;01mFutureWarning\u001b[39;00m,\n\u001b[1;32m    309\u001b[0m         stacklevel\u001b[38;5;241m=\u001b[39mstacklevel,\n\u001b[1;32m    310\u001b[0m     )\n\u001b[0;32m--> 311\u001b[0m \u001b[38;5;28;01mreturn\u001b[39;00m \u001b[43mfunc\u001b[49m\u001b[43m(\u001b[49m\u001b[38;5;241;43m*\u001b[39;49m\u001b[43margs\u001b[49m\u001b[43m,\u001b[49m\u001b[43m \u001b[49m\u001b[38;5;241;43m*\u001b[39;49m\u001b[38;5;241;43m*\u001b[39;49m\u001b[43mkwargs\u001b[49m\u001b[43m)\u001b[49m\n",
      "File \u001b[0;32m/opt/homebrew/Caskroom/miniforge/base/envs/jupyter/lib/python3.8/site-packages/pandas/io/parsers/readers.py:680\u001b[0m, in \u001b[0;36mread_csv\u001b[0;34m(filepath_or_buffer, sep, delimiter, header, names, index_col, usecols, squeeze, prefix, mangle_dupe_cols, dtype, engine, converters, true_values, false_values, skipinitialspace, skiprows, skipfooter, nrows, na_values, keep_default_na, na_filter, verbose, skip_blank_lines, parse_dates, infer_datetime_format, keep_date_col, date_parser, dayfirst, cache_dates, iterator, chunksize, compression, thousands, decimal, lineterminator, quotechar, quoting, doublequote, escapechar, comment, encoding, encoding_errors, dialect, error_bad_lines, warn_bad_lines, on_bad_lines, delim_whitespace, low_memory, memory_map, float_precision, storage_options)\u001b[0m\n\u001b[1;32m    665\u001b[0m kwds_defaults \u001b[38;5;241m=\u001b[39m _refine_defaults_read(\n\u001b[1;32m    666\u001b[0m     dialect,\n\u001b[1;32m    667\u001b[0m     delimiter,\n\u001b[0;32m   (...)\u001b[0m\n\u001b[1;32m    676\u001b[0m     defaults\u001b[38;5;241m=\u001b[39m{\u001b[38;5;124m\"\u001b[39m\u001b[38;5;124mdelimiter\u001b[39m\u001b[38;5;124m\"\u001b[39m: \u001b[38;5;124m\"\u001b[39m\u001b[38;5;124m,\u001b[39m\u001b[38;5;124m\"\u001b[39m},\n\u001b[1;32m    677\u001b[0m )\n\u001b[1;32m    678\u001b[0m kwds\u001b[38;5;241m.\u001b[39mupdate(kwds_defaults)\n\u001b[0;32m--> 680\u001b[0m \u001b[38;5;28;01mreturn\u001b[39;00m \u001b[43m_read\u001b[49m\u001b[43m(\u001b[49m\u001b[43mfilepath_or_buffer\u001b[49m\u001b[43m,\u001b[49m\u001b[43m \u001b[49m\u001b[43mkwds\u001b[49m\u001b[43m)\u001b[49m\n",
      "File \u001b[0;32m/opt/homebrew/Caskroom/miniforge/base/envs/jupyter/lib/python3.8/site-packages/pandas/io/parsers/readers.py:575\u001b[0m, in \u001b[0;36m_read\u001b[0;34m(filepath_or_buffer, kwds)\u001b[0m\n\u001b[1;32m    572\u001b[0m _validate_names(kwds\u001b[38;5;241m.\u001b[39mget(\u001b[38;5;124m\"\u001b[39m\u001b[38;5;124mnames\u001b[39m\u001b[38;5;124m\"\u001b[39m, \u001b[38;5;28;01mNone\u001b[39;00m))\n\u001b[1;32m    574\u001b[0m \u001b[38;5;66;03m# Create the parser.\u001b[39;00m\n\u001b[0;32m--> 575\u001b[0m parser \u001b[38;5;241m=\u001b[39m \u001b[43mTextFileReader\u001b[49m\u001b[43m(\u001b[49m\u001b[43mfilepath_or_buffer\u001b[49m\u001b[43m,\u001b[49m\u001b[43m \u001b[49m\u001b[38;5;241;43m*\u001b[39;49m\u001b[38;5;241;43m*\u001b[39;49m\u001b[43mkwds\u001b[49m\u001b[43m)\u001b[49m\n\u001b[1;32m    577\u001b[0m \u001b[38;5;28;01mif\u001b[39;00m chunksize \u001b[38;5;129;01mor\u001b[39;00m iterator:\n\u001b[1;32m    578\u001b[0m     \u001b[38;5;28;01mreturn\u001b[39;00m parser\n",
      "File \u001b[0;32m/opt/homebrew/Caskroom/miniforge/base/envs/jupyter/lib/python3.8/site-packages/pandas/io/parsers/readers.py:933\u001b[0m, in \u001b[0;36mTextFileReader.__init__\u001b[0;34m(self, f, engine, **kwds)\u001b[0m\n\u001b[1;32m    930\u001b[0m     \u001b[38;5;28mself\u001b[39m\u001b[38;5;241m.\u001b[39moptions[\u001b[38;5;124m\"\u001b[39m\u001b[38;5;124mhas_index_names\u001b[39m\u001b[38;5;124m\"\u001b[39m] \u001b[38;5;241m=\u001b[39m kwds[\u001b[38;5;124m\"\u001b[39m\u001b[38;5;124mhas_index_names\u001b[39m\u001b[38;5;124m\"\u001b[39m]\n\u001b[1;32m    932\u001b[0m \u001b[38;5;28mself\u001b[39m\u001b[38;5;241m.\u001b[39mhandles: IOHandles \u001b[38;5;241m|\u001b[39m \u001b[38;5;28;01mNone\u001b[39;00m \u001b[38;5;241m=\u001b[39m \u001b[38;5;28;01mNone\u001b[39;00m\n\u001b[0;32m--> 933\u001b[0m \u001b[38;5;28mself\u001b[39m\u001b[38;5;241m.\u001b[39m_engine \u001b[38;5;241m=\u001b[39m \u001b[38;5;28;43mself\u001b[39;49m\u001b[38;5;241;43m.\u001b[39;49m\u001b[43m_make_engine\u001b[49m\u001b[43m(\u001b[49m\u001b[43mf\u001b[49m\u001b[43m,\u001b[49m\u001b[43m \u001b[49m\u001b[38;5;28;43mself\u001b[39;49m\u001b[38;5;241;43m.\u001b[39;49m\u001b[43mengine\u001b[49m\u001b[43m)\u001b[49m\n",
      "File \u001b[0;32m/opt/homebrew/Caskroom/miniforge/base/envs/jupyter/lib/python3.8/site-packages/pandas/io/parsers/readers.py:1217\u001b[0m, in \u001b[0;36mTextFileReader._make_engine\u001b[0;34m(self, f, engine)\u001b[0m\n\u001b[1;32m   1213\u001b[0m     mode \u001b[38;5;241m=\u001b[39m \u001b[38;5;124m\"\u001b[39m\u001b[38;5;124mrb\u001b[39m\u001b[38;5;124m\"\u001b[39m\n\u001b[1;32m   1214\u001b[0m \u001b[38;5;66;03m# error: No overload variant of \"get_handle\" matches argument types\u001b[39;00m\n\u001b[1;32m   1215\u001b[0m \u001b[38;5;66;03m# \"Union[str, PathLike[str], ReadCsvBuffer[bytes], ReadCsvBuffer[str]]\"\u001b[39;00m\n\u001b[1;32m   1216\u001b[0m \u001b[38;5;66;03m# , \"str\", \"bool\", \"Any\", \"Any\", \"Any\", \"Any\", \"Any\"\u001b[39;00m\n\u001b[0;32m-> 1217\u001b[0m \u001b[38;5;28mself\u001b[39m\u001b[38;5;241m.\u001b[39mhandles \u001b[38;5;241m=\u001b[39m \u001b[43mget_handle\u001b[49m\u001b[43m(\u001b[49m\u001b[43m  \u001b[49m\u001b[38;5;66;43;03m# type: ignore[call-overload]\u001b[39;49;00m\n\u001b[1;32m   1218\u001b[0m \u001b[43m    \u001b[49m\u001b[43mf\u001b[49m\u001b[43m,\u001b[49m\n\u001b[1;32m   1219\u001b[0m \u001b[43m    \u001b[49m\u001b[43mmode\u001b[49m\u001b[43m,\u001b[49m\n\u001b[1;32m   1220\u001b[0m \u001b[43m    \u001b[49m\u001b[43mencoding\u001b[49m\u001b[38;5;241;43m=\u001b[39;49m\u001b[38;5;28;43mself\u001b[39;49m\u001b[38;5;241;43m.\u001b[39;49m\u001b[43moptions\u001b[49m\u001b[38;5;241;43m.\u001b[39;49m\u001b[43mget\u001b[49m\u001b[43m(\u001b[49m\u001b[38;5;124;43m\"\u001b[39;49m\u001b[38;5;124;43mencoding\u001b[39;49m\u001b[38;5;124;43m\"\u001b[39;49m\u001b[43m,\u001b[49m\u001b[43m \u001b[49m\u001b[38;5;28;43;01mNone\u001b[39;49;00m\u001b[43m)\u001b[49m\u001b[43m,\u001b[49m\n\u001b[1;32m   1221\u001b[0m \u001b[43m    \u001b[49m\u001b[43mcompression\u001b[49m\u001b[38;5;241;43m=\u001b[39;49m\u001b[38;5;28;43mself\u001b[39;49m\u001b[38;5;241;43m.\u001b[39;49m\u001b[43moptions\u001b[49m\u001b[38;5;241;43m.\u001b[39;49m\u001b[43mget\u001b[49m\u001b[43m(\u001b[49m\u001b[38;5;124;43m\"\u001b[39;49m\u001b[38;5;124;43mcompression\u001b[39;49m\u001b[38;5;124;43m\"\u001b[39;49m\u001b[43m,\u001b[49m\u001b[43m \u001b[49m\u001b[38;5;28;43;01mNone\u001b[39;49;00m\u001b[43m)\u001b[49m\u001b[43m,\u001b[49m\n\u001b[1;32m   1222\u001b[0m \u001b[43m    \u001b[49m\u001b[43mmemory_map\u001b[49m\u001b[38;5;241;43m=\u001b[39;49m\u001b[38;5;28;43mself\u001b[39;49m\u001b[38;5;241;43m.\u001b[39;49m\u001b[43moptions\u001b[49m\u001b[38;5;241;43m.\u001b[39;49m\u001b[43mget\u001b[49m\u001b[43m(\u001b[49m\u001b[38;5;124;43m\"\u001b[39;49m\u001b[38;5;124;43mmemory_map\u001b[39;49m\u001b[38;5;124;43m\"\u001b[39;49m\u001b[43m,\u001b[49m\u001b[43m \u001b[49m\u001b[38;5;28;43;01mFalse\u001b[39;49;00m\u001b[43m)\u001b[49m\u001b[43m,\u001b[49m\n\u001b[1;32m   1223\u001b[0m \u001b[43m    \u001b[49m\u001b[43mis_text\u001b[49m\u001b[38;5;241;43m=\u001b[39;49m\u001b[43mis_text\u001b[49m\u001b[43m,\u001b[49m\n\u001b[1;32m   1224\u001b[0m \u001b[43m    \u001b[49m\u001b[43merrors\u001b[49m\u001b[38;5;241;43m=\u001b[39;49m\u001b[38;5;28;43mself\u001b[39;49m\u001b[38;5;241;43m.\u001b[39;49m\u001b[43moptions\u001b[49m\u001b[38;5;241;43m.\u001b[39;49m\u001b[43mget\u001b[49m\u001b[43m(\u001b[49m\u001b[38;5;124;43m\"\u001b[39;49m\u001b[38;5;124;43mencoding_errors\u001b[39;49m\u001b[38;5;124;43m\"\u001b[39;49m\u001b[43m,\u001b[49m\u001b[43m \u001b[49m\u001b[38;5;124;43m\"\u001b[39;49m\u001b[38;5;124;43mstrict\u001b[39;49m\u001b[38;5;124;43m\"\u001b[39;49m\u001b[43m)\u001b[49m\u001b[43m,\u001b[49m\n\u001b[1;32m   1225\u001b[0m \u001b[43m    \u001b[49m\u001b[43mstorage_options\u001b[49m\u001b[38;5;241;43m=\u001b[39;49m\u001b[38;5;28;43mself\u001b[39;49m\u001b[38;5;241;43m.\u001b[39;49m\u001b[43moptions\u001b[49m\u001b[38;5;241;43m.\u001b[39;49m\u001b[43mget\u001b[49m\u001b[43m(\u001b[49m\u001b[38;5;124;43m\"\u001b[39;49m\u001b[38;5;124;43mstorage_options\u001b[39;49m\u001b[38;5;124;43m\"\u001b[39;49m\u001b[43m,\u001b[49m\u001b[43m \u001b[49m\u001b[38;5;28;43;01mNone\u001b[39;49;00m\u001b[43m)\u001b[49m\u001b[43m,\u001b[49m\n\u001b[1;32m   1226\u001b[0m \u001b[43m\u001b[49m\u001b[43m)\u001b[49m\n\u001b[1;32m   1227\u001b[0m \u001b[38;5;28;01massert\u001b[39;00m \u001b[38;5;28mself\u001b[39m\u001b[38;5;241m.\u001b[39mhandles \u001b[38;5;129;01mis\u001b[39;00m \u001b[38;5;129;01mnot\u001b[39;00m \u001b[38;5;28;01mNone\u001b[39;00m\n\u001b[1;32m   1228\u001b[0m f \u001b[38;5;241m=\u001b[39m \u001b[38;5;28mself\u001b[39m\u001b[38;5;241m.\u001b[39mhandles\u001b[38;5;241m.\u001b[39mhandle\n",
      "File \u001b[0;32m/opt/homebrew/Caskroom/miniforge/base/envs/jupyter/lib/python3.8/site-packages/pandas/io/common.py:789\u001b[0m, in \u001b[0;36mget_handle\u001b[0;34m(path_or_buf, mode, encoding, compression, memory_map, is_text, errors, storage_options)\u001b[0m\n\u001b[1;32m    784\u001b[0m \u001b[38;5;28;01melif\u001b[39;00m \u001b[38;5;28misinstance\u001b[39m(handle, \u001b[38;5;28mstr\u001b[39m):\n\u001b[1;32m    785\u001b[0m     \u001b[38;5;66;03m# Check whether the filename is to be opened in binary mode.\u001b[39;00m\n\u001b[1;32m    786\u001b[0m     \u001b[38;5;66;03m# Binary mode does not support 'encoding' and 'newline'.\u001b[39;00m\n\u001b[1;32m    787\u001b[0m     \u001b[38;5;28;01mif\u001b[39;00m ioargs\u001b[38;5;241m.\u001b[39mencoding \u001b[38;5;129;01mand\u001b[39;00m \u001b[38;5;124m\"\u001b[39m\u001b[38;5;124mb\u001b[39m\u001b[38;5;124m\"\u001b[39m \u001b[38;5;129;01mnot\u001b[39;00m \u001b[38;5;129;01min\u001b[39;00m ioargs\u001b[38;5;241m.\u001b[39mmode:\n\u001b[1;32m    788\u001b[0m         \u001b[38;5;66;03m# Encoding\u001b[39;00m\n\u001b[0;32m--> 789\u001b[0m         handle \u001b[38;5;241m=\u001b[39m \u001b[38;5;28;43mopen\u001b[39;49m\u001b[43m(\u001b[49m\n\u001b[1;32m    790\u001b[0m \u001b[43m            \u001b[49m\u001b[43mhandle\u001b[49m\u001b[43m,\u001b[49m\n\u001b[1;32m    791\u001b[0m \u001b[43m            \u001b[49m\u001b[43mioargs\u001b[49m\u001b[38;5;241;43m.\u001b[39;49m\u001b[43mmode\u001b[49m\u001b[43m,\u001b[49m\n\u001b[1;32m    792\u001b[0m \u001b[43m            \u001b[49m\u001b[43mencoding\u001b[49m\u001b[38;5;241;43m=\u001b[39;49m\u001b[43mioargs\u001b[49m\u001b[38;5;241;43m.\u001b[39;49m\u001b[43mencoding\u001b[49m\u001b[43m,\u001b[49m\n\u001b[1;32m    793\u001b[0m \u001b[43m            \u001b[49m\u001b[43merrors\u001b[49m\u001b[38;5;241;43m=\u001b[39;49m\u001b[43merrors\u001b[49m\u001b[43m,\u001b[49m\n\u001b[1;32m    794\u001b[0m \u001b[43m            \u001b[49m\u001b[43mnewline\u001b[49m\u001b[38;5;241;43m=\u001b[39;49m\u001b[38;5;124;43m\"\u001b[39;49m\u001b[38;5;124;43m\"\u001b[39;49m\u001b[43m,\u001b[49m\n\u001b[1;32m    795\u001b[0m \u001b[43m        \u001b[49m\u001b[43m)\u001b[49m\n\u001b[1;32m    796\u001b[0m     \u001b[38;5;28;01melse\u001b[39;00m:\n\u001b[1;32m    797\u001b[0m         \u001b[38;5;66;03m# Binary mode\u001b[39;00m\n\u001b[1;32m    798\u001b[0m         handle \u001b[38;5;241m=\u001b[39m \u001b[38;5;28mopen\u001b[39m(handle, ioargs\u001b[38;5;241m.\u001b[39mmode)\n",
      "\u001b[0;31mFileNotFoundError\u001b[0m: [Errno 2] No such file or directory: '/Users/carboni/Downloads/painting_post_1870.csv'"
     ]
    }
   ],
   "source": [
    "import pandas as pd\n",
    "df = pd.read_csv(\"/Users/carboni/Downloads/painting_post_1870.csv\")"
   ]
  },
  {
   "cell_type": "markdown",
   "id": "5be4a305-8cf6-4502-b64d-79a4ba134d6e",
   "metadata": {},
   "source": [
    "Let's take a look at the table"
   ]
  },
  {
   "cell_type": "code",
   "execution_count": 9,
   "id": "96063c15-f4b1-4dc9-a0ab-951e49b1d53b",
   "metadata": {},
   "outputs": [
    {
     "data": {
      "text/html": [
       "<div>\n",
       "<style scoped>\n",
       "    .dataframe tbody tr th:only-of-type {\n",
       "        vertical-align: middle;\n",
       "    }\n",
       "\n",
       "    .dataframe tbody tr th {\n",
       "        vertical-align: top;\n",
       "    }\n",
       "\n",
       "    .dataframe thead th {\n",
       "        text-align: right;\n",
       "    }\n",
       "</style>\n",
       "<table border=\"1\" class=\"dataframe\">\n",
       "  <thead>\n",
       "    <tr style=\"text-align: right;\">\n",
       "      <th></th>\n",
       "      <th>item</th>\n",
       "      <th>index</th>\n",
       "      <th>itemLabel</th>\n",
       "      <th>image</th>\n",
       "      <th>uuid_image</th>\n",
       "      <th>inception</th>\n",
       "      <th>movementLabel</th>\n",
       "      <th>creator</th>\n",
       "      <th>creatorLabel</th>\n",
       "      <th>genreLabel</th>\n",
       "    </tr>\n",
       "  </thead>\n",
       "  <tbody>\n",
       "    <tr>\n",
       "      <th>0</th>\n",
       "      <td>http://www.wikidata.org/entity/Q102076311</td>\n",
       "      <td>0</td>\n",
       "      <td>Q102076311</td>\n",
       "      <td>http://commons.wikimedia.org/wiki/Special:File...</td>\n",
       "      <td>7063426f-2707-34b3-8ba4-e88e91cbbd9a</td>\n",
       "      <td>1916-01-01T00:00:00Z</td>\n",
       "      <td>NaN</td>\n",
       "      <td>http://www.wikidata.org/entity/Q64569509</td>\n",
       "      <td>Carlos Bonvalot</td>\n",
       "      <td>NaN</td>\n",
       "    </tr>\n",
       "    <tr>\n",
       "      <th>1</th>\n",
       "      <td>http://www.wikidata.org/entity/Q66041178</td>\n",
       "      <td>1</td>\n",
       "      <td>Q66041178</td>\n",
       "      <td>http://commons.wikimedia.org/wiki/Special:File...</td>\n",
       "      <td>ba1e4113-3e30-3e89-91e9-1ee80341b45c</td>\n",
       "      <td>1892-01-01T00:00:00Z</td>\n",
       "      <td>NaN</td>\n",
       "      <td>NaN</td>\n",
       "      <td>NaN</td>\n",
       "      <td>NaN</td>\n",
       "    </tr>\n",
       "    <tr>\n",
       "      <th>2</th>\n",
       "      <td>http://www.wikidata.org/entity/Q111904946</td>\n",
       "      <td>2</td>\n",
       "      <td>Q111904946</td>\n",
       "      <td>http://commons.wikimedia.org/wiki/Special:File...</td>\n",
       "      <td>cbaf1c7f-7b92-3a3b-9ff2-2a52e0719f7e</td>\n",
       "      <td>1995-03-06T00:00:00Z</td>\n",
       "      <td>NaN</td>\n",
       "      <td>http://www.wikidata.org/entity/Q62088625</td>\n",
       "      <td>Boris Rapoport</td>\n",
       "      <td>NaN</td>\n",
       "    </tr>\n",
       "    <tr>\n",
       "      <th>3</th>\n",
       "      <td>http://www.wikidata.org/entity/Q63387258</td>\n",
       "      <td>3</td>\n",
       "      <td>Q63387258</td>\n",
       "      <td>http://commons.wikimedia.org/wiki/Special:File...</td>\n",
       "      <td>8810bedd-d837-3cee-a65c-1d3db8fdd4c5</td>\n",
       "      <td>1940-01-01T00:00:00Z</td>\n",
       "      <td>NaN</td>\n",
       "      <td>http://www.wikidata.org/entity/Q1678735</td>\n",
       "      <td>Jaime Martins Barata</td>\n",
       "      <td>NaN</td>\n",
       "    </tr>\n",
       "    <tr>\n",
       "      <th>4</th>\n",
       "      <td>http://www.wikidata.org/entity/Q63387258</td>\n",
       "      <td>4</td>\n",
       "      <td>Q63387258</td>\n",
       "      <td>http://commons.wikimedia.org/wiki/Special:File...</td>\n",
       "      <td>152ab189-1435-33b8-bad0-959fbaa65470</td>\n",
       "      <td>1940-01-01T00:00:00Z</td>\n",
       "      <td>NaN</td>\n",
       "      <td>http://www.wikidata.org/entity/Q1678735</td>\n",
       "      <td>Jaime Martins Barata</td>\n",
       "      <td>NaN</td>\n",
       "    </tr>\n",
       "  </tbody>\n",
       "</table>\n",
       "</div>"
      ],
      "text/plain": [
       "                                        item  index   itemLabel  \\\n",
       "0  http://www.wikidata.org/entity/Q102076311      0  Q102076311   \n",
       "1   http://www.wikidata.org/entity/Q66041178      1   Q66041178   \n",
       "2  http://www.wikidata.org/entity/Q111904946      2  Q111904946   \n",
       "3   http://www.wikidata.org/entity/Q63387258      3   Q63387258   \n",
       "4   http://www.wikidata.org/entity/Q63387258      4   Q63387258   \n",
       "\n",
       "                                               image  \\\n",
       "0  http://commons.wikimedia.org/wiki/Special:File...   \n",
       "1  http://commons.wikimedia.org/wiki/Special:File...   \n",
       "2  http://commons.wikimedia.org/wiki/Special:File...   \n",
       "3  http://commons.wikimedia.org/wiki/Special:File...   \n",
       "4  http://commons.wikimedia.org/wiki/Special:File...   \n",
       "\n",
       "                             uuid_image             inception movementLabel  \\\n",
       "0  7063426f-2707-34b3-8ba4-e88e91cbbd9a  1916-01-01T00:00:00Z           NaN   \n",
       "1  ba1e4113-3e30-3e89-91e9-1ee80341b45c  1892-01-01T00:00:00Z           NaN   \n",
       "2  cbaf1c7f-7b92-3a3b-9ff2-2a52e0719f7e  1995-03-06T00:00:00Z           NaN   \n",
       "3  8810bedd-d837-3cee-a65c-1d3db8fdd4c5  1940-01-01T00:00:00Z           NaN   \n",
       "4  152ab189-1435-33b8-bad0-959fbaa65470  1940-01-01T00:00:00Z           NaN   \n",
       "\n",
       "                                    creator          creatorLabel genreLabel  \n",
       "0  http://www.wikidata.org/entity/Q64569509       Carlos Bonvalot        NaN  \n",
       "1                                       NaN                   NaN        NaN  \n",
       "2  http://www.wikidata.org/entity/Q62088625        Boris Rapoport        NaN  \n",
       "3   http://www.wikidata.org/entity/Q1678735  Jaime Martins Barata        NaN  \n",
       "4   http://www.wikidata.org/entity/Q1678735  Jaime Martins Barata        NaN  "
      ]
     },
     "execution_count": 9,
     "metadata": {},
     "output_type": "execute_result"
    }
   ],
   "source": [
    "df.head()"
   ]
  },
  {
   "cell_type": "code",
   "execution_count": 10,
   "id": "25b7fe6c-3abf-49d2-9fdf-ab79eba0716b",
   "metadata": {},
   "outputs": [
    {
     "data": {
      "text/plain": [
       "['item',\n",
       " 'index',\n",
       " 'itemLabel',\n",
       " 'image',\n",
       " 'uuid_image',\n",
       " 'inception',\n",
       " 'movementLabel',\n",
       " 'creator',\n",
       " 'creatorLabel',\n",
       " 'genreLabel']"
      ]
     },
     "execution_count": 10,
     "metadata": {},
     "output_type": "execute_result"
    }
   ],
   "source": [
    "df.columns.tolist()"
   ]
  },
  {
   "cell_type": "code",
   "execution_count": 11,
   "id": "89ed5213-e1df-48b9-8a11-57f636630f95",
   "metadata": {},
   "outputs": [
    {
     "data": {
      "text/plain": [
       "array(['Carlos Bonvalot', nan, 'Boris Rapoport', 'Jaime Martins Barata',\n",
       "       'William Huggins', 'Lukian Popov', 'Arshile Gorky', 'Hans Kohnert',\n",
       "       'John Whitehead Walton', 'Muslim Mulliqi',\n",
       "       'António Carvalho de Silva Porto', 'Fitz Henry Lane',\n",
       "       'Domingos Rebelo', 'Théophile Deyrolle',\n",
       "       'Saturnino Herrán Guinchard', 'Giuseppe Frascaroli',\n",
       "       'Amadeo de Souza Cardoso', 'Edward Mason Eggleston',\n",
       "       'Fulvio Tessitore', 'Anders Zorn', 'Robert Koehler',\n",
       "       'Alfredo Valenzuela Puelma', 'Pedro Lira Rencoret',\n",
       "       'Herndon Davis', 'Egron Lundgren', 'Norman Rockwell',\n",
       "       'Alphonse-Marie-Adolphe de Neuville', 'Micah Williams',\n",
       "       'Eduard Boehm', 'Jacob Kornerup', 'Édouard-Antoine Marsal',\n",
       "       'Julius von Klever, Jr.', 'Alfred Sisley', 'Vincent van Gogh',\n",
       "       'Raimundo de Madrazo y Garreta', 'Frédéric Bazille',\n",
       "       'Édouard Manet', 'Théodore Ralli', 'William-Adolphe Bouguereau',\n",
       "       'Julien-Michel Gué', 'Akseli Gallen-Kallela',\n",
       "       'Marie Magdeleine Real del Sarte', 'Richard Moynan',\n",
       "       'Eugène Delacroix', 'Benjamin Prins', 'Paul Cézanne',\n",
       "       'Alfredo Müller', 'Adriano de Sousa Lopes', 'Candido Portinari',\n",
       "       'Osvaldo Louis Guglielmi', 'Alberto Valenzuela Llanos',\n",
       "       'Juan de Echevarría', 'Nikolaos Gyzis', 'Charles Louis Müller',\n",
       "       'Czeslaw Znamierowski', 'Konstantinos Volanakis',\n",
       "       'Edward Armitage', 'Tjaarke Maas', 'Eranuhi Aslamazyan',\n",
       "       'Hugh Bolton Jones', 'Ivan Ayvazovsky', 'William Kay Blacklock',\n",
       "       'Stanisław Chlebowski', 'Mariam Aslamazian', 'Israel Tsvaygenbaum',\n",
       "       'Wassily Kandinsky', 'Theodoros Vryzakis', 'Erik Pevernagie',\n",
       "       'James Madison Alden', 'Edward Okuń', 'Gustave Courbet',\n",
       "       'http://www.wikidata.org/.well-known/genid/ecd721028aba0c6aa6aaa5a323dbe698',\n",
       "       'Paul Klee', 'John McCracken', 'Pierre Bonnard',\n",
       "       'Stanislas Lépine', 'Henri Harpignies', 'Thomas Shields Clarke',\n",
       "       'Charles William Bartlett', 'Grace Hudson', 'Pavel Svedomsky',\n",
       "       'Charles-François Daubigny', 'Frederic Remington',\n",
       "       'August Hagborg', 'Clemente Pujol de Gustavino',\n",
       "       'Georges Croegaert', 'Frank Duveneck', 'Jean-Baptiste Mallet',\n",
       "       'Edward Lear', 'Frederick Stuart Church', 'John Fraser',\n",
       "       'Edgar Degas', 'Edward Mitchell Bannister', 'Robert Lewis Reid',\n",
       "       'Jean-Baptiste Camille Corot', 'D. Howard Hitchcock',\n",
       "       'Lionel Walden', 'Audley Dean Nicols', 'John William Casilear',\n",
       "       'Thomas Birch', 'J. Alden Weir', 'Edvard Munch', 'Paul Signac',\n",
       "       'George Inness', 'Elizabeth Boott', 'Pierre-Auguste Renoir',\n",
       "       'Kenyon Cox', 'Adolf Schreyer', 'Jean-Léon Gérôme',\n",
       "       'Louis Comfort Tiffany', \"Lyubov' Popova\", 'Ivan Shishkin',\n",
       "       'Childe Hassam', 'Édouard Vuillard', 'Claude Monet',\n",
       "       'Pierre-Narcisse Guérin', 'Jasper Francis Cropsey',\n",
       "       'E. Irving Couse', 'Camille Pissarro', 'Albert Pinkham Ryder',\n",
       "       'Charles Caryl Coleman', 'Maurice Denis', 'Levi Wells Prentice',\n",
       "       'John F. Francis', 'Gustave Caillebotte', 'Johan Christian Dahl',\n",
       "       'Worthington Whittredge', 'Eugène Louis Boudin', 'Maximilien Luce',\n",
       "       'Albert Neuhuys', 'Charles Reiffel', 'Piet Mondrian', 'Franz Marc',\n",
       "       'Samuel G. Richards', 'Lillie Gay Torrey', 'Evelyn Blacklock',\n",
       "       'Jean Béraud', 'Jefferson David Chalfant', 'Paul Gauguin',\n",
       "       'William James Glackens', 'Elizabeth Nourse', 'Harriet Backer',\n",
       "       'George Chambers', 'Émile Bernard', 'Robert Jenkins Onderdonk',\n",
       "       'Seth Eastman', 'Shibata Zeshin', 'Edward Edmondson, Jr.',\n",
       "       'John Frederick Kensett', 'Frederic Leighton',\n",
       "       'Carolus Ludovicus Weyts', 'Félix Vallotton',\n",
       "       'Richard Law Hinsdale', 'Henry Mosler', 'Charles Soule, Jr.',\n",
       "       'James E. Buttersworth', 'George Kennedy Brandriff',\n",
       "       'Maxime Maufra', 'George Candee', 'John Burnet',\n",
       "       'Albert Bierstadt', 'Peder Severin Krøyer', 'George Luks',\n",
       "       'Qian Du', 'William Lionel Wyllie', 'Gerald Cassidy',\n",
       "       'Benjamin West', 'Thomas Buttersworth', 'Penry Williams',\n",
       "       'Jules Breton', 'George Ault', 'Joseph Moerenhout',\n",
       "       'Rowena Meeks Abdy', 'John Constable', 'Fred Wagner',\n",
       "       'Alexander Helwig Wyant', 'Julius Rolshoven', 'Gaston La Touche',\n",
       "       'John Martin', 'William Henry Powell',\n",
       "       'William Louis Sonntag, Sr.', 'Winifred Knights', 'August Kopisch',\n",
       "       'George Desvallières', 'Maurice Braun', 'Robert Delaunay',\n",
       "       'Henry Ossawa Tanner', 'James Wilson Carmichael',\n",
       "       'Maurice Prendergast', 'Egbert Schaap',\n",
       "       'http://www.wikidata.org/.well-known/genid/e3ec8e27cc7d42bcec79692a0d9c82ab',\n",
       "       'Charles Marion Russell', 'Max Liebermann', 'Joseph Henry Sharp',\n",
       "       'Theodore Earl Butler', 'Caroline A. Lord', 'Anders Askevold',\n",
       "       'Marsden Hartley', 'John Lewis Krimmel', 'Thomas Sully',\n",
       "       'De Scott Evans', 'Adelsteen Normann', 'William Allan',\n",
       "       'William Matthew Prior', 'Rembrandt Peale', 'Zedekiah Belknap',\n",
       "       'William McGregor Paxton', 'Joseph DeCamp', 'Erik Werenskiold',\n",
       "       'Thomas Moran', 'Christina Robertson', 'Charles Furneaux',\n",
       "       'Mary Forrer Peirce', 'Robert Frederick Blum',\n",
       "       'Ogura Yonesuke Itoh', 'Daniel Garber', 'Laura C. Birge',\n",
       "       'Jean-Jacques Henner', 'Gustave Moreau', 'Hans Lasser',\n",
       "       'August Allebé', 'William Dunlap', 'George Charles Aid',\n",
       "       'Thomas Doughty', 'Thomas Fearnley', 'Henry Farny',\n",
       "       'Berthe Morisot', 'Charles Dixon', 'Adolph Artz',\n",
       "       'George Cochran Lambdin', 'Anna Elizabeth Klumpke',\n",
       "       'Jules Tavernier', 'Henry Raschen', 'Guy Rose',\n",
       "       'Cornelius Krieghoff', 'John Mix Stanley', 'Vilhelm Hammershøi',\n",
       "       'Otto Henry Bacher', 'Conradijn Cunaeus', 'Henry Cheever Pratt',\n",
       "       'Ammi Phillips', 'Grant Wood', 'Juan Gris',\n",
       "       'Ernest William Christmas', 'Peter F. Rothermel',\n",
       "       'Christian Schussele', 'Jacob Maris', 'John Singer Sargent',\n",
       "       'Enrique Simonet', 'Théodore Rousseau', 'Alphonse Asselbergs',\n",
       "       'Jean-François Millet', 'Anton Schranz', 'Eugène Chaperon',\n",
       "       'Paul César Helleu', 'Thomas Dewing', 'Edmund Darch Lewis',\n",
       "       'Paul Guigou', 'Thomas Satterwhite Noble', 'Louis Eilshemius',\n",
       "       'Charles Codman', 'Armand Guillaumin', 'Robert Seldon Duncanson',\n",
       "       'Asher Brown Durand', 'Georges Michel', 'Emil Carlsen',\n",
       "       'Thomas Corwin Lindsay', 'Arthur Wesley Dow', 'Henri Le Sidaner',\n",
       "       'Gustave Loiseau', 'Henri-Edmond Cross', 'Alvan Fisher',\n",
       "       'William Harnett', 'Joaquín Sorolla', 'Richard Parkes Bonington',\n",
       "       'Alfred Thompson Bricher', 'Henry Inman',\n",
       "       'Pierre-Nolasque Bergeret', 'James Peale', 'John Hoppner',\n",
       "       'Irving Ramsey Wiles', 'Moritz Calisch', 'Ferdinand Hodler',\n",
       "       'William Stanley Haseltine', 'Alfred Richard Gurrey, Sr.',\n",
       "       'Knud Baade', 'Frederick Judd Waugh', 'Sanford Robinson Gifford',\n",
       "       'Jacob Eichholtz', 'John F. Peto', 'W. Herbert Dunton',\n",
       "       'Malvin Gray Johnson', 'Aurelius O. Revenaugh',\n",
       "       'Régis François Gignoux', 'Nikolai Astrup',\n",
       "       'Charles Willson Peale', 'John Linnell',\n",
       "       'William Penhallow Henderson', 'James Henry Beard',\n",
       "       'Carlos Vierra', 'Walter Griffin', 'Jean Auguste Dominique Ingres',\n",
       "       'Edward Moran', 'Edmund Charles Tarbell', 'Moustafa Farroukh',\n",
       "       'William Joseph McCloskey', 'John Nash', 'Anders Castus Svarstad',\n",
       "       'Robert Henri', 'Lilly Martin Spencer', 'Georges Seurat',\n",
       "       'http://www.wikidata.org/.well-known/genid/b40fc1d6259ce0721dc52fb8a05648b3',\n",
       "       'Edward Hicks', 'William Smyth', 'Frederick Weygold',\n",
       "       'John Hauser', 'Eastman Johnson', 'Theodore Robinson',\n",
       "       'Amedeo Modigliani', 'Mary Cassatt', 'Lionel Royer',\n",
       "       'Sarah Miriam Peale', 'Tom Roberts',\n",
       "       'http://www.wikidata.org/.well-known/genid/bacd9e33d0999196169309de799a84b8',\n",
       "       'Jacques Augustin Catherine Pajou', 'Marianne North',\n",
       "       'Luther Emerson Van Gorder', 'Albert Marquet',\n",
       "       'Théo van Rysselberghe', 'William Trost Richards',\n",
       "       'Johann Siegwald Dahl', 'Augustus Wall Callcott', 'Gilbert Stuart',\n",
       "       'John Lavery',\n",
       "       'http://www.wikidata.org/.well-known/genid/8b91fec680ecb4341880ad082ca28a49',\n",
       "       'Nicolaas Baur', 'Carl Wilhelm Hahn', 'Gustave Surand',\n",
       "       'Edwin Deakin', 'Jean-Baptiste Van Eycken', 'Francis A. Silva',\n",
       "       'J. M. W. Turner', 'Alexej von Jawlensky', 'Chaïm Soutine',\n",
       "       'Alfred Dehodencq', 'Felix Nussbaum', 'Anton Mauve',\n",
       "       'Enoch Wood Perry, Jr.', 'Arthur Bowen Davies',\n",
       "       'John Joseph Enneking', 'Elliott Daingerfield', 'Umberto Boccioni',\n",
       "       'Augustin Théodule Ribot', 'Thomas Hill',\n",
       "       'http://www.wikidata.org/.well-known/genid/516602db3af53b9bf63a7f974c285654',\n",
       "       'George Hetzel', 'Charles Ethan Porter', 'William Rickarby Miller',\n",
       "       'W. H. Atkins', 'Edwin White', 'Francis Devlan',\n",
       "       'Léon Augustin Lhermitte', 'Eduardo Zamacois y Zabala',\n",
       "       'Gerrit Beneker', 'François Salle', 'Thomas Buchanan Read',\n",
       "       'Mabel Pryde', 'Milton Herbert Bancroft', 'François-Auguste Biard',\n",
       "       'Charles Harold Davis', 'Arthur Dove', 'William D. Washington',\n",
       "       'Siebe Johannes ten Cate', 'Giuseppe De Nittis',\n",
       "       'William de Leftwich Dodge', 'Washington Allston', 'Henry Raeburn',\n",
       "       'Jean-Baptiste Greuze', 'Daniel Ridgway Knight',\n",
       "       'Paul-Albert Besnard', 'William Keith', 'Ker-Xavier Roussel',\n",
       "       'Charles Martin Hardie', 'William Merritt Chase',\n",
       "       'Charles Robert Leslie', 'Henri de Braekeleer',\n",
       "       'Helene Schjerfbeck', 'Joshua Shaw', 'John Haberle',\n",
       "       'Giuseppe Cadenasso', 'Alexandre Calame', 'Willard Metcalf',\n",
       "       'Alexander Kotzebue', 'Mihály Munkácsy', 'Blanche Hoschedé Monet',\n",
       "       'Alexander Pope', 'John Samuel Blunt', 'Odilon Redon',\n",
       "       'Albert Anker', 'William Page', 'Henry Pether',\n",
       "       'Frederic Edwin Church', 'Charles-François-Prosper Guérin',\n",
       "       'Joseph Decker', 'Edward Beyer', 'Léon Trousset',\n",
       "       'George Henry Burgess', 'John Henry Twachtman', 'Henri Rousseau',\n",
       "       'John James Chalon', 'Johann Hermann Carmiencke',\n",
       "       'George Henry Durrie', 'Evelyn Rumsey Cary', 'Samuel Miller',\n",
       "       'Paul Joseph Constantin Gabriël', 'Miguelzinho Dutra',\n",
       "       'Francisco de Goya', 'Henri de Toulouse-Lautrec', 'George Bottini',\n",
       "       'Charles Laval', 'Suzanne Valadon', 'Edmond Lempereur',\n",
       "       'Fernand Cormon', 'Adolphe Willette', 'Léon Bonnat',\n",
       "       'Ernest Hébert',\n",
       "       'http://www.wikidata.org/.well-known/genid/e6f7d16bca543921276874ed6ba7894f',\n",
       "       'Rodolfo Amoedo', 'Carlo De Servi', 'Joaquín Agrasot y Juan',\n",
       "       'Carson Davenport', 'John McLure Hamilton', 'Jose Moya del Pino',\n",
       "       'Pauline Françoise Adour', 'Raymond Tournon', 'Firmin Salabert',\n",
       "       'Pierre Ernest Prins', 'Pierre Magnan-Bernard', 'Marie Bermond',\n",
       "       'Fortuné Dufau', 'Henri Loubat', 'Georges Gaudion',\n",
       "       'Madeleine Carpentier', 'Jean Damaze Facieu',\n",
       "       'http://www.wikidata.org/.well-known/genid/e99ff0d3eb4dbe1b3e5e4fea60339df7',\n",
       "       'Charles Escot', 'Bernard-Joseph Artigue',\n",
       "       'http://www.wikidata.org/.well-known/genid/f7cfa611a88ee81cbd8191d68d5466ce',\n",
       "       'http://www.wikidata.org/.well-known/genid/890a7c43510e0804af28ad8b610eb8ab',\n",
       "       'Joseph Latour', 'Alphonse Roubichou', 'Jean-Louis Petit',\n",
       "       'Henri-Pierre Picou', 'Frank Brooks', 'Eugene Savage',\n",
       "       'Manoel de Oliveira Pastana', 'Johann Köler',\n",
       "       'Solomon Joseph Solomon', 'Jacques-Émile Blanche',\n",
       "       'Jane Mary Hayward', 'Samuel Laurence', 'Alessandro Ossani',\n",
       "       'Julien Dupré', 'Paul H. Wilkinson', 'Henri Rachou',\n",
       "       'Ilah Marian Kibbey',\n",
       "       'http://www.wikidata.org/.well-known/genid/da6a9b37ec45d2cf2c3d55ef7ebffc2a',\n",
       "       'Verona Lorraine Burkhard', 'Narcisse Berchère', 'Edmond Hédouin',\n",
       "       'Giuseppe Gabani', 'Jean-Adolphe Beaucé', 'Vincent Courdouan',\n",
       "       'Louis Émile Pinel de Grandchamp', 'Paul Cirou', 'Alfred de Dreux',\n",
       "       'Édouard Bertin', 'Anatole Vely',\n",
       "       'http://www.wikidata.org/.well-known/genid/b81bf8064ef6c76228cc79d5ca15f927',\n",
       "       'Richard Burgsthal',\n",
       "       'http://www.wikidata.org/.well-known/genid/64c1982b27c7b648de23ea4fffcedd4b',\n",
       "       'Marie-François Firmin-Girard', 'Paul Sibra'], dtype=object)"
      ]
     },
     "execution_count": 11,
     "metadata": {},
     "output_type": "execute_result"
    }
   ],
   "source": [
    "df.creatorLabel.unique()"
   ]
  },
  {
   "cell_type": "markdown",
   "id": "2a2f7585-41a0-4aa2-a711-13dfe6435960",
   "metadata": {},
   "source": [
    "## Extract the list from the column image"
   ]
  },
  {
   "cell_type": "markdown",
   "id": "3ce93610-b9ed-46b7-af6a-bb0cc321443d",
   "metadata": {},
   "source": [
    "Let's create a folder called \"images\""
   ]
  },
  {
   "cell_type": "code",
   "execution_count": 13,
   "id": "ac328a50-835d-4aa8-bf72-92a701a5406f",
   "metadata": {
    "tags": []
   },
   "outputs": [
    {
     "name": "stdout",
     "output_type": "stream",
     "text": [
      "Directory  images  Created \n"
     ]
    }
   ],
   "source": [
    "dirName = 'images'\n",
    "try:\n",
    "    os.mkdir(dirName)\n",
    "    print(\"Directory \" , dirName ,  \" Created \") \n",
    "except FileExistsError:\n",
    "    print(\"Directory \" , dirName ,  \" already exists\")"
   ]
  },
  {
   "cell_type": "code",
   "execution_count": 7,
   "id": "d522db38-7695-4a9d-b7fe-82d5c3e438a8",
   "metadata": {},
   "outputs": [],
   "source": [
    "image_urls = df['image'].tolist()"
   ]
  },
  {
   "cell_type": "markdown",
   "id": "5bc951cf-89f6-45ea-84ff-fa5a5c739602",
   "metadata": {},
   "source": [
    "## download images and rename them using an identifiable filename (hash of the url)"
   ]
  },
  {
   "cell_type": "code",
   "execution_count": 14,
   "id": "d47d4eb4-e6d9-4953-9797-0ee912ea7d9e",
   "metadata": {},
   "outputs": [
    {
     "ename": "KeyboardInterrupt",
     "evalue": "",
     "output_type": "error",
     "traceback": [
      "\u001b[0;31m---------------------------------------------------------------------------\u001b[0m",
      "\u001b[0;31mKeyboardInterrupt\u001b[0m                         Traceback (most recent call last)",
      "Input \u001b[0;32mIn [14]\u001b[0m, in \u001b[0;36m<cell line: 7>\u001b[0;34m()\u001b[0m\n\u001b[1;32m      9\u001b[0m ident \u001b[38;5;241m=\u001b[39m uuid\u001b[38;5;241m.\u001b[39muuid3(uuid\u001b[38;5;241m.\u001b[39mNAMESPACE_DNS, url)\n\u001b[1;32m     10\u001b[0m \u001b[38;5;28;01mtry\u001b[39;00m:\n\u001b[0;32m---> 11\u001b[0m     \u001b[43murllib\u001b[49m\u001b[38;5;241;43m.\u001b[39;49m\u001b[43mrequest\u001b[49m\u001b[38;5;241;43m.\u001b[39;49m\u001b[43murlretrieve\u001b[49m\u001b[43m(\u001b[49m\u001b[43murl\u001b[49m\u001b[43m,\u001b[49m\u001b[43m \u001b[49m\u001b[38;5;124;43mf\u001b[39;49m\u001b[38;5;124;43m'\u001b[39;49m\u001b[38;5;124;43mimages/\u001b[39;49m\u001b[38;5;132;43;01m{\u001b[39;49;00m\u001b[43mident\u001b[49m\u001b[38;5;132;43;01m}\u001b[39;49;00m\u001b[38;5;124;43m.jpg\u001b[39;49m\u001b[38;5;124;43m'\u001b[39;49m\u001b[43m)\u001b[49m\n\u001b[1;32m     12\u001b[0m \u001b[38;5;28;01mexcept\u001b[39;00m \u001b[38;5;167;01mException\u001b[39;00m \u001b[38;5;28;01mas\u001b[39;00m exc:\n\u001b[1;32m     13\u001b[0m     \u001b[38;5;28mprint\u001b[39m(\u001b[38;5;124mf\u001b[39m\u001b[38;5;124m\"\u001b[39m\u001b[38;5;124mException occured while downloading image from url \u001b[39m\u001b[38;5;132;01m{\u001b[39;00murl\u001b[38;5;132;01m}\u001b[39;00m\u001b[38;5;124m \u001b[39m\u001b[38;5;132;01m{\u001b[39;00m\u001b[38;5;28mstr\u001b[39m(exc)\u001b[38;5;132;01m}\u001b[39;00m\u001b[38;5;124m\"\u001b[39m)\n",
      "File \u001b[0;32m/opt/homebrew/Caskroom/miniforge/base/envs/jupyter/lib/python3.8/urllib/request.py:276\u001b[0m, in \u001b[0;36murlretrieve\u001b[0;34m(url, filename, reporthook, data)\u001b[0m\n\u001b[1;32m    273\u001b[0m     reporthook(blocknum, bs, size)\n\u001b[1;32m    275\u001b[0m \u001b[38;5;28;01mwhile\u001b[39;00m \u001b[38;5;28;01mTrue\u001b[39;00m:\n\u001b[0;32m--> 276\u001b[0m     block \u001b[38;5;241m=\u001b[39m \u001b[43mfp\u001b[49m\u001b[38;5;241;43m.\u001b[39;49m\u001b[43mread\u001b[49m\u001b[43m(\u001b[49m\u001b[43mbs\u001b[49m\u001b[43m)\u001b[49m\n\u001b[1;32m    277\u001b[0m     \u001b[38;5;28;01mif\u001b[39;00m \u001b[38;5;129;01mnot\u001b[39;00m block:\n\u001b[1;32m    278\u001b[0m         \u001b[38;5;28;01mbreak\u001b[39;00m\n",
      "File \u001b[0;32m/opt/homebrew/Caskroom/miniforge/base/envs/jupyter/lib/python3.8/http/client.py:459\u001b[0m, in \u001b[0;36mHTTPResponse.read\u001b[0;34m(self, amt)\u001b[0m\n\u001b[1;32m    456\u001b[0m \u001b[38;5;28;01mif\u001b[39;00m amt \u001b[38;5;129;01mis\u001b[39;00m \u001b[38;5;129;01mnot\u001b[39;00m \u001b[38;5;28;01mNone\u001b[39;00m:\n\u001b[1;32m    457\u001b[0m     \u001b[38;5;66;03m# Amount is given, implement using readinto\u001b[39;00m\n\u001b[1;32m    458\u001b[0m     b \u001b[38;5;241m=\u001b[39m \u001b[38;5;28mbytearray\u001b[39m(amt)\n\u001b[0;32m--> 459\u001b[0m     n \u001b[38;5;241m=\u001b[39m \u001b[38;5;28;43mself\u001b[39;49m\u001b[38;5;241;43m.\u001b[39;49m\u001b[43mreadinto\u001b[49m\u001b[43m(\u001b[49m\u001b[43mb\u001b[49m\u001b[43m)\u001b[49m\n\u001b[1;32m    460\u001b[0m     \u001b[38;5;28;01mreturn\u001b[39;00m \u001b[38;5;28mmemoryview\u001b[39m(b)[:n]\u001b[38;5;241m.\u001b[39mtobytes()\n\u001b[1;32m    461\u001b[0m \u001b[38;5;28;01melse\u001b[39;00m:\n\u001b[1;32m    462\u001b[0m     \u001b[38;5;66;03m# Amount is not given (unbounded read) so we must check self.length\u001b[39;00m\n\u001b[1;32m    463\u001b[0m     \u001b[38;5;66;03m# and self.chunked\u001b[39;00m\n",
      "File \u001b[0;32m/opt/homebrew/Caskroom/miniforge/base/envs/jupyter/lib/python3.8/http/client.py:503\u001b[0m, in \u001b[0;36mHTTPResponse.readinto\u001b[0;34m(self, b)\u001b[0m\n\u001b[1;32m    498\u001b[0m         b \u001b[38;5;241m=\u001b[39m \u001b[38;5;28mmemoryview\u001b[39m(b)[\u001b[38;5;241m0\u001b[39m:\u001b[38;5;28mself\u001b[39m\u001b[38;5;241m.\u001b[39mlength]\n\u001b[1;32m    500\u001b[0m \u001b[38;5;66;03m# we do not use _safe_read() here because this may be a .will_close\u001b[39;00m\n\u001b[1;32m    501\u001b[0m \u001b[38;5;66;03m# connection, and the user is reading more bytes than will be provided\u001b[39;00m\n\u001b[1;32m    502\u001b[0m \u001b[38;5;66;03m# (for example, reading in 1k chunks)\u001b[39;00m\n\u001b[0;32m--> 503\u001b[0m n \u001b[38;5;241m=\u001b[39m \u001b[38;5;28;43mself\u001b[39;49m\u001b[38;5;241;43m.\u001b[39;49m\u001b[43mfp\u001b[49m\u001b[38;5;241;43m.\u001b[39;49m\u001b[43mreadinto\u001b[49m\u001b[43m(\u001b[49m\u001b[43mb\u001b[49m\u001b[43m)\u001b[49m\n\u001b[1;32m    504\u001b[0m \u001b[38;5;28;01mif\u001b[39;00m \u001b[38;5;129;01mnot\u001b[39;00m n \u001b[38;5;129;01mand\u001b[39;00m b:\n\u001b[1;32m    505\u001b[0m     \u001b[38;5;66;03m# Ideally, we would raise IncompleteRead if the content-length\u001b[39;00m\n\u001b[1;32m    506\u001b[0m     \u001b[38;5;66;03m# wasn't satisfied, but it might break compatibility.\u001b[39;00m\n\u001b[1;32m    507\u001b[0m     \u001b[38;5;28mself\u001b[39m\u001b[38;5;241m.\u001b[39m_close_conn()\n",
      "File \u001b[0;32m/opt/homebrew/Caskroom/miniforge/base/envs/jupyter/lib/python3.8/socket.py:669\u001b[0m, in \u001b[0;36mSocketIO.readinto\u001b[0;34m(self, b)\u001b[0m\n\u001b[1;32m    667\u001b[0m \u001b[38;5;28;01mwhile\u001b[39;00m \u001b[38;5;28;01mTrue\u001b[39;00m:\n\u001b[1;32m    668\u001b[0m     \u001b[38;5;28;01mtry\u001b[39;00m:\n\u001b[0;32m--> 669\u001b[0m         \u001b[38;5;28;01mreturn\u001b[39;00m \u001b[38;5;28;43mself\u001b[39;49m\u001b[38;5;241;43m.\u001b[39;49m\u001b[43m_sock\u001b[49m\u001b[38;5;241;43m.\u001b[39;49m\u001b[43mrecv_into\u001b[49m\u001b[43m(\u001b[49m\u001b[43mb\u001b[49m\u001b[43m)\u001b[49m\n\u001b[1;32m    670\u001b[0m     \u001b[38;5;28;01mexcept\u001b[39;00m timeout:\n\u001b[1;32m    671\u001b[0m         \u001b[38;5;28mself\u001b[39m\u001b[38;5;241m.\u001b[39m_timeout_occurred \u001b[38;5;241m=\u001b[39m \u001b[38;5;28;01mTrue\u001b[39;00m\n",
      "File \u001b[0;32m/opt/homebrew/Caskroom/miniforge/base/envs/jupyter/lib/python3.8/ssl.py:1241\u001b[0m, in \u001b[0;36mSSLSocket.recv_into\u001b[0;34m(self, buffer, nbytes, flags)\u001b[0m\n\u001b[1;32m   1237\u001b[0m     \u001b[38;5;28;01mif\u001b[39;00m flags \u001b[38;5;241m!=\u001b[39m \u001b[38;5;241m0\u001b[39m:\n\u001b[1;32m   1238\u001b[0m         \u001b[38;5;28;01mraise\u001b[39;00m \u001b[38;5;167;01mValueError\u001b[39;00m(\n\u001b[1;32m   1239\u001b[0m           \u001b[38;5;124m\"\u001b[39m\u001b[38;5;124mnon-zero flags not allowed in calls to recv_into() on \u001b[39m\u001b[38;5;132;01m%s\u001b[39;00m\u001b[38;5;124m\"\u001b[39m \u001b[38;5;241m%\u001b[39m\n\u001b[1;32m   1240\u001b[0m           \u001b[38;5;28mself\u001b[39m\u001b[38;5;241m.\u001b[39m\u001b[38;5;18m__class__\u001b[39m)\n\u001b[0;32m-> 1241\u001b[0m     \u001b[38;5;28;01mreturn\u001b[39;00m \u001b[38;5;28;43mself\u001b[39;49m\u001b[38;5;241;43m.\u001b[39;49m\u001b[43mread\u001b[49m\u001b[43m(\u001b[49m\u001b[43mnbytes\u001b[49m\u001b[43m,\u001b[49m\u001b[43m \u001b[49m\u001b[43mbuffer\u001b[49m\u001b[43m)\u001b[49m\n\u001b[1;32m   1242\u001b[0m \u001b[38;5;28;01melse\u001b[39;00m:\n\u001b[1;32m   1243\u001b[0m     \u001b[38;5;28;01mreturn\u001b[39;00m \u001b[38;5;28msuper\u001b[39m()\u001b[38;5;241m.\u001b[39mrecv_into(buffer, nbytes, flags)\n",
      "File \u001b[0;32m/opt/homebrew/Caskroom/miniforge/base/envs/jupyter/lib/python3.8/ssl.py:1099\u001b[0m, in \u001b[0;36mSSLSocket.read\u001b[0;34m(self, len, buffer)\u001b[0m\n\u001b[1;32m   1097\u001b[0m \u001b[38;5;28;01mtry\u001b[39;00m:\n\u001b[1;32m   1098\u001b[0m     \u001b[38;5;28;01mif\u001b[39;00m buffer \u001b[38;5;129;01mis\u001b[39;00m \u001b[38;5;129;01mnot\u001b[39;00m \u001b[38;5;28;01mNone\u001b[39;00m:\n\u001b[0;32m-> 1099\u001b[0m         \u001b[38;5;28;01mreturn\u001b[39;00m \u001b[38;5;28;43mself\u001b[39;49m\u001b[38;5;241;43m.\u001b[39;49m\u001b[43m_sslobj\u001b[49m\u001b[38;5;241;43m.\u001b[39;49m\u001b[43mread\u001b[49m\u001b[43m(\u001b[49m\u001b[38;5;28;43mlen\u001b[39;49m\u001b[43m,\u001b[49m\u001b[43m \u001b[49m\u001b[43mbuffer\u001b[49m\u001b[43m)\u001b[49m\n\u001b[1;32m   1100\u001b[0m     \u001b[38;5;28;01melse\u001b[39;00m:\n\u001b[1;32m   1101\u001b[0m         \u001b[38;5;28;01mreturn\u001b[39;00m \u001b[38;5;28mself\u001b[39m\u001b[38;5;241m.\u001b[39m_sslobj\u001b[38;5;241m.\u001b[39mread(\u001b[38;5;28mlen\u001b[39m)\n",
      "\u001b[0;31mKeyboardInterrupt\u001b[0m: "
     ]
    }
   ],
   "source": [
    "import urllib.request\n",
    "import uuid\n",
    "\n",
    "sleep_time_sec = 1\n",
    "filename = 0\n",
    "\n",
    "for url in image_urls:\n",
    "    time.sleep(sleep_time_sec)\n",
    "    ident = uuid.uuid3(uuid.NAMESPACE_DNS, url)\n",
    "    try:\n",
    "        urllib.request.urlretrieve(url, f'images/{ident}.jpg')\n",
    "    except Exception as exc:\n",
    "        print(f\"Exception occured while downloading image from url {url} {str(exc)}\")"
   ]
  },
  {
   "cell_type": "code",
   "execution_count": null,
   "id": "2aa12ef4-c825-47b0-aad0-58fec71bfb88",
   "metadata": {},
   "outputs": [],
   "source": []
  }
 ],
 "metadata": {
  "kernelspec": {
   "display_name": "Python 3 (ipykernel)",
   "language": "python",
   "name": "python3"
  },
  "language_info": {
   "codemirror_mode": {
    "name": "ipython",
    "version": 3
   },
   "file_extension": ".py",
   "mimetype": "text/x-python",
   "name": "python",
   "nbconvert_exporter": "python",
   "pygments_lexer": "ipython3",
   "version": "3.10.8"
  }
 },
 "nbformat": 4,
 "nbformat_minor": 5
}
