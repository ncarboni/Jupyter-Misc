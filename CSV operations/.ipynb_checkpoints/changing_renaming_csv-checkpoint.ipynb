{
 "cells": [
  {
   "cell_type": "markdown",
   "id": "36cb720f-69b6-4d77-9073-e389b84842f8",
   "metadata": {},
   "source": [
    "# Delete unnecessary columns for photos"
   ]
  },
  {
   "cell_type": "code",
   "execution_count": 6,
   "id": "5e024b1f-5da2-43b2-a7aa-9b1466d05699",
   "metadata": {
    "tags": []
   },
   "outputs": [],
   "source": [
    "import os\n",
    "import pandas as pd\n",
    "import warnings\n",
    "import glob\n",
    "\n",
    "\n",
    "warnings.filterwarnings(\"ignore\")\n",
    "\n",
    "os.chdir(r'/Users/carboni/Downloads/CSV_LOC/photos')\n",
    "allFiles = glob.glob(\"*.csv\")\n",
    "for file in allFiles:\n",
    "   df = pd.read_csv(file, low_memory=False)\n",
    "   keep_col = ['filepath', 'page_url', 'pub_date','name', 'publisher','coverage_county_1', 'coverage_city_1','coverage_state_1' ]\n",
    "   df2 = df[keep_col]\n",
    "   df2.rename(columns = {'pub_date':'normalized_date', 'name':'Title', 'coverage_city_1':'City', 'coverage_state_1':'State', 'coverage_county_1':'County', 'page_url':'Notice' }, inplace = True)\n",
    "   df2['filepath'] = df2['filepath'].str.replace(r'\\/', '_', regex=True)\n",
    "   df2['Country']='United States of America'\n",
    "   df2['Country_wd']='Q30'\n",
    "   df2.to_csv(file, index=False)"
   ]
  },
  {
   "cell_type": "markdown",
   "id": "61920a7e-d28f-4152-86d6-243916c93978",
   "metadata": {},
   "source": [
    "# Delete unnecessary columns for illustration"
   ]
  },
  {
   "cell_type": "code",
   "execution_count": 3,
   "id": "ac5ca82f-3e80-45d2-ac5b-78af18ba820e",
   "metadata": {},
   "outputs": [],
   "source": [
    "import os\n",
    "import pandas as pd\n",
    "import warnings\n",
    "import glob\n",
    "warnings.filterwarnings(\"ignore\")\n",
    "\n",
    "os.chdir(r'/Users/carboni/Downloads/CSV_LOC/illustration_loc')\n",
    "allFiles = glob.glob(\"*.csv\")\n",
    "for file in allFiles:\n",
    "   df = pd.read_csv(file, low_memory=False)\n",
    "   keep_col = ['filepath', 'page_url', 'pub_date','name', 'publisher','coverage_county_1', 'coverage_city_1','coverage_state_1' ]\n",
    "   df2 = df[keep_col]\n",
    "   df2.rename(columns = {'pub_date':'normalized_date', 'name':'Title', 'coverage_city_1':'City', 'coverage_state_1':'State', 'coverage_county_1':'County', 'page_url':'Notice' }, inplace = True)\n",
    "   df2['filepath'] = df2['filepath'].str.replace(r'\\/', '_', regex=True)\n",
    "   df2['Country']='United States of America'\n",
    "   df2['Country_wd']='Q30'\n",
    "   df2.to_csv(file, index=False)"
   ]
  },
  {
   "cell_type": "markdown",
   "id": "6abdd95f-6266-48df-91a1-4a43325ebef0",
   "metadata": {},
   "source": [
    "# Delete unnecessary columns for comics"
   ]
  },
  {
   "cell_type": "code",
   "execution_count": 7,
   "id": "6d5dbc24-2601-4a5f-ae75-003fc951aaf8",
   "metadata": {},
   "outputs": [],
   "source": [
    "import os\n",
    "import pandas as pd\n",
    "import warnings\n",
    "import glob\n",
    "warnings.filterwarnings(\"ignore\")\n",
    "\n",
    "os.chdir(r'/Users/carboni/Downloads/CSV_LOC/comics')\n",
    "allFiles = glob.glob(\"*.csv\")\n",
    "for file in allFiles:\n",
    "   df = pd.read_csv(file, low_memory=False)\n",
    "   keep_col = ['filepath', 'page_url', 'pub_date','name', 'publisher','coverage_county_1', 'coverage_city_1','coverage_state_1' ]\n",
    "   df2 = df[keep_col]\n",
    "   df2.rename(columns = {'pub_date':'normalized_date', 'name':'Title', 'coverage_city_1':'City', 'coverage_state_1':'State', 'coverage_county_1':'County', 'page_url':'Notice' }, inplace = True)\n",
    "   df2['filepath'] = df2['filepath'].str.replace(r'\\/', '_', regex=True)\n",
    "   df2['Country']='United States of America'\n",
    "   df2['Country_wd']='Q30'\n",
    "   df2.to_csv(file, index=False)"
   ]
  },
  {
   "cell_type": "markdown",
   "id": "ac43e583-d18b-4d3f-a7ac-ce5061e65c71",
   "metadata": {},
   "source": [
    "# Delete unnecessary columns for cartoons"
   ]
  },
  {
   "cell_type": "code",
   "execution_count": 9,
   "id": "26d6afd5-2d5e-41b7-93b6-64d65763518c",
   "metadata": {},
   "outputs": [],
   "source": [
    "import os\n",
    "import pandas as pd\n",
    "import warnings\n",
    "import glob\n",
    "warnings.filterwarnings(\"ignore\")\n",
    "\n",
    "os.chdir(r'/Users/carboni/Downloads/CSV_LOC/cartoons')\n",
    "allFiles = glob.glob(\"*.csv\")\n",
    "for file in allFiles:\n",
    "   df = pd.read_csv(file, low_memory=False)\n",
    "   keep_col = ['filepath', 'page_url', 'pub_date','name', 'publisher','coverage_county_1', 'coverage_city_1','coverage_state_1' ]\n",
    "   df2 = df[keep_col]\n",
    "   df2.rename(columns = {'pub_date':'normalized_date', 'name':'Title', 'coverage_city_1':'City', 'coverage_state_1':'State', 'coverage_county_1':'County', 'page_url':'Notice' }, inplace = True)\n",
    "   df2['filepath'] = df2['filepath'].str.replace(r'\\/', '_', regex=True)\n",
    "   df2['Country']='United States of America'\n",
    "   df2['Country_wd']='Q30'\n",
    "   df2.to_csv(file, index=False)"
   ]
  },
  {
   "cell_type": "markdown",
   "id": "5d3a25cc-ae7a-48cf-88bf-6245e092c3c6",
   "metadata": {},
   "source": [
    "# Merge files photos"
   ]
  },
  {
   "cell_type": "code",
   "execution_count": 25,
   "id": "756c4e82-2123-41b4-ab0f-3d45cb0488d7",
   "metadata": {},
   "outputs": [],
   "source": [
    "path = r'/Users/carboni/Downloads/CSV_LOC/photos' # use your path\n",
    "all_files = glob.glob(path + \"/*.csv\")\n",
    "\n",
    "li = []\n",
    "\n",
    "for filename in all_files:\n",
    "    df = pd.read_csv(filename, index_col=None, header=0, delimiter=',')\n",
    "    li.append(df)\n",
    "\n",
    "df_photos = pd.concat(li, axis=0, ignore_index=True)\n"
   ]
  },
  {
   "cell_type": "code",
   "execution_count": 26,
   "id": "86734e89-afaa-4f86-9e03-be2664d14ee3",
   "metadata": {},
   "outputs": [
    {
     "data": {
      "text/html": [
       "<div>\n",
       "<style scoped>\n",
       "    .dataframe tbody tr th:only-of-type {\n",
       "        vertical-align: middle;\n",
       "    }\n",
       "\n",
       "    .dataframe tbody tr th {\n",
       "        vertical-align: top;\n",
       "    }\n",
       "\n",
       "    .dataframe thead th {\n",
       "        text-align: right;\n",
       "    }\n",
       "</style>\n",
       "<table border=\"1\" class=\"dataframe\">\n",
       "  <thead>\n",
       "    <tr style=\"text-align: right;\">\n",
       "      <th></th>\n",
       "      <th>filepath</th>\n",
       "      <th>Notice</th>\n",
       "      <th>normalized_date</th>\n",
       "      <th>Title</th>\n",
       "      <th>publisher</th>\n",
       "      <th>County</th>\n",
       "      <th>City</th>\n",
       "      <th>State</th>\n",
       "      <th>Country</th>\n",
       "      <th>Country_wd</th>\n",
       "    </tr>\n",
       "  </thead>\n",
       "  <tbody>\n",
       "    <tr>\n",
       "      <th>0</th>\n",
       "      <td>uuml_layden_ver01_data_sn85058245_206535489_19...</td>\n",
       "      <td>https://chroniclingamerica.loc.gov/data/batche...</td>\n",
       "      <td>1909-01-28</td>\n",
       "      <td>The Spanish Fork press. [volume]</td>\n",
       "      <td>A. Jensen</td>\n",
       "      <td>Utah</td>\n",
       "      <td>Spanish Fork</td>\n",
       "      <td>Utah</td>\n",
       "      <td>United States of America</td>\n",
       "      <td>Q30</td>\n",
       "    </tr>\n",
       "    <tr>\n",
       "      <th>1</th>\n",
       "      <td>uuml_layden_ver01_data_sn85058245_206535489_19...</td>\n",
       "      <td>https://chroniclingamerica.loc.gov/data/batche...</td>\n",
       "      <td>1909-08-26</td>\n",
       "      <td>The Spanish Fork press. [volume]</td>\n",
       "      <td>A. Jensen</td>\n",
       "      <td>Utah</td>\n",
       "      <td>Spanish Fork</td>\n",
       "      <td>Utah</td>\n",
       "      <td>United States of America</td>\n",
       "      <td>Q30</td>\n",
       "    </tr>\n",
       "    <tr>\n",
       "      <th>2</th>\n",
       "      <td>uuml_layden_ver01_data_sn85058245_206535489_19...</td>\n",
       "      <td>https://chroniclingamerica.loc.gov/data/batche...</td>\n",
       "      <td>1909-05-20</td>\n",
       "      <td>The Spanish Fork press. [volume]</td>\n",
       "      <td>A. Jensen</td>\n",
       "      <td>Utah</td>\n",
       "      <td>Spanish Fork</td>\n",
       "      <td>Utah</td>\n",
       "      <td>United States of America</td>\n",
       "      <td>Q30</td>\n",
       "    </tr>\n",
       "    <tr>\n",
       "      <th>3</th>\n",
       "      <td>uuml_layden_ver01_data_sn85058245_206535489_19...</td>\n",
       "      <td>https://chroniclingamerica.loc.gov/data/batche...</td>\n",
       "      <td>1909-01-14</td>\n",
       "      <td>The Spanish Fork press. [volume]</td>\n",
       "      <td>A. Jensen</td>\n",
       "      <td>Utah</td>\n",
       "      <td>Spanish Fork</td>\n",
       "      <td>Utah</td>\n",
       "      <td>United States of America</td>\n",
       "      <td>Q30</td>\n",
       "    </tr>\n",
       "    <tr>\n",
       "      <th>4</th>\n",
       "      <td>uuml_layden_ver01_data_sn85058245_206535489_19...</td>\n",
       "      <td>https://chroniclingamerica.loc.gov/data/batche...</td>\n",
       "      <td>1909-06-03</td>\n",
       "      <td>The Spanish Fork press. [volume]</td>\n",
       "      <td>A. Jensen</td>\n",
       "      <td>Utah</td>\n",
       "      <td>Spanish Fork</td>\n",
       "      <td>Utah</td>\n",
       "      <td>United States of America</td>\n",
       "      <td>Q30</td>\n",
       "    </tr>\n",
       "  </tbody>\n",
       "</table>\n",
       "</div>"
      ],
      "text/plain": [
       "                                            filepath  \\\n",
       "0  uuml_layden_ver01_data_sn85058245_206535489_19...   \n",
       "1  uuml_layden_ver01_data_sn85058245_206535489_19...   \n",
       "2  uuml_layden_ver01_data_sn85058245_206535489_19...   \n",
       "3  uuml_layden_ver01_data_sn85058245_206535489_19...   \n",
       "4  uuml_layden_ver01_data_sn85058245_206535489_19...   \n",
       "\n",
       "                                              Notice normalized_date  \\\n",
       "0  https://chroniclingamerica.loc.gov/data/batche...      1909-01-28   \n",
       "1  https://chroniclingamerica.loc.gov/data/batche...      1909-08-26   \n",
       "2  https://chroniclingamerica.loc.gov/data/batche...      1909-05-20   \n",
       "3  https://chroniclingamerica.loc.gov/data/batche...      1909-01-14   \n",
       "4  https://chroniclingamerica.loc.gov/data/batche...      1909-06-03   \n",
       "\n",
       "                              Title  publisher County          City State  \\\n",
       "0  The Spanish Fork press. [volume]  A. Jensen   Utah  Spanish Fork  Utah   \n",
       "1  The Spanish Fork press. [volume]  A. Jensen   Utah  Spanish Fork  Utah   \n",
       "2  The Spanish Fork press. [volume]  A. Jensen   Utah  Spanish Fork  Utah   \n",
       "3  The Spanish Fork press. [volume]  A. Jensen   Utah  Spanish Fork  Utah   \n",
       "4  The Spanish Fork press. [volume]  A. Jensen   Utah  Spanish Fork  Utah   \n",
       "\n",
       "                    Country Country_wd  \n",
       "0  United States of America        Q30  \n",
       "1  United States of America        Q30  \n",
       "2  United States of America        Q30  \n",
       "3  United States of America        Q30  \n",
       "4  United States of America        Q30  "
      ]
     },
     "execution_count": 26,
     "metadata": {},
     "output_type": "execute_result"
    }
   ],
   "source": [
    "df_photos.head()"
   ]
  },
  {
   "cell_type": "code",
   "execution_count": 28,
   "id": "2d519dcd-4b76-46e1-a754-2a66070549a6",
   "metadata": {},
   "outputs": [],
   "source": [
    "df_photos.to_csv('/Users/carboni/Downloads/CSV_LOC/photos/combined_photos.csv', index=False)"
   ]
  },
  {
   "cell_type": "markdown",
   "id": "bed3a453-ab6d-48b1-905e-91721652ab96",
   "metadata": {},
   "source": [
    "# Merge files illustrations"
   ]
  },
  {
   "cell_type": "code",
   "execution_count": 29,
   "id": "c6afd016-b1ec-4b4f-bb45-ed71dda5ac19",
   "metadata": {},
   "outputs": [],
   "source": [
    "path = r'/Users/carboni/Downloads/CSV_LOC/illustration_loc' # use your path\n",
    "all_files = glob.glob(path + \"/*.csv\")\n",
    "\n",
    "li = []\n",
    "\n",
    "for filename in all_files:\n",
    "    df = pd.read_csv(filename, index_col=None, header=0, delimiter=',')\n",
    "    li.append(df)\n",
    "\n",
    "df_ill = pd.concat(li, axis=0, ignore_index=True)\n",
    "df_ill.to_csv('/Users/carboni/Downloads/CSV_LOC/illustration_loc/combined_ill.csv', index=False)"
   ]
  },
  {
   "cell_type": "markdown",
   "id": "8c9460de-2150-447b-a0bc-df672ee8a143",
   "metadata": {},
   "source": [
    "# Merge files comics"
   ]
  },
  {
   "cell_type": "code",
   "execution_count": 30,
   "id": "3e8f8ac0-77b7-4871-b702-f341d4b7694a",
   "metadata": {},
   "outputs": [],
   "source": [
    "path = r'/Users/carboni/Downloads/CSV_LOC/comics' # use your path\n",
    "all_files = glob.glob(path + \"/*.csv\")\n",
    "\n",
    "li = []\n",
    "\n",
    "for filename in all_files:\n",
    "    df = pd.read_csv(filename, index_col=None, header=0, delimiter=',')\n",
    "    li.append(df)\n",
    "\n",
    "df_comics = pd.concat(li, axis=0, ignore_index=True)\n",
    "df_comics.to_csv('/Users/carboni/Downloads/CSV_LOC/comics/combined_comics.csv', index=False)"
   ]
  },
  {
   "cell_type": "markdown",
   "id": "de08bd4d-b109-477f-95c6-317c2f7b5a66",
   "metadata": {},
   "source": [
    "# Merge files cartoons"
   ]
  },
  {
   "cell_type": "code",
   "execution_count": 31,
   "id": "018f4c7c-737d-4642-8484-2f47fef1ffd4",
   "metadata": {},
   "outputs": [],
   "source": [
    "path = r'/Users/carboni/Downloads/CSV_LOC/cartoons' # use your path\n",
    "all_files = glob.glob(path + \"/*.csv\")\n",
    "\n",
    "li = []\n",
    "\n",
    "for filename in all_files:\n",
    "    df = pd.read_csv(filename, index_col=None, header=0, delimiter=',')\n",
    "    li.append(df)\n",
    "\n",
    "df_cartoons = pd.concat(li, axis=0, ignore_index=True)\n",
    "df_cartoons.to_csv('/Users/carboni/Downloads/CSV_LOC/cartoons/combined_cartoons.csv', index=False)"
   ]
  },
  {
   "cell_type": "code",
   "execution_count": null,
   "id": "269aa480-3ffa-407d-a485-b5707f3e50f7",
   "metadata": {},
   "outputs": [],
   "source": []
  }
 ],
 "metadata": {
  "kernelspec": {
   "display_name": "Python 3 (ipykernel)",
   "language": "python",
   "name": "python3"
  },
  "language_info": {
   "codemirror_mode": {
    "name": "ipython",
    "version": 3
   },
   "file_extension": ".py",
   "mimetype": "text/x-python",
   "name": "python",
   "nbconvert_exporter": "python",
   "pygments_lexer": "ipython3",
   "version": "3.8.12"
  }
 },
 "nbformat": 4,
 "nbformat_minor": 5
}
