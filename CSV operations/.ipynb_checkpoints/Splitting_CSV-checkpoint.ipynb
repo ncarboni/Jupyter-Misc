{
 "cells": [
  {
   "cell_type": "markdown",
   "id": "2db9dd87-d6ec-441f-a43d-64fab391067a",
   "metadata": {},
   "source": [
    "# Splitting large CSV files into parts"
   ]
  },
  {
   "cell_type": "code",
   "execution_count": 2,
   "id": "dac64318-5271-4642-bbb1-3575b19a064f",
   "metadata": {},
   "outputs": [],
   "source": [
    "import pandas as pd"
   ]
  },
  {
   "cell_type": "code",
   "execution_count": null,
   "id": "d063f691-5236-4541-a37e-9df8c278739a",
   "metadata": {},
   "outputs": [],
   "source": [
    "\n",
    "def main():\n",
    "    chunk_size = 9998  # lines\n",
    "\n",
    "    def write_chunk(part, lines):\n",
    "        with open('data_part_'+ str(part) +'.csv', 'w') as f_out:\n",
    "            f_out.write(header)\n",
    "            f_out.writelines(lines)\n",
    "\n",
    "    with open('data.csv', 'r') as f:\n",
    "        count = 0\n",
    "        header = f.readline()\n",
    "        lines = []\n",
    "        for line in f:\n",
    "            count += 1\n",
    "            lines.append(line)\n",
    "            if count % chunk_size == 0:\n",
    "                write_chunk(count // chunk_size, lines)\n",
    "                lines = []\n",
    "        # write remainder\n",
    "        if len(lines) > 0:\n",
    "            write_chunk((count // chunk_size) + 1, lines)\n",
    "\n",
    "if __name__ == '__main__':\n",
    "    main()"
   ]
  },
  {
   "cell_type": "markdown",
   "id": "ec8d699c-1e2c-476f-82aa-b670231ed880",
   "metadata": {},
   "source": [
    "the snippet below takes more time, the one above take less"
   ]
  },
  {
   "cell_type": "code",
   "execution_count": 3,
   "id": "f8685f20-52ae-42f7-9c18-d1b9733fad5a",
   "metadata": {},
   "outputs": [],
   "source": [
    "source_path = \"/Users/carboni/Downloads/loc_data_iiif_unige-mod.csv\"\n",
    "for i,chunk in enumerate(pd.read_csv(source_path, chunksize=77000)):\n",
    "    chunk.to_csv('/Users/carboni/Downloads/LOC-split/LOC_data_split_{}.csv'.format(i), index=False)"
   ]
  },
  {
   "cell_type": "code",
   "execution_count": null,
   "id": "ab1f2518-2026-4aab-9cfe-d52c181d9c0a",
   "metadata": {},
   "outputs": [],
   "source": []
  }
 ],
 "metadata": {
  "kernelspec": {
   "display_name": "Python 3 (ipykernel)",
   "language": "python",
   "name": "python3"
  },
  "language_info": {
   "codemirror_mode": {
    "name": "ipython",
    "version": 3
   },
   "file_extension": ".py",
   "mimetype": "text/x-python",
   "name": "python",
   "nbconvert_exporter": "python",
   "pygments_lexer": "ipython3",
   "version": "3.8.12"
  }
 },
 "nbformat": 4,
 "nbformat_minor": 5
}
