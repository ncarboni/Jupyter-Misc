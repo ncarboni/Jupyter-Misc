{
 "cells": [
  {
   "cell_type": "code",
   "execution_count": 18,
   "id": "4f43adce-b1f4-42ab-a376-8392a207c97d",
   "metadata": {},
   "outputs": [],
   "source": [
    "import pandas as pd"
   ]
  },
  {
   "cell_type": "code",
   "execution_count": 47,
   "id": "9efc7ad8-18e7-4453-9187-2f264185da37",
   "metadata": {},
   "outputs": [],
   "source": [
    "df = pd.read_csv(\"/Users/carboni/Documents/UNIGE/pynotebook/OpenRefine_fusion/backup/combined_explored_august.csv\")"
   ]
  },
  {
   "cell_type": "code",
   "execution_count": 48,
   "id": "7fb3e752-497c-43f0-8a04-0e89eca80bf6",
   "metadata": {},
   "outputs": [],
   "source": [
    "df1 = df.drop_duplicates(subset=['Title'])"
   ]
  },
  {
   "cell_type": "code",
   "execution_count": 49,
   "id": "400a94aa-5069-4810-a441-e2ad4fe90768",
   "metadata": {},
   "outputs": [
    {
     "data": {
      "text/plain": [
       "3478"
      ]
     },
     "execution_count": 49,
     "metadata": {},
     "output_type": "execute_result"
    }
   ],
   "source": [
    "len(df1)"
   ]
  },
  {
   "cell_type": "code",
   "execution_count": 50,
   "id": "bcd81475-9a80-47ea-ac93-1cfcf87ecc73",
   "metadata": {},
   "outputs": [
    {
     "name": "stdout",
     "output_type": "stream",
     "text": [
      "<class 'pandas.core.frame.DataFrame'>\n",
      "Int64Index: 3478 entries, 0 to 3145425\n",
      "Data columns (total 7 columns):\n",
      " #   Column           Non-Null Count  Dtype \n",
      "---  ------           --------------  ----- \n",
      " 0   Media URL        3478 non-null   object\n",
      " 1   City             3286 non-null   object\n",
      " 2   Country          3463 non-null   object\n",
      " 3   wkt              3450 non-null   object\n",
      " 4   normalized_date  3478 non-null   object\n",
      " 5   Title            3478 non-null   object\n",
      " 6   Journal Type     2718 non-null   object\n",
      "dtypes: object(7)\n",
      "memory usage: 217.4+ KB\n"
     ]
    }
   ],
   "source": [
    "df1.info()"
   ]
  },
  {
   "cell_type": "code",
   "execution_count": 41,
   "id": "45740dfa-4744-4170-918e-4bebd6644a54",
   "metadata": {},
   "outputs": [
    {
     "data": {
      "text/plain": [
       "Media URL          4412\n",
       "City               1185\n",
       "Country              43\n",
       "wkt                1173\n",
       "normalized_date    2784\n",
       "Title              4412\n",
       "Journal Type         79\n",
       "dtype: int64"
      ]
     },
     "execution_count": 41,
     "metadata": {},
     "output_type": "execute_result"
    }
   ],
   "source": [
    "df1.nunique()"
   ]
  },
  {
   "cell_type": "code",
   "execution_count": 51,
   "id": "49a71d98-6656-4d63-b098-02b11c0b3546",
   "metadata": {},
   "outputs": [
    {
     "data": {
      "text/plain": [
       "United States of America      1820\n",
       "France                         588\n",
       "Germany                        308\n",
       "Poland                         171\n",
       "Argentina                      156\n",
       "Japan                           98\n",
       "People's Republic of China      84\n",
       "United Kingdom                  49\n",
       "Ukraine                         26\n",
       "Spain                           24\n",
       "Russia                          16\n",
       "Czech Republic                  13\n",
       "Chile                           13\n",
       "Austria                         13\n",
       "Italy                           12\n",
       "Netherlands                     11\n",
       "Algeria                          8\n",
       "Switzerland                      8\n",
       "Belgium                          8\n",
       "Romania                          6\n",
       "Republic of Ireland              5\n",
       "Vietnam                          3\n",
       "Canada                           3\n",
       "Slovenia                         3\n",
       "Denmark                          2\n",
       "Slovakia                         1\n",
       "Croatia                          1\n",
       "Finland                          1\n",
       "Cameroon                         1\n",
       "Monaco                           1\n",
       "Name: Country, dtype: int64"
      ]
     },
     "execution_count": 51,
     "metadata": {},
     "output_type": "execute_result"
    }
   ],
   "source": [
    "df1.Country.value_counts().head(30) "
   ]
  },
  {
   "cell_type": "code",
   "execution_count": 52,
   "id": "0d8f91e5-def6-4a4e-aa87-f9d727e03153",
   "metadata": {},
   "outputs": [
    {
     "data": {
      "text/plain": [
       "[('Paris', 424),\n",
       " (nan, 192),\n",
       " ('Buenos Aires', 133),\n",
       " ('Warsaw', 90),\n",
       " ('Berlin', 72),\n",
       " ('Munich', 64),\n",
       " ('Kraków', 46),\n",
       " ('New York City', 45),\n",
       " ('London', 38),\n",
       " ('Chicago', 29),\n",
       " ('Washington, D.C.', 27),\n",
       " ('Wrocław', 22),\n",
       " ('Heidelberg', 20),\n",
       " ('Barcelona', 19),\n",
       " ('Minneapolis', 18),\n",
       " ('Richmond', 17),\n",
       " ('Lincoln', 16),\n",
       " ('Lexington', 15),\n",
       " ('Schwäbisch Gmünd', 14),\n",
       " ('Hamburg', 13),\n",
       " ('Santiago', 13),\n",
       " ('Stuttgart', 13),\n",
       " ('Vienna', 13),\n",
       " ('Wilmington', 13),\n",
       " ('Moscow', 12),\n",
       " ('Phoenix', 12),\n",
       " ('Tokyo', 12),\n",
       " ('Clandestine', 11),\n",
       " ('Honolulu', 11),\n",
       " ('Prague', 11),\n",
       " ('Columbus', 10),\n",
       " ('Detroit', 10),\n",
       " ('Marseille', 10),\n",
       " ('Baden-Baden', 9),\n",
       " ('Cologne', 9),\n",
       " ('Columbia', 9),\n",
       " ('Leipzig', 9),\n",
       " ('Prescott', 9),\n",
       " ('Toulouse', 9),\n",
       " ('Algiers', 8),\n",
       " ('Denver', 8),\n",
       " ('Frankfurt', 8),\n",
       " ('Great Falls', 8),\n",
       " ('Hartford', 8),\n",
       " ('Jackson', 8),\n",
       " ('Las Vegas', 8),\n",
       " ('Lyon', 8),\n",
       " ('Marion', 8),\n",
       " ('New Haven', 8),\n",
       " ('Rosario', 8)]"
      ]
     },
     "execution_count": 52,
     "metadata": {},
     "output_type": "execute_result"
    }
   ],
   "source": [
    "from collections import Counter\n",
    "\n",
    "\n",
    "Counter(df1['City'].sort_values(ascending=True).tolist()).most_common(50)"
   ]
  },
  {
   "cell_type": "code",
   "execution_count": 29,
   "id": "cbc4fdf8-4c90-40ec-8054-fb5b98be90a3",
   "metadata": {},
   "outputs": [],
   "source": [
    "df1.to_csv(\"/Users/carboni/Downloads/cluster_all.csv\", index=False)"
   ]
  },
  {
   "cell_type": "code",
   "execution_count": null,
   "id": "e439ae2c-e22c-427b-a64f-0d3f91ba73d1",
   "metadata": {},
   "outputs": [],
   "source": []
  },
  {
   "cell_type": "code",
   "execution_count": null,
   "id": "3d15158b-1093-4d36-bbea-573618b724ab",
   "metadata": {},
   "outputs": [],
   "source": []
  },
  {
   "cell_type": "code",
   "execution_count": 30,
   "id": "ff815b0d-4724-4d71-bbfa-6caddfce3c0d",
   "metadata": {},
   "outputs": [],
   "source": [
    "pivot_city = pd.pivot_table(df1, values='Title', index='City', aggfunc=pd.Series.nunique)"
   ]
  },
  {
   "cell_type": "code",
   "execution_count": 31,
   "id": "edca4b3c-2590-4147-8021-986eb73926ed",
   "metadata": {},
   "outputs": [
    {
     "data": {
      "text/html": [
       "<div>\n",
       "<style scoped>\n",
       "    .dataframe tbody tr th:only-of-type {\n",
       "        vertical-align: middle;\n",
       "    }\n",
       "\n",
       "    .dataframe tbody tr th {\n",
       "        vertical-align: top;\n",
       "    }\n",
       "\n",
       "    .dataframe thead th {\n",
       "        text-align: right;\n",
       "    }\n",
       "</style>\n",
       "<table border=\"1\" class=\"dataframe\">\n",
       "  <thead>\n",
       "    <tr style=\"text-align: right;\">\n",
       "      <th></th>\n",
       "      <th>Title</th>\n",
       "    </tr>\n",
       "    <tr>\n",
       "      <th>City</th>\n",
       "      <th></th>\n",
       "    </tr>\n",
       "  </thead>\n",
       "  <tbody>\n",
       "    <tr>\n",
       "      <th>'s-Hertogenbosch</th>\n",
       "      <td>16</td>\n",
       "    </tr>\n",
       "    <tr>\n",
       "      <th>A Coruña</th>\n",
       "      <td>1</td>\n",
       "    </tr>\n",
       "    <tr>\n",
       "      <th>Aachen</th>\n",
       "      <td>8</td>\n",
       "    </tr>\n",
       "    <tr>\n",
       "      <th>Aalbeke</th>\n",
       "      <td>1</td>\n",
       "    </tr>\n",
       "    <tr>\n",
       "      <th>Aalborg Municipality</th>\n",
       "      <td>1</td>\n",
       "    </tr>\n",
       "    <tr>\n",
       "      <th>...</th>\n",
       "      <td>...</td>\n",
       "    </tr>\n",
       "    <tr>\n",
       "      <th>Śródmieście</th>\n",
       "      <td>6</td>\n",
       "    </tr>\n",
       "    <tr>\n",
       "      <th>Ševětín</th>\n",
       "      <td>1</td>\n",
       "    </tr>\n",
       "    <tr>\n",
       "      <th>Žižkov</th>\n",
       "      <td>5</td>\n",
       "    </tr>\n",
       "    <tr>\n",
       "      <th>Žďár nad Sázavou</th>\n",
       "      <td>1</td>\n",
       "    </tr>\n",
       "    <tr>\n",
       "      <th>Žďár nad Sázavou 1</th>\n",
       "      <td>1</td>\n",
       "    </tr>\n",
       "  </tbody>\n",
       "</table>\n",
       "<p>2688 rows × 1 columns</p>\n",
       "</div>"
      ],
      "text/plain": [
       "                      Title\n",
       "City                       \n",
       "'s-Hertogenbosch         16\n",
       "A Coruña                  1\n",
       "Aachen                    8\n",
       "Aalbeke                   1\n",
       "Aalborg Municipality      1\n",
       "...                     ...\n",
       "Śródmieście               6\n",
       "Ševětín                   1\n",
       "Žižkov                    5\n",
       "Žďár nad Sázavou          1\n",
       "Žďár nad Sázavou 1        1\n",
       "\n",
       "[2688 rows x 1 columns]"
      ]
     },
     "execution_count": 31,
     "metadata": {},
     "output_type": "execute_result"
    }
   ],
   "source": [
    "pivot_city"
   ]
  },
  {
   "cell_type": "code",
   "execution_count": 32,
   "id": "c4bd6638-e240-47c1-b98d-2984ff06f22c",
   "metadata": {},
   "outputs": [],
   "source": [
    "pivot_city = pivot_city.rename(columns={\"Title\": \"City_number\"})"
   ]
  },
  {
   "cell_type": "code",
   "execution_count": 33,
   "id": "5ef80ab1-b547-424d-8a54-c6fad097a7a1",
   "metadata": {},
   "outputs": [],
   "source": [
    "df1 = pd.merge(df1, pivot_city, on=['City'])"
   ]
  },
  {
   "cell_type": "code",
   "execution_count": 34,
   "id": "ad5da6b9-ff68-443e-ae75-aa7b918ddade",
   "metadata": {},
   "outputs": [
    {
     "data": {
      "text/html": [
       "<div>\n",
       "<style scoped>\n",
       "    .dataframe tbody tr th:only-of-type {\n",
       "        vertical-align: middle;\n",
       "    }\n",
       "\n",
       "    .dataframe tbody tr th {\n",
       "        vertical-align: top;\n",
       "    }\n",
       "\n",
       "    .dataframe thead th {\n",
       "        text-align: right;\n",
       "    }\n",
       "</style>\n",
       "<table border=\"1\" class=\"dataframe\">\n",
       "  <thead>\n",
       "    <tr style=\"text-align: right;\">\n",
       "      <th></th>\n",
       "      <th>Media URL</th>\n",
       "      <th>City</th>\n",
       "      <th>Country</th>\n",
       "      <th>wkt</th>\n",
       "      <th>normalized_date</th>\n",
       "      <th>Title</th>\n",
       "      <th>Journal Type</th>\n",
       "      <th>City_number</th>\n",
       "    </tr>\n",
       "  </thead>\n",
       "  <tbody>\n",
       "    <tr>\n",
       "      <th>0</th>\n",
       "      <td>https://iiif.unige.ch/dhportal/ug8000019/manifest</td>\n",
       "      <td>Bucharest</td>\n",
       "      <td>Romania</td>\n",
       "      <td>POINT(26.083333333333 44.4)</td>\n",
       "      <td>1930-07-01</td>\n",
       "      <td>Unu</td>\n",
       "      <td>Avant-garde Journal</td>\n",
       "      <td>6</td>\n",
       "    </tr>\n",
       "    <tr>\n",
       "      <th>1</th>\n",
       "      <td>https://iiif.unige.ch/dhportal/ug8001465/manifest</td>\n",
       "      <td>Bucharest</td>\n",
       "      <td>Romania</td>\n",
       "      <td>POINT(26.083333333333 44.4)</td>\n",
       "      <td>1929-11-01</td>\n",
       "      <td>Contemporanul</td>\n",
       "      <td>Avant-garde Journal</td>\n",
       "      <td>6</td>\n",
       "    </tr>\n",
       "    <tr>\n",
       "      <th>2</th>\n",
       "      <td>https://iiif.unige.ch/dhportal/ug8002231/manifest</td>\n",
       "      <td>Bucharest</td>\n",
       "      <td>Romania</td>\n",
       "      <td>POINT(26.083333333333 44.4)</td>\n",
       "      <td>1928-04-01</td>\n",
       "      <td>Integral</td>\n",
       "      <td>Avant-garde Journal</td>\n",
       "      <td>6</td>\n",
       "    </tr>\n",
       "    <tr>\n",
       "      <th>3</th>\n",
       "      <td>https://iiif.unige.ch/dhportal/ug8005624/manifest</td>\n",
       "      <td>Bucharest</td>\n",
       "      <td>Romania</td>\n",
       "      <td>POINT(26.083333333333 44.4)</td>\n",
       "      <td>1925-02-20</td>\n",
       "      <td>Punct</td>\n",
       "      <td>Avant-garde Journal</td>\n",
       "      <td>6</td>\n",
       "    </tr>\n",
       "    <tr>\n",
       "      <th>4</th>\n",
       "      <td>https://iiif.unige.ch/dhportal/ug8022843/manifest</td>\n",
       "      <td>Bucharest</td>\n",
       "      <td>Romania</td>\n",
       "      <td>POINT(26.083333333333 44.4)</td>\n",
       "      <td>1924-11-01</td>\n",
       "      <td>75 HP</td>\n",
       "      <td>NaN</td>\n",
       "      <td>6</td>\n",
       "    </tr>\n",
       "  </tbody>\n",
       "</table>\n",
       "</div>"
      ],
      "text/plain": [
       "                                           Media URL       City  Country  \\\n",
       "0  https://iiif.unige.ch/dhportal/ug8000019/manifest  Bucharest  Romania   \n",
       "1  https://iiif.unige.ch/dhportal/ug8001465/manifest  Bucharest  Romania   \n",
       "2  https://iiif.unige.ch/dhportal/ug8002231/manifest  Bucharest  Romania   \n",
       "3  https://iiif.unige.ch/dhportal/ug8005624/manifest  Bucharest  Romania   \n",
       "4  https://iiif.unige.ch/dhportal/ug8022843/manifest  Bucharest  Romania   \n",
       "\n",
       "                           wkt normalized_date          Title  \\\n",
       "0  POINT(26.083333333333 44.4)      1930-07-01            Unu   \n",
       "1  POINT(26.083333333333 44.4)      1929-11-01  Contemporanul   \n",
       "2  POINT(26.083333333333 44.4)      1928-04-01       Integral   \n",
       "3  POINT(26.083333333333 44.4)      1925-02-20          Punct   \n",
       "4  POINT(26.083333333333 44.4)      1924-11-01          75 HP   \n",
       "\n",
       "          Journal Type  City_number  \n",
       "0  Avant-garde Journal            6  \n",
       "1  Avant-garde Journal            6  \n",
       "2  Avant-garde Journal            6  \n",
       "3  Avant-garde Journal            6  \n",
       "4                  NaN            6  "
      ]
     },
     "execution_count": 34,
     "metadata": {},
     "output_type": "execute_result"
    }
   ],
   "source": [
    "df1.head()"
   ]
  },
  {
   "cell_type": "code",
   "execution_count": 36,
   "id": "9e0ccea7-8571-4ed9-8000-c812a81d2e65",
   "metadata": {},
   "outputs": [],
   "source": [
    "df1.to_csv(\"/Users/carboni/Downloads/cluster_all.csv\", index=False)"
   ]
  },
  {
   "cell_type": "code",
   "execution_count": 15,
   "id": "30de9a21-412d-43cc-b706-359ae2d4b8b8",
   "metadata": {},
   "outputs": [],
   "source": [
    "from nb_search import search_files\n",
    "files = search_files('./PATH')"
   ]
  }
 ],
 "metadata": {
  "kernelspec": {
   "display_name": "Python 3 (ipykernel)",
   "language": "python",
   "name": "python3"
  },
  "language_info": {
   "codemirror_mode": {
    "name": "ipython",
    "version": 3
   },
   "file_extension": ".py",
   "mimetype": "text/x-python",
   "name": "python",
   "nbconvert_exporter": "python",
   "pygments_lexer": "ipython3",
   "version": "3.8.12"
  }
 },
 "nbformat": 4,
 "nbformat_minor": 5
}
