{
 "cells": [
  {
   "cell_type": "code",
   "execution_count": 2,
   "id": "c1a1af5f-8895-49a7-9641-718b7fcc8b8a",
   "metadata": {},
   "outputs": [],
   "source": [
    "import requests\n",
    "import os\n",
    "import subprocess\n",
    "import urllib.request\n",
    "from bs4 import BeautifulSoup\n",
    "import tldextract\n",
    "import time"
   ]
  },
  {
   "cell_type": "markdown",
   "id": "06d17d8c-43ed-4d8d-8222-398ec44379fd",
   "metadata": {
    "tags": []
   },
   "source": [
    "# Downloading images from list"
   ]
  },
  {
   "cell_type": "code",
   "execution_count": null,
   "id": "b2cec635-37eb-4160-b3d3-26a2d372d56d",
   "metadata": {},
   "outputs": [],
   "source": [
    "import urllib.request\n",
    "\n",
    "\n",
    "sleep_time_sec = 1\n",
    "filename = 0\n",
    "\n",
    "for url in image_urls:\n",
    "    time.sleep(sleep_time_sec)\n",
    "    try:\n",
    "        urllib.request.urlretrieve(url, f'{filename}.jpg')\n",
    "        filename += 1\n",
    "        if filename % 50 == 0:\n",
    "            time.sleep(20)\n",
    "            print(f\"10 seconds break  for : {filename}\") \n",
    "        else:\n",
    "            pass\n",
    "    except Exception as exc:\n",
    "        print(f\"Exception occued while downloading image from url {url} {str(exc)}\")"
   ]
  },
  {
   "cell_type": "code",
   "execution_count": null,
   "id": "cab88357-1c21-4d24-b60e-f3471ed3ca7e",
   "metadata": {
    "tags": []
   },
   "outputs": [],
   "source": [
    "j = 100\n",
    "j % 50 == 0\n",
    "\n"
   ]
  },
  {
   "cell_type": "markdown",
   "id": "c9e0f17f-463e-4cef-8634-646d611e3b9b",
   "metadata": {},
   "source": [
    "# Load Csv with an image list"
   ]
  },
  {
   "cell_type": "code",
   "execution_count": 3,
   "id": "1bc7f1be-eae4-491b-8783-c3f4efd77213",
   "metadata": {},
   "outputs": [],
   "source": [
    "import pandas as pd\n",
    "df = pd.read_csv(\"/Users/carboni/Downloads/painting_post_1870.csv\")"
   ]
  },
  {
   "cell_type": "code",
   "execution_count": null,
   "id": "d2586a0d-263a-4901-a274-915960cd6299",
   "metadata": {},
   "outputs": [],
   "source": [
    "# Extract the list from the column image"
   ]
  },
  {
   "cell_type": "code",
   "execution_count": 7,
   "id": "d522db38-7695-4a9d-b7fe-82d5c3e438a8",
   "metadata": {},
   "outputs": [],
   "source": [
    "image_urls = df['image'].tolist()"
   ]
  },
  {
   "cell_type": "markdown",
   "id": "5bc951cf-89f6-45ea-84ff-fa5a5c739602",
   "metadata": {},
   "source": [
    "# filename as UUID (hash of the url)"
   ]
  },
  {
   "cell_type": "code",
   "execution_count": null,
   "id": "d47d4eb4-e6d9-4953-9797-0ee912ea7d9e",
   "metadata": {},
   "outputs": [],
   "source": [
    "import urllib.request\n",
    "import uuid\n",
    "\n",
    "sleep_time_sec = 1\n",
    "filename = 0\n",
    "\n",
    "for url in image_urls:\n",
    "    time.sleep(sleep_time_sec)\n",
    "    ident = uuid.uuid3(uuid.NAMESPACE_DNS, url)\n",
    "    try:\n",
    "        urllib.request.urlretrieve(url, f'{ident}.jpg')\n",
    "    except Exception as exc:\n",
    "        print(f\"Exception occured while downloading image from url {url} {str(exc)}\")"
   ]
  },
  {
   "cell_type": "code",
   "execution_count": null,
   "id": "2aa12ef4-c825-47b0-aad0-58fec71bfb88",
   "metadata": {},
   "outputs": [],
   "source": []
  }
 ],
 "metadata": {
  "kernelspec": {
   "display_name": "jupyter",
   "language": "python",
   "name": "jupyter"
  },
  "language_info": {
   "codemirror_mode": {
    "name": "ipython",
    "version": 3
   },
   "file_extension": ".py",
   "mimetype": "text/x-python",
   "name": "python",
   "nbconvert_exporter": "python",
   "pygments_lexer": "ipython3",
   "version": "3.8.12"
  }
 },
 "nbformat": 4,
 "nbformat_minor": 5
}
