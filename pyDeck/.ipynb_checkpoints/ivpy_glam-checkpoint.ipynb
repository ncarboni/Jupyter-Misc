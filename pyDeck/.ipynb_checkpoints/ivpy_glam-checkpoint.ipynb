{
 "cells": [
  {
   "cell_type": "markdown",
   "id": "3737d98e-3229-4e4b-9295-8e845d563669",
   "metadata": {},
   "source": [
    "## From cluster extraction to cartography"
   ]
  },
  {
   "cell_type": "code",
   "execution_count": 1,
   "id": "a2a04971-9a95-4b94-a4a2-64754a6bd496",
   "metadata": {
    "tags": []
   },
   "outputs": [],
   "source": [
    "import pydeck as pdk\n",
    "import pandas as pd\n",
    "from shapely.wkt import loads\n",
    "import numpy as np"
   ]
  },
  {
   "cell_type": "markdown",
   "id": "02baf5a6-987c-4a09-bcb8-a24ca39802f6",
   "metadata": {},
   "source": [
    "### Load the cluster information"
   ]
  },
  {
   "cell_type": "code",
   "execution_count": 12,
   "id": "6ce43d15-8136-40c8-bbe8-caeea128e954",
   "metadata": {},
   "outputs": [],
   "source": [
    "df = pd.read_csv('/Users/carboni/Downloads/corpus-112_images_2023-09-21_1139.csv', low_memory=False)"
   ]
  },
  {
   "cell_type": "markdown",
   "id": "edcde78a-f463-47a5-a922-0ffc834997a3",
   "metadata": {},
   "source": [
    "### Eliminate NaN from the column WKT and the column City"
   ]
  },
  {
   "cell_type": "code",
   "execution_count": 13,
   "id": "298d6fd2-2460-49d3-a8ce-f97a9a63e09e",
   "metadata": {},
   "outputs": [],
   "source": [
    "df = df.dropna(subset=['City'])"
   ]
  },
  {
   "cell_type": "code",
   "execution_count": 14,
   "id": "11ba325e-adc0-4ef6-bc5b-1a4fc43f2f96",
   "metadata": {},
   "outputs": [],
   "source": [
    "df['wkt'] = df['wkt'].astype(str)"
   ]
  },
  {
   "cell_type": "code",
   "execution_count": 15,
   "id": "fc3dbe0c-2c85-4601-a3f5-4a821e2e9fa3",
   "metadata": {},
   "outputs": [],
   "source": [
    "not_contains_point = df['wkt'].apply(lambda x: 'POINT(' not in x)"
   ]
  },
  {
   "cell_type": "code",
   "execution_count": 16,
   "id": "b1d9a8a9-879e-499d-b535-2f06f8b529ea",
   "metadata": {},
   "outputs": [],
   "source": [
    "result = df[not_contains_point]"
   ]
  },
  {
   "cell_type": "code",
   "execution_count": 17,
   "id": "3ac91afd-bd0a-4337-bf9e-0ce5aa84de80",
   "metadata": {},
   "outputs": [],
   "source": [
    "result.to_csv('nan_wkt.csv', index=False)"
   ]
  },
  {
   "cell_type": "code",
   "execution_count": 18,
   "id": "bc645cd1-ebc9-4c2b-a285-27cad2c36b9c",
   "metadata": {},
   "outputs": [],
   "source": [
    "df = df[~df['wkt'].str.contains('nan')]"
   ]
  },
  {
   "cell_type": "markdown",
   "id": "8101c4a9-f9c4-4948-8add-3a03fd8e8719",
   "metadata": {},
   "source": [
    "### Count the number of cities"
   ]
  },
  {
   "cell_type": "code",
   "execution_count": 9,
   "id": "b25584ed-6366-47f0-9c01-1049f00c39a9",
   "metadata": {},
   "outputs": [],
   "source": [
    "#df = df.drop(columns=['manifest_url', 'canvas_number','notice'])"
   ]
  },
  {
   "cell_type": "code",
   "execution_count": 10,
   "id": "593462cd-8485-405f-9f5f-b29297e31d86",
   "metadata": {},
   "outputs": [],
   "source": [
    "#df = df.drop(columns=['image_url'])"
   ]
  },
  {
   "cell_type": "code",
   "execution_count": 19,
   "id": "ee44acd5-56db-42e5-8d2e-d58e7060b8fe",
   "metadata": {},
   "outputs": [],
   "source": [
    "df['city_number'] = df.groupby(['City', 'Country'])['City'].transform('count')"
   ]
  },
  {
   "cell_type": "code",
   "execution_count": null,
   "id": "3a66ee59-d501-485d-80b9-b0b596bc11c2",
   "metadata": {},
   "outputs": [],
   "source": [
    "# too heavy\n",
    "#df['Titles_in_City'] = df.groupby('City')['Title'].transform(lambda x: ','.join(x.unique()))"
   ]
  },
  {
   "cell_type": "code",
   "execution_count": 20,
   "id": "eefdac28-0f92-405e-8ca4-4eeb80c5bec8",
   "metadata": {},
   "outputs": [
    {
     "data": {
      "text/html": [
       "<div>\n",
       "<style scoped>\n",
       "    .dataframe tbody tr th:only-of-type {\n",
       "        vertical-align: middle;\n",
       "    }\n",
       "\n",
       "    .dataframe tbody tr th {\n",
       "        vertical-align: top;\n",
       "    }\n",
       "\n",
       "    .dataframe thead th {\n",
       "        text-align: right;\n",
       "    }\n",
       "</style>\n",
       "<table border=\"1\" class=\"dataframe\">\n",
       "  <thead>\n",
       "    <tr style=\"text-align: right;\">\n",
       "      <th></th>\n",
       "      <th>manifest_url</th>\n",
       "      <th>canvas_number</th>\n",
       "      <th>image_url</th>\n",
       "      <th>City</th>\n",
       "      <th>Country</th>\n",
       "      <th>Title</th>\n",
       "      <th>wkt</th>\n",
       "      <th>Date</th>\n",
       "      <th>Journal Type</th>\n",
       "      <th>notice</th>\n",
       "      <th>city_number</th>\n",
       "    </tr>\n",
       "  </thead>\n",
       "  <tbody>\n",
       "    <tr>\n",
       "      <th>1</th>\n",
       "      <td>https://iiif.unige.ch/dhportal/ug8096214/manifest</td>\n",
       "      <td>0.0</td>\n",
       "      <td>https://iiif.unige.ch/iiif/2/fedora_ug8064419/...</td>\n",
       "      <td>Tokyo</td>\n",
       "      <td>Japan</td>\n",
       "      <td>FLIX</td>\n",
       "      <td>POINT(139.69222222222 35.689722222222)</td>\n",
       "      <td>2010-06-01</td>\n",
       "      <td>Cinema</td>\n",
       "      <td>NaN</td>\n",
       "      <td>5866</td>\n",
       "    </tr>\n",
       "    <tr>\n",
       "      <th>2</th>\n",
       "      <td>https://iiif.unige.ch/dhportal/ug8054362/manifest</td>\n",
       "      <td>0.0</td>\n",
       "      <td>https://iiif.unige.ch/iiif/2/fedora_ug8059238/...</td>\n",
       "      <td>Tokyo</td>\n",
       "      <td>Japan</td>\n",
       "      <td>FLIX</td>\n",
       "      <td>POINT(139.69222222222 35.689722222222)</td>\n",
       "      <td>2013-08-01</td>\n",
       "      <td>Cinema</td>\n",
       "      <td>NaN</td>\n",
       "      <td>5866</td>\n",
       "    </tr>\n",
       "    <tr>\n",
       "      <th>3</th>\n",
       "      <td>https://iiif.unige.ch/dhportal/ug8079451/manifest</td>\n",
       "      <td>0.0</td>\n",
       "      <td>https://iiif.unige.ch/iiif/2/fedora_ug8102867/...</td>\n",
       "      <td>Kyiv</td>\n",
       "      <td>Ukraine</td>\n",
       "      <td>KINO</td>\n",
       "      <td>POINT(30.523611111111 50.45)</td>\n",
       "      <td>1933-05-10</td>\n",
       "      <td>Cinema</td>\n",
       "      <td>NaN</td>\n",
       "      <td>404</td>\n",
       "    </tr>\n",
       "    <tr>\n",
       "      <th>4</th>\n",
       "      <td>https://iiif.unige.ch/dhportal/ug8043206/manifest</td>\n",
       "      <td>0.0</td>\n",
       "      <td>https://iiif.unige.ch/iiif/2/fedora_ug8068266/...</td>\n",
       "      <td>Moscow</td>\n",
       "      <td>Russia</td>\n",
       "      <td>Brigada khudozhnikov</td>\n",
       "      <td>POINT(37.617777777778 55.755833333333)</td>\n",
       "      <td>NaN</td>\n",
       "      <td>NaN</td>\n",
       "      <td>NaN</td>\n",
       "      <td>1359</td>\n",
       "    </tr>\n",
       "    <tr>\n",
       "      <th>5</th>\n",
       "      <td>https://iiif.unige.ch/dhportal/ug410612/manifest</td>\n",
       "      <td>0.0</td>\n",
       "      <td>https://iiif.unige.ch/iiif/2/visualcontagions/...</td>\n",
       "      <td>Hamburg</td>\n",
       "      <td>Germany</td>\n",
       "      <td>Der Spiegel</td>\n",
       "      <td>POINT(10 53.55)</td>\n",
       "      <td>2020-10-26</td>\n",
       "      <td>NaN</td>\n",
       "      <td>NaN</td>\n",
       "      <td>6840</td>\n",
       "    </tr>\n",
       "  </tbody>\n",
       "</table>\n",
       "</div>"
      ],
      "text/plain": [
       "                                        manifest_url  canvas_number  \\\n",
       "1  https://iiif.unige.ch/dhportal/ug8096214/manifest            0.0   \n",
       "2  https://iiif.unige.ch/dhportal/ug8054362/manifest            0.0   \n",
       "3  https://iiif.unige.ch/dhportal/ug8079451/manifest            0.0   \n",
       "4  https://iiif.unige.ch/dhportal/ug8043206/manifest            0.0   \n",
       "5   https://iiif.unige.ch/dhportal/ug410612/manifest            0.0   \n",
       "\n",
       "                                           image_url     City  Country  \\\n",
       "1  https://iiif.unige.ch/iiif/2/fedora_ug8064419/...    Tokyo    Japan   \n",
       "2  https://iiif.unige.ch/iiif/2/fedora_ug8059238/...    Tokyo    Japan   \n",
       "3  https://iiif.unige.ch/iiif/2/fedora_ug8102867/...     Kyiv  Ukraine   \n",
       "4  https://iiif.unige.ch/iiif/2/fedora_ug8068266/...   Moscow   Russia   \n",
       "5  https://iiif.unige.ch/iiif/2/visualcontagions/...  Hamburg  Germany   \n",
       "\n",
       "                  Title                                     wkt        Date  \\\n",
       "1                  FLIX  POINT(139.69222222222 35.689722222222)  2010-06-01   \n",
       "2                  FLIX  POINT(139.69222222222 35.689722222222)  2013-08-01   \n",
       "3                  KINO            POINT(30.523611111111 50.45)  1933-05-10   \n",
       "4  Brigada khudozhnikov  POINT(37.617777777778 55.755833333333)         NaN   \n",
       "5           Der Spiegel                         POINT(10 53.55)  2020-10-26   \n",
       "\n",
       "  Journal Type  notice  city_number  \n",
       "1       Cinema     NaN         5866  \n",
       "2       Cinema     NaN         5866  \n",
       "3       Cinema     NaN          404  \n",
       "4          NaN     NaN         1359  \n",
       "5          NaN     NaN         6840  "
      ]
     },
     "execution_count": 20,
     "metadata": {},
     "output_type": "execute_result"
    }
   ],
   "source": [
    "df.head()"
   ]
  },
  {
   "cell_type": "markdown",
   "id": "cf172410-d19e-435b-9413-9bc5c9819dab",
   "metadata": {},
   "source": [
    "### Check if there are some decimal coordinates"
   ]
  },
  {
   "cell_type": "code",
   "execution_count": 21,
   "id": "9311d3e4-4014-4a65-9430-2de06231acd1",
   "metadata": {},
   "outputs": [],
   "source": [
    "df1 = df[~df['wkt'].str.contains('POINT')]"
   ]
  },
  {
   "cell_type": "code",
   "execution_count": 22,
   "id": "cee310aa-0b11-4f04-a9d7-931fb6e01b18",
   "metadata": {},
   "outputs": [
    {
     "data": {
      "text/html": [
       "<div>\n",
       "<style scoped>\n",
       "    .dataframe tbody tr th:only-of-type {\n",
       "        vertical-align: middle;\n",
       "    }\n",
       "\n",
       "    .dataframe tbody tr th {\n",
       "        vertical-align: top;\n",
       "    }\n",
       "\n",
       "    .dataframe thead th {\n",
       "        text-align: right;\n",
       "    }\n",
       "</style>\n",
       "<table border=\"1\" class=\"dataframe\">\n",
       "  <thead>\n",
       "    <tr style=\"text-align: right;\">\n",
       "      <th></th>\n",
       "      <th>manifest_url</th>\n",
       "      <th>canvas_number</th>\n",
       "      <th>image_url</th>\n",
       "      <th>City</th>\n",
       "      <th>Country</th>\n",
       "      <th>Title</th>\n",
       "      <th>wkt</th>\n",
       "      <th>Date</th>\n",
       "      <th>Journal Type</th>\n",
       "      <th>notice</th>\n",
       "      <th>city_number</th>\n",
       "    </tr>\n",
       "  </thead>\n",
       "  <tbody>\n",
       "  </tbody>\n",
       "</table>\n",
       "</div>"
      ],
      "text/plain": [
       "Empty DataFrame\n",
       "Columns: [manifest_url, canvas_number, image_url, City, Country, Title, wkt, Date, Journal Type, notice, city_number]\n",
       "Index: []"
      ]
     },
     "execution_count": 22,
     "metadata": {},
     "output_type": "execute_result"
    }
   ],
   "source": [
    "df1.head()"
   ]
  },
  {
   "cell_type": "code",
   "execution_count": null,
   "id": "cf6e910f-4fda-49b0-8967-8c5ef6a2a7f9",
   "metadata": {},
   "outputs": [],
   "source": [
    "df1.info()"
   ]
  },
  {
   "cell_type": "markdown",
   "id": "68a26af3-278d-4e07-929a-b90d0fdc9c6b",
   "metadata": {
    "jp-MarkdownHeadingCollapsed": true,
    "tags": []
   },
   "source": [
    "#### If there are coordinates in decimal, use the 2 cells below"
   ]
  },
  {
   "cell_type": "code",
   "execution_count": null,
   "id": "8c37d145-8142-45a3-a8e5-7366297fde37",
   "metadata": {},
   "outputs": [],
   "source": [
    "def convert_decimal_to_wkt(value):\n",
    "    try:\n",
    "        lat, lon = value.split(',')\n",
    "        return f'POINT({lat} {lon})'\n",
    "    except:\n",
    "        return value"
   ]
  },
  {
   "cell_type": "code",
   "execution_count": null,
   "id": "3c929c10-d265-4b1f-be86-e842a0cf8a07",
   "metadata": {},
   "outputs": [],
   "source": [
    "df['wkt'] = df['wkt'].apply(convert_decimal_to_wkt)"
   ]
  },
  {
   "cell_type": "markdown",
   "id": "777f15c9-a4a3-4528-be75-a5d1edd57487",
   "metadata": {},
   "source": [
    "### Transform WKT into geometry and extract coordinates"
   ]
  },
  {
   "cell_type": "code",
   "execution_count": 23,
   "id": "134ba29f-f31a-4395-b850-8857c4905c5c",
   "metadata": {},
   "outputs": [],
   "source": [
    "df['geometry'] = df['wkt'].apply(loads)"
   ]
  },
  {
   "cell_type": "code",
   "execution_count": 24,
   "id": "5856f9e8-dd7d-40ef-a4cb-a3c295da2119",
   "metadata": {},
   "outputs": [],
   "source": [
    "df['latitude'] = df['geometry'].apply(lambda geom: geom.y)\n",
    "df['longitude'] = df['geometry'].apply(lambda geom: geom.x)"
   ]
  },
  {
   "cell_type": "code",
   "execution_count": 25,
   "id": "f28ce63b-da80-4ffc-a072-040882ad96a3",
   "metadata": {},
   "outputs": [
    {
     "data": {
      "text/html": [
       "<div>\n",
       "<style scoped>\n",
       "    .dataframe tbody tr th:only-of-type {\n",
       "        vertical-align: middle;\n",
       "    }\n",
       "\n",
       "    .dataframe tbody tr th {\n",
       "        vertical-align: top;\n",
       "    }\n",
       "\n",
       "    .dataframe thead th {\n",
       "        text-align: right;\n",
       "    }\n",
       "</style>\n",
       "<table border=\"1\" class=\"dataframe\">\n",
       "  <thead>\n",
       "    <tr style=\"text-align: right;\">\n",
       "      <th></th>\n",
       "      <th>manifest_url</th>\n",
       "      <th>canvas_number</th>\n",
       "      <th>image_url</th>\n",
       "      <th>City</th>\n",
       "      <th>Country</th>\n",
       "      <th>Title</th>\n",
       "      <th>wkt</th>\n",
       "      <th>Date</th>\n",
       "      <th>Journal Type</th>\n",
       "      <th>notice</th>\n",
       "      <th>city_number</th>\n",
       "      <th>geometry</th>\n",
       "      <th>latitude</th>\n",
       "      <th>longitude</th>\n",
       "    </tr>\n",
       "  </thead>\n",
       "  <tbody>\n",
       "    <tr>\n",
       "      <th>1</th>\n",
       "      <td>https://iiif.unige.ch/dhportal/ug8096214/manifest</td>\n",
       "      <td>0.0</td>\n",
       "      <td>https://iiif.unige.ch/iiif/2/fedora_ug8064419/...</td>\n",
       "      <td>Tokyo</td>\n",
       "      <td>Japan</td>\n",
       "      <td>FLIX</td>\n",
       "      <td>POINT(139.69222222222 35.689722222222)</td>\n",
       "      <td>2010-06-01</td>\n",
       "      <td>Cinema</td>\n",
       "      <td>NaN</td>\n",
       "      <td>5866</td>\n",
       "      <td>POINT (139.69222222222 35.689722222222)</td>\n",
       "      <td>35.689722</td>\n",
       "      <td>139.692222</td>\n",
       "    </tr>\n",
       "    <tr>\n",
       "      <th>2</th>\n",
       "      <td>https://iiif.unige.ch/dhportal/ug8054362/manifest</td>\n",
       "      <td>0.0</td>\n",
       "      <td>https://iiif.unige.ch/iiif/2/fedora_ug8059238/...</td>\n",
       "      <td>Tokyo</td>\n",
       "      <td>Japan</td>\n",
       "      <td>FLIX</td>\n",
       "      <td>POINT(139.69222222222 35.689722222222)</td>\n",
       "      <td>2013-08-01</td>\n",
       "      <td>Cinema</td>\n",
       "      <td>NaN</td>\n",
       "      <td>5866</td>\n",
       "      <td>POINT (139.69222222222 35.689722222222)</td>\n",
       "      <td>35.689722</td>\n",
       "      <td>139.692222</td>\n",
       "    </tr>\n",
       "    <tr>\n",
       "      <th>3</th>\n",
       "      <td>https://iiif.unige.ch/dhportal/ug8079451/manifest</td>\n",
       "      <td>0.0</td>\n",
       "      <td>https://iiif.unige.ch/iiif/2/fedora_ug8102867/...</td>\n",
       "      <td>Kyiv</td>\n",
       "      <td>Ukraine</td>\n",
       "      <td>KINO</td>\n",
       "      <td>POINT(30.523611111111 50.45)</td>\n",
       "      <td>1933-05-10</td>\n",
       "      <td>Cinema</td>\n",
       "      <td>NaN</td>\n",
       "      <td>404</td>\n",
       "      <td>POINT (30.523611111111 50.45)</td>\n",
       "      <td>50.450000</td>\n",
       "      <td>30.523611</td>\n",
       "    </tr>\n",
       "    <tr>\n",
       "      <th>4</th>\n",
       "      <td>https://iiif.unige.ch/dhportal/ug8043206/manifest</td>\n",
       "      <td>0.0</td>\n",
       "      <td>https://iiif.unige.ch/iiif/2/fedora_ug8068266/...</td>\n",
       "      <td>Moscow</td>\n",
       "      <td>Russia</td>\n",
       "      <td>Brigada khudozhnikov</td>\n",
       "      <td>POINT(37.617777777778 55.755833333333)</td>\n",
       "      <td>NaN</td>\n",
       "      <td>NaN</td>\n",
       "      <td>NaN</td>\n",
       "      <td>1359</td>\n",
       "      <td>POINT (37.617777777778 55.755833333333)</td>\n",
       "      <td>55.755833</td>\n",
       "      <td>37.617778</td>\n",
       "    </tr>\n",
       "    <tr>\n",
       "      <th>5</th>\n",
       "      <td>https://iiif.unige.ch/dhportal/ug410612/manifest</td>\n",
       "      <td>0.0</td>\n",
       "      <td>https://iiif.unige.ch/iiif/2/visualcontagions/...</td>\n",
       "      <td>Hamburg</td>\n",
       "      <td>Germany</td>\n",
       "      <td>Der Spiegel</td>\n",
       "      <td>POINT(10 53.55)</td>\n",
       "      <td>2020-10-26</td>\n",
       "      <td>NaN</td>\n",
       "      <td>NaN</td>\n",
       "      <td>6840</td>\n",
       "      <td>POINT (10 53.55)</td>\n",
       "      <td>53.550000</td>\n",
       "      <td>10.000000</td>\n",
       "    </tr>\n",
       "  </tbody>\n",
       "</table>\n",
       "</div>"
      ],
      "text/plain": [
       "                                        manifest_url  canvas_number  \\\n",
       "1  https://iiif.unige.ch/dhportal/ug8096214/manifest            0.0   \n",
       "2  https://iiif.unige.ch/dhportal/ug8054362/manifest            0.0   \n",
       "3  https://iiif.unige.ch/dhportal/ug8079451/manifest            0.0   \n",
       "4  https://iiif.unige.ch/dhportal/ug8043206/manifest            0.0   \n",
       "5   https://iiif.unige.ch/dhportal/ug410612/manifest            0.0   \n",
       "\n",
       "                                           image_url     City  Country  \\\n",
       "1  https://iiif.unige.ch/iiif/2/fedora_ug8064419/...    Tokyo    Japan   \n",
       "2  https://iiif.unige.ch/iiif/2/fedora_ug8059238/...    Tokyo    Japan   \n",
       "3  https://iiif.unige.ch/iiif/2/fedora_ug8102867/...     Kyiv  Ukraine   \n",
       "4  https://iiif.unige.ch/iiif/2/fedora_ug8068266/...   Moscow   Russia   \n",
       "5  https://iiif.unige.ch/iiif/2/visualcontagions/...  Hamburg  Germany   \n",
       "\n",
       "                  Title                                     wkt        Date  \\\n",
       "1                  FLIX  POINT(139.69222222222 35.689722222222)  2010-06-01   \n",
       "2                  FLIX  POINT(139.69222222222 35.689722222222)  2013-08-01   \n",
       "3                  KINO            POINT(30.523611111111 50.45)  1933-05-10   \n",
       "4  Brigada khudozhnikov  POINT(37.617777777778 55.755833333333)         NaN   \n",
       "5           Der Spiegel                         POINT(10 53.55)  2020-10-26   \n",
       "\n",
       "  Journal Type  notice  city_number                                 geometry  \\\n",
       "1       Cinema     NaN         5866  POINT (139.69222222222 35.689722222222)   \n",
       "2       Cinema     NaN         5866  POINT (139.69222222222 35.689722222222)   \n",
       "3       Cinema     NaN          404            POINT (30.523611111111 50.45)   \n",
       "4          NaN     NaN         1359  POINT (37.617777777778 55.755833333333)   \n",
       "5          NaN     NaN         6840                         POINT (10 53.55)   \n",
       "\n",
       "    latitude   longitude  \n",
       "1  35.689722  139.692222  \n",
       "2  35.689722  139.692222  \n",
       "3  50.450000   30.523611  \n",
       "4  55.755833   37.617778  \n",
       "5  53.550000   10.000000  "
      ]
     },
     "execution_count": 25,
     "metadata": {},
     "output_type": "execute_result"
    }
   ],
   "source": [
    "df.head()"
   ]
  },
  {
   "cell_type": "code",
   "execution_count": 26,
   "id": "0491f2a3-1f9f-449b-99fd-87a1ce989ed2",
   "metadata": {},
   "outputs": [],
   "source": [
    "df_no_duplicates = df.drop_duplicates(subset=['City', 'Country'])"
   ]
  },
  {
   "cell_type": "code",
   "execution_count": 28,
   "id": "b0e76e53-753d-4954-bb71-8d255c6fc28d",
   "metadata": {},
   "outputs": [],
   "source": [
    "df_no_duplicates = df_no_duplicates.drop(columns=['geometry', 'Title', 'wkt', 'Journal Type', 'Date'])"
   ]
  },
  {
   "cell_type": "code",
   "execution_count": 30,
   "id": "bbd2f4bd-c308-41c8-b34b-641a4147306e",
   "metadata": {},
   "outputs": [],
   "source": [
    "df_no_duplicates = df_no_duplicates.reset_index(drop=True)"
   ]
  },
  {
   "cell_type": "code",
   "execution_count": 31,
   "id": "b8924633-ed23-42eb-ad72-7aec27213cb9",
   "metadata": {},
   "outputs": [
    {
     "data": {
      "text/html": [
       "<div>\n",
       "<style scoped>\n",
       "    .dataframe tbody tr th:only-of-type {\n",
       "        vertical-align: middle;\n",
       "    }\n",
       "\n",
       "    .dataframe tbody tr th {\n",
       "        vertical-align: top;\n",
       "    }\n",
       "\n",
       "    .dataframe thead th {\n",
       "        text-align: right;\n",
       "    }\n",
       "</style>\n",
       "<table border=\"1\" class=\"dataframe\">\n",
       "  <thead>\n",
       "    <tr style=\"text-align: right;\">\n",
       "      <th></th>\n",
       "      <th>manifest_url</th>\n",
       "      <th>canvas_number</th>\n",
       "      <th>image_url</th>\n",
       "      <th>City</th>\n",
       "      <th>Country</th>\n",
       "      <th>notice</th>\n",
       "      <th>city_number</th>\n",
       "      <th>latitude</th>\n",
       "      <th>longitude</th>\n",
       "    </tr>\n",
       "  </thead>\n",
       "  <tbody>\n",
       "    <tr>\n",
       "      <th>0</th>\n",
       "      <td>https://iiif.unige.ch/dhportal/ug8096214/manifest</td>\n",
       "      <td>0.0</td>\n",
       "      <td>https://iiif.unige.ch/iiif/2/fedora_ug8064419/...</td>\n",
       "      <td>Tokyo</td>\n",
       "      <td>Japan</td>\n",
       "      <td>NaN</td>\n",
       "      <td>5866</td>\n",
       "      <td>35.689722</td>\n",
       "      <td>139.692222</td>\n",
       "    </tr>\n",
       "    <tr>\n",
       "      <th>1</th>\n",
       "      <td>https://iiif.unige.ch/dhportal/ug8079451/manifest</td>\n",
       "      <td>0.0</td>\n",
       "      <td>https://iiif.unige.ch/iiif/2/fedora_ug8102867/...</td>\n",
       "      <td>Kyiv</td>\n",
       "      <td>Ukraine</td>\n",
       "      <td>NaN</td>\n",
       "      <td>404</td>\n",
       "      <td>50.450000</td>\n",
       "      <td>30.523611</td>\n",
       "    </tr>\n",
       "    <tr>\n",
       "      <th>2</th>\n",
       "      <td>https://iiif.unige.ch/dhportal/ug8043206/manifest</td>\n",
       "      <td>0.0</td>\n",
       "      <td>https://iiif.unige.ch/iiif/2/fedora_ug8068266/...</td>\n",
       "      <td>Moscow</td>\n",
       "      <td>Russia</td>\n",
       "      <td>NaN</td>\n",
       "      <td>1359</td>\n",
       "      <td>55.755833</td>\n",
       "      <td>37.617778</td>\n",
       "    </tr>\n",
       "    <tr>\n",
       "      <th>3</th>\n",
       "      <td>https://iiif.unige.ch/dhportal/ug410612/manifest</td>\n",
       "      <td>0.0</td>\n",
       "      <td>https://iiif.unige.ch/iiif/2/visualcontagions/...</td>\n",
       "      <td>Hamburg</td>\n",
       "      <td>Germany</td>\n",
       "      <td>NaN</td>\n",
       "      <td>6840</td>\n",
       "      <td>53.550000</td>\n",
       "      <td>10.000000</td>\n",
       "    </tr>\n",
       "    <tr>\n",
       "      <th>4</th>\n",
       "      <td>https://iiif.archivelab.org/iiif/MovieStarsPar...</td>\n",
       "      <td>NaN</td>\n",
       "      <td>https://iiif.archivelab.org/iiif/MovieStarsPar...</td>\n",
       "      <td>New York City</td>\n",
       "      <td>United States of America</td>\n",
       "      <td>NaN</td>\n",
       "      <td>405445</td>\n",
       "      <td>40.700000</td>\n",
       "      <td>-74.000000</td>\n",
       "    </tr>\n",
       "  </tbody>\n",
       "</table>\n",
       "</div>"
      ],
      "text/plain": [
       "                                        manifest_url  canvas_number  \\\n",
       "0  https://iiif.unige.ch/dhportal/ug8096214/manifest            0.0   \n",
       "1  https://iiif.unige.ch/dhportal/ug8079451/manifest            0.0   \n",
       "2  https://iiif.unige.ch/dhportal/ug8043206/manifest            0.0   \n",
       "3   https://iiif.unige.ch/dhportal/ug410612/manifest            0.0   \n",
       "4  https://iiif.archivelab.org/iiif/MovieStarsPar...            NaN   \n",
       "\n",
       "                                           image_url           City  \\\n",
       "0  https://iiif.unige.ch/iiif/2/fedora_ug8064419/...          Tokyo   \n",
       "1  https://iiif.unige.ch/iiif/2/fedora_ug8102867/...           Kyiv   \n",
       "2  https://iiif.unige.ch/iiif/2/fedora_ug8068266/...         Moscow   \n",
       "3  https://iiif.unige.ch/iiif/2/visualcontagions/...        Hamburg   \n",
       "4  https://iiif.archivelab.org/iiif/MovieStarsPar...  New York City   \n",
       "\n",
       "                    Country  notice  city_number   latitude   longitude  \n",
       "0                     Japan     NaN         5866  35.689722  139.692222  \n",
       "1                   Ukraine     NaN          404  50.450000   30.523611  \n",
       "2                    Russia     NaN         1359  55.755833   37.617778  \n",
       "3                   Germany     NaN         6840  53.550000   10.000000  \n",
       "4  United States of America     NaN       405445  40.700000  -74.000000  "
      ]
     },
     "execution_count": 31,
     "metadata": {},
     "output_type": "execute_result"
    }
   ],
   "source": [
    "df_no_duplicates.head()"
   ]
  },
  {
   "cell_type": "code",
   "execution_count": 33,
   "id": "9ac75dc3-3ede-400a-8370-0a11629e136e",
   "metadata": {},
   "outputs": [],
   "source": [
    "df_no_duplicates['normalized_counts'] = np.log(df_no_duplicates['city_number'])"
   ]
  },
  {
   "cell_type": "code",
   "execution_count": 34,
   "id": "6198ced9-df0e-4a75-be7e-fafddc5ce56f",
   "metadata": {},
   "outputs": [
    {
     "data": {
      "text/html": [
       "<div>\n",
       "<style scoped>\n",
       "    .dataframe tbody tr th:only-of-type {\n",
       "        vertical-align: middle;\n",
       "    }\n",
       "\n",
       "    .dataframe tbody tr th {\n",
       "        vertical-align: top;\n",
       "    }\n",
       "\n",
       "    .dataframe thead th {\n",
       "        text-align: right;\n",
       "    }\n",
       "</style>\n",
       "<table border=\"1\" class=\"dataframe\">\n",
       "  <thead>\n",
       "    <tr style=\"text-align: right;\">\n",
       "      <th></th>\n",
       "      <th>manifest_url</th>\n",
       "      <th>canvas_number</th>\n",
       "      <th>image_url</th>\n",
       "      <th>City</th>\n",
       "      <th>Country</th>\n",
       "      <th>notice</th>\n",
       "      <th>city_number</th>\n",
       "      <th>latitude</th>\n",
       "      <th>longitude</th>\n",
       "      <th>normalized_counts</th>\n",
       "    </tr>\n",
       "  </thead>\n",
       "  <tbody>\n",
       "    <tr>\n",
       "      <th>0</th>\n",
       "      <td>https://iiif.unige.ch/dhportal/ug8096214/manifest</td>\n",
       "      <td>0.0</td>\n",
       "      <td>https://iiif.unige.ch/iiif/2/fedora_ug8064419/...</td>\n",
       "      <td>Tokyo</td>\n",
       "      <td>Japan</td>\n",
       "      <td>NaN</td>\n",
       "      <td>5866</td>\n",
       "      <td>35.689722</td>\n",
       "      <td>139.692222</td>\n",
       "      <td>8.676928</td>\n",
       "    </tr>\n",
       "    <tr>\n",
       "      <th>1</th>\n",
       "      <td>https://iiif.unige.ch/dhportal/ug8079451/manifest</td>\n",
       "      <td>0.0</td>\n",
       "      <td>https://iiif.unige.ch/iiif/2/fedora_ug8102867/...</td>\n",
       "      <td>Kyiv</td>\n",
       "      <td>Ukraine</td>\n",
       "      <td>NaN</td>\n",
       "      <td>404</td>\n",
       "      <td>50.450000</td>\n",
       "      <td>30.523611</td>\n",
       "      <td>6.001415</td>\n",
       "    </tr>\n",
       "    <tr>\n",
       "      <th>2</th>\n",
       "      <td>https://iiif.unige.ch/dhportal/ug8043206/manifest</td>\n",
       "      <td>0.0</td>\n",
       "      <td>https://iiif.unige.ch/iiif/2/fedora_ug8068266/...</td>\n",
       "      <td>Moscow</td>\n",
       "      <td>Russia</td>\n",
       "      <td>NaN</td>\n",
       "      <td>1359</td>\n",
       "      <td>55.755833</td>\n",
       "      <td>37.617778</td>\n",
       "      <td>7.214504</td>\n",
       "    </tr>\n",
       "    <tr>\n",
       "      <th>3</th>\n",
       "      <td>https://iiif.unige.ch/dhportal/ug410612/manifest</td>\n",
       "      <td>0.0</td>\n",
       "      <td>https://iiif.unige.ch/iiif/2/visualcontagions/...</td>\n",
       "      <td>Hamburg</td>\n",
       "      <td>Germany</td>\n",
       "      <td>NaN</td>\n",
       "      <td>6840</td>\n",
       "      <td>53.550000</td>\n",
       "      <td>10.000000</td>\n",
       "      <td>8.830543</td>\n",
       "    </tr>\n",
       "    <tr>\n",
       "      <th>4</th>\n",
       "      <td>https://iiif.archivelab.org/iiif/MovieStarsPar...</td>\n",
       "      <td>NaN</td>\n",
       "      <td>https://iiif.archivelab.org/iiif/MovieStarsPar...</td>\n",
       "      <td>New York City</td>\n",
       "      <td>United States of America</td>\n",
       "      <td>NaN</td>\n",
       "      <td>405445</td>\n",
       "      <td>40.700000</td>\n",
       "      <td>-74.000000</td>\n",
       "      <td>12.912741</td>\n",
       "    </tr>\n",
       "  </tbody>\n",
       "</table>\n",
       "</div>"
      ],
      "text/plain": [
       "                                        manifest_url  canvas_number  \\\n",
       "0  https://iiif.unige.ch/dhportal/ug8096214/manifest            0.0   \n",
       "1  https://iiif.unige.ch/dhportal/ug8079451/manifest            0.0   \n",
       "2  https://iiif.unige.ch/dhportal/ug8043206/manifest            0.0   \n",
       "3   https://iiif.unige.ch/dhportal/ug410612/manifest            0.0   \n",
       "4  https://iiif.archivelab.org/iiif/MovieStarsPar...            NaN   \n",
       "\n",
       "                                           image_url           City  \\\n",
       "0  https://iiif.unige.ch/iiif/2/fedora_ug8064419/...          Tokyo   \n",
       "1  https://iiif.unige.ch/iiif/2/fedora_ug8102867/...           Kyiv   \n",
       "2  https://iiif.unige.ch/iiif/2/fedora_ug8068266/...         Moscow   \n",
       "3  https://iiif.unige.ch/iiif/2/visualcontagions/...        Hamburg   \n",
       "4  https://iiif.archivelab.org/iiif/MovieStarsPar...  New York City   \n",
       "\n",
       "                    Country  notice  city_number   latitude   longitude  \\\n",
       "0                     Japan     NaN         5866  35.689722  139.692222   \n",
       "1                   Ukraine     NaN          404  50.450000   30.523611   \n",
       "2                    Russia     NaN         1359  55.755833   37.617778   \n",
       "3                   Germany     NaN         6840  53.550000   10.000000   \n",
       "4  United States of America     NaN       405445  40.700000  -74.000000   \n",
       "\n",
       "   normalized_counts  \n",
       "0           8.676928  \n",
       "1           6.001415  \n",
       "2           7.214504  \n",
       "3           8.830543  \n",
       "4          12.912741  "
      ]
     },
     "execution_count": 34,
     "metadata": {},
     "output_type": "execute_result"
    }
   ],
   "source": [
    "df_no_duplicates.head()"
   ]
  },
  {
   "cell_type": "markdown",
   "id": "ce1dcde8-9ede-4a94-bfe5-51a5651c0223",
   "metadata": {},
   "source": [
    "### Create and save the map"
   ]
  },
  {
   "cell_type": "code",
   "execution_count": 35,
   "id": "2ca1adbe-c71c-4d30-843c-c6c24385d154",
   "metadata": {},
   "outputs": [],
   "source": [
    "scatter_layer = pdk.Layer(\n",
    "    'ScatterplotLayer',\n",
    "    df_no_duplicates,\n",
    "    opacity=0.6,\n",
    "    get_position='[longitude, latitude]',\n",
    "    get_radius='normalized_counts * 5000',\n",
    "    get_fill_color=[255, 0, 0],  # Red \n",
    "    pickable=True,\n",
    "    stroked=True,\n",
    "    get_line_color=[255,255,255]\n",
    ")"
   ]
  },
  {
   "cell_type": "code",
   "execution_count": 36,
   "id": "d01ed0d3-b8b0-4925-8740-7ed5036584bb",
   "metadata": {
    "tags": []
   },
   "outputs": [],
   "source": [
    "view_state = pdk.ViewState(\n",
    "    latitude=df_no_duplicates['latitude'].mean(),\n",
    "    longitude=df_no_duplicates['longitude'].mean(),\n",
    "    zoom=3,\n",
    ")"
   ]
  },
  {
   "cell_type": "markdown",
   "id": "431c9291-8440-4fe8-84c3-e381a97d4d0b",
   "metadata": {},
   "source": [
    "#### here you can modify the content of the the tooltip for the html map"
   ]
  },
  {
   "cell_type": "code",
   "execution_count": 37,
   "id": "62cc6ff9-e516-40a9-82a7-e555c576369c",
   "metadata": {},
   "outputs": [],
   "source": [
    "tooltip = {\n",
    "    \"html\": \"<b>{city_number}</b> of images published in <b>{City}</b>\",\n",
    "    \"style\": {\"background\": \"grey\", \"color\": \"white\", \"font-family\": '\"Helvetica Neue\", Arial', \"z-index\": \"10000\"},\n",
    "}"
   ]
  },
  {
   "cell_type": "code",
   "execution_count": 38,
   "id": "751ed6d8-cc08-42b2-842c-0ff656cd1ea8",
   "metadata": {},
   "outputs": [],
   "source": [
    "deck = pdk.Deck(\n",
    "    layers=[scatter_layer],\n",
    "    initial_view_state=view_state,\n",
    "    tooltip=tooltip,\n",
    "    map_provider=\"carto\",\n",
    "    map_style=\"light\" #possible here to go for light’, ‘dark’, ‘road’, ‘satellite’, \n",
    "    #‘dark_no_labels’, and ‘light_no_labels’. Also possible to use mapbox. To change together with the \n",
    "    #parameters on scatter_layer (e.g. opacity!)\n",
    ")"
   ]
  },
  {
   "cell_type": "code",
   "execution_count": 41,
   "id": "ce5ad851-702e-48c3-ba16-11a3ccb48977",
   "metadata": {},
   "outputs": [],
   "source": [
    "deck.to_html(filename='map.html', offline=True, open_browser=False, notebook_display=False)"
   ]
  },
  {
   "cell_type": "markdown",
   "id": "d7309fa5-7fab-42f4-847e-fd41a491daf4",
   "metadata": {},
   "source": [
    "### Save the dataframe used for the map"
   ]
  },
  {
   "cell_type": "code",
   "execution_count": 40,
   "id": "2d17d0d7-2f4f-4c74-8544-ebf4f4cf6a80",
   "metadata": {},
   "outputs": [],
   "source": [
    "df.to_csv('df.csv', index=False)"
   ]
  }
 ],
 "metadata": {
  "kernelspec": {
   "display_name": "Python 3 (ipykernel)",
   "language": "python",
   "name": "python3"
  },
  "language_info": {
   "codemirror_mode": {
    "name": "ipython",
    "version": 3
   },
   "file_extension": ".py",
   "mimetype": "text/x-python",
   "name": "python",
   "nbconvert_exporter": "python",
   "pygments_lexer": "ipython3",
   "version": "3.10.8"
  }
 },
 "nbformat": 4,
 "nbformat_minor": 5
}
