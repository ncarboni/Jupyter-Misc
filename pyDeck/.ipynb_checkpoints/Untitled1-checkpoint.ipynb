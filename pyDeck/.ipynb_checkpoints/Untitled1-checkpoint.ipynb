{
 "cells": [
  {
   "cell_type": "code",
   "execution_count": null,
   "id": "8dc7fa13-608d-4a7f-b701-ae92bbbff664",
   "metadata": {},
   "outputs": [],
   "source": [
    "import pandas as pd\n",
    "import pydeck as pdk"
   ]
  },
  {
   "cell_type": "code",
   "execution_count": null,
   "id": "1116a633-d488-45b3-aec0-ccdf09d411d8",
   "metadata": {},
   "outputs": [],
   "source": [
    "df = pd.read_csv('/Users/carboni/Downloads/hexagon.csv')"
   ]
  },
  {
   "cell_type": "code",
   "execution_count": null,
   "id": "828be63a-55d2-4398-8a9a-4fcc55f5f0ca",
   "metadata": {},
   "outputs": [],
   "source": [
    "layer = scatterplot = pdk.Layer(\n",
    "    \"ScatterplotLayer\",\n",
    "    df,\n",
    "    radius_scale=20,\n",
    "    get_position='[lng, lat]',\n",
    "    get_fill_color=[255, 140, 0],\n",
    "    get_radius=60,\n",
    "    pickable=True,\n",
    ")"
   ]
  },
  {
   "cell_type": "code",
   "execution_count": null,
   "id": "dcd5303f-be35-4be9-a89a-57d534adc3f6",
   "metadata": {},
   "outputs": [],
   "source": [
    "layer = pdk.Layer(\n",
    "    'HexagonLayer',\n",
    "    UK_ACCIDENTS_DATA,\n",
    "    get_position='[lng, lat]',\n",
    "    auto_highlight=True,\n",
    "    elevation_scale=50,\n",
    "    pickable=True,\n",
    "    elevation_range=[0, 3000],\n",
    "    extruded=True,                 \n",
    "    coverage=1)\n",
    "\n",
    "# Set the viewport location\n",
    "view_state = pdk.ViewState(\n",
    "    longitude=-1.415,\n",
    "    latitude=52.2323,\n",
    "    zoom=6,\n",
    "    min_zoom=5,\n",
    "    max_zoom=15,\n",
    "    pitch=40.5,\n",
    "    bearing=-27.36)\n"
   ]
  },
  {
   "cell_type": "code",
   "execution_count": null,
   "id": "c3adf8b0-6244-4ea0-933f-d32240239db9",
   "metadata": {},
   "outputs": [],
   "source": [
    "r = pdk.Deck(layers=[layer])\n",
    "r.to_html(\"hexagon_layer.html\")"
   ]
  },
  {
   "cell_type": "code",
   "execution_count": null,
   "id": "c89d2836-1454-4188-b73d-7a6b42b06fba",
   "metadata": {},
   "outputs": [],
   "source": [
    "TOOLTIP_TEXT = {\"html\": \"{S000} jobs <br /> Home of commuter in red; work location in green\"}\n",
    "r = pdk.Deck(arc_layer, initial_view_state=view_state, tooltip=TOOLTIP_TEXT)\n",
    "r.to_html(\"arc_layer.html\")"
   ]
  }
 ],
 "metadata": {
  "kernelspec": {
   "display_name": "Python 3 (ipykernel)",
   "language": "python",
   "name": "python3"
  },
  "language_info": {
   "codemirror_mode": {
    "name": "ipython",
    "version": 3
   },
   "file_extension": ".py",
   "mimetype": "text/x-python",
   "name": "python",
   "nbconvert_exporter": "python",
   "pygments_lexer": "ipython3",
   "version": "3.10.8"
  }
 },
 "nbformat": 4,
 "nbformat_minor": 5
}
